{
 "cells": [
  {
   "cell_type": "markdown",
   "metadata": {
    "toc": true
   },
   "source": [
    "<h1>Table of Contents<span class=\"tocSkip\"></span></h1>\n",
    "<div class=\"toc\"><ul class=\"toc-item\"><li><span><a href=\"#Standard\" data-toc-modified-id=\"Standard-1\"><span class=\"toc-item-num\">1&nbsp;&nbsp;</span>Standard</a></span></li><li><span><a href=\"#Date\" data-toc-modified-id=\"Date-2\"><span class=\"toc-item-num\">2&nbsp;&nbsp;</span>Date</a></span></li><li><span><a href=\"#Functions\" data-toc-modified-id=\"Functions-3\"><span class=\"toc-item-num\">3&nbsp;&nbsp;</span>Functions</a></span><ul class=\"toc-item\"><li><span><a href=\"#Phase-space\" data-toc-modified-id=\"Phase-space-3.1\"><span class=\"toc-item-num\">3.1&nbsp;&nbsp;</span>Phase space</a></span></li><li><span><a href=\"#World-plot\" data-toc-modified-id=\"World-plot-3.2\"><span class=\"toc-item-num\">3.2&nbsp;&nbsp;</span>World plot</a></span></li><li><span><a href=\"#US-plot\" data-toc-modified-id=\"US-plot-3.3\"><span class=\"toc-item-num\">3.3&nbsp;&nbsp;</span>US plot</a></span></li></ul></li><li><span><a href=\"#Data\" data-toc-modified-id=\"Data-4\"><span class=\"toc-item-num\">4&nbsp;&nbsp;</span>Data</a></span><ul class=\"toc-item\"><li><span><a href=\"#World\" data-toc-modified-id=\"World-4.1\"><span class=\"toc-item-num\">4.1&nbsp;&nbsp;</span>World</a></span><ul class=\"toc-item\"><li><span><a href=\"#Reading-data\" data-toc-modified-id=\"Reading-data-4.1.1\"><span class=\"toc-item-num\">4.1.1&nbsp;&nbsp;</span>Reading data</a></span></li><li><span><a href=\"#Widgets\" data-toc-modified-id=\"Widgets-4.1.2\"><span class=\"toc-item-num\">4.1.2&nbsp;&nbsp;</span>Widgets</a></span></li><li><span><a href=\"#Plot\" data-toc-modified-id=\"Plot-4.1.3\"><span class=\"toc-item-num\">4.1.3&nbsp;&nbsp;</span>Plot</a></span></li></ul></li><li><span><a href=\"#US\" data-toc-modified-id=\"US-4.2\"><span class=\"toc-item-num\">4.2&nbsp;&nbsp;</span>US</a></span><ul class=\"toc-item\"><li><span><a href=\"#Reading-data\" data-toc-modified-id=\"Reading-data-4.2.1\"><span class=\"toc-item-num\">4.2.1&nbsp;&nbsp;</span>Reading data</a></span></li><li><span><a href=\"#Widgets\" data-toc-modified-id=\"Widgets-4.2.2\"><span class=\"toc-item-num\">4.2.2&nbsp;&nbsp;</span>Widgets</a></span></li><li><span><a href=\"#Plot\" data-toc-modified-id=\"Plot-4.2.3\"><span class=\"toc-item-num\">4.2.3&nbsp;&nbsp;</span>Plot</a></span></li></ul></li></ul></li><li><span><a href=\"#Model-SIR\" data-toc-modified-id=\"Model-SIR-5\"><span class=\"toc-item-num\">5&nbsp;&nbsp;</span>Model SIR</a></span></li></ul></div>"
   ]
  },
  {
   "cell_type": "code",
   "execution_count": 1,
   "metadata": {
    "ExecuteTime": {
     "end_time": "2020-05-05T21:25:40.463215Z",
     "start_time": "2020-05-05T21:25:40.250402Z"
    }
   },
   "outputs": [],
   "source": [
    "%matplotlib inline\n",
    "user = 'UF'"
   ]
  },
  {
   "cell_type": "markdown",
   "metadata": {},
   "source": [
    "# Standard "
   ]
  },
  {
   "cell_type": "code",
   "execution_count": 2,
   "metadata": {
    "ExecuteTime": {
     "end_time": "2020-05-05T21:25:41.557243Z",
     "start_time": "2020-05-05T21:25:40.465265Z"
    }
   },
   "outputs": [
    {
     "name": "stdout",
     "output_type": "stream",
     "text": [
      "200505\n"
     ]
    },
    {
     "data": {
      "text/html": [
       "<style>.container { width:70% !important; }</style>"
      ],
      "text/plain": [
       "<IPython.core.display.HTML object>"
      ]
     },
     "execution_count": 2,
     "metadata": {},
     "output_type": "execute_result"
    }
   ],
   "source": [
    "import datetime as dt\n",
    "import pandas as pd\n",
    "import sys\n",
    "import csv\n",
    "import geopandas as gpd\n",
    "import glob\n",
    "import ipywidgets #as widgets\n",
    "import itertools\n",
    "import math\n",
    "import numpy as np\n",
    "import matplotlib.pyplot as plt\n",
    "import seaborn as sns\n",
    "import socket\n",
    "\n",
    "from matplotlib import *\n",
    "from matplotlib.dates import YearLocator, MonthLocator, DateFormatter\n",
    "from matplotlib.dates import *\n",
    "from numpy.random import randn\n",
    "import statsmodels.api as sm\n",
    "\n",
    "from ipywidgets import interact, interactive, fixed, interact_manual, Layout\n",
    "import ipywidgets as widgets\n",
    "\n",
    "import plotly.express as px\n",
    "import plotly.graph_objects as go\n",
    "from plotly.offline import download_plotlyjs, init_notebook_mode, plot, iplot\n",
    "#init_notebook_mode(connected=True)\n",
    "\n",
    "\n",
    "sns.set()\n",
    "\n",
    "import warnings\n",
    "warnings.filterwarnings('ignore')\n",
    "\n",
    "today = dt.datetime.today().strftime(\"%y%m%d\")\n",
    "print(today)\n",
    "\n",
    "from IPython.core.display import HTML\n",
    "HTML(\"<style>.container { width:70% !important; }</style>\")"
   ]
  },
  {
   "cell_type": "code",
   "execution_count": 3,
   "metadata": {
    "ExecuteTime": {
     "end_time": "2020-05-05T21:25:41.571807Z",
     "start_time": "2020-05-05T21:25:41.559095Z"
    }
   },
   "outputs": [
    {
     "name": "stdout",
     "output_type": "stream",
     "text": [
      "UF\n",
      "urbanos-macbook-pro.local\n",
      "Running on the laptop\n",
      "/Users/ufranca/Documents/Data/ /Users/ufranca/Documents/Data/new_datasets/\n",
      "Running on the laptop\n",
      "Running on the laptop\n",
      "\n",
      " /Volumes/Bell/Data/ \n",
      " /Volumes/Bell/Data/ \n",
      " /Users/ufranca/Documents/Dropbox/projects_coding/data_tools/\n"
     ]
    }
   ],
   "source": [
    "if user == 'UF':\n",
    "    print(user)\n",
    "    print(socket.gethostname().lower())\n",
    "\n",
    "    #laptop\n",
    "    if socket.gethostname().lower().startswith('osxlap01664'):#.tch.harvard.edu':\n",
    "        print('Running on the laptop')\n",
    "        address = \"/Users/ufranca/Documents/Data/\"\n",
    "        addressdata = \"/Users/ufranca/Documents/Data/new_datasets/\"\n",
    "        data_tools = \"/Users/ufranca/Documents/Dropbox/projects_coding/data_tools/\"\n",
    "        sys.path.insert(0, '/Users/ufranca/Documents/Dropbox/projects_coding/functions')\n",
    "\n",
    "    elif socket.gethostname().lower().startswith('urbano'):#.tch.harvard.edu':\n",
    "        print('Running on the laptop')\n",
    "    #     address = \"/Users/urbanofranca/Documents/Datasets/\"\n",
    "    #     addressdata = \"/Users/urbanofranca/Documents/Datasets/\"\n",
    "        address = \"/Users/ufranca/Documents/Data/\"\n",
    "        addressdata = \"/Users/ufranca/Documents/Data/new_datasets/\"\n",
    "        data_tools = \"/Users/ufranca/Documents/Dropbox/projects_coding/data_tools/\"\n",
    "        sys.path.insert(0, '/Users/ufranca/Documents/Dropbox/projects_coding/functions')\n",
    "\n",
    "    elif socket.gethostname().lower().startswith('vpn'):#.tch.harvard.edu':\n",
    "        print('Running on the laptop')\n",
    "    #     address = \"/Users/urbanofranca/Documents/Datasets/\"\n",
    "    #     addressdata = \"/Users/urbanofranca/Documents/Datasets/\"\n",
    "        address = \"/Users/ufranca/Documents/Data/\"\n",
    "        addressdata = \"/Users/ufranca/Documents/Data/new_datasets/\"\n",
    "        data_tools = \"/Users/ufranca/Documents/Dropbox/projects_coding/data_tools/\"\n",
    "        sys.path.insert(0, '/Users/ufranca/Documents/Dropbox/projects_coding/functions')\n",
    "\n",
    "        \n",
    "    else:\n",
    "        print('No known computer')\n",
    "\n",
    "    print(address, addressdata)\n",
    "    \n",
    "    \n",
    "    ######################################################\n",
    "    ## it needs to be here to find the right dropbox -> fix this later?\n",
    "    \n",
    "    import functionsuf as fuf\n",
    "    import hospitals as hosp\n",
    "    \n",
    "    external_disk = 'T'\n",
    "\n",
    "    if (external_disk == 'T'):\n",
    "        address = \"/Volumes/Bell/Data/\"\n",
    "        addressdata = \"/Volumes/Bell/Data/\"\n",
    "    else:\n",
    "        address = address\n",
    "        addressdata = addressdata \n",
    "\n",
    "    print('\\n '+ address, '\\n', addressdata, '\\n', data_tools)\n",
    "\n",
    "elif user =='MM':\n",
    "    ## Here I define \n",
    "    #'addressdata', which is the folder where the data is located\n",
    "    # 'data_tools', which is where the data_tools are located\n",
    "    # 'address' is not used anywhere and mostly deprecated\n",
    "    print(user)\n",
    "    \n",
    "    \n",
    "else:\n",
    "    print(\"Define the paths for `address`, `addressdata`, and `data_tools`\")"
   ]
  },
  {
   "cell_type": "markdown",
   "metadata": {},
   "source": [
    "# Date\n",
    "Date of data downloaded from JHU"
   ]
  },
  {
   "cell_type": "code",
   "execution_count": 23,
   "metadata": {
    "ExecuteTime": {
     "end_time": "2020-05-05T21:25:54.747127Z",
     "start_time": "2020-05-05T21:25:54.744518Z"
    }
   },
   "outputs": [],
   "source": [
    "date2 = '0505'"
   ]
  },
  {
   "cell_type": "markdown",
   "metadata": {},
   "source": [
    "# Functions"
   ]
  },
  {
   "cell_type": "markdown",
   "metadata": {},
   "source": [
    "## Phase space"
   ]
  },
  {
   "cell_type": "code",
   "execution_count": 102,
   "metadata": {
    "ExecuteTime": {
     "end_time": "2020-05-05T21:57:12.745261Z",
     "start_time": "2020-05-05T21:57:12.734360Z"
    }
   },
   "outputs": [],
   "source": [
    "def create_phase_space(df, col=\"Country/Region\", ncases=10, time_window=1):\n",
    "    # melt the dates in the dataset\n",
    "    df_melted = df.melt(id_vars=[col], \n",
    "                        var_name=\"Date\", \n",
    "                        value_name=\"Confirmed\")\n",
    "\n",
    "    # changing column types\n",
    "    df_melted['Confirmed'] = df_melted['Confirmed'].astype(float)\n",
    "    df_melted['DateDT'] = pd.to_datetime(df_melted['Date'])\n",
    "    \n",
    "    \n",
    "    # sorting by col & date\n",
    "    df_melted = df_melted.sort_values([col, 'DateDT'])\n",
    "    \n",
    "    # adding dates \n",
    "    df_melted['Days'] = df_melted.index\n",
    "    \n",
    "    #Daily growth\n",
    "    df_melted['DailyGrowth'] = df_melted['Confirmed'].diff()\n",
    "    #df_melted['DotDailyGrowth'] = df_melted['DailyGrowth'].diff()\n",
    "    \n",
    "    max_daily_growth= df_melted.groupby(col)['DailyGrowth'].nlargest(3).reset_index()\n",
    "    max_daily_growth= max_daily_growth.groupby([col])['DailyGrowth'].median().reset_index()\n",
    "    #print(max_daily_growth)\n",
    "    \n",
    "    max_daily_growth.columns=[col, 'MaxDailyGrowth']\n",
    "\n",
    "    df_melted = df_melted.merge(max_daily_growth, on=col, how='outer')\n",
    "    \n",
    "    \n",
    "    \n",
    "    # y-axis\n",
    "    df_melted['DailyGrowth_'+str(time_window)+'d'] = round(100*df_melted['DailyGrowth'].rolling(time_window).sum()/ df_melted['Confirmed'], 1)\n",
    "\n",
    "    # x-axis\n",
    "    df_melted['MeanGrowth_'+str(time_window)+'d'] = round(100*df_melted['DailyGrowth'].rolling(time_window).mean()/df_melted['MaxDailyGrowth'], 1)\n",
    "\n",
    "    \n",
    "#     df_melted['MeanGrowth_'+str(time_window)+'d'] = round(100*df_melted['DailyGrowth'].rolling(time_window).mean()/df_melted['MaxDailyGrowth'], 1)\n",
    "#     df_melted['DailyGrowth_'+str(time_window)+'d'] = df_melted['MeanGrowth_'+str(time_window)+'d']    \n",
    "#     df_melted['MeanGrowth_'+str(time_window)+'d'] = df_melted['MeanGrowth_'+str(time_window)+'d'].diff().rolling(time_window).sum()\n",
    "    \n",
    "    # just cleaning values when transitioning from one country to another\n",
    "    df_melted['DailyGrowth_'+str(time_window)+'d'] = np.where(df_melted['DailyGrowth_'+str(time_window)+'d'] >= 0, \n",
    "                                                              df_melted['DailyGrowth_'+str(time_window)+'d'], \n",
    "                                                              0)\n",
    "    df_melted['MeanGrowth_'+str(time_window)+'d'] = np.where(df_melted['MeanGrowth_'+str(time_window)+'d'] >= 0, \n",
    "                                                             df_melted['MeanGrowth_'+str(time_window)+'d'], \n",
    "                                                             0)\n",
    "    \n",
    "    # selecting minimum number of cases\n",
    "    df_melted = df_melted[df_melted['Confirmed'] >= ncases]\n",
    "    \n",
    "    \n",
    "    return df_melted\n",
    "    "
   ]
  },
  {
   "cell_type": "code",
   "execution_count": 103,
   "metadata": {
    "ExecuteTime": {
     "end_time": "2020-05-05T21:57:13.702798Z",
     "start_time": "2020-05-05T21:57:13.691813Z"
    }
   },
   "outputs": [],
   "source": [
    "def create_phase_space_2(df, col=\"Country/Region\", ncases=10, time_window=1):\n",
    "    # melt the dates in the dataset\n",
    "    df_melted = df.melt(id_vars=[col], \n",
    "                        var_name=\"Date\", \n",
    "                        value_name=\"Confirmed\")\n",
    "\n",
    "    # changing column types\n",
    "    df_melted['Confirmed'] = df_melted['Confirmed'].astype(float)\n",
    "    df_melted['DateDT'] = pd.to_datetime(df_melted['Date'])\n",
    "    \n",
    "    \n",
    "    # sorting by col & date\n",
    "    df_melted = df_melted.sort_values([col, 'DateDT'])\n",
    "    \n",
    "    # adding dates \n",
    "    df_melted['Days'] = df_melted.index\n",
    "    \n",
    "    #Daily growth\n",
    "    df_melted['DailyGrowth'] = df_melted['Confirmed'].diff()\n",
    "    #df_melted['DotDailyGrowth'] = df_melted['DailyGrowth'].diff()\n",
    "    \n",
    "    max_daily_growth= df_melted.groupby(col)['DailyGrowth'].nlargest(3).reset_index()\n",
    "    max_daily_growth= max_daily_growth.groupby([col])['DailyGrowth'].median().reset_index()\n",
    "    #print(max_daily_growth)\n",
    "    \n",
    "    max_daily_growth.columns=[col, 'MaxDailyGrowth']\n",
    "\n",
    "    df_melted = df_melted.merge(max_daily_growth, on=col, how='outer')\n",
    "    \n",
    "    \n",
    "    \n",
    "    # y-axis\n",
    "    df_melted['DailyGrowth_'+str(time_window)+'d'] = round(100*df_melted['DailyGrowth'].rolling(time_window).sum()/ df_melted['Confirmed'], 1)\n",
    "\n",
    "    # x-axis\n",
    "#    df_melted['MeanGrowth_'+str(time_window)+'d'] = round(100*df_melted['DailyGrowth'].rolling(time_window).mean()/df_melted['MaxDailyGrowth'], 1)\n",
    "\n",
    "    \n",
    "    df_melted['MeanGrowth_'+str(time_window)+'d'] = round(100*df_melted['DailyGrowth'].rolling(time_window).mean()/df_melted['MaxDailyGrowth'], 1)\n",
    "    df_melted['DailyGrowth_'+str(time_window)+'d'] = df_melted['MeanGrowth_'+str(time_window)+'d']    \n",
    "    df_melted['MeanGrowth_'+str(time_window)+'d'] = df_melted['MeanGrowth_'+str(time_window)+'d'].diff().rolling(time_window).sum()\n",
    "    \n",
    "    # just cleaning values when transitioning from one country to another\n",
    "    df_melted['DailyGrowth_'+str(time_window)+'d'] = np.where(df_melted['DailyGrowth_'+str(time_window)+'d'] >= 0, \n",
    "                                                              df_melted['DailyGrowth_'+str(time_window)+'d'], \n",
    "                                                              0)\n",
    "#     df_melted['MeanGrowth_'+str(time_window)+'d'] = np.where(df_melted['MeanGrowth_'+str(time_window)+'d'] >= 0, \n",
    "#                                                              df_melted['MeanGrowth_'+str(time_window)+'d'], \n",
    "#                                                              0)\n",
    "    \n",
    "    # selecting minimum number of cases\n",
    "    df_melted = df_melted[df_melted['Confirmed'] >= ncases]\n",
    "    \n",
    "    \n",
    "    return df_melted"
   ]
  },
  {
   "cell_type": "markdown",
   "metadata": {},
   "source": [
    "## World plot"
   ]
  },
  {
   "cell_type": "code",
   "execution_count": 104,
   "metadata": {
    "ExecuteTime": {
     "end_time": "2020-05-05T21:57:14.103360Z",
     "start_time": "2020-05-05T21:57:14.093926Z"
    }
   },
   "outputs": [],
   "source": [
    "def plot_phase_space_world(df, title='Deaths', time_window=1, n_cases= 50, country=['All Countries']):\n",
    "        \n",
    "    if country == ('All Countries',):\n",
    "        print('All Countries')\n",
    "        \n",
    "        #### ADD SUM FOR COUNTRIES\n",
    "        \n",
    "        \n",
    "    else:\n",
    "        df = df[df['Country/Region'].isin(country)]\n",
    "\n",
    "        \n",
    "    df_2 = create_phase_space(df, col='Country/Region', ncases=n_cases, time_window=time_window)\n",
    "    \n",
    "    \n",
    "    print(df_2.columns)\n",
    "    \n",
    "    #df_2['Size'] = df_2['Confirmed']*2\n",
    "    \n",
    "    fig = px.scatter(df_2, \n",
    "                  x='MeanGrowth_'+str(time_window)+'d', \n",
    "                  y='DailyGrowth_'+str(time_window)+'d', \n",
    "                  size='Confirmed',\n",
    "                  color='Country/Region', \n",
    "                  title=title+\" - World\",\n",
    "                  hover_data={'Country/Region',\n",
    "                              'Confirmed',\n",
    "                              'Date',\n",
    "                              'DailyGrowth'\n",
    "                             }, #What will be shown in the hover box (besides location) \n",
    "                  labels={'MeanGrowth_'+str(time_window)+'d':'Mean growth over '+str(time_window)+'d compared to max growth ',\n",
    "                          'DailyGrowth_'+str(time_window)+'d': '% cases from last '+str(time_window)+'d ',\n",
    "                          'Country/Region':'Country ', \n",
    "                          'Confirmed':title, \n",
    "                          'DailyGrowth': title+' today ' \n",
    "                         })\n",
    "\n",
    "\n",
    "    fig.update_traces(mode='lines+markers')\n",
    "    \n",
    "    fig.update_yaxes(title_text='Percentage of Total occuring in the last '+str(time_window)+' days (%)',\n",
    "                     rangemode=\"tozero\")\n",
    "    \n",
    "    fig.update_xaxes(title_text='Mean Daily Growth over '+str(time_window)+' previous days compared to Max Daily Growth (%)',\n",
    "                     rangemode=\"tozero\")\n",
    "\n",
    "    \n",
    "    ## Uncomment to see on a separate webpage page at the folder \"webpage\"\n",
    "    plot(fig, filename=\"webpage/phase_space_world_\"+title.lower()+\".html\")\n",
    "    \n",
    "\n",
    "    fig.show()\n",
    "    \n",
    "    return df_2"
   ]
  },
  {
   "cell_type": "markdown",
   "metadata": {},
   "source": [
    "## US plot"
   ]
  },
  {
   "cell_type": "code",
   "execution_count": 105,
   "metadata": {
    "ExecuteTime": {
     "end_time": "2020-05-05T21:57:14.452664Z",
     "start_time": "2020-05-05T21:57:14.443741Z"
    }
   },
   "outputs": [],
   "source": [
    "def plot_phase_space_US(df, title='Deaths', time_window=10, n_cases= 50, state=['All States']):\n",
    "        \n",
    "    if state == ('All States',):\n",
    "        print('All states')\n",
    "        \n",
    "        #### ADD SUM FOR STATES\n",
    "\n",
    "        \n",
    "        \n",
    "    else:\n",
    "        df = df[df['Province_State'].isin(state)]\n",
    "\n",
    "        \n",
    "    df_2 = create_phase_space(df, col='Province_State', ncases=n_cases, time_window=time_window)\n",
    "    \n",
    "    \n",
    "    #df_2 = df_2[df_2['MeanGrowth_'+str(time_window)+'d'] > 0]\n",
    "    \n",
    "    \n",
    "    fig = px.scatter(df_2, \n",
    "                  x='MeanGrowth_'+str(time_window)+'d', \n",
    "                  y='DailyGrowth_'+str(time_window)+'d', \n",
    "                  size='Confirmed',\n",
    "                  color='Province_State', \n",
    "                  #animation_frame='Date',\n",
    "                  title=title+\" - US\",\n",
    "                  hover_data={'Province_State',\n",
    "                              'Confirmed', \n",
    "                              'Date',\n",
    "                              'DailyGrowth'\n",
    "                             }, #What will be shown in the hover box (besides location) \n",
    "                  labels={'MeanGrowth_'+str(time_window)+'d':'Mean growth over '+str(time_window)+'d compared to max growth ',\n",
    "                          'DailyGrowth_'+str(time_window)+'d': '% cases from last '+str(time_window)+'d ',\n",
    "                          'Province_State':'State ', \n",
    "                          'Confirmed':title,\n",
    "                          'DailyGrowth': title+' today ' ,\n",
    "                         }\n",
    "                    \n",
    "                    )\n",
    "\n",
    "    fig.update_traces(mode='lines+markers')\n",
    "    \n",
    "    fig.update_yaxes(title_text='Percentage of Total occuring in the last '+str(time_window)+' days (%)',\n",
    "                     rangemode=\"tozero\")\n",
    "    \n",
    "    fig.update_xaxes(title_text='Mean Daily Growth over '+str(time_window)+' previous days compared to Max Daily Growth (%)', \n",
    "                     rangemode=\"tozero\")\n",
    "    \n",
    "    \n",
    "    fig[\"layout\"].pop(\"updatemenus\")# optional, drop animation buttons\n",
    "    \n",
    "    # Uncomment to see on a separate webpage page at the folder \"webpage\"\n",
    "    plot(fig, filename=\"webpage/phase_space_us_\"+title.lower()+\".html\")\n",
    "    \n",
    "    fig.show()\n",
    "    \n",
    "    return df_2"
   ]
  },
  {
   "cell_type": "code",
   "execution_count": null,
   "metadata": {},
   "outputs": [],
   "source": []
  },
  {
   "cell_type": "markdown",
   "metadata": {},
   "source": [
    "# Data"
   ]
  },
  {
   "cell_type": "markdown",
   "metadata": {},
   "source": [
    "## World"
   ]
  },
  {
   "cell_type": "markdown",
   "metadata": {},
   "source": [
    "### Reading data"
   ]
  },
  {
   "cell_type": "code",
   "execution_count": 106,
   "metadata": {
    "ExecuteTime": {
     "end_time": "2020-05-05T21:57:15.989662Z",
     "start_time": "2020-05-05T21:57:15.895865Z"
    }
   },
   "outputs": [],
   "source": [
    "daily_cases_global_all = pd.read_csv(date2+'_COVID-19-master_JHU/csse_covid_19_data/csse_covid_19_time_series/time_series_covid19_confirmed_global.csv', \n",
    "                                 dtype=object)\n",
    "daily_cases_global = daily_cases_global_all.drop(columns =['Province/State', 'Lat', 'Long'])\n",
    "\n",
    "daily_deaths_global_all = pd.read_csv(date2+'_COVID-19-master_JHU/csse_covid_19_data/csse_covid_19_time_series/time_series_covid19_deaths_global.csv', \n",
    "                                 dtype=object)\n",
    "daily_deaths_global = daily_deaths_global_all.drop(columns =['Province/State', 'Lat', 'Long'])\n",
    "\n",
    "\n",
    "daily_cases_global[daily_cases_global.columns[1:]] = daily_cases_global[daily_cases_global.columns[1:]].astype(float)\n",
    "daily_deaths_global[daily_deaths_global.columns[1:]] = daily_deaths_global[daily_deaths_global.columns[1:]].astype(float)\n",
    "\n",
    "daily_cases_global = daily_cases_global.groupby('Country/Region').sum().reset_index()\n",
    "daily_deaths_global = daily_deaths_global.groupby('Country/Region').sum().reset_index()"
   ]
  },
  {
   "cell_type": "code",
   "execution_count": 107,
   "metadata": {
    "ExecuteTime": {
     "end_time": "2020-05-05T21:57:16.125447Z",
     "start_time": "2020-05-05T21:57:16.114498Z"
    }
   },
   "outputs": [
    {
     "data": {
      "application/vnd.jupyter.widget-view+json": {
       "model_id": "4426a65dedf046c894579f231fda96b9",
       "version_major": 2,
       "version_minor": 0
      },
      "text/plain": [
       "FloatSlider(value=5000.0, continuous_update=False, description='Minimum Number:', max=100000.0, readout_format…"
      ]
     },
     "metadata": {},
     "output_type": "display_data"
    }
   ],
   "source": [
    "min_w = widgets.FloatSlider(\n",
    "    value=5000,\n",
    "    min=0,\n",
    "    max=100000,\n",
    "    step=1000,\n",
    "    description='Minimum Number:',\n",
    "    disabled=False,\n",
    "    continuous_update=False,\n",
    "    orientation='horizontal',\n",
    "    readout=True,\n",
    "    readout_format='.0f',\n",
    ")\n",
    "display(min_w)\n"
   ]
  },
  {
   "cell_type": "code",
   "execution_count": 108,
   "metadata": {
    "ExecuteTime": {
     "end_time": "2020-05-05T21:57:16.318089Z",
     "start_time": "2020-05-05T21:57:16.312419Z"
    }
   },
   "outputs": [],
   "source": [
    "# Select minimum number countries\n",
    "df_cts = daily_cases_global[['Country/Region',daily_cases_global.columns[-1]]]\n",
    "df_cts = df_cts[df_cts[daily_cases_global.columns[-1]].astype(float) > min_w.value]\n",
    "\n",
    "list_countries = ['All Countries']\n",
    "list_countries.extend(sorted(list(df_cts['Country/Region'].unique())))"
   ]
  },
  {
   "cell_type": "markdown",
   "metadata": {},
   "source": [
    "### Widgets"
   ]
  },
  {
   "cell_type": "code",
   "execution_count": 149,
   "metadata": {
    "ExecuteTime": {
     "end_time": "2020-05-05T22:13:06.809851Z",
     "start_time": "2020-05-05T22:13:06.770634Z"
    }
   },
   "outputs": [
    {
     "data": {
      "application/vnd.jupyter.widget-view+json": {
       "model_id": "82b34682c984453286be3b3d02b33075",
       "version_major": 2,
       "version_minor": 0
      },
      "text/plain": [
       "SelectMultiple(description='Country:', index=(0, 1, 2, 3, 4, 5, 6, 7, 8, 9, 10, 11, 12, 13, 14, 15, 16, 17, 18…"
      ]
     },
     "metadata": {},
     "output_type": "display_data"
    },
    {
     "data": {
      "application/vnd.jupyter.widget-view+json": {
       "model_id": "95b202941555455d8705d0c0c30ecad1",
       "version_major": 2,
       "version_minor": 0
      },
      "text/plain": [
       "ToggleButtons(description='Option:', options=('Confirmed Cases', 'Deaths'), value='Confirmed Cases')"
      ]
     },
     "metadata": {},
     "output_type": "display_data"
    },
    {
     "data": {
      "application/vnd.jupyter.widget-view+json": {
       "model_id": "ca2debe14fe748f68445e337da21c853",
       "version_major": 2,
       "version_minor": 0
      },
      "text/plain": [
       "FloatSlider(value=50.0, continuous_update=False, description='Minimum Number:', max=1000.0, readout_format='.0…"
      ]
     },
     "metadata": {},
     "output_type": "display_data"
    },
    {
     "data": {
      "application/vnd.jupyter.widget-view+json": {
       "model_id": "7cd344422e454c8d9da3662bd18fe5b0",
       "version_major": 2,
       "version_minor": 0
      },
      "text/plain": [
       "FloatSlider(value=14.0, description='Days Avg:', max=21.0, min=1.0, readout_format='.0f', step=1.0)"
      ]
     },
     "metadata": {},
     "output_type": "display_data"
    }
   ],
   "source": [
    "style = {'description_width': 'initial'}\n",
    "\n",
    "ct_w = widgets.SelectMultiple(\n",
    "    description='Country:',\n",
    "    options=list_countries,\n",
    "    value=list_countries,\n",
    "    layout=Layout(width='20%', height='100px')\n",
    ")\n",
    "display(ct_w)\n",
    "\n",
    "cases_w = widgets.ToggleButtons(\n",
    "    description='Option:',\n",
    "    options=['Confirmed Cases', 'Deaths'],\n",
    ")\n",
    "display(cases_w)\n",
    "\n",
    "min_w = widgets.FloatSlider(\n",
    "    value=50,\n",
    "    min=0,\n",
    "    max=1000,\n",
    "    step=10,\n",
    "    description='Minimum Number:',\n",
    "    disabled=False,\n",
    "    continuous_update=False,\n",
    "    orientation='horizontal',\n",
    "    readout=True,\n",
    "    readout_format='.0f',\n",
    ")\n",
    "display(min_w)\n",
    "\n",
    "tw_w = widgets.FloatSlider(\n",
    "    value=14,\n",
    "    min=1,\n",
    "    max=21,\n",
    "    step=1,\n",
    "    description='Days Avg:',\n",
    "    disabled=False,\n",
    "    #continuous_update=False,\n",
    "    orientation='horizontal',\n",
    "    readout=True,\n",
    "    readout_format='.0f',\n",
    ")\n",
    "display(tw_w)\n",
    "\n"
   ]
  },
  {
   "cell_type": "markdown",
   "metadata": {},
   "source": [
    "### Plot"
   ]
  },
  {
   "cell_type": "code",
   "execution_count": 150,
   "metadata": {
    "ExecuteTime": {
     "end_time": "2020-05-05T22:13:09.355709Z",
     "start_time": "2020-05-05T22:13:08.420354Z"
    }
   },
   "outputs": [
    {
     "name": "stdout",
     "output_type": "stream",
     "text": [
      "Index(['Country/Region', 'Date', 'Confirmed', 'DateDT', 'Days', 'DailyGrowth',\n",
      "       'MaxDailyGrowth', 'DailyGrowth_14d', 'MeanGrowth_14d'],\n",
      "      dtype='object')\n"
     ]
    },
    {
     "data": {
      "application/vnd.plotly.v1+json": {
       "config": {
        "plotlyServerURL": "https://plot.ly"
       },
       "data": [
        {
         "customdata": [
          [
           50,
           27,
           "Belgium",
           "3/5/20"
          ],
          [
           109,
           59,
           "Belgium",
           "3/6/20"
          ],
          [
           169,
           60,
           "Belgium",
           "3/7/20"
          ],
          [
           200,
           31,
           "Belgium",
           "3/8/20"
          ],
          [
           239,
           39,
           "Belgium",
           "3/9/20"
          ],
          [
           267,
           28,
           "Belgium",
           "3/10/20"
          ],
          [
           314,
           47,
           "Belgium",
           "3/11/20"
          ],
          [
           314,
           0,
           "Belgium",
           "3/12/20"
          ],
          [
           559,
           245,
           "Belgium",
           "3/13/20"
          ],
          [
           689,
           130,
           "Belgium",
           "3/14/20"
          ],
          [
           886,
           197,
           "Belgium",
           "3/15/20"
          ],
          [
           1058,
           172,
           "Belgium",
           "3/16/20"
          ],
          [
           1243,
           185,
           "Belgium",
           "3/17/20"
          ],
          [
           1486,
           243,
           "Belgium",
           "3/18/20"
          ],
          [
           1795,
           309,
           "Belgium",
           "3/19/20"
          ],
          [
           2257,
           462,
           "Belgium",
           "3/20/20"
          ],
          [
           2815,
           558,
           "Belgium",
           "3/21/20"
          ],
          [
           3401,
           586,
           "Belgium",
           "3/22/20"
          ],
          [
           3743,
           342,
           "Belgium",
           "3/23/20"
          ],
          [
           4269,
           526,
           "Belgium",
           "3/24/20"
          ],
          [
           4937,
           668,
           "Belgium",
           "3/25/20"
          ],
          [
           6235,
           1298,
           "Belgium",
           "3/26/20"
          ],
          [
           7284,
           1049,
           "Belgium",
           "3/27/20"
          ],
          [
           9134,
           1850,
           "Belgium",
           "3/28/20"
          ],
          [
           10836,
           1702,
           "Belgium",
           "3/29/20"
          ],
          [
           11899,
           1063,
           "Belgium",
           "3/30/20"
          ],
          [
           12775,
           876,
           "Belgium",
           "3/31/20"
          ],
          [
           13964,
           1189,
           "Belgium",
           "4/1/20"
          ],
          [
           15348,
           1384,
           "Belgium",
           "4/2/20"
          ],
          [
           16770,
           1422,
           "Belgium",
           "4/3/20"
          ],
          [
           18431,
           1661,
           "Belgium",
           "4/4/20"
          ],
          [
           19691,
           1260,
           "Belgium",
           "4/5/20"
          ],
          [
           20814,
           1123,
           "Belgium",
           "4/6/20"
          ],
          [
           22194,
           1380,
           "Belgium",
           "4/7/20"
          ],
          [
           23403,
           1209,
           "Belgium",
           "4/8/20"
          ],
          [
           24983,
           1580,
           "Belgium",
           "4/9/20"
          ],
          [
           26667,
           1684,
           "Belgium",
           "4/10/20"
          ],
          [
           28018,
           1351,
           "Belgium",
           "4/11/20"
          ],
          [
           29647,
           1629,
           "Belgium",
           "4/12/20"
          ],
          [
           30589,
           942,
           "Belgium",
           "4/13/20"
          ],
          [
           31119,
           530,
           "Belgium",
           "4/14/20"
          ],
          [
           33573,
           2454,
           "Belgium",
           "4/15/20"
          ],
          [
           34809,
           1236,
           "Belgium",
           "4/16/20"
          ],
          [
           36138,
           1329,
           "Belgium",
           "4/17/20"
          ],
          [
           37183,
           1045,
           "Belgium",
           "4/18/20"
          ],
          [
           38496,
           1313,
           "Belgium",
           "4/19/20"
          ],
          [
           39983,
           1487,
           "Belgium",
           "4/20/20"
          ],
          [
           40956,
           973,
           "Belgium",
           "4/21/20"
          ],
          [
           41889,
           933,
           "Belgium",
           "4/22/20"
          ],
          [
           42797,
           908,
           "Belgium",
           "4/23/20"
          ],
          [
           44293,
           1496,
           "Belgium",
           "4/24/20"
          ],
          [
           45325,
           1032,
           "Belgium",
           "4/25/20"
          ],
          [
           46134,
           809,
           "Belgium",
           "4/26/20"
          ],
          [
           46687,
           553,
           "Belgium",
           "4/27/20"
          ],
          [
           47334,
           647,
           "Belgium",
           "4/28/20"
          ],
          [
           47859,
           525,
           "Belgium",
           "4/29/20"
          ],
          [
           48519,
           660,
           "Belgium",
           "4/30/20"
          ],
          [
           49032,
           513,
           "Belgium",
           "5/1/20"
          ],
          [
           49517,
           485,
           "Belgium",
           "5/2/20"
          ],
          [
           49906,
           389,
           "Belgium",
           "5/3/20"
          ],
          [
           50267,
           361,
           "Belgium",
           "5/4/20"
          ]
         ],
         "hoverlabel": {
          "namelength": 0
         },
         "hovertemplate": "Country =%{customdata[2]}<br>Mean growth over 14d compared to max growth =%{x}<br>% cases from last 14d =%{y}<br>Confirmed Cases=%{customdata[0]}<br>Confirmed Cases today =%{customdata[1]}<br>Date=%{customdata[3]}",
         "legendgroup": "Belgium",
         "marker": {
          "color": "#636efa",
          "size": [
           50,
           109,
           169,
           200,
           239,
           267,
           314,
           314,
           559,
           689,
           886,
           1058,
           1243,
           1486,
           1795,
           2257,
           2815,
           3401,
           3743,
           4269,
           4937,
           6235,
           7284,
           9134,
           10836,
           11899,
           12775,
           13964,
           15348,
           16770,
           18431,
           19691,
           20814,
           22194,
           23403,
           24983,
           26667,
           28018,
           29647,
           30589,
           31119,
           33573,
           34809,
           36138,
           37183,
           38496,
           39983,
           40956,
           41889,
           42797,
           44293,
           45325,
           46134,
           46687,
           47334,
           47859,
           48519,
           49032,
           49517,
           49906,
           50267
          ],
          "sizemode": "area",
          "sizeref": 2950.9375,
          "symbol": "circle"
         },
         "mode": "lines+markers",
         "name": "Belgium",
         "showlegend": true,
         "type": "scattergl",
         "x": [
          0.2,
          0.4,
          0.6,
          0.8,
          0.9,
          1,
          1.2,
          1.2,
          2.2,
          2.7,
          3.4,
          4.1,
          4.7,
          5.6,
          6.7,
          8.3,
          10.2,
          12.4,
          13.5,
          15.5,
          17.8,
          22.9,
          26,
          32.6,
          38.4,
          41.9,
          44.5,
          48.2,
          52.3,
          56,
          60.3,
          62.9,
          65.9,
          69.2,
          71.3,
          72.4,
          74.8,
          72.9,
          72.6,
          72.2,
          70.8,
          75.7,
          75.1,
          74.8,
          72.4,
          72.6,
          74,
          72.4,
          71.4,
          68.8,
          68.1,
          66.8,
          63.7,
          62.2,
          62.6,
          55.2,
          52.9,
          49.8,
          47.6,
          44.1,
          39.7
         ],
         "xaxis": "x",
         "y": [
          98,
          99.1,
          99.4,
          99.5,
          99.6,
          99.6,
          99.7,
          99.7,
          99.8,
          99.9,
          99.8,
          99.2,
          99,
          98.5,
          97.2,
          95.2,
          94,
          94.1,
          93.6,
          93.7,
          93.6,
          95,
          92.3,
          92.5,
          91.8,
          91.1,
          90.3,
          89.4,
          88.3,
          86.5,
          84.7,
          82.7,
          82,
          80.8,
          78.9,
          75,
          72.7,
          67.4,
          63.4,
          61.1,
          58.9,
          58.4,
          55.9,
          53.6,
          50.4,
          48.8,
          47.9,
          45.8,
          44.1,
          41.6,
          39.8,
          38.2,
          35.7,
          34.5,
          34.3,
          29.9,
          28.3,
          26.3,
          24.9,
          22.9,
          20.5
         ],
         "yaxis": "y"
        },
        {
         "customdata": [
          [
           52,
           14,
           "Brazil",
           "3/12/20"
          ],
          [
           151,
           99,
           "Brazil",
           "3/13/20"
          ],
          [
           151,
           0,
           "Brazil",
           "3/14/20"
          ],
          [
           162,
           11,
           "Brazil",
           "3/15/20"
          ],
          [
           200,
           38,
           "Brazil",
           "3/16/20"
          ],
          [
           321,
           121,
           "Brazil",
           "3/17/20"
          ],
          [
           372,
           51,
           "Brazil",
           "3/18/20"
          ],
          [
           621,
           249,
           "Brazil",
           "3/19/20"
          ],
          [
           793,
           172,
           "Brazil",
           "3/20/20"
          ],
          [
           1021,
           228,
           "Brazil",
           "3/21/20"
          ],
          [
           1546,
           525,
           "Brazil",
           "3/22/20"
          ],
          [
           1924,
           378,
           "Brazil",
           "3/23/20"
          ],
          [
           2247,
           323,
           "Brazil",
           "3/24/20"
          ],
          [
           2554,
           307,
           "Brazil",
           "3/25/20"
          ],
          [
           2985,
           431,
           "Brazil",
           "3/26/20"
          ],
          [
           3417,
           432,
           "Brazil",
           "3/27/20"
          ],
          [
           3904,
           487,
           "Brazil",
           "3/28/20"
          ],
          [
           4256,
           352,
           "Brazil",
           "3/29/20"
          ],
          [
           4579,
           323,
           "Brazil",
           "3/30/20"
          ],
          [
           5717,
           1138,
           "Brazil",
           "3/31/20"
          ],
          [
           6836,
           1119,
           "Brazil",
           "4/1/20"
          ],
          [
           8044,
           1208,
           "Brazil",
           "4/2/20"
          ],
          [
           9056,
           1012,
           "Brazil",
           "4/3/20"
          ],
          [
           10360,
           1304,
           "Brazil",
           "4/4/20"
          ],
          [
           11130,
           770,
           "Brazil",
           "4/5/20"
          ],
          [
           12161,
           1031,
           "Brazil",
           "4/6/20"
          ],
          [
           14034,
           1873,
           "Brazil",
           "4/7/20"
          ],
          [
           16170,
           2136,
           "Brazil",
           "4/8/20"
          ],
          [
           18092,
           1922,
           "Brazil",
           "4/9/20"
          ],
          [
           19638,
           1546,
           "Brazil",
           "4/10/20"
          ],
          [
           20727,
           1089,
           "Brazil",
           "4/11/20"
          ],
          [
           22192,
           1465,
           "Brazil",
           "4/12/20"
          ],
          [
           23430,
           1238,
           "Brazil",
           "4/13/20"
          ],
          [
           25262,
           1832,
           "Brazil",
           "4/14/20"
          ],
          [
           28320,
           3058,
           "Brazil",
           "4/15/20"
          ],
          [
           30425,
           2105,
           "Brazil",
           "4/16/20"
          ],
          [
           33682,
           3257,
           "Brazil",
           "4/17/20"
          ],
          [
           36658,
           2976,
           "Brazil",
           "4/18/20"
          ],
          [
           38654,
           1996,
           "Brazil",
           "4/19/20"
          ],
          [
           40743,
           2089,
           "Brazil",
           "4/20/20"
          ],
          [
           43079,
           2336,
           "Brazil",
           "4/21/20"
          ],
          [
           45757,
           2678,
           "Brazil",
           "4/22/20"
          ],
          [
           50036,
           4279,
           "Brazil",
           "4/23/20"
          ],
          [
           54043,
           4007,
           "Brazil",
           "4/24/20"
          ],
          [
           59324,
           5281,
           "Brazil",
           "4/25/20"
          ],
          [
           63100,
           3776,
           "Brazil",
           "4/26/20"
          ],
          [
           67446,
           4346,
           "Brazil",
           "4/27/20"
          ],
          [
           73235,
           5789,
           "Brazil",
           "4/28/20"
          ],
          [
           79685,
           6450,
           "Brazil",
           "4/29/20"
          ],
          [
           87187,
           7502,
           "Brazil",
           "4/30/20"
          ],
          [
           92202,
           5015,
           "Brazil",
           "5/1/20"
          ],
          [
           97100,
           4898,
           "Brazil",
           "5/2/20"
          ],
          [
           101826,
           4726,
           "Brazil",
           "5/3/20"
          ],
          [
           108620,
           6794,
           "Brazil",
           "5/4/20"
          ]
         ],
         "hoverlabel": {
          "namelength": 0
         },
         "hovertemplate": "Country =%{customdata[2]}<br>Mean growth over 14d compared to max growth =%{x}<br>% cases from last 14d =%{y}<br>Confirmed Cases=%{customdata[0]}<br>Confirmed Cases today =%{customdata[1]}<br>Date=%{customdata[3]}",
         "legendgroup": "Brazil",
         "marker": {
          "color": "#EF553B",
          "size": [
           52,
           151,
           151,
           162,
           200,
           321,
           372,
           621,
           793,
           1021,
           1546,
           1924,
           2247,
           2554,
           2985,
           3417,
           3904,
           4256,
           4579,
           5717,
           6836,
           8044,
           9056,
           10360,
           11130,
           12161,
           14034,
           16170,
           18092,
           19638,
           20727,
           22192,
           23430,
           25262,
           28320,
           30425,
           33682,
           36658,
           38654,
           40743,
           43079,
           45757,
           50036,
           54043,
           59324,
           63100,
           67446,
           73235,
           79685,
           87187,
           92202,
           97100,
           101826,
           108620
          ],
          "sizemode": "area",
          "sizeref": 2950.9375,
          "symbol": "circle"
         },
         "mode": "lines+markers",
         "name": "Brazil",
         "showlegend": true,
         "type": "scattergl",
         "x": [
          0.1,
          0.2,
          0.2,
          0.2,
          0.2,
          0.3,
          0.4,
          0.6,
          0.8,
          1.1,
          1.6,
          2,
          2.3,
          2.6,
          3.1,
          3.4,
          3.9,
          4.3,
          4.6,
          5.7,
          6.8,
          7.8,
          8.7,
          9.8,
          10.1,
          10.8,
          12.4,
          14.3,
          15.9,
          17.1,
          17.7,
          18.9,
          19.8,
          20.5,
          22.6,
          23.5,
          25.9,
          27.6,
          28.9,
          30,
          30.5,
          31.1,
          33.6,
          36.2,
          40.6,
          43,
          46.3,
          50.4,
          54,
          59.7,
          61.5,
          63.5,
          66.4,
          71.4
         ],
         "xaxis": "x",
         "y": [
          98.1,
          99.3,
          98.7,
          98.8,
          99,
          99.4,
          98.9,
          99.4,
          98.4,
          98.7,
          98.7,
          98.7,
          98.6,
          98.5,
          98.3,
          95.6,
          96.1,
          96.2,
          95.6,
          94.4,
          94.6,
          92.3,
          91.2,
          90.1,
          86.1,
          84.2,
          84,
          84.2,
          83.5,
          82.6,
          81.2,
          80.8,
          80.5,
          77.4,
          75.9,
          73.6,
          73.1,
          71.7,
          71.2,
          70.2,
          67.4,
          64.7,
          63.8,
          63.7,
          65.1,
          64.8,
          65.3,
          65.5,
          64.5,
          65.1,
          63.5,
          62.2,
          62,
          62.5
         ],
         "yaxis": "y"
        },
        {
         "customdata": [
          [
           54,
           5,
           "Canada",
           "3/7/20"
          ],
          [
           64,
           10,
           "Canada",
           "3/8/20"
          ],
          [
           77,
           13,
           "Canada",
           "3/9/20"
          ],
          [
           79,
           2,
           "Canada",
           "3/10/20"
          ],
          [
           108,
           29,
           "Canada",
           "3/11/20"
          ],
          [
           117,
           9,
           "Canada",
           "3/12/20"
          ],
          [
           193,
           76,
           "Canada",
           "3/13/20"
          ],
          [
           198,
           5,
           "Canada",
           "3/14/20"
          ],
          [
           252,
           54,
           "Canada",
           "3/15/20"
          ],
          [
           415,
           163,
           "Canada",
           "3/16/20"
          ],
          [
           478,
           63,
           "Canada",
           "3/17/20"
          ],
          [
           657,
           179,
           "Canada",
           "3/18/20"
          ],
          [
           800,
           143,
           "Canada",
           "3/19/20"
          ],
          [
           943,
           143,
           "Canada",
           "3/20/20"
          ],
          [
           1277,
           334,
           "Canada",
           "3/21/20"
          ],
          [
           1469,
           192,
           "Canada",
           "3/22/20"
          ],
          [
           2088,
           619,
           "Canada",
           "3/23/20"
          ],
          [
           2790,
           702,
           "Canada",
           "3/24/20"
          ],
          [
           3251,
           461,
           "Canada",
           "3/25/20"
          ],
          [
           4042,
           791,
           "Canada",
           "3/26/20"
          ],
          [
           4682,
           640,
           "Canada",
           "3/27/20"
          ],
          [
           5576,
           894,
           "Canada",
           "3/28/20"
          ],
          [
           6280,
           704,
           "Canada",
           "3/29/20"
          ],
          [
           7398,
           1118,
           "Canada",
           "3/30/20"
          ],
          [
           8527,
           1129,
           "Canada",
           "3/31/20"
          ],
          [
           9560,
           1033,
           "Canada",
           "4/1/20"
          ],
          [
           11284,
           1724,
           "Canada",
           "4/2/20"
          ],
          [
           12437,
           1153,
           "Canada",
           "4/3/20"
          ],
          [
           12978,
           541,
           "Canada",
           "4/4/20"
          ],
          [
           15756,
           2778,
           "Canada",
           "4/5/20"
          ],
          [
           16563,
           807,
           "Canada",
           "4/6/20"
          ],
          [
           17872,
           1309,
           "Canada",
           "4/7/20"
          ],
          [
           19141,
           1269,
           "Canada",
           "4/8/20"
          ],
          [
           20654,
           1513,
           "Canada",
           "4/9/20"
          ],
          [
           22059,
           1405,
           "Canada",
           "4/10/20"
          ],
          [
           23316,
           1257,
           "Canada",
           "4/11/20"
          ],
          [
           24299,
           983,
           "Canada",
           "4/12/20"
          ],
          [
           25680,
           1381,
           "Canada",
           "4/13/20"
          ],
          [
           27035,
           1355,
           "Canada",
           "4/14/20"
          ],
          [
           28209,
           1174,
           "Canada",
           "4/15/20"
          ],
          [
           30809,
           2600,
           "Canada",
           "4/16/20"
          ],
          [
           32814,
           2005,
           "Canada",
           "4/17/20"
          ],
          [
           34356,
           1542,
           "Canada",
           "4/18/20"
          ],
          [
           35633,
           1277,
           "Canada",
           "4/19/20"
          ],
          [
           37658,
           2025,
           "Canada",
           "4/20/20"
          ],
          [
           39402,
           1744,
           "Canada",
           "4/21/20"
          ],
          [
           41663,
           2261,
           "Canada",
           "4/22/20"
          ],
          [
           43299,
           1636,
           "Canada",
           "4/23/20"
          ],
          [
           44919,
           1620,
           "Canada",
           "4/24/20"
          ],
          [
           46371,
           1452,
           "Canada",
           "4/25/20"
          ],
          [
           48033,
           1662,
           "Canada",
           "4/26/20"
          ],
          [
           49616,
           1583,
           "Canada",
           "4/27/20"
          ],
          [
           51150,
           1534,
           "Canada",
           "4/28/20"
          ],
          [
           52865,
           1715,
           "Canada",
           "4/29/20"
          ],
          [
           54457,
           1592,
           "Canada",
           "4/30/20"
          ],
          [
           56343,
           1886,
           "Canada",
           "5/1/20"
          ],
          [
           57926,
           1583,
           "Canada",
           "5/2/20"
          ],
          [
           60504,
           2578,
           "Canada",
           "5/3/20"
          ],
          [
           61957,
           1453,
           "Canada",
           "5/4/20"
          ]
         ],
         "hoverlabel": {
          "namelength": 0
         },
         "hovertemplate": "Country =%{customdata[2]}<br>Mean growth over 14d compared to max growth =%{x}<br>% cases from last 14d =%{y}<br>Confirmed Cases=%{customdata[0]}<br>Confirmed Cases today =%{customdata[1]}<br>Date=%{customdata[3]}",
         "legendgroup": "Canada",
         "marker": {
          "color": "#00cc96",
          "size": [
           54,
           64,
           77,
           79,
           108,
           117,
           193,
           198,
           252,
           415,
           478,
           657,
           800,
           943,
           1277,
           1469,
           2088,
           2790,
           3251,
           4042,
           4682,
           5576,
           6280,
           7398,
           8527,
           9560,
           11284,
           12437,
           12978,
           15756,
           16563,
           17872,
           19141,
           20654,
           22059,
           23316,
           24299,
           25680,
           27035,
           28209,
           30809,
           32814,
           34356,
           35633,
           37658,
           39402,
           41663,
           43299,
           44919,
           46371,
           48033,
           49616,
           51150,
           52865,
           54457,
           56343,
           57926,
           60504,
           61957
          ],
          "sizemode": "area",
          "sizeref": 2950.9375,
          "symbol": "circle"
         },
         "mode": "lines+markers",
         "name": "Canada",
         "showlegend": true,
         "type": "scattergl",
         "x": [
          0.1,
          0.2,
          0.2,
          0.2,
          0.3,
          0.3,
          0.5,
          0.5,
          0.6,
          1.1,
          1.2,
          1.7,
          2.1,
          2.5,
          3.4,
          3.9,
          5.5,
          7.4,
          8.6,
          10.8,
          12.3,
          14.8,
          16.6,
          19.2,
          22.1,
          24.5,
          28.8,
          31.6,
          32.1,
          39.2,
          39.8,
          41.4,
          43.7,
          45.6,
          47.7,
          48.7,
          49.5,
          50.2,
          50.8,
          51.2,
          53.6,
          56,
          58.7,
          54.6,
          58,
          59.1,
          61.9,
          62.2,
          62.8,
          63.3,
          65.2,
          65.8,
          66.2,
          67.7,
          65,
          64.6,
          64.8,
          68.3,
          66.8
         ],
         "xaxis": "x",
         "y": [
          83.3,
          85.9,
          87,
          86.1,
          89.8,
          88.9,
          92.7,
          89.9,
          90.5,
          93.5,
          93.7,
          95,
          95.4,
          94.8,
          95.8,
          95.6,
          96.3,
          97.2,
          96.7,
          97.1,
          95.9,
          96.4,
          96,
          94.4,
          94.4,
          93.1,
          92.9,
          92.4,
          90.2,
          90.7,
          87.4,
          84.4,
          83,
          80.4,
          78.8,
          76.1,
          74.2,
          71.2,
          68.5,
          66.1,
          63.4,
          62.1,
          62.2,
          55.8,
          56,
          54.6,
          54.1,
          52.3,
          50.9,
          49.7,
          49.4,
          48.2,
          47.1,
          46.6,
          43.4,
          41.8,
          40.7,
          41.1,
          39.2
         ],
         "yaxis": "y"
        },
        {
         "customdata": [
          [
           61,
           18,
           "Chile",
           "3/14/20"
          ],
          [
           74,
           13,
           "Chile",
           "3/15/20"
          ],
          [
           155,
           81,
           "Chile",
           "3/16/20"
          ],
          [
           201,
           46,
           "Chile",
           "3/17/20"
          ],
          [
           238,
           37,
           "Chile",
           "3/18/20"
          ],
          [
           238,
           0,
           "Chile",
           "3/19/20"
          ],
          [
           434,
           196,
           "Chile",
           "3/20/20"
          ],
          [
           537,
           103,
           "Chile",
           "3/21/20"
          ],
          [
           632,
           95,
           "Chile",
           "3/22/20"
          ],
          [
           746,
           114,
           "Chile",
           "3/23/20"
          ],
          [
           922,
           176,
           "Chile",
           "3/24/20"
          ],
          [
           1142,
           220,
           "Chile",
           "3/25/20"
          ],
          [
           1306,
           164,
           "Chile",
           "3/26/20"
          ],
          [
           1610,
           304,
           "Chile",
           "3/27/20"
          ],
          [
           1909,
           299,
           "Chile",
           "3/28/20"
          ],
          [
           2139,
           230,
           "Chile",
           "3/29/20"
          ],
          [
           2449,
           310,
           "Chile",
           "3/30/20"
          ],
          [
           2738,
           289,
           "Chile",
           "3/31/20"
          ],
          [
           3031,
           293,
           "Chile",
           "4/1/20"
          ],
          [
           3404,
           373,
           "Chile",
           "4/2/20"
          ],
          [
           3737,
           333,
           "Chile",
           "4/3/20"
          ],
          [
           4161,
           424,
           "Chile",
           "4/4/20"
          ],
          [
           4471,
           310,
           "Chile",
           "4/5/20"
          ],
          [
           4815,
           344,
           "Chile",
           "4/6/20"
          ],
          [
           5116,
           301,
           "Chile",
           "4/7/20"
          ],
          [
           5546,
           430,
           "Chile",
           "4/8/20"
          ],
          [
           5972,
           426,
           "Chile",
           "4/9/20"
          ],
          [
           6501,
           529,
           "Chile",
           "4/10/20"
          ],
          [
           6927,
           426,
           "Chile",
           "4/11/20"
          ],
          [
           7213,
           286,
           "Chile",
           "4/12/20"
          ],
          [
           7525,
           312,
           "Chile",
           "4/13/20"
          ],
          [
           7917,
           392,
           "Chile",
           "4/14/20"
          ],
          [
           8273,
           356,
           "Chile",
           "4/15/20"
          ],
          [
           8807,
           534,
           "Chile",
           "4/16/20"
          ],
          [
           9252,
           445,
           "Chile",
           "4/17/20"
          ],
          [
           9730,
           478,
           "Chile",
           "4/18/20"
          ],
          [
           10088,
           358,
           "Chile",
           "4/19/20"
          ],
          [
           10507,
           419,
           "Chile",
           "4/20/20"
          ],
          [
           10832,
           325,
           "Chile",
           "4/21/20"
          ],
          [
           11296,
           464,
           "Chile",
           "4/22/20"
          ],
          [
           11812,
           516,
           "Chile",
           "4/23/20"
          ],
          [
           12306,
           494,
           "Chile",
           "4/24/20"
          ],
          [
           12858,
           552,
           "Chile",
           "4/25/20"
          ],
          [
           13331,
           473,
           "Chile",
           "4/26/20"
          ],
          [
           13813,
           482,
           "Chile",
           "4/27/20"
          ],
          [
           14365,
           552,
           "Chile",
           "4/28/20"
          ],
          [
           14885,
           520,
           "Chile",
           "4/29/20"
          ],
          [
           16023,
           1138,
           "Chile",
           "4/30/20"
          ],
          [
           17008,
           985,
           "Chile",
           "5/1/20"
          ],
          [
           18435,
           1427,
           "Chile",
           "5/2/20"
          ],
          [
           19663,
           1228,
           "Chile",
           "5/3/20"
          ],
          [
           20643,
           980,
           "Chile",
           "5/4/20"
          ]
         ],
         "hoverlabel": {
          "namelength": 0
         },
         "hovertemplate": "Country =%{customdata[2]}<br>Mean growth over 14d compared to max growth =%{x}<br>% cases from last 14d =%{y}<br>Confirmed Cases=%{customdata[0]}<br>Confirmed Cases today =%{customdata[1]}<br>Date=%{customdata[3]}",
         "legendgroup": "Chile",
         "marker": {
          "color": "#ab63fa",
          "size": [
           61,
           74,
           155,
           201,
           238,
           238,
           434,
           537,
           632,
           746,
           922,
           1142,
           1306,
           1610,
           1909,
           2139,
           2449,
           2738,
           3031,
           3404,
           3737,
           4161,
           4471,
           4815,
           5116,
           5546,
           5972,
           6501,
           6927,
           7213,
           7525,
           7917,
           8273,
           8807,
           9252,
           9730,
           10088,
           10507,
           10832,
           11296,
           11812,
           12306,
           12858,
           13331,
           13813,
           14365,
           14885,
           16023,
           17008,
           18435,
           19663,
           20643
          ],
          "sizemode": "area",
          "sizeref": 2950.9375,
          "symbol": "circle"
         },
         "mode": "lines+markers",
         "name": "Chile",
         "showlegend": true,
         "type": "scattergl",
         "x": [
          0.4,
          0.4,
          0.9,
          1.2,
          1.4,
          1.4,
          2.5,
          3.1,
          3.6,
          4.3,
          5.3,
          6.5,
          7.5,
          9.1,
          10.7,
          12,
          13.3,
          14.8,
          16.2,
          18.4,
          19.2,
          21.1,
          22.3,
          23.7,
          24.4,
          25.6,
          27.1,
          28.4,
          29.2,
          29.5,
          29.5,
          30.1,
          30.5,
          31.4,
          32.1,
          32.4,
          32.7,
          33.1,
          33.2,
          33.4,
          34,
          33.8,
          34.5,
          35.6,
          36.6,
          37.5,
          38.5,
          42,
          45.1,
          50.6,
          55.7,
          59
         ],
         "xaxis": "x",
         "y": [
          100,
          100,
          100,
          99.5,
          99.6,
          98.3,
          99.1,
          99.3,
          98.7,
          98.9,
          98.6,
          98,
          98.2,
          97.3,
          96.8,
          96.5,
          93.7,
          92.7,
          92.1,
          93,
          88.4,
          87.1,
          85.9,
          84.5,
          82,
          79.4,
          78.1,
          75.2,
          72.4,
          70.3,
          67.5,
          65.4,
          63.4,
          61.3,
          59.6,
          57.2,
          55.7,
          54.2,
          52.8,
          50.9,
          49.4,
          47.2,
          46.1,
          45.9,
          45.5,
          44.9,
          44.4,
          45,
          45.6,
          47.2,
          48.7,
          49.1
         ],
         "yaxis": "y"
        },
        {
         "customdata": [
          [
           548,
           -20095,
           "China",
           "1/22/20"
          ],
          [
           643,
           95,
           "China",
           "1/23/20"
          ],
          [
           920,
           277,
           "China",
           "1/24/20"
          ],
          [
           1406,
           486,
           "China",
           "1/25/20"
          ],
          [
           2075,
           669,
           "China",
           "1/26/20"
          ],
          [
           2877,
           802,
           "China",
           "1/27/20"
          ],
          [
           5509,
           2632,
           "China",
           "1/28/20"
          ],
          [
           6087,
           578,
           "China",
           "1/29/20"
          ],
          [
           8141,
           2054,
           "China",
           "1/30/20"
          ],
          [
           9802,
           1661,
           "China",
           "1/31/20"
          ],
          [
           11891,
           2089,
           "China",
           "2/1/20"
          ],
          [
           16630,
           4739,
           "China",
           "2/2/20"
          ],
          [
           19716,
           3086,
           "China",
           "2/3/20"
          ],
          [
           23707,
           3991,
           "China",
           "2/4/20"
          ],
          [
           27440,
           3733,
           "China",
           "2/5/20"
          ],
          [
           30587,
           3147,
           "China",
           "2/6/20"
          ],
          [
           34110,
           3523,
           "China",
           "2/7/20"
          ],
          [
           36814,
           2704,
           "China",
           "2/8/20"
          ],
          [
           39829,
           3015,
           "China",
           "2/9/20"
          ],
          [
           42354,
           2525,
           "China",
           "2/10/20"
          ],
          [
           44386,
           2032,
           "China",
           "2/11/20"
          ],
          [
           44759,
           373,
           "China",
           "2/12/20"
          ],
          [
           59895,
           15136,
           "China",
           "2/13/20"
          ],
          [
           66358,
           6463,
           "China",
           "2/14/20"
          ],
          [
           68413,
           2055,
           "China",
           "2/15/20"
          ],
          [
           70513,
           2100,
           "China",
           "2/16/20"
          ],
          [
           72434,
           1921,
           "China",
           "2/17/20"
          ],
          [
           74211,
           1777,
           "China",
           "2/18/20"
          ],
          [
           74619,
           408,
           "China",
           "2/19/20"
          ],
          [
           75077,
           458,
           "China",
           "2/20/20"
          ],
          [
           75550,
           473,
           "China",
           "2/21/20"
          ],
          [
           77001,
           1451,
           "China",
           "2/22/20"
          ],
          [
           77022,
           21,
           "China",
           "2/23/20"
          ],
          [
           77241,
           219,
           "China",
           "2/24/20"
          ],
          [
           77754,
           513,
           "China",
           "2/25/20"
          ],
          [
           78166,
           412,
           "China",
           "2/26/20"
          ],
          [
           78600,
           434,
           "China",
           "2/27/20"
          ],
          [
           78928,
           328,
           "China",
           "2/28/20"
          ],
          [
           79356,
           428,
           "China",
           "2/29/20"
          ],
          [
           79932,
           576,
           "China",
           "3/1/20"
          ],
          [
           80136,
           204,
           "China",
           "3/2/20"
          ],
          [
           80261,
           125,
           "China",
           "3/3/20"
          ],
          [
           80386,
           125,
           "China",
           "3/4/20"
          ],
          [
           80537,
           151,
           "China",
           "3/5/20"
          ],
          [
           80690,
           153,
           "China",
           "3/6/20"
          ],
          [
           80770,
           80,
           "China",
           "3/7/20"
          ],
          [
           80823,
           53,
           "China",
           "3/8/20"
          ],
          [
           80860,
           37,
           "China",
           "3/9/20"
          ],
          [
           80887,
           27,
           "China",
           "3/10/20"
          ],
          [
           80921,
           34,
           "China",
           "3/11/20"
          ],
          [
           80932,
           11,
           "China",
           "3/12/20"
          ],
          [
           80945,
           13,
           "China",
           "3/13/20"
          ],
          [
           80977,
           32,
           "China",
           "3/14/20"
          ],
          [
           81003,
           26,
           "China",
           "3/15/20"
          ],
          [
           81033,
           30,
           "China",
           "3/16/20"
          ],
          [
           81058,
           25,
           "China",
           "3/17/20"
          ],
          [
           81102,
           44,
           "China",
           "3/18/20"
          ],
          [
           81156,
           54,
           "China",
           "3/19/20"
          ],
          [
           81250,
           94,
           "China",
           "3/20/20"
          ],
          [
           81305,
           55,
           "China",
           "3/21/20"
          ],
          [
           81435,
           130,
           "China",
           "3/22/20"
          ],
          [
           81498,
           63,
           "China",
           "3/23/20"
          ],
          [
           81591,
           93,
           "China",
           "3/24/20"
          ],
          [
           81661,
           70,
           "China",
           "3/25/20"
          ],
          [
           81782,
           121,
           "China",
           "3/26/20"
          ],
          [
           81897,
           115,
           "China",
           "3/27/20"
          ],
          [
           81999,
           102,
           "China",
           "3/28/20"
          ],
          [
           82122,
           123,
           "China",
           "3/29/20"
          ],
          [
           82198,
           76,
           "China",
           "3/30/20"
          ],
          [
           82279,
           81,
           "China",
           "3/31/20"
          ],
          [
           82361,
           82,
           "China",
           "4/1/20"
          ],
          [
           82432,
           71,
           "China",
           "4/2/20"
          ],
          [
           82511,
           79,
           "China",
           "4/3/20"
          ],
          [
           82543,
           32,
           "China",
           "4/4/20"
          ],
          [
           82602,
           59,
           "China",
           "4/5/20"
          ],
          [
           82665,
           63,
           "China",
           "4/6/20"
          ],
          [
           82718,
           53,
           "China",
           "4/7/20"
          ],
          [
           82809,
           91,
           "China",
           "4/8/20"
          ],
          [
           82883,
           74,
           "China",
           "4/9/20"
          ],
          [
           82941,
           58,
           "China",
           "4/10/20"
          ],
          [
           83014,
           73,
           "China",
           "4/11/20"
          ],
          [
           83134,
           120,
           "China",
           "4/12/20"
          ],
          [
           83213,
           79,
           "China",
           "4/13/20"
          ],
          [
           83306,
           93,
           "China",
           "4/14/20"
          ],
          [
           83356,
           50,
           "China",
           "4/15/20"
          ],
          [
           83403,
           47,
           "China",
           "4/16/20"
          ],
          [
           83760,
           357,
           "China",
           "4/17/20"
          ],
          [
           83787,
           27,
           "China",
           "4/18/20"
          ],
          [
           83805,
           18,
           "China",
           "4/19/20"
          ],
          [
           83817,
           12,
           "China",
           "4/20/20"
          ],
          [
           83853,
           36,
           "China",
           "4/21/20"
          ],
          [
           83868,
           15,
           "China",
           "4/22/20"
          ],
          [
           83884,
           16,
           "China",
           "4/23/20"
          ],
          [
           83899,
           15,
           "China",
           "4/24/20"
          ],
          [
           83909,
           10,
           "China",
           "4/25/20"
          ],
          [
           83912,
           3,
           "China",
           "4/26/20"
          ],
          [
           83918,
           6,
           "China",
           "4/27/20"
          ],
          [
           83940,
           22,
           "China",
           "4/28/20"
          ],
          [
           83944,
           4,
           "China",
           "4/29/20"
          ],
          [
           83956,
           12,
           "China",
           "4/30/20"
          ],
          [
           83959,
           3,
           "China",
           "5/1/20"
          ],
          [
           83959,
           0,
           "China",
           "5/2/20"
          ],
          [
           83964,
           5,
           "China",
           "5/3/20"
          ],
          [
           83966,
           2,
           "China",
           "5/4/20"
          ]
         ],
         "hoverlabel": {
          "namelength": 0
         },
         "hovertemplate": "Country =%{customdata[2]}<br>Mean growth over 14d compared to max growth =%{x}<br>% cases from last 14d =%{y}<br>Confirmed Cases=%{customdata[0]}<br>Confirmed Cases today =%{customdata[1]}<br>Date=%{customdata[3]}",
         "legendgroup": "China",
         "marker": {
          "color": "#FFA15A",
          "size": [
           548,
           643,
           920,
           1406,
           2075,
           2877,
           5509,
           6087,
           8141,
           9802,
           11891,
           16630,
           19716,
           23707,
           27440,
           30587,
           34110,
           36814,
           39829,
           42354,
           44386,
           44759,
           59895,
           66358,
           68413,
           70513,
           72434,
           74211,
           74619,
           75077,
           75550,
           77001,
           77022,
           77241,
           77754,
           78166,
           78600,
           78928,
           79356,
           79932,
           80136,
           80261,
           80386,
           80537,
           80690,
           80770,
           80823,
           80860,
           80887,
           80921,
           80932,
           80945,
           80977,
           81003,
           81033,
           81058,
           81102,
           81156,
           81250,
           81305,
           81435,
           81498,
           81591,
           81661,
           81782,
           81897,
           81999,
           82122,
           82198,
           82279,
           82361,
           82432,
           82511,
           82543,
           82602,
           82665,
           82718,
           82809,
           82883,
           82941,
           83014,
           83134,
           83213,
           83306,
           83356,
           83403,
           83760,
           83787,
           83805,
           83817,
           83853,
           83868,
           83884,
           83899,
           83909,
           83912,
           83918,
           83940,
           83944,
           83956,
           83959,
           83959,
           83964,
           83966
          ],
          "sizemode": "area",
          "sizeref": 2950.9375,
          "symbol": "circle"
         },
         "mode": "lines+markers",
         "name": "China",
         "showlegend": true,
         "type": "scattergl",
         "x": [
          0,
          0,
          0,
          0,
          0,
          0,
          0,
          0,
          0,
          0,
          0,
          0,
          0.1,
          3.4,
          29.7,
          33.1,
          36.7,
          39.1,
          41.7,
          43.6,
          43,
          42.7,
          57.2,
          62.5,
          62.5,
          59.6,
          58.3,
          55.8,
          52.1,
          49.2,
          45.8,
          44.4,
          41.1,
          38.6,
          36.9,
          36.9,
          20.7,
          13.9,
          12.1,
          10.4,
          8.5,
          6.7,
          6.4,
          6,
          5.7,
          4.2,
          4.2,
          4,
          3.5,
          3,
          2.6,
          2.2,
          1.8,
          1.2,
          1,
          0.9,
          0.8,
          0.7,
          0.6,
          0.6,
          0.7,
          0.7,
          0.8,
          0.8,
          0.9,
          1.1,
          1.1,
          1.2,
          1.3,
          1.3,
          1.4,
          1.4,
          1.4,
          1.4,
          1.3,
          1.3,
          1.2,
          1.3,
          1.2,
          1.2,
          1.1,
          1.1,
          1.1,
          1.1,
          1.1,
          1.1,
          1.4,
          1.4,
          1.3,
          1.3,
          1.3,
          1.2,
          1.1,
          1.1,
          1,
          0.9,
          0.8,
          0.7,
          0.6,
          0.6,
          0.2,
          0.2,
          0.2,
          0.2
         ],
         "xaxis": "x",
         "y": [
          0,
          0,
          0,
          0,
          0,
          0,
          0,
          0,
          0,
          0,
          0,
          0,
          0.3,
          12.9,
          98,
          97.9,
          97.3,
          96.2,
          94.8,
          93.2,
          87.6,
          86.4,
          86.4,
          85.2,
          82.6,
          76.4,
          72.8,
          68.1,
          63.2,
          59.3,
          54.9,
          52.2,
          48.3,
          45.2,
          42.9,
          42.7,
          23.8,
          15.9,
          13.8,
          11.8,
          9.6,
          7.5,
          7.2,
          6.8,
          6.4,
          4.7,
          4.7,
          4.5,
          3.9,
          3.4,
          2.9,
          2.5,
          2,
          1.3,
          1.1,
          1,
          0.9,
          0.8,
          0.7,
          0.7,
          0.8,
          0.8,
          0.9,
          0.9,
          1,
          1.2,
          1.2,
          1.4,
          1.4,
          1.5,
          1.5,
          1.5,
          1.5,
          1.5,
          1.4,
          1.4,
          1.4,
          1.4,
          1.3,
          1.3,
          1.2,
          1.2,
          1.2,
          1.2,
          1.2,
          1.2,
          1.5,
          1.5,
          1.4,
          1.4,
          1.4,
          1.3,
          1.2,
          1.1,
          1.1,
          0.9,
          0.8,
          0.8,
          0.7,
          0.7,
          0.2,
          0.2,
          0.2,
          0.2
         ],
         "yaxis": "y"
        },
        {
         "customdata": [
          [
           58,
           21,
           "Ecuador",
           "3/17/20"
          ],
          [
           111,
           53,
           "Ecuador",
           "3/18/20"
          ],
          [
           199,
           88,
           "Ecuador",
           "3/19/20"
          ],
          [
           367,
           168,
           "Ecuador",
           "3/20/20"
          ],
          [
           506,
           139,
           "Ecuador",
           "3/21/20"
          ],
          [
           789,
           283,
           "Ecuador",
           "3/22/20"
          ],
          [
           981,
           192,
           "Ecuador",
           "3/23/20"
          ],
          [
           1082,
           101,
           "Ecuador",
           "3/24/20"
          ],
          [
           1173,
           91,
           "Ecuador",
           "3/25/20"
          ],
          [
           1403,
           230,
           "Ecuador",
           "3/26/20"
          ],
          [
           1595,
           192,
           "Ecuador",
           "3/27/20"
          ],
          [
           1823,
           228,
           "Ecuador",
           "3/28/20"
          ],
          [
           1924,
           101,
           "Ecuador",
           "3/29/20"
          ],
          [
           1962,
           38,
           "Ecuador",
           "3/30/20"
          ],
          [
           2240,
           278,
           "Ecuador",
           "3/31/20"
          ],
          [
           2748,
           508,
           "Ecuador",
           "4/1/20"
          ],
          [
           3163,
           415,
           "Ecuador",
           "4/2/20"
          ],
          [
           3368,
           205,
           "Ecuador",
           "4/3/20"
          ],
          [
           3465,
           97,
           "Ecuador",
           "4/4/20"
          ],
          [
           3646,
           181,
           "Ecuador",
           "4/5/20"
          ],
          [
           3747,
           101,
           "Ecuador",
           "4/6/20"
          ],
          [
           3747,
           0,
           "Ecuador",
           "4/7/20"
          ],
          [
           4450,
           703,
           "Ecuador",
           "4/8/20"
          ],
          [
           4965,
           515,
           "Ecuador",
           "4/9/20"
          ],
          [
           7161,
           2196,
           "Ecuador",
           "4/10/20"
          ],
          [
           7257,
           96,
           "Ecuador",
           "4/11/20"
          ],
          [
           7466,
           209,
           "Ecuador",
           "4/12/20"
          ],
          [
           7529,
           63,
           "Ecuador",
           "4/13/20"
          ],
          [
           7603,
           74,
           "Ecuador",
           "4/14/20"
          ],
          [
           7858,
           255,
           "Ecuador",
           "4/15/20"
          ],
          [
           8225,
           367,
           "Ecuador",
           "4/16/20"
          ],
          [
           8450,
           225,
           "Ecuador",
           "4/17/20"
          ],
          [
           9022,
           572,
           "Ecuador",
           "4/18/20"
          ],
          [
           9468,
           446,
           "Ecuador",
           "4/19/20"
          ],
          [
           10128,
           660,
           "Ecuador",
           "4/20/20"
          ],
          [
           10398,
           270,
           "Ecuador",
           "4/21/20"
          ],
          [
           10850,
           452,
           "Ecuador",
           "4/22/20"
          ],
          [
           11183,
           333,
           "Ecuador",
           "4/23/20"
          ],
          [
           22719,
           11536,
           "Ecuador",
           "4/24/20"
          ],
          [
           22719,
           0,
           "Ecuador",
           "4/25/20"
          ],
          [
           22719,
           0,
           "Ecuador",
           "4/26/20"
          ],
          [
           23240,
           521,
           "Ecuador",
           "4/27/20"
          ],
          [
           24258,
           1018,
           "Ecuador",
           "4/28/20"
          ],
          [
           24675,
           417,
           "Ecuador",
           "4/29/20"
          ],
          [
           24934,
           259,
           "Ecuador",
           "4/30/20"
          ],
          [
           26336,
           1402,
           "Ecuador",
           "5/1/20"
          ],
          [
           27464,
           1128,
           "Ecuador",
           "5/2/20"
          ],
          [
           29538,
           2074,
           "Ecuador",
           "5/3/20"
          ],
          [
           31881,
           2343,
           "Ecuador",
           "5/4/20"
          ]
         ],
         "hoverlabel": {
          "namelength": 0
         },
         "hovertemplate": "Country =%{customdata[2]}<br>Mean growth over 14d compared to max growth =%{x}<br>% cases from last 14d =%{y}<br>Confirmed Cases=%{customdata[0]}<br>Confirmed Cases today =%{customdata[1]}<br>Date=%{customdata[3]}",
         "legendgroup": "Ecuador",
         "marker": {
          "color": "#19d3f3",
          "size": [
           58,
           111,
           199,
           367,
           506,
           789,
           981,
           1082,
           1173,
           1403,
           1595,
           1823,
           1924,
           1962,
           2240,
           2748,
           3163,
           3368,
           3465,
           3646,
           3747,
           3747,
           4450,
           4965,
           7161,
           7257,
           7466,
           7529,
           7603,
           7858,
           8225,
           8450,
           9022,
           9468,
           10128,
           10398,
           10850,
           11183,
           22719,
           22719,
           22719,
           23240,
           24258,
           24675,
           24934,
           26336,
           27464,
           29538,
           31881
          ],
          "sizemode": "area",
          "sizeref": 2950.9375,
          "symbol": "circle"
         },
         "mode": "lines+markers",
         "name": "Ecuador",
         "showlegend": true,
         "type": "scattergl",
         "x": [
          0.2,
          0.3,
          0.6,
          1.1,
          1.5,
          2.4,
          2.9,
          3.3,
          3.5,
          4.2,
          4.8,
          5.5,
          5.8,
          5.9,
          6.7,
          8,
          9,
          9.1,
          9,
          8.7,
          8.4,
          8.1,
          10,
          10.9,
          17,
          16.6,
          16.9,
          17,
          16.3,
          15.6,
          15.4,
          15.5,
          16.9,
          17.7,
          19.5,
          20.3,
          19.5,
          19,
          47.4,
          47.1,
          46.5,
          47.9,
          50.8,
          51.3,
          50.9,
          54.5,
          56.2,
          61.2,
          66.3
         ],
         "xaxis": "x",
         "y": [
          87.9,
          91,
          93.5,
          96.5,
          97.4,
          98.2,
          98.5,
          98.6,
          98.6,
          98.8,
          98.9,
          98.5,
          98.5,
          98.1,
          97.4,
          96,
          93.7,
          89.1,
          85.4,
          78.4,
          73.8,
          71.1,
          73.6,
          71.7,
          77.7,
          74.9,
          74.2,
          73.9,
          70.5,
          65,
          61.5,
          60.1,
          61.6,
          61.5,
          63,
          64,
          59,
          55.6,
          68.5,
          68.1,
          67.1,
          67.6,
          68.7,
          68.2,
          67,
          67.9,
          67.1,
          67.9,
          68.2
         ],
         "yaxis": "y"
        },
        {
         "customdata": [
          [
           57,
           19,
           "France",
           "2/28/20"
          ],
          [
           100,
           43,
           "France",
           "2/29/20"
          ],
          [
           130,
           30,
           "France",
           "3/1/20"
          ],
          [
           191,
           61,
           "France",
           "3/2/20"
          ],
          [
           204,
           13,
           "France",
           "3/3/20"
          ],
          [
           288,
           84,
           "France",
           "3/4/20"
          ],
          [
           380,
           92,
           "France",
           "3/5/20"
          ],
          [
           656,
           276,
           "France",
           "3/6/20"
          ],
          [
           959,
           303,
           "France",
           "3/7/20"
          ],
          [
           1136,
           177,
           "France",
           "3/8/20"
          ],
          [
           1219,
           83,
           "France",
           "3/9/20"
          ],
          [
           1794,
           575,
           "France",
           "3/10/20"
          ],
          [
           2293,
           499,
           "France",
           "3/11/20"
          ],
          [
           2293,
           0,
           "France",
           "3/12/20"
          ],
          [
           3681,
           1388,
           "France",
           "3/13/20"
          ],
          [
           4496,
           815,
           "France",
           "3/14/20"
          ],
          [
           4532,
           36,
           "France",
           "3/15/20"
          ],
          [
           6683,
           2151,
           "France",
           "3/16/20"
          ],
          [
           7715,
           1032,
           "France",
           "3/17/20"
          ],
          [
           9124,
           1409,
           "France",
           "3/18/20"
          ],
          [
           10970,
           1846,
           "France",
           "3/19/20"
          ],
          [
           12758,
           1788,
           "France",
           "3/20/20"
          ],
          [
           14463,
           1705,
           "France",
           "3/21/20"
          ],
          [
           16243,
           1780,
           "France",
           "3/22/20"
          ],
          [
           20123,
           3880,
           "France",
           "3/23/20"
          ],
          [
           22622,
           2499,
           "France",
           "3/24/20"
          ],
          [
           25600,
           2978,
           "France",
           "3/25/20"
          ],
          [
           29551,
           3951,
           "France",
           "3/26/20"
          ],
          [
           33402,
           3851,
           "France",
           "3/27/20"
          ],
          [
           38105,
           4703,
           "France",
           "3/28/20"
          ],
          [
           40708,
           2603,
           "France",
           "3/29/20"
          ],
          [
           45170,
           4462,
           "France",
           "3/30/20"
          ],
          [
           52827,
           7657,
           "France",
           "3/31/20"
          ],
          [
           57749,
           4922,
           "France",
           "4/1/20"
          ],
          [
           59929,
           2180,
           "France",
           "4/2/20"
          ],
          [
           65202,
           5273,
           "France",
           "4/3/20"
          ],
          [
           69500,
           4298,
           "France",
           "4/4/20"
          ],
          [
           71412,
           1912,
           "France",
           "4/5/20"
          ],
          [
           75343,
           3931,
           "France",
           "4/6/20"
          ],
          [
           79163,
           3820,
           "France",
           "4/7/20"
          ],
          [
           83057,
           3894,
           "France",
           "4/8/20"
          ],
          [
           87366,
           4309,
           "France",
           "4/9/20"
          ],
          [
           91738,
           4372,
           "France",
           "4/10/20"
          ],
          [
           94863,
           3125,
           "France",
           "4/11/20"
          ],
          [
           121712,
           26849,
           "France",
           "4/12/20"
          ],
          [
           125394,
           3682,
           "France",
           "4/13/20"
          ],
          [
           130365,
           4971,
           "France",
           "4/14/20"
          ],
          [
           133585,
           3220,
           "France",
           "4/15/20"
          ],
          [
           146075,
           12490,
           "France",
           "4/16/20"
          ],
          [
           148084,
           2009,
           "France",
           "4/17/20"
          ],
          [
           148086,
           2,
           "France",
           "4/18/20"
          ],
          [
           153011,
           4925,
           "France",
           "4/19/20"
          ],
          [
           155393,
           2382,
           "France",
           "4/20/20"
          ],
          [
           158168,
           2775,
           "France",
           "4/21/20"
          ],
          [
           155980,
           -2188,
           "France",
           "4/22/20"
          ],
          [
           158303,
           2323,
           "France",
           "4/23/20"
          ],
          [
           159952,
           1649,
           "France",
           "4/24/20"
          ],
          [
           161644,
           1692,
           "France",
           "4/25/20"
          ],
          [
           162220,
           576,
           "France",
           "4/26/20"
          ],
          [
           165963,
           3743,
           "France",
           "4/27/20"
          ],
          [
           169053,
           3090,
           "France",
           "4/28/20"
          ],
          [
           166543,
           -2510,
           "France",
           "4/29/20"
          ],
          [
           167299,
           756,
           "France",
           "4/30/20"
          ],
          [
           167305,
           6,
           "France",
           "5/1/20"
          ],
          [
           168518,
           1213,
           "France",
           "5/2/20"
          ],
          [
           168925,
           407,
           "France",
           "5/3/20"
          ],
          [
           169583,
           658,
           "France",
           "5/4/20"
          ]
         ],
         "hoverlabel": {
          "namelength": 0
         },
         "hovertemplate": "Country =%{customdata[2]}<br>Mean growth over 14d compared to max growth =%{x}<br>% cases from last 14d =%{y}<br>Confirmed Cases=%{customdata[0]}<br>Confirmed Cases today =%{customdata[1]}<br>Date=%{customdata[3]}",
         "legendgroup": "France",
         "marker": {
          "color": "#FF6692",
          "size": [
           57,
           100,
           130,
           191,
           204,
           288,
           380,
           656,
           959,
           1136,
           1219,
           1794,
           2293,
           2293,
           3681,
           4496,
           4532,
           6683,
           7715,
           9124,
           10970,
           12758,
           14463,
           16243,
           20123,
           22622,
           25600,
           29551,
           33402,
           38105,
           40708,
           45170,
           52827,
           57749,
           59929,
           65202,
           69500,
           71412,
           75343,
           79163,
           83057,
           87366,
           91738,
           94863,
           121712,
           125394,
           130365,
           133585,
           146075,
           148084,
           148086,
           153011,
           155393,
           158168,
           155980,
           158303,
           159952,
           161644,
           162220,
           165963,
           169053,
           166543,
           167299,
           167305,
           168518,
           168925,
           169583
          ],
          "sizemode": "area",
          "sizeref": 2950.9375,
          "symbol": "circle"
         },
         "mode": "lines+markers",
         "name": "France",
         "showlegend": true,
         "type": "scattergl",
         "x": [
          0,
          0.1,
          0.1,
          0.1,
          0.1,
          0.2,
          0.2,
          0.4,
          0.5,
          0.6,
          0.7,
          1,
          1.3,
          1.3,
          2.1,
          2.5,
          2.5,
          3.7,
          4.3,
          5.1,
          6.1,
          6.9,
          7.7,
          8.6,
          10.8,
          11.9,
          13.3,
          15.6,
          17,
          19.2,
          20.7,
          22,
          25.8,
          27.8,
          28,
          30,
          31.5,
          31.6,
          31.6,
          32.3,
          32.9,
          33.1,
          33.4,
          32.5,
          46.3,
          45.9,
          44.3,
          43.4,
          49.3,
          47.4,
          44.9,
          46.7,
          45.8,
          45.2,
          41.7,
          40.6,
          39,
          38.2,
          23.2,
          23.2,
          22.1,
          18.8,
          12.1,
          11,
          11.7,
          9.1,
          8.1
         ],
         "xaxis": "x",
         "y": [
          80.7,
          88,
          90.8,
          93.7,
          94.1,
          95.8,
          96.8,
          98.2,
          98.7,
          98.9,
          99,
          99.2,
          99.2,
          98.3,
          98.5,
          97.8,
          97.1,
          97.1,
          97.4,
          96.8,
          96.5,
          94.9,
          93.4,
          93,
          93.9,
          92.1,
          91,
          92.2,
          89,
          88.2,
          88.9,
          85.2,
          85.4,
          84.2,
          81.7,
          80.4,
          79.2,
          77.3,
          73.3,
          71.4,
          69.2,
          66.2,
          63.6,
          59.8,
          66.6,
          64,
          59.5,
          56.8,
          59,
          56,
          53.1,
          53.3,
          51.5,
          50,
          46.8,
          44.8,
          42.6,
          41.3,
          25,
          24.4,
          22.9,
          19.8,
          12.7,
          11.5,
          12.1,
          9.4,
          8.4
         ],
         "yaxis": "y"
        },
        {
         "customdata": [
          [
           79,
           31,
           "Germany",
           "2/29/20"
          ],
          [
           130,
           51,
           "Germany",
           "3/1/20"
          ],
          [
           159,
           29,
           "Germany",
           "3/2/20"
          ],
          [
           196,
           37,
           "Germany",
           "3/3/20"
          ],
          [
           262,
           66,
           "Germany",
           "3/4/20"
          ],
          [
           482,
           220,
           "Germany",
           "3/5/20"
          ],
          [
           670,
           188,
           "Germany",
           "3/6/20"
          ],
          [
           799,
           129,
           "Germany",
           "3/7/20"
          ],
          [
           1040,
           241,
           "Germany",
           "3/8/20"
          ],
          [
           1176,
           136,
           "Germany",
           "3/9/20"
          ],
          [
           1457,
           281,
           "Germany",
           "3/10/20"
          ],
          [
           1908,
           451,
           "Germany",
           "3/11/20"
          ],
          [
           2078,
           170,
           "Germany",
           "3/12/20"
          ],
          [
           3675,
           1597,
           "Germany",
           "3/13/20"
          ],
          [
           4585,
           910,
           "Germany",
           "3/14/20"
          ],
          [
           5795,
           1210,
           "Germany",
           "3/15/20"
          ],
          [
           7272,
           1477,
           "Germany",
           "3/16/20"
          ],
          [
           9257,
           1985,
           "Germany",
           "3/17/20"
          ],
          [
           12327,
           3070,
           "Germany",
           "3/18/20"
          ],
          [
           15320,
           2993,
           "Germany",
           "3/19/20"
          ],
          [
           19848,
           4528,
           "Germany",
           "3/20/20"
          ],
          [
           22213,
           2365,
           "Germany",
           "3/21/20"
          ],
          [
           24873,
           2660,
           "Germany",
           "3/22/20"
          ],
          [
           29056,
           4183,
           "Germany",
           "3/23/20"
          ],
          [
           32986,
           3930,
           "Germany",
           "3/24/20"
          ],
          [
           37323,
           4337,
           "Germany",
           "3/25/20"
          ],
          [
           43938,
           6615,
           "Germany",
           "3/26/20"
          ],
          [
           50871,
           6933,
           "Germany",
           "3/27/20"
          ],
          [
           57695,
           6824,
           "Germany",
           "3/28/20"
          ],
          [
           62095,
           4400,
           "Germany",
           "3/29/20"
          ],
          [
           66885,
           4790,
           "Germany",
           "3/30/20"
          ],
          [
           71808,
           4923,
           "Germany",
           "3/31/20"
          ],
          [
           77872,
           6064,
           "Germany",
           "4/1/20"
          ],
          [
           84794,
           6922,
           "Germany",
           "4/2/20"
          ],
          [
           91159,
           6365,
           "Germany",
           "4/3/20"
          ],
          [
           96092,
           4933,
           "Germany",
           "4/4/20"
          ],
          [
           100123,
           4031,
           "Germany",
           "4/5/20"
          ],
          [
           103374,
           3251,
           "Germany",
           "4/6/20"
          ],
          [
           107663,
           4289,
           "Germany",
           "4/7/20"
          ],
          [
           113296,
           5633,
           "Germany",
           "4/8/20"
          ],
          [
           118181,
           4885,
           "Germany",
           "4/9/20"
          ],
          [
           122171,
           3990,
           "Germany",
           "4/10/20"
          ],
          [
           124908,
           2737,
           "Germany",
           "4/11/20"
          ],
          [
           127854,
           2946,
           "Germany",
           "4/12/20"
          ],
          [
           130072,
           2218,
           "Germany",
           "4/13/20"
          ],
          [
           131359,
           1287,
           "Germany",
           "4/14/20"
          ],
          [
           134753,
           3394,
           "Germany",
           "4/15/20"
          ],
          [
           137698,
           2945,
           "Germany",
           "4/16/20"
          ],
          [
           141397,
           3699,
           "Germany",
           "4/17/20"
          ],
          [
           143342,
           1945,
           "Germany",
           "4/18/20"
          ],
          [
           145184,
           1842,
           "Germany",
           "4/19/20"
          ],
          [
           147065,
           1881,
           "Germany",
           "4/20/20"
          ],
          [
           148291,
           1226,
           "Germany",
           "4/21/20"
          ],
          [
           150648,
           2357,
           "Germany",
           "4/22/20"
          ],
          [
           153129,
           2481,
           "Germany",
           "4/23/20"
          ],
          [
           154999,
           1870,
           "Germany",
           "4/24/20"
          ],
          [
           156513,
           1514,
           "Germany",
           "4/25/20"
          ],
          [
           157770,
           1257,
           "Germany",
           "4/26/20"
          ],
          [
           158758,
           988,
           "Germany",
           "4/27/20"
          ],
          [
           159912,
           1154,
           "Germany",
           "4/28/20"
          ],
          [
           161539,
           1627,
           "Germany",
           "4/29/20"
          ],
          [
           163009,
           1470,
           "Germany",
           "4/30/20"
          ],
          [
           164077,
           1068,
           "Germany",
           "5/1/20"
          ],
          [
           164967,
           890,
           "Germany",
           "5/2/20"
          ],
          [
           165664,
           697,
           "Germany",
           "5/3/20"
          ],
          [
           166152,
           488,
           "Germany",
           "5/4/20"
          ]
         ],
         "hoverlabel": {
          "namelength": 0
         },
         "hovertemplate": "Country =%{customdata[2]}<br>Mean growth over 14d compared to max growth =%{x}<br>% cases from last 14d =%{y}<br>Confirmed Cases=%{customdata[0]}<br>Confirmed Cases today =%{customdata[1]}<br>Date=%{customdata[3]}",
         "legendgroup": "Germany",
         "marker": {
          "color": "#B6E880",
          "size": [
           79,
           130,
           159,
           196,
           262,
           482,
           670,
           799,
           1040,
           1176,
           1457,
           1908,
           2078,
           3675,
           4585,
           5795,
           7272,
           9257,
           12327,
           15320,
           19848,
           22213,
           24873,
           29056,
           32986,
           37323,
           43938,
           50871,
           57695,
           62095,
           66885,
           71808,
           77872,
           84794,
           91159,
           96092,
           100123,
           103374,
           107663,
           113296,
           118181,
           122171,
           124908,
           127854,
           130072,
           131359,
           134753,
           137698,
           141397,
           143342,
           145184,
           147065,
           148291,
           150648,
           153129,
           154999,
           156513,
           157770,
           158758,
           159912,
           161539,
           163009,
           164077,
           164967,
           165664,
           166152
          ],
          "sizemode": "area",
          "sizeref": 2950.9375,
          "symbol": "circle"
         },
         "mode": "lines+markers",
         "name": "Germany",
         "showlegend": true,
         "type": "scattergl",
         "x": [
          0.1,
          0.1,
          0.1,
          0.2,
          0.3,
          0.5,
          0.7,
          0.8,
          1.1,
          1.2,
          1.5,
          1.9,
          2.1,
          3.7,
          4.6,
          5.8,
          7.3,
          9.4,
          12.4,
          15.3,
          19.8,
          22.1,
          24.6,
          28.8,
          32.5,
          36.5,
          43.2,
          48.7,
          54.8,
          58.1,
          61.5,
          64.5,
          67.6,
          71.7,
          73.6,
          76.2,
          77.7,
          76.7,
          77.1,
          78.4,
          76.6,
          73.6,
          69.4,
          67.9,
          65.2,
          61.5,
          58.7,
          54.6,
          51.8,
          48.8,
          46.5,
          45.1,
          41.9,
          38.5,
          36.1,
          33.9,
          32.6,
          30.9,
          29.6,
          29.5,
          27.6,
          26.1,
          23.4,
          22.3,
          21.1,
          19.7
         ],
         "xaxis": "x",
         "y": [
          79.7,
          87.7,
          89.9,
          91.8,
          93.9,
          96.7,
          97.6,
          98,
          98.5,
          98.6,
          98.8,
          98.6,
          97.8,
          98.7,
          98.3,
          97.8,
          97.8,
          97.9,
          97.9,
          96.9,
          96.6,
          96.4,
          95.8,
          96,
          95.6,
          94.9,
          95.3,
          92.8,
          92.1,
          90.7,
          89.1,
          87.1,
          84.2,
          81.9,
          78.2,
          76.9,
          75.2,
          71.9,
          69.4,
          67.1,
          62.8,
          58.4,
          53.8,
          51.4,
          48.6,
          45.3,
          42.2,
          38.4,
          35.5,
          33,
          31,
          29.7,
          27.4,
          24.8,
          22.8,
          21.2,
          20.2,
          19,
          18.1,
          17.9,
          16.6,
          15.5,
          13.8,
          13.1,
          12.4,
          11.5
         ],
         "yaxis": "y"
        },
        {
         "customdata": [
          [
           56,
           13,
           "India",
           "3/10/20"
          ],
          [
           62,
           6,
           "India",
           "3/11/20"
          ],
          [
           73,
           11,
           "India",
           "3/12/20"
          ],
          [
           82,
           9,
           "India",
           "3/13/20"
          ],
          [
           102,
           20,
           "India",
           "3/14/20"
          ],
          [
           113,
           11,
           "India",
           "3/15/20"
          ],
          [
           119,
           6,
           "India",
           "3/16/20"
          ],
          [
           142,
           23,
           "India",
           "3/17/20"
          ],
          [
           156,
           14,
           "India",
           "3/18/20"
          ],
          [
           194,
           38,
           "India",
           "3/19/20"
          ],
          [
           244,
           50,
           "India",
           "3/20/20"
          ],
          [
           330,
           86,
           "India",
           "3/21/20"
          ],
          [
           396,
           66,
           "India",
           "3/22/20"
          ],
          [
           499,
           103,
           "India",
           "3/23/20"
          ],
          [
           536,
           37,
           "India",
           "3/24/20"
          ],
          [
           657,
           121,
           "India",
           "3/25/20"
          ],
          [
           727,
           70,
           "India",
           "3/26/20"
          ],
          [
           887,
           160,
           "India",
           "3/27/20"
          ],
          [
           987,
           100,
           "India",
           "3/28/20"
          ],
          [
           1024,
           37,
           "India",
           "3/29/20"
          ],
          [
           1251,
           227,
           "India",
           "3/30/20"
          ],
          [
           1397,
           146,
           "India",
           "3/31/20"
          ],
          [
           1998,
           601,
           "India",
           "4/1/20"
          ],
          [
           2543,
           545,
           "India",
           "4/2/20"
          ],
          [
           2567,
           24,
           "India",
           "4/3/20"
          ],
          [
           3082,
           515,
           "India",
           "4/4/20"
          ],
          [
           3588,
           506,
           "India",
           "4/5/20"
          ],
          [
           4778,
           1190,
           "India",
           "4/6/20"
          ],
          [
           5311,
           533,
           "India",
           "4/7/20"
          ],
          [
           5916,
           605,
           "India",
           "4/8/20"
          ],
          [
           6725,
           809,
           "India",
           "4/9/20"
          ],
          [
           7598,
           873,
           "India",
           "4/10/20"
          ],
          [
           8446,
           848,
           "India",
           "4/11/20"
          ],
          [
           9205,
           759,
           "India",
           "4/12/20"
          ],
          [
           10453,
           1248,
           "India",
           "4/13/20"
          ],
          [
           11487,
           1034,
           "India",
           "4/14/20"
          ],
          [
           12322,
           835,
           "India",
           "4/15/20"
          ],
          [
           13430,
           1108,
           "India",
           "4/16/20"
          ],
          [
           14352,
           922,
           "India",
           "4/17/20"
          ],
          [
           15722,
           1370,
           "India",
           "4/18/20"
          ],
          [
           17615,
           1893,
           "India",
           "4/19/20"
          ],
          [
           18539,
           924,
           "India",
           "4/20/20"
          ],
          [
           20080,
           1541,
           "India",
           "4/21/20"
          ],
          [
           21370,
           1290,
           "India",
           "4/22/20"
          ],
          [
           23077,
           1707,
           "India",
           "4/23/20"
          ],
          [
           24530,
           1453,
           "India",
           "4/24/20"
          ],
          [
           26283,
           1753,
           "India",
           "4/25/20"
          ],
          [
           27890,
           1607,
           "India",
           "4/26/20"
          ],
          [
           29451,
           1561,
           "India",
           "4/27/20"
          ],
          [
           31324,
           1873,
           "India",
           "4/28/20"
          ],
          [
           33062,
           1738,
           "India",
           "4/29/20"
          ],
          [
           34863,
           1801,
           "India",
           "4/30/20"
          ],
          [
           37257,
           2394,
           "India",
           "5/1/20"
          ],
          [
           39699,
           2442,
           "India",
           "5/2/20"
          ],
          [
           42505,
           2806,
           "India",
           "5/3/20"
          ],
          [
           46437,
           3932,
           "India",
           "5/4/20"
          ]
         ],
         "hoverlabel": {
          "namelength": 0
         },
         "hovertemplate": "Country =%{customdata[2]}<br>Mean growth over 14d compared to max growth =%{x}<br>% cases from last 14d =%{y}<br>Confirmed Cases=%{customdata[0]}<br>Confirmed Cases today =%{customdata[1]}<br>Date=%{customdata[3]}",
         "legendgroup": "India",
         "marker": {
          "color": "#FF97FF",
          "size": [
           56,
           62,
           73,
           82,
           102,
           113,
           119,
           142,
           156,
           194,
           244,
           330,
           396,
           499,
           536,
           657,
           727,
           887,
           987,
           1024,
           1251,
           1397,
           1998,
           2543,
           2567,
           3082,
           3588,
           4778,
           5311,
           5916,
           6725,
           7598,
           8446,
           9205,
           10453,
           11487,
           12322,
           13430,
           14352,
           15722,
           17615,
           18539,
           20080,
           21370,
           23077,
           24530,
           26283,
           27890,
           29451,
           31324,
           33062,
           34863,
           37257,
           39699,
           42505,
           46437
          ],
          "sizemode": "area",
          "sizeref": 2950.9375,
          "symbol": "circle"
         },
         "mode": "lines+markers",
         "name": "India",
         "showlegend": true,
         "type": "scattergl",
         "x": [
          0.1,
          0.2,
          0.2,
          0.2,
          0.3,
          0.3,
          0.3,
          0.3,
          0.3,
          0.4,
          0.5,
          0.8,
          0.9,
          1.2,
          1.2,
          1.5,
          1.7,
          2,
          2.3,
          2.3,
          2.9,
          3.2,
          4.7,
          6,
          5.9,
          7,
          8.1,
          10.9,
          12.2,
          13.4,
          15.3,
          17.1,
          19,
          20.8,
          23.4,
          25.7,
          26.3,
          27.7,
          30,
          32.2,
          35.7,
          35,
          37.6,
          39.3,
          41.6,
          43.1,
          45.4,
          47.6,
          48.4,
          50.5,
          52.8,
          54.6,
          58.3,
          61,
          63.4,
          71
         ],
         "xaxis": "x",
         "y": [
          94.6,
          95.2,
          95.9,
          96.3,
          97.1,
          97.3,
          95.8,
          96.5,
          82.1,
          84.5,
          87.3,
          89.7,
          90.2,
          91.4,
          89.6,
          90.6,
          90,
          90.8,
          89.7,
          89,
          90.5,
          89.8,
          92.2,
          92.4,
          90.5,
          89.3,
          89,
          89.6,
          89.9,
          88.9,
          89.2,
          88.3,
          88.3,
          88.9,
          88,
          87.8,
          83.8,
          81.1,
          82.1,
          80.4,
          79.6,
          74.2,
          73.6,
          72.3,
          70.9,
          69,
          67.9,
          67,
          64.5,
          63.3,
          62.7,
          61.5,
          61.5,
          60.4,
          58.6,
          60.1
         ],
         "yaxis": "y"
        },
        {
         "customdata": [
          [
           61,
           18,
           "Iran",
           "2/24/20"
          ],
          [
           95,
           34,
           "Iran",
           "2/25/20"
          ],
          [
           139,
           44,
           "Iran",
           "2/26/20"
          ],
          [
           245,
           106,
           "Iran",
           "2/27/20"
          ],
          [
           388,
           143,
           "Iran",
           "2/28/20"
          ],
          [
           593,
           205,
           "Iran",
           "2/29/20"
          ],
          [
           978,
           385,
           "Iran",
           "3/1/20"
          ],
          [
           1501,
           523,
           "Iran",
           "3/2/20"
          ],
          [
           2336,
           835,
           "Iran",
           "3/3/20"
          ],
          [
           2922,
           586,
           "Iran",
           "3/4/20"
          ],
          [
           3513,
           591,
           "Iran",
           "3/5/20"
          ],
          [
           4747,
           1234,
           "Iran",
           "3/6/20"
          ],
          [
           5823,
           1076,
           "Iran",
           "3/7/20"
          ],
          [
           6566,
           743,
           "Iran",
           "3/8/20"
          ],
          [
           7161,
           595,
           "Iran",
           "3/9/20"
          ],
          [
           8042,
           881,
           "Iran",
           "3/10/20"
          ],
          [
           9000,
           958,
           "Iran",
           "3/11/20"
          ],
          [
           10075,
           1075,
           "Iran",
           "3/12/20"
          ],
          [
           11364,
           1289,
           "Iran",
           "3/13/20"
          ],
          [
           12729,
           1365,
           "Iran",
           "3/14/20"
          ],
          [
           13938,
           1209,
           "Iran",
           "3/15/20"
          ],
          [
           14991,
           1053,
           "Iran",
           "3/16/20"
          ],
          [
           16169,
           1178,
           "Iran",
           "3/17/20"
          ],
          [
           17361,
           1192,
           "Iran",
           "3/18/20"
          ],
          [
           18407,
           1046,
           "Iran",
           "3/19/20"
          ],
          [
           19644,
           1237,
           "Iran",
           "3/20/20"
          ],
          [
           20610,
           966,
           "Iran",
           "3/21/20"
          ],
          [
           21638,
           1028,
           "Iran",
           "3/22/20"
          ],
          [
           23049,
           1411,
           "Iran",
           "3/23/20"
          ],
          [
           24811,
           1762,
           "Iran",
           "3/24/20"
          ],
          [
           27017,
           2206,
           "Iran",
           "3/25/20"
          ],
          [
           29406,
           2389,
           "Iran",
           "3/26/20"
          ],
          [
           32332,
           2926,
           "Iran",
           "3/27/20"
          ],
          [
           35408,
           3076,
           "Iran",
           "3/28/20"
          ],
          [
           38309,
           2901,
           "Iran",
           "3/29/20"
          ],
          [
           41495,
           3186,
           "Iran",
           "3/30/20"
          ],
          [
           44605,
           3110,
           "Iran",
           "3/31/20"
          ],
          [
           47593,
           2988,
           "Iran",
           "4/1/20"
          ],
          [
           50468,
           2875,
           "Iran",
           "4/2/20"
          ],
          [
           53183,
           2715,
           "Iran",
           "4/3/20"
          ],
          [
           55743,
           2560,
           "Iran",
           "4/4/20"
          ],
          [
           58226,
           2483,
           "Iran",
           "4/5/20"
          ],
          [
           60500,
           2274,
           "Iran",
           "4/6/20"
          ],
          [
           62589,
           2089,
           "Iran",
           "4/7/20"
          ],
          [
           64586,
           1997,
           "Iran",
           "4/8/20"
          ],
          [
           66220,
           1634,
           "Iran",
           "4/9/20"
          ],
          [
           68192,
           1972,
           "Iran",
           "4/10/20"
          ],
          [
           70029,
           1837,
           "Iran",
           "4/11/20"
          ],
          [
           71686,
           1657,
           "Iran",
           "4/12/20"
          ],
          [
           73303,
           1617,
           "Iran",
           "4/13/20"
          ],
          [
           74877,
           1574,
           "Iran",
           "4/14/20"
          ],
          [
           76389,
           1512,
           "Iran",
           "4/15/20"
          ],
          [
           77995,
           1606,
           "Iran",
           "4/16/20"
          ],
          [
           79494,
           1499,
           "Iran",
           "4/17/20"
          ],
          [
           80868,
           1374,
           "Iran",
           "4/18/20"
          ],
          [
           82211,
           1343,
           "Iran",
           "4/19/20"
          ],
          [
           83505,
           1294,
           "Iran",
           "4/20/20"
          ],
          [
           84802,
           1297,
           "Iran",
           "4/21/20"
          ],
          [
           85996,
           1194,
           "Iran",
           "4/22/20"
          ],
          [
           87026,
           1030,
           "Iran",
           "4/23/20"
          ],
          [
           88194,
           1168,
           "Iran",
           "4/24/20"
          ],
          [
           89328,
           1134,
           "Iran",
           "4/25/20"
          ],
          [
           90481,
           1153,
           "Iran",
           "4/26/20"
          ],
          [
           91472,
           991,
           "Iran",
           "4/27/20"
          ],
          [
           92584,
           1112,
           "Iran",
           "4/28/20"
          ],
          [
           93657,
           1073,
           "Iran",
           "4/29/20"
          ],
          [
           94640,
           983,
           "Iran",
           "4/30/20"
          ],
          [
           95646,
           1006,
           "Iran",
           "5/1/20"
          ],
          [
           96448,
           802,
           "Iran",
           "5/2/20"
          ],
          [
           97424,
           976,
           "Iran",
           "5/3/20"
          ],
          [
           98647,
           1223,
           "Iran",
           "5/4/20"
          ]
         ],
         "hoverlabel": {
          "namelength": 0
         },
         "hovertemplate": "Country =%{customdata[2]}<br>Mean growth over 14d compared to max growth =%{x}<br>% cases from last 14d =%{y}<br>Confirmed Cases=%{customdata[0]}<br>Confirmed Cases today =%{customdata[1]}<br>Date=%{customdata[3]}",
         "legendgroup": "Iran",
         "marker": {
          "color": "#FECB52",
          "size": [
           61,
           95,
           139,
           245,
           388,
           593,
           978,
           1501,
           2336,
           2922,
           3513,
           4747,
           5823,
           6566,
           7161,
           8042,
           9000,
           10075,
           11364,
           12729,
           13938,
           14991,
           16169,
           17361,
           18407,
           19644,
           20610,
           21638,
           23049,
           24811,
           27017,
           29406,
           32332,
           35408,
           38309,
           41495,
           44605,
           47593,
           50468,
           53183,
           55743,
           58226,
           60500,
           62589,
           64586,
           66220,
           68192,
           70029,
           71686,
           73303,
           74877,
           76389,
           77995,
           79494,
           80868,
           82211,
           83505,
           84802,
           85996,
           87026,
           88194,
           89328,
           90481,
           91472,
           92584,
           93657,
           94640,
           95646,
           96448,
           97424,
           98647
          ],
          "sizemode": "area",
          "sizeref": 2950.9375,
          "symbol": "circle"
         },
         "mode": "lines+markers",
         "name": "Iran",
         "showlegend": true,
         "type": "scattergl",
         "x": [
          0.1,
          0.2,
          0.3,
          0.6,
          0.9,
          1.4,
          2.2,
          3.4,
          5.4,
          6.7,
          8.1,
          10.9,
          13.3,
          15,
          16.3,
          18.3,
          20.4,
          22.6,
          25.2,
          27.9,
          29.8,
          31,
          31.8,
          33.2,
          34.2,
          34.2,
          34,
          34.6,
          36.5,
          38.5,
          41.4,
          44.4,
          48.2,
          52.1,
          56,
          60.9,
          65.3,
          69.4,
          73.6,
          77,
          80.7,
          84,
          86,
          86.8,
          86.3,
          84.6,
          82.4,
          79.5,
          76.7,
          73.1,
          69.5,
          66.1,
          63.2,
          60.4,
          57.7,
          55.1,
          52.8,
          51,
          49.2,
          47.8,
          45.9,
          44.3,
          43.2,
          41.7,
          40.7,
          39.7,
          38.2,
          37.1,
          35.8,
          34.9,
          34.8
         ],
         "xaxis": "x",
         "y": [
          100,
          100,
          100,
          100,
          100,
          100,
          100,
          100,
          100,
          99.9,
          99.9,
          99.6,
          99.5,
          99.3,
          99.1,
          98.8,
          98.5,
          97.6,
          96.6,
          95.3,
          93,
          90,
          85.6,
          83.2,
          80.9,
          75.8,
          71.7,
          69.7,
          68.9,
          67.6,
          66.7,
          65.7,
          64.9,
          64.1,
          63.6,
          63.9,
          63.8,
          63.5,
          63.5,
          63.1,
          63,
          62.8,
          61.9,
          60.4,
          58.2,
          55.6,
          52.6,
          49.4,
          46.6,
          43.4,
          40.4,
          37.7,
          35.3,
          33.1,
          31.1,
          29.2,
          27.5,
          26.2,
          24.9,
          23.9,
          22.7,
          21.6,
          20.8,
          19.9,
          19.1,
          18.4,
          17.6,
          16.9,
          16.2,
          15.6,
          15.3
         ],
         "yaxis": "y"
        },
        {
         "customdata": [
          [
           90,
           47,
           "Ireland",
           "3/13/20"
          ],
          [
           129,
           39,
           "Ireland",
           "3/14/20"
          ],
          [
           129,
           0,
           "Ireland",
           "3/15/20"
          ],
          [
           169,
           40,
           "Ireland",
           "3/16/20"
          ],
          [
           223,
           54,
           "Ireland",
           "3/17/20"
          ],
          [
           292,
           69,
           "Ireland",
           "3/18/20"
          ],
          [
           557,
           265,
           "Ireland",
           "3/19/20"
          ],
          [
           683,
           126,
           "Ireland",
           "3/20/20"
          ],
          [
           785,
           102,
           "Ireland",
           "3/21/20"
          ],
          [
           906,
           121,
           "Ireland",
           "3/22/20"
          ],
          [
           1125,
           219,
           "Ireland",
           "3/23/20"
          ],
          [
           1329,
           204,
           "Ireland",
           "3/24/20"
          ],
          [
           1564,
           235,
           "Ireland",
           "3/25/20"
          ],
          [
           1819,
           255,
           "Ireland",
           "3/26/20"
          ],
          [
           2121,
           302,
           "Ireland",
           "3/27/20"
          ],
          [
           2415,
           294,
           "Ireland",
           "3/28/20"
          ],
          [
           2615,
           200,
           "Ireland",
           "3/29/20"
          ],
          [
           2910,
           295,
           "Ireland",
           "3/30/20"
          ],
          [
           3235,
           325,
           "Ireland",
           "3/31/20"
          ],
          [
           3447,
           212,
           "Ireland",
           "4/1/20"
          ],
          [
           3849,
           402,
           "Ireland",
           "4/2/20"
          ],
          [
           4273,
           424,
           "Ireland",
           "4/3/20"
          ],
          [
           4604,
           331,
           "Ireland",
           "4/4/20"
          ],
          [
           4994,
           390,
           "Ireland",
           "4/5/20"
          ],
          [
           5364,
           370,
           "Ireland",
           "4/6/20"
          ],
          [
           5709,
           345,
           "Ireland",
           "4/7/20"
          ],
          [
           6074,
           365,
           "Ireland",
           "4/8/20"
          ],
          [
           6574,
           500,
           "Ireland",
           "4/9/20"
          ],
          [
           8089,
           1515,
           "Ireland",
           "4/10/20"
          ],
          [
           8928,
           839,
           "Ireland",
           "4/11/20"
          ],
          [
           9655,
           727,
           "Ireland",
           "4/12/20"
          ],
          [
           10647,
           992,
           "Ireland",
           "4/13/20"
          ],
          [
           11479,
           832,
           "Ireland",
           "4/14/20"
          ],
          [
           12547,
           1068,
           "Ireland",
           "4/15/20"
          ],
          [
           13271,
           724,
           "Ireland",
           "4/16/20"
          ],
          [
           13980,
           709,
           "Ireland",
           "4/17/20"
          ],
          [
           14758,
           778,
           "Ireland",
           "4/18/20"
          ],
          [
           15251,
           493,
           "Ireland",
           "4/19/20"
          ],
          [
           15652,
           401,
           "Ireland",
           "4/20/20"
          ],
          [
           16040,
           388,
           "Ireland",
           "4/21/20"
          ],
          [
           16671,
           631,
           "Ireland",
           "4/22/20"
          ],
          [
           17607,
           936,
           "Ireland",
           "4/23/20"
          ],
          [
           18184,
           577,
           "Ireland",
           "4/24/20"
          ],
          [
           18561,
           377,
           "Ireland",
           "4/25/20"
          ],
          [
           19262,
           701,
           "Ireland",
           "4/26/20"
          ],
          [
           19648,
           386,
           "Ireland",
           "4/27/20"
          ],
          [
           19877,
           229,
           "Ireland",
           "4/28/20"
          ],
          [
           20253,
           376,
           "Ireland",
           "4/29/20"
          ],
          [
           20612,
           359,
           "Ireland",
           "4/30/20"
          ],
          [
           20833,
           221,
           "Ireland",
           "5/1/20"
          ],
          [
           21176,
           343,
           "Ireland",
           "5/2/20"
          ],
          [
           21506,
           330,
           "Ireland",
           "5/3/20"
          ],
          [
           21772,
           266,
           "Ireland",
           "5/4/20"
          ]
         ],
         "hoverlabel": {
          "namelength": 0
         },
         "hovertemplate": "Country =%{customdata[2]}<br>Mean growth over 14d compared to max growth =%{x}<br>% cases from last 14d =%{y}<br>Confirmed Cases=%{customdata[0]}<br>Confirmed Cases today =%{customdata[1]}<br>Date=%{customdata[3]}",
         "legendgroup": "Ireland",
         "marker": {
          "color": "#636efa",
          "size": [
           90,
           129,
           129,
           169,
           223,
           292,
           557,
           683,
           785,
           906,
           1125,
           1329,
           1564,
           1819,
           2121,
           2415,
           2615,
           2910,
           3235,
           3447,
           3849,
           4273,
           4604,
           4994,
           5364,
           5709,
           6074,
           6574,
           8089,
           8928,
           9655,
           10647,
           11479,
           12547,
           13271,
           13980,
           14758,
           15251,
           15652,
           16040,
           16671,
           17607,
           18184,
           18561,
           19262,
           19648,
           19877,
           20253,
           20612,
           20833,
           21176,
           21506,
           21772
          ],
          "sizemode": "area",
          "sizeref": 2950.9375,
          "symbol": "circle"
         },
         "mode": "lines+markers",
         "name": "Ireland",
         "showlegend": true,
         "type": "scattergl",
         "x": [
          0.6,
          0.9,
          0.9,
          1.1,
          1.5,
          1.9,
          3.7,
          4.4,
          5.1,
          5.9,
          7.4,
          8.7,
          10.2,
          11.9,
          13.6,
          15.3,
          16.6,
          18.3,
          20.1,
          21.1,
          22,
          24,
          25.5,
          27.3,
          28.4,
          29.3,
          30.2,
          31.8,
          39.9,
          43.6,
          47.1,
          51.7,
          55.1,
          60.9,
          63,
          64.9,
          67.9,
          68.6,
          68.8,
          69.1,
          70.9,
          73.8,
          67.5,
          64.4,
          64.3,
          60.2,
          56.2,
          51.5,
          49.1,
          45.8,
          42.9,
          41.8,
          40.9
         ],
         "xaxis": "x",
         "y": [
          100,
          99.2,
          99.2,
          99.4,
          99.1,
          97.9,
          98.9,
          97.4,
          97.7,
          97.9,
          98.1,
          97.4,
          97.3,
          97.6,
          95.8,
          94.7,
          95.1,
          94.2,
          93.1,
          91.5,
          85.5,
          84,
          82.9,
          81.9,
          79,
          76.7,
          74.3,
          72.3,
          73.8,
          73,
          72.9,
          72.7,
          71.8,
          72.5,
          71,
          69.4,
          68.8,
          67.3,
          65.7,
          64.4,
          63.6,
          62.7,
          55.5,
          51.9,
          49.9,
          45.8,
          42.2,
          38,
          35.6,
          32.9,
          30.3,
          29.1,
          28.1
         ],
         "yaxis": "y"
        },
        {
         "customdata": [
          [
           62,
           42,
           "Italy",
           "2/22/20"
          ],
          [
           155,
           93,
           "Italy",
           "2/23/20"
          ],
          [
           229,
           74,
           "Italy",
           "2/24/20"
          ],
          [
           322,
           93,
           "Italy",
           "2/25/20"
          ],
          [
           453,
           131,
           "Italy",
           "2/26/20"
          ],
          [
           655,
           202,
           "Italy",
           "2/27/20"
          ],
          [
           888,
           233,
           "Italy",
           "2/28/20"
          ],
          [
           1128,
           240,
           "Italy",
           "2/29/20"
          ],
          [
           1694,
           566,
           "Italy",
           "3/1/20"
          ],
          [
           2036,
           342,
           "Italy",
           "3/2/20"
          ],
          [
           2502,
           466,
           "Italy",
           "3/3/20"
          ],
          [
           3089,
           587,
           "Italy",
           "3/4/20"
          ],
          [
           3858,
           769,
           "Italy",
           "3/5/20"
          ],
          [
           4636,
           778,
           "Italy",
           "3/6/20"
          ],
          [
           5883,
           1247,
           "Italy",
           "3/7/20"
          ],
          [
           7375,
           1492,
           "Italy",
           "3/8/20"
          ],
          [
           9172,
           1797,
           "Italy",
           "3/9/20"
          ],
          [
           10149,
           977,
           "Italy",
           "3/10/20"
          ],
          [
           12462,
           2313,
           "Italy",
           "3/11/20"
          ],
          [
           12462,
           0,
           "Italy",
           "3/12/20"
          ],
          [
           17660,
           5198,
           "Italy",
           "3/13/20"
          ],
          [
           21157,
           3497,
           "Italy",
           "3/14/20"
          ],
          [
           24747,
           3590,
           "Italy",
           "3/15/20"
          ],
          [
           27980,
           3233,
           "Italy",
           "3/16/20"
          ],
          [
           31506,
           3526,
           "Italy",
           "3/17/20"
          ],
          [
           35713,
           4207,
           "Italy",
           "3/18/20"
          ],
          [
           41035,
           5322,
           "Italy",
           "3/19/20"
          ],
          [
           47021,
           5986,
           "Italy",
           "3/20/20"
          ],
          [
           53578,
           6557,
           "Italy",
           "3/21/20"
          ],
          [
           59138,
           5560,
           "Italy",
           "3/22/20"
          ],
          [
           63927,
           4789,
           "Italy",
           "3/23/20"
          ],
          [
           69176,
           5249,
           "Italy",
           "3/24/20"
          ],
          [
           74386,
           5210,
           "Italy",
           "3/25/20"
          ],
          [
           80589,
           6203,
           "Italy",
           "3/26/20"
          ],
          [
           86498,
           5909,
           "Italy",
           "3/27/20"
          ],
          [
           92472,
           5974,
           "Italy",
           "3/28/20"
          ],
          [
           97689,
           5217,
           "Italy",
           "3/29/20"
          ],
          [
           101739,
           4050,
           "Italy",
           "3/30/20"
          ],
          [
           105792,
           4053,
           "Italy",
           "3/31/20"
          ],
          [
           110574,
           4782,
           "Italy",
           "4/1/20"
          ],
          [
           115242,
           4668,
           "Italy",
           "4/2/20"
          ],
          [
           119827,
           4585,
           "Italy",
           "4/3/20"
          ],
          [
           124632,
           4805,
           "Italy",
           "4/4/20"
          ],
          [
           128948,
           4316,
           "Italy",
           "4/5/20"
          ],
          [
           132547,
           3599,
           "Italy",
           "4/6/20"
          ],
          [
           135586,
           3039,
           "Italy",
           "4/7/20"
          ],
          [
           139422,
           3836,
           "Italy",
           "4/8/20"
          ],
          [
           143626,
           4204,
           "Italy",
           "4/9/20"
          ],
          [
           147577,
           3951,
           "Italy",
           "4/10/20"
          ],
          [
           152271,
           4694,
           "Italy",
           "4/11/20"
          ],
          [
           156363,
           4092,
           "Italy",
           "4/12/20"
          ],
          [
           159516,
           3153,
           "Italy",
           "4/13/20"
          ],
          [
           162488,
           2972,
           "Italy",
           "4/14/20"
          ],
          [
           165155,
           2667,
           "Italy",
           "4/15/20"
          ],
          [
           168941,
           3786,
           "Italy",
           "4/16/20"
          ],
          [
           172434,
           3493,
           "Italy",
           "4/17/20"
          ],
          [
           175925,
           3491,
           "Italy",
           "4/18/20"
          ],
          [
           178972,
           3047,
           "Italy",
           "4/19/20"
          ],
          [
           181228,
           2256,
           "Italy",
           "4/20/20"
          ],
          [
           183957,
           2729,
           "Italy",
           "4/21/20"
          ],
          [
           187327,
           3370,
           "Italy",
           "4/22/20"
          ],
          [
           189973,
           2646,
           "Italy",
           "4/23/20"
          ],
          [
           192994,
           3021,
           "Italy",
           "4/24/20"
          ],
          [
           195351,
           2357,
           "Italy",
           "4/25/20"
          ],
          [
           197675,
           2324,
           "Italy",
           "4/26/20"
          ],
          [
           199414,
           1739,
           "Italy",
           "4/27/20"
          ],
          [
           201505,
           2091,
           "Italy",
           "4/28/20"
          ],
          [
           203591,
           2086,
           "Italy",
           "4/29/20"
          ],
          [
           205463,
           1872,
           "Italy",
           "4/30/20"
          ],
          [
           207428,
           1965,
           "Italy",
           "5/1/20"
          ],
          [
           209328,
           1900,
           "Italy",
           "5/2/20"
          ],
          [
           210717,
           1389,
           "Italy",
           "5/3/20"
          ],
          [
           211938,
           1221,
           "Italy",
           "5/4/20"
          ]
         ],
         "hoverlabel": {
          "namelength": 0
         },
         "hovertemplate": "Country =%{customdata[2]}<br>Mean growth over 14d compared to max growth =%{x}<br>% cases from last 14d =%{y}<br>Confirmed Cases=%{customdata[0]}<br>Confirmed Cases today =%{customdata[1]}<br>Date=%{customdata[3]}",
         "legendgroup": "Italy",
         "marker": {
          "color": "#EF553B",
          "size": [
           62,
           155,
           229,
           322,
           453,
           655,
           888,
           1128,
           1694,
           2036,
           2502,
           3089,
           3858,
           4636,
           5883,
           7375,
           9172,
           10149,
           12462,
           12462,
           17660,
           21157,
           24747,
           27980,
           31506,
           35713,
           41035,
           47021,
           53578,
           59138,
           63927,
           69176,
           74386,
           80589,
           86498,
           92472,
           97689,
           101739,
           105792,
           110574,
           115242,
           119827,
           124632,
           128948,
           132547,
           135586,
           139422,
           143626,
           147577,
           152271,
           156363,
           159516,
           162488,
           165155,
           168941,
           172434,
           175925,
           178972,
           181228,
           183957,
           187327,
           189973,
           192994,
           195351,
           197675,
           199414,
           201505,
           203591,
           205463,
           207428,
           209328,
           210717,
           211938
          ],
          "sizemode": "area",
          "sizeref": 2950.9375,
          "symbol": "circle"
         },
         "mode": "lines+markers",
         "name": "Italy",
         "showlegend": true,
         "type": "scattergl",
         "x": [
          0.1,
          0.2,
          0.3,
          0.4,
          0.5,
          0.8,
          1,
          1.3,
          1.9,
          2.3,
          2.9,
          3.6,
          4.4,
          5.3,
          6.7,
          8.3,
          10.3,
          11.3,
          13.8,
          13.6,
          19.3,
          23.1,
          26.5,
          29.9,
          33.4,
          37.6,
          42.8,
          48.8,
          54.9,
          59.6,
          63.1,
          68,
          71.3,
          78.4,
          79.3,
          82.1,
          84,
          84.9,
          85.5,
          86.2,
          85.5,
          83.8,
          81.8,
          80.4,
          79,
          76.5,
          74.9,
          72.6,
          70.3,
          68.9,
          67.6,
          66.5,
          65.3,
          62.9,
          61.8,
          60.6,
          59.1,
          57.6,
          56.1,
          55.7,
          55.2,
          53.4,
          52.3,
          49.6,
          47.6,
          45.9,
          44.9,
          44.3,
          42.1,
          40.3,
          38.5,
          36.6,
          35.4
         ],
         "xaxis": "x",
         "y": [
          95.2,
          98.1,
          98.7,
          99.1,
          99.3,
          99.5,
          99.7,
          99.7,
          99.8,
          99.9,
          99.9,
          99.9,
          99.9,
          99.6,
          98.9,
          97.9,
          97.5,
          96.8,
          96.4,
          94.7,
          95,
          94.7,
          93.2,
          92.7,
          92.1,
          91.4,
          90.6,
          90.1,
          89,
          87.5,
          85.7,
          85.3,
          83.2,
          84.5,
          79.6,
          77.1,
          74.7,
          72.5,
          70.2,
          67.7,
          64.4,
          60.8,
          57,
          54.1,
          51.8,
          49,
          46.6,
          43.9,
          41.4,
          39.3,
          37.5,
          36.2,
          34.9,
          33,
          31.8,
          30.5,
          29.2,
          28,
          26.9,
          26.3,
          25.6,
          24.4,
          23.5,
          22.1,
          20.9,
          20,
          19.4,
          18.9,
          17.8,
          16.9,
          16,
          15.1,
          14.5
         ],
         "yaxis": "y"
        },
        {
         "customdata": [
          [
           53,
           12,
           "Mexico",
           "3/15/20"
          ],
          [
           82,
           29,
           "Mexico",
           "3/16/20"
          ],
          [
           93,
           11,
           "Mexico",
           "3/17/20"
          ],
          [
           118,
           25,
           "Mexico",
           "3/18/20"
          ],
          [
           164,
           46,
           "Mexico",
           "3/19/20"
          ],
          [
           203,
           39,
           "Mexico",
           "3/20/20"
          ],
          [
           251,
           48,
           "Mexico",
           "3/21/20"
          ],
          [
           316,
           65,
           "Mexico",
           "3/22/20"
          ],
          [
           367,
           51,
           "Mexico",
           "3/23/20"
          ],
          [
           405,
           38,
           "Mexico",
           "3/24/20"
          ],
          [
           475,
           70,
           "Mexico",
           "3/25/20"
          ],
          [
           585,
           110,
           "Mexico",
           "3/26/20"
          ],
          [
           717,
           132,
           "Mexico",
           "3/27/20"
          ],
          [
           848,
           131,
           "Mexico",
           "3/28/20"
          ],
          [
           993,
           145,
           "Mexico",
           "3/29/20"
          ],
          [
           1094,
           101,
           "Mexico",
           "3/30/20"
          ],
          [
           1215,
           121,
           "Mexico",
           "3/31/20"
          ],
          [
           1378,
           163,
           "Mexico",
           "4/1/20"
          ],
          [
           1510,
           132,
           "Mexico",
           "4/2/20"
          ],
          [
           1688,
           178,
           "Mexico",
           "4/3/20"
          ],
          [
           1890,
           202,
           "Mexico",
           "4/4/20"
          ],
          [
           2143,
           253,
           "Mexico",
           "4/5/20"
          ],
          [
           2439,
           296,
           "Mexico",
           "4/6/20"
          ],
          [
           2785,
           346,
           "Mexico",
           "4/7/20"
          ],
          [
           3181,
           396,
           "Mexico",
           "4/8/20"
          ],
          [
           3441,
           260,
           "Mexico",
           "4/9/20"
          ],
          [
           3844,
           403,
           "Mexico",
           "4/10/20"
          ],
          [
           4219,
           375,
           "Mexico",
           "4/11/20"
          ],
          [
           4661,
           442,
           "Mexico",
           "4/12/20"
          ],
          [
           5014,
           353,
           "Mexico",
           "4/13/20"
          ],
          [
           5399,
           385,
           "Mexico",
           "4/14/20"
          ],
          [
           5847,
           448,
           "Mexico",
           "4/15/20"
          ],
          [
           6297,
           450,
           "Mexico",
           "4/16/20"
          ],
          [
           6875,
           578,
           "Mexico",
           "4/17/20"
          ],
          [
           7497,
           622,
           "Mexico",
           "4/18/20"
          ],
          [
           8261,
           764,
           "Mexico",
           "4/19/20"
          ],
          [
           8772,
           511,
           "Mexico",
           "4/20/20"
          ],
          [
           9501,
           729,
           "Mexico",
           "4/21/20"
          ],
          [
           10544,
           1043,
           "Mexico",
           "4/22/20"
          ],
          [
           11633,
           1089,
           "Mexico",
           "4/23/20"
          ],
          [
           12872,
           1239,
           "Mexico",
           "4/24/20"
          ],
          [
           13842,
           970,
           "Mexico",
           "4/25/20"
          ],
          [
           14677,
           835,
           "Mexico",
           "4/26/20"
          ],
          [
           15529,
           852,
           "Mexico",
           "4/27/20"
          ],
          [
           16752,
           1223,
           "Mexico",
           "4/28/20"
          ],
          [
           17799,
           1047,
           "Mexico",
           "4/29/20"
          ],
          [
           19224,
           1425,
           "Mexico",
           "4/30/20"
          ],
          [
           20739,
           1515,
           "Mexico",
           "5/1/20"
          ],
          [
           22088,
           1349,
           "Mexico",
           "5/2/20"
          ],
          [
           23471,
           1383,
           "Mexico",
           "5/3/20"
          ],
          [
           24905,
           1434,
           "Mexico",
           "5/4/20"
          ]
         ],
         "hoverlabel": {
          "namelength": 0
         },
         "hovertemplate": "Country =%{customdata[2]}<br>Mean growth over 14d compared to max growth =%{x}<br>% cases from last 14d =%{y}<br>Confirmed Cases=%{customdata[0]}<br>Confirmed Cases today =%{customdata[1]}<br>Date=%{customdata[3]}",
         "legendgroup": "Mexico",
         "marker": {
          "color": "#00cc96",
          "size": [
           53,
           82,
           93,
           118,
           164,
           203,
           251,
           316,
           367,
           405,
           475,
           585,
           717,
           848,
           993,
           1094,
           1215,
           1378,
           1510,
           1688,
           1890,
           2143,
           2439,
           2785,
           3181,
           3441,
           3844,
           4219,
           4661,
           5014,
           5399,
           5847,
           6297,
           6875,
           7497,
           8261,
           8772,
           9501,
           10544,
           11633,
           12872,
           13842,
           14677,
           15529,
           16752,
           17799,
           19224,
           20739,
           22088,
           23471,
           24905
          ],
          "sizemode": "area",
          "sizeref": 2950.9375,
          "symbol": "circle"
         },
         "mode": "lines+markers",
         "name": "Mexico",
         "showlegend": true,
         "type": "scattergl",
         "x": [
          0.2,
          0.4,
          0.4,
          0.6,
          0.8,
          1,
          1.2,
          1.5,
          1.8,
          2,
          2.3,
          2.9,
          3.4,
          4,
          4.7,
          5,
          5.6,
          6.3,
          6.7,
          7.4,
          8.2,
          9.1,
          10.3,
          11.9,
          13.5,
          14.2,
          15.6,
          16.8,
          18.3,
          19.5,
          20.8,
          22.3,
          23.8,
          25.8,
          27.9,
          30.5,
          31.5,
          33.5,
          36.7,
          40.8,
          45,
          47.9,
          49.9,
          52.4,
          56.6,
          59.5,
          64.4,
          69.1,
          72.7,
          75.8,
          80.4
         ],
         "xaxis": "x",
         "y": [
          90.6,
          93.9,
          94.6,
          95.8,
          97,
          97,
          97.6,
          97.8,
          98.1,
          98.3,
          98.3,
          97.9,
          96.4,
          95.2,
          94.7,
          92.5,
          92.3,
          91.4,
          89.1,
          88,
          86.7,
          85.3,
          85,
          85.5,
          85.1,
          83,
          81.3,
          79.9,
          78.7,
          78.2,
          77.5,
          76.4,
          76,
          75.4,
          74.8,
          74.1,
          72.2,
          70.7,
          69.8,
          70.4,
          70.1,
          69.5,
          68.2,
          67.7,
          67.8,
          67.1,
          67.2,
          66.8,
          66.1,
          64.8,
          64.8
         ],
         "yaxis": "y"
        },
        {
         "customdata": [
          [
           82,
           44,
           "Netherlands",
           "3/5/20"
          ],
          [
           128,
           46,
           "Netherlands",
           "3/6/20"
          ],
          [
           188,
           60,
           "Netherlands",
           "3/7/20"
          ],
          [
           265,
           77,
           "Netherlands",
           "3/8/20"
          ],
          [
           321,
           56,
           "Netherlands",
           "3/9/20"
          ],
          [
           382,
           61,
           "Netherlands",
           "3/10/20"
          ],
          [
           503,
           121,
           "Netherlands",
           "3/11/20"
          ],
          [
           503,
           0,
           "Netherlands",
           "3/12/20"
          ],
          [
           806,
           303,
           "Netherlands",
           "3/13/20"
          ],
          [
           962,
           156,
           "Netherlands",
           "3/14/20"
          ],
          [
           1138,
           176,
           "Netherlands",
           "3/15/20"
          ],
          [
           1416,
           278,
           "Netherlands",
           "3/16/20"
          ],
          [
           1711,
           295,
           "Netherlands",
           "3/17/20"
          ],
          [
           2058,
           347,
           "Netherlands",
           "3/18/20"
          ],
          [
           2467,
           409,
           "Netherlands",
           "3/19/20"
          ],
          [
           3003,
           536,
           "Netherlands",
           "3/20/20"
          ],
          [
           3640,
           637,
           "Netherlands",
           "3/21/20"
          ],
          [
           4217,
           577,
           "Netherlands",
           "3/22/20"
          ],
          [
           4764,
           547,
           "Netherlands",
           "3/23/20"
          ],
          [
           5580,
           816,
           "Netherlands",
           "3/24/20"
          ],
          [
           6438,
           858,
           "Netherlands",
           "3/25/20"
          ],
          [
           7468,
           1030,
           "Netherlands",
           "3/26/20"
          ],
          [
           8647,
           1179,
           "Netherlands",
           "3/27/20"
          ],
          [
           9819,
           1172,
           "Netherlands",
           "3/28/20"
          ],
          [
           10930,
           1111,
           "Netherlands",
           "3/29/20"
          ],
          [
           11817,
           887,
           "Netherlands",
           "3/30/20"
          ],
          [
           12667,
           850,
           "Netherlands",
           "3/31/20"
          ],
          [
           13696,
           1029,
           "Netherlands",
           "4/1/20"
          ],
          [
           14788,
           1092,
           "Netherlands",
           "4/2/20"
          ],
          [
           15821,
           1033,
           "Netherlands",
           "4/3/20"
          ],
          [
           16727,
           906,
           "Netherlands",
           "4/4/20"
          ],
          [
           17953,
           1226,
           "Netherlands",
           "4/5/20"
          ],
          [
           18926,
           973,
           "Netherlands",
           "4/6/20"
          ],
          [
           19709,
           783,
           "Netherlands",
           "4/7/20"
          ],
          [
           20682,
           973,
           "Netherlands",
           "4/8/20"
          ],
          [
           21903,
           1221,
           "Netherlands",
           "4/9/20"
          ],
          [
           23249,
           1346,
           "Netherlands",
           "4/10/20"
          ],
          [
           24571,
           1322,
           "Netherlands",
           "4/11/20"
          ],
          [
           25746,
           1175,
           "Netherlands",
           "4/12/20"
          ],
          [
           26710,
           964,
           "Netherlands",
           "4/13/20"
          ],
          [
           27580,
           870,
           "Netherlands",
           "4/14/20"
          ],
          [
           28316,
           736,
           "Netherlands",
           "4/15/20"
          ],
          [
           29383,
           1067,
           "Netherlands",
           "4/16/20"
          ],
          [
           30619,
           1236,
           "Netherlands",
           "4/17/20"
          ],
          [
           31766,
           1147,
           "Netherlands",
           "4/18/20"
          ],
          [
           32838,
           1072,
           "Netherlands",
           "4/19/20"
          ],
          [
           33588,
           750,
           "Netherlands",
           "4/20/20"
          ],
          [
           34317,
           729,
           "Netherlands",
           "4/21/20"
          ],
          [
           35032,
           715,
           "Netherlands",
           "4/22/20"
          ],
          [
           35921,
           889,
           "Netherlands",
           "4/23/20"
          ],
          [
           36729,
           808,
           "Netherlands",
           "4/24/20"
          ],
          [
           37384,
           655,
           "Netherlands",
           "4/25/20"
          ],
          [
           38040,
           656,
           "Netherlands",
           "4/26/20"
          ],
          [
           38440,
           400,
           "Netherlands",
           "4/27/20"
          ],
          [
           38612,
           172,
           "Netherlands",
           "4/28/20"
          ],
          [
           38998,
           386,
           "Netherlands",
           "4/29/20"
          ],
          [
           39512,
           514,
           "Netherlands",
           "4/30/20"
          ],
          [
           39989,
           477,
           "Netherlands",
           "5/1/20"
          ],
          [
           40434,
           445,
           "Netherlands",
           "5/2/20"
          ],
          [
           40769,
           335,
           "Netherlands",
           "5/3/20"
          ],
          [
           40968,
           199,
           "Netherlands",
           "5/4/20"
          ]
         ],
         "hoverlabel": {
          "namelength": 0
         },
         "hovertemplate": "Country =%{customdata[2]}<br>Mean growth over 14d compared to max growth =%{x}<br>% cases from last 14d =%{y}<br>Confirmed Cases=%{customdata[0]}<br>Confirmed Cases today =%{customdata[1]}<br>Date=%{customdata[3]}",
         "legendgroup": "Netherlands",
         "marker": {
          "color": "#ab63fa",
          "size": [
           82,
           128,
           188,
           265,
           321,
           382,
           503,
           503,
           806,
           962,
           1138,
           1416,
           1711,
           2058,
           2467,
           3003,
           3640,
           4217,
           4764,
           5580,
           6438,
           7468,
           8647,
           9819,
           10930,
           11817,
           12667,
           13696,
           14788,
           15821,
           16727,
           17953,
           18926,
           19709,
           20682,
           21903,
           23249,
           24571,
           25746,
           26710,
           27580,
           28316,
           29383,
           30619,
           31766,
           32838,
           33588,
           34317,
           35032,
           35921,
           36729,
           37384,
           38040,
           38440,
           38612,
           38998,
           39512,
           39989,
           40434,
           40769,
           40968
          ],
          "sizemode": "area",
          "sizeref": 2950.9375,
          "symbol": "circle"
         },
         "mode": "lines+markers",
         "name": "Netherlands",
         "showlegend": true,
         "type": "scattergl",
         "x": [
          0.4,
          0.7,
          1,
          1.4,
          1.7,
          2.1,
          2.7,
          2.7,
          4.3,
          5.2,
          6.1,
          7.6,
          9.1,
          10.9,
          12.9,
          15.5,
          18.7,
          21.4,
          24,
          28.1,
          32.1,
          37.6,
          42.4,
          47.9,
          52.9,
          56.2,
          59.2,
          62.9,
          66.6,
          69.3,
          70.7,
          74.2,
          76.5,
          76.3,
          77,
          78,
          78.9,
          79.7,
          80.1,
          80.5,
          80.6,
          79,
          78.9,
          80,
          81.3,
          80.4,
          79.2,
          78.9,
          77.5,
          75.7,
          72.8,
          69.2,
          66.4,
          63.4,
          59.6,
          57.7,
          54.7,
          50.6,
          46.8,
          42.9,
          39.9
         ],
         "xaxis": "x",
         "y": [
          100,
          100,
          100,
          100,
          100,
          100,
          100,
          99.8,
          99.9,
          99.4,
          99.1,
          98.7,
          98.6,
          98.2,
          96.7,
          95.7,
          94.8,
          93.7,
          93.3,
          93.2,
          92.2,
          93.3,
          90.7,
          90.2,
          89.6,
          88,
          86.5,
          85,
          83.3,
          81,
          78.2,
          76.5,
          74.8,
          71.7,
          68.9,
          65.9,
          62.8,
          60,
          57.5,
          55.8,
          54.1,
          51.6,
          49.7,
          48.3,
          47.3,
          45.3,
          43.7,
          42.6,
          41,
          39,
          36.7,
          34.3,
          32.3,
          30.5,
          28.6,
          27.4,
          25.6,
          23.4,
          21.4,
          19.5,
          18
         ],
         "yaxis": "y"
        },
        {
         "customdata": [
          [
           53,
           22,
           "Pakistan",
           "3/15/20"
          ],
          [
           136,
           83,
           "Pakistan",
           "3/16/20"
          ],
          [
           236,
           100,
           "Pakistan",
           "3/17/20"
          ],
          [
           299,
           63,
           "Pakistan",
           "3/18/20"
          ],
          [
           454,
           155,
           "Pakistan",
           "3/19/20"
          ],
          [
           501,
           47,
           "Pakistan",
           "3/20/20"
          ],
          [
           730,
           229,
           "Pakistan",
           "3/21/20"
          ],
          [
           776,
           46,
           "Pakistan",
           "3/22/20"
          ],
          [
           875,
           99,
           "Pakistan",
           "3/23/20"
          ],
          [
           972,
           97,
           "Pakistan",
           "3/24/20"
          ],
          [
           1063,
           91,
           "Pakistan",
           "3/25/20"
          ],
          [
           1201,
           138,
           "Pakistan",
           "3/26/20"
          ],
          [
           1373,
           172,
           "Pakistan",
           "3/27/20"
          ],
          [
           1495,
           122,
           "Pakistan",
           "3/28/20"
          ],
          [
           1597,
           102,
           "Pakistan",
           "3/29/20"
          ],
          [
           1717,
           120,
           "Pakistan",
           "3/30/20"
          ],
          [
           1938,
           221,
           "Pakistan",
           "3/31/20"
          ],
          [
           2118,
           180,
           "Pakistan",
           "4/1/20"
          ],
          [
           2421,
           303,
           "Pakistan",
           "4/2/20"
          ],
          [
           2686,
           265,
           "Pakistan",
           "4/3/20"
          ],
          [
           2818,
           132,
           "Pakistan",
           "4/4/20"
          ],
          [
           3157,
           339,
           "Pakistan",
           "4/5/20"
          ],
          [
           3766,
           609,
           "Pakistan",
           "4/6/20"
          ],
          [
           4035,
           269,
           "Pakistan",
           "4/7/20"
          ],
          [
           4263,
           228,
           "Pakistan",
           "4/8/20"
          ],
          [
           4489,
           226,
           "Pakistan",
           "4/9/20"
          ],
          [
           4695,
           206,
           "Pakistan",
           "4/10/20"
          ],
          [
           5011,
           316,
           "Pakistan",
           "4/11/20"
          ],
          [
           5230,
           219,
           "Pakistan",
           "4/12/20"
          ],
          [
           5496,
           266,
           "Pakistan",
           "4/13/20"
          ],
          [
           5837,
           341,
           "Pakistan",
           "4/14/20"
          ],
          [
           6383,
           546,
           "Pakistan",
           "4/15/20"
          ],
          [
           6919,
           536,
           "Pakistan",
           "4/16/20"
          ],
          [
           7025,
           106,
           "Pakistan",
           "4/17/20"
          ],
          [
           7638,
           613,
           "Pakistan",
           "4/18/20"
          ],
          [
           8348,
           710,
           "Pakistan",
           "4/19/20"
          ],
          [
           8418,
           70,
           "Pakistan",
           "4/20/20"
          ],
          [
           9565,
           1147,
           "Pakistan",
           "4/21/20"
          ],
          [
           10076,
           511,
           "Pakistan",
           "4/22/20"
          ],
          [
           11155,
           1079,
           "Pakistan",
           "4/23/20"
          ],
          [
           11940,
           785,
           "Pakistan",
           "4/24/20"
          ],
          [
           12723,
           783,
           "Pakistan",
           "4/25/20"
          ],
          [
           13328,
           605,
           "Pakistan",
           "4/26/20"
          ],
          [
           13915,
           587,
           "Pakistan",
           "4/27/20"
          ],
          [
           14612,
           697,
           "Pakistan",
           "4/28/20"
          ],
          [
           15525,
           913,
           "Pakistan",
           "4/29/20"
          ],
          [
           16817,
           1292,
           "Pakistan",
           "4/30/20"
          ],
          [
           18114,
           1297,
           "Pakistan",
           "5/1/20"
          ],
          [
           19103,
           989,
           "Pakistan",
           "5/2/20"
          ],
          [
           20084,
           981,
           "Pakistan",
           "5/3/20"
          ],
          [
           20941,
           857,
           "Pakistan",
           "5/4/20"
          ]
         ],
         "hoverlabel": {
          "namelength": 0
         },
         "hovertemplate": "Country =%{customdata[2]}<br>Mean growth over 14d compared to max growth =%{x}<br>% cases from last 14d =%{y}<br>Confirmed Cases=%{customdata[0]}<br>Confirmed Cases today =%{customdata[1]}<br>Date=%{customdata[3]}",
         "legendgroup": "Pakistan",
         "marker": {
          "color": "#FFA15A",
          "size": [
           53,
           136,
           236,
           299,
           454,
           501,
           730,
           776,
           875,
           972,
           1063,
           1201,
           1373,
           1495,
           1597,
           1717,
           1938,
           2118,
           2421,
           2686,
           2818,
           3157,
           3766,
           4035,
           4263,
           4489,
           4695,
           5011,
           5230,
           5496,
           5837,
           6383,
           6919,
           7025,
           7638,
           8348,
           8418,
           9565,
           10076,
           11155,
           11940,
           12723,
           13328,
           13915,
           14612,
           15525,
           16817,
           18114,
           19103,
           20084,
           20941
          ],
          "sizemode": "area",
          "sizeref": 2950.9375,
          "symbol": "circle"
         },
         "mode": "lines+markers",
         "name": "Pakistan",
         "showlegend": true,
         "type": "scattergl",
         "x": [
          0.3,
          0.7,
          1.3,
          1.6,
          2.5,
          2.7,
          4,
          4.3,
          4.8,
          5.3,
          5.8,
          6.5,
          7.4,
          8.1,
          8.5,
          8.7,
          9.4,
          10.1,
          10.9,
          12.1,
          11.5,
          13.2,
          16,
          16.9,
          17.7,
          18.2,
          18.4,
          19.4,
          20.1,
          20.9,
          21.6,
          23.6,
          24.9,
          24,
          26.6,
          28.7,
          25.7,
          30.6,
          32.1,
          36.9,
          40.1,
          42.6,
          44.8,
          46.5,
          48.5,
          50.5,
          54.7,
          61.3,
          63.4,
          64.9,
          69.2
         ],
         "xaxis": "x",
         "y": [
          92.5,
          97.1,
          97.9,
          98.3,
          98.9,
          98.8,
          99.2,
          99.2,
          99.3,
          98.4,
          98.2,
          98.3,
          98,
          97.9,
          96.7,
          92.1,
          87.8,
          85.9,
          81.2,
          81.3,
          74.1,
          75.4,
          76.8,
          75.9,
          75.1,
          73.2,
          70.8,
          70.2,
          69.5,
          68.8,
          66.8,
          66.8,
          65,
          61.8,
          63.1,
          62.2,
          55.3,
          57.8,
          57.7,
          59.8,
          60.7,
          60.6,
          60.8,
          60.5,
          60.1,
          58.9,
          58.9,
          61.2,
          60,
          58.4,
          59.8
         ],
         "yaxis": "y"
        },
        {
         "customdata": [
          [
           86,
           43,
           "Peru",
           "3/16/20"
          ],
          [
           117,
           31,
           "Peru",
           "3/17/20"
          ],
          [
           145,
           28,
           "Peru",
           "3/18/20"
          ],
          [
           234,
           89,
           "Peru",
           "3/19/20"
          ],
          [
           234,
           0,
           "Peru",
           "3/20/20"
          ],
          [
           318,
           84,
           "Peru",
           "3/21/20"
          ],
          [
           363,
           45,
           "Peru",
           "3/22/20"
          ],
          [
           395,
           32,
           "Peru",
           "3/23/20"
          ],
          [
           416,
           21,
           "Peru",
           "3/24/20"
          ],
          [
           480,
           64,
           "Peru",
           "3/25/20"
          ],
          [
           580,
           100,
           "Peru",
           "3/26/20"
          ],
          [
           635,
           55,
           "Peru",
           "3/27/20"
          ],
          [
           671,
           36,
           "Peru",
           "3/28/20"
          ],
          [
           852,
           181,
           "Peru",
           "3/29/20"
          ],
          [
           950,
           98,
           "Peru",
           "3/30/20"
          ],
          [
           1065,
           115,
           "Peru",
           "3/31/20"
          ],
          [
           1323,
           258,
           "Peru",
           "4/1/20"
          ],
          [
           1414,
           91,
           "Peru",
           "4/2/20"
          ],
          [
           1595,
           181,
           "Peru",
           "4/3/20"
          ],
          [
           1746,
           151,
           "Peru",
           "4/4/20"
          ],
          [
           2281,
           535,
           "Peru",
           "4/5/20"
          ],
          [
           2561,
           280,
           "Peru",
           "4/6/20"
          ],
          [
           2954,
           393,
           "Peru",
           "4/7/20"
          ],
          [
           4342,
           1388,
           "Peru",
           "4/8/20"
          ],
          [
           5256,
           914,
           "Peru",
           "4/9/20"
          ],
          [
           5897,
           641,
           "Peru",
           "4/10/20"
          ],
          [
           6848,
           951,
           "Peru",
           "4/11/20"
          ],
          [
           7519,
           671,
           "Peru",
           "4/12/20"
          ],
          [
           9784,
           2265,
           "Peru",
           "4/13/20"
          ],
          [
           10303,
           519,
           "Peru",
           "4/14/20"
          ],
          [
           11475,
           1172,
           "Peru",
           "4/15/20"
          ],
          [
           12491,
           1016,
           "Peru",
           "4/16/20"
          ],
          [
           13489,
           998,
           "Peru",
           "4/17/20"
          ],
          [
           14420,
           931,
           "Peru",
           "4/18/20"
          ],
          [
           15628,
           1208,
           "Peru",
           "4/19/20"
          ],
          [
           16325,
           697,
           "Peru",
           "4/20/20"
          ],
          [
           17837,
           1512,
           "Peru",
           "4/21/20"
          ],
          [
           19250,
           1413,
           "Peru",
           "4/22/20"
          ],
          [
           20914,
           1664,
           "Peru",
           "4/23/20"
          ],
          [
           21648,
           734,
           "Peru",
           "4/24/20"
          ],
          [
           25331,
           3683,
           "Peru",
           "4/25/20"
          ],
          [
           27517,
           2186,
           "Peru",
           "4/26/20"
          ],
          [
           28699,
           1182,
           "Peru",
           "4/27/20"
          ],
          [
           31190,
           2491,
           "Peru",
           "4/28/20"
          ],
          [
           33931,
           2741,
           "Peru",
           "4/29/20"
          ],
          [
           36976,
           3045,
           "Peru",
           "4/30/20"
          ],
          [
           40459,
           3483,
           "Peru",
           "5/1/20"
          ],
          [
           42534,
           2075,
           "Peru",
           "5/2/20"
          ],
          [
           45928,
           3394,
           "Peru",
           "5/3/20"
          ],
          [
           47372,
           1444,
           "Peru",
           "5/4/20"
          ]
         ],
         "hoverlabel": {
          "namelength": 0
         },
         "hovertemplate": "Country =%{customdata[2]}<br>Mean growth over 14d compared to max growth =%{x}<br>% cases from last 14d =%{y}<br>Confirmed Cases=%{customdata[0]}<br>Confirmed Cases today =%{customdata[1]}<br>Date=%{customdata[3]}",
         "legendgroup": "Peru",
         "marker": {
          "color": "#19d3f3",
          "size": [
           86,
           117,
           145,
           234,
           234,
           318,
           363,
           395,
           416,
           480,
           580,
           635,
           671,
           852,
           950,
           1065,
           1323,
           1414,
           1595,
           1746,
           2281,
           2561,
           2954,
           4342,
           5256,
           5897,
           6848,
           7519,
           9784,
           10303,
           11475,
           12491,
           13489,
           14420,
           15628,
           16325,
           17837,
           19250,
           20914,
           21648,
           25331,
           27517,
           28699,
           31190,
           33931,
           36976,
           40459,
           42534,
           45928,
           47372
          ],
          "sizemode": "area",
          "sizeref": 2950.9375,
          "symbol": "circle"
         },
         "mode": "lines+markers",
         "name": "Peru",
         "showlegend": true,
         "type": "scattergl",
         "x": [
          0.2,
          0.2,
          0.3,
          0.5,
          0.5,
          0.7,
          0.7,
          0.8,
          0.8,
          1,
          1.2,
          1.2,
          1.3,
          1.7,
          1.8,
          1.9,
          2.4,
          2.4,
          2.8,
          2.9,
          3.9,
          4.4,
          5.2,
          7.9,
          9.6,
          10.8,
          12.7,
          13.7,
          18.1,
          18.9,
          20.8,
          22.7,
          24.4,
          26,
          27.4,
          28.2,
          30.5,
          30.6,
          32.1,
          32.3,
          37.9,
          41,
          38.8,
          42.8,
          46.1,
          50.2,
          55.3,
          57.7,
          62.1,
          63.7
         ],
         "xaxis": "x",
         "y": [
          100,
          100,
          100,
          100,
          99.6,
          99.7,
          98.3,
          98.2,
          97.4,
          97.7,
          97.4,
          95.6,
          94.3,
          95,
          90.9,
          89,
          89,
          83.5,
          85.3,
          81.8,
          84.1,
          84.6,
          85.9,
          88.9,
          89,
          89.2,
          90.2,
          88.7,
          90.3,
          89.7,
          88.5,
          88.7,
          88.2,
          87.9,
          85.4,
          84.3,
          83.4,
          77.4,
          74.9,
          72.8,
          73,
          72.7,
          65.9,
          67,
          66.2,
          66.2,
          66.7,
          66.1,
          66,
          65.5
         ],
         "yaxis": "y"
        },
        {
         "customdata": [
          [
           59,
           18,
           "Portugal",
           "3/11/20"
          ],
          [
           59,
           0,
           "Portugal",
           "3/12/20"
          ],
          [
           112,
           53,
           "Portugal",
           "3/13/20"
          ],
          [
           169,
           57,
           "Portugal",
           "3/14/20"
          ],
          [
           245,
           76,
           "Portugal",
           "3/15/20"
          ],
          [
           331,
           86,
           "Portugal",
           "3/16/20"
          ],
          [
           448,
           117,
           "Portugal",
           "3/17/20"
          ],
          [
           448,
           0,
           "Portugal",
           "3/18/20"
          ],
          [
           785,
           337,
           "Portugal",
           "3/19/20"
          ],
          [
           1020,
           235,
           "Portugal",
           "3/20/20"
          ],
          [
           1280,
           260,
           "Portugal",
           "3/21/20"
          ],
          [
           1600,
           320,
           "Portugal",
           "3/22/20"
          ],
          [
           2060,
           460,
           "Portugal",
           "3/23/20"
          ],
          [
           2362,
           302,
           "Portugal",
           "3/24/20"
          ],
          [
           2995,
           633,
           "Portugal",
           "3/25/20"
          ],
          [
           3544,
           549,
           "Portugal",
           "3/26/20"
          ],
          [
           4268,
           724,
           "Portugal",
           "3/27/20"
          ],
          [
           5170,
           902,
           "Portugal",
           "3/28/20"
          ],
          [
           5962,
           792,
           "Portugal",
           "3/29/20"
          ],
          [
           6408,
           446,
           "Portugal",
           "3/30/20"
          ],
          [
           7443,
           1035,
           "Portugal",
           "3/31/20"
          ],
          [
           8251,
           808,
           "Portugal",
           "4/1/20"
          ],
          [
           9034,
           783,
           "Portugal",
           "4/2/20"
          ],
          [
           9886,
           852,
           "Portugal",
           "4/3/20"
          ],
          [
           10524,
           638,
           "Portugal",
           "4/4/20"
          ],
          [
           11278,
           754,
           "Portugal",
           "4/5/20"
          ],
          [
           11730,
           452,
           "Portugal",
           "4/6/20"
          ],
          [
           12442,
           712,
           "Portugal",
           "4/7/20"
          ],
          [
           13141,
           699,
           "Portugal",
           "4/8/20"
          ],
          [
           13956,
           815,
           "Portugal",
           "4/9/20"
          ],
          [
           15472,
           1516,
           "Portugal",
           "4/10/20"
          ],
          [
           15987,
           515,
           "Portugal",
           "4/11/20"
          ],
          [
           16585,
           598,
           "Portugal",
           "4/12/20"
          ],
          [
           16934,
           349,
           "Portugal",
           "4/13/20"
          ],
          [
           17448,
           514,
           "Portugal",
           "4/14/20"
          ],
          [
           18091,
           643,
           "Portugal",
           "4/15/20"
          ],
          [
           18841,
           750,
           "Portugal",
           "4/16/20"
          ],
          [
           19022,
           181,
           "Portugal",
           "4/17/20"
          ],
          [
           19685,
           663,
           "Portugal",
           "4/18/20"
          ],
          [
           20206,
           521,
           "Portugal",
           "4/19/20"
          ],
          [
           20863,
           657,
           "Portugal",
           "4/20/20"
          ],
          [
           21379,
           516,
           "Portugal",
           "4/21/20"
          ],
          [
           21982,
           603,
           "Portugal",
           "4/22/20"
          ],
          [
           22353,
           371,
           "Portugal",
           "4/23/20"
          ],
          [
           22797,
           444,
           "Portugal",
           "4/24/20"
          ],
          [
           23392,
           595,
           "Portugal",
           "4/25/20"
          ],
          [
           23864,
           472,
           "Portugal",
           "4/26/20"
          ],
          [
           24027,
           163,
           "Portugal",
           "4/27/20"
          ],
          [
           24322,
           295,
           "Portugal",
           "4/28/20"
          ],
          [
           24505,
           183,
           "Portugal",
           "4/29/20"
          ],
          [
           25045,
           540,
           "Portugal",
           "4/30/20"
          ],
          [
           25351,
           306,
           "Portugal",
           "5/1/20"
          ],
          [
           25190,
           -161,
           "Portugal",
           "5/2/20"
          ],
          [
           25282,
           92,
           "Portugal",
           "5/3/20"
          ],
          [
           25524,
           242,
           "Portugal",
           "5/4/20"
          ]
         ],
         "hoverlabel": {
          "namelength": 0
         },
         "hovertemplate": "Country =%{customdata[2]}<br>Mean growth over 14d compared to max growth =%{x}<br>% cases from last 14d =%{y}<br>Confirmed Cases=%{customdata[0]}<br>Confirmed Cases today =%{customdata[1]}<br>Date=%{customdata[3]}",
         "legendgroup": "Portugal",
         "marker": {
          "color": "#FF6692",
          "size": [
           59,
           59,
           112,
           169,
           245,
           331,
           448,
           448,
           785,
           1020,
           1280,
           1600,
           2060,
           2362,
           2995,
           3544,
           4268,
           5170,
           5962,
           6408,
           7443,
           8251,
           9034,
           9886,
           10524,
           11278,
           11730,
           12442,
           13141,
           13956,
           15472,
           15987,
           16585,
           16934,
           17448,
           18091,
           18841,
           19022,
           19685,
           20206,
           20863,
           21379,
           21982,
           22353,
           22797,
           23392,
           23864,
           24027,
           24322,
           24505,
           25045,
           25351,
           25190,
           25282,
           25524
          ],
          "sizemode": "area",
          "sizeref": 2950.9375,
          "symbol": "circle"
         },
         "mode": "lines+markers",
         "name": "Portugal",
         "showlegend": true,
         "type": "scattergl",
         "x": [
          0.4,
          0.4,
          0.8,
          1.2,
          1.7,
          2.3,
          3.1,
          3.1,
          5.4,
          6.9,
          8.7,
          10.8,
          14,
          16,
          20.3,
          24.1,
          28.7,
          34.5,
          39.5,
          41.9,
          48.3,
          53.9,
          56.9,
          61.2,
          63.8,
          66.8,
          66.7,
          69.6,
          70,
          71.9,
          77.3,
          74.7,
          73.3,
          72.6,
          69,
          67.9,
          67.7,
          63.1,
          63.2,
          61.6,
          63,
          61.7,
          61,
          58,
          50.6,
          51.1,
          50.2,
          49,
          47.4,
          44.3,
          42.8,
          43.7,
          38,
          35,
          32.2
         ],
         "xaxis": "x",
         "y": [
          100,
          100,
          100,
          100,
          100,
          99.4,
          99.6,
          98.9,
          99,
          98.7,
          98.4,
          98.1,
          98.5,
          98.3,
          98,
          98.3,
          97.4,
          96.7,
          95.9,
          94.8,
          94,
          94.6,
          91.3,
          89.7,
          87.8,
          85.8,
          82.4,
          81,
          77.2,
          74.6,
          72.4,
          67.7,
          64.1,
          62.2,
          57.3,
          54.4,
          52.1,
          48,
          46.5,
          44.2,
          43.8,
          41.8,
          40.2,
          37.6,
          32.1,
          31.7,
          30.5,
          29.5,
          28.3,
          26.2,
          24.8,
          25,
          21.9,
          20.1,
          18.3
         ],
         "yaxis": "y"
        },
        {
         "customdata": [
          [
           59,
           14,
           "Russia",
           "3/14/20"
          ],
          [
           63,
           4,
           "Russia",
           "3/15/20"
          ],
          [
           90,
           27,
           "Russia",
           "3/16/20"
          ],
          [
           114,
           24,
           "Russia",
           "3/17/20"
          ],
          [
           147,
           33,
           "Russia",
           "3/18/20"
          ],
          [
           199,
           52,
           "Russia",
           "3/19/20"
          ],
          [
           253,
           54,
           "Russia",
           "3/20/20"
          ],
          [
           306,
           53,
           "Russia",
           "3/21/20"
          ],
          [
           367,
           61,
           "Russia",
           "3/22/20"
          ],
          [
           438,
           71,
           "Russia",
           "3/23/20"
          ],
          [
           495,
           57,
           "Russia",
           "3/24/20"
          ],
          [
           658,
           163,
           "Russia",
           "3/25/20"
          ],
          [
           840,
           182,
           "Russia",
           "3/26/20"
          ],
          [
           1036,
           196,
           "Russia",
           "3/27/20"
          ],
          [
           1264,
           228,
           "Russia",
           "3/28/20"
          ],
          [
           1534,
           270,
           "Russia",
           "3/29/20"
          ],
          [
           1836,
           302,
           "Russia",
           "3/30/20"
          ],
          [
           2337,
           501,
           "Russia",
           "3/31/20"
          ],
          [
           2777,
           440,
           "Russia",
           "4/1/20"
          ],
          [
           3548,
           771,
           "Russia",
           "4/2/20"
          ],
          [
           4149,
           601,
           "Russia",
           "4/3/20"
          ],
          [
           4731,
           582,
           "Russia",
           "4/4/20"
          ],
          [
           5389,
           658,
           "Russia",
           "4/5/20"
          ],
          [
           6343,
           954,
           "Russia",
           "4/6/20"
          ],
          [
           7497,
           1154,
           "Russia",
           "4/7/20"
          ],
          [
           8672,
           1175,
           "Russia",
           "4/8/20"
          ],
          [
           10131,
           1459,
           "Russia",
           "4/9/20"
          ],
          [
           11917,
           1786,
           "Russia",
           "4/10/20"
          ],
          [
           13584,
           1667,
           "Russia",
           "4/11/20"
          ],
          [
           15770,
           2186,
           "Russia",
           "4/12/20"
          ],
          [
           18328,
           2558,
           "Russia",
           "4/13/20"
          ],
          [
           21102,
           2774,
           "Russia",
           "4/14/20"
          ],
          [
           24490,
           3388,
           "Russia",
           "4/15/20"
          ],
          [
           27938,
           3448,
           "Russia",
           "4/16/20"
          ],
          [
           32008,
           4070,
           "Russia",
           "4/17/20"
          ],
          [
           36793,
           4785,
           "Russia",
           "4/18/20"
          ],
          [
           42853,
           6060,
           "Russia",
           "4/19/20"
          ],
          [
           47121,
           4268,
           "Russia",
           "4/20/20"
          ],
          [
           52763,
           5642,
           "Russia",
           "4/21/20"
          ],
          [
           57999,
           5236,
           "Russia",
           "4/22/20"
          ],
          [
           62773,
           4774,
           "Russia",
           "4/23/20"
          ],
          [
           68622,
           5849,
           "Russia",
           "4/24/20"
          ],
          [
           74588,
           5966,
           "Russia",
           "4/25/20"
          ],
          [
           80949,
           6361,
           "Russia",
           "4/26/20"
          ],
          [
           87147,
           6198,
           "Russia",
           "4/27/20"
          ],
          [
           93558,
           6411,
           "Russia",
           "4/28/20"
          ],
          [
           99399,
           5841,
           "Russia",
           "4/29/20"
          ],
          [
           106498,
           7099,
           "Russia",
           "4/30/20"
          ],
          [
           114431,
           7933,
           "Russia",
           "5/1/20"
          ],
          [
           124054,
           9623,
           "Russia",
           "5/2/20"
          ],
          [
           134687,
           10633,
           "Russia",
           "5/3/20"
          ],
          [
           145268,
           10581,
           "Russia",
           "5/4/20"
          ]
         ],
         "hoverlabel": {
          "namelength": 0
         },
         "hovertemplate": "Country =%{customdata[2]}<br>Mean growth over 14d compared to max growth =%{x}<br>% cases from last 14d =%{y}<br>Confirmed Cases=%{customdata[0]}<br>Confirmed Cases today =%{customdata[1]}<br>Date=%{customdata[3]}",
         "legendgroup": "Russia",
         "marker": {
          "color": "#B6E880",
          "size": [
           59,
           63,
           90,
           114,
           147,
           199,
           253,
           306,
           367,
           438,
           495,
           658,
           840,
           1036,
           1264,
           1534,
           1836,
           2337,
           2777,
           3548,
           4149,
           4731,
           5389,
           6343,
           7497,
           8672,
           10131,
           11917,
           13584,
           15770,
           18328,
           21102,
           24490,
           27938,
           32008,
           36793,
           42853,
           47121,
           52763,
           57999,
           62773,
           68622,
           74588,
           80949,
           87147,
           93558,
           99399,
           106498,
           114431,
           124054,
           134687,
           145268
          ],
          "sizemode": "area",
          "sizeref": 2950.9375,
          "symbol": "circle"
         },
         "mode": "lines+markers",
         "name": "Russia",
         "showlegend": true,
         "type": "scattergl",
         "x": [
          0,
          0,
          0.1,
          0.1,
          0.1,
          0.1,
          0.2,
          0.2,
          0.2,
          0.3,
          0.3,
          0.4,
          0.5,
          0.7,
          0.8,
          1,
          1.2,
          1.5,
          1.8,
          2.3,
          2.6,
          3,
          3.4,
          4,
          4.7,
          5.4,
          6.3,
          7.3,
          8.3,
          9.6,
          11.1,
          12.7,
          14.7,
          16.5,
          18.8,
          21.6,
          25.3,
          27.5,
          30.6,
          33.3,
          35.5,
          38.3,
          41.2,
          44,
          46.5,
          48.9,
          50.6,
          53,
          55.6,
          58.9,
          62,
          66.3
         ],
         "xaxis": "x",
         "y": [
          96.6,
          96.8,
          96.7,
          97.4,
          98,
          98,
          94.9,
          95.8,
          95.4,
          96.1,
          96,
          97,
          96.7,
          95.7,
          95.3,
          95.9,
          95.1,
          95.1,
          94.7,
          94.4,
          93.9,
          93.5,
          93.2,
          93.1,
          93.4,
          92.4,
          91.7,
          91.3,
          90.7,
          90.3,
          90,
          88.9,
          88.7,
          87.3,
          87,
          87.1,
          87.4,
          86.5,
          85.8,
          85,
          83.9,
          82.6,
          81.8,
          80.5,
          79,
          77.4,
          75.4,
          73.8,
          72,
          70.3,
          68.2,
          67.6
         ],
         "yaxis": "y"
        },
        {
         "customdata": [
          [
           86,
           41,
           "Saudi Arabia",
           "3/13/20"
          ],
          [
           103,
           17,
           "Saudi Arabia",
           "3/14/20"
          ],
          [
           103,
           0,
           "Saudi Arabia",
           "3/15/20"
          ],
          [
           118,
           15,
           "Saudi Arabia",
           "3/16/20"
          ],
          [
           171,
           53,
           "Saudi Arabia",
           "3/17/20"
          ],
          [
           171,
           0,
           "Saudi Arabia",
           "3/18/20"
          ],
          [
           274,
           103,
           "Saudi Arabia",
           "3/19/20"
          ],
          [
           344,
           70,
           "Saudi Arabia",
           "3/20/20"
          ],
          [
           392,
           48,
           "Saudi Arabia",
           "3/21/20"
          ],
          [
           511,
           119,
           "Saudi Arabia",
           "3/22/20"
          ],
          [
           562,
           51,
           "Saudi Arabia",
           "3/23/20"
          ],
          [
           767,
           205,
           "Saudi Arabia",
           "3/24/20"
          ],
          [
           900,
           133,
           "Saudi Arabia",
           "3/25/20"
          ],
          [
           1012,
           112,
           "Saudi Arabia",
           "3/26/20"
          ],
          [
           1104,
           92,
           "Saudi Arabia",
           "3/27/20"
          ],
          [
           1203,
           99,
           "Saudi Arabia",
           "3/28/20"
          ],
          [
           1299,
           96,
           "Saudi Arabia",
           "3/29/20"
          ],
          [
           1453,
           154,
           "Saudi Arabia",
           "3/30/20"
          ],
          [
           1563,
           110,
           "Saudi Arabia",
           "3/31/20"
          ],
          [
           1720,
           157,
           "Saudi Arabia",
           "4/1/20"
          ],
          [
           1885,
           165,
           "Saudi Arabia",
           "4/2/20"
          ],
          [
           2039,
           154,
           "Saudi Arabia",
           "4/3/20"
          ],
          [
           2179,
           140,
           "Saudi Arabia",
           "4/4/20"
          ],
          [
           2402,
           223,
           "Saudi Arabia",
           "4/5/20"
          ],
          [
           2605,
           203,
           "Saudi Arabia",
           "4/6/20"
          ],
          [
           2795,
           190,
           "Saudi Arabia",
           "4/7/20"
          ],
          [
           2932,
           137,
           "Saudi Arabia",
           "4/8/20"
          ],
          [
           3287,
           355,
           "Saudi Arabia",
           "4/9/20"
          ],
          [
           3651,
           364,
           "Saudi Arabia",
           "4/10/20"
          ],
          [
           4033,
           382,
           "Saudi Arabia",
           "4/11/20"
          ],
          [
           4462,
           429,
           "Saudi Arabia",
           "4/12/20"
          ],
          [
           4934,
           472,
           "Saudi Arabia",
           "4/13/20"
          ],
          [
           5369,
           435,
           "Saudi Arabia",
           "4/14/20"
          ],
          [
           5862,
           493,
           "Saudi Arabia",
           "4/15/20"
          ],
          [
           6380,
           518,
           "Saudi Arabia",
           "4/16/20"
          ],
          [
           7142,
           762,
           "Saudi Arabia",
           "4/17/20"
          ],
          [
           8274,
           1132,
           "Saudi Arabia",
           "4/18/20"
          ],
          [
           9362,
           1088,
           "Saudi Arabia",
           "4/19/20"
          ],
          [
           10484,
           1122,
           "Saudi Arabia",
           "4/20/20"
          ],
          [
           11631,
           1147,
           "Saudi Arabia",
           "4/21/20"
          ],
          [
           12772,
           1141,
           "Saudi Arabia",
           "4/22/20"
          ],
          [
           13930,
           1158,
           "Saudi Arabia",
           "4/23/20"
          ],
          [
           15102,
           1172,
           "Saudi Arabia",
           "4/24/20"
          ],
          [
           16299,
           1197,
           "Saudi Arabia",
           "4/25/20"
          ],
          [
           17522,
           1223,
           "Saudi Arabia",
           "4/26/20"
          ],
          [
           18811,
           1289,
           "Saudi Arabia",
           "4/27/20"
          ],
          [
           20077,
           1266,
           "Saudi Arabia",
           "4/28/20"
          ],
          [
           21402,
           1325,
           "Saudi Arabia",
           "4/29/20"
          ],
          [
           22753,
           1351,
           "Saudi Arabia",
           "4/30/20"
          ],
          [
           24097,
           1344,
           "Saudi Arabia",
           "5/1/20"
          ],
          [
           25459,
           1362,
           "Saudi Arabia",
           "5/2/20"
          ],
          [
           27011,
           1552,
           "Saudi Arabia",
           "5/3/20"
          ],
          [
           28656,
           1645,
           "Saudi Arabia",
           "5/4/20"
          ]
         ],
         "hoverlabel": {
          "namelength": 0
         },
         "hovertemplate": "Country =%{customdata[2]}<br>Mean growth over 14d compared to max growth =%{x}<br>% cases from last 14d =%{y}<br>Confirmed Cases=%{customdata[0]}<br>Confirmed Cases today =%{customdata[1]}<br>Date=%{customdata[3]}",
         "legendgroup": "Saudi Arabia",
         "marker": {
          "color": "#FF97FF",
          "size": [
           86,
           103,
           103,
           118,
           171,
           171,
           274,
           344,
           392,
           511,
           562,
           767,
           900,
           1012,
           1104,
           1203,
           1299,
           1453,
           1563,
           1720,
           1885,
           2039,
           2179,
           2402,
           2605,
           2795,
           2932,
           3287,
           3651,
           4033,
           4462,
           4934,
           5369,
           5862,
           6380,
           7142,
           8274,
           9362,
           10484,
           11631,
           12772,
           13930,
           15102,
           16299,
           17522,
           18811,
           20077,
           21402,
           22753,
           24097,
           25459,
           27011,
           28656
          ],
          "sizemode": "area",
          "sizeref": 2950.9375,
          "symbol": "circle"
         },
         "mode": "lines+markers",
         "name": "Saudi Arabia",
         "showlegend": true,
         "type": "scattergl",
         "x": [
          0.4,
          0.5,
          0.5,
          0.5,
          0.8,
          0.8,
          1.2,
          1.6,
          1.8,
          2.3,
          2.5,
          3.4,
          4,
          4.5,
          4.7,
          5.1,
          5.5,
          6.1,
          6.4,
          7.1,
          7.4,
          7.8,
          8.2,
          8.7,
          9.4,
          9.3,
          9.4,
          10.5,
          11.7,
          13,
          14.6,
          16,
          17.5,
          19.1,
          20.7,
          23.5,
          28.1,
          32,
          36.3,
          40.7,
          45.3,
          49,
          52.7,
          56.5,
          60.1,
          63.9,
          67.7,
          71.5,
          75.4,
          78,
          79.1,
          81.2,
          83.6
         ],
         "xaxis": "x",
         "y": [
          100,
          100,
          100,
          99.2,
          99.4,
          99.4,
          98.2,
          98.5,
          98.7,
          97.8,
          97.3,
          97.4,
          97.7,
          95.6,
          92.2,
          91.4,
          92.1,
          91.9,
          89.1,
          90.1,
          85.5,
          83.1,
          82,
          78.7,
          78.4,
          72.6,
          69.3,
          69.2,
          69.8,
          70.2,
          70.9,
          70.6,
          70.9,
          70.7,
          70.5,
          71.5,
          73.7,
          74.3,
          75.2,
          76,
          77,
          76.4,
          75.8,
          75.3,
          74.5,
          73.8,
          73.3,
          72.6,
          72,
          70.4,
          67.5,
          65.3,
          63.4
         ],
         "yaxis": "y"
        },
        {
         "customdata": [
          [
           84,
           39,
           "Spain",
           "3/1/20"
          ],
          [
           120,
           36,
           "Spain",
           "3/2/20"
          ],
          [
           165,
           45,
           "Spain",
           "3/3/20"
          ],
          [
           222,
           57,
           "Spain",
           "3/4/20"
          ],
          [
           259,
           37,
           "Spain",
           "3/5/20"
          ],
          [
           400,
           141,
           "Spain",
           "3/6/20"
          ],
          [
           500,
           100,
           "Spain",
           "3/7/20"
          ],
          [
           673,
           173,
           "Spain",
           "3/8/20"
          ],
          [
           1073,
           400,
           "Spain",
           "3/9/20"
          ],
          [
           1695,
           622,
           "Spain",
           "3/10/20"
          ],
          [
           2277,
           582,
           "Spain",
           "3/11/20"
          ],
          [
           2277,
           0,
           "Spain",
           "3/12/20"
          ],
          [
           5232,
           2955,
           "Spain",
           "3/13/20"
          ],
          [
           6391,
           1159,
           "Spain",
           "3/14/20"
          ],
          [
           7798,
           1407,
           "Spain",
           "3/15/20"
          ],
          [
           9942,
           2144,
           "Spain",
           "3/16/20"
          ],
          [
           11748,
           1806,
           "Spain",
           "3/17/20"
          ],
          [
           13910,
           2162,
           "Spain",
           "3/18/20"
          ],
          [
           17963,
           4053,
           "Spain",
           "3/19/20"
          ],
          [
           20410,
           2447,
           "Spain",
           "3/20/20"
          ],
          [
           25374,
           4964,
           "Spain",
           "3/21/20"
          ],
          [
           28768,
           3394,
           "Spain",
           "3/22/20"
          ],
          [
           35136,
           6368,
           "Spain",
           "3/23/20"
          ],
          [
           39885,
           4749,
           "Spain",
           "3/24/20"
          ],
          [
           49515,
           9630,
           "Spain",
           "3/25/20"
          ],
          [
           57786,
           8271,
           "Spain",
           "3/26/20"
          ],
          [
           65719,
           7933,
           "Spain",
           "3/27/20"
          ],
          [
           73235,
           7516,
           "Spain",
           "3/28/20"
          ],
          [
           80110,
           6875,
           "Spain",
           "3/29/20"
          ],
          [
           87956,
           7846,
           "Spain",
           "3/30/20"
          ],
          [
           95923,
           7967,
           "Spain",
           "3/31/20"
          ],
          [
           104118,
           8195,
           "Spain",
           "4/1/20"
          ],
          [
           112065,
           7947,
           "Spain",
           "4/2/20"
          ],
          [
           119199,
           7134,
           "Spain",
           "4/3/20"
          ],
          [
           126168,
           6969,
           "Spain",
           "4/4/20"
          ],
          [
           131646,
           5478,
           "Spain",
           "4/5/20"
          ],
          [
           136675,
           5029,
           "Spain",
           "4/6/20"
          ],
          [
           141942,
           5267,
           "Spain",
           "4/7/20"
          ],
          [
           148220,
           6278,
           "Spain",
           "4/8/20"
          ],
          [
           153222,
           5002,
           "Spain",
           "4/9/20"
          ],
          [
           158273,
           5051,
           "Spain",
           "4/10/20"
          ],
          [
           163027,
           4754,
           "Spain",
           "4/11/20"
          ],
          [
           166831,
           3804,
           "Spain",
           "4/12/20"
          ],
          [
           170099,
           3268,
           "Spain",
           "4/13/20"
          ],
          [
           172541,
           2442,
           "Spain",
           "4/14/20"
          ],
          [
           177644,
           5103,
           "Spain",
           "4/15/20"
          ],
          [
           184948,
           7304,
           "Spain",
           "4/16/20"
          ],
          [
           190839,
           5891,
           "Spain",
           "4/17/20"
          ],
          [
           191726,
           887,
           "Spain",
           "4/18/20"
          ],
          [
           198674,
           6948,
           "Spain",
           "4/19/20"
          ],
          [
           200210,
           1536,
           "Spain",
           "4/20/20"
          ],
          [
           204178,
           3968,
           "Spain",
           "4/21/20"
          ],
          [
           208389,
           4211,
           "Spain",
           "4/22/20"
          ],
          [
           213024,
           4635,
           "Spain",
           "4/23/20"
          ],
          [
           202990,
           -10034,
           "Spain",
           "4/24/20"
          ],
          [
           205905,
           2915,
           "Spain",
           "4/25/20"
          ],
          [
           207634,
           1729,
           "Spain",
           "4/26/20"
          ],
          [
           209465,
           1831,
           "Spain",
           "4/27/20"
          ],
          [
           210773,
           1308,
           "Spain",
           "4/28/20"
          ],
          [
           212917,
           2144,
           "Spain",
           "4/29/20"
          ],
          [
           213435,
           518,
           "Spain",
           "4/30/20"
          ],
          [
           213435,
           0,
           "Spain",
           "5/1/20"
          ],
          [
           216582,
           3147,
           "Spain",
           "5/2/20"
          ],
          [
           217466,
           884,
           "Spain",
           "5/3/20"
          ],
          [
           218011,
           545,
           "Spain",
           "5/4/20"
          ]
         ],
         "hoverlabel": {
          "namelength": 0
         },
         "hovertemplate": "Country =%{customdata[2]}<br>Mean growth over 14d compared to max growth =%{x}<br>% cases from last 14d =%{y}<br>Confirmed Cases=%{customdata[0]}<br>Confirmed Cases today =%{customdata[1]}<br>Date=%{customdata[3]}",
         "legendgroup": "Spain",
         "marker": {
          "color": "#FECB52",
          "size": [
           84,
           120,
           165,
           222,
           259,
           400,
           500,
           673,
           1073,
           1695,
           2277,
           2277,
           5232,
           6391,
           7798,
           9942,
           11748,
           13910,
           17963,
           20410,
           25374,
           28768,
           35136,
           39885,
           49515,
           57786,
           65719,
           73235,
           80110,
           87956,
           95923,
           104118,
           112065,
           119199,
           126168,
           131646,
           136675,
           141942,
           148220,
           153222,
           158273,
           163027,
           166831,
           170099,
           172541,
           177644,
           184948,
           190839,
           191726,
           198674,
           200210,
           204178,
           208389,
           213024,
           202990,
           205905,
           207634,
           209465,
           210773,
           212917,
           213435,
           213435,
           216582,
           217466,
           218011
          ],
          "sizemode": "area",
          "sizeref": 2950.9375,
          "symbol": "circle"
         },
         "mode": "lines+markers",
         "name": "Spain",
         "showlegend": true,
         "type": "scattergl",
         "x": [
          0.1,
          0.1,
          0.1,
          0.2,
          0.2,
          0.3,
          0.4,
          0.6,
          0.9,
          1.5,
          2,
          2,
          4.5,
          5.5,
          6.7,
          8.5,
          10,
          11.8,
          15.3,
          17.3,
          21.5,
          24.3,
          29.4,
          33,
          40.8,
          47.9,
          52.2,
          57.7,
          62.4,
          67.4,
          72.7,
          77.9,
          81.3,
          85.3,
          87,
          88.8,
          87.7,
          88.1,
          85.2,
          82.4,
          79.9,
          77.5,
          74.9,
          70.9,
          66.2,
          63.5,
          62.9,
          61.9,
          56.6,
          57.9,
          54.9,
          53.7,
          52,
          51.6,
          38.6,
          37,
          35.2,
          34,
          33,
          30.5,
          24.6,
          19.5,
          21.5,
          16.2,
          15.4
         ],
         "xaxis": "x",
         "y": [
          97.6,
          98.3,
          98.8,
          99.1,
          99.2,
          99.5,
          99.6,
          99.7,
          99.8,
          99.6,
          99.4,
          99.3,
          99.4,
          99.3,
          98.9,
          98.8,
          98.6,
          98.4,
          98.6,
          98,
          98,
          97.7,
          96.9,
          95.8,
          95.4,
          96.1,
          92,
          91.3,
          90.3,
          88.7,
          87.8,
          86.6,
          84,
          82.9,
          79.9,
          78.1,
          74.3,
          71.9,
          66.6,
          62.3,
          58.5,
          55.1,
          52,
          48.3,
          44.4,
          41.4,
          39.4,
          37.5,
          34.2,
          33.7,
          31.7,
          30.5,
          28.9,
          28.1,
          22,
          20.8,
          19.7,
          18.8,
          18.1,
          16.6,
          13.3,
          10.6,
          11.5,
          8.6,
          8.2
         ],
         "yaxis": "y"
        },
        {
         "customdata": [
          [
           94,
           59,
           "Sweden",
           "3/5/20"
          ],
          [
           101,
           7,
           "Sweden",
           "3/6/20"
          ],
          [
           161,
           60,
           "Sweden",
           "3/7/20"
          ],
          [
           203,
           42,
           "Sweden",
           "3/8/20"
          ],
          [
           248,
           45,
           "Sweden",
           "3/9/20"
          ],
          [
           355,
           107,
           "Sweden",
           "3/10/20"
          ],
          [
           500,
           145,
           "Sweden",
           "3/11/20"
          ],
          [
           599,
           99,
           "Sweden",
           "3/12/20"
          ],
          [
           814,
           215,
           "Sweden",
           "3/13/20"
          ],
          [
           961,
           147,
           "Sweden",
           "3/14/20"
          ],
          [
           1022,
           61,
           "Sweden",
           "3/15/20"
          ],
          [
           1103,
           81,
           "Sweden",
           "3/16/20"
          ],
          [
           1190,
           87,
           "Sweden",
           "3/17/20"
          ],
          [
           1279,
           89,
           "Sweden",
           "3/18/20"
          ],
          [
           1439,
           160,
           "Sweden",
           "3/19/20"
          ],
          [
           1639,
           200,
           "Sweden",
           "3/20/20"
          ],
          [
           1763,
           124,
           "Sweden",
           "3/21/20"
          ],
          [
           1934,
           171,
           "Sweden",
           "3/22/20"
          ],
          [
           2046,
           112,
           "Sweden",
           "3/23/20"
          ],
          [
           2286,
           240,
           "Sweden",
           "3/24/20"
          ],
          [
           2526,
           240,
           "Sweden",
           "3/25/20"
          ],
          [
           2840,
           314,
           "Sweden",
           "3/26/20"
          ],
          [
           3069,
           229,
           "Sweden",
           "3/27/20"
          ],
          [
           3447,
           378,
           "Sweden",
           "3/28/20"
          ],
          [
           3700,
           253,
           "Sweden",
           "3/29/20"
          ],
          [
           4028,
           328,
           "Sweden",
           "3/30/20"
          ],
          [
           4435,
           407,
           "Sweden",
           "3/31/20"
          ],
          [
           4947,
           512,
           "Sweden",
           "4/1/20"
          ],
          [
           5568,
           621,
           "Sweden",
           "4/2/20"
          ],
          [
           6131,
           563,
           "Sweden",
           "4/3/20"
          ],
          [
           6443,
           312,
           "Sweden",
           "4/4/20"
          ],
          [
           6830,
           387,
           "Sweden",
           "4/5/20"
          ],
          [
           7206,
           376,
           "Sweden",
           "4/6/20"
          ],
          [
           7693,
           487,
           "Sweden",
           "4/7/20"
          ],
          [
           8419,
           726,
           "Sweden",
           "4/8/20"
          ],
          [
           9141,
           722,
           "Sweden",
           "4/9/20"
          ],
          [
           9685,
           544,
           "Sweden",
           "4/10/20"
          ],
          [
           10151,
           466,
           "Sweden",
           "4/11/20"
          ],
          [
           10483,
           332,
           "Sweden",
           "4/12/20"
          ],
          [
           10948,
           465,
           "Sweden",
           "4/13/20"
          ],
          [
           11445,
           497,
           "Sweden",
           "4/14/20"
          ],
          [
           11927,
           482,
           "Sweden",
           "4/15/20"
          ],
          [
           12540,
           613,
           "Sweden",
           "4/16/20"
          ],
          [
           13216,
           676,
           "Sweden",
           "4/17/20"
          ],
          [
           13822,
           606,
           "Sweden",
           "4/18/20"
          ],
          [
           14385,
           563,
           "Sweden",
           "4/19/20"
          ],
          [
           14777,
           392,
           "Sweden",
           "4/20/20"
          ],
          [
           15322,
           545,
           "Sweden",
           "4/21/20"
          ],
          [
           16004,
           682,
           "Sweden",
           "4/22/20"
          ],
          [
           16755,
           751,
           "Sweden",
           "4/23/20"
          ],
          [
           17567,
           812,
           "Sweden",
           "4/24/20"
          ],
          [
           18177,
           610,
           "Sweden",
           "4/25/20"
          ],
          [
           18640,
           463,
           "Sweden",
           "4/26/20"
          ],
          [
           18926,
           286,
           "Sweden",
           "4/27/20"
          ],
          [
           19621,
           695,
           "Sweden",
           "4/28/20"
          ],
          [
           20302,
           681,
           "Sweden",
           "4/29/20"
          ],
          [
           21092,
           790,
           "Sweden",
           "4/30/20"
          ],
          [
           21520,
           428,
           "Sweden",
           "5/1/20"
          ],
          [
           22082,
           562,
           "Sweden",
           "5/2/20"
          ],
          [
           22317,
           235,
           "Sweden",
           "5/3/20"
          ],
          [
           22721,
           404,
           "Sweden",
           "5/4/20"
          ]
         ],
         "hoverlabel": {
          "namelength": 0
         },
         "hovertemplate": "Country =%{customdata[2]}<br>Mean growth over 14d compared to max growth =%{x}<br>% cases from last 14d =%{y}<br>Confirmed Cases=%{customdata[0]}<br>Confirmed Cases today =%{customdata[1]}<br>Date=%{customdata[3]}",
         "legendgroup": "Sweden",
         "marker": {
          "color": "#636efa",
          "size": [
           94,
           101,
           161,
           203,
           248,
           355,
           500,
           599,
           814,
           961,
           1022,
           1103,
           1190,
           1279,
           1439,
           1639,
           1763,
           1934,
           2046,
           2286,
           2526,
           2840,
           3069,
           3447,
           3700,
           4028,
           4435,
           4947,
           5568,
           6131,
           6443,
           6830,
           7206,
           7693,
           8419,
           9141,
           9685,
           10151,
           10483,
           10948,
           11445,
           11927,
           12540,
           13216,
           13822,
           14385,
           14777,
           15322,
           16004,
           16755,
           17567,
           18177,
           18640,
           18926,
           19621,
           20302,
           21092,
           21520,
           22082,
           22317,
           22721
          ],
          "sizemode": "area",
          "sizeref": 2950.9375,
          "symbol": "circle"
         },
         "mode": "lines+markers",
         "name": "Sweden",
         "showlegend": true,
         "type": "scattergl",
         "x": [
          0.8,
          0.9,
          1.4,
          1.8,
          2.2,
          3.2,
          4.5,
          5.4,
          7.3,
          8.6,
          9.1,
          9.8,
          10.6,
          11.2,
          12.2,
          13.9,
          14.5,
          15.7,
          16.3,
          17.5,
          18.3,
          20.3,
          20.4,
          22.5,
          24.2,
          26.4,
          29.3,
          33.2,
          37.3,
          40.6,
          42.3,
          44.3,
          46.7,
          48.9,
          53.3,
          57,
          59.8,
          60.6,
          61.3,
          62.6,
          63.4,
          63.1,
          63,
          64.1,
          66.7,
          68.3,
          68.5,
          69,
          68.6,
          68.8,
          71.3,
          72.6,
          73.8,
          72.1,
          73.9,
          75.7,
          77.3,
          75.1,
          74.7,
          71.7,
          71.8
         ],
         "xaxis": "x",
         "y": [
          98.9,
          99,
          99.4,
          99.5,
          99.6,
          99.7,
          99.6,
          98.8,
          99.1,
          98.8,
          98.6,
          98.6,
          98.2,
          97.3,
          93.5,
          93.8,
          90.9,
          89.5,
          87.9,
          84.5,
          80.2,
          78.9,
          73.5,
          72.1,
          72.4,
          72.6,
          73.2,
          74.1,
          74.2,
          73.3,
          72.6,
          71.7,
          71.6,
          70.3,
          70,
          68.9,
          68.3,
          66,
          64.7,
          63.2,
          61.2,
          58.5,
          55.6,
          53.6,
          53.4,
          52.5,
          51.2,
          49.8,
          47.4,
          45.4,
          44.9,
          44.2,
          43.8,
          42.2,
          41.7,
          41.3,
          40.5,
          38.6,
          37.4,
          35.5,
          35
         ],
         "yaxis": "y"
        },
        {
         "customdata": [
          [
           56,
           14,
           "Switzerland",
           "3/3/20"
          ],
          [
           90,
           34,
           "Switzerland",
           "3/4/20"
          ],
          [
           114,
           24,
           "Switzerland",
           "3/5/20"
          ],
          [
           214,
           100,
           "Switzerland",
           "3/6/20"
          ],
          [
           268,
           54,
           "Switzerland",
           "3/7/20"
          ],
          [
           337,
           69,
           "Switzerland",
           "3/8/20"
          ],
          [
           374,
           37,
           "Switzerland",
           "3/9/20"
          ],
          [
           491,
           117,
           "Switzerland",
           "3/10/20"
          ],
          [
           652,
           161,
           "Switzerland",
           "3/11/20"
          ],
          [
           652,
           0,
           "Switzerland",
           "3/12/20"
          ],
          [
           1139,
           487,
           "Switzerland",
           "3/13/20"
          ],
          [
           1359,
           220,
           "Switzerland",
           "3/14/20"
          ],
          [
           2200,
           841,
           "Switzerland",
           "3/15/20"
          ],
          [
           2200,
           0,
           "Switzerland",
           "3/16/20"
          ],
          [
           2700,
           500,
           "Switzerland",
           "3/17/20"
          ],
          [
           3028,
           328,
           "Switzerland",
           "3/18/20"
          ],
          [
           4075,
           1047,
           "Switzerland",
           "3/19/20"
          ],
          [
           5294,
           1219,
           "Switzerland",
           "3/20/20"
          ],
          [
           6575,
           1281,
           "Switzerland",
           "3/21/20"
          ],
          [
           7474,
           899,
           "Switzerland",
           "3/22/20"
          ],
          [
           8795,
           1321,
           "Switzerland",
           "3/23/20"
          ],
          [
           9877,
           1082,
           "Switzerland",
           "3/24/20"
          ],
          [
           10897,
           1020,
           "Switzerland",
           "3/25/20"
          ],
          [
           11811,
           914,
           "Switzerland",
           "3/26/20"
          ],
          [
           12928,
           1117,
           "Switzerland",
           "3/27/20"
          ],
          [
           14076,
           1148,
           "Switzerland",
           "3/28/20"
          ],
          [
           14829,
           753,
           "Switzerland",
           "3/29/20"
          ],
          [
           15922,
           1093,
           "Switzerland",
           "3/30/20"
          ],
          [
           16605,
           683,
           "Switzerland",
           "3/31/20"
          ],
          [
           17768,
           1163,
           "Switzerland",
           "4/1/20"
          ],
          [
           18827,
           1059,
           "Switzerland",
           "4/2/20"
          ],
          [
           19606,
           779,
           "Switzerland",
           "4/3/20"
          ],
          [
           20505,
           899,
           "Switzerland",
           "4/4/20"
          ],
          [
           21100,
           595,
           "Switzerland",
           "4/5/20"
          ],
          [
           21657,
           557,
           "Switzerland",
           "4/6/20"
          ],
          [
           22253,
           596,
           "Switzerland",
           "4/7/20"
          ],
          [
           23280,
           1027,
           "Switzerland",
           "4/8/20"
          ],
          [
           24051,
           771,
           "Switzerland",
           "4/9/20"
          ],
          [
           24551,
           500,
           "Switzerland",
           "4/10/20"
          ],
          [
           25107,
           556,
           "Switzerland",
           "4/11/20"
          ],
          [
           25415,
           308,
           "Switzerland",
           "4/12/20"
          ],
          [
           25688,
           273,
           "Switzerland",
           "4/13/20"
          ],
          [
           25936,
           248,
           "Switzerland",
           "4/14/20"
          ],
          [
           26336,
           400,
           "Switzerland",
           "4/15/20"
          ],
          [
           26732,
           396,
           "Switzerland",
           "4/16/20"
          ],
          [
           27078,
           346,
           "Switzerland",
           "4/17/20"
          ],
          [
           27404,
           326,
           "Switzerland",
           "4/18/20"
          ],
          [
           27740,
           336,
           "Switzerland",
           "4/19/20"
          ],
          [
           27944,
           204,
           "Switzerland",
           "4/20/20"
          ],
          [
           28063,
           119,
           "Switzerland",
           "4/21/20"
          ],
          [
           28268,
           205,
           "Switzerland",
           "4/22/20"
          ],
          [
           28496,
           228,
           "Switzerland",
           "4/23/20"
          ],
          [
           28677,
           181,
           "Switzerland",
           "4/24/20"
          ],
          [
           28894,
           217,
           "Switzerland",
           "4/25/20"
          ],
          [
           29061,
           167,
           "Switzerland",
           "4/26/20"
          ],
          [
           29164,
           103,
           "Switzerland",
           "4/27/20"
          ],
          [
           29264,
           100,
           "Switzerland",
           "4/28/20"
          ],
          [
           29407,
           143,
           "Switzerland",
           "4/29/20"
          ],
          [
           29586,
           179,
           "Switzerland",
           "4/30/20"
          ],
          [
           29705,
           119,
           "Switzerland",
           "5/1/20"
          ],
          [
           29817,
           112,
           "Switzerland",
           "5/2/20"
          ],
          [
           29905,
           88,
           "Switzerland",
           "5/3/20"
          ],
          [
           29981,
           76,
           "Switzerland",
           "5/4/20"
          ]
         ],
         "hoverlabel": {
          "namelength": 0
         },
         "hovertemplate": "Country =%{customdata[2]}<br>Mean growth over 14d compared to max growth =%{x}<br>% cases from last 14d =%{y}<br>Confirmed Cases=%{customdata[0]}<br>Confirmed Cases today =%{customdata[1]}<br>Date=%{customdata[3]}",
         "legendgroup": "Switzerland",
         "marker": {
          "color": "#EF553B",
          "size": [
           56,
           90,
           114,
           214,
           268,
           337,
           374,
           491,
           652,
           652,
           1139,
           1359,
           2200,
           2200,
           2700,
           3028,
           4075,
           5294,
           6575,
           7474,
           8795,
           9877,
           10897,
           11811,
           12928,
           14076,
           14829,
           15922,
           16605,
           17768,
           18827,
           19606,
           20505,
           21100,
           21657,
           22253,
           23280,
           24051,
           24551,
           25107,
           25415,
           25688,
           25936,
           26336,
           26732,
           27078,
           27404,
           27740,
           27944,
           28063,
           28268,
           28496,
           28677,
           28894,
           29061,
           29164,
           29264,
           29407,
           29586,
           29705,
           29817,
           29905,
           29981
          ],
          "sizemode": "area",
          "sizeref": 2950.9375,
          "symbol": "circle"
         },
         "mode": "lines+markers",
         "name": "Switzerland",
         "showlegend": true,
         "type": "scattergl",
         "x": [
          0.3,
          0.5,
          0.6,
          1.2,
          1.5,
          1.9,
          2.1,
          2.7,
          3.6,
          3.6,
          6.3,
          7.5,
          12.1,
          12,
          14.7,
          16.4,
          22.1,
          28.3,
          35.2,
          39.8,
          47,
          52.3,
          57.1,
          62.2,
          65.7,
          70.9,
          70.4,
          76.5,
          77.5,
          82.2,
          82.3,
          79.8,
          77.7,
          76,
          71.7,
          69,
          69,
          68.3,
          64.8,
          61.5,
          59,
          54.5,
          52,
          47.8,
          44.1,
          41.7,
          38.5,
          37,
          35.1,
          32.4,
          27.8,
          24.8,
          23,
          21.1,
          20.3,
          19.4,
          18.6,
          17.1,
          15.9,
          14.6,
          13.5,
          12.1,
          11.4
         ],
         "xaxis": "x",
         "y": [
          100,
          100,
          100,
          100,
          100,
          100,
          100,
          99.8,
          99.8,
          98.8,
          99.3,
          98.7,
          98.8,
          98.1,
          97.9,
          97,
          97.2,
          96,
          95.9,
          95.5,
          95.7,
          95,
          94,
          94.5,
          91.2,
          90.3,
          85.2,
          86.2,
          83.7,
          83,
          78.4,
          73,
          67.9,
          64.6,
          59.4,
          55.6,
          53.2,
          50.9,
          47.3,
          43.9,
          41.7,
          38,
          36,
          32.5,
          29.6,
          27.6,
          25.2,
          23.9,
          22.5,
          20.7,
          17.6,
          15.6,
          14.4,
          13.1,
          12.5,
          11.9,
          11.4,
          10.4,
          9.6,
          8.8,
          8.1,
          7.2,
          6.8
         ],
         "yaxis": "y"
        },
        {
         "customdata": [
          [
           98,
           51,
           "Turkey",
           "3/18/20"
          ],
          [
           192,
           94,
           "Turkey",
           "3/19/20"
          ],
          [
           359,
           167,
           "Turkey",
           "3/20/20"
          ],
          [
           670,
           311,
           "Turkey",
           "3/21/20"
          ],
          [
           1236,
           566,
           "Turkey",
           "3/22/20"
          ],
          [
           1529,
           293,
           "Turkey",
           "3/23/20"
          ],
          [
           1872,
           343,
           "Turkey",
           "3/24/20"
          ],
          [
           2433,
           561,
           "Turkey",
           "3/25/20"
          ],
          [
           3629,
           1196,
           "Turkey",
           "3/26/20"
          ],
          [
           5698,
           2069,
           "Turkey",
           "3/27/20"
          ],
          [
           7402,
           1704,
           "Turkey",
           "3/28/20"
          ],
          [
           9217,
           1815,
           "Turkey",
           "3/29/20"
          ],
          [
           10827,
           1610,
           "Turkey",
           "3/30/20"
          ],
          [
           13531,
           2704,
           "Turkey",
           "3/31/20"
          ],
          [
           15679,
           2148,
           "Turkey",
           "4/1/20"
          ],
          [
           18135,
           2456,
           "Turkey",
           "4/2/20"
          ],
          [
           20921,
           2786,
           "Turkey",
           "4/3/20"
          ],
          [
           23934,
           3013,
           "Turkey",
           "4/4/20"
          ],
          [
           27069,
           3135,
           "Turkey",
           "4/5/20"
          ],
          [
           30217,
           3148,
           "Turkey",
           "4/6/20"
          ],
          [
           34109,
           3892,
           "Turkey",
           "4/7/20"
          ],
          [
           38226,
           4117,
           "Turkey",
           "4/8/20"
          ],
          [
           42282,
           4056,
           "Turkey",
           "4/9/20"
          ],
          [
           47029,
           4747,
           "Turkey",
           "4/10/20"
          ],
          [
           52167,
           5138,
           "Turkey",
           "4/11/20"
          ],
          [
           56956,
           4789,
           "Turkey",
           "4/12/20"
          ],
          [
           61049,
           4093,
           "Turkey",
           "4/13/20"
          ],
          [
           65111,
           4062,
           "Turkey",
           "4/14/20"
          ],
          [
           69392,
           4281,
           "Turkey",
           "4/15/20"
          ],
          [
           74193,
           4801,
           "Turkey",
           "4/16/20"
          ],
          [
           78546,
           4353,
           "Turkey",
           "4/17/20"
          ],
          [
           82329,
           3783,
           "Turkey",
           "4/18/20"
          ],
          [
           86306,
           3977,
           "Turkey",
           "4/19/20"
          ],
          [
           90980,
           4674,
           "Turkey",
           "4/20/20"
          ],
          [
           95591,
           4611,
           "Turkey",
           "4/21/20"
          ],
          [
           98674,
           3083,
           "Turkey",
           "4/22/20"
          ],
          [
           101790,
           3116,
           "Turkey",
           "4/23/20"
          ],
          [
           104912,
           3122,
           "Turkey",
           "4/24/20"
          ],
          [
           107773,
           2861,
           "Turkey",
           "4/25/20"
          ],
          [
           110130,
           2357,
           "Turkey",
           "4/26/20"
          ],
          [
           112261,
           2131,
           "Turkey",
           "4/27/20"
          ],
          [
           114653,
           2392,
           "Turkey",
           "4/28/20"
          ],
          [
           117589,
           2936,
           "Turkey",
           "4/29/20"
          ],
          [
           120204,
           2615,
           "Turkey",
           "4/30/20"
          ],
          [
           122392,
           2188,
           "Turkey",
           "5/1/20"
          ],
          [
           124375,
           1983,
           "Turkey",
           "5/2/20"
          ],
          [
           126045,
           1670,
           "Turkey",
           "5/3/20"
          ],
          [
           127659,
           1614,
           "Turkey",
           "5/4/20"
          ]
         ],
         "hoverlabel": {
          "namelength": 0
         },
         "hovertemplate": "Country =%{customdata[2]}<br>Mean growth over 14d compared to max growth =%{x}<br>% cases from last 14d =%{y}<br>Confirmed Cases=%{customdata[0]}<br>Confirmed Cases today =%{customdata[1]}<br>Date=%{customdata[3]}",
         "legendgroup": "Turkey",
         "marker": {
          "color": "#00cc96",
          "size": [
           98,
           192,
           359,
           670,
           1236,
           1529,
           1872,
           2433,
           3629,
           5698,
           7402,
           9217,
           10827,
           13531,
           15679,
           18135,
           20921,
           23934,
           27069,
           30217,
           34109,
           38226,
           42282,
           47029,
           52167,
           56956,
           61049,
           65111,
           69392,
           74193,
           78546,
           82329,
           86306,
           90980,
           95591,
           98674,
           101790,
           104912,
           107773,
           110130,
           112261,
           114653,
           117589,
           120204,
           122392,
           124375,
           126045,
           127659
          ],
          "sizemode": "area",
          "sizeref": 2950.9375,
          "symbol": "circle"
         },
         "mode": "lines+markers",
         "name": "Turkey",
         "showlegend": true,
         "type": "scattergl",
         "x": [
          0.1,
          0.3,
          0.5,
          1,
          1.8,
          2.3,
          2.8,
          3.6,
          5.4,
          8.5,
          11,
          13.7,
          16.1,
          20.1,
          23.2,
          26.7,
          30.6,
          34.6,
          38.4,
          42.7,
          48,
          53.3,
          57.5,
          61.5,
          66.6,
          71,
          74.7,
          76.7,
          79.9,
          83.4,
          85.7,
          86.9,
          88.1,
          90.4,
          91.5,
          89.9,
          88.5,
          86.1,
          82.7,
          79.1,
          76.2,
          73.7,
          71.7,
          68.5,
          65.2,
          62.6,
          59.1,
          54.6
         ],
         "xaxis": "x",
         "y": [
          100,
          100,
          100,
          100,
          100,
          100,
          100,
          100,
          100,
          99.9,
          99.9,
          99.9,
          99.8,
          99.7,
          99.4,
          98.9,
          98.3,
          97.2,
          95.4,
          94.9,
          94.5,
          93.6,
          91.4,
          87.9,
          85.8,
          83.8,
          82.3,
          79.2,
          77.4,
          75.6,
          73.4,
          70.9,
          68.6,
          66.8,
          64.3,
          61.3,
          58.5,
          55.2,
          51.6,
          48.3,
          45.6,
          43.2,
          41,
          38.3,
          35.8,
          33.8,
          31.5,
          28.7
         ],
         "yaxis": "y"
        },
        {
         "customdata": [
          [
           51,
           36,
           "US",
           "2/24/20"
          ],
          [
           51,
           0,
           "US",
           "2/25/20"
          ],
          [
           57,
           6,
           "US",
           "2/26/20"
          ],
          [
           58,
           1,
           "US",
           "2/27/20"
          ],
          [
           60,
           2,
           "US",
           "2/28/20"
          ],
          [
           68,
           8,
           "US",
           "2/29/20"
          ],
          [
           74,
           6,
           "US",
           "3/1/20"
          ],
          [
           98,
           24,
           "US",
           "3/2/20"
          ],
          [
           118,
           20,
           "US",
           "3/3/20"
          ],
          [
           149,
           31,
           "US",
           "3/4/20"
          ],
          [
           217,
           68,
           "US",
           "3/5/20"
          ],
          [
           262,
           45,
           "US",
           "3/6/20"
          ],
          [
           402,
           140,
           "US",
           "3/7/20"
          ],
          [
           518,
           116,
           "US",
           "3/8/20"
          ],
          [
           583,
           65,
           "US",
           "3/9/20"
          ],
          [
           959,
           376,
           "US",
           "3/10/20"
          ],
          [
           1281,
           322,
           "US",
           "3/11/20"
          ],
          [
           1663,
           382,
           "US",
           "3/12/20"
          ],
          [
           2179,
           516,
           "US",
           "3/13/20"
          ],
          [
           2727,
           548,
           "US",
           "3/14/20"
          ],
          [
           3499,
           772,
           "US",
           "3/15/20"
          ],
          [
           4632,
           1133,
           "US",
           "3/16/20"
          ],
          [
           6421,
           1789,
           "US",
           "3/17/20"
          ],
          [
           7783,
           1362,
           "US",
           "3/18/20"
          ],
          [
           13747,
           5964,
           "US",
           "3/19/20"
          ],
          [
           19273,
           5526,
           "US",
           "3/20/20"
          ],
          [
           25600,
           6327,
           "US",
           "3/21/20"
          ],
          [
           33276,
           7676,
           "US",
           "3/22/20"
          ],
          [
           43843,
           10567,
           "US",
           "3/23/20"
          ],
          [
           53736,
           9893,
           "US",
           "3/24/20"
          ],
          [
           65778,
           12042,
           "US",
           "3/25/20"
          ],
          [
           83836,
           18058,
           "US",
           "3/26/20"
          ],
          [
           101657,
           17821,
           "US",
           "3/27/20"
          ],
          [
           121465,
           19808,
           "US",
           "3/28/20"
          ],
          [
           140909,
           19444,
           "US",
           "3/29/20"
          ],
          [
           161831,
           20922,
           "US",
           "3/30/20"
          ],
          [
           188172,
           26341,
           "US",
           "3/31/20"
          ],
          [
           213242,
           25070,
           "US",
           "4/1/20"
          ],
          [
           243622,
           30380,
           "US",
           "4/2/20"
          ],
          [
           275367,
           31745,
           "US",
           "4/3/20"
          ],
          [
           308650,
           33283,
           "US",
           "4/4/20"
          ],
          [
           336802,
           28152,
           "US",
           "4/5/20"
          ],
          [
           366317,
           29515,
           "US",
           "4/6/20"
          ],
          [
           397121,
           30804,
           "US",
           "4/7/20"
          ],
          [
           428654,
           31533,
           "US",
           "4/8/20"
          ],
          [
           462780,
           34126,
           "US",
           "4/9/20"
          ],
          [
           496535,
           33755,
           "US",
           "4/10/20"
          ],
          [
           526396,
           29861,
           "US",
           "4/11/20"
          ],
          [
           555313,
           28917,
           "US",
           "4/12/20"
          ],
          [
           580619,
           25306,
           "US",
           "4/13/20"
          ],
          [
           607670,
           27051,
           "US",
           "4/14/20"
          ],
          [
           636350,
           28680,
           "US",
           "4/15/20"
          ],
          [
           667592,
           31242,
           "US",
           "4/16/20"
          ],
          [
           699706,
           32114,
           "US",
           "4/17/20"
          ],
          [
           732197,
           32491,
           "US",
           "4/18/20"
          ],
          [
           758809,
           26612,
           "US",
           "4/19/20"
          ],
          [
           784326,
           25517,
           "US",
           "4/20/20"
          ],
          [
           811865,
           27539,
           "US",
           "4/21/20"
          ],
          [
           840351,
           28486,
           "US",
           "4/22/20"
          ],
          [
           869170,
           28819,
           "US",
           "4/23/20"
          ],
          [
           905358,
           36188,
           "US",
           "4/24/20"
          ],
          [
           938154,
           32796,
           "US",
           "4/25/20"
          ],
          [
           965785,
           27631,
           "US",
           "4/26/20"
          ],
          [
           988197,
           22412,
           "US",
           "4/27/20"
          ],
          [
           1012582,
           24385,
           "US",
           "4/28/20"
          ],
          [
           1039909,
           27327,
           "US",
           "4/29/20"
          ],
          [
           1069424,
           29515,
           "US",
           "4/30/20"
          ],
          [
           1103461,
           34037,
           "US",
           "5/1/20"
          ],
          [
           1132539,
           29078,
           "US",
           "5/2/20"
          ],
          [
           1158040,
           25501,
           "US",
           "5/3/20"
          ],
          [
           1180375,
           22335,
           "US",
           "5/4/20"
          ]
         ],
         "hoverlabel": {
          "namelength": 0
         },
         "hovertemplate": "Country =%{customdata[2]}<br>Mean growth over 14d compared to max growth =%{x}<br>% cases from last 14d =%{y}<br>Confirmed Cases=%{customdata[0]}<br>Confirmed Cases today =%{customdata[1]}<br>Date=%{customdata[3]}",
         "legendgroup": "US",
         "marker": {
          "color": "#ab63fa",
          "size": [
           51,
           51,
           57,
           58,
           60,
           68,
           74,
           98,
           118,
           149,
           217,
           262,
           402,
           518,
           583,
           959,
           1281,
           1663,
           2179,
           2727,
           3499,
           4632,
           6421,
           7783,
           13747,
           19273,
           25600,
           33276,
           43843,
           53736,
           65778,
           83836,
           101657,
           121465,
           140909,
           161831,
           188172,
           213242,
           243622,
           275367,
           308650,
           336802,
           366317,
           397121,
           428654,
           462780,
           496535,
           526396,
           555313,
           580619,
           607670,
           636350,
           667592,
           699706,
           732197,
           758809,
           784326,
           811865,
           840351,
           869170,
           905358,
           938154,
           965785,
           988197,
           1012582,
           1039909,
           1069424,
           1103461,
           1132539,
           1158040,
           1180375
          ],
          "sizemode": "area",
          "sizeref": 2950.9375,
          "symbol": "circle"
         },
         "mode": "lines+markers",
         "name": "US",
         "showlegend": true,
         "type": "scattergl",
         "x": [
          0,
          0,
          0,
          0,
          0,
          0,
          0,
          0,
          0,
          0,
          0,
          0.1,
          0.1,
          0.1,
          0.1,
          0.2,
          0.3,
          0.3,
          0.4,
          0.6,
          0.7,
          0.9,
          1.3,
          1.6,
          2.8,
          4,
          5.3,
          6.9,
          9.1,
          11,
          13.5,
          17.2,
          20.8,
          24.9,
          28.8,
          32.9,
          38,
          43,
          48.1,
          53.6,
          59.2,
          63.5,
          67.5,
          71.9,
          76,
          79.3,
          82.7,
          84.8,
          86.7,
          87.7,
          87.8,
          88.6,
          88.7,
          88.8,
          88.7,
          88.3,
          87.5,
          86.8,
          86.2,
          85.1,
          85.6,
          86.2,
          85.9,
          85.3,
          84.8,
          84.5,
          84.1,
          84.5,
          83.8,
          83.6,
          82.9
         ],
         "xaxis": "x",
         "y": [
          78.4,
          76.5,
          78.9,
          77.6,
          78.3,
          80.9,
          82.4,
          86.7,
          89,
          91.3,
          94,
          94.3,
          96.3,
          97.1,
          91.3,
          94.7,
          95.6,
          96.5,
          97.2,
          97.5,
          97.9,
          97.9,
          98.2,
          98.1,
          98.4,
          98.6,
          98.4,
          98.4,
          98.7,
          98.2,
          98.1,
          98,
          97.9,
          97.8,
          97.5,
          97.1,
          96.6,
          96.4,
          94.4,
          93,
          91.7,
          90.1,
          88,
          86.5,
          84.7,
          81.9,
          79.5,
          76.9,
          74.6,
          72.1,
          69,
          66.5,
          63.5,
          60.6,
          57.8,
          55.6,
          53.3,
          51.1,
          49,
          46.8,
          45.2,
          43.9,
          42.5,
          41.2,
          40,
          38.8,
          37.6,
          36.6,
          35.3,
          34.5,
          33.6
         ],
         "yaxis": "y"
        },
        {
         "customdata": [
          [
           51,
           11,
           "United Kingdom",
           "3/3/20"
          ],
          [
           86,
           35,
           "United Kingdom",
           "3/4/20"
          ],
          [
           116,
           30,
           "United Kingdom",
           "3/5/20"
          ],
          [
           164,
           48,
           "United Kingdom",
           "3/6/20"
          ],
          [
           207,
           43,
           "United Kingdom",
           "3/7/20"
          ],
          [
           274,
           67,
           "United Kingdom",
           "3/8/20"
          ],
          [
           322,
           48,
           "United Kingdom",
           "3/9/20"
          ],
          [
           384,
           62,
           "United Kingdom",
           "3/10/20"
          ],
          [
           459,
           75,
           "United Kingdom",
           "3/11/20"
          ],
          [
           459,
           0,
           "United Kingdom",
           "3/12/20"
          ],
          [
           802,
           343,
           "United Kingdom",
           "3/13/20"
          ],
          [
           1144,
           342,
           "United Kingdom",
           "3/14/20"
          ],
          [
           1145,
           1,
           "United Kingdom",
           "3/15/20"
          ],
          [
           1551,
           406,
           "United Kingdom",
           "3/16/20"
          ],
          [
           1960,
           409,
           "United Kingdom",
           "3/17/20"
          ],
          [
           2642,
           682,
           "United Kingdom",
           "3/18/20"
          ],
          [
           2716,
           74,
           "United Kingdom",
           "3/19/20"
          ],
          [
           4014,
           1298,
           "United Kingdom",
           "3/20/20"
          ],
          [
           5067,
           1053,
           "United Kingdom",
           "3/21/20"
          ],
          [
           5745,
           678,
           "United Kingdom",
           "3/22/20"
          ],
          [
           6726,
           981,
           "United Kingdom",
           "3/23/20"
          ],
          [
           8164,
           1438,
           "United Kingdom",
           "3/24/20"
          ],
          [
           9640,
           1476,
           "United Kingdom",
           "3/25/20"
          ],
          [
           11812,
           2172,
           "United Kingdom",
           "3/26/20"
          ],
          [
           14745,
           2933,
           "United Kingdom",
           "3/27/20"
          ],
          [
           17312,
           2567,
           "United Kingdom",
           "3/28/20"
          ],
          [
           19780,
           2468,
           "United Kingdom",
           "3/29/20"
          ],
          [
           22453,
           2673,
           "United Kingdom",
           "3/30/20"
          ],
          [
           25481,
           3028,
           "United Kingdom",
           "3/31/20"
          ],
          [
           29865,
           4384,
           "United Kingdom",
           "4/1/20"
          ],
          [
           34173,
           4308,
           "United Kingdom",
           "4/2/20"
          ],
          [
           38689,
           4516,
           "United Kingdom",
           "4/3/20"
          ],
          [
           42477,
           3788,
           "United Kingdom",
           "4/4/20"
          ],
          [
           48436,
           5959,
           "United Kingdom",
           "4/5/20"
          ],
          [
           52279,
           3843,
           "United Kingdom",
           "4/6/20"
          ],
          [
           55949,
           3670,
           "United Kingdom",
           "4/7/20"
          ],
          [
           61474,
           5525,
           "United Kingdom",
           "4/8/20"
          ],
          [
           65872,
           4398,
           "United Kingdom",
           "4/9/20"
          ],
          [
           74605,
           8733,
           "United Kingdom",
           "4/10/20"
          ],
          [
           79874,
           5269,
           "United Kingdom",
           "4/11/20"
          ],
          [
           85206,
           5332,
           "United Kingdom",
           "4/12/20"
          ],
          [
           89570,
           4364,
           "United Kingdom",
           "4/13/20"
          ],
          [
           94845,
           5275,
           "United Kingdom",
           "4/14/20"
          ],
          [
           99483,
           4638,
           "United Kingdom",
           "4/15/20"
          ],
          [
           104145,
           4662,
           "United Kingdom",
           "4/16/20"
          ],
          [
           109769,
           5624,
           "United Kingdom",
           "4/17/20"
          ],
          [
           115314,
           5545,
           "United Kingdom",
           "4/18/20"
          ],
          [
           121172,
           5858,
           "United Kingdom",
           "4/19/20"
          ],
          [
           125856,
           4684,
           "United Kingdom",
           "4/20/20"
          ],
          [
           130172,
           4316,
           "United Kingdom",
           "4/21/20"
          ],
          [
           134638,
           4466,
           "United Kingdom",
           "4/22/20"
          ],
          [
           139246,
           4608,
           "United Kingdom",
           "4/23/20"
          ],
          [
           144640,
           5394,
           "United Kingdom",
           "4/24/20"
          ],
          [
           149569,
           4929,
           "United Kingdom",
           "4/25/20"
          ],
          [
           154037,
           4468,
           "United Kingdom",
           "4/26/20"
          ],
          [
           158348,
           4311,
           "United Kingdom",
           "4/27/20"
          ],
          [
           162350,
           4002,
           "United Kingdom",
           "4/28/20"
          ],
          [
           166441,
           4091,
           "United Kingdom",
           "4/29/20"
          ],
          [
           172481,
           6040,
           "United Kingdom",
           "4/30/20"
          ],
          [
           178685,
           6204,
           "United Kingdom",
           "5/1/20"
          ],
          [
           183500,
           4815,
           "United Kingdom",
           "5/2/20"
          ],
          [
           187842,
           4342,
           "United Kingdom",
           "5/3/20"
          ],
          [
           191832,
           3990,
           "United Kingdom",
           "5/4/20"
          ]
         ],
         "hoverlabel": {
          "namelength": 0
         },
         "hovertemplate": "Country =%{customdata[2]}<br>Mean growth over 14d compared to max growth =%{x}<br>% cases from last 14d =%{y}<br>Confirmed Cases=%{customdata[0]}<br>Confirmed Cases today =%{customdata[1]}<br>Date=%{customdata[3]}",
         "legendgroup": "United Kingdom",
         "marker": {
          "color": "#FFA15A",
          "size": [
           51,
           86,
           116,
           164,
           207,
           274,
           322,
           384,
           459,
           459,
           802,
           1144,
           1145,
           1551,
           1960,
           2642,
           2716,
           4014,
           5067,
           5745,
           6726,
           8164,
           9640,
           11812,
           14745,
           17312,
           19780,
           22453,
           25481,
           29865,
           34173,
           38689,
           42477,
           48436,
           52279,
           55949,
           61474,
           65872,
           74605,
           79874,
           85206,
           89570,
           94845,
           99483,
           104145,
           109769,
           115314,
           121172,
           125856,
           130172,
           134638,
           139246,
           144640,
           149569,
           154037,
           158348,
           162350,
           166441,
           172481,
           178685,
           183500,
           187842,
           191832
          ],
          "sizemode": "area",
          "sizeref": 2950.9375,
          "symbol": "circle"
         },
         "mode": "lines+markers",
         "name": "United Kingdom",
         "showlegend": true,
         "type": "scattergl",
         "x": [
          0,
          0.1,
          0.1,
          0.2,
          0.2,
          0.3,
          0.4,
          0.4,
          0.5,
          0.5,
          0.9,
          1.3,
          1.3,
          1.7,
          2.2,
          2.9,
          3,
          4.4,
          5.6,
          6.3,
          7.4,
          9,
          10.6,
          13.1,
          16.1,
          18.6,
          21.5,
          24.1,
          27.1,
          31.3,
          36.2,
          39.9,
          43.1,
          49.2,
          52.4,
          55,
          59.7,
          62.2,
          68.9,
          72,
          75.3,
          77.3,
          79.9,
          80.2,
          80.6,
          81.8,
          83.9,
          83.7,
          84.7,
          85.5,
          84.2,
          84.5,
          80.6,
          80.2,
          79.2,
          79.2,
          77.7,
          77.1,
          78.7,
          79.3,
          78.5,
          76.8,
          76
         ],
         "xaxis": "x",
         "y": [
          82.4,
          89.5,
          92.2,
          94.5,
          95.7,
          96.7,
          96,
          96.6,
          97.2,
          96.7,
          97.5,
          98,
          96.9,
          97.4,
          97.4,
          96.7,
          95.7,
          95.9,
          95.9,
          95.2,
          95.2,
          95.3,
          95.2,
          96.1,
          94.6,
          93.4,
          94.2,
          93.1,
          92.3,
          91.2,
          92.1,
          89.6,
          88.1,
          88.1,
          87.1,
          85.4,
          84.3,
          82.1,
          80.2,
          78.3,
          76.8,
          74.9,
          73.1,
          70,
          67.2,
          64.8,
          63.2,
          60,
          58.5,
          57,
          54.3,
          52.7,
          48.4,
          46.6,
          44.7,
          43.4,
          41.6,
          40.2,
          39.6,
          38.6,
          37.2,
          35.5,
          34.4
         ],
         "yaxis": "y"
        }
       ],
       "layout": {
        "legend": {
         "itemsizing": "constant",
         "title": {
          "text": "Country "
         },
         "tracegroupgap": 0
        },
        "template": {
         "data": {
          "bar": [
           {
            "error_x": {
             "color": "#2a3f5f"
            },
            "error_y": {
             "color": "#2a3f5f"
            },
            "marker": {
             "line": {
              "color": "#E5ECF6",
              "width": 0.5
             }
            },
            "type": "bar"
           }
          ],
          "barpolar": [
           {
            "marker": {
             "line": {
              "color": "#E5ECF6",
              "width": 0.5
             }
            },
            "type": "barpolar"
           }
          ],
          "carpet": [
           {
            "aaxis": {
             "endlinecolor": "#2a3f5f",
             "gridcolor": "white",
             "linecolor": "white",
             "minorgridcolor": "white",
             "startlinecolor": "#2a3f5f"
            },
            "baxis": {
             "endlinecolor": "#2a3f5f",
             "gridcolor": "white",
             "linecolor": "white",
             "minorgridcolor": "white",
             "startlinecolor": "#2a3f5f"
            },
            "type": "carpet"
           }
          ],
          "choropleth": [
           {
            "colorbar": {
             "outlinewidth": 0,
             "ticks": ""
            },
            "type": "choropleth"
           }
          ],
          "contour": [
           {
            "colorbar": {
             "outlinewidth": 0,
             "ticks": ""
            },
            "colorscale": [
             [
              0,
              "#0d0887"
             ],
             [
              0.1111111111111111,
              "#46039f"
             ],
             [
              0.2222222222222222,
              "#7201a8"
             ],
             [
              0.3333333333333333,
              "#9c179e"
             ],
             [
              0.4444444444444444,
              "#bd3786"
             ],
             [
              0.5555555555555556,
              "#d8576b"
             ],
             [
              0.6666666666666666,
              "#ed7953"
             ],
             [
              0.7777777777777778,
              "#fb9f3a"
             ],
             [
              0.8888888888888888,
              "#fdca26"
             ],
             [
              1,
              "#f0f921"
             ]
            ],
            "type": "contour"
           }
          ],
          "contourcarpet": [
           {
            "colorbar": {
             "outlinewidth": 0,
             "ticks": ""
            },
            "type": "contourcarpet"
           }
          ],
          "heatmap": [
           {
            "colorbar": {
             "outlinewidth": 0,
             "ticks": ""
            },
            "colorscale": [
             [
              0,
              "#0d0887"
             ],
             [
              0.1111111111111111,
              "#46039f"
             ],
             [
              0.2222222222222222,
              "#7201a8"
             ],
             [
              0.3333333333333333,
              "#9c179e"
             ],
             [
              0.4444444444444444,
              "#bd3786"
             ],
             [
              0.5555555555555556,
              "#d8576b"
             ],
             [
              0.6666666666666666,
              "#ed7953"
             ],
             [
              0.7777777777777778,
              "#fb9f3a"
             ],
             [
              0.8888888888888888,
              "#fdca26"
             ],
             [
              1,
              "#f0f921"
             ]
            ],
            "type": "heatmap"
           }
          ],
          "heatmapgl": [
           {
            "colorbar": {
             "outlinewidth": 0,
             "ticks": ""
            },
            "colorscale": [
             [
              0,
              "#0d0887"
             ],
             [
              0.1111111111111111,
              "#46039f"
             ],
             [
              0.2222222222222222,
              "#7201a8"
             ],
             [
              0.3333333333333333,
              "#9c179e"
             ],
             [
              0.4444444444444444,
              "#bd3786"
             ],
             [
              0.5555555555555556,
              "#d8576b"
             ],
             [
              0.6666666666666666,
              "#ed7953"
             ],
             [
              0.7777777777777778,
              "#fb9f3a"
             ],
             [
              0.8888888888888888,
              "#fdca26"
             ],
             [
              1,
              "#f0f921"
             ]
            ],
            "type": "heatmapgl"
           }
          ],
          "histogram": [
           {
            "marker": {
             "colorbar": {
              "outlinewidth": 0,
              "ticks": ""
             }
            },
            "type": "histogram"
           }
          ],
          "histogram2d": [
           {
            "colorbar": {
             "outlinewidth": 0,
             "ticks": ""
            },
            "colorscale": [
             [
              0,
              "#0d0887"
             ],
             [
              0.1111111111111111,
              "#46039f"
             ],
             [
              0.2222222222222222,
              "#7201a8"
             ],
             [
              0.3333333333333333,
              "#9c179e"
             ],
             [
              0.4444444444444444,
              "#bd3786"
             ],
             [
              0.5555555555555556,
              "#d8576b"
             ],
             [
              0.6666666666666666,
              "#ed7953"
             ],
             [
              0.7777777777777778,
              "#fb9f3a"
             ],
             [
              0.8888888888888888,
              "#fdca26"
             ],
             [
              1,
              "#f0f921"
             ]
            ],
            "type": "histogram2d"
           }
          ],
          "histogram2dcontour": [
           {
            "colorbar": {
             "outlinewidth": 0,
             "ticks": ""
            },
            "colorscale": [
             [
              0,
              "#0d0887"
             ],
             [
              0.1111111111111111,
              "#46039f"
             ],
             [
              0.2222222222222222,
              "#7201a8"
             ],
             [
              0.3333333333333333,
              "#9c179e"
             ],
             [
              0.4444444444444444,
              "#bd3786"
             ],
             [
              0.5555555555555556,
              "#d8576b"
             ],
             [
              0.6666666666666666,
              "#ed7953"
             ],
             [
              0.7777777777777778,
              "#fb9f3a"
             ],
             [
              0.8888888888888888,
              "#fdca26"
             ],
             [
              1,
              "#f0f921"
             ]
            ],
            "type": "histogram2dcontour"
           }
          ],
          "mesh3d": [
           {
            "colorbar": {
             "outlinewidth": 0,
             "ticks": ""
            },
            "type": "mesh3d"
           }
          ],
          "parcoords": [
           {
            "line": {
             "colorbar": {
              "outlinewidth": 0,
              "ticks": ""
             }
            },
            "type": "parcoords"
           }
          ],
          "pie": [
           {
            "automargin": true,
            "type": "pie"
           }
          ],
          "scatter": [
           {
            "marker": {
             "colorbar": {
              "outlinewidth": 0,
              "ticks": ""
             }
            },
            "type": "scatter"
           }
          ],
          "scatter3d": [
           {
            "line": {
             "colorbar": {
              "outlinewidth": 0,
              "ticks": ""
             }
            },
            "marker": {
             "colorbar": {
              "outlinewidth": 0,
              "ticks": ""
             }
            },
            "type": "scatter3d"
           }
          ],
          "scattercarpet": [
           {
            "marker": {
             "colorbar": {
              "outlinewidth": 0,
              "ticks": ""
             }
            },
            "type": "scattercarpet"
           }
          ],
          "scattergeo": [
           {
            "marker": {
             "colorbar": {
              "outlinewidth": 0,
              "ticks": ""
             }
            },
            "type": "scattergeo"
           }
          ],
          "scattergl": [
           {
            "marker": {
             "colorbar": {
              "outlinewidth": 0,
              "ticks": ""
             }
            },
            "type": "scattergl"
           }
          ],
          "scattermapbox": [
           {
            "marker": {
             "colorbar": {
              "outlinewidth": 0,
              "ticks": ""
             }
            },
            "type": "scattermapbox"
           }
          ],
          "scatterpolar": [
           {
            "marker": {
             "colorbar": {
              "outlinewidth": 0,
              "ticks": ""
             }
            },
            "type": "scatterpolar"
           }
          ],
          "scatterpolargl": [
           {
            "marker": {
             "colorbar": {
              "outlinewidth": 0,
              "ticks": ""
             }
            },
            "type": "scatterpolargl"
           }
          ],
          "scatterternary": [
           {
            "marker": {
             "colorbar": {
              "outlinewidth": 0,
              "ticks": ""
             }
            },
            "type": "scatterternary"
           }
          ],
          "surface": [
           {
            "colorbar": {
             "outlinewidth": 0,
             "ticks": ""
            },
            "colorscale": [
             [
              0,
              "#0d0887"
             ],
             [
              0.1111111111111111,
              "#46039f"
             ],
             [
              0.2222222222222222,
              "#7201a8"
             ],
             [
              0.3333333333333333,
              "#9c179e"
             ],
             [
              0.4444444444444444,
              "#bd3786"
             ],
             [
              0.5555555555555556,
              "#d8576b"
             ],
             [
              0.6666666666666666,
              "#ed7953"
             ],
             [
              0.7777777777777778,
              "#fb9f3a"
             ],
             [
              0.8888888888888888,
              "#fdca26"
             ],
             [
              1,
              "#f0f921"
             ]
            ],
            "type": "surface"
           }
          ],
          "table": [
           {
            "cells": {
             "fill": {
              "color": "#EBF0F8"
             },
             "line": {
              "color": "white"
             }
            },
            "header": {
             "fill": {
              "color": "#C8D4E3"
             },
             "line": {
              "color": "white"
             }
            },
            "type": "table"
           }
          ]
         },
         "layout": {
          "annotationdefaults": {
           "arrowcolor": "#2a3f5f",
           "arrowhead": 0,
           "arrowwidth": 1
          },
          "coloraxis": {
           "colorbar": {
            "outlinewidth": 0,
            "ticks": ""
           }
          },
          "colorscale": {
           "diverging": [
            [
             0,
             "#8e0152"
            ],
            [
             0.1,
             "#c51b7d"
            ],
            [
             0.2,
             "#de77ae"
            ],
            [
             0.3,
             "#f1b6da"
            ],
            [
             0.4,
             "#fde0ef"
            ],
            [
             0.5,
             "#f7f7f7"
            ],
            [
             0.6,
             "#e6f5d0"
            ],
            [
             0.7,
             "#b8e186"
            ],
            [
             0.8,
             "#7fbc41"
            ],
            [
             0.9,
             "#4d9221"
            ],
            [
             1,
             "#276419"
            ]
           ],
           "sequential": [
            [
             0,
             "#0d0887"
            ],
            [
             0.1111111111111111,
             "#46039f"
            ],
            [
             0.2222222222222222,
             "#7201a8"
            ],
            [
             0.3333333333333333,
             "#9c179e"
            ],
            [
             0.4444444444444444,
             "#bd3786"
            ],
            [
             0.5555555555555556,
             "#d8576b"
            ],
            [
             0.6666666666666666,
             "#ed7953"
            ],
            [
             0.7777777777777778,
             "#fb9f3a"
            ],
            [
             0.8888888888888888,
             "#fdca26"
            ],
            [
             1,
             "#f0f921"
            ]
           ],
           "sequentialminus": [
            [
             0,
             "#0d0887"
            ],
            [
             0.1111111111111111,
             "#46039f"
            ],
            [
             0.2222222222222222,
             "#7201a8"
            ],
            [
             0.3333333333333333,
             "#9c179e"
            ],
            [
             0.4444444444444444,
             "#bd3786"
            ],
            [
             0.5555555555555556,
             "#d8576b"
            ],
            [
             0.6666666666666666,
             "#ed7953"
            ],
            [
             0.7777777777777778,
             "#fb9f3a"
            ],
            [
             0.8888888888888888,
             "#fdca26"
            ],
            [
             1,
             "#f0f921"
            ]
           ]
          },
          "colorway": [
           "#636efa",
           "#EF553B",
           "#00cc96",
           "#ab63fa",
           "#FFA15A",
           "#19d3f3",
           "#FF6692",
           "#B6E880",
           "#FF97FF",
           "#FECB52"
          ],
          "font": {
           "color": "#2a3f5f"
          },
          "geo": {
           "bgcolor": "white",
           "lakecolor": "white",
           "landcolor": "#E5ECF6",
           "showlakes": true,
           "showland": true,
           "subunitcolor": "white"
          },
          "hoverlabel": {
           "align": "left"
          },
          "hovermode": "closest",
          "mapbox": {
           "style": "light"
          },
          "paper_bgcolor": "white",
          "plot_bgcolor": "#E5ECF6",
          "polar": {
           "angularaxis": {
            "gridcolor": "white",
            "linecolor": "white",
            "ticks": ""
           },
           "bgcolor": "#E5ECF6",
           "radialaxis": {
            "gridcolor": "white",
            "linecolor": "white",
            "ticks": ""
           }
          },
          "scene": {
           "xaxis": {
            "backgroundcolor": "#E5ECF6",
            "gridcolor": "white",
            "gridwidth": 2,
            "linecolor": "white",
            "showbackground": true,
            "ticks": "",
            "zerolinecolor": "white"
           },
           "yaxis": {
            "backgroundcolor": "#E5ECF6",
            "gridcolor": "white",
            "gridwidth": 2,
            "linecolor": "white",
            "showbackground": true,
            "ticks": "",
            "zerolinecolor": "white"
           },
           "zaxis": {
            "backgroundcolor": "#E5ECF6",
            "gridcolor": "white",
            "gridwidth": 2,
            "linecolor": "white",
            "showbackground": true,
            "ticks": "",
            "zerolinecolor": "white"
           }
          },
          "shapedefaults": {
           "line": {
            "color": "#2a3f5f"
           }
          },
          "ternary": {
           "aaxis": {
            "gridcolor": "white",
            "linecolor": "white",
            "ticks": ""
           },
           "baxis": {
            "gridcolor": "white",
            "linecolor": "white",
            "ticks": ""
           },
           "bgcolor": "#E5ECF6",
           "caxis": {
            "gridcolor": "white",
            "linecolor": "white",
            "ticks": ""
           }
          },
          "title": {
           "x": 0.05
          },
          "xaxis": {
           "automargin": true,
           "gridcolor": "white",
           "linecolor": "white",
           "ticks": "",
           "title": {
            "standoff": 15
           },
           "zerolinecolor": "white",
           "zerolinewidth": 2
          },
          "yaxis": {
           "automargin": true,
           "gridcolor": "white",
           "linecolor": "white",
           "ticks": "",
           "title": {
            "standoff": 15
           },
           "zerolinecolor": "white",
           "zerolinewidth": 2
          }
         }
        },
        "title": {
         "text": "Confirmed Cases - World"
        },
        "xaxis": {
         "anchor": "y",
         "domain": [
          0,
          1
         ],
         "rangemode": "tozero",
         "title": {
          "text": "Mean Daily Growth over 14 previous days compared to Max Daily Growth (%)"
         }
        },
        "yaxis": {
         "anchor": "x",
         "domain": [
          0,
          1
         ],
         "rangemode": "tozero",
         "title": {
          "text": "Percentage of Total occuring in the last 14 days (%)"
         }
        }
       }
      },
      "text/html": [
       "<div>\n",
       "        \n",
       "        \n",
       "            <div id=\"90752814-b206-407d-b87f-368ae6be4892\" class=\"plotly-graph-div\" style=\"height:525px; width:100%;\"></div>\n",
       "            <script type=\"text/javascript\">\n",
       "                require([\"plotly\"], function(Plotly) {\n",
       "                    window.PLOTLYENV=window.PLOTLYENV || {};\n",
       "                    \n",
       "                if (document.getElementById(\"90752814-b206-407d-b87f-368ae6be4892\")) {\n",
       "                    Plotly.newPlot(\n",
       "                        '90752814-b206-407d-b87f-368ae6be4892',\n",
       "                        [{\"customdata\": [[50.0, 27.0, \"Belgium\", \"3/5/20\"], [109.0, 59.0, \"Belgium\", \"3/6/20\"], [169.0, 60.0, \"Belgium\", \"3/7/20\"], [200.0, 31.0, \"Belgium\", \"3/8/20\"], [239.0, 39.0, \"Belgium\", \"3/9/20\"], [267.0, 28.0, \"Belgium\", \"3/10/20\"], [314.0, 47.0, \"Belgium\", \"3/11/20\"], [314.0, 0.0, \"Belgium\", \"3/12/20\"], [559.0, 245.0, \"Belgium\", \"3/13/20\"], [689.0, 130.0, \"Belgium\", \"3/14/20\"], [886.0, 197.0, \"Belgium\", \"3/15/20\"], [1058.0, 172.0, \"Belgium\", \"3/16/20\"], [1243.0, 185.0, \"Belgium\", \"3/17/20\"], [1486.0, 243.0, \"Belgium\", \"3/18/20\"], [1795.0, 309.0, \"Belgium\", \"3/19/20\"], [2257.0, 462.0, \"Belgium\", \"3/20/20\"], [2815.0, 558.0, \"Belgium\", \"3/21/20\"], [3401.0, 586.0, \"Belgium\", \"3/22/20\"], [3743.0, 342.0, \"Belgium\", \"3/23/20\"], [4269.0, 526.0, \"Belgium\", \"3/24/20\"], [4937.0, 668.0, \"Belgium\", \"3/25/20\"], [6235.0, 1298.0, \"Belgium\", \"3/26/20\"], [7284.0, 1049.0, \"Belgium\", \"3/27/20\"], [9134.0, 1850.0, \"Belgium\", \"3/28/20\"], [10836.0, 1702.0, \"Belgium\", \"3/29/20\"], [11899.0, 1063.0, \"Belgium\", \"3/30/20\"], [12775.0, 876.0, \"Belgium\", \"3/31/20\"], [13964.0, 1189.0, \"Belgium\", \"4/1/20\"], [15348.0, 1384.0, \"Belgium\", \"4/2/20\"], [16770.0, 1422.0, \"Belgium\", \"4/3/20\"], [18431.0, 1661.0, \"Belgium\", \"4/4/20\"], [19691.0, 1260.0, \"Belgium\", \"4/5/20\"], [20814.0, 1123.0, \"Belgium\", \"4/6/20\"], [22194.0, 1380.0, \"Belgium\", \"4/7/20\"], [23403.0, 1209.0, \"Belgium\", \"4/8/20\"], [24983.0, 1580.0, \"Belgium\", \"4/9/20\"], [26667.0, 1684.0, \"Belgium\", \"4/10/20\"], [28018.0, 1351.0, \"Belgium\", \"4/11/20\"], [29647.0, 1629.0, \"Belgium\", \"4/12/20\"], [30589.0, 942.0, \"Belgium\", \"4/13/20\"], [31119.0, 530.0, \"Belgium\", \"4/14/20\"], [33573.0, 2454.0, \"Belgium\", \"4/15/20\"], [34809.0, 1236.0, \"Belgium\", \"4/16/20\"], [36138.0, 1329.0, \"Belgium\", \"4/17/20\"], [37183.0, 1045.0, \"Belgium\", \"4/18/20\"], [38496.0, 1313.0, \"Belgium\", \"4/19/20\"], [39983.0, 1487.0, \"Belgium\", \"4/20/20\"], [40956.0, 973.0, \"Belgium\", \"4/21/20\"], [41889.0, 933.0, \"Belgium\", \"4/22/20\"], [42797.0, 908.0, \"Belgium\", \"4/23/20\"], [44293.0, 1496.0, \"Belgium\", \"4/24/20\"], [45325.0, 1032.0, \"Belgium\", \"4/25/20\"], [46134.0, 809.0, \"Belgium\", \"4/26/20\"], [46687.0, 553.0, \"Belgium\", \"4/27/20\"], [47334.0, 647.0, \"Belgium\", \"4/28/20\"], [47859.0, 525.0, \"Belgium\", \"4/29/20\"], [48519.0, 660.0, \"Belgium\", \"4/30/20\"], [49032.0, 513.0, \"Belgium\", \"5/1/20\"], [49517.0, 485.0, \"Belgium\", \"5/2/20\"], [49906.0, 389.0, \"Belgium\", \"5/3/20\"], [50267.0, 361.0, \"Belgium\", \"5/4/20\"]], \"hoverlabel\": {\"namelength\": 0}, \"hovertemplate\": \"Country =%{customdata[2]}<br>Mean growth over 14d compared to max growth =%{x}<br>% cases from last 14d =%{y}<br>Confirmed Cases=%{customdata[0]}<br>Confirmed Cases today =%{customdata[1]}<br>Date=%{customdata[3]}\", \"legendgroup\": \"Belgium\", \"marker\": {\"color\": \"#636efa\", \"size\": [50.0, 109.0, 169.0, 200.0, 239.0, 267.0, 314.0, 314.0, 559.0, 689.0, 886.0, 1058.0, 1243.0, 1486.0, 1795.0, 2257.0, 2815.0, 3401.0, 3743.0, 4269.0, 4937.0, 6235.0, 7284.0, 9134.0, 10836.0, 11899.0, 12775.0, 13964.0, 15348.0, 16770.0, 18431.0, 19691.0, 20814.0, 22194.0, 23403.0, 24983.0, 26667.0, 28018.0, 29647.0, 30589.0, 31119.0, 33573.0, 34809.0, 36138.0, 37183.0, 38496.0, 39983.0, 40956.0, 41889.0, 42797.0, 44293.0, 45325.0, 46134.0, 46687.0, 47334.0, 47859.0, 48519.0, 49032.0, 49517.0, 49906.0, 50267.0], \"sizemode\": \"area\", \"sizeref\": 2950.9375, \"symbol\": \"circle\"}, \"mode\": \"lines+markers\", \"name\": \"Belgium\", \"showlegend\": true, \"type\": \"scattergl\", \"x\": [0.2, 0.4, 0.6, 0.8, 0.9, 1.0, 1.2, 1.2, 2.2, 2.7, 3.4, 4.1, 4.7, 5.6, 6.7, 8.3, 10.2, 12.4, 13.5, 15.5, 17.8, 22.9, 26.0, 32.6, 38.4, 41.9, 44.5, 48.2, 52.3, 56.0, 60.3, 62.9, 65.9, 69.2, 71.3, 72.4, 74.8, 72.9, 72.6, 72.2, 70.8, 75.7, 75.1, 74.8, 72.4, 72.6, 74.0, 72.4, 71.4, 68.8, 68.1, 66.8, 63.7, 62.2, 62.6, 55.2, 52.9, 49.8, 47.6, 44.1, 39.7], \"xaxis\": \"x\", \"y\": [98.0, 99.1, 99.4, 99.5, 99.6, 99.6, 99.7, 99.7, 99.8, 99.9, 99.8, 99.2, 99.0, 98.5, 97.2, 95.2, 94.0, 94.1, 93.6, 93.7, 93.6, 95.0, 92.3, 92.5, 91.8, 91.1, 90.3, 89.4, 88.3, 86.5, 84.7, 82.7, 82.0, 80.8, 78.9, 75.0, 72.7, 67.4, 63.4, 61.1, 58.9, 58.4, 55.9, 53.6, 50.4, 48.8, 47.9, 45.8, 44.1, 41.6, 39.8, 38.2, 35.7, 34.5, 34.3, 29.9, 28.3, 26.3, 24.9, 22.9, 20.5], \"yaxis\": \"y\"}, {\"customdata\": [[52.0, 14.0, \"Brazil\", \"3/12/20\"], [151.0, 99.0, \"Brazil\", \"3/13/20\"], [151.0, 0.0, \"Brazil\", \"3/14/20\"], [162.0, 11.0, \"Brazil\", \"3/15/20\"], [200.0, 38.0, \"Brazil\", \"3/16/20\"], [321.0, 121.0, \"Brazil\", \"3/17/20\"], [372.0, 51.0, \"Brazil\", \"3/18/20\"], [621.0, 249.0, \"Brazil\", \"3/19/20\"], [793.0, 172.0, \"Brazil\", \"3/20/20\"], [1021.0, 228.0, \"Brazil\", \"3/21/20\"], [1546.0, 525.0, \"Brazil\", \"3/22/20\"], [1924.0, 378.0, \"Brazil\", \"3/23/20\"], [2247.0, 323.0, \"Brazil\", \"3/24/20\"], [2554.0, 307.0, \"Brazil\", \"3/25/20\"], [2985.0, 431.0, \"Brazil\", \"3/26/20\"], [3417.0, 432.0, \"Brazil\", \"3/27/20\"], [3904.0, 487.0, \"Brazil\", \"3/28/20\"], [4256.0, 352.0, \"Brazil\", \"3/29/20\"], [4579.0, 323.0, \"Brazil\", \"3/30/20\"], [5717.0, 1138.0, \"Brazil\", \"3/31/20\"], [6836.0, 1119.0, \"Brazil\", \"4/1/20\"], [8044.0, 1208.0, \"Brazil\", \"4/2/20\"], [9056.0, 1012.0, \"Brazil\", \"4/3/20\"], [10360.0, 1304.0, \"Brazil\", \"4/4/20\"], [11130.0, 770.0, \"Brazil\", \"4/5/20\"], [12161.0, 1031.0, \"Brazil\", \"4/6/20\"], [14034.0, 1873.0, \"Brazil\", \"4/7/20\"], [16170.0, 2136.0, \"Brazil\", \"4/8/20\"], [18092.0, 1922.0, \"Brazil\", \"4/9/20\"], [19638.0, 1546.0, \"Brazil\", \"4/10/20\"], [20727.0, 1089.0, \"Brazil\", \"4/11/20\"], [22192.0, 1465.0, \"Brazil\", \"4/12/20\"], [23430.0, 1238.0, \"Brazil\", \"4/13/20\"], [25262.0, 1832.0, \"Brazil\", \"4/14/20\"], [28320.0, 3058.0, \"Brazil\", \"4/15/20\"], [30425.0, 2105.0, \"Brazil\", \"4/16/20\"], [33682.0, 3257.0, \"Brazil\", \"4/17/20\"], [36658.0, 2976.0, \"Brazil\", \"4/18/20\"], [38654.0, 1996.0, \"Brazil\", \"4/19/20\"], [40743.0, 2089.0, \"Brazil\", \"4/20/20\"], [43079.0, 2336.0, \"Brazil\", \"4/21/20\"], [45757.0, 2678.0, \"Brazil\", \"4/22/20\"], [50036.0, 4279.0, \"Brazil\", \"4/23/20\"], [54043.0, 4007.0, \"Brazil\", \"4/24/20\"], [59324.0, 5281.0, \"Brazil\", \"4/25/20\"], [63100.0, 3776.0, \"Brazil\", \"4/26/20\"], [67446.0, 4346.0, \"Brazil\", \"4/27/20\"], [73235.0, 5789.0, \"Brazil\", \"4/28/20\"], [79685.0, 6450.0, \"Brazil\", \"4/29/20\"], [87187.0, 7502.0, \"Brazil\", \"4/30/20\"], [92202.0, 5015.0, \"Brazil\", \"5/1/20\"], [97100.0, 4898.0, \"Brazil\", \"5/2/20\"], [101826.0, 4726.0, \"Brazil\", \"5/3/20\"], [108620.0, 6794.0, \"Brazil\", \"5/4/20\"]], \"hoverlabel\": {\"namelength\": 0}, \"hovertemplate\": \"Country =%{customdata[2]}<br>Mean growth over 14d compared to max growth =%{x}<br>% cases from last 14d =%{y}<br>Confirmed Cases=%{customdata[0]}<br>Confirmed Cases today =%{customdata[1]}<br>Date=%{customdata[3]}\", \"legendgroup\": \"Brazil\", \"marker\": {\"color\": \"#EF553B\", \"size\": [52.0, 151.0, 151.0, 162.0, 200.0, 321.0, 372.0, 621.0, 793.0, 1021.0, 1546.0, 1924.0, 2247.0, 2554.0, 2985.0, 3417.0, 3904.0, 4256.0, 4579.0, 5717.0, 6836.0, 8044.0, 9056.0, 10360.0, 11130.0, 12161.0, 14034.0, 16170.0, 18092.0, 19638.0, 20727.0, 22192.0, 23430.0, 25262.0, 28320.0, 30425.0, 33682.0, 36658.0, 38654.0, 40743.0, 43079.0, 45757.0, 50036.0, 54043.0, 59324.0, 63100.0, 67446.0, 73235.0, 79685.0, 87187.0, 92202.0, 97100.0, 101826.0, 108620.0], \"sizemode\": \"area\", \"sizeref\": 2950.9375, \"symbol\": \"circle\"}, \"mode\": \"lines+markers\", \"name\": \"Brazil\", \"showlegend\": true, \"type\": \"scattergl\", \"x\": [0.1, 0.2, 0.2, 0.2, 0.2, 0.3, 0.4, 0.6, 0.8, 1.1, 1.6, 2.0, 2.3, 2.6, 3.1, 3.4, 3.9, 4.3, 4.6, 5.7, 6.8, 7.8, 8.7, 9.8, 10.1, 10.8, 12.4, 14.3, 15.9, 17.1, 17.7, 18.9, 19.8, 20.5, 22.6, 23.5, 25.9, 27.6, 28.9, 30.0, 30.5, 31.1, 33.6, 36.2, 40.6, 43.0, 46.3, 50.4, 54.0, 59.7, 61.5, 63.5, 66.4, 71.4], \"xaxis\": \"x\", \"y\": [98.1, 99.3, 98.7, 98.8, 99.0, 99.4, 98.9, 99.4, 98.4, 98.7, 98.7, 98.7, 98.6, 98.5, 98.3, 95.6, 96.1, 96.2, 95.6, 94.4, 94.6, 92.3, 91.2, 90.1, 86.1, 84.2, 84.0, 84.2, 83.5, 82.6, 81.2, 80.8, 80.5, 77.4, 75.9, 73.6, 73.1, 71.7, 71.2, 70.2, 67.4, 64.7, 63.8, 63.7, 65.1, 64.8, 65.3, 65.5, 64.5, 65.1, 63.5, 62.2, 62.0, 62.5], \"yaxis\": \"y\"}, {\"customdata\": [[54.0, 5.0, \"Canada\", \"3/7/20\"], [64.0, 10.0, \"Canada\", \"3/8/20\"], [77.0, 13.0, \"Canada\", \"3/9/20\"], [79.0, 2.0, \"Canada\", \"3/10/20\"], [108.0, 29.0, \"Canada\", \"3/11/20\"], [117.0, 9.0, \"Canada\", \"3/12/20\"], [193.0, 76.0, \"Canada\", \"3/13/20\"], [198.0, 5.0, \"Canada\", \"3/14/20\"], [252.0, 54.0, \"Canada\", \"3/15/20\"], [415.0, 163.0, \"Canada\", \"3/16/20\"], [478.0, 63.0, \"Canada\", \"3/17/20\"], [657.0, 179.0, \"Canada\", \"3/18/20\"], [800.0, 143.0, \"Canada\", \"3/19/20\"], [943.0, 143.0, \"Canada\", \"3/20/20\"], [1277.0, 334.0, \"Canada\", \"3/21/20\"], [1469.0, 192.0, \"Canada\", \"3/22/20\"], [2088.0, 619.0, \"Canada\", \"3/23/20\"], [2790.0, 702.0, \"Canada\", \"3/24/20\"], [3251.0, 461.0, \"Canada\", \"3/25/20\"], [4042.0, 791.0, \"Canada\", \"3/26/20\"], [4682.0, 640.0, \"Canada\", \"3/27/20\"], [5576.0, 894.0, \"Canada\", \"3/28/20\"], [6280.0, 704.0, \"Canada\", \"3/29/20\"], [7398.0, 1118.0, \"Canada\", \"3/30/20\"], [8527.0, 1129.0, \"Canada\", \"3/31/20\"], [9560.0, 1033.0, \"Canada\", \"4/1/20\"], [11284.0, 1724.0, \"Canada\", \"4/2/20\"], [12437.0, 1153.0, \"Canada\", \"4/3/20\"], [12978.0, 541.0, \"Canada\", \"4/4/20\"], [15756.0, 2778.0, \"Canada\", \"4/5/20\"], [16563.0, 807.0, \"Canada\", \"4/6/20\"], [17872.0, 1309.0, \"Canada\", \"4/7/20\"], [19141.0, 1269.0, \"Canada\", \"4/8/20\"], [20654.0, 1513.0, \"Canada\", \"4/9/20\"], [22059.0, 1405.0, \"Canada\", \"4/10/20\"], [23316.0, 1257.0, \"Canada\", \"4/11/20\"], [24299.0, 983.0, \"Canada\", \"4/12/20\"], [25680.0, 1381.0, \"Canada\", \"4/13/20\"], [27035.0, 1355.0, \"Canada\", \"4/14/20\"], [28209.0, 1174.0, \"Canada\", \"4/15/20\"], [30809.0, 2600.0, \"Canada\", \"4/16/20\"], [32814.0, 2005.0, \"Canada\", \"4/17/20\"], [34356.0, 1542.0, \"Canada\", \"4/18/20\"], [35633.0, 1277.0, \"Canada\", \"4/19/20\"], [37658.0, 2025.0, \"Canada\", \"4/20/20\"], [39402.0, 1744.0, \"Canada\", \"4/21/20\"], [41663.0, 2261.0, \"Canada\", \"4/22/20\"], [43299.0, 1636.0, \"Canada\", \"4/23/20\"], [44919.0, 1620.0, \"Canada\", \"4/24/20\"], [46371.0, 1452.0, \"Canada\", \"4/25/20\"], [48033.0, 1662.0, \"Canada\", \"4/26/20\"], [49616.0, 1583.0, \"Canada\", \"4/27/20\"], [51150.0, 1534.0, \"Canada\", \"4/28/20\"], [52865.0, 1715.0, \"Canada\", \"4/29/20\"], [54457.0, 1592.0, \"Canada\", \"4/30/20\"], [56343.0, 1886.0, \"Canada\", \"5/1/20\"], [57926.0, 1583.0, \"Canada\", \"5/2/20\"], [60504.0, 2578.0, \"Canada\", \"5/3/20\"], [61957.0, 1453.0, \"Canada\", \"5/4/20\"]], \"hoverlabel\": {\"namelength\": 0}, \"hovertemplate\": \"Country =%{customdata[2]}<br>Mean growth over 14d compared to max growth =%{x}<br>% cases from last 14d =%{y}<br>Confirmed Cases=%{customdata[0]}<br>Confirmed Cases today =%{customdata[1]}<br>Date=%{customdata[3]}\", \"legendgroup\": \"Canada\", \"marker\": {\"color\": \"#00cc96\", \"size\": [54.0, 64.0, 77.0, 79.0, 108.0, 117.0, 193.0, 198.0, 252.0, 415.0, 478.0, 657.0, 800.0, 943.0, 1277.0, 1469.0, 2088.0, 2790.0, 3251.0, 4042.0, 4682.0, 5576.0, 6280.0, 7398.0, 8527.0, 9560.0, 11284.0, 12437.0, 12978.0, 15756.0, 16563.0, 17872.0, 19141.0, 20654.0, 22059.0, 23316.0, 24299.0, 25680.0, 27035.0, 28209.0, 30809.0, 32814.0, 34356.0, 35633.0, 37658.0, 39402.0, 41663.0, 43299.0, 44919.0, 46371.0, 48033.0, 49616.0, 51150.0, 52865.0, 54457.0, 56343.0, 57926.0, 60504.0, 61957.0], \"sizemode\": \"area\", \"sizeref\": 2950.9375, \"symbol\": \"circle\"}, \"mode\": \"lines+markers\", \"name\": \"Canada\", \"showlegend\": true, \"type\": \"scattergl\", \"x\": [0.1, 0.2, 0.2, 0.2, 0.3, 0.3, 0.5, 0.5, 0.6, 1.1, 1.2, 1.7, 2.1, 2.5, 3.4, 3.9, 5.5, 7.4, 8.6, 10.8, 12.3, 14.8, 16.6, 19.2, 22.1, 24.5, 28.8, 31.6, 32.1, 39.2, 39.8, 41.4, 43.7, 45.6, 47.7, 48.7, 49.5, 50.2, 50.8, 51.2, 53.6, 56.0, 58.7, 54.6, 58.0, 59.1, 61.9, 62.2, 62.8, 63.3, 65.2, 65.8, 66.2, 67.7, 65.0, 64.6, 64.8, 68.3, 66.8], \"xaxis\": \"x\", \"y\": [83.3, 85.9, 87.0, 86.1, 89.8, 88.9, 92.7, 89.9, 90.5, 93.5, 93.7, 95.0, 95.4, 94.8, 95.8, 95.6, 96.3, 97.2, 96.7, 97.1, 95.9, 96.4, 96.0, 94.4, 94.4, 93.1, 92.9, 92.4, 90.2, 90.7, 87.4, 84.4, 83.0, 80.4, 78.8, 76.1, 74.2, 71.2, 68.5, 66.1, 63.4, 62.1, 62.2, 55.8, 56.0, 54.6, 54.1, 52.3, 50.9, 49.7, 49.4, 48.2, 47.1, 46.6, 43.4, 41.8, 40.7, 41.1, 39.2], \"yaxis\": \"y\"}, {\"customdata\": [[61.0, 18.0, \"Chile\", \"3/14/20\"], [74.0, 13.0, \"Chile\", \"3/15/20\"], [155.0, 81.0, \"Chile\", \"3/16/20\"], [201.0, 46.0, \"Chile\", \"3/17/20\"], [238.0, 37.0, \"Chile\", \"3/18/20\"], [238.0, 0.0, \"Chile\", \"3/19/20\"], [434.0, 196.0, \"Chile\", \"3/20/20\"], [537.0, 103.0, \"Chile\", \"3/21/20\"], [632.0, 95.0, \"Chile\", \"3/22/20\"], [746.0, 114.0, \"Chile\", \"3/23/20\"], [922.0, 176.0, \"Chile\", \"3/24/20\"], [1142.0, 220.0, \"Chile\", \"3/25/20\"], [1306.0, 164.0, \"Chile\", \"3/26/20\"], [1610.0, 304.0, \"Chile\", \"3/27/20\"], [1909.0, 299.0, \"Chile\", \"3/28/20\"], [2139.0, 230.0, \"Chile\", \"3/29/20\"], [2449.0, 310.0, \"Chile\", \"3/30/20\"], [2738.0, 289.0, \"Chile\", \"3/31/20\"], [3031.0, 293.0, \"Chile\", \"4/1/20\"], [3404.0, 373.0, \"Chile\", \"4/2/20\"], [3737.0, 333.0, \"Chile\", \"4/3/20\"], [4161.0, 424.0, \"Chile\", \"4/4/20\"], [4471.0, 310.0, \"Chile\", \"4/5/20\"], [4815.0, 344.0, \"Chile\", \"4/6/20\"], [5116.0, 301.0, \"Chile\", \"4/7/20\"], [5546.0, 430.0, \"Chile\", \"4/8/20\"], [5972.0, 426.0, \"Chile\", \"4/9/20\"], [6501.0, 529.0, \"Chile\", \"4/10/20\"], [6927.0, 426.0, \"Chile\", \"4/11/20\"], [7213.0, 286.0, \"Chile\", \"4/12/20\"], [7525.0, 312.0, \"Chile\", \"4/13/20\"], [7917.0, 392.0, \"Chile\", \"4/14/20\"], [8273.0, 356.0, \"Chile\", \"4/15/20\"], [8807.0, 534.0, \"Chile\", \"4/16/20\"], [9252.0, 445.0, \"Chile\", \"4/17/20\"], [9730.0, 478.0, \"Chile\", \"4/18/20\"], [10088.0, 358.0, \"Chile\", \"4/19/20\"], [10507.0, 419.0, \"Chile\", \"4/20/20\"], [10832.0, 325.0, \"Chile\", \"4/21/20\"], [11296.0, 464.0, \"Chile\", \"4/22/20\"], [11812.0, 516.0, \"Chile\", \"4/23/20\"], [12306.0, 494.0, \"Chile\", \"4/24/20\"], [12858.0, 552.0, \"Chile\", \"4/25/20\"], [13331.0, 473.0, \"Chile\", \"4/26/20\"], [13813.0, 482.0, \"Chile\", \"4/27/20\"], [14365.0, 552.0, \"Chile\", \"4/28/20\"], [14885.0, 520.0, \"Chile\", \"4/29/20\"], [16023.0, 1138.0, \"Chile\", \"4/30/20\"], [17008.0, 985.0, \"Chile\", \"5/1/20\"], [18435.0, 1427.0, \"Chile\", \"5/2/20\"], [19663.0, 1228.0, \"Chile\", \"5/3/20\"], [20643.0, 980.0, \"Chile\", \"5/4/20\"]], \"hoverlabel\": {\"namelength\": 0}, \"hovertemplate\": \"Country =%{customdata[2]}<br>Mean growth over 14d compared to max growth =%{x}<br>% cases from last 14d =%{y}<br>Confirmed Cases=%{customdata[0]}<br>Confirmed Cases today =%{customdata[1]}<br>Date=%{customdata[3]}\", \"legendgroup\": \"Chile\", \"marker\": {\"color\": \"#ab63fa\", \"size\": [61.0, 74.0, 155.0, 201.0, 238.0, 238.0, 434.0, 537.0, 632.0, 746.0, 922.0, 1142.0, 1306.0, 1610.0, 1909.0, 2139.0, 2449.0, 2738.0, 3031.0, 3404.0, 3737.0, 4161.0, 4471.0, 4815.0, 5116.0, 5546.0, 5972.0, 6501.0, 6927.0, 7213.0, 7525.0, 7917.0, 8273.0, 8807.0, 9252.0, 9730.0, 10088.0, 10507.0, 10832.0, 11296.0, 11812.0, 12306.0, 12858.0, 13331.0, 13813.0, 14365.0, 14885.0, 16023.0, 17008.0, 18435.0, 19663.0, 20643.0], \"sizemode\": \"area\", \"sizeref\": 2950.9375, \"symbol\": \"circle\"}, \"mode\": \"lines+markers\", \"name\": \"Chile\", \"showlegend\": true, \"type\": \"scattergl\", \"x\": [0.4, 0.4, 0.9, 1.2, 1.4, 1.4, 2.5, 3.1, 3.6, 4.3, 5.3, 6.5, 7.5, 9.1, 10.7, 12.0, 13.3, 14.8, 16.2, 18.4, 19.2, 21.1, 22.3, 23.7, 24.4, 25.6, 27.1, 28.4, 29.2, 29.5, 29.5, 30.1, 30.5, 31.4, 32.1, 32.4, 32.7, 33.1, 33.2, 33.4, 34.0, 33.8, 34.5, 35.6, 36.6, 37.5, 38.5, 42.0, 45.1, 50.6, 55.7, 59.0], \"xaxis\": \"x\", \"y\": [100.0, 100.0, 100.0, 99.5, 99.6, 98.3, 99.1, 99.3, 98.7, 98.9, 98.6, 98.0, 98.2, 97.3, 96.8, 96.5, 93.7, 92.7, 92.1, 93.0, 88.4, 87.1, 85.9, 84.5, 82.0, 79.4, 78.1, 75.2, 72.4, 70.3, 67.5, 65.4, 63.4, 61.3, 59.6, 57.2, 55.7, 54.2, 52.8, 50.9, 49.4, 47.2, 46.1, 45.9, 45.5, 44.9, 44.4, 45.0, 45.6, 47.2, 48.7, 49.1], \"yaxis\": \"y\"}, {\"customdata\": [[548.0, -20095.0, \"China\", \"1/22/20\"], [643.0, 95.0, \"China\", \"1/23/20\"], [920.0, 277.0, \"China\", \"1/24/20\"], [1406.0, 486.0, \"China\", \"1/25/20\"], [2075.0, 669.0, \"China\", \"1/26/20\"], [2877.0, 802.0, \"China\", \"1/27/20\"], [5509.0, 2632.0, \"China\", \"1/28/20\"], [6087.0, 578.0, \"China\", \"1/29/20\"], [8141.0, 2054.0, \"China\", \"1/30/20\"], [9802.0, 1661.0, \"China\", \"1/31/20\"], [11891.0, 2089.0, \"China\", \"2/1/20\"], [16630.0, 4739.0, \"China\", \"2/2/20\"], [19716.0, 3086.0, \"China\", \"2/3/20\"], [23707.0, 3991.0, \"China\", \"2/4/20\"], [27440.0, 3733.0, \"China\", \"2/5/20\"], [30587.0, 3147.0, \"China\", \"2/6/20\"], [34110.0, 3523.0, \"China\", \"2/7/20\"], [36814.0, 2704.0, \"China\", \"2/8/20\"], [39829.0, 3015.0, \"China\", \"2/9/20\"], [42354.0, 2525.0, \"China\", \"2/10/20\"], [44386.0, 2032.0, \"China\", \"2/11/20\"], [44759.0, 373.0, \"China\", \"2/12/20\"], [59895.0, 15136.0, \"China\", \"2/13/20\"], [66358.0, 6463.0, \"China\", \"2/14/20\"], [68413.0, 2055.0, \"China\", \"2/15/20\"], [70513.0, 2100.0, \"China\", \"2/16/20\"], [72434.0, 1921.0, \"China\", \"2/17/20\"], [74211.0, 1777.0, \"China\", \"2/18/20\"], [74619.0, 408.0, \"China\", \"2/19/20\"], [75077.0, 458.0, \"China\", \"2/20/20\"], [75550.0, 473.0, \"China\", \"2/21/20\"], [77001.0, 1451.0, \"China\", \"2/22/20\"], [77022.0, 21.0, \"China\", \"2/23/20\"], [77241.0, 219.0, \"China\", \"2/24/20\"], [77754.0, 513.0, \"China\", \"2/25/20\"], [78166.0, 412.0, \"China\", \"2/26/20\"], [78600.0, 434.0, \"China\", \"2/27/20\"], [78928.0, 328.0, \"China\", \"2/28/20\"], [79356.0, 428.0, \"China\", \"2/29/20\"], [79932.0, 576.0, \"China\", \"3/1/20\"], [80136.0, 204.0, \"China\", \"3/2/20\"], [80261.0, 125.0, \"China\", \"3/3/20\"], [80386.0, 125.0, \"China\", \"3/4/20\"], [80537.0, 151.0, \"China\", \"3/5/20\"], [80690.0, 153.0, \"China\", \"3/6/20\"], [80770.0, 80.0, \"China\", \"3/7/20\"], [80823.0, 53.0, \"China\", \"3/8/20\"], [80860.0, 37.0, \"China\", \"3/9/20\"], [80887.0, 27.0, \"China\", \"3/10/20\"], [80921.0, 34.0, \"China\", \"3/11/20\"], [80932.0, 11.0, \"China\", \"3/12/20\"], [80945.0, 13.0, \"China\", \"3/13/20\"], [80977.0, 32.0, \"China\", \"3/14/20\"], [81003.0, 26.0, \"China\", \"3/15/20\"], [81033.0, 30.0, \"China\", \"3/16/20\"], [81058.0, 25.0, \"China\", \"3/17/20\"], [81102.0, 44.0, \"China\", \"3/18/20\"], [81156.0, 54.0, \"China\", \"3/19/20\"], [81250.0, 94.0, \"China\", \"3/20/20\"], [81305.0, 55.0, \"China\", \"3/21/20\"], [81435.0, 130.0, \"China\", \"3/22/20\"], [81498.0, 63.0, \"China\", \"3/23/20\"], [81591.0, 93.0, \"China\", \"3/24/20\"], [81661.0, 70.0, \"China\", \"3/25/20\"], [81782.0, 121.0, \"China\", \"3/26/20\"], [81897.0, 115.0, \"China\", \"3/27/20\"], [81999.0, 102.0, \"China\", \"3/28/20\"], [82122.0, 123.0, \"China\", \"3/29/20\"], [82198.0, 76.0, \"China\", \"3/30/20\"], [82279.0, 81.0, \"China\", \"3/31/20\"], [82361.0, 82.0, \"China\", \"4/1/20\"], [82432.0, 71.0, \"China\", \"4/2/20\"], [82511.0, 79.0, \"China\", \"4/3/20\"], [82543.0, 32.0, \"China\", \"4/4/20\"], [82602.0, 59.0, \"China\", \"4/5/20\"], [82665.0, 63.0, \"China\", \"4/6/20\"], [82718.0, 53.0, \"China\", \"4/7/20\"], [82809.0, 91.0, \"China\", \"4/8/20\"], [82883.0, 74.0, \"China\", \"4/9/20\"], [82941.0, 58.0, \"China\", \"4/10/20\"], [83014.0, 73.0, \"China\", \"4/11/20\"], [83134.0, 120.0, \"China\", \"4/12/20\"], [83213.0, 79.0, \"China\", \"4/13/20\"], [83306.0, 93.0, \"China\", \"4/14/20\"], [83356.0, 50.0, \"China\", \"4/15/20\"], [83403.0, 47.0, \"China\", \"4/16/20\"], [83760.0, 357.0, \"China\", \"4/17/20\"], [83787.0, 27.0, \"China\", \"4/18/20\"], [83805.0, 18.0, \"China\", \"4/19/20\"], [83817.0, 12.0, \"China\", \"4/20/20\"], [83853.0, 36.0, \"China\", \"4/21/20\"], [83868.0, 15.0, \"China\", \"4/22/20\"], [83884.0, 16.0, \"China\", \"4/23/20\"], [83899.0, 15.0, \"China\", \"4/24/20\"], [83909.0, 10.0, \"China\", \"4/25/20\"], [83912.0, 3.0, \"China\", \"4/26/20\"], [83918.0, 6.0, \"China\", \"4/27/20\"], [83940.0, 22.0, \"China\", \"4/28/20\"], [83944.0, 4.0, \"China\", \"4/29/20\"], [83956.0, 12.0, \"China\", \"4/30/20\"], [83959.0, 3.0, \"China\", \"5/1/20\"], [83959.0, 0.0, \"China\", \"5/2/20\"], [83964.0, 5.0, \"China\", \"5/3/20\"], [83966.0, 2.0, \"China\", \"5/4/20\"]], \"hoverlabel\": {\"namelength\": 0}, \"hovertemplate\": \"Country =%{customdata[2]}<br>Mean growth over 14d compared to max growth =%{x}<br>% cases from last 14d =%{y}<br>Confirmed Cases=%{customdata[0]}<br>Confirmed Cases today =%{customdata[1]}<br>Date=%{customdata[3]}\", \"legendgroup\": \"China\", \"marker\": {\"color\": \"#FFA15A\", \"size\": [548.0, 643.0, 920.0, 1406.0, 2075.0, 2877.0, 5509.0, 6087.0, 8141.0, 9802.0, 11891.0, 16630.0, 19716.0, 23707.0, 27440.0, 30587.0, 34110.0, 36814.0, 39829.0, 42354.0, 44386.0, 44759.0, 59895.0, 66358.0, 68413.0, 70513.0, 72434.0, 74211.0, 74619.0, 75077.0, 75550.0, 77001.0, 77022.0, 77241.0, 77754.0, 78166.0, 78600.0, 78928.0, 79356.0, 79932.0, 80136.0, 80261.0, 80386.0, 80537.0, 80690.0, 80770.0, 80823.0, 80860.0, 80887.0, 80921.0, 80932.0, 80945.0, 80977.0, 81003.0, 81033.0, 81058.0, 81102.0, 81156.0, 81250.0, 81305.0, 81435.0, 81498.0, 81591.0, 81661.0, 81782.0, 81897.0, 81999.0, 82122.0, 82198.0, 82279.0, 82361.0, 82432.0, 82511.0, 82543.0, 82602.0, 82665.0, 82718.0, 82809.0, 82883.0, 82941.0, 83014.0, 83134.0, 83213.0, 83306.0, 83356.0, 83403.0, 83760.0, 83787.0, 83805.0, 83817.0, 83853.0, 83868.0, 83884.0, 83899.0, 83909.0, 83912.0, 83918.0, 83940.0, 83944.0, 83956.0, 83959.0, 83959.0, 83964.0, 83966.0], \"sizemode\": \"area\", \"sizeref\": 2950.9375, \"symbol\": \"circle\"}, \"mode\": \"lines+markers\", \"name\": \"China\", \"showlegend\": true, \"type\": \"scattergl\", \"x\": [0.0, 0.0, 0.0, 0.0, 0.0, 0.0, 0.0, 0.0, 0.0, 0.0, 0.0, 0.0, 0.1, 3.4, 29.7, 33.1, 36.7, 39.1, 41.7, 43.6, 43.0, 42.7, 57.2, 62.5, 62.5, 59.6, 58.3, 55.8, 52.1, 49.2, 45.8, 44.4, 41.1, 38.6, 36.9, 36.9, 20.7, 13.9, 12.1, 10.4, 8.5, 6.7, 6.4, 6.0, 5.7, 4.2, 4.2, 4.0, 3.5, 3.0, 2.6, 2.2, 1.8, 1.2, 1.0, 0.9, 0.8, 0.7, 0.6, 0.6, 0.7, 0.7, 0.8, 0.8, 0.9, 1.1, 1.1, 1.2, 1.3, 1.3, 1.4, 1.4, 1.4, 1.4, 1.3, 1.3, 1.2, 1.3, 1.2, 1.2, 1.1, 1.1, 1.1, 1.1, 1.1, 1.1, 1.4, 1.4, 1.3, 1.3, 1.3, 1.2, 1.1, 1.1, 1.0, 0.9, 0.8, 0.7, 0.6, 0.6, 0.2, 0.2, 0.2, 0.2], \"xaxis\": \"x\", \"y\": [0.0, 0.0, 0.0, 0.0, 0.0, 0.0, 0.0, 0.0, 0.0, 0.0, 0.0, 0.0, 0.3, 12.9, 98.0, 97.9, 97.3, 96.2, 94.8, 93.2, 87.6, 86.4, 86.4, 85.2, 82.6, 76.4, 72.8, 68.1, 63.2, 59.3, 54.9, 52.2, 48.3, 45.2, 42.9, 42.7, 23.8, 15.9, 13.8, 11.8, 9.6, 7.5, 7.2, 6.8, 6.4, 4.7, 4.7, 4.5, 3.9, 3.4, 2.9, 2.5, 2.0, 1.3, 1.1, 1.0, 0.9, 0.8, 0.7, 0.7, 0.8, 0.8, 0.9, 0.9, 1.0, 1.2, 1.2, 1.4, 1.4, 1.5, 1.5, 1.5, 1.5, 1.5, 1.4, 1.4, 1.4, 1.4, 1.3, 1.3, 1.2, 1.2, 1.2, 1.2, 1.2, 1.2, 1.5, 1.5, 1.4, 1.4, 1.4, 1.3, 1.2, 1.1, 1.1, 0.9, 0.8, 0.8, 0.7, 0.7, 0.2, 0.2, 0.2, 0.2], \"yaxis\": \"y\"}, {\"customdata\": [[58.0, 21.0, \"Ecuador\", \"3/17/20\"], [111.0, 53.0, \"Ecuador\", \"3/18/20\"], [199.0, 88.0, \"Ecuador\", \"3/19/20\"], [367.0, 168.0, \"Ecuador\", \"3/20/20\"], [506.0, 139.0, \"Ecuador\", \"3/21/20\"], [789.0, 283.0, \"Ecuador\", \"3/22/20\"], [981.0, 192.0, \"Ecuador\", \"3/23/20\"], [1082.0, 101.0, \"Ecuador\", \"3/24/20\"], [1173.0, 91.0, \"Ecuador\", \"3/25/20\"], [1403.0, 230.0, \"Ecuador\", \"3/26/20\"], [1595.0, 192.0, \"Ecuador\", \"3/27/20\"], [1823.0, 228.0, \"Ecuador\", \"3/28/20\"], [1924.0, 101.0, \"Ecuador\", \"3/29/20\"], [1962.0, 38.0, \"Ecuador\", \"3/30/20\"], [2240.0, 278.0, \"Ecuador\", \"3/31/20\"], [2748.0, 508.0, \"Ecuador\", \"4/1/20\"], [3163.0, 415.0, \"Ecuador\", \"4/2/20\"], [3368.0, 205.0, \"Ecuador\", \"4/3/20\"], [3465.0, 97.0, \"Ecuador\", \"4/4/20\"], [3646.0, 181.0, \"Ecuador\", \"4/5/20\"], [3747.0, 101.0, \"Ecuador\", \"4/6/20\"], [3747.0, 0.0, \"Ecuador\", \"4/7/20\"], [4450.0, 703.0, \"Ecuador\", \"4/8/20\"], [4965.0, 515.0, \"Ecuador\", \"4/9/20\"], [7161.0, 2196.0, \"Ecuador\", \"4/10/20\"], [7257.0, 96.0, \"Ecuador\", \"4/11/20\"], [7466.0, 209.0, \"Ecuador\", \"4/12/20\"], [7529.0, 63.0, \"Ecuador\", \"4/13/20\"], [7603.0, 74.0, \"Ecuador\", \"4/14/20\"], [7858.0, 255.0, \"Ecuador\", \"4/15/20\"], [8225.0, 367.0, \"Ecuador\", \"4/16/20\"], [8450.0, 225.0, \"Ecuador\", \"4/17/20\"], [9022.0, 572.0, \"Ecuador\", \"4/18/20\"], [9468.0, 446.0, \"Ecuador\", \"4/19/20\"], [10128.0, 660.0, \"Ecuador\", \"4/20/20\"], [10398.0, 270.0, \"Ecuador\", \"4/21/20\"], [10850.0, 452.0, \"Ecuador\", \"4/22/20\"], [11183.0, 333.0, \"Ecuador\", \"4/23/20\"], [22719.0, 11536.0, \"Ecuador\", \"4/24/20\"], [22719.0, 0.0, \"Ecuador\", \"4/25/20\"], [22719.0, 0.0, \"Ecuador\", \"4/26/20\"], [23240.0, 521.0, \"Ecuador\", \"4/27/20\"], [24258.0, 1018.0, \"Ecuador\", \"4/28/20\"], [24675.0, 417.0, \"Ecuador\", \"4/29/20\"], [24934.0, 259.0, \"Ecuador\", \"4/30/20\"], [26336.0, 1402.0, \"Ecuador\", \"5/1/20\"], [27464.0, 1128.0, \"Ecuador\", \"5/2/20\"], [29538.0, 2074.0, \"Ecuador\", \"5/3/20\"], [31881.0, 2343.0, \"Ecuador\", \"5/4/20\"]], \"hoverlabel\": {\"namelength\": 0}, \"hovertemplate\": \"Country =%{customdata[2]}<br>Mean growth over 14d compared to max growth =%{x}<br>% cases from last 14d =%{y}<br>Confirmed Cases=%{customdata[0]}<br>Confirmed Cases today =%{customdata[1]}<br>Date=%{customdata[3]}\", \"legendgroup\": \"Ecuador\", \"marker\": {\"color\": \"#19d3f3\", \"size\": [58.0, 111.0, 199.0, 367.0, 506.0, 789.0, 981.0, 1082.0, 1173.0, 1403.0, 1595.0, 1823.0, 1924.0, 1962.0, 2240.0, 2748.0, 3163.0, 3368.0, 3465.0, 3646.0, 3747.0, 3747.0, 4450.0, 4965.0, 7161.0, 7257.0, 7466.0, 7529.0, 7603.0, 7858.0, 8225.0, 8450.0, 9022.0, 9468.0, 10128.0, 10398.0, 10850.0, 11183.0, 22719.0, 22719.0, 22719.0, 23240.0, 24258.0, 24675.0, 24934.0, 26336.0, 27464.0, 29538.0, 31881.0], \"sizemode\": \"area\", \"sizeref\": 2950.9375, \"symbol\": \"circle\"}, \"mode\": \"lines+markers\", \"name\": \"Ecuador\", \"showlegend\": true, \"type\": \"scattergl\", \"x\": [0.2, 0.3, 0.6, 1.1, 1.5, 2.4, 2.9, 3.3, 3.5, 4.2, 4.8, 5.5, 5.8, 5.9, 6.7, 8.0, 9.0, 9.1, 9.0, 8.7, 8.4, 8.1, 10.0, 10.9, 17.0, 16.6, 16.9, 17.0, 16.3, 15.6, 15.4, 15.5, 16.9, 17.7, 19.5, 20.3, 19.5, 19.0, 47.4, 47.1, 46.5, 47.9, 50.8, 51.3, 50.9, 54.5, 56.2, 61.2, 66.3], \"xaxis\": \"x\", \"y\": [87.9, 91.0, 93.5, 96.5, 97.4, 98.2, 98.5, 98.6, 98.6, 98.8, 98.9, 98.5, 98.5, 98.1, 97.4, 96.0, 93.7, 89.1, 85.4, 78.4, 73.8, 71.1, 73.6, 71.7, 77.7, 74.9, 74.2, 73.9, 70.5, 65.0, 61.5, 60.1, 61.6, 61.5, 63.0, 64.0, 59.0, 55.6, 68.5, 68.1, 67.1, 67.6, 68.7, 68.2, 67.0, 67.9, 67.1, 67.9, 68.2], \"yaxis\": \"y\"}, {\"customdata\": [[57.0, 19.0, \"France\", \"2/28/20\"], [100.0, 43.0, \"France\", \"2/29/20\"], [130.0, 30.0, \"France\", \"3/1/20\"], [191.0, 61.0, \"France\", \"3/2/20\"], [204.0, 13.0, \"France\", \"3/3/20\"], [288.0, 84.0, \"France\", \"3/4/20\"], [380.0, 92.0, \"France\", \"3/5/20\"], [656.0, 276.0, \"France\", \"3/6/20\"], [959.0, 303.0, \"France\", \"3/7/20\"], [1136.0, 177.0, \"France\", \"3/8/20\"], [1219.0, 83.0, \"France\", \"3/9/20\"], [1794.0, 575.0, \"France\", \"3/10/20\"], [2293.0, 499.0, \"France\", \"3/11/20\"], [2293.0, 0.0, \"France\", \"3/12/20\"], [3681.0, 1388.0, \"France\", \"3/13/20\"], [4496.0, 815.0, \"France\", \"3/14/20\"], [4532.0, 36.0, \"France\", \"3/15/20\"], [6683.0, 2151.0, \"France\", \"3/16/20\"], [7715.0, 1032.0, \"France\", \"3/17/20\"], [9124.0, 1409.0, \"France\", \"3/18/20\"], [10970.0, 1846.0, \"France\", \"3/19/20\"], [12758.0, 1788.0, \"France\", \"3/20/20\"], [14463.0, 1705.0, \"France\", \"3/21/20\"], [16243.0, 1780.0, \"France\", \"3/22/20\"], [20123.0, 3880.0, \"France\", \"3/23/20\"], [22622.0, 2499.0, \"France\", \"3/24/20\"], [25600.0, 2978.0, \"France\", \"3/25/20\"], [29551.0, 3951.0, \"France\", \"3/26/20\"], [33402.0, 3851.0, \"France\", \"3/27/20\"], [38105.0, 4703.0, \"France\", \"3/28/20\"], [40708.0, 2603.0, \"France\", \"3/29/20\"], [45170.0, 4462.0, \"France\", \"3/30/20\"], [52827.0, 7657.0, \"France\", \"3/31/20\"], [57749.0, 4922.0, \"France\", \"4/1/20\"], [59929.0, 2180.0, \"France\", \"4/2/20\"], [65202.0, 5273.0, \"France\", \"4/3/20\"], [69500.0, 4298.0, \"France\", \"4/4/20\"], [71412.0, 1912.0, \"France\", \"4/5/20\"], [75343.0, 3931.0, \"France\", \"4/6/20\"], [79163.0, 3820.0, \"France\", \"4/7/20\"], [83057.0, 3894.0, \"France\", \"4/8/20\"], [87366.0, 4309.0, \"France\", \"4/9/20\"], [91738.0, 4372.0, \"France\", \"4/10/20\"], [94863.0, 3125.0, \"France\", \"4/11/20\"], [121712.0, 26849.0, \"France\", \"4/12/20\"], [125394.0, 3682.0, \"France\", \"4/13/20\"], [130365.0, 4971.0, \"France\", \"4/14/20\"], [133585.0, 3220.0, \"France\", \"4/15/20\"], [146075.0, 12490.0, \"France\", \"4/16/20\"], [148084.0, 2009.0, \"France\", \"4/17/20\"], [148086.0, 2.0, \"France\", \"4/18/20\"], [153011.0, 4925.0, \"France\", \"4/19/20\"], [155393.0, 2382.0, \"France\", \"4/20/20\"], [158168.0, 2775.0, \"France\", \"4/21/20\"], [155980.0, -2188.0, \"France\", \"4/22/20\"], [158303.0, 2323.0, \"France\", \"4/23/20\"], [159952.0, 1649.0, \"France\", \"4/24/20\"], [161644.0, 1692.0, \"France\", \"4/25/20\"], [162220.0, 576.0, \"France\", \"4/26/20\"], [165963.0, 3743.0, \"France\", \"4/27/20\"], [169053.0, 3090.0, \"France\", \"4/28/20\"], [166543.0, -2510.0, \"France\", \"4/29/20\"], [167299.0, 756.0, \"France\", \"4/30/20\"], [167305.0, 6.0, \"France\", \"5/1/20\"], [168518.0, 1213.0, \"France\", \"5/2/20\"], [168925.0, 407.0, \"France\", \"5/3/20\"], [169583.0, 658.0, \"France\", \"5/4/20\"]], \"hoverlabel\": {\"namelength\": 0}, \"hovertemplate\": \"Country =%{customdata[2]}<br>Mean growth over 14d compared to max growth =%{x}<br>% cases from last 14d =%{y}<br>Confirmed Cases=%{customdata[0]}<br>Confirmed Cases today =%{customdata[1]}<br>Date=%{customdata[3]}\", \"legendgroup\": \"France\", \"marker\": {\"color\": \"#FF6692\", \"size\": [57.0, 100.0, 130.0, 191.0, 204.0, 288.0, 380.0, 656.0, 959.0, 1136.0, 1219.0, 1794.0, 2293.0, 2293.0, 3681.0, 4496.0, 4532.0, 6683.0, 7715.0, 9124.0, 10970.0, 12758.0, 14463.0, 16243.0, 20123.0, 22622.0, 25600.0, 29551.0, 33402.0, 38105.0, 40708.0, 45170.0, 52827.0, 57749.0, 59929.0, 65202.0, 69500.0, 71412.0, 75343.0, 79163.0, 83057.0, 87366.0, 91738.0, 94863.0, 121712.0, 125394.0, 130365.0, 133585.0, 146075.0, 148084.0, 148086.0, 153011.0, 155393.0, 158168.0, 155980.0, 158303.0, 159952.0, 161644.0, 162220.0, 165963.0, 169053.0, 166543.0, 167299.0, 167305.0, 168518.0, 168925.0, 169583.0], \"sizemode\": \"area\", \"sizeref\": 2950.9375, \"symbol\": \"circle\"}, \"mode\": \"lines+markers\", \"name\": \"France\", \"showlegend\": true, \"type\": \"scattergl\", \"x\": [0.0, 0.1, 0.1, 0.1, 0.1, 0.2, 0.2, 0.4, 0.5, 0.6, 0.7, 1.0, 1.3, 1.3, 2.1, 2.5, 2.5, 3.7, 4.3, 5.1, 6.1, 6.9, 7.7, 8.6, 10.8, 11.9, 13.3, 15.6, 17.0, 19.2, 20.7, 22.0, 25.8, 27.8, 28.0, 30.0, 31.5, 31.6, 31.6, 32.3, 32.9, 33.1, 33.4, 32.5, 46.3, 45.9, 44.3, 43.4, 49.3, 47.4, 44.9, 46.7, 45.8, 45.2, 41.7, 40.6, 39.0, 38.2, 23.2, 23.2, 22.1, 18.8, 12.1, 11.0, 11.7, 9.1, 8.1], \"xaxis\": \"x\", \"y\": [80.7, 88.0, 90.8, 93.7, 94.1, 95.8, 96.8, 98.2, 98.7, 98.9, 99.0, 99.2, 99.2, 98.3, 98.5, 97.8, 97.1, 97.1, 97.4, 96.8, 96.5, 94.9, 93.4, 93.0, 93.9, 92.1, 91.0, 92.2, 89.0, 88.2, 88.9, 85.2, 85.4, 84.2, 81.7, 80.4, 79.2, 77.3, 73.3, 71.4, 69.2, 66.2, 63.6, 59.8, 66.6, 64.0, 59.5, 56.8, 59.0, 56.0, 53.1, 53.3, 51.5, 50.0, 46.8, 44.8, 42.6, 41.3, 25.0, 24.4, 22.9, 19.8, 12.7, 11.5, 12.1, 9.4, 8.4], \"yaxis\": \"y\"}, {\"customdata\": [[79.0, 31.0, \"Germany\", \"2/29/20\"], [130.0, 51.0, \"Germany\", \"3/1/20\"], [159.0, 29.0, \"Germany\", \"3/2/20\"], [196.0, 37.0, \"Germany\", \"3/3/20\"], [262.0, 66.0, \"Germany\", \"3/4/20\"], [482.0, 220.0, \"Germany\", \"3/5/20\"], [670.0, 188.0, \"Germany\", \"3/6/20\"], [799.0, 129.0, \"Germany\", \"3/7/20\"], [1040.0, 241.0, \"Germany\", \"3/8/20\"], [1176.0, 136.0, \"Germany\", \"3/9/20\"], [1457.0, 281.0, \"Germany\", \"3/10/20\"], [1908.0, 451.0, \"Germany\", \"3/11/20\"], [2078.0, 170.0, \"Germany\", \"3/12/20\"], [3675.0, 1597.0, \"Germany\", \"3/13/20\"], [4585.0, 910.0, \"Germany\", \"3/14/20\"], [5795.0, 1210.0, \"Germany\", \"3/15/20\"], [7272.0, 1477.0, \"Germany\", \"3/16/20\"], [9257.0, 1985.0, \"Germany\", \"3/17/20\"], [12327.0, 3070.0, \"Germany\", \"3/18/20\"], [15320.0, 2993.0, \"Germany\", \"3/19/20\"], [19848.0, 4528.0, \"Germany\", \"3/20/20\"], [22213.0, 2365.0, \"Germany\", \"3/21/20\"], [24873.0, 2660.0, \"Germany\", \"3/22/20\"], [29056.0, 4183.0, \"Germany\", \"3/23/20\"], [32986.0, 3930.0, \"Germany\", \"3/24/20\"], [37323.0, 4337.0, \"Germany\", \"3/25/20\"], [43938.0, 6615.0, \"Germany\", \"3/26/20\"], [50871.0, 6933.0, \"Germany\", \"3/27/20\"], [57695.0, 6824.0, \"Germany\", \"3/28/20\"], [62095.0, 4400.0, \"Germany\", \"3/29/20\"], [66885.0, 4790.0, \"Germany\", \"3/30/20\"], [71808.0, 4923.0, \"Germany\", \"3/31/20\"], [77872.0, 6064.0, \"Germany\", \"4/1/20\"], [84794.0, 6922.0, \"Germany\", \"4/2/20\"], [91159.0, 6365.0, \"Germany\", \"4/3/20\"], [96092.0, 4933.0, \"Germany\", \"4/4/20\"], [100123.0, 4031.0, \"Germany\", \"4/5/20\"], [103374.0, 3251.0, \"Germany\", \"4/6/20\"], [107663.0, 4289.0, \"Germany\", \"4/7/20\"], [113296.0, 5633.0, \"Germany\", \"4/8/20\"], [118181.0, 4885.0, \"Germany\", \"4/9/20\"], [122171.0, 3990.0, \"Germany\", \"4/10/20\"], [124908.0, 2737.0, \"Germany\", \"4/11/20\"], [127854.0, 2946.0, \"Germany\", \"4/12/20\"], [130072.0, 2218.0, \"Germany\", \"4/13/20\"], [131359.0, 1287.0, \"Germany\", \"4/14/20\"], [134753.0, 3394.0, \"Germany\", \"4/15/20\"], [137698.0, 2945.0, \"Germany\", \"4/16/20\"], [141397.0, 3699.0, \"Germany\", \"4/17/20\"], [143342.0, 1945.0, \"Germany\", \"4/18/20\"], [145184.0, 1842.0, \"Germany\", \"4/19/20\"], [147065.0, 1881.0, \"Germany\", \"4/20/20\"], [148291.0, 1226.0, \"Germany\", \"4/21/20\"], [150648.0, 2357.0, \"Germany\", \"4/22/20\"], [153129.0, 2481.0, \"Germany\", \"4/23/20\"], [154999.0, 1870.0, \"Germany\", \"4/24/20\"], [156513.0, 1514.0, \"Germany\", \"4/25/20\"], [157770.0, 1257.0, \"Germany\", \"4/26/20\"], [158758.0, 988.0, \"Germany\", \"4/27/20\"], [159912.0, 1154.0, \"Germany\", \"4/28/20\"], [161539.0, 1627.0, \"Germany\", \"4/29/20\"], [163009.0, 1470.0, \"Germany\", \"4/30/20\"], [164077.0, 1068.0, \"Germany\", \"5/1/20\"], [164967.0, 890.0, \"Germany\", \"5/2/20\"], [165664.0, 697.0, \"Germany\", \"5/3/20\"], [166152.0, 488.0, \"Germany\", \"5/4/20\"]], \"hoverlabel\": {\"namelength\": 0}, \"hovertemplate\": \"Country =%{customdata[2]}<br>Mean growth over 14d compared to max growth =%{x}<br>% cases from last 14d =%{y}<br>Confirmed Cases=%{customdata[0]}<br>Confirmed Cases today =%{customdata[1]}<br>Date=%{customdata[3]}\", \"legendgroup\": \"Germany\", \"marker\": {\"color\": \"#B6E880\", \"size\": [79.0, 130.0, 159.0, 196.0, 262.0, 482.0, 670.0, 799.0, 1040.0, 1176.0, 1457.0, 1908.0, 2078.0, 3675.0, 4585.0, 5795.0, 7272.0, 9257.0, 12327.0, 15320.0, 19848.0, 22213.0, 24873.0, 29056.0, 32986.0, 37323.0, 43938.0, 50871.0, 57695.0, 62095.0, 66885.0, 71808.0, 77872.0, 84794.0, 91159.0, 96092.0, 100123.0, 103374.0, 107663.0, 113296.0, 118181.0, 122171.0, 124908.0, 127854.0, 130072.0, 131359.0, 134753.0, 137698.0, 141397.0, 143342.0, 145184.0, 147065.0, 148291.0, 150648.0, 153129.0, 154999.0, 156513.0, 157770.0, 158758.0, 159912.0, 161539.0, 163009.0, 164077.0, 164967.0, 165664.0, 166152.0], \"sizemode\": \"area\", \"sizeref\": 2950.9375, \"symbol\": \"circle\"}, \"mode\": \"lines+markers\", \"name\": \"Germany\", \"showlegend\": true, \"type\": \"scattergl\", \"x\": [0.1, 0.1, 0.1, 0.2, 0.3, 0.5, 0.7, 0.8, 1.1, 1.2, 1.5, 1.9, 2.1, 3.7, 4.6, 5.8, 7.3, 9.4, 12.4, 15.3, 19.8, 22.1, 24.6, 28.8, 32.5, 36.5, 43.2, 48.7, 54.8, 58.1, 61.5, 64.5, 67.6, 71.7, 73.6, 76.2, 77.7, 76.7, 77.1, 78.4, 76.6, 73.6, 69.4, 67.9, 65.2, 61.5, 58.7, 54.6, 51.8, 48.8, 46.5, 45.1, 41.9, 38.5, 36.1, 33.9, 32.6, 30.9, 29.6, 29.5, 27.6, 26.1, 23.4, 22.3, 21.1, 19.7], \"xaxis\": \"x\", \"y\": [79.7, 87.7, 89.9, 91.8, 93.9, 96.7, 97.6, 98.0, 98.5, 98.6, 98.8, 98.6, 97.8, 98.7, 98.3, 97.8, 97.8, 97.9, 97.9, 96.9, 96.6, 96.4, 95.8, 96.0, 95.6, 94.9, 95.3, 92.8, 92.1, 90.7, 89.1, 87.1, 84.2, 81.9, 78.2, 76.9, 75.2, 71.9, 69.4, 67.1, 62.8, 58.4, 53.8, 51.4, 48.6, 45.3, 42.2, 38.4, 35.5, 33.0, 31.0, 29.7, 27.4, 24.8, 22.8, 21.2, 20.2, 19.0, 18.1, 17.9, 16.6, 15.5, 13.8, 13.1, 12.4, 11.5], \"yaxis\": \"y\"}, {\"customdata\": [[56.0, 13.0, \"India\", \"3/10/20\"], [62.0, 6.0, \"India\", \"3/11/20\"], [73.0, 11.0, \"India\", \"3/12/20\"], [82.0, 9.0, \"India\", \"3/13/20\"], [102.0, 20.0, \"India\", \"3/14/20\"], [113.0, 11.0, \"India\", \"3/15/20\"], [119.0, 6.0, \"India\", \"3/16/20\"], [142.0, 23.0, \"India\", \"3/17/20\"], [156.0, 14.0, \"India\", \"3/18/20\"], [194.0, 38.0, \"India\", \"3/19/20\"], [244.0, 50.0, \"India\", \"3/20/20\"], [330.0, 86.0, \"India\", \"3/21/20\"], [396.0, 66.0, \"India\", \"3/22/20\"], [499.0, 103.0, \"India\", \"3/23/20\"], [536.0, 37.0, \"India\", \"3/24/20\"], [657.0, 121.0, \"India\", \"3/25/20\"], [727.0, 70.0, \"India\", \"3/26/20\"], [887.0, 160.0, \"India\", \"3/27/20\"], [987.0, 100.0, \"India\", \"3/28/20\"], [1024.0, 37.0, \"India\", \"3/29/20\"], [1251.0, 227.0, \"India\", \"3/30/20\"], [1397.0, 146.0, \"India\", \"3/31/20\"], [1998.0, 601.0, \"India\", \"4/1/20\"], [2543.0, 545.0, \"India\", \"4/2/20\"], [2567.0, 24.0, \"India\", \"4/3/20\"], [3082.0, 515.0, \"India\", \"4/4/20\"], [3588.0, 506.0, \"India\", \"4/5/20\"], [4778.0, 1190.0, \"India\", \"4/6/20\"], [5311.0, 533.0, \"India\", \"4/7/20\"], [5916.0, 605.0, \"India\", \"4/8/20\"], [6725.0, 809.0, \"India\", \"4/9/20\"], [7598.0, 873.0, \"India\", \"4/10/20\"], [8446.0, 848.0, \"India\", \"4/11/20\"], [9205.0, 759.0, \"India\", \"4/12/20\"], [10453.0, 1248.0, \"India\", \"4/13/20\"], [11487.0, 1034.0, \"India\", \"4/14/20\"], [12322.0, 835.0, \"India\", \"4/15/20\"], [13430.0, 1108.0, \"India\", \"4/16/20\"], [14352.0, 922.0, \"India\", \"4/17/20\"], [15722.0, 1370.0, \"India\", \"4/18/20\"], [17615.0, 1893.0, \"India\", \"4/19/20\"], [18539.0, 924.0, \"India\", \"4/20/20\"], [20080.0, 1541.0, \"India\", \"4/21/20\"], [21370.0, 1290.0, \"India\", \"4/22/20\"], [23077.0, 1707.0, \"India\", \"4/23/20\"], [24530.0, 1453.0, \"India\", \"4/24/20\"], [26283.0, 1753.0, \"India\", \"4/25/20\"], [27890.0, 1607.0, \"India\", \"4/26/20\"], [29451.0, 1561.0, \"India\", \"4/27/20\"], [31324.0, 1873.0, \"India\", \"4/28/20\"], [33062.0, 1738.0, \"India\", \"4/29/20\"], [34863.0, 1801.0, \"India\", \"4/30/20\"], [37257.0, 2394.0, \"India\", \"5/1/20\"], [39699.0, 2442.0, \"India\", \"5/2/20\"], [42505.0, 2806.0, \"India\", \"5/3/20\"], [46437.0, 3932.0, \"India\", \"5/4/20\"]], \"hoverlabel\": {\"namelength\": 0}, \"hovertemplate\": \"Country =%{customdata[2]}<br>Mean growth over 14d compared to max growth =%{x}<br>% cases from last 14d =%{y}<br>Confirmed Cases=%{customdata[0]}<br>Confirmed Cases today =%{customdata[1]}<br>Date=%{customdata[3]}\", \"legendgroup\": \"India\", \"marker\": {\"color\": \"#FF97FF\", \"size\": [56.0, 62.0, 73.0, 82.0, 102.0, 113.0, 119.0, 142.0, 156.0, 194.0, 244.0, 330.0, 396.0, 499.0, 536.0, 657.0, 727.0, 887.0, 987.0, 1024.0, 1251.0, 1397.0, 1998.0, 2543.0, 2567.0, 3082.0, 3588.0, 4778.0, 5311.0, 5916.0, 6725.0, 7598.0, 8446.0, 9205.0, 10453.0, 11487.0, 12322.0, 13430.0, 14352.0, 15722.0, 17615.0, 18539.0, 20080.0, 21370.0, 23077.0, 24530.0, 26283.0, 27890.0, 29451.0, 31324.0, 33062.0, 34863.0, 37257.0, 39699.0, 42505.0, 46437.0], \"sizemode\": \"area\", \"sizeref\": 2950.9375, \"symbol\": \"circle\"}, \"mode\": \"lines+markers\", \"name\": \"India\", \"showlegend\": true, \"type\": \"scattergl\", \"x\": [0.1, 0.2, 0.2, 0.2, 0.3, 0.3, 0.3, 0.3, 0.3, 0.4, 0.5, 0.8, 0.9, 1.2, 1.2, 1.5, 1.7, 2.0, 2.3, 2.3, 2.9, 3.2, 4.7, 6.0, 5.9, 7.0, 8.1, 10.9, 12.2, 13.4, 15.3, 17.1, 19.0, 20.8, 23.4, 25.7, 26.3, 27.7, 30.0, 32.2, 35.7, 35.0, 37.6, 39.3, 41.6, 43.1, 45.4, 47.6, 48.4, 50.5, 52.8, 54.6, 58.3, 61.0, 63.4, 71.0], \"xaxis\": \"x\", \"y\": [94.6, 95.2, 95.9, 96.3, 97.1, 97.3, 95.8, 96.5, 82.1, 84.5, 87.3, 89.7, 90.2, 91.4, 89.6, 90.6, 90.0, 90.8, 89.7, 89.0, 90.5, 89.8, 92.2, 92.4, 90.5, 89.3, 89.0, 89.6, 89.9, 88.9, 89.2, 88.3, 88.3, 88.9, 88.0, 87.8, 83.8, 81.1, 82.1, 80.4, 79.6, 74.2, 73.6, 72.3, 70.9, 69.0, 67.9, 67.0, 64.5, 63.3, 62.7, 61.5, 61.5, 60.4, 58.6, 60.1], \"yaxis\": \"y\"}, {\"customdata\": [[61.0, 18.0, \"Iran\", \"2/24/20\"], [95.0, 34.0, \"Iran\", \"2/25/20\"], [139.0, 44.0, \"Iran\", \"2/26/20\"], [245.0, 106.0, \"Iran\", \"2/27/20\"], [388.0, 143.0, \"Iran\", \"2/28/20\"], [593.0, 205.0, \"Iran\", \"2/29/20\"], [978.0, 385.0, \"Iran\", \"3/1/20\"], [1501.0, 523.0, \"Iran\", \"3/2/20\"], [2336.0, 835.0, \"Iran\", \"3/3/20\"], [2922.0, 586.0, \"Iran\", \"3/4/20\"], [3513.0, 591.0, \"Iran\", \"3/5/20\"], [4747.0, 1234.0, \"Iran\", \"3/6/20\"], [5823.0, 1076.0, \"Iran\", \"3/7/20\"], [6566.0, 743.0, \"Iran\", \"3/8/20\"], [7161.0, 595.0, \"Iran\", \"3/9/20\"], [8042.0, 881.0, \"Iran\", \"3/10/20\"], [9000.0, 958.0, \"Iran\", \"3/11/20\"], [10075.0, 1075.0, \"Iran\", \"3/12/20\"], [11364.0, 1289.0, \"Iran\", \"3/13/20\"], [12729.0, 1365.0, \"Iran\", \"3/14/20\"], [13938.0, 1209.0, \"Iran\", \"3/15/20\"], [14991.0, 1053.0, \"Iran\", \"3/16/20\"], [16169.0, 1178.0, \"Iran\", \"3/17/20\"], [17361.0, 1192.0, \"Iran\", \"3/18/20\"], [18407.0, 1046.0, \"Iran\", \"3/19/20\"], [19644.0, 1237.0, \"Iran\", \"3/20/20\"], [20610.0, 966.0, \"Iran\", \"3/21/20\"], [21638.0, 1028.0, \"Iran\", \"3/22/20\"], [23049.0, 1411.0, \"Iran\", \"3/23/20\"], [24811.0, 1762.0, \"Iran\", \"3/24/20\"], [27017.0, 2206.0, \"Iran\", \"3/25/20\"], [29406.0, 2389.0, \"Iran\", \"3/26/20\"], [32332.0, 2926.0, \"Iran\", \"3/27/20\"], [35408.0, 3076.0, \"Iran\", \"3/28/20\"], [38309.0, 2901.0, \"Iran\", \"3/29/20\"], [41495.0, 3186.0, \"Iran\", \"3/30/20\"], [44605.0, 3110.0, \"Iran\", \"3/31/20\"], [47593.0, 2988.0, \"Iran\", \"4/1/20\"], [50468.0, 2875.0, \"Iran\", \"4/2/20\"], [53183.0, 2715.0, \"Iran\", \"4/3/20\"], [55743.0, 2560.0, \"Iran\", \"4/4/20\"], [58226.0, 2483.0, \"Iran\", \"4/5/20\"], [60500.0, 2274.0, \"Iran\", \"4/6/20\"], [62589.0, 2089.0, \"Iran\", \"4/7/20\"], [64586.0, 1997.0, \"Iran\", \"4/8/20\"], [66220.0, 1634.0, \"Iran\", \"4/9/20\"], [68192.0, 1972.0, \"Iran\", \"4/10/20\"], [70029.0, 1837.0, \"Iran\", \"4/11/20\"], [71686.0, 1657.0, \"Iran\", \"4/12/20\"], [73303.0, 1617.0, \"Iran\", \"4/13/20\"], [74877.0, 1574.0, \"Iran\", \"4/14/20\"], [76389.0, 1512.0, \"Iran\", \"4/15/20\"], [77995.0, 1606.0, \"Iran\", \"4/16/20\"], [79494.0, 1499.0, \"Iran\", \"4/17/20\"], [80868.0, 1374.0, \"Iran\", \"4/18/20\"], [82211.0, 1343.0, \"Iran\", \"4/19/20\"], [83505.0, 1294.0, \"Iran\", \"4/20/20\"], [84802.0, 1297.0, \"Iran\", \"4/21/20\"], [85996.0, 1194.0, \"Iran\", \"4/22/20\"], [87026.0, 1030.0, \"Iran\", \"4/23/20\"], [88194.0, 1168.0, \"Iran\", \"4/24/20\"], [89328.0, 1134.0, \"Iran\", \"4/25/20\"], [90481.0, 1153.0, \"Iran\", \"4/26/20\"], [91472.0, 991.0, \"Iran\", \"4/27/20\"], [92584.0, 1112.0, \"Iran\", \"4/28/20\"], [93657.0, 1073.0, \"Iran\", \"4/29/20\"], [94640.0, 983.0, \"Iran\", \"4/30/20\"], [95646.0, 1006.0, \"Iran\", \"5/1/20\"], [96448.0, 802.0, \"Iran\", \"5/2/20\"], [97424.0, 976.0, \"Iran\", \"5/3/20\"], [98647.0, 1223.0, \"Iran\", \"5/4/20\"]], \"hoverlabel\": {\"namelength\": 0}, \"hovertemplate\": \"Country =%{customdata[2]}<br>Mean growth over 14d compared to max growth =%{x}<br>% cases from last 14d =%{y}<br>Confirmed Cases=%{customdata[0]}<br>Confirmed Cases today =%{customdata[1]}<br>Date=%{customdata[3]}\", \"legendgroup\": \"Iran\", \"marker\": {\"color\": \"#FECB52\", \"size\": [61.0, 95.0, 139.0, 245.0, 388.0, 593.0, 978.0, 1501.0, 2336.0, 2922.0, 3513.0, 4747.0, 5823.0, 6566.0, 7161.0, 8042.0, 9000.0, 10075.0, 11364.0, 12729.0, 13938.0, 14991.0, 16169.0, 17361.0, 18407.0, 19644.0, 20610.0, 21638.0, 23049.0, 24811.0, 27017.0, 29406.0, 32332.0, 35408.0, 38309.0, 41495.0, 44605.0, 47593.0, 50468.0, 53183.0, 55743.0, 58226.0, 60500.0, 62589.0, 64586.0, 66220.0, 68192.0, 70029.0, 71686.0, 73303.0, 74877.0, 76389.0, 77995.0, 79494.0, 80868.0, 82211.0, 83505.0, 84802.0, 85996.0, 87026.0, 88194.0, 89328.0, 90481.0, 91472.0, 92584.0, 93657.0, 94640.0, 95646.0, 96448.0, 97424.0, 98647.0], \"sizemode\": \"area\", \"sizeref\": 2950.9375, \"symbol\": \"circle\"}, \"mode\": \"lines+markers\", \"name\": \"Iran\", \"showlegend\": true, \"type\": \"scattergl\", \"x\": [0.1, 0.2, 0.3, 0.6, 0.9, 1.4, 2.2, 3.4, 5.4, 6.7, 8.1, 10.9, 13.3, 15.0, 16.3, 18.3, 20.4, 22.6, 25.2, 27.9, 29.8, 31.0, 31.8, 33.2, 34.2, 34.2, 34.0, 34.6, 36.5, 38.5, 41.4, 44.4, 48.2, 52.1, 56.0, 60.9, 65.3, 69.4, 73.6, 77.0, 80.7, 84.0, 86.0, 86.8, 86.3, 84.6, 82.4, 79.5, 76.7, 73.1, 69.5, 66.1, 63.2, 60.4, 57.7, 55.1, 52.8, 51.0, 49.2, 47.8, 45.9, 44.3, 43.2, 41.7, 40.7, 39.7, 38.2, 37.1, 35.8, 34.9, 34.8], \"xaxis\": \"x\", \"y\": [100.0, 100.0, 100.0, 100.0, 100.0, 100.0, 100.0, 100.0, 100.0, 99.9, 99.9, 99.6, 99.5, 99.3, 99.1, 98.8, 98.5, 97.6, 96.6, 95.3, 93.0, 90.0, 85.6, 83.2, 80.9, 75.8, 71.7, 69.7, 68.9, 67.6, 66.7, 65.7, 64.9, 64.1, 63.6, 63.9, 63.8, 63.5, 63.5, 63.1, 63.0, 62.8, 61.9, 60.4, 58.2, 55.6, 52.6, 49.4, 46.6, 43.4, 40.4, 37.7, 35.3, 33.1, 31.1, 29.2, 27.5, 26.2, 24.9, 23.9, 22.7, 21.6, 20.8, 19.9, 19.1, 18.4, 17.6, 16.9, 16.2, 15.6, 15.3], \"yaxis\": \"y\"}, {\"customdata\": [[90.0, 47.0, \"Ireland\", \"3/13/20\"], [129.0, 39.0, \"Ireland\", \"3/14/20\"], [129.0, 0.0, \"Ireland\", \"3/15/20\"], [169.0, 40.0, \"Ireland\", \"3/16/20\"], [223.0, 54.0, \"Ireland\", \"3/17/20\"], [292.0, 69.0, \"Ireland\", \"3/18/20\"], [557.0, 265.0, \"Ireland\", \"3/19/20\"], [683.0, 126.0, \"Ireland\", \"3/20/20\"], [785.0, 102.0, \"Ireland\", \"3/21/20\"], [906.0, 121.0, \"Ireland\", \"3/22/20\"], [1125.0, 219.0, \"Ireland\", \"3/23/20\"], [1329.0, 204.0, \"Ireland\", \"3/24/20\"], [1564.0, 235.0, \"Ireland\", \"3/25/20\"], [1819.0, 255.0, \"Ireland\", \"3/26/20\"], [2121.0, 302.0, \"Ireland\", \"3/27/20\"], [2415.0, 294.0, \"Ireland\", \"3/28/20\"], [2615.0, 200.0, \"Ireland\", \"3/29/20\"], [2910.0, 295.0, \"Ireland\", \"3/30/20\"], [3235.0, 325.0, \"Ireland\", \"3/31/20\"], [3447.0, 212.0, \"Ireland\", \"4/1/20\"], [3849.0, 402.0, \"Ireland\", \"4/2/20\"], [4273.0, 424.0, \"Ireland\", \"4/3/20\"], [4604.0, 331.0, \"Ireland\", \"4/4/20\"], [4994.0, 390.0, \"Ireland\", \"4/5/20\"], [5364.0, 370.0, \"Ireland\", \"4/6/20\"], [5709.0, 345.0, \"Ireland\", \"4/7/20\"], [6074.0, 365.0, \"Ireland\", \"4/8/20\"], [6574.0, 500.0, \"Ireland\", \"4/9/20\"], [8089.0, 1515.0, \"Ireland\", \"4/10/20\"], [8928.0, 839.0, \"Ireland\", \"4/11/20\"], [9655.0, 727.0, \"Ireland\", \"4/12/20\"], [10647.0, 992.0, \"Ireland\", \"4/13/20\"], [11479.0, 832.0, \"Ireland\", \"4/14/20\"], [12547.0, 1068.0, \"Ireland\", \"4/15/20\"], [13271.0, 724.0, \"Ireland\", \"4/16/20\"], [13980.0, 709.0, \"Ireland\", \"4/17/20\"], [14758.0, 778.0, \"Ireland\", \"4/18/20\"], [15251.0, 493.0, \"Ireland\", \"4/19/20\"], [15652.0, 401.0, \"Ireland\", \"4/20/20\"], [16040.0, 388.0, \"Ireland\", \"4/21/20\"], [16671.0, 631.0, \"Ireland\", \"4/22/20\"], [17607.0, 936.0, \"Ireland\", \"4/23/20\"], [18184.0, 577.0, \"Ireland\", \"4/24/20\"], [18561.0, 377.0, \"Ireland\", \"4/25/20\"], [19262.0, 701.0, \"Ireland\", \"4/26/20\"], [19648.0, 386.0, \"Ireland\", \"4/27/20\"], [19877.0, 229.0, \"Ireland\", \"4/28/20\"], [20253.0, 376.0, \"Ireland\", \"4/29/20\"], [20612.0, 359.0, \"Ireland\", \"4/30/20\"], [20833.0, 221.0, \"Ireland\", \"5/1/20\"], [21176.0, 343.0, \"Ireland\", \"5/2/20\"], [21506.0, 330.0, \"Ireland\", \"5/3/20\"], [21772.0, 266.0, \"Ireland\", \"5/4/20\"]], \"hoverlabel\": {\"namelength\": 0}, \"hovertemplate\": \"Country =%{customdata[2]}<br>Mean growth over 14d compared to max growth =%{x}<br>% cases from last 14d =%{y}<br>Confirmed Cases=%{customdata[0]}<br>Confirmed Cases today =%{customdata[1]}<br>Date=%{customdata[3]}\", \"legendgroup\": \"Ireland\", \"marker\": {\"color\": \"#636efa\", \"size\": [90.0, 129.0, 129.0, 169.0, 223.0, 292.0, 557.0, 683.0, 785.0, 906.0, 1125.0, 1329.0, 1564.0, 1819.0, 2121.0, 2415.0, 2615.0, 2910.0, 3235.0, 3447.0, 3849.0, 4273.0, 4604.0, 4994.0, 5364.0, 5709.0, 6074.0, 6574.0, 8089.0, 8928.0, 9655.0, 10647.0, 11479.0, 12547.0, 13271.0, 13980.0, 14758.0, 15251.0, 15652.0, 16040.0, 16671.0, 17607.0, 18184.0, 18561.0, 19262.0, 19648.0, 19877.0, 20253.0, 20612.0, 20833.0, 21176.0, 21506.0, 21772.0], \"sizemode\": \"area\", \"sizeref\": 2950.9375, \"symbol\": \"circle\"}, \"mode\": \"lines+markers\", \"name\": \"Ireland\", \"showlegend\": true, \"type\": \"scattergl\", \"x\": [0.6, 0.9, 0.9, 1.1, 1.5, 1.9, 3.7, 4.4, 5.1, 5.9, 7.4, 8.7, 10.2, 11.9, 13.6, 15.3, 16.6, 18.3, 20.1, 21.1, 22.0, 24.0, 25.5, 27.3, 28.4, 29.3, 30.2, 31.8, 39.9, 43.6, 47.1, 51.7, 55.1, 60.9, 63.0, 64.9, 67.9, 68.6, 68.8, 69.1, 70.9, 73.8, 67.5, 64.4, 64.3, 60.2, 56.2, 51.5, 49.1, 45.8, 42.9, 41.8, 40.9], \"xaxis\": \"x\", \"y\": [100.0, 99.2, 99.2, 99.4, 99.1, 97.9, 98.9, 97.4, 97.7, 97.9, 98.1, 97.4, 97.3, 97.6, 95.8, 94.7, 95.1, 94.2, 93.1, 91.5, 85.5, 84.0, 82.9, 81.9, 79.0, 76.7, 74.3, 72.3, 73.8, 73.0, 72.9, 72.7, 71.8, 72.5, 71.0, 69.4, 68.8, 67.3, 65.7, 64.4, 63.6, 62.7, 55.5, 51.9, 49.9, 45.8, 42.2, 38.0, 35.6, 32.9, 30.3, 29.1, 28.1], \"yaxis\": \"y\"}, {\"customdata\": [[62.0, 42.0, \"Italy\", \"2/22/20\"], [155.0, 93.0, \"Italy\", \"2/23/20\"], [229.0, 74.0, \"Italy\", \"2/24/20\"], [322.0, 93.0, \"Italy\", \"2/25/20\"], [453.0, 131.0, \"Italy\", \"2/26/20\"], [655.0, 202.0, \"Italy\", \"2/27/20\"], [888.0, 233.0, \"Italy\", \"2/28/20\"], [1128.0, 240.0, \"Italy\", \"2/29/20\"], [1694.0, 566.0, \"Italy\", \"3/1/20\"], [2036.0, 342.0, \"Italy\", \"3/2/20\"], [2502.0, 466.0, \"Italy\", \"3/3/20\"], [3089.0, 587.0, \"Italy\", \"3/4/20\"], [3858.0, 769.0, \"Italy\", \"3/5/20\"], [4636.0, 778.0, \"Italy\", \"3/6/20\"], [5883.0, 1247.0, \"Italy\", \"3/7/20\"], [7375.0, 1492.0, \"Italy\", \"3/8/20\"], [9172.0, 1797.0, \"Italy\", \"3/9/20\"], [10149.0, 977.0, \"Italy\", \"3/10/20\"], [12462.0, 2313.0, \"Italy\", \"3/11/20\"], [12462.0, 0.0, \"Italy\", \"3/12/20\"], [17660.0, 5198.0, \"Italy\", \"3/13/20\"], [21157.0, 3497.0, \"Italy\", \"3/14/20\"], [24747.0, 3590.0, \"Italy\", \"3/15/20\"], [27980.0, 3233.0, \"Italy\", \"3/16/20\"], [31506.0, 3526.0, \"Italy\", \"3/17/20\"], [35713.0, 4207.0, \"Italy\", \"3/18/20\"], [41035.0, 5322.0, \"Italy\", \"3/19/20\"], [47021.0, 5986.0, \"Italy\", \"3/20/20\"], [53578.0, 6557.0, \"Italy\", \"3/21/20\"], [59138.0, 5560.0, \"Italy\", \"3/22/20\"], [63927.0, 4789.0, \"Italy\", \"3/23/20\"], [69176.0, 5249.0, \"Italy\", \"3/24/20\"], [74386.0, 5210.0, \"Italy\", \"3/25/20\"], [80589.0, 6203.0, \"Italy\", \"3/26/20\"], [86498.0, 5909.0, \"Italy\", \"3/27/20\"], [92472.0, 5974.0, \"Italy\", \"3/28/20\"], [97689.0, 5217.0, \"Italy\", \"3/29/20\"], [101739.0, 4050.0, \"Italy\", \"3/30/20\"], [105792.0, 4053.0, \"Italy\", \"3/31/20\"], [110574.0, 4782.0, \"Italy\", \"4/1/20\"], [115242.0, 4668.0, \"Italy\", \"4/2/20\"], [119827.0, 4585.0, \"Italy\", \"4/3/20\"], [124632.0, 4805.0, \"Italy\", \"4/4/20\"], [128948.0, 4316.0, \"Italy\", \"4/5/20\"], [132547.0, 3599.0, \"Italy\", \"4/6/20\"], [135586.0, 3039.0, \"Italy\", \"4/7/20\"], [139422.0, 3836.0, \"Italy\", \"4/8/20\"], [143626.0, 4204.0, \"Italy\", \"4/9/20\"], [147577.0, 3951.0, \"Italy\", \"4/10/20\"], [152271.0, 4694.0, \"Italy\", \"4/11/20\"], [156363.0, 4092.0, \"Italy\", \"4/12/20\"], [159516.0, 3153.0, \"Italy\", \"4/13/20\"], [162488.0, 2972.0, \"Italy\", \"4/14/20\"], [165155.0, 2667.0, \"Italy\", \"4/15/20\"], [168941.0, 3786.0, \"Italy\", \"4/16/20\"], [172434.0, 3493.0, \"Italy\", \"4/17/20\"], [175925.0, 3491.0, \"Italy\", \"4/18/20\"], [178972.0, 3047.0, \"Italy\", \"4/19/20\"], [181228.0, 2256.0, \"Italy\", \"4/20/20\"], [183957.0, 2729.0, \"Italy\", \"4/21/20\"], [187327.0, 3370.0, \"Italy\", \"4/22/20\"], [189973.0, 2646.0, \"Italy\", \"4/23/20\"], [192994.0, 3021.0, \"Italy\", \"4/24/20\"], [195351.0, 2357.0, \"Italy\", \"4/25/20\"], [197675.0, 2324.0, \"Italy\", \"4/26/20\"], [199414.0, 1739.0, \"Italy\", \"4/27/20\"], [201505.0, 2091.0, \"Italy\", \"4/28/20\"], [203591.0, 2086.0, \"Italy\", \"4/29/20\"], [205463.0, 1872.0, \"Italy\", \"4/30/20\"], [207428.0, 1965.0, \"Italy\", \"5/1/20\"], [209328.0, 1900.0, \"Italy\", \"5/2/20\"], [210717.0, 1389.0, \"Italy\", \"5/3/20\"], [211938.0, 1221.0, \"Italy\", \"5/4/20\"]], \"hoverlabel\": {\"namelength\": 0}, \"hovertemplate\": \"Country =%{customdata[2]}<br>Mean growth over 14d compared to max growth =%{x}<br>% cases from last 14d =%{y}<br>Confirmed Cases=%{customdata[0]}<br>Confirmed Cases today =%{customdata[1]}<br>Date=%{customdata[3]}\", \"legendgroup\": \"Italy\", \"marker\": {\"color\": \"#EF553B\", \"size\": [62.0, 155.0, 229.0, 322.0, 453.0, 655.0, 888.0, 1128.0, 1694.0, 2036.0, 2502.0, 3089.0, 3858.0, 4636.0, 5883.0, 7375.0, 9172.0, 10149.0, 12462.0, 12462.0, 17660.0, 21157.0, 24747.0, 27980.0, 31506.0, 35713.0, 41035.0, 47021.0, 53578.0, 59138.0, 63927.0, 69176.0, 74386.0, 80589.0, 86498.0, 92472.0, 97689.0, 101739.0, 105792.0, 110574.0, 115242.0, 119827.0, 124632.0, 128948.0, 132547.0, 135586.0, 139422.0, 143626.0, 147577.0, 152271.0, 156363.0, 159516.0, 162488.0, 165155.0, 168941.0, 172434.0, 175925.0, 178972.0, 181228.0, 183957.0, 187327.0, 189973.0, 192994.0, 195351.0, 197675.0, 199414.0, 201505.0, 203591.0, 205463.0, 207428.0, 209328.0, 210717.0, 211938.0], \"sizemode\": \"area\", \"sizeref\": 2950.9375, \"symbol\": \"circle\"}, \"mode\": \"lines+markers\", \"name\": \"Italy\", \"showlegend\": true, \"type\": \"scattergl\", \"x\": [0.1, 0.2, 0.3, 0.4, 0.5, 0.8, 1.0, 1.3, 1.9, 2.3, 2.9, 3.6, 4.4, 5.3, 6.7, 8.3, 10.3, 11.3, 13.8, 13.6, 19.3, 23.1, 26.5, 29.9, 33.4, 37.6, 42.8, 48.8, 54.9, 59.6, 63.1, 68.0, 71.3, 78.4, 79.3, 82.1, 84.0, 84.9, 85.5, 86.2, 85.5, 83.8, 81.8, 80.4, 79.0, 76.5, 74.9, 72.6, 70.3, 68.9, 67.6, 66.5, 65.3, 62.9, 61.8, 60.6, 59.1, 57.6, 56.1, 55.7, 55.2, 53.4, 52.3, 49.6, 47.6, 45.9, 44.9, 44.3, 42.1, 40.3, 38.5, 36.6, 35.4], \"xaxis\": \"x\", \"y\": [95.2, 98.1, 98.7, 99.1, 99.3, 99.5, 99.7, 99.7, 99.8, 99.9, 99.9, 99.9, 99.9, 99.6, 98.9, 97.9, 97.5, 96.8, 96.4, 94.7, 95.0, 94.7, 93.2, 92.7, 92.1, 91.4, 90.6, 90.1, 89.0, 87.5, 85.7, 85.3, 83.2, 84.5, 79.6, 77.1, 74.7, 72.5, 70.2, 67.7, 64.4, 60.8, 57.0, 54.1, 51.8, 49.0, 46.6, 43.9, 41.4, 39.3, 37.5, 36.2, 34.9, 33.0, 31.8, 30.5, 29.2, 28.0, 26.9, 26.3, 25.6, 24.4, 23.5, 22.1, 20.9, 20.0, 19.4, 18.9, 17.8, 16.9, 16.0, 15.1, 14.5], \"yaxis\": \"y\"}, {\"customdata\": [[53.0, 12.0, \"Mexico\", \"3/15/20\"], [82.0, 29.0, \"Mexico\", \"3/16/20\"], [93.0, 11.0, \"Mexico\", \"3/17/20\"], [118.0, 25.0, \"Mexico\", \"3/18/20\"], [164.0, 46.0, \"Mexico\", \"3/19/20\"], [203.0, 39.0, \"Mexico\", \"3/20/20\"], [251.0, 48.0, \"Mexico\", \"3/21/20\"], [316.0, 65.0, \"Mexico\", \"3/22/20\"], [367.0, 51.0, \"Mexico\", \"3/23/20\"], [405.0, 38.0, \"Mexico\", \"3/24/20\"], [475.0, 70.0, \"Mexico\", \"3/25/20\"], [585.0, 110.0, \"Mexico\", \"3/26/20\"], [717.0, 132.0, \"Mexico\", \"3/27/20\"], [848.0, 131.0, \"Mexico\", \"3/28/20\"], [993.0, 145.0, \"Mexico\", \"3/29/20\"], [1094.0, 101.0, \"Mexico\", \"3/30/20\"], [1215.0, 121.0, \"Mexico\", \"3/31/20\"], [1378.0, 163.0, \"Mexico\", \"4/1/20\"], [1510.0, 132.0, \"Mexico\", \"4/2/20\"], [1688.0, 178.0, \"Mexico\", \"4/3/20\"], [1890.0, 202.0, \"Mexico\", \"4/4/20\"], [2143.0, 253.0, \"Mexico\", \"4/5/20\"], [2439.0, 296.0, \"Mexico\", \"4/6/20\"], [2785.0, 346.0, \"Mexico\", \"4/7/20\"], [3181.0, 396.0, \"Mexico\", \"4/8/20\"], [3441.0, 260.0, \"Mexico\", \"4/9/20\"], [3844.0, 403.0, \"Mexico\", \"4/10/20\"], [4219.0, 375.0, \"Mexico\", \"4/11/20\"], [4661.0, 442.0, \"Mexico\", \"4/12/20\"], [5014.0, 353.0, \"Mexico\", \"4/13/20\"], [5399.0, 385.0, \"Mexico\", \"4/14/20\"], [5847.0, 448.0, \"Mexico\", \"4/15/20\"], [6297.0, 450.0, \"Mexico\", \"4/16/20\"], [6875.0, 578.0, \"Mexico\", \"4/17/20\"], [7497.0, 622.0, \"Mexico\", \"4/18/20\"], [8261.0, 764.0, \"Mexico\", \"4/19/20\"], [8772.0, 511.0, \"Mexico\", \"4/20/20\"], [9501.0, 729.0, \"Mexico\", \"4/21/20\"], [10544.0, 1043.0, \"Mexico\", \"4/22/20\"], [11633.0, 1089.0, \"Mexico\", \"4/23/20\"], [12872.0, 1239.0, \"Mexico\", \"4/24/20\"], [13842.0, 970.0, \"Mexico\", \"4/25/20\"], [14677.0, 835.0, \"Mexico\", \"4/26/20\"], [15529.0, 852.0, \"Mexico\", \"4/27/20\"], [16752.0, 1223.0, \"Mexico\", \"4/28/20\"], [17799.0, 1047.0, \"Mexico\", \"4/29/20\"], [19224.0, 1425.0, \"Mexico\", \"4/30/20\"], [20739.0, 1515.0, \"Mexico\", \"5/1/20\"], [22088.0, 1349.0, \"Mexico\", \"5/2/20\"], [23471.0, 1383.0, \"Mexico\", \"5/3/20\"], [24905.0, 1434.0, \"Mexico\", \"5/4/20\"]], \"hoverlabel\": {\"namelength\": 0}, \"hovertemplate\": \"Country =%{customdata[2]}<br>Mean growth over 14d compared to max growth =%{x}<br>% cases from last 14d =%{y}<br>Confirmed Cases=%{customdata[0]}<br>Confirmed Cases today =%{customdata[1]}<br>Date=%{customdata[3]}\", \"legendgroup\": \"Mexico\", \"marker\": {\"color\": \"#00cc96\", \"size\": [53.0, 82.0, 93.0, 118.0, 164.0, 203.0, 251.0, 316.0, 367.0, 405.0, 475.0, 585.0, 717.0, 848.0, 993.0, 1094.0, 1215.0, 1378.0, 1510.0, 1688.0, 1890.0, 2143.0, 2439.0, 2785.0, 3181.0, 3441.0, 3844.0, 4219.0, 4661.0, 5014.0, 5399.0, 5847.0, 6297.0, 6875.0, 7497.0, 8261.0, 8772.0, 9501.0, 10544.0, 11633.0, 12872.0, 13842.0, 14677.0, 15529.0, 16752.0, 17799.0, 19224.0, 20739.0, 22088.0, 23471.0, 24905.0], \"sizemode\": \"area\", \"sizeref\": 2950.9375, \"symbol\": \"circle\"}, \"mode\": \"lines+markers\", \"name\": \"Mexico\", \"showlegend\": true, \"type\": \"scattergl\", \"x\": [0.2, 0.4, 0.4, 0.6, 0.8, 1.0, 1.2, 1.5, 1.8, 2.0, 2.3, 2.9, 3.4, 4.0, 4.7, 5.0, 5.6, 6.3, 6.7, 7.4, 8.2, 9.1, 10.3, 11.9, 13.5, 14.2, 15.6, 16.8, 18.3, 19.5, 20.8, 22.3, 23.8, 25.8, 27.9, 30.5, 31.5, 33.5, 36.7, 40.8, 45.0, 47.9, 49.9, 52.4, 56.6, 59.5, 64.4, 69.1, 72.7, 75.8, 80.4], \"xaxis\": \"x\", \"y\": [90.6, 93.9, 94.6, 95.8, 97.0, 97.0, 97.6, 97.8, 98.1, 98.3, 98.3, 97.9, 96.4, 95.2, 94.7, 92.5, 92.3, 91.4, 89.1, 88.0, 86.7, 85.3, 85.0, 85.5, 85.1, 83.0, 81.3, 79.9, 78.7, 78.2, 77.5, 76.4, 76.0, 75.4, 74.8, 74.1, 72.2, 70.7, 69.8, 70.4, 70.1, 69.5, 68.2, 67.7, 67.8, 67.1, 67.2, 66.8, 66.1, 64.8, 64.8], \"yaxis\": \"y\"}, {\"customdata\": [[82.0, 44.0, \"Netherlands\", \"3/5/20\"], [128.0, 46.0, \"Netherlands\", \"3/6/20\"], [188.0, 60.0, \"Netherlands\", \"3/7/20\"], [265.0, 77.0, \"Netherlands\", \"3/8/20\"], [321.0, 56.0, \"Netherlands\", \"3/9/20\"], [382.0, 61.0, \"Netherlands\", \"3/10/20\"], [503.0, 121.0, \"Netherlands\", \"3/11/20\"], [503.0, 0.0, \"Netherlands\", \"3/12/20\"], [806.0, 303.0, \"Netherlands\", \"3/13/20\"], [962.0, 156.0, \"Netherlands\", \"3/14/20\"], [1138.0, 176.0, \"Netherlands\", \"3/15/20\"], [1416.0, 278.0, \"Netherlands\", \"3/16/20\"], [1711.0, 295.0, \"Netherlands\", \"3/17/20\"], [2058.0, 347.0, \"Netherlands\", \"3/18/20\"], [2467.0, 409.0, \"Netherlands\", \"3/19/20\"], [3003.0, 536.0, \"Netherlands\", \"3/20/20\"], [3640.0, 637.0, \"Netherlands\", \"3/21/20\"], [4217.0, 577.0, \"Netherlands\", \"3/22/20\"], [4764.0, 547.0, \"Netherlands\", \"3/23/20\"], [5580.0, 816.0, \"Netherlands\", \"3/24/20\"], [6438.0, 858.0, \"Netherlands\", \"3/25/20\"], [7468.0, 1030.0, \"Netherlands\", \"3/26/20\"], [8647.0, 1179.0, \"Netherlands\", \"3/27/20\"], [9819.0, 1172.0, \"Netherlands\", \"3/28/20\"], [10930.0, 1111.0, \"Netherlands\", \"3/29/20\"], [11817.0, 887.0, \"Netherlands\", \"3/30/20\"], [12667.0, 850.0, \"Netherlands\", \"3/31/20\"], [13696.0, 1029.0, \"Netherlands\", \"4/1/20\"], [14788.0, 1092.0, \"Netherlands\", \"4/2/20\"], [15821.0, 1033.0, \"Netherlands\", \"4/3/20\"], [16727.0, 906.0, \"Netherlands\", \"4/4/20\"], [17953.0, 1226.0, \"Netherlands\", \"4/5/20\"], [18926.0, 973.0, \"Netherlands\", \"4/6/20\"], [19709.0, 783.0, \"Netherlands\", \"4/7/20\"], [20682.0, 973.0, \"Netherlands\", \"4/8/20\"], [21903.0, 1221.0, \"Netherlands\", \"4/9/20\"], [23249.0, 1346.0, \"Netherlands\", \"4/10/20\"], [24571.0, 1322.0, \"Netherlands\", \"4/11/20\"], [25746.0, 1175.0, \"Netherlands\", \"4/12/20\"], [26710.0, 964.0, \"Netherlands\", \"4/13/20\"], [27580.0, 870.0, \"Netherlands\", \"4/14/20\"], [28316.0, 736.0, \"Netherlands\", \"4/15/20\"], [29383.0, 1067.0, \"Netherlands\", \"4/16/20\"], [30619.0, 1236.0, \"Netherlands\", \"4/17/20\"], [31766.0, 1147.0, \"Netherlands\", \"4/18/20\"], [32838.0, 1072.0, \"Netherlands\", \"4/19/20\"], [33588.0, 750.0, \"Netherlands\", \"4/20/20\"], [34317.0, 729.0, \"Netherlands\", \"4/21/20\"], [35032.0, 715.0, \"Netherlands\", \"4/22/20\"], [35921.0, 889.0, \"Netherlands\", \"4/23/20\"], [36729.0, 808.0, \"Netherlands\", \"4/24/20\"], [37384.0, 655.0, \"Netherlands\", \"4/25/20\"], [38040.0, 656.0, \"Netherlands\", \"4/26/20\"], [38440.0, 400.0, \"Netherlands\", \"4/27/20\"], [38612.0, 172.0, \"Netherlands\", \"4/28/20\"], [38998.0, 386.0, \"Netherlands\", \"4/29/20\"], [39512.0, 514.0, \"Netherlands\", \"4/30/20\"], [39989.0, 477.0, \"Netherlands\", \"5/1/20\"], [40434.0, 445.0, \"Netherlands\", \"5/2/20\"], [40769.0, 335.0, \"Netherlands\", \"5/3/20\"], [40968.0, 199.0, \"Netherlands\", \"5/4/20\"]], \"hoverlabel\": {\"namelength\": 0}, \"hovertemplate\": \"Country =%{customdata[2]}<br>Mean growth over 14d compared to max growth =%{x}<br>% cases from last 14d =%{y}<br>Confirmed Cases=%{customdata[0]}<br>Confirmed Cases today =%{customdata[1]}<br>Date=%{customdata[3]}\", \"legendgroup\": \"Netherlands\", \"marker\": {\"color\": \"#ab63fa\", \"size\": [82.0, 128.0, 188.0, 265.0, 321.0, 382.0, 503.0, 503.0, 806.0, 962.0, 1138.0, 1416.0, 1711.0, 2058.0, 2467.0, 3003.0, 3640.0, 4217.0, 4764.0, 5580.0, 6438.0, 7468.0, 8647.0, 9819.0, 10930.0, 11817.0, 12667.0, 13696.0, 14788.0, 15821.0, 16727.0, 17953.0, 18926.0, 19709.0, 20682.0, 21903.0, 23249.0, 24571.0, 25746.0, 26710.0, 27580.0, 28316.0, 29383.0, 30619.0, 31766.0, 32838.0, 33588.0, 34317.0, 35032.0, 35921.0, 36729.0, 37384.0, 38040.0, 38440.0, 38612.0, 38998.0, 39512.0, 39989.0, 40434.0, 40769.0, 40968.0], \"sizemode\": \"area\", \"sizeref\": 2950.9375, \"symbol\": \"circle\"}, \"mode\": \"lines+markers\", \"name\": \"Netherlands\", \"showlegend\": true, \"type\": \"scattergl\", \"x\": [0.4, 0.7, 1.0, 1.4, 1.7, 2.1, 2.7, 2.7, 4.3, 5.2, 6.1, 7.6, 9.1, 10.9, 12.9, 15.5, 18.7, 21.4, 24.0, 28.1, 32.1, 37.6, 42.4, 47.9, 52.9, 56.2, 59.2, 62.9, 66.6, 69.3, 70.7, 74.2, 76.5, 76.3, 77.0, 78.0, 78.9, 79.7, 80.1, 80.5, 80.6, 79.0, 78.9, 80.0, 81.3, 80.4, 79.2, 78.9, 77.5, 75.7, 72.8, 69.2, 66.4, 63.4, 59.6, 57.7, 54.7, 50.6, 46.8, 42.9, 39.9], \"xaxis\": \"x\", \"y\": [100.0, 100.0, 100.0, 100.0, 100.0, 100.0, 100.0, 99.8, 99.9, 99.4, 99.1, 98.7, 98.6, 98.2, 96.7, 95.7, 94.8, 93.7, 93.3, 93.2, 92.2, 93.3, 90.7, 90.2, 89.6, 88.0, 86.5, 85.0, 83.3, 81.0, 78.2, 76.5, 74.8, 71.7, 68.9, 65.9, 62.8, 60.0, 57.5, 55.8, 54.1, 51.6, 49.7, 48.3, 47.3, 45.3, 43.7, 42.6, 41.0, 39.0, 36.7, 34.3, 32.3, 30.5, 28.6, 27.4, 25.6, 23.4, 21.4, 19.5, 18.0], \"yaxis\": \"y\"}, {\"customdata\": [[53.0, 22.0, \"Pakistan\", \"3/15/20\"], [136.0, 83.0, \"Pakistan\", \"3/16/20\"], [236.0, 100.0, \"Pakistan\", \"3/17/20\"], [299.0, 63.0, \"Pakistan\", \"3/18/20\"], [454.0, 155.0, \"Pakistan\", \"3/19/20\"], [501.0, 47.0, \"Pakistan\", \"3/20/20\"], [730.0, 229.0, \"Pakistan\", \"3/21/20\"], [776.0, 46.0, \"Pakistan\", \"3/22/20\"], [875.0, 99.0, \"Pakistan\", \"3/23/20\"], [972.0, 97.0, \"Pakistan\", \"3/24/20\"], [1063.0, 91.0, \"Pakistan\", \"3/25/20\"], [1201.0, 138.0, \"Pakistan\", \"3/26/20\"], [1373.0, 172.0, \"Pakistan\", \"3/27/20\"], [1495.0, 122.0, \"Pakistan\", \"3/28/20\"], [1597.0, 102.0, \"Pakistan\", \"3/29/20\"], [1717.0, 120.0, \"Pakistan\", \"3/30/20\"], [1938.0, 221.0, \"Pakistan\", \"3/31/20\"], [2118.0, 180.0, \"Pakistan\", \"4/1/20\"], [2421.0, 303.0, \"Pakistan\", \"4/2/20\"], [2686.0, 265.0, \"Pakistan\", \"4/3/20\"], [2818.0, 132.0, \"Pakistan\", \"4/4/20\"], [3157.0, 339.0, \"Pakistan\", \"4/5/20\"], [3766.0, 609.0, \"Pakistan\", \"4/6/20\"], [4035.0, 269.0, \"Pakistan\", \"4/7/20\"], [4263.0, 228.0, \"Pakistan\", \"4/8/20\"], [4489.0, 226.0, \"Pakistan\", \"4/9/20\"], [4695.0, 206.0, \"Pakistan\", \"4/10/20\"], [5011.0, 316.0, \"Pakistan\", \"4/11/20\"], [5230.0, 219.0, \"Pakistan\", \"4/12/20\"], [5496.0, 266.0, \"Pakistan\", \"4/13/20\"], [5837.0, 341.0, \"Pakistan\", \"4/14/20\"], [6383.0, 546.0, \"Pakistan\", \"4/15/20\"], [6919.0, 536.0, \"Pakistan\", \"4/16/20\"], [7025.0, 106.0, \"Pakistan\", \"4/17/20\"], [7638.0, 613.0, \"Pakistan\", \"4/18/20\"], [8348.0, 710.0, \"Pakistan\", \"4/19/20\"], [8418.0, 70.0, \"Pakistan\", \"4/20/20\"], [9565.0, 1147.0, \"Pakistan\", \"4/21/20\"], [10076.0, 511.0, \"Pakistan\", \"4/22/20\"], [11155.0, 1079.0, \"Pakistan\", \"4/23/20\"], [11940.0, 785.0, \"Pakistan\", \"4/24/20\"], [12723.0, 783.0, \"Pakistan\", \"4/25/20\"], [13328.0, 605.0, \"Pakistan\", \"4/26/20\"], [13915.0, 587.0, \"Pakistan\", \"4/27/20\"], [14612.0, 697.0, \"Pakistan\", \"4/28/20\"], [15525.0, 913.0, \"Pakistan\", \"4/29/20\"], [16817.0, 1292.0, \"Pakistan\", \"4/30/20\"], [18114.0, 1297.0, \"Pakistan\", \"5/1/20\"], [19103.0, 989.0, \"Pakistan\", \"5/2/20\"], [20084.0, 981.0, \"Pakistan\", \"5/3/20\"], [20941.0, 857.0, \"Pakistan\", \"5/4/20\"]], \"hoverlabel\": {\"namelength\": 0}, \"hovertemplate\": \"Country =%{customdata[2]}<br>Mean growth over 14d compared to max growth =%{x}<br>% cases from last 14d =%{y}<br>Confirmed Cases=%{customdata[0]}<br>Confirmed Cases today =%{customdata[1]}<br>Date=%{customdata[3]}\", \"legendgroup\": \"Pakistan\", \"marker\": {\"color\": \"#FFA15A\", \"size\": [53.0, 136.0, 236.0, 299.0, 454.0, 501.0, 730.0, 776.0, 875.0, 972.0, 1063.0, 1201.0, 1373.0, 1495.0, 1597.0, 1717.0, 1938.0, 2118.0, 2421.0, 2686.0, 2818.0, 3157.0, 3766.0, 4035.0, 4263.0, 4489.0, 4695.0, 5011.0, 5230.0, 5496.0, 5837.0, 6383.0, 6919.0, 7025.0, 7638.0, 8348.0, 8418.0, 9565.0, 10076.0, 11155.0, 11940.0, 12723.0, 13328.0, 13915.0, 14612.0, 15525.0, 16817.0, 18114.0, 19103.0, 20084.0, 20941.0], \"sizemode\": \"area\", \"sizeref\": 2950.9375, \"symbol\": \"circle\"}, \"mode\": \"lines+markers\", \"name\": \"Pakistan\", \"showlegend\": true, \"type\": \"scattergl\", \"x\": [0.3, 0.7, 1.3, 1.6, 2.5, 2.7, 4.0, 4.3, 4.8, 5.3, 5.8, 6.5, 7.4, 8.1, 8.5, 8.7, 9.4, 10.1, 10.9, 12.1, 11.5, 13.2, 16.0, 16.9, 17.7, 18.2, 18.4, 19.4, 20.1, 20.9, 21.6, 23.6, 24.9, 24.0, 26.6, 28.7, 25.7, 30.6, 32.1, 36.9, 40.1, 42.6, 44.8, 46.5, 48.5, 50.5, 54.7, 61.3, 63.4, 64.9, 69.2], \"xaxis\": \"x\", \"y\": [92.5, 97.1, 97.9, 98.3, 98.9, 98.8, 99.2, 99.2, 99.3, 98.4, 98.2, 98.3, 98.0, 97.9, 96.7, 92.1, 87.8, 85.9, 81.2, 81.3, 74.1, 75.4, 76.8, 75.9, 75.1, 73.2, 70.8, 70.2, 69.5, 68.8, 66.8, 66.8, 65.0, 61.8, 63.1, 62.2, 55.3, 57.8, 57.7, 59.8, 60.7, 60.6, 60.8, 60.5, 60.1, 58.9, 58.9, 61.2, 60.0, 58.4, 59.8], \"yaxis\": \"y\"}, {\"customdata\": [[86.0, 43.0, \"Peru\", \"3/16/20\"], [117.0, 31.0, \"Peru\", \"3/17/20\"], [145.0, 28.0, \"Peru\", \"3/18/20\"], [234.0, 89.0, \"Peru\", \"3/19/20\"], [234.0, 0.0, \"Peru\", \"3/20/20\"], [318.0, 84.0, \"Peru\", \"3/21/20\"], [363.0, 45.0, \"Peru\", \"3/22/20\"], [395.0, 32.0, \"Peru\", \"3/23/20\"], [416.0, 21.0, \"Peru\", \"3/24/20\"], [480.0, 64.0, \"Peru\", \"3/25/20\"], [580.0, 100.0, \"Peru\", \"3/26/20\"], [635.0, 55.0, \"Peru\", \"3/27/20\"], [671.0, 36.0, \"Peru\", \"3/28/20\"], [852.0, 181.0, \"Peru\", \"3/29/20\"], [950.0, 98.0, \"Peru\", \"3/30/20\"], [1065.0, 115.0, \"Peru\", \"3/31/20\"], [1323.0, 258.0, \"Peru\", \"4/1/20\"], [1414.0, 91.0, \"Peru\", \"4/2/20\"], [1595.0, 181.0, \"Peru\", \"4/3/20\"], [1746.0, 151.0, \"Peru\", \"4/4/20\"], [2281.0, 535.0, \"Peru\", \"4/5/20\"], [2561.0, 280.0, \"Peru\", \"4/6/20\"], [2954.0, 393.0, \"Peru\", \"4/7/20\"], [4342.0, 1388.0, \"Peru\", \"4/8/20\"], [5256.0, 914.0, \"Peru\", \"4/9/20\"], [5897.0, 641.0, \"Peru\", \"4/10/20\"], [6848.0, 951.0, \"Peru\", \"4/11/20\"], [7519.0, 671.0, \"Peru\", \"4/12/20\"], [9784.0, 2265.0, \"Peru\", \"4/13/20\"], [10303.0, 519.0, \"Peru\", \"4/14/20\"], [11475.0, 1172.0, \"Peru\", \"4/15/20\"], [12491.0, 1016.0, \"Peru\", \"4/16/20\"], [13489.0, 998.0, \"Peru\", \"4/17/20\"], [14420.0, 931.0, \"Peru\", \"4/18/20\"], [15628.0, 1208.0, \"Peru\", \"4/19/20\"], [16325.0, 697.0, \"Peru\", \"4/20/20\"], [17837.0, 1512.0, \"Peru\", \"4/21/20\"], [19250.0, 1413.0, \"Peru\", \"4/22/20\"], [20914.0, 1664.0, \"Peru\", \"4/23/20\"], [21648.0, 734.0, \"Peru\", \"4/24/20\"], [25331.0, 3683.0, \"Peru\", \"4/25/20\"], [27517.0, 2186.0, \"Peru\", \"4/26/20\"], [28699.0, 1182.0, \"Peru\", \"4/27/20\"], [31190.0, 2491.0, \"Peru\", \"4/28/20\"], [33931.0, 2741.0, \"Peru\", \"4/29/20\"], [36976.0, 3045.0, \"Peru\", \"4/30/20\"], [40459.0, 3483.0, \"Peru\", \"5/1/20\"], [42534.0, 2075.0, \"Peru\", \"5/2/20\"], [45928.0, 3394.0, \"Peru\", \"5/3/20\"], [47372.0, 1444.0, \"Peru\", \"5/4/20\"]], \"hoverlabel\": {\"namelength\": 0}, \"hovertemplate\": \"Country =%{customdata[2]}<br>Mean growth over 14d compared to max growth =%{x}<br>% cases from last 14d =%{y}<br>Confirmed Cases=%{customdata[0]}<br>Confirmed Cases today =%{customdata[1]}<br>Date=%{customdata[3]}\", \"legendgroup\": \"Peru\", \"marker\": {\"color\": \"#19d3f3\", \"size\": [86.0, 117.0, 145.0, 234.0, 234.0, 318.0, 363.0, 395.0, 416.0, 480.0, 580.0, 635.0, 671.0, 852.0, 950.0, 1065.0, 1323.0, 1414.0, 1595.0, 1746.0, 2281.0, 2561.0, 2954.0, 4342.0, 5256.0, 5897.0, 6848.0, 7519.0, 9784.0, 10303.0, 11475.0, 12491.0, 13489.0, 14420.0, 15628.0, 16325.0, 17837.0, 19250.0, 20914.0, 21648.0, 25331.0, 27517.0, 28699.0, 31190.0, 33931.0, 36976.0, 40459.0, 42534.0, 45928.0, 47372.0], \"sizemode\": \"area\", \"sizeref\": 2950.9375, \"symbol\": \"circle\"}, \"mode\": \"lines+markers\", \"name\": \"Peru\", \"showlegend\": true, \"type\": \"scattergl\", \"x\": [0.2, 0.2, 0.3, 0.5, 0.5, 0.7, 0.7, 0.8, 0.8, 1.0, 1.2, 1.2, 1.3, 1.7, 1.8, 1.9, 2.4, 2.4, 2.8, 2.9, 3.9, 4.4, 5.2, 7.9, 9.6, 10.8, 12.7, 13.7, 18.1, 18.9, 20.8, 22.7, 24.4, 26.0, 27.4, 28.2, 30.5, 30.6, 32.1, 32.3, 37.9, 41.0, 38.8, 42.8, 46.1, 50.2, 55.3, 57.7, 62.1, 63.7], \"xaxis\": \"x\", \"y\": [100.0, 100.0, 100.0, 100.0, 99.6, 99.7, 98.3, 98.2, 97.4, 97.7, 97.4, 95.6, 94.3, 95.0, 90.9, 89.0, 89.0, 83.5, 85.3, 81.8, 84.1, 84.6, 85.9, 88.9, 89.0, 89.2, 90.2, 88.7, 90.3, 89.7, 88.5, 88.7, 88.2, 87.9, 85.4, 84.3, 83.4, 77.4, 74.9, 72.8, 73.0, 72.7, 65.9, 67.0, 66.2, 66.2, 66.7, 66.1, 66.0, 65.5], \"yaxis\": \"y\"}, {\"customdata\": [[59.0, 18.0, \"Portugal\", \"3/11/20\"], [59.0, 0.0, \"Portugal\", \"3/12/20\"], [112.0, 53.0, \"Portugal\", \"3/13/20\"], [169.0, 57.0, \"Portugal\", \"3/14/20\"], [245.0, 76.0, \"Portugal\", \"3/15/20\"], [331.0, 86.0, \"Portugal\", \"3/16/20\"], [448.0, 117.0, \"Portugal\", \"3/17/20\"], [448.0, 0.0, \"Portugal\", \"3/18/20\"], [785.0, 337.0, \"Portugal\", \"3/19/20\"], [1020.0, 235.0, \"Portugal\", \"3/20/20\"], [1280.0, 260.0, \"Portugal\", \"3/21/20\"], [1600.0, 320.0, \"Portugal\", \"3/22/20\"], [2060.0, 460.0, \"Portugal\", \"3/23/20\"], [2362.0, 302.0, \"Portugal\", \"3/24/20\"], [2995.0, 633.0, \"Portugal\", \"3/25/20\"], [3544.0, 549.0, \"Portugal\", \"3/26/20\"], [4268.0, 724.0, \"Portugal\", \"3/27/20\"], [5170.0, 902.0, \"Portugal\", \"3/28/20\"], [5962.0, 792.0, \"Portugal\", \"3/29/20\"], [6408.0, 446.0, \"Portugal\", \"3/30/20\"], [7443.0, 1035.0, \"Portugal\", \"3/31/20\"], [8251.0, 808.0, \"Portugal\", \"4/1/20\"], [9034.0, 783.0, \"Portugal\", \"4/2/20\"], [9886.0, 852.0, \"Portugal\", \"4/3/20\"], [10524.0, 638.0, \"Portugal\", \"4/4/20\"], [11278.0, 754.0, \"Portugal\", \"4/5/20\"], [11730.0, 452.0, \"Portugal\", \"4/6/20\"], [12442.0, 712.0, \"Portugal\", \"4/7/20\"], [13141.0, 699.0, \"Portugal\", \"4/8/20\"], [13956.0, 815.0, \"Portugal\", \"4/9/20\"], [15472.0, 1516.0, \"Portugal\", \"4/10/20\"], [15987.0, 515.0, \"Portugal\", \"4/11/20\"], [16585.0, 598.0, \"Portugal\", \"4/12/20\"], [16934.0, 349.0, \"Portugal\", \"4/13/20\"], [17448.0, 514.0, \"Portugal\", \"4/14/20\"], [18091.0, 643.0, \"Portugal\", \"4/15/20\"], [18841.0, 750.0, \"Portugal\", \"4/16/20\"], [19022.0, 181.0, \"Portugal\", \"4/17/20\"], [19685.0, 663.0, \"Portugal\", \"4/18/20\"], [20206.0, 521.0, \"Portugal\", \"4/19/20\"], [20863.0, 657.0, \"Portugal\", \"4/20/20\"], [21379.0, 516.0, \"Portugal\", \"4/21/20\"], [21982.0, 603.0, \"Portugal\", \"4/22/20\"], [22353.0, 371.0, \"Portugal\", \"4/23/20\"], [22797.0, 444.0, \"Portugal\", \"4/24/20\"], [23392.0, 595.0, \"Portugal\", \"4/25/20\"], [23864.0, 472.0, \"Portugal\", \"4/26/20\"], [24027.0, 163.0, \"Portugal\", \"4/27/20\"], [24322.0, 295.0, \"Portugal\", \"4/28/20\"], [24505.0, 183.0, \"Portugal\", \"4/29/20\"], [25045.0, 540.0, \"Portugal\", \"4/30/20\"], [25351.0, 306.0, \"Portugal\", \"5/1/20\"], [25190.0, -161.0, \"Portugal\", \"5/2/20\"], [25282.0, 92.0, \"Portugal\", \"5/3/20\"], [25524.0, 242.0, \"Portugal\", \"5/4/20\"]], \"hoverlabel\": {\"namelength\": 0}, \"hovertemplate\": \"Country =%{customdata[2]}<br>Mean growth over 14d compared to max growth =%{x}<br>% cases from last 14d =%{y}<br>Confirmed Cases=%{customdata[0]}<br>Confirmed Cases today =%{customdata[1]}<br>Date=%{customdata[3]}\", \"legendgroup\": \"Portugal\", \"marker\": {\"color\": \"#FF6692\", \"size\": [59.0, 59.0, 112.0, 169.0, 245.0, 331.0, 448.0, 448.0, 785.0, 1020.0, 1280.0, 1600.0, 2060.0, 2362.0, 2995.0, 3544.0, 4268.0, 5170.0, 5962.0, 6408.0, 7443.0, 8251.0, 9034.0, 9886.0, 10524.0, 11278.0, 11730.0, 12442.0, 13141.0, 13956.0, 15472.0, 15987.0, 16585.0, 16934.0, 17448.0, 18091.0, 18841.0, 19022.0, 19685.0, 20206.0, 20863.0, 21379.0, 21982.0, 22353.0, 22797.0, 23392.0, 23864.0, 24027.0, 24322.0, 24505.0, 25045.0, 25351.0, 25190.0, 25282.0, 25524.0], \"sizemode\": \"area\", \"sizeref\": 2950.9375, \"symbol\": \"circle\"}, \"mode\": \"lines+markers\", \"name\": \"Portugal\", \"showlegend\": true, \"type\": \"scattergl\", \"x\": [0.4, 0.4, 0.8, 1.2, 1.7, 2.3, 3.1, 3.1, 5.4, 6.9, 8.7, 10.8, 14.0, 16.0, 20.3, 24.1, 28.7, 34.5, 39.5, 41.9, 48.3, 53.9, 56.9, 61.2, 63.8, 66.8, 66.7, 69.6, 70.0, 71.9, 77.3, 74.7, 73.3, 72.6, 69.0, 67.9, 67.7, 63.1, 63.2, 61.6, 63.0, 61.7, 61.0, 58.0, 50.6, 51.1, 50.2, 49.0, 47.4, 44.3, 42.8, 43.7, 38.0, 35.0, 32.2], \"xaxis\": \"x\", \"y\": [100.0, 100.0, 100.0, 100.0, 100.0, 99.4, 99.6, 98.9, 99.0, 98.7, 98.4, 98.1, 98.5, 98.3, 98.0, 98.3, 97.4, 96.7, 95.9, 94.8, 94.0, 94.6, 91.3, 89.7, 87.8, 85.8, 82.4, 81.0, 77.2, 74.6, 72.4, 67.7, 64.1, 62.2, 57.3, 54.4, 52.1, 48.0, 46.5, 44.2, 43.8, 41.8, 40.2, 37.6, 32.1, 31.7, 30.5, 29.5, 28.3, 26.2, 24.8, 25.0, 21.9, 20.1, 18.3], \"yaxis\": \"y\"}, {\"customdata\": [[59.0, 14.0, \"Russia\", \"3/14/20\"], [63.0, 4.0, \"Russia\", \"3/15/20\"], [90.0, 27.0, \"Russia\", \"3/16/20\"], [114.0, 24.0, \"Russia\", \"3/17/20\"], [147.0, 33.0, \"Russia\", \"3/18/20\"], [199.0, 52.0, \"Russia\", \"3/19/20\"], [253.0, 54.0, \"Russia\", \"3/20/20\"], [306.0, 53.0, \"Russia\", \"3/21/20\"], [367.0, 61.0, \"Russia\", \"3/22/20\"], [438.0, 71.0, \"Russia\", \"3/23/20\"], [495.0, 57.0, \"Russia\", \"3/24/20\"], [658.0, 163.0, \"Russia\", \"3/25/20\"], [840.0, 182.0, \"Russia\", \"3/26/20\"], [1036.0, 196.0, \"Russia\", \"3/27/20\"], [1264.0, 228.0, \"Russia\", \"3/28/20\"], [1534.0, 270.0, \"Russia\", \"3/29/20\"], [1836.0, 302.0, \"Russia\", \"3/30/20\"], [2337.0, 501.0, \"Russia\", \"3/31/20\"], [2777.0, 440.0, \"Russia\", \"4/1/20\"], [3548.0, 771.0, \"Russia\", \"4/2/20\"], [4149.0, 601.0, \"Russia\", \"4/3/20\"], [4731.0, 582.0, \"Russia\", \"4/4/20\"], [5389.0, 658.0, \"Russia\", \"4/5/20\"], [6343.0, 954.0, \"Russia\", \"4/6/20\"], [7497.0, 1154.0, \"Russia\", \"4/7/20\"], [8672.0, 1175.0, \"Russia\", \"4/8/20\"], [10131.0, 1459.0, \"Russia\", \"4/9/20\"], [11917.0, 1786.0, \"Russia\", \"4/10/20\"], [13584.0, 1667.0, \"Russia\", \"4/11/20\"], [15770.0, 2186.0, \"Russia\", \"4/12/20\"], [18328.0, 2558.0, \"Russia\", \"4/13/20\"], [21102.0, 2774.0, \"Russia\", \"4/14/20\"], [24490.0, 3388.0, \"Russia\", \"4/15/20\"], [27938.0, 3448.0, \"Russia\", \"4/16/20\"], [32008.0, 4070.0, \"Russia\", \"4/17/20\"], [36793.0, 4785.0, \"Russia\", \"4/18/20\"], [42853.0, 6060.0, \"Russia\", \"4/19/20\"], [47121.0, 4268.0, \"Russia\", \"4/20/20\"], [52763.0, 5642.0, \"Russia\", \"4/21/20\"], [57999.0, 5236.0, \"Russia\", \"4/22/20\"], [62773.0, 4774.0, \"Russia\", \"4/23/20\"], [68622.0, 5849.0, \"Russia\", \"4/24/20\"], [74588.0, 5966.0, \"Russia\", \"4/25/20\"], [80949.0, 6361.0, \"Russia\", \"4/26/20\"], [87147.0, 6198.0, \"Russia\", \"4/27/20\"], [93558.0, 6411.0, \"Russia\", \"4/28/20\"], [99399.0, 5841.0, \"Russia\", \"4/29/20\"], [106498.0, 7099.0, \"Russia\", \"4/30/20\"], [114431.0, 7933.0, \"Russia\", \"5/1/20\"], [124054.0, 9623.0, \"Russia\", \"5/2/20\"], [134687.0, 10633.0, \"Russia\", \"5/3/20\"], [145268.0, 10581.0, \"Russia\", \"5/4/20\"]], \"hoverlabel\": {\"namelength\": 0}, \"hovertemplate\": \"Country =%{customdata[2]}<br>Mean growth over 14d compared to max growth =%{x}<br>% cases from last 14d =%{y}<br>Confirmed Cases=%{customdata[0]}<br>Confirmed Cases today =%{customdata[1]}<br>Date=%{customdata[3]}\", \"legendgroup\": \"Russia\", \"marker\": {\"color\": \"#B6E880\", \"size\": [59.0, 63.0, 90.0, 114.0, 147.0, 199.0, 253.0, 306.0, 367.0, 438.0, 495.0, 658.0, 840.0, 1036.0, 1264.0, 1534.0, 1836.0, 2337.0, 2777.0, 3548.0, 4149.0, 4731.0, 5389.0, 6343.0, 7497.0, 8672.0, 10131.0, 11917.0, 13584.0, 15770.0, 18328.0, 21102.0, 24490.0, 27938.0, 32008.0, 36793.0, 42853.0, 47121.0, 52763.0, 57999.0, 62773.0, 68622.0, 74588.0, 80949.0, 87147.0, 93558.0, 99399.0, 106498.0, 114431.0, 124054.0, 134687.0, 145268.0], \"sizemode\": \"area\", \"sizeref\": 2950.9375, \"symbol\": \"circle\"}, \"mode\": \"lines+markers\", \"name\": \"Russia\", \"showlegend\": true, \"type\": \"scattergl\", \"x\": [0.0, 0.0, 0.1, 0.1, 0.1, 0.1, 0.2, 0.2, 0.2, 0.3, 0.3, 0.4, 0.5, 0.7, 0.8, 1.0, 1.2, 1.5, 1.8, 2.3, 2.6, 3.0, 3.4, 4.0, 4.7, 5.4, 6.3, 7.3, 8.3, 9.6, 11.1, 12.7, 14.7, 16.5, 18.8, 21.6, 25.3, 27.5, 30.6, 33.3, 35.5, 38.3, 41.2, 44.0, 46.5, 48.9, 50.6, 53.0, 55.6, 58.9, 62.0, 66.3], \"xaxis\": \"x\", \"y\": [96.6, 96.8, 96.7, 97.4, 98.0, 98.0, 94.9, 95.8, 95.4, 96.1, 96.0, 97.0, 96.7, 95.7, 95.3, 95.9, 95.1, 95.1, 94.7, 94.4, 93.9, 93.5, 93.2, 93.1, 93.4, 92.4, 91.7, 91.3, 90.7, 90.3, 90.0, 88.9, 88.7, 87.3, 87.0, 87.1, 87.4, 86.5, 85.8, 85.0, 83.9, 82.6, 81.8, 80.5, 79.0, 77.4, 75.4, 73.8, 72.0, 70.3, 68.2, 67.6], \"yaxis\": \"y\"}, {\"customdata\": [[86.0, 41.0, \"Saudi Arabia\", \"3/13/20\"], [103.0, 17.0, \"Saudi Arabia\", \"3/14/20\"], [103.0, 0.0, \"Saudi Arabia\", \"3/15/20\"], [118.0, 15.0, \"Saudi Arabia\", \"3/16/20\"], [171.0, 53.0, \"Saudi Arabia\", \"3/17/20\"], [171.0, 0.0, \"Saudi Arabia\", \"3/18/20\"], [274.0, 103.0, \"Saudi Arabia\", \"3/19/20\"], [344.0, 70.0, \"Saudi Arabia\", \"3/20/20\"], [392.0, 48.0, \"Saudi Arabia\", \"3/21/20\"], [511.0, 119.0, \"Saudi Arabia\", \"3/22/20\"], [562.0, 51.0, \"Saudi Arabia\", \"3/23/20\"], [767.0, 205.0, \"Saudi Arabia\", \"3/24/20\"], [900.0, 133.0, \"Saudi Arabia\", \"3/25/20\"], [1012.0, 112.0, \"Saudi Arabia\", \"3/26/20\"], [1104.0, 92.0, \"Saudi Arabia\", \"3/27/20\"], [1203.0, 99.0, \"Saudi Arabia\", \"3/28/20\"], [1299.0, 96.0, \"Saudi Arabia\", \"3/29/20\"], [1453.0, 154.0, \"Saudi Arabia\", \"3/30/20\"], [1563.0, 110.0, \"Saudi Arabia\", \"3/31/20\"], [1720.0, 157.0, \"Saudi Arabia\", \"4/1/20\"], [1885.0, 165.0, \"Saudi Arabia\", \"4/2/20\"], [2039.0, 154.0, \"Saudi Arabia\", \"4/3/20\"], [2179.0, 140.0, \"Saudi Arabia\", \"4/4/20\"], [2402.0, 223.0, \"Saudi Arabia\", \"4/5/20\"], [2605.0, 203.0, \"Saudi Arabia\", \"4/6/20\"], [2795.0, 190.0, \"Saudi Arabia\", \"4/7/20\"], [2932.0, 137.0, \"Saudi Arabia\", \"4/8/20\"], [3287.0, 355.0, \"Saudi Arabia\", \"4/9/20\"], [3651.0, 364.0, \"Saudi Arabia\", \"4/10/20\"], [4033.0, 382.0, \"Saudi Arabia\", \"4/11/20\"], [4462.0, 429.0, \"Saudi Arabia\", \"4/12/20\"], [4934.0, 472.0, \"Saudi Arabia\", \"4/13/20\"], [5369.0, 435.0, \"Saudi Arabia\", \"4/14/20\"], [5862.0, 493.0, \"Saudi Arabia\", \"4/15/20\"], [6380.0, 518.0, \"Saudi Arabia\", \"4/16/20\"], [7142.0, 762.0, \"Saudi Arabia\", \"4/17/20\"], [8274.0, 1132.0, \"Saudi Arabia\", \"4/18/20\"], [9362.0, 1088.0, \"Saudi Arabia\", \"4/19/20\"], [10484.0, 1122.0, \"Saudi Arabia\", \"4/20/20\"], [11631.0, 1147.0, \"Saudi Arabia\", \"4/21/20\"], [12772.0, 1141.0, \"Saudi Arabia\", \"4/22/20\"], [13930.0, 1158.0, \"Saudi Arabia\", \"4/23/20\"], [15102.0, 1172.0, \"Saudi Arabia\", \"4/24/20\"], [16299.0, 1197.0, \"Saudi Arabia\", \"4/25/20\"], [17522.0, 1223.0, \"Saudi Arabia\", \"4/26/20\"], [18811.0, 1289.0, \"Saudi Arabia\", \"4/27/20\"], [20077.0, 1266.0, \"Saudi Arabia\", \"4/28/20\"], [21402.0, 1325.0, \"Saudi Arabia\", \"4/29/20\"], [22753.0, 1351.0, \"Saudi Arabia\", \"4/30/20\"], [24097.0, 1344.0, \"Saudi Arabia\", \"5/1/20\"], [25459.0, 1362.0, \"Saudi Arabia\", \"5/2/20\"], [27011.0, 1552.0, \"Saudi Arabia\", \"5/3/20\"], [28656.0, 1645.0, \"Saudi Arabia\", \"5/4/20\"]], \"hoverlabel\": {\"namelength\": 0}, \"hovertemplate\": \"Country =%{customdata[2]}<br>Mean growth over 14d compared to max growth =%{x}<br>% cases from last 14d =%{y}<br>Confirmed Cases=%{customdata[0]}<br>Confirmed Cases today =%{customdata[1]}<br>Date=%{customdata[3]}\", \"legendgroup\": \"Saudi Arabia\", \"marker\": {\"color\": \"#FF97FF\", \"size\": [86.0, 103.0, 103.0, 118.0, 171.0, 171.0, 274.0, 344.0, 392.0, 511.0, 562.0, 767.0, 900.0, 1012.0, 1104.0, 1203.0, 1299.0, 1453.0, 1563.0, 1720.0, 1885.0, 2039.0, 2179.0, 2402.0, 2605.0, 2795.0, 2932.0, 3287.0, 3651.0, 4033.0, 4462.0, 4934.0, 5369.0, 5862.0, 6380.0, 7142.0, 8274.0, 9362.0, 10484.0, 11631.0, 12772.0, 13930.0, 15102.0, 16299.0, 17522.0, 18811.0, 20077.0, 21402.0, 22753.0, 24097.0, 25459.0, 27011.0, 28656.0], \"sizemode\": \"area\", \"sizeref\": 2950.9375, \"symbol\": \"circle\"}, \"mode\": \"lines+markers\", \"name\": \"Saudi Arabia\", \"showlegend\": true, \"type\": \"scattergl\", \"x\": [0.4, 0.5, 0.5, 0.5, 0.8, 0.8, 1.2, 1.6, 1.8, 2.3, 2.5, 3.4, 4.0, 4.5, 4.7, 5.1, 5.5, 6.1, 6.4, 7.1, 7.4, 7.8, 8.2, 8.7, 9.4, 9.3, 9.4, 10.5, 11.7, 13.0, 14.6, 16.0, 17.5, 19.1, 20.7, 23.5, 28.1, 32.0, 36.3, 40.7, 45.3, 49.0, 52.7, 56.5, 60.1, 63.9, 67.7, 71.5, 75.4, 78.0, 79.1, 81.2, 83.6], \"xaxis\": \"x\", \"y\": [100.0, 100.0, 100.0, 99.2, 99.4, 99.4, 98.2, 98.5, 98.7, 97.8, 97.3, 97.4, 97.7, 95.6, 92.2, 91.4, 92.1, 91.9, 89.1, 90.1, 85.5, 83.1, 82.0, 78.7, 78.4, 72.6, 69.3, 69.2, 69.8, 70.2, 70.9, 70.6, 70.9, 70.7, 70.5, 71.5, 73.7, 74.3, 75.2, 76.0, 77.0, 76.4, 75.8, 75.3, 74.5, 73.8, 73.3, 72.6, 72.0, 70.4, 67.5, 65.3, 63.4], \"yaxis\": \"y\"}, {\"customdata\": [[84.0, 39.0, \"Spain\", \"3/1/20\"], [120.0, 36.0, \"Spain\", \"3/2/20\"], [165.0, 45.0, \"Spain\", \"3/3/20\"], [222.0, 57.0, \"Spain\", \"3/4/20\"], [259.0, 37.0, \"Spain\", \"3/5/20\"], [400.0, 141.0, \"Spain\", \"3/6/20\"], [500.0, 100.0, \"Spain\", \"3/7/20\"], [673.0, 173.0, \"Spain\", \"3/8/20\"], [1073.0, 400.0, \"Spain\", \"3/9/20\"], [1695.0, 622.0, \"Spain\", \"3/10/20\"], [2277.0, 582.0, \"Spain\", \"3/11/20\"], [2277.0, 0.0, \"Spain\", \"3/12/20\"], [5232.0, 2955.0, \"Spain\", \"3/13/20\"], [6391.0, 1159.0, \"Spain\", \"3/14/20\"], [7798.0, 1407.0, \"Spain\", \"3/15/20\"], [9942.0, 2144.0, \"Spain\", \"3/16/20\"], [11748.0, 1806.0, \"Spain\", \"3/17/20\"], [13910.0, 2162.0, \"Spain\", \"3/18/20\"], [17963.0, 4053.0, \"Spain\", \"3/19/20\"], [20410.0, 2447.0, \"Spain\", \"3/20/20\"], [25374.0, 4964.0, \"Spain\", \"3/21/20\"], [28768.0, 3394.0, \"Spain\", \"3/22/20\"], [35136.0, 6368.0, \"Spain\", \"3/23/20\"], [39885.0, 4749.0, \"Spain\", \"3/24/20\"], [49515.0, 9630.0, \"Spain\", \"3/25/20\"], [57786.0, 8271.0, \"Spain\", \"3/26/20\"], [65719.0, 7933.0, \"Spain\", \"3/27/20\"], [73235.0, 7516.0, \"Spain\", \"3/28/20\"], [80110.0, 6875.0, \"Spain\", \"3/29/20\"], [87956.0, 7846.0, \"Spain\", \"3/30/20\"], [95923.0, 7967.0, \"Spain\", \"3/31/20\"], [104118.0, 8195.0, \"Spain\", \"4/1/20\"], [112065.0, 7947.0, \"Spain\", \"4/2/20\"], [119199.0, 7134.0, \"Spain\", \"4/3/20\"], [126168.0, 6969.0, \"Spain\", \"4/4/20\"], [131646.0, 5478.0, \"Spain\", \"4/5/20\"], [136675.0, 5029.0, \"Spain\", \"4/6/20\"], [141942.0, 5267.0, \"Spain\", \"4/7/20\"], [148220.0, 6278.0, \"Spain\", \"4/8/20\"], [153222.0, 5002.0, \"Spain\", \"4/9/20\"], [158273.0, 5051.0, \"Spain\", \"4/10/20\"], [163027.0, 4754.0, \"Spain\", \"4/11/20\"], [166831.0, 3804.0, \"Spain\", \"4/12/20\"], [170099.0, 3268.0, \"Spain\", \"4/13/20\"], [172541.0, 2442.0, \"Spain\", \"4/14/20\"], [177644.0, 5103.0, \"Spain\", \"4/15/20\"], [184948.0, 7304.0, \"Spain\", \"4/16/20\"], [190839.0, 5891.0, \"Spain\", \"4/17/20\"], [191726.0, 887.0, \"Spain\", \"4/18/20\"], [198674.0, 6948.0, \"Spain\", \"4/19/20\"], [200210.0, 1536.0, \"Spain\", \"4/20/20\"], [204178.0, 3968.0, \"Spain\", \"4/21/20\"], [208389.0, 4211.0, \"Spain\", \"4/22/20\"], [213024.0, 4635.0, \"Spain\", \"4/23/20\"], [202990.0, -10034.0, \"Spain\", \"4/24/20\"], [205905.0, 2915.0, \"Spain\", \"4/25/20\"], [207634.0, 1729.0, \"Spain\", \"4/26/20\"], [209465.0, 1831.0, \"Spain\", \"4/27/20\"], [210773.0, 1308.0, \"Spain\", \"4/28/20\"], [212917.0, 2144.0, \"Spain\", \"4/29/20\"], [213435.0, 518.0, \"Spain\", \"4/30/20\"], [213435.0, 0.0, \"Spain\", \"5/1/20\"], [216582.0, 3147.0, \"Spain\", \"5/2/20\"], [217466.0, 884.0, \"Spain\", \"5/3/20\"], [218011.0, 545.0, \"Spain\", \"5/4/20\"]], \"hoverlabel\": {\"namelength\": 0}, \"hovertemplate\": \"Country =%{customdata[2]}<br>Mean growth over 14d compared to max growth =%{x}<br>% cases from last 14d =%{y}<br>Confirmed Cases=%{customdata[0]}<br>Confirmed Cases today =%{customdata[1]}<br>Date=%{customdata[3]}\", \"legendgroup\": \"Spain\", \"marker\": {\"color\": \"#FECB52\", \"size\": [84.0, 120.0, 165.0, 222.0, 259.0, 400.0, 500.0, 673.0, 1073.0, 1695.0, 2277.0, 2277.0, 5232.0, 6391.0, 7798.0, 9942.0, 11748.0, 13910.0, 17963.0, 20410.0, 25374.0, 28768.0, 35136.0, 39885.0, 49515.0, 57786.0, 65719.0, 73235.0, 80110.0, 87956.0, 95923.0, 104118.0, 112065.0, 119199.0, 126168.0, 131646.0, 136675.0, 141942.0, 148220.0, 153222.0, 158273.0, 163027.0, 166831.0, 170099.0, 172541.0, 177644.0, 184948.0, 190839.0, 191726.0, 198674.0, 200210.0, 204178.0, 208389.0, 213024.0, 202990.0, 205905.0, 207634.0, 209465.0, 210773.0, 212917.0, 213435.0, 213435.0, 216582.0, 217466.0, 218011.0], \"sizemode\": \"area\", \"sizeref\": 2950.9375, \"symbol\": \"circle\"}, \"mode\": \"lines+markers\", \"name\": \"Spain\", \"showlegend\": true, \"type\": \"scattergl\", \"x\": [0.1, 0.1, 0.1, 0.2, 0.2, 0.3, 0.4, 0.6, 0.9, 1.5, 2.0, 2.0, 4.5, 5.5, 6.7, 8.5, 10.0, 11.8, 15.3, 17.3, 21.5, 24.3, 29.4, 33.0, 40.8, 47.9, 52.2, 57.7, 62.4, 67.4, 72.7, 77.9, 81.3, 85.3, 87.0, 88.8, 87.7, 88.1, 85.2, 82.4, 79.9, 77.5, 74.9, 70.9, 66.2, 63.5, 62.9, 61.9, 56.6, 57.9, 54.9, 53.7, 52.0, 51.6, 38.6, 37.0, 35.2, 34.0, 33.0, 30.5, 24.6, 19.5, 21.5, 16.2, 15.4], \"xaxis\": \"x\", \"y\": [97.6, 98.3, 98.8, 99.1, 99.2, 99.5, 99.6, 99.7, 99.8, 99.6, 99.4, 99.3, 99.4, 99.3, 98.9, 98.8, 98.6, 98.4, 98.6, 98.0, 98.0, 97.7, 96.9, 95.8, 95.4, 96.1, 92.0, 91.3, 90.3, 88.7, 87.8, 86.6, 84.0, 82.9, 79.9, 78.1, 74.3, 71.9, 66.6, 62.3, 58.5, 55.1, 52.0, 48.3, 44.4, 41.4, 39.4, 37.5, 34.2, 33.7, 31.7, 30.5, 28.9, 28.1, 22.0, 20.8, 19.7, 18.8, 18.1, 16.6, 13.3, 10.6, 11.5, 8.6, 8.2], \"yaxis\": \"y\"}, {\"customdata\": [[94.0, 59.0, \"Sweden\", \"3/5/20\"], [101.0, 7.0, \"Sweden\", \"3/6/20\"], [161.0, 60.0, \"Sweden\", \"3/7/20\"], [203.0, 42.0, \"Sweden\", \"3/8/20\"], [248.0, 45.0, \"Sweden\", \"3/9/20\"], [355.0, 107.0, \"Sweden\", \"3/10/20\"], [500.0, 145.0, \"Sweden\", \"3/11/20\"], [599.0, 99.0, \"Sweden\", \"3/12/20\"], [814.0, 215.0, \"Sweden\", \"3/13/20\"], [961.0, 147.0, \"Sweden\", \"3/14/20\"], [1022.0, 61.0, \"Sweden\", \"3/15/20\"], [1103.0, 81.0, \"Sweden\", \"3/16/20\"], [1190.0, 87.0, \"Sweden\", \"3/17/20\"], [1279.0, 89.0, \"Sweden\", \"3/18/20\"], [1439.0, 160.0, \"Sweden\", \"3/19/20\"], [1639.0, 200.0, \"Sweden\", \"3/20/20\"], [1763.0, 124.0, \"Sweden\", \"3/21/20\"], [1934.0, 171.0, \"Sweden\", \"3/22/20\"], [2046.0, 112.0, \"Sweden\", \"3/23/20\"], [2286.0, 240.0, \"Sweden\", \"3/24/20\"], [2526.0, 240.0, \"Sweden\", \"3/25/20\"], [2840.0, 314.0, \"Sweden\", \"3/26/20\"], [3069.0, 229.0, \"Sweden\", \"3/27/20\"], [3447.0, 378.0, \"Sweden\", \"3/28/20\"], [3700.0, 253.0, \"Sweden\", \"3/29/20\"], [4028.0, 328.0, \"Sweden\", \"3/30/20\"], [4435.0, 407.0, \"Sweden\", \"3/31/20\"], [4947.0, 512.0, \"Sweden\", \"4/1/20\"], [5568.0, 621.0, \"Sweden\", \"4/2/20\"], [6131.0, 563.0, \"Sweden\", \"4/3/20\"], [6443.0, 312.0, \"Sweden\", \"4/4/20\"], [6830.0, 387.0, \"Sweden\", \"4/5/20\"], [7206.0, 376.0, \"Sweden\", \"4/6/20\"], [7693.0, 487.0, \"Sweden\", \"4/7/20\"], [8419.0, 726.0, \"Sweden\", \"4/8/20\"], [9141.0, 722.0, \"Sweden\", \"4/9/20\"], [9685.0, 544.0, \"Sweden\", \"4/10/20\"], [10151.0, 466.0, \"Sweden\", \"4/11/20\"], [10483.0, 332.0, \"Sweden\", \"4/12/20\"], [10948.0, 465.0, \"Sweden\", \"4/13/20\"], [11445.0, 497.0, \"Sweden\", \"4/14/20\"], [11927.0, 482.0, \"Sweden\", \"4/15/20\"], [12540.0, 613.0, \"Sweden\", \"4/16/20\"], [13216.0, 676.0, \"Sweden\", \"4/17/20\"], [13822.0, 606.0, \"Sweden\", \"4/18/20\"], [14385.0, 563.0, \"Sweden\", \"4/19/20\"], [14777.0, 392.0, \"Sweden\", \"4/20/20\"], [15322.0, 545.0, \"Sweden\", \"4/21/20\"], [16004.0, 682.0, \"Sweden\", \"4/22/20\"], [16755.0, 751.0, \"Sweden\", \"4/23/20\"], [17567.0, 812.0, \"Sweden\", \"4/24/20\"], [18177.0, 610.0, \"Sweden\", \"4/25/20\"], [18640.0, 463.0, \"Sweden\", \"4/26/20\"], [18926.0, 286.0, \"Sweden\", \"4/27/20\"], [19621.0, 695.0, \"Sweden\", \"4/28/20\"], [20302.0, 681.0, \"Sweden\", \"4/29/20\"], [21092.0, 790.0, \"Sweden\", \"4/30/20\"], [21520.0, 428.0, \"Sweden\", \"5/1/20\"], [22082.0, 562.0, \"Sweden\", \"5/2/20\"], [22317.0, 235.0, \"Sweden\", \"5/3/20\"], [22721.0, 404.0, \"Sweden\", \"5/4/20\"]], \"hoverlabel\": {\"namelength\": 0}, \"hovertemplate\": \"Country =%{customdata[2]}<br>Mean growth over 14d compared to max growth =%{x}<br>% cases from last 14d =%{y}<br>Confirmed Cases=%{customdata[0]}<br>Confirmed Cases today =%{customdata[1]}<br>Date=%{customdata[3]}\", \"legendgroup\": \"Sweden\", \"marker\": {\"color\": \"#636efa\", \"size\": [94.0, 101.0, 161.0, 203.0, 248.0, 355.0, 500.0, 599.0, 814.0, 961.0, 1022.0, 1103.0, 1190.0, 1279.0, 1439.0, 1639.0, 1763.0, 1934.0, 2046.0, 2286.0, 2526.0, 2840.0, 3069.0, 3447.0, 3700.0, 4028.0, 4435.0, 4947.0, 5568.0, 6131.0, 6443.0, 6830.0, 7206.0, 7693.0, 8419.0, 9141.0, 9685.0, 10151.0, 10483.0, 10948.0, 11445.0, 11927.0, 12540.0, 13216.0, 13822.0, 14385.0, 14777.0, 15322.0, 16004.0, 16755.0, 17567.0, 18177.0, 18640.0, 18926.0, 19621.0, 20302.0, 21092.0, 21520.0, 22082.0, 22317.0, 22721.0], \"sizemode\": \"area\", \"sizeref\": 2950.9375, \"symbol\": \"circle\"}, \"mode\": \"lines+markers\", \"name\": \"Sweden\", \"showlegend\": true, \"type\": \"scattergl\", \"x\": [0.8, 0.9, 1.4, 1.8, 2.2, 3.2, 4.5, 5.4, 7.3, 8.6, 9.1, 9.8, 10.6, 11.2, 12.2, 13.9, 14.5, 15.7, 16.3, 17.5, 18.3, 20.3, 20.4, 22.5, 24.2, 26.4, 29.3, 33.2, 37.3, 40.6, 42.3, 44.3, 46.7, 48.9, 53.3, 57.0, 59.8, 60.6, 61.3, 62.6, 63.4, 63.1, 63.0, 64.1, 66.7, 68.3, 68.5, 69.0, 68.6, 68.8, 71.3, 72.6, 73.8, 72.1, 73.9, 75.7, 77.3, 75.1, 74.7, 71.7, 71.8], \"xaxis\": \"x\", \"y\": [98.9, 99.0, 99.4, 99.5, 99.6, 99.7, 99.6, 98.8, 99.1, 98.8, 98.6, 98.6, 98.2, 97.3, 93.5, 93.8, 90.9, 89.5, 87.9, 84.5, 80.2, 78.9, 73.5, 72.1, 72.4, 72.6, 73.2, 74.1, 74.2, 73.3, 72.6, 71.7, 71.6, 70.3, 70.0, 68.9, 68.3, 66.0, 64.7, 63.2, 61.2, 58.5, 55.6, 53.6, 53.4, 52.5, 51.2, 49.8, 47.4, 45.4, 44.9, 44.2, 43.8, 42.2, 41.7, 41.3, 40.5, 38.6, 37.4, 35.5, 35.0], \"yaxis\": \"y\"}, {\"customdata\": [[56.0, 14.0, \"Switzerland\", \"3/3/20\"], [90.0, 34.0, \"Switzerland\", \"3/4/20\"], [114.0, 24.0, \"Switzerland\", \"3/5/20\"], [214.0, 100.0, \"Switzerland\", \"3/6/20\"], [268.0, 54.0, \"Switzerland\", \"3/7/20\"], [337.0, 69.0, \"Switzerland\", \"3/8/20\"], [374.0, 37.0, \"Switzerland\", \"3/9/20\"], [491.0, 117.0, \"Switzerland\", \"3/10/20\"], [652.0, 161.0, \"Switzerland\", \"3/11/20\"], [652.0, 0.0, \"Switzerland\", \"3/12/20\"], [1139.0, 487.0, \"Switzerland\", \"3/13/20\"], [1359.0, 220.0, \"Switzerland\", \"3/14/20\"], [2200.0, 841.0, \"Switzerland\", \"3/15/20\"], [2200.0, 0.0, \"Switzerland\", \"3/16/20\"], [2700.0, 500.0, \"Switzerland\", \"3/17/20\"], [3028.0, 328.0, \"Switzerland\", \"3/18/20\"], [4075.0, 1047.0, \"Switzerland\", \"3/19/20\"], [5294.0, 1219.0, \"Switzerland\", \"3/20/20\"], [6575.0, 1281.0, \"Switzerland\", \"3/21/20\"], [7474.0, 899.0, \"Switzerland\", \"3/22/20\"], [8795.0, 1321.0, \"Switzerland\", \"3/23/20\"], [9877.0, 1082.0, \"Switzerland\", \"3/24/20\"], [10897.0, 1020.0, \"Switzerland\", \"3/25/20\"], [11811.0, 914.0, \"Switzerland\", \"3/26/20\"], [12928.0, 1117.0, \"Switzerland\", \"3/27/20\"], [14076.0, 1148.0, \"Switzerland\", \"3/28/20\"], [14829.0, 753.0, \"Switzerland\", \"3/29/20\"], [15922.0, 1093.0, \"Switzerland\", \"3/30/20\"], [16605.0, 683.0, \"Switzerland\", \"3/31/20\"], [17768.0, 1163.0, \"Switzerland\", \"4/1/20\"], [18827.0, 1059.0, \"Switzerland\", \"4/2/20\"], [19606.0, 779.0, \"Switzerland\", \"4/3/20\"], [20505.0, 899.0, \"Switzerland\", \"4/4/20\"], [21100.0, 595.0, \"Switzerland\", \"4/5/20\"], [21657.0, 557.0, \"Switzerland\", \"4/6/20\"], [22253.0, 596.0, \"Switzerland\", \"4/7/20\"], [23280.0, 1027.0, \"Switzerland\", \"4/8/20\"], [24051.0, 771.0, \"Switzerland\", \"4/9/20\"], [24551.0, 500.0, \"Switzerland\", \"4/10/20\"], [25107.0, 556.0, \"Switzerland\", \"4/11/20\"], [25415.0, 308.0, \"Switzerland\", \"4/12/20\"], [25688.0, 273.0, \"Switzerland\", \"4/13/20\"], [25936.0, 248.0, \"Switzerland\", \"4/14/20\"], [26336.0, 400.0, \"Switzerland\", \"4/15/20\"], [26732.0, 396.0, \"Switzerland\", \"4/16/20\"], [27078.0, 346.0, \"Switzerland\", \"4/17/20\"], [27404.0, 326.0, \"Switzerland\", \"4/18/20\"], [27740.0, 336.0, \"Switzerland\", \"4/19/20\"], [27944.0, 204.0, \"Switzerland\", \"4/20/20\"], [28063.0, 119.0, \"Switzerland\", \"4/21/20\"], [28268.0, 205.0, \"Switzerland\", \"4/22/20\"], [28496.0, 228.0, \"Switzerland\", \"4/23/20\"], [28677.0, 181.0, \"Switzerland\", \"4/24/20\"], [28894.0, 217.0, \"Switzerland\", \"4/25/20\"], [29061.0, 167.0, \"Switzerland\", \"4/26/20\"], [29164.0, 103.0, \"Switzerland\", \"4/27/20\"], [29264.0, 100.0, \"Switzerland\", \"4/28/20\"], [29407.0, 143.0, \"Switzerland\", \"4/29/20\"], [29586.0, 179.0, \"Switzerland\", \"4/30/20\"], [29705.0, 119.0, \"Switzerland\", \"5/1/20\"], [29817.0, 112.0, \"Switzerland\", \"5/2/20\"], [29905.0, 88.0, \"Switzerland\", \"5/3/20\"], [29981.0, 76.0, \"Switzerland\", \"5/4/20\"]], \"hoverlabel\": {\"namelength\": 0}, \"hovertemplate\": \"Country =%{customdata[2]}<br>Mean growth over 14d compared to max growth =%{x}<br>% cases from last 14d =%{y}<br>Confirmed Cases=%{customdata[0]}<br>Confirmed Cases today =%{customdata[1]}<br>Date=%{customdata[3]}\", \"legendgroup\": \"Switzerland\", \"marker\": {\"color\": \"#EF553B\", \"size\": [56.0, 90.0, 114.0, 214.0, 268.0, 337.0, 374.0, 491.0, 652.0, 652.0, 1139.0, 1359.0, 2200.0, 2200.0, 2700.0, 3028.0, 4075.0, 5294.0, 6575.0, 7474.0, 8795.0, 9877.0, 10897.0, 11811.0, 12928.0, 14076.0, 14829.0, 15922.0, 16605.0, 17768.0, 18827.0, 19606.0, 20505.0, 21100.0, 21657.0, 22253.0, 23280.0, 24051.0, 24551.0, 25107.0, 25415.0, 25688.0, 25936.0, 26336.0, 26732.0, 27078.0, 27404.0, 27740.0, 27944.0, 28063.0, 28268.0, 28496.0, 28677.0, 28894.0, 29061.0, 29164.0, 29264.0, 29407.0, 29586.0, 29705.0, 29817.0, 29905.0, 29981.0], \"sizemode\": \"area\", \"sizeref\": 2950.9375, \"symbol\": \"circle\"}, \"mode\": \"lines+markers\", \"name\": \"Switzerland\", \"showlegend\": true, \"type\": \"scattergl\", \"x\": [0.3, 0.5, 0.6, 1.2, 1.5, 1.9, 2.1, 2.7, 3.6, 3.6, 6.3, 7.5, 12.1, 12.0, 14.7, 16.4, 22.1, 28.3, 35.2, 39.8, 47.0, 52.3, 57.1, 62.2, 65.7, 70.9, 70.4, 76.5, 77.5, 82.2, 82.3, 79.8, 77.7, 76.0, 71.7, 69.0, 69.0, 68.3, 64.8, 61.5, 59.0, 54.5, 52.0, 47.8, 44.1, 41.7, 38.5, 37.0, 35.1, 32.4, 27.8, 24.8, 23.0, 21.1, 20.3, 19.4, 18.6, 17.1, 15.9, 14.6, 13.5, 12.1, 11.4], \"xaxis\": \"x\", \"y\": [100.0, 100.0, 100.0, 100.0, 100.0, 100.0, 100.0, 99.8, 99.8, 98.8, 99.3, 98.7, 98.8, 98.1, 97.9, 97.0, 97.2, 96.0, 95.9, 95.5, 95.7, 95.0, 94.0, 94.5, 91.2, 90.3, 85.2, 86.2, 83.7, 83.0, 78.4, 73.0, 67.9, 64.6, 59.4, 55.6, 53.2, 50.9, 47.3, 43.9, 41.7, 38.0, 36.0, 32.5, 29.6, 27.6, 25.2, 23.9, 22.5, 20.7, 17.6, 15.6, 14.4, 13.1, 12.5, 11.9, 11.4, 10.4, 9.6, 8.8, 8.1, 7.2, 6.8], \"yaxis\": \"y\"}, {\"customdata\": [[98.0, 51.0, \"Turkey\", \"3/18/20\"], [192.0, 94.0, \"Turkey\", \"3/19/20\"], [359.0, 167.0, \"Turkey\", \"3/20/20\"], [670.0, 311.0, \"Turkey\", \"3/21/20\"], [1236.0, 566.0, \"Turkey\", \"3/22/20\"], [1529.0, 293.0, \"Turkey\", \"3/23/20\"], [1872.0, 343.0, \"Turkey\", \"3/24/20\"], [2433.0, 561.0, \"Turkey\", \"3/25/20\"], [3629.0, 1196.0, \"Turkey\", \"3/26/20\"], [5698.0, 2069.0, \"Turkey\", \"3/27/20\"], [7402.0, 1704.0, \"Turkey\", \"3/28/20\"], [9217.0, 1815.0, \"Turkey\", \"3/29/20\"], [10827.0, 1610.0, \"Turkey\", \"3/30/20\"], [13531.0, 2704.0, \"Turkey\", \"3/31/20\"], [15679.0, 2148.0, \"Turkey\", \"4/1/20\"], [18135.0, 2456.0, \"Turkey\", \"4/2/20\"], [20921.0, 2786.0, \"Turkey\", \"4/3/20\"], [23934.0, 3013.0, \"Turkey\", \"4/4/20\"], [27069.0, 3135.0, \"Turkey\", \"4/5/20\"], [30217.0, 3148.0, \"Turkey\", \"4/6/20\"], [34109.0, 3892.0, \"Turkey\", \"4/7/20\"], [38226.0, 4117.0, \"Turkey\", \"4/8/20\"], [42282.0, 4056.0, \"Turkey\", \"4/9/20\"], [47029.0, 4747.0, \"Turkey\", \"4/10/20\"], [52167.0, 5138.0, \"Turkey\", \"4/11/20\"], [56956.0, 4789.0, \"Turkey\", \"4/12/20\"], [61049.0, 4093.0, \"Turkey\", \"4/13/20\"], [65111.0, 4062.0, \"Turkey\", \"4/14/20\"], [69392.0, 4281.0, \"Turkey\", \"4/15/20\"], [74193.0, 4801.0, \"Turkey\", \"4/16/20\"], [78546.0, 4353.0, \"Turkey\", \"4/17/20\"], [82329.0, 3783.0, \"Turkey\", \"4/18/20\"], [86306.0, 3977.0, \"Turkey\", \"4/19/20\"], [90980.0, 4674.0, \"Turkey\", \"4/20/20\"], [95591.0, 4611.0, \"Turkey\", \"4/21/20\"], [98674.0, 3083.0, \"Turkey\", \"4/22/20\"], [101790.0, 3116.0, \"Turkey\", \"4/23/20\"], [104912.0, 3122.0, \"Turkey\", \"4/24/20\"], [107773.0, 2861.0, \"Turkey\", \"4/25/20\"], [110130.0, 2357.0, \"Turkey\", \"4/26/20\"], [112261.0, 2131.0, \"Turkey\", \"4/27/20\"], [114653.0, 2392.0, \"Turkey\", \"4/28/20\"], [117589.0, 2936.0, \"Turkey\", \"4/29/20\"], [120204.0, 2615.0, \"Turkey\", \"4/30/20\"], [122392.0, 2188.0, \"Turkey\", \"5/1/20\"], [124375.0, 1983.0, \"Turkey\", \"5/2/20\"], [126045.0, 1670.0, \"Turkey\", \"5/3/20\"], [127659.0, 1614.0, \"Turkey\", \"5/4/20\"]], \"hoverlabel\": {\"namelength\": 0}, \"hovertemplate\": \"Country =%{customdata[2]}<br>Mean growth over 14d compared to max growth =%{x}<br>% cases from last 14d =%{y}<br>Confirmed Cases=%{customdata[0]}<br>Confirmed Cases today =%{customdata[1]}<br>Date=%{customdata[3]}\", \"legendgroup\": \"Turkey\", \"marker\": {\"color\": \"#00cc96\", \"size\": [98.0, 192.0, 359.0, 670.0, 1236.0, 1529.0, 1872.0, 2433.0, 3629.0, 5698.0, 7402.0, 9217.0, 10827.0, 13531.0, 15679.0, 18135.0, 20921.0, 23934.0, 27069.0, 30217.0, 34109.0, 38226.0, 42282.0, 47029.0, 52167.0, 56956.0, 61049.0, 65111.0, 69392.0, 74193.0, 78546.0, 82329.0, 86306.0, 90980.0, 95591.0, 98674.0, 101790.0, 104912.0, 107773.0, 110130.0, 112261.0, 114653.0, 117589.0, 120204.0, 122392.0, 124375.0, 126045.0, 127659.0], \"sizemode\": \"area\", \"sizeref\": 2950.9375, \"symbol\": \"circle\"}, \"mode\": \"lines+markers\", \"name\": \"Turkey\", \"showlegend\": true, \"type\": \"scattergl\", \"x\": [0.1, 0.3, 0.5, 1.0, 1.8, 2.3, 2.8, 3.6, 5.4, 8.5, 11.0, 13.7, 16.1, 20.1, 23.2, 26.7, 30.6, 34.6, 38.4, 42.7, 48.0, 53.3, 57.5, 61.5, 66.6, 71.0, 74.7, 76.7, 79.9, 83.4, 85.7, 86.9, 88.1, 90.4, 91.5, 89.9, 88.5, 86.1, 82.7, 79.1, 76.2, 73.7, 71.7, 68.5, 65.2, 62.6, 59.1, 54.6], \"xaxis\": \"x\", \"y\": [100.0, 100.0, 100.0, 100.0, 100.0, 100.0, 100.0, 100.0, 100.0, 99.9, 99.9, 99.9, 99.8, 99.7, 99.4, 98.9, 98.3, 97.2, 95.4, 94.9, 94.5, 93.6, 91.4, 87.9, 85.8, 83.8, 82.3, 79.2, 77.4, 75.6, 73.4, 70.9, 68.6, 66.8, 64.3, 61.3, 58.5, 55.2, 51.6, 48.3, 45.6, 43.2, 41.0, 38.3, 35.8, 33.8, 31.5, 28.7], \"yaxis\": \"y\"}, {\"customdata\": [[51.0, 36.0, \"US\", \"2/24/20\"], [51.0, 0.0, \"US\", \"2/25/20\"], [57.0, 6.0, \"US\", \"2/26/20\"], [58.0, 1.0, \"US\", \"2/27/20\"], [60.0, 2.0, \"US\", \"2/28/20\"], [68.0, 8.0, \"US\", \"2/29/20\"], [74.0, 6.0, \"US\", \"3/1/20\"], [98.0, 24.0, \"US\", \"3/2/20\"], [118.0, 20.0, \"US\", \"3/3/20\"], [149.0, 31.0, \"US\", \"3/4/20\"], [217.0, 68.0, \"US\", \"3/5/20\"], [262.0, 45.0, \"US\", \"3/6/20\"], [402.0, 140.0, \"US\", \"3/7/20\"], [518.0, 116.0, \"US\", \"3/8/20\"], [583.0, 65.0, \"US\", \"3/9/20\"], [959.0, 376.0, \"US\", \"3/10/20\"], [1281.0, 322.0, \"US\", \"3/11/20\"], [1663.0, 382.0, \"US\", \"3/12/20\"], [2179.0, 516.0, \"US\", \"3/13/20\"], [2727.0, 548.0, \"US\", \"3/14/20\"], [3499.0, 772.0, \"US\", \"3/15/20\"], [4632.0, 1133.0, \"US\", \"3/16/20\"], [6421.0, 1789.0, \"US\", \"3/17/20\"], [7783.0, 1362.0, \"US\", \"3/18/20\"], [13747.0, 5964.0, \"US\", \"3/19/20\"], [19273.0, 5526.0, \"US\", \"3/20/20\"], [25600.0, 6327.0, \"US\", \"3/21/20\"], [33276.0, 7676.0, \"US\", \"3/22/20\"], [43843.0, 10567.0, \"US\", \"3/23/20\"], [53736.0, 9893.0, \"US\", \"3/24/20\"], [65778.0, 12042.0, \"US\", \"3/25/20\"], [83836.0, 18058.0, \"US\", \"3/26/20\"], [101657.0, 17821.0, \"US\", \"3/27/20\"], [121465.0, 19808.0, \"US\", \"3/28/20\"], [140909.0, 19444.0, \"US\", \"3/29/20\"], [161831.0, 20922.0, \"US\", \"3/30/20\"], [188172.0, 26341.0, \"US\", \"3/31/20\"], [213242.0, 25070.0, \"US\", \"4/1/20\"], [243622.0, 30380.0, \"US\", \"4/2/20\"], [275367.0, 31745.0, \"US\", \"4/3/20\"], [308650.0, 33283.0, \"US\", \"4/4/20\"], [336802.0, 28152.0, \"US\", \"4/5/20\"], [366317.0, 29515.0, \"US\", \"4/6/20\"], [397121.0, 30804.0, \"US\", \"4/7/20\"], [428654.0, 31533.0, \"US\", \"4/8/20\"], [462780.0, 34126.0, \"US\", \"4/9/20\"], [496535.0, 33755.0, \"US\", \"4/10/20\"], [526396.0, 29861.0, \"US\", \"4/11/20\"], [555313.0, 28917.0, \"US\", \"4/12/20\"], [580619.0, 25306.0, \"US\", \"4/13/20\"], [607670.0, 27051.0, \"US\", \"4/14/20\"], [636350.0, 28680.0, \"US\", \"4/15/20\"], [667592.0, 31242.0, \"US\", \"4/16/20\"], [699706.0, 32114.0, \"US\", \"4/17/20\"], [732197.0, 32491.0, \"US\", \"4/18/20\"], [758809.0, 26612.0, \"US\", \"4/19/20\"], [784326.0, 25517.0, \"US\", \"4/20/20\"], [811865.0, 27539.0, \"US\", \"4/21/20\"], [840351.0, 28486.0, \"US\", \"4/22/20\"], [869170.0, 28819.0, \"US\", \"4/23/20\"], [905358.0, 36188.0, \"US\", \"4/24/20\"], [938154.0, 32796.0, \"US\", \"4/25/20\"], [965785.0, 27631.0, \"US\", \"4/26/20\"], [988197.0, 22412.0, \"US\", \"4/27/20\"], [1012582.0, 24385.0, \"US\", \"4/28/20\"], [1039909.0, 27327.0, \"US\", \"4/29/20\"], [1069424.0, 29515.0, \"US\", \"4/30/20\"], [1103461.0, 34037.0, \"US\", \"5/1/20\"], [1132539.0, 29078.0, \"US\", \"5/2/20\"], [1158040.0, 25501.0, \"US\", \"5/3/20\"], [1180375.0, 22335.0, \"US\", \"5/4/20\"]], \"hoverlabel\": {\"namelength\": 0}, \"hovertemplate\": \"Country =%{customdata[2]}<br>Mean growth over 14d compared to max growth =%{x}<br>% cases from last 14d =%{y}<br>Confirmed Cases=%{customdata[0]}<br>Confirmed Cases today =%{customdata[1]}<br>Date=%{customdata[3]}\", \"legendgroup\": \"US\", \"marker\": {\"color\": \"#ab63fa\", \"size\": [51.0, 51.0, 57.0, 58.0, 60.0, 68.0, 74.0, 98.0, 118.0, 149.0, 217.0, 262.0, 402.0, 518.0, 583.0, 959.0, 1281.0, 1663.0, 2179.0, 2727.0, 3499.0, 4632.0, 6421.0, 7783.0, 13747.0, 19273.0, 25600.0, 33276.0, 43843.0, 53736.0, 65778.0, 83836.0, 101657.0, 121465.0, 140909.0, 161831.0, 188172.0, 213242.0, 243622.0, 275367.0, 308650.0, 336802.0, 366317.0, 397121.0, 428654.0, 462780.0, 496535.0, 526396.0, 555313.0, 580619.0, 607670.0, 636350.0, 667592.0, 699706.0, 732197.0, 758809.0, 784326.0, 811865.0, 840351.0, 869170.0, 905358.0, 938154.0, 965785.0, 988197.0, 1012582.0, 1039909.0, 1069424.0, 1103461.0, 1132539.0, 1158040.0, 1180375.0], \"sizemode\": \"area\", \"sizeref\": 2950.9375, \"symbol\": \"circle\"}, \"mode\": \"lines+markers\", \"name\": \"US\", \"showlegend\": true, \"type\": \"scattergl\", \"x\": [0.0, 0.0, 0.0, 0.0, 0.0, 0.0, 0.0, 0.0, 0.0, 0.0, 0.0, 0.1, 0.1, 0.1, 0.1, 0.2, 0.3, 0.3, 0.4, 0.6, 0.7, 0.9, 1.3, 1.6, 2.8, 4.0, 5.3, 6.9, 9.1, 11.0, 13.5, 17.2, 20.8, 24.9, 28.8, 32.9, 38.0, 43.0, 48.1, 53.6, 59.2, 63.5, 67.5, 71.9, 76.0, 79.3, 82.7, 84.8, 86.7, 87.7, 87.8, 88.6, 88.7, 88.8, 88.7, 88.3, 87.5, 86.8, 86.2, 85.1, 85.6, 86.2, 85.9, 85.3, 84.8, 84.5, 84.1, 84.5, 83.8, 83.6, 82.9], \"xaxis\": \"x\", \"y\": [78.4, 76.5, 78.9, 77.6, 78.3, 80.9, 82.4, 86.7, 89.0, 91.3, 94.0, 94.3, 96.3, 97.1, 91.3, 94.7, 95.6, 96.5, 97.2, 97.5, 97.9, 97.9, 98.2, 98.1, 98.4, 98.6, 98.4, 98.4, 98.7, 98.2, 98.1, 98.0, 97.9, 97.8, 97.5, 97.1, 96.6, 96.4, 94.4, 93.0, 91.7, 90.1, 88.0, 86.5, 84.7, 81.9, 79.5, 76.9, 74.6, 72.1, 69.0, 66.5, 63.5, 60.6, 57.8, 55.6, 53.3, 51.1, 49.0, 46.8, 45.2, 43.9, 42.5, 41.2, 40.0, 38.8, 37.6, 36.6, 35.3, 34.5, 33.6], \"yaxis\": \"y\"}, {\"customdata\": [[51.0, 11.0, \"United Kingdom\", \"3/3/20\"], [86.0, 35.0, \"United Kingdom\", \"3/4/20\"], [116.0, 30.0, \"United Kingdom\", \"3/5/20\"], [164.0, 48.0, \"United Kingdom\", \"3/6/20\"], [207.0, 43.0, \"United Kingdom\", \"3/7/20\"], [274.0, 67.0, \"United Kingdom\", \"3/8/20\"], [322.0, 48.0, \"United Kingdom\", \"3/9/20\"], [384.0, 62.0, \"United Kingdom\", \"3/10/20\"], [459.0, 75.0, \"United Kingdom\", \"3/11/20\"], [459.0, 0.0, \"United Kingdom\", \"3/12/20\"], [802.0, 343.0, \"United Kingdom\", \"3/13/20\"], [1144.0, 342.0, \"United Kingdom\", \"3/14/20\"], [1145.0, 1.0, \"United Kingdom\", \"3/15/20\"], [1551.0, 406.0, \"United Kingdom\", \"3/16/20\"], [1960.0, 409.0, \"United Kingdom\", \"3/17/20\"], [2642.0, 682.0, \"United Kingdom\", \"3/18/20\"], [2716.0, 74.0, \"United Kingdom\", \"3/19/20\"], [4014.0, 1298.0, \"United Kingdom\", \"3/20/20\"], [5067.0, 1053.0, \"United Kingdom\", \"3/21/20\"], [5745.0, 678.0, \"United Kingdom\", \"3/22/20\"], [6726.0, 981.0, \"United Kingdom\", \"3/23/20\"], [8164.0, 1438.0, \"United Kingdom\", \"3/24/20\"], [9640.0, 1476.0, \"United Kingdom\", \"3/25/20\"], [11812.0, 2172.0, \"United Kingdom\", \"3/26/20\"], [14745.0, 2933.0, \"United Kingdom\", \"3/27/20\"], [17312.0, 2567.0, \"United Kingdom\", \"3/28/20\"], [19780.0, 2468.0, \"United Kingdom\", \"3/29/20\"], [22453.0, 2673.0, \"United Kingdom\", \"3/30/20\"], [25481.0, 3028.0, \"United Kingdom\", \"3/31/20\"], [29865.0, 4384.0, \"United Kingdom\", \"4/1/20\"], [34173.0, 4308.0, \"United Kingdom\", \"4/2/20\"], [38689.0, 4516.0, \"United Kingdom\", \"4/3/20\"], [42477.0, 3788.0, \"United Kingdom\", \"4/4/20\"], [48436.0, 5959.0, \"United Kingdom\", \"4/5/20\"], [52279.0, 3843.0, \"United Kingdom\", \"4/6/20\"], [55949.0, 3670.0, \"United Kingdom\", \"4/7/20\"], [61474.0, 5525.0, \"United Kingdom\", \"4/8/20\"], [65872.0, 4398.0, \"United Kingdom\", \"4/9/20\"], [74605.0, 8733.0, \"United Kingdom\", \"4/10/20\"], [79874.0, 5269.0, \"United Kingdom\", \"4/11/20\"], [85206.0, 5332.0, \"United Kingdom\", \"4/12/20\"], [89570.0, 4364.0, \"United Kingdom\", \"4/13/20\"], [94845.0, 5275.0, \"United Kingdom\", \"4/14/20\"], [99483.0, 4638.0, \"United Kingdom\", \"4/15/20\"], [104145.0, 4662.0, \"United Kingdom\", \"4/16/20\"], [109769.0, 5624.0, \"United Kingdom\", \"4/17/20\"], [115314.0, 5545.0, \"United Kingdom\", \"4/18/20\"], [121172.0, 5858.0, \"United Kingdom\", \"4/19/20\"], [125856.0, 4684.0, \"United Kingdom\", \"4/20/20\"], [130172.0, 4316.0, \"United Kingdom\", \"4/21/20\"], [134638.0, 4466.0, \"United Kingdom\", \"4/22/20\"], [139246.0, 4608.0, \"United Kingdom\", \"4/23/20\"], [144640.0, 5394.0, \"United Kingdom\", \"4/24/20\"], [149569.0, 4929.0, \"United Kingdom\", \"4/25/20\"], [154037.0, 4468.0, \"United Kingdom\", \"4/26/20\"], [158348.0, 4311.0, \"United Kingdom\", \"4/27/20\"], [162350.0, 4002.0, \"United Kingdom\", \"4/28/20\"], [166441.0, 4091.0, \"United Kingdom\", \"4/29/20\"], [172481.0, 6040.0, \"United Kingdom\", \"4/30/20\"], [178685.0, 6204.0, \"United Kingdom\", \"5/1/20\"], [183500.0, 4815.0, \"United Kingdom\", \"5/2/20\"], [187842.0, 4342.0, \"United Kingdom\", \"5/3/20\"], [191832.0, 3990.0, \"United Kingdom\", \"5/4/20\"]], \"hoverlabel\": {\"namelength\": 0}, \"hovertemplate\": \"Country =%{customdata[2]}<br>Mean growth over 14d compared to max growth =%{x}<br>% cases from last 14d =%{y}<br>Confirmed Cases=%{customdata[0]}<br>Confirmed Cases today =%{customdata[1]}<br>Date=%{customdata[3]}\", \"legendgroup\": \"United Kingdom\", \"marker\": {\"color\": \"#FFA15A\", \"size\": [51.0, 86.0, 116.0, 164.0, 207.0, 274.0, 322.0, 384.0, 459.0, 459.0, 802.0, 1144.0, 1145.0, 1551.0, 1960.0, 2642.0, 2716.0, 4014.0, 5067.0, 5745.0, 6726.0, 8164.0, 9640.0, 11812.0, 14745.0, 17312.0, 19780.0, 22453.0, 25481.0, 29865.0, 34173.0, 38689.0, 42477.0, 48436.0, 52279.0, 55949.0, 61474.0, 65872.0, 74605.0, 79874.0, 85206.0, 89570.0, 94845.0, 99483.0, 104145.0, 109769.0, 115314.0, 121172.0, 125856.0, 130172.0, 134638.0, 139246.0, 144640.0, 149569.0, 154037.0, 158348.0, 162350.0, 166441.0, 172481.0, 178685.0, 183500.0, 187842.0, 191832.0], \"sizemode\": \"area\", \"sizeref\": 2950.9375, \"symbol\": \"circle\"}, \"mode\": \"lines+markers\", \"name\": \"United Kingdom\", \"showlegend\": true, \"type\": \"scattergl\", \"x\": [0.0, 0.1, 0.1, 0.2, 0.2, 0.3, 0.4, 0.4, 0.5, 0.5, 0.9, 1.3, 1.3, 1.7, 2.2, 2.9, 3.0, 4.4, 5.6, 6.3, 7.4, 9.0, 10.6, 13.1, 16.1, 18.6, 21.5, 24.1, 27.1, 31.3, 36.2, 39.9, 43.1, 49.2, 52.4, 55.0, 59.7, 62.2, 68.9, 72.0, 75.3, 77.3, 79.9, 80.2, 80.6, 81.8, 83.9, 83.7, 84.7, 85.5, 84.2, 84.5, 80.6, 80.2, 79.2, 79.2, 77.7, 77.1, 78.7, 79.3, 78.5, 76.8, 76.0], \"xaxis\": \"x\", \"y\": [82.4, 89.5, 92.2, 94.5, 95.7, 96.7, 96.0, 96.6, 97.2, 96.7, 97.5, 98.0, 96.9, 97.4, 97.4, 96.7, 95.7, 95.9, 95.9, 95.2, 95.2, 95.3, 95.2, 96.1, 94.6, 93.4, 94.2, 93.1, 92.3, 91.2, 92.1, 89.6, 88.1, 88.1, 87.1, 85.4, 84.3, 82.1, 80.2, 78.3, 76.8, 74.9, 73.1, 70.0, 67.2, 64.8, 63.2, 60.0, 58.5, 57.0, 54.3, 52.7, 48.4, 46.6, 44.7, 43.4, 41.6, 40.2, 39.6, 38.6, 37.2, 35.5, 34.4], \"yaxis\": \"y\"}],\n",
       "                        {\"legend\": {\"itemsizing\": \"constant\", \"title\": {\"text\": \"Country \"}, \"tracegroupgap\": 0}, \"template\": {\"data\": {\"bar\": [{\"error_x\": {\"color\": \"#2a3f5f\"}, \"error_y\": {\"color\": \"#2a3f5f\"}, \"marker\": {\"line\": {\"color\": \"#E5ECF6\", \"width\": 0.5}}, \"type\": \"bar\"}], \"barpolar\": [{\"marker\": {\"line\": {\"color\": \"#E5ECF6\", \"width\": 0.5}}, \"type\": \"barpolar\"}], \"carpet\": [{\"aaxis\": {\"endlinecolor\": \"#2a3f5f\", \"gridcolor\": \"white\", \"linecolor\": \"white\", \"minorgridcolor\": \"white\", \"startlinecolor\": \"#2a3f5f\"}, \"baxis\": {\"endlinecolor\": \"#2a3f5f\", \"gridcolor\": \"white\", \"linecolor\": \"white\", \"minorgridcolor\": \"white\", \"startlinecolor\": \"#2a3f5f\"}, \"type\": \"carpet\"}], \"choropleth\": [{\"colorbar\": {\"outlinewidth\": 0, \"ticks\": \"\"}, \"type\": \"choropleth\"}], \"contour\": [{\"colorbar\": {\"outlinewidth\": 0, \"ticks\": \"\"}, \"colorscale\": [[0.0, \"#0d0887\"], [0.1111111111111111, \"#46039f\"], [0.2222222222222222, \"#7201a8\"], [0.3333333333333333, \"#9c179e\"], [0.4444444444444444, \"#bd3786\"], [0.5555555555555556, \"#d8576b\"], [0.6666666666666666, \"#ed7953\"], [0.7777777777777778, \"#fb9f3a\"], [0.8888888888888888, \"#fdca26\"], [1.0, \"#f0f921\"]], \"type\": \"contour\"}], \"contourcarpet\": [{\"colorbar\": {\"outlinewidth\": 0, \"ticks\": \"\"}, \"type\": \"contourcarpet\"}], \"heatmap\": [{\"colorbar\": {\"outlinewidth\": 0, \"ticks\": \"\"}, \"colorscale\": [[0.0, \"#0d0887\"], [0.1111111111111111, \"#46039f\"], [0.2222222222222222, \"#7201a8\"], [0.3333333333333333, \"#9c179e\"], [0.4444444444444444, \"#bd3786\"], [0.5555555555555556, \"#d8576b\"], [0.6666666666666666, \"#ed7953\"], [0.7777777777777778, \"#fb9f3a\"], [0.8888888888888888, \"#fdca26\"], [1.0, \"#f0f921\"]], \"type\": \"heatmap\"}], \"heatmapgl\": [{\"colorbar\": {\"outlinewidth\": 0, \"ticks\": \"\"}, \"colorscale\": [[0.0, \"#0d0887\"], [0.1111111111111111, \"#46039f\"], [0.2222222222222222, \"#7201a8\"], [0.3333333333333333, \"#9c179e\"], [0.4444444444444444, \"#bd3786\"], [0.5555555555555556, \"#d8576b\"], [0.6666666666666666, \"#ed7953\"], [0.7777777777777778, \"#fb9f3a\"], [0.8888888888888888, \"#fdca26\"], [1.0, \"#f0f921\"]], \"type\": \"heatmapgl\"}], \"histogram\": [{\"marker\": {\"colorbar\": {\"outlinewidth\": 0, \"ticks\": \"\"}}, \"type\": \"histogram\"}], \"histogram2d\": [{\"colorbar\": {\"outlinewidth\": 0, \"ticks\": \"\"}, \"colorscale\": [[0.0, \"#0d0887\"], [0.1111111111111111, \"#46039f\"], [0.2222222222222222, \"#7201a8\"], [0.3333333333333333, \"#9c179e\"], [0.4444444444444444, \"#bd3786\"], [0.5555555555555556, \"#d8576b\"], [0.6666666666666666, \"#ed7953\"], [0.7777777777777778, \"#fb9f3a\"], [0.8888888888888888, \"#fdca26\"], [1.0, \"#f0f921\"]], \"type\": \"histogram2d\"}], \"histogram2dcontour\": [{\"colorbar\": {\"outlinewidth\": 0, \"ticks\": \"\"}, \"colorscale\": [[0.0, \"#0d0887\"], [0.1111111111111111, \"#46039f\"], [0.2222222222222222, \"#7201a8\"], [0.3333333333333333, \"#9c179e\"], [0.4444444444444444, \"#bd3786\"], [0.5555555555555556, \"#d8576b\"], [0.6666666666666666, \"#ed7953\"], [0.7777777777777778, \"#fb9f3a\"], [0.8888888888888888, \"#fdca26\"], [1.0, \"#f0f921\"]], \"type\": \"histogram2dcontour\"}], \"mesh3d\": [{\"colorbar\": {\"outlinewidth\": 0, \"ticks\": \"\"}, \"type\": \"mesh3d\"}], \"parcoords\": [{\"line\": {\"colorbar\": {\"outlinewidth\": 0, \"ticks\": \"\"}}, \"type\": \"parcoords\"}], \"pie\": [{\"automargin\": true, \"type\": \"pie\"}], \"scatter\": [{\"marker\": {\"colorbar\": {\"outlinewidth\": 0, \"ticks\": \"\"}}, \"type\": \"scatter\"}], \"scatter3d\": [{\"line\": {\"colorbar\": {\"outlinewidth\": 0, \"ticks\": \"\"}}, \"marker\": {\"colorbar\": {\"outlinewidth\": 0, \"ticks\": \"\"}}, \"type\": \"scatter3d\"}], \"scattercarpet\": [{\"marker\": {\"colorbar\": {\"outlinewidth\": 0, \"ticks\": \"\"}}, \"type\": \"scattercarpet\"}], \"scattergeo\": [{\"marker\": {\"colorbar\": {\"outlinewidth\": 0, \"ticks\": \"\"}}, \"type\": \"scattergeo\"}], \"scattergl\": [{\"marker\": {\"colorbar\": {\"outlinewidth\": 0, \"ticks\": \"\"}}, \"type\": \"scattergl\"}], \"scattermapbox\": [{\"marker\": {\"colorbar\": {\"outlinewidth\": 0, \"ticks\": \"\"}}, \"type\": \"scattermapbox\"}], \"scatterpolar\": [{\"marker\": {\"colorbar\": {\"outlinewidth\": 0, \"ticks\": \"\"}}, \"type\": \"scatterpolar\"}], \"scatterpolargl\": [{\"marker\": {\"colorbar\": {\"outlinewidth\": 0, \"ticks\": \"\"}}, \"type\": \"scatterpolargl\"}], \"scatterternary\": [{\"marker\": {\"colorbar\": {\"outlinewidth\": 0, \"ticks\": \"\"}}, \"type\": \"scatterternary\"}], \"surface\": [{\"colorbar\": {\"outlinewidth\": 0, \"ticks\": \"\"}, \"colorscale\": [[0.0, \"#0d0887\"], [0.1111111111111111, \"#46039f\"], [0.2222222222222222, \"#7201a8\"], [0.3333333333333333, \"#9c179e\"], [0.4444444444444444, \"#bd3786\"], [0.5555555555555556, \"#d8576b\"], [0.6666666666666666, \"#ed7953\"], [0.7777777777777778, \"#fb9f3a\"], [0.8888888888888888, \"#fdca26\"], [1.0, \"#f0f921\"]], \"type\": \"surface\"}], \"table\": [{\"cells\": {\"fill\": {\"color\": \"#EBF0F8\"}, \"line\": {\"color\": \"white\"}}, \"header\": {\"fill\": {\"color\": \"#C8D4E3\"}, \"line\": {\"color\": \"white\"}}, \"type\": \"table\"}]}, \"layout\": {\"annotationdefaults\": {\"arrowcolor\": \"#2a3f5f\", \"arrowhead\": 0, \"arrowwidth\": 1}, \"coloraxis\": {\"colorbar\": {\"outlinewidth\": 0, \"ticks\": \"\"}}, \"colorscale\": {\"diverging\": [[0, \"#8e0152\"], [0.1, \"#c51b7d\"], [0.2, \"#de77ae\"], [0.3, \"#f1b6da\"], [0.4, \"#fde0ef\"], [0.5, \"#f7f7f7\"], [0.6, \"#e6f5d0\"], [0.7, \"#b8e186\"], [0.8, \"#7fbc41\"], [0.9, \"#4d9221\"], [1, \"#276419\"]], \"sequential\": [[0.0, \"#0d0887\"], [0.1111111111111111, \"#46039f\"], [0.2222222222222222, \"#7201a8\"], [0.3333333333333333, \"#9c179e\"], [0.4444444444444444, \"#bd3786\"], [0.5555555555555556, \"#d8576b\"], [0.6666666666666666, \"#ed7953\"], [0.7777777777777778, \"#fb9f3a\"], [0.8888888888888888, \"#fdca26\"], [1.0, \"#f0f921\"]], \"sequentialminus\": [[0.0, \"#0d0887\"], [0.1111111111111111, \"#46039f\"], [0.2222222222222222, \"#7201a8\"], [0.3333333333333333, \"#9c179e\"], [0.4444444444444444, \"#bd3786\"], [0.5555555555555556, \"#d8576b\"], [0.6666666666666666, \"#ed7953\"], [0.7777777777777778, \"#fb9f3a\"], [0.8888888888888888, \"#fdca26\"], [1.0, \"#f0f921\"]]}, \"colorway\": [\"#636efa\", \"#EF553B\", \"#00cc96\", \"#ab63fa\", \"#FFA15A\", \"#19d3f3\", \"#FF6692\", \"#B6E880\", \"#FF97FF\", \"#FECB52\"], \"font\": {\"color\": \"#2a3f5f\"}, \"geo\": {\"bgcolor\": \"white\", \"lakecolor\": \"white\", \"landcolor\": \"#E5ECF6\", \"showlakes\": true, \"showland\": true, \"subunitcolor\": \"white\"}, \"hoverlabel\": {\"align\": \"left\"}, \"hovermode\": \"closest\", \"mapbox\": {\"style\": \"light\"}, \"paper_bgcolor\": \"white\", \"plot_bgcolor\": \"#E5ECF6\", \"polar\": {\"angularaxis\": {\"gridcolor\": \"white\", \"linecolor\": \"white\", \"ticks\": \"\"}, \"bgcolor\": \"#E5ECF6\", \"radialaxis\": {\"gridcolor\": \"white\", \"linecolor\": \"white\", \"ticks\": \"\"}}, \"scene\": {\"xaxis\": {\"backgroundcolor\": \"#E5ECF6\", \"gridcolor\": \"white\", \"gridwidth\": 2, \"linecolor\": \"white\", \"showbackground\": true, \"ticks\": \"\", \"zerolinecolor\": \"white\"}, \"yaxis\": {\"backgroundcolor\": \"#E5ECF6\", \"gridcolor\": \"white\", \"gridwidth\": 2, \"linecolor\": \"white\", \"showbackground\": true, \"ticks\": \"\", \"zerolinecolor\": \"white\"}, \"zaxis\": {\"backgroundcolor\": \"#E5ECF6\", \"gridcolor\": \"white\", \"gridwidth\": 2, \"linecolor\": \"white\", \"showbackground\": true, \"ticks\": \"\", \"zerolinecolor\": \"white\"}}, \"shapedefaults\": {\"line\": {\"color\": \"#2a3f5f\"}}, \"ternary\": {\"aaxis\": {\"gridcolor\": \"white\", \"linecolor\": \"white\", \"ticks\": \"\"}, \"baxis\": {\"gridcolor\": \"white\", \"linecolor\": \"white\", \"ticks\": \"\"}, \"bgcolor\": \"#E5ECF6\", \"caxis\": {\"gridcolor\": \"white\", \"linecolor\": \"white\", \"ticks\": \"\"}}, \"title\": {\"x\": 0.05}, \"xaxis\": {\"automargin\": true, \"gridcolor\": \"white\", \"linecolor\": \"white\", \"ticks\": \"\", \"title\": {\"standoff\": 15}, \"zerolinecolor\": \"white\", \"zerolinewidth\": 2}, \"yaxis\": {\"automargin\": true, \"gridcolor\": \"white\", \"linecolor\": \"white\", \"ticks\": \"\", \"title\": {\"standoff\": 15}, \"zerolinecolor\": \"white\", \"zerolinewidth\": 2}}}, \"title\": {\"text\": \"Confirmed Cases - World\"}, \"xaxis\": {\"anchor\": \"y\", \"domain\": [0.0, 1.0], \"rangemode\": \"tozero\", \"title\": {\"text\": \"Mean Daily Growth over 14 previous days compared to Max Daily Growth (%)\"}}, \"yaxis\": {\"anchor\": \"x\", \"domain\": [0.0, 1.0], \"rangemode\": \"tozero\", \"title\": {\"text\": \"Percentage of Total occuring in the last 14 days (%)\"}}},\n",
       "                        {\"responsive\": true}\n",
       "                    ).then(function(){\n",
       "                            \n",
       "var gd = document.getElementById('90752814-b206-407d-b87f-368ae6be4892');\n",
       "var x = new MutationObserver(function (mutations, observer) {{\n",
       "        var display = window.getComputedStyle(gd).display;\n",
       "        if (!display || display === 'none') {{\n",
       "            console.log([gd, 'removed!']);\n",
       "            Plotly.purge(gd);\n",
       "            observer.disconnect();\n",
       "        }}\n",
       "}});\n",
       "\n",
       "// Listen for the removal of the full notebook cells\n",
       "var notebookContainer = gd.closest('#notebook-container');\n",
       "if (notebookContainer) {{\n",
       "    x.observe(notebookContainer, {childList: true});\n",
       "}}\n",
       "\n",
       "// Listen for the clearing of the current output cell\n",
       "var outputEl = gd.closest('.output');\n",
       "if (outputEl) {{\n",
       "    x.observe(outputEl, {childList: true});\n",
       "}}\n",
       "\n",
       "                        })\n",
       "                };\n",
       "                });\n",
       "            </script>\n",
       "        </div>"
      ]
     },
     "metadata": {},
     "output_type": "display_data"
    }
   ],
   "source": [
    "list_top_15_countries = daily_cases_global.sort_values(daily_cases_global.columns[-2], ascending=False).reset_index()['Country/Region'][:25].to_list()    \n",
    "ct_w.value = list_top_15_countries\n",
    "\n",
    "\n",
    "if cases_w.value == 'Confirmed Cases':\n",
    "\n",
    "    daily_cases_global_2 = plot_phase_space_world(daily_cases_global, \n",
    "                                           title = cases_w.value, time_window=int(tw_w.value), \n",
    "                                           n_cases = min_w.value, country=ct_w.value)\n",
    "elif cases_w.value == 'Deaths':\n",
    "    daily_deaths_global_2 = plot_phase_space_world(daily_deaths_global, \n",
    "                                            title = cases_w.value, time_window=int(tw_w.value), \n",
    "                                            n_cases = min_w.value, country=ct_w.value)\n",
    "else:\n",
    "    print('ERROR in dataframe')   \n",
    "    \n"
   ]
  },
  {
   "cell_type": "code",
   "execution_count": 32,
   "metadata": {
    "ExecuteTime": {
     "end_time": "2020-05-05T21:26:35.536478Z",
     "start_time": "2020-05-05T21:26:35.533946Z"
    }
   },
   "outputs": [],
   "source": [
    "#daily_deaths_global_2"
   ]
  },
  {
   "cell_type": "markdown",
   "metadata": {},
   "source": [
    "## US"
   ]
  },
  {
   "cell_type": "markdown",
   "metadata": {},
   "source": [
    "### Reading data"
   ]
  },
  {
   "cell_type": "code",
   "execution_count": 137,
   "metadata": {
    "ExecuteTime": {
     "end_time": "2020-05-05T22:08:22.008360Z",
     "start_time": "2020-05-05T22:08:21.464927Z"
    }
   },
   "outputs": [],
   "source": [
    "daily_cases_US = pd.read_csv(date2+'_COVID-19-master_JHU/csse_covid_19_data/csse_covid_19_time_series/time_series_covid19_confirmed_US.csv', \n",
    "                                 dtype=object)\n",
    "# daily_cases_global = daily_cases_global_all.drop(columns =['Province/State', 'Lat', 'Long'])\n",
    "daily_cases_US = daily_cases_US[~daily_cases_US['Province_State'].isin(['Diamond Princess', 'Grand Princess'])]\n",
    "\n",
    "daily_deaths_US = pd.read_csv(date2+'_COVID-19-master_JHU/csse_covid_19_data/csse_covid_19_time_series/time_series_covid19_deaths_US.csv', \n",
    "                                 dtype=object)\n",
    "# daily_deaths_global = daily_deaths_global_all.drop(columns =['Province/State', 'Lat', 'Long'])\n",
    "daily_deaths_US = daily_deaths_US[~daily_deaths_US['Province_State'].isin(['Diamond Princess', 'Grand Princess'])]\n",
    "\n",
    "daily_cases_US[daily_cases_US.columns[11:]] = daily_cases_US[daily_cases_US.columns[11:]].astype(float)\n",
    "daily_deaths_US[daily_deaths_US.columns[11:]] = daily_deaths_US[daily_deaths_US.columns[11:]].astype(float)\n",
    "\n",
    "daily_cases_US = daily_cases_US.groupby('Province_State')[daily_cases_US.columns[11:]].sum().reset_index()\n",
    "daily_deaths_US = daily_deaths_US.groupby('Province_State')[daily_deaths_US.columns[11:]].sum().reset_index()"
   ]
  },
  {
   "cell_type": "code",
   "execution_count": 138,
   "metadata": {
    "ExecuteTime": {
     "end_time": "2020-05-05T22:08:22.069865Z",
     "start_time": "2020-05-05T22:08:22.057514Z"
    }
   },
   "outputs": [
    {
     "data": {
      "application/vnd.jupyter.widget-view+json": {
       "model_id": "61cff962982a41818d02a887d8aa974e",
       "version_major": 2,
       "version_minor": 0
      },
      "text/plain": [
       "FloatSlider(value=1000.0, continuous_update=False, description='Minimum Number:', max=100000.0, readout_format…"
      ]
     },
     "metadata": {},
     "output_type": "display_data"
    }
   ],
   "source": [
    "min_us = widgets.FloatSlider(\n",
    "    value=1000,\n",
    "    min=0,\n",
    "    max=100000,\n",
    "    step=1000,\n",
    "    description='Minimum Number:',\n",
    "    disabled=False,\n",
    "    continuous_update=False,\n",
    "    orientation='horizontal',\n",
    "    readout=True,\n",
    "    readout_format='.0f',\n",
    ")\n",
    "display(min_us)"
   ]
  },
  {
   "cell_type": "code",
   "execution_count": 139,
   "metadata": {
    "ExecuteTime": {
     "end_time": "2020-05-05T22:08:23.810654Z",
     "start_time": "2020-05-05T22:08:23.804284Z"
    }
   },
   "outputs": [],
   "source": [
    "# Select minimum number states\n",
    "df_sts = daily_cases_US[['Province_State',daily_cases_US.columns[-1]]]\n",
    "df_sts = df_sts[df_sts[daily_cases_US.columns[-1]].astype(float) > min_us.value]\n",
    "\n",
    "list_states = ['All States']\n",
    "list_states.extend(sorted(list(daily_cases_US['Province_State'].unique())))"
   ]
  },
  {
   "cell_type": "markdown",
   "metadata": {},
   "source": [
    "### Widgets"
   ]
  },
  {
   "cell_type": "code",
   "execution_count": 140,
   "metadata": {
    "ExecuteTime": {
     "end_time": "2020-05-05T22:08:25.208733Z",
     "start_time": "2020-05-05T22:08:25.176026Z"
    }
   },
   "outputs": [
    {
     "data": {
      "application/vnd.jupyter.widget-view+json": {
       "model_id": "47fb55a200024a77a7aa71d437c6273e",
       "version_major": 2,
       "version_minor": 0
      },
      "text/plain": [
       "SelectMultiple(description='State:', index=(0, 1, 2, 3, 4, 5, 6, 7, 8, 9, 10, 11, 12, 13, 14, 15, 16, 17, 18, …"
      ]
     },
     "metadata": {},
     "output_type": "display_data"
    },
    {
     "data": {
      "application/vnd.jupyter.widget-view+json": {
       "model_id": "df71e28e54cf4d6aa92ede4a6c9eb334",
       "version_major": 2,
       "version_minor": 0
      },
      "text/plain": [
       "ToggleButtons(description='Option:', options=('Confirmed Cases', 'Deaths'), value='Confirmed Cases')"
      ]
     },
     "metadata": {},
     "output_type": "display_data"
    },
    {
     "data": {
      "application/vnd.jupyter.widget-view+json": {
       "model_id": "392c7be03485441b946b9599c9928eb3",
       "version_major": 2,
       "version_minor": 0
      },
      "text/plain": [
       "FloatSlider(value=20.0, continuous_update=False, description='Minimum Number:', max=1000.0, readout_format='.0…"
      ]
     },
     "metadata": {},
     "output_type": "display_data"
    },
    {
     "data": {
      "application/vnd.jupyter.widget-view+json": {
       "model_id": "892b4526407d4a33bc8b8ae1d8fa7fb1",
       "version_major": 2,
       "version_minor": 0
      },
      "text/plain": [
       "FloatSlider(value=14.0, continuous_update=False, description='Days Avg:', max=21.0, min=1.0, readout_format='.…"
      ]
     },
     "metadata": {},
     "output_type": "display_data"
    }
   ],
   "source": [
    "style = {'description_width': 'initial'}\n",
    "\n",
    "st_us = widgets.SelectMultiple(\n",
    "    description='State:',\n",
    "    options=list_states,\n",
    "    value=list_states,\n",
    "    layout=Layout(width='20%', height='100px')\n",
    ")\n",
    "display(st_us)\n",
    "\n",
    "cases_us = widgets.ToggleButtons(\n",
    "    description='Option:',\n",
    "    options=['Confirmed Cases', 'Deaths'],\n",
    ")\n",
    "display(cases_us)\n",
    "\n",
    "min_us = widgets.FloatSlider(\n",
    "    value=20,\n",
    "    min=0,\n",
    "    max=1000,\n",
    "    step=50,\n",
    "    description='Minimum Number:',\n",
    "    disabled=False,\n",
    "    continuous_update=False,\n",
    "    orientation='horizontal',\n",
    "    readout=True,\n",
    "    readout_format='.0f',\n",
    ")\n",
    "display(min_us)\n",
    "\n",
    "tw_us = widgets.FloatSlider(\n",
    "    value=14,\n",
    "    min=1,\n",
    "    max=21,\n",
    "    step=1,\n",
    "    description='Days Avg:',\n",
    "    disabled=False,\n",
    "    continuous_update=False,\n",
    "    orientation='horizontal',\n",
    "    readout=True,\n",
    "    readout_format='.0f',\n",
    ")\n",
    "display(tw_us)"
   ]
  },
  {
   "cell_type": "markdown",
   "metadata": {},
   "source": [
    "### Plot"
   ]
  },
  {
   "cell_type": "code",
   "execution_count": 146,
   "metadata": {
    "ExecuteTime": {
     "end_time": "2020-05-05T22:11:28.894882Z",
     "start_time": "2020-05-05T22:11:28.138930Z"
    },
    "scrolled": false
   },
   "outputs": [
    {
     "data": {
      "application/vnd.plotly.v1+json": {
       "config": {
        "plotlyServerURL": "https://plot.ly"
       },
       "data": [
        {
         "customdata": [
          [
           21,
           "3/2/20",
           "California",
           9
          ],
          [
           25,
           "3/3/20",
           "California",
           4
          ],
          [
           35,
           "3/4/20",
           "California",
           10
          ],
          [
           51,
           "3/5/20",
           "California",
           16
          ],
          [
           59,
           "3/6/20",
           "California",
           8
          ],
          [
           81,
           "3/7/20",
           "California",
           22
          ],
          [
           95,
           "3/8/20",
           "California",
           14
          ],
          [
           101,
           "3/9/20",
           "California",
           6
          ],
          [
           144,
           "3/10/20",
           "California",
           43
          ],
          [
           178,
           "3/11/20",
           "California",
           34
          ],
          [
           221,
           "3/12/20",
           "California",
           43
          ],
          [
           281,
           "3/13/20",
           "California",
           60
          ],
          [
           372,
           "3/14/20",
           "California",
           91
          ],
          [
           373,
           "3/15/20",
           "California",
           1
          ],
          [
           557,
           "3/16/20",
           "California",
           184
          ],
          [
           700,
           "3/17/20",
           "California",
           143
          ],
          [
           828,
           "3/18/20",
           "California",
           128
          ],
          [
           1005,
           "3/19/20",
           "California",
           177
          ],
          [
           1243,
           "3/20/20",
           "California",
           238
          ],
          [
           1405,
           "3/21/20",
           "California",
           162
          ],
          [
           1646,
           "3/22/20",
           "California",
           241
          ],
          [
           2108,
           "3/23/20",
           "California",
           462
          ],
          [
           2538,
           "3/24/20",
           "California",
           430
          ],
          [
           2998,
           "3/25/20",
           "California",
           460
          ],
          [
           3899,
           "3/26/20",
           "California",
           901
          ],
          [
           4657,
           "3/27/20",
           "California",
           758
          ],
          [
           5095,
           "3/28/20",
           "California",
           438
          ],
          [
           5852,
           "3/29/20",
           "California",
           757
          ],
          [
           7138,
           "3/30/20",
           "California",
           1286
          ],
          [
           8210,
           "3/31/20",
           "California",
           1072
          ],
          [
           9399,
           "4/1/20",
           "California",
           1189
          ],
          [
           10773,
           "4/2/20",
           "California",
           1374
          ],
          [
           12004,
           "4/3/20",
           "California",
           1231
          ],
          [
           12837,
           "4/4/20",
           "California",
           833
          ],
          [
           15034,
           "4/5/20",
           "California",
           2197
          ],
          [
           16019,
           "4/6/20",
           "California",
           985
          ],
          [
           17351,
           "4/7/20",
           "California",
           1332
          ],
          [
           18897,
           "4/8/20",
           "California",
           1546
          ],
          [
           19710,
           "4/9/20",
           "California",
           813
          ],
          [
           21081,
           "4/10/20",
           "California",
           1371
          ],
          [
           21706,
           "4/11/20",
           "California",
           625
          ],
          [
           22795,
           "4/12/20",
           "California",
           1089
          ],
          [
           23931,
           "4/13/20",
           "California",
           1136
          ],
          [
           25356,
           "4/14/20",
           "California",
           1425
          ],
          [
           26686,
           "4/15/20",
           "California",
           1330
          ],
          [
           27677,
           "4/16/20",
           "California",
           991
          ],
          [
           29157,
           "4/17/20",
           "California",
           1480
          ],
          [
           30491,
           "4/18/20",
           "California",
           1334
          ],
          [
           31431,
           "4/19/20",
           "California",
           940
          ],
          [
           33686,
           "4/20/20",
           "California",
           2255
          ],
          [
           35465,
           "4/21/20",
           "California",
           1779
          ],
          [
           37344,
           "4/22/20",
           "California",
           1879
          ],
          [
           39561,
           "4/23/20",
           "California",
           2217
          ],
          [
           41355,
           "4/24/20",
           "California",
           1794
          ],
          [
           42368,
           "4/25/20",
           "California",
           1013
          ],
          [
           43558,
           "4/26/20",
           "California",
           1190
          ],
          [
           44966,
           "4/27/20",
           "California",
           1408
          ],
          [
           46164,
           "4/28/20",
           "California",
           1198
          ],
          [
           48747,
           "4/29/20",
           "California",
           2583
          ],
          [
           50130,
           "4/30/20",
           "California",
           1383
          ],
          [
           52026,
           "5/1/20",
           "California",
           1896
          ],
          [
           53347,
           "5/2/20",
           "California",
           1321
          ],
          [
           54903,
           "5/3/20",
           "California",
           1556
          ],
          [
           55884,
           "5/4/20",
           "California",
           981
          ]
         ],
         "hoverlabel": {
          "namelength": 0
         },
         "hovertemplate": "State =%{customdata[2]}<br>Mean growth over 21d compared to max growth =%{x}<br>% cases from last 21d =%{y}<br>Confirmed Cases=%{customdata[0]}<br>Date=%{customdata[1]}<br>Confirmed Cases today =%{customdata[3]}",
         "legendgroup": "California",
         "marker": {
          "color": "#636efa",
          "size": [
           21,
           25,
           35,
           51,
           59,
           81,
           95,
           101,
           144,
           178,
           221,
           281,
           372,
           373,
           557,
           700,
           828,
           1005,
           1243,
           1405,
           1646,
           2108,
           2538,
           2998,
           3899,
           4657,
           5095,
           5852,
           7138,
           8210,
           9399,
           10773,
           12004,
           12837,
           15034,
           16019,
           17351,
           18897,
           19710,
           21081,
           21706,
           22795,
           23931,
           25356,
           26686,
           27677,
           29157,
           30491,
           31431,
           33686,
           35465,
           37344,
           39561,
           41355,
           42368,
           43558,
           44966,
           46164,
           48747,
           50130,
           52026,
           53347,
           54903,
           55884
          ],
          "sizemode": "area",
          "sizeref": 797.3825,
          "symbol": "circle"
         },
         "mode": "lines+markers",
         "name": "California",
         "showlegend": true,
         "type": "scatter",
         "x": [
          0,
          0,
          0.1,
          0.1,
          0.1,
          0.2,
          0.2,
          0.2,
          0.3,
          0.4,
          0.4,
          0.6,
          0.8,
          0.8,
          1.2,
          1.5,
          1.7,
          2.1,
          2.6,
          2.9,
          3.5,
          4.4,
          5.3,
          6.3,
          8.1,
          9.7,
          10.6,
          12.2,
          14.9,
          17,
          19.5,
          22.3,
          24.8,
          26.3,
          31,
          32.7,
          35.2,
          38.2,
          39.5,
          41.9,
          42.9,
          44.7,
          46.1,
          48.2,
          50,
          50.2,
          51.7,
          53.6,
          54,
          56.1,
          57.6,
          59,
          60.8,
          62,
          62.4,
          60.2,
          61.1,
          60.8,
          63,
          64.2,
          65.3,
          66.8,
          67.8,
          67.5
         ],
         "xaxis": "x",
         "y": [
          71.4,
          72,
          80,
          84.3,
          86.4,
          90.1,
          91.6,
          92.1,
          94.4,
          95.5,
          96.4,
          96.4,
          97.3,
          97.3,
          98.2,
          98.6,
          98.8,
          98.9,
          99.1,
          99.1,
          99.3,
          99,
          99,
          98.8,
          98.7,
          98.7,
          98.4,
          98.4,
          98.6,
          98.2,
          98.1,
          97.9,
          97.7,
          97.1,
          97.5,
          96.5,
          96,
          95.6,
          94.9,
          94.1,
          93.5,
          92.8,
          91.2,
          90,
          88.8,
          85.9,
          84,
          83.3,
          81.4,
          78.8,
          76.9,
          74.8,
          72.8,
          71,
          69.7,
          65.5,
          64.4,
          62.4,
          61.2,
          60.7,
          59.5,
          59.3,
          58.5,
          57.2
         ],
         "yaxis": "y"
        },
        {
         "customdata": [
          [
           23,
           "3/14/20",
           "Connecticut",
           12
          ],
          [
           24,
           "3/15/20",
           "Connecticut",
           1
          ],
          [
           41,
           "3/16/20",
           "Connecticut",
           17
          ],
          [
           68,
           "3/17/20",
           "Connecticut",
           27
          ],
          [
           96,
           "3/18/20",
           "Connecticut",
           28
          ],
          [
           159,
           "3/19/20",
           "Connecticut",
           63
          ],
          [
           194,
           "3/20/20",
           "Connecticut",
           35
          ],
          [
           194,
           "3/21/20",
           "Connecticut",
           0
          ],
          [
           327,
           "3/22/20",
           "Connecticut",
           133
          ],
          [
           415,
           "3/23/20",
           "Connecticut",
           88
          ],
          [
           618,
           "3/24/20",
           "Connecticut",
           203
          ],
          [
           875,
           "3/25/20",
           "Connecticut",
           257
          ],
          [
           1012,
           "3/26/20",
           "Connecticut",
           137
          ],
          [
           1291,
           "3/27/20",
           "Connecticut",
           279
          ],
          [
           1524,
           "3/28/20",
           "Connecticut",
           233
          ],
          [
           1993,
           "3/29/20",
           "Connecticut",
           469
          ],
          [
           2571,
           "3/30/20",
           "Connecticut",
           578
          ],
          [
           3128,
           "3/31/20",
           "Connecticut",
           557
          ],
          [
           3557,
           "4/1/20",
           "Connecticut",
           429
          ],
          [
           3824,
           "4/2/20",
           "Connecticut",
           267
          ],
          [
           4914,
           "4/3/20",
           "Connecticut",
           1090
          ],
          [
           5276,
           "4/4/20",
           "Connecticut",
           362
          ],
          [
           5675,
           "4/5/20",
           "Connecticut",
           399
          ],
          [
           6906,
           "4/6/20",
           "Connecticut",
           1231
          ],
          [
           7781,
           "4/7/20",
           "Connecticut",
           875
          ],
          [
           7781,
           "4/8/20",
           "Connecticut",
           0
          ],
          [
           9784,
           "4/9/20",
           "Connecticut",
           2003
          ],
          [
           10538,
           "4/10/20",
           "Connecticut",
           754
          ],
          [
           11510,
           "4/11/20",
           "Connecticut",
           972
          ],
          [
           12035,
           "4/12/20",
           "Connecticut",
           525
          ],
          [
           13381,
           "4/13/20",
           "Connecticut",
           1346
          ],
          [
           13989,
           "4/14/20",
           "Connecticut",
           608
          ],
          [
           14755,
           "4/15/20",
           "Connecticut",
           766
          ],
          [
           15884,
           "4/16/20",
           "Connecticut",
           1129
          ],
          [
           16809,
           "4/17/20",
           "Connecticut",
           925
          ],
          [
           17550,
           "4/18/20",
           "Connecticut",
           741
          ],
          [
           17962,
           "4/19/20",
           "Connecticut",
           412
          ],
          [
           19815,
           "4/20/20",
           "Connecticut",
           1853
          ],
          [
           20360,
           "4/21/20",
           "Connecticut",
           545
          ],
          [
           22469,
           "4/22/20",
           "Connecticut",
           2109
          ],
          [
           23100,
           "4/23/20",
           "Connecticut",
           631
          ],
          [
           23936,
           "4/24/20",
           "Connecticut",
           836
          ],
          [
           24583,
           "4/25/20",
           "Connecticut",
           647
          ],
          [
           25269,
           "4/26/20",
           "Connecticut",
           686
          ],
          [
           25997,
           "4/27/20",
           "Connecticut",
           728
          ],
          [
           26312,
           "4/28/20",
           "Connecticut",
           315
          ],
          [
           26767,
           "4/29/20",
           "Connecticut",
           455
          ],
          [
           27700,
           "4/30/20",
           "Connecticut",
           933
          ],
          [
           28764,
           "5/1/20",
           "Connecticut",
           1064
          ],
          [
           29287,
           "5/2/20",
           "Connecticut",
           523
          ],
          [
           29287,
           "5/3/20",
           "Connecticut",
           0
          ],
          [
           29973,
           "5/4/20",
           "Connecticut",
           686
          ]
         ],
         "hoverlabel": {
          "namelength": 0
         },
         "hovertemplate": "State =%{customdata[2]}<br>Mean growth over 21d compared to max growth =%{x}<br>% cases from last 21d =%{y}<br>Confirmed Cases=%{customdata[0]}<br>Date=%{customdata[1]}<br>Confirmed Cases today =%{customdata[3]}",
         "legendgroup": "Connecticut",
         "marker": {
          "color": "#EF553B",
          "size": [
           23,
           24,
           41,
           68,
           96,
           159,
           194,
           194,
           327,
           415,
           618,
           875,
           1012,
           1291,
           1524,
           1993,
           2571,
           3128,
           3557,
           3824,
           4914,
           5276,
           5675,
           6906,
           7781,
           7781,
           9784,
           10538,
           11510,
           12035,
           13381,
           13989,
           14755,
           15884,
           16809,
           17550,
           17962,
           19815,
           20360,
           22469,
           23100,
           23936,
           24583,
           25269,
           25997,
           26312,
           26767,
           27700,
           28764,
           29287,
           29287,
           29973
          ],
          "sizemode": "area",
          "sizeref": 797.3825,
          "symbol": "circle"
         },
         "mode": "lines+markers",
         "name": "Connecticut",
         "showlegend": true,
         "type": "scatter",
         "x": [
          0.1,
          0.1,
          0.1,
          0.2,
          0.2,
          0.4,
          0.5,
          0.5,
          0.8,
          1,
          1.5,
          2.1,
          2.4,
          3.1,
          3.6,
          4.7,
          6.1,
          7.4,
          8.4,
          9.1,
          11.7,
          12.5,
          13.4,
          16.3,
          18.3,
          18.3,
          22.9,
          24.6,
          26.9,
          27.8,
          30.8,
          31.8,
          33,
          35.4,
          36.9,
          38.1,
          38,
          41,
          41,
          45,
          45.8,
          45.2,
          45.9,
          46.6,
          45.4,
          44.1,
          45.1,
          42.6,
          43.3,
          42.3,
          41,
          39.4
         ],
         "xaxis": "x",
         "y": [
          100,
          100,
          100,
          100,
          100,
          100,
          100,
          100,
          100,
          100,
          100,
          100,
          100,
          100,
          100,
          100,
          100,
          100,
          99.9,
          99.9,
          99.8,
          99.6,
          99.6,
          99.4,
          99.1,
          98.8,
          98.4,
          98.2,
          98.3,
          97.3,
          96.9,
          95.6,
          94.1,
          93.6,
          92.3,
          91.3,
          88.9,
          87,
          84.6,
          84.2,
          83.4,
          79.5,
          78.5,
          77.5,
          73.4,
          70.4,
          70.9,
          64.7,
          63.4,
          60.7,
          58.9,
          55.4
         ],
         "yaxis": "y"
        },
        {
         "customdata": [
          [
           24,
           "3/11/20",
           "Florida",
           9
          ],
          [
           30,
           "3/12/20",
           "Florida",
           6
          ],
          [
           50,
           "3/13/20",
           "Florida",
           20
          ],
          [
           76,
           "3/14/20",
           "Florida",
           26
          ],
          [
           100,
           "3/15/20",
           "Florida",
           24
          ],
          [
           101,
           "3/16/20",
           "Florida",
           1
          ],
          [
           190,
           "3/17/20",
           "Florida",
           89
          ],
          [
           306,
           "3/18/20",
           "Florida",
           116
          ],
          [
           432,
           "3/19/20",
           "Florida",
           126
          ],
          [
           564,
           "3/20/20",
           "Florida",
           132
          ],
          [
           763,
           "3/21/20",
           "Florida",
           199
          ],
          [
           1004,
           "3/22/20",
           "Florida",
           241
          ],
          [
           1227,
           "3/23/20",
           "Florida",
           223
          ],
          [
           1412,
           "3/24/20",
           "Florida",
           185
          ],
          [
           1682,
           "3/25/20",
           "Florida",
           270
          ],
          [
           2357,
           "3/26/20",
           "Florida",
           675
          ],
          [
           2900,
           "3/27/20",
           "Florida",
           543
          ],
          [
           3763,
           "3/28/20",
           "Florida",
           863
          ],
          [
           4246,
           "3/29/20",
           "Florida",
           483
          ],
          [
           5473,
           "3/30/20",
           "Florida",
           1227
          ],
          [
           6741,
           "3/31/20",
           "Florida",
           1268
          ],
          [
           6956,
           "4/1/20",
           "Florida",
           215
          ],
          [
           9008,
           "4/2/20",
           "Florida",
           2052
          ],
          [
           10268,
           "4/3/20",
           "Florida",
           1260
          ],
          [
           11537,
           "4/4/20",
           "Florida",
           1269
          ],
          [
           12350,
           "4/5/20",
           "Florida",
           813
          ],
          [
           13324,
           "4/6/20",
           "Florida",
           974
          ],
          [
           14545,
           "4/7/20",
           "Florida",
           1221
          ],
          [
           15456,
           "4/8/20",
           "Florida",
           911
          ],
          [
           16364,
           "4/9/20",
           "Florida",
           908
          ],
          [
           17531,
           "4/10/20",
           "Florida",
           1167
          ],
          [
           18494,
           "4/11/20",
           "Florida",
           963
          ],
          [
           19895,
           "4/12/20",
           "Florida",
           1401
          ],
          [
           21019,
           "4/13/20",
           "Florida",
           1124
          ],
          [
           21628,
           "4/14/20",
           "Florida",
           609
          ],
          [
           22511,
           "4/15/20",
           "Florida",
           883
          ],
          [
           23343,
           "4/16/20",
           "Florida",
           832
          ],
          [
           24759,
           "4/17/20",
           "Florida",
           1416
          ],
          [
           25492,
           "4/18/20",
           "Florida",
           733
          ],
          [
           26314,
           "4/19/20",
           "Florida",
           822
          ],
          [
           27059,
           "4/20/20",
           "Florida",
           745
          ],
          [
           27869,
           "4/21/20",
           "Florida",
           810
          ],
          [
           28309,
           "4/22/20",
           "Florida",
           440
          ],
          [
           29648,
           "4/23/20",
           "Florida",
           1339
          ],
          [
           30533,
           "4/24/20",
           "Florida",
           885
          ],
          [
           30839,
           "4/25/20",
           "Florida",
           306
          ],
          [
           31532,
           "4/26/20",
           "Florida",
           693
          ],
          [
           32138,
           "4/27/20",
           "Florida",
           606
          ],
          [
           32848,
           "4/28/20",
           "Florida",
           710
          ],
          [
           33193,
           "4/29/20",
           "Florida",
           345
          ],
          [
           33690,
           "4/30/20",
           "Florida",
           497
          ],
          [
           34728,
           "5/1/20",
           "Florida",
           1038
          ],
          [
           35463,
           "5/2/20",
           "Florida",
           735
          ],
          [
           36078,
           "5/3/20",
           "Florida",
           615
          ],
          [
           36897,
           "5/4/20",
           "Florida",
           819
          ]
         ],
         "hoverlabel": {
          "namelength": 0
         },
         "hovertemplate": "State =%{customdata[2]}<br>Mean growth over 21d compared to max growth =%{x}<br>% cases from last 21d =%{y}<br>Confirmed Cases=%{customdata[0]}<br>Date=%{customdata[1]}<br>Confirmed Cases today =%{customdata[3]}",
         "legendgroup": "Florida",
         "marker": {
          "color": "#00cc96",
          "size": [
           24,
           30,
           50,
           76,
           100,
           101,
           190,
           306,
           432,
           564,
           763,
           1004,
           1227,
           1412,
           1682,
           2357,
           2900,
           3763,
           4246,
           5473,
           6741,
           6956,
           9008,
           10268,
           11537,
           12350,
           13324,
           14545,
           15456,
           16364,
           17531,
           18494,
           19895,
           21019,
           21628,
           22511,
           23343,
           24759,
           25492,
           26314,
           27059,
           27869,
           28309,
           29648,
           30533,
           30839,
           31532,
           32138,
           32848,
           33193,
           33690,
           34728,
           35463,
           36078,
           36897
          ],
          "sizemode": "area",
          "sizeref": 797.3825,
          "symbol": "circle"
         },
         "mode": "lines+markers",
         "name": "Florida",
         "showlegend": true,
         "type": "scatter",
         "x": [
          0.1,
          0.1,
          0.2,
          0.3,
          0.3,
          0.3,
          0.6,
          1,
          1.5,
          1.9,
          2.6,
          3.4,
          4.1,
          4.7,
          5.6,
          7.9,
          9.7,
          12.6,
          14.2,
          18.4,
          22.6,
          23.3,
          30.2,
          34.4,
          38.5,
          41.2,
          44.5,
          48.3,
          50.9,
          53.6,
          57.1,
          59.6,
          63.5,
          66.6,
          68,
          70,
          70.6,
          73.5,
          73.1,
          74.2,
          72.6,
          71.1,
          71.8,
          69.4,
          68.1,
          64.9,
          64.5,
          63.3,
          61.6,
          59.6,
          58.3,
          57.8,
          57.1,
          54.4,
          53.4
         ],
         "xaxis": "x",
         "y": [
          100,
          100,
          100,
          100,
          100,
          100,
          100,
          100,
          100,
          100,
          100,
          100,
          99.9,
          99.9,
          99.9,
          99.9,
          99.9,
          99.8,
          99.8,
          99.8,
          99.8,
          99.7,
          99.7,
          99.5,
          99.3,
          99.2,
          99.2,
          98.7,
          98,
          97.4,
          96.8,
          95.9,
          95,
          94.2,
          93.5,
          92.5,
          89.9,
          88.3,
          85.2,
          83.9,
          79.8,
          75.8,
          75.4,
          69.6,
          66.4,
          62.6,
          60.8,
          58.5,
          55.7,
          53.4,
          51.4,
          49.5,
          47.8,
          44.9,
          43
         ],
         "yaxis": "y"
        },
        {
         "customdata": [
          [
           23,
           "3/11/20",
           "Georgia",
           6
          ],
          [
           31,
           "3/12/20",
           "Georgia",
           8
          ],
          [
           42,
           "3/13/20",
           "Georgia",
           11
          ],
          [
           73,
           "3/14/20",
           "Georgia",
           31
          ],
          [
           99,
           "3/15/20",
           "Georgia",
           26
          ],
          [
           121,
           "3/16/20",
           "Georgia",
           22
          ],
          [
           146,
           "3/17/20",
           "Georgia",
           25
          ],
          [
           197,
           "3/18/20",
           "Georgia",
           51
          ],
          [
           287,
           "3/19/20",
           "Georgia",
           90
          ],
          [
           485,
           "3/20/20",
           "Georgia",
           198
          ],
          [
           555,
           "3/21/20",
           "Georgia",
           70
          ],
          [
           621,
           "3/22/20",
           "Georgia",
           66
          ],
          [
           772,
           "3/23/20",
           "Georgia",
           151
          ],
          [
           1026,
           "3/24/20",
           "Georgia",
           254
          ],
          [
           1247,
           "3/25/20",
           "Georgia",
           221
          ],
          [
           1525,
           "3/26/20",
           "Georgia",
           278
          ],
          [
           2000,
           "3/27/20",
           "Georgia",
           475
          ],
          [
           2366,
           "3/28/20",
           "Georgia",
           366
          ],
          [
           2651,
           "3/29/20",
           "Georgia",
           285
          ],
          [
           2808,
           "3/30/20",
           "Georgia",
           157
          ],
          [
           3929,
           "3/31/20",
           "Georgia",
           1121
          ],
          [
           4638,
           "4/1/20",
           "Georgia",
           709
          ],
          [
           5348,
           "4/2/20",
           "Georgia",
           710
          ],
          [
           5831,
           "4/3/20",
           "Georgia",
           483
          ],
          [
           6160,
           "4/4/20",
           "Georgia",
           329
          ],
          [
           6647,
           "4/5/20",
           "Georgia",
           487
          ],
          [
           7314,
           "4/6/20",
           "Georgia",
           667
          ],
          [
           8822,
           "4/7/20",
           "Georgia",
           1508
          ],
          [
           9901,
           "4/8/20",
           "Georgia",
           1079
          ],
          [
           10566,
           "4/9/20",
           "Georgia",
           665
          ],
          [
           11485,
           "4/10/20",
           "Georgia",
           919
          ],
          [
           12159,
           "4/11/20",
           "Georgia",
           674
          ],
          [
           12452,
           "4/12/20",
           "Georgia",
           293
          ],
          [
           13315,
           "4/13/20",
           "Georgia",
           863
          ],
          [
           14578,
           "4/14/20",
           "Georgia",
           1263
          ],
          [
           14987,
           "4/15/20",
           "Georgia",
           409
          ],
          [
           15669,
           "4/16/20",
           "Georgia",
           682
          ],
          [
           17194,
           "4/17/20",
           "Georgia",
           1525
          ],
          [
           17669,
           "4/18/20",
           "Georgia",
           475
          ],
          [
           18301,
           "4/19/20",
           "Georgia",
           632
          ],
          [
           19407,
           "4/20/20",
           "Georgia",
           1106
          ],
          [
           19881,
           "4/21/20",
           "Georgia",
           474
          ],
          [
           21214,
           "4/22/20",
           "Georgia",
           1333
          ],
          [
           21883,
           "4/23/20",
           "Georgia",
           669
          ],
          [
           22491,
           "4/24/20",
           "Georgia",
           608
          ],
          [
           23222,
           "4/25/20",
           "Georgia",
           731
          ],
          [
           23486,
           "4/26/20",
           "Georgia",
           264
          ],
          [
           24302,
           "4/27/20",
           "Georgia",
           816
          ],
          [
           24922,
           "4/28/20",
           "Georgia",
           620
          ],
          [
           25775,
           "4/29/20",
           "Georgia",
           853
          ],
          [
           26264,
           "4/30/20",
           "Georgia",
           489
          ],
          [
           27489,
           "5/1/20",
           "Georgia",
           1225
          ],
          [
           28331,
           "5/2/20",
           "Georgia",
           842
          ],
          [
           28665,
           "5/3/20",
           "Georgia",
           334
          ],
          [
           29451,
           "5/4/20",
           "Georgia",
           786
          ]
         ],
         "hoverlabel": {
          "namelength": 0
         },
         "hovertemplate": "State =%{customdata[2]}<br>Mean growth over 21d compared to max growth =%{x}<br>% cases from last 21d =%{y}<br>Confirmed Cases=%{customdata[0]}<br>Date=%{customdata[1]}<br>Confirmed Cases today =%{customdata[3]}",
         "legendgroup": "Georgia",
         "marker": {
          "color": "#ab63fa",
          "size": [
           23,
           31,
           42,
           73,
           99,
           121,
           146,
           197,
           287,
           485,
           555,
           621,
           772,
           1026,
           1247,
           1525,
           2000,
           2366,
           2651,
           2808,
           3929,
           4638,
           5348,
           5831,
           6160,
           6647,
           7314,
           8822,
           9901,
           10566,
           11485,
           12159,
           12452,
           13315,
           14578,
           14987,
           15669,
           17194,
           17669,
           18301,
           19407,
           19881,
           21214,
           21883,
           22491,
           23222,
           23486,
           24302,
           24922,
           25775,
           26264,
           27489,
           28331,
           28665,
           29451
          ],
          "sizemode": "area",
          "sizeref": 797.3825,
          "symbol": "circle"
         },
         "mode": "lines+markers",
         "name": "Georgia",
         "showlegend": true,
         "type": "scatter",
         "x": [
          0.1,
          0.1,
          0.1,
          0.2,
          0.3,
          0.4,
          0.5,
          0.6,
          0.9,
          1.5,
          1.8,
          2,
          2.4,
          3.2,
          3.9,
          4.8,
          6.3,
          7.5,
          8.4,
          8.8,
          12.4,
          14.6,
          16.8,
          18.3,
          19.2,
          20.7,
          22.7,
          27.4,
          30.6,
          32.5,
          34.7,
          36.6,
          37.4,
          39.6,
          42.8,
          43.4,
          44.7,
          48,
          48.3,
          49.4,
          52.4,
          50.4,
          52.3,
          52.2,
          52.6,
          53.9,
          53.2,
          53.6,
          50.8,
          50.1,
          49.6,
          50.5,
          51.1,
          51.2,
          51
         ],
         "xaxis": "x",
         "y": [
          100,
          100,
          100,
          100,
          100,
          100,
          100,
          100,
          100,
          100,
          100,
          100,
          100,
          99.8,
          99.8,
          99.9,
          99.8,
          99.8,
          99.8,
          99.6,
          99.6,
          99.5,
          99.4,
          99.3,
          98.8,
          98.5,
          98.3,
          98.3,
          98,
          97.3,
          95.8,
          95.4,
          95,
          94.2,
          93,
          91.7,
          90.3,
          88.4,
          86.6,
          85.5,
          85.5,
          80.2,
          78.1,
          75.6,
          74.1,
          73.5,
          71.7,
          69.9,
          64.6,
          61.6,
          59.8,
          58.2,
          57.1,
          56.6,
          54.8
         ],
         "yaxis": "y"
        },
        {
         "customdata": [
          [
           25,
           "3/11/20",
           "Illinois",
           13
          ],
          [
           32,
           "3/12/20",
           "Illinois",
           7
          ],
          [
           46,
           "3/13/20",
           "Illinois",
           14
          ],
          [
           64,
           "3/14/20",
           "Illinois",
           18
          ],
          [
           66,
           "3/15/20",
           "Illinois",
           2
          ],
          [
           83,
           "3/16/20",
           "Illinois",
           17
          ],
          [
           161,
           "3/17/20",
           "Illinois",
           78
          ],
          [
           272,
           "3/18/20",
           "Illinois",
           111
          ],
          [
           422,
           "3/19/20",
           "Illinois",
           150
          ],
          [
           585,
           "3/20/20",
           "Illinois",
           163
          ],
          [
           753,
           "3/21/20",
           "Illinois",
           168
          ],
          [
           1049,
           "3/22/20",
           "Illinois",
           296
          ],
          [
           1285,
           "3/23/20",
           "Illinois",
           236
          ],
          [
           1537,
           "3/24/20",
           "Illinois",
           252
          ],
          [
           1865,
           "3/25/20",
           "Illinois",
           328
          ],
          [
           2538,
           "3/26/20",
           "Illinois",
           673
          ],
          [
           3024,
           "3/27/20",
           "Illinois",
           486
          ],
          [
           3491,
           "3/28/20",
           "Illinois",
           467
          ],
          [
           4596,
           "3/29/20",
           "Illinois",
           1105
          ],
          [
           5056,
           "3/30/20",
           "Illinois",
           460
          ],
          [
           5994,
           "3/31/20",
           "Illinois",
           938
          ],
          [
           6980,
           "4/1/20",
           "Illinois",
           986
          ],
          [
           7695,
           "4/2/20",
           "Illinois",
           715
          ],
          [
           8904,
           "4/3/20",
           "Illinois",
           1209
          ],
          [
           10357,
           "4/4/20",
           "Illinois",
           1453
          ],
          [
           11259,
           "4/5/20",
           "Illinois",
           902
          ],
          [
           12262,
           "4/6/20",
           "Illinois",
           1003
          ],
          [
           13553,
           "4/7/20",
           "Illinois",
           1291
          ],
          [
           15078,
           "4/8/20",
           "Illinois",
           1525
          ],
          [
           16422,
           "4/9/20",
           "Illinois",
           1344
          ],
          [
           17887,
           "4/10/20",
           "Illinois",
           1465
          ],
          [
           19180,
           "4/11/20",
           "Illinois",
           1293
          ],
          [
           20852,
           "4/12/20",
           "Illinois",
           1672
          ],
          [
           22025,
           "4/13/20",
           "Illinois",
           1173
          ],
          [
           23248,
           "4/14/20",
           "Illinois",
           1223
          ],
          [
           24593,
           "4/15/20",
           "Illinois",
           1345
          ],
          [
           25734,
           "4/16/20",
           "Illinois",
           1141
          ],
          [
           27578,
           "4/17/20",
           "Illinois",
           1844
          ],
          [
           29160,
           "4/18/20",
           "Illinois",
           1582
          ],
          [
           30357,
           "4/19/20",
           "Illinois",
           1197
          ],
          [
           31513,
           "4/20/20",
           "Illinois",
           1156
          ],
          [
           33059,
           "4/21/20",
           "Illinois",
           1546
          ],
          [
           35107,
           "4/22/20",
           "Illinois",
           2048
          ],
          [
           36937,
           "4/23/20",
           "Illinois",
           1830
          ],
          [
           39658,
           "4/24/20",
           "Illinois",
           2721
          ],
          [
           41777,
           "4/25/20",
           "Illinois",
           2119
          ],
          [
           43903,
           "4/26/20",
           "Illinois",
           2126
          ],
          [
           45883,
           "4/27/20",
           "Illinois",
           1980
          ],
          [
           48102,
           "4/28/20",
           "Illinois",
           2219
          ],
          [
           50358,
           "4/29/20",
           "Illinois",
           2256
          ],
          [
           52918,
           "4/30/20",
           "Illinois",
           2560
          ],
          [
           56055,
           "5/1/20",
           "Illinois",
           3137
          ],
          [
           58505,
           "5/2/20",
           "Illinois",
           2450
          ],
          [
           61499,
           "5/3/20",
           "Illinois",
           2994
          ],
          [
           63777,
           "5/4/20",
           "Illinois",
           2278
          ]
         ],
         "hoverlabel": {
          "namelength": 0
         },
         "hovertemplate": "State =%{customdata[2]}<br>Mean growth over 21d compared to max growth =%{x}<br>% cases from last 21d =%{y}<br>Confirmed Cases=%{customdata[0]}<br>Date=%{customdata[1]}<br>Confirmed Cases today =%{customdata[3]}",
         "legendgroup": "Illinois",
         "marker": {
          "color": "#FFA15A",
          "size": [
           25,
           32,
           46,
           64,
           66,
           83,
           161,
           272,
           422,
           585,
           753,
           1049,
           1285,
           1537,
           1865,
           2538,
           3024,
           3491,
           4596,
           5056,
           5994,
           6980,
           7695,
           8904,
           10357,
           11259,
           12262,
           13553,
           15078,
           16422,
           17887,
           19180,
           20852,
           22025,
           23248,
           24593,
           25734,
           27578,
           29160,
           30357,
           31513,
           33059,
           35107,
           36937,
           39658,
           41777,
           43903,
           45883,
           48102,
           50358,
           52918,
           56055,
           58505,
           61499,
           63777
          ],
          "sizemode": "area",
          "sizeref": 797.3825,
          "symbol": "circle"
         },
         "mode": "lines+markers",
         "name": "Illinois",
         "showlegend": true,
         "type": "scatter",
         "x": [
          0,
          0,
          0.1,
          0.1,
          0.1,
          0.1,
          0.3,
          0.4,
          0.7,
          0.9,
          1.2,
          1.7,
          2,
          2.4,
          3,
          4,
          4.8,
          5.5,
          7.3,
          8,
          9.5,
          11.1,
          12.2,
          14.1,
          16.4,
          17.8,
          19.4,
          21.3,
          23.5,
          25.4,
          27.5,
          29.3,
          31.5,
          33,
          34.5,
          36.1,
          36.9,
          39.1,
          40.8,
          41,
          42.1,
          43,
          44.7,
          46.5,
          48.9,
          50,
          51.9,
          53.5,
          54.9,
          56.1,
          58,
          60.7,
          62.5,
          64.6,
          66.4
         ],
         "xaxis": "x",
         "y": [
          92,
          93.8,
          95.7,
          96.9,
          97,
          97.6,
          98.8,
          99.3,
          99.5,
          99.7,
          99.7,
          99.7,
          99.7,
          99.7,
          99.8,
          99.8,
          99.8,
          99.8,
          99.8,
          99.9,
          99.8,
          99.6,
          99.6,
          99.5,
          99.4,
          99.4,
          99.3,
          98.8,
          98.2,
          97.4,
          96.7,
          96.1,
          95,
          94.2,
          93.4,
          92.4,
          90.1,
          89,
          88,
          84.9,
          84,
          81.9,
          80.1,
          79.2,
          77.5,
          75.2,
          74.4,
          73.3,
          71.8,
          70.1,
          69,
          68.1,
          67.2,
          66.1,
          65.5
         ],
         "yaxis": "y"
        },
        {
         "customdata": [
          [
           20,
           "3/15/20",
           "Indiana",
           4
          ],
          [
           25,
           "3/16/20",
           "Indiana",
           5
          ],
          [
           30,
           "3/17/20",
           "Indiana",
           5
          ],
          [
           38,
           "3/18/20",
           "Indiana",
           8
          ],
          [
           60,
           "3/19/20",
           "Indiana",
           22
          ],
          [
           86,
           "3/20/20",
           "Indiana",
           26
          ],
          [
           128,
           "3/21/20",
           "Indiana",
           42
          ],
          [
           204,
           "3/22/20",
           "Indiana",
           76
          ],
          [
           270,
           "3/23/20",
           "Indiana",
           66
          ],
          [
           368,
           "3/24/20",
           "Indiana",
           98
          ],
          [
           477,
           "3/25/20",
           "Indiana",
           109
          ],
          [
           645,
           "3/26/20",
           "Indiana",
           168
          ],
          [
           979,
           "3/27/20",
           "Indiana",
           334
          ],
          [
           1233,
           "3/28/20",
           "Indiana",
           254
          ],
          [
           1513,
           "3/29/20",
           "Indiana",
           280
          ],
          [
           1786,
           "3/30/20",
           "Indiana",
           273
          ],
          [
           2158,
           "3/31/20",
           "Indiana",
           372
          ],
          [
           2564,
           "4/1/20",
           "Indiana",
           406
          ],
          [
           3038,
           "4/2/20",
           "Indiana",
           474
          ],
          [
           3437,
           "4/3/20",
           "Indiana",
           399
          ],
          [
           3953,
           "4/4/20",
           "Indiana",
           516
          ],
          [
           4411,
           "4/5/20",
           "Indiana",
           458
          ],
          [
           4956,
           "4/6/20",
           "Indiana",
           545
          ],
          [
           5510,
           "4/7/20",
           "Indiana",
           554
          ],
          [
           5943,
           "4/8/20",
           "Indiana",
           433
          ],
          [
           6351,
           "4/9/20",
           "Indiana",
           408
          ],
          [
           6907,
           "4/10/20",
           "Indiana",
           556
          ],
          [
           7435,
           "4/11/20",
           "Indiana",
           528
          ],
          [
           7928,
           "4/12/20",
           "Indiana",
           493
          ],
          [
           8359,
           "4/13/20",
           "Indiana",
           431
          ],
          [
           8527,
           "4/14/20",
           "Indiana",
           168
          ],
          [
           8960,
           "4/15/20",
           "Indiana",
           433
          ],
          [
           9542,
           "4/16/20",
           "Indiana",
           582
          ],
          [
           10154,
           "4/17/20",
           "Indiana",
           612
          ],
          [
           10641,
           "4/18/20",
           "Indiana",
           487
          ],
          [
           11211,
           "4/19/20",
           "Indiana",
           570
          ],
          [
           11688,
           "4/20/20",
           "Indiana",
           477
          ],
          [
           12097,
           "4/21/20",
           "Indiana",
           409
          ],
          [
           12438,
           "4/22/20",
           "Indiana",
           341
          ],
          [
           13039,
           "4/23/20",
           "Indiana",
           601
          ],
          [
           13681,
           "4/24/20",
           "Indiana",
           642
          ],
          [
           14399,
           "4/25/20",
           "Indiana",
           718
          ],
          [
           15012,
           "4/26/20",
           "Indiana",
           613
          ],
          [
           15961,
           "4/27/20",
           "Indiana",
           949
          ],
          [
           16588,
           "4/28/20",
           "Indiana",
           627
          ],
          [
           17182,
           "4/29/20",
           "Indiana",
           594
          ],
          [
           17835,
           "4/30/20",
           "Indiana",
           653
          ],
          [
           18630,
           "5/1/20",
           "Indiana",
           795
          ],
          [
           19295,
           "5/2/20",
           "Indiana",
           665
          ],
          [
           19933,
           "5/3/20",
           "Indiana",
           638
          ],
          [
           20507,
           "5/4/20",
           "Indiana",
           574
          ]
         ],
         "hoverlabel": {
          "namelength": 0
         },
         "hovertemplate": "State =%{customdata[2]}<br>Mean growth over 21d compared to max growth =%{x}<br>% cases from last 21d =%{y}<br>Confirmed Cases=%{customdata[0]}<br>Date=%{customdata[1]}<br>Confirmed Cases today =%{customdata[3]}",
         "legendgroup": "Indiana",
         "marker": {
          "color": "#19d3f3",
          "size": [
           20,
           25,
           30,
           38,
           60,
           86,
           128,
           204,
           270,
           368,
           477,
           645,
           979,
           1233,
           1513,
           1786,
           2158,
           2564,
           3038,
           3437,
           3953,
           4411,
           4956,
           5510,
           5943,
           6351,
           6907,
           7435,
           7928,
           8359,
           8527,
           8960,
           9542,
           10154,
           10641,
           11211,
           11688,
           12097,
           12438,
           13039,
           13681,
           14399,
           15012,
           15961,
           16588,
           17182,
           17835,
           18630,
           19295,
           19933,
           20507
          ],
          "sizemode": "area",
          "sizeref": 797.3825,
          "symbol": "circle"
         },
         "mode": "lines+markers",
         "name": "Indiana",
         "showlegend": true,
         "type": "scatter",
         "x": [
          0.1,
          0.1,
          0.2,
          0.2,
          0.4,
          0.5,
          0.8,
          1.2,
          1.6,
          2.2,
          2.9,
          3.9,
          5.9,
          7.4,
          9.1,
          10.7,
          12.9,
          15.3,
          18.1,
          20.5,
          23.6,
          26.3,
          29.5,
          32.8,
          35.4,
          37.7,
          40.9,
          43.8,
          46.3,
          48.5,
          48.9,
          50.8,
          53.3,
          55,
          56.4,
          58.1,
          59.3,
          59.5,
          59.1,
          59.9,
          61.4,
          62.6,
          63.5,
          65.9,
          66.4,
          67.3,
          68.8,
          70.2,
          71,
          71.9,
          72.8
         ],
         "xaxis": "x",
         "y": [
          100,
          100,
          100,
          100,
          100,
          100,
          100,
          100,
          100,
          100,
          100,
          100,
          99.9,
          99.9,
          99.9,
          99.8,
          99.7,
          99.6,
          99.6,
          99.6,
          99.6,
          99.5,
          99.5,
          99.5,
          99.4,
          99.1,
          98.8,
          98.3,
          97.4,
          96.8,
          95.7,
          94.7,
          93.2,
          90.4,
          88.4,
          86.5,
          84.7,
          82.2,
          79.4,
          76.7,
          74.9,
          72.5,
          70.6,
          68.9,
          66.8,
          65.4,
          64.4,
          62.9,
          61.5,
          60.2,
          59.2
         ],
         "yaxis": "y"
        },
        {
         "customdata": [
          [
           29,
           "3/13/20",
           "Louisiana",
           10
          ],
          [
           77,
           "3/14/20",
           "Louisiana",
           48
          ],
          [
           87,
           "3/15/20",
           "Louisiana",
           10
          ],
          [
           115,
           "3/16/20",
           "Louisiana",
           28
          ],
          [
           196,
           "3/17/20",
           "Louisiana",
           81
          ],
          [
           257,
           "3/18/20",
           "Louisiana",
           61
          ],
          [
           392,
           "3/19/20",
           "Louisiana",
           135
          ],
          [
           537,
           "3/20/20",
           "Louisiana",
           145
          ],
          [
           763,
           "3/21/20",
           "Louisiana",
           226
          ],
          [
           837,
           "3/22/20",
           "Louisiana",
           74
          ],
          [
           1172,
           "3/23/20",
           "Louisiana",
           335
          ],
          [
           1388,
           "3/24/20",
           "Louisiana",
           216
          ],
          [
           1795,
           "3/25/20",
           "Louisiana",
           407
          ],
          [
           2304,
           "3/26/20",
           "Louisiana",
           509
          ],
          [
           2744,
           "3/27/20",
           "Louisiana",
           440
          ],
          [
           3315,
           "3/28/20",
           "Louisiana",
           571
          ],
          [
           3540,
           "3/29/20",
           "Louisiana",
           225
          ],
          [
           4025,
           "3/30/20",
           "Louisiana",
           485
          ],
          [
           5237,
           "3/31/20",
           "Louisiana",
           1212
          ],
          [
           6424,
           "4/1/20",
           "Louisiana",
           1187
          ],
          [
           9149,
           "4/2/20",
           "Louisiana",
           2725
          ],
          [
           10297,
           "4/3/20",
           "Louisiana",
           1148
          ],
          [
           12496,
           "4/4/20",
           "Louisiana",
           2199
          ],
          [
           13010,
           "4/5/20",
           "Louisiana",
           514
          ],
          [
           14867,
           "4/6/20",
           "Louisiana",
           1857
          ],
          [
           16284,
           "4/7/20",
           "Louisiana",
           1417
          ],
          [
           17030,
           "4/8/20",
           "Louisiana",
           746
          ],
          [
           18283,
           "4/9/20",
           "Louisiana",
           1253
          ],
          [
           19253,
           "4/10/20",
           "Louisiana",
           970
          ],
          [
           20014,
           "4/11/20",
           "Louisiana",
           761
          ],
          [
           20595,
           "4/12/20",
           "Louisiana",
           581
          ],
          [
           21016,
           "4/13/20",
           "Louisiana",
           421
          ],
          [
           21518,
           "4/14/20",
           "Louisiana",
           502
          ],
          [
           21951,
           "4/15/20",
           "Louisiana",
           433
          ],
          [
           22532,
           "4/16/20",
           "Louisiana",
           581
          ],
          [
           23118,
           "4/17/20",
           "Louisiana",
           586
          ],
          [
           23580,
           "4/18/20",
           "Louisiana",
           462
          ],
          [
           23928,
           "4/19/20",
           "Louisiana",
           348
          ],
          [
           24523,
           "4/20/20",
           "Louisiana",
           595
          ],
          [
           24854,
           "4/21/20",
           "Louisiana",
           331
          ],
          [
           25258,
           "4/22/20",
           "Louisiana",
           404
          ],
          [
           25739,
           "4/23/20",
           "Louisiana",
           481
          ],
          [
           26140,
           "4/24/20",
           "Louisiana",
           401
          ],
          [
           26512,
           "4/25/20",
           "Louisiana",
           372
          ],
          [
           26773,
           "4/26/20",
           "Louisiana",
           261
          ],
          [
           27068,
           "4/27/20",
           "Louisiana",
           295
          ],
          [
           27286,
           "4/28/20",
           "Louisiana",
           218
          ],
          [
           27660,
           "4/29/20",
           "Louisiana",
           374
          ],
          [
           28001,
           "4/30/20",
           "Louisiana",
           341
          ],
          [
           28711,
           "5/1/20",
           "Louisiana",
           710
          ],
          [
           29140,
           "5/2/20",
           "Louisiana",
           429
          ],
          [
           29340,
           "5/3/20",
           "Louisiana",
           200
          ],
          [
           29673,
           "5/4/20",
           "Louisiana",
           333
          ]
         ],
         "hoverlabel": {
          "namelength": 0
         },
         "hovertemplate": "State =%{customdata[2]}<br>Mean growth over 21d compared to max growth =%{x}<br>% cases from last 21d =%{y}<br>Confirmed Cases=%{customdata[0]}<br>Date=%{customdata[1]}<br>Confirmed Cases today =%{customdata[3]}",
         "legendgroup": "Louisiana",
         "marker": {
          "color": "#FF6692",
          "size": [
           29,
           77,
           87,
           115,
           196,
           257,
           392,
           537,
           763,
           837,
           1172,
           1388,
           1795,
           2304,
           2744,
           3315,
           3540,
           4025,
           5237,
           6424,
           9149,
           10297,
           12496,
           13010,
           14867,
           16284,
           17030,
           18283,
           19253,
           20014,
           20595,
           21016,
           21518,
           21951,
           22532,
           23118,
           23580,
           23928,
           24523,
           24854,
           25258,
           25739,
           26140,
           26512,
           26773,
           27068,
           27286,
           27660,
           28001,
           28711,
           29140,
           29340,
           29673
          ],
          "sizemode": "area",
          "sizeref": 797.3825,
          "symbol": "circle"
         },
         "mode": "lines+markers",
         "name": "Louisiana",
         "showlegend": true,
         "type": "scatter",
         "x": [
          0.1,
          0.2,
          0.2,
          0.2,
          0.4,
          0.6,
          0.8,
          1.2,
          1.7,
          1.8,
          2.5,
          3,
          3.9,
          5,
          5.9,
          7.2,
          7.7,
          8.7,
          11.3,
          13.9,
          19.8,
          22.2,
          26.9,
          28,
          31.9,
          34.8,
          36.3,
          38.7,
          40.5,
          41.7,
          42.8,
          43,
          43.6,
          43.6,
          43.8,
          44.1,
          43.9,
          44.1,
          44.4,
          42.5,
          40.8,
          35.9,
          34.3,
          30.4,
          29.8,
          26.4,
          23.8,
          23,
          21,
          20.5,
          19.8,
          18.9,
          18.7
         ],
         "xaxis": "x",
         "y": [
          100,
          100,
          100,
          100,
          100,
          100,
          100,
          100,
          100,
          100,
          100,
          100,
          100,
          100,
          100,
          100,
          100,
          100,
          100,
          99.9,
          99.8,
          99.7,
          99.4,
          99.3,
          99.2,
          98.8,
          98.5,
          97.9,
          97.2,
          96.2,
          95.9,
          94.4,
          93.5,
          91.8,
          89.8,
          88.1,
          85.9,
          85.2,
          83.6,
          78.9,
          74.6,
          64.5,
          60.6,
          52.9,
          51.4,
          45.1,
          40.3,
          38.4,
          34.7,
          32.9,
          31.3,
          29.8,
          29.2
         ],
         "yaxis": "y"
        },
        {
         "customdata": [
          [
           27,
           "3/14/20",
           "Maryland",
           9
          ],
          [
           24,
           "3/15/20",
           "Maryland",
           -3
          ],
          [
           42,
           "3/16/20",
           "Maryland",
           18
          ],
          [
           60,
           "3/17/20",
           "Maryland",
           18
          ],
          [
           85,
           "3/18/20",
           "Maryland",
           25
          ],
          [
           107,
           "3/19/20",
           "Maryland",
           22
          ],
          [
           149,
           "3/20/20",
           "Maryland",
           42
          ],
          [
           193,
           "3/21/20",
           "Maryland",
           44
          ],
          [
           244,
           "3/22/20",
           "Maryland",
           51
          ],
          [
           290,
           "3/23/20",
           "Maryland",
           46
          ],
          [
           349,
           "3/24/20",
           "Maryland",
           59
          ],
          [
           425,
           "3/25/20",
           "Maryland",
           76
          ],
          [
           583,
           "3/26/20",
           "Maryland",
           158
          ],
          [
           775,
           "3/27/20",
           "Maryland",
           192
          ],
          [
           995,
           "3/28/20",
           "Maryland",
           220
          ],
          [
           1239,
           "3/29/20",
           "Maryland",
           244
          ],
          [
           1413,
           "3/30/20",
           "Maryland",
           174
          ],
          [
           1660,
           "3/31/20",
           "Maryland",
           247
          ],
          [
           1986,
           "4/1/20",
           "Maryland",
           326
          ],
          [
           2331,
           "4/2/20",
           "Maryland",
           345
          ],
          [
           2758,
           "4/3/20",
           "Maryland",
           427
          ],
          [
           3125,
           "4/4/20",
           "Maryland",
           367
          ],
          [
           3617,
           "4/5/20",
           "Maryland",
           492
          ],
          [
           4045,
           "4/6/20",
           "Maryland",
           428
          ],
          [
           4371,
           "4/7/20",
           "Maryland",
           326
          ],
          [
           5529,
           "4/8/20",
           "Maryland",
           1158
          ],
          [
           6185,
           "4/9/20",
           "Maryland",
           656
          ],
          [
           6968,
           "4/10/20",
           "Maryland",
           783
          ],
          [
           7694,
           "4/11/20",
           "Maryland",
           726
          ],
          [
           8225,
           "4/12/20",
           "Maryland",
           531
          ],
          [
           8936,
           "4/13/20",
           "Maryland",
           711
          ],
          [
           9472,
           "4/14/20",
           "Maryland",
           536
          ],
          [
           10032,
           "4/15/20",
           "Maryland",
           560
          ],
          [
           10784,
           "4/16/20",
           "Maryland",
           752
          ],
          [
           11572,
           "4/17/20",
           "Maryland",
           788
          ],
          [
           12326,
           "4/18/20",
           "Maryland",
           754
          ],
          [
           12847,
           "4/19/20",
           "Maryland",
           521
          ],
          [
           13684,
           "4/20/20",
           "Maryland",
           837
          ],
          [
           14193,
           "4/21/20",
           "Maryland",
           509
          ],
          [
           14775,
           "4/22/20",
           "Maryland",
           582
          ],
          [
           15737,
           "4/23/20",
           "Maryland",
           962
          ],
          [
           16616,
           "4/24/20",
           "Maryland",
           879
          ],
          [
           17766,
           "4/25/20",
           "Maryland",
           1150
          ],
          [
           18581,
           "4/26/20",
           "Maryland",
           815
          ],
          [
           19487,
           "4/27/20",
           "Maryland",
           906
          ],
          [
           20113,
           "4/28/20",
           "Maryland",
           626
          ],
          [
           20849,
           "4/29/20",
           "Maryland",
           736
          ],
          [
           21742,
           "4/30/20",
           "Maryland",
           893
          ],
          [
           23472,
           "5/1/20",
           "Maryland",
           1730
          ],
          [
           24473,
           "5/2/20",
           "Maryland",
           1001
          ],
          [
           25462,
           "5/3/20",
           "Maryland",
           989
          ],
          [
           26408,
           "5/4/20",
           "Maryland",
           946
          ]
         ],
         "hoverlabel": {
          "namelength": 0
         },
         "hovertemplate": "State =%{customdata[2]}<br>Mean growth over 21d compared to max growth =%{x}<br>% cases from last 21d =%{y}<br>Confirmed Cases=%{customdata[0]}<br>Date=%{customdata[1]}<br>Confirmed Cases today =%{customdata[3]}",
         "legendgroup": "Maryland",
         "marker": {
          "color": "#B6E880",
          "size": [
           27,
           24,
           42,
           60,
           85,
           107,
           149,
           193,
           244,
           290,
           349,
           425,
           583,
           775,
           995,
           1239,
           1413,
           1660,
           1986,
           2331,
           2758,
           3125,
           3617,
           4045,
           4371,
           5529,
           6185,
           6968,
           7694,
           8225,
           8936,
           9472,
           10032,
           10784,
           11572,
           12326,
           12847,
           13684,
           14193,
           14775,
           15737,
           16616,
           17766,
           18581,
           19487,
           20113,
           20849,
           21742,
           23472,
           24473,
           25462,
           26408
          ],
          "sizemode": "area",
          "sizeref": 797.3825,
          "symbol": "circle"
         },
         "mode": "lines+markers",
         "name": "Maryland",
         "showlegend": true,
         "type": "scatter",
         "x": [
          0.1,
          0.1,
          0.2,
          0.2,
          0.3,
          0.4,
          0.6,
          0.8,
          1,
          1.2,
          1.4,
          1.7,
          2.4,
          3.2,
          4.1,
          5.1,
          5.8,
          6.8,
          8.1,
          9.5,
          11.3,
          12.7,
          14.8,
          16.5,
          17.7,
          22.4,
          25,
          28,
          30.8,
          32.8,
          35.6,
          37.5,
          39.5,
          41.9,
          44.4,
          46.6,
          47.7,
          50.5,
          51.5,
          52.6,
          55.1,
          57,
          60.2,
          61.5,
          63.5,
          64.7,
          63,
          64,
          67.9,
          69,
          70.9,
          71.8
         ],
         "xaxis": "x",
         "y": [
          100,
          100,
          100,
          100,
          100,
          100,
          100,
          100,
          100,
          100,
          100,
          100,
          100,
          99.6,
          99.7,
          99.6,
          99.6,
          99.5,
          99.5,
          99.5,
          99.3,
          99.1,
          99.3,
          99,
          98.6,
          98.5,
          98.3,
          97.9,
          97.5,
          97,
          96.8,
          96.3,
          95.8,
          94.6,
          93.3,
          91.9,
          90.4,
          89.7,
          88.3,
          86.6,
          85.2,
          83.4,
          82.4,
          80.5,
          79.2,
          78.3,
          73.5,
          71.6,
          70.3,
          68.6,
          67.7,
          66.2
         ],
         "yaxis": "y"
        },
        {
         "customdata": [
          [
           22,
           "3/8/20",
           "Massachusetts",
           16
          ],
          [
           22,
           "3/9/20",
           "Massachusetts",
           0
          ],
          [
           41,
           "3/10/20",
           "Massachusetts",
           19
          ],
          [
           92,
           "3/11/20",
           "Massachusetts",
           51
          ],
          [
           107,
           "3/12/20",
           "Massachusetts",
           15
          ],
          [
           123,
           "3/13/20",
           "Massachusetts",
           16
          ],
          [
           138,
           "3/14/20",
           "Massachusetts",
           15
          ],
          [
           138,
           "3/15/20",
           "Massachusetts",
           0
          ],
          [
           187,
           "3/16/20",
           "Massachusetts",
           49
          ],
          [
           217,
           "3/17/20",
           "Massachusetts",
           30
          ],
          [
           252,
           "3/18/20",
           "Massachusetts",
           35
          ],
          [
           328,
           "3/19/20",
           "Massachusetts",
           76
          ],
          [
           413,
           "3/20/20",
           "Massachusetts",
           85
          ],
          [
           523,
           "3/21/20",
           "Massachusetts",
           110
          ],
          [
           640,
           "3/22/20",
           "Massachusetts",
           117
          ],
          [
           777,
           "3/23/20",
           "Massachusetts",
           137
          ],
          [
           1159,
           "3/24/20",
           "Massachusetts",
           382
          ],
          [
           1838,
           "3/25/20",
           "Massachusetts",
           679
          ],
          [
           2417,
           "3/26/20",
           "Massachusetts",
           579
          ],
          [
           3240,
           "3/27/20",
           "Massachusetts",
           823
          ],
          [
           4257,
           "3/28/20",
           "Massachusetts",
           1017
          ],
          [
           4955,
           "3/29/20",
           "Massachusetts",
           698
          ],
          [
           5752,
           "3/30/20",
           "Massachusetts",
           797
          ],
          [
           6620,
           "3/31/20",
           "Massachusetts",
           868
          ],
          [
           7738,
           "4/1/20",
           "Massachusetts",
           1118
          ],
          [
           8966,
           "4/2/20",
           "Massachusetts",
           1228
          ],
          [
           10402,
           "4/3/20",
           "Massachusetts",
           1436
          ],
          [
           11736,
           "4/4/20",
           "Massachusetts",
           1334
          ],
          [
           12500,
           "4/5/20",
           "Massachusetts",
           764
          ],
          [
           13837,
           "4/6/20",
           "Massachusetts",
           1337
          ],
          [
           15202,
           "4/7/20",
           "Massachusetts",
           1365
          ],
          [
           16790,
           "4/8/20",
           "Massachusetts",
           1588
          ],
          [
           18941,
           "4/9/20",
           "Massachusetts",
           2151
          ],
          [
           20974,
           "4/10/20",
           "Massachusetts",
           2033
          ],
          [
           22860,
           "4/11/20",
           "Massachusetts",
           1886
          ],
          [
           25475,
           "4/12/20",
           "Massachusetts",
           2615
          ],
          [
           26867,
           "4/13/20",
           "Massachusetts",
           1392
          ],
          [
           28164,
           "4/14/20",
           "Massachusetts",
           1297
          ],
          [
           29918,
           "4/15/20",
           "Massachusetts",
           1754
          ],
          [
           32181,
           "4/16/20",
           "Massachusetts",
           2263
          ],
          [
           34402,
           "4/17/20",
           "Massachusetts",
           2221
          ],
          [
           36372,
           "4/18/20",
           "Massachusetts",
           1970
          ],
          [
           38077,
           "4/19/20",
           "Massachusetts",
           1705
          ],
          [
           38077,
           "4/20/20",
           "Massachusetts",
           0
          ],
          [
           41199,
           "4/21/20",
           "Massachusetts",
           3122
          ],
          [
           42944,
           "4/22/20",
           "Massachusetts",
           1745
          ],
          [
           46023,
           "4/23/20",
           "Massachusetts",
           3079
          ],
          [
           50969,
           "4/24/20",
           "Massachusetts",
           4946
          ],
          [
           53348,
           "4/25/20",
           "Massachusetts",
           2379
          ],
          [
           54938,
           "4/26/20",
           "Massachusetts",
           1590
          ],
          [
           56462,
           "4/27/20",
           "Massachusetts",
           1524
          ],
          [
           58302,
           "4/28/20",
           "Massachusetts",
           1840
          ],
          [
           60265,
           "4/29/20",
           "Massachusetts",
           1963
          ],
          [
           62205,
           "4/30/20",
           "Massachusetts",
           1940
          ],
          [
           64311,
           "5/1/20",
           "Massachusetts",
           2106
          ],
          [
           66263,
           "5/2/20",
           "Massachusetts",
           1952
          ],
          [
           68087,
           "5/3/20",
           "Massachusetts",
           1824
          ],
          [
           69087,
           "5/4/20",
           "Massachusetts",
           1000
          ]
         ],
         "hoverlabel": {
          "namelength": 0
         },
         "hovertemplate": "State =%{customdata[2]}<br>Mean growth over 21d compared to max growth =%{x}<br>% cases from last 21d =%{y}<br>Confirmed Cases=%{customdata[0]}<br>Date=%{customdata[1]}<br>Confirmed Cases today =%{customdata[3]}",
         "legendgroup": "Massachusetts",
         "marker": {
          "color": "#FF97FF",
          "size": [
           22,
           22,
           41,
           92,
           107,
           123,
           138,
           138,
           187,
           217,
           252,
           328,
           413,
           523,
           640,
           777,
           1159,
           1838,
           2417,
           3240,
           4257,
           4955,
           5752,
           6620,
           7738,
           8966,
           10402,
           11736,
           12500,
           13837,
           15202,
           16790,
           18941,
           20974,
           22860,
           25475,
           26867,
           28164,
           29918,
           32181,
           34402,
           36372,
           38077,
           38077,
           41199,
           42944,
           46023,
           50969,
           53348,
           54938,
           56462,
           58302,
           60265,
           62205,
           64311,
           66263,
           68087,
           69087
          ],
          "sizemode": "area",
          "sizeref": 797.3825,
          "symbol": "circle"
         },
         "mode": "lines+markers",
         "name": "Massachusetts",
         "showlegend": true,
         "type": "scatter",
         "x": [
          0,
          0,
          0.1,
          0.1,
          0.2,
          0.2,
          0.2,
          0.2,
          0.3,
          0.3,
          0.4,
          0.5,
          0.6,
          0.8,
          1,
          1.2,
          1.8,
          2.8,
          3.7,
          4.9,
          6.5,
          7.5,
          8.7,
          10,
          11.7,
          13.5,
          15.7,
          17.7,
          18.9,
          20.8,
          22.9,
          25.2,
          28.4,
          31.4,
          34.1,
          37.9,
          39.8,
          41.2,
          42.8,
          45.4,
          47.5,
          49,
          50.5,
          49.3,
          52.7,
          53.7,
          56.5,
          61.9,
          63.5,
          64.7,
          65,
          65.7,
          66.3,
          66,
          66.1,
          66.2,
          65,
          64.4
         ],
         "xaxis": "x",
         "y": [
          95.5,
          95.5,
          97.6,
          98.9,
          99.1,
          99.2,
          99.3,
          99.3,
          99.5,
          99.5,
          99.6,
          99.7,
          99.8,
          99.8,
          99.8,
          99.9,
          99.8,
          99.9,
          99.9,
          99.8,
          99.9,
          99.6,
          99.6,
          99.4,
          98.8,
          98.8,
          98.8,
          98.8,
          98.9,
          98.6,
          98.6,
          98.5,
          98.3,
          98,
          97.7,
          97.5,
          97.1,
          95.9,
          93.9,
          92.5,
          90.6,
          88.3,
          87,
          84.9,
          83.9,
          82,
          80.5,
          79.6,
          78,
          77.2,
          75.5,
          73.9,
          72.1,
          69.6,
          67.4,
          65.5,
          62.6,
          61.1
         ],
         "yaxis": "y"
        },
        {
         "customdata": [
          [
           25,
           "3/14/20",
           "Michigan",
           9
          ],
          [
           32,
           "3/15/20",
           "Michigan",
           7
          ],
          [
           54,
           "3/16/20",
           "Michigan",
           22
          ],
          [
           63,
           "3/17/20",
           "Michigan",
           9
          ],
          [
           119,
           "3/18/20",
           "Michigan",
           56
          ],
          [
           259,
           "3/19/20",
           "Michigan",
           140
          ],
          [
           402,
           "3/20/20",
           "Michigan",
           143
          ],
          [
           540,
           "3/21/20",
           "Michigan",
           138
          ],
          [
           1035,
           "3/22/20",
           "Michigan",
           495
          ],
          [
           1329,
           "3/23/20",
           "Michigan",
           294
          ],
          [
           1793,
           "3/24/20",
           "Michigan",
           464
          ],
          [
           2296,
           "3/25/20",
           "Michigan",
           503
          ],
          [
           2845,
           "3/26/20",
           "Michigan",
           549
          ],
          [
           3634,
           "3/27/20",
           "Michigan",
           789
          ],
          [
           4650,
           "3/28/20",
           "Michigan",
           1016
          ],
          [
           5488,
           "3/29/20",
           "Michigan",
           838
          ],
          [
           6498,
           "3/30/20",
           "Michigan",
           1010
          ],
          [
           7615,
           "3/31/20",
           "Michigan",
           1117
          ],
          [
           9315,
           "4/1/20",
           "Michigan",
           1700
          ],
          [
           10791,
           "4/2/20",
           "Michigan",
           1476
          ],
          [
           12744,
           "4/3/20",
           "Michigan",
           1953
          ],
          [
           14225,
           "4/4/20",
           "Michigan",
           1481
          ],
          [
           15718,
           "4/5/20",
           "Michigan",
           1493
          ],
          [
           17221,
           "4/6/20",
           "Michigan",
           1503
          ],
          [
           18970,
           "4/7/20",
           "Michigan",
           1749
          ],
          [
           20346,
           "4/8/20",
           "Michigan",
           1376
          ],
          [
           21504,
           "4/9/20",
           "Michigan",
           1158
          ],
          [
           22434,
           "4/10/20",
           "Michigan",
           930
          ],
          [
           23605,
           "4/11/20",
           "Michigan",
           1171
          ],
          [
           24244,
           "4/12/20",
           "Michigan",
           639
          ],
          [
           25635,
           "4/13/20",
           "Michigan",
           1391
          ],
          [
           27001,
           "4/14/20",
           "Michigan",
           1366
          ],
          [
           28059,
           "4/15/20",
           "Michigan",
           1058
          ],
          [
           28809,
           "4/16/20",
           "Michigan",
           750
          ],
          [
           30023,
           "4/17/20",
           "Michigan",
           1214
          ],
          [
           30791,
           "4/18/20",
           "Michigan",
           768
          ],
          [
           31424,
           "4/19/20",
           "Michigan",
           633
          ],
          [
           32000,
           "4/20/20",
           "Michigan",
           576
          ],
          [
           32667,
           "4/21/20",
           "Michigan",
           667
          ],
          [
           33966,
           "4/22/20",
           "Michigan",
           1299
          ],
          [
           35296,
           "4/23/20",
           "Michigan",
           1330
          ],
          [
           36666,
           "4/24/20",
           "Michigan",
           1370
          ],
          [
           37074,
           "4/25/20",
           "Michigan",
           408
          ],
          [
           37778,
           "4/26/20",
           "Michigan",
           704
          ],
          [
           38210,
           "4/27/20",
           "Michigan",
           432
          ],
          [
           39262,
           "4/28/20",
           "Michigan",
           1052
          ],
          [
           40399,
           "4/29/20",
           "Michigan",
           1137
          ],
          [
           41379,
           "4/30/20",
           "Michigan",
           980
          ],
          [
           42356,
           "5/1/20",
           "Michigan",
           977
          ],
          [
           43207,
           "5/2/20",
           "Michigan",
           851
          ],
          [
           43801,
           "5/3/20",
           "Michigan",
           594
          ],
          [
           43990,
           "5/4/20",
           "Michigan",
           189
          ]
         ],
         "hoverlabel": {
          "namelength": 0
         },
         "hovertemplate": "State =%{customdata[2]}<br>Mean growth over 21d compared to max growth =%{x}<br>% cases from last 21d =%{y}<br>Confirmed Cases=%{customdata[0]}<br>Date=%{customdata[1]}<br>Confirmed Cases today =%{customdata[3]}",
         "legendgroup": "Michigan",
         "marker": {
          "color": "#FECB52",
          "size": [
           25,
           32,
           54,
           63,
           119,
           259,
           402,
           540,
           1035,
           1329,
           1793,
           2296,
           2845,
           3634,
           4650,
           5488,
           6498,
           7615,
           9315,
           10791,
           12744,
           14225,
           15718,
           17221,
           18970,
           20346,
           21504,
           22434,
           23605,
           24244,
           25635,
           27001,
           28059,
           28809,
           30023,
           30791,
           31424,
           32000,
           32667,
           33966,
           35296,
           36666,
           37074,
           37778,
           38210,
           39262,
           40399,
           41379,
           42356,
           43207,
           43801,
           43990
          ],
          "sizemode": "area",
          "sizeref": 797.3825,
          "symbol": "circle"
         },
         "mode": "lines+markers",
         "name": "Michigan",
         "showlegend": true,
         "type": "scatter",
         "x": [
          0.1,
          0.1,
          0.1,
          0.2,
          0.3,
          0.7,
          1.1,
          1.5,
          2.8,
          3.6,
          4.9,
          6.3,
          7.7,
          9.9,
          12.7,
          14.9,
          17.7,
          20.7,
          25.4,
          29.4,
          34.7,
          38.7,
          42.7,
          46.7,
          51.5,
          55.1,
          57.8,
          60,
          62.8,
          63.2,
          66.2,
          68.6,
          70.1,
          70.7,
          71.8,
          71.2,
          70.6,
          69.4,
          68.2,
          67.1,
          66.7,
          65.1,
          62.2,
          60.1,
          57.1,
          55.2,
          54.6,
          54.1,
          54.2,
          53.4,
          53.2,
          50
         ],
         "xaxis": "x",
         "y": [
          100,
          100,
          100,
          100,
          100,
          100,
          100,
          100,
          100,
          100,
          100,
          100,
          100,
          100,
          100,
          100,
          100,
          100,
          100,
          100,
          99.9,
          99.8,
          99.8,
          99.7,
          99.7,
          99.4,
          98.8,
          98.2,
          97.7,
          95.7,
          94.8,
          93.4,
          91.8,
          90.1,
          87.9,
          84.9,
          82.5,
          79.7,
          76.7,
          72.6,
          69.4,
          65.2,
          61.6,
          58.4,
          54.9,
          51.7,
          49.6,
          48,
          47,
          45.4,
          44.6,
          41.7
         ],
         "yaxis": "y"
        },
        {
         "customdata": [
          [
           23,
           "3/11/20",
           "New Jersey",
           8
          ],
          [
           29,
           "3/12/20",
           "New Jersey",
           6
          ],
          [
           49,
           "3/13/20",
           "New Jersey",
           20
          ],
          [
           69,
           "3/14/20",
           "New Jersey",
           20
          ],
          [
           72,
           "3/15/20",
           "New Jersey",
           3
          ],
          [
           176,
           "3/16/20",
           "New Jersey",
           104
          ],
          [
           250,
           "3/17/20",
           "New Jersey",
           74
          ],
          [
           397,
           "3/18/20",
           "New Jersey",
           147
          ],
          [
           741,
           "3/19/20",
           "New Jersey",
           344
          ],
          [
           890,
           "3/20/20",
           "New Jersey",
           149
          ],
          [
           1327,
           "3/21/20",
           "New Jersey",
           437
          ],
          [
           1914,
           "3/22/20",
           "New Jersey",
           587
          ],
          [
           2844,
           "3/23/20",
           "New Jersey",
           930
          ],
          [
           3675,
           "3/24/20",
           "New Jersey",
           831
          ],
          [
           4402,
           "3/25/20",
           "New Jersey",
           727
          ],
          [
           6876,
           "3/26/20",
           "New Jersey",
           2474
          ],
          [
           8825,
           "3/27/20",
           "New Jersey",
           1949
          ],
          [
           11124,
           "3/28/20",
           "New Jersey",
           2299
          ],
          [
           13386,
           "3/29/20",
           "New Jersey",
           2262
          ],
          [
           16636,
           "3/30/20",
           "New Jersey",
           3250
          ],
          [
           18696,
           "3/31/20",
           "New Jersey",
           2060
          ],
          [
           22255,
           "4/1/20",
           "New Jersey",
           3559
          ],
          [
           25590,
           "4/2/20",
           "New Jersey",
           3335
          ],
          [
           29895,
           "4/3/20",
           "New Jersey",
           4305
          ],
          [
           34124,
           "4/4/20",
           "New Jersey",
           4229
          ],
          [
           37505,
           "4/5/20",
           "New Jersey",
           3381
          ],
          [
           41090,
           "4/6/20",
           "New Jersey",
           3585
          ],
          [
           44416,
           "4/7/20",
           "New Jersey",
           3326
          ],
          [
           47437,
           "4/8/20",
           "New Jersey",
           3021
          ],
          [
           51027,
           "4/9/20",
           "New Jersey",
           3590
          ],
          [
           54588,
           "4/10/20",
           "New Jersey",
           3561
          ],
          [
           58151,
           "4/11/20",
           "New Jersey",
           3563
          ],
          [
           61850,
           "4/12/20",
           "New Jersey",
           3699
          ],
          [
           64584,
           "4/13/20",
           "New Jersey",
           2734
          ],
          [
           68824,
           "4/14/20",
           "New Jersey",
           4240
          ],
          [
           71030,
           "4/15/20",
           "New Jersey",
           2206
          ],
          [
           75317,
           "4/16/20",
           "New Jersey",
           4287
          ],
          [
           78467,
           "4/17/20",
           "New Jersey",
           3150
          ],
          [
           81420,
           "4/18/20",
           "New Jersey",
           2953
          ],
          [
           85301,
           "4/19/20",
           "New Jersey",
           3881
          ],
          [
           88722,
           "4/20/20",
           "New Jersey",
           3421
          ],
          [
           92387,
           "4/21/20",
           "New Jersey",
           3665
          ],
          [
           95914,
           "4/22/20",
           "New Jersey",
           3527
          ],
          [
           100025,
           "4/23/20",
           "New Jersey",
           4111
          ],
          [
           102196,
           "4/24/20",
           "New Jersey",
           2171
          ],
          [
           105498,
           "4/25/20",
           "New Jersey",
           3302
          ],
          [
           109038,
           "4/26/20",
           "New Jersey",
           3540
          ],
          [
           111188,
           "4/27/20",
           "New Jersey",
           2150
          ],
          [
           113856,
           "4/28/20",
           "New Jersey",
           2668
          ],
          [
           116365,
           "4/29/20",
           "New Jersey",
           2509
          ],
          [
           118652,
           "4/30/20",
           "New Jersey",
           2287
          ],
          [
           121190,
           "5/1/20",
           "New Jersey",
           2538
          ],
          [
           123717,
           "5/2/20",
           "New Jersey",
           2527
          ],
          [
           126744,
           "5/3/20",
           "New Jersey",
           3027
          ],
          [
           128269,
           "5/4/20",
           "New Jersey",
           1525
          ]
         ],
         "hoverlabel": {
          "namelength": 0
         },
         "hovertemplate": "State =%{customdata[2]}<br>Mean growth over 21d compared to max growth =%{x}<br>% cases from last 21d =%{y}<br>Confirmed Cases=%{customdata[0]}<br>Date=%{customdata[1]}<br>Confirmed Cases today =%{customdata[3]}",
         "legendgroup": "New Jersey",
         "marker": {
          "color": "#636efa",
          "size": [
           23,
           29,
           49,
           69,
           72,
           176,
           250,
           397,
           741,
           890,
           1327,
           1914,
           2844,
           3675,
           4402,
           6876,
           8825,
           11124,
           13386,
           16636,
           18696,
           22255,
           25590,
           29895,
           34124,
           37505,
           41090,
           44416,
           47437,
           51027,
           54588,
           58151,
           61850,
           64584,
           68824,
           71030,
           75317,
           78467,
           81420,
           85301,
           88722,
           92387,
           95914,
           100025,
           102196,
           105498,
           109038,
           111188,
           113856,
           116365,
           118652,
           121190,
           123717,
           126744,
           128269
          ],
          "sizemode": "area",
          "sizeref": 797.3825,
          "symbol": "circle"
         },
         "mode": "lines+markers",
         "name": "New Jersey",
         "showlegend": true,
         "type": "scatter",
         "x": [
          0,
          0,
          0.1,
          0.1,
          0.1,
          0.2,
          0.3,
          0.4,
          0.8,
          1,
          1.5,
          2.1,
          3.2,
          4.1,
          4.9,
          7.6,
          9.8,
          12.4,
          14.9,
          18.5,
          20.8,
          24.7,
          28.4,
          33.2,
          37.8,
          41.6,
          45.4,
          49.1,
          52.3,
          55.9,
          59.6,
          63.1,
          66.6,
          68.6,
          72.4,
          74,
          76,
          77.4,
          78.1,
          79.9,
          80.1,
          81.9,
          81.8,
          82.7,
          80.3,
          79.3,
          79.5,
          77.9,
          77.1,
          76.6,
          75.1,
          74,
          72.8,
          72.1,
          70.7
         ],
         "xaxis": "x",
         "y": [
          100,
          100,
          100,
          100,
          100,
          100,
          100,
          100,
          100,
          100,
          100,
          100,
          100,
          100,
          100,
          100,
          100,
          100,
          100,
          100,
          99.9,
          99.9,
          99.9,
          99.8,
          99.8,
          99.8,
          99.6,
          99.4,
          99.2,
          98.5,
          98.4,
          97.7,
          96.9,
          95.6,
          94.7,
          93.8,
          90.9,
          88.8,
          86.3,
          84.3,
          81.2,
          79.8,
          76.8,
          74.4,
          70.7,
          67.7,
          65.6,
          63,
          61,
          59.2,
          57,
          55,
          53,
          51.2,
          49.6
         ],
         "yaxis": "y"
        },
        {
         "customdata": [
          [
           23,
           "3/5/20",
           "New York",
           12
          ],
          [
           31,
           "3/6/20",
           "New York",
           8
          ],
          [
           76,
           "3/7/20",
           "New York",
           45
          ],
          [
           106,
           "3/8/20",
           "New York",
           30
          ],
          [
           142,
           "3/9/20",
           "New York",
           36
          ],
          [
           150,
           "3/10/20",
           "New York",
           8
          ],
          [
           220,
           "3/11/20",
           "New York",
           70
          ],
          [
           327,
           "3/12/20",
           "New York",
           107
          ],
          [
           421,
           "3/13/20",
           "New York",
           94
          ],
          [
           613,
           "3/14/20",
           "New York",
           192
          ],
          [
           615,
           "3/15/20",
           "New York",
           2
          ],
          [
           967,
           "3/16/20",
           "New York",
           352
          ],
          [
           1578,
           "3/17/20",
           "New York",
           611
          ],
          [
           3038,
           "3/18/20",
           "New York",
           1460
          ],
          [
           5704,
           "3/19/20",
           "New York",
           2666
          ],
          [
           8403,
           "3/20/20",
           "New York",
           2699
          ],
          [
           11727,
           "3/21/20",
           "New York",
           3324
          ],
          [
           15800,
           "3/22/20",
           "New York",
           4073
          ],
          [
           20884,
           "3/23/20",
           "New York",
           5084
          ],
          [
           25681,
           "3/24/20",
           "New York",
           4797
          ],
          [
           30841,
           "3/25/20",
           "New York",
           5160
          ],
          [
           37877,
           "3/26/20",
           "New York",
           7036
          ],
          [
           44876,
           "3/27/20",
           "New York",
           6999
          ],
          [
           52410,
           "3/28/20",
           "New York",
           7534
          ],
          [
           59648,
           "3/29/20",
           "New York",
           7238
          ],
          [
           66663,
           "3/30/20",
           "New York",
           7015
          ],
          [
           75833,
           "3/31/20",
           "New York",
           9170
          ],
          [
           83948,
           "4/1/20",
           "New York",
           8115
          ],
          [
           92506,
           "4/2/20",
           "New York",
           8558
          ],
          [
           102987,
           "4/3/20",
           "New York",
           10481
          ],
          [
           113833,
           "4/4/20",
           "New York",
           10846
          ],
          [
           123160,
           "4/5/20",
           "New York",
           9327
          ],
          [
           131815,
           "4/6/20",
           "New York",
           8655
          ],
          [
           139875,
           "4/7/20",
           "New York",
           8060
          ],
          [
           151061,
           "4/8/20",
           "New York",
           11186
          ],
          [
           161779,
           "4/9/20",
           "New York",
           10718
          ],
          [
           172348,
           "4/10/20",
           "New York",
           10569
          ],
          [
           181026,
           "4/11/20",
           "New York",
           8678
          ],
          [
           189033,
           "4/12/20",
           "New York",
           8007
          ],
          [
           195749,
           "4/13/20",
           "New York",
           6716
          ],
          [
           203020,
           "4/14/20",
           "New York",
           7271
          ],
          [
           214454,
           "4/15/20",
           "New York",
           11434
          ],
          [
           223691,
           "4/16/20",
           "New York",
           9237
          ],
          [
           230597,
           "4/17/20",
           "New York",
           6906
          ],
          [
           237474,
           "4/18/20",
           "New York",
           6877
          ],
          [
           243382,
           "4/19/20",
           "New York",
           5908
          ],
          [
           248416,
           "4/20/20",
           "New York",
           5034
          ],
          [
           253519,
           "4/21/20",
           "New York",
           5103
          ],
          [
           258222,
           "4/22/20",
           "New York",
           4703
          ],
          [
           263460,
           "4/23/20",
           "New York",
           5238
          ],
          [
           271590,
           "4/24/20",
           "New York",
           8130
          ],
          [
           282143,
           "4/25/20",
           "New York",
           10553
          ],
          [
           288045,
           "4/26/20",
           "New York",
           5902
          ],
          [
           291996,
           "4/27/20",
           "New York",
           3951
          ],
          [
           295106,
           "4/28/20",
           "New York",
           3110
          ],
          [
           299691,
           "4/29/20",
           "New York",
           4585
          ],
          [
           304372,
           "4/30/20",
           "New York",
           4681
          ],
          [
           308314,
           "5/1/20",
           "New York",
           3942
          ],
          [
           312977,
           "5/2/20",
           "New York",
           4663
          ],
          [
           316415,
           "5/3/20",
           "New York",
           3438
          ],
          [
           318953,
           "5/4/20",
           "New York",
           2538
          ]
         ],
         "hoverlabel": {
          "namelength": 0
         },
         "hovertemplate": "State =%{customdata[2]}<br>Mean growth over 21d compared to max growth =%{x}<br>% cases from last 21d =%{y}<br>Confirmed Cases=%{customdata[0]}<br>Date=%{customdata[1]}<br>Confirmed Cases today =%{customdata[3]}",
         "legendgroup": "New York",
         "marker": {
          "color": "#EF553B",
          "size": [
           23,
           31,
           76,
           106,
           142,
           150,
           220,
           327,
           421,
           613,
           615,
           967,
           1578,
           3038,
           5704,
           8403,
           11727,
           15800,
           20884,
           25681,
           30841,
           37877,
           44876,
           52410,
           59648,
           66663,
           75833,
           83948,
           92506,
           102987,
           113833,
           123160,
           131815,
           139875,
           151061,
           161779,
           172348,
           181026,
           189033,
           195749,
           203020,
           214454,
           223691,
           230597,
           237474,
           243382,
           248416,
           253519,
           258222,
           263460,
           271590,
           282143,
           288045,
           291996,
           295106,
           299691,
           304372,
           308314,
           312977,
           316415,
           318953
          ],
          "sizemode": "area",
          "sizeref": 797.3825,
          "symbol": "circle"
         },
         "mode": "lines+markers",
         "name": "New York",
         "showlegend": true,
         "type": "scatter",
         "x": [
          0,
          0,
          0,
          0,
          0.1,
          0.1,
          0.1,
          0.1,
          0.2,
          0.3,
          0.3,
          0.4,
          0.7,
          1.3,
          2.4,
          3.6,
          5,
          6.7,
          8.9,
          10.9,
          13.1,
          16.1,
          19.1,
          22.3,
          25.3,
          28.3,
          32.2,
          35.6,
          39.2,
          43.7,
          48.2,
          52.2,
          55.7,
          58.9,
          63,
          66.4,
          69.8,
          72.1,
          73.7,
          74.4,
          75.5,
          78.2,
          79.1,
          79.1,
          78.8,
          78.2,
          77.4,
          75.6,
          74.2,
          72.8,
          71.8,
          71.6,
          70.2,
          68.2,
          66.1,
          63.3,
          60.7,
          57.9,
          56.2,
          54.2,
          52.4
         ],
         "xaxis": "x",
         "y": [
          100,
          100,
          100,
          100,
          100,
          100,
          100,
          100,
          100,
          100,
          100,
          100,
          100,
          100,
          100,
          100,
          100,
          100,
          100,
          100,
          100,
          99.9,
          99.9,
          99.9,
          99.8,
          99.8,
          99.8,
          99.7,
          99.6,
          99.6,
          99.5,
          99.5,
          99.3,
          98.9,
          98,
          96.5,
          95.1,
          93.5,
          91.6,
          89.3,
          87.4,
          85.6,
          83.1,
          80.5,
          77.9,
          75.5,
          73.2,
          70.1,
          67.5,
          64.9,
          62.1,
          59.7,
          57.2,
          54.9,
          52.6,
          49.6,
          46.8,
          44.1,
          42.2,
          40.3,
          38.6
         ],
         "yaxis": "y"
        },
        {
         "customdata": [
          [
           26,
           "3/14/20",
           "Ohio",
           14
          ],
          [
           30,
           "3/15/20",
           "Ohio",
           4
          ],
          [
           50,
           "3/16/20",
           "Ohio",
           20
          ],
          [
           67,
           "3/17/20",
           "Ohio",
           17
          ],
          [
           89,
           "3/18/20",
           "Ohio",
           22
          ],
          [
           119,
           "3/19/20",
           "Ohio",
           30
          ],
          [
           173,
           "3/20/20",
           "Ohio",
           54
          ],
          [
           247,
           "3/21/20",
           "Ohio",
           74
          ],
          [
           356,
           "3/22/20",
           "Ohio",
           109
          ],
          [
           443,
           "3/23/20",
           "Ohio",
           87
          ],
          [
           567,
           "3/24/20",
           "Ohio",
           124
          ],
          [
           704,
           "3/25/20",
           "Ohio",
           137
          ],
          [
           868,
           "3/26/20",
           "Ohio",
           164
          ],
          [
           1137,
           "3/27/20",
           "Ohio",
           269
          ],
          [
           1406,
           "3/28/20",
           "Ohio",
           269
          ],
          [
           1653,
           "3/29/20",
           "Ohio",
           247
          ],
          [
           1933,
           "3/30/20",
           "Ohio",
           280
          ],
          [
           2199,
           "3/31/20",
           "Ohio",
           266
          ],
          [
           2547,
           "4/1/20",
           "Ohio",
           348
          ],
          [
           2901,
           "4/2/20",
           "Ohio",
           354
          ],
          [
           3312,
           "4/3/20",
           "Ohio",
           411
          ],
          [
           3739,
           "4/4/20",
           "Ohio",
           427
          ],
          [
           4043,
           "4/5/20",
           "Ohio",
           304
          ],
          [
           4453,
           "4/6/20",
           "Ohio",
           410
          ],
          [
           4782,
           "4/7/20",
           "Ohio",
           329
          ],
          [
           5148,
           "4/8/20",
           "Ohio",
           366
          ],
          [
           5512,
           "4/9/20",
           "Ohio",
           364
          ],
          [
           5878,
           "4/10/20",
           "Ohio",
           366
          ],
          [
           6250,
           "4/11/20",
           "Ohio",
           372
          ],
          [
           6604,
           "4/12/20",
           "Ohio",
           354
          ],
          [
           6975,
           "4/13/20",
           "Ohio",
           371
          ],
          [
           7285,
           "4/14/20",
           "Ohio",
           310
          ],
          [
           7794,
           "4/15/20",
           "Ohio",
           509
          ],
          [
           8414,
           "4/16/20",
           "Ohio",
           620
          ],
          [
           9107,
           "4/17/20",
           "Ohio",
           693
          ],
          [
           10222,
           "4/18/20",
           "Ohio",
           1115
          ],
          [
           11602,
           "4/19/20",
           "Ohio",
           1380
          ],
          [
           12919,
           "4/20/20",
           "Ohio",
           1317
          ],
          [
           13725,
           "4/21/20",
           "Ohio",
           806
          ],
          [
           14117,
           "4/22/20",
           "Ohio",
           392
          ],
          [
           14694,
           "4/23/20",
           "Ohio",
           577
          ],
          [
           15169,
           "4/24/20",
           "Ohio",
           475
          ],
          [
           15587,
           "4/25/20",
           "Ohio",
           418
          ],
          [
           15972,
           "4/26/20",
           "Ohio",
           385
          ],
          [
           16325,
           "4/27/20",
           "Ohio",
           353
          ],
          [
           16769,
           "4/28/20",
           "Ohio",
           444
          ],
          [
           17303,
           "4/29/20",
           "Ohio",
           534
          ],
          [
           18027,
           "4/30/20",
           "Ohio",
           724
          ],
          [
           18743,
           "5/1/20",
           "Ohio",
           716
          ],
          [
           19335,
           "5/2/20",
           "Ohio",
           592
          ],
          [
           19914,
           "5/3/20",
           "Ohio",
           579
          ],
          [
           20474,
           "5/4/20",
           "Ohio",
           560
          ]
         ],
         "hoverlabel": {
          "namelength": 0
         },
         "hovertemplate": "State =%{customdata[2]}<br>Mean growth over 21d compared to max growth =%{x}<br>% cases from last 21d =%{y}<br>Confirmed Cases=%{customdata[0]}<br>Date=%{customdata[1]}<br>Confirmed Cases today =%{customdata[3]}",
         "legendgroup": "Ohio",
         "marker": {
          "color": "#00cc96",
          "size": [
           26,
           30,
           50,
           67,
           89,
           119,
           173,
           247,
           356,
           443,
           567,
           704,
           868,
           1137,
           1406,
           1653,
           1933,
           2199,
           2547,
           2901,
           3312,
           3739,
           4043,
           4453,
           4782,
           5148,
           5512,
           5878,
           6250,
           6604,
           6975,
           7285,
           7794,
           8414,
           9107,
           10222,
           11602,
           12919,
           13725,
           14117,
           14694,
           15169,
           15587,
           15972,
           16325,
           16769,
           17303,
           18027,
           18743,
           19335,
           19914,
           20474
          ],
          "sizemode": "area",
          "sizeref": 797.3825,
          "symbol": "circle"
         },
         "mode": "lines+markers",
         "name": "Ohio",
         "showlegend": true,
         "type": "scatter",
         "x": [
          0.1,
          0.1,
          0.2,
          0.2,
          0.3,
          0.4,
          0.6,
          0.9,
          1.3,
          1.6,
          2.1,
          2.5,
          3.1,
          4.1,
          5.1,
          6,
          7,
          7.9,
          9.2,
          10.5,
          11.9,
          13.4,
          14.5,
          15.9,
          17,
          18.3,
          19.5,
          20.6,
          21.7,
          22.6,
          23.6,
          24.3,
          25.6,
          27.3,
          28.8,
          31.9,
          36,
          39.7,
          41.7,
          41.8,
          42.6,
          42.9,
          42.8,
          43.1,
          42.9,
          43.3,
          43.9,
          45.3,
          46.5,
          47.3,
          48.1,
          48.8
         ],
         "xaxis": "x",
         "y": [
          100,
          100,
          100,
          100,
          100,
          100,
          100,
          100,
          100,
          100,
          100,
          100,
          100,
          100,
          100,
          100,
          100,
          99.9,
          99.8,
          99.8,
          99.6,
          99.3,
          99.3,
          98.9,
          98.6,
          98.3,
          97.8,
          97.1,
          96,
          94.6,
          93.6,
          92.2,
          91,
          89.7,
          87.5,
          86.2,
          85.8,
          85,
          84,
          82,
          80.3,
          78.2,
          76,
          74.7,
          72.7,
          71.5,
          70.2,
          69.4,
          68.6,
          67.7,
          66.8,
          65.9
         ],
         "yaxis": "y"
        },
        {
         "customdata": [
          [
           22,
           "3/12/20",
           "Pennsylvania",
           6
          ],
          [
           41,
           "3/13/20",
           "Pennsylvania",
           19
          ],
          [
           47,
           "3/14/20",
           "Pennsylvania",
           6
          ],
          [
           47,
           "3/15/20",
           "Pennsylvania",
           0
          ],
          [
           79,
           "3/16/20",
           "Pennsylvania",
           32
          ],
          [
           112,
           "3/17/20",
           "Pennsylvania",
           33
          ],
          [
           155,
           "3/18/20",
           "Pennsylvania",
           43
          ],
          [
           206,
           "3/19/20",
           "Pennsylvania",
           51
          ],
          [
           311,
           "3/20/20",
           "Pennsylvania",
           105
          ],
          [
           399,
           "3/21/20",
           "Pennsylvania",
           88
          ],
          [
           509,
           "3/22/20",
           "Pennsylvania",
           110
          ],
          [
           698,
           "3/23/20",
           "Pennsylvania",
           189
          ],
          [
           946,
           "3/24/20",
           "Pennsylvania",
           248
          ],
          [
           1260,
           "3/25/20",
           "Pennsylvania",
           314
          ],
          [
           1795,
           "3/26/20",
           "Pennsylvania",
           535
          ],
          [
           2345,
           "3/27/20",
           "Pennsylvania",
           550
          ],
          [
           2845,
           "3/28/20",
           "Pennsylvania",
           500
          ],
          [
           3432,
           "3/29/20",
           "Pennsylvania",
           587
          ],
          [
           4155,
           "3/30/20",
           "Pennsylvania",
           723
          ],
          [
           4963,
           "3/31/20",
           "Pennsylvania",
           808
          ],
          [
           6009,
           "4/1/20",
           "Pennsylvania",
           1046
          ],
          [
           7268,
           "4/2/20",
           "Pennsylvania",
           1259
          ],
          [
           8570,
           "4/3/20",
           "Pennsylvania",
           1302
          ],
          [
           10444,
           "4/4/20",
           "Pennsylvania",
           1874
          ],
          [
           11589,
           "4/5/20",
           "Pennsylvania",
           1145
          ],
          [
           13127,
           "4/6/20",
           "Pennsylvania",
           1538
          ],
          [
           14853,
           "4/7/20",
           "Pennsylvania",
           1726
          ],
          [
           16631,
           "4/8/20",
           "Pennsylvania",
           1778
          ],
          [
           18300,
           "4/9/20",
           "Pennsylvania",
           1669
          ],
          [
           20051,
           "4/10/20",
           "Pennsylvania",
           1751
          ],
          [
           21719,
           "4/11/20",
           "Pennsylvania",
           1668
          ],
          [
           22938,
           "4/12/20",
           "Pennsylvania",
           1219
          ],
          [
           24292,
           "4/13/20",
           "Pennsylvania",
           1354
          ],
          [
           25465,
           "4/14/20",
           "Pennsylvania",
           1173
          ],
          [
           26753,
           "4/15/20",
           "Pennsylvania",
           1288
          ],
          [
           28258,
           "4/16/20",
           "Pennsylvania",
           1505
          ],
          [
           29888,
           "4/17/20",
           "Pennsylvania",
           1630
          ],
          [
           31652,
           "4/18/20",
           "Pennsylvania",
           1764
          ],
          [
           32902,
           "4/19/20",
           "Pennsylvania",
           1250
          ],
          [
           33914,
           "4/20/20",
           "Pennsylvania",
           1012
          ],
          [
           35249,
           "4/21/20",
           "Pennsylvania",
           1335
          ],
          [
           36082,
           "4/22/20",
           "Pennsylvania",
           833
          ],
          [
           38379,
           "4/23/20",
           "Pennsylvania",
           2297
          ],
          [
           40208,
           "4/24/20",
           "Pennsylvania",
           1829
          ],
          [
           41153,
           "4/25/20",
           "Pennsylvania",
           945
          ],
          [
           42616,
           "4/26/20",
           "Pennsylvania",
           1463
          ],
          [
           43558,
           "4/27/20",
           "Pennsylvania",
           942
          ],
          [
           45137,
           "4/28/20",
           "Pennsylvania",
           1579
          ],
          [
           46327,
           "4/29/20",
           "Pennsylvania",
           1190
          ],
          [
           47971,
           "4/30/20",
           "Pennsylvania",
           1644
          ],
          [
           49579,
           "5/1/20",
           "Pennsylvania",
           1608
          ],
          [
           50494,
           "5/2/20",
           "Pennsylvania",
           915
          ],
          [
           51225,
           "5/3/20",
           "Pennsylvania",
           731
          ],
          [
           52816,
           "5/4/20",
           "Pennsylvania",
           1591
          ]
         ],
         "hoverlabel": {
          "namelength": 0
         },
         "hovertemplate": "State =%{customdata[2]}<br>Mean growth over 21d compared to max growth =%{x}<br>% cases from last 21d =%{y}<br>Confirmed Cases=%{customdata[0]}<br>Date=%{customdata[1]}<br>Confirmed Cases today =%{customdata[3]}",
         "legendgroup": "Pennsylvania",
         "marker": {
          "color": "#ab63fa",
          "size": [
           22,
           41,
           47,
           47,
           79,
           112,
           155,
           206,
           311,
           399,
           509,
           698,
           946,
           1260,
           1795,
           2345,
           2845,
           3432,
           4155,
           4963,
           6009,
           7268,
           8570,
           10444,
           11589,
           13127,
           14853,
           16631,
           18300,
           20051,
           21719,
           22938,
           24292,
           25465,
           26753,
           28258,
           29888,
           31652,
           32902,
           33914,
           35249,
           36082,
           38379,
           40208,
           41153,
           42616,
           43558,
           45137,
           46327,
           47971,
           49579,
           50494,
           51225,
           52816
          ],
          "sizemode": "area",
          "sizeref": 797.3825,
          "symbol": "circle"
         },
         "mode": "lines+markers",
         "name": "Pennsylvania",
         "showlegend": true,
         "type": "scatter",
         "x": [
          0.1,
          0.1,
          0.1,
          0.1,
          0.2,
          0.3,
          0.4,
          0.5,
          0.8,
          1,
          1.3,
          1.8,
          2.4,
          3.2,
          4.6,
          6,
          7.2,
          8.7,
          10.5,
          12.6,
          15.2,
          18.4,
          21.7,
          26.4,
          29.3,
          33.2,
          37.5,
          41.9,
          46,
          50.2,
          54.2,
          57,
          60,
          62.3,
          64.8,
          67.2,
          70,
          73.2,
          74.9,
          75.6,
          77,
          76.4,
          79.1,
          80.4,
          78,
          78.8,
          77.3,
          77,
          75.5,
          75.4,
          75,
          73.1,
          71.9,
          72.5
         ],
         "xaxis": "x",
         "y": [
          100,
          100,
          100,
          100,
          100,
          100,
          100,
          100,
          100,
          100,
          100,
          100,
          100,
          100,
          100,
          99.9,
          99.9,
          99.8,
          99.8,
          99.8,
          99.7,
          99.7,
          99.5,
          99.5,
          99.6,
          99.4,
          99.2,
          99.1,
          98.9,
          98.4,
          98.2,
          97.8,
          97.1,
          96.3,
          95.3,
          93.6,
          92.2,
          91,
          89.6,
          87.7,
          85.9,
          83.3,
          81.1,
          78.7,
          74.6,
          72.8,
          69.9,
          67.1,
          64.1,
          61.9,
          59.6,
          57,
          55.2,
          54
         ],
         "yaxis": "y"
        },
        {
         "customdata": [
          [
           21,
           "3/11/20",
           "Texas",
           5
          ],
          [
           27,
           "3/12/20",
           "Texas",
           6
          ],
          [
           44,
           "3/13/20",
           "Texas",
           17
          ],
          [
           60,
           "3/14/20",
           "Texas",
           16
          ],
          [
           63,
           "3/15/20",
           "Texas",
           3
          ],
          [
           85,
           "3/16/20",
           "Texas",
           22
          ],
          [
           110,
           "3/17/20",
           "Texas",
           25
          ],
          [
           196,
           "3/18/20",
           "Texas",
           86
          ],
          [
           306,
           "3/19/20",
           "Texas",
           110
          ],
          [
           429,
           "3/20/20",
           "Texas",
           123
          ],
          [
           582,
           "3/21/20",
           "Texas",
           153
          ],
          [
           643,
           "3/22/20",
           "Texas",
           61
          ],
          [
           758,
           "3/23/20",
           "Texas",
           115
          ],
          [
           955,
           "3/24/20",
           "Texas",
           197
          ],
          [
           1229,
           "3/25/20",
           "Texas",
           274
          ],
          [
           1563,
           "3/26/20",
           "Texas",
           334
          ],
          [
           1937,
           "3/27/20",
           "Texas",
           374
          ],
          [
           2455,
           "3/28/20",
           "Texas",
           518
          ],
          [
           2792,
           "3/29/20",
           "Texas",
           337
          ],
          [
           3147,
           "3/30/20",
           "Texas",
           355
          ],
          [
           3809,
           "3/31/20",
           "Texas",
           662
          ],
          [
           4355,
           "4/1/20",
           "Texas",
           546
          ],
          [
           5069,
           "4/2/20",
           "Texas",
           714
          ],
          [
           5734,
           "4/3/20",
           "Texas",
           665
          ],
          [
           6567,
           "4/4/20",
           "Texas",
           833
          ],
          [
           7209,
           "4/5/20",
           "Texas",
           642
          ],
          [
           8043,
           "4/6/20",
           "Texas",
           834
          ],
          [
           8925,
           "4/7/20",
           "Texas",
           882
          ],
          [
           9777,
           "4/8/20",
           "Texas",
           852
          ],
          [
           11208,
           "4/9/20",
           "Texas",
           1431
          ],
          [
           12105,
           "4/10/20",
           "Texas",
           897
          ],
          [
           13023,
           "4/11/20",
           "Texas",
           918
          ],
          [
           13677,
           "4/12/20",
           "Texas",
           654
          ],
          [
           14275,
           "4/13/20",
           "Texas",
           598
          ],
          [
           15006,
           "4/14/20",
           "Texas",
           731
          ],
          [
           15907,
           "4/15/20",
           "Texas",
           901
          ],
          [
           16876,
           "4/16/20",
           "Texas",
           969
          ],
          [
           17849,
           "4/17/20",
           "Texas",
           973
          ],
          [
           18704,
           "4/18/20",
           "Texas",
           855
          ],
          [
           19260,
           "4/19/20",
           "Texas",
           556
          ],
          [
           19751,
           "4/20/20",
           "Texas",
           491
          ],
          [
           20574,
           "4/21/20",
           "Texas",
           823
          ],
          [
           21321,
           "4/22/20",
           "Texas",
           747
          ],
          [
           22650,
           "4/23/20",
           "Texas",
           1329
          ],
          [
           23642,
           "4/24/20",
           "Texas",
           992
          ],
          [
           24153,
           "4/25/20",
           "Texas",
           511
          ],
          [
           24967,
           "4/26/20",
           "Texas",
           814
          ],
          [
           25321,
           "4/27/20",
           "Texas",
           354
          ],
          [
           26357,
           "4/28/20",
           "Texas",
           1036
          ],
          [
           27257,
           "4/29/20",
           "Texas",
           900
          ],
          [
           28727,
           "4/30/20",
           "Texas",
           1470
          ],
          [
           29692,
           "5/1/20",
           "Texas",
           965
          ],
          [
           30917,
           "5/2/20",
           "Texas",
           1225
          ],
          [
           31998,
           "5/3/20",
           "Texas",
           1081
          ],
          [
           32783,
           "5/4/20",
           "Texas",
           785
          ]
         ],
         "hoverlabel": {
          "namelength": 0
         },
         "hovertemplate": "State =%{customdata[2]}<br>Mean growth over 21d compared to max growth =%{x}<br>% cases from last 21d =%{y}<br>Confirmed Cases=%{customdata[0]}<br>Date=%{customdata[1]}<br>Confirmed Cases today =%{customdata[3]}",
         "legendgroup": "Texas",
         "marker": {
          "color": "#FFA15A",
          "size": [
           21,
           27,
           44,
           60,
           63,
           85,
           110,
           196,
           306,
           429,
           582,
           643,
           758,
           955,
           1229,
           1563,
           1937,
           2455,
           2792,
           3147,
           3809,
           4355,
           5069,
           5734,
           6567,
           7209,
           8043,
           8925,
           9777,
           11208,
           12105,
           13023,
           13677,
           14275,
           15006,
           15907,
           16876,
           17849,
           18704,
           19260,
           19751,
           20574,
           21321,
           22650,
           23642,
           24153,
           24967,
           25321,
           26357,
           27257,
           28727,
           29692,
           30917,
           31998,
           32783
          ],
          "sizemode": "area",
          "sizeref": 797.3825,
          "symbol": "circle"
         },
         "mode": "lines+markers",
         "name": "Texas",
         "showlegend": true,
         "type": "scatter",
         "x": [
          0.1,
          0.1,
          0.1,
          0.2,
          0.2,
          0.3,
          0.4,
          0.7,
          1,
          1.4,
          1.9,
          2.1,
          2.5,
          3.2,
          4.1,
          5.2,
          6.4,
          8.1,
          9.3,
          10.4,
          12.6,
          14.4,
          16.8,
          18.9,
          21.7,
          23.8,
          26.5,
          29.3,
          31.9,
          36.3,
          38.9,
          41.4,
          43.4,
          45,
          46.8,
          48.8,
          51,
          52.9,
          54.1,
          54.8,
          55.3,
          55.8,
          56.5,
          58.5,
          59.6,
          58.5,
          59.1,
          57.5,
          58,
          58.2,
          58.3,
          58.5,
          59.5,
          61,
          61.6
         ],
         "xaxis": "x",
         "y": [
          100,
          100,
          100,
          100,
          100,
          100,
          100,
          100,
          100,
          100,
          100,
          100,
          100,
          100,
          100,
          99.8,
          99.8,
          99.7,
          99.6,
          99.6,
          99.6,
          99.5,
          99.5,
          99.2,
          99.1,
          99.1,
          98.9,
          98.8,
          98,
          97.3,
          96.5,
          95.5,
          95.3,
          94.7,
          93.6,
          92.3,
          90.7,
          89.1,
          86.9,
          85.5,
          84.1,
          81.5,
          79.6,
          77.6,
          75.7,
          72.8,
          71.1,
          68.2,
          66.1,
          64.1,
          61,
          59.2,
          57.9,
          57.3,
          56.5
         ],
         "yaxis": "y"
        }
       ],
       "layout": {
        "legend": {
         "itemsizing": "constant",
         "title": {
          "text": "State "
         },
         "tracegroupgap": 0
        },
        "template": {
         "data": {
          "bar": [
           {
            "error_x": {
             "color": "#2a3f5f"
            },
            "error_y": {
             "color": "#2a3f5f"
            },
            "marker": {
             "line": {
              "color": "#E5ECF6",
              "width": 0.5
             }
            },
            "type": "bar"
           }
          ],
          "barpolar": [
           {
            "marker": {
             "line": {
              "color": "#E5ECF6",
              "width": 0.5
             }
            },
            "type": "barpolar"
           }
          ],
          "carpet": [
           {
            "aaxis": {
             "endlinecolor": "#2a3f5f",
             "gridcolor": "white",
             "linecolor": "white",
             "minorgridcolor": "white",
             "startlinecolor": "#2a3f5f"
            },
            "baxis": {
             "endlinecolor": "#2a3f5f",
             "gridcolor": "white",
             "linecolor": "white",
             "minorgridcolor": "white",
             "startlinecolor": "#2a3f5f"
            },
            "type": "carpet"
           }
          ],
          "choropleth": [
           {
            "colorbar": {
             "outlinewidth": 0,
             "ticks": ""
            },
            "type": "choropleth"
           }
          ],
          "contour": [
           {
            "colorbar": {
             "outlinewidth": 0,
             "ticks": ""
            },
            "colorscale": [
             [
              0,
              "#0d0887"
             ],
             [
              0.1111111111111111,
              "#46039f"
             ],
             [
              0.2222222222222222,
              "#7201a8"
             ],
             [
              0.3333333333333333,
              "#9c179e"
             ],
             [
              0.4444444444444444,
              "#bd3786"
             ],
             [
              0.5555555555555556,
              "#d8576b"
             ],
             [
              0.6666666666666666,
              "#ed7953"
             ],
             [
              0.7777777777777778,
              "#fb9f3a"
             ],
             [
              0.8888888888888888,
              "#fdca26"
             ],
             [
              1,
              "#f0f921"
             ]
            ],
            "type": "contour"
           }
          ],
          "contourcarpet": [
           {
            "colorbar": {
             "outlinewidth": 0,
             "ticks": ""
            },
            "type": "contourcarpet"
           }
          ],
          "heatmap": [
           {
            "colorbar": {
             "outlinewidth": 0,
             "ticks": ""
            },
            "colorscale": [
             [
              0,
              "#0d0887"
             ],
             [
              0.1111111111111111,
              "#46039f"
             ],
             [
              0.2222222222222222,
              "#7201a8"
             ],
             [
              0.3333333333333333,
              "#9c179e"
             ],
             [
              0.4444444444444444,
              "#bd3786"
             ],
             [
              0.5555555555555556,
              "#d8576b"
             ],
             [
              0.6666666666666666,
              "#ed7953"
             ],
             [
              0.7777777777777778,
              "#fb9f3a"
             ],
             [
              0.8888888888888888,
              "#fdca26"
             ],
             [
              1,
              "#f0f921"
             ]
            ],
            "type": "heatmap"
           }
          ],
          "heatmapgl": [
           {
            "colorbar": {
             "outlinewidth": 0,
             "ticks": ""
            },
            "colorscale": [
             [
              0,
              "#0d0887"
             ],
             [
              0.1111111111111111,
              "#46039f"
             ],
             [
              0.2222222222222222,
              "#7201a8"
             ],
             [
              0.3333333333333333,
              "#9c179e"
             ],
             [
              0.4444444444444444,
              "#bd3786"
             ],
             [
              0.5555555555555556,
              "#d8576b"
             ],
             [
              0.6666666666666666,
              "#ed7953"
             ],
             [
              0.7777777777777778,
              "#fb9f3a"
             ],
             [
              0.8888888888888888,
              "#fdca26"
             ],
             [
              1,
              "#f0f921"
             ]
            ],
            "type": "heatmapgl"
           }
          ],
          "histogram": [
           {
            "marker": {
             "colorbar": {
              "outlinewidth": 0,
              "ticks": ""
             }
            },
            "type": "histogram"
           }
          ],
          "histogram2d": [
           {
            "colorbar": {
             "outlinewidth": 0,
             "ticks": ""
            },
            "colorscale": [
             [
              0,
              "#0d0887"
             ],
             [
              0.1111111111111111,
              "#46039f"
             ],
             [
              0.2222222222222222,
              "#7201a8"
             ],
             [
              0.3333333333333333,
              "#9c179e"
             ],
             [
              0.4444444444444444,
              "#bd3786"
             ],
             [
              0.5555555555555556,
              "#d8576b"
             ],
             [
              0.6666666666666666,
              "#ed7953"
             ],
             [
              0.7777777777777778,
              "#fb9f3a"
             ],
             [
              0.8888888888888888,
              "#fdca26"
             ],
             [
              1,
              "#f0f921"
             ]
            ],
            "type": "histogram2d"
           }
          ],
          "histogram2dcontour": [
           {
            "colorbar": {
             "outlinewidth": 0,
             "ticks": ""
            },
            "colorscale": [
             [
              0,
              "#0d0887"
             ],
             [
              0.1111111111111111,
              "#46039f"
             ],
             [
              0.2222222222222222,
              "#7201a8"
             ],
             [
              0.3333333333333333,
              "#9c179e"
             ],
             [
              0.4444444444444444,
              "#bd3786"
             ],
             [
              0.5555555555555556,
              "#d8576b"
             ],
             [
              0.6666666666666666,
              "#ed7953"
             ],
             [
              0.7777777777777778,
              "#fb9f3a"
             ],
             [
              0.8888888888888888,
              "#fdca26"
             ],
             [
              1,
              "#f0f921"
             ]
            ],
            "type": "histogram2dcontour"
           }
          ],
          "mesh3d": [
           {
            "colorbar": {
             "outlinewidth": 0,
             "ticks": ""
            },
            "type": "mesh3d"
           }
          ],
          "parcoords": [
           {
            "line": {
             "colorbar": {
              "outlinewidth": 0,
              "ticks": ""
             }
            },
            "type": "parcoords"
           }
          ],
          "pie": [
           {
            "automargin": true,
            "type": "pie"
           }
          ],
          "scatter": [
           {
            "marker": {
             "colorbar": {
              "outlinewidth": 0,
              "ticks": ""
             }
            },
            "type": "scatter"
           }
          ],
          "scatter3d": [
           {
            "line": {
             "colorbar": {
              "outlinewidth": 0,
              "ticks": ""
             }
            },
            "marker": {
             "colorbar": {
              "outlinewidth": 0,
              "ticks": ""
             }
            },
            "type": "scatter3d"
           }
          ],
          "scattercarpet": [
           {
            "marker": {
             "colorbar": {
              "outlinewidth": 0,
              "ticks": ""
             }
            },
            "type": "scattercarpet"
           }
          ],
          "scattergeo": [
           {
            "marker": {
             "colorbar": {
              "outlinewidth": 0,
              "ticks": ""
             }
            },
            "type": "scattergeo"
           }
          ],
          "scattergl": [
           {
            "marker": {
             "colorbar": {
              "outlinewidth": 0,
              "ticks": ""
             }
            },
            "type": "scattergl"
           }
          ],
          "scattermapbox": [
           {
            "marker": {
             "colorbar": {
              "outlinewidth": 0,
              "ticks": ""
             }
            },
            "type": "scattermapbox"
           }
          ],
          "scatterpolar": [
           {
            "marker": {
             "colorbar": {
              "outlinewidth": 0,
              "ticks": ""
             }
            },
            "type": "scatterpolar"
           }
          ],
          "scatterpolargl": [
           {
            "marker": {
             "colorbar": {
              "outlinewidth": 0,
              "ticks": ""
             }
            },
            "type": "scatterpolargl"
           }
          ],
          "scatterternary": [
           {
            "marker": {
             "colorbar": {
              "outlinewidth": 0,
              "ticks": ""
             }
            },
            "type": "scatterternary"
           }
          ],
          "surface": [
           {
            "colorbar": {
             "outlinewidth": 0,
             "ticks": ""
            },
            "colorscale": [
             [
              0,
              "#0d0887"
             ],
             [
              0.1111111111111111,
              "#46039f"
             ],
             [
              0.2222222222222222,
              "#7201a8"
             ],
             [
              0.3333333333333333,
              "#9c179e"
             ],
             [
              0.4444444444444444,
              "#bd3786"
             ],
             [
              0.5555555555555556,
              "#d8576b"
             ],
             [
              0.6666666666666666,
              "#ed7953"
             ],
             [
              0.7777777777777778,
              "#fb9f3a"
             ],
             [
              0.8888888888888888,
              "#fdca26"
             ],
             [
              1,
              "#f0f921"
             ]
            ],
            "type": "surface"
           }
          ],
          "table": [
           {
            "cells": {
             "fill": {
              "color": "#EBF0F8"
             },
             "line": {
              "color": "white"
             }
            },
            "header": {
             "fill": {
              "color": "#C8D4E3"
             },
             "line": {
              "color": "white"
             }
            },
            "type": "table"
           }
          ]
         },
         "layout": {
          "annotationdefaults": {
           "arrowcolor": "#2a3f5f",
           "arrowhead": 0,
           "arrowwidth": 1
          },
          "coloraxis": {
           "colorbar": {
            "outlinewidth": 0,
            "ticks": ""
           }
          },
          "colorscale": {
           "diverging": [
            [
             0,
             "#8e0152"
            ],
            [
             0.1,
             "#c51b7d"
            ],
            [
             0.2,
             "#de77ae"
            ],
            [
             0.3,
             "#f1b6da"
            ],
            [
             0.4,
             "#fde0ef"
            ],
            [
             0.5,
             "#f7f7f7"
            ],
            [
             0.6,
             "#e6f5d0"
            ],
            [
             0.7,
             "#b8e186"
            ],
            [
             0.8,
             "#7fbc41"
            ],
            [
             0.9,
             "#4d9221"
            ],
            [
             1,
             "#276419"
            ]
           ],
           "sequential": [
            [
             0,
             "#0d0887"
            ],
            [
             0.1111111111111111,
             "#46039f"
            ],
            [
             0.2222222222222222,
             "#7201a8"
            ],
            [
             0.3333333333333333,
             "#9c179e"
            ],
            [
             0.4444444444444444,
             "#bd3786"
            ],
            [
             0.5555555555555556,
             "#d8576b"
            ],
            [
             0.6666666666666666,
             "#ed7953"
            ],
            [
             0.7777777777777778,
             "#fb9f3a"
            ],
            [
             0.8888888888888888,
             "#fdca26"
            ],
            [
             1,
             "#f0f921"
            ]
           ],
           "sequentialminus": [
            [
             0,
             "#0d0887"
            ],
            [
             0.1111111111111111,
             "#46039f"
            ],
            [
             0.2222222222222222,
             "#7201a8"
            ],
            [
             0.3333333333333333,
             "#9c179e"
            ],
            [
             0.4444444444444444,
             "#bd3786"
            ],
            [
             0.5555555555555556,
             "#d8576b"
            ],
            [
             0.6666666666666666,
             "#ed7953"
            ],
            [
             0.7777777777777778,
             "#fb9f3a"
            ],
            [
             0.8888888888888888,
             "#fdca26"
            ],
            [
             1,
             "#f0f921"
            ]
           ]
          },
          "colorway": [
           "#636efa",
           "#EF553B",
           "#00cc96",
           "#ab63fa",
           "#FFA15A",
           "#19d3f3",
           "#FF6692",
           "#B6E880",
           "#FF97FF",
           "#FECB52"
          ],
          "font": {
           "color": "#2a3f5f"
          },
          "geo": {
           "bgcolor": "white",
           "lakecolor": "white",
           "landcolor": "#E5ECF6",
           "showlakes": true,
           "showland": true,
           "subunitcolor": "white"
          },
          "hoverlabel": {
           "align": "left"
          },
          "hovermode": "closest",
          "mapbox": {
           "style": "light"
          },
          "paper_bgcolor": "white",
          "plot_bgcolor": "#E5ECF6",
          "polar": {
           "angularaxis": {
            "gridcolor": "white",
            "linecolor": "white",
            "ticks": ""
           },
           "bgcolor": "#E5ECF6",
           "radialaxis": {
            "gridcolor": "white",
            "linecolor": "white",
            "ticks": ""
           }
          },
          "scene": {
           "xaxis": {
            "backgroundcolor": "#E5ECF6",
            "gridcolor": "white",
            "gridwidth": 2,
            "linecolor": "white",
            "showbackground": true,
            "ticks": "",
            "zerolinecolor": "white"
           },
           "yaxis": {
            "backgroundcolor": "#E5ECF6",
            "gridcolor": "white",
            "gridwidth": 2,
            "linecolor": "white",
            "showbackground": true,
            "ticks": "",
            "zerolinecolor": "white"
           },
           "zaxis": {
            "backgroundcolor": "#E5ECF6",
            "gridcolor": "white",
            "gridwidth": 2,
            "linecolor": "white",
            "showbackground": true,
            "ticks": "",
            "zerolinecolor": "white"
           }
          },
          "shapedefaults": {
           "line": {
            "color": "#2a3f5f"
           }
          },
          "ternary": {
           "aaxis": {
            "gridcolor": "white",
            "linecolor": "white",
            "ticks": ""
           },
           "baxis": {
            "gridcolor": "white",
            "linecolor": "white",
            "ticks": ""
           },
           "bgcolor": "#E5ECF6",
           "caxis": {
            "gridcolor": "white",
            "linecolor": "white",
            "ticks": ""
           }
          },
          "title": {
           "x": 0.05
          },
          "xaxis": {
           "automargin": true,
           "gridcolor": "white",
           "linecolor": "white",
           "ticks": "",
           "title": {
            "standoff": 15
           },
           "zerolinecolor": "white",
           "zerolinewidth": 2
          },
          "yaxis": {
           "automargin": true,
           "gridcolor": "white",
           "linecolor": "white",
           "ticks": "",
           "title": {
            "standoff": 15
           },
           "zerolinecolor": "white",
           "zerolinewidth": 2
          }
         }
        },
        "title": {
         "text": "Confirmed Cases - US"
        },
        "xaxis": {
         "anchor": "y",
         "domain": [
          0,
          1
         ],
         "rangemode": "tozero",
         "title": {
          "text": "Mean Daily Growth over 21 previous days compared to Max Daily Growth (%)"
         }
        },
        "yaxis": {
         "anchor": "x",
         "domain": [
          0,
          1
         ],
         "rangemode": "tozero",
         "title": {
          "text": "Percentage of Total occuring in the last 21 days (%)"
         }
        }
       }
      },
      "text/html": [
       "<div>\n",
       "        \n",
       "        \n",
       "            <div id=\"b4d735cd-d341-487b-9db0-ec83d4204f20\" class=\"plotly-graph-div\" style=\"height:525px; width:100%;\"></div>\n",
       "            <script type=\"text/javascript\">\n",
       "                require([\"plotly\"], function(Plotly) {\n",
       "                    window.PLOTLYENV=window.PLOTLYENV || {};\n",
       "                    \n",
       "                if (document.getElementById(\"b4d735cd-d341-487b-9db0-ec83d4204f20\")) {\n",
       "                    Plotly.newPlot(\n",
       "                        'b4d735cd-d341-487b-9db0-ec83d4204f20',\n",
       "                        [{\"customdata\": [[21.0, \"3/2/20\", \"California\", 9.0], [25.0, \"3/3/20\", \"California\", 4.0], [35.0, \"3/4/20\", \"California\", 10.0], [51.0, \"3/5/20\", \"California\", 16.0], [59.0, \"3/6/20\", \"California\", 8.0], [81.0, \"3/7/20\", \"California\", 22.0], [95.0, \"3/8/20\", \"California\", 14.0], [101.0, \"3/9/20\", \"California\", 6.0], [144.0, \"3/10/20\", \"California\", 43.0], [178.0, \"3/11/20\", \"California\", 34.0], [221.0, \"3/12/20\", \"California\", 43.0], [281.0, \"3/13/20\", \"California\", 60.0], [372.0, \"3/14/20\", \"California\", 91.0], [373.0, \"3/15/20\", \"California\", 1.0], [557.0, \"3/16/20\", \"California\", 184.0], [700.0, \"3/17/20\", \"California\", 143.0], [828.0, \"3/18/20\", \"California\", 128.0], [1005.0, \"3/19/20\", \"California\", 177.0], [1243.0, \"3/20/20\", \"California\", 238.0], [1405.0, \"3/21/20\", \"California\", 162.0], [1646.0, \"3/22/20\", \"California\", 241.0], [2108.0, \"3/23/20\", \"California\", 462.0], [2538.0, \"3/24/20\", \"California\", 430.0], [2998.0, \"3/25/20\", \"California\", 460.0], [3899.0, \"3/26/20\", \"California\", 901.0], [4657.0, \"3/27/20\", \"California\", 758.0], [5095.0, \"3/28/20\", \"California\", 438.0], [5852.0, \"3/29/20\", \"California\", 757.0], [7138.0, \"3/30/20\", \"California\", 1286.0], [8210.0, \"3/31/20\", \"California\", 1072.0], [9399.0, \"4/1/20\", \"California\", 1189.0], [10773.0, \"4/2/20\", \"California\", 1374.0], [12004.0, \"4/3/20\", \"California\", 1231.0], [12837.0, \"4/4/20\", \"California\", 833.0], [15034.0, \"4/5/20\", \"California\", 2197.0], [16019.0, \"4/6/20\", \"California\", 985.0], [17351.0, \"4/7/20\", \"California\", 1332.0], [18897.0, \"4/8/20\", \"California\", 1546.0], [19710.0, \"4/9/20\", \"California\", 813.0], [21081.0, \"4/10/20\", \"California\", 1371.0], [21706.0, \"4/11/20\", \"California\", 625.0], [22795.0, \"4/12/20\", \"California\", 1089.0], [23931.0, \"4/13/20\", \"California\", 1136.0], [25356.0, \"4/14/20\", \"California\", 1425.0], [26686.0, \"4/15/20\", \"California\", 1330.0], [27677.0, \"4/16/20\", \"California\", 991.0], [29157.0, \"4/17/20\", \"California\", 1480.0], [30491.0, \"4/18/20\", \"California\", 1334.0], [31431.0, \"4/19/20\", \"California\", 940.0], [33686.0, \"4/20/20\", \"California\", 2255.0], [35465.0, \"4/21/20\", \"California\", 1779.0], [37344.0, \"4/22/20\", \"California\", 1879.0], [39561.0, \"4/23/20\", \"California\", 2217.0], [41355.0, \"4/24/20\", \"California\", 1794.0], [42368.0, \"4/25/20\", \"California\", 1013.0], [43558.0, \"4/26/20\", \"California\", 1190.0], [44966.0, \"4/27/20\", \"California\", 1408.0], [46164.0, \"4/28/20\", \"California\", 1198.0], [48747.0, \"4/29/20\", \"California\", 2583.0], [50130.0, \"4/30/20\", \"California\", 1383.0], [52026.0, \"5/1/20\", \"California\", 1896.0], [53347.0, \"5/2/20\", \"California\", 1321.0], [54903.0, \"5/3/20\", \"California\", 1556.0], [55884.0, \"5/4/20\", \"California\", 981.0]], \"hoverlabel\": {\"namelength\": 0}, \"hovertemplate\": \"State =%{customdata[2]}<br>Mean growth over 21d compared to max growth =%{x}<br>% cases from last 21d =%{y}<br>Confirmed Cases=%{customdata[0]}<br>Date=%{customdata[1]}<br>Confirmed Cases today =%{customdata[3]}\", \"legendgroup\": \"California\", \"marker\": {\"color\": \"#636efa\", \"size\": [21.0, 25.0, 35.0, 51.0, 59.0, 81.0, 95.0, 101.0, 144.0, 178.0, 221.0, 281.0, 372.0, 373.0, 557.0, 700.0, 828.0, 1005.0, 1243.0, 1405.0, 1646.0, 2108.0, 2538.0, 2998.0, 3899.0, 4657.0, 5095.0, 5852.0, 7138.0, 8210.0, 9399.0, 10773.0, 12004.0, 12837.0, 15034.0, 16019.0, 17351.0, 18897.0, 19710.0, 21081.0, 21706.0, 22795.0, 23931.0, 25356.0, 26686.0, 27677.0, 29157.0, 30491.0, 31431.0, 33686.0, 35465.0, 37344.0, 39561.0, 41355.0, 42368.0, 43558.0, 44966.0, 46164.0, 48747.0, 50130.0, 52026.0, 53347.0, 54903.0, 55884.0], \"sizemode\": \"area\", \"sizeref\": 797.3825, \"symbol\": \"circle\"}, \"mode\": \"lines+markers\", \"name\": \"California\", \"showlegend\": true, \"type\": \"scatter\", \"x\": [0.0, 0.0, 0.1, 0.1, 0.1, 0.2, 0.2, 0.2, 0.3, 0.4, 0.4, 0.6, 0.8, 0.8, 1.2, 1.5, 1.7, 2.1, 2.6, 2.9, 3.5, 4.4, 5.3, 6.3, 8.1, 9.7, 10.6, 12.2, 14.9, 17.0, 19.5, 22.3, 24.8, 26.3, 31.0, 32.7, 35.2, 38.2, 39.5, 41.9, 42.9, 44.7, 46.1, 48.2, 50.0, 50.2, 51.7, 53.6, 54.0, 56.1, 57.6, 59.0, 60.8, 62.0, 62.4, 60.2, 61.1, 60.8, 63.0, 64.2, 65.3, 66.8, 67.8, 67.5], \"xaxis\": \"x\", \"y\": [71.4, 72.0, 80.0, 84.3, 86.4, 90.1, 91.6, 92.1, 94.4, 95.5, 96.4, 96.4, 97.3, 97.3, 98.2, 98.6, 98.8, 98.9, 99.1, 99.1, 99.3, 99.0, 99.0, 98.8, 98.7, 98.7, 98.4, 98.4, 98.6, 98.2, 98.1, 97.9, 97.7, 97.1, 97.5, 96.5, 96.0, 95.6, 94.9, 94.1, 93.5, 92.8, 91.2, 90.0, 88.8, 85.9, 84.0, 83.3, 81.4, 78.8, 76.9, 74.8, 72.8, 71.0, 69.7, 65.5, 64.4, 62.4, 61.2, 60.7, 59.5, 59.3, 58.5, 57.2], \"yaxis\": \"y\"}, {\"customdata\": [[23.0, \"3/14/20\", \"Connecticut\", 12.0], [24.0, \"3/15/20\", \"Connecticut\", 1.0], [41.0, \"3/16/20\", \"Connecticut\", 17.0], [68.0, \"3/17/20\", \"Connecticut\", 27.0], [96.0, \"3/18/20\", \"Connecticut\", 28.0], [159.0, \"3/19/20\", \"Connecticut\", 63.0], [194.0, \"3/20/20\", \"Connecticut\", 35.0], [194.0, \"3/21/20\", \"Connecticut\", 0.0], [327.0, \"3/22/20\", \"Connecticut\", 133.0], [415.0, \"3/23/20\", \"Connecticut\", 88.0], [618.0, \"3/24/20\", \"Connecticut\", 203.0], [875.0, \"3/25/20\", \"Connecticut\", 257.0], [1012.0, \"3/26/20\", \"Connecticut\", 137.0], [1291.0, \"3/27/20\", \"Connecticut\", 279.0], [1524.0, \"3/28/20\", \"Connecticut\", 233.0], [1993.0, \"3/29/20\", \"Connecticut\", 469.0], [2571.0, \"3/30/20\", \"Connecticut\", 578.0], [3128.0, \"3/31/20\", \"Connecticut\", 557.0], [3557.0, \"4/1/20\", \"Connecticut\", 429.0], [3824.0, \"4/2/20\", \"Connecticut\", 267.0], [4914.0, \"4/3/20\", \"Connecticut\", 1090.0], [5276.0, \"4/4/20\", \"Connecticut\", 362.0], [5675.0, \"4/5/20\", \"Connecticut\", 399.0], [6906.0, \"4/6/20\", \"Connecticut\", 1231.0], [7781.0, \"4/7/20\", \"Connecticut\", 875.0], [7781.0, \"4/8/20\", \"Connecticut\", 0.0], [9784.0, \"4/9/20\", \"Connecticut\", 2003.0], [10538.0, \"4/10/20\", \"Connecticut\", 754.0], [11510.0, \"4/11/20\", \"Connecticut\", 972.0], [12035.0, \"4/12/20\", \"Connecticut\", 525.0], [13381.0, \"4/13/20\", \"Connecticut\", 1346.0], [13989.0, \"4/14/20\", \"Connecticut\", 608.0], [14755.0, \"4/15/20\", \"Connecticut\", 766.0], [15884.0, \"4/16/20\", \"Connecticut\", 1129.0], [16809.0, \"4/17/20\", \"Connecticut\", 925.0], [17550.0, \"4/18/20\", \"Connecticut\", 741.0], [17962.0, \"4/19/20\", \"Connecticut\", 412.0], [19815.0, \"4/20/20\", \"Connecticut\", 1853.0], [20360.0, \"4/21/20\", \"Connecticut\", 545.0], [22469.0, \"4/22/20\", \"Connecticut\", 2109.0], [23100.0, \"4/23/20\", \"Connecticut\", 631.0], [23936.0, \"4/24/20\", \"Connecticut\", 836.0], [24583.0, \"4/25/20\", \"Connecticut\", 647.0], [25269.0, \"4/26/20\", \"Connecticut\", 686.0], [25997.0, \"4/27/20\", \"Connecticut\", 728.0], [26312.0, \"4/28/20\", \"Connecticut\", 315.0], [26767.0, \"4/29/20\", \"Connecticut\", 455.0], [27700.0, \"4/30/20\", \"Connecticut\", 933.0], [28764.0, \"5/1/20\", \"Connecticut\", 1064.0], [29287.0, \"5/2/20\", \"Connecticut\", 523.0], [29287.0, \"5/3/20\", \"Connecticut\", 0.0], [29973.0, \"5/4/20\", \"Connecticut\", 686.0]], \"hoverlabel\": {\"namelength\": 0}, \"hovertemplate\": \"State =%{customdata[2]}<br>Mean growth over 21d compared to max growth =%{x}<br>% cases from last 21d =%{y}<br>Confirmed Cases=%{customdata[0]}<br>Date=%{customdata[1]}<br>Confirmed Cases today =%{customdata[3]}\", \"legendgroup\": \"Connecticut\", \"marker\": {\"color\": \"#EF553B\", \"size\": [23.0, 24.0, 41.0, 68.0, 96.0, 159.0, 194.0, 194.0, 327.0, 415.0, 618.0, 875.0, 1012.0, 1291.0, 1524.0, 1993.0, 2571.0, 3128.0, 3557.0, 3824.0, 4914.0, 5276.0, 5675.0, 6906.0, 7781.0, 7781.0, 9784.0, 10538.0, 11510.0, 12035.0, 13381.0, 13989.0, 14755.0, 15884.0, 16809.0, 17550.0, 17962.0, 19815.0, 20360.0, 22469.0, 23100.0, 23936.0, 24583.0, 25269.0, 25997.0, 26312.0, 26767.0, 27700.0, 28764.0, 29287.0, 29287.0, 29973.0], \"sizemode\": \"area\", \"sizeref\": 797.3825, \"symbol\": \"circle\"}, \"mode\": \"lines+markers\", \"name\": \"Connecticut\", \"showlegend\": true, \"type\": \"scatter\", \"x\": [0.1, 0.1, 0.1, 0.2, 0.2, 0.4, 0.5, 0.5, 0.8, 1.0, 1.5, 2.1, 2.4, 3.1, 3.6, 4.7, 6.1, 7.4, 8.4, 9.1, 11.7, 12.5, 13.4, 16.3, 18.3, 18.3, 22.9, 24.6, 26.9, 27.8, 30.8, 31.8, 33.0, 35.4, 36.9, 38.1, 38.0, 41.0, 41.0, 45.0, 45.8, 45.2, 45.9, 46.6, 45.4, 44.1, 45.1, 42.6, 43.3, 42.3, 41.0, 39.4], \"xaxis\": \"x\", \"y\": [100.0, 100.0, 100.0, 100.0, 100.0, 100.0, 100.0, 100.0, 100.0, 100.0, 100.0, 100.0, 100.0, 100.0, 100.0, 100.0, 100.0, 100.0, 99.9, 99.9, 99.8, 99.6, 99.6, 99.4, 99.1, 98.8, 98.4, 98.2, 98.3, 97.3, 96.9, 95.6, 94.1, 93.6, 92.3, 91.3, 88.9, 87.0, 84.6, 84.2, 83.4, 79.5, 78.5, 77.5, 73.4, 70.4, 70.9, 64.7, 63.4, 60.7, 58.9, 55.4], \"yaxis\": \"y\"}, {\"customdata\": [[24.0, \"3/11/20\", \"Florida\", 9.0], [30.0, \"3/12/20\", \"Florida\", 6.0], [50.0, \"3/13/20\", \"Florida\", 20.0], [76.0, \"3/14/20\", \"Florida\", 26.0], [100.0, \"3/15/20\", \"Florida\", 24.0], [101.0, \"3/16/20\", \"Florida\", 1.0], [190.0, \"3/17/20\", \"Florida\", 89.0], [306.0, \"3/18/20\", \"Florida\", 116.0], [432.0, \"3/19/20\", \"Florida\", 126.0], [564.0, \"3/20/20\", \"Florida\", 132.0], [763.0, \"3/21/20\", \"Florida\", 199.0], [1004.0, \"3/22/20\", \"Florida\", 241.0], [1227.0, \"3/23/20\", \"Florida\", 223.0], [1412.0, \"3/24/20\", \"Florida\", 185.0], [1682.0, \"3/25/20\", \"Florida\", 270.0], [2357.0, \"3/26/20\", \"Florida\", 675.0], [2900.0, \"3/27/20\", \"Florida\", 543.0], [3763.0, \"3/28/20\", \"Florida\", 863.0], [4246.0, \"3/29/20\", \"Florida\", 483.0], [5473.0, \"3/30/20\", \"Florida\", 1227.0], [6741.0, \"3/31/20\", \"Florida\", 1268.0], [6956.0, \"4/1/20\", \"Florida\", 215.0], [9008.0, \"4/2/20\", \"Florida\", 2052.0], [10268.0, \"4/3/20\", \"Florida\", 1260.0], [11537.0, \"4/4/20\", \"Florida\", 1269.0], [12350.0, \"4/5/20\", \"Florida\", 813.0], [13324.0, \"4/6/20\", \"Florida\", 974.0], [14545.0, \"4/7/20\", \"Florida\", 1221.0], [15456.0, \"4/8/20\", \"Florida\", 911.0], [16364.0, \"4/9/20\", \"Florida\", 908.0], [17531.0, \"4/10/20\", \"Florida\", 1167.0], [18494.0, \"4/11/20\", \"Florida\", 963.0], [19895.0, \"4/12/20\", \"Florida\", 1401.0], [21019.0, \"4/13/20\", \"Florida\", 1124.0], [21628.0, \"4/14/20\", \"Florida\", 609.0], [22511.0, \"4/15/20\", \"Florida\", 883.0], [23343.0, \"4/16/20\", \"Florida\", 832.0], [24759.0, \"4/17/20\", \"Florida\", 1416.0], [25492.0, \"4/18/20\", \"Florida\", 733.0], [26314.0, \"4/19/20\", \"Florida\", 822.0], [27059.0, \"4/20/20\", \"Florida\", 745.0], [27869.0, \"4/21/20\", \"Florida\", 810.0], [28309.0, \"4/22/20\", \"Florida\", 440.0], [29648.0, \"4/23/20\", \"Florida\", 1339.0], [30533.0, \"4/24/20\", \"Florida\", 885.0], [30839.0, \"4/25/20\", \"Florida\", 306.0], [31532.0, \"4/26/20\", \"Florida\", 693.0], [32138.0, \"4/27/20\", \"Florida\", 606.0], [32848.0, \"4/28/20\", \"Florida\", 710.0], [33193.0, \"4/29/20\", \"Florida\", 345.0], [33690.0, \"4/30/20\", \"Florida\", 497.0], [34728.0, \"5/1/20\", \"Florida\", 1038.0], [35463.0, \"5/2/20\", \"Florida\", 735.0], [36078.0, \"5/3/20\", \"Florida\", 615.0], [36897.0, \"5/4/20\", \"Florida\", 819.0]], \"hoverlabel\": {\"namelength\": 0}, \"hovertemplate\": \"State =%{customdata[2]}<br>Mean growth over 21d compared to max growth =%{x}<br>% cases from last 21d =%{y}<br>Confirmed Cases=%{customdata[0]}<br>Date=%{customdata[1]}<br>Confirmed Cases today =%{customdata[3]}\", \"legendgroup\": \"Florida\", \"marker\": {\"color\": \"#00cc96\", \"size\": [24.0, 30.0, 50.0, 76.0, 100.0, 101.0, 190.0, 306.0, 432.0, 564.0, 763.0, 1004.0, 1227.0, 1412.0, 1682.0, 2357.0, 2900.0, 3763.0, 4246.0, 5473.0, 6741.0, 6956.0, 9008.0, 10268.0, 11537.0, 12350.0, 13324.0, 14545.0, 15456.0, 16364.0, 17531.0, 18494.0, 19895.0, 21019.0, 21628.0, 22511.0, 23343.0, 24759.0, 25492.0, 26314.0, 27059.0, 27869.0, 28309.0, 29648.0, 30533.0, 30839.0, 31532.0, 32138.0, 32848.0, 33193.0, 33690.0, 34728.0, 35463.0, 36078.0, 36897.0], \"sizemode\": \"area\", \"sizeref\": 797.3825, \"symbol\": \"circle\"}, \"mode\": \"lines+markers\", \"name\": \"Florida\", \"showlegend\": true, \"type\": \"scatter\", \"x\": [0.1, 0.1, 0.2, 0.3, 0.3, 0.3, 0.6, 1.0, 1.5, 1.9, 2.6, 3.4, 4.1, 4.7, 5.6, 7.9, 9.7, 12.6, 14.2, 18.4, 22.6, 23.3, 30.2, 34.4, 38.5, 41.2, 44.5, 48.3, 50.9, 53.6, 57.1, 59.6, 63.5, 66.6, 68.0, 70.0, 70.6, 73.5, 73.1, 74.2, 72.6, 71.1, 71.8, 69.4, 68.1, 64.9, 64.5, 63.3, 61.6, 59.6, 58.3, 57.8, 57.1, 54.4, 53.4], \"xaxis\": \"x\", \"y\": [100.0, 100.0, 100.0, 100.0, 100.0, 100.0, 100.0, 100.0, 100.0, 100.0, 100.0, 100.0, 99.9, 99.9, 99.9, 99.9, 99.9, 99.8, 99.8, 99.8, 99.8, 99.7, 99.7, 99.5, 99.3, 99.2, 99.2, 98.7, 98.0, 97.4, 96.8, 95.9, 95.0, 94.2, 93.5, 92.5, 89.9, 88.3, 85.2, 83.9, 79.8, 75.8, 75.4, 69.6, 66.4, 62.6, 60.8, 58.5, 55.7, 53.4, 51.4, 49.5, 47.8, 44.9, 43.0], \"yaxis\": \"y\"}, {\"customdata\": [[23.0, \"3/11/20\", \"Georgia\", 6.0], [31.0, \"3/12/20\", \"Georgia\", 8.0], [42.0, \"3/13/20\", \"Georgia\", 11.0], [73.0, \"3/14/20\", \"Georgia\", 31.0], [99.0, \"3/15/20\", \"Georgia\", 26.0], [121.0, \"3/16/20\", \"Georgia\", 22.0], [146.0, \"3/17/20\", \"Georgia\", 25.0], [197.0, \"3/18/20\", \"Georgia\", 51.0], [287.0, \"3/19/20\", \"Georgia\", 90.0], [485.0, \"3/20/20\", \"Georgia\", 198.0], [555.0, \"3/21/20\", \"Georgia\", 70.0], [621.0, \"3/22/20\", \"Georgia\", 66.0], [772.0, \"3/23/20\", \"Georgia\", 151.0], [1026.0, \"3/24/20\", \"Georgia\", 254.0], [1247.0, \"3/25/20\", \"Georgia\", 221.0], [1525.0, \"3/26/20\", \"Georgia\", 278.0], [2000.0, \"3/27/20\", \"Georgia\", 475.0], [2366.0, \"3/28/20\", \"Georgia\", 366.0], [2651.0, \"3/29/20\", \"Georgia\", 285.0], [2808.0, \"3/30/20\", \"Georgia\", 157.0], [3929.0, \"3/31/20\", \"Georgia\", 1121.0], [4638.0, \"4/1/20\", \"Georgia\", 709.0], [5348.0, \"4/2/20\", \"Georgia\", 710.0], [5831.0, \"4/3/20\", \"Georgia\", 483.0], [6160.0, \"4/4/20\", \"Georgia\", 329.0], [6647.0, \"4/5/20\", \"Georgia\", 487.0], [7314.0, \"4/6/20\", \"Georgia\", 667.0], [8822.0, \"4/7/20\", \"Georgia\", 1508.0], [9901.0, \"4/8/20\", \"Georgia\", 1079.0], [10566.0, \"4/9/20\", \"Georgia\", 665.0], [11485.0, \"4/10/20\", \"Georgia\", 919.0], [12159.0, \"4/11/20\", \"Georgia\", 674.0], [12452.0, \"4/12/20\", \"Georgia\", 293.0], [13315.0, \"4/13/20\", \"Georgia\", 863.0], [14578.0, \"4/14/20\", \"Georgia\", 1263.0], [14987.0, \"4/15/20\", \"Georgia\", 409.0], [15669.0, \"4/16/20\", \"Georgia\", 682.0], [17194.0, \"4/17/20\", \"Georgia\", 1525.0], [17669.0, \"4/18/20\", \"Georgia\", 475.0], [18301.0, \"4/19/20\", \"Georgia\", 632.0], [19407.0, \"4/20/20\", \"Georgia\", 1106.0], [19881.0, \"4/21/20\", \"Georgia\", 474.0], [21214.0, \"4/22/20\", \"Georgia\", 1333.0], [21883.0, \"4/23/20\", \"Georgia\", 669.0], [22491.0, \"4/24/20\", \"Georgia\", 608.0], [23222.0, \"4/25/20\", \"Georgia\", 731.0], [23486.0, \"4/26/20\", \"Georgia\", 264.0], [24302.0, \"4/27/20\", \"Georgia\", 816.0], [24922.0, \"4/28/20\", \"Georgia\", 620.0], [25775.0, \"4/29/20\", \"Georgia\", 853.0], [26264.0, \"4/30/20\", \"Georgia\", 489.0], [27489.0, \"5/1/20\", \"Georgia\", 1225.0], [28331.0, \"5/2/20\", \"Georgia\", 842.0], [28665.0, \"5/3/20\", \"Georgia\", 334.0], [29451.0, \"5/4/20\", \"Georgia\", 786.0]], \"hoverlabel\": {\"namelength\": 0}, \"hovertemplate\": \"State =%{customdata[2]}<br>Mean growth over 21d compared to max growth =%{x}<br>% cases from last 21d =%{y}<br>Confirmed Cases=%{customdata[0]}<br>Date=%{customdata[1]}<br>Confirmed Cases today =%{customdata[3]}\", \"legendgroup\": \"Georgia\", \"marker\": {\"color\": \"#ab63fa\", \"size\": [23.0, 31.0, 42.0, 73.0, 99.0, 121.0, 146.0, 197.0, 287.0, 485.0, 555.0, 621.0, 772.0, 1026.0, 1247.0, 1525.0, 2000.0, 2366.0, 2651.0, 2808.0, 3929.0, 4638.0, 5348.0, 5831.0, 6160.0, 6647.0, 7314.0, 8822.0, 9901.0, 10566.0, 11485.0, 12159.0, 12452.0, 13315.0, 14578.0, 14987.0, 15669.0, 17194.0, 17669.0, 18301.0, 19407.0, 19881.0, 21214.0, 21883.0, 22491.0, 23222.0, 23486.0, 24302.0, 24922.0, 25775.0, 26264.0, 27489.0, 28331.0, 28665.0, 29451.0], \"sizemode\": \"area\", \"sizeref\": 797.3825, \"symbol\": \"circle\"}, \"mode\": \"lines+markers\", \"name\": \"Georgia\", \"showlegend\": true, \"type\": \"scatter\", \"x\": [0.1, 0.1, 0.1, 0.2, 0.3, 0.4, 0.5, 0.6, 0.9, 1.5, 1.8, 2.0, 2.4, 3.2, 3.9, 4.8, 6.3, 7.5, 8.4, 8.8, 12.4, 14.6, 16.8, 18.3, 19.2, 20.7, 22.7, 27.4, 30.6, 32.5, 34.7, 36.6, 37.4, 39.6, 42.8, 43.4, 44.7, 48.0, 48.3, 49.4, 52.4, 50.4, 52.3, 52.2, 52.6, 53.9, 53.2, 53.6, 50.8, 50.1, 49.6, 50.5, 51.1, 51.2, 51.0], \"xaxis\": \"x\", \"y\": [100.0, 100.0, 100.0, 100.0, 100.0, 100.0, 100.0, 100.0, 100.0, 100.0, 100.0, 100.0, 100.0, 99.8, 99.8, 99.9, 99.8, 99.8, 99.8, 99.6, 99.6, 99.5, 99.4, 99.3, 98.8, 98.5, 98.3, 98.3, 98.0, 97.3, 95.8, 95.4, 95.0, 94.2, 93.0, 91.7, 90.3, 88.4, 86.6, 85.5, 85.5, 80.2, 78.1, 75.6, 74.1, 73.5, 71.7, 69.9, 64.6, 61.6, 59.8, 58.2, 57.1, 56.6, 54.8], \"yaxis\": \"y\"}, {\"customdata\": [[25.0, \"3/11/20\", \"Illinois\", 13.0], [32.0, \"3/12/20\", \"Illinois\", 7.0], [46.0, \"3/13/20\", \"Illinois\", 14.0], [64.0, \"3/14/20\", \"Illinois\", 18.0], [66.0, \"3/15/20\", \"Illinois\", 2.0], [83.0, \"3/16/20\", \"Illinois\", 17.0], [161.0, \"3/17/20\", \"Illinois\", 78.0], [272.0, \"3/18/20\", \"Illinois\", 111.0], [422.0, \"3/19/20\", \"Illinois\", 150.0], [585.0, \"3/20/20\", \"Illinois\", 163.0], [753.0, \"3/21/20\", \"Illinois\", 168.0], [1049.0, \"3/22/20\", \"Illinois\", 296.0], [1285.0, \"3/23/20\", \"Illinois\", 236.0], [1537.0, \"3/24/20\", \"Illinois\", 252.0], [1865.0, \"3/25/20\", \"Illinois\", 328.0], [2538.0, \"3/26/20\", \"Illinois\", 673.0], [3024.0, \"3/27/20\", \"Illinois\", 486.0], [3491.0, \"3/28/20\", \"Illinois\", 467.0], [4596.0, \"3/29/20\", \"Illinois\", 1105.0], [5056.0, \"3/30/20\", \"Illinois\", 460.0], [5994.0, \"3/31/20\", \"Illinois\", 938.0], [6980.0, \"4/1/20\", \"Illinois\", 986.0], [7695.0, \"4/2/20\", \"Illinois\", 715.0], [8904.0, \"4/3/20\", \"Illinois\", 1209.0], [10357.0, \"4/4/20\", \"Illinois\", 1453.0], [11259.0, \"4/5/20\", \"Illinois\", 902.0], [12262.0, \"4/6/20\", \"Illinois\", 1003.0], [13553.0, \"4/7/20\", \"Illinois\", 1291.0], [15078.0, \"4/8/20\", \"Illinois\", 1525.0], [16422.0, \"4/9/20\", \"Illinois\", 1344.0], [17887.0, \"4/10/20\", \"Illinois\", 1465.0], [19180.0, \"4/11/20\", \"Illinois\", 1293.0], [20852.0, \"4/12/20\", \"Illinois\", 1672.0], [22025.0, \"4/13/20\", \"Illinois\", 1173.0], [23248.0, \"4/14/20\", \"Illinois\", 1223.0], [24593.0, \"4/15/20\", \"Illinois\", 1345.0], [25734.0, \"4/16/20\", \"Illinois\", 1141.0], [27578.0, \"4/17/20\", \"Illinois\", 1844.0], [29160.0, \"4/18/20\", \"Illinois\", 1582.0], [30357.0, \"4/19/20\", \"Illinois\", 1197.0], [31513.0, \"4/20/20\", \"Illinois\", 1156.0], [33059.0, \"4/21/20\", \"Illinois\", 1546.0], [35107.0, \"4/22/20\", \"Illinois\", 2048.0], [36937.0, \"4/23/20\", \"Illinois\", 1830.0], [39658.0, \"4/24/20\", \"Illinois\", 2721.0], [41777.0, \"4/25/20\", \"Illinois\", 2119.0], [43903.0, \"4/26/20\", \"Illinois\", 2126.0], [45883.0, \"4/27/20\", \"Illinois\", 1980.0], [48102.0, \"4/28/20\", \"Illinois\", 2219.0], [50358.0, \"4/29/20\", \"Illinois\", 2256.0], [52918.0, \"4/30/20\", \"Illinois\", 2560.0], [56055.0, \"5/1/20\", \"Illinois\", 3137.0], [58505.0, \"5/2/20\", \"Illinois\", 2450.0], [61499.0, \"5/3/20\", \"Illinois\", 2994.0], [63777.0, \"5/4/20\", \"Illinois\", 2278.0]], \"hoverlabel\": {\"namelength\": 0}, \"hovertemplate\": \"State =%{customdata[2]}<br>Mean growth over 21d compared to max growth =%{x}<br>% cases from last 21d =%{y}<br>Confirmed Cases=%{customdata[0]}<br>Date=%{customdata[1]}<br>Confirmed Cases today =%{customdata[3]}\", \"legendgroup\": \"Illinois\", \"marker\": {\"color\": \"#FFA15A\", \"size\": [25.0, 32.0, 46.0, 64.0, 66.0, 83.0, 161.0, 272.0, 422.0, 585.0, 753.0, 1049.0, 1285.0, 1537.0, 1865.0, 2538.0, 3024.0, 3491.0, 4596.0, 5056.0, 5994.0, 6980.0, 7695.0, 8904.0, 10357.0, 11259.0, 12262.0, 13553.0, 15078.0, 16422.0, 17887.0, 19180.0, 20852.0, 22025.0, 23248.0, 24593.0, 25734.0, 27578.0, 29160.0, 30357.0, 31513.0, 33059.0, 35107.0, 36937.0, 39658.0, 41777.0, 43903.0, 45883.0, 48102.0, 50358.0, 52918.0, 56055.0, 58505.0, 61499.0, 63777.0], \"sizemode\": \"area\", \"sizeref\": 797.3825, \"symbol\": \"circle\"}, \"mode\": \"lines+markers\", \"name\": \"Illinois\", \"showlegend\": true, \"type\": \"scatter\", \"x\": [0.0, 0.0, 0.1, 0.1, 0.1, 0.1, 0.3, 0.4, 0.7, 0.9, 1.2, 1.7, 2.0, 2.4, 3.0, 4.0, 4.8, 5.5, 7.3, 8.0, 9.5, 11.1, 12.2, 14.1, 16.4, 17.8, 19.4, 21.3, 23.5, 25.4, 27.5, 29.3, 31.5, 33.0, 34.5, 36.1, 36.9, 39.1, 40.8, 41.0, 42.1, 43.0, 44.7, 46.5, 48.9, 50.0, 51.9, 53.5, 54.9, 56.1, 58.0, 60.7, 62.5, 64.6, 66.4], \"xaxis\": \"x\", \"y\": [92.0, 93.8, 95.7, 96.9, 97.0, 97.6, 98.8, 99.3, 99.5, 99.7, 99.7, 99.7, 99.7, 99.7, 99.8, 99.8, 99.8, 99.8, 99.8, 99.9, 99.8, 99.6, 99.6, 99.5, 99.4, 99.4, 99.3, 98.8, 98.2, 97.4, 96.7, 96.1, 95.0, 94.2, 93.4, 92.4, 90.1, 89.0, 88.0, 84.9, 84.0, 81.9, 80.1, 79.2, 77.5, 75.2, 74.4, 73.3, 71.8, 70.1, 69.0, 68.1, 67.2, 66.1, 65.5], \"yaxis\": \"y\"}, {\"customdata\": [[20.0, \"3/15/20\", \"Indiana\", 4.0], [25.0, \"3/16/20\", \"Indiana\", 5.0], [30.0, \"3/17/20\", \"Indiana\", 5.0], [38.0, \"3/18/20\", \"Indiana\", 8.0], [60.0, \"3/19/20\", \"Indiana\", 22.0], [86.0, \"3/20/20\", \"Indiana\", 26.0], [128.0, \"3/21/20\", \"Indiana\", 42.0], [204.0, \"3/22/20\", \"Indiana\", 76.0], [270.0, \"3/23/20\", \"Indiana\", 66.0], [368.0, \"3/24/20\", \"Indiana\", 98.0], [477.0, \"3/25/20\", \"Indiana\", 109.0], [645.0, \"3/26/20\", \"Indiana\", 168.0], [979.0, \"3/27/20\", \"Indiana\", 334.0], [1233.0, \"3/28/20\", \"Indiana\", 254.0], [1513.0, \"3/29/20\", \"Indiana\", 280.0], [1786.0, \"3/30/20\", \"Indiana\", 273.0], [2158.0, \"3/31/20\", \"Indiana\", 372.0], [2564.0, \"4/1/20\", \"Indiana\", 406.0], [3038.0, \"4/2/20\", \"Indiana\", 474.0], [3437.0, \"4/3/20\", \"Indiana\", 399.0], [3953.0, \"4/4/20\", \"Indiana\", 516.0], [4411.0, \"4/5/20\", \"Indiana\", 458.0], [4956.0, \"4/6/20\", \"Indiana\", 545.0], [5510.0, \"4/7/20\", \"Indiana\", 554.0], [5943.0, \"4/8/20\", \"Indiana\", 433.0], [6351.0, \"4/9/20\", \"Indiana\", 408.0], [6907.0, \"4/10/20\", \"Indiana\", 556.0], [7435.0, \"4/11/20\", \"Indiana\", 528.0], [7928.0, \"4/12/20\", \"Indiana\", 493.0], [8359.0, \"4/13/20\", \"Indiana\", 431.0], [8527.0, \"4/14/20\", \"Indiana\", 168.0], [8960.0, \"4/15/20\", \"Indiana\", 433.0], [9542.0, \"4/16/20\", \"Indiana\", 582.0], [10154.0, \"4/17/20\", \"Indiana\", 612.0], [10641.0, \"4/18/20\", \"Indiana\", 487.0], [11211.0, \"4/19/20\", \"Indiana\", 570.0], [11688.0, \"4/20/20\", \"Indiana\", 477.0], [12097.0, \"4/21/20\", \"Indiana\", 409.0], [12438.0, \"4/22/20\", \"Indiana\", 341.0], [13039.0, \"4/23/20\", \"Indiana\", 601.0], [13681.0, \"4/24/20\", \"Indiana\", 642.0], [14399.0, \"4/25/20\", \"Indiana\", 718.0], [15012.0, \"4/26/20\", \"Indiana\", 613.0], [15961.0, \"4/27/20\", \"Indiana\", 949.0], [16588.0, \"4/28/20\", \"Indiana\", 627.0], [17182.0, \"4/29/20\", \"Indiana\", 594.0], [17835.0, \"4/30/20\", \"Indiana\", 653.0], [18630.0, \"5/1/20\", \"Indiana\", 795.0], [19295.0, \"5/2/20\", \"Indiana\", 665.0], [19933.0, \"5/3/20\", \"Indiana\", 638.0], [20507.0, \"5/4/20\", \"Indiana\", 574.0]], \"hoverlabel\": {\"namelength\": 0}, \"hovertemplate\": \"State =%{customdata[2]}<br>Mean growth over 21d compared to max growth =%{x}<br>% cases from last 21d =%{y}<br>Confirmed Cases=%{customdata[0]}<br>Date=%{customdata[1]}<br>Confirmed Cases today =%{customdata[3]}\", \"legendgroup\": \"Indiana\", \"marker\": {\"color\": \"#19d3f3\", \"size\": [20.0, 25.0, 30.0, 38.0, 60.0, 86.0, 128.0, 204.0, 270.0, 368.0, 477.0, 645.0, 979.0, 1233.0, 1513.0, 1786.0, 2158.0, 2564.0, 3038.0, 3437.0, 3953.0, 4411.0, 4956.0, 5510.0, 5943.0, 6351.0, 6907.0, 7435.0, 7928.0, 8359.0, 8527.0, 8960.0, 9542.0, 10154.0, 10641.0, 11211.0, 11688.0, 12097.0, 12438.0, 13039.0, 13681.0, 14399.0, 15012.0, 15961.0, 16588.0, 17182.0, 17835.0, 18630.0, 19295.0, 19933.0, 20507.0], \"sizemode\": \"area\", \"sizeref\": 797.3825, \"symbol\": \"circle\"}, \"mode\": \"lines+markers\", \"name\": \"Indiana\", \"showlegend\": true, \"type\": \"scatter\", \"x\": [0.1, 0.1, 0.2, 0.2, 0.4, 0.5, 0.8, 1.2, 1.6, 2.2, 2.9, 3.9, 5.9, 7.4, 9.1, 10.7, 12.9, 15.3, 18.1, 20.5, 23.6, 26.3, 29.5, 32.8, 35.4, 37.7, 40.9, 43.8, 46.3, 48.5, 48.9, 50.8, 53.3, 55.0, 56.4, 58.1, 59.3, 59.5, 59.1, 59.9, 61.4, 62.6, 63.5, 65.9, 66.4, 67.3, 68.8, 70.2, 71.0, 71.9, 72.8], \"xaxis\": \"x\", \"y\": [100.0, 100.0, 100.0, 100.0, 100.0, 100.0, 100.0, 100.0, 100.0, 100.0, 100.0, 100.0, 99.9, 99.9, 99.9, 99.8, 99.7, 99.6, 99.6, 99.6, 99.6, 99.5, 99.5, 99.5, 99.4, 99.1, 98.8, 98.3, 97.4, 96.8, 95.7, 94.7, 93.2, 90.4, 88.4, 86.5, 84.7, 82.2, 79.4, 76.7, 74.9, 72.5, 70.6, 68.9, 66.8, 65.4, 64.4, 62.9, 61.5, 60.2, 59.2], \"yaxis\": \"y\"}, {\"customdata\": [[29.0, \"3/13/20\", \"Louisiana\", 10.0], [77.0, \"3/14/20\", \"Louisiana\", 48.0], [87.0, \"3/15/20\", \"Louisiana\", 10.0], [115.0, \"3/16/20\", \"Louisiana\", 28.0], [196.0, \"3/17/20\", \"Louisiana\", 81.0], [257.0, \"3/18/20\", \"Louisiana\", 61.0], [392.0, \"3/19/20\", \"Louisiana\", 135.0], [537.0, \"3/20/20\", \"Louisiana\", 145.0], [763.0, \"3/21/20\", \"Louisiana\", 226.0], [837.0, \"3/22/20\", \"Louisiana\", 74.0], [1172.0, \"3/23/20\", \"Louisiana\", 335.0], [1388.0, \"3/24/20\", \"Louisiana\", 216.0], [1795.0, \"3/25/20\", \"Louisiana\", 407.0], [2304.0, \"3/26/20\", \"Louisiana\", 509.0], [2744.0, \"3/27/20\", \"Louisiana\", 440.0], [3315.0, \"3/28/20\", \"Louisiana\", 571.0], [3540.0, \"3/29/20\", \"Louisiana\", 225.0], [4025.0, \"3/30/20\", \"Louisiana\", 485.0], [5237.0, \"3/31/20\", \"Louisiana\", 1212.0], [6424.0, \"4/1/20\", \"Louisiana\", 1187.0], [9149.0, \"4/2/20\", \"Louisiana\", 2725.0], [10297.0, \"4/3/20\", \"Louisiana\", 1148.0], [12496.0, \"4/4/20\", \"Louisiana\", 2199.0], [13010.0, \"4/5/20\", \"Louisiana\", 514.0], [14867.0, \"4/6/20\", \"Louisiana\", 1857.0], [16284.0, \"4/7/20\", \"Louisiana\", 1417.0], [17030.0, \"4/8/20\", \"Louisiana\", 746.0], [18283.0, \"4/9/20\", \"Louisiana\", 1253.0], [19253.0, \"4/10/20\", \"Louisiana\", 970.0], [20014.0, \"4/11/20\", \"Louisiana\", 761.0], [20595.0, \"4/12/20\", \"Louisiana\", 581.0], [21016.0, \"4/13/20\", \"Louisiana\", 421.0], [21518.0, \"4/14/20\", \"Louisiana\", 502.0], [21951.0, \"4/15/20\", \"Louisiana\", 433.0], [22532.0, \"4/16/20\", \"Louisiana\", 581.0], [23118.0, \"4/17/20\", \"Louisiana\", 586.0], [23580.0, \"4/18/20\", \"Louisiana\", 462.0], [23928.0, \"4/19/20\", \"Louisiana\", 348.0], [24523.0, \"4/20/20\", \"Louisiana\", 595.0], [24854.0, \"4/21/20\", \"Louisiana\", 331.0], [25258.0, \"4/22/20\", \"Louisiana\", 404.0], [25739.0, \"4/23/20\", \"Louisiana\", 481.0], [26140.0, \"4/24/20\", \"Louisiana\", 401.0], [26512.0, \"4/25/20\", \"Louisiana\", 372.0], [26773.0, \"4/26/20\", \"Louisiana\", 261.0], [27068.0, \"4/27/20\", \"Louisiana\", 295.0], [27286.0, \"4/28/20\", \"Louisiana\", 218.0], [27660.0, \"4/29/20\", \"Louisiana\", 374.0], [28001.0, \"4/30/20\", \"Louisiana\", 341.0], [28711.0, \"5/1/20\", \"Louisiana\", 710.0], [29140.0, \"5/2/20\", \"Louisiana\", 429.0], [29340.0, \"5/3/20\", \"Louisiana\", 200.0], [29673.0, \"5/4/20\", \"Louisiana\", 333.0]], \"hoverlabel\": {\"namelength\": 0}, \"hovertemplate\": \"State =%{customdata[2]}<br>Mean growth over 21d compared to max growth =%{x}<br>% cases from last 21d =%{y}<br>Confirmed Cases=%{customdata[0]}<br>Date=%{customdata[1]}<br>Confirmed Cases today =%{customdata[3]}\", \"legendgroup\": \"Louisiana\", \"marker\": {\"color\": \"#FF6692\", \"size\": [29.0, 77.0, 87.0, 115.0, 196.0, 257.0, 392.0, 537.0, 763.0, 837.0, 1172.0, 1388.0, 1795.0, 2304.0, 2744.0, 3315.0, 3540.0, 4025.0, 5237.0, 6424.0, 9149.0, 10297.0, 12496.0, 13010.0, 14867.0, 16284.0, 17030.0, 18283.0, 19253.0, 20014.0, 20595.0, 21016.0, 21518.0, 21951.0, 22532.0, 23118.0, 23580.0, 23928.0, 24523.0, 24854.0, 25258.0, 25739.0, 26140.0, 26512.0, 26773.0, 27068.0, 27286.0, 27660.0, 28001.0, 28711.0, 29140.0, 29340.0, 29673.0], \"sizemode\": \"area\", \"sizeref\": 797.3825, \"symbol\": \"circle\"}, \"mode\": \"lines+markers\", \"name\": \"Louisiana\", \"showlegend\": true, \"type\": \"scatter\", \"x\": [0.1, 0.2, 0.2, 0.2, 0.4, 0.6, 0.8, 1.2, 1.7, 1.8, 2.5, 3.0, 3.9, 5.0, 5.9, 7.2, 7.7, 8.7, 11.3, 13.9, 19.8, 22.2, 26.9, 28.0, 31.9, 34.8, 36.3, 38.7, 40.5, 41.7, 42.8, 43.0, 43.6, 43.6, 43.8, 44.1, 43.9, 44.1, 44.4, 42.5, 40.8, 35.9, 34.3, 30.4, 29.8, 26.4, 23.8, 23.0, 21.0, 20.5, 19.8, 18.9, 18.7], \"xaxis\": \"x\", \"y\": [100.0, 100.0, 100.0, 100.0, 100.0, 100.0, 100.0, 100.0, 100.0, 100.0, 100.0, 100.0, 100.0, 100.0, 100.0, 100.0, 100.0, 100.0, 100.0, 99.9, 99.8, 99.7, 99.4, 99.3, 99.2, 98.8, 98.5, 97.9, 97.2, 96.2, 95.9, 94.4, 93.5, 91.8, 89.8, 88.1, 85.9, 85.2, 83.6, 78.9, 74.6, 64.5, 60.6, 52.9, 51.4, 45.1, 40.3, 38.4, 34.7, 32.9, 31.3, 29.8, 29.2], \"yaxis\": \"y\"}, {\"customdata\": [[27.0, \"3/14/20\", \"Maryland\", 9.0], [24.0, \"3/15/20\", \"Maryland\", -3.0], [42.0, \"3/16/20\", \"Maryland\", 18.0], [60.0, \"3/17/20\", \"Maryland\", 18.0], [85.0, \"3/18/20\", \"Maryland\", 25.0], [107.0, \"3/19/20\", \"Maryland\", 22.0], [149.0, \"3/20/20\", \"Maryland\", 42.0], [193.0, \"3/21/20\", \"Maryland\", 44.0], [244.0, \"3/22/20\", \"Maryland\", 51.0], [290.0, \"3/23/20\", \"Maryland\", 46.0], [349.0, \"3/24/20\", \"Maryland\", 59.0], [425.0, \"3/25/20\", \"Maryland\", 76.0], [583.0, \"3/26/20\", \"Maryland\", 158.0], [775.0, \"3/27/20\", \"Maryland\", 192.0], [995.0, \"3/28/20\", \"Maryland\", 220.0], [1239.0, \"3/29/20\", \"Maryland\", 244.0], [1413.0, \"3/30/20\", \"Maryland\", 174.0], [1660.0, \"3/31/20\", \"Maryland\", 247.0], [1986.0, \"4/1/20\", \"Maryland\", 326.0], [2331.0, \"4/2/20\", \"Maryland\", 345.0], [2758.0, \"4/3/20\", \"Maryland\", 427.0], [3125.0, \"4/4/20\", \"Maryland\", 367.0], [3617.0, \"4/5/20\", \"Maryland\", 492.0], [4045.0, \"4/6/20\", \"Maryland\", 428.0], [4371.0, \"4/7/20\", \"Maryland\", 326.0], [5529.0, \"4/8/20\", \"Maryland\", 1158.0], [6185.0, \"4/9/20\", \"Maryland\", 656.0], [6968.0, \"4/10/20\", \"Maryland\", 783.0], [7694.0, \"4/11/20\", \"Maryland\", 726.0], [8225.0, \"4/12/20\", \"Maryland\", 531.0], [8936.0, \"4/13/20\", \"Maryland\", 711.0], [9472.0, \"4/14/20\", \"Maryland\", 536.0], [10032.0, \"4/15/20\", \"Maryland\", 560.0], [10784.0, \"4/16/20\", \"Maryland\", 752.0], [11572.0, \"4/17/20\", \"Maryland\", 788.0], [12326.0, \"4/18/20\", \"Maryland\", 754.0], [12847.0, \"4/19/20\", \"Maryland\", 521.0], [13684.0, \"4/20/20\", \"Maryland\", 837.0], [14193.0, \"4/21/20\", \"Maryland\", 509.0], [14775.0, \"4/22/20\", \"Maryland\", 582.0], [15737.0, \"4/23/20\", \"Maryland\", 962.0], [16616.0, \"4/24/20\", \"Maryland\", 879.0], [17766.0, \"4/25/20\", \"Maryland\", 1150.0], [18581.0, \"4/26/20\", \"Maryland\", 815.0], [19487.0, \"4/27/20\", \"Maryland\", 906.0], [20113.0, \"4/28/20\", \"Maryland\", 626.0], [20849.0, \"4/29/20\", \"Maryland\", 736.0], [21742.0, \"4/30/20\", \"Maryland\", 893.0], [23472.0, \"5/1/20\", \"Maryland\", 1730.0], [24473.0, \"5/2/20\", \"Maryland\", 1001.0], [25462.0, \"5/3/20\", \"Maryland\", 989.0], [26408.0, \"5/4/20\", \"Maryland\", 946.0]], \"hoverlabel\": {\"namelength\": 0}, \"hovertemplate\": \"State =%{customdata[2]}<br>Mean growth over 21d compared to max growth =%{x}<br>% cases from last 21d =%{y}<br>Confirmed Cases=%{customdata[0]}<br>Date=%{customdata[1]}<br>Confirmed Cases today =%{customdata[3]}\", \"legendgroup\": \"Maryland\", \"marker\": {\"color\": \"#B6E880\", \"size\": [27.0, 24.0, 42.0, 60.0, 85.0, 107.0, 149.0, 193.0, 244.0, 290.0, 349.0, 425.0, 583.0, 775.0, 995.0, 1239.0, 1413.0, 1660.0, 1986.0, 2331.0, 2758.0, 3125.0, 3617.0, 4045.0, 4371.0, 5529.0, 6185.0, 6968.0, 7694.0, 8225.0, 8936.0, 9472.0, 10032.0, 10784.0, 11572.0, 12326.0, 12847.0, 13684.0, 14193.0, 14775.0, 15737.0, 16616.0, 17766.0, 18581.0, 19487.0, 20113.0, 20849.0, 21742.0, 23472.0, 24473.0, 25462.0, 26408.0], \"sizemode\": \"area\", \"sizeref\": 797.3825, \"symbol\": \"circle\"}, \"mode\": \"lines+markers\", \"name\": \"Maryland\", \"showlegend\": true, \"type\": \"scatter\", \"x\": [0.1, 0.1, 0.2, 0.2, 0.3, 0.4, 0.6, 0.8, 1.0, 1.2, 1.4, 1.7, 2.4, 3.2, 4.1, 5.1, 5.8, 6.8, 8.1, 9.5, 11.3, 12.7, 14.8, 16.5, 17.7, 22.4, 25.0, 28.0, 30.8, 32.8, 35.6, 37.5, 39.5, 41.9, 44.4, 46.6, 47.7, 50.5, 51.5, 52.6, 55.1, 57.0, 60.2, 61.5, 63.5, 64.7, 63.0, 64.0, 67.9, 69.0, 70.9, 71.8], \"xaxis\": \"x\", \"y\": [100.0, 100.0, 100.0, 100.0, 100.0, 100.0, 100.0, 100.0, 100.0, 100.0, 100.0, 100.0, 100.0, 99.6, 99.7, 99.6, 99.6, 99.5, 99.5, 99.5, 99.3, 99.1, 99.3, 99.0, 98.6, 98.5, 98.3, 97.9, 97.5, 97.0, 96.8, 96.3, 95.8, 94.6, 93.3, 91.9, 90.4, 89.7, 88.3, 86.6, 85.2, 83.4, 82.4, 80.5, 79.2, 78.3, 73.5, 71.6, 70.3, 68.6, 67.7, 66.2], \"yaxis\": \"y\"}, {\"customdata\": [[22.0, \"3/8/20\", \"Massachusetts\", 16.0], [22.0, \"3/9/20\", \"Massachusetts\", 0.0], [41.0, \"3/10/20\", \"Massachusetts\", 19.0], [92.0, \"3/11/20\", \"Massachusetts\", 51.0], [107.0, \"3/12/20\", \"Massachusetts\", 15.0], [123.0, \"3/13/20\", \"Massachusetts\", 16.0], [138.0, \"3/14/20\", \"Massachusetts\", 15.0], [138.0, \"3/15/20\", \"Massachusetts\", 0.0], [187.0, \"3/16/20\", \"Massachusetts\", 49.0], [217.0, \"3/17/20\", \"Massachusetts\", 30.0], [252.0, \"3/18/20\", \"Massachusetts\", 35.0], [328.0, \"3/19/20\", \"Massachusetts\", 76.0], [413.0, \"3/20/20\", \"Massachusetts\", 85.0], [523.0, \"3/21/20\", \"Massachusetts\", 110.0], [640.0, \"3/22/20\", \"Massachusetts\", 117.0], [777.0, \"3/23/20\", \"Massachusetts\", 137.0], [1159.0, \"3/24/20\", \"Massachusetts\", 382.0], [1838.0, \"3/25/20\", \"Massachusetts\", 679.0], [2417.0, \"3/26/20\", \"Massachusetts\", 579.0], [3240.0, \"3/27/20\", \"Massachusetts\", 823.0], [4257.0, \"3/28/20\", \"Massachusetts\", 1017.0], [4955.0, \"3/29/20\", \"Massachusetts\", 698.0], [5752.0, \"3/30/20\", \"Massachusetts\", 797.0], [6620.0, \"3/31/20\", \"Massachusetts\", 868.0], [7738.0, \"4/1/20\", \"Massachusetts\", 1118.0], [8966.0, \"4/2/20\", \"Massachusetts\", 1228.0], [10402.0, \"4/3/20\", \"Massachusetts\", 1436.0], [11736.0, \"4/4/20\", \"Massachusetts\", 1334.0], [12500.0, \"4/5/20\", \"Massachusetts\", 764.0], [13837.0, \"4/6/20\", \"Massachusetts\", 1337.0], [15202.0, \"4/7/20\", \"Massachusetts\", 1365.0], [16790.0, \"4/8/20\", \"Massachusetts\", 1588.0], [18941.0, \"4/9/20\", \"Massachusetts\", 2151.0], [20974.0, \"4/10/20\", \"Massachusetts\", 2033.0], [22860.0, \"4/11/20\", \"Massachusetts\", 1886.0], [25475.0, \"4/12/20\", \"Massachusetts\", 2615.0], [26867.0, \"4/13/20\", \"Massachusetts\", 1392.0], [28164.0, \"4/14/20\", \"Massachusetts\", 1297.0], [29918.0, \"4/15/20\", \"Massachusetts\", 1754.0], [32181.0, \"4/16/20\", \"Massachusetts\", 2263.0], [34402.0, \"4/17/20\", \"Massachusetts\", 2221.0], [36372.0, \"4/18/20\", \"Massachusetts\", 1970.0], [38077.0, \"4/19/20\", \"Massachusetts\", 1705.0], [38077.0, \"4/20/20\", \"Massachusetts\", 0.0], [41199.0, \"4/21/20\", \"Massachusetts\", 3122.0], [42944.0, \"4/22/20\", \"Massachusetts\", 1745.0], [46023.0, \"4/23/20\", \"Massachusetts\", 3079.0], [50969.0, \"4/24/20\", \"Massachusetts\", 4946.0], [53348.0, \"4/25/20\", \"Massachusetts\", 2379.0], [54938.0, \"4/26/20\", \"Massachusetts\", 1590.0], [56462.0, \"4/27/20\", \"Massachusetts\", 1524.0], [58302.0, \"4/28/20\", \"Massachusetts\", 1840.0], [60265.0, \"4/29/20\", \"Massachusetts\", 1963.0], [62205.0, \"4/30/20\", \"Massachusetts\", 1940.0], [64311.0, \"5/1/20\", \"Massachusetts\", 2106.0], [66263.0, \"5/2/20\", \"Massachusetts\", 1952.0], [68087.0, \"5/3/20\", \"Massachusetts\", 1824.0], [69087.0, \"5/4/20\", \"Massachusetts\", 1000.0]], \"hoverlabel\": {\"namelength\": 0}, \"hovertemplate\": \"State =%{customdata[2]}<br>Mean growth over 21d compared to max growth =%{x}<br>% cases from last 21d =%{y}<br>Confirmed Cases=%{customdata[0]}<br>Date=%{customdata[1]}<br>Confirmed Cases today =%{customdata[3]}\", \"legendgroup\": \"Massachusetts\", \"marker\": {\"color\": \"#FF97FF\", \"size\": [22.0, 22.0, 41.0, 92.0, 107.0, 123.0, 138.0, 138.0, 187.0, 217.0, 252.0, 328.0, 413.0, 523.0, 640.0, 777.0, 1159.0, 1838.0, 2417.0, 3240.0, 4257.0, 4955.0, 5752.0, 6620.0, 7738.0, 8966.0, 10402.0, 11736.0, 12500.0, 13837.0, 15202.0, 16790.0, 18941.0, 20974.0, 22860.0, 25475.0, 26867.0, 28164.0, 29918.0, 32181.0, 34402.0, 36372.0, 38077.0, 38077.0, 41199.0, 42944.0, 46023.0, 50969.0, 53348.0, 54938.0, 56462.0, 58302.0, 60265.0, 62205.0, 64311.0, 66263.0, 68087.0, 69087.0], \"sizemode\": \"area\", \"sizeref\": 797.3825, \"symbol\": \"circle\"}, \"mode\": \"lines+markers\", \"name\": \"Massachusetts\", \"showlegend\": true, \"type\": \"scatter\", \"x\": [0.0, 0.0, 0.1, 0.1, 0.2, 0.2, 0.2, 0.2, 0.3, 0.3, 0.4, 0.5, 0.6, 0.8, 1.0, 1.2, 1.8, 2.8, 3.7, 4.9, 6.5, 7.5, 8.7, 10.0, 11.7, 13.5, 15.7, 17.7, 18.9, 20.8, 22.9, 25.2, 28.4, 31.4, 34.1, 37.9, 39.8, 41.2, 42.8, 45.4, 47.5, 49.0, 50.5, 49.3, 52.7, 53.7, 56.5, 61.9, 63.5, 64.7, 65.0, 65.7, 66.3, 66.0, 66.1, 66.2, 65.0, 64.4], \"xaxis\": \"x\", \"y\": [95.5, 95.5, 97.6, 98.9, 99.1, 99.2, 99.3, 99.3, 99.5, 99.5, 99.6, 99.7, 99.8, 99.8, 99.8, 99.9, 99.8, 99.9, 99.9, 99.8, 99.9, 99.6, 99.6, 99.4, 98.8, 98.8, 98.8, 98.8, 98.9, 98.6, 98.6, 98.5, 98.3, 98.0, 97.7, 97.5, 97.1, 95.9, 93.9, 92.5, 90.6, 88.3, 87.0, 84.9, 83.9, 82.0, 80.5, 79.6, 78.0, 77.2, 75.5, 73.9, 72.1, 69.6, 67.4, 65.5, 62.6, 61.1], \"yaxis\": \"y\"}, {\"customdata\": [[25.0, \"3/14/20\", \"Michigan\", 9.0], [32.0, \"3/15/20\", \"Michigan\", 7.0], [54.0, \"3/16/20\", \"Michigan\", 22.0], [63.0, \"3/17/20\", \"Michigan\", 9.0], [119.0, \"3/18/20\", \"Michigan\", 56.0], [259.0, \"3/19/20\", \"Michigan\", 140.0], [402.0, \"3/20/20\", \"Michigan\", 143.0], [540.0, \"3/21/20\", \"Michigan\", 138.0], [1035.0, \"3/22/20\", \"Michigan\", 495.0], [1329.0, \"3/23/20\", \"Michigan\", 294.0], [1793.0, \"3/24/20\", \"Michigan\", 464.0], [2296.0, \"3/25/20\", \"Michigan\", 503.0], [2845.0, \"3/26/20\", \"Michigan\", 549.0], [3634.0, \"3/27/20\", \"Michigan\", 789.0], [4650.0, \"3/28/20\", \"Michigan\", 1016.0], [5488.0, \"3/29/20\", \"Michigan\", 838.0], [6498.0, \"3/30/20\", \"Michigan\", 1010.0], [7615.0, \"3/31/20\", \"Michigan\", 1117.0], [9315.0, \"4/1/20\", \"Michigan\", 1700.0], [10791.0, \"4/2/20\", \"Michigan\", 1476.0], [12744.0, \"4/3/20\", \"Michigan\", 1953.0], [14225.0, \"4/4/20\", \"Michigan\", 1481.0], [15718.0, \"4/5/20\", \"Michigan\", 1493.0], [17221.0, \"4/6/20\", \"Michigan\", 1503.0], [18970.0, \"4/7/20\", \"Michigan\", 1749.0], [20346.0, \"4/8/20\", \"Michigan\", 1376.0], [21504.0, \"4/9/20\", \"Michigan\", 1158.0], [22434.0, \"4/10/20\", \"Michigan\", 930.0], [23605.0, \"4/11/20\", \"Michigan\", 1171.0], [24244.0, \"4/12/20\", \"Michigan\", 639.0], [25635.0, \"4/13/20\", \"Michigan\", 1391.0], [27001.0, \"4/14/20\", \"Michigan\", 1366.0], [28059.0, \"4/15/20\", \"Michigan\", 1058.0], [28809.0, \"4/16/20\", \"Michigan\", 750.0], [30023.0, \"4/17/20\", \"Michigan\", 1214.0], [30791.0, \"4/18/20\", \"Michigan\", 768.0], [31424.0, \"4/19/20\", \"Michigan\", 633.0], [32000.0, \"4/20/20\", \"Michigan\", 576.0], [32667.0, \"4/21/20\", \"Michigan\", 667.0], [33966.0, \"4/22/20\", \"Michigan\", 1299.0], [35296.0, \"4/23/20\", \"Michigan\", 1330.0], [36666.0, \"4/24/20\", \"Michigan\", 1370.0], [37074.0, \"4/25/20\", \"Michigan\", 408.0], [37778.0, \"4/26/20\", \"Michigan\", 704.0], [38210.0, \"4/27/20\", \"Michigan\", 432.0], [39262.0, \"4/28/20\", \"Michigan\", 1052.0], [40399.0, \"4/29/20\", \"Michigan\", 1137.0], [41379.0, \"4/30/20\", \"Michigan\", 980.0], [42356.0, \"5/1/20\", \"Michigan\", 977.0], [43207.0, \"5/2/20\", \"Michigan\", 851.0], [43801.0, \"5/3/20\", \"Michigan\", 594.0], [43990.0, \"5/4/20\", \"Michigan\", 189.0]], \"hoverlabel\": {\"namelength\": 0}, \"hovertemplate\": \"State =%{customdata[2]}<br>Mean growth over 21d compared to max growth =%{x}<br>% cases from last 21d =%{y}<br>Confirmed Cases=%{customdata[0]}<br>Date=%{customdata[1]}<br>Confirmed Cases today =%{customdata[3]}\", \"legendgroup\": \"Michigan\", \"marker\": {\"color\": \"#FECB52\", \"size\": [25.0, 32.0, 54.0, 63.0, 119.0, 259.0, 402.0, 540.0, 1035.0, 1329.0, 1793.0, 2296.0, 2845.0, 3634.0, 4650.0, 5488.0, 6498.0, 7615.0, 9315.0, 10791.0, 12744.0, 14225.0, 15718.0, 17221.0, 18970.0, 20346.0, 21504.0, 22434.0, 23605.0, 24244.0, 25635.0, 27001.0, 28059.0, 28809.0, 30023.0, 30791.0, 31424.0, 32000.0, 32667.0, 33966.0, 35296.0, 36666.0, 37074.0, 37778.0, 38210.0, 39262.0, 40399.0, 41379.0, 42356.0, 43207.0, 43801.0, 43990.0], \"sizemode\": \"area\", \"sizeref\": 797.3825, \"symbol\": \"circle\"}, \"mode\": \"lines+markers\", \"name\": \"Michigan\", \"showlegend\": true, \"type\": \"scatter\", \"x\": [0.1, 0.1, 0.1, 0.2, 0.3, 0.7, 1.1, 1.5, 2.8, 3.6, 4.9, 6.3, 7.7, 9.9, 12.7, 14.9, 17.7, 20.7, 25.4, 29.4, 34.7, 38.7, 42.7, 46.7, 51.5, 55.1, 57.8, 60.0, 62.8, 63.2, 66.2, 68.6, 70.1, 70.7, 71.8, 71.2, 70.6, 69.4, 68.2, 67.1, 66.7, 65.1, 62.2, 60.1, 57.1, 55.2, 54.6, 54.1, 54.2, 53.4, 53.2, 50.0], \"xaxis\": \"x\", \"y\": [100.0, 100.0, 100.0, 100.0, 100.0, 100.0, 100.0, 100.0, 100.0, 100.0, 100.0, 100.0, 100.0, 100.0, 100.0, 100.0, 100.0, 100.0, 100.0, 100.0, 99.9, 99.8, 99.8, 99.7, 99.7, 99.4, 98.8, 98.2, 97.7, 95.7, 94.8, 93.4, 91.8, 90.1, 87.9, 84.9, 82.5, 79.7, 76.7, 72.6, 69.4, 65.2, 61.6, 58.4, 54.9, 51.7, 49.6, 48.0, 47.0, 45.4, 44.6, 41.7], \"yaxis\": \"y\"}, {\"customdata\": [[23.0, \"3/11/20\", \"New Jersey\", 8.0], [29.0, \"3/12/20\", \"New Jersey\", 6.0], [49.0, \"3/13/20\", \"New Jersey\", 20.0], [69.0, \"3/14/20\", \"New Jersey\", 20.0], [72.0, \"3/15/20\", \"New Jersey\", 3.0], [176.0, \"3/16/20\", \"New Jersey\", 104.0], [250.0, \"3/17/20\", \"New Jersey\", 74.0], [397.0, \"3/18/20\", \"New Jersey\", 147.0], [741.0, \"3/19/20\", \"New Jersey\", 344.0], [890.0, \"3/20/20\", \"New Jersey\", 149.0], [1327.0, \"3/21/20\", \"New Jersey\", 437.0], [1914.0, \"3/22/20\", \"New Jersey\", 587.0], [2844.0, \"3/23/20\", \"New Jersey\", 930.0], [3675.0, \"3/24/20\", \"New Jersey\", 831.0], [4402.0, \"3/25/20\", \"New Jersey\", 727.0], [6876.0, \"3/26/20\", \"New Jersey\", 2474.0], [8825.0, \"3/27/20\", \"New Jersey\", 1949.0], [11124.0, \"3/28/20\", \"New Jersey\", 2299.0], [13386.0, \"3/29/20\", \"New Jersey\", 2262.0], [16636.0, \"3/30/20\", \"New Jersey\", 3250.0], [18696.0, \"3/31/20\", \"New Jersey\", 2060.0], [22255.0, \"4/1/20\", \"New Jersey\", 3559.0], [25590.0, \"4/2/20\", \"New Jersey\", 3335.0], [29895.0, \"4/3/20\", \"New Jersey\", 4305.0], [34124.0, \"4/4/20\", \"New Jersey\", 4229.0], [37505.0, \"4/5/20\", \"New Jersey\", 3381.0], [41090.0, \"4/6/20\", \"New Jersey\", 3585.0], [44416.0, \"4/7/20\", \"New Jersey\", 3326.0], [47437.0, \"4/8/20\", \"New Jersey\", 3021.0], [51027.0, \"4/9/20\", \"New Jersey\", 3590.0], [54588.0, \"4/10/20\", \"New Jersey\", 3561.0], [58151.0, \"4/11/20\", \"New Jersey\", 3563.0], [61850.0, \"4/12/20\", \"New Jersey\", 3699.0], [64584.0, \"4/13/20\", \"New Jersey\", 2734.0], [68824.0, \"4/14/20\", \"New Jersey\", 4240.0], [71030.0, \"4/15/20\", \"New Jersey\", 2206.0], [75317.0, \"4/16/20\", \"New Jersey\", 4287.0], [78467.0, \"4/17/20\", \"New Jersey\", 3150.0], [81420.0, \"4/18/20\", \"New Jersey\", 2953.0], [85301.0, \"4/19/20\", \"New Jersey\", 3881.0], [88722.0, \"4/20/20\", \"New Jersey\", 3421.0], [92387.0, \"4/21/20\", \"New Jersey\", 3665.0], [95914.0, \"4/22/20\", \"New Jersey\", 3527.0], [100025.0, \"4/23/20\", \"New Jersey\", 4111.0], [102196.0, \"4/24/20\", \"New Jersey\", 2171.0], [105498.0, \"4/25/20\", \"New Jersey\", 3302.0], [109038.0, \"4/26/20\", \"New Jersey\", 3540.0], [111188.0, \"4/27/20\", \"New Jersey\", 2150.0], [113856.0, \"4/28/20\", \"New Jersey\", 2668.0], [116365.0, \"4/29/20\", \"New Jersey\", 2509.0], [118652.0, \"4/30/20\", \"New Jersey\", 2287.0], [121190.0, \"5/1/20\", \"New Jersey\", 2538.0], [123717.0, \"5/2/20\", \"New Jersey\", 2527.0], [126744.0, \"5/3/20\", \"New Jersey\", 3027.0], [128269.0, \"5/4/20\", \"New Jersey\", 1525.0]], \"hoverlabel\": {\"namelength\": 0}, \"hovertemplate\": \"State =%{customdata[2]}<br>Mean growth over 21d compared to max growth =%{x}<br>% cases from last 21d =%{y}<br>Confirmed Cases=%{customdata[0]}<br>Date=%{customdata[1]}<br>Confirmed Cases today =%{customdata[3]}\", \"legendgroup\": \"New Jersey\", \"marker\": {\"color\": \"#636efa\", \"size\": [23.0, 29.0, 49.0, 69.0, 72.0, 176.0, 250.0, 397.0, 741.0, 890.0, 1327.0, 1914.0, 2844.0, 3675.0, 4402.0, 6876.0, 8825.0, 11124.0, 13386.0, 16636.0, 18696.0, 22255.0, 25590.0, 29895.0, 34124.0, 37505.0, 41090.0, 44416.0, 47437.0, 51027.0, 54588.0, 58151.0, 61850.0, 64584.0, 68824.0, 71030.0, 75317.0, 78467.0, 81420.0, 85301.0, 88722.0, 92387.0, 95914.0, 100025.0, 102196.0, 105498.0, 109038.0, 111188.0, 113856.0, 116365.0, 118652.0, 121190.0, 123717.0, 126744.0, 128269.0], \"sizemode\": \"area\", \"sizeref\": 797.3825, \"symbol\": \"circle\"}, \"mode\": \"lines+markers\", \"name\": \"New Jersey\", \"showlegend\": true, \"type\": \"scatter\", \"x\": [0.0, 0.0, 0.1, 0.1, 0.1, 0.2, 0.3, 0.4, 0.8, 1.0, 1.5, 2.1, 3.2, 4.1, 4.9, 7.6, 9.8, 12.4, 14.9, 18.5, 20.8, 24.7, 28.4, 33.2, 37.8, 41.6, 45.4, 49.1, 52.3, 55.9, 59.6, 63.1, 66.6, 68.6, 72.4, 74.0, 76.0, 77.4, 78.1, 79.9, 80.1, 81.9, 81.8, 82.7, 80.3, 79.3, 79.5, 77.9, 77.1, 76.6, 75.1, 74.0, 72.8, 72.1, 70.7], \"xaxis\": \"x\", \"y\": [100.0, 100.0, 100.0, 100.0, 100.0, 100.0, 100.0, 100.0, 100.0, 100.0, 100.0, 100.0, 100.0, 100.0, 100.0, 100.0, 100.0, 100.0, 100.0, 100.0, 99.9, 99.9, 99.9, 99.8, 99.8, 99.8, 99.6, 99.4, 99.2, 98.5, 98.4, 97.7, 96.9, 95.6, 94.7, 93.8, 90.9, 88.8, 86.3, 84.3, 81.2, 79.8, 76.8, 74.4, 70.7, 67.7, 65.6, 63.0, 61.0, 59.2, 57.0, 55.0, 53.0, 51.2, 49.6], \"yaxis\": \"y\"}, {\"customdata\": [[23.0, \"3/5/20\", \"New York\", 12.0], [31.0, \"3/6/20\", \"New York\", 8.0], [76.0, \"3/7/20\", \"New York\", 45.0], [106.0, \"3/8/20\", \"New York\", 30.0], [142.0, \"3/9/20\", \"New York\", 36.0], [150.0, \"3/10/20\", \"New York\", 8.0], [220.0, \"3/11/20\", \"New York\", 70.0], [327.0, \"3/12/20\", \"New York\", 107.0], [421.0, \"3/13/20\", \"New York\", 94.0], [613.0, \"3/14/20\", \"New York\", 192.0], [615.0, \"3/15/20\", \"New York\", 2.0], [967.0, \"3/16/20\", \"New York\", 352.0], [1578.0, \"3/17/20\", \"New York\", 611.0], [3038.0, \"3/18/20\", \"New York\", 1460.0], [5704.0, \"3/19/20\", \"New York\", 2666.0], [8403.0, \"3/20/20\", \"New York\", 2699.0], [11727.0, \"3/21/20\", \"New York\", 3324.0], [15800.0, \"3/22/20\", \"New York\", 4073.0], [20884.0, \"3/23/20\", \"New York\", 5084.0], [25681.0, \"3/24/20\", \"New York\", 4797.0], [30841.0, \"3/25/20\", \"New York\", 5160.0], [37877.0, \"3/26/20\", \"New York\", 7036.0], [44876.0, \"3/27/20\", \"New York\", 6999.0], [52410.0, \"3/28/20\", \"New York\", 7534.0], [59648.0, \"3/29/20\", \"New York\", 7238.0], [66663.0, \"3/30/20\", \"New York\", 7015.0], [75833.0, \"3/31/20\", \"New York\", 9170.0], [83948.0, \"4/1/20\", \"New York\", 8115.0], [92506.0, \"4/2/20\", \"New York\", 8558.0], [102987.0, \"4/3/20\", \"New York\", 10481.0], [113833.0, \"4/4/20\", \"New York\", 10846.0], [123160.0, \"4/5/20\", \"New York\", 9327.0], [131815.0, \"4/6/20\", \"New York\", 8655.0], [139875.0, \"4/7/20\", \"New York\", 8060.0], [151061.0, \"4/8/20\", \"New York\", 11186.0], [161779.0, \"4/9/20\", \"New York\", 10718.0], [172348.0, \"4/10/20\", \"New York\", 10569.0], [181026.0, \"4/11/20\", \"New York\", 8678.0], [189033.0, \"4/12/20\", \"New York\", 8007.0], [195749.0, \"4/13/20\", \"New York\", 6716.0], [203020.0, \"4/14/20\", \"New York\", 7271.0], [214454.0, \"4/15/20\", \"New York\", 11434.0], [223691.0, \"4/16/20\", \"New York\", 9237.0], [230597.0, \"4/17/20\", \"New York\", 6906.0], [237474.0, \"4/18/20\", \"New York\", 6877.0], [243382.0, \"4/19/20\", \"New York\", 5908.0], [248416.0, \"4/20/20\", \"New York\", 5034.0], [253519.0, \"4/21/20\", \"New York\", 5103.0], [258222.0, \"4/22/20\", \"New York\", 4703.0], [263460.0, \"4/23/20\", \"New York\", 5238.0], [271590.0, \"4/24/20\", \"New York\", 8130.0], [282143.0, \"4/25/20\", \"New York\", 10553.0], [288045.0, \"4/26/20\", \"New York\", 5902.0], [291996.0, \"4/27/20\", \"New York\", 3951.0], [295106.0, \"4/28/20\", \"New York\", 3110.0], [299691.0, \"4/29/20\", \"New York\", 4585.0], [304372.0, \"4/30/20\", \"New York\", 4681.0], [308314.0, \"5/1/20\", \"New York\", 3942.0], [312977.0, \"5/2/20\", \"New York\", 4663.0], [316415.0, \"5/3/20\", \"New York\", 3438.0], [318953.0, \"5/4/20\", \"New York\", 2538.0]], \"hoverlabel\": {\"namelength\": 0}, \"hovertemplate\": \"State =%{customdata[2]}<br>Mean growth over 21d compared to max growth =%{x}<br>% cases from last 21d =%{y}<br>Confirmed Cases=%{customdata[0]}<br>Date=%{customdata[1]}<br>Confirmed Cases today =%{customdata[3]}\", \"legendgroup\": \"New York\", \"marker\": {\"color\": \"#EF553B\", \"size\": [23.0, 31.0, 76.0, 106.0, 142.0, 150.0, 220.0, 327.0, 421.0, 613.0, 615.0, 967.0, 1578.0, 3038.0, 5704.0, 8403.0, 11727.0, 15800.0, 20884.0, 25681.0, 30841.0, 37877.0, 44876.0, 52410.0, 59648.0, 66663.0, 75833.0, 83948.0, 92506.0, 102987.0, 113833.0, 123160.0, 131815.0, 139875.0, 151061.0, 161779.0, 172348.0, 181026.0, 189033.0, 195749.0, 203020.0, 214454.0, 223691.0, 230597.0, 237474.0, 243382.0, 248416.0, 253519.0, 258222.0, 263460.0, 271590.0, 282143.0, 288045.0, 291996.0, 295106.0, 299691.0, 304372.0, 308314.0, 312977.0, 316415.0, 318953.0], \"sizemode\": \"area\", \"sizeref\": 797.3825, \"symbol\": \"circle\"}, \"mode\": \"lines+markers\", \"name\": \"New York\", \"showlegend\": true, \"type\": \"scatter\", \"x\": [0.0, 0.0, 0.0, 0.0, 0.1, 0.1, 0.1, 0.1, 0.2, 0.3, 0.3, 0.4, 0.7, 1.3, 2.4, 3.6, 5.0, 6.7, 8.9, 10.9, 13.1, 16.1, 19.1, 22.3, 25.3, 28.3, 32.2, 35.6, 39.2, 43.7, 48.2, 52.2, 55.7, 58.9, 63.0, 66.4, 69.8, 72.1, 73.7, 74.4, 75.5, 78.2, 79.1, 79.1, 78.8, 78.2, 77.4, 75.6, 74.2, 72.8, 71.8, 71.6, 70.2, 68.2, 66.1, 63.3, 60.7, 57.9, 56.2, 54.2, 52.4], \"xaxis\": \"x\", \"y\": [100.0, 100.0, 100.0, 100.0, 100.0, 100.0, 100.0, 100.0, 100.0, 100.0, 100.0, 100.0, 100.0, 100.0, 100.0, 100.0, 100.0, 100.0, 100.0, 100.0, 100.0, 99.9, 99.9, 99.9, 99.8, 99.8, 99.8, 99.7, 99.6, 99.6, 99.5, 99.5, 99.3, 98.9, 98.0, 96.5, 95.1, 93.5, 91.6, 89.3, 87.4, 85.6, 83.1, 80.5, 77.9, 75.5, 73.2, 70.1, 67.5, 64.9, 62.1, 59.7, 57.2, 54.9, 52.6, 49.6, 46.8, 44.1, 42.2, 40.3, 38.6], \"yaxis\": \"y\"}, {\"customdata\": [[26.0, \"3/14/20\", \"Ohio\", 14.0], [30.0, \"3/15/20\", \"Ohio\", 4.0], [50.0, \"3/16/20\", \"Ohio\", 20.0], [67.0, \"3/17/20\", \"Ohio\", 17.0], [89.0, \"3/18/20\", \"Ohio\", 22.0], [119.0, \"3/19/20\", \"Ohio\", 30.0], [173.0, \"3/20/20\", \"Ohio\", 54.0], [247.0, \"3/21/20\", \"Ohio\", 74.0], [356.0, \"3/22/20\", \"Ohio\", 109.0], [443.0, \"3/23/20\", \"Ohio\", 87.0], [567.0, \"3/24/20\", \"Ohio\", 124.0], [704.0, \"3/25/20\", \"Ohio\", 137.0], [868.0, \"3/26/20\", \"Ohio\", 164.0], [1137.0, \"3/27/20\", \"Ohio\", 269.0], [1406.0, \"3/28/20\", \"Ohio\", 269.0], [1653.0, \"3/29/20\", \"Ohio\", 247.0], [1933.0, \"3/30/20\", \"Ohio\", 280.0], [2199.0, \"3/31/20\", \"Ohio\", 266.0], [2547.0, \"4/1/20\", \"Ohio\", 348.0], [2901.0, \"4/2/20\", \"Ohio\", 354.0], [3312.0, \"4/3/20\", \"Ohio\", 411.0], [3739.0, \"4/4/20\", \"Ohio\", 427.0], [4043.0, \"4/5/20\", \"Ohio\", 304.0], [4453.0, \"4/6/20\", \"Ohio\", 410.0], [4782.0, \"4/7/20\", \"Ohio\", 329.0], [5148.0, \"4/8/20\", \"Ohio\", 366.0], [5512.0, \"4/9/20\", \"Ohio\", 364.0], [5878.0, \"4/10/20\", \"Ohio\", 366.0], [6250.0, \"4/11/20\", \"Ohio\", 372.0], [6604.0, \"4/12/20\", \"Ohio\", 354.0], [6975.0, \"4/13/20\", \"Ohio\", 371.0], [7285.0, \"4/14/20\", \"Ohio\", 310.0], [7794.0, \"4/15/20\", \"Ohio\", 509.0], [8414.0, \"4/16/20\", \"Ohio\", 620.0], [9107.0, \"4/17/20\", \"Ohio\", 693.0], [10222.0, \"4/18/20\", \"Ohio\", 1115.0], [11602.0, \"4/19/20\", \"Ohio\", 1380.0], [12919.0, \"4/20/20\", \"Ohio\", 1317.0], [13725.0, \"4/21/20\", \"Ohio\", 806.0], [14117.0, \"4/22/20\", \"Ohio\", 392.0], [14694.0, \"4/23/20\", \"Ohio\", 577.0], [15169.0, \"4/24/20\", \"Ohio\", 475.0], [15587.0, \"4/25/20\", \"Ohio\", 418.0], [15972.0, \"4/26/20\", \"Ohio\", 385.0], [16325.0, \"4/27/20\", \"Ohio\", 353.0], [16769.0, \"4/28/20\", \"Ohio\", 444.0], [17303.0, \"4/29/20\", \"Ohio\", 534.0], [18027.0, \"4/30/20\", \"Ohio\", 724.0], [18743.0, \"5/1/20\", \"Ohio\", 716.0], [19335.0, \"5/2/20\", \"Ohio\", 592.0], [19914.0, \"5/3/20\", \"Ohio\", 579.0], [20474.0, \"5/4/20\", \"Ohio\", 560.0]], \"hoverlabel\": {\"namelength\": 0}, \"hovertemplate\": \"State =%{customdata[2]}<br>Mean growth over 21d compared to max growth =%{x}<br>% cases from last 21d =%{y}<br>Confirmed Cases=%{customdata[0]}<br>Date=%{customdata[1]}<br>Confirmed Cases today =%{customdata[3]}\", \"legendgroup\": \"Ohio\", \"marker\": {\"color\": \"#00cc96\", \"size\": [26.0, 30.0, 50.0, 67.0, 89.0, 119.0, 173.0, 247.0, 356.0, 443.0, 567.0, 704.0, 868.0, 1137.0, 1406.0, 1653.0, 1933.0, 2199.0, 2547.0, 2901.0, 3312.0, 3739.0, 4043.0, 4453.0, 4782.0, 5148.0, 5512.0, 5878.0, 6250.0, 6604.0, 6975.0, 7285.0, 7794.0, 8414.0, 9107.0, 10222.0, 11602.0, 12919.0, 13725.0, 14117.0, 14694.0, 15169.0, 15587.0, 15972.0, 16325.0, 16769.0, 17303.0, 18027.0, 18743.0, 19335.0, 19914.0, 20474.0], \"sizemode\": \"area\", \"sizeref\": 797.3825, \"symbol\": \"circle\"}, \"mode\": \"lines+markers\", \"name\": \"Ohio\", \"showlegend\": true, \"type\": \"scatter\", \"x\": [0.1, 0.1, 0.2, 0.2, 0.3, 0.4, 0.6, 0.9, 1.3, 1.6, 2.1, 2.5, 3.1, 4.1, 5.1, 6.0, 7.0, 7.9, 9.2, 10.5, 11.9, 13.4, 14.5, 15.9, 17.0, 18.3, 19.5, 20.6, 21.7, 22.6, 23.6, 24.3, 25.6, 27.3, 28.8, 31.9, 36.0, 39.7, 41.7, 41.8, 42.6, 42.9, 42.8, 43.1, 42.9, 43.3, 43.9, 45.3, 46.5, 47.3, 48.1, 48.8], \"xaxis\": \"x\", \"y\": [100.0, 100.0, 100.0, 100.0, 100.0, 100.0, 100.0, 100.0, 100.0, 100.0, 100.0, 100.0, 100.0, 100.0, 100.0, 100.0, 100.0, 99.9, 99.8, 99.8, 99.6, 99.3, 99.3, 98.9, 98.6, 98.3, 97.8, 97.1, 96.0, 94.6, 93.6, 92.2, 91.0, 89.7, 87.5, 86.2, 85.8, 85.0, 84.0, 82.0, 80.3, 78.2, 76.0, 74.7, 72.7, 71.5, 70.2, 69.4, 68.6, 67.7, 66.8, 65.9], \"yaxis\": \"y\"}, {\"customdata\": [[22.0, \"3/12/20\", \"Pennsylvania\", 6.0], [41.0, \"3/13/20\", \"Pennsylvania\", 19.0], [47.0, \"3/14/20\", \"Pennsylvania\", 6.0], [47.0, \"3/15/20\", \"Pennsylvania\", 0.0], [79.0, \"3/16/20\", \"Pennsylvania\", 32.0], [112.0, \"3/17/20\", \"Pennsylvania\", 33.0], [155.0, \"3/18/20\", \"Pennsylvania\", 43.0], [206.0, \"3/19/20\", \"Pennsylvania\", 51.0], [311.0, \"3/20/20\", \"Pennsylvania\", 105.0], [399.0, \"3/21/20\", \"Pennsylvania\", 88.0], [509.0, \"3/22/20\", \"Pennsylvania\", 110.0], [698.0, \"3/23/20\", \"Pennsylvania\", 189.0], [946.0, \"3/24/20\", \"Pennsylvania\", 248.0], [1260.0, \"3/25/20\", \"Pennsylvania\", 314.0], [1795.0, \"3/26/20\", \"Pennsylvania\", 535.0], [2345.0, \"3/27/20\", \"Pennsylvania\", 550.0], [2845.0, \"3/28/20\", \"Pennsylvania\", 500.0], [3432.0, \"3/29/20\", \"Pennsylvania\", 587.0], [4155.0, \"3/30/20\", \"Pennsylvania\", 723.0], [4963.0, \"3/31/20\", \"Pennsylvania\", 808.0], [6009.0, \"4/1/20\", \"Pennsylvania\", 1046.0], [7268.0, \"4/2/20\", \"Pennsylvania\", 1259.0], [8570.0, \"4/3/20\", \"Pennsylvania\", 1302.0], [10444.0, \"4/4/20\", \"Pennsylvania\", 1874.0], [11589.0, \"4/5/20\", \"Pennsylvania\", 1145.0], [13127.0, \"4/6/20\", \"Pennsylvania\", 1538.0], [14853.0, \"4/7/20\", \"Pennsylvania\", 1726.0], [16631.0, \"4/8/20\", \"Pennsylvania\", 1778.0], [18300.0, \"4/9/20\", \"Pennsylvania\", 1669.0], [20051.0, \"4/10/20\", \"Pennsylvania\", 1751.0], [21719.0, \"4/11/20\", \"Pennsylvania\", 1668.0], [22938.0, \"4/12/20\", \"Pennsylvania\", 1219.0], [24292.0, \"4/13/20\", \"Pennsylvania\", 1354.0], [25465.0, \"4/14/20\", \"Pennsylvania\", 1173.0], [26753.0, \"4/15/20\", \"Pennsylvania\", 1288.0], [28258.0, \"4/16/20\", \"Pennsylvania\", 1505.0], [29888.0, \"4/17/20\", \"Pennsylvania\", 1630.0], [31652.0, \"4/18/20\", \"Pennsylvania\", 1764.0], [32902.0, \"4/19/20\", \"Pennsylvania\", 1250.0], [33914.0, \"4/20/20\", \"Pennsylvania\", 1012.0], [35249.0, \"4/21/20\", \"Pennsylvania\", 1335.0], [36082.0, \"4/22/20\", \"Pennsylvania\", 833.0], [38379.0, \"4/23/20\", \"Pennsylvania\", 2297.0], [40208.0, \"4/24/20\", \"Pennsylvania\", 1829.0], [41153.0, \"4/25/20\", \"Pennsylvania\", 945.0], [42616.0, \"4/26/20\", \"Pennsylvania\", 1463.0], [43558.0, \"4/27/20\", \"Pennsylvania\", 942.0], [45137.0, \"4/28/20\", \"Pennsylvania\", 1579.0], [46327.0, \"4/29/20\", \"Pennsylvania\", 1190.0], [47971.0, \"4/30/20\", \"Pennsylvania\", 1644.0], [49579.0, \"5/1/20\", \"Pennsylvania\", 1608.0], [50494.0, \"5/2/20\", \"Pennsylvania\", 915.0], [51225.0, \"5/3/20\", \"Pennsylvania\", 731.0], [52816.0, \"5/4/20\", \"Pennsylvania\", 1591.0]], \"hoverlabel\": {\"namelength\": 0}, \"hovertemplate\": \"State =%{customdata[2]}<br>Mean growth over 21d compared to max growth =%{x}<br>% cases from last 21d =%{y}<br>Confirmed Cases=%{customdata[0]}<br>Date=%{customdata[1]}<br>Confirmed Cases today =%{customdata[3]}\", \"legendgroup\": \"Pennsylvania\", \"marker\": {\"color\": \"#ab63fa\", \"size\": [22.0, 41.0, 47.0, 47.0, 79.0, 112.0, 155.0, 206.0, 311.0, 399.0, 509.0, 698.0, 946.0, 1260.0, 1795.0, 2345.0, 2845.0, 3432.0, 4155.0, 4963.0, 6009.0, 7268.0, 8570.0, 10444.0, 11589.0, 13127.0, 14853.0, 16631.0, 18300.0, 20051.0, 21719.0, 22938.0, 24292.0, 25465.0, 26753.0, 28258.0, 29888.0, 31652.0, 32902.0, 33914.0, 35249.0, 36082.0, 38379.0, 40208.0, 41153.0, 42616.0, 43558.0, 45137.0, 46327.0, 47971.0, 49579.0, 50494.0, 51225.0, 52816.0], \"sizemode\": \"area\", \"sizeref\": 797.3825, \"symbol\": \"circle\"}, \"mode\": \"lines+markers\", \"name\": \"Pennsylvania\", \"showlegend\": true, \"type\": \"scatter\", \"x\": [0.1, 0.1, 0.1, 0.1, 0.2, 0.3, 0.4, 0.5, 0.8, 1.0, 1.3, 1.8, 2.4, 3.2, 4.6, 6.0, 7.2, 8.7, 10.5, 12.6, 15.2, 18.4, 21.7, 26.4, 29.3, 33.2, 37.5, 41.9, 46.0, 50.2, 54.2, 57.0, 60.0, 62.3, 64.8, 67.2, 70.0, 73.2, 74.9, 75.6, 77.0, 76.4, 79.1, 80.4, 78.0, 78.8, 77.3, 77.0, 75.5, 75.4, 75.0, 73.1, 71.9, 72.5], \"xaxis\": \"x\", \"y\": [100.0, 100.0, 100.0, 100.0, 100.0, 100.0, 100.0, 100.0, 100.0, 100.0, 100.0, 100.0, 100.0, 100.0, 100.0, 99.9, 99.9, 99.8, 99.8, 99.8, 99.7, 99.7, 99.5, 99.5, 99.6, 99.4, 99.2, 99.1, 98.9, 98.4, 98.2, 97.8, 97.1, 96.3, 95.3, 93.6, 92.2, 91.0, 89.6, 87.7, 85.9, 83.3, 81.1, 78.7, 74.6, 72.8, 69.9, 67.1, 64.1, 61.9, 59.6, 57.0, 55.2, 54.0], \"yaxis\": \"y\"}, {\"customdata\": [[21.0, \"3/11/20\", \"Texas\", 5.0], [27.0, \"3/12/20\", \"Texas\", 6.0], [44.0, \"3/13/20\", \"Texas\", 17.0], [60.0, \"3/14/20\", \"Texas\", 16.0], [63.0, \"3/15/20\", \"Texas\", 3.0], [85.0, \"3/16/20\", \"Texas\", 22.0], [110.0, \"3/17/20\", \"Texas\", 25.0], [196.0, \"3/18/20\", \"Texas\", 86.0], [306.0, \"3/19/20\", \"Texas\", 110.0], [429.0, \"3/20/20\", \"Texas\", 123.0], [582.0, \"3/21/20\", \"Texas\", 153.0], [643.0, \"3/22/20\", \"Texas\", 61.0], [758.0, \"3/23/20\", \"Texas\", 115.0], [955.0, \"3/24/20\", \"Texas\", 197.0], [1229.0, \"3/25/20\", \"Texas\", 274.0], [1563.0, \"3/26/20\", \"Texas\", 334.0], [1937.0, \"3/27/20\", \"Texas\", 374.0], [2455.0, \"3/28/20\", \"Texas\", 518.0], [2792.0, \"3/29/20\", \"Texas\", 337.0], [3147.0, \"3/30/20\", \"Texas\", 355.0], [3809.0, \"3/31/20\", \"Texas\", 662.0], [4355.0, \"4/1/20\", \"Texas\", 546.0], [5069.0, \"4/2/20\", \"Texas\", 714.0], [5734.0, \"4/3/20\", \"Texas\", 665.0], [6567.0, \"4/4/20\", \"Texas\", 833.0], [7209.0, \"4/5/20\", \"Texas\", 642.0], [8043.0, \"4/6/20\", \"Texas\", 834.0], [8925.0, \"4/7/20\", \"Texas\", 882.0], [9777.0, \"4/8/20\", \"Texas\", 852.0], [11208.0, \"4/9/20\", \"Texas\", 1431.0], [12105.0, \"4/10/20\", \"Texas\", 897.0], [13023.0, \"4/11/20\", \"Texas\", 918.0], [13677.0, \"4/12/20\", \"Texas\", 654.0], [14275.0, \"4/13/20\", \"Texas\", 598.0], [15006.0, \"4/14/20\", \"Texas\", 731.0], [15907.0, \"4/15/20\", \"Texas\", 901.0], [16876.0, \"4/16/20\", \"Texas\", 969.0], [17849.0, \"4/17/20\", \"Texas\", 973.0], [18704.0, \"4/18/20\", \"Texas\", 855.0], [19260.0, \"4/19/20\", \"Texas\", 556.0], [19751.0, \"4/20/20\", \"Texas\", 491.0], [20574.0, \"4/21/20\", \"Texas\", 823.0], [21321.0, \"4/22/20\", \"Texas\", 747.0], [22650.0, \"4/23/20\", \"Texas\", 1329.0], [23642.0, \"4/24/20\", \"Texas\", 992.0], [24153.0, \"4/25/20\", \"Texas\", 511.0], [24967.0, \"4/26/20\", \"Texas\", 814.0], [25321.0, \"4/27/20\", \"Texas\", 354.0], [26357.0, \"4/28/20\", \"Texas\", 1036.0], [27257.0, \"4/29/20\", \"Texas\", 900.0], [28727.0, \"4/30/20\", \"Texas\", 1470.0], [29692.0, \"5/1/20\", \"Texas\", 965.0], [30917.0, \"5/2/20\", \"Texas\", 1225.0], [31998.0, \"5/3/20\", \"Texas\", 1081.0], [32783.0, \"5/4/20\", \"Texas\", 785.0]], \"hoverlabel\": {\"namelength\": 0}, \"hovertemplate\": \"State =%{customdata[2]}<br>Mean growth over 21d compared to max growth =%{x}<br>% cases from last 21d =%{y}<br>Confirmed Cases=%{customdata[0]}<br>Date=%{customdata[1]}<br>Confirmed Cases today =%{customdata[3]}\", \"legendgroup\": \"Texas\", \"marker\": {\"color\": \"#FFA15A\", \"size\": [21.0, 27.0, 44.0, 60.0, 63.0, 85.0, 110.0, 196.0, 306.0, 429.0, 582.0, 643.0, 758.0, 955.0, 1229.0, 1563.0, 1937.0, 2455.0, 2792.0, 3147.0, 3809.0, 4355.0, 5069.0, 5734.0, 6567.0, 7209.0, 8043.0, 8925.0, 9777.0, 11208.0, 12105.0, 13023.0, 13677.0, 14275.0, 15006.0, 15907.0, 16876.0, 17849.0, 18704.0, 19260.0, 19751.0, 20574.0, 21321.0, 22650.0, 23642.0, 24153.0, 24967.0, 25321.0, 26357.0, 27257.0, 28727.0, 29692.0, 30917.0, 31998.0, 32783.0], \"sizemode\": \"area\", \"sizeref\": 797.3825, \"symbol\": \"circle\"}, \"mode\": \"lines+markers\", \"name\": \"Texas\", \"showlegend\": true, \"type\": \"scatter\", \"x\": [0.1, 0.1, 0.1, 0.2, 0.2, 0.3, 0.4, 0.7, 1.0, 1.4, 1.9, 2.1, 2.5, 3.2, 4.1, 5.2, 6.4, 8.1, 9.3, 10.4, 12.6, 14.4, 16.8, 18.9, 21.7, 23.8, 26.5, 29.3, 31.9, 36.3, 38.9, 41.4, 43.4, 45.0, 46.8, 48.8, 51.0, 52.9, 54.1, 54.8, 55.3, 55.8, 56.5, 58.5, 59.6, 58.5, 59.1, 57.5, 58.0, 58.2, 58.3, 58.5, 59.5, 61.0, 61.6], \"xaxis\": \"x\", \"y\": [100.0, 100.0, 100.0, 100.0, 100.0, 100.0, 100.0, 100.0, 100.0, 100.0, 100.0, 100.0, 100.0, 100.0, 100.0, 99.8, 99.8, 99.7, 99.6, 99.6, 99.6, 99.5, 99.5, 99.2, 99.1, 99.1, 98.9, 98.8, 98.0, 97.3, 96.5, 95.5, 95.3, 94.7, 93.6, 92.3, 90.7, 89.1, 86.9, 85.5, 84.1, 81.5, 79.6, 77.6, 75.7, 72.8, 71.1, 68.2, 66.1, 64.1, 61.0, 59.2, 57.9, 57.3, 56.5], \"yaxis\": \"y\"}],\n",
       "                        {\"legend\": {\"itemsizing\": \"constant\", \"title\": {\"text\": \"State \"}, \"tracegroupgap\": 0}, \"template\": {\"data\": {\"bar\": [{\"error_x\": {\"color\": \"#2a3f5f\"}, \"error_y\": {\"color\": \"#2a3f5f\"}, \"marker\": {\"line\": {\"color\": \"#E5ECF6\", \"width\": 0.5}}, \"type\": \"bar\"}], \"barpolar\": [{\"marker\": {\"line\": {\"color\": \"#E5ECF6\", \"width\": 0.5}}, \"type\": \"barpolar\"}], \"carpet\": [{\"aaxis\": {\"endlinecolor\": \"#2a3f5f\", \"gridcolor\": \"white\", \"linecolor\": \"white\", \"minorgridcolor\": \"white\", \"startlinecolor\": \"#2a3f5f\"}, \"baxis\": {\"endlinecolor\": \"#2a3f5f\", \"gridcolor\": \"white\", \"linecolor\": \"white\", \"minorgridcolor\": \"white\", \"startlinecolor\": \"#2a3f5f\"}, \"type\": \"carpet\"}], \"choropleth\": [{\"colorbar\": {\"outlinewidth\": 0, \"ticks\": \"\"}, \"type\": \"choropleth\"}], \"contour\": [{\"colorbar\": {\"outlinewidth\": 0, \"ticks\": \"\"}, \"colorscale\": [[0.0, \"#0d0887\"], [0.1111111111111111, \"#46039f\"], [0.2222222222222222, \"#7201a8\"], [0.3333333333333333, \"#9c179e\"], [0.4444444444444444, \"#bd3786\"], [0.5555555555555556, \"#d8576b\"], [0.6666666666666666, \"#ed7953\"], [0.7777777777777778, \"#fb9f3a\"], [0.8888888888888888, \"#fdca26\"], [1.0, \"#f0f921\"]], \"type\": \"contour\"}], \"contourcarpet\": [{\"colorbar\": {\"outlinewidth\": 0, \"ticks\": \"\"}, \"type\": \"contourcarpet\"}], \"heatmap\": [{\"colorbar\": {\"outlinewidth\": 0, \"ticks\": \"\"}, \"colorscale\": [[0.0, \"#0d0887\"], [0.1111111111111111, \"#46039f\"], [0.2222222222222222, \"#7201a8\"], [0.3333333333333333, \"#9c179e\"], [0.4444444444444444, \"#bd3786\"], [0.5555555555555556, \"#d8576b\"], [0.6666666666666666, \"#ed7953\"], [0.7777777777777778, \"#fb9f3a\"], [0.8888888888888888, \"#fdca26\"], [1.0, \"#f0f921\"]], \"type\": \"heatmap\"}], \"heatmapgl\": [{\"colorbar\": {\"outlinewidth\": 0, \"ticks\": \"\"}, \"colorscale\": [[0.0, \"#0d0887\"], [0.1111111111111111, \"#46039f\"], [0.2222222222222222, \"#7201a8\"], [0.3333333333333333, \"#9c179e\"], [0.4444444444444444, \"#bd3786\"], [0.5555555555555556, \"#d8576b\"], [0.6666666666666666, \"#ed7953\"], [0.7777777777777778, \"#fb9f3a\"], [0.8888888888888888, \"#fdca26\"], [1.0, \"#f0f921\"]], \"type\": \"heatmapgl\"}], \"histogram\": [{\"marker\": {\"colorbar\": {\"outlinewidth\": 0, \"ticks\": \"\"}}, \"type\": \"histogram\"}], \"histogram2d\": [{\"colorbar\": {\"outlinewidth\": 0, \"ticks\": \"\"}, \"colorscale\": [[0.0, \"#0d0887\"], [0.1111111111111111, \"#46039f\"], [0.2222222222222222, \"#7201a8\"], [0.3333333333333333, \"#9c179e\"], [0.4444444444444444, \"#bd3786\"], [0.5555555555555556, \"#d8576b\"], [0.6666666666666666, \"#ed7953\"], [0.7777777777777778, \"#fb9f3a\"], [0.8888888888888888, \"#fdca26\"], [1.0, \"#f0f921\"]], \"type\": \"histogram2d\"}], \"histogram2dcontour\": [{\"colorbar\": {\"outlinewidth\": 0, \"ticks\": \"\"}, \"colorscale\": [[0.0, \"#0d0887\"], [0.1111111111111111, \"#46039f\"], [0.2222222222222222, \"#7201a8\"], [0.3333333333333333, \"#9c179e\"], [0.4444444444444444, \"#bd3786\"], [0.5555555555555556, \"#d8576b\"], [0.6666666666666666, \"#ed7953\"], [0.7777777777777778, \"#fb9f3a\"], [0.8888888888888888, \"#fdca26\"], [1.0, \"#f0f921\"]], \"type\": \"histogram2dcontour\"}], \"mesh3d\": [{\"colorbar\": {\"outlinewidth\": 0, \"ticks\": \"\"}, \"type\": \"mesh3d\"}], \"parcoords\": [{\"line\": {\"colorbar\": {\"outlinewidth\": 0, \"ticks\": \"\"}}, \"type\": \"parcoords\"}], \"pie\": [{\"automargin\": true, \"type\": \"pie\"}], \"scatter\": [{\"marker\": {\"colorbar\": {\"outlinewidth\": 0, \"ticks\": \"\"}}, \"type\": \"scatter\"}], \"scatter3d\": [{\"line\": {\"colorbar\": {\"outlinewidth\": 0, \"ticks\": \"\"}}, \"marker\": {\"colorbar\": {\"outlinewidth\": 0, \"ticks\": \"\"}}, \"type\": \"scatter3d\"}], \"scattercarpet\": [{\"marker\": {\"colorbar\": {\"outlinewidth\": 0, \"ticks\": \"\"}}, \"type\": \"scattercarpet\"}], \"scattergeo\": [{\"marker\": {\"colorbar\": {\"outlinewidth\": 0, \"ticks\": \"\"}}, \"type\": \"scattergeo\"}], \"scattergl\": [{\"marker\": {\"colorbar\": {\"outlinewidth\": 0, \"ticks\": \"\"}}, \"type\": \"scattergl\"}], \"scattermapbox\": [{\"marker\": {\"colorbar\": {\"outlinewidth\": 0, \"ticks\": \"\"}}, \"type\": \"scattermapbox\"}], \"scatterpolar\": [{\"marker\": {\"colorbar\": {\"outlinewidth\": 0, \"ticks\": \"\"}}, \"type\": \"scatterpolar\"}], \"scatterpolargl\": [{\"marker\": {\"colorbar\": {\"outlinewidth\": 0, \"ticks\": \"\"}}, \"type\": \"scatterpolargl\"}], \"scatterternary\": [{\"marker\": {\"colorbar\": {\"outlinewidth\": 0, \"ticks\": \"\"}}, \"type\": \"scatterternary\"}], \"surface\": [{\"colorbar\": {\"outlinewidth\": 0, \"ticks\": \"\"}, \"colorscale\": [[0.0, \"#0d0887\"], [0.1111111111111111, \"#46039f\"], [0.2222222222222222, \"#7201a8\"], [0.3333333333333333, \"#9c179e\"], [0.4444444444444444, \"#bd3786\"], [0.5555555555555556, \"#d8576b\"], [0.6666666666666666, \"#ed7953\"], [0.7777777777777778, \"#fb9f3a\"], [0.8888888888888888, \"#fdca26\"], [1.0, \"#f0f921\"]], \"type\": \"surface\"}], \"table\": [{\"cells\": {\"fill\": {\"color\": \"#EBF0F8\"}, \"line\": {\"color\": \"white\"}}, \"header\": {\"fill\": {\"color\": \"#C8D4E3\"}, \"line\": {\"color\": \"white\"}}, \"type\": \"table\"}]}, \"layout\": {\"annotationdefaults\": {\"arrowcolor\": \"#2a3f5f\", \"arrowhead\": 0, \"arrowwidth\": 1}, \"coloraxis\": {\"colorbar\": {\"outlinewidth\": 0, \"ticks\": \"\"}}, \"colorscale\": {\"diverging\": [[0, \"#8e0152\"], [0.1, \"#c51b7d\"], [0.2, \"#de77ae\"], [0.3, \"#f1b6da\"], [0.4, \"#fde0ef\"], [0.5, \"#f7f7f7\"], [0.6, \"#e6f5d0\"], [0.7, \"#b8e186\"], [0.8, \"#7fbc41\"], [0.9, \"#4d9221\"], [1, \"#276419\"]], \"sequential\": [[0.0, \"#0d0887\"], [0.1111111111111111, \"#46039f\"], [0.2222222222222222, \"#7201a8\"], [0.3333333333333333, \"#9c179e\"], [0.4444444444444444, \"#bd3786\"], [0.5555555555555556, \"#d8576b\"], [0.6666666666666666, \"#ed7953\"], [0.7777777777777778, \"#fb9f3a\"], [0.8888888888888888, \"#fdca26\"], [1.0, \"#f0f921\"]], \"sequentialminus\": [[0.0, \"#0d0887\"], [0.1111111111111111, \"#46039f\"], [0.2222222222222222, \"#7201a8\"], [0.3333333333333333, \"#9c179e\"], [0.4444444444444444, \"#bd3786\"], [0.5555555555555556, \"#d8576b\"], [0.6666666666666666, \"#ed7953\"], [0.7777777777777778, \"#fb9f3a\"], [0.8888888888888888, \"#fdca26\"], [1.0, \"#f0f921\"]]}, \"colorway\": [\"#636efa\", \"#EF553B\", \"#00cc96\", \"#ab63fa\", \"#FFA15A\", \"#19d3f3\", \"#FF6692\", \"#B6E880\", \"#FF97FF\", \"#FECB52\"], \"font\": {\"color\": \"#2a3f5f\"}, \"geo\": {\"bgcolor\": \"white\", \"lakecolor\": \"white\", \"landcolor\": \"#E5ECF6\", \"showlakes\": true, \"showland\": true, \"subunitcolor\": \"white\"}, \"hoverlabel\": {\"align\": \"left\"}, \"hovermode\": \"closest\", \"mapbox\": {\"style\": \"light\"}, \"paper_bgcolor\": \"white\", \"plot_bgcolor\": \"#E5ECF6\", \"polar\": {\"angularaxis\": {\"gridcolor\": \"white\", \"linecolor\": \"white\", \"ticks\": \"\"}, \"bgcolor\": \"#E5ECF6\", \"radialaxis\": {\"gridcolor\": \"white\", \"linecolor\": \"white\", \"ticks\": \"\"}}, \"scene\": {\"xaxis\": {\"backgroundcolor\": \"#E5ECF6\", \"gridcolor\": \"white\", \"gridwidth\": 2, \"linecolor\": \"white\", \"showbackground\": true, \"ticks\": \"\", \"zerolinecolor\": \"white\"}, \"yaxis\": {\"backgroundcolor\": \"#E5ECF6\", \"gridcolor\": \"white\", \"gridwidth\": 2, \"linecolor\": \"white\", \"showbackground\": true, \"ticks\": \"\", \"zerolinecolor\": \"white\"}, \"zaxis\": {\"backgroundcolor\": \"#E5ECF6\", \"gridcolor\": \"white\", \"gridwidth\": 2, \"linecolor\": \"white\", \"showbackground\": true, \"ticks\": \"\", \"zerolinecolor\": \"white\"}}, \"shapedefaults\": {\"line\": {\"color\": \"#2a3f5f\"}}, \"ternary\": {\"aaxis\": {\"gridcolor\": \"white\", \"linecolor\": \"white\", \"ticks\": \"\"}, \"baxis\": {\"gridcolor\": \"white\", \"linecolor\": \"white\", \"ticks\": \"\"}, \"bgcolor\": \"#E5ECF6\", \"caxis\": {\"gridcolor\": \"white\", \"linecolor\": \"white\", \"ticks\": \"\"}}, \"title\": {\"x\": 0.05}, \"xaxis\": {\"automargin\": true, \"gridcolor\": \"white\", \"linecolor\": \"white\", \"ticks\": \"\", \"title\": {\"standoff\": 15}, \"zerolinecolor\": \"white\", \"zerolinewidth\": 2}, \"yaxis\": {\"automargin\": true, \"gridcolor\": \"white\", \"linecolor\": \"white\", \"ticks\": \"\", \"title\": {\"standoff\": 15}, \"zerolinecolor\": \"white\", \"zerolinewidth\": 2}}}, \"title\": {\"text\": \"Confirmed Cases - US\"}, \"xaxis\": {\"anchor\": \"y\", \"domain\": [0.0, 1.0], \"rangemode\": \"tozero\", \"title\": {\"text\": \"Mean Daily Growth over 21 previous days compared to Max Daily Growth (%)\"}}, \"yaxis\": {\"anchor\": \"x\", \"domain\": [0.0, 1.0], \"rangemode\": \"tozero\", \"title\": {\"text\": \"Percentage of Total occuring in the last 21 days (%)\"}}},\n",
       "                        {\"responsive\": true}\n",
       "                    ).then(function(){\n",
       "                            \n",
       "var gd = document.getElementById('b4d735cd-d341-487b-9db0-ec83d4204f20');\n",
       "var x = new MutationObserver(function (mutations, observer) {{\n",
       "        var display = window.getComputedStyle(gd).display;\n",
       "        if (!display || display === 'none') {{\n",
       "            console.log([gd, 'removed!']);\n",
       "            Plotly.purge(gd);\n",
       "            observer.disconnect();\n",
       "        }}\n",
       "}});\n",
       "\n",
       "// Listen for the removal of the full notebook cells\n",
       "var notebookContainer = gd.closest('#notebook-container');\n",
       "if (notebookContainer) {{\n",
       "    x.observe(notebookContainer, {childList: true});\n",
       "}}\n",
       "\n",
       "// Listen for the clearing of the current output cell\n",
       "var outputEl = gd.closest('.output');\n",
       "if (outputEl) {{\n",
       "    x.observe(outputEl, {childList: true});\n",
       "}}\n",
       "\n",
       "                        })\n",
       "                };\n",
       "                });\n",
       "            </script>\n",
       "        </div>"
      ]
     },
     "metadata": {},
     "output_type": "display_data"
    }
   ],
   "source": [
    "list_top_15_countries = daily_cases_US.sort_values(daily_cases_US.columns[-2], ascending=False).reset_index()['Province_State'][:15].to_list()    \n",
    "st_us.value = list_top_15_countries\n",
    "\n",
    "if cases_us.value == 'Confirmed Cases':\n",
    "    daily_cases_US_2 = plot_phase_space_US(daily_cases_US, \n",
    "                                           title = cases_us.value, time_window=int(tw_us.value), \n",
    "                                           n_cases = min_us.value, state=st_us.value)\n",
    "elif cases_us.value == 'Deaths':\n",
    "    daily_deaths_US_2 = plot_phase_space_US(daily_deaths_US.drop(columns='Population'), \n",
    "                                            title = cases_us.value, time_window=int(tw_us.value), \n",
    "                                            n_cases = min_us.value, state=st_us.value)\n",
    "else:\n",
    "    print('ERROR in dataframe')   \n",
    "    \n"
   ]
  },
  {
   "cell_type": "code",
   "execution_count": 19,
   "metadata": {
    "ExecuteTime": {
     "end_time": "2020-05-05T21:25:48.481854Z",
     "start_time": "2020-05-05T21:25:48.479239Z"
    }
   },
   "outputs": [],
   "source": [
    "# if cases_us.value == 'Confirmed Cases':\n",
    "#     df_test = daily_cases_US_2\n",
    "# elif cases_us.value == 'Deaths':\n",
    "#     df_test = daily_deaths_US_2\n",
    "\n",
    "# fig, ax = plt.subplots(figsize=(10,10))\n",
    "\n",
    "\n",
    "# sns.lineplot(x=\"Days\", y=\"DailyGrowth\",\n",
    "#              hue=\"Province_State\", \n",
    "#              data=df_test)\n",
    "\n",
    "# #ax.set_yscale('log')"
   ]
  },
  {
   "cell_type": "markdown",
   "metadata": {},
   "source": [
    "# Model SIR"
   ]
  },
  {
   "cell_type": "code",
   "execution_count": 20,
   "metadata": {
    "ExecuteTime": {
     "end_time": "2020-05-05T21:25:48.488115Z",
     "start_time": "2020-05-05T21:25:48.484038Z"
    }
   },
   "outputs": [],
   "source": [
    "import numpy as np\n",
    "from scipy.integrate import odeint\n",
    "import matplotlib.pyplot as plt\n",
    "\n",
    "# Total population, N.\n",
    "N = 1000\n",
    "# Initial number of infected and recovered individuals, I0 and R0.\n",
    "I0, R0 = 1, 0\n",
    "# Everyone else, S0, is susceptible to infection initially.\n",
    "S0 = N - I0 - R0\n",
    "# Contact rate, beta, and mean recovery rate, gamma, (in 1/days).\n",
    "beta, gamma = 0.2, 1./10 \n",
    "# A grid of time points (in days)\n",
    "t = np.linspace(0, 160, 160)"
   ]
  },
  {
   "cell_type": "code",
   "execution_count": 21,
   "metadata": {
    "ExecuteTime": {
     "end_time": "2020-05-05T21:25:48.495301Z",
     "start_time": "2020-05-05T21:25:48.489927Z"
    }
   },
   "outputs": [],
   "source": [
    "# The SIR model differential equations.\n",
    "def deriv(y, t, N, beta, gamma):\n",
    "    S, I, R = y\n",
    "    dSdt = -beta * S * I / N\n",
    "    dIdt = beta * S * I / N - gamma * I\n",
    "    dRdt = gamma * I\n",
    "    return dSdt, dIdt, dRdt\n",
    "\n",
    "# Initial conditions vector\n",
    "y0 = S0, I0, R0\n",
    "# Integrate the SIR equations over the time grid, t.\n",
    "ret = odeint(deriv, y0, t, args=(N, beta, gamma))\n",
    "S, I, R = ret.T"
   ]
  },
  {
   "cell_type": "code",
   "execution_count": 22,
   "metadata": {
    "ExecuteTime": {
     "end_time": "2020-05-05T21:25:48.767944Z",
     "start_time": "2020-05-05T21:25:48.497452Z"
    }
   },
   "outputs": [
    {
     "data": {
      "image/png": "[encoded data removed]",
      "text/plain": [
       "<Figure size 432x288 with 1 Axes>"
      ]
     },
     "metadata": {},
     "output_type": "display_data"
    }
   ],
   "source": [
    "# Plot the data on three separate curves for S(t), I(t) and R(t)\n",
    "fig = plt.figure(facecolor='w')\n",
    "ax = fig.add_subplot(111,  axisbelow=True)\n",
    "ax.plot(t, S/1000, 'b', alpha=0.5, lw=2, label='Susceptible')\n",
    "ax.plot(t, I/1000, 'r', alpha=0.5, lw=2, label='Infected')\n",
    "ax.plot(t, R/1000, 'g', alpha=0.5, lw=2, label='Recovered with immunity')\n",
    "ax.set_xlabel('Time /days')\n",
    "ax.set_ylabel('Number (1000s)')\n",
    "ax.set_ylim(0,1.2)\n",
    "ax.yaxis.set_tick_params(length=0)\n",
    "ax.xaxis.set_tick_params(length=0)\n",
    "ax.grid(b=True, which='major', c='w', lw=2, ls='-')\n",
    "legend = ax.legend()\n",
    "legend.get_frame().set_alpha(0.5)\n",
    "for spine in ('top', 'right', 'bottom', 'left'):\n",
    "    ax.spines[spine].set_visible(False)\n",
    "plt.show()"
   ]
  },
  {
   "cell_type": "code",
   "execution_count": null,
   "metadata": {},
   "outputs": [],
   "source": []
  },
  {
   "cell_type": "code",
   "execution_count": null,
   "metadata": {},
   "outputs": [],
   "source": []
  }
 ],
 "metadata": {
  "kernelspec": {
   "display_name": "Python 3",
   "language": "python",
   "name": "python3"
  },
  "language_info": {
   "codemirror_mode": {
    "name": "ipython",
    "version": 3
   },
   "file_extension": ".py",
   "mimetype": "text/x-python",
   "name": "python",
   "nbconvert_exporter": "python",
   "pygments_lexer": "ipython3",
   "version": "3.7.6"
  },
  "toc": {
   "base_numbering": 1,
   "nav_menu": {},
   "number_sections": true,
   "sideBar": true,
   "skip_h1_title": false,
   "title_cell": "Table of Contents",
   "title_sidebar": "Contents",
   "toc_cell": true,
   "toc_position": {
    "height": "calc(100% - 180px)",
    "left": "10px",
    "top": "150px",
    "width": "307.656px"
   },
   "toc_section_display": true,
   "toc_window_display": true
  }
 },
 "nbformat": 4,
 "nbformat_minor": 4
}
