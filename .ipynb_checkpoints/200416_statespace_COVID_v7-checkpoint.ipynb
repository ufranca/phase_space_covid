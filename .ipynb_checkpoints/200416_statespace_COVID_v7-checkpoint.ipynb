{
 "cells": [
  {
   "cell_type": "markdown",
   "metadata": {
    "toc": true
   },
   "source": [
    "<h1>Table of Contents<span class=\"tocSkip\"></span></h1>\n",
    "<div class=\"toc\"><ul class=\"toc-item\"><li><span><a href=\"#Standard\" data-toc-modified-id=\"Standard-1\"><span class=\"toc-item-num\">1&nbsp;&nbsp;</span>Standard</a></span></li><li><span><a href=\"#Date\" data-toc-modified-id=\"Date-2\"><span class=\"toc-item-num\">2&nbsp;&nbsp;</span>Date</a></span></li><li><span><a href=\"#Functions\" data-toc-modified-id=\"Functions-3\"><span class=\"toc-item-num\">3&nbsp;&nbsp;</span>Functions</a></span><ul class=\"toc-item\"><li><span><a href=\"#Phase-space\" data-toc-modified-id=\"Phase-space-3.1\"><span class=\"toc-item-num\">3.1&nbsp;&nbsp;</span>Phase space</a></span></li><li><span><a href=\"#World-plot\" data-toc-modified-id=\"World-plot-3.2\"><span class=\"toc-item-num\">3.2&nbsp;&nbsp;</span>World plot</a></span></li><li><span><a href=\"#US-plot\" data-toc-modified-id=\"US-plot-3.3\"><span class=\"toc-item-num\">3.3&nbsp;&nbsp;</span>US plot</a></span></li></ul></li><li><span><a href=\"#Data\" data-toc-modified-id=\"Data-4\"><span class=\"toc-item-num\">4&nbsp;&nbsp;</span>Data</a></span><ul class=\"toc-item\"><li><span><a href=\"#World\" data-toc-modified-id=\"World-4.1\"><span class=\"toc-item-num\">4.1&nbsp;&nbsp;</span>World</a></span><ul class=\"toc-item\"><li><span><a href=\"#Reading-data\" data-toc-modified-id=\"Reading-data-4.1.1\"><span class=\"toc-item-num\">4.1.1&nbsp;&nbsp;</span>Reading data</a></span></li><li><span><a href=\"#Widgets\" data-toc-modified-id=\"Widgets-4.1.2\"><span class=\"toc-item-num\">4.1.2&nbsp;&nbsp;</span>Widgets</a></span></li><li><span><a href=\"#Plot\" data-toc-modified-id=\"Plot-4.1.3\"><span class=\"toc-item-num\">4.1.3&nbsp;&nbsp;</span>Plot</a></span></li></ul></li><li><span><a href=\"#US\" data-toc-modified-id=\"US-4.2\"><span class=\"toc-item-num\">4.2&nbsp;&nbsp;</span>US</a></span><ul class=\"toc-item\"><li><span><a href=\"#Reading-data\" data-toc-modified-id=\"Reading-data-4.2.1\"><span class=\"toc-item-num\">4.2.1&nbsp;&nbsp;</span>Reading data</a></span></li><li><span><a href=\"#Widgets\" data-toc-modified-id=\"Widgets-4.2.2\"><span class=\"toc-item-num\">4.2.2&nbsp;&nbsp;</span>Widgets</a></span></li><li><span><a href=\"#Plot\" data-toc-modified-id=\"Plot-4.2.3\"><span class=\"toc-item-num\">4.2.3&nbsp;&nbsp;</span>Plot</a></span></li></ul></li></ul></li></ul></div>"
   ]
  },
  {
   "cell_type": "code",
   "execution_count": 1,
   "metadata": {
    "ExecuteTime": {
     "end_time": "2020-04-16T00:45:13.532107Z",
     "start_time": "2020-04-16T00:45:12.962680Z"
    }
   },
   "outputs": [],
   "source": [
    "%matplotlib inline\n",
    "user = 'UF'"
   ]
  },
  {
   "cell_type": "markdown",
   "metadata": {},
   "source": [
    "# Standard "
   ]
  },
  {
   "cell_type": "code",
   "execution_count": 2,
   "metadata": {
    "ExecuteTime": {
     "end_time": "2020-04-16T00:45:18.624412Z",
     "start_time": "2020-04-16T00:45:15.146863Z"
    }
   },
   "outputs": [
    {
     "name": "stdout",
     "output_type": "stream",
     "text": [
      "200415\n"
     ]
    },
    {
     "data": {
      "text/html": [
       "<style>.container { width:70% !important; }</style>"
      ],
      "text/plain": [
       "<IPython.core.display.HTML object>"
      ]
     },
     "execution_count": 2,
     "metadata": {},
     "output_type": "execute_result"
    }
   ],
   "source": [
    "import datetime as dt\n",
    "import pandas as pd\n",
    "import sys\n",
    "import csv\n",
    "import geopandas as gpd\n",
    "import glob\n",
    "import ipywidgets #as widgets\n",
    "import itertools\n",
    "import math\n",
    "import numpy as np\n",
    "import matplotlib.pyplot as plt\n",
    "import seaborn as sns\n",
    "import socket\n",
    "\n",
    "from matplotlib import *\n",
    "from matplotlib.dates import YearLocator, MonthLocator, DateFormatter\n",
    "from matplotlib.dates import *\n",
    "from numpy.random import randn\n",
    "import statsmodels.api as sm\n",
    "\n",
    "from ipywidgets import interact, interactive, fixed, interact_manual, Layout\n",
    "import ipywidgets as widgets\n",
    "\n",
    "import plotly.express as px\n",
    "import plotly.graph_objects as go\n",
    "from plotly.offline import download_plotlyjs, init_notebook_mode, plot, iplot\n",
    "#init_notebook_mode(connected=True)\n",
    "\n",
    "\n",
    "sns.set()\n",
    "\n",
    "import warnings\n",
    "warnings.filterwarnings('ignore')\n",
    "\n",
    "today = dt.datetime.today().strftime(\"%y%m%d\")\n",
    "print(today)\n",
    "\n",
    "from IPython.core.display import HTML\n",
    "HTML(\"<style>.container { width:70% !important; }</style>\")"
   ]
  },
  {
   "cell_type": "code",
   "execution_count": 3,
   "metadata": {
    "ExecuteTime": {
     "end_time": "2020-04-16T00:45:22.075041Z",
     "start_time": "2020-04-16T00:45:22.054582Z"
    }
   },
   "outputs": [
    {
     "name": "stdout",
     "output_type": "stream",
     "text": [
      "UF\n",
      "urbanos-macbook-pro.local\n",
      "Running on the laptop\n",
      "/Users/ufranca/Documents/Data/ /Users/ufranca/Documents/Data/new_datasets/\n",
      "Running on the laptop\n",
      "Running on the laptop\n",
      "\n",
      " /Volumes/Bell/Data/ \n",
      " /Volumes/Bell/Data/ \n",
      " /Users/ufranca/Documents/Dropbox/projects_coding/data_tools/\n"
     ]
    }
   ],
   "source": [
    "if user == 'UF':\n",
    "    print(user)\n",
    "    print(socket.gethostname().lower())\n",
    "\n",
    "    #laptop\n",
    "    if socket.gethostname().lower().startswith('osxlap01664'):#.tch.harvard.edu':\n",
    "        print('Running on the laptop')\n",
    "        address = \"/Users/ufranca/Documents/Data/\"\n",
    "        addressdata = \"/Users/ufranca/Documents/Data/new_datasets/\"\n",
    "        data_tools = \"/Users/ufranca/Documents/Dropbox/projects_coding/data_tools/\"\n",
    "        sys.path.insert(0, '/Users/ufranca/Documents/Dropbox/projects_coding/functions')\n",
    "\n",
    "    elif socket.gethostname().lower().startswith('urbano'):#.tch.harvard.edu':\n",
    "        print('Running on the laptop')\n",
    "    #     address = \"/Users/urbanofranca/Documents/Datasets/\"\n",
    "    #     addressdata = \"/Users/urbanofranca/Documents/Datasets/\"\n",
    "        address = \"/Users/ufranca/Documents/Data/\"\n",
    "        addressdata = \"/Users/ufranca/Documents/Data/new_datasets/\"\n",
    "        data_tools = \"/Users/ufranca/Documents/Dropbox/projects_coding/data_tools/\"\n",
    "        sys.path.insert(0, '/Users/ufranca/Documents/Dropbox/projects_coding/functions')\n",
    "\n",
    "    elif socket.gethostname().lower().startswith('vpn'):#.tch.harvard.edu':\n",
    "        print('Running on the laptop')\n",
    "    #     address = \"/Users/urbanofranca/Documents/Datasets/\"\n",
    "    #     addressdata = \"/Users/urbanofranca/Documents/Datasets/\"\n",
    "        address = \"/Users/ufranca/Documents/Data/\"\n",
    "        addressdata = \"/Users/ufranca/Documents/Data/new_datasets/\"\n",
    "        data_tools = \"/Users/ufranca/Documents/Dropbox/projects_coding/data_tools/\"\n",
    "        sys.path.insert(0, '/Users/ufranca/Documents/Dropbox/projects_coding/functions')\n",
    "\n",
    "        \n",
    "    else:\n",
    "        print('No known computer')\n",
    "\n",
    "    print(address, addressdata)\n",
    "    \n",
    "    \n",
    "    ######################################################\n",
    "    ## it needs to be here to find the right dropbox -> fix this later?\n",
    "    \n",
    "    import functionsuf as fuf\n",
    "    import hospitals as hosp\n",
    "    \n",
    "    external_disk = 'T'\n",
    "\n",
    "    if (external_disk == 'T'):\n",
    "        address = \"/Volumes/Bell/Data/\"\n",
    "        addressdata = \"/Volumes/Bell/Data/\"\n",
    "    else:\n",
    "        address = address\n",
    "        addressdata = addressdata \n",
    "\n",
    "    print('\\n '+ address, '\\n', addressdata, '\\n', data_tools)\n",
    "\n",
    "elif user =='MM':\n",
    "    ## Here I define \n",
    "    #'addressdata', which is the folder where the data is located\n",
    "    # 'data_tools', which is where the data_tools are located\n",
    "    # 'address' is not used anywhere and mostly deprecated\n",
    "    print(user)\n",
    "    \n",
    "    \n",
    "else:\n",
    "    print(\"Define the paths for `address`, `addressdata`, and `data_tools`\")"
   ]
  },
  {
   "cell_type": "markdown",
   "metadata": {},
   "source": [
    "# Date\n",
    "Date of data downloaded from JHU"
   ]
  },
  {
   "cell_type": "code",
   "execution_count": 4,
   "metadata": {
    "ExecuteTime": {
     "end_time": "2020-04-16T00:45:26.379562Z",
     "start_time": "2020-04-16T00:45:26.376600Z"
    }
   },
   "outputs": [],
   "source": [
    "date2 = '0415'"
   ]
  },
  {
   "cell_type": "markdown",
   "metadata": {},
   "source": [
    "# Functions"
   ]
  },
  {
   "cell_type": "markdown",
   "metadata": {},
   "source": [
    "## Phase space"
   ]
  },
  {
   "cell_type": "code",
   "execution_count": 5,
   "metadata": {
    "ExecuteTime": {
     "end_time": "2020-04-16T00:45:27.340962Z",
     "start_time": "2020-04-16T00:45:27.330267Z"
    }
   },
   "outputs": [],
   "source": [
    "def create_phase_space(df, col=\"Country/Region\", ncases=10, time_window=1):\n",
    "    # melt the dates in the dataset\n",
    "    df_melted = df.melt(id_vars=[col], \n",
    "                        var_name=\"Date\", \n",
    "                        value_name=\"Confirmed\")\n",
    "\n",
    "    # changing column types\n",
    "    df_melted['Confirmed'] = df_melted['Confirmed'].astype(float)\n",
    "    df_melted['DateDT'] = pd.to_datetime(df_melted['Date'])\n",
    "    \n",
    "    \n",
    "    # sorting by col & date\n",
    "    df_melted = df_melted.sort_values([col, 'DateDT'])\n",
    "    \n",
    "    # adding dates \n",
    "    df_melted['Days'] = df_melted.index\n",
    "    \n",
    "    #Daily growth\n",
    "    df_melted['DailyGrowth'] = df_melted['Confirmed'].diff()\n",
    "    #df_melted['DotDailyGrowth'] = df_melted['DailyGrowth'].diff()\n",
    "    \n",
    "    max_daily_growth= df_melted.groupby(col)['DailyGrowth'].nlargest(3).reset_index()\n",
    "    max_daily_growth= max_daily_growth.groupby([col])['DailyGrowth'].median().reset_index()\n",
    "    #print(max_daily_growth)\n",
    "    \n",
    "    max_daily_growth.columns=[col, 'MaxDailyGrowth']\n",
    "\n",
    "    df_melted = df_melted.merge(max_daily_growth, on=col, how='outer')\n",
    "    \n",
    "    \n",
    "    \n",
    "    #\n",
    "    df_melted['DailyGrowth_'+str(time_window)+'d'] = round(100*df_melted['DailyGrowth'].rolling(time_window).sum()/ df_melted['Confirmed'], 1)\n",
    "    df_melted['MeanGrowth_'+str(time_window)+'d'] = round(100*df_melted['DailyGrowth'].rolling(time_window).mean()/df_melted['MaxDailyGrowth'], 1)\n",
    "\n",
    "    # just cleaning values when transitioning from one country to another\n",
    "    df_melted['DailyGrowth_'+str(time_window)+'d'] = np.where(df_melted['DailyGrowth_'+str(time_window)+'d'] >= 0, \n",
    "                                                              df_melted['DailyGrowth_'+str(time_window)+'d'], \n",
    "                                                              0)\n",
    "    df_melted['MeanGrowth_'+str(time_window)+'d'] = np.where(df_melted['MeanGrowth_'+str(time_window)+'d'] >= 0, \n",
    "                                                             df_melted['MeanGrowth_'+str(time_window)+'d'], \n",
    "                                                             0)\n",
    "    \n",
    "    # selecting minimum number of cases\n",
    "    df_melted = df_melted[df_melted['Confirmed'] >= ncases]\n",
    "    \n",
    "    \n",
    "    return df_melted\n",
    "    "
   ]
  },
  {
   "cell_type": "markdown",
   "metadata": {},
   "source": [
    "## World plot"
   ]
  },
  {
   "cell_type": "code",
   "execution_count": 6,
   "metadata": {
    "ExecuteTime": {
     "end_time": "2020-04-16T00:45:28.170303Z",
     "start_time": "2020-04-16T00:45:28.161860Z"
    }
   },
   "outputs": [],
   "source": [
    "def plot_phase_space_world(df, title='Deaths', time_window=1, n_cases= 50, country=['All Countries']):\n",
    "        \n",
    "    if country == ('All Countries',):\n",
    "        print('All Countries')\n",
    "        \n",
    "        #### ADD SUM FOR COUNTRIES\n",
    "        \n",
    "        \n",
    "    else:\n",
    "        df = df[df['Country/Region'].isin(country)]\n",
    "\n",
    "        \n",
    "    df_2 = create_phase_space(df, col='Country/Region', ncases=n_cases, time_window=time_window)\n",
    "    \n",
    "    \n",
    "    print(df_2.columns)\n",
    "    \n",
    "    #df_2['Size'] = df_2['Confirmed']*2\n",
    "    \n",
    "    fig = px.scatter(df_2, \n",
    "                  x='MeanGrowth_'+str(time_window)+'d', \n",
    "                  y='DailyGrowth_'+str(time_window)+'d', \n",
    "                  size='Confirmed',\n",
    "                  color='Country/Region', \n",
    "                  title=title+\" - World\",\n",
    "                  hover_data={'Country/Region',\n",
    "                              'Confirmed',\n",
    "                              'Date',\n",
    "                              'DailyGrowth'\n",
    "                             }, #What will be shown in the hover box (besides location) \n",
    "                  labels={'MeanGrowth_'+str(time_window)+'d':'Mean growth over '+str(time_window)+'d compared to max growth ',\n",
    "                          'DailyGrowth_'+str(time_window)+'d': '% cases from last '+str(time_window)+'d ',\n",
    "                          'Country/Region':'Country ', \n",
    "                          'Confirmed':title, \n",
    "                          'DailyGrowth': title+' today ' \n",
    "                         })\n",
    "\n",
    "\n",
    "    fig.update_traces(mode='lines+markers')\n",
    "    \n",
    "    fig.update_yaxes(title_text='Percentage of Total occuring in the last '+str(time_window)+' days (%)',\n",
    "                     rangemode=\"tozero\")\n",
    "    \n",
    "    fig.update_xaxes(title_text='Mean Daily Growth over '+str(time_window)+' previous days compared to Max Daily Growth (%)',\n",
    "                     rangemode=\"tozero\")\n",
    "\n",
    "    \n",
    "    ## Uncomment to see on a separate webpage page at the folder \"webpage\"\n",
    "    #plot(fig, filename=\"webpage/phase_space_world_\"+title.lower()+\"_\"+date2+\".html\")\n",
    "    \n",
    "\n",
    "    fig.show()\n",
    "    \n",
    "    return df_2"
   ]
  },
  {
   "cell_type": "markdown",
   "metadata": {},
   "source": [
    "## US plot"
   ]
  },
  {
   "cell_type": "code",
   "execution_count": 7,
   "metadata": {
    "ExecuteTime": {
     "end_time": "2020-04-16T00:45:28.644344Z",
     "start_time": "2020-04-16T00:45:28.635931Z"
    }
   },
   "outputs": [],
   "source": [
    "def plot_phase_space_US(df, title='Deaths', time_window=10, n_cases= 50, state=['All States']):\n",
    "        \n",
    "    if state == ('All States',):\n",
    "        print('All states')\n",
    "        \n",
    "        #### ADD SUM FOR STATES\n",
    "\n",
    "        \n",
    "        \n",
    "    else:\n",
    "        df = df[df['Province_State'].isin(state)]\n",
    "\n",
    "        \n",
    "    df_2 = create_phase_space(df, col='Province_State', ncases=n_cases, time_window=time_window)\n",
    "    \n",
    "    \n",
    "    #df_2 = df_2[df_2['MeanGrowth_'+str(time_window)+'d'] > 0]\n",
    "    \n",
    "    \n",
    "    fig = px.scatter(df_2, \n",
    "                  x='MeanGrowth_'+str(time_window)+'d', \n",
    "                  y='DailyGrowth_'+str(time_window)+'d', \n",
    "                  size='Confirmed',\n",
    "                  color='Province_State', \n",
    "                  title=title+\" - US\",\n",
    "                  hover_data={'Province_State',\n",
    "                              'Confirmed', \n",
    "                              'Date',\n",
    "                              'DailyGrowth'\n",
    "                             }, #What will be shown in the hover box (besides location) \n",
    "                  labels={'MeanGrowth_'+str(time_window)+'d':'Mean growth over '+str(time_window)+'d compared to max growth ',\n",
    "                          'DailyGrowth_'+str(time_window)+'d': '% cases from last '+str(time_window)+'d ',\n",
    "                          'Province_State':'State ', \n",
    "                          'Confirmed':title,\n",
    "                          'DailyGrowth': title+' today ' ,\n",
    "                         })\n",
    "\n",
    "    fig.update_traces(mode='lines+markers')\n",
    "    \n",
    "    fig.update_yaxes(title_text='Percentage of Total occuring in the last '+str(time_window)+' days (%)',\n",
    "                     rangemode=\"tozero\")\n",
    "    \n",
    "    fig.update_xaxes(title_text='Mean Daily Growth over '+str(time_window)+' previous days compared to Max Daily Growth (%)', \n",
    "                     rangemode=\"tozero\")\n",
    "    \n",
    "    \n",
    "    # Uncomment to see on a separate webpage page at the folder \"webpage\"\n",
    "    #plot(fig, filename=\"webpage/phase_space_us_\"+title.lower()+\"_\"+date2+\".html\")\n",
    "    \n",
    "    fig.show()\n",
    "    \n",
    "    return df_2"
   ]
  },
  {
   "cell_type": "code",
   "execution_count": null,
   "metadata": {},
   "outputs": [],
   "source": []
  },
  {
   "cell_type": "markdown",
   "metadata": {},
   "source": [
    "# Data"
   ]
  },
  {
   "cell_type": "markdown",
   "metadata": {},
   "source": [
    "## World"
   ]
  },
  {
   "cell_type": "markdown",
   "metadata": {},
   "source": [
    "### Reading data"
   ]
  },
  {
   "cell_type": "code",
   "execution_count": 8,
   "metadata": {
    "ExecuteTime": {
     "end_time": "2020-04-16T00:45:30.075478Z",
     "start_time": "2020-04-16T00:45:29.985918Z"
    }
   },
   "outputs": [],
   "source": [
    "daily_cases_global_all = pd.read_csv(date2+'_COVID-19-master_JHU/csse_covid_19_data/csse_covid_19_time_series/time_series_covid19_confirmed_global.csv', \n",
    "                                 dtype=object)\n",
    "daily_cases_global = daily_cases_global_all.drop(columns =['Province/State', 'Lat', 'Long'])\n",
    "\n",
    "daily_deaths_global_all = pd.read_csv(date2+'_COVID-19-master_JHU/csse_covid_19_data/csse_covid_19_time_series/time_series_covid19_deaths_global.csv', \n",
    "                                 dtype=object)\n",
    "daily_deaths_global = daily_deaths_global_all.drop(columns =['Province/State', 'Lat', 'Long'])\n",
    "\n",
    "\n",
    "daily_cases_global[daily_cases_global.columns[1:]] = daily_cases_global[daily_cases_global.columns[1:]].astype(float)\n",
    "daily_deaths_global[daily_deaths_global.columns[1:]] = daily_deaths_global[daily_deaths_global.columns[1:]].astype(float)\n",
    "\n",
    "daily_cases_global = daily_cases_global.groupby('Country/Region').sum().reset_index()\n",
    "daily_deaths_global = daily_deaths_global.groupby('Country/Region').sum().reset_index()"
   ]
  },
  {
   "cell_type": "code",
   "execution_count": 9,
   "metadata": {
    "ExecuteTime": {
     "end_time": "2020-04-16T00:45:30.413541Z",
     "start_time": "2020-04-16T00:45:30.402526Z"
    }
   },
   "outputs": [
    {
     "data": {
      "application/vnd.jupyter.widget-view+json": {
       "model_id": "d1d4f94a37d546d9ac98c6bf942bbace",
       "version_major": 2,
       "version_minor": 0
      },
      "text/plain": [
       "FloatSlider(value=5000.0, continuous_update=False, description='Minimum Number:', max=100000.0, readout_format…"
      ]
     },
     "metadata": {},
     "output_type": "display_data"
    }
   ],
   "source": [
    "min_w = widgets.FloatSlider(\n",
    "    value=5000,\n",
    "    min=0,\n",
    "    max=100000,\n",
    "    step=1000,\n",
    "    description='Minimum Number:',\n",
    "    disabled=False,\n",
    "    continuous_update=False,\n",
    "    orientation='horizontal',\n",
    "    readout=True,\n",
    "    readout_format='.0f',\n",
    ")\n",
    "display(min_w)\n"
   ]
  },
  {
   "cell_type": "code",
   "execution_count": 10,
   "metadata": {
    "ExecuteTime": {
     "end_time": "2020-04-16T00:45:30.845568Z",
     "start_time": "2020-04-16T00:45:30.839727Z"
    }
   },
   "outputs": [],
   "source": [
    "# Select minimum number countries\n",
    "df_cts = daily_cases_global[['Country/Region',daily_cases_global.columns[-1]]]\n",
    "df_cts = df_cts[df_cts[daily_cases_global.columns[-1]].astype(float) > min_w.value]\n",
    "\n",
    "list_countries = ['All Countries']\n",
    "list_countries.extend(sorted(list(df_cts['Country/Region'].unique())))"
   ]
  },
  {
   "cell_type": "markdown",
   "metadata": {},
   "source": [
    "### Widgets"
   ]
  },
  {
   "cell_type": "code",
   "execution_count": 11,
   "metadata": {
    "ExecuteTime": {
     "end_time": "2020-04-16T00:45:31.753418Z",
     "start_time": "2020-04-16T00:45:31.719312Z"
    }
   },
   "outputs": [
    {
     "data": {
      "application/vnd.jupyter.widget-view+json": {
       "model_id": "b1a2dae71ddc4750a93322b3640ec67c",
       "version_major": 2,
       "version_minor": 0
      },
      "text/plain": [
       "SelectMultiple(description='Country:', index=(0, 1, 2, 3, 4, 5, 6, 7, 8, 9, 10, 11, 12, 13, 14, 15, 16, 17, 18…"
      ]
     },
     "metadata": {},
     "output_type": "display_data"
    },
    {
     "data": {
      "application/vnd.jupyter.widget-view+json": {
       "model_id": "ead4ce84412f473a83fffaab4645ed5c",
       "version_major": 2,
       "version_minor": 0
      },
      "text/plain": [
       "ToggleButtons(description='Option:', options=('Confirmed Cases', 'Deaths'), value='Confirmed Cases')"
      ]
     },
     "metadata": {},
     "output_type": "display_data"
    },
    {
     "data": {
      "application/vnd.jupyter.widget-view+json": {
       "model_id": "2ed87eb5b75a444da514bcd637bd997c",
       "version_major": 2,
       "version_minor": 0
      },
      "text/plain": [
       "FloatSlider(value=50.0, continuous_update=False, description='Minimum Number:', readout_format='.0f', step=10.…"
      ]
     },
     "metadata": {},
     "output_type": "display_data"
    },
    {
     "data": {
      "application/vnd.jupyter.widget-view+json": {
       "model_id": "528b1acfaee74856958328e7b00711a6",
       "version_major": 2,
       "version_minor": 0
      },
      "text/plain": [
       "FloatSlider(value=14.0, description='Days Avg:', max=21.0, min=1.0, readout_format='.0f', step=1.0)"
      ]
     },
     "metadata": {},
     "output_type": "display_data"
    }
   ],
   "source": [
    "style = {'description_width': 'initial'}\n",
    "\n",
    "ct_w = widgets.SelectMultiple(\n",
    "    description='Country:',\n",
    "    options=list_countries,\n",
    "    value=list_countries,\n",
    "    layout=Layout(width='20%', height='100px')\n",
    ")\n",
    "display(ct_w)\n",
    "\n",
    "cases_w = widgets.ToggleButtons(\n",
    "    description='Option:',\n",
    "    options=['Confirmed Cases', 'Deaths'],\n",
    ")\n",
    "display(cases_w)\n",
    "\n",
    "min_w = widgets.FloatSlider(\n",
    "    value=50,\n",
    "    min=0,\n",
    "    max=100,\n",
    "    step=10,\n",
    "    description='Minimum Number:',\n",
    "    disabled=False,\n",
    "    continuous_update=False,\n",
    "    orientation='horizontal',\n",
    "    readout=True,\n",
    "    readout_format='.0f',\n",
    ")\n",
    "display(min_w)\n",
    "\n",
    "tw_w = widgets.FloatSlider(\n",
    "    value=14,\n",
    "    min=1,\n",
    "    max=21,\n",
    "    step=1,\n",
    "    description='Days Avg:',\n",
    "    disabled=False,\n",
    "    #continuous_update=False,\n",
    "    orientation='horizontal',\n",
    "    readout=True,\n",
    "    readout_format='.0f',\n",
    ")\n",
    "display(tw_w)\n"
   ]
  },
  {
   "cell_type": "markdown",
   "metadata": {},
   "source": [
    "### Plot"
   ]
  },
  {
   "cell_type": "code",
   "execution_count": 14,
   "metadata": {
    "ExecuteTime": {
     "end_time": "2020-04-16T00:47:26.460705Z",
     "start_time": "2020-04-16T00:47:26.166875Z"
    }
   },
   "outputs": [
    {
     "name": "stdout",
     "output_type": "stream",
     "text": [
      "Index(['Country/Region', 'Date', 'Confirmed', 'DateDT', 'Days', 'DailyGrowth',\n",
      "       'MaxDailyGrowth', 'DailyGrowth_14d', 'MeanGrowth_14d'],\n",
      "      dtype='object')\n"
     ]
    },
    {
     "data": {
      "application/vnd.plotly.v1+json": {
       "config": {
        "plotlyServerURL": "https://plot.ly"
       },
       "data": [
        {
         "customdata": [
          [
           "3/25/20",
           59,
           "Brazil",
           13
          ],
          [
           "3/26/20",
           77,
           "Brazil",
           18
          ],
          [
           "3/27/20",
           92,
           "Brazil",
           15
          ],
          [
           "3/28/20",
           111,
           "Brazil",
           19
          ],
          [
           "3/29/20",
           136,
           "Brazil",
           25
          ],
          [
           "3/30/20",
           159,
           "Brazil",
           23
          ],
          [
           "3/31/20",
           201,
           "Brazil",
           42
          ],
          [
           "4/1/20",
           240,
           "Brazil",
           39
          ],
          [
           "4/2/20",
           324,
           "Brazil",
           84
          ],
          [
           "4/3/20",
           359,
           "Brazil",
           35
          ],
          [
           "4/4/20",
           445,
           "Brazil",
           86
          ],
          [
           "4/5/20",
           486,
           "Brazil",
           41
          ],
          [
           "4/6/20",
           564,
           "Brazil",
           78
          ],
          [
           "4/7/20",
           686,
           "Brazil",
           122
          ],
          [
           "4/8/20",
           819,
           "Brazil",
           133
          ],
          [
           "4/9/20",
           950,
           "Brazil",
           131
          ],
          [
           "4/10/20",
           1057,
           "Brazil",
           107
          ],
          [
           "4/11/20",
           1124,
           "Brazil",
           67
          ],
          [
           "4/12/20",
           1223,
           "Brazil",
           99
          ],
          [
           "4/13/20",
           1328,
           "Brazil",
           105
          ],
          [
           "4/14/20",
           1532,
           "Brazil",
           204
          ],
          [
           "4/15/20",
           1736,
           "Brazil",
           204
          ]
         ],
         "hoverlabel": {
          "namelength": 0
         },
         "hovertemplate": "Country =%{customdata[2]}<br>Mean growth over 14d compared to max growth =%{x}<br>% cases from last 14d =%{y}<br>Deaths=%{customdata[1]}<br>Date=%{customdata[0]}<br>Deaths today =%{customdata[3]}",
         "legendgroup": "Brazil",
         "marker": {
          "color": "#636efa",
          "size": [
           59,
           77,
           92,
           111,
           136,
           159,
           201,
           240,
           324,
           359,
           445,
           486,
           564,
           686,
           819,
           950,
           1057,
           1124,
           1223,
           1328,
           1532,
           1736
          ],
          "sizemode": "area",
          "sizeref": 70.815,
          "symbol": "circle"
         },
         "mode": "lines+markers",
         "name": "Brazil",
         "showlegend": true,
         "type": "scatter",
         "x": [
          2.1,
          2.7,
          3.2,
          3.9,
          4.8,
          5.6,
          7,
          8.3,
          11.1,
          12.2,
          15.1,
          16.1,
          18.6,
          22.4,
          26.6,
          30.6,
          33.8,
          35.5,
          38.1,
          40.9,
          46.6,
          52.4
         ],
         "xaxis": "x",
         "y": [
          100,
          100,
          100,
          100,
          100,
          100,
          99.5,
          98.8,
          98.1,
          96.9,
          96.6,
          94.9,
          94,
          93.3,
          92.8,
          91.9,
          91.3,
          90.1,
          88.9,
          88,
          86.9,
          86.2
         ],
         "yaxis": "y"
        },
        {
         "customdata": [
          [
           "1/26/20",
           56,
           "China",
           14
          ],
          [
           "1/27/20",
           82,
           "China",
           26
          ],
          [
           "1/28/20",
           131,
           "China",
           49
          ],
          [
           "1/29/20",
           133,
           "China",
           2
          ],
          [
           "1/30/20",
           171,
           "China",
           38
          ],
          [
           "1/31/20",
           213,
           "China",
           42
          ],
          [
           "2/1/20",
           259,
           "China",
           46
          ],
          [
           "2/2/20",
           361,
           "China",
           102
          ],
          [
           "2/3/20",
           425,
           "China",
           64
          ],
          [
           "2/4/20",
           491,
           "China",
           66
          ],
          [
           "2/5/20",
           563,
           "China",
           72
          ],
          [
           "2/6/20",
           633,
           "China",
           70
          ],
          [
           "2/7/20",
           718,
           "China",
           85
          ],
          [
           "2/8/20",
           805,
           "China",
           87
          ],
          [
           "2/9/20",
           905,
           "China",
           100
          ],
          [
           "2/10/20",
           1012,
           "China",
           107
          ],
          [
           "2/11/20",
           1112,
           "China",
           100
          ],
          [
           "2/12/20",
           1117,
           "China",
           5
          ],
          [
           "2/13/20",
           1369,
           "China",
           252
          ],
          [
           "2/14/20",
           1521,
           "China",
           152
          ],
          [
           "2/15/20",
           1663,
           "China",
           142
          ],
          [
           "2/16/20",
           1766,
           "China",
           103
          ],
          [
           "2/17/20",
           1864,
           "China",
           98
          ],
          [
           "2/18/20",
           2003,
           "China",
           139
          ],
          [
           "2/19/20",
           2116,
           "China",
           113
          ],
          [
           "2/20/20",
           2238,
           "China",
           122
          ],
          [
           "2/21/20",
           2238,
           "China",
           0
          ],
          [
           "2/22/20",
           2443,
           "China",
           205
          ],
          [
           "2/23/20",
           2445,
           "China",
           2
          ],
          [
           "2/24/20",
           2595,
           "China",
           150
          ],
          [
           "2/25/20",
           2665,
           "China",
           70
          ],
          [
           "2/26/20",
           2717,
           "China",
           52
          ],
          [
           "2/27/20",
           2746,
           "China",
           29
          ],
          [
           "2/28/20",
           2790,
           "China",
           44
          ],
          [
           "2/29/20",
           2837,
           "China",
           47
          ],
          [
           "3/1/20",
           2872,
           "China",
           35
          ],
          [
           "3/2/20",
           2914,
           "China",
           42
          ],
          [
           "3/3/20",
           2947,
           "China",
           33
          ],
          [
           "3/4/20",
           2983,
           "China",
           36
          ],
          [
           "3/5/20",
           3015,
           "China",
           32
          ],
          [
           "3/6/20",
           3044,
           "China",
           29
          ],
          [
           "3/7/20",
           3072,
           "China",
           28
          ],
          [
           "3/8/20",
           3100,
           "China",
           28
          ],
          [
           "3/9/20",
           3123,
           "China",
           23
          ],
          [
           "3/10/20",
           3139,
           "China",
           16
          ],
          [
           "3/11/20",
           3161,
           "China",
           22
          ],
          [
           "3/12/20",
           3172,
           "China",
           11
          ],
          [
           "3/13/20",
           3180,
           "China",
           8
          ],
          [
           "3/14/20",
           3193,
           "China",
           13
          ],
          [
           "3/15/20",
           3203,
           "China",
           10
          ],
          [
           "3/16/20",
           3217,
           "China",
           14
          ],
          [
           "3/17/20",
           3230,
           "China",
           13
          ],
          [
           "3/18/20",
           3241,
           "China",
           11
          ],
          [
           "3/19/20",
           3249,
           "China",
           8
          ],
          [
           "3/20/20",
           3253,
           "China",
           4
          ],
          [
           "3/21/20",
           3259,
           "China",
           6
          ],
          [
           "3/22/20",
           3274,
           "China",
           15
          ],
          [
           "3/23/20",
           3274,
           "China",
           0
          ],
          [
           "3/24/20",
           3281,
           "China",
           7
          ],
          [
           "3/25/20",
           3285,
           "China",
           4
          ],
          [
           "3/26/20",
           3291,
           "China",
           6
          ],
          [
           "3/27/20",
           3296,
           "China",
           5
          ],
          [
           "3/28/20",
           3299,
           "China",
           3
          ],
          [
           "3/29/20",
           3304,
           "China",
           5
          ],
          [
           "3/30/20",
           3308,
           "China",
           4
          ],
          [
           "3/31/20",
           3309,
           "China",
           1
          ],
          [
           "4/1/20",
           3316,
           "China",
           7
          ],
          [
           "4/2/20",
           3322,
           "China",
           6
          ],
          [
           "4/3/20",
           3326,
           "China",
           4
          ],
          [
           "4/4/20",
           3330,
           "China",
           4
          ],
          [
           "4/5/20",
           3333,
           "China",
           3
          ],
          [
           "4/6/20",
           3335,
           "China",
           2
          ],
          [
           "4/7/20",
           3335,
           "China",
           0
          ],
          [
           "4/8/20",
           3337,
           "China",
           2
          ],
          [
           "4/9/20",
           3339,
           "China",
           2
          ],
          [
           "4/10/20",
           3340,
           "China",
           1
          ],
          [
           "4/11/20",
           3343,
           "China",
           3
          ],
          [
           "4/12/20",
           3343,
           "China",
           0
          ],
          [
           "4/13/20",
           3345,
           "China",
           2
          ],
          [
           "4/14/20",
           3345,
           "China",
           0
          ],
          [
           "4/15/20",
           3346,
           "China",
           1
          ]
         ],
         "hoverlabel": {
          "namelength": 0
         },
         "hovertemplate": "Country =%{customdata[2]}<br>Mean growth over 14d compared to max growth =%{x}<br>% cases from last 14d =%{y}<br>Deaths=%{customdata[1]}<br>Date=%{customdata[0]}<br>Deaths today =%{customdata[3]}",
         "legendgroup": "China",
         "marker": {
          "color": "#EF553B",
          "size": [
           56,
           82,
           131,
           133,
           171,
           213,
           259,
           361,
           425,
           491,
           563,
           633,
           718,
           805,
           905,
           1012,
           1112,
           1117,
           1369,
           1521,
           1663,
           1766,
           1864,
           2003,
           2116,
           2238,
           2238,
           2443,
           2445,
           2595,
           2665,
           2717,
           2746,
           2790,
           2837,
           2872,
           2914,
           2947,
           2983,
           3015,
           3044,
           3072,
           3100,
           3123,
           3139,
           3161,
           3172,
           3180,
           3193,
           3203,
           3217,
           3230,
           3241,
           3249,
           3253,
           3259,
           3274,
           3274,
           3281,
           3285,
           3291,
           3296,
           3299,
           3304,
           3308,
           3309,
           3316,
           3322,
           3326,
           3330,
           3333,
           3335,
           3335,
           3337,
           3339,
           3340,
           3343,
           3343,
           3345,
           3345,
           3346
          ],
          "sizemode": "area",
          "sizeref": 70.815,
          "symbol": "circle"
         },
         "mode": "lines+markers",
         "name": "China",
         "showlegend": true,
         "type": "scatter",
         "x": [
          0,
          0,
          0,
          0,
          0,
          0,
          0,
          0,
          0,
          0,
          19,
          21.4,
          24.1,
          26.6,
          29.6,
          32.4,
          34.2,
          34.3,
          41.7,
          45.6,
          48.9,
          49,
          50.1,
          52.7,
          54.1,
          55.9,
          53,
          57.1,
          53.7,
          55.2,
          54.1,
          55.7,
          48,
          44.2,
          40.9,
          38.5,
          36.6,
          32.9,
          30.2,
          27.1,
          28.1,
          21.9,
          22.8,
          18.4,
          16.5,
          15.5,
          14.8,
          13.6,
          12.4,
          11.5,
          10.6,
          9.9,
          9,
          8.2,
          7.3,
          6.5,
          6.1,
          5.3,
          4.9,
          4.3,
          4.1,
          4,
          3.7,
          3.5,
          3.2,
          2.8,
          2.6,
          2.5,
          2.5,
          2.5,
          2.1,
          2.1,
          1.9,
          1.8,
          1.7,
          1.5,
          1.5,
          1.4,
          1.3,
          1.3,
          1
         ],
         "xaxis": "x",
         "y": [
          0,
          0,
          0,
          0,
          0,
          0,
          0,
          0,
          0,
          0,
          97,
          97.2,
          96.4,
          94.8,
          93.8,
          91.9,
          88.2,
          88.1,
          87.5,
          86,
          84.4,
          79.6,
          77.2,
          75.5,
          73.4,
          71.7,
          67.9,
          67,
          63,
          61,
          58.3,
          58.9,
          50.1,
          45.5,
          41.4,
          38.5,
          36,
          32,
          29.1,
          25.8,
          26.5,
          20.5,
          21.1,
          16.9,
          15.1,
          14,
          13.4,
          12.3,
          11.1,
          10.3,
          9.4,
          8.8,
          8,
          7.2,
          6.4,
          5.7,
          5.3,
          4.6,
          4.3,
          3.8,
          3.6,
          3.5,
          3.2,
          3.1,
          2.8,
          2.4,
          2.3,
          2.2,
          2.2,
          2.1,
          1.8,
          1.8,
          1.6,
          1.6,
          1.4,
          1.3,
          1.3,
          1.2,
          1.1,
          1.1,
          0.9
         ],
         "yaxis": "y"
        },
        {
         "customdata": [
          [
           "3/13/20",
           79,
           "France",
           31
          ],
          [
           "3/14/20",
           91,
           "France",
           12
          ],
          [
           "3/15/20",
           91,
           "France",
           0
          ],
          [
           "3/16/20",
           149,
           "France",
           58
          ],
          [
           "3/17/20",
           149,
           "France",
           0
          ],
          [
           "3/18/20",
           149,
           "France",
           0
          ],
          [
           "3/19/20",
           244,
           "France",
           95
          ],
          [
           "3/20/20",
           451,
           "France",
           207
          ],
          [
           "3/21/20",
           563,
           "France",
           112
          ],
          [
           "3/22/20",
           676,
           "France",
           113
          ],
          [
           "3/23/20",
           862,
           "France",
           186
          ],
          [
           "3/24/20",
           1102,
           "France",
           240
          ],
          [
           "3/25/20",
           1333,
           "France",
           231
          ],
          [
           "3/26/20",
           1698,
           "France",
           365
          ],
          [
           "3/27/20",
           1997,
           "France",
           299
          ],
          [
           "3/28/20",
           2317,
           "France",
           320
          ],
          [
           "3/29/20",
           2611,
           "France",
           294
          ],
          [
           "3/30/20",
           3030,
           "France",
           419
          ],
          [
           "3/31/20",
           3532,
           "France",
           502
          ],
          [
           "4/1/20",
           4043,
           "France",
           511
          ],
          [
           "4/2/20",
           5398,
           "France",
           1355
          ],
          [
           "4/3/20",
           6520,
           "France",
           1122
          ],
          [
           "4/4/20",
           7574,
           "France",
           1054
          ],
          [
           "4/5/20",
           8093,
           "France",
           519
          ],
          [
           "4/6/20",
           8926,
           "France",
           833
          ],
          [
           "4/7/20",
           10343,
           "France",
           1417
          ],
          [
           "4/8/20",
           10887,
           "France",
           544
          ],
          [
           "4/9/20",
           12228,
           "France",
           1341
          ],
          [
           "4/10/20",
           13215,
           "France",
           987
          ],
          [
           "4/11/20",
           13851,
           "France",
           636
          ],
          [
           "4/12/20",
           14412,
           "France",
           561
          ],
          [
           "4/13/20",
           14986,
           "France",
           574
          ],
          [
           "4/14/20",
           15748,
           "France",
           762
          ],
          [
           "4/15/20",
           17188,
           "France",
           1440
          ]
         ],
         "hoverlabel": {
          "namelength": 0
         },
         "hovertemplate": "Country =%{customdata[2]}<br>Mean growth over 14d compared to max growth =%{x}<br>% cases from last 14d =%{y}<br>Deaths=%{customdata[1]}<br>Date=%{customdata[0]}<br>Deaths today =%{customdata[3]}",
         "legendgroup": "France",
         "marker": {
          "color": "#00cc96",
          "size": [
           79,
           91,
           91,
           149,
           149,
           149,
           244,
           451,
           563,
           676,
           862,
           1102,
           1333,
           1698,
           1997,
           2317,
           2611,
           3030,
           3532,
           4043,
           5398,
           6520,
           7574,
           8093,
           8926,
           10343,
           10887,
           12228,
           13215,
           13851,
           14412,
           14986,
           15748,
           17188
          ],
          "sizemode": "area",
          "sizeref": 70.815,
          "symbol": "circle"
         },
         "mode": "lines+markers",
         "name": "France",
         "showlegend": true,
         "type": "scatter",
         "x": [
          0.4,
          0.4,
          0.4,
          0.7,
          0.7,
          0.7,
          1.2,
          2.2,
          2.8,
          3.3,
          4.2,
          5.4,
          6.5,
          8.3,
          9.7,
          11.2,
          12.7,
          14.5,
          17.1,
          19.6,
          26,
          30.6,
          35.3,
          37.4,
          40.6,
          46.6,
          48.2,
          53.1,
          56.5,
          58.1,
          59.5,
          60.3,
          61.6,
          66.3
         ],
         "xaxis": "x",
         "y": [
          97.5,
          97.8,
          97.8,
          98,
          97.3,
          97.3,
          97.5,
          98,
          98,
          97.2,
          97.8,
          97,
          96.4,
          97.2,
          96,
          96.1,
          96.5,
          95.1,
          95.8,
          96.3,
          95.5,
          93.1,
          92.6,
          91.6,
          90.3,
          89.3,
          87.8,
          86.1,
          84.9,
          83.3,
          81.9,
          79.8,
          77.6,
          76.5
         ],
         "yaxis": "y"
        },
        {
         "customdata": [
          [
           "3/20/20",
           67,
           "Germany",
           23
          ],
          [
           "3/21/20",
           84,
           "Germany",
           17
          ],
          [
           "3/22/20",
           94,
           "Germany",
           10
          ],
          [
           "3/23/20",
           123,
           "Germany",
           29
          ],
          [
           "3/24/20",
           157,
           "Germany",
           34
          ],
          [
           "3/25/20",
           206,
           "Germany",
           49
          ],
          [
           "3/26/20",
           267,
           "Germany",
           61
          ],
          [
           "3/27/20",
           342,
           "Germany",
           75
          ],
          [
           "3/28/20",
           433,
           "Germany",
           91
          ],
          [
           "3/29/20",
           533,
           "Germany",
           100
          ],
          [
           "3/30/20",
           645,
           "Germany",
           112
          ],
          [
           "3/31/20",
           775,
           "Germany",
           130
          ],
          [
           "4/1/20",
           920,
           "Germany",
           145
          ],
          [
           "4/2/20",
           1107,
           "Germany",
           187
          ],
          [
           "4/3/20",
           1275,
           "Germany",
           168
          ],
          [
           "4/4/20",
           1444,
           "Germany",
           169
          ],
          [
           "4/5/20",
           1584,
           "Germany",
           140
          ],
          [
           "4/6/20",
           1810,
           "Germany",
           226
          ],
          [
           "4/7/20",
           2016,
           "Germany",
           206
          ],
          [
           "4/8/20",
           2349,
           "Germany",
           333
          ],
          [
           "4/9/20",
           2607,
           "Germany",
           258
          ],
          [
           "4/10/20",
           2767,
           "Germany",
           160
          ],
          [
           "4/11/20",
           2736,
           "Germany",
           -31
          ],
          [
           "4/12/20",
           3022,
           "Germany",
           286
          ],
          [
           "4/13/20",
           3194,
           "Germany",
           172
          ],
          [
           "4/14/20",
           3294,
           "Germany",
           100
          ],
          [
           "4/15/20",
           3804,
           "Germany",
           510
          ]
         ],
         "hoverlabel": {
          "namelength": 0
         },
         "hovertemplate": "Country =%{customdata[2]}<br>Mean growth over 14d compared to max growth =%{x}<br>% cases from last 14d =%{y}<br>Deaths=%{customdata[1]}<br>Date=%{customdata[0]}<br>Deaths today =%{customdata[3]}",
         "legendgroup": "Germany",
         "marker": {
          "color": "#ab63fa",
          "size": [
           67,
           84,
           94,
           123,
           157,
           206,
           267,
           342,
           433,
           533,
           645,
           775,
           920,
           1107,
           1275,
           1444,
           1584,
           1810,
           2016,
           2349,
           2607,
           2767,
           2736,
           3022,
           3194,
           3294,
           3804
          ],
          "sizemode": "area",
          "sizeref": 70.815,
          "symbol": "circle"
         },
         "mode": "lines+markers",
         "name": "Germany",
         "showlegend": true,
         "type": "scatter",
         "x": [
          1.4,
          1.8,
          2,
          2.6,
          3.3,
          4.4,
          5.7,
          7.2,
          9.1,
          11.2,
          13.5,
          16.1,
          19.1,
          22.8,
          25.9,
          29.2,
          32,
          36.2,
          39.9,
          46,
          50.2,
          52,
          49.4,
          53.4,
          54.7,
          54,
          61.9
         ],
         "xaxis": "x",
         "y": [
          100,
          100,
          100,
          98.4,
          98.7,
          98.5,
          98.9,
          98,
          97.9,
          97.9,
          97.4,
          96.9,
          97,
          96,
          94.7,
          94.2,
          94.1,
          93.2,
          92.2,
          91.2,
          89.8,
          87.6,
          84.2,
          82.4,
          79.8,
          76.5,
          75.8
         ],
         "yaxis": "y"
        },
        {
         "customdata": [
          [
           "3/2/20",
           52,
           "Italy",
           18
          ],
          [
           "3/3/20",
           79,
           "Italy",
           27
          ],
          [
           "3/4/20",
           107,
           "Italy",
           28
          ],
          [
           "3/5/20",
           148,
           "Italy",
           41
          ],
          [
           "3/6/20",
           197,
           "Italy",
           49
          ],
          [
           "3/7/20",
           233,
           "Italy",
           36
          ],
          [
           "3/8/20",
           366,
           "Italy",
           133
          ],
          [
           "3/9/20",
           463,
           "Italy",
           97
          ],
          [
           "3/10/20",
           631,
           "Italy",
           168
          ],
          [
           "3/11/20",
           827,
           "Italy",
           196
          ],
          [
           "3/12/20",
           827,
           "Italy",
           0
          ],
          [
           "3/13/20",
           1266,
           "Italy",
           439
          ],
          [
           "3/14/20",
           1441,
           "Italy",
           175
          ],
          [
           "3/15/20",
           1809,
           "Italy",
           368
          ],
          [
           "3/16/20",
           2158,
           "Italy",
           349
          ],
          [
           "3/17/20",
           2503,
           "Italy",
           345
          ],
          [
           "3/18/20",
           2978,
           "Italy",
           475
          ],
          [
           "3/19/20",
           3405,
           "Italy",
           427
          ],
          [
           "3/20/20",
           4032,
           "Italy",
           627
          ],
          [
           "3/21/20",
           4825,
           "Italy",
           793
          ],
          [
           "3/22/20",
           5476,
           "Italy",
           651
          ],
          [
           "3/23/20",
           6077,
           "Italy",
           601
          ],
          [
           "3/24/20",
           6820,
           "Italy",
           743
          ],
          [
           "3/25/20",
           7503,
           "Italy",
           683
          ],
          [
           "3/26/20",
           8215,
           "Italy",
           712
          ],
          [
           "3/27/20",
           9134,
           "Italy",
           919
          ],
          [
           "3/28/20",
           10023,
           "Italy",
           889
          ],
          [
           "3/29/20",
           10779,
           "Italy",
           756
          ],
          [
           "3/30/20",
           11591,
           "Italy",
           812
          ],
          [
           "3/31/20",
           12428,
           "Italy",
           837
          ],
          [
           "4/1/20",
           13155,
           "Italy",
           727
          ],
          [
           "4/2/20",
           13915,
           "Italy",
           760
          ],
          [
           "4/3/20",
           14681,
           "Italy",
           766
          ],
          [
           "4/4/20",
           15362,
           "Italy",
           681
          ],
          [
           "4/5/20",
           15887,
           "Italy",
           525
          ],
          [
           "4/6/20",
           16523,
           "Italy",
           636
          ],
          [
           "4/7/20",
           17127,
           "Italy",
           604
          ],
          [
           "4/8/20",
           17669,
           "Italy",
           542
          ],
          [
           "4/9/20",
           18279,
           "Italy",
           610
          ],
          [
           "4/10/20",
           18849,
           "Italy",
           570
          ],
          [
           "4/11/20",
           19468,
           "Italy",
           619
          ],
          [
           "4/12/20",
           19899,
           "Italy",
           431
          ],
          [
           "4/13/20",
           20465,
           "Italy",
           566
          ],
          [
           "4/14/20",
           21067,
           "Italy",
           602
          ],
          [
           "4/15/20",
           21645,
           "Italy",
           578
          ]
         ],
         "hoverlabel": {
          "namelength": 0
         },
         "hovertemplate": "Country =%{customdata[2]}<br>Mean growth over 14d compared to max growth =%{x}<br>% cases from last 14d =%{y}<br>Deaths=%{customdata[1]}<br>Date=%{customdata[0]}<br>Deaths today =%{customdata[3]}",
         "legendgroup": "Italy",
         "marker": {
          "color": "#FFA15A",
          "size": [
           52,
           79,
           107,
           148,
           197,
           233,
           366,
           463,
           631,
           827,
           827,
           1266,
           1441,
           1809,
           2158,
           2503,
           2978,
           3405,
           4032,
           4825,
           5476,
           6077,
           6820,
           7503,
           8215,
           9134,
           10023,
           10779,
           11591,
           12428,
           13155,
           13915,
           14681,
           15362,
           15887,
           16523,
           17127,
           17669,
           18279,
           18849,
           19468,
           19899,
           20465,
           21067,
           21645
          ],
          "sizemode": "area",
          "sizeref": 70.815,
          "symbol": "circle"
         },
         "mode": "lines+markers",
         "name": "Italy",
         "showlegend": true,
         "type": "scatter",
         "x": [
          0.4,
          0.6,
          0.9,
          1.2,
          1.6,
          1.9,
          2.9,
          3.7,
          5,
          6.5,
          6.5,
          10,
          11.3,
          14.3,
          16.9,
          19.5,
          23.1,
          26.2,
          30.8,
          36.9,
          41.1,
          45.1,
          49.7,
          53.6,
          59.4,
          63.2,
          69,
          72.1,
          75.8,
          79.7,
          81.8,
          84.4,
          85.6,
          84.7,
          83.6,
          83.9,
          82.8,
          81.7,
          80.9,
          78.1,
          75.9,
          73.3,
          71.3,
          69.4,
          68.2
         ],
         "xaxis": "x",
         "y": [
          100,
          100,
          100,
          100,
          99.5,
          99.1,
          99.2,
          98.5,
          98.4,
          98.5,
          97.9,
          98.3,
          98,
          98.1,
          97.6,
          96.8,
          96.4,
          95.7,
          95.1,
          95.2,
          93.3,
          92.4,
          90.7,
          89,
          89.9,
          86.1,
          85.6,
          83.2,
          81.4,
          79.9,
          77.4,
          75.5,
          72.5,
          68.6,
          65.5,
          63.2,
          60.2,
          57.5,
          55.1,
          51.5,
          48.5,
          45.8,
          43.4,
          41,
          39.2
         ],
         "yaxis": "y"
        },
        {
         "customdata": [
          [
           "4/3/20",
           50,
           "Mexico",
           13
          ],
          [
           "4/4/20",
           60,
           "Mexico",
           10
          ],
          [
           "4/5/20",
           79,
           "Mexico",
           19
          ],
          [
           "4/6/20",
           94,
           "Mexico",
           15
          ],
          [
           "4/7/20",
           125,
           "Mexico",
           31
          ],
          [
           "4/8/20",
           141,
           "Mexico",
           16
          ],
          [
           "4/9/20",
           174,
           "Mexico",
           33
          ],
          [
           "4/10/20",
           194,
           "Mexico",
           20
          ],
          [
           "4/11/20",
           233,
           "Mexico",
           39
          ],
          [
           "4/12/20",
           273,
           "Mexico",
           40
          ],
          [
           "4/13/20",
           296,
           "Mexico",
           23
          ],
          [
           "4/14/20",
           332,
           "Mexico",
           36
          ],
          [
           "4/15/20",
           406,
           "Mexico",
           74
          ]
         ],
         "hoverlabel": {
          "namelength": 0
         },
         "hovertemplate": "Country =%{customdata[2]}<br>Mean growth over 14d compared to max growth =%{x}<br>% cases from last 14d =%{y}<br>Deaths=%{customdata[1]}<br>Date=%{customdata[0]}<br>Deaths today =%{customdata[3]}",
         "legendgroup": "Mexico",
         "marker": {
          "color": "#19d3f3",
          "size": [
           50,
           60,
           79,
           94,
           125,
           141,
           174,
           194,
           233,
           273,
           296,
           332,
           406
          ],
          "sizemode": "area",
          "sizeref": 70.815,
          "symbol": "circle"
         },
         "mode": "lines+markers",
         "name": "Mexico",
         "showlegend": true,
         "type": "scatter",
         "x": [
          8.8,
          10.4,
          13.8,
          16.2,
          21.6,
          24.3,
          30,
          33.2,
          39.5,
          45.9,
          49.3,
          54.3,
          67.3
         ],
         "xaxis": "x",
         "y": [
          98,
          96.7,
          97.5,
          96.8,
          96.8,
          96.5,
          96.6,
          95.9,
          94.8,
          94.1,
          93.2,
          91.6,
          92.9
         ],
         "yaxis": "y"
        },
        {
         "customdata": [
          [
           "4/7/20",
           58,
           "Russia",
           11
          ],
          [
           "4/8/20",
           63,
           "Russia",
           5
          ],
          [
           "4/9/20",
           76,
           "Russia",
           13
          ],
          [
           "4/10/20",
           94,
           "Russia",
           18
          ],
          [
           "4/11/20",
           106,
           "Russia",
           12
          ],
          [
           "4/12/20",
           130,
           "Russia",
           24
          ],
          [
           "4/13/20",
           148,
           "Russia",
           18
          ],
          [
           "4/14/20",
           170,
           "Russia",
           22
          ],
          [
           "4/15/20",
           198,
           "Russia",
           28
          ]
         ],
         "hoverlabel": {
          "namelength": 0
         },
         "hovertemplate": "Country =%{customdata[2]}<br>Mean growth over 14d compared to max growth =%{x}<br>% cases from last 14d =%{y}<br>Deaths=%{customdata[1]}<br>Date=%{customdata[0]}<br>Deaths today =%{customdata[3]}",
         "legendgroup": "Russia",
         "marker": {
          "color": "#FF6692",
          "size": [
           58,
           63,
           76,
           94,
           106,
           130,
           148,
           170,
           198
          ],
          "sizemode": "area",
          "sizeref": 70.815,
          "symbol": "circle"
         },
         "mode": "lines+markers",
         "name": "Russia",
         "showlegend": true,
         "type": "scatter",
         "x": [
          17,
          17.9,
          21.7,
          26.8,
          30.4,
          36.3,
          41.4,
          45.5,
          51.8
         ],
         "xaxis": "x",
         "y": [
          98.3,
          95.2,
          96.1,
          95.7,
          96.2,
          93.8,
          93.9,
          90,
          87.9
         ],
         "yaxis": "y"
        },
        {
         "customdata": [
          [
           "3/11/20",
           54,
           "Spain",
           19
          ],
          [
           "3/12/20",
           55,
           "Spain",
           1
          ],
          [
           "3/13/20",
           133,
           "Spain",
           78
          ],
          [
           "3/14/20",
           195,
           "Spain",
           62
          ],
          [
           "3/15/20",
           289,
           "Spain",
           94
          ],
          [
           "3/16/20",
           342,
           "Spain",
           53
          ],
          [
           "3/17/20",
           533,
           "Spain",
           191
          ],
          [
           "3/18/20",
           623,
           "Spain",
           90
          ],
          [
           "3/19/20",
           830,
           "Spain",
           207
          ],
          [
           "3/20/20",
           1043,
           "Spain",
           213
          ],
          [
           "3/21/20",
           1375,
           "Spain",
           332
          ],
          [
           "3/22/20",
           1772,
           "Spain",
           397
          ],
          [
           "3/23/20",
           2311,
           "Spain",
           539
          ],
          [
           "3/24/20",
           2808,
           "Spain",
           497
          ],
          [
           "3/25/20",
           3647,
           "Spain",
           839
          ],
          [
           "3/26/20",
           4365,
           "Spain",
           718
          ],
          [
           "3/27/20",
           5138,
           "Spain",
           773
          ],
          [
           "3/28/20",
           5982,
           "Spain",
           844
          ],
          [
           "3/29/20",
           6803,
           "Spain",
           821
          ],
          [
           "3/30/20",
           7716,
           "Spain",
           913
          ],
          [
           "3/31/20",
           8464,
           "Spain",
           748
          ],
          [
           "4/1/20",
           9387,
           "Spain",
           923
          ],
          [
           "4/2/20",
           10348,
           "Spain",
           961
          ],
          [
           "4/3/20",
           11198,
           "Spain",
           850
          ],
          [
           "4/4/20",
           11947,
           "Spain",
           749
          ],
          [
           "4/5/20",
           12641,
           "Spain",
           694
          ],
          [
           "4/6/20",
           13341,
           "Spain",
           700
          ],
          [
           "4/7/20",
           14045,
           "Spain",
           704
          ],
          [
           "4/8/20",
           14792,
           "Spain",
           747
          ],
          [
           "4/9/20",
           15447,
           "Spain",
           655
          ],
          [
           "4/10/20",
           16081,
           "Spain",
           634
          ],
          [
           "4/11/20",
           16606,
           "Spain",
           525
          ],
          [
           "4/12/20",
           17209,
           "Spain",
           603
          ],
          [
           "4/13/20",
           17756,
           "Spain",
           547
          ],
          [
           "4/14/20",
           18056,
           "Spain",
           300
          ],
          [
           "4/15/20",
           18708,
           "Spain",
           652
          ]
         ],
         "hoverlabel": {
          "namelength": 0
         },
         "hovertemplate": "Country =%{customdata[2]}<br>Mean growth over 14d compared to max growth =%{x}<br>% cases from last 14d =%{y}<br>Deaths=%{customdata[1]}<br>Date=%{customdata[0]}<br>Deaths today =%{customdata[3]}",
         "legendgroup": "Spain",
         "marker": {
          "color": "#B6E880",
          "size": [
           54,
           55,
           133,
           195,
           289,
           342,
           533,
           623,
           830,
           1043,
           1375,
           1772,
           2311,
           2808,
           3647,
           4365,
           5138,
           5982,
           6803,
           7716,
           8464,
           9387,
           10348,
           11198,
           11947,
           12641,
           13341,
           14045,
           14792,
           15447,
           16081,
           16606,
           17209,
           17756,
           18056,
           18708
          ],
          "sizemode": "area",
          "sizeref": 70.815,
          "symbol": "circle"
         },
         "mode": "lines+markers",
         "name": "Spain",
         "showlegend": true,
         "type": "scatter",
         "x": [
          0.4,
          0.4,
          1,
          1.5,
          2.2,
          2.6,
          4.1,
          4.8,
          6.4,
          8,
          10.6,
          13.6,
          17.7,
          21.5,
          27.8,
          33.4,
          38.7,
          44.8,
          50.4,
          57.1,
          61.4,
          67.8,
          73.7,
          78.6,
          81.8,
          84.1,
          85.4,
          87,
          86.2,
          85.8,
          84.7,
          82.2,
          80.5,
          77.7,
          74.2,
          72.1
         ],
         "xaxis": "x",
         "y": [
          100,
          100,
          100,
          100,
          100,
          100,
          99.8,
          99.7,
          99.6,
          99.5,
          99.3,
          99,
          98.8,
          98.8,
          98.5,
          98.7,
          97.4,
          96.7,
          95.8,
          95.6,
          93.7,
          93.4,
          92,
          90.7,
          88.5,
          86,
          82.7,
          80,
          75.3,
          71.7,
          68,
          64,
          60.5,
          56.5,
          53.1,
          49.8
         ],
         "yaxis": "y"
        },
        {
         "customdata": [
          [
           "3/25/20",
           62,
           "Sweden",
           26
          ],
          [
           "3/26/20",
           77,
           "Sweden",
           15
          ],
          [
           "3/27/20",
           105,
           "Sweden",
           28
          ],
          [
           "3/28/20",
           105,
           "Sweden",
           0
          ],
          [
           "3/29/20",
           110,
           "Sweden",
           5
          ],
          [
           "3/30/20",
           146,
           "Sweden",
           36
          ],
          [
           "3/31/20",
           180,
           "Sweden",
           34
          ],
          [
           "4/1/20",
           239,
           "Sweden",
           59
          ],
          [
           "4/2/20",
           308,
           "Sweden",
           69
          ],
          [
           "4/3/20",
           358,
           "Sweden",
           50
          ],
          [
           "4/4/20",
           373,
           "Sweden",
           15
          ],
          [
           "4/5/20",
           401,
           "Sweden",
           28
          ],
          [
           "4/6/20",
           477,
           "Sweden",
           76
          ],
          [
           "4/7/20",
           591,
           "Sweden",
           114
          ],
          [
           "4/8/20",
           687,
           "Sweden",
           96
          ],
          [
           "4/9/20",
           793,
           "Sweden",
           106
          ],
          [
           "4/10/20",
           870,
           "Sweden",
           77
          ],
          [
           "4/11/20",
           887,
           "Sweden",
           17
          ],
          [
           "4/12/20",
           899,
           "Sweden",
           12
          ],
          [
           "4/13/20",
           919,
           "Sweden",
           20
          ],
          [
           "4/14/20",
           1033,
           "Sweden",
           114
          ],
          [
           "4/15/20",
           1203,
           "Sweden",
           170
          ]
         ],
         "hoverlabel": {
          "namelength": 0
         },
         "hovertemplate": "Country =%{customdata[2]}<br>Mean growth over 14d compared to max growth =%{x}<br>% cases from last 14d =%{y}<br>Deaths=%{customdata[1]}<br>Date=%{customdata[0]}<br>Deaths today =%{customdata[3]}",
         "legendgroup": "Sweden",
         "marker": {
          "color": "#FF97FF",
          "size": [
           62,
           77,
           105,
           105,
           110,
           146,
           180,
           239,
           308,
           358,
           373,
           401,
           477,
           591,
           687,
           793,
           870,
           887,
           899,
           919,
           1033,
           1203
          ],
          "sizemode": "area",
          "sizeref": 70.815,
          "symbol": "circle"
         },
         "mode": "lines+markers",
         "name": "Sweden",
         "showlegend": true,
         "type": "scatter",
         "x": [
          3.8,
          4.8,
          6.5,
          6.5,
          6.7,
          8.8,
          10.8,
          14.3,
          18.6,
          21.4,
          22.1,
          23.8,
          28.3,
          34.8,
          39.2,
          44.9,
          47.9,
          49,
          49.4,
          48.4,
          53.4,
          60.4
         ],
         "xaxis": "x",
         "y": [
          98.4,
          98.7,
          99,
          98.1,
          97.3,
          95.9,
          96.1,
          95.8,
          96.4,
          95.5,
          94.6,
          94.8,
          94.8,
          93.9,
          91,
          90.3,
          87.9,
          88.2,
          87.8,
          84.1,
          82.6,
          80.1
         ],
         "yaxis": "y"
        },
        {
         "customdata": [
          [
           "3/14/20",
           54,
           "US",
           7
          ],
          [
           "3/15/20",
           63,
           "US",
           9
          ],
          [
           "3/16/20",
           85,
           "US",
           22
          ],
          [
           "3/17/20",
           108,
           "US",
           23
          ],
          [
           "3/18/20",
           118,
           "US",
           10
          ],
          [
           "3/19/20",
           200,
           "US",
           82
          ],
          [
           "3/20/20",
           244,
           "US",
           44
          ],
          [
           "3/21/20",
           307,
           "US",
           63
          ],
          [
           "3/22/20",
           417,
           "US",
           110
          ],
          [
           "3/23/20",
           557,
           "US",
           140
          ],
          [
           "3/24/20",
           706,
           "US",
           149
          ],
          [
           "3/25/20",
           942,
           "US",
           236
          ],
          [
           "3/26/20",
           1209,
           "US",
           267
          ],
          [
           "3/27/20",
           1581,
           "US",
           372
          ],
          [
           "3/28/20",
           2026,
           "US",
           445
          ],
          [
           "3/29/20",
           2467,
           "US",
           441
          ],
          [
           "3/30/20",
           2978,
           "US",
           511
          ],
          [
           "3/31/20",
           3873,
           "US",
           895
          ],
          [
           "4/1/20",
           4757,
           "US",
           884
          ],
          [
           "4/2/20",
           5926,
           "US",
           1169
          ],
          [
           "4/3/20",
           7087,
           "US",
           1161
          ],
          [
           "4/4/20",
           8407,
           "US",
           1320
          ],
          [
           "4/5/20",
           9619,
           "US",
           1212
          ],
          [
           "4/6/20",
           10783,
           "US",
           1164
          ],
          [
           "4/7/20",
           12722,
           "US",
           1939
          ],
          [
           "4/8/20",
           14695,
           "US",
           1973
          ],
          [
           "4/9/20",
           16478,
           "US",
           1783
          ],
          [
           "4/10/20",
           18586,
           "US",
           2108
          ],
          [
           "4/11/20",
           20463,
           "US",
           1877
          ],
          [
           "4/12/20",
           22020,
           "US",
           1557
          ],
          [
           "4/13/20",
           23529,
           "US",
           1509
          ],
          [
           "4/14/20",
           25832,
           "US",
           2303
          ],
          [
           "4/15/20",
           28326,
           "US",
           2494
          ]
         ],
         "hoverlabel": {
          "namelength": 0
         },
         "hovertemplate": "Country =%{customdata[2]}<br>Mean growth over 14d compared to max growth =%{x}<br>% cases from last 14d =%{y}<br>Deaths=%{customdata[1]}<br>Date=%{customdata[0]}<br>Deaths today =%{customdata[3]}",
         "legendgroup": "US",
         "marker": {
          "color": "#FECB52",
          "size": [
           54,
           63,
           85,
           108,
           118,
           200,
           244,
           307,
           417,
           557,
           706,
           942,
           1209,
           1581,
           2026,
           2467,
           2978,
           3873,
           4757,
           5926,
           7087,
           8407,
           9619,
           10783,
           12722,
           14695,
           16478,
           18586,
           20463,
           22020,
           23529,
           25832,
           28326
          ],
          "sizemode": "area",
          "sizeref": 70.815,
          "symbol": "circle"
         },
         "mode": "lines+markers",
         "name": "US",
         "showlegend": true,
         "type": "scatter",
         "x": [
          0.2,
          0.2,
          0.2,
          0.3,
          0.3,
          0.6,
          0.7,
          0.9,
          1.2,
          1.7,
          2.1,
          2.8,
          3.6,
          4.8,
          6.1,
          7.5,
          9,
          11.7,
          14.4,
          17.8,
          21.2,
          25.1,
          28.5,
          31.7,
          37.3,
          42.7,
          47.4,
          52.7,
          57.2,
          60.6,
          63.7,
          68.1,
          73.1
         ],
         "xaxis": "x",
         "y": [
          98.1,
          98.4,
          92.9,
          93.5,
          90.7,
          94,
          94.3,
          94.5,
          95,
          96.1,
          96,
          96.2,
          96.7,
          97,
          97.3,
          97.4,
          97.1,
          97.2,
          97.5,
          96.6,
          96.6,
          96.3,
          95.7,
          94.8,
          94.5,
          93.6,
          92.7,
          91.5,
          90.1,
          88.8,
          87.3,
          85,
          83.2
         ],
         "yaxis": "y"
        }
       ],
       "layout": {
        "legend": {
         "itemsizing": "constant",
         "title": {
          "text": "Country "
         },
         "tracegroupgap": 0
        },
        "template": {
         "data": {
          "bar": [
           {
            "error_x": {
             "color": "#2a3f5f"
            },
            "error_y": {
             "color": "#2a3f5f"
            },
            "marker": {
             "line": {
              "color": "#E5ECF6",
              "width": 0.5
             }
            },
            "type": "bar"
           }
          ],
          "barpolar": [
           {
            "marker": {
             "line": {
              "color": "#E5ECF6",
              "width": 0.5
             }
            },
            "type": "barpolar"
           }
          ],
          "carpet": [
           {
            "aaxis": {
             "endlinecolor": "#2a3f5f",
             "gridcolor": "white",
             "linecolor": "white",
             "minorgridcolor": "white",
             "startlinecolor": "#2a3f5f"
            },
            "baxis": {
             "endlinecolor": "#2a3f5f",
             "gridcolor": "white",
             "linecolor": "white",
             "minorgridcolor": "white",
             "startlinecolor": "#2a3f5f"
            },
            "type": "carpet"
           }
          ],
          "choropleth": [
           {
            "colorbar": {
             "outlinewidth": 0,
             "ticks": ""
            },
            "type": "choropleth"
           }
          ],
          "contour": [
           {
            "colorbar": {
             "outlinewidth": 0,
             "ticks": ""
            },
            "colorscale": [
             [
              0,
              "#0d0887"
             ],
             [
              0.1111111111111111,
              "#46039f"
             ],
             [
              0.2222222222222222,
              "#7201a8"
             ],
             [
              0.3333333333333333,
              "#9c179e"
             ],
             [
              0.4444444444444444,
              "#bd3786"
             ],
             [
              0.5555555555555556,
              "#d8576b"
             ],
             [
              0.6666666666666666,
              "#ed7953"
             ],
             [
              0.7777777777777778,
              "#fb9f3a"
             ],
             [
              0.8888888888888888,
              "#fdca26"
             ],
             [
              1,
              "#f0f921"
             ]
            ],
            "type": "contour"
           }
          ],
          "contourcarpet": [
           {
            "colorbar": {
             "outlinewidth": 0,
             "ticks": ""
            },
            "type": "contourcarpet"
           }
          ],
          "heatmap": [
           {
            "colorbar": {
             "outlinewidth": 0,
             "ticks": ""
            },
            "colorscale": [
             [
              0,
              "#0d0887"
             ],
             [
              0.1111111111111111,
              "#46039f"
             ],
             [
              0.2222222222222222,
              "#7201a8"
             ],
             [
              0.3333333333333333,
              "#9c179e"
             ],
             [
              0.4444444444444444,
              "#bd3786"
             ],
             [
              0.5555555555555556,
              "#d8576b"
             ],
             [
              0.6666666666666666,
              "#ed7953"
             ],
             [
              0.7777777777777778,
              "#fb9f3a"
             ],
             [
              0.8888888888888888,
              "#fdca26"
             ],
             [
              1,
              "#f0f921"
             ]
            ],
            "type": "heatmap"
           }
          ],
          "heatmapgl": [
           {
            "colorbar": {
             "outlinewidth": 0,
             "ticks": ""
            },
            "colorscale": [
             [
              0,
              "#0d0887"
             ],
             [
              0.1111111111111111,
              "#46039f"
             ],
             [
              0.2222222222222222,
              "#7201a8"
             ],
             [
              0.3333333333333333,
              "#9c179e"
             ],
             [
              0.4444444444444444,
              "#bd3786"
             ],
             [
              0.5555555555555556,
              "#d8576b"
             ],
             [
              0.6666666666666666,
              "#ed7953"
             ],
             [
              0.7777777777777778,
              "#fb9f3a"
             ],
             [
              0.8888888888888888,
              "#fdca26"
             ],
             [
              1,
              "#f0f921"
             ]
            ],
            "type": "heatmapgl"
           }
          ],
          "histogram": [
           {
            "marker": {
             "colorbar": {
              "outlinewidth": 0,
              "ticks": ""
             }
            },
            "type": "histogram"
           }
          ],
          "histogram2d": [
           {
            "colorbar": {
             "outlinewidth": 0,
             "ticks": ""
            },
            "colorscale": [
             [
              0,
              "#0d0887"
             ],
             [
              0.1111111111111111,
              "#46039f"
             ],
             [
              0.2222222222222222,
              "#7201a8"
             ],
             [
              0.3333333333333333,
              "#9c179e"
             ],
             [
              0.4444444444444444,
              "#bd3786"
             ],
             [
              0.5555555555555556,
              "#d8576b"
             ],
             [
              0.6666666666666666,
              "#ed7953"
             ],
             [
              0.7777777777777778,
              "#fb9f3a"
             ],
             [
              0.8888888888888888,
              "#fdca26"
             ],
             [
              1,
              "#f0f921"
             ]
            ],
            "type": "histogram2d"
           }
          ],
          "histogram2dcontour": [
           {
            "colorbar": {
             "outlinewidth": 0,
             "ticks": ""
            },
            "colorscale": [
             [
              0,
              "#0d0887"
             ],
             [
              0.1111111111111111,
              "#46039f"
             ],
             [
              0.2222222222222222,
              "#7201a8"
             ],
             [
              0.3333333333333333,
              "#9c179e"
             ],
             [
              0.4444444444444444,
              "#bd3786"
             ],
             [
              0.5555555555555556,
              "#d8576b"
             ],
             [
              0.6666666666666666,
              "#ed7953"
             ],
             [
              0.7777777777777778,
              "#fb9f3a"
             ],
             [
              0.8888888888888888,
              "#fdca26"
             ],
             [
              1,
              "#f0f921"
             ]
            ],
            "type": "histogram2dcontour"
           }
          ],
          "mesh3d": [
           {
            "colorbar": {
             "outlinewidth": 0,
             "ticks": ""
            },
            "type": "mesh3d"
           }
          ],
          "parcoords": [
           {
            "line": {
             "colorbar": {
              "outlinewidth": 0,
              "ticks": ""
             }
            },
            "type": "parcoords"
           }
          ],
          "pie": [
           {
            "automargin": true,
            "type": "pie"
           }
          ],
          "scatter": [
           {
            "marker": {
             "colorbar": {
              "outlinewidth": 0,
              "ticks": ""
             }
            },
            "type": "scatter"
           }
          ],
          "scatter3d": [
           {
            "line": {
             "colorbar": {
              "outlinewidth": 0,
              "ticks": ""
             }
            },
            "marker": {
             "colorbar": {
              "outlinewidth": 0,
              "ticks": ""
             }
            },
            "type": "scatter3d"
           }
          ],
          "scattercarpet": [
           {
            "marker": {
             "colorbar": {
              "outlinewidth": 0,
              "ticks": ""
             }
            },
            "type": "scattercarpet"
           }
          ],
          "scattergeo": [
           {
            "marker": {
             "colorbar": {
              "outlinewidth": 0,
              "ticks": ""
             }
            },
            "type": "scattergeo"
           }
          ],
          "scattergl": [
           {
            "marker": {
             "colorbar": {
              "outlinewidth": 0,
              "ticks": ""
             }
            },
            "type": "scattergl"
           }
          ],
          "scattermapbox": [
           {
            "marker": {
             "colorbar": {
              "outlinewidth": 0,
              "ticks": ""
             }
            },
            "type": "scattermapbox"
           }
          ],
          "scatterpolar": [
           {
            "marker": {
             "colorbar": {
              "outlinewidth": 0,
              "ticks": ""
             }
            },
            "type": "scatterpolar"
           }
          ],
          "scatterpolargl": [
           {
            "marker": {
             "colorbar": {
              "outlinewidth": 0,
              "ticks": ""
             }
            },
            "type": "scatterpolargl"
           }
          ],
          "scatterternary": [
           {
            "marker": {
             "colorbar": {
              "outlinewidth": 0,
              "ticks": ""
             }
            },
            "type": "scatterternary"
           }
          ],
          "surface": [
           {
            "colorbar": {
             "outlinewidth": 0,
             "ticks": ""
            },
            "colorscale": [
             [
              0,
              "#0d0887"
             ],
             [
              0.1111111111111111,
              "#46039f"
             ],
             [
              0.2222222222222222,
              "#7201a8"
             ],
             [
              0.3333333333333333,
              "#9c179e"
             ],
             [
              0.4444444444444444,
              "#bd3786"
             ],
             [
              0.5555555555555556,
              "#d8576b"
             ],
             [
              0.6666666666666666,
              "#ed7953"
             ],
             [
              0.7777777777777778,
              "#fb9f3a"
             ],
             [
              0.8888888888888888,
              "#fdca26"
             ],
             [
              1,
              "#f0f921"
             ]
            ],
            "type": "surface"
           }
          ],
          "table": [
           {
            "cells": {
             "fill": {
              "color": "#EBF0F8"
             },
             "line": {
              "color": "white"
             }
            },
            "header": {
             "fill": {
              "color": "#C8D4E3"
             },
             "line": {
              "color": "white"
             }
            },
            "type": "table"
           }
          ]
         },
         "layout": {
          "annotationdefaults": {
           "arrowcolor": "#2a3f5f",
           "arrowhead": 0,
           "arrowwidth": 1
          },
          "coloraxis": {
           "colorbar": {
            "outlinewidth": 0,
            "ticks": ""
           }
          },
          "colorscale": {
           "diverging": [
            [
             0,
             "#8e0152"
            ],
            [
             0.1,
             "#c51b7d"
            ],
            [
             0.2,
             "#de77ae"
            ],
            [
             0.3,
             "#f1b6da"
            ],
            [
             0.4,
             "#fde0ef"
            ],
            [
             0.5,
             "#f7f7f7"
            ],
            [
             0.6,
             "#e6f5d0"
            ],
            [
             0.7,
             "#b8e186"
            ],
            [
             0.8,
             "#7fbc41"
            ],
            [
             0.9,
             "#4d9221"
            ],
            [
             1,
             "#276419"
            ]
           ],
           "sequential": [
            [
             0,
             "#0d0887"
            ],
            [
             0.1111111111111111,
             "#46039f"
            ],
            [
             0.2222222222222222,
             "#7201a8"
            ],
            [
             0.3333333333333333,
             "#9c179e"
            ],
            [
             0.4444444444444444,
             "#bd3786"
            ],
            [
             0.5555555555555556,
             "#d8576b"
            ],
            [
             0.6666666666666666,
             "#ed7953"
            ],
            [
             0.7777777777777778,
             "#fb9f3a"
            ],
            [
             0.8888888888888888,
             "#fdca26"
            ],
            [
             1,
             "#f0f921"
            ]
           ],
           "sequentialminus": [
            [
             0,
             "#0d0887"
            ],
            [
             0.1111111111111111,
             "#46039f"
            ],
            [
             0.2222222222222222,
             "#7201a8"
            ],
            [
             0.3333333333333333,
             "#9c179e"
            ],
            [
             0.4444444444444444,
             "#bd3786"
            ],
            [
             0.5555555555555556,
             "#d8576b"
            ],
            [
             0.6666666666666666,
             "#ed7953"
            ],
            [
             0.7777777777777778,
             "#fb9f3a"
            ],
            [
             0.8888888888888888,
             "#fdca26"
            ],
            [
             1,
             "#f0f921"
            ]
           ]
          },
          "colorway": [
           "#636efa",
           "#EF553B",
           "#00cc96",
           "#ab63fa",
           "#FFA15A",
           "#19d3f3",
           "#FF6692",
           "#B6E880",
           "#FF97FF",
           "#FECB52"
          ],
          "font": {
           "color": "#2a3f5f"
          },
          "geo": {
           "bgcolor": "white",
           "lakecolor": "white",
           "landcolor": "#E5ECF6",
           "showlakes": true,
           "showland": true,
           "subunitcolor": "white"
          },
          "hoverlabel": {
           "align": "left"
          },
          "hovermode": "closest",
          "mapbox": {
           "style": "light"
          },
          "paper_bgcolor": "white",
          "plot_bgcolor": "#E5ECF6",
          "polar": {
           "angularaxis": {
            "gridcolor": "white",
            "linecolor": "white",
            "ticks": ""
           },
           "bgcolor": "#E5ECF6",
           "radialaxis": {
            "gridcolor": "white",
            "linecolor": "white",
            "ticks": ""
           }
          },
          "scene": {
           "xaxis": {
            "backgroundcolor": "#E5ECF6",
            "gridcolor": "white",
            "gridwidth": 2,
            "linecolor": "white",
            "showbackground": true,
            "ticks": "",
            "zerolinecolor": "white"
           },
           "yaxis": {
            "backgroundcolor": "#E5ECF6",
            "gridcolor": "white",
            "gridwidth": 2,
            "linecolor": "white",
            "showbackground": true,
            "ticks": "",
            "zerolinecolor": "white"
           },
           "zaxis": {
            "backgroundcolor": "#E5ECF6",
            "gridcolor": "white",
            "gridwidth": 2,
            "linecolor": "white",
            "showbackground": true,
            "ticks": "",
            "zerolinecolor": "white"
           }
          },
          "shapedefaults": {
           "line": {
            "color": "#2a3f5f"
           }
          },
          "ternary": {
           "aaxis": {
            "gridcolor": "white",
            "linecolor": "white",
            "ticks": ""
           },
           "baxis": {
            "gridcolor": "white",
            "linecolor": "white",
            "ticks": ""
           },
           "bgcolor": "#E5ECF6",
           "caxis": {
            "gridcolor": "white",
            "linecolor": "white",
            "ticks": ""
           }
          },
          "title": {
           "x": 0.05
          },
          "xaxis": {
           "automargin": true,
           "gridcolor": "white",
           "linecolor": "white",
           "ticks": "",
           "title": {
            "standoff": 15
           },
           "zerolinecolor": "white",
           "zerolinewidth": 2
          },
          "yaxis": {
           "automargin": true,
           "gridcolor": "white",
           "linecolor": "white",
           "ticks": "",
           "title": {
            "standoff": 15
           },
           "zerolinecolor": "white",
           "zerolinewidth": 2
          }
         }
        },
        "title": {
         "text": "Deaths - World"
        },
        "xaxis": {
         "anchor": "y",
         "domain": [
          0,
          1
         ],
         "rangemode": "tozero",
         "title": {
          "text": "Mean Daily Growth over 14 previous days compared to Max Daily Growth (%)"
         }
        },
        "yaxis": {
         "anchor": "x",
         "domain": [
          0,
          1
         ],
         "rangemode": "tozero",
         "title": {
          "text": "Percentage of Total occuring in the last 14 days (%)"
         }
        }
       }
      },
      "text/html": [
       "<div>\n",
       "        \n",
       "        \n",
       "            <div id=\"9e2a48df-a36a-439d-88dc-85998282428e\" class=\"plotly-graph-div\" style=\"height:525px; width:100%;\"></div>\n",
       "            <script type=\"text/javascript\">\n",
       "                require([\"plotly\"], function(Plotly) {\n",
       "                    window.PLOTLYENV=window.PLOTLYENV || {};\n",
       "                    \n",
       "                if (document.getElementById(\"9e2a48df-a36a-439d-88dc-85998282428e\")) {\n",
       "                    Plotly.newPlot(\n",
       "                        '9e2a48df-a36a-439d-88dc-85998282428e',\n",
       "                        [{\"customdata\": [[\"3/25/20\", 59.0, \"Brazil\", 13.0], [\"3/26/20\", 77.0, \"Brazil\", 18.0], [\"3/27/20\", 92.0, \"Brazil\", 15.0], [\"3/28/20\", 111.0, \"Brazil\", 19.0], [\"3/29/20\", 136.0, \"Brazil\", 25.0], [\"3/30/20\", 159.0, \"Brazil\", 23.0], [\"3/31/20\", 201.0, \"Brazil\", 42.0], [\"4/1/20\", 240.0, \"Brazil\", 39.0], [\"4/2/20\", 324.0, \"Brazil\", 84.0], [\"4/3/20\", 359.0, \"Brazil\", 35.0], [\"4/4/20\", 445.0, \"Brazil\", 86.0], [\"4/5/20\", 486.0, \"Brazil\", 41.0], [\"4/6/20\", 564.0, \"Brazil\", 78.0], [\"4/7/20\", 686.0, \"Brazil\", 122.0], [\"4/8/20\", 819.0, \"Brazil\", 133.0], [\"4/9/20\", 950.0, \"Brazil\", 131.0], [\"4/10/20\", 1057.0, \"Brazil\", 107.0], [\"4/11/20\", 1124.0, \"Brazil\", 67.0], [\"4/12/20\", 1223.0, \"Brazil\", 99.0], [\"4/13/20\", 1328.0, \"Brazil\", 105.0], [\"4/14/20\", 1532.0, \"Brazil\", 204.0], [\"4/15/20\", 1736.0, \"Brazil\", 204.0]], \"hoverlabel\": {\"namelength\": 0}, \"hovertemplate\": \"Country =%{customdata[2]}<br>Mean growth over 14d compared to max growth =%{x}<br>% cases from last 14d =%{y}<br>Deaths=%{customdata[1]}<br>Date=%{customdata[0]}<br>Deaths today =%{customdata[3]}\", \"legendgroup\": \"Brazil\", \"marker\": {\"color\": \"#636efa\", \"size\": [59.0, 77.0, 92.0, 111.0, 136.0, 159.0, 201.0, 240.0, 324.0, 359.0, 445.0, 486.0, 564.0, 686.0, 819.0, 950.0, 1057.0, 1124.0, 1223.0, 1328.0, 1532.0, 1736.0], \"sizemode\": \"area\", \"sizeref\": 70.815, \"symbol\": \"circle\"}, \"mode\": \"lines+markers\", \"name\": \"Brazil\", \"showlegend\": true, \"type\": \"scatter\", \"x\": [2.1, 2.7, 3.2, 3.9, 4.8, 5.6, 7.0, 8.3, 11.1, 12.2, 15.1, 16.1, 18.6, 22.4, 26.6, 30.6, 33.8, 35.5, 38.1, 40.9, 46.6, 52.4], \"xaxis\": \"x\", \"y\": [100.0, 100.0, 100.0, 100.0, 100.0, 100.0, 99.5, 98.8, 98.1, 96.9, 96.6, 94.9, 94.0, 93.3, 92.8, 91.9, 91.3, 90.1, 88.9, 88.0, 86.9, 86.2], \"yaxis\": \"y\"}, {\"customdata\": [[\"1/26/20\", 56.0, \"China\", 14.0], [\"1/27/20\", 82.0, \"China\", 26.0], [\"1/28/20\", 131.0, \"China\", 49.0], [\"1/29/20\", 133.0, \"China\", 2.0], [\"1/30/20\", 171.0, \"China\", 38.0], [\"1/31/20\", 213.0, \"China\", 42.0], [\"2/1/20\", 259.0, \"China\", 46.0], [\"2/2/20\", 361.0, \"China\", 102.0], [\"2/3/20\", 425.0, \"China\", 64.0], [\"2/4/20\", 491.0, \"China\", 66.0], [\"2/5/20\", 563.0, \"China\", 72.0], [\"2/6/20\", 633.0, \"China\", 70.0], [\"2/7/20\", 718.0, \"China\", 85.0], [\"2/8/20\", 805.0, \"China\", 87.0], [\"2/9/20\", 905.0, \"China\", 100.0], [\"2/10/20\", 1012.0, \"China\", 107.0], [\"2/11/20\", 1112.0, \"China\", 100.0], [\"2/12/20\", 1117.0, \"China\", 5.0], [\"2/13/20\", 1369.0, \"China\", 252.0], [\"2/14/20\", 1521.0, \"China\", 152.0], [\"2/15/20\", 1663.0, \"China\", 142.0], [\"2/16/20\", 1766.0, \"China\", 103.0], [\"2/17/20\", 1864.0, \"China\", 98.0], [\"2/18/20\", 2003.0, \"China\", 139.0], [\"2/19/20\", 2116.0, \"China\", 113.0], [\"2/20/20\", 2238.0, \"China\", 122.0], [\"2/21/20\", 2238.0, \"China\", 0.0], [\"2/22/20\", 2443.0, \"China\", 205.0], [\"2/23/20\", 2445.0, \"China\", 2.0], [\"2/24/20\", 2595.0, \"China\", 150.0], [\"2/25/20\", 2665.0, \"China\", 70.0], [\"2/26/20\", 2717.0, \"China\", 52.0], [\"2/27/20\", 2746.0, \"China\", 29.0], [\"2/28/20\", 2790.0, \"China\", 44.0], [\"2/29/20\", 2837.0, \"China\", 47.0], [\"3/1/20\", 2872.0, \"China\", 35.0], [\"3/2/20\", 2914.0, \"China\", 42.0], [\"3/3/20\", 2947.0, \"China\", 33.0], [\"3/4/20\", 2983.0, \"China\", 36.0], [\"3/5/20\", 3015.0, \"China\", 32.0], [\"3/6/20\", 3044.0, \"China\", 29.0], [\"3/7/20\", 3072.0, \"China\", 28.0], [\"3/8/20\", 3100.0, \"China\", 28.0], [\"3/9/20\", 3123.0, \"China\", 23.0], [\"3/10/20\", 3139.0, \"China\", 16.0], [\"3/11/20\", 3161.0, \"China\", 22.0], [\"3/12/20\", 3172.0, \"China\", 11.0], [\"3/13/20\", 3180.0, \"China\", 8.0], [\"3/14/20\", 3193.0, \"China\", 13.0], [\"3/15/20\", 3203.0, \"China\", 10.0], [\"3/16/20\", 3217.0, \"China\", 14.0], [\"3/17/20\", 3230.0, \"China\", 13.0], [\"3/18/20\", 3241.0, \"China\", 11.0], [\"3/19/20\", 3249.0, \"China\", 8.0], [\"3/20/20\", 3253.0, \"China\", 4.0], [\"3/21/20\", 3259.0, \"China\", 6.0], [\"3/22/20\", 3274.0, \"China\", 15.0], [\"3/23/20\", 3274.0, \"China\", 0.0], [\"3/24/20\", 3281.0, \"China\", 7.0], [\"3/25/20\", 3285.0, \"China\", 4.0], [\"3/26/20\", 3291.0, \"China\", 6.0], [\"3/27/20\", 3296.0, \"China\", 5.0], [\"3/28/20\", 3299.0, \"China\", 3.0], [\"3/29/20\", 3304.0, \"China\", 5.0], [\"3/30/20\", 3308.0, \"China\", 4.0], [\"3/31/20\", 3309.0, \"China\", 1.0], [\"4/1/20\", 3316.0, \"China\", 7.0], [\"4/2/20\", 3322.0, \"China\", 6.0], [\"4/3/20\", 3326.0, \"China\", 4.0], [\"4/4/20\", 3330.0, \"China\", 4.0], [\"4/5/20\", 3333.0, \"China\", 3.0], [\"4/6/20\", 3335.0, \"China\", 2.0], [\"4/7/20\", 3335.0, \"China\", 0.0], [\"4/8/20\", 3337.0, \"China\", 2.0], [\"4/9/20\", 3339.0, \"China\", 2.0], [\"4/10/20\", 3340.0, \"China\", 1.0], [\"4/11/20\", 3343.0, \"China\", 3.0], [\"4/12/20\", 3343.0, \"China\", 0.0], [\"4/13/20\", 3345.0, \"China\", 2.0], [\"4/14/20\", 3345.0, \"China\", 0.0], [\"4/15/20\", 3346.0, \"China\", 1.0]], \"hoverlabel\": {\"namelength\": 0}, \"hovertemplate\": \"Country =%{customdata[2]}<br>Mean growth over 14d compared to max growth =%{x}<br>% cases from last 14d =%{y}<br>Deaths=%{customdata[1]}<br>Date=%{customdata[0]}<br>Deaths today =%{customdata[3]}\", \"legendgroup\": \"China\", \"marker\": {\"color\": \"#EF553B\", \"size\": [56.0, 82.0, 131.0, 133.0, 171.0, 213.0, 259.0, 361.0, 425.0, 491.0, 563.0, 633.0, 718.0, 805.0, 905.0, 1012.0, 1112.0, 1117.0, 1369.0, 1521.0, 1663.0, 1766.0, 1864.0, 2003.0, 2116.0, 2238.0, 2238.0, 2443.0, 2445.0, 2595.0, 2665.0, 2717.0, 2746.0, 2790.0, 2837.0, 2872.0, 2914.0, 2947.0, 2983.0, 3015.0, 3044.0, 3072.0, 3100.0, 3123.0, 3139.0, 3161.0, 3172.0, 3180.0, 3193.0, 3203.0, 3217.0, 3230.0, 3241.0, 3249.0, 3253.0, 3259.0, 3274.0, 3274.0, 3281.0, 3285.0, 3291.0, 3296.0, 3299.0, 3304.0, 3308.0, 3309.0, 3316.0, 3322.0, 3326.0, 3330.0, 3333.0, 3335.0, 3335.0, 3337.0, 3339.0, 3340.0, 3343.0, 3343.0, 3345.0, 3345.0, 3346.0], \"sizemode\": \"area\", \"sizeref\": 70.815, \"symbol\": \"circle\"}, \"mode\": \"lines+markers\", \"name\": \"China\", \"showlegend\": true, \"type\": \"scatter\", \"x\": [0.0, 0.0, 0.0, 0.0, 0.0, 0.0, 0.0, 0.0, 0.0, 0.0, 19.0, 21.4, 24.1, 26.6, 29.6, 32.4, 34.2, 34.3, 41.7, 45.6, 48.9, 49.0, 50.1, 52.7, 54.1, 55.9, 53.0, 57.1, 53.7, 55.2, 54.1, 55.7, 48.0, 44.2, 40.9, 38.5, 36.6, 32.9, 30.2, 27.1, 28.1, 21.9, 22.8, 18.4, 16.5, 15.5, 14.8, 13.6, 12.4, 11.5, 10.6, 9.9, 9.0, 8.2, 7.3, 6.5, 6.1, 5.3, 4.9, 4.3, 4.1, 4.0, 3.7, 3.5, 3.2, 2.8, 2.6, 2.5, 2.5, 2.5, 2.1, 2.1, 1.9, 1.8, 1.7, 1.5, 1.5, 1.4, 1.3, 1.3, 1.0], \"xaxis\": \"x\", \"y\": [0.0, 0.0, 0.0, 0.0, 0.0, 0.0, 0.0, 0.0, 0.0, 0.0, 97.0, 97.2, 96.4, 94.8, 93.8, 91.9, 88.2, 88.1, 87.5, 86.0, 84.4, 79.6, 77.2, 75.5, 73.4, 71.7, 67.9, 67.0, 63.0, 61.0, 58.3, 58.9, 50.1, 45.5, 41.4, 38.5, 36.0, 32.0, 29.1, 25.8, 26.5, 20.5, 21.1, 16.9, 15.1, 14.0, 13.4, 12.3, 11.1, 10.3, 9.4, 8.8, 8.0, 7.2, 6.4, 5.7, 5.3, 4.6, 4.3, 3.8, 3.6, 3.5, 3.2, 3.1, 2.8, 2.4, 2.3, 2.2, 2.2, 2.1, 1.8, 1.8, 1.6, 1.6, 1.4, 1.3, 1.3, 1.2, 1.1, 1.1, 0.9], \"yaxis\": \"y\"}, {\"customdata\": [[\"3/13/20\", 79.0, \"France\", 31.0], [\"3/14/20\", 91.0, \"France\", 12.0], [\"3/15/20\", 91.0, \"France\", 0.0], [\"3/16/20\", 149.0, \"France\", 58.0], [\"3/17/20\", 149.0, \"France\", 0.0], [\"3/18/20\", 149.0, \"France\", 0.0], [\"3/19/20\", 244.0, \"France\", 95.0], [\"3/20/20\", 451.0, \"France\", 207.0], [\"3/21/20\", 563.0, \"France\", 112.0], [\"3/22/20\", 676.0, \"France\", 113.0], [\"3/23/20\", 862.0, \"France\", 186.0], [\"3/24/20\", 1102.0, \"France\", 240.0], [\"3/25/20\", 1333.0, \"France\", 231.0], [\"3/26/20\", 1698.0, \"France\", 365.0], [\"3/27/20\", 1997.0, \"France\", 299.0], [\"3/28/20\", 2317.0, \"France\", 320.0], [\"3/29/20\", 2611.0, \"France\", 294.0], [\"3/30/20\", 3030.0, \"France\", 419.0], [\"3/31/20\", 3532.0, \"France\", 502.0], [\"4/1/20\", 4043.0, \"France\", 511.0], [\"4/2/20\", 5398.0, \"France\", 1355.0], [\"4/3/20\", 6520.0, \"France\", 1122.0], [\"4/4/20\", 7574.0, \"France\", 1054.0], [\"4/5/20\", 8093.0, \"France\", 519.0], [\"4/6/20\", 8926.0, \"France\", 833.0], [\"4/7/20\", 10343.0, \"France\", 1417.0], [\"4/8/20\", 10887.0, \"France\", 544.0], [\"4/9/20\", 12228.0, \"France\", 1341.0], [\"4/10/20\", 13215.0, \"France\", 987.0], [\"4/11/20\", 13851.0, \"France\", 636.0], [\"4/12/20\", 14412.0, \"France\", 561.0], [\"4/13/20\", 14986.0, \"France\", 574.0], [\"4/14/20\", 15748.0, \"France\", 762.0], [\"4/15/20\", 17188.0, \"France\", 1440.0]], \"hoverlabel\": {\"namelength\": 0}, \"hovertemplate\": \"Country =%{customdata[2]}<br>Mean growth over 14d compared to max growth =%{x}<br>% cases from last 14d =%{y}<br>Deaths=%{customdata[1]}<br>Date=%{customdata[0]}<br>Deaths today =%{customdata[3]}\", \"legendgroup\": \"France\", \"marker\": {\"color\": \"#00cc96\", \"size\": [79.0, 91.0, 91.0, 149.0, 149.0, 149.0, 244.0, 451.0, 563.0, 676.0, 862.0, 1102.0, 1333.0, 1698.0, 1997.0, 2317.0, 2611.0, 3030.0, 3532.0, 4043.0, 5398.0, 6520.0, 7574.0, 8093.0, 8926.0, 10343.0, 10887.0, 12228.0, 13215.0, 13851.0, 14412.0, 14986.0, 15748.0, 17188.0], \"sizemode\": \"area\", \"sizeref\": 70.815, \"symbol\": \"circle\"}, \"mode\": \"lines+markers\", \"name\": \"France\", \"showlegend\": true, \"type\": \"scatter\", \"x\": [0.4, 0.4, 0.4, 0.7, 0.7, 0.7, 1.2, 2.2, 2.8, 3.3, 4.2, 5.4, 6.5, 8.3, 9.7, 11.2, 12.7, 14.5, 17.1, 19.6, 26.0, 30.6, 35.3, 37.4, 40.6, 46.6, 48.2, 53.1, 56.5, 58.1, 59.5, 60.3, 61.6, 66.3], \"xaxis\": \"x\", \"y\": [97.5, 97.8, 97.8, 98.0, 97.3, 97.3, 97.5, 98.0, 98.0, 97.2, 97.8, 97.0, 96.4, 97.2, 96.0, 96.1, 96.5, 95.1, 95.8, 96.3, 95.5, 93.1, 92.6, 91.6, 90.3, 89.3, 87.8, 86.1, 84.9, 83.3, 81.9, 79.8, 77.6, 76.5], \"yaxis\": \"y\"}, {\"customdata\": [[\"3/20/20\", 67.0, \"Germany\", 23.0], [\"3/21/20\", 84.0, \"Germany\", 17.0], [\"3/22/20\", 94.0, \"Germany\", 10.0], [\"3/23/20\", 123.0, \"Germany\", 29.0], [\"3/24/20\", 157.0, \"Germany\", 34.0], [\"3/25/20\", 206.0, \"Germany\", 49.0], [\"3/26/20\", 267.0, \"Germany\", 61.0], [\"3/27/20\", 342.0, \"Germany\", 75.0], [\"3/28/20\", 433.0, \"Germany\", 91.0], [\"3/29/20\", 533.0, \"Germany\", 100.0], [\"3/30/20\", 645.0, \"Germany\", 112.0], [\"3/31/20\", 775.0, \"Germany\", 130.0], [\"4/1/20\", 920.0, \"Germany\", 145.0], [\"4/2/20\", 1107.0, \"Germany\", 187.0], [\"4/3/20\", 1275.0, \"Germany\", 168.0], [\"4/4/20\", 1444.0, \"Germany\", 169.0], [\"4/5/20\", 1584.0, \"Germany\", 140.0], [\"4/6/20\", 1810.0, \"Germany\", 226.0], [\"4/7/20\", 2016.0, \"Germany\", 206.0], [\"4/8/20\", 2349.0, \"Germany\", 333.0], [\"4/9/20\", 2607.0, \"Germany\", 258.0], [\"4/10/20\", 2767.0, \"Germany\", 160.0], [\"4/11/20\", 2736.0, \"Germany\", -31.0], [\"4/12/20\", 3022.0, \"Germany\", 286.0], [\"4/13/20\", 3194.0, \"Germany\", 172.0], [\"4/14/20\", 3294.0, \"Germany\", 100.0], [\"4/15/20\", 3804.0, \"Germany\", 510.0]], \"hoverlabel\": {\"namelength\": 0}, \"hovertemplate\": \"Country =%{customdata[2]}<br>Mean growth over 14d compared to max growth =%{x}<br>% cases from last 14d =%{y}<br>Deaths=%{customdata[1]}<br>Date=%{customdata[0]}<br>Deaths today =%{customdata[3]}\", \"legendgroup\": \"Germany\", \"marker\": {\"color\": \"#ab63fa\", \"size\": [67.0, 84.0, 94.0, 123.0, 157.0, 206.0, 267.0, 342.0, 433.0, 533.0, 645.0, 775.0, 920.0, 1107.0, 1275.0, 1444.0, 1584.0, 1810.0, 2016.0, 2349.0, 2607.0, 2767.0, 2736.0, 3022.0, 3194.0, 3294.0, 3804.0], \"sizemode\": \"area\", \"sizeref\": 70.815, \"symbol\": \"circle\"}, \"mode\": \"lines+markers\", \"name\": \"Germany\", \"showlegend\": true, \"type\": \"scatter\", \"x\": [1.4, 1.8, 2.0, 2.6, 3.3, 4.4, 5.7, 7.2, 9.1, 11.2, 13.5, 16.1, 19.1, 22.8, 25.9, 29.2, 32.0, 36.2, 39.9, 46.0, 50.2, 52.0, 49.4, 53.4, 54.7, 54.0, 61.9], \"xaxis\": \"x\", \"y\": [100.0, 100.0, 100.0, 98.4, 98.7, 98.5, 98.9, 98.0, 97.9, 97.9, 97.4, 96.9, 97.0, 96.0, 94.7, 94.2, 94.1, 93.2, 92.2, 91.2, 89.8, 87.6, 84.2, 82.4, 79.8, 76.5, 75.8], \"yaxis\": \"y\"}, {\"customdata\": [[\"3/2/20\", 52.0, \"Italy\", 18.0], [\"3/3/20\", 79.0, \"Italy\", 27.0], [\"3/4/20\", 107.0, \"Italy\", 28.0], [\"3/5/20\", 148.0, \"Italy\", 41.0], [\"3/6/20\", 197.0, \"Italy\", 49.0], [\"3/7/20\", 233.0, \"Italy\", 36.0], [\"3/8/20\", 366.0, \"Italy\", 133.0], [\"3/9/20\", 463.0, \"Italy\", 97.0], [\"3/10/20\", 631.0, \"Italy\", 168.0], [\"3/11/20\", 827.0, \"Italy\", 196.0], [\"3/12/20\", 827.0, \"Italy\", 0.0], [\"3/13/20\", 1266.0, \"Italy\", 439.0], [\"3/14/20\", 1441.0, \"Italy\", 175.0], [\"3/15/20\", 1809.0, \"Italy\", 368.0], [\"3/16/20\", 2158.0, \"Italy\", 349.0], [\"3/17/20\", 2503.0, \"Italy\", 345.0], [\"3/18/20\", 2978.0, \"Italy\", 475.0], [\"3/19/20\", 3405.0, \"Italy\", 427.0], [\"3/20/20\", 4032.0, \"Italy\", 627.0], [\"3/21/20\", 4825.0, \"Italy\", 793.0], [\"3/22/20\", 5476.0, \"Italy\", 651.0], [\"3/23/20\", 6077.0, \"Italy\", 601.0], [\"3/24/20\", 6820.0, \"Italy\", 743.0], [\"3/25/20\", 7503.0, \"Italy\", 683.0], [\"3/26/20\", 8215.0, \"Italy\", 712.0], [\"3/27/20\", 9134.0, \"Italy\", 919.0], [\"3/28/20\", 10023.0, \"Italy\", 889.0], [\"3/29/20\", 10779.0, \"Italy\", 756.0], [\"3/30/20\", 11591.0, \"Italy\", 812.0], [\"3/31/20\", 12428.0, \"Italy\", 837.0], [\"4/1/20\", 13155.0, \"Italy\", 727.0], [\"4/2/20\", 13915.0, \"Italy\", 760.0], [\"4/3/20\", 14681.0, \"Italy\", 766.0], [\"4/4/20\", 15362.0, \"Italy\", 681.0], [\"4/5/20\", 15887.0, \"Italy\", 525.0], [\"4/6/20\", 16523.0, \"Italy\", 636.0], [\"4/7/20\", 17127.0, \"Italy\", 604.0], [\"4/8/20\", 17669.0, \"Italy\", 542.0], [\"4/9/20\", 18279.0, \"Italy\", 610.0], [\"4/10/20\", 18849.0, \"Italy\", 570.0], [\"4/11/20\", 19468.0, \"Italy\", 619.0], [\"4/12/20\", 19899.0, \"Italy\", 431.0], [\"4/13/20\", 20465.0, \"Italy\", 566.0], [\"4/14/20\", 21067.0, \"Italy\", 602.0], [\"4/15/20\", 21645.0, \"Italy\", 578.0]], \"hoverlabel\": {\"namelength\": 0}, \"hovertemplate\": \"Country =%{customdata[2]}<br>Mean growth over 14d compared to max growth =%{x}<br>% cases from last 14d =%{y}<br>Deaths=%{customdata[1]}<br>Date=%{customdata[0]}<br>Deaths today =%{customdata[3]}\", \"legendgroup\": \"Italy\", \"marker\": {\"color\": \"#FFA15A\", \"size\": [52.0, 79.0, 107.0, 148.0, 197.0, 233.0, 366.0, 463.0, 631.0, 827.0, 827.0, 1266.0, 1441.0, 1809.0, 2158.0, 2503.0, 2978.0, 3405.0, 4032.0, 4825.0, 5476.0, 6077.0, 6820.0, 7503.0, 8215.0, 9134.0, 10023.0, 10779.0, 11591.0, 12428.0, 13155.0, 13915.0, 14681.0, 15362.0, 15887.0, 16523.0, 17127.0, 17669.0, 18279.0, 18849.0, 19468.0, 19899.0, 20465.0, 21067.0, 21645.0], \"sizemode\": \"area\", \"sizeref\": 70.815, \"symbol\": \"circle\"}, \"mode\": \"lines+markers\", \"name\": \"Italy\", \"showlegend\": true, \"type\": \"scatter\", \"x\": [0.4, 0.6, 0.9, 1.2, 1.6, 1.9, 2.9, 3.7, 5.0, 6.5, 6.5, 10.0, 11.3, 14.3, 16.9, 19.5, 23.1, 26.2, 30.8, 36.9, 41.1, 45.1, 49.7, 53.6, 59.4, 63.2, 69.0, 72.1, 75.8, 79.7, 81.8, 84.4, 85.6, 84.7, 83.6, 83.9, 82.8, 81.7, 80.9, 78.1, 75.9, 73.3, 71.3, 69.4, 68.2], \"xaxis\": \"x\", \"y\": [100.0, 100.0, 100.0, 100.0, 99.5, 99.1, 99.2, 98.5, 98.4, 98.5, 97.9, 98.3, 98.0, 98.1, 97.6, 96.8, 96.4, 95.7, 95.1, 95.2, 93.3, 92.4, 90.7, 89.0, 89.9, 86.1, 85.6, 83.2, 81.4, 79.9, 77.4, 75.5, 72.5, 68.6, 65.5, 63.2, 60.2, 57.5, 55.1, 51.5, 48.5, 45.8, 43.4, 41.0, 39.2], \"yaxis\": \"y\"}, {\"customdata\": [[\"4/3/20\", 50.0, \"Mexico\", 13.0], [\"4/4/20\", 60.0, \"Mexico\", 10.0], [\"4/5/20\", 79.0, \"Mexico\", 19.0], [\"4/6/20\", 94.0, \"Mexico\", 15.0], [\"4/7/20\", 125.0, \"Mexico\", 31.0], [\"4/8/20\", 141.0, \"Mexico\", 16.0], [\"4/9/20\", 174.0, \"Mexico\", 33.0], [\"4/10/20\", 194.0, \"Mexico\", 20.0], [\"4/11/20\", 233.0, \"Mexico\", 39.0], [\"4/12/20\", 273.0, \"Mexico\", 40.0], [\"4/13/20\", 296.0, \"Mexico\", 23.0], [\"4/14/20\", 332.0, \"Mexico\", 36.0], [\"4/15/20\", 406.0, \"Mexico\", 74.0]], \"hoverlabel\": {\"namelength\": 0}, \"hovertemplate\": \"Country =%{customdata[2]}<br>Mean growth over 14d compared to max growth =%{x}<br>% cases from last 14d =%{y}<br>Deaths=%{customdata[1]}<br>Date=%{customdata[0]}<br>Deaths today =%{customdata[3]}\", \"legendgroup\": \"Mexico\", \"marker\": {\"color\": \"#19d3f3\", \"size\": [50.0, 60.0, 79.0, 94.0, 125.0, 141.0, 174.0, 194.0, 233.0, 273.0, 296.0, 332.0, 406.0], \"sizemode\": \"area\", \"sizeref\": 70.815, \"symbol\": \"circle\"}, \"mode\": \"lines+markers\", \"name\": \"Mexico\", \"showlegend\": true, \"type\": \"scatter\", \"x\": [8.8, 10.4, 13.8, 16.2, 21.6, 24.3, 30.0, 33.2, 39.5, 45.9, 49.3, 54.3, 67.3], \"xaxis\": \"x\", \"y\": [98.0, 96.7, 97.5, 96.8, 96.8, 96.5, 96.6, 95.9, 94.8, 94.1, 93.2, 91.6, 92.9], \"yaxis\": \"y\"}, {\"customdata\": [[\"4/7/20\", 58.0, \"Russia\", 11.0], [\"4/8/20\", 63.0, \"Russia\", 5.0], [\"4/9/20\", 76.0, \"Russia\", 13.0], [\"4/10/20\", 94.0, \"Russia\", 18.0], [\"4/11/20\", 106.0, \"Russia\", 12.0], [\"4/12/20\", 130.0, \"Russia\", 24.0], [\"4/13/20\", 148.0, \"Russia\", 18.0], [\"4/14/20\", 170.0, \"Russia\", 22.0], [\"4/15/20\", 198.0, \"Russia\", 28.0]], \"hoverlabel\": {\"namelength\": 0}, \"hovertemplate\": \"Country =%{customdata[2]}<br>Mean growth over 14d compared to max growth =%{x}<br>% cases from last 14d =%{y}<br>Deaths=%{customdata[1]}<br>Date=%{customdata[0]}<br>Deaths today =%{customdata[3]}\", \"legendgroup\": \"Russia\", \"marker\": {\"color\": \"#FF6692\", \"size\": [58.0, 63.0, 76.0, 94.0, 106.0, 130.0, 148.0, 170.0, 198.0], \"sizemode\": \"area\", \"sizeref\": 70.815, \"symbol\": \"circle\"}, \"mode\": \"lines+markers\", \"name\": \"Russia\", \"showlegend\": true, \"type\": \"scatter\", \"x\": [17.0, 17.9, 21.7, 26.8, 30.4, 36.3, 41.4, 45.5, 51.8], \"xaxis\": \"x\", \"y\": [98.3, 95.2, 96.1, 95.7, 96.2, 93.8, 93.9, 90.0, 87.9], \"yaxis\": \"y\"}, {\"customdata\": [[\"3/11/20\", 54.0, \"Spain\", 19.0], [\"3/12/20\", 55.0, \"Spain\", 1.0], [\"3/13/20\", 133.0, \"Spain\", 78.0], [\"3/14/20\", 195.0, \"Spain\", 62.0], [\"3/15/20\", 289.0, \"Spain\", 94.0], [\"3/16/20\", 342.0, \"Spain\", 53.0], [\"3/17/20\", 533.0, \"Spain\", 191.0], [\"3/18/20\", 623.0, \"Spain\", 90.0], [\"3/19/20\", 830.0, \"Spain\", 207.0], [\"3/20/20\", 1043.0, \"Spain\", 213.0], [\"3/21/20\", 1375.0, \"Spain\", 332.0], [\"3/22/20\", 1772.0, \"Spain\", 397.0], [\"3/23/20\", 2311.0, \"Spain\", 539.0], [\"3/24/20\", 2808.0, \"Spain\", 497.0], [\"3/25/20\", 3647.0, \"Spain\", 839.0], [\"3/26/20\", 4365.0, \"Spain\", 718.0], [\"3/27/20\", 5138.0, \"Spain\", 773.0], [\"3/28/20\", 5982.0, \"Spain\", 844.0], [\"3/29/20\", 6803.0, \"Spain\", 821.0], [\"3/30/20\", 7716.0, \"Spain\", 913.0], [\"3/31/20\", 8464.0, \"Spain\", 748.0], [\"4/1/20\", 9387.0, \"Spain\", 923.0], [\"4/2/20\", 10348.0, \"Spain\", 961.0], [\"4/3/20\", 11198.0, \"Spain\", 850.0], [\"4/4/20\", 11947.0, \"Spain\", 749.0], [\"4/5/20\", 12641.0, \"Spain\", 694.0], [\"4/6/20\", 13341.0, \"Spain\", 700.0], [\"4/7/20\", 14045.0, \"Spain\", 704.0], [\"4/8/20\", 14792.0, \"Spain\", 747.0], [\"4/9/20\", 15447.0, \"Spain\", 655.0], [\"4/10/20\", 16081.0, \"Spain\", 634.0], [\"4/11/20\", 16606.0, \"Spain\", 525.0], [\"4/12/20\", 17209.0, \"Spain\", 603.0], [\"4/13/20\", 17756.0, \"Spain\", 547.0], [\"4/14/20\", 18056.0, \"Spain\", 300.0], [\"4/15/20\", 18708.0, \"Spain\", 652.0]], \"hoverlabel\": {\"namelength\": 0}, \"hovertemplate\": \"Country =%{customdata[2]}<br>Mean growth over 14d compared to max growth =%{x}<br>% cases from last 14d =%{y}<br>Deaths=%{customdata[1]}<br>Date=%{customdata[0]}<br>Deaths today =%{customdata[3]}\", \"legendgroup\": \"Spain\", \"marker\": {\"color\": \"#B6E880\", \"size\": [54.0, 55.0, 133.0, 195.0, 289.0, 342.0, 533.0, 623.0, 830.0, 1043.0, 1375.0, 1772.0, 2311.0, 2808.0, 3647.0, 4365.0, 5138.0, 5982.0, 6803.0, 7716.0, 8464.0, 9387.0, 10348.0, 11198.0, 11947.0, 12641.0, 13341.0, 14045.0, 14792.0, 15447.0, 16081.0, 16606.0, 17209.0, 17756.0, 18056.0, 18708.0], \"sizemode\": \"area\", \"sizeref\": 70.815, \"symbol\": \"circle\"}, \"mode\": \"lines+markers\", \"name\": \"Spain\", \"showlegend\": true, \"type\": \"scatter\", \"x\": [0.4, 0.4, 1.0, 1.5, 2.2, 2.6, 4.1, 4.8, 6.4, 8.0, 10.6, 13.6, 17.7, 21.5, 27.8, 33.4, 38.7, 44.8, 50.4, 57.1, 61.4, 67.8, 73.7, 78.6, 81.8, 84.1, 85.4, 87.0, 86.2, 85.8, 84.7, 82.2, 80.5, 77.7, 74.2, 72.1], \"xaxis\": \"x\", \"y\": [100.0, 100.0, 100.0, 100.0, 100.0, 100.0, 99.8, 99.7, 99.6, 99.5, 99.3, 99.0, 98.8, 98.8, 98.5, 98.7, 97.4, 96.7, 95.8, 95.6, 93.7, 93.4, 92.0, 90.7, 88.5, 86.0, 82.7, 80.0, 75.3, 71.7, 68.0, 64.0, 60.5, 56.5, 53.1, 49.8], \"yaxis\": \"y\"}, {\"customdata\": [[\"3/25/20\", 62.0, \"Sweden\", 26.0], [\"3/26/20\", 77.0, \"Sweden\", 15.0], [\"3/27/20\", 105.0, \"Sweden\", 28.0], [\"3/28/20\", 105.0, \"Sweden\", 0.0], [\"3/29/20\", 110.0, \"Sweden\", 5.0], [\"3/30/20\", 146.0, \"Sweden\", 36.0], [\"3/31/20\", 180.0, \"Sweden\", 34.0], [\"4/1/20\", 239.0, \"Sweden\", 59.0], [\"4/2/20\", 308.0, \"Sweden\", 69.0], [\"4/3/20\", 358.0, \"Sweden\", 50.0], [\"4/4/20\", 373.0, \"Sweden\", 15.0], [\"4/5/20\", 401.0, \"Sweden\", 28.0], [\"4/6/20\", 477.0, \"Sweden\", 76.0], [\"4/7/20\", 591.0, \"Sweden\", 114.0], [\"4/8/20\", 687.0, \"Sweden\", 96.0], [\"4/9/20\", 793.0, \"Sweden\", 106.0], [\"4/10/20\", 870.0, \"Sweden\", 77.0], [\"4/11/20\", 887.0, \"Sweden\", 17.0], [\"4/12/20\", 899.0, \"Sweden\", 12.0], [\"4/13/20\", 919.0, \"Sweden\", 20.0], [\"4/14/20\", 1033.0, \"Sweden\", 114.0], [\"4/15/20\", 1203.0, \"Sweden\", 170.0]], \"hoverlabel\": {\"namelength\": 0}, \"hovertemplate\": \"Country =%{customdata[2]}<br>Mean growth over 14d compared to max growth =%{x}<br>% cases from last 14d =%{y}<br>Deaths=%{customdata[1]}<br>Date=%{customdata[0]}<br>Deaths today =%{customdata[3]}\", \"legendgroup\": \"Sweden\", \"marker\": {\"color\": \"#FF97FF\", \"size\": [62.0, 77.0, 105.0, 105.0, 110.0, 146.0, 180.0, 239.0, 308.0, 358.0, 373.0, 401.0, 477.0, 591.0, 687.0, 793.0, 870.0, 887.0, 899.0, 919.0, 1033.0, 1203.0], \"sizemode\": \"area\", \"sizeref\": 70.815, \"symbol\": \"circle\"}, \"mode\": \"lines+markers\", \"name\": \"Sweden\", \"showlegend\": true, \"type\": \"scatter\", \"x\": [3.8, 4.8, 6.5, 6.5, 6.7, 8.8, 10.8, 14.3, 18.6, 21.4, 22.1, 23.8, 28.3, 34.8, 39.2, 44.9, 47.9, 49.0, 49.4, 48.4, 53.4, 60.4], \"xaxis\": \"x\", \"y\": [98.4, 98.7, 99.0, 98.1, 97.3, 95.9, 96.1, 95.8, 96.4, 95.5, 94.6, 94.8, 94.8, 93.9, 91.0, 90.3, 87.9, 88.2, 87.8, 84.1, 82.6, 80.1], \"yaxis\": \"y\"}, {\"customdata\": [[\"3/14/20\", 54.0, \"US\", 7.0], [\"3/15/20\", 63.0, \"US\", 9.0], [\"3/16/20\", 85.0, \"US\", 22.0], [\"3/17/20\", 108.0, \"US\", 23.0], [\"3/18/20\", 118.0, \"US\", 10.0], [\"3/19/20\", 200.0, \"US\", 82.0], [\"3/20/20\", 244.0, \"US\", 44.0], [\"3/21/20\", 307.0, \"US\", 63.0], [\"3/22/20\", 417.0, \"US\", 110.0], [\"3/23/20\", 557.0, \"US\", 140.0], [\"3/24/20\", 706.0, \"US\", 149.0], [\"3/25/20\", 942.0, \"US\", 236.0], [\"3/26/20\", 1209.0, \"US\", 267.0], [\"3/27/20\", 1581.0, \"US\", 372.0], [\"3/28/20\", 2026.0, \"US\", 445.0], [\"3/29/20\", 2467.0, \"US\", 441.0], [\"3/30/20\", 2978.0, \"US\", 511.0], [\"3/31/20\", 3873.0, \"US\", 895.0], [\"4/1/20\", 4757.0, \"US\", 884.0], [\"4/2/20\", 5926.0, \"US\", 1169.0], [\"4/3/20\", 7087.0, \"US\", 1161.0], [\"4/4/20\", 8407.0, \"US\", 1320.0], [\"4/5/20\", 9619.0, \"US\", 1212.0], [\"4/6/20\", 10783.0, \"US\", 1164.0], [\"4/7/20\", 12722.0, \"US\", 1939.0], [\"4/8/20\", 14695.0, \"US\", 1973.0], [\"4/9/20\", 16478.0, \"US\", 1783.0], [\"4/10/20\", 18586.0, \"US\", 2108.0], [\"4/11/20\", 20463.0, \"US\", 1877.0], [\"4/12/20\", 22020.0, \"US\", 1557.0], [\"4/13/20\", 23529.0, \"US\", 1509.0], [\"4/14/20\", 25832.0, \"US\", 2303.0], [\"4/15/20\", 28326.0, \"US\", 2494.0]], \"hoverlabel\": {\"namelength\": 0}, \"hovertemplate\": \"Country =%{customdata[2]}<br>Mean growth over 14d compared to max growth =%{x}<br>% cases from last 14d =%{y}<br>Deaths=%{customdata[1]}<br>Date=%{customdata[0]}<br>Deaths today =%{customdata[3]}\", \"legendgroup\": \"US\", \"marker\": {\"color\": \"#FECB52\", \"size\": [54.0, 63.0, 85.0, 108.0, 118.0, 200.0, 244.0, 307.0, 417.0, 557.0, 706.0, 942.0, 1209.0, 1581.0, 2026.0, 2467.0, 2978.0, 3873.0, 4757.0, 5926.0, 7087.0, 8407.0, 9619.0, 10783.0, 12722.0, 14695.0, 16478.0, 18586.0, 20463.0, 22020.0, 23529.0, 25832.0, 28326.0], \"sizemode\": \"area\", \"sizeref\": 70.815, \"symbol\": \"circle\"}, \"mode\": \"lines+markers\", \"name\": \"US\", \"showlegend\": true, \"type\": \"scatter\", \"x\": [0.2, 0.2, 0.2, 0.3, 0.3, 0.6, 0.7, 0.9, 1.2, 1.7, 2.1, 2.8, 3.6, 4.8, 6.1, 7.5, 9.0, 11.7, 14.4, 17.8, 21.2, 25.1, 28.5, 31.7, 37.3, 42.7, 47.4, 52.7, 57.2, 60.6, 63.7, 68.1, 73.1], \"xaxis\": \"x\", \"y\": [98.1, 98.4, 92.9, 93.5, 90.7, 94.0, 94.3, 94.5, 95.0, 96.1, 96.0, 96.2, 96.7, 97.0, 97.3, 97.4, 97.1, 97.2, 97.5, 96.6, 96.6, 96.3, 95.7, 94.8, 94.5, 93.6, 92.7, 91.5, 90.1, 88.8, 87.3, 85.0, 83.2], \"yaxis\": \"y\"}],\n",
       "                        {\"legend\": {\"itemsizing\": \"constant\", \"title\": {\"text\": \"Country \"}, \"tracegroupgap\": 0}, \"template\": {\"data\": {\"bar\": [{\"error_x\": {\"color\": \"#2a3f5f\"}, \"error_y\": {\"color\": \"#2a3f5f\"}, \"marker\": {\"line\": {\"color\": \"#E5ECF6\", \"width\": 0.5}}, \"type\": \"bar\"}], \"barpolar\": [{\"marker\": {\"line\": {\"color\": \"#E5ECF6\", \"width\": 0.5}}, \"type\": \"barpolar\"}], \"carpet\": [{\"aaxis\": {\"endlinecolor\": \"#2a3f5f\", \"gridcolor\": \"white\", \"linecolor\": \"white\", \"minorgridcolor\": \"white\", \"startlinecolor\": \"#2a3f5f\"}, \"baxis\": {\"endlinecolor\": \"#2a3f5f\", \"gridcolor\": \"white\", \"linecolor\": \"white\", \"minorgridcolor\": \"white\", \"startlinecolor\": \"#2a3f5f\"}, \"type\": \"carpet\"}], \"choropleth\": [{\"colorbar\": {\"outlinewidth\": 0, \"ticks\": \"\"}, \"type\": \"choropleth\"}], \"contour\": [{\"colorbar\": {\"outlinewidth\": 0, \"ticks\": \"\"}, \"colorscale\": [[0.0, \"#0d0887\"], [0.1111111111111111, \"#46039f\"], [0.2222222222222222, \"#7201a8\"], [0.3333333333333333, \"#9c179e\"], [0.4444444444444444, \"#bd3786\"], [0.5555555555555556, \"#d8576b\"], [0.6666666666666666, \"#ed7953\"], [0.7777777777777778, \"#fb9f3a\"], [0.8888888888888888, \"#fdca26\"], [1.0, \"#f0f921\"]], \"type\": \"contour\"}], \"contourcarpet\": [{\"colorbar\": {\"outlinewidth\": 0, \"ticks\": \"\"}, \"type\": \"contourcarpet\"}], \"heatmap\": [{\"colorbar\": {\"outlinewidth\": 0, \"ticks\": \"\"}, \"colorscale\": [[0.0, \"#0d0887\"], [0.1111111111111111, \"#46039f\"], [0.2222222222222222, \"#7201a8\"], [0.3333333333333333, \"#9c179e\"], [0.4444444444444444, \"#bd3786\"], [0.5555555555555556, \"#d8576b\"], [0.6666666666666666, \"#ed7953\"], [0.7777777777777778, \"#fb9f3a\"], [0.8888888888888888, \"#fdca26\"], [1.0, \"#f0f921\"]], \"type\": \"heatmap\"}], \"heatmapgl\": [{\"colorbar\": {\"outlinewidth\": 0, \"ticks\": \"\"}, \"colorscale\": [[0.0, \"#0d0887\"], [0.1111111111111111, \"#46039f\"], [0.2222222222222222, \"#7201a8\"], [0.3333333333333333, \"#9c179e\"], [0.4444444444444444, \"#bd3786\"], [0.5555555555555556, \"#d8576b\"], [0.6666666666666666, \"#ed7953\"], [0.7777777777777778, \"#fb9f3a\"], [0.8888888888888888, \"#fdca26\"], [1.0, \"#f0f921\"]], \"type\": \"heatmapgl\"}], \"histogram\": [{\"marker\": {\"colorbar\": {\"outlinewidth\": 0, \"ticks\": \"\"}}, \"type\": \"histogram\"}], \"histogram2d\": [{\"colorbar\": {\"outlinewidth\": 0, \"ticks\": \"\"}, \"colorscale\": [[0.0, \"#0d0887\"], [0.1111111111111111, \"#46039f\"], [0.2222222222222222, \"#7201a8\"], [0.3333333333333333, \"#9c179e\"], [0.4444444444444444, \"#bd3786\"], [0.5555555555555556, \"#d8576b\"], [0.6666666666666666, \"#ed7953\"], [0.7777777777777778, \"#fb9f3a\"], [0.8888888888888888, \"#fdca26\"], [1.0, \"#f0f921\"]], \"type\": \"histogram2d\"}], \"histogram2dcontour\": [{\"colorbar\": {\"outlinewidth\": 0, \"ticks\": \"\"}, \"colorscale\": [[0.0, \"#0d0887\"], [0.1111111111111111, \"#46039f\"], [0.2222222222222222, \"#7201a8\"], [0.3333333333333333, \"#9c179e\"], [0.4444444444444444, \"#bd3786\"], [0.5555555555555556, \"#d8576b\"], [0.6666666666666666, \"#ed7953\"], [0.7777777777777778, \"#fb9f3a\"], [0.8888888888888888, \"#fdca26\"], [1.0, \"#f0f921\"]], \"type\": \"histogram2dcontour\"}], \"mesh3d\": [{\"colorbar\": {\"outlinewidth\": 0, \"ticks\": \"\"}, \"type\": \"mesh3d\"}], \"parcoords\": [{\"line\": {\"colorbar\": {\"outlinewidth\": 0, \"ticks\": \"\"}}, \"type\": \"parcoords\"}], \"pie\": [{\"automargin\": true, \"type\": \"pie\"}], \"scatter\": [{\"marker\": {\"colorbar\": {\"outlinewidth\": 0, \"ticks\": \"\"}}, \"type\": \"scatter\"}], \"scatter3d\": [{\"line\": {\"colorbar\": {\"outlinewidth\": 0, \"ticks\": \"\"}}, \"marker\": {\"colorbar\": {\"outlinewidth\": 0, \"ticks\": \"\"}}, \"type\": \"scatter3d\"}], \"scattercarpet\": [{\"marker\": {\"colorbar\": {\"outlinewidth\": 0, \"ticks\": \"\"}}, \"type\": \"scattercarpet\"}], \"scattergeo\": [{\"marker\": {\"colorbar\": {\"outlinewidth\": 0, \"ticks\": \"\"}}, \"type\": \"scattergeo\"}], \"scattergl\": [{\"marker\": {\"colorbar\": {\"outlinewidth\": 0, \"ticks\": \"\"}}, \"type\": \"scattergl\"}], \"scattermapbox\": [{\"marker\": {\"colorbar\": {\"outlinewidth\": 0, \"ticks\": \"\"}}, \"type\": \"scattermapbox\"}], \"scatterpolar\": [{\"marker\": {\"colorbar\": {\"outlinewidth\": 0, \"ticks\": \"\"}}, \"type\": \"scatterpolar\"}], \"scatterpolargl\": [{\"marker\": {\"colorbar\": {\"outlinewidth\": 0, \"ticks\": \"\"}}, \"type\": \"scatterpolargl\"}], \"scatterternary\": [{\"marker\": {\"colorbar\": {\"outlinewidth\": 0, \"ticks\": \"\"}}, \"type\": \"scatterternary\"}], \"surface\": [{\"colorbar\": {\"outlinewidth\": 0, \"ticks\": \"\"}, \"colorscale\": [[0.0, \"#0d0887\"], [0.1111111111111111, \"#46039f\"], [0.2222222222222222, \"#7201a8\"], [0.3333333333333333, \"#9c179e\"], [0.4444444444444444, \"#bd3786\"], [0.5555555555555556, \"#d8576b\"], [0.6666666666666666, \"#ed7953\"], [0.7777777777777778, \"#fb9f3a\"], [0.8888888888888888, \"#fdca26\"], [1.0, \"#f0f921\"]], \"type\": \"surface\"}], \"table\": [{\"cells\": {\"fill\": {\"color\": \"#EBF0F8\"}, \"line\": {\"color\": \"white\"}}, \"header\": {\"fill\": {\"color\": \"#C8D4E3\"}, \"line\": {\"color\": \"white\"}}, \"type\": \"table\"}]}, \"layout\": {\"annotationdefaults\": {\"arrowcolor\": \"#2a3f5f\", \"arrowhead\": 0, \"arrowwidth\": 1}, \"coloraxis\": {\"colorbar\": {\"outlinewidth\": 0, \"ticks\": \"\"}}, \"colorscale\": {\"diverging\": [[0, \"#8e0152\"], [0.1, \"#c51b7d\"], [0.2, \"#de77ae\"], [0.3, \"#f1b6da\"], [0.4, \"#fde0ef\"], [0.5, \"#f7f7f7\"], [0.6, \"#e6f5d0\"], [0.7, \"#b8e186\"], [0.8, \"#7fbc41\"], [0.9, \"#4d9221\"], [1, \"#276419\"]], \"sequential\": [[0.0, \"#0d0887\"], [0.1111111111111111, \"#46039f\"], [0.2222222222222222, \"#7201a8\"], [0.3333333333333333, \"#9c179e\"], [0.4444444444444444, \"#bd3786\"], [0.5555555555555556, \"#d8576b\"], [0.6666666666666666, \"#ed7953\"], [0.7777777777777778, \"#fb9f3a\"], [0.8888888888888888, \"#fdca26\"], [1.0, \"#f0f921\"]], \"sequentialminus\": [[0.0, \"#0d0887\"], [0.1111111111111111, \"#46039f\"], [0.2222222222222222, \"#7201a8\"], [0.3333333333333333, \"#9c179e\"], [0.4444444444444444, \"#bd3786\"], [0.5555555555555556, \"#d8576b\"], [0.6666666666666666, \"#ed7953\"], [0.7777777777777778, \"#fb9f3a\"], [0.8888888888888888, \"#fdca26\"], [1.0, \"#f0f921\"]]}, \"colorway\": [\"#636efa\", \"#EF553B\", \"#00cc96\", \"#ab63fa\", \"#FFA15A\", \"#19d3f3\", \"#FF6692\", \"#B6E880\", \"#FF97FF\", \"#FECB52\"], \"font\": {\"color\": \"#2a3f5f\"}, \"geo\": {\"bgcolor\": \"white\", \"lakecolor\": \"white\", \"landcolor\": \"#E5ECF6\", \"showlakes\": true, \"showland\": true, \"subunitcolor\": \"white\"}, \"hoverlabel\": {\"align\": \"left\"}, \"hovermode\": \"closest\", \"mapbox\": {\"style\": \"light\"}, \"paper_bgcolor\": \"white\", \"plot_bgcolor\": \"#E5ECF6\", \"polar\": {\"angularaxis\": {\"gridcolor\": \"white\", \"linecolor\": \"white\", \"ticks\": \"\"}, \"bgcolor\": \"#E5ECF6\", \"radialaxis\": {\"gridcolor\": \"white\", \"linecolor\": \"white\", \"ticks\": \"\"}}, \"scene\": {\"xaxis\": {\"backgroundcolor\": \"#E5ECF6\", \"gridcolor\": \"white\", \"gridwidth\": 2, \"linecolor\": \"white\", \"showbackground\": true, \"ticks\": \"\", \"zerolinecolor\": \"white\"}, \"yaxis\": {\"backgroundcolor\": \"#E5ECF6\", \"gridcolor\": \"white\", \"gridwidth\": 2, \"linecolor\": \"white\", \"showbackground\": true, \"ticks\": \"\", \"zerolinecolor\": \"white\"}, \"zaxis\": {\"backgroundcolor\": \"#E5ECF6\", \"gridcolor\": \"white\", \"gridwidth\": 2, \"linecolor\": \"white\", \"showbackground\": true, \"ticks\": \"\", \"zerolinecolor\": \"white\"}}, \"shapedefaults\": {\"line\": {\"color\": \"#2a3f5f\"}}, \"ternary\": {\"aaxis\": {\"gridcolor\": \"white\", \"linecolor\": \"white\", \"ticks\": \"\"}, \"baxis\": {\"gridcolor\": \"white\", \"linecolor\": \"white\", \"ticks\": \"\"}, \"bgcolor\": \"#E5ECF6\", \"caxis\": {\"gridcolor\": \"white\", \"linecolor\": \"white\", \"ticks\": \"\"}}, \"title\": {\"x\": 0.05}, \"xaxis\": {\"automargin\": true, \"gridcolor\": \"white\", \"linecolor\": \"white\", \"ticks\": \"\", \"title\": {\"standoff\": 15}, \"zerolinecolor\": \"white\", \"zerolinewidth\": 2}, \"yaxis\": {\"automargin\": true, \"gridcolor\": \"white\", \"linecolor\": \"white\", \"ticks\": \"\", \"title\": {\"standoff\": 15}, \"zerolinecolor\": \"white\", \"zerolinewidth\": 2}}}, \"title\": {\"text\": \"Deaths - World\"}, \"xaxis\": {\"anchor\": \"y\", \"domain\": [0.0, 1.0], \"rangemode\": \"tozero\", \"title\": {\"text\": \"Mean Daily Growth over 14 previous days compared to Max Daily Growth (%)\"}}, \"yaxis\": {\"anchor\": \"x\", \"domain\": [0.0, 1.0], \"rangemode\": \"tozero\", \"title\": {\"text\": \"Percentage of Total occuring in the last 14 days (%)\"}}},\n",
       "                        {\"responsive\": true}\n",
       "                    ).then(function(){\n",
       "                            \n",
       "var gd = document.getElementById('9e2a48df-a36a-439d-88dc-85998282428e');\n",
       "var x = new MutationObserver(function (mutations, observer) {{\n",
       "        var display = window.getComputedStyle(gd).display;\n",
       "        if (!display || display === 'none') {{\n",
       "            console.log([gd, 'removed!']);\n",
       "            Plotly.purge(gd);\n",
       "            observer.disconnect();\n",
       "        }}\n",
       "}});\n",
       "\n",
       "// Listen for the removal of the full notebook cells\n",
       "var notebookContainer = gd.closest('#notebook-container');\n",
       "if (notebookContainer) {{\n",
       "    x.observe(notebookContainer, {childList: true});\n",
       "}}\n",
       "\n",
       "// Listen for the clearing of the current output cell\n",
       "var outputEl = gd.closest('.output');\n",
       "if (outputEl) {{\n",
       "    x.observe(outputEl, {childList: true});\n",
       "}}\n",
       "\n",
       "                        })\n",
       "                };\n",
       "                });\n",
       "            </script>\n",
       "        </div>"
      ]
     },
     "metadata": {},
     "output_type": "display_data"
    }
   ],
   "source": [
    "if cases_w.value == 'Confirmed Cases':\n",
    "    daily_cases_global_2 = plot_phase_space_world(daily_cases_global, \n",
    "                                           title = cases_w.value, time_window=int(tw_w.value), \n",
    "                                           n_cases = min_w.value, country=ct_w.value)\n",
    "elif cases_w.value == 'Deaths':\n",
    "    daily_deaths_global_2 = plot_phase_space_world(daily_deaths_global, \n",
    "                                            title = cases_w.value, time_window=int(tw_w.value), \n",
    "                                            n_cases = min_w.value, country=ct_w.value)\n",
    "else:\n",
    "    print('ERROR in dataframe')   \n",
    "    \n"
   ]
  },
  {
   "cell_type": "code",
   "execution_count": 15,
   "metadata": {
    "ExecuteTime": {
     "end_time": "2020-04-16T00:48:28.579932Z",
     "start_time": "2020-04-16T00:48:28.559362Z"
    }
   },
   "outputs": [
    {
     "data": {
      "text/html": [
       "<div>\n",
       "<style scoped>\n",
       "    .dataframe tbody tr th:only-of-type {\n",
       "        vertical-align: middle;\n",
       "    }\n",
       "\n",
       "    .dataframe tbody tr th {\n",
       "        vertical-align: top;\n",
       "    }\n",
       "\n",
       "    .dataframe thead th {\n",
       "        text-align: right;\n",
       "    }\n",
       "</style>\n",
       "<table border=\"1\" class=\"dataframe\">\n",
       "  <thead>\n",
       "    <tr style=\"text-align: right;\">\n",
       "      <th></th>\n",
       "      <th>Country/Region</th>\n",
       "      <th>Date</th>\n",
       "      <th>Confirmed</th>\n",
       "      <th>DateDT</th>\n",
       "      <th>Days</th>\n",
       "      <th>DailyGrowth</th>\n",
       "      <th>MaxDailyGrowth</th>\n",
       "      <th>DailyGrowth_14d</th>\n",
       "      <th>MeanGrowth_14d</th>\n",
       "    </tr>\n",
       "  </thead>\n",
       "  <tbody>\n",
       "    <tr>\n",
       "      <th>63</th>\n",
       "      <td>Brazil</td>\n",
       "      <td>3/25/20</td>\n",
       "      <td>59.0</td>\n",
       "      <td>2020-03-25</td>\n",
       "      <td>630</td>\n",
       "      <td>13.0</td>\n",
       "      <td>204.0</td>\n",
       "      <td>100.0</td>\n",
       "      <td>2.1</td>\n",
       "    </tr>\n",
       "    <tr>\n",
       "      <th>64</th>\n",
       "      <td>Brazil</td>\n",
       "      <td>3/26/20</td>\n",
       "      <td>77.0</td>\n",
       "      <td>2020-03-26</td>\n",
       "      <td>640</td>\n",
       "      <td>18.0</td>\n",
       "      <td>204.0</td>\n",
       "      <td>100.0</td>\n",
       "      <td>2.7</td>\n",
       "    </tr>\n",
       "    <tr>\n",
       "      <th>65</th>\n",
       "      <td>Brazil</td>\n",
       "      <td>3/27/20</td>\n",
       "      <td>92.0</td>\n",
       "      <td>2020-03-27</td>\n",
       "      <td>650</td>\n",
       "      <td>15.0</td>\n",
       "      <td>204.0</td>\n",
       "      <td>100.0</td>\n",
       "      <td>3.2</td>\n",
       "    </tr>\n",
       "    <tr>\n",
       "      <th>66</th>\n",
       "      <td>Brazil</td>\n",
       "      <td>3/28/20</td>\n",
       "      <td>111.0</td>\n",
       "      <td>2020-03-28</td>\n",
       "      <td>660</td>\n",
       "      <td>19.0</td>\n",
       "      <td>204.0</td>\n",
       "      <td>100.0</td>\n",
       "      <td>3.9</td>\n",
       "    </tr>\n",
       "    <tr>\n",
       "      <th>67</th>\n",
       "      <td>Brazil</td>\n",
       "      <td>3/29/20</td>\n",
       "      <td>136.0</td>\n",
       "      <td>2020-03-29</td>\n",
       "      <td>670</td>\n",
       "      <td>25.0</td>\n",
       "      <td>204.0</td>\n",
       "      <td>100.0</td>\n",
       "      <td>4.8</td>\n",
       "    </tr>\n",
       "    <tr>\n",
       "      <th>...</th>\n",
       "      <td>...</td>\n",
       "      <td>...</td>\n",
       "      <td>...</td>\n",
       "      <td>...</td>\n",
       "      <td>...</td>\n",
       "      <td>...</td>\n",
       "      <td>...</td>\n",
       "      <td>...</td>\n",
       "      <td>...</td>\n",
       "    </tr>\n",
       "    <tr>\n",
       "      <th>845</th>\n",
       "      <td>US</td>\n",
       "      <td>4/11/20</td>\n",
       "      <td>20463.0</td>\n",
       "      <td>2020-04-11</td>\n",
       "      <td>809</td>\n",
       "      <td>1877.0</td>\n",
       "      <td>2303.0</td>\n",
       "      <td>90.1</td>\n",
       "      <td>57.2</td>\n",
       "    </tr>\n",
       "    <tr>\n",
       "      <th>846</th>\n",
       "      <td>US</td>\n",
       "      <td>4/12/20</td>\n",
       "      <td>22020.0</td>\n",
       "      <td>2020-04-12</td>\n",
       "      <td>819</td>\n",
       "      <td>1557.0</td>\n",
       "      <td>2303.0</td>\n",
       "      <td>88.8</td>\n",
       "      <td>60.6</td>\n",
       "    </tr>\n",
       "    <tr>\n",
       "      <th>847</th>\n",
       "      <td>US</td>\n",
       "      <td>4/13/20</td>\n",
       "      <td>23529.0</td>\n",
       "      <td>2020-04-13</td>\n",
       "      <td>829</td>\n",
       "      <td>1509.0</td>\n",
       "      <td>2303.0</td>\n",
       "      <td>87.3</td>\n",
       "      <td>63.7</td>\n",
       "    </tr>\n",
       "    <tr>\n",
       "      <th>848</th>\n",
       "      <td>US</td>\n",
       "      <td>4/14/20</td>\n",
       "      <td>25832.0</td>\n",
       "      <td>2020-04-14</td>\n",
       "      <td>839</td>\n",
       "      <td>2303.0</td>\n",
       "      <td>2303.0</td>\n",
       "      <td>85.0</td>\n",
       "      <td>68.1</td>\n",
       "    </tr>\n",
       "    <tr>\n",
       "      <th>849</th>\n",
       "      <td>US</td>\n",
       "      <td>4/15/20</td>\n",
       "      <td>28326.0</td>\n",
       "      <td>2020-04-15</td>\n",
       "      <td>849</td>\n",
       "      <td>2494.0</td>\n",
       "      <td>2303.0</td>\n",
       "      <td>83.2</td>\n",
       "      <td>73.1</td>\n",
       "    </tr>\n",
       "  </tbody>\n",
       "</table>\n",
       "<p>322 rows × 9 columns</p>\n",
       "</div>"
      ],
      "text/plain": [
       "    Country/Region     Date  Confirmed     DateDT  Days  DailyGrowth  \\\n",
       "63          Brazil  3/25/20       59.0 2020-03-25   630         13.0   \n",
       "64          Brazil  3/26/20       77.0 2020-03-26   640         18.0   \n",
       "65          Brazil  3/27/20       92.0 2020-03-27   650         15.0   \n",
       "66          Brazil  3/28/20      111.0 2020-03-28   660         19.0   \n",
       "67          Brazil  3/29/20      136.0 2020-03-29   670         25.0   \n",
       "..             ...      ...        ...        ...   ...          ...   \n",
       "845             US  4/11/20    20463.0 2020-04-11   809       1877.0   \n",
       "846             US  4/12/20    22020.0 2020-04-12   819       1557.0   \n",
       "847             US  4/13/20    23529.0 2020-04-13   829       1509.0   \n",
       "848             US  4/14/20    25832.0 2020-04-14   839       2303.0   \n",
       "849             US  4/15/20    28326.0 2020-04-15   849       2494.0   \n",
       "\n",
       "     MaxDailyGrowth  DailyGrowth_14d  MeanGrowth_14d  \n",
       "63            204.0            100.0             2.1  \n",
       "64            204.0            100.0             2.7  \n",
       "65            204.0            100.0             3.2  \n",
       "66            204.0            100.0             3.9  \n",
       "67            204.0            100.0             4.8  \n",
       "..              ...              ...             ...  \n",
       "845          2303.0             90.1            57.2  \n",
       "846          2303.0             88.8            60.6  \n",
       "847          2303.0             87.3            63.7  \n",
       "848          2303.0             85.0            68.1  \n",
       "849          2303.0             83.2            73.1  \n",
       "\n",
       "[322 rows x 9 columns]"
      ]
     },
     "execution_count": 15,
     "metadata": {},
     "output_type": "execute_result"
    }
   ],
   "source": [
    "daily_deaths_global_2"
   ]
  },
  {
   "cell_type": "markdown",
   "metadata": {},
   "source": [
    "## US"
   ]
  },
  {
   "cell_type": "markdown",
   "metadata": {},
   "source": [
    "### Reading data"
   ]
  },
  {
   "cell_type": "code",
   "execution_count": 16,
   "metadata": {
    "ExecuteTime": {
     "end_time": "2020-04-16T00:48:30.717374Z",
     "start_time": "2020-04-16T00:48:30.473799Z"
    }
   },
   "outputs": [],
   "source": [
    "daily_cases_US = pd.read_csv(date2+'_COVID-19-master_JHU/csse_covid_19_data/csse_covid_19_time_series/time_series_covid19_confirmed_US.csv', \n",
    "                                 dtype=object)\n",
    "# daily_cases_global = daily_cases_global_all.drop(columns =['Province/State', 'Lat', 'Long'])\n",
    "\n",
    "daily_deaths_US = pd.read_csv(date2+'_COVID-19-master_JHU/csse_covid_19_data/csse_covid_19_time_series/time_series_covid19_deaths_US.csv', \n",
    "                                 dtype=object)\n",
    "# daily_deaths_global = daily_deaths_global_all.drop(columns =['Province/State', 'Lat', 'Long'])\n",
    "\n",
    "daily_cases_US[daily_cases_US.columns[11:]] = daily_cases_US[daily_cases_US.columns[11:]].astype(float)\n",
    "daily_deaths_US[daily_deaths_US.columns[11:]] = daily_deaths_US[daily_deaths_US.columns[11:]].astype(float)\n",
    "\n",
    "daily_cases_US = daily_cases_US.groupby('Province_State')[daily_cases_US.columns[11:]].sum().reset_index()\n",
    "daily_deaths_US = daily_deaths_US.groupby('Province_State')[daily_deaths_US.columns[11:]].sum().reset_index()"
   ]
  },
  {
   "cell_type": "code",
   "execution_count": 17,
   "metadata": {
    "ExecuteTime": {
     "end_time": "2020-04-16T00:48:31.385903Z",
     "start_time": "2020-04-16T00:48:31.375250Z"
    }
   },
   "outputs": [
    {
     "data": {
      "application/vnd.jupyter.widget-view+json": {
       "model_id": "60fa5ec7028c42b9b76a6bbd37eb9f3e",
       "version_major": 2,
       "version_minor": 0
      },
      "text/plain": [
       "FloatSlider(value=1000.0, continuous_update=False, description='Minimum Number:', max=100000.0, readout_format…"
      ]
     },
     "metadata": {},
     "output_type": "display_data"
    }
   ],
   "source": [
    "min_us = widgets.FloatSlider(\n",
    "    value=1000,\n",
    "    min=0,\n",
    "    max=100000,\n",
    "    step=1000,\n",
    "    description='Minimum Number:',\n",
    "    disabled=False,\n",
    "    continuous_update=False,\n",
    "    orientation='horizontal',\n",
    "    readout=True,\n",
    "    readout_format='.0f',\n",
    ")\n",
    "display(min_us)"
   ]
  },
  {
   "cell_type": "code",
   "execution_count": 18,
   "metadata": {
    "ExecuteTime": {
     "end_time": "2020-04-16T00:48:31.965753Z",
     "start_time": "2020-04-16T00:48:31.959766Z"
    }
   },
   "outputs": [],
   "source": [
    "# Select minimum number states\n",
    "df_sts = daily_cases_US[['Province_State',daily_cases_US.columns[-1]]]\n",
    "df_sts = df_sts[df_sts[daily_cases_US.columns[-1]].astype(float) > min_us.value]\n",
    "\n",
    "list_states = ['All States']\n",
    "list_states.extend(sorted(list(daily_cases_US['Province_State'].unique())))"
   ]
  },
  {
   "cell_type": "markdown",
   "metadata": {},
   "source": [
    "### Widgets"
   ]
  },
  {
   "cell_type": "code",
   "execution_count": 19,
   "metadata": {
    "ExecuteTime": {
     "end_time": "2020-04-16T00:48:33.368854Z",
     "start_time": "2020-04-16T00:48:33.334811Z"
    }
   },
   "outputs": [
    {
     "data": {
      "application/vnd.jupyter.widget-view+json": {
       "model_id": "a4c6e7b7807f46939403700045c9625f",
       "version_major": 2,
       "version_minor": 0
      },
      "text/plain": [
       "SelectMultiple(description='State:', index=(0, 1, 2, 3, 4, 5, 6, 7, 8, 9, 10, 11, 12, 13, 14, 15, 16, 17, 18, …"
      ]
     },
     "metadata": {},
     "output_type": "display_data"
    },
    {
     "data": {
      "application/vnd.jupyter.widget-view+json": {
       "model_id": "d70dcd7ca8644466a8630114d3436185",
       "version_major": 2,
       "version_minor": 0
      },
      "text/plain": [
       "ToggleButtons(description='Option:', options=('Confirmed Cases', 'Deaths'), value='Confirmed Cases')"
      ]
     },
     "metadata": {},
     "output_type": "display_data"
    },
    {
     "data": {
      "application/vnd.jupyter.widget-view+json": {
       "model_id": "637e08cdf9a34cb8804224a74df22c5c",
       "version_major": 2,
       "version_minor": 0
      },
      "text/plain": [
       "FloatSlider(value=20.0, continuous_update=False, description='Minimum Number:', readout_format='.0f', step=50.…"
      ]
     },
     "metadata": {},
     "output_type": "display_data"
    },
    {
     "data": {
      "application/vnd.jupyter.widget-view+json": {
       "model_id": "65e90bf99dd34ba8b8fbc1ddc07eb6e5",
       "version_major": 2,
       "version_minor": 0
      },
      "text/plain": [
       "FloatSlider(value=14.0, continuous_update=False, description='Days Avg:', max=21.0, min=1.0, readout_format='.…"
      ]
     },
     "metadata": {},
     "output_type": "display_data"
    }
   ],
   "source": [
    "style = {'description_width': 'initial'}\n",
    "\n",
    "st_us = widgets.SelectMultiple(\n",
    "    description='State:',\n",
    "    options=list_states,\n",
    "    value=list_states,\n",
    "    layout=Layout(width='20%', height='100px')\n",
    ")\n",
    "display(st_us)\n",
    "\n",
    "cases_us = widgets.ToggleButtons(\n",
    "    description='Option:',\n",
    "    options=['Confirmed Cases', 'Deaths'],\n",
    ")\n",
    "display(cases_us)\n",
    "\n",
    "min_us = widgets.FloatSlider(\n",
    "    value=20,\n",
    "    min=0,\n",
    "    max=100,\n",
    "    step=50,\n",
    "    description='Minimum Number:',\n",
    "    disabled=False,\n",
    "    continuous_update=False,\n",
    "    orientation='horizontal',\n",
    "    readout=True,\n",
    "    readout_format='.0f',\n",
    ")\n",
    "display(min_us)\n",
    "\n",
    "tw_us = widgets.FloatSlider(\n",
    "    value=14,\n",
    "    min=1,\n",
    "    max=21,\n",
    "    step=1,\n",
    "    description='Days Avg:',\n",
    "    disabled=False,\n",
    "    continuous_update=False,\n",
    "    orientation='horizontal',\n",
    "    readout=True,\n",
    "    readout_format='.0f',\n",
    ")\n",
    "display(tw_us)"
   ]
  },
  {
   "cell_type": "markdown",
   "metadata": {},
   "source": [
    "### Plot"
   ]
  },
  {
   "cell_type": "code",
   "execution_count": 24,
   "metadata": {
    "ExecuteTime": {
     "end_time": "2020-04-16T00:49:36.290857Z",
     "start_time": "2020-04-16T00:49:36.043856Z"
    },
    "scrolled": true
   },
   "outputs": [
    {
     "data": {
      "application/vnd.plotly.v1+json": {
       "config": {
        "plotlyServerURL": "https://plot.ly"
       },
       "data": [
        {
         "customdata": [
          [
           "California",
           24,
           "3/20/20",
           6
          ],
          [
           "California",
           25,
           "3/21/20",
           1
          ],
          [
           "California",
           30,
           "3/22/20",
           5
          ],
          [
           "California",
           39,
           "3/23/20",
           9
          ],
          [
           "California",
           50,
           "3/24/20",
           11
          ],
          [
           "California",
           65,
           "3/25/20",
           15
          ],
          [
           "California",
           81,
           "3/26/20",
           16
          ],
          [
           "California",
           94,
           "3/27/20",
           13
          ],
          [
           "California",
           110,
           "3/28/20",
           16
          ],
          [
           "California",
           124,
           "3/29/20",
           14
          ],
          [
           "California",
           146,
           "3/30/20",
           22
          ],
          [
           "California",
           173,
           "3/31/20",
           27
          ],
          [
           "California",
           199,
           "4/1/20",
           26
          ],
          [
           "California",
           238,
           "4/2/20",
           39
          ],
          [
           "California",
           265,
           "4/3/20",
           27
          ],
          [
           "California",
           289,
           "4/4/20",
           24
          ],
          [
           "California",
           348,
           "4/5/20",
           59
          ],
          [
           "California",
           380,
           "4/6/20",
           32
          ],
          [
           "California",
           432,
           "4/7/20",
           52
          ],
          [
           "California",
           495,
           "4/8/20",
           63
          ],
          [
           "California",
           544,
           "4/9/20",
           49
          ],
          [
           "California",
           583,
           "4/10/20",
           39
          ],
          [
           "California",
           605,
           "4/11/20",
           22
          ],
          [
           "California",
           641,
           "4/12/20",
           36
          ],
          [
           "California",
           715,
           "4/13/20",
           74
          ],
          [
           "California",
           768,
           "4/14/20",
           53
          ],
          [
           "California",
           861,
           "4/15/20",
           93
          ]
         ],
         "hoverlabel": {
          "namelength": 0
         },
         "hovertemplate": "State =%{customdata[0]}<br>Mean growth over 14d compared to max growth =%{x}<br>% cases from last 14d =%{y}<br>Deaths=%{customdata[1]}<br>Date=%{customdata[2]}<br>Deaths today =%{customdata[3]}",
         "legendgroup": "California",
         "marker": {
          "color": "#636efa",
          "size": [
           24,
           25,
           30,
           39,
           50,
           65,
           81,
           94,
           110,
           124,
           146,
           173,
           199,
           238,
           265,
           289,
           348,
           380,
           432,
           495,
           544,
           583,
           605,
           641,
           715,
           768,
           861
          ],
          "sizemode": "area",
          "sizeref": 29.0425,
          "symbol": "circle"
         },
         "mode": "lines+markers",
         "name": "California",
         "showlegend": true,
         "type": "scatter",
         "x": [
          2.2,
          2.3,
          2.8,
          3.7,
          4.6,
          5.9,
          7.4,
          8.7,
          10.3,
          11.5,
          13.4,
          15.5,
          17.7,
          21.2,
          23.3,
          25.5,
          30.7,
          32.9,
          36.9,
          41.5,
          44.7,
          47.2,
          47.8,
          49.9,
          54.9,
          57.4,
          63.9
         ],
         "xaxis": "x",
         "y": [
          95.8,
          96,
          96.7,
          97.4,
          96,
          93.8,
          95.1,
          95.7,
          97.3,
          96,
          95.2,
          93.1,
          92,
          92.4,
          90.9,
          91.3,
          91.4,
          89.7,
          88.4,
          86.9,
          85.1,
          83.9,
          81.8,
          80.7,
          79.6,
          77.5,
          76.9
         ],
         "yaxis": "y"
        },
        {
         "customdata": [
          [
           "Massachusetts",
           25,
           "3/26/20",
           10
          ],
          [
           "Massachusetts",
           35,
           "3/27/20",
           10
          ],
          [
           "Massachusetts",
           44,
           "3/28/20",
           9
          ],
          [
           "Massachusetts",
           48,
           "3/29/20",
           4
          ],
          [
           "Massachusetts",
           56,
           "3/30/20",
           8
          ],
          [
           "Massachusetts",
           89,
           "3/31/20",
           33
          ],
          [
           "Massachusetts",
           122,
           "4/1/20",
           33
          ],
          [
           "Massachusetts",
           154,
           "4/2/20",
           32
          ],
          [
           "Massachusetts",
           192,
           "4/3/20",
           38
          ],
          [
           "Massachusetts",
           216,
           "4/4/20",
           24
          ],
          [
           "Massachusetts",
           231,
           "4/5/20",
           15
          ],
          [
           "Massachusetts",
           260,
           "4/6/20",
           29
          ],
          [
           "Massachusetts",
           356,
           "4/7/20",
           96
          ],
          [
           "Massachusetts",
           433,
           "4/8/20",
           77
          ],
          [
           "Massachusetts",
           503,
           "4/9/20",
           70
          ],
          [
           "Massachusetts",
           599,
           "4/10/20",
           96
          ],
          [
           "Massachusetts",
           686,
           "4/11/20",
           87
          ],
          [
           "Massachusetts",
           756,
           "4/12/20",
           70
          ],
          [
           "Massachusetts",
           844,
           "4/13/20",
           88
          ],
          [
           "Massachusetts",
           844,
           "4/14/20",
           0
          ],
          [
           "Massachusetts",
           1108,
           "4/15/20",
           264
          ]
         ],
         "hoverlabel": {
          "namelength": 0
         },
         "hovertemplate": "State =%{customdata[0]}<br>Mean growth over 14d compared to max growth =%{x}<br>% cases from last 14d =%{y}<br>Deaths=%{customdata[1]}<br>Date=%{customdata[2]}<br>Deaths today =%{customdata[3]}",
         "legendgroup": "Massachusetts",
         "marker": {
          "color": "#EF553B",
          "size": [
           25,
           35,
           44,
           48,
           56,
           89,
           122,
           154,
           192,
           216,
           231,
           260,
           356,
           433,
           503,
           599,
           686,
           756,
           844,
           844,
           1108
          ],
          "sizemode": "area",
          "sizeref": 29.0425,
          "symbol": "circle"
         },
         "mode": "lines+markers",
         "name": "Massachusetts",
         "showlegend": true,
         "type": "scatter",
         "x": [
          1.9,
          2.6,
          3.3,
          3.6,
          4.2,
          6.6,
          9.1,
          11.5,
          14.2,
          16,
          16.8,
          18.7,
          25.7,
          31.1,
          35.6,
          42,
          47.8,
          52.7,
          58.6,
          56.2,
          73.4
         ],
         "xaxis": "x",
         "y": [
          100,
          100,
          100,
          100,
          100,
          100,
          100,
          100,
          99.5,
          99.5,
          97.8,
          96.5,
          96.9,
          96.5,
          95,
          94.2,
          93.6,
          93.7,
          93.4,
          89.5,
          89
         ],
         "yaxis": "y"
        },
        {
         "customdata": [
          [
           "New York",
           38,
           "3/19/20",
           21
          ],
          [
           "New York",
           46,
           "3/20/20",
           8
          ],
          [
           "New York",
           60,
           "3/21/20",
           14
          ],
          [
           "New York",
           117,
           "3/22/20",
           57
          ],
          [
           "New York",
           158,
           "3/23/20",
           41
          ],
          [
           "New York",
           210,
           "3/24/20",
           52
          ],
          [
           "New York",
           285,
           "3/25/20",
           75
          ],
          [
           "New York",
           385,
           "3/26/20",
           100
          ],
          [
           "New York",
           527,
           "3/27/20",
           142
          ],
          [
           "New York",
           883,
           "3/28/20",
           356
          ],
          [
           "New York",
           1063,
           "3/29/20",
           180
          ],
          [
           "New York",
           1342,
           "3/30/20",
           279
          ],
          [
           "New York",
           1714,
           "3/31/20",
           372
          ],
          [
           "New York",
           2176,
           "4/1/20",
           462
          ],
          [
           "New York",
           2738,
           "4/2/20",
           562
          ],
          [
           "New York",
           3262,
           "4/3/20",
           524
          ],
          [
           "New York",
           3544,
           "4/4/20",
           282
          ],
          [
           "New York",
           4029,
           "4/5/20",
           485
          ],
          [
           "New York",
           4698,
           "4/6/20",
           669
          ],
          [
           "New York",
           5489,
           "4/7/20",
           791
          ],
          [
           "New York",
           6268,
           "4/8/20",
           779
          ],
          [
           "New York",
           7067,
           "4/9/20",
           799
          ],
          [
           "New York",
           7867,
           "4/10/20",
           800
          ],
          [
           "New York",
           8627,
           "4/11/20",
           760
          ],
          [
           "New York",
           9385,
           "4/12/20",
           758
          ],
          [
           "New York",
           10058,
           "4/13/20",
           673
          ],
          [
           "New York",
           10842,
           "4/14/20",
           784
          ],
          [
           "New York",
           11617,
           "4/15/20",
           775
          ]
         ],
         "hoverlabel": {
          "namelength": 0
         },
         "hovertemplate": "State =%{customdata[0]}<br>Mean growth over 14d compared to max growth =%{x}<br>% cases from last 14d =%{y}<br>Deaths=%{customdata[1]}<br>Date=%{customdata[2]}<br>Deaths today =%{customdata[3]}",
         "legendgroup": "New York",
         "marker": {
          "color": "#00cc96",
          "size": [
           38,
           46,
           60,
           117,
           158,
           210,
           285,
           385,
           527,
           883,
           1063,
           1342,
           1714,
           2176,
           2738,
           3262,
           3544,
           4029,
           4698,
           5489,
           6268,
           7067,
           7867,
           8627,
           9385,
           10058,
           10842,
           11617
          ],
          "sizemode": "area",
          "sizeref": 29.0425,
          "symbol": "circle"
         },
         "mode": "lines+markers",
         "name": "New York",
         "showlegend": true,
         "type": "scatter",
         "x": [
          0.3,
          0.4,
          0.5,
          1,
          1.4,
          1.9,
          2.5,
          3.4,
          4.7,
          7.9,
          9.5,
          11.9,
          15.2,
          19.3,
          24.1,
          28.8,
          31.1,
          35,
          40.6,
          47.2,
          53.5,
          59.7,
          65.6,
          69.2,
          74.4,
          77.9,
          81.6,
          84.4
         ],
         "xaxis": "x",
         "y": [
          100,
          100,
          100,
          100,
          100,
          100,
          100,
          100,
          100,
          99.8,
          99.8,
          99.3,
          99.2,
          99.2,
          98.6,
          98.6,
          98.3,
          97.1,
          96.6,
          96.2,
          95.5,
          94.6,
          93.3,
          89.8,
          88.7,
          86.7,
          84.2,
          81.3
         ],
         "yaxis": "y"
        }
       ],
       "layout": {
        "legend": {
         "itemsizing": "constant",
         "title": {
          "text": "State "
         },
         "tracegroupgap": 0
        },
        "template": {
         "data": {
          "bar": [
           {
            "error_x": {
             "color": "#2a3f5f"
            },
            "error_y": {
             "color": "#2a3f5f"
            },
            "marker": {
             "line": {
              "color": "#E5ECF6",
              "width": 0.5
             }
            },
            "type": "bar"
           }
          ],
          "barpolar": [
           {
            "marker": {
             "line": {
              "color": "#E5ECF6",
              "width": 0.5
             }
            },
            "type": "barpolar"
           }
          ],
          "carpet": [
           {
            "aaxis": {
             "endlinecolor": "#2a3f5f",
             "gridcolor": "white",
             "linecolor": "white",
             "minorgridcolor": "white",
             "startlinecolor": "#2a3f5f"
            },
            "baxis": {
             "endlinecolor": "#2a3f5f",
             "gridcolor": "white",
             "linecolor": "white",
             "minorgridcolor": "white",
             "startlinecolor": "#2a3f5f"
            },
            "type": "carpet"
           }
          ],
          "choropleth": [
           {
            "colorbar": {
             "outlinewidth": 0,
             "ticks": ""
            },
            "type": "choropleth"
           }
          ],
          "contour": [
           {
            "colorbar": {
             "outlinewidth": 0,
             "ticks": ""
            },
            "colorscale": [
             [
              0,
              "#0d0887"
             ],
             [
              0.1111111111111111,
              "#46039f"
             ],
             [
              0.2222222222222222,
              "#7201a8"
             ],
             [
              0.3333333333333333,
              "#9c179e"
             ],
             [
              0.4444444444444444,
              "#bd3786"
             ],
             [
              0.5555555555555556,
              "#d8576b"
             ],
             [
              0.6666666666666666,
              "#ed7953"
             ],
             [
              0.7777777777777778,
              "#fb9f3a"
             ],
             [
              0.8888888888888888,
              "#fdca26"
             ],
             [
              1,
              "#f0f921"
             ]
            ],
            "type": "contour"
           }
          ],
          "contourcarpet": [
           {
            "colorbar": {
             "outlinewidth": 0,
             "ticks": ""
            },
            "type": "contourcarpet"
           }
          ],
          "heatmap": [
           {
            "colorbar": {
             "outlinewidth": 0,
             "ticks": ""
            },
            "colorscale": [
             [
              0,
              "#0d0887"
             ],
             [
              0.1111111111111111,
              "#46039f"
             ],
             [
              0.2222222222222222,
              "#7201a8"
             ],
             [
              0.3333333333333333,
              "#9c179e"
             ],
             [
              0.4444444444444444,
              "#bd3786"
             ],
             [
              0.5555555555555556,
              "#d8576b"
             ],
             [
              0.6666666666666666,
              "#ed7953"
             ],
             [
              0.7777777777777778,
              "#fb9f3a"
             ],
             [
              0.8888888888888888,
              "#fdca26"
             ],
             [
              1,
              "#f0f921"
             ]
            ],
            "type": "heatmap"
           }
          ],
          "heatmapgl": [
           {
            "colorbar": {
             "outlinewidth": 0,
             "ticks": ""
            },
            "colorscale": [
             [
              0,
              "#0d0887"
             ],
             [
              0.1111111111111111,
              "#46039f"
             ],
             [
              0.2222222222222222,
              "#7201a8"
             ],
             [
              0.3333333333333333,
              "#9c179e"
             ],
             [
              0.4444444444444444,
              "#bd3786"
             ],
             [
              0.5555555555555556,
              "#d8576b"
             ],
             [
              0.6666666666666666,
              "#ed7953"
             ],
             [
              0.7777777777777778,
              "#fb9f3a"
             ],
             [
              0.8888888888888888,
              "#fdca26"
             ],
             [
              1,
              "#f0f921"
             ]
            ],
            "type": "heatmapgl"
           }
          ],
          "histogram": [
           {
            "marker": {
             "colorbar": {
              "outlinewidth": 0,
              "ticks": ""
             }
            },
            "type": "histogram"
           }
          ],
          "histogram2d": [
           {
            "colorbar": {
             "outlinewidth": 0,
             "ticks": ""
            },
            "colorscale": [
             [
              0,
              "#0d0887"
             ],
             [
              0.1111111111111111,
              "#46039f"
             ],
             [
              0.2222222222222222,
              "#7201a8"
             ],
             [
              0.3333333333333333,
              "#9c179e"
             ],
             [
              0.4444444444444444,
              "#bd3786"
             ],
             [
              0.5555555555555556,
              "#d8576b"
             ],
             [
              0.6666666666666666,
              "#ed7953"
             ],
             [
              0.7777777777777778,
              "#fb9f3a"
             ],
             [
              0.8888888888888888,
              "#fdca26"
             ],
             [
              1,
              "#f0f921"
             ]
            ],
            "type": "histogram2d"
           }
          ],
          "histogram2dcontour": [
           {
            "colorbar": {
             "outlinewidth": 0,
             "ticks": ""
            },
            "colorscale": [
             [
              0,
              "#0d0887"
             ],
             [
              0.1111111111111111,
              "#46039f"
             ],
             [
              0.2222222222222222,
              "#7201a8"
             ],
             [
              0.3333333333333333,
              "#9c179e"
             ],
             [
              0.4444444444444444,
              "#bd3786"
             ],
             [
              0.5555555555555556,
              "#d8576b"
             ],
             [
              0.6666666666666666,
              "#ed7953"
             ],
             [
              0.7777777777777778,
              "#fb9f3a"
             ],
             [
              0.8888888888888888,
              "#fdca26"
             ],
             [
              1,
              "#f0f921"
             ]
            ],
            "type": "histogram2dcontour"
           }
          ],
          "mesh3d": [
           {
            "colorbar": {
             "outlinewidth": 0,
             "ticks": ""
            },
            "type": "mesh3d"
           }
          ],
          "parcoords": [
           {
            "line": {
             "colorbar": {
              "outlinewidth": 0,
              "ticks": ""
             }
            },
            "type": "parcoords"
           }
          ],
          "pie": [
           {
            "automargin": true,
            "type": "pie"
           }
          ],
          "scatter": [
           {
            "marker": {
             "colorbar": {
              "outlinewidth": 0,
              "ticks": ""
             }
            },
            "type": "scatter"
           }
          ],
          "scatter3d": [
           {
            "line": {
             "colorbar": {
              "outlinewidth": 0,
              "ticks": ""
             }
            },
            "marker": {
             "colorbar": {
              "outlinewidth": 0,
              "ticks": ""
             }
            },
            "type": "scatter3d"
           }
          ],
          "scattercarpet": [
           {
            "marker": {
             "colorbar": {
              "outlinewidth": 0,
              "ticks": ""
             }
            },
            "type": "scattercarpet"
           }
          ],
          "scattergeo": [
           {
            "marker": {
             "colorbar": {
              "outlinewidth": 0,
              "ticks": ""
             }
            },
            "type": "scattergeo"
           }
          ],
          "scattergl": [
           {
            "marker": {
             "colorbar": {
              "outlinewidth": 0,
              "ticks": ""
             }
            },
            "type": "scattergl"
           }
          ],
          "scattermapbox": [
           {
            "marker": {
             "colorbar": {
              "outlinewidth": 0,
              "ticks": ""
             }
            },
            "type": "scattermapbox"
           }
          ],
          "scatterpolar": [
           {
            "marker": {
             "colorbar": {
              "outlinewidth": 0,
              "ticks": ""
             }
            },
            "type": "scatterpolar"
           }
          ],
          "scatterpolargl": [
           {
            "marker": {
             "colorbar": {
              "outlinewidth": 0,
              "ticks": ""
             }
            },
            "type": "scatterpolargl"
           }
          ],
          "scatterternary": [
           {
            "marker": {
             "colorbar": {
              "outlinewidth": 0,
              "ticks": ""
             }
            },
            "type": "scatterternary"
           }
          ],
          "surface": [
           {
            "colorbar": {
             "outlinewidth": 0,
             "ticks": ""
            },
            "colorscale": [
             [
              0,
              "#0d0887"
             ],
             [
              0.1111111111111111,
              "#46039f"
             ],
             [
              0.2222222222222222,
              "#7201a8"
             ],
             [
              0.3333333333333333,
              "#9c179e"
             ],
             [
              0.4444444444444444,
              "#bd3786"
             ],
             [
              0.5555555555555556,
              "#d8576b"
             ],
             [
              0.6666666666666666,
              "#ed7953"
             ],
             [
              0.7777777777777778,
              "#fb9f3a"
             ],
             [
              0.8888888888888888,
              "#fdca26"
             ],
             [
              1,
              "#f0f921"
             ]
            ],
            "type": "surface"
           }
          ],
          "table": [
           {
            "cells": {
             "fill": {
              "color": "#EBF0F8"
             },
             "line": {
              "color": "white"
             }
            },
            "header": {
             "fill": {
              "color": "#C8D4E3"
             },
             "line": {
              "color": "white"
             }
            },
            "type": "table"
           }
          ]
         },
         "layout": {
          "annotationdefaults": {
           "arrowcolor": "#2a3f5f",
           "arrowhead": 0,
           "arrowwidth": 1
          },
          "coloraxis": {
           "colorbar": {
            "outlinewidth": 0,
            "ticks": ""
           }
          },
          "colorscale": {
           "diverging": [
            [
             0,
             "#8e0152"
            ],
            [
             0.1,
             "#c51b7d"
            ],
            [
             0.2,
             "#de77ae"
            ],
            [
             0.3,
             "#f1b6da"
            ],
            [
             0.4,
             "#fde0ef"
            ],
            [
             0.5,
             "#f7f7f7"
            ],
            [
             0.6,
             "#e6f5d0"
            ],
            [
             0.7,
             "#b8e186"
            ],
            [
             0.8,
             "#7fbc41"
            ],
            [
             0.9,
             "#4d9221"
            ],
            [
             1,
             "#276419"
            ]
           ],
           "sequential": [
            [
             0,
             "#0d0887"
            ],
            [
             0.1111111111111111,
             "#46039f"
            ],
            [
             0.2222222222222222,
             "#7201a8"
            ],
            [
             0.3333333333333333,
             "#9c179e"
            ],
            [
             0.4444444444444444,
             "#bd3786"
            ],
            [
             0.5555555555555556,
             "#d8576b"
            ],
            [
             0.6666666666666666,
             "#ed7953"
            ],
            [
             0.7777777777777778,
             "#fb9f3a"
            ],
            [
             0.8888888888888888,
             "#fdca26"
            ],
            [
             1,
             "#f0f921"
            ]
           ],
           "sequentialminus": [
            [
             0,
             "#0d0887"
            ],
            [
             0.1111111111111111,
             "#46039f"
            ],
            [
             0.2222222222222222,
             "#7201a8"
            ],
            [
             0.3333333333333333,
             "#9c179e"
            ],
            [
             0.4444444444444444,
             "#bd3786"
            ],
            [
             0.5555555555555556,
             "#d8576b"
            ],
            [
             0.6666666666666666,
             "#ed7953"
            ],
            [
             0.7777777777777778,
             "#fb9f3a"
            ],
            [
             0.8888888888888888,
             "#fdca26"
            ],
            [
             1,
             "#f0f921"
            ]
           ]
          },
          "colorway": [
           "#636efa",
           "#EF553B",
           "#00cc96",
           "#ab63fa",
           "#FFA15A",
           "#19d3f3",
           "#FF6692",
           "#B6E880",
           "#FF97FF",
           "#FECB52"
          ],
          "font": {
           "color": "#2a3f5f"
          },
          "geo": {
           "bgcolor": "white",
           "lakecolor": "white",
           "landcolor": "#E5ECF6",
           "showlakes": true,
           "showland": true,
           "subunitcolor": "white"
          },
          "hoverlabel": {
           "align": "left"
          },
          "hovermode": "closest",
          "mapbox": {
           "style": "light"
          },
          "paper_bgcolor": "white",
          "plot_bgcolor": "#E5ECF6",
          "polar": {
           "angularaxis": {
            "gridcolor": "white",
            "linecolor": "white",
            "ticks": ""
           },
           "bgcolor": "#E5ECF6",
           "radialaxis": {
            "gridcolor": "white",
            "linecolor": "white",
            "ticks": ""
           }
          },
          "scene": {
           "xaxis": {
            "backgroundcolor": "#E5ECF6",
            "gridcolor": "white",
            "gridwidth": 2,
            "linecolor": "white",
            "showbackground": true,
            "ticks": "",
            "zerolinecolor": "white"
           },
           "yaxis": {
            "backgroundcolor": "#E5ECF6",
            "gridcolor": "white",
            "gridwidth": 2,
            "linecolor": "white",
            "showbackground": true,
            "ticks": "",
            "zerolinecolor": "white"
           },
           "zaxis": {
            "backgroundcolor": "#E5ECF6",
            "gridcolor": "white",
            "gridwidth": 2,
            "linecolor": "white",
            "showbackground": true,
            "ticks": "",
            "zerolinecolor": "white"
           }
          },
          "shapedefaults": {
           "line": {
            "color": "#2a3f5f"
           }
          },
          "ternary": {
           "aaxis": {
            "gridcolor": "white",
            "linecolor": "white",
            "ticks": ""
           },
           "baxis": {
            "gridcolor": "white",
            "linecolor": "white",
            "ticks": ""
           },
           "bgcolor": "#E5ECF6",
           "caxis": {
            "gridcolor": "white",
            "linecolor": "white",
            "ticks": ""
           }
          },
          "title": {
           "x": 0.05
          },
          "xaxis": {
           "automargin": true,
           "gridcolor": "white",
           "linecolor": "white",
           "ticks": "",
           "title": {
            "standoff": 15
           },
           "zerolinecolor": "white",
           "zerolinewidth": 2
          },
          "yaxis": {
           "automargin": true,
           "gridcolor": "white",
           "linecolor": "white",
           "ticks": "",
           "title": {
            "standoff": 15
           },
           "zerolinecolor": "white",
           "zerolinewidth": 2
          }
         }
        },
        "title": {
         "text": "Deaths - US"
        },
        "xaxis": {
         "anchor": "y",
         "domain": [
          0,
          1
         ],
         "rangemode": "tozero",
         "title": {
          "text": "Mean Daily Growth over 14 previous days compared to Max Daily Growth (%)"
         }
        },
        "yaxis": {
         "anchor": "x",
         "domain": [
          0,
          1
         ],
         "rangemode": "tozero",
         "title": {
          "text": "Percentage of Total occuring in the last 14 days (%)"
         }
        }
       }
      },
      "text/html": [
       "<div>\n",
       "        \n",
       "        \n",
       "            <div id=\"0d909082-5126-4529-9780-a83cbbb27e1b\" class=\"plotly-graph-div\" style=\"height:525px; width:100%;\"></div>\n",
       "            <script type=\"text/javascript\">\n",
       "                require([\"plotly\"], function(Plotly) {\n",
       "                    window.PLOTLYENV=window.PLOTLYENV || {};\n",
       "                    \n",
       "                if (document.getElementById(\"0d909082-5126-4529-9780-a83cbbb27e1b\")) {\n",
       "                    Plotly.newPlot(\n",
       "                        '0d909082-5126-4529-9780-a83cbbb27e1b',\n",
       "                        [{\"customdata\": [[\"California\", 24.0, \"3/20/20\", 6.0], [\"California\", 25.0, \"3/21/20\", 1.0], [\"California\", 30.0, \"3/22/20\", 5.0], [\"California\", 39.0, \"3/23/20\", 9.0], [\"California\", 50.0, \"3/24/20\", 11.0], [\"California\", 65.0, \"3/25/20\", 15.0], [\"California\", 81.0, \"3/26/20\", 16.0], [\"California\", 94.0, \"3/27/20\", 13.0], [\"California\", 110.0, \"3/28/20\", 16.0], [\"California\", 124.0, \"3/29/20\", 14.0], [\"California\", 146.0, \"3/30/20\", 22.0], [\"California\", 173.0, \"3/31/20\", 27.0], [\"California\", 199.0, \"4/1/20\", 26.0], [\"California\", 238.0, \"4/2/20\", 39.0], [\"California\", 265.0, \"4/3/20\", 27.0], [\"California\", 289.0, \"4/4/20\", 24.0], [\"California\", 348.0, \"4/5/20\", 59.0], [\"California\", 380.0, \"4/6/20\", 32.0], [\"California\", 432.0, \"4/7/20\", 52.0], [\"California\", 495.0, \"4/8/20\", 63.0], [\"California\", 544.0, \"4/9/20\", 49.0], [\"California\", 583.0, \"4/10/20\", 39.0], [\"California\", 605.0, \"4/11/20\", 22.0], [\"California\", 641.0, \"4/12/20\", 36.0], [\"California\", 715.0, \"4/13/20\", 74.0], [\"California\", 768.0, \"4/14/20\", 53.0], [\"California\", 861.0, \"4/15/20\", 93.0]], \"hoverlabel\": {\"namelength\": 0}, \"hovertemplate\": \"State =%{customdata[0]}<br>Mean growth over 14d compared to max growth =%{x}<br>% cases from last 14d =%{y}<br>Deaths=%{customdata[1]}<br>Date=%{customdata[2]}<br>Deaths today =%{customdata[3]}\", \"legendgroup\": \"California\", \"marker\": {\"color\": \"#636efa\", \"size\": [24.0, 25.0, 30.0, 39.0, 50.0, 65.0, 81.0, 94.0, 110.0, 124.0, 146.0, 173.0, 199.0, 238.0, 265.0, 289.0, 348.0, 380.0, 432.0, 495.0, 544.0, 583.0, 605.0, 641.0, 715.0, 768.0, 861.0], \"sizemode\": \"area\", \"sizeref\": 29.0425, \"symbol\": \"circle\"}, \"mode\": \"lines+markers\", \"name\": \"California\", \"showlegend\": true, \"type\": \"scatter\", \"x\": [2.2, 2.3, 2.8, 3.7, 4.6, 5.9, 7.4, 8.7, 10.3, 11.5, 13.4, 15.5, 17.7, 21.2, 23.3, 25.5, 30.7, 32.9, 36.9, 41.5, 44.7, 47.2, 47.8, 49.9, 54.9, 57.4, 63.9], \"xaxis\": \"x\", \"y\": [95.8, 96.0, 96.7, 97.4, 96.0, 93.8, 95.1, 95.7, 97.3, 96.0, 95.2, 93.1, 92.0, 92.4, 90.9, 91.3, 91.4, 89.7, 88.4, 86.9, 85.1, 83.9, 81.8, 80.7, 79.6, 77.5, 76.9], \"yaxis\": \"y\"}, {\"customdata\": [[\"Massachusetts\", 25.0, \"3/26/20\", 10.0], [\"Massachusetts\", 35.0, \"3/27/20\", 10.0], [\"Massachusetts\", 44.0, \"3/28/20\", 9.0], [\"Massachusetts\", 48.0, \"3/29/20\", 4.0], [\"Massachusetts\", 56.0, \"3/30/20\", 8.0], [\"Massachusetts\", 89.0, \"3/31/20\", 33.0], [\"Massachusetts\", 122.0, \"4/1/20\", 33.0], [\"Massachusetts\", 154.0, \"4/2/20\", 32.0], [\"Massachusetts\", 192.0, \"4/3/20\", 38.0], [\"Massachusetts\", 216.0, \"4/4/20\", 24.0], [\"Massachusetts\", 231.0, \"4/5/20\", 15.0], [\"Massachusetts\", 260.0, \"4/6/20\", 29.0], [\"Massachusetts\", 356.0, \"4/7/20\", 96.0], [\"Massachusetts\", 433.0, \"4/8/20\", 77.0], [\"Massachusetts\", 503.0, \"4/9/20\", 70.0], [\"Massachusetts\", 599.0, \"4/10/20\", 96.0], [\"Massachusetts\", 686.0, \"4/11/20\", 87.0], [\"Massachusetts\", 756.0, \"4/12/20\", 70.0], [\"Massachusetts\", 844.0, \"4/13/20\", 88.0], [\"Massachusetts\", 844.0, \"4/14/20\", 0.0], [\"Massachusetts\", 1108.0, \"4/15/20\", 264.0]], \"hoverlabel\": {\"namelength\": 0}, \"hovertemplate\": \"State =%{customdata[0]}<br>Mean growth over 14d compared to max growth =%{x}<br>% cases from last 14d =%{y}<br>Deaths=%{customdata[1]}<br>Date=%{customdata[2]}<br>Deaths today =%{customdata[3]}\", \"legendgroup\": \"Massachusetts\", \"marker\": {\"color\": \"#EF553B\", \"size\": [25.0, 35.0, 44.0, 48.0, 56.0, 89.0, 122.0, 154.0, 192.0, 216.0, 231.0, 260.0, 356.0, 433.0, 503.0, 599.0, 686.0, 756.0, 844.0, 844.0, 1108.0], \"sizemode\": \"area\", \"sizeref\": 29.0425, \"symbol\": \"circle\"}, \"mode\": \"lines+markers\", \"name\": \"Massachusetts\", \"showlegend\": true, \"type\": \"scatter\", \"x\": [1.9, 2.6, 3.3, 3.6, 4.2, 6.6, 9.1, 11.5, 14.2, 16.0, 16.8, 18.7, 25.7, 31.1, 35.6, 42.0, 47.8, 52.7, 58.6, 56.2, 73.4], \"xaxis\": \"x\", \"y\": [100.0, 100.0, 100.0, 100.0, 100.0, 100.0, 100.0, 100.0, 99.5, 99.5, 97.8, 96.5, 96.9, 96.5, 95.0, 94.2, 93.6, 93.7, 93.4, 89.5, 89.0], \"yaxis\": \"y\"}, {\"customdata\": [[\"New York\", 38.0, \"3/19/20\", 21.0], [\"New York\", 46.0, \"3/20/20\", 8.0], [\"New York\", 60.0, \"3/21/20\", 14.0], [\"New York\", 117.0, \"3/22/20\", 57.0], [\"New York\", 158.0, \"3/23/20\", 41.0], [\"New York\", 210.0, \"3/24/20\", 52.0], [\"New York\", 285.0, \"3/25/20\", 75.0], [\"New York\", 385.0, \"3/26/20\", 100.0], [\"New York\", 527.0, \"3/27/20\", 142.0], [\"New York\", 883.0, \"3/28/20\", 356.0], [\"New York\", 1063.0, \"3/29/20\", 180.0], [\"New York\", 1342.0, \"3/30/20\", 279.0], [\"New York\", 1714.0, \"3/31/20\", 372.0], [\"New York\", 2176.0, \"4/1/20\", 462.0], [\"New York\", 2738.0, \"4/2/20\", 562.0], [\"New York\", 3262.0, \"4/3/20\", 524.0], [\"New York\", 3544.0, \"4/4/20\", 282.0], [\"New York\", 4029.0, \"4/5/20\", 485.0], [\"New York\", 4698.0, \"4/6/20\", 669.0], [\"New York\", 5489.0, \"4/7/20\", 791.0], [\"New York\", 6268.0, \"4/8/20\", 779.0], [\"New York\", 7067.0, \"4/9/20\", 799.0], [\"New York\", 7867.0, \"4/10/20\", 800.0], [\"New York\", 8627.0, \"4/11/20\", 760.0], [\"New York\", 9385.0, \"4/12/20\", 758.0], [\"New York\", 10058.0, \"4/13/20\", 673.0], [\"New York\", 10842.0, \"4/14/20\", 784.0], [\"New York\", 11617.0, \"4/15/20\", 775.0]], \"hoverlabel\": {\"namelength\": 0}, \"hovertemplate\": \"State =%{customdata[0]}<br>Mean growth over 14d compared to max growth =%{x}<br>% cases from last 14d =%{y}<br>Deaths=%{customdata[1]}<br>Date=%{customdata[2]}<br>Deaths today =%{customdata[3]}\", \"legendgroup\": \"New York\", \"marker\": {\"color\": \"#00cc96\", \"size\": [38.0, 46.0, 60.0, 117.0, 158.0, 210.0, 285.0, 385.0, 527.0, 883.0, 1063.0, 1342.0, 1714.0, 2176.0, 2738.0, 3262.0, 3544.0, 4029.0, 4698.0, 5489.0, 6268.0, 7067.0, 7867.0, 8627.0, 9385.0, 10058.0, 10842.0, 11617.0], \"sizemode\": \"area\", \"sizeref\": 29.0425, \"symbol\": \"circle\"}, \"mode\": \"lines+markers\", \"name\": \"New York\", \"showlegend\": true, \"type\": \"scatter\", \"x\": [0.3, 0.4, 0.5, 1.0, 1.4, 1.9, 2.5, 3.4, 4.7, 7.9, 9.5, 11.9, 15.2, 19.3, 24.1, 28.8, 31.1, 35.0, 40.6, 47.2, 53.5, 59.7, 65.6, 69.2, 74.4, 77.9, 81.6, 84.4], \"xaxis\": \"x\", \"y\": [100.0, 100.0, 100.0, 100.0, 100.0, 100.0, 100.0, 100.0, 100.0, 99.8, 99.8, 99.3, 99.2, 99.2, 98.6, 98.6, 98.3, 97.1, 96.6, 96.2, 95.5, 94.6, 93.3, 89.8, 88.7, 86.7, 84.2, 81.3], \"yaxis\": \"y\"}],\n",
       "                        {\"legend\": {\"itemsizing\": \"constant\", \"title\": {\"text\": \"State \"}, \"tracegroupgap\": 0}, \"template\": {\"data\": {\"bar\": [{\"error_x\": {\"color\": \"#2a3f5f\"}, \"error_y\": {\"color\": \"#2a3f5f\"}, \"marker\": {\"line\": {\"color\": \"#E5ECF6\", \"width\": 0.5}}, \"type\": \"bar\"}], \"barpolar\": [{\"marker\": {\"line\": {\"color\": \"#E5ECF6\", \"width\": 0.5}}, \"type\": \"barpolar\"}], \"carpet\": [{\"aaxis\": {\"endlinecolor\": \"#2a3f5f\", \"gridcolor\": \"white\", \"linecolor\": \"white\", \"minorgridcolor\": \"white\", \"startlinecolor\": \"#2a3f5f\"}, \"baxis\": {\"endlinecolor\": \"#2a3f5f\", \"gridcolor\": \"white\", \"linecolor\": \"white\", \"minorgridcolor\": \"white\", \"startlinecolor\": \"#2a3f5f\"}, \"type\": \"carpet\"}], \"choropleth\": [{\"colorbar\": {\"outlinewidth\": 0, \"ticks\": \"\"}, \"type\": \"choropleth\"}], \"contour\": [{\"colorbar\": {\"outlinewidth\": 0, \"ticks\": \"\"}, \"colorscale\": [[0.0, \"#0d0887\"], [0.1111111111111111, \"#46039f\"], [0.2222222222222222, \"#7201a8\"], [0.3333333333333333, \"#9c179e\"], [0.4444444444444444, \"#bd3786\"], [0.5555555555555556, \"#d8576b\"], [0.6666666666666666, \"#ed7953\"], [0.7777777777777778, \"#fb9f3a\"], [0.8888888888888888, \"#fdca26\"], [1.0, \"#f0f921\"]], \"type\": \"contour\"}], \"contourcarpet\": [{\"colorbar\": {\"outlinewidth\": 0, \"ticks\": \"\"}, \"type\": \"contourcarpet\"}], \"heatmap\": [{\"colorbar\": {\"outlinewidth\": 0, \"ticks\": \"\"}, \"colorscale\": [[0.0, \"#0d0887\"], [0.1111111111111111, \"#46039f\"], [0.2222222222222222, \"#7201a8\"], [0.3333333333333333, \"#9c179e\"], [0.4444444444444444, \"#bd3786\"], [0.5555555555555556, \"#d8576b\"], [0.6666666666666666, \"#ed7953\"], [0.7777777777777778, \"#fb9f3a\"], [0.8888888888888888, \"#fdca26\"], [1.0, \"#f0f921\"]], \"type\": \"heatmap\"}], \"heatmapgl\": [{\"colorbar\": {\"outlinewidth\": 0, \"ticks\": \"\"}, \"colorscale\": [[0.0, \"#0d0887\"], [0.1111111111111111, \"#46039f\"], [0.2222222222222222, \"#7201a8\"], [0.3333333333333333, \"#9c179e\"], [0.4444444444444444, \"#bd3786\"], [0.5555555555555556, \"#d8576b\"], [0.6666666666666666, \"#ed7953\"], [0.7777777777777778, \"#fb9f3a\"], [0.8888888888888888, \"#fdca26\"], [1.0, \"#f0f921\"]], \"type\": \"heatmapgl\"}], \"histogram\": [{\"marker\": {\"colorbar\": {\"outlinewidth\": 0, \"ticks\": \"\"}}, \"type\": \"histogram\"}], \"histogram2d\": [{\"colorbar\": {\"outlinewidth\": 0, \"ticks\": \"\"}, \"colorscale\": [[0.0, \"#0d0887\"], [0.1111111111111111, \"#46039f\"], [0.2222222222222222, \"#7201a8\"], [0.3333333333333333, \"#9c179e\"], [0.4444444444444444, \"#bd3786\"], [0.5555555555555556, \"#d8576b\"], [0.6666666666666666, \"#ed7953\"], [0.7777777777777778, \"#fb9f3a\"], [0.8888888888888888, \"#fdca26\"], [1.0, \"#f0f921\"]], \"type\": \"histogram2d\"}], \"histogram2dcontour\": [{\"colorbar\": {\"outlinewidth\": 0, \"ticks\": \"\"}, \"colorscale\": [[0.0, \"#0d0887\"], [0.1111111111111111, \"#46039f\"], [0.2222222222222222, \"#7201a8\"], [0.3333333333333333, \"#9c179e\"], [0.4444444444444444, \"#bd3786\"], [0.5555555555555556, \"#d8576b\"], [0.6666666666666666, \"#ed7953\"], [0.7777777777777778, \"#fb9f3a\"], [0.8888888888888888, \"#fdca26\"], [1.0, \"#f0f921\"]], \"type\": \"histogram2dcontour\"}], \"mesh3d\": [{\"colorbar\": {\"outlinewidth\": 0, \"ticks\": \"\"}, \"type\": \"mesh3d\"}], \"parcoords\": [{\"line\": {\"colorbar\": {\"outlinewidth\": 0, \"ticks\": \"\"}}, \"type\": \"parcoords\"}], \"pie\": [{\"automargin\": true, \"type\": \"pie\"}], \"scatter\": [{\"marker\": {\"colorbar\": {\"outlinewidth\": 0, \"ticks\": \"\"}}, \"type\": \"scatter\"}], \"scatter3d\": [{\"line\": {\"colorbar\": {\"outlinewidth\": 0, \"ticks\": \"\"}}, \"marker\": {\"colorbar\": {\"outlinewidth\": 0, \"ticks\": \"\"}}, \"type\": \"scatter3d\"}], \"scattercarpet\": [{\"marker\": {\"colorbar\": {\"outlinewidth\": 0, \"ticks\": \"\"}}, \"type\": \"scattercarpet\"}], \"scattergeo\": [{\"marker\": {\"colorbar\": {\"outlinewidth\": 0, \"ticks\": \"\"}}, \"type\": \"scattergeo\"}], \"scattergl\": [{\"marker\": {\"colorbar\": {\"outlinewidth\": 0, \"ticks\": \"\"}}, \"type\": \"scattergl\"}], \"scattermapbox\": [{\"marker\": {\"colorbar\": {\"outlinewidth\": 0, \"ticks\": \"\"}}, \"type\": \"scattermapbox\"}], \"scatterpolar\": [{\"marker\": {\"colorbar\": {\"outlinewidth\": 0, \"ticks\": \"\"}}, \"type\": \"scatterpolar\"}], \"scatterpolargl\": [{\"marker\": {\"colorbar\": {\"outlinewidth\": 0, \"ticks\": \"\"}}, \"type\": \"scatterpolargl\"}], \"scatterternary\": [{\"marker\": {\"colorbar\": {\"outlinewidth\": 0, \"ticks\": \"\"}}, \"type\": \"scatterternary\"}], \"surface\": [{\"colorbar\": {\"outlinewidth\": 0, \"ticks\": \"\"}, \"colorscale\": [[0.0, \"#0d0887\"], [0.1111111111111111, \"#46039f\"], [0.2222222222222222, \"#7201a8\"], [0.3333333333333333, \"#9c179e\"], [0.4444444444444444, \"#bd3786\"], [0.5555555555555556, \"#d8576b\"], [0.6666666666666666, \"#ed7953\"], [0.7777777777777778, \"#fb9f3a\"], [0.8888888888888888, \"#fdca26\"], [1.0, \"#f0f921\"]], \"type\": \"surface\"}], \"table\": [{\"cells\": {\"fill\": {\"color\": \"#EBF0F8\"}, \"line\": {\"color\": \"white\"}}, \"header\": {\"fill\": {\"color\": \"#C8D4E3\"}, \"line\": {\"color\": \"white\"}}, \"type\": \"table\"}]}, \"layout\": {\"annotationdefaults\": {\"arrowcolor\": \"#2a3f5f\", \"arrowhead\": 0, \"arrowwidth\": 1}, \"coloraxis\": {\"colorbar\": {\"outlinewidth\": 0, \"ticks\": \"\"}}, \"colorscale\": {\"diverging\": [[0, \"#8e0152\"], [0.1, \"#c51b7d\"], [0.2, \"#de77ae\"], [0.3, \"#f1b6da\"], [0.4, \"#fde0ef\"], [0.5, \"#f7f7f7\"], [0.6, \"#e6f5d0\"], [0.7, \"#b8e186\"], [0.8, \"#7fbc41\"], [0.9, \"#4d9221\"], [1, \"#276419\"]], \"sequential\": [[0.0, \"#0d0887\"], [0.1111111111111111, \"#46039f\"], [0.2222222222222222, \"#7201a8\"], [0.3333333333333333, \"#9c179e\"], [0.4444444444444444, \"#bd3786\"], [0.5555555555555556, \"#d8576b\"], [0.6666666666666666, \"#ed7953\"], [0.7777777777777778, \"#fb9f3a\"], [0.8888888888888888, \"#fdca26\"], [1.0, \"#f0f921\"]], \"sequentialminus\": [[0.0, \"#0d0887\"], [0.1111111111111111, \"#46039f\"], [0.2222222222222222, \"#7201a8\"], [0.3333333333333333, \"#9c179e\"], [0.4444444444444444, \"#bd3786\"], [0.5555555555555556, \"#d8576b\"], [0.6666666666666666, \"#ed7953\"], [0.7777777777777778, \"#fb9f3a\"], [0.8888888888888888, \"#fdca26\"], [1.0, \"#f0f921\"]]}, \"colorway\": [\"#636efa\", \"#EF553B\", \"#00cc96\", \"#ab63fa\", \"#FFA15A\", \"#19d3f3\", \"#FF6692\", \"#B6E880\", \"#FF97FF\", \"#FECB52\"], \"font\": {\"color\": \"#2a3f5f\"}, \"geo\": {\"bgcolor\": \"white\", \"lakecolor\": \"white\", \"landcolor\": \"#E5ECF6\", \"showlakes\": true, \"showland\": true, \"subunitcolor\": \"white\"}, \"hoverlabel\": {\"align\": \"left\"}, \"hovermode\": \"closest\", \"mapbox\": {\"style\": \"light\"}, \"paper_bgcolor\": \"white\", \"plot_bgcolor\": \"#E5ECF6\", \"polar\": {\"angularaxis\": {\"gridcolor\": \"white\", \"linecolor\": \"white\", \"ticks\": \"\"}, \"bgcolor\": \"#E5ECF6\", \"radialaxis\": {\"gridcolor\": \"white\", \"linecolor\": \"white\", \"ticks\": \"\"}}, \"scene\": {\"xaxis\": {\"backgroundcolor\": \"#E5ECF6\", \"gridcolor\": \"white\", \"gridwidth\": 2, \"linecolor\": \"white\", \"showbackground\": true, \"ticks\": \"\", \"zerolinecolor\": \"white\"}, \"yaxis\": {\"backgroundcolor\": \"#E5ECF6\", \"gridcolor\": \"white\", \"gridwidth\": 2, \"linecolor\": \"white\", \"showbackground\": true, \"ticks\": \"\", \"zerolinecolor\": \"white\"}, \"zaxis\": {\"backgroundcolor\": \"#E5ECF6\", \"gridcolor\": \"white\", \"gridwidth\": 2, \"linecolor\": \"white\", \"showbackground\": true, \"ticks\": \"\", \"zerolinecolor\": \"white\"}}, \"shapedefaults\": {\"line\": {\"color\": \"#2a3f5f\"}}, \"ternary\": {\"aaxis\": {\"gridcolor\": \"white\", \"linecolor\": \"white\", \"ticks\": \"\"}, \"baxis\": {\"gridcolor\": \"white\", \"linecolor\": \"white\", \"ticks\": \"\"}, \"bgcolor\": \"#E5ECF6\", \"caxis\": {\"gridcolor\": \"white\", \"linecolor\": \"white\", \"ticks\": \"\"}}, \"title\": {\"x\": 0.05}, \"xaxis\": {\"automargin\": true, \"gridcolor\": \"white\", \"linecolor\": \"white\", \"ticks\": \"\", \"title\": {\"standoff\": 15}, \"zerolinecolor\": \"white\", \"zerolinewidth\": 2}, \"yaxis\": {\"automargin\": true, \"gridcolor\": \"white\", \"linecolor\": \"white\", \"ticks\": \"\", \"title\": {\"standoff\": 15}, \"zerolinecolor\": \"white\", \"zerolinewidth\": 2}}}, \"title\": {\"text\": \"Deaths - US\"}, \"xaxis\": {\"anchor\": \"y\", \"domain\": [0.0, 1.0], \"rangemode\": \"tozero\", \"title\": {\"text\": \"Mean Daily Growth over 14 previous days compared to Max Daily Growth (%)\"}}, \"yaxis\": {\"anchor\": \"x\", \"domain\": [0.0, 1.0], \"rangemode\": \"tozero\", \"title\": {\"text\": \"Percentage of Total occuring in the last 14 days (%)\"}}},\n",
       "                        {\"responsive\": true}\n",
       "                    ).then(function(){\n",
       "                            \n",
       "var gd = document.getElementById('0d909082-5126-4529-9780-a83cbbb27e1b');\n",
       "var x = new MutationObserver(function (mutations, observer) {{\n",
       "        var display = window.getComputedStyle(gd).display;\n",
       "        if (!display || display === 'none') {{\n",
       "            console.log([gd, 'removed!']);\n",
       "            Plotly.purge(gd);\n",
       "            observer.disconnect();\n",
       "        }}\n",
       "}});\n",
       "\n",
       "// Listen for the removal of the full notebook cells\n",
       "var notebookContainer = gd.closest('#notebook-container');\n",
       "if (notebookContainer) {{\n",
       "    x.observe(notebookContainer, {childList: true});\n",
       "}}\n",
       "\n",
       "// Listen for the clearing of the current output cell\n",
       "var outputEl = gd.closest('.output');\n",
       "if (outputEl) {{\n",
       "    x.observe(outputEl, {childList: true});\n",
       "}}\n",
       "\n",
       "                        })\n",
       "                };\n",
       "                });\n",
       "            </script>\n",
       "        </div>"
      ]
     },
     "metadata": {},
     "output_type": "display_data"
    }
   ],
   "source": [
    "if cases_us.value == 'Confirmed Cases':\n",
    "    daily_cases_US_2 = plot_phase_space_US(daily_cases_US, \n",
    "                                           title = cases_us.value, time_window=int(tw_us.value), \n",
    "                                     \n",
    "                                           n_cases = min_us.value, state=st_us.value)\n",
    "elif cases_us.value == 'Deaths':\n",
    "    daily_deaths_US_2 = plot_phase_space_US(daily_deaths_US.drop(columns='Population'), \n",
    "                                            title = cases_us.value, time_window=int(tw_us.value), \n",
    "                                            n_cases = min_us.value, state=st_us.value)\n",
    "else:\n",
    "    print('ERROR in dataframe')   \n",
    "    \n"
   ]
  },
  {
   "cell_type": "code",
   "execution_count": 21,
   "metadata": {
    "ExecuteTime": {
     "end_time": "2020-04-16T00:48:39.106802Z",
     "start_time": "2020-04-16T00:48:39.104403Z"
    }
   },
   "outputs": [],
   "source": [
    "# if cases_us.value == 'Confirmed Cases':\n",
    "#     df_test = daily_cases_US_2\n",
    "# elif cases_us.value == 'Deaths':\n",
    "#     df_test = daily_deaths_US_2\n",
    "\n",
    "# fig, ax = plt.subplots(figsize=(10,10))\n",
    "\n",
    "\n",
    "# sns.lineplot(x=\"Days\", y=\"DailyGrowth\",\n",
    "#              hue=\"Province_State\", \n",
    "#              data=df_test)\n",
    "\n",
    "# #ax.set_yscale('log')"
   ]
  },
  {
   "cell_type": "code",
   "execution_count": null,
   "metadata": {},
   "outputs": [],
   "source": [
    "#"
   ]
  },
  {
   "cell_type": "code",
   "execution_count": null,
   "metadata": {},
   "outputs": [],
   "source": []
  },
  {
   "cell_type": "code",
   "execution_count": null,
   "metadata": {},
   "outputs": [],
   "source": []
  }
 ],
 "metadata": {
  "kernelspec": {
   "display_name": "Python 3",
   "language": "python",
   "name": "python3"
  },
  "language_info": {
   "codemirror_mode": {
    "name": "ipython",
    "version": 3
   },
   "file_extension": ".py",
   "mimetype": "text/x-python",
   "name": "python",
   "nbconvert_exporter": "python",
   "pygments_lexer": "ipython3",
   "version": "3.7.6"
  },
  "toc": {
   "base_numbering": 1,
   "nav_menu": {},
   "number_sections": true,
   "sideBar": true,
   "skip_h1_title": false,
   "title_cell": "Table of Contents",
   "title_sidebar": "Contents",
   "toc_cell": true,
   "toc_position": {},
   "toc_section_display": true,
   "toc_window_display": true
  }
 },
 "nbformat": 4,
 "nbformat_minor": 4
}
