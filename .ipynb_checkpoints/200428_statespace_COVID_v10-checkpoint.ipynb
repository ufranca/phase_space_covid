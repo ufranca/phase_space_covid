{
 "cells": [
  {
   "cell_type": "markdown",
   "metadata": {
    "toc": true
   },
   "source": [
    "<h1>Table of Contents<span class=\"tocSkip\"></span></h1>\n",
    "<div class=\"toc\"><ul class=\"toc-item\"><li><span><a href=\"#Standard\" data-toc-modified-id=\"Standard-1\"><span class=\"toc-item-num\">1&nbsp;&nbsp;</span>Standard</a></span></li><li><span><a href=\"#Date\" data-toc-modified-id=\"Date-2\"><span class=\"toc-item-num\">2&nbsp;&nbsp;</span>Date</a></span></li><li><span><a href=\"#Functions\" data-toc-modified-id=\"Functions-3\"><span class=\"toc-item-num\">3&nbsp;&nbsp;</span>Functions</a></span><ul class=\"toc-item\"><li><span><a href=\"#Phase-space\" data-toc-modified-id=\"Phase-space-3.1\"><span class=\"toc-item-num\">3.1&nbsp;&nbsp;</span>Phase space</a></span></li><li><span><a href=\"#World-plot\" data-toc-modified-id=\"World-plot-3.2\"><span class=\"toc-item-num\">3.2&nbsp;&nbsp;</span>World plot</a></span></li><li><span><a href=\"#US-plot\" data-toc-modified-id=\"US-plot-3.3\"><span class=\"toc-item-num\">3.3&nbsp;&nbsp;</span>US plot</a></span></li></ul></li><li><span><a href=\"#Data\" data-toc-modified-id=\"Data-4\"><span class=\"toc-item-num\">4&nbsp;&nbsp;</span>Data</a></span><ul class=\"toc-item\"><li><span><a href=\"#World\" data-toc-modified-id=\"World-4.1\"><span class=\"toc-item-num\">4.1&nbsp;&nbsp;</span>World</a></span><ul class=\"toc-item\"><li><span><a href=\"#Reading-data\" data-toc-modified-id=\"Reading-data-4.1.1\"><span class=\"toc-item-num\">4.1.1&nbsp;&nbsp;</span>Reading data</a></span></li><li><span><a href=\"#Widgets\" data-toc-modified-id=\"Widgets-4.1.2\"><span class=\"toc-item-num\">4.1.2&nbsp;&nbsp;</span>Widgets</a></span></li><li><span><a href=\"#Plot\" data-toc-modified-id=\"Plot-4.1.3\"><span class=\"toc-item-num\">4.1.3&nbsp;&nbsp;</span>Plot</a></span></li></ul></li><li><span><a href=\"#US\" data-toc-modified-id=\"US-4.2\"><span class=\"toc-item-num\">4.2&nbsp;&nbsp;</span>US</a></span><ul class=\"toc-item\"><li><span><a href=\"#Reading-data\" data-toc-modified-id=\"Reading-data-4.2.1\"><span class=\"toc-item-num\">4.2.1&nbsp;&nbsp;</span>Reading data</a></span></li><li><span><a href=\"#Widgets\" data-toc-modified-id=\"Widgets-4.2.2\"><span class=\"toc-item-num\">4.2.2&nbsp;&nbsp;</span>Widgets</a></span></li><li><span><a href=\"#Plot\" data-toc-modified-id=\"Plot-4.2.3\"><span class=\"toc-item-num\">4.2.3&nbsp;&nbsp;</span>Plot</a></span></li></ul></li></ul></li><li><span><a href=\"#Model-SIR\" data-toc-modified-id=\"Model-SIR-5\"><span class=\"toc-item-num\">5&nbsp;&nbsp;</span>Model SIR</a></span></li></ul></div>"
   ]
  },
  {
   "cell_type": "code",
   "execution_count": 1,
   "metadata": {
    "ExecuteTime": {
     "end_time": "2020-04-27T21:19:41.481771Z",
     "start_time": "2020-04-27T21:19:41.140937Z"
    }
   },
   "outputs": [],
   "source": [
    "%matplotlib inline\n",
    "user = 'UF'"
   ]
  },
  {
   "cell_type": "markdown",
   "metadata": {},
   "source": [
    "# Standard "
   ]
  },
  {
   "cell_type": "code",
   "execution_count": 2,
   "metadata": {
    "ExecuteTime": {
     "end_time": "2020-04-27T21:19:43.304464Z",
     "start_time": "2020-04-27T21:19:41.483776Z"
    }
   },
   "outputs": [
    {
     "name": "stdout",
     "output_type": "stream",
     "text": [
      "200427\n"
     ]
    },
    {
     "data": {
      "text/html": [
       "<style>.container { width:70% !important; }</style>"
      ],
      "text/plain": [
       "<IPython.core.display.HTML object>"
      ]
     },
     "execution_count": 2,
     "metadata": {},
     "output_type": "execute_result"
    }
   ],
   "source": [
    "import datetime as dt\n",
    "import pandas as pd\n",
    "import sys\n",
    "import csv\n",
    "import geopandas as gpd\n",
    "import glob\n",
    "import ipywidgets #as widgets\n",
    "import itertools\n",
    "import math\n",
    "import numpy as np\n",
    "import matplotlib.pyplot as plt\n",
    "import seaborn as sns\n",
    "import socket\n",
    "\n",
    "from matplotlib import *\n",
    "from matplotlib.dates import YearLocator, MonthLocator, DateFormatter\n",
    "from matplotlib.dates import *\n",
    "from numpy.random import randn\n",
    "import statsmodels.api as sm\n",
    "\n",
    "from ipywidgets import interact, interactive, fixed, interact_manual, Layout\n",
    "import ipywidgets as widgets\n",
    "\n",
    "import plotly.express as px\n",
    "import plotly.graph_objects as go\n",
    "from plotly.offline import download_plotlyjs, init_notebook_mode, plot, iplot\n",
    "#init_notebook_mode(connected=True)\n",
    "\n",
    "\n",
    "sns.set()\n",
    "\n",
    "import warnings\n",
    "warnings.filterwarnings('ignore')\n",
    "\n",
    "today = dt.datetime.today().strftime(\"%y%m%d\")\n",
    "print(today)\n",
    "\n",
    "from IPython.core.display import HTML\n",
    "HTML(\"<style>.container { width:70% !important; }</style>\")"
   ]
  },
  {
   "cell_type": "code",
   "execution_count": 3,
   "metadata": {
    "ExecuteTime": {
     "end_time": "2020-04-27T21:19:43.333707Z",
     "start_time": "2020-04-27T21:19:43.307110Z"
    }
   },
   "outputs": [
    {
     "name": "stdout",
     "output_type": "stream",
     "text": [
      "UF\n",
      "urbanos-macbook-pro.local\n",
      "Running on the laptop\n",
      "/Users/ufranca/Documents/Data/ /Users/ufranca/Documents/Data/new_datasets/\n",
      "Running on the laptop\n",
      "Running on the laptop\n",
      "\n",
      " /Volumes/Bell/Data/ \n",
      " /Volumes/Bell/Data/ \n",
      " /Users/ufranca/Documents/Dropbox/projects_coding/data_tools/\n"
     ]
    }
   ],
   "source": [
    "if user == 'UF':\n",
    "    print(user)\n",
    "    print(socket.gethostname().lower())\n",
    "\n",
    "    #laptop\n",
    "    if socket.gethostname().lower().startswith('osxlap01664'):#.tch.harvard.edu':\n",
    "        print('Running on the laptop')\n",
    "        address = \"/Users/ufranca/Documents/Data/\"\n",
    "        addressdata = \"/Users/ufranca/Documents/Data/new_datasets/\"\n",
    "        data_tools = \"/Users/ufranca/Documents/Dropbox/projects_coding/data_tools/\"\n",
    "        sys.path.insert(0, '/Users/ufranca/Documents/Dropbox/projects_coding/functions')\n",
    "\n",
    "    elif socket.gethostname().lower().startswith('urbano'):#.tch.harvard.edu':\n",
    "        print('Running on the laptop')\n",
    "    #     address = \"/Users/urbanofranca/Documents/Datasets/\"\n",
    "    #     addressdata = \"/Users/urbanofranca/Documents/Datasets/\"\n",
    "        address = \"/Users/ufranca/Documents/Data/\"\n",
    "        addressdata = \"/Users/ufranca/Documents/Data/new_datasets/\"\n",
    "        data_tools = \"/Users/ufranca/Documents/Dropbox/projects_coding/data_tools/\"\n",
    "        sys.path.insert(0, '/Users/ufranca/Documents/Dropbox/projects_coding/functions')\n",
    "\n",
    "    elif socket.gethostname().lower().startswith('vpn'):#.tch.harvard.edu':\n",
    "        print('Running on the laptop')\n",
    "    #     address = \"/Users/urbanofranca/Documents/Datasets/\"\n",
    "    #     addressdata = \"/Users/urbanofranca/Documents/Datasets/\"\n",
    "        address = \"/Users/ufranca/Documents/Data/\"\n",
    "        addressdata = \"/Users/ufranca/Documents/Data/new_datasets/\"\n",
    "        data_tools = \"/Users/ufranca/Documents/Dropbox/projects_coding/data_tools/\"\n",
    "        sys.path.insert(0, '/Users/ufranca/Documents/Dropbox/projects_coding/functions')\n",
    "\n",
    "        \n",
    "    else:\n",
    "        print('No known computer')\n",
    "\n",
    "    print(address, addressdata)\n",
    "    \n",
    "    \n",
    "    ######################################################\n",
    "    ## it needs to be here to find the right dropbox -> fix this later?\n",
    "    \n",
    "    import functionsuf as fuf\n",
    "    import hospitals as hosp\n",
    "    \n",
    "    external_disk = 'T'\n",
    "\n",
    "    if (external_disk == 'T'):\n",
    "        address = \"/Volumes/Bell/Data/\"\n",
    "        addressdata = \"/Volumes/Bell/Data/\"\n",
    "    else:\n",
    "        address = address\n",
    "        addressdata = addressdata \n",
    "\n",
    "    print('\\n '+ address, '\\n', addressdata, '\\n', data_tools)\n",
    "\n",
    "elif user =='MM':\n",
    "    ## Here I define \n",
    "    #'addressdata', which is the folder where the data is located\n",
    "    # 'data_tools', which is where the data_tools are located\n",
    "    # 'address' is not used anywhere and mostly deprecated\n",
    "    print(user)\n",
    "    \n",
    "    \n",
    "else:\n",
    "    print(\"Define the paths for `address`, `addressdata`, and `data_tools`\")"
   ]
  },
  {
   "cell_type": "markdown",
   "metadata": {},
   "source": [
    "# Date\n",
    "Date of data downloaded from JHU"
   ]
  },
  {
   "cell_type": "code",
   "execution_count": 4,
   "metadata": {
    "ExecuteTime": {
     "end_time": "2020-04-27T21:19:43.340100Z",
     "start_time": "2020-04-27T21:19:43.336724Z"
    }
   },
   "outputs": [],
   "source": [
    "date2 = '0427'"
   ]
  },
  {
   "cell_type": "markdown",
   "metadata": {},
   "source": [
    "# Functions"
   ]
  },
  {
   "cell_type": "markdown",
   "metadata": {},
   "source": [
    "## Phase space"
   ]
  },
  {
   "cell_type": "code",
   "execution_count": 5,
   "metadata": {
    "ExecuteTime": {
     "end_time": "2020-04-27T21:19:43.357462Z",
     "start_time": "2020-04-27T21:19:43.347919Z"
    }
   },
   "outputs": [],
   "source": [
    "def create_phase_space(df, col=\"Country/Region\", ncases=10, time_window=1):\n",
    "    # melt the dates in the dataset\n",
    "    df_melted = df.melt(id_vars=[col], \n",
    "                        var_name=\"Date\", \n",
    "                        value_name=\"Confirmed\")\n",
    "\n",
    "    # changing column types\n",
    "    df_melted['Confirmed'] = df_melted['Confirmed'].astype(float)\n",
    "    df_melted['DateDT'] = pd.to_datetime(df_melted['Date'])\n",
    "    \n",
    "    \n",
    "    # sorting by col & date\n",
    "    df_melted = df_melted.sort_values([col, 'DateDT'])\n",
    "    \n",
    "    # adding dates \n",
    "    df_melted['Days'] = df_melted.index\n",
    "    \n",
    "    #Daily growth\n",
    "    df_melted['DailyGrowth'] = df_melted['Confirmed'].diff()\n",
    "    #df_melted['DotDailyGrowth'] = df_melted['DailyGrowth'].diff()\n",
    "    \n",
    "    max_daily_growth= df_melted.groupby(col)['DailyGrowth'].nlargest(3).reset_index()\n",
    "    max_daily_growth= max_daily_growth.groupby([col])['DailyGrowth'].median().reset_index()\n",
    "    #print(max_daily_growth)\n",
    "    \n",
    "    max_daily_growth.columns=[col, 'MaxDailyGrowth']\n",
    "\n",
    "    df_melted = df_melted.merge(max_daily_growth, on=col, how='outer')\n",
    "    \n",
    "    \n",
    "    \n",
    "    #\n",
    "    df_melted['DailyGrowth_'+str(time_window)+'d'] = round(100*df_melted['DailyGrowth'].rolling(time_window).sum()/ df_melted['Confirmed'], 1)\n",
    "    df_melted['MeanGrowth_'+str(time_window)+'d'] = round(100*df_melted['DailyGrowth'].rolling(time_window).mean()/df_melted['MaxDailyGrowth'], 1)\n",
    "\n",
    "    # just cleaning values when transitioning from one country to another\n",
    "    df_melted['DailyGrowth_'+str(time_window)+'d'] = np.where(df_melted['DailyGrowth_'+str(time_window)+'d'] >= 0, \n",
    "                                                              df_melted['DailyGrowth_'+str(time_window)+'d'], \n",
    "                                                              0)\n",
    "    df_melted['MeanGrowth_'+str(time_window)+'d'] = np.where(df_melted['MeanGrowth_'+str(time_window)+'d'] >= 0, \n",
    "                                                             df_melted['MeanGrowth_'+str(time_window)+'d'], \n",
    "                                                             0)\n",
    "    \n",
    "    # selecting minimum number of cases\n",
    "    df_melted = df_melted[df_melted['Confirmed'] >= ncases]\n",
    "    \n",
    "    \n",
    "    return df_melted\n",
    "    "
   ]
  },
  {
   "cell_type": "markdown",
   "metadata": {},
   "source": [
    "## World plot"
   ]
  },
  {
   "cell_type": "code",
   "execution_count": 6,
   "metadata": {
    "ExecuteTime": {
     "end_time": "2020-04-27T21:19:43.368026Z",
     "start_time": "2020-04-27T21:19:43.360386Z"
    }
   },
   "outputs": [],
   "source": [
    "def plot_phase_space_world(df, title='Deaths', time_window=1, n_cases= 50, country=['All Countries']):\n",
    "        \n",
    "    if country == ('All Countries',):\n",
    "        print('All Countries')\n",
    "        \n",
    "        #### ADD SUM FOR COUNTRIES\n",
    "        \n",
    "        \n",
    "    else:\n",
    "        df = df[df['Country/Region'].isin(country)]\n",
    "\n",
    "        \n",
    "    df_2 = create_phase_space(df, col='Country/Region', ncases=n_cases, time_window=time_window)\n",
    "    \n",
    "    \n",
    "    print(df_2.columns)\n",
    "    \n",
    "    #df_2['Size'] = df_2['Confirmed']*2\n",
    "    \n",
    "    fig = px.scatter(df_2, \n",
    "                  x='MeanGrowth_'+str(time_window)+'d', \n",
    "                  y='DailyGrowth_'+str(time_window)+'d', \n",
    "                  size='Confirmed',\n",
    "                  color='Country/Region', \n",
    "                  title=title+\" - World\",\n",
    "                  hover_data={'Country/Region',\n",
    "                              'Confirmed',\n",
    "                              'Date',\n",
    "                              'DailyGrowth'\n",
    "                             }, #What will be shown in the hover box (besides location) \n",
    "                  labels={'MeanGrowth_'+str(time_window)+'d':'Mean growth over '+str(time_window)+'d compared to max growth ',\n",
    "                          'DailyGrowth_'+str(time_window)+'d': '% cases from last '+str(time_window)+'d ',\n",
    "                          'Country/Region':'Country ', \n",
    "                          'Confirmed':title, \n",
    "                          'DailyGrowth': title+' today ' \n",
    "                         })\n",
    "\n",
    "\n",
    "    fig.update_traces(mode='lines+markers')\n",
    "    \n",
    "    fig.update_yaxes(title_text='Percentage of Total occuring in the last '+str(time_window)+' days (%)',\n",
    "                     rangemode=\"tozero\")\n",
    "    \n",
    "    fig.update_xaxes(title_text='Mean Daily Growth over '+str(time_window)+' previous days compared to Max Daily Growth (%)',\n",
    "                     rangemode=\"tozero\")\n",
    "\n",
    "    \n",
    "    ## Uncomment to see on a separate webpage page at the folder \"webpage\"\n",
    "    plot(fig, filename=\"webpage/phase_space_world_\"+title.lower()+\"_\"+date2+\".html\")\n",
    "    \n",
    "\n",
    "    fig.show()\n",
    "    \n",
    "    return df_2"
   ]
  },
  {
   "cell_type": "markdown",
   "metadata": {},
   "source": [
    "## US plot"
   ]
  },
  {
   "cell_type": "code",
   "execution_count": 25,
   "metadata": {
    "ExecuteTime": {
     "end_time": "2020-04-27T22:58:29.673462Z",
     "start_time": "2020-04-27T22:58:29.660756Z"
    }
   },
   "outputs": [
    {
     "ename": "SyntaxError",
     "evalue": "invalid syntax (<ipython-input-25-61d8ddcd9a75>, line 38)",
     "output_type": "error",
     "traceback": [
      "\u001b[0;36m  File \u001b[0;32m\"<ipython-input-25-61d8ddcd9a75>\"\u001b[0;36m, line \u001b[0;32m38\u001b[0m\n\u001b[0;31m    marker: {color: \"blue\",\u001b[0m\n\u001b[0m         ^\u001b[0m\n\u001b[0;31mSyntaxError\u001b[0m\u001b[0;31m:\u001b[0m invalid syntax\n"
     ]
    }
   ],
   "source": [
    "def plot_phase_space_US(df, title='Deaths', time_window=10, n_cases= 50, state=['All States']):\n",
    "        \n",
    "    if state == ('All States',):\n",
    "        print('All states')\n",
    "        \n",
    "        #### ADD SUM FOR STATES\n",
    "\n",
    "        \n",
    "        \n",
    "    else:\n",
    "        df = df[df['Province_State'].isin(state)]\n",
    "\n",
    "        \n",
    "    df_2 = create_phase_space(df, col='Province_State', ncases=n_cases, time_window=time_window)\n",
    "    \n",
    "    \n",
    "    #df_2 = df_2[df_2['MeanGrowth_'+str(time_window)+'d'] > 0]\n",
    "    \n",
    "    \n",
    "    fig = px.scatter(df_2, \n",
    "                  x='MeanGrowth_'+str(time_window)+'d', \n",
    "                  y='DailyGrowth_'+str(time_window)+'d', \n",
    "                  size='Confirmed',\n",
    "                  color='Province_State', \n",
    "                  #animation_frame='Date',\n",
    "                  title=title+\" - US\",\n",
    "                  marker=dict{color:}\n",
    "                  hover_data={'Province_State',\n",
    "                              'Confirmed', \n",
    "                              'Date',\n",
    "                              'DailyGrowth'\n",
    "                             }, #What will be shown in the hover box (besides location) \n",
    "                  labels={'MeanGrowth_'+str(time_window)+'d':'Mean growth over '+str(time_window)+'d compared to max growth ',\n",
    "                          'DailyGrowth_'+str(time_window)+'d': '% cases from last '+str(time_window)+'d ',\n",
    "                          'Province_State':'State ', \n",
    "                          'Confirmed':title,\n",
    "                          'DailyGrowth': title+' today ' ,\n",
    "                         }\n",
    "                    \n",
    "                    )\n",
    "\n",
    "    fig.update_traces(mode='lines+markers')\n",
    "    \n",
    "    fig.update_yaxes(title_text='Percentage of Total occuring in the last '+str(time_window)+' days (%)',\n",
    "                     rangemode=\"tozero\")\n",
    "    \n",
    "    fig.update_xaxes(title_text='Mean Daily Growth over '+str(time_window)+' previous days compared to Max Daily Growth (%)', \n",
    "                     rangemode=\"tozero\")\n",
    "    \n",
    "    \n",
    "    fig[\"layout\"].pop(\"updatemenus\")# optional, drop animation buttons\n",
    "    \n",
    "    # Uncomment to see on a separate webpage page at the folder \"webpage\"\n",
    "    plot(fig, filename=\"webpage/phase_space_us_\"+title.lower()+\"_\"+date2+\".html\")\n",
    "    \n",
    "    fig.show()\n",
    "    \n",
    "    return df_2"
   ]
  },
  {
   "cell_type": "code",
   "execution_count": null,
   "metadata": {},
   "outputs": [],
   "source": []
  },
  {
   "cell_type": "markdown",
   "metadata": {},
   "source": [
    "# Data"
   ]
  },
  {
   "cell_type": "markdown",
   "metadata": {},
   "source": [
    "## World"
   ]
  },
  {
   "cell_type": "markdown",
   "metadata": {},
   "source": [
    "### Reading data"
   ]
  },
  {
   "cell_type": "code",
   "execution_count": 26,
   "metadata": {
    "ExecuteTime": {
     "end_time": "2020-04-27T22:58:30.784800Z",
     "start_time": "2020-04-27T22:58:30.671406Z"
    }
   },
   "outputs": [],
   "source": [
    "daily_cases_global_all = pd.read_csv(date2+'_COVID-19-master_JHU/csse_covid_19_data/csse_covid_19_time_series/time_series_covid19_confirmed_global.csv', \n",
    "                                 dtype=object)\n",
    "daily_cases_global = daily_cases_global_all.drop(columns =['Province/State', 'Lat', 'Long'])\n",
    "\n",
    "daily_deaths_global_all = pd.read_csv(date2+'_COVID-19-master_JHU/csse_covid_19_data/csse_covid_19_time_series/time_series_covid19_deaths_global.csv', \n",
    "                                 dtype=object)\n",
    "daily_deaths_global = daily_deaths_global_all.drop(columns =['Province/State', 'Lat', 'Long'])\n",
    "\n",
    "\n",
    "daily_cases_global[daily_cases_global.columns[1:]] = daily_cases_global[daily_cases_global.columns[1:]].astype(float)\n",
    "daily_deaths_global[daily_deaths_global.columns[1:]] = daily_deaths_global[daily_deaths_global.columns[1:]].astype(float)\n",
    "\n",
    "daily_cases_global = daily_cases_global.groupby('Country/Region').sum().reset_index()\n",
    "daily_deaths_global = daily_deaths_global.groupby('Country/Region').sum().reset_index()"
   ]
  },
  {
   "cell_type": "code",
   "execution_count": 9,
   "metadata": {
    "ExecuteTime": {
     "end_time": "2020-04-27T21:19:43.479859Z",
     "start_time": "2020-04-27T21:19:43.470023Z"
    }
   },
   "outputs": [
    {
     "data": {
      "application/vnd.jupyter.widget-view+json": {
       "model_id": "c13c19282642409c993eb15018aaad95",
       "version_major": 2,
       "version_minor": 0
      },
      "text/plain": [
       "FloatSlider(value=5000.0, continuous_update=False, description='Minimum Number:', max=100000.0, readout_format…"
      ]
     },
     "metadata": {},
     "output_type": "display_data"
    }
   ],
   "source": [
    "min_w = widgets.FloatSlider(\n",
    "    value=5000,\n",
    "    min=0,\n",
    "    max=100000,\n",
    "    step=1000,\n",
    "    description='Minimum Number:',\n",
    "    disabled=False,\n",
    "    continuous_update=False,\n",
    "    orientation='horizontal',\n",
    "    readout=True,\n",
    "    readout_format='.0f',\n",
    ")\n",
    "display(min_w)\n"
   ]
  },
  {
   "cell_type": "code",
   "execution_count": 10,
   "metadata": {
    "ExecuteTime": {
     "end_time": "2020-04-27T21:19:43.487247Z",
     "start_time": "2020-04-27T21:19:43.481717Z"
    }
   },
   "outputs": [],
   "source": [
    "# Select minimum number countries\n",
    "df_cts = daily_cases_global[['Country/Region',daily_cases_global.columns[-1]]]\n",
    "df_cts = df_cts[df_cts[daily_cases_global.columns[-1]].astype(float) > min_w.value]\n",
    "\n",
    "list_countries = ['All Countries']\n",
    "list_countries.extend(sorted(list(df_cts['Country/Region'].unique())))"
   ]
  },
  {
   "cell_type": "markdown",
   "metadata": {},
   "source": [
    "### Widgets"
   ]
  },
  {
   "cell_type": "code",
   "execution_count": 11,
   "metadata": {
    "ExecuteTime": {
     "end_time": "2020-04-27T21:19:43.520929Z",
     "start_time": "2020-04-27T21:19:43.488898Z"
    }
   },
   "outputs": [
    {
     "data": {
      "application/vnd.jupyter.widget-view+json": {
       "model_id": "d9e9573ae7a54fe3bcebb9588553d222",
       "version_major": 2,
       "version_minor": 0
      },
      "text/plain": [
       "SelectMultiple(description='Country:', index=(0, 1, 2, 3, 4, 5, 6, 7, 8, 9, 10, 11, 12, 13, 14, 15, 16, 17, 18…"
      ]
     },
     "metadata": {},
     "output_type": "display_data"
    },
    {
     "data": {
      "application/vnd.jupyter.widget-view+json": {
       "model_id": "d7fded43f8524c24a973059dafb2cef1",
       "version_major": 2,
       "version_minor": 0
      },
      "text/plain": [
       "ToggleButtons(description='Option:', options=('Confirmed Cases', 'Deaths'), value='Confirmed Cases')"
      ]
     },
     "metadata": {},
     "output_type": "display_data"
    },
    {
     "data": {
      "application/vnd.jupyter.widget-view+json": {
       "model_id": "6495626014464418bf30011d2a4ec54d",
       "version_major": 2,
       "version_minor": 0
      },
      "text/plain": [
       "FloatSlider(value=50.0, continuous_update=False, description='Minimum Number:', max=1000.0, readout_format='.0…"
      ]
     },
     "metadata": {},
     "output_type": "display_data"
    },
    {
     "data": {
      "application/vnd.jupyter.widget-view+json": {
       "model_id": "2ea358dfb88348f7bf91a64f039319ab",
       "version_major": 2,
       "version_minor": 0
      },
      "text/plain": [
       "FloatSlider(value=14.0, description='Days Avg:', max=21.0, min=1.0, readout_format='.0f', step=1.0)"
      ]
     },
     "metadata": {},
     "output_type": "display_data"
    }
   ],
   "source": [
    "style = {'description_width': 'initial'}\n",
    "\n",
    "ct_w = widgets.SelectMultiple(\n",
    "    description='Country:',\n",
    "    options=list_countries,\n",
    "    value=list_countries,\n",
    "    layout=Layout(width='20%', height='100px')\n",
    ")\n",
    "display(ct_w)\n",
    "\n",
    "cases_w = widgets.ToggleButtons(\n",
    "    description='Option:',\n",
    "    options=['Confirmed Cases', 'Deaths'],\n",
    ")\n",
    "display(cases_w)\n",
    "\n",
    "min_w = widgets.FloatSlider(\n",
    "    value=50,\n",
    "    min=0,\n",
    "    max=1000,\n",
    "    step=10,\n",
    "    description='Minimum Number:',\n",
    "    disabled=False,\n",
    "    continuous_update=False,\n",
    "    orientation='horizontal',\n",
    "    readout=True,\n",
    "    readout_format='.0f',\n",
    ")\n",
    "display(min_w)\n",
    "\n",
    "tw_w = widgets.FloatSlider(\n",
    "    value=14,\n",
    "    min=1,\n",
    "    max=21,\n",
    "    step=1,\n",
    "    description='Days Avg:',\n",
    "    disabled=False,\n",
    "    #continuous_update=False,\n",
    "    orientation='horizontal',\n",
    "    readout=True,\n",
    "    readout_format='.0f',\n",
    ")\n",
    "display(tw_w)\n"
   ]
  },
  {
   "cell_type": "markdown",
   "metadata": {},
   "source": [
    "### Plot"
   ]
  },
  {
   "cell_type": "code",
   "execution_count": 23,
   "metadata": {
    "ExecuteTime": {
     "end_time": "2020-04-27T21:20:07.826961Z",
     "start_time": "2020-04-27T21:20:06.612255Z"
    }
   },
   "outputs": [
    {
     "name": "stdout",
     "output_type": "stream",
     "text": [
      "Index(['Country/Region', 'Date', 'Confirmed', 'DateDT', 'Days', 'DailyGrowth',\n",
      "       'MaxDailyGrowth', 'DailyGrowth_14d', 'MeanGrowth_14d'],\n",
      "      dtype='object')\n"
     ]
    },
    {
     "data": {
      "application/vnd.plotly.v1+json": {
       "config": {
        "plotlyServerURL": "https://plot.ly"
       },
       "data": [
        {
         "customdata": [
          [
           5,
           "Australia",
           50,
           "4/8/20"
          ],
          [
           1,
           "Australia",
           51,
           "4/9/20"
          ],
          [
           3,
           "Australia",
           54,
           "4/10/20"
          ],
          [
           3,
           "Australia",
           57,
           "4/11/20"
          ],
          [
           3,
           "Australia",
           60,
           "4/12/20"
          ],
          [
           1,
           "Australia",
           61,
           "4/13/20"
          ],
          [
           1,
           "Australia",
           62,
           "4/14/20"
          ],
          [
           1,
           "Australia",
           63,
           "4/15/20"
          ],
          [
           0,
           "Australia",
           63,
           "4/16/20"
          ],
          [
           3,
           "Australia",
           66,
           "4/17/20"
          ],
          [
           1,
           "Australia",
           67,
           "4/18/20"
          ],
          [
           0,
           "Australia",
           67,
           "4/19/20"
          ],
          [
           0,
           "Australia",
           67,
           "4/20/20"
          ],
          [
           0,
           "Australia",
           67,
           "4/21/20"
          ],
          [
           0,
           "Australia",
           67,
           "4/22/20"
          ],
          [
           8,
           "Australia",
           75,
           "4/23/20"
          ],
          [
           4,
           "Australia",
           79,
           "4/24/20"
          ],
          [
           1,
           "Australia",
           80,
           "4/25/20"
          ],
          [
           3,
           "Australia",
           83,
           "4/26/20"
          ]
         ],
         "hoverlabel": {
          "namelength": 0
         },
         "hovertemplate": "Country =%{customdata[1]}<br>Mean growth over 14d compared to max growth =%{x}<br>% cases from last 14d =%{y}<br>Deaths=%{customdata[2]}<br>Deaths today =%{customdata[0]}<br>Date=%{customdata[3]}",
         "legendgroup": "Australia",
         "marker": {
          "color": "#636efa",
          "size": [
           50,
           51,
           54,
           57,
           60,
           61,
           62,
           63,
           63,
           66,
           67,
           67,
           67,
           67,
           67,
           75,
           79,
           80,
           83
          ],
          "sizemode": "area",
          "sizeref": 137.2025,
          "symbol": "circle"
         },
         "mode": "lines+markers",
         "name": "Australia",
         "showlegend": true,
         "type": "scattergl",
         "x": [
          60,
          54.3,
          58.6,
          61.4,
          62.9,
          62.9,
          62.9,
          61.4,
          55.7,
          54.3,
          52.9,
          45.7,
          38.6,
          31.4,
          24.3,
          34.3,
          35.7,
          32.9,
          32.9
         ],
         "xaxis": "x",
         "y": [
          84,
          74.5,
          75.9,
          75.4,
          73.3,
          72.1,
          71,
          68.3,
          61.9,
          57.6,
          55.2,
          47.8,
          40.3,
          32.8,
          25.4,
          32,
          31.6,
          28.8,
          27.7
         ],
         "yaxis": "y"
        },
        {
         "customdata": [
          [
           9,
           "Austria",
           58,
           "3/27/20"
          ],
          [
           10,
           "Austria",
           68,
           "3/28/20"
          ],
          [
           18,
           "Austria",
           86,
           "3/29/20"
          ],
          [
           22,
           "Austria",
           108,
           "3/30/20"
          ],
          [
           20,
           "Austria",
           128,
           "3/31/20"
          ],
          [
           18,
           "Austria",
           146,
           "4/1/20"
          ],
          [
           12,
           "Austria",
           158,
           "4/2/20"
          ],
          [
           10,
           "Austria",
           168,
           "4/3/20"
          ],
          [
           18,
           "Austria",
           186,
           "4/4/20"
          ],
          [
           18,
           "Austria",
           204,
           "4/5/20"
          ],
          [
           16,
           "Austria",
           220,
           "4/6/20"
          ],
          [
           23,
           "Austria",
           243,
           "4/7/20"
          ],
          [
           30,
           "Austria",
           273,
           "4/8/20"
          ],
          [
           22,
           "Austria",
           295,
           "4/9/20"
          ],
          [
           24,
           "Austria",
           319,
           "4/10/20"
          ],
          [
           18,
           "Austria",
           337,
           "4/11/20"
          ],
          [
           13,
           "Austria",
           350,
           "4/12/20"
          ],
          [
           18,
           "Austria",
           368,
           "4/13/20"
          ],
          [
           16,
           "Austria",
           384,
           "4/14/20"
          ],
          [
           9,
           "Austria",
           393,
           "4/15/20"
          ],
          [
           17,
           "Austria",
           410,
           "4/16/20"
          ],
          [
           21,
           "Austria",
           431,
           "4/17/20"
          ],
          [
           12,
           "Austria",
           443,
           "4/18/20"
          ],
          [
           9,
           "Austria",
           452,
           "4/19/20"
          ],
          [
           18,
           "Austria",
           470,
           "4/20/20"
          ],
          [
           21,
           "Austria",
           491,
           "4/21/20"
          ],
          [
           19,
           "Austria",
           510,
           "4/22/20"
          ],
          [
           12,
           "Austria",
           522,
           "4/23/20"
          ],
          [
           8,
           "Austria",
           530,
           "4/24/20"
          ],
          [
           6,
           "Austria",
           536,
           "4/25/20"
          ],
          [
           6,
           "Austria",
           542,
           "4/26/20"
          ]
         ],
         "hoverlabel": {
          "namelength": 0
         },
         "hovertemplate": "Country =%{customdata[1]}<br>Mean growth over 14d compared to max growth =%{x}<br>% cases from last 14d =%{y}<br>Deaths=%{customdata[2]}<br>Deaths today =%{customdata[0]}<br>Date=%{customdata[3]}",
         "legendgroup": "Austria",
         "marker": {
          "color": "#EF553B",
          "size": [
           58,
           68,
           86,
           108,
           128,
           146,
           158,
           168,
           186,
           204,
           220,
           243,
           273,
           295,
           319,
           337,
           350,
           368,
           384,
           393,
           410,
           431,
           443,
           452,
           470,
           491,
           510,
           522,
           530,
           536,
           542
          ],
          "sizemode": "area",
          "sizeref": 137.2025,
          "symbol": "circle"
         },
         "mode": "lines+markers",
         "name": "Austria",
         "showlegend": true,
         "type": "scattergl",
         "x": [
          17,
          19.9,
          25.3,
          31.2,
          37.2,
          42.3,
          45.2,
          48.2,
          53,
          56,
          59.2,
          64,
          72.3,
          73.2,
          77.7,
          80.1,
          78.6,
          77.4,
          76.2,
          73.5,
          75,
          78.3,
          76.5,
          73.8,
          74.4,
          73.8,
          70.5,
          67.6,
          62.8,
          59.2,
          57.1
         ],
         "xaxis": "x",
         "y": [
          98.3,
          98.5,
          98.8,
          97.2,
          97.7,
          97.3,
          96.2,
          96.4,
          95.7,
          92.2,
          90.5,
          88.5,
          89,
          83.4,
          81.8,
          79.8,
          75.4,
          70.7,
          66.7,
          62.8,
          61.5,
          61,
          58,
          54.9,
          53.2,
          50.5,
          46.5,
          43.5,
          39.8,
          37.1,
          35.4
         ],
         "yaxis": "y"
        },
        {
         "customdata": [
          [
           4,
           "Bangladesh",
           50,
           "4/15/20"
          ],
          [
           10,
           "Bangladesh",
           60,
           "4/16/20"
          ],
          [
           15,
           "Bangladesh",
           75,
           "4/17/20"
          ],
          [
           9,
           "Bangladesh",
           84,
           "4/18/20"
          ],
          [
           7,
           "Bangladesh",
           91,
           "4/19/20"
          ],
          [
           10,
           "Bangladesh",
           101,
           "4/20/20"
          ],
          [
           9,
           "Bangladesh",
           110,
           "4/21/20"
          ],
          [
           10,
           "Bangladesh",
           120,
           "4/22/20"
          ],
          [
           7,
           "Bangladesh",
           127,
           "4/23/20"
          ],
          [
           4,
           "Bangladesh",
           131,
           "4/24/20"
          ],
          [
           9,
           "Bangladesh",
           140,
           "4/25/20"
          ],
          [
           5,
           "Bangladesh",
           145,
           "4/26/20"
          ]
         ],
         "hoverlabel": {
          "namelength": 0
         },
         "hovertemplate": "Country =%{customdata[1]}<br>Mean growth over 14d compared to max growth =%{x}<br>% cases from last 14d =%{y}<br>Deaths=%{customdata[2]}<br>Deaths today =%{customdata[0]}<br>Date=%{customdata[3]}",
         "legendgroup": "Bangladesh",
         "marker": {
          "color": "#00cc96",
          "size": [
           50,
           60,
           75,
           84,
           91,
           101,
           110,
           120,
           127,
           131,
           140,
           145
          ],
          "sizemode": "area",
          "sizeref": 137.2025,
          "symbol": "circle"
         },
         "mode": "lines+markers",
         "name": "Bangladesh",
         "showlegend": true,
         "type": "scattergl",
         "x": [
          31.4,
          38.6,
          49.3,
          54.3,
          58.6,
          63.6,
          66.4,
          71.4,
          75.7,
          74.3,
          78.6,
          79.3
         ],
         "xaxis": "x",
         "y": [
          88,
          90,
          92,
          90.5,
          90.1,
          88.1,
          84.5,
          83.3,
          83.5,
          79.4,
          78.6,
          76.6
         ],
         "yaxis": "y"
        },
        {
         "customdata": [
          [
           4,
           "Belarus",
           51,
           "4/20/20"
          ],
          [
           4,
           "Belarus",
           55,
           "4/21/20"
          ],
          [
           3,
           "Belarus",
           58,
           "4/22/20"
          ],
          [
           2,
           "Belarus",
           60,
           "4/23/20"
          ],
          [
           3,
           "Belarus",
           63,
           "4/24/20"
          ],
          [
           4,
           "Belarus",
           67,
           "4/25/20"
          ],
          [
           5,
           "Belarus",
           72,
           "4/26/20"
          ]
         ],
         "hoverlabel": {
          "namelength": 0
         },
         "hovertemplate": "Country =%{customdata[1]}<br>Mean growth over 14d compared to max growth =%{x}<br>% cases from last 14d =%{y}<br>Deaths=%{customdata[2]}<br>Deaths today =%{customdata[0]}<br>Date=%{customdata[3]}",
         "legendgroup": "Belarus",
         "marker": {
          "color": "#ab63fa",
          "size": [
           51,
           55,
           58,
           60,
           63,
           67,
           72
          ],
          "sizemode": "area",
          "sizeref": 137.2025,
          "symbol": "circle"
         },
         "mode": "lines+markers",
         "name": "Belarus",
         "showlegend": true,
         "type": "scattergl",
         "x": [
          54.3,
          60,
          64.3,
          62.9,
          62.9,
          62.9,
          65.7
         ],
         "xaxis": "x",
         "y": [
          74.5,
          76.4,
          77.6,
          73.3,
          69.8,
          65.7,
          63.9
         ],
         "yaxis": "y"
        },
        {
         "customdata": [
          [
           30,
           "Belgium",
           67,
           "3/21/20"
          ],
          [
           8,
           "Belgium",
           75,
           "3/22/20"
          ],
          [
           13,
           "Belgium",
           88,
           "3/23/20"
          ],
          [
           34,
           "Belgium",
           122,
           "3/24/20"
          ],
          [
           56,
           "Belgium",
           178,
           "3/25/20"
          ],
          [
           42,
           "Belgium",
           220,
           "3/26/20"
          ],
          [
           69,
           "Belgium",
           289,
           "3/27/20"
          ],
          [
           64,
           "Belgium",
           353,
           "3/28/20"
          ],
          [
           78,
           "Belgium",
           431,
           "3/29/20"
          ],
          [
           82,
           "Belgium",
           513,
           "3/30/20"
          ],
          [
           192,
           "Belgium",
           705,
           "3/31/20"
          ],
          [
           123,
           "Belgium",
           828,
           "4/1/20"
          ],
          [
           183,
           "Belgium",
           1011,
           "4/2/20"
          ],
          [
           132,
           "Belgium",
           1143,
           "4/3/20"
          ],
          [
           140,
           "Belgium",
           1283,
           "4/4/20"
          ],
          [
           164,
           "Belgium",
           1447,
           "4/5/20"
          ],
          [
           185,
           "Belgium",
           1632,
           "4/6/20"
          ],
          [
           403,
           "Belgium",
           2035,
           "4/7/20"
          ],
          [
           205,
           "Belgium",
           2240,
           "4/8/20"
          ],
          [
           283,
           "Belgium",
           2523,
           "4/9/20"
          ],
          [
           496,
           "Belgium",
           3019,
           "4/10/20"
          ],
          [
           327,
           "Belgium",
           3346,
           "4/11/20"
          ],
          [
           254,
           "Belgium",
           3600,
           "4/12/20"
          ],
          [
           303,
           "Belgium",
           3903,
           "4/13/20"
          ],
          [
           254,
           "Belgium",
           4157,
           "4/14/20"
          ],
          [
           283,
           "Belgium",
           4440,
           "4/15/20"
          ],
          [
           417,
           "Belgium",
           4857,
           "4/16/20"
          ],
          [
           306,
           "Belgium",
           5163,
           "4/17/20"
          ],
          [
           290,
           "Belgium",
           5453,
           "4/18/20"
          ],
          [
           230,
           "Belgium",
           5683,
           "4/19/20"
          ],
          [
           145,
           "Belgium",
           5828,
           "4/20/20"
          ],
          [
           170,
           "Belgium",
           5998,
           "4/21/20"
          ],
          [
           264,
           "Belgium",
           6262,
           "4/22/20"
          ],
          [
           228,
           "Belgium",
           6490,
           "4/23/20"
          ],
          [
           189,
           "Belgium",
           6679,
           "4/24/20"
          ],
          [
           238,
           "Belgium",
           6917,
           "4/25/20"
          ],
          [
           177,
           "Belgium",
           7094,
           "4/26/20"
          ]
         ],
         "hoverlabel": {
          "namelength": 0
         },
         "hovertemplate": "Country =%{customdata[1]}<br>Mean growth over 14d compared to max growth =%{x}<br>% cases from last 14d =%{y}<br>Deaths=%{customdata[2]}<br>Deaths today =%{customdata[0]}<br>Date=%{customdata[3]}",
         "legendgroup": "Belgium",
         "marker": {
          "color": "#FFA15A",
          "size": [
           67,
           75,
           88,
           122,
           178,
           220,
           289,
           353,
           431,
           513,
           705,
           828,
           1011,
           1143,
           1283,
           1447,
           1632,
           2035,
           2240,
           2523,
           3019,
           3346,
           3600,
           3903,
           4157,
           4440,
           4857,
           5163,
           5453,
           5683,
           5828,
           5998,
           6262,
           6490,
           6679,
           6917,
           7094
          ],
          "sizemode": "area",
          "sizeref": 137.2025,
          "symbol": "circle"
         },
         "mode": "lines+markers",
         "name": "Belgium",
         "showlegend": true,
         "type": "scattergl",
         "x": [
          1.1,
          1.3,
          1.5,
          2.1,
          3,
          3.7,
          4.9,
          6,
          7.3,
          8.7,
          11.9,
          13.9,
          17,
          18.9,
          20.8,
          23.5,
          26.4,
          32.8,
          35.3,
          39.4,
          46.8,
          51.3,
          54.3,
          58.1,
          59.1,
          61.9,
          65.9,
          68.9,
          71.4,
          72.6,
          71.9,
          67.9,
          68.9,
          68,
          62.7,
          61.2,
          59.8
         ],
         "xaxis": "x",
         "y": [
          100,
          100,
          100,
          100,
          98.3,
          98.6,
          99,
          98.9,
          99.1,
          99,
          98.6,
          98.3,
          97.9,
          96.8,
          94.8,
          94.8,
          94.6,
          94,
          92.1,
          91.3,
          90.4,
          89.5,
          88,
          86.9,
          83,
          81.4,
          79.2,
          77.9,
          76.5,
          74.5,
          72,
          66.1,
          64.2,
          61.1,
          54.8,
          51.6,
          49.3
         ],
         "yaxis": "y"
        },
        {
         "customdata": [
          [
           13,
           "Brazil",
           59,
           "3/25/20"
          ],
          [
           18,
           "Brazil",
           77,
           "3/26/20"
          ],
          [
           15,
           "Brazil",
           92,
           "3/27/20"
          ],
          [
           19,
           "Brazil",
           111,
           "3/28/20"
          ],
          [
           25,
           "Brazil",
           136,
           "3/29/20"
          ],
          [
           23,
           "Brazil",
           159,
           "3/30/20"
          ],
          [
           42,
           "Brazil",
           201,
           "3/31/20"
          ],
          [
           39,
           "Brazil",
           240,
           "4/1/20"
          ],
          [
           84,
           "Brazil",
           324,
           "4/2/20"
          ],
          [
           35,
           "Brazil",
           359,
           "4/3/20"
          ],
          [
           86,
           "Brazil",
           445,
           "4/4/20"
          ],
          [
           41,
           "Brazil",
           486,
           "4/5/20"
          ],
          [
           78,
           "Brazil",
           564,
           "4/6/20"
          ],
          [
           122,
           "Brazil",
           686,
           "4/7/20"
          ],
          [
           133,
           "Brazil",
           819,
           "4/8/20"
          ],
          [
           131,
           "Brazil",
           950,
           "4/9/20"
          ],
          [
           107,
           "Brazil",
           1057,
           "4/10/20"
          ],
          [
           67,
           "Brazil",
           1124,
           "4/11/20"
          ],
          [
           99,
           "Brazil",
           1223,
           "4/12/20"
          ],
          [
           105,
           "Brazil",
           1328,
           "4/13/20"
          ],
          [
           204,
           "Brazil",
           1532,
           "4/14/20"
          ],
          [
           204,
           "Brazil",
           1736,
           "4/15/20"
          ],
          [
           188,
           "Brazil",
           1924,
           "4/16/20"
          ],
          [
           217,
           "Brazil",
           2141,
           "4/17/20"
          ],
          [
           213,
           "Brazil",
           2354,
           "4/18/20"
          ],
          [
           108,
           "Brazil",
           2462,
           "4/19/20"
          ],
          [
           125,
           "Brazil",
           2587,
           "4/20/20"
          ],
          [
           154,
           "Brazil",
           2741,
           "4/21/20"
          ],
          [
           165,
           "Brazil",
           2906,
           "4/22/20"
          ],
          [
           425,
           "Brazil",
           3331,
           "4/23/20"
          ],
          [
           373,
           "Brazil",
           3704,
           "4/24/20"
          ],
          [
           353,
           "Brazil",
           4057,
           "4/25/20"
          ],
          [
           229,
           "Brazil",
           4286,
           "4/26/20"
          ]
         ],
         "hoverlabel": {
          "namelength": 0
         },
         "hovertemplate": "Country =%{customdata[1]}<br>Mean growth over 14d compared to max growth =%{x}<br>% cases from last 14d =%{y}<br>Deaths=%{customdata[2]}<br>Deaths today =%{customdata[0]}<br>Date=%{customdata[3]}",
         "legendgroup": "Brazil",
         "marker": {
          "color": "#19d3f3",
          "size": [
           59,
           77,
           92,
           111,
           136,
           159,
           201,
           240,
           324,
           359,
           445,
           486,
           564,
           686,
           819,
           950,
           1057,
           1124,
           1223,
           1328,
           1532,
           1736,
           1924,
           2141,
           2354,
           2462,
           2587,
           2741,
           2906,
           3331,
           3704,
           4057,
           4286
          ],
          "sizemode": "area",
          "sizeref": 137.2025,
          "symbol": "circle"
         },
         "mode": "lines+markers",
         "name": "Brazil",
         "showlegend": true,
         "type": "scattergl",
         "x": [
          1.1,
          1.5,
          1.8,
          2.1,
          2.6,
          3,
          3.8,
          4.5,
          6.1,
          6.7,
          8.2,
          8.8,
          10.1,
          12.3,
          14.6,
          16.7,
          18.5,
          19.4,
          20.8,
          22.4,
          25.5,
          28.6,
          30.6,
          34.1,
          36.6,
          37.8,
          38.7,
          39.4,
          40,
          45.6,
          50.7,
          56.2,
          58.7
         ],
         "xaxis": "x",
         "y": [
          100,
          100,
          100,
          100,
          100,
          100,
          99.5,
          98.8,
          98.1,
          96.9,
          96.6,
          94.9,
          94,
          93.3,
          92.8,
          91.9,
          91.3,
          90.1,
          88.9,
          88,
          86.9,
          86.2,
          83.2,
          83.2,
          81.1,
          80.3,
          78.2,
          75,
          71.8,
          71.5,
          71.5,
          72.3,
          71.5
         ],
         "yaxis": "y"
        },
        {
         "customdata": [
          [
           16,
           "Canada",
           54,
           "3/27/20"
          ],
          [
           7,
           "Canada",
           61,
           "3/28/20"
          ],
          [
           3,
           "Canada",
           64,
           "3/29/20"
          ],
          [
           16,
           "Canada",
           80,
           "3/30/20"
          ],
          [
           21,
           "Canada",
           101,
           "3/31/20"
          ],
          [
           8,
           "Canada",
           109,
           "4/1/20"
          ],
          [
           30,
           "Canada",
           139,
           "4/2/20"
          ],
          [
           40,
           "Canada",
           179,
           "4/3/20"
          ],
          [
           39,
           "Canada",
           218,
           "4/4/20"
          ],
          [
           41,
           "Canada",
           259,
           "4/5/20"
          ],
          [
           80,
           "Canada",
           339,
           "4/6/20"
          ],
          [
           36,
           "Canada",
           375,
           "4/7/20"
          ],
          [
           32,
           "Canada",
           407,
           "4/8/20"
          ],
          [
           96,
           "Canada",
           503,
           "4/9/20"
          ],
          [
           54,
           "Canada",
           557,
           "4/10/20"
          ],
          [
           97,
           "Canada",
           654,
           "4/11/20"
          ],
          [
           60,
           "Canada",
           714,
           "4/12/20"
          ],
          [
           67,
           "Canada",
           781,
           "4/13/20"
          ],
          [
           120,
           "Canada",
           901,
           "4/14/20"
          ],
          [
           107,
           "Canada",
           1008,
           "4/15/20"
          ],
          [
           251,
           "Canada",
           1259,
           "4/16/20"
          ],
          [
           97,
           "Canada",
           1356,
           "4/17/20"
          ],
          [
           45,
           "Canada",
           1401,
           "4/18/20"
          ],
          [
           164,
           "Canada",
           1565,
           "4/19/20"
          ],
          [
           162,
           "Canada",
           1727,
           "4/20/20"
          ],
          [
           183,
           "Canada",
           1910,
           "4/21/20"
          ],
          [
           168,
           "Canada",
           2078,
           "4/22/20"
          ],
          [
           163,
           "Canada",
           2241,
           "4/23/20"
          ],
          [
           161,
           "Canada",
           2402,
           "4/24/20"
          ],
          [
           169,
           "Canada",
           2571,
           "4/25/20"
          ],
          [
           116,
           "Canada",
           2687,
           "4/26/20"
          ]
         ],
         "hoverlabel": {
          "namelength": 0
         },
         "hovertemplate": "Country =%{customdata[1]}<br>Mean growth over 14d compared to max growth =%{x}<br>% cases from last 14d =%{y}<br>Deaths=%{customdata[2]}<br>Deaths today =%{customdata[0]}<br>Date=%{customdata[3]}",
         "legendgroup": "Canada",
         "marker": {
          "color": "#FF6692",
          "size": [
           54,
           61,
           64,
           80,
           101,
           109,
           139,
           179,
           218,
           259,
           339,
           375,
           407,
           503,
           557,
           654,
           714,
           781,
           901,
           1008,
           1259,
           1356,
           1401,
           1565,
           1727,
           1910,
           2078,
           2241,
           2402,
           2571,
           2687
          ],
          "sizemode": "area",
          "sizeref": 137.2025,
          "symbol": "circle"
         },
         "mode": "lines+markers",
         "name": "Canada",
         "showlegend": true,
         "type": "scattergl",
         "x": [
          2.1,
          2.3,
          2.5,
          3,
          3.7,
          3.9,
          5.1,
          6.5,
          7.8,
          9.3,
          12.3,
          13.6,
          14.7,
          18.1,
          19.6,
          23.1,
          25.4,
          27.4,
          31.2,
          35.1,
          43.7,
          45.9,
          46.2,
          51,
          54.2,
          59.9,
          65.2,
          67.8,
          72,
          74.8,
          77
         ],
         "xaxis": "x",
         "y": [
          98.1,
          98.4,
          98.4,
          95,
          95,
          92.7,
          93.5,
          93.3,
          91.3,
          91.9,
          92.6,
          93.1,
          92.6,
          92.4,
          90.3,
          90.7,
          91,
          89.8,
          88.8,
          89.2,
          89,
          86.8,
          84.4,
          83.5,
          80.4,
          80.4,
          80.4,
          77.6,
          76.8,
          74.6,
          73.4
         ],
         "yaxis": "y"
        },
        {
         "customdata": [
          [
           9,
           "Chile",
           57,
           "4/9/20"
          ],
          [
           8,
           "Chile",
           65,
           "4/10/20"
          ],
          [
           8,
           "Chile",
           73,
           "4/11/20"
          ],
          [
           7,
           "Chile",
           80,
           "4/12/20"
          ],
          [
           2,
           "Chile",
           82,
           "4/13/20"
          ],
          [
           10,
           "Chile",
           92,
           "4/14/20"
          ],
          [
           2,
           "Chile",
           94,
           "4/15/20"
          ],
          [
           11,
           "Chile",
           105,
           "4/16/20"
          ],
          [
           11,
           "Chile",
           116,
           "4/17/20"
          ],
          [
           10,
           "Chile",
           126,
           "4/18/20"
          ],
          [
           7,
           "Chile",
           133,
           "4/19/20"
          ],
          [
           6,
           "Chile",
           139,
           "4/20/20"
          ],
          [
           8,
           "Chile",
           147,
           "4/21/20"
          ],
          [
           13,
           "Chile",
           160,
           "4/22/20"
          ],
          [
           8,
           "Chile",
           168,
           "4/23/20"
          ],
          [
           6,
           "Chile",
           174,
           "4/24/20"
          ],
          [
           7,
           "Chile",
           181,
           "4/25/20"
          ],
          [
           8,
           "Chile",
           189,
           "4/26/20"
          ]
         ],
         "hoverlabel": {
          "namelength": 0
         },
         "hovertemplate": "Country =%{customdata[1]}<br>Mean growth over 14d compared to max growth =%{x}<br>% cases from last 14d =%{y}<br>Deaths=%{customdata[2]}<br>Deaths today =%{customdata[0]}<br>Date=%{customdata[3]}",
         "legendgroup": "Chile",
         "marker": {
          "color": "#B6E880",
          "size": [
           57,
           65,
           73,
           80,
           82,
           92,
           94,
           105,
           116,
           126,
           133,
           139,
           147,
           160,
           168,
           174,
           181,
           189
          ],
          "sizemode": "area",
          "sizeref": 137.2025,
          "symbol": "circle"
         },
         "mode": "lines+markers",
         "name": "Chile",
         "showlegend": true,
         "type": "scattergl",
         "x": [
          34.4,
          39,
          43.5,
          47.4,
          48.1,
          51.9,
          50.6,
          56.5,
          61,
          64.3,
          64.3,
          66.2,
          67.5,
          72.7,
          72.1,
          70.8,
          70.1,
          70.8
         ],
         "xaxis": "x",
         "y": [
          93,
          92.3,
          91.8,
          91.2,
          90.2,
          87,
          83,
          82.9,
          81,
          78.6,
          74.4,
          73.4,
          70.7,
          70,
          66.1,
          62.6,
          59.7,
          57.7
         ],
         "yaxis": "y"
        },
        {
         "customdata": [
          [
           14,
           "China",
           56,
           "1/26/20"
          ],
          [
           26,
           "China",
           82,
           "1/27/20"
          ],
          [
           49,
           "China",
           131,
           "1/28/20"
          ],
          [
           2,
           "China",
           133,
           "1/29/20"
          ],
          [
           38,
           "China",
           171,
           "1/30/20"
          ],
          [
           42,
           "China",
           213,
           "1/31/20"
          ],
          [
           46,
           "China",
           259,
           "2/1/20"
          ],
          [
           102,
           "China",
           361,
           "2/2/20"
          ],
          [
           64,
           "China",
           425,
           "2/3/20"
          ],
          [
           66,
           "China",
           491,
           "2/4/20"
          ],
          [
           72,
           "China",
           563,
           "2/5/20"
          ],
          [
           70,
           "China",
           633,
           "2/6/20"
          ],
          [
           85,
           "China",
           718,
           "2/7/20"
          ],
          [
           87,
           "China",
           805,
           "2/8/20"
          ],
          [
           100,
           "China",
           905,
           "2/9/20"
          ],
          [
           107,
           "China",
           1012,
           "2/10/20"
          ],
          [
           100,
           "China",
           1112,
           "2/11/20"
          ],
          [
           5,
           "China",
           1117,
           "2/12/20"
          ],
          [
           252,
           "China",
           1369,
           "2/13/20"
          ],
          [
           152,
           "China",
           1521,
           "2/14/20"
          ],
          [
           142,
           "China",
           1663,
           "2/15/20"
          ],
          [
           103,
           "China",
           1766,
           "2/16/20"
          ],
          [
           98,
           "China",
           1864,
           "2/17/20"
          ],
          [
           139,
           "China",
           2003,
           "2/18/20"
          ],
          [
           113,
           "China",
           2116,
           "2/19/20"
          ],
          [
           122,
           "China",
           2238,
           "2/20/20"
          ],
          [
           0,
           "China",
           2238,
           "2/21/20"
          ],
          [
           205,
           "China",
           2443,
           "2/22/20"
          ],
          [
           2,
           "China",
           2445,
           "2/23/20"
          ],
          [
           150,
           "China",
           2595,
           "2/24/20"
          ],
          [
           70,
           "China",
           2665,
           "2/25/20"
          ],
          [
           52,
           "China",
           2717,
           "2/26/20"
          ],
          [
           29,
           "China",
           2746,
           "2/27/20"
          ],
          [
           44,
           "China",
           2790,
           "2/28/20"
          ],
          [
           47,
           "China",
           2837,
           "2/29/20"
          ],
          [
           35,
           "China",
           2872,
           "3/1/20"
          ],
          [
           42,
           "China",
           2914,
           "3/2/20"
          ],
          [
           33,
           "China",
           2947,
           "3/3/20"
          ],
          [
           36,
           "China",
           2983,
           "3/4/20"
          ],
          [
           32,
           "China",
           3015,
           "3/5/20"
          ],
          [
           29,
           "China",
           3044,
           "3/6/20"
          ],
          [
           28,
           "China",
           3072,
           "3/7/20"
          ],
          [
           28,
           "China",
           3100,
           "3/8/20"
          ],
          [
           23,
           "China",
           3123,
           "3/9/20"
          ],
          [
           16,
           "China",
           3139,
           "3/10/20"
          ],
          [
           22,
           "China",
           3161,
           "3/11/20"
          ],
          [
           11,
           "China",
           3172,
           "3/12/20"
          ],
          [
           8,
           "China",
           3180,
           "3/13/20"
          ],
          [
           13,
           "China",
           3193,
           "3/14/20"
          ],
          [
           10,
           "China",
           3203,
           "3/15/20"
          ],
          [
           14,
           "China",
           3217,
           "3/16/20"
          ],
          [
           13,
           "China",
           3230,
           "3/17/20"
          ],
          [
           11,
           "China",
           3241,
           "3/18/20"
          ],
          [
           8,
           "China",
           3249,
           "3/19/20"
          ],
          [
           4,
           "China",
           3253,
           "3/20/20"
          ],
          [
           6,
           "China",
           3259,
           "3/21/20"
          ],
          [
           15,
           "China",
           3274,
           "3/22/20"
          ],
          [
           0,
           "China",
           3274,
           "3/23/20"
          ],
          [
           7,
           "China",
           3281,
           "3/24/20"
          ],
          [
           4,
           "China",
           3285,
           "3/25/20"
          ],
          [
           6,
           "China",
           3291,
           "3/26/20"
          ],
          [
           5,
           "China",
           3296,
           "3/27/20"
          ],
          [
           3,
           "China",
           3299,
           "3/28/20"
          ],
          [
           5,
           "China",
           3304,
           "3/29/20"
          ],
          [
           4,
           "China",
           3308,
           "3/30/20"
          ],
          [
           1,
           "China",
           3309,
           "3/31/20"
          ],
          [
           7,
           "China",
           3316,
           "4/1/20"
          ],
          [
           6,
           "China",
           3322,
           "4/2/20"
          ],
          [
           4,
           "China",
           3326,
           "4/3/20"
          ],
          [
           4,
           "China",
           3330,
           "4/4/20"
          ],
          [
           3,
           "China",
           3333,
           "4/5/20"
          ],
          [
           2,
           "China",
           3335,
           "4/6/20"
          ],
          [
           0,
           "China",
           3335,
           "4/7/20"
          ],
          [
           2,
           "China",
           3337,
           "4/8/20"
          ],
          [
           2,
           "China",
           3339,
           "4/9/20"
          ],
          [
           1,
           "China",
           3340,
           "4/10/20"
          ],
          [
           3,
           "China",
           3343,
           "4/11/20"
          ],
          [
           0,
           "China",
           3343,
           "4/12/20"
          ],
          [
           2,
           "China",
           3345,
           "4/13/20"
          ],
          [
           0,
           "China",
           3345,
           "4/14/20"
          ],
          [
           1,
           "China",
           3346,
           "4/15/20"
          ],
          [
           0,
           "China",
           3346,
           "4/16/20"
          ],
          [
           1290,
           "China",
           4636,
           "4/17/20"
          ],
          [
           0,
           "China",
           4636,
           "4/18/20"
          ],
          [
           0,
           "China",
           4636,
           "4/19/20"
          ],
          [
           0,
           "China",
           4636,
           "4/20/20"
          ],
          [
           0,
           "China",
           4636,
           "4/21/20"
          ],
          [
           0,
           "China",
           4636,
           "4/22/20"
          ],
          [
           0,
           "China",
           4636,
           "4/23/20"
          ],
          [
           0,
           "China",
           4636,
           "4/24/20"
          ],
          [
           0,
           "China",
           4636,
           "4/25/20"
          ],
          [
           1,
           "China",
           4637,
           "4/26/20"
          ]
         ],
         "hoverlabel": {
          "namelength": 0
         },
         "hovertemplate": "Country =%{customdata[1]}<br>Mean growth over 14d compared to max growth =%{x}<br>% cases from last 14d =%{y}<br>Deaths=%{customdata[2]}<br>Deaths today =%{customdata[0]}<br>Date=%{customdata[3]}",
         "legendgroup": "China",
         "marker": {
          "color": "#FF97FF",
          "size": [
           56,
           82,
           131,
           133,
           171,
           213,
           259,
           361,
           425,
           491,
           563,
           633,
           718,
           805,
           905,
           1012,
           1112,
           1117,
           1369,
           1521,
           1663,
           1766,
           1864,
           2003,
           2116,
           2238,
           2238,
           2443,
           2445,
           2595,
           2665,
           2717,
           2746,
           2790,
           2837,
           2872,
           2914,
           2947,
           2983,
           3015,
           3044,
           3072,
           3100,
           3123,
           3139,
           3161,
           3172,
           3180,
           3193,
           3203,
           3217,
           3230,
           3241,
           3249,
           3253,
           3259,
           3274,
           3274,
           3281,
           3285,
           3291,
           3296,
           3299,
           3304,
           3308,
           3309,
           3316,
           3322,
           3326,
           3330,
           3333,
           3335,
           3335,
           3337,
           3339,
           3340,
           3343,
           3343,
           3345,
           3345,
           3346,
           3346,
           4636,
           4636,
           4636,
           4636,
           4636,
           4636,
           4636,
           4636,
           4636,
           4637
          ],
          "sizemode": "area",
          "sizeref": 137.2025,
          "symbol": "circle"
         },
         "mode": "lines+markers",
         "name": "China",
         "showlegend": true,
         "type": "scattergl",
         "x": [
          0,
          0,
          0,
          0,
          0.7,
          1.5,
          2.6,
          5.3,
          6.9,
          8.6,
          15.5,
          17.4,
          19.6,
          21.6,
          24.1,
          26.4,
          27.8,
          27.9,
          34,
          37.1,
          39.8,
          39.8,
          40.8,
          42.9,
          44,
          45.5,
          43.1,
          46.4,
          43.7,
          44.9,
          44,
          45.4,
          39,
          36,
          33.3,
          31.3,
          29.8,
          26.8,
          24.6,
          22,
          22.8,
          17.8,
          18.6,
          15,
          13.4,
          12.6,
          12.1,
          11.1,
          10.1,
          9.4,
          8.6,
          8,
          7.3,
          6.6,
          5.9,
          5.3,
          4.9,
          4.3,
          4,
          3.5,
          3.4,
          3.3,
          3,
          2.9,
          2.6,
          2.2,
          2.1,
          2.1,
          2.1,
          2,
          1.7,
          1.7,
          1.5,
          1.5,
          1.4,
          1.2,
          1.2,
          1.1,
          1,
          1,
          0.9,
          0.7,
          37.1,
          37,
          36.9,
          36.9,
          36.9,
          36.8,
          36.8,
          36.7,
          36.6,
          36.7
         ],
         "xaxis": "x",
         "y": [
          0,
          0,
          0,
          0,
          14,
          24.9,
          35.1,
          51.8,
          57.4,
          61.5,
          97,
          97.2,
          96.4,
          94.8,
          93.8,
          91.9,
          88.2,
          88.1,
          87.5,
          86,
          84.4,
          79.6,
          77.2,
          75.5,
          73.4,
          71.7,
          67.9,
          67,
          63,
          61,
          58.3,
          58.9,
          50.1,
          45.5,
          41.4,
          38.5,
          36,
          32,
          29.1,
          25.8,
          26.5,
          20.5,
          21.1,
          16.9,
          15.1,
          14,
          13.4,
          12.3,
          11.1,
          10.3,
          9.4,
          8.8,
          8,
          7.2,
          6.4,
          5.7,
          5.3,
          4.6,
          4.3,
          3.8,
          3.6,
          3.5,
          3.2,
          3.1,
          2.8,
          2.4,
          2.3,
          2.2,
          2.2,
          2.1,
          1.8,
          1.8,
          1.6,
          1.6,
          1.4,
          1.3,
          1.3,
          1.2,
          1.1,
          1.1,
          0.9,
          0.7,
          28.3,
          28.2,
          28.1,
          28.1,
          28.1,
          28,
          28,
          28,
          27.9,
          27.9
         ],
         "yaxis": "y"
        },
        {
         "customdata": [
          [
           4,
           "Colombia",
           50,
           "4/7/20"
          ],
          [
           4,
           "Colombia",
           54,
           "4/8/20"
          ],
          [
           15,
           "Colombia",
           69,
           "4/9/20"
          ],
          [
           11,
           "Colombia",
           80,
           "4/10/20"
          ],
          [
           20,
           "Colombia",
           100,
           "4/11/20"
          ],
          [
           9,
           "Colombia",
           109,
           "4/12/20"
          ],
          [
           3,
           "Colombia",
           112,
           "4/13/20"
          ],
          [
           15,
           "Colombia",
           127,
           "4/14/20"
          ],
          [
           4,
           "Colombia",
           131,
           "4/15/20"
          ],
          [
           13,
           "Colombia",
           144,
           "4/16/20"
          ],
          [
           9,
           "Colombia",
           153,
           "4/17/20"
          ],
          [
           0,
           "Colombia",
           153,
           "4/18/20"
          ],
          [
           26,
           "Colombia",
           179,
           "4/19/20"
          ],
          [
           10,
           "Colombia",
           189,
           "4/20/20"
          ],
          [
           7,
           "Colombia",
           196,
           "4/21/20"
          ],
          [
           10,
           "Colombia",
           206,
           "4/22/20"
          ],
          [
           9,
           "Colombia",
           215,
           "4/23/20"
          ],
          [
           10,
           "Colombia",
           225,
           "4/24/20"
          ],
          [
           8,
           "Colombia",
           233,
           "4/25/20"
          ],
          [
           11,
           "Colombia",
           244,
           "4/26/20"
          ]
         ],
         "hoverlabel": {
          "namelength": 0
         },
         "hovertemplate": "Country =%{customdata[1]}<br>Mean growth over 14d compared to max growth =%{x}<br>% cases from last 14d =%{y}<br>Deaths=%{customdata[2]}<br>Deaths today =%{customdata[0]}<br>Date=%{customdata[3]}",
         "legendgroup": "Colombia",
         "marker": {
          "color": "#FECB52",
          "size": [
           50,
           54,
           69,
           80,
           100,
           109,
           112,
           127,
           131,
           144,
           153,
           153,
           179,
           189,
           196,
           206,
           215,
           225,
           233,
           244
          ],
          "sizemode": "area",
          "sizeref": 137.2025,
          "symbol": "circle"
         },
         "mode": "lines+markers",
         "name": "Colombia",
         "showlegend": true,
         "type": "scattergl",
         "x": [
          16.8,
          17.9,
          22.5,
          26.4,
          33.6,
          35.4,
          35.7,
          39.6,
          40.7,
          44.6,
          45.7,
          43.2,
          51.4,
          51.1,
          52.1,
          54.3,
          52.1,
          51.8,
          47.5,
          48.2
         ],
         "xaxis": "x",
         "y": [
          94,
          92.6,
          91.3,
          92.5,
          94,
          90.8,
          89.3,
          87.4,
          87,
          86.8,
          83.7,
          79.1,
          80.4,
          75.7,
          74.5,
          73.8,
          67.9,
          64.4,
          57.1,
          55.3
         ],
         "yaxis": "y"
        },
        {
         "customdata": [
          [
           9,
           "Czechia",
           53,
           "4/3/20"
          ],
          [
           6,
           "Czechia",
           59,
           "4/4/20"
          ],
          [
           8,
           "Czechia",
           67,
           "4/5/20"
          ],
          [
           11,
           "Czechia",
           78,
           "4/6/20"
          ],
          [
           10,
           "Czechia",
           88,
           "4/7/20"
          ],
          [
           11,
           "Czechia",
           99,
           "4/8/20"
          ],
          [
           13,
           "Czechia",
           112,
           "4/9/20"
          ],
          [
           7,
           "Czechia",
           119,
           "4/10/20"
          ],
          [
           10,
           "Czechia",
           129,
           "4/11/20"
          ],
          [
           9,
           "Czechia",
           138,
           "4/12/20"
          ],
          [
           5,
           "Czechia",
           143,
           "4/13/20"
          ],
          [
           18,
           "Czechia",
           161,
           "4/14/20"
          ],
          [
           5,
           "Czechia",
           166,
           "4/15/20"
          ],
          [
           3,
           "Czechia",
           169,
           "4/16/20"
          ],
          [
           4,
           "Czechia",
           173,
           "4/17/20"
          ],
          [
           8,
           "Czechia",
           181,
           "4/18/20"
          ],
          [
           5,
           "Czechia",
           186,
           "4/19/20"
          ],
          [
           8,
           "Czechia",
           194,
           "4/20/20"
          ],
          [
           7,
           "Czechia",
           201,
           "4/21/20"
          ],
          [
           7,
           "Czechia",
           208,
           "4/22/20"
          ],
          [
           2,
           "Czechia",
           210,
           "4/23/20"
          ],
          [
           4,
           "Czechia",
           214,
           "4/24/20"
          ],
          [
           4,
           "Czechia",
           218,
           "4/25/20"
          ],
          [
           2,
           "Czechia",
           220,
           "4/26/20"
          ]
         ],
         "hoverlabel": {
          "namelength": 0
         },
         "hovertemplate": "Country =%{customdata[1]}<br>Mean growth over 14d compared to max growth =%{x}<br>% cases from last 14d =%{y}<br>Deaths=%{customdata[2]}<br>Deaths today =%{customdata[0]}<br>Date=%{customdata[3]}",
         "legendgroup": "Czechia",
         "marker": {
          "color": "#636efa",
          "size": [
           53,
           59,
           67,
           78,
           88,
           99,
           112,
           119,
           129,
           138,
           143,
           161,
           166,
           169,
           173,
           181,
           186,
           194,
           201,
           208,
           210,
           214,
           218,
           220
          ],
          "sizemode": "area",
          "sizeref": 137.2025,
          "symbol": "circle"
         },
         "mode": "lines+markers",
         "name": "Czechia",
         "showlegend": true,
         "type": "scattergl",
         "x": [
          29.1,
          32.4,
          36.3,
          42.3,
          46.7,
          51.1,
          56.6,
          60.4,
          64.8,
          67,
          65.9,
          71.4,
          69.8,
          68.7,
          65.9,
          67,
          65.4,
          63.7,
          62.1,
          59.9,
          53.8,
          52.2,
          48.9,
          45.1
         ],
         "xaxis": "x",
         "y": [
          100,
          100,
          98.5,
          98.7,
          96.6,
          93.9,
          92,
          92.4,
          91.5,
          88.4,
          83.9,
          80.7,
          76.5,
          74,
          69.4,
          67.4,
          64,
          59.8,
          56.2,
          52.4,
          46.7,
          44.4,
          40.8,
          37.3
         ],
         "yaxis": "y"
        },
        {
         "customdata": [
          [
           11,
           "Denmark",
           52,
           "3/27/20"
          ],
          [
           13,
           "Denmark",
           65,
           "3/28/20"
          ],
          [
           7,
           "Denmark",
           72,
           "3/29/20"
          ],
          [
           5,
           "Denmark",
           77,
           "3/30/20"
          ],
          [
           13,
           "Denmark",
           90,
           "3/31/20"
          ],
          [
           14,
           "Denmark",
           104,
           "4/1/20"
          ],
          [
           19,
           "Denmark",
           123,
           "4/2/20"
          ],
          [
           16,
           "Denmark",
           139,
           "4/3/20"
          ],
          [
           22,
           "Denmark",
           161,
           "4/4/20"
          ],
          [
           18,
           "Denmark",
           179,
           "4/5/20"
          ],
          [
           8,
           "Denmark",
           187,
           "4/6/20"
          ],
          [
           16,
           "Denmark",
           203,
           "4/7/20"
          ],
          [
           15,
           "Denmark",
           218,
           "4/8/20"
          ],
          [
           19,
           "Denmark",
           237,
           "4/9/20"
          ],
          [
           10,
           "Denmark",
           247,
           "4/10/20"
          ],
          [
           13,
           "Denmark",
           260,
           "4/11/20"
          ],
          [
           13,
           "Denmark",
           273,
           "4/12/20"
          ],
          [
           12,
           "Denmark",
           285,
           "4/13/20"
          ],
          [
           14,
           "Denmark",
           299,
           "4/14/20"
          ],
          [
           10,
           "Denmark",
           309,
           "4/15/20"
          ],
          [
           12,
           "Denmark",
           321,
           "4/16/20"
          ],
          [
           15,
           "Denmark",
           336,
           "4/17/20"
          ],
          [
           10,
           "Denmark",
           346,
           "4/18/20"
          ],
          [
           9,
           "Denmark",
           355,
           "4/19/20"
          ],
          [
           9,
           "Denmark",
           364,
           "4/20/20"
          ],
          [
           6,
           "Denmark",
           370,
           "4/21/20"
          ],
          [
           14,
           "Denmark",
           384,
           "4/22/20"
          ],
          [
           10,
           "Denmark",
           394,
           "4/23/20"
          ],
          [
           9,
           "Denmark",
           403,
           "4/24/20"
          ],
          [
           15,
           "Denmark",
           418,
           "4/25/20"
          ],
          [
           4,
           "Denmark",
           422,
           "4/26/20"
          ]
         ],
         "hoverlabel": {
          "namelength": 0
         },
         "hovertemplate": "Country =%{customdata[1]}<br>Mean growth over 14d compared to max growth =%{x}<br>% cases from last 14d =%{y}<br>Deaths=%{customdata[2]}<br>Deaths today =%{customdata[0]}<br>Date=%{customdata[3]}",
         "legendgroup": "Denmark",
         "marker": {
          "color": "#EF553B",
          "size": [
           52,
           65,
           72,
           77,
           90,
           104,
           123,
           139,
           161,
           179,
           187,
           203,
           218,
           237,
           247,
           260,
           273,
           285,
           299,
           309,
           321,
           336,
           346,
           355,
           364,
           370,
           384,
           394,
           403,
           418,
           422
          ],
          "sizemode": "area",
          "sizeref": 137.2025,
          "symbol": "circle"
         },
         "mode": "lines+markers",
         "name": "Denmark",
         "showlegend": true,
         "type": "scattergl",
         "x": [
          19.5,
          24.1,
          26.3,
          27.8,
          32.3,
          37.6,
          44,
          48.9,
          55.6,
          62.4,
          61.3,
          64.3,
          69.2,
          73.7,
          73.3,
          73.3,
          75.6,
          78.2,
          78.6,
          77.1,
          74.4,
          74.1,
          69.5,
          66.2,
          66.5,
          62.8,
          62.4,
          59,
          58.6,
          59.4,
          56
         ],
         "xaxis": "x",
         "y": [
          100,
          98.5,
          97.2,
          96.1,
          95.6,
          96.2,
          95.1,
          93.5,
          91.9,
          92.7,
          87.2,
          84.2,
          84.4,
          82.7,
          78.9,
          75,
          73.6,
          73,
          69.9,
          66.3,
          61.7,
          58.6,
          53.5,
          49.6,
          48.6,
          45.1,
          43.2,
          39.8,
          38.7,
          37.8,
          35.3
         ],
         "yaxis": "y"
        },
        {
         "customdata": [
          [
           9,
           "Dominican Republic",
           51,
           "3/31/20"
          ],
          [
           6,
           "Dominican Republic",
           57,
           "4/1/20"
          ],
          [
           3,
           "Dominican Republic",
           60,
           "4/2/20"
          ],
          [
           8,
           "Dominican Republic",
           68,
           "4/3/20"
          ],
          [
           0,
           "Dominican Republic",
           68,
           "4/4/20"
          ],
          [
           14,
           "Dominican Republic",
           82,
           "4/5/20"
          ],
          [
           4,
           "Dominican Republic",
           86,
           "4/6/20"
          ],
          [
           12,
           "Dominican Republic",
           98,
           "4/7/20"
          ],
          [
           10,
           "Dominican Republic",
           108,
           "4/8/20"
          ],
          [
           10,
           "Dominican Republic",
           118,
           "4/9/20"
          ],
          [
           8,
           "Dominican Republic",
           126,
           "4/10/20"
          ],
          [
           9,
           "Dominican Republic",
           135,
           "4/11/20"
          ],
          [
           38,
           "Dominican Republic",
           173,
           "4/12/20"
          ],
          [
           4,
           "Dominican Republic",
           177,
           "4/13/20"
          ],
          [
           6,
           "Dominican Republic",
           183,
           "4/14/20"
          ],
          [
           6,
           "Dominican Republic",
           189,
           "4/15/20"
          ],
          [
           7,
           "Dominican Republic",
           196,
           "4/16/20"
          ],
          [
           4,
           "Dominican Republic",
           200,
           "4/17/20"
          ],
          [
           17,
           "Dominican Republic",
           217,
           "4/18/20"
          ],
          [
           9,
           "Dominican Republic",
           226,
           "4/19/20"
          ],
          [
           9,
           "Dominican Republic",
           235,
           "4/20/20"
          ],
          [
           10,
           "Dominican Republic",
           245,
           "4/21/20"
          ],
          [
           15,
           "Dominican Republic",
           260,
           "4/22/20"
          ],
          [
           5,
           "Dominican Republic",
           265,
           "4/23/20"
          ],
          [
           2,
           "Dominican Republic",
           267,
           "4/24/20"
          ],
          [
           6,
           "Dominican Republic",
           273,
           "4/25/20"
          ],
          [
           5,
           "Dominican Republic",
           278,
           "4/26/20"
          ]
         ],
         "hoverlabel": {
          "namelength": 0
         },
         "hovertemplate": "Country =%{customdata[1]}<br>Mean growth over 14d compared to max growth =%{x}<br>% cases from last 14d =%{y}<br>Deaths=%{customdata[2]}<br>Deaths today =%{customdata[0]}<br>Date=%{customdata[3]}",
         "legendgroup": "Dominican Republic",
         "marker": {
          "color": "#00cc96",
          "size": [
           51,
           57,
           60,
           68,
           68,
           82,
           86,
           98,
           108,
           118,
           126,
           135,
           173,
           177,
           183,
           189,
           196,
           200,
           217,
           226,
           235,
           245,
           260,
           265,
           267,
           273,
           278
          ],
          "sizemode": "area",
          "sizeref": 137.2025,
          "symbol": "circle"
         },
         "mode": "lines+markers",
         "name": "Dominican Republic",
         "showlegend": true,
         "type": "scattergl",
         "x": [
          21,
          23.5,
          24.4,
          27.7,
          27.7,
          33.2,
          34.9,
          38.7,
          41.2,
          45.4,
          44.5,
          45,
          56.3,
          56.7,
          55.5,
          55.5,
          57.1,
          55.5,
          62.6,
          60.5,
          62.6,
          61.8,
          63.9,
          61.8,
          59.2,
          58,
          44.1
         ],
         "xaxis": "x",
         "y": [
          98,
          98.2,
          96.7,
          97.1,
          97.1,
          96.3,
          96.5,
          93.9,
          90.7,
          91.5,
          84.1,
          79.3,
          77.5,
          76.3,
          72.1,
          69.8,
          69.4,
          66,
          68.7,
          63.7,
          63.4,
          60,
          58.5,
          55.5,
          52.8,
          50.5,
          37.8
         ],
         "yaxis": "y"
        },
        {
         "customdata": [
          [
           10,
           "Ecuador",
           58,
           "3/29/20"
          ],
          [
           2,
           "Ecuador",
           60,
           "3/30/20"
          ],
          [
           15,
           "Ecuador",
           75,
           "3/31/20"
          ],
          [
           18,
           "Ecuador",
           93,
           "4/1/20"
          ],
          [
           27,
           "Ecuador",
           120,
           "4/2/20"
          ],
          [
           25,
           "Ecuador",
           145,
           "4/3/20"
          ],
          [
           27,
           "Ecuador",
           172,
           "4/4/20"
          ],
          [
           8,
           "Ecuador",
           180,
           "4/5/20"
          ],
          [
           11,
           "Ecuador",
           191,
           "4/6/20"
          ],
          [
           0,
           "Ecuador",
           191,
           "4/7/20"
          ],
          [
           51,
           "Ecuador",
           242,
           "4/8/20"
          ],
          [
           30,
           "Ecuador",
           272,
           "4/9/20"
          ],
          [
           25,
           "Ecuador",
           297,
           "4/10/20"
          ],
          [
           18,
           "Ecuador",
           315,
           "4/11/20"
          ],
          [
           18,
           "Ecuador",
           333,
           "4/12/20"
          ],
          [
           22,
           "Ecuador",
           355,
           "4/13/20"
          ],
          [
           14,
           "Ecuador",
           369,
           "4/14/20"
          ],
          [
           19,
           "Ecuador",
           388,
           "4/15/20"
          ],
          [
           15,
           "Ecuador",
           403,
           "4/16/20"
          ],
          [
           18,
           "Ecuador",
           421,
           "4/17/20"
          ],
          [
           35,
           "Ecuador",
           456,
           "4/18/20"
          ],
          [
           18,
           "Ecuador",
           474,
           "4/19/20"
          ],
          [
           33,
           "Ecuador",
           507,
           "4/20/20"
          ],
          [
           13,
           "Ecuador",
           520,
           "4/21/20"
          ],
          [
           17,
           "Ecuador",
           537,
           "4/22/20"
          ],
          [
           23,
           "Ecuador",
           560,
           "4/23/20"
          ],
          [
           16,
           "Ecuador",
           576,
           "4/24/20"
          ],
          [
           0,
           "Ecuador",
           576,
           "4/25/20"
          ],
          [
           0,
           "Ecuador",
           576,
           "4/26/20"
          ]
         ],
         "hoverlabel": {
          "namelength": 0
         },
         "hovertemplate": "Country =%{customdata[1]}<br>Mean growth over 14d compared to max growth =%{x}<br>% cases from last 14d =%{y}<br>Deaths=%{customdata[2]}<br>Deaths today =%{customdata[0]}<br>Date=%{customdata[3]}",
         "legendgroup": "Ecuador",
         "marker": {
          "color": "#ab63fa",
          "size": [
           58,
           60,
           75,
           93,
           120,
           145,
           172,
           180,
           191,
           191,
           242,
           272,
           297,
           315,
           333,
           355,
           369,
           388,
           403,
           421,
           456,
           474,
           507,
           520,
           537,
           560,
           576,
           576,
           576
          ],
          "sizemode": "area",
          "sizeref": 137.2025,
          "symbol": "circle"
         },
         "mode": "lines+markers",
         "name": "Ecuador",
         "showlegend": true,
         "type": "scattergl",
         "x": [
          11.4,
          11.8,
          14.9,
          18.6,
          23.9,
          28.6,
          33.7,
          33.9,
          35.3,
          33.5,
          43.7,
          48.6,
          53.3,
          54.5,
          56.1,
          60.2,
          60,
          60.2,
          57.8,
          56.3,
          58,
          60,
          64.5,
          67.1,
          60.2,
          58.8,
          56.9,
          53.3,
          49.6
         ],
         "xaxis": "x",
         "y": [
          96.6,
          96.7,
          97.3,
          97.8,
          97.5,
          96.6,
          95.9,
          92.2,
          90.6,
          85.9,
          88.4,
          87.5,
          87.9,
          84.8,
          82.6,
          83.1,
          79.7,
          76,
          70.2,
          65.6,
          62.3,
          62,
          62.3,
          63.3,
          54.9,
          51.4,
          48.4,
          45.3,
          42.2
         ],
         "yaxis": "y"
        },
        {
         "customdata": [
          [
           31,
           "France",
           79,
           "3/13/20"
          ],
          [
           12,
           "France",
           91,
           "3/14/20"
          ],
          [
           0,
           "France",
           91,
           "3/15/20"
          ],
          [
           58,
           "France",
           149,
           "3/16/20"
          ],
          [
           0,
           "France",
           149,
           "3/17/20"
          ],
          [
           0,
           "France",
           149,
           "3/18/20"
          ],
          [
           95,
           "France",
           244,
           "3/19/20"
          ],
          [
           207,
           "France",
           451,
           "3/20/20"
          ],
          [
           112,
           "France",
           563,
           "3/21/20"
          ],
          [
           113,
           "France",
           676,
           "3/22/20"
          ],
          [
           186,
           "France",
           862,
           "3/23/20"
          ],
          [
           240,
           "France",
           1102,
           "3/24/20"
          ],
          [
           231,
           "France",
           1333,
           "3/25/20"
          ],
          [
           365,
           "France",
           1698,
           "3/26/20"
          ],
          [
           299,
           "France",
           1997,
           "3/27/20"
          ],
          [
           320,
           "France",
           2317,
           "3/28/20"
          ],
          [
           294,
           "France",
           2611,
           "3/29/20"
          ],
          [
           419,
           "France",
           3030,
           "3/30/20"
          ],
          [
           502,
           "France",
           3532,
           "3/31/20"
          ],
          [
           882,
           "France",
           4414,
           "4/1/20"
          ],
          [
           984,
           "France",
           5398,
           "4/2/20"
          ],
          [
           1122,
           "France",
           6520,
           "4/3/20"
          ],
          [
           1054,
           "France",
           7574,
           "4/4/20"
          ],
          [
           519,
           "France",
           8093,
           "4/5/20"
          ],
          [
           833,
           "France",
           8926,
           "4/6/20"
          ],
          [
           1417,
           "France",
           10343,
           "4/7/20"
          ],
          [
           544,
           "France",
           10887,
           "4/8/20"
          ],
          [
           1341,
           "France",
           12228,
           "4/9/20"
          ],
          [
           987,
           "France",
           13215,
           "4/10/20"
          ],
          [
           636,
           "France",
           13851,
           "4/11/20"
          ],
          [
           561,
           "France",
           14412,
           "4/12/20"
          ],
          [
           574,
           "France",
           14986,
           "4/13/20"
          ],
          [
           762,
           "France",
           15748,
           "4/14/20"
          ],
          [
           1440,
           "France",
           17188,
           "4/15/20"
          ],
          [
           753,
           "France",
           17941,
           "4/16/20"
          ],
          [
           762,
           "France",
           18703,
           "4/17/20"
          ],
          [
           642,
           "France",
           19345,
           "4/18/20"
          ],
          [
           399,
           "France",
           19744,
           "4/19/20"
          ],
          [
           548,
           "France",
           20292,
           "4/20/20"
          ],
          [
           537,
           "France",
           20829,
           "4/21/20"
          ],
          [
           544,
           "France",
           21373,
           "4/22/20"
          ],
          [
           516,
           "France",
           21889,
           "4/23/20"
          ],
          [
           390,
           "France",
           22279,
           "4/24/20"
          ],
          [
           369,
           "France",
           22648,
           "4/25/20"
          ],
          [
           242,
           "France",
           22890,
           "4/26/20"
          ]
         ],
         "hoverlabel": {
          "namelength": 0
         },
         "hovertemplate": "Country =%{customdata[1]}<br>Mean growth over 14d compared to max growth =%{x}<br>% cases from last 14d =%{y}<br>Deaths=%{customdata[2]}<br>Deaths today =%{customdata[0]}<br>Date=%{customdata[3]}",
         "legendgroup": "France",
         "marker": {
          "color": "#FFA15A",
          "size": [
           79,
           91,
           91,
           149,
           149,
           149,
           244,
           451,
           563,
           676,
           862,
           1102,
           1333,
           1698,
           1997,
           2317,
           2611,
           3030,
           3532,
           4414,
           5398,
           6520,
           7574,
           8093,
           8926,
           10343,
           10887,
           12228,
           13215,
           13851,
           14412,
           14986,
           15748,
           17188,
           17941,
           18703,
           19345,
           19744,
           20292,
           20829,
           21373,
           21889,
           22279,
           22648,
           22890
          ],
          "sizemode": "area",
          "sizeref": 137.2025,
          "symbol": "circle"
         },
         "mode": "lines+markers",
         "name": "France",
         "showlegend": true,
         "type": "scattergl",
         "x": [
          0.4,
          0.4,
          0.4,
          0.7,
          0.7,
          0.7,
          1.2,
          2.2,
          2.8,
          3.3,
          4.2,
          5.4,
          6.5,
          8.3,
          9.7,
          11.2,
          12.7,
          14.5,
          17.1,
          21.5,
          26,
          30.6,
          35.3,
          37.4,
          40.6,
          46.6,
          48.2,
          53.1,
          56.5,
          58.1,
          59.5,
          60.3,
          61.6,
          64.4,
          63.2,
          61.4,
          59.3,
          58.7,
          57.3,
          52.9,
          52.9,
          48.7,
          45.7,
          44.3,
          42.7
         ],
         "xaxis": "x",
         "y": [
          97.5,
          97.8,
          97.8,
          98,
          97.3,
          97.3,
          97.5,
          98,
          98,
          97.2,
          97.8,
          97,
          96.4,
          97.2,
          96,
          96.1,
          96.5,
          95.1,
          95.8,
          96.6,
          95.5,
          93.1,
          92.6,
          91.6,
          90.3,
          89.3,
          87.8,
          86.1,
          84.9,
          83.3,
          81.9,
          79.8,
          77.6,
          74.3,
          69.9,
          65.1,
          60.8,
          59,
          56,
          50.3,
          49.1,
          44.1,
          40.7,
          38.8,
          37
         ],
         "yaxis": "y"
        },
        {
         "customdata": [
          [
           23,
           "Germany",
           67,
           "3/20/20"
          ],
          [
           17,
           "Germany",
           84,
           "3/21/20"
          ],
          [
           10,
           "Germany",
           94,
           "3/22/20"
          ],
          [
           29,
           "Germany",
           123,
           "3/23/20"
          ],
          [
           34,
           "Germany",
           157,
           "3/24/20"
          ],
          [
           49,
           "Germany",
           206,
           "3/25/20"
          ],
          [
           61,
           "Germany",
           267,
           "3/26/20"
          ],
          [
           75,
           "Germany",
           342,
           "3/27/20"
          ],
          [
           91,
           "Germany",
           433,
           "3/28/20"
          ],
          [
           100,
           "Germany",
           533,
           "3/29/20"
          ],
          [
           112,
           "Germany",
           645,
           "3/30/20"
          ],
          [
           130,
           "Germany",
           775,
           "3/31/20"
          ],
          [
           145,
           "Germany",
           920,
           "4/1/20"
          ],
          [
           187,
           "Germany",
           1107,
           "4/2/20"
          ],
          [
           168,
           "Germany",
           1275,
           "4/3/20"
          ],
          [
           169,
           "Germany",
           1444,
           "4/4/20"
          ],
          [
           140,
           "Germany",
           1584,
           "4/5/20"
          ],
          [
           226,
           "Germany",
           1810,
           "4/6/20"
          ],
          [
           206,
           "Germany",
           2016,
           "4/7/20"
          ],
          [
           333,
           "Germany",
           2349,
           "4/8/20"
          ],
          [
           258,
           "Germany",
           2607,
           "4/9/20"
          ],
          [
           160,
           "Germany",
           2767,
           "4/10/20"
          ],
          [
           -31,
           "Germany",
           2736,
           "4/11/20"
          ],
          [
           286,
           "Germany",
           3022,
           "4/12/20"
          ],
          [
           172,
           "Germany",
           3194,
           "4/13/20"
          ],
          [
           100,
           "Germany",
           3294,
           "4/14/20"
          ],
          [
           510,
           "Germany",
           3804,
           "4/15/20"
          ],
          [
           248,
           "Germany",
           4052,
           "4/16/20"
          ],
          [
           300,
           "Germany",
           4352,
           "4/17/20"
          ],
          [
           107,
           "Germany",
           4459,
           "4/18/20"
          ],
          [
           127,
           "Germany",
           4586,
           "4/19/20"
          ],
          [
           276,
           "Germany",
           4862,
           "4/20/20"
          ],
          [
           171,
           "Germany",
           5033,
           "4/21/20"
          ],
          [
           246,
           "Germany",
           5279,
           "4/22/20"
          ],
          [
           296,
           "Germany",
           5575,
           "4/23/20"
          ],
          [
           185,
           "Germany",
           5760,
           "4/24/20"
          ],
          [
           117,
           "Germany",
           5877,
           "4/25/20"
          ],
          [
           99,
           "Germany",
           5976,
           "4/26/20"
          ]
         ],
         "hoverlabel": {
          "namelength": 0
         },
         "hovertemplate": "Country =%{customdata[1]}<br>Mean growth over 14d compared to max growth =%{x}<br>% cases from last 14d =%{y}<br>Deaths=%{customdata[2]}<br>Deaths today =%{customdata[0]}<br>Date=%{customdata[3]}",
         "legendgroup": "Germany",
         "marker": {
          "color": "#19d3f3",
          "size": [
           67,
           84,
           94,
           123,
           157,
           206,
           267,
           342,
           433,
           533,
           645,
           775,
           920,
           1107,
           1275,
           1444,
           1584,
           1810,
           2016,
           2349,
           2607,
           2767,
           2736,
           3022,
           3194,
           3294,
           3804,
           4052,
           4352,
           4459,
           4586,
           4862,
           5033,
           5279,
           5575,
           5760,
           5877,
           5976
          ],
          "sizemode": "area",
          "sizeref": 137.2025,
          "symbol": "circle"
         },
         "mode": "lines+markers",
         "name": "Germany",
         "showlegend": true,
         "type": "scattergl",
         "x": [
          1.4,
          1.8,
          2,
          2.6,
          3.3,
          4.4,
          5.7,
          7.2,
          9.1,
          11.2,
          13.5,
          16.1,
          19.1,
          22.8,
          25.9,
          29.2,
          32,
          36.2,
          39.9,
          46,
          50.2,
          52,
          49.4,
          53.4,
          54.7,
          54,
          61.9,
          63.2,
          66,
          64.7,
          64.4,
          65.5,
          64.7,
          62.8,
          63.7,
          64.2,
          67.4,
          63.4
         ],
         "xaxis": "x",
         "y": [
          100,
          100,
          100,
          98.4,
          98.7,
          98.5,
          98.9,
          98,
          97.9,
          97.9,
          97.4,
          96.9,
          97,
          96,
          94.7,
          94.2,
          94.1,
          93.2,
          92.2,
          91.2,
          89.8,
          87.6,
          84.2,
          82.4,
          79.8,
          76.5,
          75.8,
          72.7,
          70.7,
          67.6,
          65.5,
          62.8,
          59.9,
          55.5,
          53.2,
          52,
          53.4,
          49.4
         ],
         "yaxis": "y"
        },
        {
         "customdata": [
          [
           23,
           "India",
           58,
           "4/1/20"
          ],
          [
           14,
           "India",
           72,
           "4/2/20"
          ],
          [
           0,
           "India",
           72,
           "4/3/20"
          ],
          [
           14,
           "India",
           86,
           "4/4/20"
          ],
          [
           13,
           "India",
           99,
           "4/5/20"
          ],
          [
           37,
           "India",
           136,
           "4/6/20"
          ],
          [
           14,
           "India",
           150,
           "4/7/20"
          ],
          [
           28,
           "India",
           178,
           "4/8/20"
          ],
          [
           48,
           "India",
           226,
           "4/9/20"
          ],
          [
           20,
           "India",
           246,
           "4/10/20"
          ],
          [
           42,
           "India",
           288,
           "4/11/20"
          ],
          [
           43,
           "India",
           331,
           "4/12/20"
          ],
          [
           27,
           "India",
           358,
           "4/13/20"
          ],
          [
           35,
           "India",
           393,
           "4/14/20"
          ],
          [
           12,
           "India",
           405,
           "4/15/20"
          ],
          [
           43,
           "India",
           448,
           "4/16/20"
          ],
          [
           38,
           "India",
           486,
           "4/17/20"
          ],
          [
           35,
           "India",
           521,
           "4/18/20"
          ],
          [
           38,
           "India",
           559,
           "4/19/20"
          ],
          [
           33,
           "India",
           592,
           "4/20/20"
          ],
          [
           53,
           "India",
           645,
           "4/21/20"
          ],
          [
           36,
           "India",
           681,
           "4/22/20"
          ],
          [
           40,
           "India",
           721,
           "4/23/20"
          ],
          [
           59,
           "India",
           780,
           "4/24/20"
          ],
          [
           45,
           "India",
           825,
           "4/25/20"
          ],
          [
           56,
           "India",
           881,
           "4/26/20"
          ]
         ],
         "hoverlabel": {
          "namelength": 0
         },
         "hovertemplate": "Country =%{customdata[1]}<br>Mean growth over 14d compared to max growth =%{x}<br>% cases from last 14d =%{y}<br>Deaths=%{customdata[2]}<br>Deaths today =%{customdata[0]}<br>Date=%{customdata[3]}",
         "legendgroup": "India",
         "marker": {
          "color": "#FF6692",
          "size": [
           58,
           72,
           72,
           86,
           99,
           136,
           150,
           178,
           226,
           246,
           288,
           331,
           358,
           393,
           405,
           448,
           486,
           521,
           559,
           592,
           645,
           681,
           721,
           780,
           825,
           881
          ],
          "sizemode": "area",
          "sizeref": 137.2025,
          "symbol": "circle"
         },
         "mode": "lines+markers",
         "name": "India",
         "showlegend": true,
         "type": "scattergl",
         "x": [
          7,
          8.7,
          8.5,
          10.5,
          11.7,
          16.1,
          17.9,
          21.2,
          26.3,
          28.8,
          33.7,
          38.8,
          41.6,
          45.7,
          44.3,
          48,
          52.8,
          55.5,
          58.7,
          58.2,
          63.1,
          64.2,
          63.1,
          68.1,
          68.5,
          70.2
         ],
         "xaxis": "x",
         "y": [
          94.8,
          94.4,
          93.1,
          95.3,
          92.9,
          92.6,
          93.3,
          93.3,
          91.2,
          91.9,
          91.7,
          91.8,
          91.1,
          91.1,
          85.7,
          83.9,
          85.2,
          83.5,
          82.3,
          77,
          76.7,
          73.9,
          68.7,
          68.5,
          65.1,
          62.4
         ],
         "yaxis": "y"
        },
        {
         "customdata": [
          [
           6,
           "Indonesia",
           55,
           "3/24/20"
          ],
          [
           3,
           "Indonesia",
           58,
           "3/25/20"
          ],
          [
           20,
           "Indonesia",
           78,
           "3/26/20"
          ],
          [
           9,
           "Indonesia",
           87,
           "3/27/20"
          ],
          [
           15,
           "Indonesia",
           102,
           "3/28/20"
          ],
          [
           12,
           "Indonesia",
           114,
           "3/29/20"
          ],
          [
           8,
           "Indonesia",
           122,
           "3/30/20"
          ],
          [
           14,
           "Indonesia",
           136,
           "3/31/20"
          ],
          [
           21,
           "Indonesia",
           157,
           "4/1/20"
          ],
          [
           13,
           "Indonesia",
           170,
           "4/2/20"
          ],
          [
           11,
           "Indonesia",
           181,
           "4/3/20"
          ],
          [
           10,
           "Indonesia",
           191,
           "4/4/20"
          ],
          [
           7,
           "Indonesia",
           198,
           "4/5/20"
          ],
          [
           11,
           "Indonesia",
           209,
           "4/6/20"
          ],
          [
           12,
           "Indonesia",
           221,
           "4/7/20"
          ],
          [
           19,
           "Indonesia",
           240,
           "4/8/20"
          ],
          [
           40,
           "Indonesia",
           280,
           "4/9/20"
          ],
          [
           26,
           "Indonesia",
           306,
           "4/10/20"
          ],
          [
           21,
           "Indonesia",
           327,
           "4/11/20"
          ],
          [
           46,
           "Indonesia",
           373,
           "4/12/20"
          ],
          [
           26,
           "Indonesia",
           399,
           "4/13/20"
          ],
          [
           60,
           "Indonesia",
           459,
           "4/14/20"
          ],
          [
           10,
           "Indonesia",
           469,
           "4/15/20"
          ],
          [
           27,
           "Indonesia",
           496,
           "4/16/20"
          ],
          [
           24,
           "Indonesia",
           520,
           "4/17/20"
          ],
          [
           15,
           "Indonesia",
           535,
           "4/18/20"
          ],
          [
           47,
           "Indonesia",
           582,
           "4/19/20"
          ],
          [
           8,
           "Indonesia",
           590,
           "4/20/20"
          ],
          [
           26,
           "Indonesia",
           616,
           "4/21/20"
          ],
          [
           19,
           "Indonesia",
           635,
           "4/22/20"
          ],
          [
           12,
           "Indonesia",
           647,
           "4/23/20"
          ],
          [
           42,
           "Indonesia",
           689,
           "4/24/20"
          ],
          [
           31,
           "Indonesia",
           720,
           "4/25/20"
          ],
          [
           23,
           "Indonesia",
           743,
           "4/26/20"
          ]
         ],
         "hoverlabel": {
          "namelength": 0
         },
         "hovertemplate": "Country =%{customdata[1]}<br>Mean growth over 14d compared to max growth =%{x}<br>% cases from last 14d =%{y}<br>Deaths=%{customdata[2]}<br>Deaths today =%{customdata[0]}<br>Date=%{customdata[3]}",
         "legendgroup": "Indonesia",
         "marker": {
          "color": "#B6E880",
          "size": [
           55,
           58,
           78,
           87,
           102,
           114,
           122,
           136,
           157,
           170,
           181,
           191,
           198,
           209,
           221,
           240,
           280,
           306,
           327,
           373,
           399,
           459,
           469,
           496,
           520,
           535,
           582,
           590,
           616,
           635,
           647,
           689,
           720,
           743
          ],
          "sizemode": "area",
          "sizeref": 137.2025,
          "symbol": "circle"
         },
         "mode": "lines+markers",
         "name": "Indonesia",
         "showlegend": true,
         "type": "scattergl",
         "x": [
          8.4,
          8.7,
          11.7,
          12.6,
          14.7,
          16.6,
          17.8,
          19.9,
          21,
          22,
          22.6,
          23.3,
          22.8,
          24.3,
          25.2,
          27.7,
          30.7,
          33.3,
          34.2,
          39.4,
          42.1,
          49.1,
          47.4,
          49.5,
          51.5,
          52.3,
          58.4,
          57.9,
          60,
          60,
          55.8,
          58.2,
          59.7,
          56.2
         ],
         "xaxis": "x",
         "y": [
          100,
          98.3,
          98.7,
          95.4,
          95.1,
          95.6,
          95.9,
          96.3,
          87.9,
          85.3,
          82.3,
          80.1,
          75.8,
          76.6,
          75.1,
          75.8,
          72.1,
          71.6,
          68.8,
          69.4,
          69.4,
          70.4,
          66.5,
          65.7,
          65.2,
          64.3,
          66,
          64.6,
          64.1,
          62.2,
          56.7,
          55.6,
          54.6,
          49.8
         ],
         "yaxis": "y"
        },
        {
         "customdata": [
          [
           11,
           "Iran",
           54,
           "3/1/20"
          ],
          [
           12,
           "Iran",
           66,
           "3/2/20"
          ],
          [
           11,
           "Iran",
           77,
           "3/3/20"
          ],
          [
           15,
           "Iran",
           92,
           "3/4/20"
          ],
          [
           15,
           "Iran",
           107,
           "3/5/20"
          ],
          [
           17,
           "Iran",
           124,
           "3/6/20"
          ],
          [
           21,
           "Iran",
           145,
           "3/7/20"
          ],
          [
           49,
           "Iran",
           194,
           "3/8/20"
          ],
          [
           43,
           "Iran",
           237,
           "3/9/20"
          ],
          [
           54,
           "Iran",
           291,
           "3/10/20"
          ],
          [
           63,
           "Iran",
           354,
           "3/11/20"
          ],
          [
           75,
           "Iran",
           429,
           "3/12/20"
          ],
          [
           85,
           "Iran",
           514,
           "3/13/20"
          ],
          [
           97,
           "Iran",
           611,
           "3/14/20"
          ],
          [
           113,
           "Iran",
           724,
           "3/15/20"
          ],
          [
           129,
           "Iran",
           853,
           "3/16/20"
          ],
          [
           135,
           "Iran",
           988,
           "3/17/20"
          ],
          [
           147,
           "Iran",
           1135,
           "3/18/20"
          ],
          [
           149,
           "Iran",
           1284,
           "3/19/20"
          ],
          [
           149,
           "Iran",
           1433,
           "3/20/20"
          ],
          [
           123,
           "Iran",
           1556,
           "3/21/20"
          ],
          [
           129,
           "Iran",
           1685,
           "3/22/20"
          ],
          [
           127,
           "Iran",
           1812,
           "3/23/20"
          ],
          [
           122,
           "Iran",
           1934,
           "3/24/20"
          ],
          [
           143,
           "Iran",
           2077,
           "3/25/20"
          ],
          [
           157,
           "Iran",
           2234,
           "3/26/20"
          ],
          [
           144,
           "Iran",
           2378,
           "3/27/20"
          ],
          [
           139,
           "Iran",
           2517,
           "3/28/20"
          ],
          [
           123,
           "Iran",
           2640,
           "3/29/20"
          ],
          [
           117,
           "Iran",
           2757,
           "3/30/20"
          ],
          [
           141,
           "Iran",
           2898,
           "3/31/20"
          ],
          [
           138,
           "Iran",
           3036,
           "4/1/20"
          ],
          [
           124,
           "Iran",
           3160,
           "4/2/20"
          ],
          [
           134,
           "Iran",
           3294,
           "4/3/20"
          ],
          [
           158,
           "Iran",
           3452,
           "4/4/20"
          ],
          [
           151,
           "Iran",
           3603,
           "4/5/20"
          ],
          [
           136,
           "Iran",
           3739,
           "4/6/20"
          ],
          [
           133,
           "Iran",
           3872,
           "4/7/20"
          ],
          [
           121,
           "Iran",
           3993,
           "4/8/20"
          ],
          [
           117,
           "Iran",
           4110,
           "4/9/20"
          ],
          [
           122,
           "Iran",
           4232,
           "4/10/20"
          ],
          [
           125,
           "Iran",
           4357,
           "4/11/20"
          ],
          [
           117,
           "Iran",
           4474,
           "4/12/20"
          ],
          [
           111,
           "Iran",
           4585,
           "4/13/20"
          ],
          [
           98,
           "Iran",
           4683,
           "4/14/20"
          ],
          [
           94,
           "Iran",
           4777,
           "4/15/20"
          ],
          [
           92,
           "Iran",
           4869,
           "4/16/20"
          ],
          [
           89,
           "Iran",
           4958,
           "4/17/20"
          ],
          [
           73,
           "Iran",
           5031,
           "4/18/20"
          ],
          [
           87,
           "Iran",
           5118,
           "4/19/20"
          ],
          [
           91,
           "Iran",
           5209,
           "4/20/20"
          ],
          [
           88,
           "Iran",
           5297,
           "4/21/20"
          ],
          [
           94,
           "Iran",
           5391,
           "4/22/20"
          ],
          [
           90,
           "Iran",
           5481,
           "4/23/20"
          ],
          [
           93,
           "Iran",
           5574,
           "4/24/20"
          ],
          [
           76,
           "Iran",
           5650,
           "4/25/20"
          ],
          [
           60,
           "Iran",
           5710,
           "4/26/20"
          ]
         ],
         "hoverlabel": {
          "namelength": 0
         },
         "hovertemplate": "Country =%{customdata[1]}<br>Mean growth over 14d compared to max growth =%{x}<br>% cases from last 14d =%{y}<br>Deaths=%{customdata[2]}<br>Deaths today =%{customdata[0]}<br>Date=%{customdata[3]}",
         "legendgroup": "Iran",
         "marker": {
          "color": "#FF97FF",
          "size": [
           54,
           66,
           77,
           92,
           107,
           124,
           145,
           194,
           237,
           291,
           354,
           429,
           514,
           611,
           724,
           853,
           988,
           1135,
           1284,
           1433,
           1556,
           1685,
           1812,
           1934,
           2077,
           2234,
           2378,
           2517,
           2640,
           2757,
           2898,
           3036,
           3160,
           3294,
           3452,
           3603,
           3739,
           3872,
           3993,
           4110,
           4232,
           4357,
           4474,
           4585,
           4683,
           4777,
           4869,
           4958,
           5031,
           5118,
           5209,
           5297,
           5391,
           5481,
           5574,
           5650,
           5710
          ],
          "sizemode": "area",
          "sizeref": 137.2025,
          "symbol": "circle"
         },
         "mode": "lines+markers",
         "name": "Iran",
         "showlegend": true,
         "type": "scattergl",
         "x": [
          2.5,
          3,
          3.5,
          4.1,
          4.8,
          5.5,
          6.4,
          8.5,
          10.2,
          12.5,
          15.2,
          18.3,
          21.8,
          25.8,
          30.5,
          35.8,
          41.4,
          47.5,
          53.5,
          59.6,
          64.2,
          67.8,
          71.7,
          74.7,
          78.4,
          82.1,
          84.8,
          86.7,
          87.2,
          86.6,
          86.9,
          86.5,
          85.4,
          84.7,
          86.3,
          87.3,
          87.7,
          88.2,
          87.2,
          85.4,
          84.3,
          83.7,
          83.4,
          83.2,
          81.2,
          79.2,
          77.8,
          75.7,
          71.8,
          68.9,
          66.9,
          64.8,
          63.6,
          62.4,
          61.1,
          58.8,
          56.2
         ],
         "xaxis": "x",
         "y": [
          100,
          100,
          100,
          97.8,
          98.1,
          96.8,
          96.6,
          95.9,
          94.9,
          94.5,
          94.6,
          93.9,
          93.4,
          93,
          92.5,
          92.3,
          92.2,
          91.9,
          91.7,
          91.3,
          90.7,
          88.5,
          86.9,
          85,
          83,
          80.8,
          78.4,
          75.7,
          72.6,
          69.1,
          65.9,
          62.6,
          59.4,
          56.5,
          54.9,
          53.2,
          51.5,
          50.1,
          48,
          45.6,
          43.8,
          42.2,
          41,
          39.9,
          38.1,
          36.4,
          35.1,
          33.6,
          31.4,
          29.6,
          28.2,
          26.9,
          25.9,
          25,
          24.1,
          22.9,
          21.6
         ],
         "yaxis": "y"
        },
        {
         "customdata": [
          [
           8,
           "Ireland",
           54,
           "3/30/20"
          ],
          [
           17,
           "Ireland",
           71,
           "3/31/20"
          ],
          [
           14,
           "Ireland",
           85,
           "4/1/20"
          ],
          [
           13,
           "Ireland",
           98,
           "4/2/20"
          ],
          [
           22,
           "Ireland",
           120,
           "4/3/20"
          ],
          [
           17,
           "Ireland",
           137,
           "4/4/20"
          ],
          [
           21,
           "Ireland",
           158,
           "4/5/20"
          ],
          [
           16,
           "Ireland",
           174,
           "4/6/20"
          ],
          [
           36,
           "Ireland",
           210,
           "4/7/20"
          ],
          [
           25,
           "Ireland",
           235,
           "4/8/20"
          ],
          [
           28,
           "Ireland",
           263,
           "4/9/20"
          ],
          [
           24,
           "Ireland",
           287,
           "4/10/20"
          ],
          [
           33,
           "Ireland",
           320,
           "4/11/20"
          ],
          [
           14,
           "Ireland",
           334,
           "4/12/20"
          ],
          [
           31,
           "Ireland",
           365,
           "4/13/20"
          ],
          [
           41,
           "Ireland",
           406,
           "4/14/20"
          ],
          [
           38,
           "Ireland",
           444,
           "4/15/20"
          ],
          [
           42,
           "Ireland",
           486,
           "4/16/20"
          ],
          [
           44,
           "Ireland",
           530,
           "4/17/20"
          ],
          [
           41,
           "Ireland",
           571,
           "4/18/20"
          ],
          [
           39,
           "Ireland",
           610,
           "4/19/20"
          ],
          [
           77,
           "Ireland",
           687,
           "4/20/20"
          ],
          [
           43,
           "Ireland",
           730,
           "4/21/20"
          ],
          [
           39,
           "Ireland",
           769,
           "4/22/20"
          ],
          [
           25,
           "Ireland",
           794,
           "4/23/20"
          ],
          [
           220,
           "Ireland",
           1014,
           "4/24/20"
          ],
          [
           49,
           "Ireland",
           1063,
           "4/25/20"
          ],
          [
           24,
           "Ireland",
           1087,
           "4/26/20"
          ]
         ],
         "hoverlabel": {
          "namelength": 0
         },
         "hovertemplate": "Country =%{customdata[1]}<br>Mean growth over 14d compared to max growth =%{x}<br>% cases from last 14d =%{y}<br>Deaths=%{customdata[2]}<br>Deaths today =%{customdata[0]}<br>Date=%{customdata[3]}",
         "legendgroup": "Ireland",
         "marker": {
          "color": "#FECB52",
          "size": [
           54,
           71,
           85,
           98,
           120,
           137,
           158,
           174,
           210,
           235,
           263,
           287,
           320,
           334,
           365,
           406,
           444,
           486,
           530,
           571,
           610,
           687,
           730,
           769,
           794,
           1014,
           1063,
           1087
          ],
          "sizemode": "area",
          "sizeref": 137.2025,
          "symbol": "circle"
         },
         "mode": "lines+markers",
         "name": "Ireland",
         "showlegend": true,
         "type": "scattergl",
         "x": [
          4.8,
          6.4,
          7.7,
          8.8,
          10.9,
          12.4,
          14.3,
          15.6,
          18.8,
          21,
          22.6,
          24.6,
          26.3,
          26.7,
          28.8,
          31.1,
          33.3,
          36,
          38,
          40.3,
          41.9,
          47.6,
          48.2,
          49.5,
          49.3,
          67.4,
          68.9,
          69.9
         ],
         "xaxis": "x",
         "y": [
          96.3,
          97.2,
          97.6,
          96.9,
          97.5,
          97.8,
          97.5,
          96.6,
          96.7,
          96.2,
          92.8,
          92.3,
          88.8,
          86.2,
          85.2,
          82.5,
          80.9,
          79.8,
          77.4,
          76,
          74.1,
          74.7,
          71.2,
          69.4,
          66.9,
          71.7,
          69.9,
          69.3
         ],
         "yaxis": "y"
        },
        {
         "customdata": [
          [
           8,
           "Israel",
           57,
           "4/6/20"
          ],
          [
           8,
           "Israel",
           65,
           "4/7/20"
          ],
          [
           8,
           "Israel",
           73,
           "4/8/20"
          ],
          [
           13,
           "Israel",
           86,
           "4/9/20"
          ],
          [
           9,
           "Israel",
           95,
           "4/10/20"
          ],
          [
           6,
           "Israel",
           101,
           "4/11/20"
          ],
          [
           2,
           "Israel",
           103,
           "4/12/20"
          ],
          [
           13,
           "Israel",
           116,
           "4/13/20"
          ],
          [
           7,
           "Israel",
           123,
           "4/14/20"
          ],
          [
           7,
           "Israel",
           130,
           "4/15/20"
          ],
          [
           12,
           "Israel",
           142,
           "4/16/20"
          ],
          [
           9,
           "Israel",
           151,
           "4/17/20"
          ],
          [
           13,
           "Israel",
           164,
           "4/18/20"
          ],
          [
           8,
           "Israel",
           172,
           "4/19/20"
          ],
          [
           5,
           "Israel",
           177,
           "4/20/20"
          ],
          [
           7,
           "Israel",
           184,
           "4/21/20"
          ],
          [
           5,
           "Israel",
           189,
           "4/22/20"
          ],
          [
           3,
           "Israel",
           192,
           "4/23/20"
          ],
          [
           2,
           "Israel",
           194,
           "4/24/20"
          ],
          [
           5,
           "Israel",
           199,
           "4/25/20"
          ],
          [
           2,
           "Israel",
           201,
           "4/26/20"
          ]
         ],
         "hoverlabel": {
          "namelength": 0
         },
         "hovertemplate": "Country =%{customdata[1]}<br>Mean growth over 14d compared to max growth =%{x}<br>% cases from last 14d =%{y}<br>Deaths=%{customdata[2]}<br>Deaths today =%{customdata[0]}<br>Date=%{customdata[3]}",
         "legendgroup": "Israel",
         "marker": {
          "color": "#636efa",
          "size": [
           57,
           65,
           73,
           86,
           95,
           101,
           103,
           116,
           123,
           130,
           142,
           151,
           164,
           172,
           177,
           184,
           189,
           192,
           194,
           199,
           201
          ],
          "sizemode": "area",
          "sizeref": 137.2025,
          "symbol": "circle"
         },
         "mode": "lines+markers",
         "name": "Israel",
         "showlegend": true,
         "type": "scattergl",
         "x": [
          30.8,
          34.1,
          37.4,
          42.9,
          45.6,
          48.9,
          48.4,
          54.9,
          56.6,
          57.1,
          58.2,
          61,
          65.9,
          67.6,
          65.9,
          65.4,
          63.7,
          58.2,
          54.4,
          53.8,
          53.8
         ],
         "xaxis": "x",
         "y": [
          98.2,
          95.4,
          93.2,
          90.7,
          87.4,
          88.1,
          85.4,
          86.2,
          83.7,
          80,
          74.6,
          73.5,
          73.2,
          71.5,
          67.8,
          64.7,
          61.4,
          55.2,
          51,
          49.2,
          48.8
         ],
         "yaxis": "y"
        },
        {
         "customdata": [
          [
           18,
           "Italy",
           52,
           "3/2/20"
          ],
          [
           27,
           "Italy",
           79,
           "3/3/20"
          ],
          [
           28,
           "Italy",
           107,
           "3/4/20"
          ],
          [
           41,
           "Italy",
           148,
           "3/5/20"
          ],
          [
           49,
           "Italy",
           197,
           "3/6/20"
          ],
          [
           36,
           "Italy",
           233,
           "3/7/20"
          ],
          [
           133,
           "Italy",
           366,
           "3/8/20"
          ],
          [
           97,
           "Italy",
           463,
           "3/9/20"
          ],
          [
           168,
           "Italy",
           631,
           "3/10/20"
          ],
          [
           196,
           "Italy",
           827,
           "3/11/20"
          ],
          [
           0,
           "Italy",
           827,
           "3/12/20"
          ],
          [
           439,
           "Italy",
           1266,
           "3/13/20"
          ],
          [
           175,
           "Italy",
           1441,
           "3/14/20"
          ],
          [
           368,
           "Italy",
           1809,
           "3/15/20"
          ],
          [
           349,
           "Italy",
           2158,
           "3/16/20"
          ],
          [
           345,
           "Italy",
           2503,
           "3/17/20"
          ],
          [
           475,
           "Italy",
           2978,
           "3/18/20"
          ],
          [
           427,
           "Italy",
           3405,
           "3/19/20"
          ],
          [
           627,
           "Italy",
           4032,
           "3/20/20"
          ],
          [
           793,
           "Italy",
           4825,
           "3/21/20"
          ],
          [
           651,
           "Italy",
           5476,
           "3/22/20"
          ],
          [
           601,
           "Italy",
           6077,
           "3/23/20"
          ],
          [
           743,
           "Italy",
           6820,
           "3/24/20"
          ],
          [
           683,
           "Italy",
           7503,
           "3/25/20"
          ],
          [
           712,
           "Italy",
           8215,
           "3/26/20"
          ],
          [
           919,
           "Italy",
           9134,
           "3/27/20"
          ],
          [
           889,
           "Italy",
           10023,
           "3/28/20"
          ],
          [
           756,
           "Italy",
           10779,
           "3/29/20"
          ],
          [
           812,
           "Italy",
           11591,
           "3/30/20"
          ],
          [
           837,
           "Italy",
           12428,
           "3/31/20"
          ],
          [
           727,
           "Italy",
           13155,
           "4/1/20"
          ],
          [
           760,
           "Italy",
           13915,
           "4/2/20"
          ],
          [
           766,
           "Italy",
           14681,
           "4/3/20"
          ],
          [
           681,
           "Italy",
           15362,
           "4/4/20"
          ],
          [
           525,
           "Italy",
           15887,
           "4/5/20"
          ],
          [
           636,
           "Italy",
           16523,
           "4/6/20"
          ],
          [
           604,
           "Italy",
           17127,
           "4/7/20"
          ],
          [
           542,
           "Italy",
           17669,
           "4/8/20"
          ],
          [
           610,
           "Italy",
           18279,
           "4/9/20"
          ],
          [
           570,
           "Italy",
           18849,
           "4/10/20"
          ],
          [
           619,
           "Italy",
           19468,
           "4/11/20"
          ],
          [
           431,
           "Italy",
           19899,
           "4/12/20"
          ],
          [
           566,
           "Italy",
           20465,
           "4/13/20"
          ],
          [
           602,
           "Italy",
           21067,
           "4/14/20"
          ],
          [
           578,
           "Italy",
           21645,
           "4/15/20"
          ],
          [
           525,
           "Italy",
           22170,
           "4/16/20"
          ],
          [
           575,
           "Italy",
           22745,
           "4/17/20"
          ],
          [
           482,
           "Italy",
           23227,
           "4/18/20"
          ],
          [
           433,
           "Italy",
           23660,
           "4/19/20"
          ],
          [
           454,
           "Italy",
           24114,
           "4/20/20"
          ],
          [
           534,
           "Italy",
           24648,
           "4/21/20"
          ],
          [
           437,
           "Italy",
           25085,
           "4/22/20"
          ],
          [
           464,
           "Italy",
           25549,
           "4/23/20"
          ],
          [
           420,
           "Italy",
           25969,
           "4/24/20"
          ],
          [
           415,
           "Italy",
           26384,
           "4/25/20"
          ],
          [
           260,
           "Italy",
           26644,
           "4/26/20"
          ]
         ],
         "hoverlabel": {
          "namelength": 0
         },
         "hovertemplate": "Country =%{customdata[1]}<br>Mean growth over 14d compared to max growth =%{x}<br>% cases from last 14d =%{y}<br>Deaths=%{customdata[2]}<br>Deaths today =%{customdata[0]}<br>Date=%{customdata[3]}",
         "legendgroup": "Italy",
         "marker": {
          "color": "#EF553B",
          "size": [
           52,
           79,
           107,
           148,
           197,
           233,
           366,
           463,
           631,
           827,
           827,
           1266,
           1441,
           1809,
           2158,
           2503,
           2978,
           3405,
           4032,
           4825,
           5476,
           6077,
           6820,
           7503,
           8215,
           9134,
           10023,
           10779,
           11591,
           12428,
           13155,
           13915,
           14681,
           15362,
           15887,
           16523,
           17127,
           17669,
           18279,
           18849,
           19468,
           19899,
           20465,
           21067,
           21645,
           22170,
           22745,
           23227,
           23660,
           24114,
           24648,
           25085,
           25549,
           25969,
           26384,
           26644
          ],
          "sizemode": "area",
          "sizeref": 137.2025,
          "symbol": "circle"
         },
         "mode": "lines+markers",
         "name": "Italy",
         "showlegend": true,
         "type": "scattergl",
         "x": [
          0.4,
          0.6,
          0.9,
          1.2,
          1.6,
          1.9,
          2.9,
          3.7,
          5,
          6.5,
          6.5,
          10,
          11.3,
          14.3,
          16.9,
          19.5,
          23.1,
          26.2,
          30.8,
          36.9,
          41.1,
          45.1,
          49.7,
          53.6,
          59.4,
          63.2,
          69,
          72.1,
          75.8,
          79.7,
          81.8,
          84.4,
          85.6,
          84.7,
          83.6,
          83.9,
          82.8,
          81.7,
          80.9,
          78.1,
          75.9,
          73.3,
          71.3,
          69.4,
          68.2,
          66.3,
          64.8,
          63.2,
          62.5,
          61,
          60.4,
          59.6,
          58.4,
          57.2,
          55.6,
          54.2
         ],
         "xaxis": "x",
         "y": [
          100,
          100,
          100,
          100,
          99.5,
          99.1,
          99.2,
          98.5,
          98.4,
          98.5,
          97.9,
          98.3,
          98,
          98.1,
          97.6,
          96.8,
          96.4,
          95.7,
          95.1,
          95.2,
          93.3,
          92.4,
          90.7,
          89,
          89.9,
          86.1,
          85.6,
          83.2,
          81.4,
          79.9,
          77.4,
          75.5,
          72.5,
          68.6,
          65.5,
          63.2,
          60.2,
          57.5,
          55.1,
          51.5,
          48.5,
          45.8,
          43.4,
          41,
          39.2,
          37.2,
          35.5,
          33.9,
          32.9,
          31.5,
          30.5,
          29.6,
          28.5,
          27.4,
          26.2,
          25.3
         ],
         "yaxis": "y"
        },
        {
         "customdata": [
          [
           3,
           "Japan",
           52,
           "3/28/20"
          ],
          [
           2,
           "Japan",
           54,
           "3/29/20"
          ],
          [
           0,
           "Japan",
           54,
           "3/30/20"
          ],
          [
           2,
           "Japan",
           56,
           "3/31/20"
          ],
          [
           1,
           "Japan",
           57,
           "4/1/20"
          ],
          [
           5,
           "Japan",
           62,
           "4/2/20"
          ],
          [
           1,
           "Japan",
           63,
           "4/3/20"
          ],
          [
           14,
           "Japan",
           77,
           "4/4/20"
          ],
          [
           0,
           "Japan",
           77,
           "4/5/20"
          ],
          [
           8,
           "Japan",
           85,
           "4/6/20"
          ],
          [
           7,
           "Japan",
           92,
           "4/7/20"
          ],
          [
           1,
           "Japan",
           93,
           "4/8/20"
          ],
          [
           1,
           "Japan",
           94,
           "4/9/20"
          ],
          [
           5,
           "Japan",
           99,
           "4/10/20"
          ],
          [
           0,
           "Japan",
           99,
           "4/11/20"
          ],
          [
           9,
           "Japan",
           108,
           "4/12/20"
          ],
          [
           15,
           "Japan",
           123,
           "4/13/20"
          ],
          [
           20,
           "Japan",
           143,
           "4/14/20"
          ],
          [
           3,
           "Japan",
           146,
           "4/15/20"
          ],
          [
           32,
           "Japan",
           178,
           "4/16/20"
          ],
          [
           12,
           "Japan",
           190,
           "4/17/20"
          ],
          [
           32,
           "Japan",
           222,
           "4/18/20"
          ],
          [
           14,
           "Japan",
           236,
           "4/19/20"
          ],
          [
           0,
           "Japan",
           236,
           "4/20/20"
          ],
          [
           27,
           "Japan",
           263,
           "4/21/20"
          ],
          [
           18,
           "Japan",
           281,
           "4/22/20"
          ],
          [
           47,
           "Japan",
           328,
           "4/23/20"
          ],
          [
           17,
           "Japan",
           345,
           "4/24/20"
          ],
          [
           15,
           "Japan",
           360,
           "4/25/20"
          ],
          [
           12,
           "Japan",
           372,
           "4/26/20"
          ]
         ],
         "hoverlabel": {
          "namelength": 0
         },
         "hovertemplate": "Country =%{customdata[1]}<br>Mean growth over 14d compared to max growth =%{x}<br>% cases from last 14d =%{y}<br>Deaths=%{customdata[2]}<br>Deaths today =%{customdata[0]}<br>Date=%{customdata[3]}",
         "legendgroup": "Japan",
         "marker": {
          "color": "#00cc96",
          "size": [
           52,
           54,
           54,
           56,
           57,
           62,
           63,
           77,
           77,
           85,
           92,
           93,
           94,
           99,
           99,
           108,
           123,
           143,
           146,
           178,
           190,
           222,
           236,
           236,
           263,
           281,
           328,
           345,
           360,
           372
          ],
          "sizemode": "area",
          "sizeref": 137.2025,
          "symbol": "circle"
         },
         "mode": "lines+markers",
         "name": "Japan",
         "showlegend": true,
         "type": "scattergl",
         "x": [
          6.7,
          7.1,
          6,
          6,
          6.2,
          7.4,
          6.7,
          9.4,
          8,
          9.6,
          10.9,
          10.7,
          10.5,
          11.2,
          10.5,
          12.1,
          15.4,
          19.4,
          19.9,
          25.9,
          28.3,
          32.4,
          35.5,
          33.7,
          38.2,
          42,
          52.2,
          54.9,
          58.3,
          58.9
         ],
         "xaxis": "x",
         "y": [
          57.7,
          59.3,
          50,
          48.2,
          49.1,
          53.2,
          47.6,
          54.5,
          46.8,
          50.6,
          53.3,
          51.6,
          50,
          50.5,
          47.5,
          50,
          56.1,
          60.8,
          61,
          65.2,
          66.8,
          65.3,
          67.4,
          64,
          65,
          66.9,
          71.3,
          71.3,
          72.5,
          71
         ],
         "yaxis": "y"
        },
        {
         "customdata": [
          [
           6,
           "Korea, South",
           50,
           "3/8/20"
          ],
          [
           3,
           "Korea, South",
           53,
           "3/9/20"
          ],
          [
           1,
           "Korea, South",
           54,
           "3/10/20"
          ],
          [
           6,
           "Korea, South",
           60,
           "3/11/20"
          ],
          [
           6,
           "Korea, South",
           66,
           "3/12/20"
          ],
          [
           0,
           "Korea, South",
           66,
           "3/13/20"
          ],
          [
           6,
           "Korea, South",
           72,
           "3/14/20"
          ],
          [
           3,
           "Korea, South",
           75,
           "3/15/20"
          ],
          [
           0,
           "Korea, South",
           75,
           "3/16/20"
          ],
          [
           6,
           "Korea, South",
           81,
           "3/17/20"
          ],
          [
           3,
           "Korea, South",
           84,
           "3/18/20"
          ],
          [
           7,
           "Korea, South",
           91,
           "3/19/20"
          ],
          [
           3,
           "Korea, South",
           94,
           "3/20/20"
          ],
          [
           8,
           "Korea, South",
           102,
           "3/21/20"
          ],
          [
           9,
           "Korea, South",
           111,
           "3/22/20"
          ],
          [
           0,
           "Korea, South",
           111,
           "3/23/20"
          ],
          [
           9,
           "Korea, South",
           120,
           "3/24/20"
          ],
          [
           6,
           "Korea, South",
           126,
           "3/25/20"
          ],
          [
           5,
           "Korea, South",
           131,
           "3/26/20"
          ],
          [
           8,
           "Korea, South",
           139,
           "3/27/20"
          ],
          [
           5,
           "Korea, South",
           144,
           "3/28/20"
          ],
          [
           8,
           "Korea, South",
           152,
           "3/29/20"
          ],
          [
           6,
           "Korea, South",
           158,
           "3/30/20"
          ],
          [
           4,
           "Korea, South",
           162,
           "3/31/20"
          ],
          [
           3,
           "Korea, South",
           165,
           "4/1/20"
          ],
          [
           4,
           "Korea, South",
           169,
           "4/2/20"
          ],
          [
           5,
           "Korea, South",
           174,
           "4/3/20"
          ],
          [
           3,
           "Korea, South",
           177,
           "4/4/20"
          ],
          [
           6,
           "Korea, South",
           183,
           "4/5/20"
          ],
          [
           3,
           "Korea, South",
           186,
           "4/6/20"
          ],
          [
           6,
           "Korea, South",
           192,
           "4/7/20"
          ],
          [
           8,
           "Korea, South",
           200,
           "4/8/20"
          ],
          [
           4,
           "Korea, South",
           204,
           "4/9/20"
          ],
          [
           4,
           "Korea, South",
           208,
           "4/10/20"
          ],
          [
           3,
           "Korea, South",
           211,
           "4/11/20"
          ],
          [
           3,
           "Korea, South",
           214,
           "4/12/20"
          ],
          [
           3,
           "Korea, South",
           217,
           "4/13/20"
          ],
          [
           5,
           "Korea, South",
           222,
           "4/14/20"
          ],
          [
           3,
           "Korea, South",
           225,
           "4/15/20"
          ],
          [
           4,
           "Korea, South",
           229,
           "4/16/20"
          ],
          [
           1,
           "Korea, South",
           230,
           "4/17/20"
          ],
          [
           2,
           "Korea, South",
           232,
           "4/18/20"
          ],
          [
           2,
           "Korea, South",
           234,
           "4/19/20"
          ],
          [
           2,
           "Korea, South",
           236,
           "4/20/20"
          ],
          [
           1,
           "Korea, South",
           237,
           "4/21/20"
          ],
          [
           1,
           "Korea, South",
           238,
           "4/22/20"
          ],
          [
           2,
           "Korea, South",
           240,
           "4/23/20"
          ],
          [
           0,
           "Korea, South",
           240,
           "4/24/20"
          ],
          [
           2,
           "Korea, South",
           242,
           "4/25/20"
          ],
          [
           1,
           "Korea, South",
           243,
           "4/26/20"
          ]
         ],
         "hoverlabel": {
          "namelength": 0
         },
         "hovertemplate": "Country =%{customdata[1]}<br>Mean growth over 14d compared to max growth =%{x}<br>% cases from last 14d =%{y}<br>Deaths=%{customdata[2]}<br>Deaths today =%{customdata[0]}<br>Date=%{customdata[3]}",
         "legendgroup": "Korea, South",
         "marker": {
          "color": "#ab63fa",
          "size": [
           50,
           53,
           54,
           60,
           66,
           66,
           72,
           75,
           75,
           81,
           84,
           91,
           94,
           102,
           111,
           111,
           120,
           126,
           131,
           139,
           144,
           152,
           158,
           162,
           165,
           169,
           174,
           177,
           183,
           186,
           192,
           200,
           204,
           208,
           211,
           214,
           217,
           222,
           225,
           229,
           230,
           232,
           234,
           236,
           237,
           238,
           240,
           240,
           242,
           243
          ],
          "sizemode": "area",
          "sizeref": 137.2025,
          "symbol": "circle"
         },
         "mode": "lines+markers",
         "name": "Korea, South",
         "showlegend": true,
         "type": "scattergl",
         "x": [
          34.9,
          35.7,
          34.9,
          38.1,
          42.1,
          42.1,
          44.4,
          46,
          37.3,
          42.1,
          38.9,
          44.4,
          41.3,
          46,
          48.4,
          46,
          52.4,
          52.4,
          51.6,
          57.9,
          57.1,
          61.1,
          65.9,
          64.3,
          64.3,
          61.9,
          63.5,
          59.5,
          57.1,
          59.5,
          57.1,
          58.7,
          57.9,
          54.8,
          53.2,
          49.2,
          46.8,
          47.6,
          47.6,
          47.6,
          44.4,
          43.7,
          40.5,
          39.7,
          35.7,
          30.2,
          28.6,
          25.4,
          24.6,
          23
         ],
         "xaxis": "x",
         "y": [
          88,
          84.9,
          81.5,
          80,
          80.3,
          80.3,
          77.8,
          77.3,
          62.7,
          65.4,
          58.3,
          61.5,
          55.3,
          56.9,
          55,
          52.3,
          55,
          52.4,
          49.6,
          52.5,
          50,
          50.7,
          52.5,
          50,
          49.1,
          46.2,
          46,
          42.4,
          39.3,
          40.3,
          37.5,
          37,
          35.8,
          33.2,
          31.8,
          29,
          27.2,
          27,
          26.7,
          26.2,
          24.3,
          23.7,
          21.8,
          21.2,
          19,
          16,
          15,
          13.3,
          12.8,
          11.9
         ],
         "yaxis": "y"
        },
        {
         "customdata": [
          [
           5,
           "Malaysia",
           50,
           "4/2/20"
          ],
          [
           3,
           "Malaysia",
           53,
           "4/3/20"
          ],
          [
           4,
           "Malaysia",
           57,
           "4/4/20"
          ],
          [
           4,
           "Malaysia",
           61,
           "4/5/20"
          ],
          [
           1,
           "Malaysia",
           62,
           "4/6/20"
          ],
          [
           1,
           "Malaysia",
           63,
           "4/7/20"
          ],
          [
           2,
           "Malaysia",
           65,
           "4/8/20"
          ],
          [
           2,
           "Malaysia",
           67,
           "4/9/20"
          ],
          [
           3,
           "Malaysia",
           70,
           "4/10/20"
          ],
          [
           3,
           "Malaysia",
           73,
           "4/11/20"
          ],
          [
           3,
           "Malaysia",
           76,
           "4/12/20"
          ],
          [
           1,
           "Malaysia",
           77,
           "4/13/20"
          ],
          [
           5,
           "Malaysia",
           82,
           "4/14/20"
          ],
          [
           1,
           "Malaysia",
           83,
           "4/15/20"
          ],
          [
           1,
           "Malaysia",
           84,
           "4/16/20"
          ],
          [
           2,
           "Malaysia",
           86,
           "4/17/20"
          ],
          [
           2,
           "Malaysia",
           88,
           "4/18/20"
          ],
          [
           1,
           "Malaysia",
           89,
           "4/19/20"
          ],
          [
           0,
           "Malaysia",
           89,
           "4/20/20"
          ],
          [
           3,
           "Malaysia",
           92,
           "4/21/20"
          ],
          [
           1,
           "Malaysia",
           93,
           "4/22/20"
          ],
          [
           2,
           "Malaysia",
           95,
           "4/23/20"
          ],
          [
           1,
           "Malaysia",
           96,
           "4/24/20"
          ],
          [
           2,
           "Malaysia",
           98,
           "4/25/20"
          ],
          [
           0,
           "Malaysia",
           98,
           "4/26/20"
          ]
         ],
         "hoverlabel": {
          "namelength": 0
         },
         "hovertemplate": "Country =%{customdata[1]}<br>Mean growth over 14d compared to max growth =%{x}<br>% cases from last 14d =%{y}<br>Deaths=%{customdata[2]}<br>Deaths today =%{customdata[0]}<br>Date=%{customdata[3]}",
         "legendgroup": "Malaysia",
         "marker": {
          "color": "#FFA15A",
          "size": [
           50,
           53,
           57,
           61,
           62,
           63,
           65,
           67,
           70,
           73,
           76,
           77,
           82,
           83,
           84,
           86,
           88,
           89,
           89,
           92,
           93,
           95,
           96,
           98,
           98
          ],
          "sizemode": "area",
          "sizeref": 137.2025,
          "symbol": "circle"
         },
         "mode": "lines+markers",
         "name": "Malaysia",
         "showlegend": true,
         "type": "scattergl",
         "x": [
          57.1,
          59.5,
          63.1,
          60.7,
          57.1,
          56,
          53.6,
          52.4,
          52.4,
          54.8,
          48.8,
          47.6,
          46.4,
          45.2,
          40.5,
          39.3,
          36.9,
          33.3,
          32.1,
          34.5,
          33.3,
          33.3,
          31,
          29.8,
          26.2
         ],
         "xaxis": "x",
         "y": [
          96,
          94.3,
          93,
          83.6,
          77.4,
          74.6,
          69.2,
          65.7,
          62.9,
          63,
          53.9,
          51.9,
          47.6,
          45.8,
          40.5,
          38.4,
          35.2,
          31.5,
          30.3,
          31.5,
          30.1,
          29.5,
          27.1,
          25.5,
          22.4
         ],
         "yaxis": "y"
        },
        {
         "customdata": [
          [
           13,
           "Mexico",
           50,
           "4/3/20"
          ],
          [
           10,
           "Mexico",
           60,
           "4/4/20"
          ],
          [
           19,
           "Mexico",
           79,
           "4/5/20"
          ],
          [
           15,
           "Mexico",
           94,
           "4/6/20"
          ],
          [
           31,
           "Mexico",
           125,
           "4/7/20"
          ],
          [
           16,
           "Mexico",
           141,
           "4/8/20"
          ],
          [
           33,
           "Mexico",
           174,
           "4/9/20"
          ],
          [
           20,
           "Mexico",
           194,
           "4/10/20"
          ],
          [
           39,
           "Mexico",
           233,
           "4/11/20"
          ],
          [
           40,
           "Mexico",
           273,
           "4/12/20"
          ],
          [
           23,
           "Mexico",
           296,
           "4/13/20"
          ],
          [
           36,
           "Mexico",
           332,
           "4/14/20"
          ],
          [
           74,
           "Mexico",
           406,
           "4/15/20"
          ],
          [
           43,
           "Mexico",
           449,
           "4/16/20"
          ],
          [
           37,
           "Mexico",
           486,
           "4/17/20"
          ],
          [
           60,
           "Mexico",
           546,
           "4/18/20"
          ],
          [
           104,
           "Mexico",
           650,
           "4/19/20"
          ],
          [
           36,
           "Mexico",
           686,
           "4/20/20"
          ],
          [
           26,
           "Mexico",
           712,
           "4/21/20"
          ],
          [
           145,
           "Mexico",
           857,
           "4/22/20"
          ],
          [
           212,
           "Mexico",
           1069,
           "4/23/20"
          ],
          [
           0,
           "Mexico",
           1069,
           "4/24/20"
          ],
          [
           236,
           "Mexico",
           1305,
           "4/25/20"
          ],
          [
           46,
           "Mexico",
           1351,
           "4/26/20"
          ]
         ],
         "hoverlabel": {
          "namelength": 0
         },
         "hovertemplate": "Country =%{customdata[1]}<br>Mean growth over 14d compared to max growth =%{x}<br>% cases from last 14d =%{y}<br>Deaths=%{customdata[2]}<br>Deaths today =%{customdata[0]}<br>Date=%{customdata[3]}",
         "legendgroup": "Mexico",
         "marker": {
          "color": "#19d3f3",
          "size": [
           50,
           60,
           79,
           94,
           125,
           141,
           174,
           194,
           233,
           273,
           296,
           332,
           406,
           449,
           486,
           546,
           650,
           686,
           712,
           857,
           1069,
           1069,
           1305,
           1351
          ],
          "sizemode": "area",
          "sizeref": 137.2025,
          "symbol": "circle"
         },
         "mode": "lines+markers",
         "name": "Mexico",
         "showlegend": true,
         "type": "scattergl",
         "x": [
          1.7,
          2,
          2.6,
          3.1,
          4.1,
          4.6,
          5.7,
          6.3,
          7.4,
          8.7,
          9.3,
          10.2,
          12.7,
          13.9,
          14.7,
          16.4,
          19.2,
          19.9,
          19.8,
          24.1,
          30.2,
          29.5,
          36.1,
          36.3
         ],
         "xaxis": "x",
         "y": [
          98,
          96.7,
          97.5,
          96.8,
          96.8,
          96.5,
          96.6,
          95.9,
          94.8,
          94.1,
          93.2,
          91.6,
          92.9,
          91.8,
          89.7,
          89,
          87.8,
          86.3,
          82.4,
          83.5,
          83.7,
          81.9,
          82.1,
          79.8
         ],
         "yaxis": "y"
        },
        {
         "customdata": [
          [
           15,
           "Netherlands",
           58,
           "3/18/20"
          ],
          [
           19,
           "Netherlands",
           77,
           "3/19/20"
          ],
          [
           30,
           "Netherlands",
           107,
           "3/20/20"
          ],
          [
           30,
           "Netherlands",
           137,
           "3/21/20"
          ],
          [
           43,
           "Netherlands",
           180,
           "3/22/20"
          ],
          [
           34,
           "Netherlands",
           214,
           "3/23/20"
          ],
          [
           63,
           "Netherlands",
           277,
           "3/24/20"
          ],
          [
           80,
           "Netherlands",
           357,
           "3/25/20"
          ],
          [
           78,
           "Netherlands",
           435,
           "3/26/20"
          ],
          [
           112,
           "Netherlands",
           547,
           "3/27/20"
          ],
          [
           93,
           "Netherlands",
           640,
           "3/28/20"
          ],
          [
           132,
           "Netherlands",
           772,
           "3/29/20"
          ],
          [
           93,
           "Netherlands",
           865,
           "3/30/20"
          ],
          [
           175,
           "Netherlands",
           1040,
           "3/31/20"
          ],
          [
           135,
           "Netherlands",
           1175,
           "4/1/20"
          ],
          [
           166,
           "Netherlands",
           1341,
           "4/2/20"
          ],
          [
           149,
           "Netherlands",
           1490,
           "4/3/20"
          ],
          [
           166,
           "Netherlands",
           1656,
           "4/4/20"
          ],
          [
           115,
           "Netherlands",
           1771,
           "4/5/20"
          ],
          [
           103,
           "Netherlands",
           1874,
           "4/6/20"
          ],
          [
           234,
           "Netherlands",
           2108,
           "4/7/20"
          ],
          [
           147,
           "Netherlands",
           2255,
           "4/8/20"
          ],
          [
           148,
           "Netherlands",
           2403,
           "4/9/20"
          ],
          [
           117,
           "Netherlands",
           2520,
           "4/10/20"
          ],
          [
           133,
           "Netherlands",
           2653,
           "4/11/20"
          ],
          [
           94,
           "Netherlands",
           2747,
           "4/12/20"
          ],
          [
           86,
           "Netherlands",
           2833,
           "4/13/20"
          ],
          [
           122,
           "Netherlands",
           2955,
           "4/14/20"
          ],
          [
           190,
           "Netherlands",
           3145,
           "4/15/20"
          ],
          [
           182,
           "Netherlands",
           3327,
           "4/16/20"
          ],
          [
           144,
           "Netherlands",
           3471,
           "4/17/20"
          ],
          [
           142,
           "Netherlands",
           3613,
           "4/18/20"
          ],
          [
           84,
           "Netherlands",
           3697,
           "4/19/20"
          ],
          [
           67,
           "Netherlands",
           3764,
           "4/20/20"
          ],
          [
           165,
           "Netherlands",
           3929,
           "4/21/20"
          ],
          [
           139,
           "Netherlands",
           4068,
           "4/22/20"
          ],
          [
           124,
           "Netherlands",
           4192,
           "4/23/20"
          ],
          [
           112,
           "Netherlands",
           4304,
           "4/24/20"
          ],
          [
           120,
           "Netherlands",
           4424,
           "4/25/20"
          ],
          [
           67,
           "Netherlands",
           4491,
           "4/26/20"
          ]
         ],
         "hoverlabel": {
          "namelength": 0
         },
         "hovertemplate": "Country =%{customdata[1]}<br>Mean growth over 14d compared to max growth =%{x}<br>% cases from last 14d =%{y}<br>Deaths=%{customdata[2]}<br>Deaths today =%{customdata[0]}<br>Date=%{customdata[3]}",
         "legendgroup": "Netherlands",
         "marker": {
          "color": "#FF6692",
          "size": [
           58,
           77,
           107,
           137,
           180,
           214,
           277,
           357,
           435,
           547,
           640,
           772,
           865,
           1040,
           1175,
           1341,
           1490,
           1656,
           1771,
           1874,
           2108,
           2255,
           2403,
           2520,
           2653,
           2747,
           2833,
           2955,
           3145,
           3327,
           3471,
           3613,
           3697,
           3764,
           3929,
           4068,
           4192,
           4304,
           4424,
           4491
          ],
          "sizemode": "area",
          "sizeref": 137.2025,
          "symbol": "circle"
         },
         "mode": "lines+markers",
         "name": "Netherlands",
         "showlegend": true,
         "type": "scattergl",
         "x": [
          2.2,
          2.9,
          4,
          5.1,
          6.7,
          7.9,
          10.3,
          13.2,
          16.2,
          20.2,
          23.6,
          28.3,
          31.6,
          37.5,
          42,
          47.5,
          52,
          57.1,
          59.8,
          62.4,
          68.8,
          71.4,
          74,
          74.2,
          75.7,
          74.2,
          74,
          72,
          74.1,
          74.7,
          74.5,
          73.6,
          72.4,
          71.1,
          68.5,
          68.2,
          67.3,
          67.1,
          66.6,
          65.6
         ],
         "xaxis": "x",
         "y": [
          100,
          100,
          99.1,
          99.3,
          98.3,
          98.6,
          98.6,
          98.6,
          98.9,
          98.2,
          98.1,
          97.4,
          97.2,
          95.9,
          95.1,
          94.3,
          92.8,
          91.7,
          89.8,
          88.6,
          86.9,
          84.2,
          81.9,
          78.3,
          75.9,
          71.9,
          69.5,
          64.8,
          62.6,
          59.7,
          57.1,
          54.2,
          52.1,
          50.2,
          46.3,
          44.6,
          42.7,
          41.4,
          40,
          38.8
         ],
         "yaxis": "y"
        },
        {
         "customdata": [
          [
           6,
           "Norway",
           50,
           "4/2/20"
          ],
          [
           9,
           "Norway",
           59,
           "4/3/20"
          ],
          [
           3,
           "Norway",
           62,
           "4/4/20"
          ],
          [
           9,
           "Norway",
           71,
           "4/5/20"
          ],
          [
           5,
           "Norway",
           76,
           "4/6/20"
          ],
          [
           13,
           "Norway",
           89,
           "4/7/20"
          ],
          [
           12,
           "Norway",
           101,
           "4/8/20"
          ],
          [
           7,
           "Norway",
           108,
           "4/9/20"
          ],
          [
           5,
           "Norway",
           113,
           "4/10/20"
          ],
          [
           6,
           "Norway",
           119,
           "4/11/20"
          ],
          [
           9,
           "Norway",
           128,
           "4/12/20"
          ],
          [
           6,
           "Norway",
           134,
           "4/13/20"
          ],
          [
           5,
           "Norway",
           139,
           "4/14/20"
          ],
          [
           11,
           "Norway",
           150,
           "4/15/20"
          ],
          [
           2,
           "Norway",
           152,
           "4/16/20"
          ],
          [
           9,
           "Norway",
           161,
           "4/17/20"
          ],
          [
           3,
           "Norway",
           164,
           "4/18/20"
          ],
          [
           1,
           "Norway",
           165,
           "4/19/20"
          ],
          [
           16,
           "Norway",
           181,
           "4/20/20"
          ],
          [
           1,
           "Norway",
           182,
           "4/21/20"
          ],
          [
           5,
           "Norway",
           187,
           "4/22/20"
          ],
          [
           7,
           "Norway",
           194,
           "4/23/20"
          ],
          [
           5,
           "Norway",
           199,
           "4/24/20"
          ],
          [
           2,
           "Norway",
           201,
           "4/25/20"
          ],
          [
           0,
           "Norway",
           201,
           "4/26/20"
          ]
         ],
         "hoverlabel": {
          "namelength": 0
         },
         "hovertemplate": "Country =%{customdata[1]}<br>Mean growth over 14d compared to max growth =%{x}<br>% cases from last 14d =%{y}<br>Deaths=%{customdata[2]}<br>Deaths today =%{customdata[0]}<br>Date=%{customdata[3]}",
         "legendgroup": "Norway",
         "marker": {
          "color": "#B6E880",
          "size": [
           50,
           59,
           62,
           71,
           76,
           89,
           101,
           108,
           113,
           119,
           128,
           134,
           139,
           150,
           152,
           161,
           164,
           165,
           181,
           182,
           187,
           194,
           199,
           201,
           201
          ],
          "sizemode": "area",
          "sizeref": 137.2025,
          "symbol": "circle"
         },
         "mode": "lines+markers",
         "name": "Norway",
         "showlegend": true,
         "type": "scattergl",
         "x": [
          23.6,
          28.6,
          30.2,
          35.2,
          36.3,
          42.3,
          47.8,
          51.6,
          51.6,
          52.7,
          56.6,
          56,
          54.9,
          58.2,
          56,
          56,
          56,
          51.6,
          57.7,
          51.1,
          47.3,
          47.3,
          47.3,
          45.1,
          40.1
         ],
         "xaxis": "x",
         "y": [
          86,
          88.1,
          88.7,
          90.1,
          86.8,
          86.5,
          86.1,
          87,
          83.2,
          80.7,
          80.5,
          76.1,
          71.9,
          70.7,
          67.1,
          63.4,
          62.2,
          57,
          58,
          51.1,
          46,
          44.3,
          43.2,
          40.8,
          36.3
         ],
         "yaxis": "y"
        },
        {
         "customdata": [
          [
           6,
           "Pakistan",
           53,
           "4/6/20"
          ],
          [
           4,
           "Pakistan",
           57,
           "4/7/20"
          ],
          [
           4,
           "Pakistan",
           61,
           "4/8/20"
          ],
          [
           4,
           "Pakistan",
           65,
           "4/9/20"
          ],
          [
           1,
           "Pakistan",
           66,
           "4/10/20"
          ],
          [
           20,
           "Pakistan",
           86,
           "4/11/20"
          ],
          [
           5,
           "Pakistan",
           91,
           "4/12/20"
          ],
          [
           2,
           "Pakistan",
           93,
           "4/13/20"
          ],
          [
           3,
           "Pakistan",
           96,
           "4/14/20"
          ],
          [
           15,
           "Pakistan",
           111,
           "4/15/20"
          ],
          [
           17,
           "Pakistan",
           128,
           "4/16/20"
          ],
          [
           7,
           "Pakistan",
           135,
           "4/17/20"
          ],
          [
           8,
           "Pakistan",
           143,
           "4/18/20"
          ],
          [
           25,
           "Pakistan",
           168,
           "4/19/20"
          ],
          [
           8,
           "Pakistan",
           176,
           "4/20/20"
          ],
          [
           25,
           "Pakistan",
           201,
           "4/21/20"
          ],
          [
           11,
           "Pakistan",
           212,
           "4/22/20"
          ],
          [
           25,
           "Pakistan",
           237,
           "4/23/20"
          ],
          [
           16,
           "Pakistan",
           253,
           "4/24/20"
          ],
          [
           16,
           "Pakistan",
           269,
           "4/25/20"
          ],
          [
           12,
           "Pakistan",
           281,
           "4/26/20"
          ]
         ],
         "hoverlabel": {
          "namelength": 0
         },
         "hovertemplate": "Country =%{customdata[1]}<br>Mean growth over 14d compared to max growth =%{x}<br>% cases from last 14d =%{y}<br>Deaths=%{customdata[2]}<br>Deaths today =%{customdata[0]}<br>Date=%{customdata[3]}",
         "legendgroup": "Pakistan",
         "marker": {
          "color": "#FF97FF",
          "size": [
           53,
           57,
           61,
           65,
           66,
           86,
           91,
           93,
           96,
           111,
           128,
           135,
           143,
           168,
           176,
           201,
           212,
           237,
           253,
           269,
           281
          ],
          "sizemode": "area",
          "sizeref": 137.2025,
          "symbol": "circle"
         },
         "mode": "lines+markers",
         "name": "Pakistan",
         "showlegend": true,
         "type": "scattergl",
         "x": [
          13.4,
          14.3,
          15.1,
          16,
          15.7,
          21.1,
          22,
          20.6,
          20,
          24,
          26.9,
          27.1,
          29.1,
          34.6,
          35.1,
          41.1,
          43.1,
          49.1,
          53.4,
          52.3,
          54.3
         ],
         "xaxis": "x",
         "y": [
          88.7,
          87.7,
          86.9,
          86.2,
          83.3,
          86,
          84.6,
          77.4,
          72.9,
          75.7,
          73.4,
          70.4,
          71.3,
          72,
          69.9,
          71.6,
          71.2,
          72.6,
          73.9,
          68,
          67.6
         ],
         "yaxis": "y"
        },
        {
         "customdata": [
          [
           8,
           "Panama",
           54,
           "4/6/20"
          ],
          [
           1,
           "Panama",
           55,
           "4/7/20"
          ],
          [
           4,
           "Panama",
           59,
           "4/8/20"
          ],
          [
           4,
           "Panama",
           63,
           "4/9/20"
          ],
          [
           3,
           "Panama",
           66,
           "4/10/20"
          ],
          [
           8,
           "Panama",
           74,
           "4/11/20"
          ],
          [
           5,
           "Panama",
           79,
           "4/12/20"
          ],
          [
           8,
           "Panama",
           87,
           "4/13/20"
          ],
          [
           7,
           "Panama",
           94,
           "4/14/20"
          ],
          [
           1,
           "Panama",
           95,
           "4/15/20"
          ],
          [
           8,
           "Panama",
           103,
           "4/16/20"
          ],
          [
           6,
           "Panama",
           109,
           "4/17/20"
          ],
          [
           7,
           "Panama",
           116,
           "4/18/20"
          ],
          [
           4,
           "Panama",
           120,
           "4/19/20"
          ],
          [
           6,
           "Panama",
           126,
           "4/20/20"
          ],
          [
           10,
           "Panama",
           136,
           "4/21/20"
          ],
          [
           5,
           "Panama",
           141,
           "4/22/20"
          ],
          [
           5,
           "Panama",
           146,
           "4/23/20"
          ],
          [
           8,
           "Panama",
           154,
           "4/24/20"
          ],
          [
           5,
           "Panama",
           159,
           "4/25/20"
          ],
          [
           6,
           "Panama",
           165,
           "4/26/20"
          ]
         ],
         "hoverlabel": {
          "namelength": 0
         },
         "hovertemplate": "Country =%{customdata[1]}<br>Mean growth over 14d compared to max growth =%{x}<br>% cases from last 14d =%{y}<br>Deaths=%{customdata[2]}<br>Deaths today =%{customdata[0]}<br>Date=%{customdata[3]}",
         "legendgroup": "Panama",
         "marker": {
          "color": "#FECB52",
          "size": [
           54,
           55,
           59,
           63,
           66,
           74,
           79,
           87,
           94,
           95,
           103,
           109,
           116,
           120,
           126,
           136,
           141,
           146,
           154,
           159,
           165
          ],
          "sizemode": "area",
          "sizeref": 137.2025,
          "symbol": "circle"
         },
         "mode": "lines+markers",
         "name": "Panama",
         "showlegend": true,
         "type": "scattergl",
         "x": [
          42.9,
          43.8,
          45.5,
          49.1,
          50.9,
          53.6,
          55.4,
          56.2,
          57.1,
          58,
          63.4,
          64.3,
          67,
          66.1,
          64.3,
          72.3,
          73.2,
          74.1,
          78.6,
          75.9,
          76.8
         ],
         "xaxis": "x",
         "y": [
          88.9,
          89.1,
          86.4,
          87.3,
          86.4,
          81.1,
          78.5,
          72.4,
          68.1,
          68.4,
          68.9,
          66.1,
          64.7,
          61.7,
          57.1,
          59.6,
          58.2,
          56.8,
          57.1,
          53.5,
          52.1
         ],
         "yaxis": "y"
        },
        {
         "customdata": [
          [
           17,
           "Peru",
           55,
           "4/2/20"
          ],
          [
           6,
           "Peru",
           61,
           "4/3/20"
          ],
          [
           12,
           "Peru",
           73,
           "4/4/20"
          ],
          [
           10,
           "Peru",
           83,
           "4/5/20"
          ],
          [
           9,
           "Peru",
           92,
           "4/6/20"
          ],
          [
           15,
           "Peru",
           107,
           "4/7/20"
          ],
          [
           14,
           "Peru",
           121,
           "4/8/20"
          ],
          [
           17,
           "Peru",
           138,
           "4/9/20"
          ],
          [
           31,
           "Peru",
           169,
           "4/10/20"
          ],
          [
           12,
           "Peru",
           181,
           "4/11/20"
          ],
          [
           12,
           "Peru",
           193,
           "4/12/20"
          ],
          [
           23,
           "Peru",
           216,
           "4/13/20"
          ],
          [
           14,
           "Peru",
           230,
           "4/14/20"
          ],
          [
           24,
           "Peru",
           254,
           "4/15/20"
          ],
          [
           20,
           "Peru",
           274,
           "4/16/20"
          ],
          [
           26,
           "Peru",
           300,
           "4/17/20"
          ],
          [
           48,
           "Peru",
           348,
           "4/18/20"
          ],
          [
           52,
           "Peru",
           400,
           "4/19/20"
          ],
          [
           45,
           "Peru",
           445,
           "4/20/20"
          ],
          [
           39,
           "Peru",
           484,
           "4/21/20"
          ],
          [
           46,
           "Peru",
           530,
           "4/22/20"
          ],
          [
           42,
           "Peru",
           572,
           "4/23/20"
          ],
          [
           62,
           "Peru",
           634,
           "4/24/20"
          ],
          [
           66,
           "Peru",
           700,
           "4/25/20"
          ],
          [
           28,
           "Peru",
           728,
           "4/26/20"
          ]
         ],
         "hoverlabel": {
          "namelength": 0
         },
         "hovertemplate": "Country =%{customdata[1]}<br>Mean growth over 14d compared to max growth =%{x}<br>% cases from last 14d =%{y}<br>Deaths=%{customdata[2]}<br>Deaths today =%{customdata[0]}<br>Date=%{customdata[3]}",
         "legendgroup": "Peru",
         "marker": {
          "color": "#636efa",
          "size": [
           55,
           61,
           73,
           83,
           92,
           107,
           121,
           138,
           169,
           181,
           193,
           216,
           230,
           254,
           274,
           300,
           348,
           400,
           445,
           484,
           530,
           572,
           634,
           700,
           728
          ],
          "sizemode": "area",
          "sizeref": 137.2025,
          "symbol": "circle"
         },
         "mode": "lines+markers",
         "name": "Peru",
         "showlegend": true,
         "type": "scattergl",
         "x": [
          6.3,
          6.7,
          7.8,
          9,
          10,
          11.5,
          12.9,
          14.9,
          18.2,
          19,
          20.2,
          22.1,
          23,
          24.9,
          25.2,
          27.5,
          31.7,
          36.5,
          40.7,
          43.4,
          47.1,
          50,
          53.6,
          59.8,
          61.6
         ],
         "xaxis": "x",
         "y": [
          100,
          95.1,
          93.2,
          94,
          94.6,
          93.5,
          92.6,
          93.5,
          93.5,
          91.2,
          90.7,
          88.9,
          87,
          85,
          79.9,
          79.7,
          79,
          79.2,
          79.3,
          77.9,
          77.2,
          75.9,
          73.3,
          74.1,
          73.5
         ],
         "yaxis": "y"
        },
        {
         "customdata": [
          [
           9,
           "Philippines",
           54,
           "3/27/20"
          ],
          [
           14,
           "Philippines",
           68,
           "3/28/20"
          ],
          [
           3,
           "Philippines",
           71,
           "3/29/20"
          ],
          [
           7,
           "Philippines",
           78,
           "3/30/20"
          ],
          [
           10,
           "Philippines",
           88,
           "3/31/20"
          ],
          [
           8,
           "Philippines",
           96,
           "4/1/20"
          ],
          [
           11,
           "Philippines",
           107,
           "4/2/20"
          ],
          [
           29,
           "Philippines",
           136,
           "4/3/20"
          ],
          [
           8,
           "Philippines",
           144,
           "4/4/20"
          ],
          [
           8,
           "Philippines",
           152,
           "4/5/20"
          ],
          [
           11,
           "Philippines",
           163,
           "4/6/20"
          ],
          [
           14,
           "Philippines",
           177,
           "4/7/20"
          ],
          [
           5,
           "Philippines",
           182,
           "4/8/20"
          ],
          [
           21,
           "Philippines",
           203,
           "4/9/20"
          ],
          [
           18,
           "Philippines",
           221,
           "4/10/20"
          ],
          [
           26,
           "Philippines",
           247,
           "4/11/20"
          ],
          [
           50,
           "Philippines",
           297,
           "4/12/20"
          ],
          [
           18,
           "Philippines",
           315,
           "4/13/20"
          ],
          [
           20,
           "Philippines",
           335,
           "4/14/20"
          ],
          [
           14,
           "Philippines",
           349,
           "4/15/20"
          ],
          [
           13,
           "Philippines",
           362,
           "4/16/20"
          ],
          [
           25,
           "Philippines",
           387,
           "4/17/20"
          ],
          [
           10,
           "Philippines",
           397,
           "4/18/20"
          ],
          [
           12,
           "Philippines",
           409,
           "4/19/20"
          ],
          [
           19,
           "Philippines",
           428,
           "4/20/20"
          ],
          [
           9,
           "Philippines",
           437,
           "4/21/20"
          ],
          [
           9,
           "Philippines",
           446,
           "4/22/20"
          ],
          [
           16,
           "Philippines",
           462,
           "4/23/20"
          ],
          [
           15,
           "Philippines",
           477,
           "4/24/20"
          ],
          [
           17,
           "Philippines",
           494,
           "4/25/20"
          ],
          [
           7,
           "Philippines",
           501,
           "4/26/20"
          ]
         ],
         "hoverlabel": {
          "namelength": 0
         },
         "hovertemplate": "Country =%{customdata[1]}<br>Mean growth over 14d compared to max growth =%{x}<br>% cases from last 14d =%{y}<br>Deaths=%{customdata[2]}<br>Deaths today =%{customdata[0]}<br>Date=%{customdata[3]}",
         "legendgroup": "Philippines",
         "marker": {
          "color": "#EF553B",
          "size": [
           54,
           68,
           71,
           78,
           88,
           96,
           107,
           136,
           144,
           152,
           163,
           177,
           182,
           203,
           221,
           247,
           297,
           315,
           335,
           349,
           362,
           387,
           397,
           409,
           428,
           437,
           446,
           462,
           477,
           494,
           501
          ],
          "sizemode": "area",
          "sizeref": 137.2025,
          "symbol": "circle"
         },
         "mode": "lines+markers",
         "name": "Philippines",
         "showlegend": true,
         "type": "scattergl",
         "x": [
          12.1,
          14.8,
          14.8,
          16.3,
          18.7,
          19,
          22.2,
          29.1,
          30.8,
          31.3,
          32,
          35,
          35.5,
          38.9,
          41.1,
          44.1,
          55.7,
          58.4,
          60.8,
          62.3,
          62.8,
          61.8,
          62.3,
          63.3,
          65.3,
          64,
          65,
          63.8,
          63.1,
          60.8,
          50.2
         ],
         "xaxis": "x",
         "y": [
          90.7,
          88.2,
          84.5,
          84.6,
          86.4,
          80.2,
          84.1,
          86.8,
          86.8,
          83.6,
          79.8,
          80.2,
          79.1,
          77.8,
          75.6,
          72.5,
          76.1,
          75.2,
          73.7,
          72.5,
          70.4,
          64.9,
          63.7,
          62.8,
          61.9,
          59.5,
          59.2,
          56.1,
          53.7,
          50,
          40.7
         ],
         "yaxis": "y"
        },
        {
         "customdata": [
          [
           14,
           "Poland",
           57,
           "4/2/20"
          ],
          [
           14,
           "Poland",
           71,
           "4/3/20"
          ],
          [
           8,
           "Poland",
           79,
           "4/4/20"
          ],
          [
           15,
           "Poland",
           94,
           "4/5/20"
          ],
          [
           13,
           "Poland",
           107,
           "4/6/20"
          ],
          [
           22,
           "Poland",
           129,
           "4/7/20"
          ],
          [
           30,
           "Poland",
           159,
           "4/8/20"
          ],
          [
           15,
           "Poland",
           174,
           "4/9/20"
          ],
          [
           7,
           "Poland",
           181,
           "4/10/20"
          ],
          [
           27,
           "Poland",
           208,
           "4/11/20"
          ],
          [
           24,
           "Poland",
           232,
           "4/12/20"
          ],
          [
           13,
           "Poland",
           245,
           "4/13/20"
          ],
          [
           18,
           "Poland",
           263,
           "4/14/20"
          ],
          [
           23,
           "Poland",
           286,
           "4/15/20"
          ],
          [
           28,
           "Poland",
           314,
           "4/16/20"
          ],
          [
           18,
           "Poland",
           332,
           "4/17/20"
          ],
          [
           15,
           "Poland",
           347,
           "4/18/20"
          ],
          [
           13,
           "Poland",
           360,
           "4/19/20"
          ],
          [
           20,
           "Poland",
           380,
           "4/20/20"
          ],
          [
           21,
           "Poland",
           401,
           "4/21/20"
          ],
          [
           25,
           "Poland",
           426,
           "4/22/20"
          ],
          [
           28,
           "Poland",
           454,
           "4/23/20"
          ],
          [
           40,
           "Poland",
           494,
           "4/24/20"
          ],
          [
           30,
           "Poland",
           524,
           "4/25/20"
          ],
          [
           11,
           "Poland",
           535,
           "4/26/20"
          ]
         ],
         "hoverlabel": {
          "namelength": 0
         },
         "hovertemplate": "Country =%{customdata[1]}<br>Mean growth over 14d compared to max growth =%{x}<br>% cases from last 14d =%{y}<br>Deaths=%{customdata[2]}<br>Deaths today =%{customdata[0]}<br>Date=%{customdata[3]}",
         "legendgroup": "Poland",
         "marker": {
          "color": "#00cc96",
          "size": [
           57,
           71,
           79,
           94,
           107,
           129,
           159,
           174,
           181,
           208,
           232,
           245,
           263,
           286,
           314,
           332,
           347,
           360,
           380,
           401,
           426,
           454,
           494,
           524,
           535
          ],
          "sizemode": "area",
          "sizeref": 137.2025,
          "symbol": "circle"
         },
         "mode": "lines+markers",
         "name": "Poland",
         "showlegend": true,
         "type": "scattergl",
         "x": [
          12.4,
          15.7,
          17.6,
          20.7,
          23.6,
          28.3,
          34.5,
          37.6,
          39.3,
          45.2,
          50,
          51,
          54.8,
          57.9,
          61.2,
          62.1,
          63.8,
          63.3,
          65,
          64.8,
          63.6,
          66.7,
          74.5,
          75.2,
          72.1
         ],
         "xaxis": "x",
         "y": [
          91.2,
          93,
          93.7,
          92.6,
          92.5,
          92.2,
          91.2,
          90.8,
          91.2,
          91.3,
          90.5,
          87.3,
          87.5,
          85,
          81.8,
          78.6,
          77.2,
          73.9,
          71.8,
          67.8,
          62.7,
          61.7,
          63.4,
          60.3,
          56.6
         ],
         "yaxis": "y"
        },
        {
         "customdata": [
          [
           17,
           "Portugal",
           60,
           "3/26/20"
          ],
          [
           16,
           "Portugal",
           76,
           "3/27/20"
          ],
          [
           24,
           "Portugal",
           100,
           "3/28/20"
          ],
          [
           19,
           "Portugal",
           119,
           "3/29/20"
          ],
          [
           21,
           "Portugal",
           140,
           "3/30/20"
          ],
          [
           20,
           "Portugal",
           160,
           "3/31/20"
          ],
          [
           27,
           "Portugal",
           187,
           "4/1/20"
          ],
          [
           22,
           "Portugal",
           209,
           "4/2/20"
          ],
          [
           37,
           "Portugal",
           246,
           "4/3/20"
          ],
          [
           20,
           "Portugal",
           266,
           "4/4/20"
          ],
          [
           29,
           "Portugal",
           295,
           "4/5/20"
          ],
          [
           16,
           "Portugal",
           311,
           "4/6/20"
          ],
          [
           34,
           "Portugal",
           345,
           "4/7/20"
          ],
          [
           35,
           "Portugal",
           380,
           "4/8/20"
          ],
          [
           29,
           "Portugal",
           409,
           "4/9/20"
          ],
          [
           26,
           "Portugal",
           435,
           "4/10/20"
          ],
          [
           35,
           "Portugal",
           470,
           "4/11/20"
          ],
          [
           34,
           "Portugal",
           504,
           "4/12/20"
          ],
          [
           31,
           "Portugal",
           535,
           "4/13/20"
          ],
          [
           32,
           "Portugal",
           567,
           "4/14/20"
          ],
          [
           32,
           "Portugal",
           599,
           "4/15/20"
          ],
          [
           30,
           "Portugal",
           629,
           "4/16/20"
          ],
          [
           28,
           "Portugal",
           657,
           "4/17/20"
          ],
          [
           30,
           "Portugal",
           687,
           "4/18/20"
          ],
          [
           27,
           "Portugal",
           714,
           "4/19/20"
          ],
          [
           21,
           "Portugal",
           735,
           "4/20/20"
          ],
          [
           27,
           "Portugal",
           762,
           "4/21/20"
          ],
          [
           23,
           "Portugal",
           785,
           "4/22/20"
          ],
          [
           35,
           "Portugal",
           820,
           "4/23/20"
          ],
          [
           34,
           "Portugal",
           854,
           "4/24/20"
          ],
          [
           26,
           "Portugal",
           880,
           "4/25/20"
          ],
          [
           23,
           "Portugal",
           903,
           "4/26/20"
          ]
         ],
         "hoverlabel": {
          "namelength": 0
         },
         "hovertemplate": "Country =%{customdata[1]}<br>Mean growth over 14d compared to max growth =%{x}<br>% cases from last 14d =%{y}<br>Deaths=%{customdata[2]}<br>Deaths today =%{customdata[0]}<br>Date=%{customdata[3]}",
         "legendgroup": "Portugal",
         "marker": {
          "color": "#ab63fa",
          "size": [
           60,
           76,
           100,
           119,
           140,
           160,
           187,
           209,
           246,
           266,
           295,
           311,
           345,
           380,
           409,
           435,
           470,
           504,
           535,
           567,
           599,
           629,
           657,
           687,
           714,
           735,
           762,
           785,
           820,
           854,
           880,
           903
          ],
          "sizemode": "area",
          "sizeref": 137.2025,
          "symbol": "circle"
         },
         "mode": "lines+markers",
         "name": "Portugal",
         "showlegend": true,
         "type": "scattergl",
         "x": [
          12.2,
          15.5,
          20.4,
          24.3,
          28.6,
          32.4,
          37.8,
          42,
          49,
          51.8,
          57.3,
          58.8,
          63.7,
          68.8,
          71.2,
          73.3,
          75.5,
          78.6,
          80.6,
          83.1,
          84.1,
          85.7,
          83.9,
          85.9,
          85.5,
          86.5,
          85.1,
          82.7,
          83.9,
          85.5,
          83.7,
          81.4
         ],
         "xaxis": "x",
         "y": [
          100,
          100,
          100,
          100,
          100,
          99.4,
          98.9,
          98.6,
          97.6,
          95.5,
          95.3,
          92.6,
          90.4,
          88.7,
          85.3,
          82.5,
          78.7,
          76.4,
          73.8,
          71.8,
          68.8,
          66.8,
          62.6,
          61.3,
          58.7,
          57.7,
          54.7,
          51.6,
          50.1,
          49.1,
          46.6,
          44.2
         ],
         "yaxis": "y"
        },
        {
         "customdata": [
          [
           22,
           "Romania",
           65,
           "3/30/20"
          ],
          [
           17,
           "Romania",
           82,
           "3/31/20"
          ],
          [
           10,
           "Romania",
           92,
           "4/1/20"
          ],
          [
           23,
           "Romania",
           115,
           "4/2/20"
          ],
          [
           18,
           "Romania",
           133,
           "4/3/20"
          ],
          [
           13,
           "Romania",
           146,
           "4/4/20"
          ],
          [
           5,
           "Romania",
           151,
           "4/5/20"
          ],
          [
           25,
           "Romania",
           176,
           "4/6/20"
          ],
          [
           21,
           "Romania",
           197,
           "4/7/20"
          ],
          [
           23,
           "Romania",
           220,
           "4/8/20"
          ],
          [
           28,
           "Romania",
           248,
           "4/9/20"
          ],
          [
           22,
           "Romania",
           270,
           "4/10/20"
          ],
          [
           21,
           "Romania",
           291,
           "4/11/20"
          ],
          [
           25,
           "Romania",
           316,
           "4/12/20"
          ],
          [
           15,
           "Romania",
           331,
           "4/13/20"
          ],
          [
           20,
           "Romania",
           351,
           "4/14/20"
          ],
          [
           21,
           "Romania",
           372,
           "4/15/20"
          ],
          [
           20,
           "Romania",
           392,
           "4/16/20"
          ],
          [
           19,
           "Romania",
           411,
           "4/17/20"
          ],
          [
           10,
           "Romania",
           421,
           "4/18/20"
          ],
          [
           30,
           "Romania",
           451,
           "4/19/20"
          ],
          [
           27,
           "Romania",
           478,
           "4/20/20"
          ],
          [
           20,
           "Romania",
           498,
           "4/21/20"
          ],
          [
           26,
           "Romania",
           524,
           "4/22/20"
          ],
          [
           21,
           "Romania",
           545,
           "4/23/20"
          ],
          [
           22,
           "Romania",
           567,
           "4/24/20"
          ],
          [
           34,
           "Romania",
           601,
           "4/25/20"
          ],
          [
           18,
           "Romania",
           619,
           "4/26/20"
          ]
         ],
         "hoverlabel": {
          "namelength": 0
         },
         "hovertemplate": "Country =%{customdata[1]}<br>Mean growth over 14d compared to max growth =%{x}<br>% cases from last 14d =%{y}<br>Deaths=%{customdata[2]}<br>Deaths today =%{customdata[0]}<br>Date=%{customdata[3]}",
         "legendgroup": "Romania",
         "marker": {
          "color": "#FFA15A",
          "size": [
           65,
           82,
           92,
           115,
           133,
           146,
           151,
           176,
           197,
           220,
           248,
           270,
           291,
           316,
           331,
           351,
           372,
           392,
           411,
           421,
           451,
           478,
           498,
           524,
           545,
           567,
           601,
           619
          ],
          "sizemode": "area",
          "sizeref": 137.2025,
          "symbol": "circle"
         },
         "mode": "lines+markers",
         "name": "Romania",
         "showlegend": true,
         "type": "scattergl",
         "x": [
          15.5,
          19.5,
          21.9,
          27.4,
          31.7,
          34.8,
          35.2,
          40.2,
          44.3,
          48.3,
          53.6,
          58.1,
          60.5,
          65,
          63.3,
          64,
          66.7,
          66,
          66.2,
          65.5,
          71.4,
          71.9,
          71.7,
          72.4,
          70.7,
          70.7,
          73.8,
          72.1
         ],
         "xaxis": "x",
         "y": [
          100,
          100,
          100,
          100,
          100,
          100,
          98,
          96,
          94.4,
          92.3,
          90.7,
          90.4,
          87.3,
          86.4,
          80.4,
          76.6,
          75.3,
          70.7,
          67.6,
          65.3,
          66.5,
          63.2,
          60.4,
          58,
          54.5,
          52.4,
          51.6,
          48.9
         ],
         "yaxis": "y"
        },
        {
         "customdata": [
          [
           11,
           "Russia",
           58,
           "4/7/20"
          ],
          [
           5,
           "Russia",
           63,
           "4/8/20"
          ],
          [
           13,
           "Russia",
           76,
           "4/9/20"
          ],
          [
           18,
           "Russia",
           94,
           "4/10/20"
          ],
          [
           12,
           "Russia",
           106,
           "4/11/20"
          ],
          [
           24,
           "Russia",
           130,
           "4/12/20"
          ],
          [
           18,
           "Russia",
           148,
           "4/13/20"
          ],
          [
           22,
           "Russia",
           170,
           "4/14/20"
          ],
          [
           28,
           "Russia",
           198,
           "4/15/20"
          ],
          [
           34,
           "Russia",
           232,
           "4/16/20"
          ],
          [
           41,
           "Russia",
           273,
           "4/17/20"
          ],
          [
           40,
           "Russia",
           313,
           "4/18/20"
          ],
          [
           48,
           "Russia",
           361,
           "4/19/20"
          ],
          [
           44,
           "Russia",
           405,
           "4/20/20"
          ],
          [
           51,
           "Russia",
           456,
           "4/21/20"
          ],
          [
           57,
           "Russia",
           513,
           "4/22/20"
          ],
          [
           42,
           "Russia",
           555,
           "4/23/20"
          ],
          [
           60,
           "Russia",
           615,
           "4/24/20"
          ],
          [
           66,
           "Russia",
           681,
           "4/25/20"
          ],
          [
           66,
           "Russia",
           747,
           "4/26/20"
          ]
         ],
         "hoverlabel": {
          "namelength": 0
         },
         "hovertemplate": "Country =%{customdata[1]}<br>Mean growth over 14d compared to max growth =%{x}<br>% cases from last 14d =%{y}<br>Deaths=%{customdata[2]}<br>Deaths today =%{customdata[0]}<br>Date=%{customdata[3]}",
         "legendgroup": "Russia",
         "marker": {
          "color": "#19d3f3",
          "size": [
           58,
           63,
           76,
           94,
           106,
           130,
           148,
           170,
           198,
           232,
           273,
           313,
           361,
           405,
           456,
           513,
           555,
           615,
           681,
           747
          ],
          "sizemode": "area",
          "sizeref": 137.2025,
          "symbol": "circle"
         },
         "mode": "lines+markers",
         "name": "Russia",
         "showlegend": true,
         "type": "scattergl",
         "x": [
          6.2,
          6.5,
          7.9,
          9.7,
          11,
          13.2,
          15,
          16.6,
          18.8,
          21.9,
          25.9,
          29.2,
          34.2,
          38.7,
          43.1,
          48.7,
          51.8,
          56.4,
          62.2,
          66.8
         ],
         "xaxis": "x",
         "y": [
          98.3,
          95.2,
          96.1,
          95.7,
          96.2,
          93.8,
          93.9,
          90,
          87.9,
          87.1,
          87.5,
          86.3,
          87.5,
          88.4,
          87.3,
          87.7,
          86.3,
          84.7,
          84.4,
          82.6
         ],
         "yaxis": "y"
        },
        {
         "customdata": [
          [
           5,
           "Saudi Arabia",
           52,
           "4/11/20"
          ],
          [
           7,
           "Saudi Arabia",
           59,
           "4/12/20"
          ],
          [
           6,
           "Saudi Arabia",
           65,
           "4/13/20"
          ],
          [
           8,
           "Saudi Arabia",
           73,
           "4/14/20"
          ],
          [
           6,
           "Saudi Arabia",
           79,
           "4/15/20"
          ],
          [
           4,
           "Saudi Arabia",
           83,
           "4/16/20"
          ],
          [
           4,
           "Saudi Arabia",
           87,
           "4/17/20"
          ],
          [
           5,
           "Saudi Arabia",
           92,
           "4/18/20"
          ],
          [
           5,
           "Saudi Arabia",
           97,
           "4/19/20"
          ],
          [
           6,
           "Saudi Arabia",
           103,
           "4/20/20"
          ],
          [
           6,
           "Saudi Arabia",
           109,
           "4/21/20"
          ],
          [
           5,
           "Saudi Arabia",
           114,
           "4/22/20"
          ],
          [
           7,
           "Saudi Arabia",
           121,
           "4/23/20"
          ],
          [
           6,
           "Saudi Arabia",
           127,
           "4/24/20"
          ],
          [
           9,
           "Saudi Arabia",
           136,
           "4/25/20"
          ],
          [
           3,
           "Saudi Arabia",
           139,
           "4/26/20"
          ]
         ],
         "hoverlabel": {
          "namelength": 0
         },
         "hovertemplate": "Country =%{customdata[1]}<br>Mean growth over 14d compared to max growth =%{x}<br>% cases from last 14d =%{y}<br>Deaths=%{customdata[2]}<br>Deaths today =%{customdata[0]}<br>Date=%{customdata[3]}",
         "legendgroup": "Saudi Arabia",
         "marker": {
          "color": "#FF6692",
          "size": [
           52,
           59,
           65,
           73,
           79,
           83,
           87,
           92,
           97,
           103,
           109,
           114,
           121,
           127,
           136,
           139
          ],
          "sizemode": "area",
          "sizeref": 137.2025,
          "symbol": "circle"
         },
         "mode": "lines+markers",
         "name": "Saudi Arabia",
         "showlegend": true,
         "type": "scattergl",
         "x": [
          42.9,
          45.5,
          50.9,
          56.2,
          56.2,
          55.4,
          55.4,
          56.2,
          56.2,
          58,
          60.7,
          65.2,
          68.8,
          71.4,
          75,
          71.4
         ],
         "xaxis": "x",
         "y": [
          92.3,
          86.4,
          87.7,
          86.3,
          79.7,
          74.7,
          71.3,
          68.5,
          64.9,
          63.1,
          62.4,
          64,
          63.6,
          63,
          61.8,
          57.6
         ],
         "yaxis": "y"
        },
        {
         "customdata": [
          [
           7,
           "Serbia",
           51,
           "4/5/20"
          ],
          [
           7,
           "Serbia",
           58,
           "4/6/20"
          ],
          [
           3,
           "Serbia",
           61,
           "4/7/20"
          ],
          [
           4,
           "Serbia",
           65,
           "4/8/20"
          ],
          [
           1,
           "Serbia",
           66,
           "4/9/20"
          ],
          [
           5,
           "Serbia",
           71,
           "4/10/20"
          ],
          [
           3,
           "Serbia",
           74,
           "4/11/20"
          ],
          [
           6,
           "Serbia",
           80,
           "4/12/20"
          ],
          [
           5,
           "Serbia",
           85,
           "4/13/20"
          ],
          [
           9,
           "Serbia",
           94,
           "4/14/20"
          ],
          [
           5,
           "Serbia",
           99,
           "4/15/20"
          ],
          [
           4,
           "Serbia",
           103,
           "4/16/20"
          ],
          [
           7,
           "Serbia",
           110,
           "4/17/20"
          ],
          [
           7,
           "Serbia",
           117,
           "4/18/20"
          ],
          [
           5,
           "Serbia",
           122,
           "4/19/20"
          ],
          [
           3,
           "Serbia",
           125,
           "4/20/20"
          ],
          [
           0,
           "Serbia",
           125,
           "4/21/20"
          ],
          [
           0,
           "Serbia",
           125,
           "4/22/20"
          ],
          [
           0,
           "Serbia",
           125,
           "4/23/20"
          ],
          [
           0,
           "Serbia",
           125,
           "4/24/20"
          ],
          [
           0,
           "Serbia",
           125,
           "4/25/20"
          ],
          [
           0,
           "Serbia",
           125,
           "4/26/20"
          ]
         ],
         "hoverlabel": {
          "namelength": 0
         },
         "hovertemplate": "Country =%{customdata[1]}<br>Mean growth over 14d compared to max growth =%{x}<br>% cases from last 14d =%{y}<br>Deaths=%{customdata[2]}<br>Deaths today =%{customdata[0]}<br>Date=%{customdata[3]}",
         "legendgroup": "Serbia",
         "marker": {
          "color": "#B6E880",
          "size": [
           51,
           58,
           61,
           65,
           66,
           71,
           74,
           80,
           85,
           94,
           99,
           103,
           110,
           117,
           122,
           125,
           125,
           125,
           125,
           125,
           125,
           125
          ],
          "sizemode": "area",
          "sizeref": 137.2025,
          "symbol": "circle"
         },
         "mode": "lines+markers",
         "name": "Serbia",
         "showlegend": true,
         "type": "scattergl",
         "x": [
          38.9,
          43.7,
          46,
          48.4,
          51.6,
          55.6,
          50.8,
          53.2,
          54.8,
          61.9,
          56.3,
          57.1,
          56.3,
          57.9,
          56.3,
          53.2,
          50.8,
          47.6,
          46.8,
          42.9,
          40.5,
          35.7
         ],
         "xaxis": "x",
         "y": [
          96.1,
          94.8,
          95.1,
          93.8,
          98.5,
          98.6,
          86.5,
          83.8,
          81.2,
          83,
          71.7,
          69.9,
          64.5,
          62.4,
          58.2,
          53.6,
          51.2,
          48,
          47.2,
          43.2,
          40.8,
          36
         ],
         "yaxis": "y"
        },
        {
         "customdata": [
          [
           19,
           "Spain",
           54,
           "3/11/20"
          ],
          [
           1,
           "Spain",
           55,
           "3/12/20"
          ],
          [
           78,
           "Spain",
           133,
           "3/13/20"
          ],
          [
           62,
           "Spain",
           195,
           "3/14/20"
          ],
          [
           94,
           "Spain",
           289,
           "3/15/20"
          ],
          [
           53,
           "Spain",
           342,
           "3/16/20"
          ],
          [
           191,
           "Spain",
           533,
           "3/17/20"
          ],
          [
           90,
           "Spain",
           623,
           "3/18/20"
          ],
          [
           207,
           "Spain",
           830,
           "3/19/20"
          ],
          [
           213,
           "Spain",
           1043,
           "3/20/20"
          ],
          [
           332,
           "Spain",
           1375,
           "3/21/20"
          ],
          [
           397,
           "Spain",
           1772,
           "3/22/20"
          ],
          [
           539,
           "Spain",
           2311,
           "3/23/20"
          ],
          [
           497,
           "Spain",
           2808,
           "3/24/20"
          ],
          [
           839,
           "Spain",
           3647,
           "3/25/20"
          ],
          [
           718,
           "Spain",
           4365,
           "3/26/20"
          ],
          [
           773,
           "Spain",
           5138,
           "3/27/20"
          ],
          [
           844,
           "Spain",
           5982,
           "3/28/20"
          ],
          [
           821,
           "Spain",
           6803,
           "3/29/20"
          ],
          [
           913,
           "Spain",
           7716,
           "3/30/20"
          ],
          [
           748,
           "Spain",
           8464,
           "3/31/20"
          ],
          [
           923,
           "Spain",
           9387,
           "4/1/20"
          ],
          [
           961,
           "Spain",
           10348,
           "4/2/20"
          ],
          [
           850,
           "Spain",
           11198,
           "4/3/20"
          ],
          [
           749,
           "Spain",
           11947,
           "4/4/20"
          ],
          [
           694,
           "Spain",
           12641,
           "4/5/20"
          ],
          [
           700,
           "Spain",
           13341,
           "4/6/20"
          ],
          [
           704,
           "Spain",
           14045,
           "4/7/20"
          ],
          [
           747,
           "Spain",
           14792,
           "4/8/20"
          ],
          [
           655,
           "Spain",
           15447,
           "4/9/20"
          ],
          [
           634,
           "Spain",
           16081,
           "4/10/20"
          ],
          [
           525,
           "Spain",
           16606,
           "4/11/20"
          ],
          [
           603,
           "Spain",
           17209,
           "4/12/20"
          ],
          [
           547,
           "Spain",
           17756,
           "4/13/20"
          ],
          [
           300,
           "Spain",
           18056,
           "4/14/20"
          ],
          [
           652,
           "Spain",
           18708,
           "4/15/20"
          ],
          [
           607,
           "Spain",
           19315,
           "4/16/20"
          ],
          [
           687,
           "Spain",
           20002,
           "4/17/20"
          ],
          [
           41,
           "Spain",
           20043,
           "4/18/20"
          ],
          [
           410,
           "Spain",
           20453,
           "4/19/20"
          ],
          [
           399,
           "Spain",
           20852,
           "4/20/20"
          ],
          [
           430,
           "Spain",
           21282,
           "4/21/20"
          ],
          [
           435,
           "Spain",
           21717,
           "4/22/20"
          ],
          [
           440,
           "Spain",
           22157,
           "4/23/20"
          ],
          [
           367,
           "Spain",
           22524,
           "4/24/20"
          ],
          [
           378,
           "Spain",
           22902,
           "4/25/20"
          ],
          [
           288,
           "Spain",
           23190,
           "4/26/20"
          ]
         ],
         "hoverlabel": {
          "namelength": 0
         },
         "hovertemplate": "Country =%{customdata[1]}<br>Mean growth over 14d compared to max growth =%{x}<br>% cases from last 14d =%{y}<br>Deaths=%{customdata[2]}<br>Deaths today =%{customdata[0]}<br>Date=%{customdata[3]}",
         "legendgroup": "Spain",
         "marker": {
          "color": "#FF97FF",
          "size": [
           54,
           55,
           133,
           195,
           289,
           342,
           533,
           623,
           830,
           1043,
           1375,
           1772,
           2311,
           2808,
           3647,
           4365,
           5138,
           5982,
           6803,
           7716,
           8464,
           9387,
           10348,
           11198,
           11947,
           12641,
           13341,
           14045,
           14792,
           15447,
           16081,
           16606,
           17209,
           17756,
           18056,
           18708,
           19315,
           20002,
           20043,
           20453,
           20852,
           21282,
           21717,
           22157,
           22524,
           22902,
           23190
          ],
          "sizemode": "area",
          "sizeref": 137.2025,
          "symbol": "circle"
         },
         "mode": "lines+markers",
         "name": "Spain",
         "showlegend": true,
         "type": "scattergl",
         "x": [
          0.4,
          0.4,
          1,
          1.5,
          2.2,
          2.6,
          4.1,
          4.8,
          6.4,
          8,
          10.6,
          13.6,
          17.7,
          21.5,
          27.8,
          33.4,
          38.7,
          44.8,
          50.4,
          57.1,
          61.4,
          67.8,
          73.7,
          78.6,
          81.8,
          84.1,
          85.4,
          87,
          86.2,
          85.8,
          84.7,
          82.2,
          80.5,
          77.7,
          74.2,
          72.1,
          69.4,
          68.1,
          62.7,
          60.5,
          58.1,
          56,
          53.6,
          51.9,
          49.9,
          48.7,
          46.3
         ],
         "xaxis": "x",
         "y": [
          100,
          100,
          100,
          100,
          100,
          100,
          99.8,
          99.7,
          99.6,
          99.5,
          99.3,
          99,
          98.8,
          98.8,
          98.5,
          98.7,
          97.4,
          96.7,
          95.8,
          95.6,
          93.7,
          93.4,
          92,
          90.7,
          88.5,
          86,
          82.7,
          80,
          75.3,
          71.7,
          68,
          64,
          60.5,
          56.5,
          53.1,
          49.8,
          46.4,
          44,
          40.4,
          38.2,
          36,
          34,
          31.9,
          30.3,
          28.6,
          27.5,
          25.8
         ],
         "yaxis": "y"
        },
        {
         "customdata": [
          [
           26,
           "Sweden",
           62,
           "3/25/20"
          ],
          [
           15,
           "Sweden",
           77,
           "3/26/20"
          ],
          [
           28,
           "Sweden",
           105,
           "3/27/20"
          ],
          [
           0,
           "Sweden",
           105,
           "3/28/20"
          ],
          [
           5,
           "Sweden",
           110,
           "3/29/20"
          ],
          [
           36,
           "Sweden",
           146,
           "3/30/20"
          ],
          [
           34,
           "Sweden",
           180,
           "3/31/20"
          ],
          [
           59,
           "Sweden",
           239,
           "4/1/20"
          ],
          [
           69,
           "Sweden",
           308,
           "4/2/20"
          ],
          [
           50,
           "Sweden",
           358,
           "4/3/20"
          ],
          [
           15,
           "Sweden",
           373,
           "4/4/20"
          ],
          [
           28,
           "Sweden",
           401,
           "4/5/20"
          ],
          [
           76,
           "Sweden",
           477,
           "4/6/20"
          ],
          [
           114,
           "Sweden",
           591,
           "4/7/20"
          ],
          [
           96,
           "Sweden",
           687,
           "4/8/20"
          ],
          [
           106,
           "Sweden",
           793,
           "4/9/20"
          ],
          [
           77,
           "Sweden",
           870,
           "4/10/20"
          ],
          [
           17,
           "Sweden",
           887,
           "4/11/20"
          ],
          [
           12,
           "Sweden",
           899,
           "4/12/20"
          ],
          [
           20,
           "Sweden",
           919,
           "4/13/20"
          ],
          [
           114,
           "Sweden",
           1033,
           "4/14/20"
          ],
          [
           170,
           "Sweden",
           1203,
           "4/15/20"
          ],
          [
           130,
           "Sweden",
           1333,
           "4/16/20"
          ],
          [
           67,
           "Sweden",
           1400,
           "4/17/20"
          ],
          [
           111,
           "Sweden",
           1511,
           "4/18/20"
          ],
          [
           29,
           "Sweden",
           1540,
           "4/19/20"
          ],
          [
           40,
           "Sweden",
           1580,
           "4/20/20"
          ],
          [
           185,
           "Sweden",
           1765,
           "4/21/20"
          ],
          [
           172,
           "Sweden",
           1937,
           "4/22/20"
          ],
          [
           84,
           "Sweden",
           2021,
           "4/23/20"
          ],
          [
           131,
           "Sweden",
           2152,
           "4/24/20"
          ],
          [
           40,
           "Sweden",
           2192,
           "4/25/20"
          ],
          [
           2,
           "Sweden",
           2194,
           "4/26/20"
          ]
         ],
         "hoverlabel": {
          "namelength": 0
         },
         "hovertemplate": "Country =%{customdata[1]}<br>Mean growth over 14d compared to max growth =%{x}<br>% cases from last 14d =%{y}<br>Deaths=%{customdata[2]}<br>Deaths today =%{customdata[0]}<br>Date=%{customdata[3]}",
         "legendgroup": "Sweden",
         "marker": {
          "color": "#FECB52",
          "size": [
           62,
           77,
           105,
           105,
           110,
           146,
           180,
           239,
           308,
           358,
           373,
           401,
           477,
           591,
           687,
           793,
           870,
           887,
           899,
           919,
           1033,
           1203,
           1333,
           1400,
           1511,
           1540,
           1580,
           1765,
           1937,
           2021,
           2152,
           2192,
           2194
          ],
          "sizemode": "area",
          "sizeref": 137.2025,
          "symbol": "circle"
         },
         "mode": "lines+markers",
         "name": "Sweden",
         "showlegend": true,
         "type": "scattergl",
         "x": [
          2.5,
          3.2,
          4.3,
          4.3,
          4.4,
          5.8,
          7.2,
          9.5,
          12.3,
          14.2,
          14.7,
          15.8,
          18.8,
          23,
          26,
          29.7,
          31.8,
          32.5,
          32.8,
          32.1,
          35.4,
          40,
          42.6,
          43.3,
          47.3,
          47.3,
          45.8,
          48.8,
          51.9,
          51,
          53.2,
          54.2,
          53.8
         ],
         "xaxis": "x",
         "y": [
          98.4,
          98.7,
          99,
          98.1,
          97.3,
          95.9,
          96.1,
          95.8,
          96.4,
          95.5,
          94.6,
          94.8,
          94.8,
          93.9,
          91,
          90.3,
          87.9,
          88.2,
          87.8,
          84.1,
          82.6,
          80.1,
          76.9,
          74.4,
          75.3,
          74,
          69.8,
          66.5,
          64.5,
          60.8,
          59.6,
          59.5,
          59
         ],
         "yaxis": "y"
        },
        {
         "customdata": [
          [
           13,
           "Switzerland",
           54,
           "3/20/20"
          ],
          [
           21,
           "Switzerland",
           75,
           "3/21/20"
          ],
          [
           23,
           "Switzerland",
           98,
           "3/22/20"
          ],
          [
           22,
           "Switzerland",
           120,
           "3/23/20"
          ],
          [
           2,
           "Switzerland",
           122,
           "3/24/20"
          ],
          [
           31,
           "Switzerland",
           153,
           "3/25/20"
          ],
          [
           38,
           "Switzerland",
           191,
           "3/26/20"
          ],
          [
           40,
           "Switzerland",
           231,
           "3/27/20"
          ],
          [
           33,
           "Switzerland",
           264,
           "3/28/20"
          ],
          [
           36,
           "Switzerland",
           300,
           "3/29/20"
          ],
          [
           59,
           "Switzerland",
           359,
           "3/30/20"
          ],
          [
           74,
           "Switzerland",
           433,
           "3/31/20"
          ],
          [
           55,
           "Switzerland",
           488,
           "4/1/20"
          ],
          [
           48,
           "Switzerland",
           536,
           "4/2/20"
          ],
          [
           55,
           "Switzerland",
           591,
           "4/3/20"
          ],
          [
           75,
           "Switzerland",
           666,
           "4/4/20"
          ],
          [
           49,
           "Switzerland",
           715,
           "4/5/20"
          ],
          [
           50,
           "Switzerland",
           765,
           "4/6/20"
          ],
          [
           56,
           "Switzerland",
           821,
           "4/7/20"
          ],
          [
           74,
           "Switzerland",
           895,
           "4/8/20"
          ],
          [
           53,
           "Switzerland",
           948,
           "4/9/20"
          ],
          [
           54,
           "Switzerland",
           1002,
           "4/10/20"
          ],
          [
           34,
           "Switzerland",
           1036,
           "4/11/20"
          ],
          [
           70,
           "Switzerland",
           1106,
           "4/12/20"
          ],
          [
           32,
           "Switzerland",
           1138,
           "4/13/20"
          ],
          [
           36,
           "Switzerland",
           1174,
           "4/14/20"
          ],
          [
           65,
           "Switzerland",
           1239,
           "4/15/20"
          ],
          [
           42,
           "Switzerland",
           1281,
           "4/16/20"
          ],
          [
           46,
           "Switzerland",
           1327,
           "4/17/20"
          ],
          [
           41,
           "Switzerland",
           1368,
           "4/18/20"
          ],
          [
           25,
           "Switzerland",
           1393,
           "4/19/20"
          ],
          [
           36,
           "Switzerland",
           1429,
           "4/20/20"
          ],
          [
           49,
           "Switzerland",
           1478,
           "4/21/20"
          ],
          [
           31,
           "Switzerland",
           1509,
           "4/22/20"
          ],
          [
           40,
           "Switzerland",
           1549,
           "4/23/20"
          ],
          [
           40,
           "Switzerland",
           1589,
           "4/24/20"
          ],
          [
           10,
           "Switzerland",
           1599,
           "4/25/20"
          ],
          [
           11,
           "Switzerland",
           1610,
           "4/26/20"
          ]
         ],
         "hoverlabel": {
          "namelength": 0
         },
         "hovertemplate": "Country =%{customdata[1]}<br>Mean growth over 14d compared to max growth =%{x}<br>% cases from last 14d =%{y}<br>Deaths=%{customdata[2]}<br>Deaths today =%{customdata[0]}<br>Date=%{customdata[3]}",
         "legendgroup": "Switzerland",
         "marker": {
          "color": "#636efa",
          "size": [
           54,
           75,
           98,
           120,
           122,
           153,
           191,
           231,
           264,
           300,
           359,
           433,
           488,
           536,
           591,
           666,
           715,
           765,
           821,
           895,
           948,
           1002,
           1036,
           1106,
           1138,
           1174,
           1239,
           1281,
           1327,
           1368,
           1393,
           1429,
           1478,
           1509,
           1549,
           1589,
           1599,
           1610
          ],
          "sizemode": "area",
          "sizeref": 137.2025,
          "symbol": "circle"
         },
         "mode": "lines+markers",
         "name": "Switzerland",
         "showlegend": true,
         "type": "scattergl",
         "x": [
          5.1,
          7.1,
          9.3,
          11.4,
          11.5,
          14.4,
          18.1,
          21.2,
          24.2,
          27.6,
          33.3,
          39.2,
          44.4,
          47.8,
          51.8,
          57,
          59.6,
          62.3,
          67.5,
          71.6,
          73.1,
          74.4,
          74.5,
          77.8,
          75.2,
          71.5,
          72.5,
          71.9,
          71,
          67.8,
          65.4,
          64.1,
          63.4,
          59.3,
          58,
          56.7,
          54.3,
          48.6
         ],
         "xaxis": "x",
         "y": [
          98.1,
          98.7,
          98,
          98.3,
          97.5,
          97.4,
          97.9,
          95.2,
          95.1,
          95.3,
          96.1,
          93.8,
          94.3,
          92.4,
          90.9,
          88.7,
          86.3,
          84.3,
          85.1,
          82.9,
          79.9,
          76.9,
          74.5,
          72.9,
          68.5,
          63.1,
          60.6,
          58.2,
          55.5,
          51.3,
          48.7,
          46.5,
          44.5,
          40.7,
          38.8,
          36.9,
          35.2,
          31.3
         ],
         "yaxis": "y"
        },
        {
         "customdata": [
          [
           15,
           "Turkey",
           59,
           "3/25/20"
          ],
          [
           16,
           "Turkey",
           75,
           "3/26/20"
          ],
          [
           17,
           "Turkey",
           92,
           "3/27/20"
          ],
          [
           16,
           "Turkey",
           108,
           "3/28/20"
          ],
          [
           23,
           "Turkey",
           131,
           "3/29/20"
          ],
          [
           37,
           "Turkey",
           168,
           "3/30/20"
          ],
          [
           46,
           "Turkey",
           214,
           "3/31/20"
          ],
          [
           63,
           "Turkey",
           277,
           "4/1/20"
          ],
          [
           79,
           "Turkey",
           356,
           "4/2/20"
          ],
          [
           69,
           "Turkey",
           425,
           "4/3/20"
          ],
          [
           76,
           "Turkey",
           501,
           "4/4/20"
          ],
          [
           73,
           "Turkey",
           574,
           "4/5/20"
          ],
          [
           75,
           "Turkey",
           649,
           "4/6/20"
          ],
          [
           76,
           "Turkey",
           725,
           "4/7/20"
          ],
          [
           87,
           "Turkey",
           812,
           "4/8/20"
          ],
          [
           96,
           "Turkey",
           908,
           "4/9/20"
          ],
          [
           98,
           "Turkey",
           1006,
           "4/10/20"
          ],
          [
           95,
           "Turkey",
           1101,
           "4/11/20"
          ],
          [
           97,
           "Turkey",
           1198,
           "4/12/20"
          ],
          [
           98,
           "Turkey",
           1296,
           "4/13/20"
          ],
          [
           107,
           "Turkey",
           1403,
           "4/14/20"
          ],
          [
           115,
           "Turkey",
           1518,
           "4/15/20"
          ],
          [
           125,
           "Turkey",
           1643,
           "4/16/20"
          ],
          [
           126,
           "Turkey",
           1769,
           "4/17/20"
          ],
          [
           121,
           "Turkey",
           1890,
           "4/18/20"
          ],
          [
           127,
           "Turkey",
           2017,
           "4/19/20"
          ],
          [
           123,
           "Turkey",
           2140,
           "4/20/20"
          ],
          [
           119,
           "Turkey",
           2259,
           "4/21/20"
          ],
          [
           117,
           "Turkey",
           2376,
           "4/22/20"
          ],
          [
           115,
           "Turkey",
           2491,
           "4/23/20"
          ],
          [
           109,
           "Turkey",
           2600,
           "4/24/20"
          ],
          [
           106,
           "Turkey",
           2706,
           "4/25/20"
          ],
          [
           99,
           "Turkey",
           2805,
           "4/26/20"
          ]
         ],
         "hoverlabel": {
          "namelength": 0
         },
         "hovertemplate": "Country =%{customdata[1]}<br>Mean growth over 14d compared to max growth =%{x}<br>% cases from last 14d =%{y}<br>Deaths=%{customdata[2]}<br>Deaths today =%{customdata[0]}<br>Date=%{customdata[3]}",
         "legendgroup": "Turkey",
         "marker": {
          "color": "#EF553B",
          "size": [
           59,
           75,
           92,
           108,
           131,
           168,
           214,
           277,
           356,
           425,
           501,
           574,
           649,
           725,
           812,
           908,
           1006,
           1101,
           1198,
           1296,
           1403,
           1518,
           1643,
           1769,
           1890,
           2017,
           2140,
           2259,
           2376,
           2491,
           2600,
           2706,
           2805
          ],
          "sizemode": "area",
          "sizeref": 137.2025,
          "symbol": "circle"
         },
         "mode": "lines+markers",
         "name": "Turkey",
         "showlegend": true,
         "type": "scattergl",
         "x": [
          3.3,
          4.3,
          5.2,
          6.1,
          7.4,
          9.5,
          12.1,
          15.6,
          20,
          23.9,
          27.9,
          30.8,
          34.7,
          38.6,
          42.7,
          47.2,
          51.8,
          56.3,
          60.5,
          63.9,
          67.4,
          70.4,
          73,
          76.2,
          78.7,
          81.8,
          84.5,
          87,
          88.7,
          89.7,
          90.4,
          91,
          91.1
         ],
         "xaxis": "x",
         "y": [
          100,
          100,
          100,
          100,
          100,
          100,
          99.5,
          99.6,
          99.2,
          99.1,
          98.2,
          94.8,
          94.3,
          93.9,
          92.7,
          91.7,
          90.9,
          90.2,
          89.1,
          87,
          84.7,
          81.8,
          78.3,
          76,
          73.5,
          71.5,
          69.7,
          67.9,
          65.8,
          63.5,
          61.3,
          59.3,
          57.3
         ],
         "yaxis": "y"
        },
        {
         "customdata": [
          [
           7,
           "US",
           54,
           "3/14/20"
          ],
          [
           9,
           "US",
           63,
           "3/15/20"
          ],
          [
           22,
           "US",
           85,
           "3/16/20"
          ],
          [
           23,
           "US",
           108,
           "3/17/20"
          ],
          [
           10,
           "US",
           118,
           "3/18/20"
          ],
          [
           82,
           "US",
           200,
           "3/19/20"
          ],
          [
           44,
           "US",
           244,
           "3/20/20"
          ],
          [
           63,
           "US",
           307,
           "3/21/20"
          ],
          [
           110,
           "US",
           417,
           "3/22/20"
          ],
          [
           140,
           "US",
           557,
           "3/23/20"
          ],
          [
           149,
           "US",
           706,
           "3/24/20"
          ],
          [
           236,
           "US",
           942,
           "3/25/20"
          ],
          [
           267,
           "US",
           1209,
           "3/26/20"
          ],
          [
           372,
           "US",
           1581,
           "3/27/20"
          ],
          [
           445,
           "US",
           2026,
           "3/28/20"
          ],
          [
           441,
           "US",
           2467,
           "3/29/20"
          ],
          [
           511,
           "US",
           2978,
           "3/30/20"
          ],
          [
           896,
           "US",
           3874,
           "3/31/20"
          ],
          [
           886,
           "US",
           4760,
           "4/1/20"
          ],
          [
           1169,
           "US",
           5929,
           "4/2/20"
          ],
          [
           1161,
           "US",
           7090,
           "4/3/20"
          ],
          [
           1318,
           "US",
           8408,
           "4/4/20"
          ],
          [
           1211,
           "US",
           9619,
           "4/5/20"
          ],
          [
           1164,
           "US",
           10783,
           "4/6/20"
          ],
          [
           2011,
           "US",
           12794,
           "4/7/20"
          ],
          [
           1910,
           "US",
           14704,
           "4/8/20"
          ],
          [
           1840,
           "US",
           16544,
           "4/9/20"
          ],
          [
           2051,
           "US",
           18595,
           "4/10/20"
          ],
          [
           1876,
           "US",
           20471,
           "4/11/20"
          ],
          [
           1558,
           "US",
           22029,
           "4/12/20"
          ],
          [
           1509,
           "US",
           23538,
           "4/13/20"
          ],
          [
           2305,
           "US",
           25843,
           "4/14/20"
          ],
          [
           2495,
           "US",
           28338,
           "4/15/20"
          ],
          [
           4592,
           "US",
           32930,
           "4/16/20"
          ],
          [
           3857,
           "US",
           36787,
           "4/17/20"
          ],
          [
           1877,
           "US",
           38664,
           "4/18/20"
          ],
          [
           1997,
           "US",
           40661,
           "4/19/20"
          ],
          [
           1433,
           "US",
           42094,
           "4/20/20"
          ],
          [
           2350,
           "US",
           44444,
           "4/21/20"
          ],
          [
           2178,
           "US",
           46622,
           "4/22/20"
          ],
          [
           3332,
           "US",
           49954,
           "4/23/20"
          ],
          [
           1995,
           "US",
           51949,
           "4/24/20"
          ],
          [
           1806,
           "US",
           53755,
           "4/25/20"
          ],
          [
           1126,
           "US",
           54881,
           "4/26/20"
          ]
         ],
         "hoverlabel": {
          "namelength": 0
         },
         "hovertemplate": "Country =%{customdata[1]}<br>Mean growth over 14d compared to max growth =%{x}<br>% cases from last 14d =%{y}<br>Deaths=%{customdata[2]}<br>Deaths today =%{customdata[0]}<br>Date=%{customdata[3]}",
         "legendgroup": "US",
         "marker": {
          "color": "#00cc96",
          "size": [
           54,
           63,
           85,
           108,
           118,
           200,
           244,
           307,
           417,
           557,
           706,
           942,
           1209,
           1581,
           2026,
           2467,
           2978,
           3874,
           4760,
           5929,
           7090,
           8408,
           9619,
           10783,
           12794,
           14704,
           16544,
           18595,
           20471,
           22029,
           23538,
           25843,
           28338,
           32930,
           36787,
           38664,
           40661,
           42094,
           44444,
           46622,
           49954,
           51949,
           53755,
           54881
          ],
          "sizemode": "area",
          "sizeref": 137.2025,
          "symbol": "circle"
         },
         "mode": "lines+markers",
         "name": "US",
         "showlegend": true,
         "type": "scattergl",
         "x": [
          0.1,
          0.1,
          0.1,
          0.2,
          0.2,
          0.3,
          0.4,
          0.5,
          0.7,
          1,
          1.3,
          1.7,
          2.2,
          2.8,
          3.7,
          4.5,
          5.4,
          7,
          8.6,
          10.6,
          12.7,
          15,
          17,
          18.9,
          22.4,
          25.5,
          28.4,
          31.5,
          34.2,
          36.2,
          38.1,
          40.7,
          43.7,
          50,
          55,
          56,
          57.5,
          58,
          58.6,
          59.1,
          61.9,
          61.8,
          61.6,
          60.8
         ],
         "xaxis": "x",
         "y": [
          98.1,
          98.4,
          92.9,
          93.5,
          90.7,
          94,
          94.3,
          94.5,
          95,
          96.1,
          96,
          96.2,
          96.7,
          97,
          97.3,
          97.4,
          97.1,
          97.2,
          97.5,
          96.6,
          96.6,
          96.3,
          95.7,
          94.8,
          94.5,
          93.6,
          92.7,
          91.5,
          90.1,
          88.8,
          87.3,
          85,
          83.2,
          82,
          80.7,
          78.3,
          76.3,
          74.4,
          71.2,
          68.5,
          66.9,
          64.2,
          61.9,
          59.9
         ],
         "yaxis": "y"
        },
        {
         "customdata": [
          [
           7,
           "Ukraine",
           52,
           "4/8/20"
          ],
          [
           5,
           "Ukraine",
           57,
           "4/9/20"
          ],
          [
           12,
           "Ukraine",
           69,
           "4/10/20"
          ],
          [
           4,
           "Ukraine",
           73,
           "4/11/20"
          ],
          [
           10,
           "Ukraine",
           83,
           "4/12/20"
          ],
          [
           10,
           "Ukraine",
           93,
           "4/13/20"
          ],
          [
           5,
           "Ukraine",
           98,
           "4/14/20"
          ],
          [
           10,
           "Ukraine",
           108,
           "4/15/20"
          ],
          [
           8,
           "Ukraine",
           116,
           "4/16/20"
          ],
          [
           9,
           "Ukraine",
           125,
           "4/17/20"
          ],
          [
           8,
           "Ukraine",
           133,
           "4/18/20"
          ],
          [
           8,
           "Ukraine",
           141,
           "4/19/20"
          ],
          [
           10,
           "Ukraine",
           151,
           "4/20/20"
          ],
          [
           10,
           "Ukraine",
           161,
           "4/21/20"
          ],
          [
           13,
           "Ukraine",
           174,
           "4/22/20"
          ],
          [
           13,
           "Ukraine",
           187,
           "4/23/20"
          ],
          [
           14,
           "Ukraine",
           201,
           "4/24/20"
          ],
          [
           0,
           "Ukraine",
           201,
           "4/25/20"
          ],
          [
           8,
           "Ukraine",
           209,
           "4/26/20"
          ]
         ],
         "hoverlabel": {
          "namelength": 0
         },
         "hovertemplate": "Country =%{customdata[1]}<br>Mean growth over 14d compared to max growth =%{x}<br>% cases from last 14d =%{y}<br>Deaths=%{customdata[2]}<br>Deaths today =%{customdata[0]}<br>Date=%{customdata[3]}",
         "legendgroup": "Ukraine",
         "marker": {
          "color": "#ab63fa",
          "size": [
           52,
           57,
           69,
           73,
           83,
           93,
           98,
           108,
           116,
           125,
           133,
           141,
           151,
           161,
           174,
           187,
           201,
           201,
           209
          ],
          "sizemode": "area",
          "sizeref": 137.2025,
          "symbol": "circle"
         },
         "mode": "lines+markers",
         "name": "Ukraine",
         "showlegend": true,
         "type": "scattergl",
         "x": [
          25.8,
          28.6,
          35.2,
          35.2,
          40.1,
          44,
          44.5,
          48.4,
          51.6,
          53.8,
          55.5,
          57.1,
          62.1,
          63.7,
          67,
          71.4,
          72.5,
          70.3,
          69.2
         ],
         "xaxis": "x",
         "y": [
          90.4,
          91.2,
          92.8,
          87.7,
          88,
          86,
          82.7,
          81.5,
          81,
          78.4,
          75.9,
          73.8,
          74.8,
          72,
          70.1,
          69.5,
          65.7,
          63.7,
          60.3
         ],
         "yaxis": "y"
        },
        {
         "customdata": [
          [
           6,
           "United Arab Emirates",
           52,
           "4/22/20"
          ],
          [
           4,
           "United Arab Emirates",
           56,
           "4/23/20"
          ],
          [
           8,
           "United Arab Emirates",
           64,
           "4/24/20"
          ],
          [
           7,
           "United Arab Emirates",
           71,
           "4/25/20"
          ],
          [
           5,
           "United Arab Emirates",
           76,
           "4/26/20"
          ]
         ],
         "hoverlabel": {
          "namelength": 0
         },
         "hovertemplate": "Country =%{customdata[1]}<br>Mean growth over 14d compared to max growth =%{x}<br>% cases from last 14d =%{y}<br>Deaths=%{customdata[2]}<br>Deaths today =%{customdata[0]}<br>Date=%{customdata[3]}",
         "legendgroup": "United Arab Emirates",
         "marker": {
          "color": "#FFA15A",
          "size": [
           52,
           56,
           64,
           71,
           76
          ],
          "sizemode": "area",
          "sizeref": 137.2025,
          "symbol": "circle"
         },
         "mode": "lines+markers",
         "name": "United Arab Emirates",
         "showlegend": true,
         "type": "scattergl",
         "x": [
          40.8,
          42.9,
          49,
          52,
          55.1
         ],
         "xaxis": "x",
         "y": [
          76.9,
          75,
          75,
          71.8,
          71.1
         ],
         "yaxis": "y"
        },
        {
         "customdata": [
          [
           35,
           "United Kingdom",
           56,
           "3/16/20"
          ],
          [
           0,
           "United Kingdom",
           56,
           "3/17/20"
          ],
          [
           16,
           "United Kingdom",
           72,
           "3/18/20"
          ],
          [
           66,
           "United Kingdom",
           138,
           "3/19/20"
          ],
          [
           40,
           "United Kingdom",
           178,
           "3/20/20"
          ],
          [
           56,
           "United Kingdom",
           234,
           "3/21/20"
          ],
          [
           48,
           "United Kingdom",
           282,
           "3/22/20"
          ],
          [
           54,
           "United Kingdom",
           336,
           "3/23/20"
          ],
          [
           87,
           "United Kingdom",
           423,
           "3/24/20"
          ],
          [
           43,
           "United Kingdom",
           466,
           "3/25/20"
          ],
          [
           114,
           "United Kingdom",
           580,
           "3/26/20"
          ],
          [
           181,
           "United Kingdom",
           761,
           "3/27/20"
          ],
          [
           260,
           "United Kingdom",
           1021,
           "3/28/20"
          ],
          [
           210,
           "United Kingdom",
           1231,
           "3/29/20"
          ],
          [
           180,
           "United Kingdom",
           1411,
           "3/30/20"
          ],
          [
           382,
           "United Kingdom",
           1793,
           "3/31/20"
          ],
          [
           564,
           "United Kingdom",
           2357,
           "4/1/20"
          ],
          [
           569,
           "United Kingdom",
           2926,
           "4/2/20"
          ],
          [
           685,
           "United Kingdom",
           3611,
           "4/3/20"
          ],
          [
           709,
           "United Kingdom",
           4320,
           "4/4/20"
          ],
          [
           623,
           "United Kingdom",
           4943,
           "4/5/20"
          ],
          [
           442,
           "United Kingdom",
           5385,
           "4/6/20"
          ],
          [
           786,
           "United Kingdom",
           6171,
           "4/7/20"
          ],
          [
           940,
           "United Kingdom",
           7111,
           "4/8/20"
          ],
          [
           882,
           "United Kingdom",
           7993,
           "4/9/20"
          ],
          [
           981,
           "United Kingdom",
           8974,
           "4/10/20"
          ],
          [
           918,
           "United Kingdom",
           9892,
           "4/11/20"
          ],
          [
           737,
           "United Kingdom",
           10629,
           "4/12/20"
          ],
          [
           718,
           "United Kingdom",
           11347,
           "4/13/20"
          ],
          [
           782,
           "United Kingdom",
           12129,
           "4/14/20"
          ],
          [
           765,
           "United Kingdom",
           12894,
           "4/15/20"
          ],
          [
           865,
           "United Kingdom",
           13759,
           "4/16/20"
          ],
          [
           848,
           "United Kingdom",
           14607,
           "4/17/20"
          ],
          [
           891,
           "United Kingdom",
           15498,
           "4/18/20"
          ],
          [
           597,
           "United Kingdom",
           16095,
           "4/19/20"
          ],
          [
           455,
           "United Kingdom",
           16550,
           "4/20/20"
          ],
          [
           828,
           "United Kingdom",
           17378,
           "4/21/20"
          ],
          [
           773,
           "United Kingdom",
           18151,
           "4/22/20"
          ],
          [
           640,
           "United Kingdom",
           18791,
           "4/23/20"
          ],
          [
           776,
           "United Kingdom",
           19567,
           "4/24/20"
          ],
          [
           814,
           "United Kingdom",
           20381,
           "4/25/20"
          ],
          [
           413,
           "United Kingdom",
           20794,
           "4/26/20"
          ]
         ],
         "hoverlabel": {
          "namelength": 0
         },
         "hovertemplate": "Country =%{customdata[1]}<br>Mean growth over 14d compared to max growth =%{x}<br>% cases from last 14d =%{y}<br>Deaths=%{customdata[2]}<br>Deaths today =%{customdata[0]}<br>Date=%{customdata[3]}",
         "legendgroup": "United Kingdom",
         "marker": {
          "color": "#19d3f3",
          "size": [
           56,
           56,
           72,
           138,
           178,
           234,
           282,
           336,
           423,
           466,
           580,
           761,
           1021,
           1231,
           1411,
           1793,
           2357,
           2926,
           3611,
           4320,
           4943,
           5385,
           6171,
           7111,
           7993,
           8974,
           9892,
           10629,
           11347,
           12129,
           12894,
           13759,
           14607,
           15498,
           16095,
           16550,
           17378,
           18151,
           18791,
           19567,
           20381,
           20794
          ],
          "sizemode": "area",
          "sizeref": 137.2025,
          "symbol": "circle"
         },
         "mode": "lines+markers",
         "name": "United Kingdom",
         "showlegend": true,
         "type": "scattergl",
         "x": [
          0.4,
          0.4,
          0.5,
          1,
          1.3,
          1.8,
          2.1,
          2.5,
          3.2,
          3.5,
          4.3,
          5.7,
          7.6,
          9.2,
          10.3,
          13.2,
          17.4,
          21.2,
          26.1,
          31,
          35.4,
          38.4,
          43.7,
          50.5,
          56.3,
          62.4,
          67.4,
          71.4,
          75.5,
          78.5,
          80.1,
          82.3,
          83.6,
          84.9,
          84.7,
          84.8,
          85.2,
          83.9,
          82.1,
          80.5,
          79.7,
          77.2
         ],
         "xaxis": "x",
         "y": [
          100,
          100,
          100,
          99.3,
          98.9,
          99.1,
          98.9,
          98.8,
          98.6,
          98.3,
          98.6,
          98.9,
          97.9,
          98.3,
          96,
          96.9,
          96.9,
          95.3,
          95.1,
          94.6,
          94.3,
          93.8,
          93.1,
          93.4,
          92.7,
          91.5,
          89.7,
          88.4,
          87.6,
          85.2,
          81.7,
          78.7,
          75.3,
          72.1,
          69.3,
          67.5,
          64.5,
          60.8,
          57.5,
          54.1,
          51.5,
          48.9
         ],
         "yaxis": "y"
        }
       ],
       "layout": {
        "legend": {
         "itemsizing": "constant",
         "title": {
          "text": "Country "
         },
         "tracegroupgap": 0
        },
        "template": {
         "data": {
          "bar": [
           {
            "error_x": {
             "color": "#2a3f5f"
            },
            "error_y": {
             "color": "#2a3f5f"
            },
            "marker": {
             "line": {
              "color": "#E5ECF6",
              "width": 0.5
             }
            },
            "type": "bar"
           }
          ],
          "barpolar": [
           {
            "marker": {
             "line": {
              "color": "#E5ECF6",
              "width": 0.5
             }
            },
            "type": "barpolar"
           }
          ],
          "carpet": [
           {
            "aaxis": {
             "endlinecolor": "#2a3f5f",
             "gridcolor": "white",
             "linecolor": "white",
             "minorgridcolor": "white",
             "startlinecolor": "#2a3f5f"
            },
            "baxis": {
             "endlinecolor": "#2a3f5f",
             "gridcolor": "white",
             "linecolor": "white",
             "minorgridcolor": "white",
             "startlinecolor": "#2a3f5f"
            },
            "type": "carpet"
           }
          ],
          "choropleth": [
           {
            "colorbar": {
             "outlinewidth": 0,
             "ticks": ""
            },
            "type": "choropleth"
           }
          ],
          "contour": [
           {
            "colorbar": {
             "outlinewidth": 0,
             "ticks": ""
            },
            "colorscale": [
             [
              0,
              "#0d0887"
             ],
             [
              0.1111111111111111,
              "#46039f"
             ],
             [
              0.2222222222222222,
              "#7201a8"
             ],
             [
              0.3333333333333333,
              "#9c179e"
             ],
             [
              0.4444444444444444,
              "#bd3786"
             ],
             [
              0.5555555555555556,
              "#d8576b"
             ],
             [
              0.6666666666666666,
              "#ed7953"
             ],
             [
              0.7777777777777778,
              "#fb9f3a"
             ],
             [
              0.8888888888888888,
              "#fdca26"
             ],
             [
              1,
              "#f0f921"
             ]
            ],
            "type": "contour"
           }
          ],
          "contourcarpet": [
           {
            "colorbar": {
             "outlinewidth": 0,
             "ticks": ""
            },
            "type": "contourcarpet"
           }
          ],
          "heatmap": [
           {
            "colorbar": {
             "outlinewidth": 0,
             "ticks": ""
            },
            "colorscale": [
             [
              0,
              "#0d0887"
             ],
             [
              0.1111111111111111,
              "#46039f"
             ],
             [
              0.2222222222222222,
              "#7201a8"
             ],
             [
              0.3333333333333333,
              "#9c179e"
             ],
             [
              0.4444444444444444,
              "#bd3786"
             ],
             [
              0.5555555555555556,
              "#d8576b"
             ],
             [
              0.6666666666666666,
              "#ed7953"
             ],
             [
              0.7777777777777778,
              "#fb9f3a"
             ],
             [
              0.8888888888888888,
              "#fdca26"
             ],
             [
              1,
              "#f0f921"
             ]
            ],
            "type": "heatmap"
           }
          ],
          "heatmapgl": [
           {
            "colorbar": {
             "outlinewidth": 0,
             "ticks": ""
            },
            "colorscale": [
             [
              0,
              "#0d0887"
             ],
             [
              0.1111111111111111,
              "#46039f"
             ],
             [
              0.2222222222222222,
              "#7201a8"
             ],
             [
              0.3333333333333333,
              "#9c179e"
             ],
             [
              0.4444444444444444,
              "#bd3786"
             ],
             [
              0.5555555555555556,
              "#d8576b"
             ],
             [
              0.6666666666666666,
              "#ed7953"
             ],
             [
              0.7777777777777778,
              "#fb9f3a"
             ],
             [
              0.8888888888888888,
              "#fdca26"
             ],
             [
              1,
              "#f0f921"
             ]
            ],
            "type": "heatmapgl"
           }
          ],
          "histogram": [
           {
            "marker": {
             "colorbar": {
              "outlinewidth": 0,
              "ticks": ""
             }
            },
            "type": "histogram"
           }
          ],
          "histogram2d": [
           {
            "colorbar": {
             "outlinewidth": 0,
             "ticks": ""
            },
            "colorscale": [
             [
              0,
              "#0d0887"
             ],
             [
              0.1111111111111111,
              "#46039f"
             ],
             [
              0.2222222222222222,
              "#7201a8"
             ],
             [
              0.3333333333333333,
              "#9c179e"
             ],
             [
              0.4444444444444444,
              "#bd3786"
             ],
             [
              0.5555555555555556,
              "#d8576b"
             ],
             [
              0.6666666666666666,
              "#ed7953"
             ],
             [
              0.7777777777777778,
              "#fb9f3a"
             ],
             [
              0.8888888888888888,
              "#fdca26"
             ],
             [
              1,
              "#f0f921"
             ]
            ],
            "type": "histogram2d"
           }
          ],
          "histogram2dcontour": [
           {
            "colorbar": {
             "outlinewidth": 0,
             "ticks": ""
            },
            "colorscale": [
             [
              0,
              "#0d0887"
             ],
             [
              0.1111111111111111,
              "#46039f"
             ],
             [
              0.2222222222222222,
              "#7201a8"
             ],
             [
              0.3333333333333333,
              "#9c179e"
             ],
             [
              0.4444444444444444,
              "#bd3786"
             ],
             [
              0.5555555555555556,
              "#d8576b"
             ],
             [
              0.6666666666666666,
              "#ed7953"
             ],
             [
              0.7777777777777778,
              "#fb9f3a"
             ],
             [
              0.8888888888888888,
              "#fdca26"
             ],
             [
              1,
              "#f0f921"
             ]
            ],
            "type": "histogram2dcontour"
           }
          ],
          "mesh3d": [
           {
            "colorbar": {
             "outlinewidth": 0,
             "ticks": ""
            },
            "type": "mesh3d"
           }
          ],
          "parcoords": [
           {
            "line": {
             "colorbar": {
              "outlinewidth": 0,
              "ticks": ""
             }
            },
            "type": "parcoords"
           }
          ],
          "pie": [
           {
            "automargin": true,
            "type": "pie"
           }
          ],
          "scatter": [
           {
            "marker": {
             "colorbar": {
              "outlinewidth": 0,
              "ticks": ""
             }
            },
            "type": "scatter"
           }
          ],
          "scatter3d": [
           {
            "line": {
             "colorbar": {
              "outlinewidth": 0,
              "ticks": ""
             }
            },
            "marker": {
             "colorbar": {
              "outlinewidth": 0,
              "ticks": ""
             }
            },
            "type": "scatter3d"
           }
          ],
          "scattercarpet": [
           {
            "marker": {
             "colorbar": {
              "outlinewidth": 0,
              "ticks": ""
             }
            },
            "type": "scattercarpet"
           }
          ],
          "scattergeo": [
           {
            "marker": {
             "colorbar": {
              "outlinewidth": 0,
              "ticks": ""
             }
            },
            "type": "scattergeo"
           }
          ],
          "scattergl": [
           {
            "marker": {
             "colorbar": {
              "outlinewidth": 0,
              "ticks": ""
             }
            },
            "type": "scattergl"
           }
          ],
          "scattermapbox": [
           {
            "marker": {
             "colorbar": {
              "outlinewidth": 0,
              "ticks": ""
             }
            },
            "type": "scattermapbox"
           }
          ],
          "scatterpolar": [
           {
            "marker": {
             "colorbar": {
              "outlinewidth": 0,
              "ticks": ""
             }
            },
            "type": "scatterpolar"
           }
          ],
          "scatterpolargl": [
           {
            "marker": {
             "colorbar": {
              "outlinewidth": 0,
              "ticks": ""
             }
            },
            "type": "scatterpolargl"
           }
          ],
          "scatterternary": [
           {
            "marker": {
             "colorbar": {
              "outlinewidth": 0,
              "ticks": ""
             }
            },
            "type": "scatterternary"
           }
          ],
          "surface": [
           {
            "colorbar": {
             "outlinewidth": 0,
             "ticks": ""
            },
            "colorscale": [
             [
              0,
              "#0d0887"
             ],
             [
              0.1111111111111111,
              "#46039f"
             ],
             [
              0.2222222222222222,
              "#7201a8"
             ],
             [
              0.3333333333333333,
              "#9c179e"
             ],
             [
              0.4444444444444444,
              "#bd3786"
             ],
             [
              0.5555555555555556,
              "#d8576b"
             ],
             [
              0.6666666666666666,
              "#ed7953"
             ],
             [
              0.7777777777777778,
              "#fb9f3a"
             ],
             [
              0.8888888888888888,
              "#fdca26"
             ],
             [
              1,
              "#f0f921"
             ]
            ],
            "type": "surface"
           }
          ],
          "table": [
           {
            "cells": {
             "fill": {
              "color": "#EBF0F8"
             },
             "line": {
              "color": "white"
             }
            },
            "header": {
             "fill": {
              "color": "#C8D4E3"
             },
             "line": {
              "color": "white"
             }
            },
            "type": "table"
           }
          ]
         },
         "layout": {
          "annotationdefaults": {
           "arrowcolor": "#2a3f5f",
           "arrowhead": 0,
           "arrowwidth": 1
          },
          "coloraxis": {
           "colorbar": {
            "outlinewidth": 0,
            "ticks": ""
           }
          },
          "colorscale": {
           "diverging": [
            [
             0,
             "#8e0152"
            ],
            [
             0.1,
             "#c51b7d"
            ],
            [
             0.2,
             "#de77ae"
            ],
            [
             0.3,
             "#f1b6da"
            ],
            [
             0.4,
             "#fde0ef"
            ],
            [
             0.5,
             "#f7f7f7"
            ],
            [
             0.6,
             "#e6f5d0"
            ],
            [
             0.7,
             "#b8e186"
            ],
            [
             0.8,
             "#7fbc41"
            ],
            [
             0.9,
             "#4d9221"
            ],
            [
             1,
             "#276419"
            ]
           ],
           "sequential": [
            [
             0,
             "#0d0887"
            ],
            [
             0.1111111111111111,
             "#46039f"
            ],
            [
             0.2222222222222222,
             "#7201a8"
            ],
            [
             0.3333333333333333,
             "#9c179e"
            ],
            [
             0.4444444444444444,
             "#bd3786"
            ],
            [
             0.5555555555555556,
             "#d8576b"
            ],
            [
             0.6666666666666666,
             "#ed7953"
            ],
            [
             0.7777777777777778,
             "#fb9f3a"
            ],
            [
             0.8888888888888888,
             "#fdca26"
            ],
            [
             1,
             "#f0f921"
            ]
           ],
           "sequentialminus": [
            [
             0,
             "#0d0887"
            ],
            [
             0.1111111111111111,
             "#46039f"
            ],
            [
             0.2222222222222222,
             "#7201a8"
            ],
            [
             0.3333333333333333,
             "#9c179e"
            ],
            [
             0.4444444444444444,
             "#bd3786"
            ],
            [
             0.5555555555555556,
             "#d8576b"
            ],
            [
             0.6666666666666666,
             "#ed7953"
            ],
            [
             0.7777777777777778,
             "#fb9f3a"
            ],
            [
             0.8888888888888888,
             "#fdca26"
            ],
            [
             1,
             "#f0f921"
            ]
           ]
          },
          "colorway": [
           "#636efa",
           "#EF553B",
           "#00cc96",
           "#ab63fa",
           "#FFA15A",
           "#19d3f3",
           "#FF6692",
           "#B6E880",
           "#FF97FF",
           "#FECB52"
          ],
          "font": {
           "color": "#2a3f5f"
          },
          "geo": {
           "bgcolor": "white",
           "lakecolor": "white",
           "landcolor": "#E5ECF6",
           "showlakes": true,
           "showland": true,
           "subunitcolor": "white"
          },
          "hoverlabel": {
           "align": "left"
          },
          "hovermode": "closest",
          "mapbox": {
           "style": "light"
          },
          "paper_bgcolor": "white",
          "plot_bgcolor": "#E5ECF6",
          "polar": {
           "angularaxis": {
            "gridcolor": "white",
            "linecolor": "white",
            "ticks": ""
           },
           "bgcolor": "#E5ECF6",
           "radialaxis": {
            "gridcolor": "white",
            "linecolor": "white",
            "ticks": ""
           }
          },
          "scene": {
           "xaxis": {
            "backgroundcolor": "#E5ECF6",
            "gridcolor": "white",
            "gridwidth": 2,
            "linecolor": "white",
            "showbackground": true,
            "ticks": "",
            "zerolinecolor": "white"
           },
           "yaxis": {
            "backgroundcolor": "#E5ECF6",
            "gridcolor": "white",
            "gridwidth": 2,
            "linecolor": "white",
            "showbackground": true,
            "ticks": "",
            "zerolinecolor": "white"
           },
           "zaxis": {
            "backgroundcolor": "#E5ECF6",
            "gridcolor": "white",
            "gridwidth": 2,
            "linecolor": "white",
            "showbackground": true,
            "ticks": "",
            "zerolinecolor": "white"
           }
          },
          "shapedefaults": {
           "line": {
            "color": "#2a3f5f"
           }
          },
          "ternary": {
           "aaxis": {
            "gridcolor": "white",
            "linecolor": "white",
            "ticks": ""
           },
           "baxis": {
            "gridcolor": "white",
            "linecolor": "white",
            "ticks": ""
           },
           "bgcolor": "#E5ECF6",
           "caxis": {
            "gridcolor": "white",
            "linecolor": "white",
            "ticks": ""
           }
          },
          "title": {
           "x": 0.05
          },
          "xaxis": {
           "automargin": true,
           "gridcolor": "white",
           "linecolor": "white",
           "ticks": "",
           "title": {
            "standoff": 15
           },
           "zerolinecolor": "white",
           "zerolinewidth": 2
          },
          "yaxis": {
           "automargin": true,
           "gridcolor": "white",
           "linecolor": "white",
           "ticks": "",
           "title": {
            "standoff": 15
           },
           "zerolinecolor": "white",
           "zerolinewidth": 2
          }
         }
        },
        "title": {
         "text": "Deaths - World"
        },
        "xaxis": {
         "anchor": "y",
         "domain": [
          0,
          1
         ],
         "rangemode": "tozero",
         "title": {
          "text": "Mean Daily Growth over 14 previous days compared to Max Daily Growth (%)"
         }
        },
        "yaxis": {
         "anchor": "x",
         "domain": [
          0,
          1
         ],
         "rangemode": "tozero",
         "title": {
          "text": "Percentage of Total occuring in the last 14 days (%)"
         }
        }
       }
      },
      "text/html": [
       "<div>\n",
       "        \n",
       "        \n",
       "            <div id=\"e18982c2-ebdb-4bfb-b418-b56dfe6c8bea\" class=\"plotly-graph-div\" style=\"height:525px; width:100%;\"></div>\n",
       "            <script type=\"text/javascript\">\n",
       "                require([\"plotly\"], function(Plotly) {\n",
       "                    window.PLOTLYENV=window.PLOTLYENV || {};\n",
       "                    \n",
       "                if (document.getElementById(\"e18982c2-ebdb-4bfb-b418-b56dfe6c8bea\")) {\n",
       "                    Plotly.newPlot(\n",
       "                        'e18982c2-ebdb-4bfb-b418-b56dfe6c8bea',\n",
       "                        [{\"customdata\": [[5.0, \"Australia\", 50.0, \"4/8/20\"], [1.0, \"Australia\", 51.0, \"4/9/20\"], [3.0, \"Australia\", 54.0, \"4/10/20\"], [3.0, \"Australia\", 57.0, \"4/11/20\"], [3.0, \"Australia\", 60.0, \"4/12/20\"], [1.0, \"Australia\", 61.0, \"4/13/20\"], [1.0, \"Australia\", 62.0, \"4/14/20\"], [1.0, \"Australia\", 63.0, \"4/15/20\"], [0.0, \"Australia\", 63.0, \"4/16/20\"], [3.0, \"Australia\", 66.0, \"4/17/20\"], [1.0, \"Australia\", 67.0, \"4/18/20\"], [0.0, \"Australia\", 67.0, \"4/19/20\"], [0.0, \"Australia\", 67.0, \"4/20/20\"], [0.0, \"Australia\", 67.0, \"4/21/20\"], [0.0, \"Australia\", 67.0, \"4/22/20\"], [8.0, \"Australia\", 75.0, \"4/23/20\"], [4.0, \"Australia\", 79.0, \"4/24/20\"], [1.0, \"Australia\", 80.0, \"4/25/20\"], [3.0, \"Australia\", 83.0, \"4/26/20\"]], \"hoverlabel\": {\"namelength\": 0}, \"hovertemplate\": \"Country =%{customdata[1]}<br>Mean growth over 14d compared to max growth =%{x}<br>% cases from last 14d =%{y}<br>Deaths=%{customdata[2]}<br>Deaths today =%{customdata[0]}<br>Date=%{customdata[3]}\", \"legendgroup\": \"Australia\", \"marker\": {\"color\": \"#636efa\", \"size\": [50.0, 51.0, 54.0, 57.0, 60.0, 61.0, 62.0, 63.0, 63.0, 66.0, 67.0, 67.0, 67.0, 67.0, 67.0, 75.0, 79.0, 80.0, 83.0], \"sizemode\": \"area\", \"sizeref\": 137.2025, \"symbol\": \"circle\"}, \"mode\": \"lines+markers\", \"name\": \"Australia\", \"showlegend\": true, \"type\": \"scattergl\", \"x\": [60.0, 54.3, 58.6, 61.4, 62.9, 62.9, 62.9, 61.4, 55.7, 54.3, 52.9, 45.7, 38.6, 31.4, 24.3, 34.3, 35.7, 32.9, 32.9], \"xaxis\": \"x\", \"y\": [84.0, 74.5, 75.9, 75.4, 73.3, 72.1, 71.0, 68.3, 61.9, 57.6, 55.2, 47.8, 40.3, 32.8, 25.4, 32.0, 31.6, 28.8, 27.7], \"yaxis\": \"y\"}, {\"customdata\": [[9.0, \"Austria\", 58.0, \"3/27/20\"], [10.0, \"Austria\", 68.0, \"3/28/20\"], [18.0, \"Austria\", 86.0, \"3/29/20\"], [22.0, \"Austria\", 108.0, \"3/30/20\"], [20.0, \"Austria\", 128.0, \"3/31/20\"], [18.0, \"Austria\", 146.0, \"4/1/20\"], [12.0, \"Austria\", 158.0, \"4/2/20\"], [10.0, \"Austria\", 168.0, \"4/3/20\"], [18.0, \"Austria\", 186.0, \"4/4/20\"], [18.0, \"Austria\", 204.0, \"4/5/20\"], [16.0, \"Austria\", 220.0, \"4/6/20\"], [23.0, \"Austria\", 243.0, \"4/7/20\"], [30.0, \"Austria\", 273.0, \"4/8/20\"], [22.0, \"Austria\", 295.0, \"4/9/20\"], [24.0, \"Austria\", 319.0, \"4/10/20\"], [18.0, \"Austria\", 337.0, \"4/11/20\"], [13.0, \"Austria\", 350.0, \"4/12/20\"], [18.0, \"Austria\", 368.0, \"4/13/20\"], [16.0, \"Austria\", 384.0, \"4/14/20\"], [9.0, \"Austria\", 393.0, \"4/15/20\"], [17.0, \"Austria\", 410.0, \"4/16/20\"], [21.0, \"Austria\", 431.0, \"4/17/20\"], [12.0, \"Austria\", 443.0, \"4/18/20\"], [9.0, \"Austria\", 452.0, \"4/19/20\"], [18.0, \"Austria\", 470.0, \"4/20/20\"], [21.0, \"Austria\", 491.0, \"4/21/20\"], [19.0, \"Austria\", 510.0, \"4/22/20\"], [12.0, \"Austria\", 522.0, \"4/23/20\"], [8.0, \"Austria\", 530.0, \"4/24/20\"], [6.0, \"Austria\", 536.0, \"4/25/20\"], [6.0, \"Austria\", 542.0, \"4/26/20\"]], \"hoverlabel\": {\"namelength\": 0}, \"hovertemplate\": \"Country =%{customdata[1]}<br>Mean growth over 14d compared to max growth =%{x}<br>% cases from last 14d =%{y}<br>Deaths=%{customdata[2]}<br>Deaths today =%{customdata[0]}<br>Date=%{customdata[3]}\", \"legendgroup\": \"Austria\", \"marker\": {\"color\": \"#EF553B\", \"size\": [58.0, 68.0, 86.0, 108.0, 128.0, 146.0, 158.0, 168.0, 186.0, 204.0, 220.0, 243.0, 273.0, 295.0, 319.0, 337.0, 350.0, 368.0, 384.0, 393.0, 410.0, 431.0, 443.0, 452.0, 470.0, 491.0, 510.0, 522.0, 530.0, 536.0, 542.0], \"sizemode\": \"area\", \"sizeref\": 137.2025, \"symbol\": \"circle\"}, \"mode\": \"lines+markers\", \"name\": \"Austria\", \"showlegend\": true, \"type\": \"scattergl\", \"x\": [17.0, 19.9, 25.3, 31.2, 37.2, 42.3, 45.2, 48.2, 53.0, 56.0, 59.2, 64.0, 72.3, 73.2, 77.7, 80.1, 78.6, 77.4, 76.2, 73.5, 75.0, 78.3, 76.5, 73.8, 74.4, 73.8, 70.5, 67.6, 62.8, 59.2, 57.1], \"xaxis\": \"x\", \"y\": [98.3, 98.5, 98.8, 97.2, 97.7, 97.3, 96.2, 96.4, 95.7, 92.2, 90.5, 88.5, 89.0, 83.4, 81.8, 79.8, 75.4, 70.7, 66.7, 62.8, 61.5, 61.0, 58.0, 54.9, 53.2, 50.5, 46.5, 43.5, 39.8, 37.1, 35.4], \"yaxis\": \"y\"}, {\"customdata\": [[4.0, \"Bangladesh\", 50.0, \"4/15/20\"], [10.0, \"Bangladesh\", 60.0, \"4/16/20\"], [15.0, \"Bangladesh\", 75.0, \"4/17/20\"], [9.0, \"Bangladesh\", 84.0, \"4/18/20\"], [7.0, \"Bangladesh\", 91.0, \"4/19/20\"], [10.0, \"Bangladesh\", 101.0, \"4/20/20\"], [9.0, \"Bangladesh\", 110.0, \"4/21/20\"], [10.0, \"Bangladesh\", 120.0, \"4/22/20\"], [7.0, \"Bangladesh\", 127.0, \"4/23/20\"], [4.0, \"Bangladesh\", 131.0, \"4/24/20\"], [9.0, \"Bangladesh\", 140.0, \"4/25/20\"], [5.0, \"Bangladesh\", 145.0, \"4/26/20\"]], \"hoverlabel\": {\"namelength\": 0}, \"hovertemplate\": \"Country =%{customdata[1]}<br>Mean growth over 14d compared to max growth =%{x}<br>% cases from last 14d =%{y}<br>Deaths=%{customdata[2]}<br>Deaths today =%{customdata[0]}<br>Date=%{customdata[3]}\", \"legendgroup\": \"Bangladesh\", \"marker\": {\"color\": \"#00cc96\", \"size\": [50.0, 60.0, 75.0, 84.0, 91.0, 101.0, 110.0, 120.0, 127.0, 131.0, 140.0, 145.0], \"sizemode\": \"area\", \"sizeref\": 137.2025, \"symbol\": \"circle\"}, \"mode\": \"lines+markers\", \"name\": \"Bangladesh\", \"showlegend\": true, \"type\": \"scattergl\", \"x\": [31.4, 38.6, 49.3, 54.3, 58.6, 63.6, 66.4, 71.4, 75.7, 74.3, 78.6, 79.3], \"xaxis\": \"x\", \"y\": [88.0, 90.0, 92.0, 90.5, 90.1, 88.1, 84.5, 83.3, 83.5, 79.4, 78.6, 76.6], \"yaxis\": \"y\"}, {\"customdata\": [[4.0, \"Belarus\", 51.0, \"4/20/20\"], [4.0, \"Belarus\", 55.0, \"4/21/20\"], [3.0, \"Belarus\", 58.0, \"4/22/20\"], [2.0, \"Belarus\", 60.0, \"4/23/20\"], [3.0, \"Belarus\", 63.0, \"4/24/20\"], [4.0, \"Belarus\", 67.0, \"4/25/20\"], [5.0, \"Belarus\", 72.0, \"4/26/20\"]], \"hoverlabel\": {\"namelength\": 0}, \"hovertemplate\": \"Country =%{customdata[1]}<br>Mean growth over 14d compared to max growth =%{x}<br>% cases from last 14d =%{y}<br>Deaths=%{customdata[2]}<br>Deaths today =%{customdata[0]}<br>Date=%{customdata[3]}\", \"legendgroup\": \"Belarus\", \"marker\": {\"color\": \"#ab63fa\", \"size\": [51.0, 55.0, 58.0, 60.0, 63.0, 67.0, 72.0], \"sizemode\": \"area\", \"sizeref\": 137.2025, \"symbol\": \"circle\"}, \"mode\": \"lines+markers\", \"name\": \"Belarus\", \"showlegend\": true, \"type\": \"scattergl\", \"x\": [54.3, 60.0, 64.3, 62.9, 62.9, 62.9, 65.7], \"xaxis\": \"x\", \"y\": [74.5, 76.4, 77.6, 73.3, 69.8, 65.7, 63.9], \"yaxis\": \"y\"}, {\"customdata\": [[30.0, \"Belgium\", 67.0, \"3/21/20\"], [8.0, \"Belgium\", 75.0, \"3/22/20\"], [13.0, \"Belgium\", 88.0, \"3/23/20\"], [34.0, \"Belgium\", 122.0, \"3/24/20\"], [56.0, \"Belgium\", 178.0, \"3/25/20\"], [42.0, \"Belgium\", 220.0, \"3/26/20\"], [69.0, \"Belgium\", 289.0, \"3/27/20\"], [64.0, \"Belgium\", 353.0, \"3/28/20\"], [78.0, \"Belgium\", 431.0, \"3/29/20\"], [82.0, \"Belgium\", 513.0, \"3/30/20\"], [192.0, \"Belgium\", 705.0, \"3/31/20\"], [123.0, \"Belgium\", 828.0, \"4/1/20\"], [183.0, \"Belgium\", 1011.0, \"4/2/20\"], [132.0, \"Belgium\", 1143.0, \"4/3/20\"], [140.0, \"Belgium\", 1283.0, \"4/4/20\"], [164.0, \"Belgium\", 1447.0, \"4/5/20\"], [185.0, \"Belgium\", 1632.0, \"4/6/20\"], [403.0, \"Belgium\", 2035.0, \"4/7/20\"], [205.0, \"Belgium\", 2240.0, \"4/8/20\"], [283.0, \"Belgium\", 2523.0, \"4/9/20\"], [496.0, \"Belgium\", 3019.0, \"4/10/20\"], [327.0, \"Belgium\", 3346.0, \"4/11/20\"], [254.0, \"Belgium\", 3600.0, \"4/12/20\"], [303.0, \"Belgium\", 3903.0, \"4/13/20\"], [254.0, \"Belgium\", 4157.0, \"4/14/20\"], [283.0, \"Belgium\", 4440.0, \"4/15/20\"], [417.0, \"Belgium\", 4857.0, \"4/16/20\"], [306.0, \"Belgium\", 5163.0, \"4/17/20\"], [290.0, \"Belgium\", 5453.0, \"4/18/20\"], [230.0, \"Belgium\", 5683.0, \"4/19/20\"], [145.0, \"Belgium\", 5828.0, \"4/20/20\"], [170.0, \"Belgium\", 5998.0, \"4/21/20\"], [264.0, \"Belgium\", 6262.0, \"4/22/20\"], [228.0, \"Belgium\", 6490.0, \"4/23/20\"], [189.0, \"Belgium\", 6679.0, \"4/24/20\"], [238.0, \"Belgium\", 6917.0, \"4/25/20\"], [177.0, \"Belgium\", 7094.0, \"4/26/20\"]], \"hoverlabel\": {\"namelength\": 0}, \"hovertemplate\": \"Country =%{customdata[1]}<br>Mean growth over 14d compared to max growth =%{x}<br>% cases from last 14d =%{y}<br>Deaths=%{customdata[2]}<br>Deaths today =%{customdata[0]}<br>Date=%{customdata[3]}\", \"legendgroup\": \"Belgium\", \"marker\": {\"color\": \"#FFA15A\", \"size\": [67.0, 75.0, 88.0, 122.0, 178.0, 220.0, 289.0, 353.0, 431.0, 513.0, 705.0, 828.0, 1011.0, 1143.0, 1283.0, 1447.0, 1632.0, 2035.0, 2240.0, 2523.0, 3019.0, 3346.0, 3600.0, 3903.0, 4157.0, 4440.0, 4857.0, 5163.0, 5453.0, 5683.0, 5828.0, 5998.0, 6262.0, 6490.0, 6679.0, 6917.0, 7094.0], \"sizemode\": \"area\", \"sizeref\": 137.2025, \"symbol\": \"circle\"}, \"mode\": \"lines+markers\", \"name\": \"Belgium\", \"showlegend\": true, \"type\": \"scattergl\", \"x\": [1.1, 1.3, 1.5, 2.1, 3.0, 3.7, 4.9, 6.0, 7.3, 8.7, 11.9, 13.9, 17.0, 18.9, 20.8, 23.5, 26.4, 32.8, 35.3, 39.4, 46.8, 51.3, 54.3, 58.1, 59.1, 61.9, 65.9, 68.9, 71.4, 72.6, 71.9, 67.9, 68.9, 68.0, 62.7, 61.2, 59.8], \"xaxis\": \"x\", \"y\": [100.0, 100.0, 100.0, 100.0, 98.3, 98.6, 99.0, 98.9, 99.1, 99.0, 98.6, 98.3, 97.9, 96.8, 94.8, 94.8, 94.6, 94.0, 92.1, 91.3, 90.4, 89.5, 88.0, 86.9, 83.0, 81.4, 79.2, 77.9, 76.5, 74.5, 72.0, 66.1, 64.2, 61.1, 54.8, 51.6, 49.3], \"yaxis\": \"y\"}, {\"customdata\": [[13.0, \"Brazil\", 59.0, \"3/25/20\"], [18.0, \"Brazil\", 77.0, \"3/26/20\"], [15.0, \"Brazil\", 92.0, \"3/27/20\"], [19.0, \"Brazil\", 111.0, \"3/28/20\"], [25.0, \"Brazil\", 136.0, \"3/29/20\"], [23.0, \"Brazil\", 159.0, \"3/30/20\"], [42.0, \"Brazil\", 201.0, \"3/31/20\"], [39.0, \"Brazil\", 240.0, \"4/1/20\"], [84.0, \"Brazil\", 324.0, \"4/2/20\"], [35.0, \"Brazil\", 359.0, \"4/3/20\"], [86.0, \"Brazil\", 445.0, \"4/4/20\"], [41.0, \"Brazil\", 486.0, \"4/5/20\"], [78.0, \"Brazil\", 564.0, \"4/6/20\"], [122.0, \"Brazil\", 686.0, \"4/7/20\"], [133.0, \"Brazil\", 819.0, \"4/8/20\"], [131.0, \"Brazil\", 950.0, \"4/9/20\"], [107.0, \"Brazil\", 1057.0, \"4/10/20\"], [67.0, \"Brazil\", 1124.0, \"4/11/20\"], [99.0, \"Brazil\", 1223.0, \"4/12/20\"], [105.0, \"Brazil\", 1328.0, \"4/13/20\"], [204.0, \"Brazil\", 1532.0, \"4/14/20\"], [204.0, \"Brazil\", 1736.0, \"4/15/20\"], [188.0, \"Brazil\", 1924.0, \"4/16/20\"], [217.0, \"Brazil\", 2141.0, \"4/17/20\"], [213.0, \"Brazil\", 2354.0, \"4/18/20\"], [108.0, \"Brazil\", 2462.0, \"4/19/20\"], [125.0, \"Brazil\", 2587.0, \"4/20/20\"], [154.0, \"Brazil\", 2741.0, \"4/21/20\"], [165.0, \"Brazil\", 2906.0, \"4/22/20\"], [425.0, \"Brazil\", 3331.0, \"4/23/20\"], [373.0, \"Brazil\", 3704.0, \"4/24/20\"], [353.0, \"Brazil\", 4057.0, \"4/25/20\"], [229.0, \"Brazil\", 4286.0, \"4/26/20\"]], \"hoverlabel\": {\"namelength\": 0}, \"hovertemplate\": \"Country =%{customdata[1]}<br>Mean growth over 14d compared to max growth =%{x}<br>% cases from last 14d =%{y}<br>Deaths=%{customdata[2]}<br>Deaths today =%{customdata[0]}<br>Date=%{customdata[3]}\", \"legendgroup\": \"Brazil\", \"marker\": {\"color\": \"#19d3f3\", \"size\": [59.0, 77.0, 92.0, 111.0, 136.0, 159.0, 201.0, 240.0, 324.0, 359.0, 445.0, 486.0, 564.0, 686.0, 819.0, 950.0, 1057.0, 1124.0, 1223.0, 1328.0, 1532.0, 1736.0, 1924.0, 2141.0, 2354.0, 2462.0, 2587.0, 2741.0, 2906.0, 3331.0, 3704.0, 4057.0, 4286.0], \"sizemode\": \"area\", \"sizeref\": 137.2025, \"symbol\": \"circle\"}, \"mode\": \"lines+markers\", \"name\": \"Brazil\", \"showlegend\": true, \"type\": \"scattergl\", \"x\": [1.1, 1.5, 1.8, 2.1, 2.6, 3.0, 3.8, 4.5, 6.1, 6.7, 8.2, 8.8, 10.1, 12.3, 14.6, 16.7, 18.5, 19.4, 20.8, 22.4, 25.5, 28.6, 30.6, 34.1, 36.6, 37.8, 38.7, 39.4, 40.0, 45.6, 50.7, 56.2, 58.7], \"xaxis\": \"x\", \"y\": [100.0, 100.0, 100.0, 100.0, 100.0, 100.0, 99.5, 98.8, 98.1, 96.9, 96.6, 94.9, 94.0, 93.3, 92.8, 91.9, 91.3, 90.1, 88.9, 88.0, 86.9, 86.2, 83.2, 83.2, 81.1, 80.3, 78.2, 75.0, 71.8, 71.5, 71.5, 72.3, 71.5], \"yaxis\": \"y\"}, {\"customdata\": [[16.0, \"Canada\", 54.0, \"3/27/20\"], [7.0, \"Canada\", 61.0, \"3/28/20\"], [3.0, \"Canada\", 64.0, \"3/29/20\"], [16.0, \"Canada\", 80.0, \"3/30/20\"], [21.0, \"Canada\", 101.0, \"3/31/20\"], [8.0, \"Canada\", 109.0, \"4/1/20\"], [30.0, \"Canada\", 139.0, \"4/2/20\"], [40.0, \"Canada\", 179.0, \"4/3/20\"], [39.0, \"Canada\", 218.0, \"4/4/20\"], [41.0, \"Canada\", 259.0, \"4/5/20\"], [80.0, \"Canada\", 339.0, \"4/6/20\"], [36.0, \"Canada\", 375.0, \"4/7/20\"], [32.0, \"Canada\", 407.0, \"4/8/20\"], [96.0, \"Canada\", 503.0, \"4/9/20\"], [54.0, \"Canada\", 557.0, \"4/10/20\"], [97.0, \"Canada\", 654.0, \"4/11/20\"], [60.0, \"Canada\", 714.0, \"4/12/20\"], [67.0, \"Canada\", 781.0, \"4/13/20\"], [120.0, \"Canada\", 901.0, \"4/14/20\"], [107.0, \"Canada\", 1008.0, \"4/15/20\"], [251.0, \"Canada\", 1259.0, \"4/16/20\"], [97.0, \"Canada\", 1356.0, \"4/17/20\"], [45.0, \"Canada\", 1401.0, \"4/18/20\"], [164.0, \"Canada\", 1565.0, \"4/19/20\"], [162.0, \"Canada\", 1727.0, \"4/20/20\"], [183.0, \"Canada\", 1910.0, \"4/21/20\"], [168.0, \"Canada\", 2078.0, \"4/22/20\"], [163.0, \"Canada\", 2241.0, \"4/23/20\"], [161.0, \"Canada\", 2402.0, \"4/24/20\"], [169.0, \"Canada\", 2571.0, \"4/25/20\"], [116.0, \"Canada\", 2687.0, \"4/26/20\"]], \"hoverlabel\": {\"namelength\": 0}, \"hovertemplate\": \"Country =%{customdata[1]}<br>Mean growth over 14d compared to max growth =%{x}<br>% cases from last 14d =%{y}<br>Deaths=%{customdata[2]}<br>Deaths today =%{customdata[0]}<br>Date=%{customdata[3]}\", \"legendgroup\": \"Canada\", \"marker\": {\"color\": \"#FF6692\", \"size\": [54.0, 61.0, 64.0, 80.0, 101.0, 109.0, 139.0, 179.0, 218.0, 259.0, 339.0, 375.0, 407.0, 503.0, 557.0, 654.0, 714.0, 781.0, 901.0, 1008.0, 1259.0, 1356.0, 1401.0, 1565.0, 1727.0, 1910.0, 2078.0, 2241.0, 2402.0, 2571.0, 2687.0], \"sizemode\": \"area\", \"sizeref\": 137.2025, \"symbol\": \"circle\"}, \"mode\": \"lines+markers\", \"name\": \"Canada\", \"showlegend\": true, \"type\": \"scattergl\", \"x\": [2.1, 2.3, 2.5, 3.0, 3.7, 3.9, 5.1, 6.5, 7.8, 9.3, 12.3, 13.6, 14.7, 18.1, 19.6, 23.1, 25.4, 27.4, 31.2, 35.1, 43.7, 45.9, 46.2, 51.0, 54.2, 59.9, 65.2, 67.8, 72.0, 74.8, 77.0], \"xaxis\": \"x\", \"y\": [98.1, 98.4, 98.4, 95.0, 95.0, 92.7, 93.5, 93.3, 91.3, 91.9, 92.6, 93.1, 92.6, 92.4, 90.3, 90.7, 91.0, 89.8, 88.8, 89.2, 89.0, 86.8, 84.4, 83.5, 80.4, 80.4, 80.4, 77.6, 76.8, 74.6, 73.4], \"yaxis\": \"y\"}, {\"customdata\": [[9.0, \"Chile\", 57.0, \"4/9/20\"], [8.0, \"Chile\", 65.0, \"4/10/20\"], [8.0, \"Chile\", 73.0, \"4/11/20\"], [7.0, \"Chile\", 80.0, \"4/12/20\"], [2.0, \"Chile\", 82.0, \"4/13/20\"], [10.0, \"Chile\", 92.0, \"4/14/20\"], [2.0, \"Chile\", 94.0, \"4/15/20\"], [11.0, \"Chile\", 105.0, \"4/16/20\"], [11.0, \"Chile\", 116.0, \"4/17/20\"], [10.0, \"Chile\", 126.0, \"4/18/20\"], [7.0, \"Chile\", 133.0, \"4/19/20\"], [6.0, \"Chile\", 139.0, \"4/20/20\"], [8.0, \"Chile\", 147.0, \"4/21/20\"], [13.0, \"Chile\", 160.0, \"4/22/20\"], [8.0, \"Chile\", 168.0, \"4/23/20\"], [6.0, \"Chile\", 174.0, \"4/24/20\"], [7.0, \"Chile\", 181.0, \"4/25/20\"], [8.0, \"Chile\", 189.0, \"4/26/20\"]], \"hoverlabel\": {\"namelength\": 0}, \"hovertemplate\": \"Country =%{customdata[1]}<br>Mean growth over 14d compared to max growth =%{x}<br>% cases from last 14d =%{y}<br>Deaths=%{customdata[2]}<br>Deaths today =%{customdata[0]}<br>Date=%{customdata[3]}\", \"legendgroup\": \"Chile\", \"marker\": {\"color\": \"#B6E880\", \"size\": [57.0, 65.0, 73.0, 80.0, 82.0, 92.0, 94.0, 105.0, 116.0, 126.0, 133.0, 139.0, 147.0, 160.0, 168.0, 174.0, 181.0, 189.0], \"sizemode\": \"area\", \"sizeref\": 137.2025, \"symbol\": \"circle\"}, \"mode\": \"lines+markers\", \"name\": \"Chile\", \"showlegend\": true, \"type\": \"scattergl\", \"x\": [34.4, 39.0, 43.5, 47.4, 48.1, 51.9, 50.6, 56.5, 61.0, 64.3, 64.3, 66.2, 67.5, 72.7, 72.1, 70.8, 70.1, 70.8], \"xaxis\": \"x\", \"y\": [93.0, 92.3, 91.8, 91.2, 90.2, 87.0, 83.0, 82.9, 81.0, 78.6, 74.4, 73.4, 70.7, 70.0, 66.1, 62.6, 59.7, 57.7], \"yaxis\": \"y\"}, {\"customdata\": [[14.0, \"China\", 56.0, \"1/26/20\"], [26.0, \"China\", 82.0, \"1/27/20\"], [49.0, \"China\", 131.0, \"1/28/20\"], [2.0, \"China\", 133.0, \"1/29/20\"], [38.0, \"China\", 171.0, \"1/30/20\"], [42.0, \"China\", 213.0, \"1/31/20\"], [46.0, \"China\", 259.0, \"2/1/20\"], [102.0, \"China\", 361.0, \"2/2/20\"], [64.0, \"China\", 425.0, \"2/3/20\"], [66.0, \"China\", 491.0, \"2/4/20\"], [72.0, \"China\", 563.0, \"2/5/20\"], [70.0, \"China\", 633.0, \"2/6/20\"], [85.0, \"China\", 718.0, \"2/7/20\"], [87.0, \"China\", 805.0, \"2/8/20\"], [100.0, \"China\", 905.0, \"2/9/20\"], [107.0, \"China\", 1012.0, \"2/10/20\"], [100.0, \"China\", 1112.0, \"2/11/20\"], [5.0, \"China\", 1117.0, \"2/12/20\"], [252.0, \"China\", 1369.0, \"2/13/20\"], [152.0, \"China\", 1521.0, \"2/14/20\"], [142.0, \"China\", 1663.0, \"2/15/20\"], [103.0, \"China\", 1766.0, \"2/16/20\"], [98.0, \"China\", 1864.0, \"2/17/20\"], [139.0, \"China\", 2003.0, \"2/18/20\"], [113.0, \"China\", 2116.0, \"2/19/20\"], [122.0, \"China\", 2238.0, \"2/20/20\"], [0.0, \"China\", 2238.0, \"2/21/20\"], [205.0, \"China\", 2443.0, \"2/22/20\"], [2.0, \"China\", 2445.0, \"2/23/20\"], [150.0, \"China\", 2595.0, \"2/24/20\"], [70.0, \"China\", 2665.0, \"2/25/20\"], [52.0, \"China\", 2717.0, \"2/26/20\"], [29.0, \"China\", 2746.0, \"2/27/20\"], [44.0, \"China\", 2790.0, \"2/28/20\"], [47.0, \"China\", 2837.0, \"2/29/20\"], [35.0, \"China\", 2872.0, \"3/1/20\"], [42.0, \"China\", 2914.0, \"3/2/20\"], [33.0, \"China\", 2947.0, \"3/3/20\"], [36.0, \"China\", 2983.0, \"3/4/20\"], [32.0, \"China\", 3015.0, \"3/5/20\"], [29.0, \"China\", 3044.0, \"3/6/20\"], [28.0, \"China\", 3072.0, \"3/7/20\"], [28.0, \"China\", 3100.0, \"3/8/20\"], [23.0, \"China\", 3123.0, \"3/9/20\"], [16.0, \"China\", 3139.0, \"3/10/20\"], [22.0, \"China\", 3161.0, \"3/11/20\"], [11.0, \"China\", 3172.0, \"3/12/20\"], [8.0, \"China\", 3180.0, \"3/13/20\"], [13.0, \"China\", 3193.0, \"3/14/20\"], [10.0, \"China\", 3203.0, \"3/15/20\"], [14.0, \"China\", 3217.0, \"3/16/20\"], [13.0, \"China\", 3230.0, \"3/17/20\"], [11.0, \"China\", 3241.0, \"3/18/20\"], [8.0, \"China\", 3249.0, \"3/19/20\"], [4.0, \"China\", 3253.0, \"3/20/20\"], [6.0, \"China\", 3259.0, \"3/21/20\"], [15.0, \"China\", 3274.0, \"3/22/20\"], [0.0, \"China\", 3274.0, \"3/23/20\"], [7.0, \"China\", 3281.0, \"3/24/20\"], [4.0, \"China\", 3285.0, \"3/25/20\"], [6.0, \"China\", 3291.0, \"3/26/20\"], [5.0, \"China\", 3296.0, \"3/27/20\"], [3.0, \"China\", 3299.0, \"3/28/20\"], [5.0, \"China\", 3304.0, \"3/29/20\"], [4.0, \"China\", 3308.0, \"3/30/20\"], [1.0, \"China\", 3309.0, \"3/31/20\"], [7.0, \"China\", 3316.0, \"4/1/20\"], [6.0, \"China\", 3322.0, \"4/2/20\"], [4.0, \"China\", 3326.0, \"4/3/20\"], [4.0, \"China\", 3330.0, \"4/4/20\"], [3.0, \"China\", 3333.0, \"4/5/20\"], [2.0, \"China\", 3335.0, \"4/6/20\"], [0.0, \"China\", 3335.0, \"4/7/20\"], [2.0, \"China\", 3337.0, \"4/8/20\"], [2.0, \"China\", 3339.0, \"4/9/20\"], [1.0, \"China\", 3340.0, \"4/10/20\"], [3.0, \"China\", 3343.0, \"4/11/20\"], [0.0, \"China\", 3343.0, \"4/12/20\"], [2.0, \"China\", 3345.0, \"4/13/20\"], [0.0, \"China\", 3345.0, \"4/14/20\"], [1.0, \"China\", 3346.0, \"4/15/20\"], [0.0, \"China\", 3346.0, \"4/16/20\"], [1290.0, \"China\", 4636.0, \"4/17/20\"], [0.0, \"China\", 4636.0, \"4/18/20\"], [0.0, \"China\", 4636.0, \"4/19/20\"], [0.0, \"China\", 4636.0, \"4/20/20\"], [0.0, \"China\", 4636.0, \"4/21/20\"], [0.0, \"China\", 4636.0, \"4/22/20\"], [0.0, \"China\", 4636.0, \"4/23/20\"], [0.0, \"China\", 4636.0, \"4/24/20\"], [0.0, \"China\", 4636.0, \"4/25/20\"], [1.0, \"China\", 4637.0, \"4/26/20\"]], \"hoverlabel\": {\"namelength\": 0}, \"hovertemplate\": \"Country =%{customdata[1]}<br>Mean growth over 14d compared to max growth =%{x}<br>% cases from last 14d =%{y}<br>Deaths=%{customdata[2]}<br>Deaths today =%{customdata[0]}<br>Date=%{customdata[3]}\", \"legendgroup\": \"China\", \"marker\": {\"color\": \"#FF97FF\", \"size\": [56.0, 82.0, 131.0, 133.0, 171.0, 213.0, 259.0, 361.0, 425.0, 491.0, 563.0, 633.0, 718.0, 805.0, 905.0, 1012.0, 1112.0, 1117.0, 1369.0, 1521.0, 1663.0, 1766.0, 1864.0, 2003.0, 2116.0, 2238.0, 2238.0, 2443.0, 2445.0, 2595.0, 2665.0, 2717.0, 2746.0, 2790.0, 2837.0, 2872.0, 2914.0, 2947.0, 2983.0, 3015.0, 3044.0, 3072.0, 3100.0, 3123.0, 3139.0, 3161.0, 3172.0, 3180.0, 3193.0, 3203.0, 3217.0, 3230.0, 3241.0, 3249.0, 3253.0, 3259.0, 3274.0, 3274.0, 3281.0, 3285.0, 3291.0, 3296.0, 3299.0, 3304.0, 3308.0, 3309.0, 3316.0, 3322.0, 3326.0, 3330.0, 3333.0, 3335.0, 3335.0, 3337.0, 3339.0, 3340.0, 3343.0, 3343.0, 3345.0, 3345.0, 3346.0, 3346.0, 4636.0, 4636.0, 4636.0, 4636.0, 4636.0, 4636.0, 4636.0, 4636.0, 4636.0, 4637.0], \"sizemode\": \"area\", \"sizeref\": 137.2025, \"symbol\": \"circle\"}, \"mode\": \"lines+markers\", \"name\": \"China\", \"showlegend\": true, \"type\": \"scattergl\", \"x\": [0.0, 0.0, 0.0, 0.0, 0.7, 1.5, 2.6, 5.3, 6.9, 8.6, 15.5, 17.4, 19.6, 21.6, 24.1, 26.4, 27.8, 27.9, 34.0, 37.1, 39.8, 39.8, 40.8, 42.9, 44.0, 45.5, 43.1, 46.4, 43.7, 44.9, 44.0, 45.4, 39.0, 36.0, 33.3, 31.3, 29.8, 26.8, 24.6, 22.0, 22.8, 17.8, 18.6, 15.0, 13.4, 12.6, 12.1, 11.1, 10.1, 9.4, 8.6, 8.0, 7.3, 6.6, 5.9, 5.3, 4.9, 4.3, 4.0, 3.5, 3.4, 3.3, 3.0, 2.9, 2.6, 2.2, 2.1, 2.1, 2.1, 2.0, 1.7, 1.7, 1.5, 1.5, 1.4, 1.2, 1.2, 1.1, 1.0, 1.0, 0.9, 0.7, 37.1, 37.0, 36.9, 36.9, 36.9, 36.8, 36.8, 36.7, 36.6, 36.7], \"xaxis\": \"x\", \"y\": [0.0, 0.0, 0.0, 0.0, 14.0, 24.9, 35.1, 51.8, 57.4, 61.5, 97.0, 97.2, 96.4, 94.8, 93.8, 91.9, 88.2, 88.1, 87.5, 86.0, 84.4, 79.6, 77.2, 75.5, 73.4, 71.7, 67.9, 67.0, 63.0, 61.0, 58.3, 58.9, 50.1, 45.5, 41.4, 38.5, 36.0, 32.0, 29.1, 25.8, 26.5, 20.5, 21.1, 16.9, 15.1, 14.0, 13.4, 12.3, 11.1, 10.3, 9.4, 8.8, 8.0, 7.2, 6.4, 5.7, 5.3, 4.6, 4.3, 3.8, 3.6, 3.5, 3.2, 3.1, 2.8, 2.4, 2.3, 2.2, 2.2, 2.1, 1.8, 1.8, 1.6, 1.6, 1.4, 1.3, 1.3, 1.2, 1.1, 1.1, 0.9, 0.7, 28.3, 28.2, 28.1, 28.1, 28.1, 28.0, 28.0, 28.0, 27.9, 27.9], \"yaxis\": \"y\"}, {\"customdata\": [[4.0, \"Colombia\", 50.0, \"4/7/20\"], [4.0, \"Colombia\", 54.0, \"4/8/20\"], [15.0, \"Colombia\", 69.0, \"4/9/20\"], [11.0, \"Colombia\", 80.0, \"4/10/20\"], [20.0, \"Colombia\", 100.0, \"4/11/20\"], [9.0, \"Colombia\", 109.0, \"4/12/20\"], [3.0, \"Colombia\", 112.0, \"4/13/20\"], [15.0, \"Colombia\", 127.0, \"4/14/20\"], [4.0, \"Colombia\", 131.0, \"4/15/20\"], [13.0, \"Colombia\", 144.0, \"4/16/20\"], [9.0, \"Colombia\", 153.0, \"4/17/20\"], [0.0, \"Colombia\", 153.0, \"4/18/20\"], [26.0, \"Colombia\", 179.0, \"4/19/20\"], [10.0, \"Colombia\", 189.0, \"4/20/20\"], [7.0, \"Colombia\", 196.0, \"4/21/20\"], [10.0, \"Colombia\", 206.0, \"4/22/20\"], [9.0, \"Colombia\", 215.0, \"4/23/20\"], [10.0, \"Colombia\", 225.0, \"4/24/20\"], [8.0, \"Colombia\", 233.0, \"4/25/20\"], [11.0, \"Colombia\", 244.0, \"4/26/20\"]], \"hoverlabel\": {\"namelength\": 0}, \"hovertemplate\": \"Country =%{customdata[1]}<br>Mean growth over 14d compared to max growth =%{x}<br>% cases from last 14d =%{y}<br>Deaths=%{customdata[2]}<br>Deaths today =%{customdata[0]}<br>Date=%{customdata[3]}\", \"legendgroup\": \"Colombia\", \"marker\": {\"color\": \"#FECB52\", \"size\": [50.0, 54.0, 69.0, 80.0, 100.0, 109.0, 112.0, 127.0, 131.0, 144.0, 153.0, 153.0, 179.0, 189.0, 196.0, 206.0, 215.0, 225.0, 233.0, 244.0], \"sizemode\": \"area\", \"sizeref\": 137.2025, \"symbol\": \"circle\"}, \"mode\": \"lines+markers\", \"name\": \"Colombia\", \"showlegend\": true, \"type\": \"scattergl\", \"x\": [16.8, 17.9, 22.5, 26.4, 33.6, 35.4, 35.7, 39.6, 40.7, 44.6, 45.7, 43.2, 51.4, 51.1, 52.1, 54.3, 52.1, 51.8, 47.5, 48.2], \"xaxis\": \"x\", \"y\": [94.0, 92.6, 91.3, 92.5, 94.0, 90.8, 89.3, 87.4, 87.0, 86.8, 83.7, 79.1, 80.4, 75.7, 74.5, 73.8, 67.9, 64.4, 57.1, 55.3], \"yaxis\": \"y\"}, {\"customdata\": [[9.0, \"Czechia\", 53.0, \"4/3/20\"], [6.0, \"Czechia\", 59.0, \"4/4/20\"], [8.0, \"Czechia\", 67.0, \"4/5/20\"], [11.0, \"Czechia\", 78.0, \"4/6/20\"], [10.0, \"Czechia\", 88.0, \"4/7/20\"], [11.0, \"Czechia\", 99.0, \"4/8/20\"], [13.0, \"Czechia\", 112.0, \"4/9/20\"], [7.0, \"Czechia\", 119.0, \"4/10/20\"], [10.0, \"Czechia\", 129.0, \"4/11/20\"], [9.0, \"Czechia\", 138.0, \"4/12/20\"], [5.0, \"Czechia\", 143.0, \"4/13/20\"], [18.0, \"Czechia\", 161.0, \"4/14/20\"], [5.0, \"Czechia\", 166.0, \"4/15/20\"], [3.0, \"Czechia\", 169.0, \"4/16/20\"], [4.0, \"Czechia\", 173.0, \"4/17/20\"], [8.0, \"Czechia\", 181.0, \"4/18/20\"], [5.0, \"Czechia\", 186.0, \"4/19/20\"], [8.0, \"Czechia\", 194.0, \"4/20/20\"], [7.0, \"Czechia\", 201.0, \"4/21/20\"], [7.0, \"Czechia\", 208.0, \"4/22/20\"], [2.0, \"Czechia\", 210.0, \"4/23/20\"], [4.0, \"Czechia\", 214.0, \"4/24/20\"], [4.0, \"Czechia\", 218.0, \"4/25/20\"], [2.0, \"Czechia\", 220.0, \"4/26/20\"]], \"hoverlabel\": {\"namelength\": 0}, \"hovertemplate\": \"Country =%{customdata[1]}<br>Mean growth over 14d compared to max growth =%{x}<br>% cases from last 14d =%{y}<br>Deaths=%{customdata[2]}<br>Deaths today =%{customdata[0]}<br>Date=%{customdata[3]}\", \"legendgroup\": \"Czechia\", \"marker\": {\"color\": \"#636efa\", \"size\": [53.0, 59.0, 67.0, 78.0, 88.0, 99.0, 112.0, 119.0, 129.0, 138.0, 143.0, 161.0, 166.0, 169.0, 173.0, 181.0, 186.0, 194.0, 201.0, 208.0, 210.0, 214.0, 218.0, 220.0], \"sizemode\": \"area\", \"sizeref\": 137.2025, \"symbol\": \"circle\"}, \"mode\": \"lines+markers\", \"name\": \"Czechia\", \"showlegend\": true, \"type\": \"scattergl\", \"x\": [29.1, 32.4, 36.3, 42.3, 46.7, 51.1, 56.6, 60.4, 64.8, 67.0, 65.9, 71.4, 69.8, 68.7, 65.9, 67.0, 65.4, 63.7, 62.1, 59.9, 53.8, 52.2, 48.9, 45.1], \"xaxis\": \"x\", \"y\": [100.0, 100.0, 98.5, 98.7, 96.6, 93.9, 92.0, 92.4, 91.5, 88.4, 83.9, 80.7, 76.5, 74.0, 69.4, 67.4, 64.0, 59.8, 56.2, 52.4, 46.7, 44.4, 40.8, 37.3], \"yaxis\": \"y\"}, {\"customdata\": [[11.0, \"Denmark\", 52.0, \"3/27/20\"], [13.0, \"Denmark\", 65.0, \"3/28/20\"], [7.0, \"Denmark\", 72.0, \"3/29/20\"], [5.0, \"Denmark\", 77.0, \"3/30/20\"], [13.0, \"Denmark\", 90.0, \"3/31/20\"], [14.0, \"Denmark\", 104.0, \"4/1/20\"], [19.0, \"Denmark\", 123.0, \"4/2/20\"], [16.0, \"Denmark\", 139.0, \"4/3/20\"], [22.0, \"Denmark\", 161.0, \"4/4/20\"], [18.0, \"Denmark\", 179.0, \"4/5/20\"], [8.0, \"Denmark\", 187.0, \"4/6/20\"], [16.0, \"Denmark\", 203.0, \"4/7/20\"], [15.0, \"Denmark\", 218.0, \"4/8/20\"], [19.0, \"Denmark\", 237.0, \"4/9/20\"], [10.0, \"Denmark\", 247.0, \"4/10/20\"], [13.0, \"Denmark\", 260.0, \"4/11/20\"], [13.0, \"Denmark\", 273.0, \"4/12/20\"], [12.0, \"Denmark\", 285.0, \"4/13/20\"], [14.0, \"Denmark\", 299.0, \"4/14/20\"], [10.0, \"Denmark\", 309.0, \"4/15/20\"], [12.0, \"Denmark\", 321.0, \"4/16/20\"], [15.0, \"Denmark\", 336.0, \"4/17/20\"], [10.0, \"Denmark\", 346.0, \"4/18/20\"], [9.0, \"Denmark\", 355.0, \"4/19/20\"], [9.0, \"Denmark\", 364.0, \"4/20/20\"], [6.0, \"Denmark\", 370.0, \"4/21/20\"], [14.0, \"Denmark\", 384.0, \"4/22/20\"], [10.0, \"Denmark\", 394.0, \"4/23/20\"], [9.0, \"Denmark\", 403.0, \"4/24/20\"], [15.0, \"Denmark\", 418.0, \"4/25/20\"], [4.0, \"Denmark\", 422.0, \"4/26/20\"]], \"hoverlabel\": {\"namelength\": 0}, \"hovertemplate\": \"Country =%{customdata[1]}<br>Mean growth over 14d compared to max growth =%{x}<br>% cases from last 14d =%{y}<br>Deaths=%{customdata[2]}<br>Deaths today =%{customdata[0]}<br>Date=%{customdata[3]}\", \"legendgroup\": \"Denmark\", \"marker\": {\"color\": \"#EF553B\", \"size\": [52.0, 65.0, 72.0, 77.0, 90.0, 104.0, 123.0, 139.0, 161.0, 179.0, 187.0, 203.0, 218.0, 237.0, 247.0, 260.0, 273.0, 285.0, 299.0, 309.0, 321.0, 336.0, 346.0, 355.0, 364.0, 370.0, 384.0, 394.0, 403.0, 418.0, 422.0], \"sizemode\": \"area\", \"sizeref\": 137.2025, \"symbol\": \"circle\"}, \"mode\": \"lines+markers\", \"name\": \"Denmark\", \"showlegend\": true, \"type\": \"scattergl\", \"x\": [19.5, 24.1, 26.3, 27.8, 32.3, 37.6, 44.0, 48.9, 55.6, 62.4, 61.3, 64.3, 69.2, 73.7, 73.3, 73.3, 75.6, 78.2, 78.6, 77.1, 74.4, 74.1, 69.5, 66.2, 66.5, 62.8, 62.4, 59.0, 58.6, 59.4, 56.0], \"xaxis\": \"x\", \"y\": [100.0, 98.5, 97.2, 96.1, 95.6, 96.2, 95.1, 93.5, 91.9, 92.7, 87.2, 84.2, 84.4, 82.7, 78.9, 75.0, 73.6, 73.0, 69.9, 66.3, 61.7, 58.6, 53.5, 49.6, 48.6, 45.1, 43.2, 39.8, 38.7, 37.8, 35.3], \"yaxis\": \"y\"}, {\"customdata\": [[9.0, \"Dominican Republic\", 51.0, \"3/31/20\"], [6.0, \"Dominican Republic\", 57.0, \"4/1/20\"], [3.0, \"Dominican Republic\", 60.0, \"4/2/20\"], [8.0, \"Dominican Republic\", 68.0, \"4/3/20\"], [0.0, \"Dominican Republic\", 68.0, \"4/4/20\"], [14.0, \"Dominican Republic\", 82.0, \"4/5/20\"], [4.0, \"Dominican Republic\", 86.0, \"4/6/20\"], [12.0, \"Dominican Republic\", 98.0, \"4/7/20\"], [10.0, \"Dominican Republic\", 108.0, \"4/8/20\"], [10.0, \"Dominican Republic\", 118.0, \"4/9/20\"], [8.0, \"Dominican Republic\", 126.0, \"4/10/20\"], [9.0, \"Dominican Republic\", 135.0, \"4/11/20\"], [38.0, \"Dominican Republic\", 173.0, \"4/12/20\"], [4.0, \"Dominican Republic\", 177.0, \"4/13/20\"], [6.0, \"Dominican Republic\", 183.0, \"4/14/20\"], [6.0, \"Dominican Republic\", 189.0, \"4/15/20\"], [7.0, \"Dominican Republic\", 196.0, \"4/16/20\"], [4.0, \"Dominican Republic\", 200.0, \"4/17/20\"], [17.0, \"Dominican Republic\", 217.0, \"4/18/20\"], [9.0, \"Dominican Republic\", 226.0, \"4/19/20\"], [9.0, \"Dominican Republic\", 235.0, \"4/20/20\"], [10.0, \"Dominican Republic\", 245.0, \"4/21/20\"], [15.0, \"Dominican Republic\", 260.0, \"4/22/20\"], [5.0, \"Dominican Republic\", 265.0, \"4/23/20\"], [2.0, \"Dominican Republic\", 267.0, \"4/24/20\"], [6.0, \"Dominican Republic\", 273.0, \"4/25/20\"], [5.0, \"Dominican Republic\", 278.0, \"4/26/20\"]], \"hoverlabel\": {\"namelength\": 0}, \"hovertemplate\": \"Country =%{customdata[1]}<br>Mean growth over 14d compared to max growth =%{x}<br>% cases from last 14d =%{y}<br>Deaths=%{customdata[2]}<br>Deaths today =%{customdata[0]}<br>Date=%{customdata[3]}\", \"legendgroup\": \"Dominican Republic\", \"marker\": {\"color\": \"#00cc96\", \"size\": [51.0, 57.0, 60.0, 68.0, 68.0, 82.0, 86.0, 98.0, 108.0, 118.0, 126.0, 135.0, 173.0, 177.0, 183.0, 189.0, 196.0, 200.0, 217.0, 226.0, 235.0, 245.0, 260.0, 265.0, 267.0, 273.0, 278.0], \"sizemode\": \"area\", \"sizeref\": 137.2025, \"symbol\": \"circle\"}, \"mode\": \"lines+markers\", \"name\": \"Dominican Republic\", \"showlegend\": true, \"type\": \"scattergl\", \"x\": [21.0, 23.5, 24.4, 27.7, 27.7, 33.2, 34.9, 38.7, 41.2, 45.4, 44.5, 45.0, 56.3, 56.7, 55.5, 55.5, 57.1, 55.5, 62.6, 60.5, 62.6, 61.8, 63.9, 61.8, 59.2, 58.0, 44.1], \"xaxis\": \"x\", \"y\": [98.0, 98.2, 96.7, 97.1, 97.1, 96.3, 96.5, 93.9, 90.7, 91.5, 84.1, 79.3, 77.5, 76.3, 72.1, 69.8, 69.4, 66.0, 68.7, 63.7, 63.4, 60.0, 58.5, 55.5, 52.8, 50.5, 37.8], \"yaxis\": \"y\"}, {\"customdata\": [[10.0, \"Ecuador\", 58.0, \"3/29/20\"], [2.0, \"Ecuador\", 60.0, \"3/30/20\"], [15.0, \"Ecuador\", 75.0, \"3/31/20\"], [18.0, \"Ecuador\", 93.0, \"4/1/20\"], [27.0, \"Ecuador\", 120.0, \"4/2/20\"], [25.0, \"Ecuador\", 145.0, \"4/3/20\"], [27.0, \"Ecuador\", 172.0, \"4/4/20\"], [8.0, \"Ecuador\", 180.0, \"4/5/20\"], [11.0, \"Ecuador\", 191.0, \"4/6/20\"], [0.0, \"Ecuador\", 191.0, \"4/7/20\"], [51.0, \"Ecuador\", 242.0, \"4/8/20\"], [30.0, \"Ecuador\", 272.0, \"4/9/20\"], [25.0, \"Ecuador\", 297.0, \"4/10/20\"], [18.0, \"Ecuador\", 315.0, \"4/11/20\"], [18.0, \"Ecuador\", 333.0, \"4/12/20\"], [22.0, \"Ecuador\", 355.0, \"4/13/20\"], [14.0, \"Ecuador\", 369.0, \"4/14/20\"], [19.0, \"Ecuador\", 388.0, \"4/15/20\"], [15.0, \"Ecuador\", 403.0, \"4/16/20\"], [18.0, \"Ecuador\", 421.0, \"4/17/20\"], [35.0, \"Ecuador\", 456.0, \"4/18/20\"], [18.0, \"Ecuador\", 474.0, \"4/19/20\"], [33.0, \"Ecuador\", 507.0, \"4/20/20\"], [13.0, \"Ecuador\", 520.0, \"4/21/20\"], [17.0, \"Ecuador\", 537.0, \"4/22/20\"], [23.0, \"Ecuador\", 560.0, \"4/23/20\"], [16.0, \"Ecuador\", 576.0, \"4/24/20\"], [0.0, \"Ecuador\", 576.0, \"4/25/20\"], [0.0, \"Ecuador\", 576.0, \"4/26/20\"]], \"hoverlabel\": {\"namelength\": 0}, \"hovertemplate\": \"Country =%{customdata[1]}<br>Mean growth over 14d compared to max growth =%{x}<br>% cases from last 14d =%{y}<br>Deaths=%{customdata[2]}<br>Deaths today =%{customdata[0]}<br>Date=%{customdata[3]}\", \"legendgroup\": \"Ecuador\", \"marker\": {\"color\": \"#ab63fa\", \"size\": [58.0, 60.0, 75.0, 93.0, 120.0, 145.0, 172.0, 180.0, 191.0, 191.0, 242.0, 272.0, 297.0, 315.0, 333.0, 355.0, 369.0, 388.0, 403.0, 421.0, 456.0, 474.0, 507.0, 520.0, 537.0, 560.0, 576.0, 576.0, 576.0], \"sizemode\": \"area\", \"sizeref\": 137.2025, \"symbol\": \"circle\"}, \"mode\": \"lines+markers\", \"name\": \"Ecuador\", \"showlegend\": true, \"type\": \"scattergl\", \"x\": [11.4, 11.8, 14.9, 18.6, 23.9, 28.6, 33.7, 33.9, 35.3, 33.5, 43.7, 48.6, 53.3, 54.5, 56.1, 60.2, 60.0, 60.2, 57.8, 56.3, 58.0, 60.0, 64.5, 67.1, 60.2, 58.8, 56.9, 53.3, 49.6], \"xaxis\": \"x\", \"y\": [96.6, 96.7, 97.3, 97.8, 97.5, 96.6, 95.9, 92.2, 90.6, 85.9, 88.4, 87.5, 87.9, 84.8, 82.6, 83.1, 79.7, 76.0, 70.2, 65.6, 62.3, 62.0, 62.3, 63.3, 54.9, 51.4, 48.4, 45.3, 42.2], \"yaxis\": \"y\"}, {\"customdata\": [[31.0, \"France\", 79.0, \"3/13/20\"], [12.0, \"France\", 91.0, \"3/14/20\"], [0.0, \"France\", 91.0, \"3/15/20\"], [58.0, \"France\", 149.0, \"3/16/20\"], [0.0, \"France\", 149.0, \"3/17/20\"], [0.0, \"France\", 149.0, \"3/18/20\"], [95.0, \"France\", 244.0, \"3/19/20\"], [207.0, \"France\", 451.0, \"3/20/20\"], [112.0, \"France\", 563.0, \"3/21/20\"], [113.0, \"France\", 676.0, \"3/22/20\"], [186.0, \"France\", 862.0, \"3/23/20\"], [240.0, \"France\", 1102.0, \"3/24/20\"], [231.0, \"France\", 1333.0, \"3/25/20\"], [365.0, \"France\", 1698.0, \"3/26/20\"], [299.0, \"France\", 1997.0, \"3/27/20\"], [320.0, \"France\", 2317.0, \"3/28/20\"], [294.0, \"France\", 2611.0, \"3/29/20\"], [419.0, \"France\", 3030.0, \"3/30/20\"], [502.0, \"France\", 3532.0, \"3/31/20\"], [882.0, \"France\", 4414.0, \"4/1/20\"], [984.0, \"France\", 5398.0, \"4/2/20\"], [1122.0, \"France\", 6520.0, \"4/3/20\"], [1054.0, \"France\", 7574.0, \"4/4/20\"], [519.0, \"France\", 8093.0, \"4/5/20\"], [833.0, \"France\", 8926.0, \"4/6/20\"], [1417.0, \"France\", 10343.0, \"4/7/20\"], [544.0, \"France\", 10887.0, \"4/8/20\"], [1341.0, \"France\", 12228.0, \"4/9/20\"], [987.0, \"France\", 13215.0, \"4/10/20\"], [636.0, \"France\", 13851.0, \"4/11/20\"], [561.0, \"France\", 14412.0, \"4/12/20\"], [574.0, \"France\", 14986.0, \"4/13/20\"], [762.0, \"France\", 15748.0, \"4/14/20\"], [1440.0, \"France\", 17188.0, \"4/15/20\"], [753.0, \"France\", 17941.0, \"4/16/20\"], [762.0, \"France\", 18703.0, \"4/17/20\"], [642.0, \"France\", 19345.0, \"4/18/20\"], [399.0, \"France\", 19744.0, \"4/19/20\"], [548.0, \"France\", 20292.0, \"4/20/20\"], [537.0, \"France\", 20829.0, \"4/21/20\"], [544.0, \"France\", 21373.0, \"4/22/20\"], [516.0, \"France\", 21889.0, \"4/23/20\"], [390.0, \"France\", 22279.0, \"4/24/20\"], [369.0, \"France\", 22648.0, \"4/25/20\"], [242.0, \"France\", 22890.0, \"4/26/20\"]], \"hoverlabel\": {\"namelength\": 0}, \"hovertemplate\": \"Country =%{customdata[1]}<br>Mean growth over 14d compared to max growth =%{x}<br>% cases from last 14d =%{y}<br>Deaths=%{customdata[2]}<br>Deaths today =%{customdata[0]}<br>Date=%{customdata[3]}\", \"legendgroup\": \"France\", \"marker\": {\"color\": \"#FFA15A\", \"size\": [79.0, 91.0, 91.0, 149.0, 149.0, 149.0, 244.0, 451.0, 563.0, 676.0, 862.0, 1102.0, 1333.0, 1698.0, 1997.0, 2317.0, 2611.0, 3030.0, 3532.0, 4414.0, 5398.0, 6520.0, 7574.0, 8093.0, 8926.0, 10343.0, 10887.0, 12228.0, 13215.0, 13851.0, 14412.0, 14986.0, 15748.0, 17188.0, 17941.0, 18703.0, 19345.0, 19744.0, 20292.0, 20829.0, 21373.0, 21889.0, 22279.0, 22648.0, 22890.0], \"sizemode\": \"area\", \"sizeref\": 137.2025, \"symbol\": \"circle\"}, \"mode\": \"lines+markers\", \"name\": \"France\", \"showlegend\": true, \"type\": \"scattergl\", \"x\": [0.4, 0.4, 0.4, 0.7, 0.7, 0.7, 1.2, 2.2, 2.8, 3.3, 4.2, 5.4, 6.5, 8.3, 9.7, 11.2, 12.7, 14.5, 17.1, 21.5, 26.0, 30.6, 35.3, 37.4, 40.6, 46.6, 48.2, 53.1, 56.5, 58.1, 59.5, 60.3, 61.6, 64.4, 63.2, 61.4, 59.3, 58.7, 57.3, 52.9, 52.9, 48.7, 45.7, 44.3, 42.7], \"xaxis\": \"x\", \"y\": [97.5, 97.8, 97.8, 98.0, 97.3, 97.3, 97.5, 98.0, 98.0, 97.2, 97.8, 97.0, 96.4, 97.2, 96.0, 96.1, 96.5, 95.1, 95.8, 96.6, 95.5, 93.1, 92.6, 91.6, 90.3, 89.3, 87.8, 86.1, 84.9, 83.3, 81.9, 79.8, 77.6, 74.3, 69.9, 65.1, 60.8, 59.0, 56.0, 50.3, 49.1, 44.1, 40.7, 38.8, 37.0], \"yaxis\": \"y\"}, {\"customdata\": [[23.0, \"Germany\", 67.0, \"3/20/20\"], [17.0, \"Germany\", 84.0, \"3/21/20\"], [10.0, \"Germany\", 94.0, \"3/22/20\"], [29.0, \"Germany\", 123.0, \"3/23/20\"], [34.0, \"Germany\", 157.0, \"3/24/20\"], [49.0, \"Germany\", 206.0, \"3/25/20\"], [61.0, \"Germany\", 267.0, \"3/26/20\"], [75.0, \"Germany\", 342.0, \"3/27/20\"], [91.0, \"Germany\", 433.0, \"3/28/20\"], [100.0, \"Germany\", 533.0, \"3/29/20\"], [112.0, \"Germany\", 645.0, \"3/30/20\"], [130.0, \"Germany\", 775.0, \"3/31/20\"], [145.0, \"Germany\", 920.0, \"4/1/20\"], [187.0, \"Germany\", 1107.0, \"4/2/20\"], [168.0, \"Germany\", 1275.0, \"4/3/20\"], [169.0, \"Germany\", 1444.0, \"4/4/20\"], [140.0, \"Germany\", 1584.0, \"4/5/20\"], [226.0, \"Germany\", 1810.0, \"4/6/20\"], [206.0, \"Germany\", 2016.0, \"4/7/20\"], [333.0, \"Germany\", 2349.0, \"4/8/20\"], [258.0, \"Germany\", 2607.0, \"4/9/20\"], [160.0, \"Germany\", 2767.0, \"4/10/20\"], [-31.0, \"Germany\", 2736.0, \"4/11/20\"], [286.0, \"Germany\", 3022.0, \"4/12/20\"], [172.0, \"Germany\", 3194.0, \"4/13/20\"], [100.0, \"Germany\", 3294.0, \"4/14/20\"], [510.0, \"Germany\", 3804.0, \"4/15/20\"], [248.0, \"Germany\", 4052.0, \"4/16/20\"], [300.0, \"Germany\", 4352.0, \"4/17/20\"], [107.0, \"Germany\", 4459.0, \"4/18/20\"], [127.0, \"Germany\", 4586.0, \"4/19/20\"], [276.0, \"Germany\", 4862.0, \"4/20/20\"], [171.0, \"Germany\", 5033.0, \"4/21/20\"], [246.0, \"Germany\", 5279.0, \"4/22/20\"], [296.0, \"Germany\", 5575.0, \"4/23/20\"], [185.0, \"Germany\", 5760.0, \"4/24/20\"], [117.0, \"Germany\", 5877.0, \"4/25/20\"], [99.0, \"Germany\", 5976.0, \"4/26/20\"]], \"hoverlabel\": {\"namelength\": 0}, \"hovertemplate\": \"Country =%{customdata[1]}<br>Mean growth over 14d compared to max growth =%{x}<br>% cases from last 14d =%{y}<br>Deaths=%{customdata[2]}<br>Deaths today =%{customdata[0]}<br>Date=%{customdata[3]}\", \"legendgroup\": \"Germany\", \"marker\": {\"color\": \"#19d3f3\", \"size\": [67.0, 84.0, 94.0, 123.0, 157.0, 206.0, 267.0, 342.0, 433.0, 533.0, 645.0, 775.0, 920.0, 1107.0, 1275.0, 1444.0, 1584.0, 1810.0, 2016.0, 2349.0, 2607.0, 2767.0, 2736.0, 3022.0, 3194.0, 3294.0, 3804.0, 4052.0, 4352.0, 4459.0, 4586.0, 4862.0, 5033.0, 5279.0, 5575.0, 5760.0, 5877.0, 5976.0], \"sizemode\": \"area\", \"sizeref\": 137.2025, \"symbol\": \"circle\"}, \"mode\": \"lines+markers\", \"name\": \"Germany\", \"showlegend\": true, \"type\": \"scattergl\", \"x\": [1.4, 1.8, 2.0, 2.6, 3.3, 4.4, 5.7, 7.2, 9.1, 11.2, 13.5, 16.1, 19.1, 22.8, 25.9, 29.2, 32.0, 36.2, 39.9, 46.0, 50.2, 52.0, 49.4, 53.4, 54.7, 54.0, 61.9, 63.2, 66.0, 64.7, 64.4, 65.5, 64.7, 62.8, 63.7, 64.2, 67.4, 63.4], \"xaxis\": \"x\", \"y\": [100.0, 100.0, 100.0, 98.4, 98.7, 98.5, 98.9, 98.0, 97.9, 97.9, 97.4, 96.9, 97.0, 96.0, 94.7, 94.2, 94.1, 93.2, 92.2, 91.2, 89.8, 87.6, 84.2, 82.4, 79.8, 76.5, 75.8, 72.7, 70.7, 67.6, 65.5, 62.8, 59.9, 55.5, 53.2, 52.0, 53.4, 49.4], \"yaxis\": \"y\"}, {\"customdata\": [[23.0, \"India\", 58.0, \"4/1/20\"], [14.0, \"India\", 72.0, \"4/2/20\"], [0.0, \"India\", 72.0, \"4/3/20\"], [14.0, \"India\", 86.0, \"4/4/20\"], [13.0, \"India\", 99.0, \"4/5/20\"], [37.0, \"India\", 136.0, \"4/6/20\"], [14.0, \"India\", 150.0, \"4/7/20\"], [28.0, \"India\", 178.0, \"4/8/20\"], [48.0, \"India\", 226.0, \"4/9/20\"], [20.0, \"India\", 246.0, \"4/10/20\"], [42.0, \"India\", 288.0, \"4/11/20\"], [43.0, \"India\", 331.0, \"4/12/20\"], [27.0, \"India\", 358.0, \"4/13/20\"], [35.0, \"India\", 393.0, \"4/14/20\"], [12.0, \"India\", 405.0, \"4/15/20\"], [43.0, \"India\", 448.0, \"4/16/20\"], [38.0, \"India\", 486.0, \"4/17/20\"], [35.0, \"India\", 521.0, \"4/18/20\"], [38.0, \"India\", 559.0, \"4/19/20\"], [33.0, \"India\", 592.0, \"4/20/20\"], [53.0, \"India\", 645.0, \"4/21/20\"], [36.0, \"India\", 681.0, \"4/22/20\"], [40.0, \"India\", 721.0, \"4/23/20\"], [59.0, \"India\", 780.0, \"4/24/20\"], [45.0, \"India\", 825.0, \"4/25/20\"], [56.0, \"India\", 881.0, \"4/26/20\"]], \"hoverlabel\": {\"namelength\": 0}, \"hovertemplate\": \"Country =%{customdata[1]}<br>Mean growth over 14d compared to max growth =%{x}<br>% cases from last 14d =%{y}<br>Deaths=%{customdata[2]}<br>Deaths today =%{customdata[0]}<br>Date=%{customdata[3]}\", \"legendgroup\": \"India\", \"marker\": {\"color\": \"#FF6692\", \"size\": [58.0, 72.0, 72.0, 86.0, 99.0, 136.0, 150.0, 178.0, 226.0, 246.0, 288.0, 331.0, 358.0, 393.0, 405.0, 448.0, 486.0, 521.0, 559.0, 592.0, 645.0, 681.0, 721.0, 780.0, 825.0, 881.0], \"sizemode\": \"area\", \"sizeref\": 137.2025, \"symbol\": \"circle\"}, \"mode\": \"lines+markers\", \"name\": \"India\", \"showlegend\": true, \"type\": \"scattergl\", \"x\": [7.0, 8.7, 8.5, 10.5, 11.7, 16.1, 17.9, 21.2, 26.3, 28.8, 33.7, 38.8, 41.6, 45.7, 44.3, 48.0, 52.8, 55.5, 58.7, 58.2, 63.1, 64.2, 63.1, 68.1, 68.5, 70.2], \"xaxis\": \"x\", \"y\": [94.8, 94.4, 93.1, 95.3, 92.9, 92.6, 93.3, 93.3, 91.2, 91.9, 91.7, 91.8, 91.1, 91.1, 85.7, 83.9, 85.2, 83.5, 82.3, 77.0, 76.7, 73.9, 68.7, 68.5, 65.1, 62.4], \"yaxis\": \"y\"}, {\"customdata\": [[6.0, \"Indonesia\", 55.0, \"3/24/20\"], [3.0, \"Indonesia\", 58.0, \"3/25/20\"], [20.0, \"Indonesia\", 78.0, \"3/26/20\"], [9.0, \"Indonesia\", 87.0, \"3/27/20\"], [15.0, \"Indonesia\", 102.0, \"3/28/20\"], [12.0, \"Indonesia\", 114.0, \"3/29/20\"], [8.0, \"Indonesia\", 122.0, \"3/30/20\"], [14.0, \"Indonesia\", 136.0, \"3/31/20\"], [21.0, \"Indonesia\", 157.0, \"4/1/20\"], [13.0, \"Indonesia\", 170.0, \"4/2/20\"], [11.0, \"Indonesia\", 181.0, \"4/3/20\"], [10.0, \"Indonesia\", 191.0, \"4/4/20\"], [7.0, \"Indonesia\", 198.0, \"4/5/20\"], [11.0, \"Indonesia\", 209.0, \"4/6/20\"], [12.0, \"Indonesia\", 221.0, \"4/7/20\"], [19.0, \"Indonesia\", 240.0, \"4/8/20\"], [40.0, \"Indonesia\", 280.0, \"4/9/20\"], [26.0, \"Indonesia\", 306.0, \"4/10/20\"], [21.0, \"Indonesia\", 327.0, \"4/11/20\"], [46.0, \"Indonesia\", 373.0, \"4/12/20\"], [26.0, \"Indonesia\", 399.0, \"4/13/20\"], [60.0, \"Indonesia\", 459.0, \"4/14/20\"], [10.0, \"Indonesia\", 469.0, \"4/15/20\"], [27.0, \"Indonesia\", 496.0, \"4/16/20\"], [24.0, \"Indonesia\", 520.0, \"4/17/20\"], [15.0, \"Indonesia\", 535.0, \"4/18/20\"], [47.0, \"Indonesia\", 582.0, \"4/19/20\"], [8.0, \"Indonesia\", 590.0, \"4/20/20\"], [26.0, \"Indonesia\", 616.0, \"4/21/20\"], [19.0, \"Indonesia\", 635.0, \"4/22/20\"], [12.0, \"Indonesia\", 647.0, \"4/23/20\"], [42.0, \"Indonesia\", 689.0, \"4/24/20\"], [31.0, \"Indonesia\", 720.0, \"4/25/20\"], [23.0, \"Indonesia\", 743.0, \"4/26/20\"]], \"hoverlabel\": {\"namelength\": 0}, \"hovertemplate\": \"Country =%{customdata[1]}<br>Mean growth over 14d compared to max growth =%{x}<br>% cases from last 14d =%{y}<br>Deaths=%{customdata[2]}<br>Deaths today =%{customdata[0]}<br>Date=%{customdata[3]}\", \"legendgroup\": \"Indonesia\", \"marker\": {\"color\": \"#B6E880\", \"size\": [55.0, 58.0, 78.0, 87.0, 102.0, 114.0, 122.0, 136.0, 157.0, 170.0, 181.0, 191.0, 198.0, 209.0, 221.0, 240.0, 280.0, 306.0, 327.0, 373.0, 399.0, 459.0, 469.0, 496.0, 520.0, 535.0, 582.0, 590.0, 616.0, 635.0, 647.0, 689.0, 720.0, 743.0], \"sizemode\": \"area\", \"sizeref\": 137.2025, \"symbol\": \"circle\"}, \"mode\": \"lines+markers\", \"name\": \"Indonesia\", \"showlegend\": true, \"type\": \"scattergl\", \"x\": [8.4, 8.7, 11.7, 12.6, 14.7, 16.6, 17.8, 19.9, 21.0, 22.0, 22.6, 23.3, 22.8, 24.3, 25.2, 27.7, 30.7, 33.3, 34.2, 39.4, 42.1, 49.1, 47.4, 49.5, 51.5, 52.3, 58.4, 57.9, 60.0, 60.0, 55.8, 58.2, 59.7, 56.2], \"xaxis\": \"x\", \"y\": [100.0, 98.3, 98.7, 95.4, 95.1, 95.6, 95.9, 96.3, 87.9, 85.3, 82.3, 80.1, 75.8, 76.6, 75.1, 75.8, 72.1, 71.6, 68.8, 69.4, 69.4, 70.4, 66.5, 65.7, 65.2, 64.3, 66.0, 64.6, 64.1, 62.2, 56.7, 55.6, 54.6, 49.8], \"yaxis\": \"y\"}, {\"customdata\": [[11.0, \"Iran\", 54.0, \"3/1/20\"], [12.0, \"Iran\", 66.0, \"3/2/20\"], [11.0, \"Iran\", 77.0, \"3/3/20\"], [15.0, \"Iran\", 92.0, \"3/4/20\"], [15.0, \"Iran\", 107.0, \"3/5/20\"], [17.0, \"Iran\", 124.0, \"3/6/20\"], [21.0, \"Iran\", 145.0, \"3/7/20\"], [49.0, \"Iran\", 194.0, \"3/8/20\"], [43.0, \"Iran\", 237.0, \"3/9/20\"], [54.0, \"Iran\", 291.0, \"3/10/20\"], [63.0, \"Iran\", 354.0, \"3/11/20\"], [75.0, \"Iran\", 429.0, \"3/12/20\"], [85.0, \"Iran\", 514.0, \"3/13/20\"], [97.0, \"Iran\", 611.0, \"3/14/20\"], [113.0, \"Iran\", 724.0, \"3/15/20\"], [129.0, \"Iran\", 853.0, \"3/16/20\"], [135.0, \"Iran\", 988.0, \"3/17/20\"], [147.0, \"Iran\", 1135.0, \"3/18/20\"], [149.0, \"Iran\", 1284.0, \"3/19/20\"], [149.0, \"Iran\", 1433.0, \"3/20/20\"], [123.0, \"Iran\", 1556.0, \"3/21/20\"], [129.0, \"Iran\", 1685.0, \"3/22/20\"], [127.0, \"Iran\", 1812.0, \"3/23/20\"], [122.0, \"Iran\", 1934.0, \"3/24/20\"], [143.0, \"Iran\", 2077.0, \"3/25/20\"], [157.0, \"Iran\", 2234.0, \"3/26/20\"], [144.0, \"Iran\", 2378.0, \"3/27/20\"], [139.0, \"Iran\", 2517.0, \"3/28/20\"], [123.0, \"Iran\", 2640.0, \"3/29/20\"], [117.0, \"Iran\", 2757.0, \"3/30/20\"], [141.0, \"Iran\", 2898.0, \"3/31/20\"], [138.0, \"Iran\", 3036.0, \"4/1/20\"], [124.0, \"Iran\", 3160.0, \"4/2/20\"], [134.0, \"Iran\", 3294.0, \"4/3/20\"], [158.0, \"Iran\", 3452.0, \"4/4/20\"], [151.0, \"Iran\", 3603.0, \"4/5/20\"], [136.0, \"Iran\", 3739.0, \"4/6/20\"], [133.0, \"Iran\", 3872.0, \"4/7/20\"], [121.0, \"Iran\", 3993.0, \"4/8/20\"], [117.0, \"Iran\", 4110.0, \"4/9/20\"], [122.0, \"Iran\", 4232.0, \"4/10/20\"], [125.0, \"Iran\", 4357.0, \"4/11/20\"], [117.0, \"Iran\", 4474.0, \"4/12/20\"], [111.0, \"Iran\", 4585.0, \"4/13/20\"], [98.0, \"Iran\", 4683.0, \"4/14/20\"], [94.0, \"Iran\", 4777.0, \"4/15/20\"], [92.0, \"Iran\", 4869.0, \"4/16/20\"], [89.0, \"Iran\", 4958.0, \"4/17/20\"], [73.0, \"Iran\", 5031.0, \"4/18/20\"], [87.0, \"Iran\", 5118.0, \"4/19/20\"], [91.0, \"Iran\", 5209.0, \"4/20/20\"], [88.0, \"Iran\", 5297.0, \"4/21/20\"], [94.0, \"Iran\", 5391.0, \"4/22/20\"], [90.0, \"Iran\", 5481.0, \"4/23/20\"], [93.0, \"Iran\", 5574.0, \"4/24/20\"], [76.0, \"Iran\", 5650.0, \"4/25/20\"], [60.0, \"Iran\", 5710.0, \"4/26/20\"]], \"hoverlabel\": {\"namelength\": 0}, \"hovertemplate\": \"Country =%{customdata[1]}<br>Mean growth over 14d compared to max growth =%{x}<br>% cases from last 14d =%{y}<br>Deaths=%{customdata[2]}<br>Deaths today =%{customdata[0]}<br>Date=%{customdata[3]}\", \"legendgroup\": \"Iran\", \"marker\": {\"color\": \"#FF97FF\", \"size\": [54.0, 66.0, 77.0, 92.0, 107.0, 124.0, 145.0, 194.0, 237.0, 291.0, 354.0, 429.0, 514.0, 611.0, 724.0, 853.0, 988.0, 1135.0, 1284.0, 1433.0, 1556.0, 1685.0, 1812.0, 1934.0, 2077.0, 2234.0, 2378.0, 2517.0, 2640.0, 2757.0, 2898.0, 3036.0, 3160.0, 3294.0, 3452.0, 3603.0, 3739.0, 3872.0, 3993.0, 4110.0, 4232.0, 4357.0, 4474.0, 4585.0, 4683.0, 4777.0, 4869.0, 4958.0, 5031.0, 5118.0, 5209.0, 5297.0, 5391.0, 5481.0, 5574.0, 5650.0, 5710.0], \"sizemode\": \"area\", \"sizeref\": 137.2025, \"symbol\": \"circle\"}, \"mode\": \"lines+markers\", \"name\": \"Iran\", \"showlegend\": true, \"type\": \"scattergl\", \"x\": [2.5, 3.0, 3.5, 4.1, 4.8, 5.5, 6.4, 8.5, 10.2, 12.5, 15.2, 18.3, 21.8, 25.8, 30.5, 35.8, 41.4, 47.5, 53.5, 59.6, 64.2, 67.8, 71.7, 74.7, 78.4, 82.1, 84.8, 86.7, 87.2, 86.6, 86.9, 86.5, 85.4, 84.7, 86.3, 87.3, 87.7, 88.2, 87.2, 85.4, 84.3, 83.7, 83.4, 83.2, 81.2, 79.2, 77.8, 75.7, 71.8, 68.9, 66.9, 64.8, 63.6, 62.4, 61.1, 58.8, 56.2], \"xaxis\": \"x\", \"y\": [100.0, 100.0, 100.0, 97.8, 98.1, 96.8, 96.6, 95.9, 94.9, 94.5, 94.6, 93.9, 93.4, 93.0, 92.5, 92.3, 92.2, 91.9, 91.7, 91.3, 90.7, 88.5, 86.9, 85.0, 83.0, 80.8, 78.4, 75.7, 72.6, 69.1, 65.9, 62.6, 59.4, 56.5, 54.9, 53.2, 51.5, 50.1, 48.0, 45.6, 43.8, 42.2, 41.0, 39.9, 38.1, 36.4, 35.1, 33.6, 31.4, 29.6, 28.2, 26.9, 25.9, 25.0, 24.1, 22.9, 21.6], \"yaxis\": \"y\"}, {\"customdata\": [[8.0, \"Ireland\", 54.0, \"3/30/20\"], [17.0, \"Ireland\", 71.0, \"3/31/20\"], [14.0, \"Ireland\", 85.0, \"4/1/20\"], [13.0, \"Ireland\", 98.0, \"4/2/20\"], [22.0, \"Ireland\", 120.0, \"4/3/20\"], [17.0, \"Ireland\", 137.0, \"4/4/20\"], [21.0, \"Ireland\", 158.0, \"4/5/20\"], [16.0, \"Ireland\", 174.0, \"4/6/20\"], [36.0, \"Ireland\", 210.0, \"4/7/20\"], [25.0, \"Ireland\", 235.0, \"4/8/20\"], [28.0, \"Ireland\", 263.0, \"4/9/20\"], [24.0, \"Ireland\", 287.0, \"4/10/20\"], [33.0, \"Ireland\", 320.0, \"4/11/20\"], [14.0, \"Ireland\", 334.0, \"4/12/20\"], [31.0, \"Ireland\", 365.0, \"4/13/20\"], [41.0, \"Ireland\", 406.0, \"4/14/20\"], [38.0, \"Ireland\", 444.0, \"4/15/20\"], [42.0, \"Ireland\", 486.0, \"4/16/20\"], [44.0, \"Ireland\", 530.0, \"4/17/20\"], [41.0, \"Ireland\", 571.0, \"4/18/20\"], [39.0, \"Ireland\", 610.0, \"4/19/20\"], [77.0, \"Ireland\", 687.0, \"4/20/20\"], [43.0, \"Ireland\", 730.0, \"4/21/20\"], [39.0, \"Ireland\", 769.0, \"4/22/20\"], [25.0, \"Ireland\", 794.0, \"4/23/20\"], [220.0, \"Ireland\", 1014.0, \"4/24/20\"], [49.0, \"Ireland\", 1063.0, \"4/25/20\"], [24.0, \"Ireland\", 1087.0, \"4/26/20\"]], \"hoverlabel\": {\"namelength\": 0}, \"hovertemplate\": \"Country =%{customdata[1]}<br>Mean growth over 14d compared to max growth =%{x}<br>% cases from last 14d =%{y}<br>Deaths=%{customdata[2]}<br>Deaths today =%{customdata[0]}<br>Date=%{customdata[3]}\", \"legendgroup\": \"Ireland\", \"marker\": {\"color\": \"#FECB52\", \"size\": [54.0, 71.0, 85.0, 98.0, 120.0, 137.0, 158.0, 174.0, 210.0, 235.0, 263.0, 287.0, 320.0, 334.0, 365.0, 406.0, 444.0, 486.0, 530.0, 571.0, 610.0, 687.0, 730.0, 769.0, 794.0, 1014.0, 1063.0, 1087.0], \"sizemode\": \"area\", \"sizeref\": 137.2025, \"symbol\": \"circle\"}, \"mode\": \"lines+markers\", \"name\": \"Ireland\", \"showlegend\": true, \"type\": \"scattergl\", \"x\": [4.8, 6.4, 7.7, 8.8, 10.9, 12.4, 14.3, 15.6, 18.8, 21.0, 22.6, 24.6, 26.3, 26.7, 28.8, 31.1, 33.3, 36.0, 38.0, 40.3, 41.9, 47.6, 48.2, 49.5, 49.3, 67.4, 68.9, 69.9], \"xaxis\": \"x\", \"y\": [96.3, 97.2, 97.6, 96.9, 97.5, 97.8, 97.5, 96.6, 96.7, 96.2, 92.8, 92.3, 88.8, 86.2, 85.2, 82.5, 80.9, 79.8, 77.4, 76.0, 74.1, 74.7, 71.2, 69.4, 66.9, 71.7, 69.9, 69.3], \"yaxis\": \"y\"}, {\"customdata\": [[8.0, \"Israel\", 57.0, \"4/6/20\"], [8.0, \"Israel\", 65.0, \"4/7/20\"], [8.0, \"Israel\", 73.0, \"4/8/20\"], [13.0, \"Israel\", 86.0, \"4/9/20\"], [9.0, \"Israel\", 95.0, \"4/10/20\"], [6.0, \"Israel\", 101.0, \"4/11/20\"], [2.0, \"Israel\", 103.0, \"4/12/20\"], [13.0, \"Israel\", 116.0, \"4/13/20\"], [7.0, \"Israel\", 123.0, \"4/14/20\"], [7.0, \"Israel\", 130.0, \"4/15/20\"], [12.0, \"Israel\", 142.0, \"4/16/20\"], [9.0, \"Israel\", 151.0, \"4/17/20\"], [13.0, \"Israel\", 164.0, \"4/18/20\"], [8.0, \"Israel\", 172.0, \"4/19/20\"], [5.0, \"Israel\", 177.0, \"4/20/20\"], [7.0, \"Israel\", 184.0, \"4/21/20\"], [5.0, \"Israel\", 189.0, \"4/22/20\"], [3.0, \"Israel\", 192.0, \"4/23/20\"], [2.0, \"Israel\", 194.0, \"4/24/20\"], [5.0, \"Israel\", 199.0, \"4/25/20\"], [2.0, \"Israel\", 201.0, \"4/26/20\"]], \"hoverlabel\": {\"namelength\": 0}, \"hovertemplate\": \"Country =%{customdata[1]}<br>Mean growth over 14d compared to max growth =%{x}<br>% cases from last 14d =%{y}<br>Deaths=%{customdata[2]}<br>Deaths today =%{customdata[0]}<br>Date=%{customdata[3]}\", \"legendgroup\": \"Israel\", \"marker\": {\"color\": \"#636efa\", \"size\": [57.0, 65.0, 73.0, 86.0, 95.0, 101.0, 103.0, 116.0, 123.0, 130.0, 142.0, 151.0, 164.0, 172.0, 177.0, 184.0, 189.0, 192.0, 194.0, 199.0, 201.0], \"sizemode\": \"area\", \"sizeref\": 137.2025, \"symbol\": \"circle\"}, \"mode\": \"lines+markers\", \"name\": \"Israel\", \"showlegend\": true, \"type\": \"scattergl\", \"x\": [30.8, 34.1, 37.4, 42.9, 45.6, 48.9, 48.4, 54.9, 56.6, 57.1, 58.2, 61.0, 65.9, 67.6, 65.9, 65.4, 63.7, 58.2, 54.4, 53.8, 53.8], \"xaxis\": \"x\", \"y\": [98.2, 95.4, 93.2, 90.7, 87.4, 88.1, 85.4, 86.2, 83.7, 80.0, 74.6, 73.5, 73.2, 71.5, 67.8, 64.7, 61.4, 55.2, 51.0, 49.2, 48.8], \"yaxis\": \"y\"}, {\"customdata\": [[18.0, \"Italy\", 52.0, \"3/2/20\"], [27.0, \"Italy\", 79.0, \"3/3/20\"], [28.0, \"Italy\", 107.0, \"3/4/20\"], [41.0, \"Italy\", 148.0, \"3/5/20\"], [49.0, \"Italy\", 197.0, \"3/6/20\"], [36.0, \"Italy\", 233.0, \"3/7/20\"], [133.0, \"Italy\", 366.0, \"3/8/20\"], [97.0, \"Italy\", 463.0, \"3/9/20\"], [168.0, \"Italy\", 631.0, \"3/10/20\"], [196.0, \"Italy\", 827.0, \"3/11/20\"], [0.0, \"Italy\", 827.0, \"3/12/20\"], [439.0, \"Italy\", 1266.0, \"3/13/20\"], [175.0, \"Italy\", 1441.0, \"3/14/20\"], [368.0, \"Italy\", 1809.0, \"3/15/20\"], [349.0, \"Italy\", 2158.0, \"3/16/20\"], [345.0, \"Italy\", 2503.0, \"3/17/20\"], [475.0, \"Italy\", 2978.0, \"3/18/20\"], [427.0, \"Italy\", 3405.0, \"3/19/20\"], [627.0, \"Italy\", 4032.0, \"3/20/20\"], [793.0, \"Italy\", 4825.0, \"3/21/20\"], [651.0, \"Italy\", 5476.0, \"3/22/20\"], [601.0, \"Italy\", 6077.0, \"3/23/20\"], [743.0, \"Italy\", 6820.0, \"3/24/20\"], [683.0, \"Italy\", 7503.0, \"3/25/20\"], [712.0, \"Italy\", 8215.0, \"3/26/20\"], [919.0, \"Italy\", 9134.0, \"3/27/20\"], [889.0, \"Italy\", 10023.0, \"3/28/20\"], [756.0, \"Italy\", 10779.0, \"3/29/20\"], [812.0, \"Italy\", 11591.0, \"3/30/20\"], [837.0, \"Italy\", 12428.0, \"3/31/20\"], [727.0, \"Italy\", 13155.0, \"4/1/20\"], [760.0, \"Italy\", 13915.0, \"4/2/20\"], [766.0, \"Italy\", 14681.0, \"4/3/20\"], [681.0, \"Italy\", 15362.0, \"4/4/20\"], [525.0, \"Italy\", 15887.0, \"4/5/20\"], [636.0, \"Italy\", 16523.0, \"4/6/20\"], [604.0, \"Italy\", 17127.0, \"4/7/20\"], [542.0, \"Italy\", 17669.0, \"4/8/20\"], [610.0, \"Italy\", 18279.0, \"4/9/20\"], [570.0, \"Italy\", 18849.0, \"4/10/20\"], [619.0, \"Italy\", 19468.0, \"4/11/20\"], [431.0, \"Italy\", 19899.0, \"4/12/20\"], [566.0, \"Italy\", 20465.0, \"4/13/20\"], [602.0, \"Italy\", 21067.0, \"4/14/20\"], [578.0, \"Italy\", 21645.0, \"4/15/20\"], [525.0, \"Italy\", 22170.0, \"4/16/20\"], [575.0, \"Italy\", 22745.0, \"4/17/20\"], [482.0, \"Italy\", 23227.0, \"4/18/20\"], [433.0, \"Italy\", 23660.0, \"4/19/20\"], [454.0, \"Italy\", 24114.0, \"4/20/20\"], [534.0, \"Italy\", 24648.0, \"4/21/20\"], [437.0, \"Italy\", 25085.0, \"4/22/20\"], [464.0, \"Italy\", 25549.0, \"4/23/20\"], [420.0, \"Italy\", 25969.0, \"4/24/20\"], [415.0, \"Italy\", 26384.0, \"4/25/20\"], [260.0, \"Italy\", 26644.0, \"4/26/20\"]], \"hoverlabel\": {\"namelength\": 0}, \"hovertemplate\": \"Country =%{customdata[1]}<br>Mean growth over 14d compared to max growth =%{x}<br>% cases from last 14d =%{y}<br>Deaths=%{customdata[2]}<br>Deaths today =%{customdata[0]}<br>Date=%{customdata[3]}\", \"legendgroup\": \"Italy\", \"marker\": {\"color\": \"#EF553B\", \"size\": [52.0, 79.0, 107.0, 148.0, 197.0, 233.0, 366.0, 463.0, 631.0, 827.0, 827.0, 1266.0, 1441.0, 1809.0, 2158.0, 2503.0, 2978.0, 3405.0, 4032.0, 4825.0, 5476.0, 6077.0, 6820.0, 7503.0, 8215.0, 9134.0, 10023.0, 10779.0, 11591.0, 12428.0, 13155.0, 13915.0, 14681.0, 15362.0, 15887.0, 16523.0, 17127.0, 17669.0, 18279.0, 18849.0, 19468.0, 19899.0, 20465.0, 21067.0, 21645.0, 22170.0, 22745.0, 23227.0, 23660.0, 24114.0, 24648.0, 25085.0, 25549.0, 25969.0, 26384.0, 26644.0], \"sizemode\": \"area\", \"sizeref\": 137.2025, \"symbol\": \"circle\"}, \"mode\": \"lines+markers\", \"name\": \"Italy\", \"showlegend\": true, \"type\": \"scattergl\", \"x\": [0.4, 0.6, 0.9, 1.2, 1.6, 1.9, 2.9, 3.7, 5.0, 6.5, 6.5, 10.0, 11.3, 14.3, 16.9, 19.5, 23.1, 26.2, 30.8, 36.9, 41.1, 45.1, 49.7, 53.6, 59.4, 63.2, 69.0, 72.1, 75.8, 79.7, 81.8, 84.4, 85.6, 84.7, 83.6, 83.9, 82.8, 81.7, 80.9, 78.1, 75.9, 73.3, 71.3, 69.4, 68.2, 66.3, 64.8, 63.2, 62.5, 61.0, 60.4, 59.6, 58.4, 57.2, 55.6, 54.2], \"xaxis\": \"x\", \"y\": [100.0, 100.0, 100.0, 100.0, 99.5, 99.1, 99.2, 98.5, 98.4, 98.5, 97.9, 98.3, 98.0, 98.1, 97.6, 96.8, 96.4, 95.7, 95.1, 95.2, 93.3, 92.4, 90.7, 89.0, 89.9, 86.1, 85.6, 83.2, 81.4, 79.9, 77.4, 75.5, 72.5, 68.6, 65.5, 63.2, 60.2, 57.5, 55.1, 51.5, 48.5, 45.8, 43.4, 41.0, 39.2, 37.2, 35.5, 33.9, 32.9, 31.5, 30.5, 29.6, 28.5, 27.4, 26.2, 25.3], \"yaxis\": \"y\"}, {\"customdata\": [[3.0, \"Japan\", 52.0, \"3/28/20\"], [2.0, \"Japan\", 54.0, \"3/29/20\"], [0.0, \"Japan\", 54.0, \"3/30/20\"], [2.0, \"Japan\", 56.0, \"3/31/20\"], [1.0, \"Japan\", 57.0, \"4/1/20\"], [5.0, \"Japan\", 62.0, \"4/2/20\"], [1.0, \"Japan\", 63.0, \"4/3/20\"], [14.0, \"Japan\", 77.0, \"4/4/20\"], [0.0, \"Japan\", 77.0, \"4/5/20\"], [8.0, \"Japan\", 85.0, \"4/6/20\"], [7.0, \"Japan\", 92.0, \"4/7/20\"], [1.0, \"Japan\", 93.0, \"4/8/20\"], [1.0, \"Japan\", 94.0, \"4/9/20\"], [5.0, \"Japan\", 99.0, \"4/10/20\"], [0.0, \"Japan\", 99.0, \"4/11/20\"], [9.0, \"Japan\", 108.0, \"4/12/20\"], [15.0, \"Japan\", 123.0, \"4/13/20\"], [20.0, \"Japan\", 143.0, \"4/14/20\"], [3.0, \"Japan\", 146.0, \"4/15/20\"], [32.0, \"Japan\", 178.0, \"4/16/20\"], [12.0, \"Japan\", 190.0, \"4/17/20\"], [32.0, \"Japan\", 222.0, \"4/18/20\"], [14.0, \"Japan\", 236.0, \"4/19/20\"], [0.0, \"Japan\", 236.0, \"4/20/20\"], [27.0, \"Japan\", 263.0, \"4/21/20\"], [18.0, \"Japan\", 281.0, \"4/22/20\"], [47.0, \"Japan\", 328.0, \"4/23/20\"], [17.0, \"Japan\", 345.0, \"4/24/20\"], [15.0, \"Japan\", 360.0, \"4/25/20\"], [12.0, \"Japan\", 372.0, \"4/26/20\"]], \"hoverlabel\": {\"namelength\": 0}, \"hovertemplate\": \"Country =%{customdata[1]}<br>Mean growth over 14d compared to max growth =%{x}<br>% cases from last 14d =%{y}<br>Deaths=%{customdata[2]}<br>Deaths today =%{customdata[0]}<br>Date=%{customdata[3]}\", \"legendgroup\": \"Japan\", \"marker\": {\"color\": \"#00cc96\", \"size\": [52.0, 54.0, 54.0, 56.0, 57.0, 62.0, 63.0, 77.0, 77.0, 85.0, 92.0, 93.0, 94.0, 99.0, 99.0, 108.0, 123.0, 143.0, 146.0, 178.0, 190.0, 222.0, 236.0, 236.0, 263.0, 281.0, 328.0, 345.0, 360.0, 372.0], \"sizemode\": \"area\", \"sizeref\": 137.2025, \"symbol\": \"circle\"}, \"mode\": \"lines+markers\", \"name\": \"Japan\", \"showlegend\": true, \"type\": \"scattergl\", \"x\": [6.7, 7.1, 6.0, 6.0, 6.2, 7.4, 6.7, 9.4, 8.0, 9.6, 10.9, 10.7, 10.5, 11.2, 10.5, 12.1, 15.4, 19.4, 19.9, 25.9, 28.3, 32.4, 35.5, 33.7, 38.2, 42.0, 52.2, 54.9, 58.3, 58.9], \"xaxis\": \"x\", \"y\": [57.7, 59.3, 50.0, 48.2, 49.1, 53.2, 47.6, 54.5, 46.8, 50.6, 53.3, 51.6, 50.0, 50.5, 47.5, 50.0, 56.1, 60.8, 61.0, 65.2, 66.8, 65.3, 67.4, 64.0, 65.0, 66.9, 71.3, 71.3, 72.5, 71.0], \"yaxis\": \"y\"}, {\"customdata\": [[6.0, \"Korea, South\", 50.0, \"3/8/20\"], [3.0, \"Korea, South\", 53.0, \"3/9/20\"], [1.0, \"Korea, South\", 54.0, \"3/10/20\"], [6.0, \"Korea, South\", 60.0, \"3/11/20\"], [6.0, \"Korea, South\", 66.0, \"3/12/20\"], [0.0, \"Korea, South\", 66.0, \"3/13/20\"], [6.0, \"Korea, South\", 72.0, \"3/14/20\"], [3.0, \"Korea, South\", 75.0, \"3/15/20\"], [0.0, \"Korea, South\", 75.0, \"3/16/20\"], [6.0, \"Korea, South\", 81.0, \"3/17/20\"], [3.0, \"Korea, South\", 84.0, \"3/18/20\"], [7.0, \"Korea, South\", 91.0, \"3/19/20\"], [3.0, \"Korea, South\", 94.0, \"3/20/20\"], [8.0, \"Korea, South\", 102.0, \"3/21/20\"], [9.0, \"Korea, South\", 111.0, \"3/22/20\"], [0.0, \"Korea, South\", 111.0, \"3/23/20\"], [9.0, \"Korea, South\", 120.0, \"3/24/20\"], [6.0, \"Korea, South\", 126.0, \"3/25/20\"], [5.0, \"Korea, South\", 131.0, \"3/26/20\"], [8.0, \"Korea, South\", 139.0, \"3/27/20\"], [5.0, \"Korea, South\", 144.0, \"3/28/20\"], [8.0, \"Korea, South\", 152.0, \"3/29/20\"], [6.0, \"Korea, South\", 158.0, \"3/30/20\"], [4.0, \"Korea, South\", 162.0, \"3/31/20\"], [3.0, \"Korea, South\", 165.0, \"4/1/20\"], [4.0, \"Korea, South\", 169.0, \"4/2/20\"], [5.0, \"Korea, South\", 174.0, \"4/3/20\"], [3.0, \"Korea, South\", 177.0, \"4/4/20\"], [6.0, \"Korea, South\", 183.0, \"4/5/20\"], [3.0, \"Korea, South\", 186.0, \"4/6/20\"], [6.0, \"Korea, South\", 192.0, \"4/7/20\"], [8.0, \"Korea, South\", 200.0, \"4/8/20\"], [4.0, \"Korea, South\", 204.0, \"4/9/20\"], [4.0, \"Korea, South\", 208.0, \"4/10/20\"], [3.0, \"Korea, South\", 211.0, \"4/11/20\"], [3.0, \"Korea, South\", 214.0, \"4/12/20\"], [3.0, \"Korea, South\", 217.0, \"4/13/20\"], [5.0, \"Korea, South\", 222.0, \"4/14/20\"], [3.0, \"Korea, South\", 225.0, \"4/15/20\"], [4.0, \"Korea, South\", 229.0, \"4/16/20\"], [1.0, \"Korea, South\", 230.0, \"4/17/20\"], [2.0, \"Korea, South\", 232.0, \"4/18/20\"], [2.0, \"Korea, South\", 234.0, \"4/19/20\"], [2.0, \"Korea, South\", 236.0, \"4/20/20\"], [1.0, \"Korea, South\", 237.0, \"4/21/20\"], [1.0, \"Korea, South\", 238.0, \"4/22/20\"], [2.0, \"Korea, South\", 240.0, \"4/23/20\"], [0.0, \"Korea, South\", 240.0, \"4/24/20\"], [2.0, \"Korea, South\", 242.0, \"4/25/20\"], [1.0, \"Korea, South\", 243.0, \"4/26/20\"]], \"hoverlabel\": {\"namelength\": 0}, \"hovertemplate\": \"Country =%{customdata[1]}<br>Mean growth over 14d compared to max growth =%{x}<br>% cases from last 14d =%{y}<br>Deaths=%{customdata[2]}<br>Deaths today =%{customdata[0]}<br>Date=%{customdata[3]}\", \"legendgroup\": \"Korea, South\", \"marker\": {\"color\": \"#ab63fa\", \"size\": [50.0, 53.0, 54.0, 60.0, 66.0, 66.0, 72.0, 75.0, 75.0, 81.0, 84.0, 91.0, 94.0, 102.0, 111.0, 111.0, 120.0, 126.0, 131.0, 139.0, 144.0, 152.0, 158.0, 162.0, 165.0, 169.0, 174.0, 177.0, 183.0, 186.0, 192.0, 200.0, 204.0, 208.0, 211.0, 214.0, 217.0, 222.0, 225.0, 229.0, 230.0, 232.0, 234.0, 236.0, 237.0, 238.0, 240.0, 240.0, 242.0, 243.0], \"sizemode\": \"area\", \"sizeref\": 137.2025, \"symbol\": \"circle\"}, \"mode\": \"lines+markers\", \"name\": \"Korea, South\", \"showlegend\": true, \"type\": \"scattergl\", \"x\": [34.9, 35.7, 34.9, 38.1, 42.1, 42.1, 44.4, 46.0, 37.3, 42.1, 38.9, 44.4, 41.3, 46.0, 48.4, 46.0, 52.4, 52.4, 51.6, 57.9, 57.1, 61.1, 65.9, 64.3, 64.3, 61.9, 63.5, 59.5, 57.1, 59.5, 57.1, 58.7, 57.9, 54.8, 53.2, 49.2, 46.8, 47.6, 47.6, 47.6, 44.4, 43.7, 40.5, 39.7, 35.7, 30.2, 28.6, 25.4, 24.6, 23.0], \"xaxis\": \"x\", \"y\": [88.0, 84.9, 81.5, 80.0, 80.3, 80.3, 77.8, 77.3, 62.7, 65.4, 58.3, 61.5, 55.3, 56.9, 55.0, 52.3, 55.0, 52.4, 49.6, 52.5, 50.0, 50.7, 52.5, 50.0, 49.1, 46.2, 46.0, 42.4, 39.3, 40.3, 37.5, 37.0, 35.8, 33.2, 31.8, 29.0, 27.2, 27.0, 26.7, 26.2, 24.3, 23.7, 21.8, 21.2, 19.0, 16.0, 15.0, 13.3, 12.8, 11.9], \"yaxis\": \"y\"}, {\"customdata\": [[5.0, \"Malaysia\", 50.0, \"4/2/20\"], [3.0, \"Malaysia\", 53.0, \"4/3/20\"], [4.0, \"Malaysia\", 57.0, \"4/4/20\"], [4.0, \"Malaysia\", 61.0, \"4/5/20\"], [1.0, \"Malaysia\", 62.0, \"4/6/20\"], [1.0, \"Malaysia\", 63.0, \"4/7/20\"], [2.0, \"Malaysia\", 65.0, \"4/8/20\"], [2.0, \"Malaysia\", 67.0, \"4/9/20\"], [3.0, \"Malaysia\", 70.0, \"4/10/20\"], [3.0, \"Malaysia\", 73.0, \"4/11/20\"], [3.0, \"Malaysia\", 76.0, \"4/12/20\"], [1.0, \"Malaysia\", 77.0, \"4/13/20\"], [5.0, \"Malaysia\", 82.0, \"4/14/20\"], [1.0, \"Malaysia\", 83.0, \"4/15/20\"], [1.0, \"Malaysia\", 84.0, \"4/16/20\"], [2.0, \"Malaysia\", 86.0, \"4/17/20\"], [2.0, \"Malaysia\", 88.0, \"4/18/20\"], [1.0, \"Malaysia\", 89.0, \"4/19/20\"], [0.0, \"Malaysia\", 89.0, \"4/20/20\"], [3.0, \"Malaysia\", 92.0, \"4/21/20\"], [1.0, \"Malaysia\", 93.0, \"4/22/20\"], [2.0, \"Malaysia\", 95.0, \"4/23/20\"], [1.0, \"Malaysia\", 96.0, \"4/24/20\"], [2.0, \"Malaysia\", 98.0, \"4/25/20\"], [0.0, \"Malaysia\", 98.0, \"4/26/20\"]], \"hoverlabel\": {\"namelength\": 0}, \"hovertemplate\": \"Country =%{customdata[1]}<br>Mean growth over 14d compared to max growth =%{x}<br>% cases from last 14d =%{y}<br>Deaths=%{customdata[2]}<br>Deaths today =%{customdata[0]}<br>Date=%{customdata[3]}\", \"legendgroup\": \"Malaysia\", \"marker\": {\"color\": \"#FFA15A\", \"size\": [50.0, 53.0, 57.0, 61.0, 62.0, 63.0, 65.0, 67.0, 70.0, 73.0, 76.0, 77.0, 82.0, 83.0, 84.0, 86.0, 88.0, 89.0, 89.0, 92.0, 93.0, 95.0, 96.0, 98.0, 98.0], \"sizemode\": \"area\", \"sizeref\": 137.2025, \"symbol\": \"circle\"}, \"mode\": \"lines+markers\", \"name\": \"Malaysia\", \"showlegend\": true, \"type\": \"scattergl\", \"x\": [57.1, 59.5, 63.1, 60.7, 57.1, 56.0, 53.6, 52.4, 52.4, 54.8, 48.8, 47.6, 46.4, 45.2, 40.5, 39.3, 36.9, 33.3, 32.1, 34.5, 33.3, 33.3, 31.0, 29.8, 26.2], \"xaxis\": \"x\", \"y\": [96.0, 94.3, 93.0, 83.6, 77.4, 74.6, 69.2, 65.7, 62.9, 63.0, 53.9, 51.9, 47.6, 45.8, 40.5, 38.4, 35.2, 31.5, 30.3, 31.5, 30.1, 29.5, 27.1, 25.5, 22.4], \"yaxis\": \"y\"}, {\"customdata\": [[13.0, \"Mexico\", 50.0, \"4/3/20\"], [10.0, \"Mexico\", 60.0, \"4/4/20\"], [19.0, \"Mexico\", 79.0, \"4/5/20\"], [15.0, \"Mexico\", 94.0, \"4/6/20\"], [31.0, \"Mexico\", 125.0, \"4/7/20\"], [16.0, \"Mexico\", 141.0, \"4/8/20\"], [33.0, \"Mexico\", 174.0, \"4/9/20\"], [20.0, \"Mexico\", 194.0, \"4/10/20\"], [39.0, \"Mexico\", 233.0, \"4/11/20\"], [40.0, \"Mexico\", 273.0, \"4/12/20\"], [23.0, \"Mexico\", 296.0, \"4/13/20\"], [36.0, \"Mexico\", 332.0, \"4/14/20\"], [74.0, \"Mexico\", 406.0, \"4/15/20\"], [43.0, \"Mexico\", 449.0, \"4/16/20\"], [37.0, \"Mexico\", 486.0, \"4/17/20\"], [60.0, \"Mexico\", 546.0, \"4/18/20\"], [104.0, \"Mexico\", 650.0, \"4/19/20\"], [36.0, \"Mexico\", 686.0, \"4/20/20\"], [26.0, \"Mexico\", 712.0, \"4/21/20\"], [145.0, \"Mexico\", 857.0, \"4/22/20\"], [212.0, \"Mexico\", 1069.0, \"4/23/20\"], [0.0, \"Mexico\", 1069.0, \"4/24/20\"], [236.0, \"Mexico\", 1305.0, \"4/25/20\"], [46.0, \"Mexico\", 1351.0, \"4/26/20\"]], \"hoverlabel\": {\"namelength\": 0}, \"hovertemplate\": \"Country =%{customdata[1]}<br>Mean growth over 14d compared to max growth =%{x}<br>% cases from last 14d =%{y}<br>Deaths=%{customdata[2]}<br>Deaths today =%{customdata[0]}<br>Date=%{customdata[3]}\", \"legendgroup\": \"Mexico\", \"marker\": {\"color\": \"#19d3f3\", \"size\": [50.0, 60.0, 79.0, 94.0, 125.0, 141.0, 174.0, 194.0, 233.0, 273.0, 296.0, 332.0, 406.0, 449.0, 486.0, 546.0, 650.0, 686.0, 712.0, 857.0, 1069.0, 1069.0, 1305.0, 1351.0], \"sizemode\": \"area\", \"sizeref\": 137.2025, \"symbol\": \"circle\"}, \"mode\": \"lines+markers\", \"name\": \"Mexico\", \"showlegend\": true, \"type\": \"scattergl\", \"x\": [1.7, 2.0, 2.6, 3.1, 4.1, 4.6, 5.7, 6.3, 7.4, 8.7, 9.3, 10.2, 12.7, 13.9, 14.7, 16.4, 19.2, 19.9, 19.8, 24.1, 30.2, 29.5, 36.1, 36.3], \"xaxis\": \"x\", \"y\": [98.0, 96.7, 97.5, 96.8, 96.8, 96.5, 96.6, 95.9, 94.8, 94.1, 93.2, 91.6, 92.9, 91.8, 89.7, 89.0, 87.8, 86.3, 82.4, 83.5, 83.7, 81.9, 82.1, 79.8], \"yaxis\": \"y\"}, {\"customdata\": [[15.0, \"Netherlands\", 58.0, \"3/18/20\"], [19.0, \"Netherlands\", 77.0, \"3/19/20\"], [30.0, \"Netherlands\", 107.0, \"3/20/20\"], [30.0, \"Netherlands\", 137.0, \"3/21/20\"], [43.0, \"Netherlands\", 180.0, \"3/22/20\"], [34.0, \"Netherlands\", 214.0, \"3/23/20\"], [63.0, \"Netherlands\", 277.0, \"3/24/20\"], [80.0, \"Netherlands\", 357.0, \"3/25/20\"], [78.0, \"Netherlands\", 435.0, \"3/26/20\"], [112.0, \"Netherlands\", 547.0, \"3/27/20\"], [93.0, \"Netherlands\", 640.0, \"3/28/20\"], [132.0, \"Netherlands\", 772.0, \"3/29/20\"], [93.0, \"Netherlands\", 865.0, \"3/30/20\"], [175.0, \"Netherlands\", 1040.0, \"3/31/20\"], [135.0, \"Netherlands\", 1175.0, \"4/1/20\"], [166.0, \"Netherlands\", 1341.0, \"4/2/20\"], [149.0, \"Netherlands\", 1490.0, \"4/3/20\"], [166.0, \"Netherlands\", 1656.0, \"4/4/20\"], [115.0, \"Netherlands\", 1771.0, \"4/5/20\"], [103.0, \"Netherlands\", 1874.0, \"4/6/20\"], [234.0, \"Netherlands\", 2108.0, \"4/7/20\"], [147.0, \"Netherlands\", 2255.0, \"4/8/20\"], [148.0, \"Netherlands\", 2403.0, \"4/9/20\"], [117.0, \"Netherlands\", 2520.0, \"4/10/20\"], [133.0, \"Netherlands\", 2653.0, \"4/11/20\"], [94.0, \"Netherlands\", 2747.0, \"4/12/20\"], [86.0, \"Netherlands\", 2833.0, \"4/13/20\"], [122.0, \"Netherlands\", 2955.0, \"4/14/20\"], [190.0, \"Netherlands\", 3145.0, \"4/15/20\"], [182.0, \"Netherlands\", 3327.0, \"4/16/20\"], [144.0, \"Netherlands\", 3471.0, \"4/17/20\"], [142.0, \"Netherlands\", 3613.0, \"4/18/20\"], [84.0, \"Netherlands\", 3697.0, \"4/19/20\"], [67.0, \"Netherlands\", 3764.0, \"4/20/20\"], [165.0, \"Netherlands\", 3929.0, \"4/21/20\"], [139.0, \"Netherlands\", 4068.0, \"4/22/20\"], [124.0, \"Netherlands\", 4192.0, \"4/23/20\"], [112.0, \"Netherlands\", 4304.0, \"4/24/20\"], [120.0, \"Netherlands\", 4424.0, \"4/25/20\"], [67.0, \"Netherlands\", 4491.0, \"4/26/20\"]], \"hoverlabel\": {\"namelength\": 0}, \"hovertemplate\": \"Country =%{customdata[1]}<br>Mean growth over 14d compared to max growth =%{x}<br>% cases from last 14d =%{y}<br>Deaths=%{customdata[2]}<br>Deaths today =%{customdata[0]}<br>Date=%{customdata[3]}\", \"legendgroup\": \"Netherlands\", \"marker\": {\"color\": \"#FF6692\", \"size\": [58.0, 77.0, 107.0, 137.0, 180.0, 214.0, 277.0, 357.0, 435.0, 547.0, 640.0, 772.0, 865.0, 1040.0, 1175.0, 1341.0, 1490.0, 1656.0, 1771.0, 1874.0, 2108.0, 2255.0, 2403.0, 2520.0, 2653.0, 2747.0, 2833.0, 2955.0, 3145.0, 3327.0, 3471.0, 3613.0, 3697.0, 3764.0, 3929.0, 4068.0, 4192.0, 4304.0, 4424.0, 4491.0], \"sizemode\": \"area\", \"sizeref\": 137.2025, \"symbol\": \"circle\"}, \"mode\": \"lines+markers\", \"name\": \"Netherlands\", \"showlegend\": true, \"type\": \"scattergl\", \"x\": [2.2, 2.9, 4.0, 5.1, 6.7, 7.9, 10.3, 13.2, 16.2, 20.2, 23.6, 28.3, 31.6, 37.5, 42.0, 47.5, 52.0, 57.1, 59.8, 62.4, 68.8, 71.4, 74.0, 74.2, 75.7, 74.2, 74.0, 72.0, 74.1, 74.7, 74.5, 73.6, 72.4, 71.1, 68.5, 68.2, 67.3, 67.1, 66.6, 65.6], \"xaxis\": \"x\", \"y\": [100.0, 100.0, 99.1, 99.3, 98.3, 98.6, 98.6, 98.6, 98.9, 98.2, 98.1, 97.4, 97.2, 95.9, 95.1, 94.3, 92.8, 91.7, 89.8, 88.6, 86.9, 84.2, 81.9, 78.3, 75.9, 71.9, 69.5, 64.8, 62.6, 59.7, 57.1, 54.2, 52.1, 50.2, 46.3, 44.6, 42.7, 41.4, 40.0, 38.8], \"yaxis\": \"y\"}, {\"customdata\": [[6.0, \"Norway\", 50.0, \"4/2/20\"], [9.0, \"Norway\", 59.0, \"4/3/20\"], [3.0, \"Norway\", 62.0, \"4/4/20\"], [9.0, \"Norway\", 71.0, \"4/5/20\"], [5.0, \"Norway\", 76.0, \"4/6/20\"], [13.0, \"Norway\", 89.0, \"4/7/20\"], [12.0, \"Norway\", 101.0, \"4/8/20\"], [7.0, \"Norway\", 108.0, \"4/9/20\"], [5.0, \"Norway\", 113.0, \"4/10/20\"], [6.0, \"Norway\", 119.0, \"4/11/20\"], [9.0, \"Norway\", 128.0, \"4/12/20\"], [6.0, \"Norway\", 134.0, \"4/13/20\"], [5.0, \"Norway\", 139.0, \"4/14/20\"], [11.0, \"Norway\", 150.0, \"4/15/20\"], [2.0, \"Norway\", 152.0, \"4/16/20\"], [9.0, \"Norway\", 161.0, \"4/17/20\"], [3.0, \"Norway\", 164.0, \"4/18/20\"], [1.0, \"Norway\", 165.0, \"4/19/20\"], [16.0, \"Norway\", 181.0, \"4/20/20\"], [1.0, \"Norway\", 182.0, \"4/21/20\"], [5.0, \"Norway\", 187.0, \"4/22/20\"], [7.0, \"Norway\", 194.0, \"4/23/20\"], [5.0, \"Norway\", 199.0, \"4/24/20\"], [2.0, \"Norway\", 201.0, \"4/25/20\"], [0.0, \"Norway\", 201.0, \"4/26/20\"]], \"hoverlabel\": {\"namelength\": 0}, \"hovertemplate\": \"Country =%{customdata[1]}<br>Mean growth over 14d compared to max growth =%{x}<br>% cases from last 14d =%{y}<br>Deaths=%{customdata[2]}<br>Deaths today =%{customdata[0]}<br>Date=%{customdata[3]}\", \"legendgroup\": \"Norway\", \"marker\": {\"color\": \"#B6E880\", \"size\": [50.0, 59.0, 62.0, 71.0, 76.0, 89.0, 101.0, 108.0, 113.0, 119.0, 128.0, 134.0, 139.0, 150.0, 152.0, 161.0, 164.0, 165.0, 181.0, 182.0, 187.0, 194.0, 199.0, 201.0, 201.0], \"sizemode\": \"area\", \"sizeref\": 137.2025, \"symbol\": \"circle\"}, \"mode\": \"lines+markers\", \"name\": \"Norway\", \"showlegend\": true, \"type\": \"scattergl\", \"x\": [23.6, 28.6, 30.2, 35.2, 36.3, 42.3, 47.8, 51.6, 51.6, 52.7, 56.6, 56.0, 54.9, 58.2, 56.0, 56.0, 56.0, 51.6, 57.7, 51.1, 47.3, 47.3, 47.3, 45.1, 40.1], \"xaxis\": \"x\", \"y\": [86.0, 88.1, 88.7, 90.1, 86.8, 86.5, 86.1, 87.0, 83.2, 80.7, 80.5, 76.1, 71.9, 70.7, 67.1, 63.4, 62.2, 57.0, 58.0, 51.1, 46.0, 44.3, 43.2, 40.8, 36.3], \"yaxis\": \"y\"}, {\"customdata\": [[6.0, \"Pakistan\", 53.0, \"4/6/20\"], [4.0, \"Pakistan\", 57.0, \"4/7/20\"], [4.0, \"Pakistan\", 61.0, \"4/8/20\"], [4.0, \"Pakistan\", 65.0, \"4/9/20\"], [1.0, \"Pakistan\", 66.0, \"4/10/20\"], [20.0, \"Pakistan\", 86.0, \"4/11/20\"], [5.0, \"Pakistan\", 91.0, \"4/12/20\"], [2.0, \"Pakistan\", 93.0, \"4/13/20\"], [3.0, \"Pakistan\", 96.0, \"4/14/20\"], [15.0, \"Pakistan\", 111.0, \"4/15/20\"], [17.0, \"Pakistan\", 128.0, \"4/16/20\"], [7.0, \"Pakistan\", 135.0, \"4/17/20\"], [8.0, \"Pakistan\", 143.0, \"4/18/20\"], [25.0, \"Pakistan\", 168.0, \"4/19/20\"], [8.0, \"Pakistan\", 176.0, \"4/20/20\"], [25.0, \"Pakistan\", 201.0, \"4/21/20\"], [11.0, \"Pakistan\", 212.0, \"4/22/20\"], [25.0, \"Pakistan\", 237.0, \"4/23/20\"], [16.0, \"Pakistan\", 253.0, \"4/24/20\"], [16.0, \"Pakistan\", 269.0, \"4/25/20\"], [12.0, \"Pakistan\", 281.0, \"4/26/20\"]], \"hoverlabel\": {\"namelength\": 0}, \"hovertemplate\": \"Country =%{customdata[1]}<br>Mean growth over 14d compared to max growth =%{x}<br>% cases from last 14d =%{y}<br>Deaths=%{customdata[2]}<br>Deaths today =%{customdata[0]}<br>Date=%{customdata[3]}\", \"legendgroup\": \"Pakistan\", \"marker\": {\"color\": \"#FF97FF\", \"size\": [53.0, 57.0, 61.0, 65.0, 66.0, 86.0, 91.0, 93.0, 96.0, 111.0, 128.0, 135.0, 143.0, 168.0, 176.0, 201.0, 212.0, 237.0, 253.0, 269.0, 281.0], \"sizemode\": \"area\", \"sizeref\": 137.2025, \"symbol\": \"circle\"}, \"mode\": \"lines+markers\", \"name\": \"Pakistan\", \"showlegend\": true, \"type\": \"scattergl\", \"x\": [13.4, 14.3, 15.1, 16.0, 15.7, 21.1, 22.0, 20.6, 20.0, 24.0, 26.9, 27.1, 29.1, 34.6, 35.1, 41.1, 43.1, 49.1, 53.4, 52.3, 54.3], \"xaxis\": \"x\", \"y\": [88.7, 87.7, 86.9, 86.2, 83.3, 86.0, 84.6, 77.4, 72.9, 75.7, 73.4, 70.4, 71.3, 72.0, 69.9, 71.6, 71.2, 72.6, 73.9, 68.0, 67.6], \"yaxis\": \"y\"}, {\"customdata\": [[8.0, \"Panama\", 54.0, \"4/6/20\"], [1.0, \"Panama\", 55.0, \"4/7/20\"], [4.0, \"Panama\", 59.0, \"4/8/20\"], [4.0, \"Panama\", 63.0, \"4/9/20\"], [3.0, \"Panama\", 66.0, \"4/10/20\"], [8.0, \"Panama\", 74.0, \"4/11/20\"], [5.0, \"Panama\", 79.0, \"4/12/20\"], [8.0, \"Panama\", 87.0, \"4/13/20\"], [7.0, \"Panama\", 94.0, \"4/14/20\"], [1.0, \"Panama\", 95.0, \"4/15/20\"], [8.0, \"Panama\", 103.0, \"4/16/20\"], [6.0, \"Panama\", 109.0, \"4/17/20\"], [7.0, \"Panama\", 116.0, \"4/18/20\"], [4.0, \"Panama\", 120.0, \"4/19/20\"], [6.0, \"Panama\", 126.0, \"4/20/20\"], [10.0, \"Panama\", 136.0, \"4/21/20\"], [5.0, \"Panama\", 141.0, \"4/22/20\"], [5.0, \"Panama\", 146.0, \"4/23/20\"], [8.0, \"Panama\", 154.0, \"4/24/20\"], [5.0, \"Panama\", 159.0, \"4/25/20\"], [6.0, \"Panama\", 165.0, \"4/26/20\"]], \"hoverlabel\": {\"namelength\": 0}, \"hovertemplate\": \"Country =%{customdata[1]}<br>Mean growth over 14d compared to max growth =%{x}<br>% cases from last 14d =%{y}<br>Deaths=%{customdata[2]}<br>Deaths today =%{customdata[0]}<br>Date=%{customdata[3]}\", \"legendgroup\": \"Panama\", \"marker\": {\"color\": \"#FECB52\", \"size\": [54.0, 55.0, 59.0, 63.0, 66.0, 74.0, 79.0, 87.0, 94.0, 95.0, 103.0, 109.0, 116.0, 120.0, 126.0, 136.0, 141.0, 146.0, 154.0, 159.0, 165.0], \"sizemode\": \"area\", \"sizeref\": 137.2025, \"symbol\": \"circle\"}, \"mode\": \"lines+markers\", \"name\": \"Panama\", \"showlegend\": true, \"type\": \"scattergl\", \"x\": [42.9, 43.8, 45.5, 49.1, 50.9, 53.6, 55.4, 56.2, 57.1, 58.0, 63.4, 64.3, 67.0, 66.1, 64.3, 72.3, 73.2, 74.1, 78.6, 75.9, 76.8], \"xaxis\": \"x\", \"y\": [88.9, 89.1, 86.4, 87.3, 86.4, 81.1, 78.5, 72.4, 68.1, 68.4, 68.9, 66.1, 64.7, 61.7, 57.1, 59.6, 58.2, 56.8, 57.1, 53.5, 52.1], \"yaxis\": \"y\"}, {\"customdata\": [[17.0, \"Peru\", 55.0, \"4/2/20\"], [6.0, \"Peru\", 61.0, \"4/3/20\"], [12.0, \"Peru\", 73.0, \"4/4/20\"], [10.0, \"Peru\", 83.0, \"4/5/20\"], [9.0, \"Peru\", 92.0, \"4/6/20\"], [15.0, \"Peru\", 107.0, \"4/7/20\"], [14.0, \"Peru\", 121.0, \"4/8/20\"], [17.0, \"Peru\", 138.0, \"4/9/20\"], [31.0, \"Peru\", 169.0, \"4/10/20\"], [12.0, \"Peru\", 181.0, \"4/11/20\"], [12.0, \"Peru\", 193.0, \"4/12/20\"], [23.0, \"Peru\", 216.0, \"4/13/20\"], [14.0, \"Peru\", 230.0, \"4/14/20\"], [24.0, \"Peru\", 254.0, \"4/15/20\"], [20.0, \"Peru\", 274.0, \"4/16/20\"], [26.0, \"Peru\", 300.0, \"4/17/20\"], [48.0, \"Peru\", 348.0, \"4/18/20\"], [52.0, \"Peru\", 400.0, \"4/19/20\"], [45.0, \"Peru\", 445.0, \"4/20/20\"], [39.0, \"Peru\", 484.0, \"4/21/20\"], [46.0, \"Peru\", 530.0, \"4/22/20\"], [42.0, \"Peru\", 572.0, \"4/23/20\"], [62.0, \"Peru\", 634.0, \"4/24/20\"], [66.0, \"Peru\", 700.0, \"4/25/20\"], [28.0, \"Peru\", 728.0, \"4/26/20\"]], \"hoverlabel\": {\"namelength\": 0}, \"hovertemplate\": \"Country =%{customdata[1]}<br>Mean growth over 14d compared to max growth =%{x}<br>% cases from last 14d =%{y}<br>Deaths=%{customdata[2]}<br>Deaths today =%{customdata[0]}<br>Date=%{customdata[3]}\", \"legendgroup\": \"Peru\", \"marker\": {\"color\": \"#636efa\", \"size\": [55.0, 61.0, 73.0, 83.0, 92.0, 107.0, 121.0, 138.0, 169.0, 181.0, 193.0, 216.0, 230.0, 254.0, 274.0, 300.0, 348.0, 400.0, 445.0, 484.0, 530.0, 572.0, 634.0, 700.0, 728.0], \"sizemode\": \"area\", \"sizeref\": 137.2025, \"symbol\": \"circle\"}, \"mode\": \"lines+markers\", \"name\": \"Peru\", \"showlegend\": true, \"type\": \"scattergl\", \"x\": [6.3, 6.7, 7.8, 9.0, 10.0, 11.5, 12.9, 14.9, 18.2, 19.0, 20.2, 22.1, 23.0, 24.9, 25.2, 27.5, 31.7, 36.5, 40.7, 43.4, 47.1, 50.0, 53.6, 59.8, 61.6], \"xaxis\": \"x\", \"y\": [100.0, 95.1, 93.2, 94.0, 94.6, 93.5, 92.6, 93.5, 93.5, 91.2, 90.7, 88.9, 87.0, 85.0, 79.9, 79.7, 79.0, 79.2, 79.3, 77.9, 77.2, 75.9, 73.3, 74.1, 73.5], \"yaxis\": \"y\"}, {\"customdata\": [[9.0, \"Philippines\", 54.0, \"3/27/20\"], [14.0, \"Philippines\", 68.0, \"3/28/20\"], [3.0, \"Philippines\", 71.0, \"3/29/20\"], [7.0, \"Philippines\", 78.0, \"3/30/20\"], [10.0, \"Philippines\", 88.0, \"3/31/20\"], [8.0, \"Philippines\", 96.0, \"4/1/20\"], [11.0, \"Philippines\", 107.0, \"4/2/20\"], [29.0, \"Philippines\", 136.0, \"4/3/20\"], [8.0, \"Philippines\", 144.0, \"4/4/20\"], [8.0, \"Philippines\", 152.0, \"4/5/20\"], [11.0, \"Philippines\", 163.0, \"4/6/20\"], [14.0, \"Philippines\", 177.0, \"4/7/20\"], [5.0, \"Philippines\", 182.0, \"4/8/20\"], [21.0, \"Philippines\", 203.0, \"4/9/20\"], [18.0, \"Philippines\", 221.0, \"4/10/20\"], [26.0, \"Philippines\", 247.0, \"4/11/20\"], [50.0, \"Philippines\", 297.0, \"4/12/20\"], [18.0, \"Philippines\", 315.0, \"4/13/20\"], [20.0, \"Philippines\", 335.0, \"4/14/20\"], [14.0, \"Philippines\", 349.0, \"4/15/20\"], [13.0, \"Philippines\", 362.0, \"4/16/20\"], [25.0, \"Philippines\", 387.0, \"4/17/20\"], [10.0, \"Philippines\", 397.0, \"4/18/20\"], [12.0, \"Philippines\", 409.0, \"4/19/20\"], [19.0, \"Philippines\", 428.0, \"4/20/20\"], [9.0, \"Philippines\", 437.0, \"4/21/20\"], [9.0, \"Philippines\", 446.0, \"4/22/20\"], [16.0, \"Philippines\", 462.0, \"4/23/20\"], [15.0, \"Philippines\", 477.0, \"4/24/20\"], [17.0, \"Philippines\", 494.0, \"4/25/20\"], [7.0, \"Philippines\", 501.0, \"4/26/20\"]], \"hoverlabel\": {\"namelength\": 0}, \"hovertemplate\": \"Country =%{customdata[1]}<br>Mean growth over 14d compared to max growth =%{x}<br>% cases from last 14d =%{y}<br>Deaths=%{customdata[2]}<br>Deaths today =%{customdata[0]}<br>Date=%{customdata[3]}\", \"legendgroup\": \"Philippines\", \"marker\": {\"color\": \"#EF553B\", \"size\": [54.0, 68.0, 71.0, 78.0, 88.0, 96.0, 107.0, 136.0, 144.0, 152.0, 163.0, 177.0, 182.0, 203.0, 221.0, 247.0, 297.0, 315.0, 335.0, 349.0, 362.0, 387.0, 397.0, 409.0, 428.0, 437.0, 446.0, 462.0, 477.0, 494.0, 501.0], \"sizemode\": \"area\", \"sizeref\": 137.2025, \"symbol\": \"circle\"}, \"mode\": \"lines+markers\", \"name\": \"Philippines\", \"showlegend\": true, \"type\": \"scattergl\", \"x\": [12.1, 14.8, 14.8, 16.3, 18.7, 19.0, 22.2, 29.1, 30.8, 31.3, 32.0, 35.0, 35.5, 38.9, 41.1, 44.1, 55.7, 58.4, 60.8, 62.3, 62.8, 61.8, 62.3, 63.3, 65.3, 64.0, 65.0, 63.8, 63.1, 60.8, 50.2], \"xaxis\": \"x\", \"y\": [90.7, 88.2, 84.5, 84.6, 86.4, 80.2, 84.1, 86.8, 86.8, 83.6, 79.8, 80.2, 79.1, 77.8, 75.6, 72.5, 76.1, 75.2, 73.7, 72.5, 70.4, 64.9, 63.7, 62.8, 61.9, 59.5, 59.2, 56.1, 53.7, 50.0, 40.7], \"yaxis\": \"y\"}, {\"customdata\": [[14.0, \"Poland\", 57.0, \"4/2/20\"], [14.0, \"Poland\", 71.0, \"4/3/20\"], [8.0, \"Poland\", 79.0, \"4/4/20\"], [15.0, \"Poland\", 94.0, \"4/5/20\"], [13.0, \"Poland\", 107.0, \"4/6/20\"], [22.0, \"Poland\", 129.0, \"4/7/20\"], [30.0, \"Poland\", 159.0, \"4/8/20\"], [15.0, \"Poland\", 174.0, \"4/9/20\"], [7.0, \"Poland\", 181.0, \"4/10/20\"], [27.0, \"Poland\", 208.0, \"4/11/20\"], [24.0, \"Poland\", 232.0, \"4/12/20\"], [13.0, \"Poland\", 245.0, \"4/13/20\"], [18.0, \"Poland\", 263.0, \"4/14/20\"], [23.0, \"Poland\", 286.0, \"4/15/20\"], [28.0, \"Poland\", 314.0, \"4/16/20\"], [18.0, \"Poland\", 332.0, \"4/17/20\"], [15.0, \"Poland\", 347.0, \"4/18/20\"], [13.0, \"Poland\", 360.0, \"4/19/20\"], [20.0, \"Poland\", 380.0, \"4/20/20\"], [21.0, \"Poland\", 401.0, \"4/21/20\"], [25.0, \"Poland\", 426.0, \"4/22/20\"], [28.0, \"Poland\", 454.0, \"4/23/20\"], [40.0, \"Poland\", 494.0, \"4/24/20\"], [30.0, \"Poland\", 524.0, \"4/25/20\"], [11.0, \"Poland\", 535.0, \"4/26/20\"]], \"hoverlabel\": {\"namelength\": 0}, \"hovertemplate\": \"Country =%{customdata[1]}<br>Mean growth over 14d compared to max growth =%{x}<br>% cases from last 14d =%{y}<br>Deaths=%{customdata[2]}<br>Deaths today =%{customdata[0]}<br>Date=%{customdata[3]}\", \"legendgroup\": \"Poland\", \"marker\": {\"color\": \"#00cc96\", \"size\": [57.0, 71.0, 79.0, 94.0, 107.0, 129.0, 159.0, 174.0, 181.0, 208.0, 232.0, 245.0, 263.0, 286.0, 314.0, 332.0, 347.0, 360.0, 380.0, 401.0, 426.0, 454.0, 494.0, 524.0, 535.0], \"sizemode\": \"area\", \"sizeref\": 137.2025, \"symbol\": \"circle\"}, \"mode\": \"lines+markers\", \"name\": \"Poland\", \"showlegend\": true, \"type\": \"scattergl\", \"x\": [12.4, 15.7, 17.6, 20.7, 23.6, 28.3, 34.5, 37.6, 39.3, 45.2, 50.0, 51.0, 54.8, 57.9, 61.2, 62.1, 63.8, 63.3, 65.0, 64.8, 63.6, 66.7, 74.5, 75.2, 72.1], \"xaxis\": \"x\", \"y\": [91.2, 93.0, 93.7, 92.6, 92.5, 92.2, 91.2, 90.8, 91.2, 91.3, 90.5, 87.3, 87.5, 85.0, 81.8, 78.6, 77.2, 73.9, 71.8, 67.8, 62.7, 61.7, 63.4, 60.3, 56.6], \"yaxis\": \"y\"}, {\"customdata\": [[17.0, \"Portugal\", 60.0, \"3/26/20\"], [16.0, \"Portugal\", 76.0, \"3/27/20\"], [24.0, \"Portugal\", 100.0, \"3/28/20\"], [19.0, \"Portugal\", 119.0, \"3/29/20\"], [21.0, \"Portugal\", 140.0, \"3/30/20\"], [20.0, \"Portugal\", 160.0, \"3/31/20\"], [27.0, \"Portugal\", 187.0, \"4/1/20\"], [22.0, \"Portugal\", 209.0, \"4/2/20\"], [37.0, \"Portugal\", 246.0, \"4/3/20\"], [20.0, \"Portugal\", 266.0, \"4/4/20\"], [29.0, \"Portugal\", 295.0, \"4/5/20\"], [16.0, \"Portugal\", 311.0, \"4/6/20\"], [34.0, \"Portugal\", 345.0, \"4/7/20\"], [35.0, \"Portugal\", 380.0, \"4/8/20\"], [29.0, \"Portugal\", 409.0, \"4/9/20\"], [26.0, \"Portugal\", 435.0, \"4/10/20\"], [35.0, \"Portugal\", 470.0, \"4/11/20\"], [34.0, \"Portugal\", 504.0, \"4/12/20\"], [31.0, \"Portugal\", 535.0, \"4/13/20\"], [32.0, \"Portugal\", 567.0, \"4/14/20\"], [32.0, \"Portugal\", 599.0, \"4/15/20\"], [30.0, \"Portugal\", 629.0, \"4/16/20\"], [28.0, \"Portugal\", 657.0, \"4/17/20\"], [30.0, \"Portugal\", 687.0, \"4/18/20\"], [27.0, \"Portugal\", 714.0, \"4/19/20\"], [21.0, \"Portugal\", 735.0, \"4/20/20\"], [27.0, \"Portugal\", 762.0, \"4/21/20\"], [23.0, \"Portugal\", 785.0, \"4/22/20\"], [35.0, \"Portugal\", 820.0, \"4/23/20\"], [34.0, \"Portugal\", 854.0, \"4/24/20\"], [26.0, \"Portugal\", 880.0, \"4/25/20\"], [23.0, \"Portugal\", 903.0, \"4/26/20\"]], \"hoverlabel\": {\"namelength\": 0}, \"hovertemplate\": \"Country =%{customdata[1]}<br>Mean growth over 14d compared to max growth =%{x}<br>% cases from last 14d =%{y}<br>Deaths=%{customdata[2]}<br>Deaths today =%{customdata[0]}<br>Date=%{customdata[3]}\", \"legendgroup\": \"Portugal\", \"marker\": {\"color\": \"#ab63fa\", \"size\": [60.0, 76.0, 100.0, 119.0, 140.0, 160.0, 187.0, 209.0, 246.0, 266.0, 295.0, 311.0, 345.0, 380.0, 409.0, 435.0, 470.0, 504.0, 535.0, 567.0, 599.0, 629.0, 657.0, 687.0, 714.0, 735.0, 762.0, 785.0, 820.0, 854.0, 880.0, 903.0], \"sizemode\": \"area\", \"sizeref\": 137.2025, \"symbol\": \"circle\"}, \"mode\": \"lines+markers\", \"name\": \"Portugal\", \"showlegend\": true, \"type\": \"scattergl\", \"x\": [12.2, 15.5, 20.4, 24.3, 28.6, 32.4, 37.8, 42.0, 49.0, 51.8, 57.3, 58.8, 63.7, 68.8, 71.2, 73.3, 75.5, 78.6, 80.6, 83.1, 84.1, 85.7, 83.9, 85.9, 85.5, 86.5, 85.1, 82.7, 83.9, 85.5, 83.7, 81.4], \"xaxis\": \"x\", \"y\": [100.0, 100.0, 100.0, 100.0, 100.0, 99.4, 98.9, 98.6, 97.6, 95.5, 95.3, 92.6, 90.4, 88.7, 85.3, 82.5, 78.7, 76.4, 73.8, 71.8, 68.8, 66.8, 62.6, 61.3, 58.7, 57.7, 54.7, 51.6, 50.1, 49.1, 46.6, 44.2], \"yaxis\": \"y\"}, {\"customdata\": [[22.0, \"Romania\", 65.0, \"3/30/20\"], [17.0, \"Romania\", 82.0, \"3/31/20\"], [10.0, \"Romania\", 92.0, \"4/1/20\"], [23.0, \"Romania\", 115.0, \"4/2/20\"], [18.0, \"Romania\", 133.0, \"4/3/20\"], [13.0, \"Romania\", 146.0, \"4/4/20\"], [5.0, \"Romania\", 151.0, \"4/5/20\"], [25.0, \"Romania\", 176.0, \"4/6/20\"], [21.0, \"Romania\", 197.0, \"4/7/20\"], [23.0, \"Romania\", 220.0, \"4/8/20\"], [28.0, \"Romania\", 248.0, \"4/9/20\"], [22.0, \"Romania\", 270.0, \"4/10/20\"], [21.0, \"Romania\", 291.0, \"4/11/20\"], [25.0, \"Romania\", 316.0, \"4/12/20\"], [15.0, \"Romania\", 331.0, \"4/13/20\"], [20.0, \"Romania\", 351.0, \"4/14/20\"], [21.0, \"Romania\", 372.0, \"4/15/20\"], [20.0, \"Romania\", 392.0, \"4/16/20\"], [19.0, \"Romania\", 411.0, \"4/17/20\"], [10.0, \"Romania\", 421.0, \"4/18/20\"], [30.0, \"Romania\", 451.0, \"4/19/20\"], [27.0, \"Romania\", 478.0, \"4/20/20\"], [20.0, \"Romania\", 498.0, \"4/21/20\"], [26.0, \"Romania\", 524.0, \"4/22/20\"], [21.0, \"Romania\", 545.0, \"4/23/20\"], [22.0, \"Romania\", 567.0, \"4/24/20\"], [34.0, \"Romania\", 601.0, \"4/25/20\"], [18.0, \"Romania\", 619.0, \"4/26/20\"]], \"hoverlabel\": {\"namelength\": 0}, \"hovertemplate\": \"Country =%{customdata[1]}<br>Mean growth over 14d compared to max growth =%{x}<br>% cases from last 14d =%{y}<br>Deaths=%{customdata[2]}<br>Deaths today =%{customdata[0]}<br>Date=%{customdata[3]}\", \"legendgroup\": \"Romania\", \"marker\": {\"color\": \"#FFA15A\", \"size\": [65.0, 82.0, 92.0, 115.0, 133.0, 146.0, 151.0, 176.0, 197.0, 220.0, 248.0, 270.0, 291.0, 316.0, 331.0, 351.0, 372.0, 392.0, 411.0, 421.0, 451.0, 478.0, 498.0, 524.0, 545.0, 567.0, 601.0, 619.0], \"sizemode\": \"area\", \"sizeref\": 137.2025, \"symbol\": \"circle\"}, \"mode\": \"lines+markers\", \"name\": \"Romania\", \"showlegend\": true, \"type\": \"scattergl\", \"x\": [15.5, 19.5, 21.9, 27.4, 31.7, 34.8, 35.2, 40.2, 44.3, 48.3, 53.6, 58.1, 60.5, 65.0, 63.3, 64.0, 66.7, 66.0, 66.2, 65.5, 71.4, 71.9, 71.7, 72.4, 70.7, 70.7, 73.8, 72.1], \"xaxis\": \"x\", \"y\": [100.0, 100.0, 100.0, 100.0, 100.0, 100.0, 98.0, 96.0, 94.4, 92.3, 90.7, 90.4, 87.3, 86.4, 80.4, 76.6, 75.3, 70.7, 67.6, 65.3, 66.5, 63.2, 60.4, 58.0, 54.5, 52.4, 51.6, 48.9], \"yaxis\": \"y\"}, {\"customdata\": [[11.0, \"Russia\", 58.0, \"4/7/20\"], [5.0, \"Russia\", 63.0, \"4/8/20\"], [13.0, \"Russia\", 76.0, \"4/9/20\"], [18.0, \"Russia\", 94.0, \"4/10/20\"], [12.0, \"Russia\", 106.0, \"4/11/20\"], [24.0, \"Russia\", 130.0, \"4/12/20\"], [18.0, \"Russia\", 148.0, \"4/13/20\"], [22.0, \"Russia\", 170.0, \"4/14/20\"], [28.0, \"Russia\", 198.0, \"4/15/20\"], [34.0, \"Russia\", 232.0, \"4/16/20\"], [41.0, \"Russia\", 273.0, \"4/17/20\"], [40.0, \"Russia\", 313.0, \"4/18/20\"], [48.0, \"Russia\", 361.0, \"4/19/20\"], [44.0, \"Russia\", 405.0, \"4/20/20\"], [51.0, \"Russia\", 456.0, \"4/21/20\"], [57.0, \"Russia\", 513.0, \"4/22/20\"], [42.0, \"Russia\", 555.0, \"4/23/20\"], [60.0, \"Russia\", 615.0, \"4/24/20\"], [66.0, \"Russia\", 681.0, \"4/25/20\"], [66.0, \"Russia\", 747.0, \"4/26/20\"]], \"hoverlabel\": {\"namelength\": 0}, \"hovertemplate\": \"Country =%{customdata[1]}<br>Mean growth over 14d compared to max growth =%{x}<br>% cases from last 14d =%{y}<br>Deaths=%{customdata[2]}<br>Deaths today =%{customdata[0]}<br>Date=%{customdata[3]}\", \"legendgroup\": \"Russia\", \"marker\": {\"color\": \"#19d3f3\", \"size\": [58.0, 63.0, 76.0, 94.0, 106.0, 130.0, 148.0, 170.0, 198.0, 232.0, 273.0, 313.0, 361.0, 405.0, 456.0, 513.0, 555.0, 615.0, 681.0, 747.0], \"sizemode\": \"area\", \"sizeref\": 137.2025, \"symbol\": \"circle\"}, \"mode\": \"lines+markers\", \"name\": \"Russia\", \"showlegend\": true, \"type\": \"scattergl\", \"x\": [6.2, 6.5, 7.9, 9.7, 11.0, 13.2, 15.0, 16.6, 18.8, 21.9, 25.9, 29.2, 34.2, 38.7, 43.1, 48.7, 51.8, 56.4, 62.2, 66.8], \"xaxis\": \"x\", \"y\": [98.3, 95.2, 96.1, 95.7, 96.2, 93.8, 93.9, 90.0, 87.9, 87.1, 87.5, 86.3, 87.5, 88.4, 87.3, 87.7, 86.3, 84.7, 84.4, 82.6], \"yaxis\": \"y\"}, {\"customdata\": [[5.0, \"Saudi Arabia\", 52.0, \"4/11/20\"], [7.0, \"Saudi Arabia\", 59.0, \"4/12/20\"], [6.0, \"Saudi Arabia\", 65.0, \"4/13/20\"], [8.0, \"Saudi Arabia\", 73.0, \"4/14/20\"], [6.0, \"Saudi Arabia\", 79.0, \"4/15/20\"], [4.0, \"Saudi Arabia\", 83.0, \"4/16/20\"], [4.0, \"Saudi Arabia\", 87.0, \"4/17/20\"], [5.0, \"Saudi Arabia\", 92.0, \"4/18/20\"], [5.0, \"Saudi Arabia\", 97.0, \"4/19/20\"], [6.0, \"Saudi Arabia\", 103.0, \"4/20/20\"], [6.0, \"Saudi Arabia\", 109.0, \"4/21/20\"], [5.0, \"Saudi Arabia\", 114.0, \"4/22/20\"], [7.0, \"Saudi Arabia\", 121.0, \"4/23/20\"], [6.0, \"Saudi Arabia\", 127.0, \"4/24/20\"], [9.0, \"Saudi Arabia\", 136.0, \"4/25/20\"], [3.0, \"Saudi Arabia\", 139.0, \"4/26/20\"]], \"hoverlabel\": {\"namelength\": 0}, \"hovertemplate\": \"Country =%{customdata[1]}<br>Mean growth over 14d compared to max growth =%{x}<br>% cases from last 14d =%{y}<br>Deaths=%{customdata[2]}<br>Deaths today =%{customdata[0]}<br>Date=%{customdata[3]}\", \"legendgroup\": \"Saudi Arabia\", \"marker\": {\"color\": \"#FF6692\", \"size\": [52.0, 59.0, 65.0, 73.0, 79.0, 83.0, 87.0, 92.0, 97.0, 103.0, 109.0, 114.0, 121.0, 127.0, 136.0, 139.0], \"sizemode\": \"area\", \"sizeref\": 137.2025, \"symbol\": \"circle\"}, \"mode\": \"lines+markers\", \"name\": \"Saudi Arabia\", \"showlegend\": true, \"type\": \"scattergl\", \"x\": [42.9, 45.5, 50.9, 56.2, 56.2, 55.4, 55.4, 56.2, 56.2, 58.0, 60.7, 65.2, 68.8, 71.4, 75.0, 71.4], \"xaxis\": \"x\", \"y\": [92.3, 86.4, 87.7, 86.3, 79.7, 74.7, 71.3, 68.5, 64.9, 63.1, 62.4, 64.0, 63.6, 63.0, 61.8, 57.6], \"yaxis\": \"y\"}, {\"customdata\": [[7.0, \"Serbia\", 51.0, \"4/5/20\"], [7.0, \"Serbia\", 58.0, \"4/6/20\"], [3.0, \"Serbia\", 61.0, \"4/7/20\"], [4.0, \"Serbia\", 65.0, \"4/8/20\"], [1.0, \"Serbia\", 66.0, \"4/9/20\"], [5.0, \"Serbia\", 71.0, \"4/10/20\"], [3.0, \"Serbia\", 74.0, \"4/11/20\"], [6.0, \"Serbia\", 80.0, \"4/12/20\"], [5.0, \"Serbia\", 85.0, \"4/13/20\"], [9.0, \"Serbia\", 94.0, \"4/14/20\"], [5.0, \"Serbia\", 99.0, \"4/15/20\"], [4.0, \"Serbia\", 103.0, \"4/16/20\"], [7.0, \"Serbia\", 110.0, \"4/17/20\"], [7.0, \"Serbia\", 117.0, \"4/18/20\"], [5.0, \"Serbia\", 122.0, \"4/19/20\"], [3.0, \"Serbia\", 125.0, \"4/20/20\"], [0.0, \"Serbia\", 125.0, \"4/21/20\"], [0.0, \"Serbia\", 125.0, \"4/22/20\"], [0.0, \"Serbia\", 125.0, \"4/23/20\"], [0.0, \"Serbia\", 125.0, \"4/24/20\"], [0.0, \"Serbia\", 125.0, \"4/25/20\"], [0.0, \"Serbia\", 125.0, \"4/26/20\"]], \"hoverlabel\": {\"namelength\": 0}, \"hovertemplate\": \"Country =%{customdata[1]}<br>Mean growth over 14d compared to max growth =%{x}<br>% cases from last 14d =%{y}<br>Deaths=%{customdata[2]}<br>Deaths today =%{customdata[0]}<br>Date=%{customdata[3]}\", \"legendgroup\": \"Serbia\", \"marker\": {\"color\": \"#B6E880\", \"size\": [51.0, 58.0, 61.0, 65.0, 66.0, 71.0, 74.0, 80.0, 85.0, 94.0, 99.0, 103.0, 110.0, 117.0, 122.0, 125.0, 125.0, 125.0, 125.0, 125.0, 125.0, 125.0], \"sizemode\": \"area\", \"sizeref\": 137.2025, \"symbol\": \"circle\"}, \"mode\": \"lines+markers\", \"name\": \"Serbia\", \"showlegend\": true, \"type\": \"scattergl\", \"x\": [38.9, 43.7, 46.0, 48.4, 51.6, 55.6, 50.8, 53.2, 54.8, 61.9, 56.3, 57.1, 56.3, 57.9, 56.3, 53.2, 50.8, 47.6, 46.8, 42.9, 40.5, 35.7], \"xaxis\": \"x\", \"y\": [96.1, 94.8, 95.1, 93.8, 98.5, 98.6, 86.5, 83.8, 81.2, 83.0, 71.7, 69.9, 64.5, 62.4, 58.2, 53.6, 51.2, 48.0, 47.2, 43.2, 40.8, 36.0], \"yaxis\": \"y\"}, {\"customdata\": [[19.0, \"Spain\", 54.0, \"3/11/20\"], [1.0, \"Spain\", 55.0, \"3/12/20\"], [78.0, \"Spain\", 133.0, \"3/13/20\"], [62.0, \"Spain\", 195.0, \"3/14/20\"], [94.0, \"Spain\", 289.0, \"3/15/20\"], [53.0, \"Spain\", 342.0, \"3/16/20\"], [191.0, \"Spain\", 533.0, \"3/17/20\"], [90.0, \"Spain\", 623.0, \"3/18/20\"], [207.0, \"Spain\", 830.0, \"3/19/20\"], [213.0, \"Spain\", 1043.0, \"3/20/20\"], [332.0, \"Spain\", 1375.0, \"3/21/20\"], [397.0, \"Spain\", 1772.0, \"3/22/20\"], [539.0, \"Spain\", 2311.0, \"3/23/20\"], [497.0, \"Spain\", 2808.0, \"3/24/20\"], [839.0, \"Spain\", 3647.0, \"3/25/20\"], [718.0, \"Spain\", 4365.0, \"3/26/20\"], [773.0, \"Spain\", 5138.0, \"3/27/20\"], [844.0, \"Spain\", 5982.0, \"3/28/20\"], [821.0, \"Spain\", 6803.0, \"3/29/20\"], [913.0, \"Spain\", 7716.0, \"3/30/20\"], [748.0, \"Spain\", 8464.0, \"3/31/20\"], [923.0, \"Spain\", 9387.0, \"4/1/20\"], [961.0, \"Spain\", 10348.0, \"4/2/20\"], [850.0, \"Spain\", 11198.0, \"4/3/20\"], [749.0, \"Spain\", 11947.0, \"4/4/20\"], [694.0, \"Spain\", 12641.0, \"4/5/20\"], [700.0, \"Spain\", 13341.0, \"4/6/20\"], [704.0, \"Spain\", 14045.0, \"4/7/20\"], [747.0, \"Spain\", 14792.0, \"4/8/20\"], [655.0, \"Spain\", 15447.0, \"4/9/20\"], [634.0, \"Spain\", 16081.0, \"4/10/20\"], [525.0, \"Spain\", 16606.0, \"4/11/20\"], [603.0, \"Spain\", 17209.0, \"4/12/20\"], [547.0, \"Spain\", 17756.0, \"4/13/20\"], [300.0, \"Spain\", 18056.0, \"4/14/20\"], [652.0, \"Spain\", 18708.0, \"4/15/20\"], [607.0, \"Spain\", 19315.0, \"4/16/20\"], [687.0, \"Spain\", 20002.0, \"4/17/20\"], [41.0, \"Spain\", 20043.0, \"4/18/20\"], [410.0, \"Spain\", 20453.0, \"4/19/20\"], [399.0, \"Spain\", 20852.0, \"4/20/20\"], [430.0, \"Spain\", 21282.0, \"4/21/20\"], [435.0, \"Spain\", 21717.0, \"4/22/20\"], [440.0, \"Spain\", 22157.0, \"4/23/20\"], [367.0, \"Spain\", 22524.0, \"4/24/20\"], [378.0, \"Spain\", 22902.0, \"4/25/20\"], [288.0, \"Spain\", 23190.0, \"4/26/20\"]], \"hoverlabel\": {\"namelength\": 0}, \"hovertemplate\": \"Country =%{customdata[1]}<br>Mean growth over 14d compared to max growth =%{x}<br>% cases from last 14d =%{y}<br>Deaths=%{customdata[2]}<br>Deaths today =%{customdata[0]}<br>Date=%{customdata[3]}\", \"legendgroup\": \"Spain\", \"marker\": {\"color\": \"#FF97FF\", \"size\": [54.0, 55.0, 133.0, 195.0, 289.0, 342.0, 533.0, 623.0, 830.0, 1043.0, 1375.0, 1772.0, 2311.0, 2808.0, 3647.0, 4365.0, 5138.0, 5982.0, 6803.0, 7716.0, 8464.0, 9387.0, 10348.0, 11198.0, 11947.0, 12641.0, 13341.0, 14045.0, 14792.0, 15447.0, 16081.0, 16606.0, 17209.0, 17756.0, 18056.0, 18708.0, 19315.0, 20002.0, 20043.0, 20453.0, 20852.0, 21282.0, 21717.0, 22157.0, 22524.0, 22902.0, 23190.0], \"sizemode\": \"area\", \"sizeref\": 137.2025, \"symbol\": \"circle\"}, \"mode\": \"lines+markers\", \"name\": \"Spain\", \"showlegend\": true, \"type\": \"scattergl\", \"x\": [0.4, 0.4, 1.0, 1.5, 2.2, 2.6, 4.1, 4.8, 6.4, 8.0, 10.6, 13.6, 17.7, 21.5, 27.8, 33.4, 38.7, 44.8, 50.4, 57.1, 61.4, 67.8, 73.7, 78.6, 81.8, 84.1, 85.4, 87.0, 86.2, 85.8, 84.7, 82.2, 80.5, 77.7, 74.2, 72.1, 69.4, 68.1, 62.7, 60.5, 58.1, 56.0, 53.6, 51.9, 49.9, 48.7, 46.3], \"xaxis\": \"x\", \"y\": [100.0, 100.0, 100.0, 100.0, 100.0, 100.0, 99.8, 99.7, 99.6, 99.5, 99.3, 99.0, 98.8, 98.8, 98.5, 98.7, 97.4, 96.7, 95.8, 95.6, 93.7, 93.4, 92.0, 90.7, 88.5, 86.0, 82.7, 80.0, 75.3, 71.7, 68.0, 64.0, 60.5, 56.5, 53.1, 49.8, 46.4, 44.0, 40.4, 38.2, 36.0, 34.0, 31.9, 30.3, 28.6, 27.5, 25.8], \"yaxis\": \"y\"}, {\"customdata\": [[26.0, \"Sweden\", 62.0, \"3/25/20\"], [15.0, \"Sweden\", 77.0, \"3/26/20\"], [28.0, \"Sweden\", 105.0, \"3/27/20\"], [0.0, \"Sweden\", 105.0, \"3/28/20\"], [5.0, \"Sweden\", 110.0, \"3/29/20\"], [36.0, \"Sweden\", 146.0, \"3/30/20\"], [34.0, \"Sweden\", 180.0, \"3/31/20\"], [59.0, \"Sweden\", 239.0, \"4/1/20\"], [69.0, \"Sweden\", 308.0, \"4/2/20\"], [50.0, \"Sweden\", 358.0, \"4/3/20\"], [15.0, \"Sweden\", 373.0, \"4/4/20\"], [28.0, \"Sweden\", 401.0, \"4/5/20\"], [76.0, \"Sweden\", 477.0, \"4/6/20\"], [114.0, \"Sweden\", 591.0, \"4/7/20\"], [96.0, \"Sweden\", 687.0, \"4/8/20\"], [106.0, \"Sweden\", 793.0, \"4/9/20\"], [77.0, \"Sweden\", 870.0, \"4/10/20\"], [17.0, \"Sweden\", 887.0, \"4/11/20\"], [12.0, \"Sweden\", 899.0, \"4/12/20\"], [20.0, \"Sweden\", 919.0, \"4/13/20\"], [114.0, \"Sweden\", 1033.0, \"4/14/20\"], [170.0, \"Sweden\", 1203.0, \"4/15/20\"], [130.0, \"Sweden\", 1333.0, \"4/16/20\"], [67.0, \"Sweden\", 1400.0, \"4/17/20\"], [111.0, \"Sweden\", 1511.0, \"4/18/20\"], [29.0, \"Sweden\", 1540.0, \"4/19/20\"], [40.0, \"Sweden\", 1580.0, \"4/20/20\"], [185.0, \"Sweden\", 1765.0, \"4/21/20\"], [172.0, \"Sweden\", 1937.0, \"4/22/20\"], [84.0, \"Sweden\", 2021.0, \"4/23/20\"], [131.0, \"Sweden\", 2152.0, \"4/24/20\"], [40.0, \"Sweden\", 2192.0, \"4/25/20\"], [2.0, \"Sweden\", 2194.0, \"4/26/20\"]], \"hoverlabel\": {\"namelength\": 0}, \"hovertemplate\": \"Country =%{customdata[1]}<br>Mean growth over 14d compared to max growth =%{x}<br>% cases from last 14d =%{y}<br>Deaths=%{customdata[2]}<br>Deaths today =%{customdata[0]}<br>Date=%{customdata[3]}\", \"legendgroup\": \"Sweden\", \"marker\": {\"color\": \"#FECB52\", \"size\": [62.0, 77.0, 105.0, 105.0, 110.0, 146.0, 180.0, 239.0, 308.0, 358.0, 373.0, 401.0, 477.0, 591.0, 687.0, 793.0, 870.0, 887.0, 899.0, 919.0, 1033.0, 1203.0, 1333.0, 1400.0, 1511.0, 1540.0, 1580.0, 1765.0, 1937.0, 2021.0, 2152.0, 2192.0, 2194.0], \"sizemode\": \"area\", \"sizeref\": 137.2025, \"symbol\": \"circle\"}, \"mode\": \"lines+markers\", \"name\": \"Sweden\", \"showlegend\": true, \"type\": \"scattergl\", \"x\": [2.5, 3.2, 4.3, 4.3, 4.4, 5.8, 7.2, 9.5, 12.3, 14.2, 14.7, 15.8, 18.8, 23.0, 26.0, 29.7, 31.8, 32.5, 32.8, 32.1, 35.4, 40.0, 42.6, 43.3, 47.3, 47.3, 45.8, 48.8, 51.9, 51.0, 53.2, 54.2, 53.8], \"xaxis\": \"x\", \"y\": [98.4, 98.7, 99.0, 98.1, 97.3, 95.9, 96.1, 95.8, 96.4, 95.5, 94.6, 94.8, 94.8, 93.9, 91.0, 90.3, 87.9, 88.2, 87.8, 84.1, 82.6, 80.1, 76.9, 74.4, 75.3, 74.0, 69.8, 66.5, 64.5, 60.8, 59.6, 59.5, 59.0], \"yaxis\": \"y\"}, {\"customdata\": [[13.0, \"Switzerland\", 54.0, \"3/20/20\"], [21.0, \"Switzerland\", 75.0, \"3/21/20\"], [23.0, \"Switzerland\", 98.0, \"3/22/20\"], [22.0, \"Switzerland\", 120.0, \"3/23/20\"], [2.0, \"Switzerland\", 122.0, \"3/24/20\"], [31.0, \"Switzerland\", 153.0, \"3/25/20\"], [38.0, \"Switzerland\", 191.0, \"3/26/20\"], [40.0, \"Switzerland\", 231.0, \"3/27/20\"], [33.0, \"Switzerland\", 264.0, \"3/28/20\"], [36.0, \"Switzerland\", 300.0, \"3/29/20\"], [59.0, \"Switzerland\", 359.0, \"3/30/20\"], [74.0, \"Switzerland\", 433.0, \"3/31/20\"], [55.0, \"Switzerland\", 488.0, \"4/1/20\"], [48.0, \"Switzerland\", 536.0, \"4/2/20\"], [55.0, \"Switzerland\", 591.0, \"4/3/20\"], [75.0, \"Switzerland\", 666.0, \"4/4/20\"], [49.0, \"Switzerland\", 715.0, \"4/5/20\"], [50.0, \"Switzerland\", 765.0, \"4/6/20\"], [56.0, \"Switzerland\", 821.0, \"4/7/20\"], [74.0, \"Switzerland\", 895.0, \"4/8/20\"], [53.0, \"Switzerland\", 948.0, \"4/9/20\"], [54.0, \"Switzerland\", 1002.0, \"4/10/20\"], [34.0, \"Switzerland\", 1036.0, \"4/11/20\"], [70.0, \"Switzerland\", 1106.0, \"4/12/20\"], [32.0, \"Switzerland\", 1138.0, \"4/13/20\"], [36.0, \"Switzerland\", 1174.0, \"4/14/20\"], [65.0, \"Switzerland\", 1239.0, \"4/15/20\"], [42.0, \"Switzerland\", 1281.0, \"4/16/20\"], [46.0, \"Switzerland\", 1327.0, \"4/17/20\"], [41.0, \"Switzerland\", 1368.0, \"4/18/20\"], [25.0, \"Switzerland\", 1393.0, \"4/19/20\"], [36.0, \"Switzerland\", 1429.0, \"4/20/20\"], [49.0, \"Switzerland\", 1478.0, \"4/21/20\"], [31.0, \"Switzerland\", 1509.0, \"4/22/20\"], [40.0, \"Switzerland\", 1549.0, \"4/23/20\"], [40.0, \"Switzerland\", 1589.0, \"4/24/20\"], [10.0, \"Switzerland\", 1599.0, \"4/25/20\"], [11.0, \"Switzerland\", 1610.0, \"4/26/20\"]], \"hoverlabel\": {\"namelength\": 0}, \"hovertemplate\": \"Country =%{customdata[1]}<br>Mean growth over 14d compared to max growth =%{x}<br>% cases from last 14d =%{y}<br>Deaths=%{customdata[2]}<br>Deaths today =%{customdata[0]}<br>Date=%{customdata[3]}\", \"legendgroup\": \"Switzerland\", \"marker\": {\"color\": \"#636efa\", \"size\": [54.0, 75.0, 98.0, 120.0, 122.0, 153.0, 191.0, 231.0, 264.0, 300.0, 359.0, 433.0, 488.0, 536.0, 591.0, 666.0, 715.0, 765.0, 821.0, 895.0, 948.0, 1002.0, 1036.0, 1106.0, 1138.0, 1174.0, 1239.0, 1281.0, 1327.0, 1368.0, 1393.0, 1429.0, 1478.0, 1509.0, 1549.0, 1589.0, 1599.0, 1610.0], \"sizemode\": \"area\", \"sizeref\": 137.2025, \"symbol\": \"circle\"}, \"mode\": \"lines+markers\", \"name\": \"Switzerland\", \"showlegend\": true, \"type\": \"scattergl\", \"x\": [5.1, 7.1, 9.3, 11.4, 11.5, 14.4, 18.1, 21.2, 24.2, 27.6, 33.3, 39.2, 44.4, 47.8, 51.8, 57.0, 59.6, 62.3, 67.5, 71.6, 73.1, 74.4, 74.5, 77.8, 75.2, 71.5, 72.5, 71.9, 71.0, 67.8, 65.4, 64.1, 63.4, 59.3, 58.0, 56.7, 54.3, 48.6], \"xaxis\": \"x\", \"y\": [98.1, 98.7, 98.0, 98.3, 97.5, 97.4, 97.9, 95.2, 95.1, 95.3, 96.1, 93.8, 94.3, 92.4, 90.9, 88.7, 86.3, 84.3, 85.1, 82.9, 79.9, 76.9, 74.5, 72.9, 68.5, 63.1, 60.6, 58.2, 55.5, 51.3, 48.7, 46.5, 44.5, 40.7, 38.8, 36.9, 35.2, 31.3], \"yaxis\": \"y\"}, {\"customdata\": [[15.0, \"Turkey\", 59.0, \"3/25/20\"], [16.0, \"Turkey\", 75.0, \"3/26/20\"], [17.0, \"Turkey\", 92.0, \"3/27/20\"], [16.0, \"Turkey\", 108.0, \"3/28/20\"], [23.0, \"Turkey\", 131.0, \"3/29/20\"], [37.0, \"Turkey\", 168.0, \"3/30/20\"], [46.0, \"Turkey\", 214.0, \"3/31/20\"], [63.0, \"Turkey\", 277.0, \"4/1/20\"], [79.0, \"Turkey\", 356.0, \"4/2/20\"], [69.0, \"Turkey\", 425.0, \"4/3/20\"], [76.0, \"Turkey\", 501.0, \"4/4/20\"], [73.0, \"Turkey\", 574.0, \"4/5/20\"], [75.0, \"Turkey\", 649.0, \"4/6/20\"], [76.0, \"Turkey\", 725.0, \"4/7/20\"], [87.0, \"Turkey\", 812.0, \"4/8/20\"], [96.0, \"Turkey\", 908.0, \"4/9/20\"], [98.0, \"Turkey\", 1006.0, \"4/10/20\"], [95.0, \"Turkey\", 1101.0, \"4/11/20\"], [97.0, \"Turkey\", 1198.0, \"4/12/20\"], [98.0, \"Turkey\", 1296.0, \"4/13/20\"], [107.0, \"Turkey\", 1403.0, \"4/14/20\"], [115.0, \"Turkey\", 1518.0, \"4/15/20\"], [125.0, \"Turkey\", 1643.0, \"4/16/20\"], [126.0, \"Turkey\", 1769.0, \"4/17/20\"], [121.0, \"Turkey\", 1890.0, \"4/18/20\"], [127.0, \"Turkey\", 2017.0, \"4/19/20\"], [123.0, \"Turkey\", 2140.0, \"4/20/20\"], [119.0, \"Turkey\", 2259.0, \"4/21/20\"], [117.0, \"Turkey\", 2376.0, \"4/22/20\"], [115.0, \"Turkey\", 2491.0, \"4/23/20\"], [109.0, \"Turkey\", 2600.0, \"4/24/20\"], [106.0, \"Turkey\", 2706.0, \"4/25/20\"], [99.0, \"Turkey\", 2805.0, \"4/26/20\"]], \"hoverlabel\": {\"namelength\": 0}, \"hovertemplate\": \"Country =%{customdata[1]}<br>Mean growth over 14d compared to max growth =%{x}<br>% cases from last 14d =%{y}<br>Deaths=%{customdata[2]}<br>Deaths today =%{customdata[0]}<br>Date=%{customdata[3]}\", \"legendgroup\": \"Turkey\", \"marker\": {\"color\": \"#EF553B\", \"size\": [59.0, 75.0, 92.0, 108.0, 131.0, 168.0, 214.0, 277.0, 356.0, 425.0, 501.0, 574.0, 649.0, 725.0, 812.0, 908.0, 1006.0, 1101.0, 1198.0, 1296.0, 1403.0, 1518.0, 1643.0, 1769.0, 1890.0, 2017.0, 2140.0, 2259.0, 2376.0, 2491.0, 2600.0, 2706.0, 2805.0], \"sizemode\": \"area\", \"sizeref\": 137.2025, \"symbol\": \"circle\"}, \"mode\": \"lines+markers\", \"name\": \"Turkey\", \"showlegend\": true, \"type\": \"scattergl\", \"x\": [3.3, 4.3, 5.2, 6.1, 7.4, 9.5, 12.1, 15.6, 20.0, 23.9, 27.9, 30.8, 34.7, 38.6, 42.7, 47.2, 51.8, 56.3, 60.5, 63.9, 67.4, 70.4, 73.0, 76.2, 78.7, 81.8, 84.5, 87.0, 88.7, 89.7, 90.4, 91.0, 91.1], \"xaxis\": \"x\", \"y\": [100.0, 100.0, 100.0, 100.0, 100.0, 100.0, 99.5, 99.6, 99.2, 99.1, 98.2, 94.8, 94.3, 93.9, 92.7, 91.7, 90.9, 90.2, 89.1, 87.0, 84.7, 81.8, 78.3, 76.0, 73.5, 71.5, 69.7, 67.9, 65.8, 63.5, 61.3, 59.3, 57.3], \"yaxis\": \"y\"}, {\"customdata\": [[7.0, \"US\", 54.0, \"3/14/20\"], [9.0, \"US\", 63.0, \"3/15/20\"], [22.0, \"US\", 85.0, \"3/16/20\"], [23.0, \"US\", 108.0, \"3/17/20\"], [10.0, \"US\", 118.0, \"3/18/20\"], [82.0, \"US\", 200.0, \"3/19/20\"], [44.0, \"US\", 244.0, \"3/20/20\"], [63.0, \"US\", 307.0, \"3/21/20\"], [110.0, \"US\", 417.0, \"3/22/20\"], [140.0, \"US\", 557.0, \"3/23/20\"], [149.0, \"US\", 706.0, \"3/24/20\"], [236.0, \"US\", 942.0, \"3/25/20\"], [267.0, \"US\", 1209.0, \"3/26/20\"], [372.0, \"US\", 1581.0, \"3/27/20\"], [445.0, \"US\", 2026.0, \"3/28/20\"], [441.0, \"US\", 2467.0, \"3/29/20\"], [511.0, \"US\", 2978.0, \"3/30/20\"], [896.0, \"US\", 3874.0, \"3/31/20\"], [886.0, \"US\", 4760.0, \"4/1/20\"], [1169.0, \"US\", 5929.0, \"4/2/20\"], [1161.0, \"US\", 7090.0, \"4/3/20\"], [1318.0, \"US\", 8408.0, \"4/4/20\"], [1211.0, \"US\", 9619.0, \"4/5/20\"], [1164.0, \"US\", 10783.0, \"4/6/20\"], [2011.0, \"US\", 12794.0, \"4/7/20\"], [1910.0, \"US\", 14704.0, \"4/8/20\"], [1840.0, \"US\", 16544.0, \"4/9/20\"], [2051.0, \"US\", 18595.0, \"4/10/20\"], [1876.0, \"US\", 20471.0, \"4/11/20\"], [1558.0, \"US\", 22029.0, \"4/12/20\"], [1509.0, \"US\", 23538.0, \"4/13/20\"], [2305.0, \"US\", 25843.0, \"4/14/20\"], [2495.0, \"US\", 28338.0, \"4/15/20\"], [4592.0, \"US\", 32930.0, \"4/16/20\"], [3857.0, \"US\", 36787.0, \"4/17/20\"], [1877.0, \"US\", 38664.0, \"4/18/20\"], [1997.0, \"US\", 40661.0, \"4/19/20\"], [1433.0, \"US\", 42094.0, \"4/20/20\"], [2350.0, \"US\", 44444.0, \"4/21/20\"], [2178.0, \"US\", 46622.0, \"4/22/20\"], [3332.0, \"US\", 49954.0, \"4/23/20\"], [1995.0, \"US\", 51949.0, \"4/24/20\"], [1806.0, \"US\", 53755.0, \"4/25/20\"], [1126.0, \"US\", 54881.0, \"4/26/20\"]], \"hoverlabel\": {\"namelength\": 0}, \"hovertemplate\": \"Country =%{customdata[1]}<br>Mean growth over 14d compared to max growth =%{x}<br>% cases from last 14d =%{y}<br>Deaths=%{customdata[2]}<br>Deaths today =%{customdata[0]}<br>Date=%{customdata[3]}\", \"legendgroup\": \"US\", \"marker\": {\"color\": \"#00cc96\", \"size\": [54.0, 63.0, 85.0, 108.0, 118.0, 200.0, 244.0, 307.0, 417.0, 557.0, 706.0, 942.0, 1209.0, 1581.0, 2026.0, 2467.0, 2978.0, 3874.0, 4760.0, 5929.0, 7090.0, 8408.0, 9619.0, 10783.0, 12794.0, 14704.0, 16544.0, 18595.0, 20471.0, 22029.0, 23538.0, 25843.0, 28338.0, 32930.0, 36787.0, 38664.0, 40661.0, 42094.0, 44444.0, 46622.0, 49954.0, 51949.0, 53755.0, 54881.0], \"sizemode\": \"area\", \"sizeref\": 137.2025, \"symbol\": \"circle\"}, \"mode\": \"lines+markers\", \"name\": \"US\", \"showlegend\": true, \"type\": \"scattergl\", \"x\": [0.1, 0.1, 0.1, 0.2, 0.2, 0.3, 0.4, 0.5, 0.7, 1.0, 1.3, 1.7, 2.2, 2.8, 3.7, 4.5, 5.4, 7.0, 8.6, 10.6, 12.7, 15.0, 17.0, 18.9, 22.4, 25.5, 28.4, 31.5, 34.2, 36.2, 38.1, 40.7, 43.7, 50.0, 55.0, 56.0, 57.5, 58.0, 58.6, 59.1, 61.9, 61.8, 61.6, 60.8], \"xaxis\": \"x\", \"y\": [98.1, 98.4, 92.9, 93.5, 90.7, 94.0, 94.3, 94.5, 95.0, 96.1, 96.0, 96.2, 96.7, 97.0, 97.3, 97.4, 97.1, 97.2, 97.5, 96.6, 96.6, 96.3, 95.7, 94.8, 94.5, 93.6, 92.7, 91.5, 90.1, 88.8, 87.3, 85.0, 83.2, 82.0, 80.7, 78.3, 76.3, 74.4, 71.2, 68.5, 66.9, 64.2, 61.9, 59.9], \"yaxis\": \"y\"}, {\"customdata\": [[7.0, \"Ukraine\", 52.0, \"4/8/20\"], [5.0, \"Ukraine\", 57.0, \"4/9/20\"], [12.0, \"Ukraine\", 69.0, \"4/10/20\"], [4.0, \"Ukraine\", 73.0, \"4/11/20\"], [10.0, \"Ukraine\", 83.0, \"4/12/20\"], [10.0, \"Ukraine\", 93.0, \"4/13/20\"], [5.0, \"Ukraine\", 98.0, \"4/14/20\"], [10.0, \"Ukraine\", 108.0, \"4/15/20\"], [8.0, \"Ukraine\", 116.0, \"4/16/20\"], [9.0, \"Ukraine\", 125.0, \"4/17/20\"], [8.0, \"Ukraine\", 133.0, \"4/18/20\"], [8.0, \"Ukraine\", 141.0, \"4/19/20\"], [10.0, \"Ukraine\", 151.0, \"4/20/20\"], [10.0, \"Ukraine\", 161.0, \"4/21/20\"], [13.0, \"Ukraine\", 174.0, \"4/22/20\"], [13.0, \"Ukraine\", 187.0, \"4/23/20\"], [14.0, \"Ukraine\", 201.0, \"4/24/20\"], [0.0, \"Ukraine\", 201.0, \"4/25/20\"], [8.0, \"Ukraine\", 209.0, \"4/26/20\"]], \"hoverlabel\": {\"namelength\": 0}, \"hovertemplate\": \"Country =%{customdata[1]}<br>Mean growth over 14d compared to max growth =%{x}<br>% cases from last 14d =%{y}<br>Deaths=%{customdata[2]}<br>Deaths today =%{customdata[0]}<br>Date=%{customdata[3]}\", \"legendgroup\": \"Ukraine\", \"marker\": {\"color\": \"#ab63fa\", \"size\": [52.0, 57.0, 69.0, 73.0, 83.0, 93.0, 98.0, 108.0, 116.0, 125.0, 133.0, 141.0, 151.0, 161.0, 174.0, 187.0, 201.0, 201.0, 209.0], \"sizemode\": \"area\", \"sizeref\": 137.2025, \"symbol\": \"circle\"}, \"mode\": \"lines+markers\", \"name\": \"Ukraine\", \"showlegend\": true, \"type\": \"scattergl\", \"x\": [25.8, 28.6, 35.2, 35.2, 40.1, 44.0, 44.5, 48.4, 51.6, 53.8, 55.5, 57.1, 62.1, 63.7, 67.0, 71.4, 72.5, 70.3, 69.2], \"xaxis\": \"x\", \"y\": [90.4, 91.2, 92.8, 87.7, 88.0, 86.0, 82.7, 81.5, 81.0, 78.4, 75.9, 73.8, 74.8, 72.0, 70.1, 69.5, 65.7, 63.7, 60.3], \"yaxis\": \"y\"}, {\"customdata\": [[6.0, \"United Arab Emirates\", 52.0, \"4/22/20\"], [4.0, \"United Arab Emirates\", 56.0, \"4/23/20\"], [8.0, \"United Arab Emirates\", 64.0, \"4/24/20\"], [7.0, \"United Arab Emirates\", 71.0, \"4/25/20\"], [5.0, \"United Arab Emirates\", 76.0, \"4/26/20\"]], \"hoverlabel\": {\"namelength\": 0}, \"hovertemplate\": \"Country =%{customdata[1]}<br>Mean growth over 14d compared to max growth =%{x}<br>% cases from last 14d =%{y}<br>Deaths=%{customdata[2]}<br>Deaths today =%{customdata[0]}<br>Date=%{customdata[3]}\", \"legendgroup\": \"United Arab Emirates\", \"marker\": {\"color\": \"#FFA15A\", \"size\": [52.0, 56.0, 64.0, 71.0, 76.0], \"sizemode\": \"area\", \"sizeref\": 137.2025, \"symbol\": \"circle\"}, \"mode\": \"lines+markers\", \"name\": \"United Arab Emirates\", \"showlegend\": true, \"type\": \"scattergl\", \"x\": [40.8, 42.9, 49.0, 52.0, 55.1], \"xaxis\": \"x\", \"y\": [76.9, 75.0, 75.0, 71.8, 71.1], \"yaxis\": \"y\"}, {\"customdata\": [[35.0, \"United Kingdom\", 56.0, \"3/16/20\"], [0.0, \"United Kingdom\", 56.0, \"3/17/20\"], [16.0, \"United Kingdom\", 72.0, \"3/18/20\"], [66.0, \"United Kingdom\", 138.0, \"3/19/20\"], [40.0, \"United Kingdom\", 178.0, \"3/20/20\"], [56.0, \"United Kingdom\", 234.0, \"3/21/20\"], [48.0, \"United Kingdom\", 282.0, \"3/22/20\"], [54.0, \"United Kingdom\", 336.0, \"3/23/20\"], [87.0, \"United Kingdom\", 423.0, \"3/24/20\"], [43.0, \"United Kingdom\", 466.0, \"3/25/20\"], [114.0, \"United Kingdom\", 580.0, \"3/26/20\"], [181.0, \"United Kingdom\", 761.0, \"3/27/20\"], [260.0, \"United Kingdom\", 1021.0, \"3/28/20\"], [210.0, \"United Kingdom\", 1231.0, \"3/29/20\"], [180.0, \"United Kingdom\", 1411.0, \"3/30/20\"], [382.0, \"United Kingdom\", 1793.0, \"3/31/20\"], [564.0, \"United Kingdom\", 2357.0, \"4/1/20\"], [569.0, \"United Kingdom\", 2926.0, \"4/2/20\"], [685.0, \"United Kingdom\", 3611.0, \"4/3/20\"], [709.0, \"United Kingdom\", 4320.0, \"4/4/20\"], [623.0, \"United Kingdom\", 4943.0, \"4/5/20\"], [442.0, \"United Kingdom\", 5385.0, \"4/6/20\"], [786.0, \"United Kingdom\", 6171.0, \"4/7/20\"], [940.0, \"United Kingdom\", 7111.0, \"4/8/20\"], [882.0, \"United Kingdom\", 7993.0, \"4/9/20\"], [981.0, \"United Kingdom\", 8974.0, \"4/10/20\"], [918.0, \"United Kingdom\", 9892.0, \"4/11/20\"], [737.0, \"United Kingdom\", 10629.0, \"4/12/20\"], [718.0, \"United Kingdom\", 11347.0, \"4/13/20\"], [782.0, \"United Kingdom\", 12129.0, \"4/14/20\"], [765.0, \"United Kingdom\", 12894.0, \"4/15/20\"], [865.0, \"United Kingdom\", 13759.0, \"4/16/20\"], [848.0, \"United Kingdom\", 14607.0, \"4/17/20\"], [891.0, \"United Kingdom\", 15498.0, \"4/18/20\"], [597.0, \"United Kingdom\", 16095.0, \"4/19/20\"], [455.0, \"United Kingdom\", 16550.0, \"4/20/20\"], [828.0, \"United Kingdom\", 17378.0, \"4/21/20\"], [773.0, \"United Kingdom\", 18151.0, \"4/22/20\"], [640.0, \"United Kingdom\", 18791.0, \"4/23/20\"], [776.0, \"United Kingdom\", 19567.0, \"4/24/20\"], [814.0, \"United Kingdom\", 20381.0, \"4/25/20\"], [413.0, \"United Kingdom\", 20794.0, \"4/26/20\"]], \"hoverlabel\": {\"namelength\": 0}, \"hovertemplate\": \"Country =%{customdata[1]}<br>Mean growth over 14d compared to max growth =%{x}<br>% cases from last 14d =%{y}<br>Deaths=%{customdata[2]}<br>Deaths today =%{customdata[0]}<br>Date=%{customdata[3]}\", \"legendgroup\": \"United Kingdom\", \"marker\": {\"color\": \"#19d3f3\", \"size\": [56.0, 56.0, 72.0, 138.0, 178.0, 234.0, 282.0, 336.0, 423.0, 466.0, 580.0, 761.0, 1021.0, 1231.0, 1411.0, 1793.0, 2357.0, 2926.0, 3611.0, 4320.0, 4943.0, 5385.0, 6171.0, 7111.0, 7993.0, 8974.0, 9892.0, 10629.0, 11347.0, 12129.0, 12894.0, 13759.0, 14607.0, 15498.0, 16095.0, 16550.0, 17378.0, 18151.0, 18791.0, 19567.0, 20381.0, 20794.0], \"sizemode\": \"area\", \"sizeref\": 137.2025, \"symbol\": \"circle\"}, \"mode\": \"lines+markers\", \"name\": \"United Kingdom\", \"showlegend\": true, \"type\": \"scattergl\", \"x\": [0.4, 0.4, 0.5, 1.0, 1.3, 1.8, 2.1, 2.5, 3.2, 3.5, 4.3, 5.7, 7.6, 9.2, 10.3, 13.2, 17.4, 21.2, 26.1, 31.0, 35.4, 38.4, 43.7, 50.5, 56.3, 62.4, 67.4, 71.4, 75.5, 78.5, 80.1, 82.3, 83.6, 84.9, 84.7, 84.8, 85.2, 83.9, 82.1, 80.5, 79.7, 77.2], \"xaxis\": \"x\", \"y\": [100.0, 100.0, 100.0, 99.3, 98.9, 99.1, 98.9, 98.8, 98.6, 98.3, 98.6, 98.9, 97.9, 98.3, 96.0, 96.9, 96.9, 95.3, 95.1, 94.6, 94.3, 93.8, 93.1, 93.4, 92.7, 91.5, 89.7, 88.4, 87.6, 85.2, 81.7, 78.7, 75.3, 72.1, 69.3, 67.5, 64.5, 60.8, 57.5, 54.1, 51.5, 48.9], \"yaxis\": \"y\"}],\n",
       "                        {\"legend\": {\"itemsizing\": \"constant\", \"title\": {\"text\": \"Country \"}, \"tracegroupgap\": 0}, \"template\": {\"data\": {\"bar\": [{\"error_x\": {\"color\": \"#2a3f5f\"}, \"error_y\": {\"color\": \"#2a3f5f\"}, \"marker\": {\"line\": {\"color\": \"#E5ECF6\", \"width\": 0.5}}, \"type\": \"bar\"}], \"barpolar\": [{\"marker\": {\"line\": {\"color\": \"#E5ECF6\", \"width\": 0.5}}, \"type\": \"barpolar\"}], \"carpet\": [{\"aaxis\": {\"endlinecolor\": \"#2a3f5f\", \"gridcolor\": \"white\", \"linecolor\": \"white\", \"minorgridcolor\": \"white\", \"startlinecolor\": \"#2a3f5f\"}, \"baxis\": {\"endlinecolor\": \"#2a3f5f\", \"gridcolor\": \"white\", \"linecolor\": \"white\", \"minorgridcolor\": \"white\", \"startlinecolor\": \"#2a3f5f\"}, \"type\": \"carpet\"}], \"choropleth\": [{\"colorbar\": {\"outlinewidth\": 0, \"ticks\": \"\"}, \"type\": \"choropleth\"}], \"contour\": [{\"colorbar\": {\"outlinewidth\": 0, \"ticks\": \"\"}, \"colorscale\": [[0.0, \"#0d0887\"], [0.1111111111111111, \"#46039f\"], [0.2222222222222222, \"#7201a8\"], [0.3333333333333333, \"#9c179e\"], [0.4444444444444444, \"#bd3786\"], [0.5555555555555556, \"#d8576b\"], [0.6666666666666666, \"#ed7953\"], [0.7777777777777778, \"#fb9f3a\"], [0.8888888888888888, \"#fdca26\"], [1.0, \"#f0f921\"]], \"type\": \"contour\"}], \"contourcarpet\": [{\"colorbar\": {\"outlinewidth\": 0, \"ticks\": \"\"}, \"type\": \"contourcarpet\"}], \"heatmap\": [{\"colorbar\": {\"outlinewidth\": 0, \"ticks\": \"\"}, \"colorscale\": [[0.0, \"#0d0887\"], [0.1111111111111111, \"#46039f\"], [0.2222222222222222, \"#7201a8\"], [0.3333333333333333, \"#9c179e\"], [0.4444444444444444, \"#bd3786\"], [0.5555555555555556, \"#d8576b\"], [0.6666666666666666, \"#ed7953\"], [0.7777777777777778, \"#fb9f3a\"], [0.8888888888888888, \"#fdca26\"], [1.0, \"#f0f921\"]], \"type\": \"heatmap\"}], \"heatmapgl\": [{\"colorbar\": {\"outlinewidth\": 0, \"ticks\": \"\"}, \"colorscale\": [[0.0, \"#0d0887\"], [0.1111111111111111, \"#46039f\"], [0.2222222222222222, \"#7201a8\"], [0.3333333333333333, \"#9c179e\"], [0.4444444444444444, \"#bd3786\"], [0.5555555555555556, \"#d8576b\"], [0.6666666666666666, \"#ed7953\"], [0.7777777777777778, \"#fb9f3a\"], [0.8888888888888888, \"#fdca26\"], [1.0, \"#f0f921\"]], \"type\": \"heatmapgl\"}], \"histogram\": [{\"marker\": {\"colorbar\": {\"outlinewidth\": 0, \"ticks\": \"\"}}, \"type\": \"histogram\"}], \"histogram2d\": [{\"colorbar\": {\"outlinewidth\": 0, \"ticks\": \"\"}, \"colorscale\": [[0.0, \"#0d0887\"], [0.1111111111111111, \"#46039f\"], [0.2222222222222222, \"#7201a8\"], [0.3333333333333333, \"#9c179e\"], [0.4444444444444444, \"#bd3786\"], [0.5555555555555556, \"#d8576b\"], [0.6666666666666666, \"#ed7953\"], [0.7777777777777778, \"#fb9f3a\"], [0.8888888888888888, \"#fdca26\"], [1.0, \"#f0f921\"]], \"type\": \"histogram2d\"}], \"histogram2dcontour\": [{\"colorbar\": {\"outlinewidth\": 0, \"ticks\": \"\"}, \"colorscale\": [[0.0, \"#0d0887\"], [0.1111111111111111, \"#46039f\"], [0.2222222222222222, \"#7201a8\"], [0.3333333333333333, \"#9c179e\"], [0.4444444444444444, \"#bd3786\"], [0.5555555555555556, \"#d8576b\"], [0.6666666666666666, \"#ed7953\"], [0.7777777777777778, \"#fb9f3a\"], [0.8888888888888888, \"#fdca26\"], [1.0, \"#f0f921\"]], \"type\": \"histogram2dcontour\"}], \"mesh3d\": [{\"colorbar\": {\"outlinewidth\": 0, \"ticks\": \"\"}, \"type\": \"mesh3d\"}], \"parcoords\": [{\"line\": {\"colorbar\": {\"outlinewidth\": 0, \"ticks\": \"\"}}, \"type\": \"parcoords\"}], \"pie\": [{\"automargin\": true, \"type\": \"pie\"}], \"scatter\": [{\"marker\": {\"colorbar\": {\"outlinewidth\": 0, \"ticks\": \"\"}}, \"type\": \"scatter\"}], \"scatter3d\": [{\"line\": {\"colorbar\": {\"outlinewidth\": 0, \"ticks\": \"\"}}, \"marker\": {\"colorbar\": {\"outlinewidth\": 0, \"ticks\": \"\"}}, \"type\": \"scatter3d\"}], \"scattercarpet\": [{\"marker\": {\"colorbar\": {\"outlinewidth\": 0, \"ticks\": \"\"}}, \"type\": \"scattercarpet\"}], \"scattergeo\": [{\"marker\": {\"colorbar\": {\"outlinewidth\": 0, \"ticks\": \"\"}}, \"type\": \"scattergeo\"}], \"scattergl\": [{\"marker\": {\"colorbar\": {\"outlinewidth\": 0, \"ticks\": \"\"}}, \"type\": \"scattergl\"}], \"scattermapbox\": [{\"marker\": {\"colorbar\": {\"outlinewidth\": 0, \"ticks\": \"\"}}, \"type\": \"scattermapbox\"}], \"scatterpolar\": [{\"marker\": {\"colorbar\": {\"outlinewidth\": 0, \"ticks\": \"\"}}, \"type\": \"scatterpolar\"}], \"scatterpolargl\": [{\"marker\": {\"colorbar\": {\"outlinewidth\": 0, \"ticks\": \"\"}}, \"type\": \"scatterpolargl\"}], \"scatterternary\": [{\"marker\": {\"colorbar\": {\"outlinewidth\": 0, \"ticks\": \"\"}}, \"type\": \"scatterternary\"}], \"surface\": [{\"colorbar\": {\"outlinewidth\": 0, \"ticks\": \"\"}, \"colorscale\": [[0.0, \"#0d0887\"], [0.1111111111111111, \"#46039f\"], [0.2222222222222222, \"#7201a8\"], [0.3333333333333333, \"#9c179e\"], [0.4444444444444444, \"#bd3786\"], [0.5555555555555556, \"#d8576b\"], [0.6666666666666666, \"#ed7953\"], [0.7777777777777778, \"#fb9f3a\"], [0.8888888888888888, \"#fdca26\"], [1.0, \"#f0f921\"]], \"type\": \"surface\"}], \"table\": [{\"cells\": {\"fill\": {\"color\": \"#EBF0F8\"}, \"line\": {\"color\": \"white\"}}, \"header\": {\"fill\": {\"color\": \"#C8D4E3\"}, \"line\": {\"color\": \"white\"}}, \"type\": \"table\"}]}, \"layout\": {\"annotationdefaults\": {\"arrowcolor\": \"#2a3f5f\", \"arrowhead\": 0, \"arrowwidth\": 1}, \"coloraxis\": {\"colorbar\": {\"outlinewidth\": 0, \"ticks\": \"\"}}, \"colorscale\": {\"diverging\": [[0, \"#8e0152\"], [0.1, \"#c51b7d\"], [0.2, \"#de77ae\"], [0.3, \"#f1b6da\"], [0.4, \"#fde0ef\"], [0.5, \"#f7f7f7\"], [0.6, \"#e6f5d0\"], [0.7, \"#b8e186\"], [0.8, \"#7fbc41\"], [0.9, \"#4d9221\"], [1, \"#276419\"]], \"sequential\": [[0.0, \"#0d0887\"], [0.1111111111111111, \"#46039f\"], [0.2222222222222222, \"#7201a8\"], [0.3333333333333333, \"#9c179e\"], [0.4444444444444444, \"#bd3786\"], [0.5555555555555556, \"#d8576b\"], [0.6666666666666666, \"#ed7953\"], [0.7777777777777778, \"#fb9f3a\"], [0.8888888888888888, \"#fdca26\"], [1.0, \"#f0f921\"]], \"sequentialminus\": [[0.0, \"#0d0887\"], [0.1111111111111111, \"#46039f\"], [0.2222222222222222, \"#7201a8\"], [0.3333333333333333, \"#9c179e\"], [0.4444444444444444, \"#bd3786\"], [0.5555555555555556, \"#d8576b\"], [0.6666666666666666, \"#ed7953\"], [0.7777777777777778, \"#fb9f3a\"], [0.8888888888888888, \"#fdca26\"], [1.0, \"#f0f921\"]]}, \"colorway\": [\"#636efa\", \"#EF553B\", \"#00cc96\", \"#ab63fa\", \"#FFA15A\", \"#19d3f3\", \"#FF6692\", \"#B6E880\", \"#FF97FF\", \"#FECB52\"], \"font\": {\"color\": \"#2a3f5f\"}, \"geo\": {\"bgcolor\": \"white\", \"lakecolor\": \"white\", \"landcolor\": \"#E5ECF6\", \"showlakes\": true, \"showland\": true, \"subunitcolor\": \"white\"}, \"hoverlabel\": {\"align\": \"left\"}, \"hovermode\": \"closest\", \"mapbox\": {\"style\": \"light\"}, \"paper_bgcolor\": \"white\", \"plot_bgcolor\": \"#E5ECF6\", \"polar\": {\"angularaxis\": {\"gridcolor\": \"white\", \"linecolor\": \"white\", \"ticks\": \"\"}, \"bgcolor\": \"#E5ECF6\", \"radialaxis\": {\"gridcolor\": \"white\", \"linecolor\": \"white\", \"ticks\": \"\"}}, \"scene\": {\"xaxis\": {\"backgroundcolor\": \"#E5ECF6\", \"gridcolor\": \"white\", \"gridwidth\": 2, \"linecolor\": \"white\", \"showbackground\": true, \"ticks\": \"\", \"zerolinecolor\": \"white\"}, \"yaxis\": {\"backgroundcolor\": \"#E5ECF6\", \"gridcolor\": \"white\", \"gridwidth\": 2, \"linecolor\": \"white\", \"showbackground\": true, \"ticks\": \"\", \"zerolinecolor\": \"white\"}, \"zaxis\": {\"backgroundcolor\": \"#E5ECF6\", \"gridcolor\": \"white\", \"gridwidth\": 2, \"linecolor\": \"white\", \"showbackground\": true, \"ticks\": \"\", \"zerolinecolor\": \"white\"}}, \"shapedefaults\": {\"line\": {\"color\": \"#2a3f5f\"}}, \"ternary\": {\"aaxis\": {\"gridcolor\": \"white\", \"linecolor\": \"white\", \"ticks\": \"\"}, \"baxis\": {\"gridcolor\": \"white\", \"linecolor\": \"white\", \"ticks\": \"\"}, \"bgcolor\": \"#E5ECF6\", \"caxis\": {\"gridcolor\": \"white\", \"linecolor\": \"white\", \"ticks\": \"\"}}, \"title\": {\"x\": 0.05}, \"xaxis\": {\"automargin\": true, \"gridcolor\": \"white\", \"linecolor\": \"white\", \"ticks\": \"\", \"title\": {\"standoff\": 15}, \"zerolinecolor\": \"white\", \"zerolinewidth\": 2}, \"yaxis\": {\"automargin\": true, \"gridcolor\": \"white\", \"linecolor\": \"white\", \"ticks\": \"\", \"title\": {\"standoff\": 15}, \"zerolinecolor\": \"white\", \"zerolinewidth\": 2}}}, \"title\": {\"text\": \"Deaths - World\"}, \"xaxis\": {\"anchor\": \"y\", \"domain\": [0.0, 1.0], \"rangemode\": \"tozero\", \"title\": {\"text\": \"Mean Daily Growth over 14 previous days compared to Max Daily Growth (%)\"}}, \"yaxis\": {\"anchor\": \"x\", \"domain\": [0.0, 1.0], \"rangemode\": \"tozero\", \"title\": {\"text\": \"Percentage of Total occuring in the last 14 days (%)\"}}},\n",
       "                        {\"responsive\": true}\n",
       "                    ).then(function(){\n",
       "                            \n",
       "var gd = document.getElementById('e18982c2-ebdb-4bfb-b418-b56dfe6c8bea');\n",
       "var x = new MutationObserver(function (mutations, observer) {{\n",
       "        var display = window.getComputedStyle(gd).display;\n",
       "        if (!display || display === 'none') {{\n",
       "            console.log([gd, 'removed!']);\n",
       "            Plotly.purge(gd);\n",
       "            observer.disconnect();\n",
       "        }}\n",
       "}});\n",
       "\n",
       "// Listen for the removal of the full notebook cells\n",
       "var notebookContainer = gd.closest('#notebook-container');\n",
       "if (notebookContainer) {{\n",
       "    x.observe(notebookContainer, {childList: true});\n",
       "}}\n",
       "\n",
       "// Listen for the clearing of the current output cell\n",
       "var outputEl = gd.closest('.output');\n",
       "if (outputEl) {{\n",
       "    x.observe(outputEl, {childList: true});\n",
       "}}\n",
       "\n",
       "                        })\n",
       "                };\n",
       "                });\n",
       "            </script>\n",
       "        </div>"
      ]
     },
     "metadata": {},
     "output_type": "display_data"
    }
   ],
   "source": [
    "if cases_w.value == 'Confirmed Cases':\n",
    "    daily_cases_global_2 = plot_phase_space_world(daily_cases_global, \n",
    "                                           title = cases_w.value, time_window=int(tw_w.value), \n",
    "                                           n_cases = min_w.value, country=ct_w.value)\n",
    "elif cases_w.value == 'Deaths':\n",
    "    daily_deaths_global_2 = plot_phase_space_world(daily_deaths_global, \n",
    "                                            title = cases_w.value, time_window=int(tw_w.value), \n",
    "                                            n_cases = min_w.value, country=ct_w.value)\n",
    "else:\n",
    "    print('ERROR in dataframe')   \n",
    "    \n"
   ]
  },
  {
   "cell_type": "code",
   "execution_count": 13,
   "metadata": {
    "ExecuteTime": {
     "end_time": "2020-04-27T21:19:45.752389Z",
     "start_time": "2020-04-27T21:19:45.748212Z"
    }
   },
   "outputs": [],
   "source": [
    "#daily_deaths_global_2"
   ]
  },
  {
   "cell_type": "markdown",
   "metadata": {},
   "source": [
    "## US"
   ]
  },
  {
   "cell_type": "markdown",
   "metadata": {},
   "source": [
    "### Reading data"
   ]
  },
  {
   "cell_type": "code",
   "execution_count": 14,
   "metadata": {
    "ExecuteTime": {
     "end_time": "2020-04-27T21:19:46.198902Z",
     "start_time": "2020-04-27T21:19:45.755304Z"
    }
   },
   "outputs": [],
   "source": [
    "daily_cases_US = pd.read_csv(date2+'_COVID-19-master_JHU/csse_covid_19_data/csse_covid_19_time_series/time_series_covid19_confirmed_US.csv', \n",
    "                                 dtype=object)\n",
    "# daily_cases_global = daily_cases_global_all.drop(columns =['Province/State', 'Lat', 'Long'])\n",
    "daily_cases_US = daily_cases_US[~daily_cases_US['Province_State'].isin(['Diamond Princess', 'Grand Princess'])]\n",
    "\n",
    "daily_deaths_US = pd.read_csv(date2+'_COVID-19-master_JHU/csse_covid_19_data/csse_covid_19_time_series/time_series_covid19_deaths_US.csv', \n",
    "                                 dtype=object)\n",
    "# daily_deaths_global = daily_deaths_global_all.drop(columns =['Province/State', 'Lat', 'Long'])\n",
    "daily_deaths_US = daily_deaths_US[~daily_deaths_US['Province_State'].isin(['Diamond Princess', 'Grand Princess'])]\n",
    "\n",
    "daily_cases_US[daily_cases_US.columns[11:]] = daily_cases_US[daily_cases_US.columns[11:]].astype(float)\n",
    "daily_deaths_US[daily_deaths_US.columns[11:]] = daily_deaths_US[daily_deaths_US.columns[11:]].astype(float)\n",
    "\n",
    "daily_cases_US = daily_cases_US.groupby('Province_State')[daily_cases_US.columns[11:]].sum().reset_index()\n",
    "daily_deaths_US = daily_deaths_US.groupby('Province_State')[daily_deaths_US.columns[11:]].sum().reset_index()"
   ]
  },
  {
   "cell_type": "code",
   "execution_count": 15,
   "metadata": {
    "ExecuteTime": {
     "end_time": "2020-04-27T21:19:46.210630Z",
     "start_time": "2020-04-27T21:19:46.200683Z"
    }
   },
   "outputs": [
    {
     "data": {
      "application/vnd.jupyter.widget-view+json": {
       "model_id": "c2b2344e42b34a9191ba344fe93ba1b0",
       "version_major": 2,
       "version_minor": 0
      },
      "text/plain": [
       "FloatSlider(value=1000.0, continuous_update=False, description='Minimum Number:', max=100000.0, readout_format…"
      ]
     },
     "metadata": {},
     "output_type": "display_data"
    }
   ],
   "source": [
    "min_us = widgets.FloatSlider(\n",
    "    value=1000,\n",
    "    min=0,\n",
    "    max=100000,\n",
    "    step=1000,\n",
    "    description='Minimum Number:',\n",
    "    disabled=False,\n",
    "    continuous_update=False,\n",
    "    orientation='horizontal',\n",
    "    readout=True,\n",
    "    readout_format='.0f',\n",
    ")\n",
    "display(min_us)"
   ]
  },
  {
   "cell_type": "code",
   "execution_count": 16,
   "metadata": {
    "ExecuteTime": {
     "end_time": "2020-04-27T21:19:46.220058Z",
     "start_time": "2020-04-27T21:19:46.213228Z"
    }
   },
   "outputs": [],
   "source": [
    "# Select minimum number states\n",
    "df_sts = daily_cases_US[['Province_State',daily_cases_US.columns[-1]]]\n",
    "df_sts = df_sts[df_sts[daily_cases_US.columns[-1]].astype(float) > min_us.value]\n",
    "\n",
    "list_states = ['All States']\n",
    "list_states.extend(sorted(list(daily_cases_US['Province_State'].unique())))"
   ]
  },
  {
   "cell_type": "markdown",
   "metadata": {},
   "source": [
    "### Widgets"
   ]
  },
  {
   "cell_type": "code",
   "execution_count": 17,
   "metadata": {
    "ExecuteTime": {
     "end_time": "2020-04-27T21:19:46.258680Z",
     "start_time": "2020-04-27T21:19:46.222464Z"
    }
   },
   "outputs": [
    {
     "data": {
      "application/vnd.jupyter.widget-view+json": {
       "model_id": "9b3a7a6ea55a476faeeea97ef8b51f52",
       "version_major": 2,
       "version_minor": 0
      },
      "text/plain": [
       "SelectMultiple(description='State:', index=(0, 1, 2, 3, 4, 5, 6, 7, 8, 9, 10, 11, 12, 13, 14, 15, 16, 17, 18, …"
      ]
     },
     "metadata": {},
     "output_type": "display_data"
    },
    {
     "data": {
      "application/vnd.jupyter.widget-view+json": {
       "model_id": "81b635d4e33f408590a77a9e41570919",
       "version_major": 2,
       "version_minor": 0
      },
      "text/plain": [
       "ToggleButtons(description='Option:', options=('Confirmed Cases', 'Deaths'), value='Confirmed Cases')"
      ]
     },
     "metadata": {},
     "output_type": "display_data"
    },
    {
     "data": {
      "application/vnd.jupyter.widget-view+json": {
       "model_id": "68137946adbf43a4b7d9e11ddde67f84",
       "version_major": 2,
       "version_minor": 0
      },
      "text/plain": [
       "FloatSlider(value=20.0, continuous_update=False, description='Minimum Number:', max=1000.0, readout_format='.0…"
      ]
     },
     "metadata": {},
     "output_type": "display_data"
    },
    {
     "data": {
      "application/vnd.jupyter.widget-view+json": {
       "model_id": "1ce635d2485342668420c4fd3c13a11b",
       "version_major": 2,
       "version_minor": 0
      },
      "text/plain": [
       "FloatSlider(value=14.0, continuous_update=False, description='Days Avg:', max=21.0, min=1.0, readout_format='.…"
      ]
     },
     "metadata": {},
     "output_type": "display_data"
    }
   ],
   "source": [
    "style = {'description_width': 'initial'}\n",
    "\n",
    "st_us = widgets.SelectMultiple(\n",
    "    description='State:',\n",
    "    options=list_states,\n",
    "    value=list_states,\n",
    "    layout=Layout(width='20%', height='100px')\n",
    ")\n",
    "display(st_us)\n",
    "\n",
    "cases_us = widgets.ToggleButtons(\n",
    "    description='Option:',\n",
    "    options=['Confirmed Cases', 'Deaths'],\n",
    ")\n",
    "display(cases_us)\n",
    "\n",
    "min_us = widgets.FloatSlider(\n",
    "    value=20,\n",
    "    min=0,\n",
    "    max=1000,\n",
    "    step=50,\n",
    "    description='Minimum Number:',\n",
    "    disabled=False,\n",
    "    continuous_update=False,\n",
    "    orientation='horizontal',\n",
    "    readout=True,\n",
    "    readout_format='.0f',\n",
    ")\n",
    "display(min_us)\n",
    "\n",
    "tw_us = widgets.FloatSlider(\n",
    "    value=14,\n",
    "    min=1,\n",
    "    max=21,\n",
    "    step=1,\n",
    "    description='Days Avg:',\n",
    "    disabled=False,\n",
    "    continuous_update=False,\n",
    "    orientation='horizontal',\n",
    "    readout=True,\n",
    "    readout_format='.0f',\n",
    ")\n",
    "display(tw_us)"
   ]
  },
  {
   "cell_type": "markdown",
   "metadata": {},
   "source": [
    "### Plot"
   ]
  },
  {
   "cell_type": "code",
   "execution_count": 24,
   "metadata": {
    "ExecuteTime": {
     "end_time": "2020-04-27T21:20:17.481215Z",
     "start_time": "2020-04-27T21:20:16.162670Z"
    },
    "scrolled": false
   },
   "outputs": [
    {
     "data": {
      "application/vnd.plotly.v1+json": {
       "config": {
        "plotlyServerURL": "https://plot.ly"
       },
       "data": [
        {
         "customdata": [
          [
           13,
           "3/31/20",
           23,
           "Alabama"
          ],
          [
           4,
           "4/1/20",
           27,
           "Alabama"
          ],
          [
           5,
           "4/2/20",
           32,
           "Alabama"
          ],
          [
           6,
           "4/3/20",
           38,
           "Alabama"
          ],
          [
           6,
           "4/4/20",
           44,
           "Alabama"
          ],
          [
           1,
           "4/5/20",
           45,
           "Alabama"
          ],
          [
           4,
           "4/6/20",
           49,
           "Alabama"
          ],
          [
           15,
           "4/7/20",
           64,
           "Alabama"
          ],
          [
           2,
           "4/8/20",
           66,
           "Alabama"
          ],
          [
           4,
           "4/9/20",
           70,
           "Alabama"
          ],
          [
           10,
           "4/10/20",
           80,
           "Alabama"
          ],
          [
           12,
           "4/11/20",
           92,
           "Alabama"
          ],
          [
           1,
           "4/12/20",
           93,
           "Alabama"
          ],
          [
           6,
           "4/13/20",
           99,
           "Alabama"
          ],
          [
           15,
           "4/14/20",
           114,
           "Alabama"
          ],
          [
           4,
           "4/15/20",
           118,
           "Alabama"
          ],
          [
           15,
           "4/16/20",
           133,
           "Alabama"
          ],
          [
           15,
           "4/17/20",
           148,
           "Alabama"
          ],
          [
           5,
           "4/18/20",
           153,
           "Alabama"
          ],
          [
           4,
           "4/19/20",
           157,
           "Alabama"
          ],
          [
           6,
           "4/20/20",
           163,
           "Alabama"
          ],
          [
           20,
           "4/21/20",
           183,
           "Alabama"
          ],
          [
           13,
           "4/22/20",
           196,
           "Alabama"
          ],
          [
           6,
           "4/23/20",
           202,
           "Alabama"
          ],
          [
           7,
           "4/24/20",
           209,
           "Alabama"
          ],
          [
           0,
           "4/25/20",
           209,
           "Alabama"
          ],
          [
           10,
           "4/26/20",
           219,
           "Alabama"
          ]
         ],
         "hoverlabel": {
          "namelength": 0
         },
         "hovertemplate": "State =%{customdata[3]}<br>Mean growth over 14d compared to max growth =%{x}<br>% cases from last 14d =%{y}<br>Deaths=%{customdata[2]}<br>Deaths today =%{customdata[0]}<br>Date=%{customdata[1]}",
         "legendgroup": "Alabama",
         "marker": {
          "color": "#636efa",
          "size": [
           23,
           27,
           32,
           38,
           44,
           45,
           49,
           64,
           66,
           70,
           80,
           92,
           93,
           99,
           114,
           118,
           133,
           148,
           153,
           157,
           163,
           183,
           196,
           202,
           209,
           209,
           219
          ],
          "sizemode": "area",
          "sizeref": 55.6725,
          "symbol": "circle"
         },
         "mode": "lines+markers",
         "name": "Alabama",
         "showlegend": true,
         "type": "scattergl",
         "x": [
          11,
          12.9,
          15.2,
          18.1,
          21,
          21.4,
          23.3,
          30.5,
          31,
          32.9,
          36.2,
          41.9,
          39.5,
          42.4,
          43.3,
          43.3,
          48.1,
          52.4,
          51.9,
          53.3,
          54.3,
          56.7,
          61.9,
          62.9,
          61.4,
          55.7,
          60
         ],
         "xaxis": "x",
         "y": [
          100,
          100,
          100,
          100,
          100,
          100,
          100,
          100,
          98.5,
          98.6,
          95,
          95.7,
          89.2,
          89.9,
          79.8,
          77.1,
          75.9,
          74.3,
          71.2,
          71.3,
          69.9,
          65,
          66.3,
          65.3,
          61.7,
          56,
          57.5
         ],
         "yaxis": "y"
        },
        {
         "customdata": [
          [
           3,
           "3/30/20",
           20,
           "Arizona"
          ],
          [
           5,
           "3/31/20",
           25,
           "Arizona"
          ],
          [
           7,
           "4/1/20",
           32,
           "Arizona"
          ],
          [
           3,
           "4/2/20",
           35,
           "Arizona"
          ],
          [
           9,
           "4/3/20",
           44,
           "Arizona"
          ],
          [
           8,
           "4/4/20",
           52,
           "Arizona"
          ],
          [
           12,
           "4/5/20",
           64,
           "Arizona"
          ],
          [
           1,
           "4/6/20",
           65,
           "Arizona"
          ],
          [
           8,
           "4/7/20",
           73,
           "Arizona"
          ],
          [
           16,
           "4/8/20",
           89,
           "Arizona"
          ],
          [
           9,
           "4/9/20",
           98,
           "Arizona"
          ],
          [
           8,
           "4/10/20",
           106,
           "Arizona"
          ],
          [
           11,
           "4/11/20",
           117,
           "Arizona"
          ],
          [
           8,
           "4/12/20",
           125,
           "Arizona"
          ],
          [
           7,
           "4/13/20",
           132,
           "Arizona"
          ],
          [
           11,
           "4/14/20",
           143,
           "Arizona"
          ],
          [
           12,
           "4/15/20",
           155,
           "Arizona"
          ],
          [
           9,
           "4/16/20",
           164,
           "Arizona"
          ],
          [
           19,
           "4/17/20",
           183,
           "Arizona"
          ],
          [
           -3,
           "4/18/20",
           180,
           "Arizona"
          ],
          [
           4,
           "4/19/20",
           184,
           "Arizona"
          ],
          [
           7,
           "4/20/20",
           191,
           "Arizona"
          ],
          [
           17,
           "4/21/20",
           208,
           "Arizona"
          ],
          [
           23,
           "4/22/20",
           231,
           "Arizona"
          ],
          [
           18,
           "4/23/20",
           249,
           "Arizona"
          ],
          [
           17,
           "4/24/20",
           266,
           "Arizona"
          ],
          [
           7,
           "4/25/20",
           273,
           "Arizona"
          ],
          [
           2,
           "4/26/20",
           275,
           "Arizona"
          ]
         ],
         "hoverlabel": {
          "namelength": 0
         },
         "hovertemplate": "State =%{customdata[3]}<br>Mean growth over 14d compared to max growth =%{x}<br>% cases from last 14d =%{y}<br>Deaths=%{customdata[2]}<br>Deaths today =%{customdata[0]}<br>Date=%{customdata[1]}",
         "legendgroup": "Arizona",
         "marker": {
          "color": "#EF553B",
          "size": [
           20,
           25,
           32,
           35,
           44,
           52,
           64,
           65,
           73,
           89,
           98,
           106,
           117,
           125,
           132,
           143,
           155,
           164,
           183,
           180,
           184,
           191,
           208,
           231,
           249,
           266,
           273,
           275
          ],
          "sizemode": "area",
          "sizeref": 55.6725,
          "symbol": "circle"
         },
         "mode": "lines+markers",
         "name": "Arizona",
         "showlegend": true,
         "type": "scattergl",
         "x": [
          7.5,
          9.4,
          12,
          13.2,
          16.5,
          19.2,
          23.3,
          23.7,
          25.6,
          31.2,
          33.8,
          35,
          38.3,
          40.6,
          42.1,
          44.4,
          46.2,
          48.5,
          52.3,
          48.1,
          45.1,
          47.4,
          50.8,
          53.4,
          56.8,
          60.2,
          58.6,
          56.4
         ],
         "xaxis": "x",
         "y": [
          100,
          100,
          100,
          100,
          100,
          98.1,
          96.9,
          96.9,
          93.2,
          93.3,
          91.8,
          87.7,
          87.2,
          86.4,
          84.8,
          82.5,
          79.4,
          78.7,
          76,
          71.1,
          65.2,
          66,
          64.9,
          61.5,
          60.6,
          60.2,
          57.1,
          54.5
         ],
         "yaxis": "y"
        },
        {
         "customdata": [
          [
           3,
           "4/9/20",
           21,
           "Arkansas"
          ],
          [
           0,
           "4/10/20",
           21,
           "Arkansas"
          ],
          [
           4,
           "4/11/20",
           25,
           "Arkansas"
          ],
          [
           2,
           "4/12/20",
           27,
           "Arkansas"
          ],
          [
           2,
           "4/13/20",
           29,
           "Arkansas"
          ],
          [
           3,
           "4/14/20",
           32,
           "Arkansas"
          ],
          [
           1,
           "4/15/20",
           33,
           "Arkansas"
          ],
          [
           4,
           "4/16/20",
           37,
           "Arkansas"
          ],
          [
           0,
           "4/17/20",
           37,
           "Arkansas"
          ],
          [
           1,
           "4/18/20",
           38,
           "Arkansas"
          ],
          [
           1,
           "4/19/20",
           39,
           "Arkansas"
          ],
          [
           2,
           "4/20/20",
           41,
           "Arkansas"
          ],
          [
           1,
           "4/21/20",
           42,
           "Arkansas"
          ],
          [
           0,
           "4/22/20",
           42,
           "Arkansas"
          ],
          [
           3,
           "4/23/20",
           45,
           "Arkansas"
          ],
          [
           2,
           "4/24/20",
           47,
           "Arkansas"
          ],
          [
           1,
           "4/25/20",
           48,
           "Arkansas"
          ],
          [
           3,
           "4/26/20",
           51,
           "Arkansas"
          ]
         ],
         "hoverlabel": {
          "namelength": 0
         },
         "hovertemplate": "State =%{customdata[3]}<br>Mean growth over 14d compared to max growth =%{x}<br>% cases from last 14d =%{y}<br>Deaths=%{customdata[2]}<br>Deaths today =%{customdata[0]}<br>Date=%{customdata[1]}",
         "legendgroup": "Arkansas",
         "marker": {
          "color": "#00cc96",
          "size": [
           21,
           21,
           25,
           27,
           29,
           32,
           33,
           37,
           37,
           38,
           39,
           41,
           42,
           42,
           45,
           47,
           48,
           51
          ],
          "sizemode": "area",
          "sizeref": 55.6725,
          "symbol": "circle"
         },
         "mode": "lines+markers",
         "name": "Arkansas",
         "showlegend": true,
         "type": "scattergl",
         "x": [
          33.9,
          32.1,
          35.7,
          37.5,
          39.3,
          42.9,
          41.1,
          44.6,
          44.6,
          42.9,
          41.1,
          44.6,
          42.9,
          42.9,
          42.9,
          46.4,
          41.1,
          42.9
         ],
         "xaxis": "x",
         "y": [
          90.5,
          85.7,
          80,
          77.8,
          75.9,
          75,
          69.7,
          67.6,
          67.6,
          63.2,
          59,
          61,
          57.1,
          57.1,
          53.3,
          55.3,
          47.9,
          47.1
         ],
         "yaxis": "y"
        },
        {
         "customdata": [
          [
           6,
           "3/20/20",
           24,
           "California"
          ],
          [
           1,
           "3/21/20",
           25,
           "California"
          ],
          [
           5,
           "3/22/20",
           30,
           "California"
          ],
          [
           9,
           "3/23/20",
           39,
           "California"
          ],
          [
           11,
           "3/24/20",
           50,
           "California"
          ],
          [
           15,
           "3/25/20",
           65,
           "California"
          ],
          [
           16,
           "3/26/20",
           81,
           "California"
          ],
          [
           13,
           "3/27/20",
           94,
           "California"
          ],
          [
           16,
           "3/28/20",
           110,
           "California"
          ],
          [
           14,
           "3/29/20",
           124,
           "California"
          ],
          [
           22,
           "3/30/20",
           146,
           "California"
          ],
          [
           27,
           "3/31/20",
           173,
           "California"
          ],
          [
           26,
           "4/1/20",
           199,
           "California"
          ],
          [
           39,
           "4/2/20",
           238,
           "California"
          ],
          [
           27,
           "4/3/20",
           265,
           "California"
          ],
          [
           24,
           "4/4/20",
           289,
           "California"
          ],
          [
           59,
           "4/5/20",
           348,
           "California"
          ],
          [
           32,
           "4/6/20",
           380,
           "California"
          ],
          [
           52,
           "4/7/20",
           432,
           "California"
          ],
          [
           63,
           "4/8/20",
           495,
           "California"
          ],
          [
           49,
           "4/9/20",
           544,
           "California"
          ],
          [
           39,
           "4/10/20",
           583,
           "California"
          ],
          [
           21,
           "4/11/20",
           604,
           "California"
          ],
          [
           36,
           "4/12/20",
           640,
           "California"
          ],
          [
           74,
           "4/13/20",
           714,
           "California"
          ],
          [
           53,
           "4/14/20",
           767,
           "California"
          ],
          [
           93,
           "4/15/20",
           860,
           "California"
          ],
          [
           96,
           "4/16/20",
           956,
           "California"
          ],
          [
           81,
           "4/17/20",
           1037,
           "California"
          ],
          [
           103,
           "4/18/20",
           1140,
           "California"
          ],
          [
           37,
           "4/19/20",
           1177,
           "California"
          ],
          [
           48,
           "4/20/20",
           1225,
           "California"
          ],
          [
           57,
           "4/21/20",
           1282,
           "California"
          ],
          [
           139,
           "4/22/20",
           1421,
           "California"
          ],
          [
           112,
           "4/23/20",
           1533,
           "California"
          ],
          [
           88,
           "4/24/20",
           1621,
           "California"
          ],
          [
           68,
           "4/25/20",
           1689,
           "California"
          ],
          [
           36,
           "4/26/20",
           1725,
           "California"
          ]
         ],
         "hoverlabel": {
          "namelength": 0
         },
         "hovertemplate": "State =%{customdata[3]}<br>Mean growth over 14d compared to max growth =%{x}<br>% cases from last 14d =%{y}<br>Deaths=%{customdata[2]}<br>Deaths today =%{customdata[0]}<br>Date=%{customdata[1]}",
         "legendgroup": "California",
         "marker": {
          "color": "#ab63fa",
          "size": [
           24,
           25,
           30,
           39,
           50,
           65,
           81,
           94,
           110,
           124,
           146,
           173,
           199,
           238,
           265,
           289,
           348,
           380,
           432,
           495,
           544,
           583,
           604,
           640,
           714,
           767,
           860,
           956,
           1037,
           1140,
           1177,
           1225,
           1282,
           1421,
           1533,
           1621,
           1689,
           1725
          ],
          "sizemode": "area",
          "sizeref": 55.6725,
          "symbol": "circle"
         },
         "mode": "lines+markers",
         "name": "California",
         "showlegend": true,
         "type": "scattergl",
         "x": [
          1.5,
          1.5,
          1.8,
          2.4,
          3.1,
          3.9,
          4.9,
          5.7,
          6.8,
          7.6,
          8.9,
          10.3,
          11.7,
          14,
          15.4,
          16.8,
          20.3,
          21.7,
          24.4,
          27.4,
          29.5,
          31.2,
          31.5,
          32.9,
          36.2,
          37.9,
          42.2,
          45.8,
          49.2,
          54.3,
          52.9,
          53.9,
          54.2,
          59.1,
          63.1,
          66.2,
          69.2,
          69.2
         ],
         "xaxis": "x",
         "y": [
          95.8,
          96,
          96.7,
          97.4,
          96,
          93.8,
          95.1,
          95.7,
          97.3,
          96,
          95.2,
          93.1,
          92,
          92.4,
          90.9,
          91.3,
          91.4,
          89.7,
          88.4,
          86.9,
          85.1,
          83.9,
          81.8,
          80.6,
          79.6,
          77.4,
          76.9,
          75.1,
          74.4,
          74.6,
          70.4,
          69,
          66.3,
          65.2,
          64.5,
          64,
          64.2,
          62.9
         ],
         "yaxis": "y"
        },
        {
         "customdata": [
          [
           8,
           "3/27/20",
           27,
           "Colorado"
          ],
          [
           4,
           "3/28/20",
           31,
           "Colorado"
          ],
          [
           16,
           "3/29/20",
           47,
           "Colorado"
          ],
          [
           0,
           "3/30/20",
           47,
           "Colorado"
          ],
          [
           22,
           "3/31/20",
           69,
           "Colorado"
          ],
          [
           0,
           "4/1/20",
           69,
           "Colorado"
          ],
          [
           11,
           "4/2/20",
           80,
           "Colorado"
          ],
          [
           17,
           "4/3/20",
           97,
           "Colorado"
          ],
          [
           14,
           "4/4/20",
           111,
           "Colorado"
          ],
          [
           29,
           "4/5/20",
           140,
           "Colorado"
          ],
          [
           10,
           "4/6/20",
           150,
           "Colorado"
          ],
          [
           29,
           "4/7/20",
           179,
           "Colorado"
          ],
          [
           14,
           "4/8/20",
           193,
           "Colorado"
          ],
          [
           0,
           "4/9/20",
           193,
           "Colorado"
          ],
          [
           33,
           "4/10/20",
           226,
           "Colorado"
          ],
          [
           24,
           "4/11/20",
           250,
           "Colorado"
          ],
          [
           39,
           "4/12/20",
           289,
           "Colorado"
          ],
          [
           17,
           "4/13/20",
           306,
           "Colorado"
          ],
          [
           21,
           "4/14/20",
           327,
           "Colorado"
          ],
          [
           1,
           "4/15/20",
           328,
           "Colorado"
          ],
          [
           27,
           "4/16/20",
           355,
           "Colorado"
          ],
          [
           17,
           "4/17/20",
           372,
           "Colorado"
          ],
          [
           17,
           "4/18/20",
           389,
           "Colorado"
          ],
          [
           31,
           "4/19/20",
           420,
           "Colorado"
          ],
          [
           0,
           "4/20/20",
           420,
           "Colorado"
          ],
          [
           63,
           "4/21/20",
           483,
           "Colorado"
          ],
          [
           23,
           "4/22/20",
           506,
           "Colorado"
          ],
          [
           46,
           "4/23/20",
           552,
           "Colorado"
          ],
          [
           122,
           "4/24/20",
           674,
           "Colorado"
          ],
          [
           10,
           "4/25/20",
           684,
           "Colorado"
          ],
          [
           4,
           "4/26/20",
           688,
           "Colorado"
          ]
         ],
         "hoverlabel": {
          "namelength": 0
         },
         "hovertemplate": "State =%{customdata[3]}<br>Mean growth over 14d compared to max growth =%{x}<br>% cases from last 14d =%{y}<br>Deaths=%{customdata[2]}<br>Deaths today =%{customdata[0]}<br>Date=%{customdata[1]}",
         "legendgroup": "Colorado",
         "marker": {
          "color": "#FFA15A",
          "size": [
           27,
           31,
           47,
           47,
           69,
           69,
           80,
           97,
           111,
           140,
           150,
           179,
           193,
           193,
           226,
           250,
           289,
           306,
           327,
           328,
           355,
           372,
           389,
           420,
           420,
           483,
           506,
           552,
           674,
           684,
           688
          ],
          "sizemode": "area",
          "sizeref": 55.6725,
          "symbol": "circle"
         },
         "mode": "lines+markers",
         "name": "Colorado",
         "showlegend": true,
         "type": "scattergl",
         "x": [
          2.9,
          3.5,
          5.2,
          5.2,
          7.6,
          7.6,
          8.6,
          10.5,
          11.9,
          15.2,
          16.2,
          19.4,
          20.1,
          19.7,
          22.6,
          24.8,
          27.4,
          29.4,
          29.3,
          29.4,
          31.2,
          31.2,
          31.5,
          31.7,
          30.6,
          34.5,
          35.5,
          40.7,
          50.8,
          49.2,
          45.2
         ],
         "xaxis": "x",
         "y": [
          96.3,
          100,
          97.9,
          97.9,
          97.1,
          97.1,
          95,
          95.9,
          94.6,
          95.7,
          95.3,
          95.5,
          91.7,
          90.2,
          88.1,
          87.6,
          83.7,
          84.6,
          78.9,
          79,
          77.5,
          73.9,
          71.5,
          66.7,
          64.3,
          62.9,
          61.9,
          65,
          66.5,
          63.5,
          58
         ],
         "yaxis": "y"
        },
        {
         "customdata": [
          [
           2,
           "3/26/20",
           21,
           "Connecticut"
          ],
          [
           6,
           "3/27/20",
           27,
           "Connecticut"
          ],
          [
           6,
           "3/28/20",
           33,
           "Connecticut"
          ],
          [
           1,
           "3/29/20",
           34,
           "Connecticut"
          ],
          [
           2,
           "3/30/20",
           36,
           "Connecticut"
          ],
          [
           33,
           "3/31/20",
           69,
           "Connecticut"
          ],
          [
           16,
           "4/1/20",
           85,
           "Connecticut"
          ],
          [
           27,
           "4/2/20",
           112,
           "Connecticut"
          ],
          [
           19,
           "4/3/20",
           131,
           "Connecticut"
          ],
          [
           34,
           "4/4/20",
           165,
           "Connecticut"
          ],
          [
           24,
           "4/5/20",
           189,
           "Connecticut"
          ],
          [
           17,
           "4/6/20",
           206,
           "Connecticut"
          ],
          [
           71,
           "4/7/20",
           277,
           "Connecticut"
          ],
          [
           49,
           "4/8/20",
           326,
           "Connecticut"
          ],
          [
           54,
           "4/9/20",
           380,
           "Connecticut"
          ],
          [
           68,
           "4/10/20",
           448,
           "Connecticut"
          ],
          [
           46,
           "4/11/20",
           494,
           "Connecticut"
          ],
          [
           60,
           "4/12/20",
           554,
           "Connecticut"
          ],
          [
           48,
           "4/13/20",
           602,
           "Connecticut"
          ],
          [
           69,
           "4/14/20",
           671,
           "Connecticut"
          ],
          [
           197,
           "4/15/20",
           868,
           "Connecticut"
          ],
          [
           103,
           "4/16/20",
           971,
           "Connecticut"
          ],
          [
           65,
           "4/17/20",
           1036,
           "Connecticut"
          ],
          [
           50,
           "4/18/20",
           1086,
           "Connecticut"
          ],
          [
           41,
           "4/19/20",
           1127,
           "Connecticut"
          ],
          [
           204,
           "4/20/20",
           1331,
           "Connecticut"
          ],
          [
           92,
           "4/21/20",
           1423,
           "Connecticut"
          ],
          [
           121,
           "4/22/20",
           1544,
           "Connecticut"
          ],
          [
           95,
           "4/23/20",
           1639,
           "Connecticut"
          ],
          [
           128,
           "4/24/20",
           1767,
           "Connecticut"
          ],
          [
           98,
           "4/25/20",
           1865,
           "Connecticut"
          ],
          [
           59,
           "4/26/20",
           1924,
           "Connecticut"
          ]
         ],
         "hoverlabel": {
          "namelength": 0
         },
         "hovertemplate": "State =%{customdata[3]}<br>Mean growth over 14d compared to max growth =%{x}<br>% cases from last 14d =%{y}<br>Deaths=%{customdata[2]}<br>Deaths today =%{customdata[0]}<br>Date=%{customdata[1]}",
         "legendgroup": "Connecticut",
         "marker": {
          "color": "#19d3f3",
          "size": [
           21,
           27,
           33,
           34,
           36,
           69,
           85,
           112,
           131,
           165,
           189,
           206,
           277,
           326,
           380,
           448,
           494,
           554,
           602,
           671,
           868,
           971,
           1036,
           1086,
           1127,
           1331,
           1423,
           1544,
           1639,
           1767,
           1865,
           1924
          ],
          "sizemode": "area",
          "sizeref": 55.6725,
          "symbol": "circle"
         },
         "mode": "lines+markers",
         "name": "Connecticut",
         "showlegend": true,
         "type": "scattergl",
         "x": [
          0.8,
          1,
          1.2,
          1.2,
          1.3,
          2.5,
          3,
          4,
          4.6,
          5.8,
          6.6,
          7.1,
          9.6,
          11.1,
          13,
          15.3,
          16.7,
          18.9,
          20.5,
          21.8,
          28.4,
          31.1,
          32.8,
          33.4,
          34,
          40.8,
          41.6,
          44.2,
          45.6,
          47.8,
          49.7,
          49.7
         ],
         "xaxis": "x",
         "y": [
          100,
          100,
          100,
          100,
          100,
          100,
          98.8,
          97.3,
          96.9,
          97.6,
          95.8,
          95.1,
          95.7,
          94.2,
          94.5,
          94,
          93.3,
          93.9,
          94,
          89.7,
          90.2,
          88.5,
          87.4,
          84.8,
          83.2,
          84.5,
          80.5,
          78.9,
          76.8,
          74.6,
          73.5,
          71.2
         ],
         "yaxis": "y"
        },
        {
         "customdata": [
          [
           4,
           "4/9/20",
           23,
           "Delaware"
          ],
          [
           9,
           "4/10/20",
           32,
           "Delaware"
          ],
          [
           1,
           "4/11/20",
           33,
           "Delaware"
          ],
          [
           2,
           "4/12/20",
           35,
           "Delaware"
          ],
          [
           6,
           "4/13/20",
           41,
           "Delaware"
          ],
          [
           2,
           "4/14/20",
           43,
           "Delaware"
          ],
          [
           3,
           "4/15/20",
           46,
           "Delaware"
          ],
          [
           9,
           "4/16/20",
           55,
           "Delaware"
          ],
          [
           6,
           "4/17/20",
           61,
           "Delaware"
          ],
          [
           6,
           "4/18/20",
           67,
           "Delaware"
          ],
          [
           0,
           "4/19/20",
           67,
           "Delaware"
          ],
          [
           5,
           "4/20/20",
           72,
           "Delaware"
          ],
          [
           10,
           "4/21/20",
           82,
           "Delaware"
          ],
          [
           7,
           "4/22/20",
           89,
           "Delaware"
          ],
          [
           3,
           "4/23/20",
           92,
           "Delaware"
          ],
          [
           8,
           "4/24/20",
           100,
           "Delaware"
          ],
          [
           12,
           "4/25/20",
           112,
           "Delaware"
          ],
          [
           8,
           "4/26/20",
           120,
           "Delaware"
          ]
         ],
         "hoverlabel": {
          "namelength": 0
         },
         "hovertemplate": "State =%{customdata[3]}<br>Mean growth over 14d compared to max growth =%{x}<br>% cases from last 14d =%{y}<br>Deaths=%{customdata[2]}<br>Deaths today =%{customdata[0]}<br>Date=%{customdata[1]}",
         "legendgroup": "Delaware",
         "marker": {
          "color": "#FF6692",
          "size": [
           23,
           32,
           33,
           35,
           41,
           43,
           46,
           55,
           61,
           67,
           67,
           72,
           82,
           89,
           92,
           100,
           112,
           120
          ],
          "sizemode": "area",
          "sizeref": 55.6725,
          "symbol": "circle"
         },
         "mode": "lines+markers",
         "name": "Delaware",
         "showlegend": true,
         "type": "scattergl",
         "x": [
          15.7,
          21.4,
          20,
          20.7,
          25,
          23.6,
          25,
          30.7,
          33.6,
          37.9,
          37.9,
          40.7,
          47.1,
          50,
          49.3,
          48.6,
          56.4,
          60.7
         ],
         "xaxis": "x",
         "y": [
          95.7,
          93.8,
          84.8,
          82.9,
          85.4,
          76.7,
          76.1,
          78.2,
          77,
          79.1,
          79.1,
          79.2,
          80.5,
          78.7,
          75,
          68,
          70.5,
          70.8
         ],
         "yaxis": "y"
        },
        {
         "customdata": [
          [
           6,
           "4/4/20",
           21,
           "District of Columbia"
          ],
          [
           1,
           "4/5/20",
           22,
           "District of Columbia"
          ],
          [
           2,
           "4/6/20",
           24,
           "District of Columbia"
          ],
          [
           -2,
           "4/7/20",
           22,
           "District of Columbia"
          ],
          [
           5,
           "4/8/20",
           27,
           "District of Columbia"
          ],
          [
           5,
           "4/9/20",
           32,
           "District of Columbia"
          ],
          [
           6,
           "4/10/20",
           38,
           "District of Columbia"
          ],
          [
           9,
           "4/11/20",
           47,
           "District of Columbia"
          ],
          [
           3,
           "4/12/20",
           50,
           "District of Columbia"
          ],
          [
           2,
           "4/13/20",
           52,
           "District of Columbia"
          ],
          [
           15,
           "4/14/20",
           67,
           "District of Columbia"
          ],
          [
           5,
           "4/15/20",
           72,
           "District of Columbia"
          ],
          [
           9,
           "4/16/20",
           81,
           "District of Columbia"
          ],
          [
           5,
           "4/17/20",
           86,
           "District of Columbia"
          ],
          [
           5,
           "4/18/20",
           91,
           "District of Columbia"
          ],
          [
           5,
           "4/19/20",
           96,
           "District of Columbia"
          ],
          [
           9,
           "4/20/20",
           105,
           "District of Columbia"
          ],
          [
           7,
           "4/21/20",
           112,
           "District of Columbia"
          ],
          [
           15,
           "4/22/20",
           127,
           "District of Columbia"
          ],
          [
           12,
           "4/23/20",
           139,
           "District of Columbia"
          ],
          [
           14,
           "4/24/20",
           153,
           "District of Columbia"
          ],
          [
           12,
           "4/25/20",
           165,
           "District of Columbia"
          ],
          [
           13,
           "4/26/20",
           178,
           "District of Columbia"
          ]
         ],
         "hoverlabel": {
          "namelength": 0
         },
         "hovertemplate": "State =%{customdata[3]}<br>Mean growth over 14d compared to max growth =%{x}<br>% cases from last 14d =%{y}<br>Deaths=%{customdata[2]}<br>Deaths today =%{customdata[0]}<br>Date=%{customdata[1]}",
         "legendgroup": "District of Columbia",
         "marker": {
          "color": "#B6E880",
          "size": [
           21,
           22,
           24,
           22,
           27,
           32,
           38,
           47,
           50,
           52,
           67,
           72,
           81,
           86,
           91,
           96,
           105,
           112,
           127,
           139,
           153,
           165,
           178
          ],
          "sizemode": "area",
          "sizeref": 55.6725,
          "symbol": "circle"
         },
         "mode": "lines+markers",
         "name": "District of Columbia",
         "showlegend": true,
         "type": "scattergl",
         "x": [
          10,
          9.5,
          10.5,
          9.5,
          11.9,
          13.8,
          16.7,
          20.5,
          21.4,
          20.5,
          27.6,
          30,
          32.9,
          33.8,
          33.3,
          35.2,
          38.6,
          42.9,
          47.6,
          51,
          54.8,
          56.2,
          61
         ],
         "xaxis": "x",
         "y": [
          100,
          90.9,
          91.7,
          90.9,
          92.6,
          90.6,
          92.1,
          91.5,
          90,
          82.7,
          86.6,
          87.5,
          85.2,
          82.6,
          76.9,
          77.1,
          77.1,
          80.4,
          78.7,
          77,
          75.2,
          71.5,
          71.9
         ],
         "yaxis": "y"
        },
        {
         "customdata": [
          [
           5,
           "3/25/20",
           23,
           "Florida"
          ],
          [
           6,
           "3/26/20",
           29,
           "Florida"
          ],
          [
           6,
           "3/27/20",
           35,
           "Florida"
          ],
          [
           19,
           "3/28/20",
           54,
           "Florida"
          ],
          [
           2,
           "3/29/20",
           56,
           "Florida"
          ],
          [
           7,
           "3/30/20",
           63,
           "Florida"
          ],
          [
           22,
           "3/31/20",
           85,
           "Florida"
          ],
          [
           2,
           "4/1/20",
           87,
           "Florida"
          ],
          [
           77,
           "4/2/20",
           164,
           "Florida"
          ],
          [
           6,
           "4/3/20",
           170,
           "Florida"
          ],
          [
           25,
           "4/4/20",
           195,
           "Florida"
          ],
          [
           26,
           "4/5/20",
           221,
           "Florida"
          ],
          [
           15,
           "4/6/20",
           236,
           "Florida"
          ],
          [
           47,
           "4/7/20",
           283,
           "Florida"
          ],
          [
           26,
           "4/8/20",
           309,
           "Florida"
          ],
          [
           45,
           "4/9/20",
           354,
           "Florida"
          ],
          [
           36,
           "4/10/20",
           390,
           "Florida"
          ],
          [
           48,
           "4/11/20",
           438,
           "Florida"
          ],
          [
           23,
           "4/12/20",
           461,
           "Florida"
          ],
          [
           38,
           "4/13/20",
           499,
           "Florida"
          ],
          [
           72,
           "4/14/20",
           571,
           "Florida"
          ],
          [
           25,
           "4/15/20",
           596,
           "Florida"
          ],
          [
           72,
           "4/16/20",
           668,
           "Florida"
          ],
          [
           57,
           "4/17/20",
           725,
           "Florida"
          ],
          [
           23,
           "4/18/20",
           748,
           "Florida"
          ],
          [
           26,
           "4/19/20",
           774,
           "Florida"
          ],
          [
           48,
           "4/20/20",
           822,
           "Florida"
          ],
          [
           45,
           "4/21/20",
           867,
           "Florida"
          ],
          [
           26,
           "4/22/20",
           893,
           "Florida"
          ],
          [
           94,
           "4/23/20",
           987,
           "Florida"
          ],
          [
           59,
           "4/24/20",
           1046,
           "Florida"
          ],
          [
           9,
           "4/25/20",
           1055,
           "Florida"
          ],
          [
           20,
           "4/26/20",
           1075,
           "Florida"
          ]
         ],
         "hoverlabel": {
          "namelength": 0
         },
         "hovertemplate": "State =%{customdata[3]}<br>Mean growth over 14d compared to max growth =%{x}<br>% cases from last 14d =%{y}<br>Deaths=%{customdata[2]}<br>Deaths today =%{customdata[0]}<br>Date=%{customdata[1]}",
         "legendgroup": "Florida",
         "marker": {
          "color": "#FF97FF",
          "size": [
           23,
           29,
           35,
           54,
           56,
           63,
           85,
           87,
           164,
           170,
           195,
           221,
           236,
           283,
           309,
           354,
           390,
           438,
           461,
           499,
           571,
           596,
           668,
           725,
           748,
           774,
           822,
           867,
           893,
           987,
           1046,
           1055,
           1075
          ],
          "sizemode": "area",
          "sizeref": 55.6725,
          "symbol": "circle"
         },
         "mode": "lines+markers",
         "name": "Florida",
         "showlegend": true,
         "type": "scattergl",
         "x": [
          1.9,
          2.5,
          3.1,
          4.8,
          4.9,
          5.6,
          7.4,
          7.4,
          14.4,
          14.7,
          16.9,
          19.3,
          20.2,
          24.6,
          26.5,
          30.1,
          32.9,
          35.6,
          37.6,
          40.4,
          45.1,
          47.2,
          46.8,
          51.5,
          51.3,
          51.3,
          54.4,
          54.2,
          54.2,
          58.7,
          60.9,
          57.2,
          57
         ],
         "xaxis": "x",
         "y": [
          91.3,
          93.1,
          94.3,
          96.3,
          94.6,
          95.2,
          94.1,
          92,
          94.5,
          93.5,
          93.3,
          94.1,
          92.4,
          93.6,
          92.6,
          91.8,
          91,
          87.7,
          87.9,
          87.4,
          85.1,
          85.4,
          75.4,
          76.6,
          73.9,
          71.4,
          71.3,
          67.4,
          65.4,
          64.1,
          62.7,
          58.5,
          57.1
         ],
         "yaxis": "y"
        },
        {
         "customdata": [
          [
           6,
           "3/21/20",
           20,
           "Georgia"
          ],
          [
           5,
           "3/22/20",
           25,
           "Georgia"
          ],
          [
           0,
           "3/23/20",
           25,
           "Georgia"
          ],
          [
           7,
           "3/24/20",
           32,
           "Georgia"
          ],
          [
           8,
           "3/25/20",
           40,
           "Georgia"
          ],
          [
           8,
           "3/26/20",
           48,
           "Georgia"
          ],
          [
           16,
           "3/27/20",
           64,
           "Georgia"
          ],
          [
           5,
           "3/28/20",
           69,
           "Georgia"
          ],
          [
           11,
           "3/29/20",
           80,
           "Georgia"
          ],
          [
           7,
           "3/30/20",
           87,
           "Georgia"
          ],
          [
           24,
           "3/31/20",
           111,
           "Georgia"
          ],
          [
           28,
           "4/1/20",
           139,
           "Georgia"
          ],
          [
           24,
           "4/2/20",
           163,
           "Georgia"
          ],
          [
           21,
           "4/3/20",
           184,
           "Georgia"
          ],
          [
           17,
           "4/4/20",
           201,
           "Georgia"
          ],
          [
           10,
           "4/5/20",
           211,
           "Georgia"
          ],
          [
           18,
           "4/6/20",
           229,
           "Georgia"
          ],
          [
           100,
           "4/7/20",
           329,
           "Georgia"
          ],
          [
           33,
           "4/8/20",
           362,
           "Georgia"
          ],
          [
           17,
           "4/9/20",
           379,
           "Georgia"
          ],
          [
           37,
           "4/10/20",
           416,
           "Georgia"
          ],
          [
           13,
           "4/11/20",
           429,
           "Georgia"
          ],
          [
           4,
           "4/12/20",
           433,
           "Georgia"
          ],
          [
           32,
           "4/13/20",
           465,
           "Georgia"
          ],
          [
           60,
           "4/14/20",
           525,
           "Georgia"
          ],
          [
           27,
           "4/15/20",
           552,
           "Georgia"
          ],
          [
           35,
           "4/16/20",
           587,
           "Georgia"
          ],
          [
           63,
           "4/17/20",
           650,
           "Georgia"
          ],
          [
           23,
           "4/18/20",
           673,
           "Georgia"
          ],
          [
           14,
           "4/19/20",
           687,
           "Georgia"
          ],
          [
           88,
           "4/20/20",
           775,
           "Georgia"
          ],
          [
           23,
           "4/21/20",
           798,
           "Georgia"
          ],
          [
           50,
           "4/22/20",
           848,
           "Georgia"
          ],
          [
           33,
           "4/23/20",
           881,
           "Georgia"
          ],
          [
           18,
           "4/24/20",
           899,
           "Georgia"
          ],
          [
           8,
           "4/25/20",
           907,
           "Georgia"
          ],
          [
           9,
           "4/26/20",
           916,
           "Georgia"
          ]
         ],
         "hoverlabel": {
          "namelength": 0
         },
         "hovertemplate": "State =%{customdata[3]}<br>Mean growth over 14d compared to max growth =%{x}<br>% cases from last 14d =%{y}<br>Deaths=%{customdata[2]}<br>Deaths today =%{customdata[0]}<br>Date=%{customdata[1]}",
         "legendgroup": "Georgia",
         "marker": {
          "color": "#FECB52",
          "size": [
           20,
           25,
           25,
           32,
           40,
           48,
           64,
           69,
           80,
           87,
           111,
           139,
           163,
           184,
           201,
           211,
           229,
           329,
           362,
           379,
           416,
           429,
           433,
           465,
           525,
           552,
           587,
           650,
           673,
           687,
           775,
           798,
           848,
           881,
           899,
           907,
           916
          ],
          "sizemode": "area",
          "sizeref": 55.6725,
          "symbol": "circle"
         },
         "mode": "lines+markers",
         "name": "Georgia",
         "showlegend": true,
         "type": "scattergl",
         "x": [
          1.6,
          2,
          2,
          2.6,
          3.2,
          3.8,
          5.1,
          5.5,
          6.4,
          7,
          8.9,
          11,
          12.4,
          13.8,
          14.7,
          15.1,
          16.6,
          24.1,
          26.1,
          26.9,
          28.6,
          29.2,
          28.7,
          30.7,
          33.6,
          33.5,
          34.4,
          37.8,
          38.3,
          38.6,
          44.3,
          38.1,
          39.4,
          40.7,
          39.2,
          38.8,
          39.2
         ],
         "xaxis": "x",
         "y": [
          100,
          100,
          100,
          100,
          100,
          97.9,
          98.4,
          98.6,
          98.8,
          98.9,
          99.1,
          97.8,
          93.9,
          92.4,
          90,
          88.2,
          89.1,
          90.3,
          89,
          87.3,
          84.6,
          83.9,
          81.5,
          81.3,
          78.9,
          74.8,
          72.2,
          71.7,
          70.1,
          69.3,
          70.5,
          58.8,
          57.3,
          57,
          53.7,
          52.7,
          52.7
         ],
         "yaxis": "y"
        },
        {
         "customdata": [
          [
           6,
           "4/10/20",
           24,
           "Idaho"
          ],
          [
           1,
           "4/11/20",
           25,
           "Idaho"
          ],
          [
           2,
           "4/12/20",
           27,
           "Idaho"
          ],
          [
           0,
           "4/13/20",
           27,
           "Idaho"
          ],
          [
           6,
           "4/14/20",
           33,
           "Idaho"
          ],
          [
           6,
           "4/15/20",
           39,
           "Idaho"
          ],
          [
           2,
           "4/16/20",
           41,
           "Idaho"
          ],
          [
           0,
           "4/17/20",
           41,
           "Idaho"
          ],
          [
           2,
           "4/18/20",
           43,
           "Idaho"
          ],
          [
           1,
           "4/19/20",
           44,
           "Idaho"
          ],
          [
           1,
           "4/20/20",
           45,
           "Idaho"
          ],
          [
           3,
           "4/21/20",
           48,
           "Idaho"
          ],
          [
           3,
           "4/22/20",
           51,
           "Idaho"
          ],
          [
           3,
           "4/23/20",
           54,
           "Idaho"
          ],
          [
           0,
           "4/24/20",
           54,
           "Idaho"
          ],
          [
           2,
           "4/25/20",
           56,
           "Idaho"
          ],
          [
           0,
           "4/26/20",
           56,
           "Idaho"
          ]
         ],
         "hoverlabel": {
          "namelength": 0
         },
         "hovertemplate": "State =%{customdata[3]}<br>Mean growth over 14d compared to max growth =%{x}<br>% cases from last 14d =%{y}<br>Deaths=%{customdata[2]}<br>Deaths today =%{customdata[0]}<br>Date=%{customdata[1]}",
         "legendgroup": "Idaho",
         "marker": {
          "color": "#636efa",
          "size": [
           24,
           25,
           27,
           27,
           33,
           39,
           41,
           41,
           43,
           44,
           45,
           48,
           51,
           54,
           54,
           56,
           56
          ],
          "sizemode": "area",
          "sizeref": 55.6725,
          "symbol": "circle"
         },
         "mode": "lines+markers",
         "name": "Idaho",
         "showlegend": true,
         "type": "scattergl",
         "x": [
          25,
          25,
          26.2,
          25,
          29.8,
          35.7,
          38.1,
          38.1,
          39.3,
          40.5,
          41.7,
          41.7,
          42.9,
          42.9,
          35.7,
          36.9,
          34.5
         ],
         "xaxis": "x",
         "y": [
          87.5,
          84,
          81.5,
          77.8,
          75.8,
          76.9,
          78,
          78,
          76.7,
          77.3,
          77.8,
          72.9,
          70.6,
          66.7,
          55.6,
          55.4,
          51.8
         ],
         "yaxis": "y"
        },
        {
         "customdata": [
          [
           7,
           "3/26/20",
           26,
           "Illinois"
          ],
          [
           8,
           "3/27/20",
           34,
           "Illinois"
          ],
          [
           13,
           "3/28/20",
           47,
           "Illinois"
          ],
          [
           19,
           "3/29/20",
           66,
           "Illinois"
          ],
          [
           7,
           "3/30/20",
           73,
           "Illinois"
          ],
          [
           26,
           "3/31/20",
           99,
           "Illinois"
          ],
          [
           42,
           "4/1/20",
           141,
           "Illinois"
          ],
          [
           22,
           "4/2/20",
           163,
           "Illinois"
          ],
          [
           47,
           "4/3/20",
           210,
           "Illinois"
          ],
          [
           34,
           "4/4/20",
           244,
           "Illinois"
          ],
          [
           30,
           "4/5/20",
           274,
           "Illinois"
          ],
          [
           33,
           "4/6/20",
           307,
           "Illinois"
          ],
          [
           73,
           "4/7/20",
           380,
           "Illinois"
          ],
          [
           82,
           "4/8/20",
           462,
           "Illinois"
          ],
          [
           66,
           "4/9/20",
           528,
           "Illinois"
          ],
          [
           69,
           "4/10/20",
           597,
           "Illinois"
          ],
          [
           80,
           "4/11/20",
           677,
           "Illinois"
          ],
          [
           43,
           "4/12/20",
           720,
           "Illinois"
          ],
          [
           78,
           "4/13/20",
           798,
           "Illinois"
          ],
          [
           70,
           "4/14/20",
           868,
           "Illinois"
          ],
          [
           81,
           "4/15/20",
           949,
           "Illinois"
          ],
          [
           123,
           "4/16/20",
           1072,
           "Illinois"
          ],
          [
           60,
           "4/17/20",
           1132,
           "Illinois"
          ],
          [
           127,
           "4/18/20",
           1259,
           "Illinois"
          ],
          [
           31,
           "4/19/20",
           1290,
           "Illinois"
          ],
          [
           59,
           "4/20/20",
           1349,
           "Illinois"
          ],
          [
           119,
           "4/21/20",
           1468,
           "Illinois"
          ],
          [
           97,
           "4/22/20",
           1565,
           "Illinois"
          ],
          [
           123,
           "4/23/20",
           1688,
           "Illinois"
          ],
          [
           107,
           "4/24/20",
           1795,
           "Illinois"
          ],
          [
           80,
           "4/25/20",
           1875,
           "Illinois"
          ],
          [
           58,
           "4/26/20",
           1933,
           "Illinois"
          ]
         ],
         "hoverlabel": {
          "namelength": 0
         },
         "hovertemplate": "State =%{customdata[3]}<br>Mean growth over 14d compared to max growth =%{x}<br>% cases from last 14d =%{y}<br>Deaths=%{customdata[2]}<br>Deaths today =%{customdata[0]}<br>Date=%{customdata[1]}",
         "legendgroup": "Illinois",
         "marker": {
          "color": "#EF553B",
          "size": [
           26,
           34,
           47,
           66,
           73,
           99,
           141,
           163,
           210,
           244,
           274,
           307,
           380,
           462,
           528,
           597,
           677,
           720,
           798,
           868,
           949,
           1072,
           1132,
           1259,
           1290,
           1349,
           1468,
           1565,
           1688,
           1795,
           1875,
           1933
          ],
          "sizemode": "area",
          "sizeref": 55.6725,
          "symbol": "circle"
         },
         "mode": "lines+markers",
         "name": "Illinois",
         "showlegend": true,
         "type": "scattergl",
         "x": [
          1.5,
          2,
          2.7,
          3.8,
          4.2,
          5.7,
          8.1,
          9.2,
          11.9,
          13.8,
          15.4,
          17.1,
          21.1,
          25.7,
          29.2,
          32.7,
          36.6,
          38,
          42.1,
          44.7,
          46.9,
          52.8,
          53.5,
          58.9,
          59,
          60.5,
          63.2,
          64.1,
          67.4,
          69.6,
          69.6,
          70.4
         ],
         "xaxis": "x",
         "y": [
          100,
          100,
          100,
          100,
          100,
          99,
          99.3,
          97.5,
          97.6,
          97.5,
          96.7,
          96.1,
          95.8,
          95.9,
          95.1,
          94.3,
          93.1,
          90.8,
          90.9,
          88.6,
          85.1,
          84.8,
          81.4,
          80.6,
          78.8,
          77.2,
          74.1,
          70.5,
          68.7,
          66.7,
          63.9,
          62.8
         ],
         "yaxis": "y"
        },
        {
         "customdata": [
          [
           8,
           "3/27/20",
           25,
           "Indiana"
          ],
          [
           6,
           "3/28/20",
           31,
           "Indiana"
          ],
          [
           1,
           "3/29/20",
           32,
           "Indiana"
          ],
          [
           3,
           "3/30/20",
           35,
           "Indiana"
          ],
          [
           14,
           "3/31/20",
           49,
           "Indiana"
          ],
          [
           16,
           "4/1/20",
           65,
           "Indiana"
          ],
          [
           13,
           "4/2/20",
           78,
           "Indiana"
          ],
          [
           24,
           "4/3/20",
           102,
           "Indiana"
          ],
          [
           14,
           "4/4/20",
           116,
           "Indiana"
          ],
          [
           11,
           "4/5/20",
           127,
           "Indiana"
          ],
          [
           16,
           "4/6/20",
           143,
           "Indiana"
          ],
          [
           30,
           "4/7/20",
           173,
           "Indiana"
          ],
          [
           30,
           "4/8/20",
           203,
           "Indiana"
          ],
          [
           42,
           "4/9/20",
           245,
           "Indiana"
          ],
          [
           55,
           "4/10/20",
           300,
           "Indiana"
          ],
          [
           30,
           "4/11/20",
           330,
           "Indiana"
          ],
          [
           13,
           "4/12/20",
           343,
           "Indiana"
          ],
          [
           7,
           "4/13/20",
           350,
           "Indiana"
          ],
          [
           37,
           "4/14/20",
           387,
           "Indiana"
          ],
          [
           49,
           "4/15/20",
           436,
           "Indiana"
          ],
          [
           41,
           "4/16/20",
           477,
           "Indiana"
          ],
          [
           45,
           "4/17/20",
           522,
           "Indiana"
          ],
          [
           23,
           "4/18/20",
           545,
           "Indiana"
          ],
          [
           17,
           "4/19/20",
           562,
           "Indiana"
          ],
          [
           15,
           "4/20/20",
           577,
           "Indiana"
          ],
          [
           58,
           "4/21/20",
           635,
           "Indiana"
          ],
          [
           31,
           "4/22/20",
           666,
           "Indiana"
          ],
          [
           40,
           "4/23/20",
           706,
           "Indiana"
          ],
          [
           35,
           "4/24/20",
           741,
           "Indiana"
          ],
          [
           45,
           "4/25/20",
           786,
           "Indiana"
          ],
          [
           27,
           "4/26/20",
           813,
           "Indiana"
          ]
         ],
         "hoverlabel": {
          "namelength": 0
         },
         "hovertemplate": "State =%{customdata[3]}<br>Mean growth over 14d compared to max growth =%{x}<br>% cases from last 14d =%{y}<br>Deaths=%{customdata[2]}<br>Deaths today =%{customdata[0]}<br>Date=%{customdata[1]}",
         "legendgroup": "Indiana",
         "marker": {
          "color": "#00cc96",
          "size": [
           25,
           31,
           32,
           35,
           49,
           65,
           78,
           102,
           116,
           127,
           143,
           173,
           203,
           245,
           300,
           330,
           343,
           350,
           387,
           436,
           477,
           522,
           545,
           562,
           577,
           635,
           666,
           706,
           741,
           786,
           813
          ],
          "sizemode": "area",
          "sizeref": 55.6725,
          "symbol": "circle"
         },
         "mode": "lines+markers",
         "name": "Indiana",
         "showlegend": true,
         "type": "scattergl",
         "x": [
          3.2,
          4,
          4.2,
          4.4,
          6.1,
          8.2,
          9.9,
          12.9,
          14.5,
          15.7,
          17.7,
          20.9,
          24.5,
          29.6,
          35.7,
          38.8,
          40.4,
          40.9,
          43.9,
          48.2,
          51.8,
          54.5,
          55.7,
          56.5,
          56.4,
          60,
          60.1,
          59.9,
          57.3,
          59.2,
          61
         ],
         "xaxis": "x",
         "y": [
          100,
          100,
          100,
          97.1,
          95.9,
          96.9,
          97.4,
          97.1,
          96.6,
          95.3,
          95.1,
          93.1,
          93.1,
          93.1,
          91.7,
          90.6,
          90.7,
          90,
          87.3,
          85.1,
          83.6,
          80.5,
          78.7,
          77.4,
          75.2,
          72.8,
          69.5,
          65.3,
          59.5,
          58,
          57.8
         ],
         "yaxis": "y"
        },
        {
         "customdata": [
          [
           7,
           "4/6/20",
           25,
           "Iowa"
          ],
          [
           0,
           "4/7/20",
           25,
           "Iowa"
          ],
          [
           2,
           "4/8/20",
           27,
           "Iowa"
          ],
          [
           2,
           "4/9/20",
           29,
           "Iowa"
          ],
          [
           2,
           "4/10/20",
           31,
           "Iowa"
          ],
          [
           3,
           "4/11/20",
           34,
           "Iowa"
          ],
          [
           7,
           "4/12/20",
           41,
           "Iowa"
          ],
          [
           0,
           "4/13/20",
           41,
           "Iowa"
          ],
          [
           8,
           "4/14/20",
           49,
           "Iowa"
          ],
          [
           4,
           "4/15/20",
           53,
           "Iowa"
          ],
          [
           7,
           "4/16/20",
           60,
           "Iowa"
          ],
          [
           4,
           "4/17/20",
           64,
           "Iowa"
          ],
          [
           10,
           "4/18/20",
           74,
           "Iowa"
          ],
          [
           1,
           "4/19/20",
           75,
           "Iowa"
          ],
          [
           4,
           "4/20/20",
           79,
           "Iowa"
          ],
          [
           4,
           "4/21/20",
           83,
           "Iowa"
          ],
          [
           7,
           "4/22/20",
           90,
           "Iowa"
          ],
          [
           6,
           "4/23/20",
           96,
           "Iowa"
          ],
          [
           11,
           "4/24/20",
           107,
           "Iowa"
          ],
          [
           5,
           "4/25/20",
           112,
           "Iowa"
          ],
          [
           6,
           "4/26/20",
           118,
           "Iowa"
          ]
         ],
         "hoverlabel": {
          "namelength": 0
         },
         "hovertemplate": "State =%{customdata[3]}<br>Mean growth over 14d compared to max growth =%{x}<br>% cases from last 14d =%{y}<br>Deaths=%{customdata[2]}<br>Deaths today =%{customdata[0]}<br>Date=%{customdata[1]}",
         "legendgroup": "Iowa",
         "marker": {
          "color": "#ab63fa",
          "size": [
           25,
           25,
           27,
           29,
           31,
           34,
           41,
           41,
           49,
           53,
           60,
           64,
           74,
           75,
           79,
           83,
           90,
           96,
           107,
           112,
           118
          ],
          "sizemode": "area",
          "sizeref": 55.6725,
          "symbol": "circle"
         },
         "mode": "lines+markers",
         "name": "Iowa",
         "showlegend": true,
         "type": "scattergl",
         "x": [
          17.9,
          17.9,
          18.6,
          20,
          20,
          22.1,
          26.4,
          25,
          30,
          31.4,
          35,
          37.9,
          42.9,
          40.7,
          38.6,
          41.4,
          45,
          47.9,
          54.3,
          55.7,
          55
         ],
         "xaxis": "x",
         "y": [
          100,
          100,
          96.3,
          96.6,
          90.3,
          91.2,
          90.2,
          85.4,
          85.7,
          83,
          81.7,
          82.8,
          81.1,
          76,
          68.4,
          69.9,
          70,
          69.8,
          71,
          69.6,
          65.3
         ],
         "yaxis": "y"
        },
        {
         "customdata": [
          [
           3,
           "4/4/20",
           21,
           "Kansas"
          ],
          [
           1,
           "4/5/20",
           22,
           "Kansas"
          ],
          [
           3,
           "4/6/20",
           25,
           "Kansas"
          ],
          [
           4,
           "4/7/20",
           29,
           "Kansas"
          ],
          [
           5,
           "4/8/20",
           34,
           "Kansas"
          ],
          [
           8,
           "4/9/20",
           42,
           "Kansas"
          ],
          [
           0,
           "4/10/20",
           42,
           "Kansas"
          ],
          [
           13,
           "4/11/20",
           55,
           "Kansas"
          ],
          [
           1,
           "4/12/20",
           56,
           "Kansas"
          ],
          [
           6,
           "4/13/20",
           62,
           "Kansas"
          ],
          [
           7,
           "4/14/20",
           69,
           "Kansas"
          ],
          [
           2,
           "4/15/20",
           71,
           "Kansas"
          ],
          [
           9,
           "4/16/20",
           80,
           "Kansas"
          ],
          [
           2,
           "4/17/20",
           82,
           "Kansas"
          ],
          [
           3,
           "4/18/20",
           85,
           "Kansas"
          ],
          [
           8,
           "4/19/20",
           93,
           "Kansas"
          ],
          [
           9,
           "4/20/20",
           102,
           "Kansas"
          ],
          [
           7,
           "4/21/20",
           109,
           "Kansas"
          ],
          [
           3,
           "4/22/20",
           112,
           "Kansas"
          ],
          [
           1,
           "4/23/20",
           113,
           "Kansas"
          ],
          [
           5,
           "4/24/20",
           118,
           "Kansas"
          ],
          [
           2,
           "4/25/20",
           120,
           "Kansas"
          ],
          [
           1,
           "4/26/20",
           121,
           "Kansas"
          ]
         ],
         "hoverlabel": {
          "namelength": 0
         },
         "hovertemplate": "State =%{customdata[3]}<br>Mean growth over 14d compared to max growth =%{x}<br>% cases from last 14d =%{y}<br>Deaths=%{customdata[2]}<br>Deaths today =%{customdata[0]}<br>Date=%{customdata[1]}",
         "legendgroup": "Kansas",
         "marker": {
          "color": "#FFA15A",
          "size": [
           21,
           22,
           25,
           29,
           34,
           42,
           42,
           55,
           56,
           62,
           69,
           71,
           80,
           82,
           85,
           93,
           102,
           109,
           112,
           113,
           118,
           120,
           121
          ],
          "sizemode": "area",
          "sizeref": 55.6725,
          "symbol": "circle"
         },
         "mode": "lines+markers",
         "name": "Kansas",
         "showlegend": true,
         "type": "scattergl",
         "x": [
          15.1,
          15.9,
          18.3,
          21.4,
          24.6,
          31,
          30.2,
          40.5,
          38.9,
          42.9,
          47.6,
          48.4,
          54,
          50.8,
          50.8,
          56.3,
          61.1,
          63.5,
          61.9,
          56.3,
          60.3,
          51.6,
          51.6
         ],
         "xaxis": "x",
         "y": [
          90.5,
          90.9,
          92,
          93.1,
          91.2,
          92.9,
          90.5,
          92.7,
          87.5,
          87.1,
          87,
          85.9,
          85,
          78,
          75.3,
          76.3,
          75.5,
          73.4,
          69.6,
          62.8,
          64.4,
          54.2,
          53.7
         ],
         "yaxis": "y"
        },
        {
         "customdata": [
          [
           13,
           "4/2/20",
           31,
           "Kentucky"
          ],
          [
           3,
           "4/3/20",
           34,
           "Kentucky"
          ],
          [
           6,
           "4/4/20",
           40,
           "Kentucky"
          ],
          [
           5,
           "4/5/20",
           45,
           "Kentucky"
          ],
          [
           0,
           "4/6/20",
           45,
           "Kentucky"
          ],
          [
           20,
           "4/7/20",
           65,
           "Kentucky"
          ],
          [
           0,
           "4/8/20",
           65,
           "Kentucky"
          ],
          [
           8,
           "4/9/20",
           73,
           "Kentucky"
          ],
          [
           17,
           "4/10/20",
           90,
           "Kentucky"
          ],
          [
           0,
           "4/11/20",
           90,
           "Kentucky"
          ],
          [
           7,
           "4/12/20",
           97,
           "Kentucky"
          ],
          [
           16,
           "4/13/20",
           113,
           "Kentucky"
          ],
          [
           -7,
           "4/14/20",
           106,
           "Kentucky"
          ],
          [
           9,
           "4/15/20",
           115,
           "Kentucky"
          ],
          [
           14,
           "4/16/20",
           129,
           "Kentucky"
          ],
          [
           8,
           "4/17/20",
           137,
           "Kentucky"
          ],
          [
           7,
           "4/18/20",
           144,
           "Kentucky"
          ],
          [
           2,
           "4/19/20",
           146,
           "Kentucky"
          ],
          [
           8,
           "4/20/20",
           154,
           "Kentucky"
          ],
          [
           17,
           "4/21/20",
           171,
           "Kentucky"
          ],
          [
           14,
           "4/22/20",
           185,
           "Kentucky"
          ],
          [
           6,
           "4/23/20",
           191,
           "Kentucky"
          ],
          [
           9,
           "4/24/20",
           200,
           "Kentucky"
          ],
          [
           5,
           "4/25/20",
           205,
           "Kentucky"
          ],
          [
           3,
           "4/26/20",
           208,
           "Kentucky"
          ]
         ],
         "hoverlabel": {
          "namelength": 0
         },
         "hovertemplate": "State =%{customdata[3]}<br>Mean growth over 14d compared to max growth =%{x}<br>% cases from last 14d =%{y}<br>Deaths=%{customdata[2]}<br>Deaths today =%{customdata[0]}<br>Date=%{customdata[1]}",
         "legendgroup": "Kentucky",
         "marker": {
          "color": "#19d3f3",
          "size": [
           31,
           34,
           40,
           45,
           45,
           65,
           65,
           73,
           90,
           90,
           97,
           113,
           106,
           115,
           129,
           137,
           144,
           146,
           154,
           171,
           185,
           191,
           200,
           205,
           208
          ],
          "sizemode": "area",
          "sizeref": 55.6725,
          "symbol": "circle"
         },
         "mode": "lines+markers",
         "name": "Kentucky",
         "showlegend": true,
         "type": "scattergl",
         "x": [
          12.2,
          13.4,
          15.5,
          17.6,
          17.2,
          25.6,
          25.2,
          28.6,
          34.9,
          34,
          37,
          42.9,
          39.9,
          40.8,
          41.2,
          43.3,
          43.7,
          42.4,
          45.8,
          44.5,
          50.4,
          49.6,
          46.2,
          48.3,
          46.6
         ],
         "xaxis": "x",
         "y": [
          93.5,
          94.1,
          92.5,
          93.3,
          91.1,
          93.8,
          92.3,
          93.2,
          92.2,
          90,
          90.7,
          90.3,
          89.6,
          84.3,
          76,
          75.2,
          72.2,
          69.2,
          70.8,
          62,
          64.9,
          61.8,
          55,
          56.1,
          53.4
         ],
         "yaxis": "y"
        },
        {
         "customdata": [
          [
           6,
           "3/21/20",
           20,
           "Louisiana"
          ],
          [
           0,
           "3/22/20",
           20,
           "Louisiana"
          ],
          [
           15,
           "3/23/20",
           35,
           "Louisiana"
          ],
          [
           11,
           "3/24/20",
           46,
           "Louisiana"
          ],
          [
           19,
           "3/25/20",
           65,
           "Louisiana"
          ],
          [
           18,
           "3/26/20",
           83,
           "Louisiana"
          ],
          [
           36,
           "3/27/20",
           119,
           "Louisiana"
          ],
          [
           18,
           "3/28/20",
           137,
           "Louisiana"
          ],
          [
           14,
           "3/29/20",
           151,
           "Louisiana"
          ],
          [
           34,
           "3/30/20",
           185,
           "Louisiana"
          ],
          [
           54,
           "3/31/20",
           239,
           "Louisiana"
          ],
          [
           34,
           "4/1/20",
           273,
           "Louisiana"
          ],
          [
           37,
           "4/2/20",
           310,
           "Louisiana"
          ],
          [
           60,
           "4/3/20",
           370,
           "Louisiana"
          ],
          [
           39,
           "4/4/20",
           409,
           "Louisiana"
          ],
          [
           68,
           "4/5/20",
           477,
           "Louisiana"
          ],
          [
           35,
           "4/6/20",
           512,
           "Louisiana"
          ],
          [
           70,
           "4/7/20",
           582,
           "Louisiana"
          ],
          [
           70,
           "4/8/20",
           652,
           "Louisiana"
          ],
          [
           50,
           "4/9/20",
           702,
           "Louisiana"
          ],
          [
           53,
           "4/10/20",
           755,
           "Louisiana"
          ],
          [
           51,
           "4/11/20",
           806,
           "Louisiana"
          ],
          [
           34,
           "4/12/20",
           840,
           "Louisiana"
          ],
          [
           44,
           "4/13/20",
           884,
           "Louisiana"
          ],
          [
           129,
           "4/14/20",
           1013,
           "Louisiana"
          ],
          [
           90,
           "4/15/20",
           1103,
           "Louisiana"
          ],
          [
           53,
           "4/16/20",
           1156,
           "Louisiana"
          ],
          [
           57,
           "4/17/20",
           1213,
           "Louisiana"
          ],
          [
           54,
           "4/18/20",
           1267,
           "Louisiana"
          ],
          [
           29,
           "4/19/20",
           1296,
           "Louisiana"
          ],
          [
           32,
           "4/20/20",
           1328,
           "Louisiana"
          ],
          [
           77,
           "4/21/20",
           1405,
           "Louisiana"
          ],
          [
           68,
           "4/22/20",
           1473,
           "Louisiana"
          ],
          [
           126,
           "4/23/20",
           1599,
           "Louisiana"
          ],
          [
           61,
           "4/24/20",
           1660,
           "Louisiana"
          ],
          [
           47,
           "4/25/20",
           1707,
           "Louisiana"
          ],
          [
           22,
           "4/26/20",
           1729,
           "Louisiana"
          ]
         ],
         "hoverlabel": {
          "namelength": 0
         },
         "hovertemplate": "State =%{customdata[3]}<br>Mean growth over 14d compared to max growth =%{x}<br>% cases from last 14d =%{y}<br>Deaths=%{customdata[2]}<br>Deaths today =%{customdata[0]}<br>Date=%{customdata[1]}",
         "legendgroup": "Louisiana",
         "marker": {
          "color": "#FF6692",
          "size": [
           20,
           20,
           35,
           46,
           65,
           83,
           119,
           137,
           151,
           185,
           239,
           273,
           310,
           370,
           409,
           477,
           512,
           582,
           652,
           702,
           755,
           806,
           840,
           884,
           1013,
           1103,
           1156,
           1213,
           1267,
           1296,
           1328,
           1405,
           1473,
           1599,
           1660,
           1707,
           1729
          ],
          "sizemode": "area",
          "sizeref": 55.6725,
          "symbol": "circle"
         },
         "mode": "lines+markers",
         "name": "Louisiana",
         "showlegend": true,
         "type": "scattergl",
         "x": [
          1.1,
          1.1,
          2,
          2.6,
          3.7,
          4.7,
          6.7,
          7.7,
          8.4,
          10.3,
          13.3,
          15.1,
          17,
          20.2,
          22.1,
          25.9,
          27,
          30.4,
          33.3,
          35.1,
          36.1,
          37.9,
          39.1,
          39.6,
          43.9,
          47.1,
          48,
          47.8,
          48.6,
          46.4,
          46.3,
          46.7,
          46.5,
          50.9,
          51.3,
          51.1,
          50.4
         ],
         "xaxis": "x",
         "y": [
          100,
          100,
          100,
          100,
          100,
          100,
          100,
          99.3,
          98.7,
          98.4,
          98.3,
          97.8,
          96.8,
          96.2,
          95.1,
          95.8,
          93.2,
          92.1,
          90,
          88.2,
          84.2,
          83,
          82,
          79.1,
          76.4,
          75.2,
          73.2,
          69.5,
          67.7,
          63.2,
          61.4,
          58.6,
          55.7,
          56.1,
          54.5,
          52.8,
          51.4
         ],
         "yaxis": "y"
        },
        {
         "customdata": [
          [
           1,
           "4/14/20",
           20,
           "Maine"
          ],
          [
           4,
           "4/15/20",
           24,
           "Maine"
          ],
          [
           3,
           "4/16/20",
           27,
           "Maine"
          ],
          [
           2,
           "4/17/20",
           29,
           "Maine"
          ],
          [
           3,
           "4/18/20",
           32,
           "Maine"
          ],
          [
           2,
           "4/19/20",
           34,
           "Maine"
          ],
          [
           1,
           "4/20/20",
           35,
           "Maine"
          ],
          [
           1,
           "4/21/20",
           36,
           "Maine"
          ],
          [
           3,
           "4/22/20",
           39,
           "Maine"
          ],
          [
           5,
           "4/23/20",
           44,
           "Maine"
          ],
          [
           3,
           "4/24/20",
           47,
           "Maine"
          ],
          [
           0,
           "4/25/20",
           47,
           "Maine"
          ],
          [
           3,
           "4/26/20",
           50,
           "Maine"
          ]
         ],
         "hoverlabel": {
          "namelength": 0
         },
         "hovertemplate": "State =%{customdata[3]}<br>Mean growth over 14d compared to max growth =%{x}<br>% cases from last 14d =%{y}<br>Deaths=%{customdata[2]}<br>Deaths today =%{customdata[0]}<br>Date=%{customdata[1]}",
         "legendgroup": "Maine",
         "marker": {
          "color": "#B6E880",
          "size": [
           20,
           24,
           27,
           29,
           32,
           34,
           35,
           36,
           39,
           44,
           47,
           47,
           50
          ],
          "sizemode": "area",
          "sizeref": 55.6725,
          "symbol": "circle"
         },
         "mode": "lines+markers",
         "name": "Maine",
         "showlegend": true,
         "type": "scattergl",
         "x": [
          26.8,
          33.9,
          35.7,
          35.7,
          39.3,
          42.9,
          44.6,
          42.9,
          44.6,
          50,
          53.6,
          50,
          55.4
         ],
         "xaxis": "x",
         "y": [
          75,
          79.2,
          74.1,
          69,
          68.8,
          70.6,
          71.4,
          66.7,
          64.1,
          63.6,
          63.8,
          59.6,
          62
         ],
         "yaxis": "y"
        },
        {
         "customdata": [
          [
           13,
           "4/1/20",
           31,
           "Maryland"
          ],
          [
           5,
           "4/2/20",
           36,
           "Maryland"
          ],
          [
           7,
           "4/3/20",
           43,
           "Maryland"
          ],
          [
           11,
           "4/4/20",
           54,
           "Maryland"
          ],
          [
           13,
           "4/5/20",
           67,
           "Maryland"
          ],
          [
           24,
           "4/6/20",
           91,
           "Maryland"
          ],
          [
           12,
           "4/7/20",
           103,
           "Maryland"
          ],
          [
           21,
           "4/8/20",
           124,
           "Maryland"
          ],
          [
           14,
           "4/9/20",
           138,
           "Maryland"
          ],
          [
           33,
           "4/10/20",
           171,
           "Maryland"
          ],
          [
           35,
           "4/11/20",
           206,
           "Maryland"
          ],
          [
           30,
           "4/12/20",
           236,
           "Maryland"
          ],
          [
           26,
           "4/13/20",
           262,
           "Maryland"
          ],
          [
           40,
           "4/14/20",
           302,
           "Maryland"
          ],
          [
           9,
           "4/15/20",
           311,
           "Maryland"
          ],
          [
           8,
           "4/16/20",
           319,
           "Maryland"
          ],
          [
           15,
           "4/17/20",
           334,
           "Maryland"
          ],
          [
           87,
           "4/18/20",
           421,
           "Maryland"
          ],
          [
           40,
           "4/19/20",
           461,
           "Maryland"
          ],
          [
           121,
           "4/20/20",
           582,
           "Maryland"
          ],
          [
           70,
           "4/21/20",
           652,
           "Maryland"
          ],
          [
           46,
           "4/22/20",
           698,
           "Maryland"
          ],
          [
           50,
           "4/23/20",
           748,
           "Maryland"
          ],
          [
           50,
           "4/24/20",
           798,
           "Maryland"
          ],
          [
           77,
           "4/25/20",
           875,
           "Maryland"
          ],
          [
           35,
           "4/26/20",
           910,
           "Maryland"
          ]
         ],
         "hoverlabel": {
          "namelength": 0
         },
         "hovertemplate": "State =%{customdata[3]}<br>Mean growth over 14d compared to max growth =%{x}<br>% cases from last 14d =%{y}<br>Deaths=%{customdata[2]}<br>Deaths today =%{customdata[0]}<br>Date=%{customdata[1]}",
         "legendgroup": "Maryland",
         "marker": {
          "color": "#FF97FF",
          "size": [
           31,
           36,
           43,
           54,
           67,
           91,
           103,
           124,
           138,
           171,
           206,
           236,
           262,
           302,
           311,
           319,
           334,
           421,
           461,
           582,
           652,
           698,
           748,
           798,
           875,
           910
          ],
          "sizemode": "area",
          "sizeref": 55.6725,
          "symbol": "circle"
         },
         "mode": "lines+markers",
         "name": "Maryland",
         "showlegend": true,
         "type": "scattergl",
         "x": [
          2.5,
          2.9,
          3.4,
          4.3,
          5.3,
          7.2,
          8.1,
          9.9,
          11,
          13.6,
          16.5,
          18.6,
          20.3,
          23.3,
          23,
          23.2,
          23.9,
          30.1,
          32.3,
          40.3,
          45.1,
          47.1,
          50.1,
          51.5,
          54.9,
          55.3
         ],
         "xaxis": "x",
         "y": [
          100,
          97.2,
          95.3,
          96.3,
          95.5,
          96.7,
          96.1,
          96.8,
          97.1,
          97.1,
          97.6,
          95.8,
          94.3,
          94,
          90,
          88.7,
          87.1,
          87.2,
          85.5,
          84.4,
          84.2,
          82.2,
          81.6,
          78.6,
          76.5,
          74.1
         ],
         "yaxis": "y"
        },
        {
         "customdata": [
          [
           10,
           "3/26/20",
           25,
           "Massachusetts"
          ],
          [
           10,
           "3/27/20",
           35,
           "Massachusetts"
          ],
          [
           9,
           "3/28/20",
           44,
           "Massachusetts"
          ],
          [
           4,
           "3/29/20",
           48,
           "Massachusetts"
          ],
          [
           8,
           "3/30/20",
           56,
           "Massachusetts"
          ],
          [
           33,
           "3/31/20",
           89,
           "Massachusetts"
          ],
          [
           33,
           "4/1/20",
           122,
           "Massachusetts"
          ],
          [
           32,
           "4/2/20",
           154,
           "Massachusetts"
          ],
          [
           38,
           "4/3/20",
           192,
           "Massachusetts"
          ],
          [
           24,
           "4/4/20",
           216,
           "Massachusetts"
          ],
          [
           15,
           "4/5/20",
           231,
           "Massachusetts"
          ],
          [
           29,
           "4/6/20",
           260,
           "Massachusetts"
          ],
          [
           96,
           "4/7/20",
           356,
           "Massachusetts"
          ],
          [
           77,
           "4/8/20",
           433,
           "Massachusetts"
          ],
          [
           70,
           "4/9/20",
           503,
           "Massachusetts"
          ],
          [
           96,
           "4/10/20",
           599,
           "Massachusetts"
          ],
          [
           87,
           "4/11/20",
           686,
           "Massachusetts"
          ],
          [
           70,
           "4/12/20",
           756,
           "Massachusetts"
          ],
          [
           88,
           "4/13/20",
           844,
           "Massachusetts"
          ],
          [
           0,
           "4/14/20",
           844,
           "Massachusetts"
          ],
          [
           264,
           "4/15/20",
           1108,
           "Massachusetts"
          ],
          [
           0,
           "4/16/20",
           1108,
           "Massachusetts"
          ],
          [
           137,
           "4/17/20",
           1245,
           "Massachusetts"
          ],
          [
           159,
           "4/18/20",
           1404,
           "Massachusetts"
          ],
          [
           302,
           "4/19/20",
           1706,
           "Massachusetts"
          ],
          [
           0,
           "4/20/20",
           1706,
           "Massachusetts"
          ],
          [
           255,
           "4/21/20",
           1961,
           "Massachusetts"
          ],
          [
           221,
           "4/22/20",
           2182,
           "Massachusetts"
          ],
          [
           178,
           "4/23/20",
           2360,
           "Massachusetts"
          ],
          [
           196,
           "4/24/20",
           2556,
           "Massachusetts"
          ],
          [
           174,
           "4/25/20",
           2730,
           "Massachusetts"
          ],
          [
           169,
           "4/26/20",
           2899,
           "Massachusetts"
          ]
         ],
         "hoverlabel": {
          "namelength": 0
         },
         "hovertemplate": "State =%{customdata[3]}<br>Mean growth over 14d compared to max growth =%{x}<br>% cases from last 14d =%{y}<br>Deaths=%{customdata[2]}<br>Deaths today =%{customdata[0]}<br>Date=%{customdata[1]}",
         "legendgroup": "Massachusetts",
         "marker": {
          "color": "#FECB52",
          "size": [
           25,
           35,
           44,
           48,
           56,
           89,
           122,
           154,
           192,
           216,
           231,
           260,
           356,
           433,
           503,
           599,
           686,
           756,
           844,
           844,
           1108,
           1108,
           1245,
           1404,
           1706,
           1706,
           1961,
           2182,
           2360,
           2556,
           2730,
           2899
          ],
          "sizemode": "area",
          "sizeref": 55.6725,
          "symbol": "circle"
         },
         "mode": "lines+markers",
         "name": "Massachusetts",
         "showlegend": true,
         "type": "scattergl",
         "x": [
          0.7,
          0.9,
          1.2,
          1.3,
          1.5,
          2.4,
          3.3,
          4.2,
          5.2,
          5.8,
          6.1,
          6.8,
          9.3,
          11.3,
          12.9,
          15.3,
          17.4,
          19.2,
          21.3,
          20.4,
          26.7,
          25.8,
          28.5,
          32.1,
          39.9,
          39.1,
          43.4,
          47.3,
          50.2,
          52.9,
          55.3,
          58
         ],
         "xaxis": "x",
         "y": [
          100,
          100,
          100,
          100,
          100,
          100,
          100,
          100,
          99.5,
          99.5,
          97.8,
          96.5,
          96.9,
          96.5,
          95,
          94.2,
          93.6,
          93.7,
          93.4,
          89.5,
          89,
          86.1,
          84.6,
          84.6,
          86.5,
          84.8,
          81.8,
          80.2,
          78.7,
          76.6,
          74.9,
          73.9
         ],
         "yaxis": "y"
        },
        {
         "customdata": [
          [
           9,
           "3/24/20",
           24,
           "Michigan"
          ],
          [
           19,
           "3/25/20",
           43,
           "Michigan"
          ],
          [
           18,
           "3/26/20",
           61,
           "Michigan"
          ],
          [
           31,
           "3/27/20",
           92,
           "Michigan"
          ],
          [
           19,
           "3/28/20",
           111,
           "Michigan"
          ],
          [
           21,
           "3/29/20",
           132,
           "Michigan"
          ],
          [
           52,
           "3/30/20",
           184,
           "Michigan"
          ],
          [
           75,
           "3/31/20",
           259,
           "Michigan"
          ],
          [
           76,
           "4/1/20",
           335,
           "Michigan"
          ],
          [
           82,
           "4/2/20",
           417,
           "Michigan"
          ],
          [
           62,
           "4/3/20",
           479,
           "Michigan"
          ],
          [
           61,
           "4/4/20",
           540,
           "Michigan"
          ],
          [
           77,
           "4/5/20",
           617,
           "Michigan"
          ],
          [
           110,
           "4/6/20",
           727,
           "Michigan"
          ],
          [
           118,
           "4/7/20",
           845,
           "Michigan"
          ],
          [
           114,
           "4/8/20",
           959,
           "Michigan"
          ],
          [
           117,
           "4/9/20",
           1076,
           "Michigan"
          ],
          [
           200,
           "4/10/20",
           1276,
           "Michigan"
          ],
          [
           108,
           "4/11/20",
           1384,
           "Michigan"
          ],
          [
           95,
           "4/12/20",
           1479,
           "Michigan"
          ],
          [
           123,
           "4/13/20",
           1602,
           "Michigan"
          ],
          [
           166,
           "4/14/20",
           1768,
           "Michigan"
          ],
          [
           153,
           "4/15/20",
           1921,
           "Michigan"
          ],
          [
           75,
           "4/16/20",
           1996,
           "Michigan"
          ],
          [
           231,
           "4/17/20",
           2227,
           "Michigan"
          ],
          [
           81,
           "4/18/20",
           2308,
           "Michigan"
          ],
          [
           83,
           "4/19/20",
           2391,
           "Michigan"
          ],
          [
           77,
           "4/20/20",
           2468,
           "Michigan"
          ],
          [
           107,
           "4/21/20",
           2575,
           "Michigan"
          ],
          [
           238,
           "4/22/20",
           2813,
           "Michigan"
          ],
          [
           164,
           "4/23/20",
           2977,
           "Michigan"
          ],
          [
           108,
           "4/24/20",
           3085,
           "Michigan"
          ],
          [
           70,
           "4/25/20",
           3155,
           "Michigan"
          ],
          [
           160,
           "4/26/20",
           3315,
           "Michigan"
          ]
         ],
         "hoverlabel": {
          "namelength": 0
         },
         "hovertemplate": "State =%{customdata[3]}<br>Mean growth over 14d compared to max growth =%{x}<br>% cases from last 14d =%{y}<br>Deaths=%{customdata[2]}<br>Deaths today =%{customdata[0]}<br>Date=%{customdata[1]}",
         "legendgroup": "Michigan",
         "marker": {
          "color": "#636efa",
          "size": [
           24,
           43,
           61,
           92,
           111,
           132,
           184,
           259,
           335,
           417,
           479,
           540,
           617,
           727,
           845,
           959,
           1076,
           1276,
           1384,
           1479,
           1602,
           1768,
           1921,
           1996,
           2227,
           2308,
           2391,
           2468,
           2575,
           2813,
           2977,
           3085,
           3155,
           3315
          ],
          "sizemode": "area",
          "sizeref": 55.6725,
          "symbol": "circle"
         },
         "mode": "lines+markers",
         "name": "Michigan",
         "showlegend": true,
         "type": "scattergl",
         "x": [
          0.7,
          1.3,
          1.9,
          2.8,
          3.4,
          4.1,
          5.7,
          8,
          10.3,
          12.9,
          14.8,
          16.6,
          18.8,
          22,
          25.4,
          28.3,
          31.4,
          36.6,
          39.4,
          41.7,
          43.8,
          46.7,
          49,
          48.8,
          54.1,
          54.7,
          54.9,
          53.8,
          53.5,
          57.3,
          58.8,
          55.9,
          54.8,
          56.8
         ],
         "xaxis": "x",
         "y": [
          100,
          100,
          100,
          100,
          100,
          100,
          100,
          100,
          99.7,
          99.8,
          99.8,
          99.4,
          98.5,
          97.9,
          97.2,
          95.5,
          94.3,
          92.8,
          92,
          91.1,
          88.5,
          85.4,
          82.6,
          79.1,
          78.5,
          76.6,
          74.2,
          70.5,
          67.2,
          65.9,
          63.9,
          58.6,
          56.1,
          55.4
         ],
         "yaxis": "y"
        },
        {
         "customdata": [
          [
           4,
           "4/3/20",
           22,
           "Minnesota"
          ],
          [
           2,
           "4/4/20",
           24,
           "Minnesota"
          ],
          [
           5,
           "4/5/20",
           29,
           "Minnesota"
          ],
          [
           1,
           "4/6/20",
           30,
           "Minnesota"
          ],
          [
           4,
           "4/7/20",
           34,
           "Minnesota"
          ],
          [
           5,
           "4/8/20",
           39,
           "Minnesota"
          ],
          [
           11,
           "4/9/20",
           50,
           "Minnesota"
          ],
          [
           7,
           "4/10/20",
           57,
           "Minnesota"
          ],
          [
           7,
           "4/11/20",
           64,
           "Minnesota"
          ],
          [
           6,
           "4/12/20",
           70,
           "Minnesota"
          ],
          [
           0,
           "4/13/20",
           70,
           "Minnesota"
          ],
          [
           9,
           "4/14/20",
           79,
           "Minnesota"
          ],
          [
           8,
           "4/15/20",
           87,
           "Minnesota"
          ],
          [
           0,
           "4/16/20",
           87,
           "Minnesota"
          ],
          [
           24,
           "4/17/20",
           111,
           "Minnesota"
          ],
          [
           10,
           "4/18/20",
           121,
           "Minnesota"
          ],
          [
           13,
           "4/19/20",
           134,
           "Minnesota"
          ],
          [
           9,
           "4/20/20",
           143,
           "Minnesota"
          ],
          [
           17,
           "4/21/20",
           160,
           "Minnesota"
          ],
          [
           19,
           "4/22/20",
           179,
           "Minnesota"
          ],
          [
           21,
           "4/23/20",
           200,
           "Minnesota"
          ],
          [
           21,
           "4/24/20",
           221,
           "Minnesota"
          ],
          [
           23,
           "4/25/20",
           244,
           "Minnesota"
          ],
          [
           28,
           "4/26/20",
           272,
           "Minnesota"
          ]
         ],
         "hoverlabel": {
          "namelength": 0
         },
         "hovertemplate": "State =%{customdata[3]}<br>Mean growth over 14d compared to max growth =%{x}<br>% cases from last 14d =%{y}<br>Deaths=%{customdata[2]}<br>Deaths today =%{customdata[0]}<br>Date=%{customdata[1]}",
         "legendgroup": "Minnesota",
         "marker": {
          "color": "#EF553B",
          "size": [
           22,
           24,
           29,
           30,
           34,
           39,
           50,
           57,
           64,
           70,
           70,
           79,
           87,
           87,
           111,
           121,
           134,
           143,
           160,
           179,
           200,
           221,
           244,
           272
          ],
          "sizemode": "area",
          "sizeref": 55.6725,
          "symbol": "circle"
         },
         "mode": "lines+markers",
         "name": "Minnesota",
         "showlegend": true,
         "type": "scattergl",
         "x": [
          6.5,
          6.8,
          8.3,
          8.6,
          9.8,
          11.3,
          14.3,
          15.8,
          17.6,
          18.2,
          17.9,
          19.9,
          20.8,
          20.5,
          26.5,
          28.9,
          31.2,
          33.6,
          37.5,
          41.7,
          44.6,
          48.8,
          53.6,
          60.1
         ],
         "xaxis": "x",
         "y": [
          100,
          95.8,
          96.6,
          96.7,
          97.1,
          97.4,
          96,
          93,
          92.2,
          87.1,
          85.7,
          84.8,
          80.5,
          79.3,
          80.2,
          80.2,
          78.4,
          79,
          78.8,
          78.2,
          75,
          74.2,
          73.8,
          74.3
         ],
         "yaxis": "y"
        },
        {
         "customdata": [
          [
           4,
           "3/31/20",
           20,
           "Mississippi"
          ],
          [
           2,
           "4/1/20",
           22,
           "Mississippi"
          ],
          [
           4,
           "4/2/20",
           26,
           "Mississippi"
          ],
          [
           3,
           "4/3/20",
           29,
           "Mississippi"
          ],
          [
           6,
           "4/4/20",
           35,
           "Mississippi"
          ],
          [
           8,
           "4/5/20",
           43,
           "Mississippi"
          ],
          [
           8,
           "4/6/20",
           51,
           "Mississippi"
          ],
          [
           9,
           "4/7/20",
           60,
           "Mississippi"
          ],
          [
           7,
           "4/8/20",
           67,
           "Mississippi"
          ],
          [
           9,
           "4/9/20",
           76,
           "Mississippi"
          ],
          [
           6,
           "4/10/20",
           82,
           "Mississippi"
          ],
          [
           11,
           "4/11/20",
           93,
           "Mississippi"
          ],
          [
           3,
           "4/12/20",
           96,
           "Mississippi"
          ],
          [
           2,
           "4/13/20",
           98,
           "Mississippi"
          ],
          [
           13,
           "4/14/20",
           111,
           "Mississippi"
          ],
          [
           11,
           "4/15/20",
           122,
           "Mississippi"
          ],
          [
           7,
           "4/16/20",
           129,
           "Mississippi"
          ],
          [
           11,
           "4/17/20",
           140,
           "Mississippi"
          ],
          [
           12,
           "4/18/20",
           152,
           "Mississippi"
          ],
          [
           7,
           "4/19/20",
           159,
           "Mississippi"
          ],
          [
           10,
           "4/20/20",
           169,
           "Mississippi"
          ],
          [
           14,
           "4/21/20",
           183,
           "Mississippi"
          ],
          [
           10,
           "4/22/20",
           193,
           "Mississippi"
          ],
          [
           8,
           "4/23/20",
           201,
           "Mississippi"
          ],
          [
           8,
           "4/24/20",
           209,
           "Mississippi"
          ],
          [
           12,
           "4/25/20",
           221,
           "Mississippi"
          ],
          [
           6,
           "4/26/20",
           227,
           "Mississippi"
          ]
         ],
         "hoverlabel": {
          "namelength": 0
         },
         "hovertemplate": "State =%{customdata[3]}<br>Mean growth over 14d compared to max growth =%{x}<br>% cases from last 14d =%{y}<br>Deaths=%{customdata[2]}<br>Deaths today =%{customdata[0]}<br>Date=%{customdata[1]}",
         "legendgroup": "Mississippi",
         "marker": {
          "color": "#00cc96",
          "size": [
           20,
           22,
           26,
           29,
           35,
           43,
           51,
           60,
           67,
           76,
           82,
           93,
           96,
           98,
           111,
           122,
           129,
           140,
           152,
           159,
           169,
           183,
           193,
           201,
           209,
           221,
           227
          ],
          "sizemode": "area",
          "sizeref": 55.6725,
          "symbol": "circle"
         },
         "mode": "lines+markers",
         "name": "Mississippi",
         "showlegend": true,
         "type": "scattergl",
         "x": [
          11,
          12.1,
          13.7,
          15.4,
          18.7,
          23.1,
          27.5,
          32.4,
          35.2,
          38.5,
          40.7,
          44,
          45.1,
          45.1,
          50,
          54.9,
          56.6,
          61,
          64.3,
          63.7,
          64.8,
          67.6,
          69.2,
          68.7,
          69.8,
          70.3,
          72
         ],
         "xaxis": "x",
         "y": [
          100,
          100,
          96.2,
          96.6,
          97.1,
          97.7,
          98,
          98.3,
          95.5,
          92.1,
          90.2,
          86,
          85.4,
          83.7,
          82,
          82,
          79.8,
          79.3,
          77,
          73,
          69.8,
          67.2,
          65.3,
          62.2,
          60.8,
          57.9,
          57.7
         ],
         "yaxis": "y"
        },
        {
         "customdata": [
          [
           4,
           "4/2/20",
           22,
           "Missouri"
          ],
          [
           3,
           "4/3/20",
           25,
           "Missouri"
          ],
          [
           8,
           "4/4/20",
           33,
           "Missouri"
          ],
          [
           11,
           "4/5/20",
           44,
           "Missouri"
          ],
          [
           3,
           "4/6/20",
           47,
           "Missouri"
          ],
          [
           18,
           "4/7/20",
           65,
           "Missouri"
          ],
          [
           21,
           "4/8/20",
           86,
           "Missouri"
          ],
          [
           7,
           "4/9/20",
           93,
           "Missouri"
          ],
          [
           6,
           "4/10/20",
           99,
           "Missouri"
          ],
          [
           17,
           "4/11/20",
           116,
           "Missouri"
          ],
          [
           2,
           "4/12/20",
           118,
           "Missouri"
          ],
          [
           5,
           "4/13/20",
           123,
           "Missouri"
          ],
          [
           26,
           "4/14/20",
           149,
           "Missouri"
          ],
          [
           4,
           "4/15/20",
           153,
           "Missouri"
          ],
          [
           16,
           "4/16/20",
           169,
           "Missouri"
          ],
          [
           15,
           "4/17/20",
           184,
           "Missouri"
          ],
          [
           13,
           "4/18/20",
           197,
           "Missouri"
          ],
          [
           2,
           "4/19/20",
           199,
           "Missouri"
          ],
          [
           1,
           "4/20/20",
           200,
           "Missouri"
          ],
          [
           24,
           "4/21/20",
           224,
           "Missouri"
          ],
          [
           14,
           "4/22/20",
           238,
           "Missouri"
          ],
          [
           14,
           "4/23/20",
           252,
           "Missouri"
          ],
          [
           20,
           "4/24/20",
           272,
           "Missouri"
          ],
          [
           9,
           "4/25/20",
           281,
           "Missouri"
          ],
          [
           2,
           "4/26/20",
           283,
           "Missouri"
          ]
         ],
         "hoverlabel": {
          "namelength": 0
         },
         "hovertemplate": "State =%{customdata[3]}<br>Mean growth over 14d compared to max growth =%{x}<br>% cases from last 14d =%{y}<br>Deaths=%{customdata[2]}<br>Deaths today =%{customdata[0]}<br>Date=%{customdata[1]}",
         "legendgroup": "Missouri",
         "marker": {
          "color": "#ab63fa",
          "size": [
           22,
           25,
           33,
           44,
           47,
           65,
           86,
           93,
           99,
           116,
           118,
           123,
           149,
           153,
           169,
           184,
           197,
           199,
           200,
           224,
           238,
           252,
           272,
           281,
           283
          ],
          "sizemode": "area",
          "sizeref": 55.6725,
          "symbol": "circle"
         },
         "mode": "lines+markers",
         "name": "Missouri",
         "showlegend": true,
         "type": "scattergl",
         "x": [
          6.2,
          6.5,
          8.9,
          12.2,
          12.8,
          17.3,
          23.2,
          25,
          26.8,
          31.5,
          31.2,
          32.7,
          39.9,
          40.2,
          43.8,
          47.3,
          48.8,
          46.1,
          45.5,
          47.3,
          45.2,
          47.3,
          51.5,
          49.1,
          49.1
         ],
         "xaxis": "x",
         "y": [
          95.5,
          88,
          90.9,
          93.2,
          91.5,
          89.2,
          90.7,
          90.3,
          90.9,
          91.4,
          89,
          89.4,
          89.9,
          88.2,
          87,
          86.4,
          83.2,
          77.9,
          76.5,
          71,
          63.9,
          63.1,
          63.6,
          58.7,
          58.3
         ],
         "yaxis": "y"
        },
        {
         "customdata": [
          [
           3,
           "4/14/20",
           20,
           "Nebraska"
          ],
          [
           0,
           "4/15/20",
           20,
           "Nebraska"
          ],
          [
           1,
           "4/16/20",
           21,
           "Nebraska"
          ],
          [
           3,
           "4/17/20",
           24,
           "Nebraska"
          ],
          [
           0,
           "4/18/20",
           24,
           "Nebraska"
          ],
          [
           4,
           "4/19/20",
           28,
           "Nebraska"
          ],
          [
           5,
           "4/20/20",
           33,
           "Nebraska"
          ],
          [
           0,
           "4/21/20",
           33,
           "Nebraska"
          ],
          [
           5,
           "4/22/20",
           38,
           "Nebraska"
          ],
          [
           9,
           "4/23/20",
           47,
           "Nebraska"
          ],
          [
           3,
           "4/24/20",
           50,
           "Nebraska"
          ],
          [
           0,
           "4/25/20",
           50,
           "Nebraska"
          ],
          [
           6,
           "4/26/20",
           56,
           "Nebraska"
          ]
         ],
         "hoverlabel": {
          "namelength": 0
         },
         "hovertemplate": "State =%{customdata[3]}<br>Mean growth over 14d compared to max growth =%{x}<br>% cases from last 14d =%{y}<br>Deaths=%{customdata[2]}<br>Deaths today =%{customdata[0]}<br>Date=%{customdata[1]}",
         "legendgroup": "Nebraska",
         "marker": {
          "color": "#FFA15A",
          "size": [
           20,
           20,
           21,
           24,
           24,
           28,
           33,
           33,
           38,
           47,
           50,
           50,
           56
          ],
          "sizemode": "area",
          "sizeref": 55.6725,
          "symbol": "circle"
         },
         "mode": "lines+markers",
         "name": "Nebraska",
         "showlegend": true,
         "type": "scattergl",
         "x": [
          20.2,
          19,
          19,
          21.4,
          21.4,
          23.8,
          28.6,
          27.4,
          31,
          39.3,
          41.7,
          39.3,
          46.4
         ],
         "xaxis": "x",
         "y": [
          85,
          80,
          76.2,
          75,
          75,
          71.4,
          72.7,
          69.7,
          68.4,
          70.2,
          70,
          66,
          69.6
         ],
         "yaxis": "y"
        },
        {
         "customdata": [
          [
           11,
           "3/31/20",
           26,
           "Nevada"
          ],
          [
           5,
           "4/1/20",
           31,
           "Nevada"
          ],
          [
           7,
           "4/2/20",
           38,
           "Nevada"
          ],
          [
           5,
           "4/3/20",
           43,
           "Nevada"
          ],
          [
           3,
           "4/4/20",
           46,
           "Nevada"
          ],
          [
           0,
           "4/5/20",
           46,
           "Nevada"
          ],
          [
           0,
           "4/6/20",
           46,
           "Nevada"
          ],
          [
           26,
           "4/7/20",
           72,
           "Nevada"
          ],
          [
           0,
           "4/8/20",
           72,
           "Nevada"
          ],
          [
           9,
           "4/9/20",
           81,
           "Nevada"
          ],
          [
           9,
           "4/10/20",
           90,
           "Nevada"
          ],
          [
           12,
           "4/11/20",
           102,
           "Nevada"
          ],
          [
           10,
           "4/12/20",
           112,
           "Nevada"
          ],
          [
           2,
           "4/13/20",
           114,
           "Nevada"
          ],
          [
           12,
           "4/14/20",
           126,
           "Nevada"
          ],
          [
           5,
           "4/15/20",
           131,
           "Nevada"
          ],
          [
           6,
           "4/16/20",
           137,
           "Nevada"
          ],
          [
           5,
           "4/17/20",
           142,
           "Nevada"
          ],
          [
           9,
           "4/18/20",
           151,
           "Nevada"
          ],
          [
           7,
           "4/19/20",
           158,
           "Nevada"
          ],
          [
           1,
           "4/20/20",
           159,
           "Nevada"
          ],
          [
           4,
           "4/21/20",
           163,
           "Nevada"
          ],
          [
           9,
           "4/22/20",
           172,
           "Nevada"
          ],
          [
           23,
           "4/23/20",
           195,
           "Nevada"
          ],
          [
           2,
           "4/24/20",
           197,
           "Nevada"
          ],
          [
           8,
           "4/25/20",
           205,
           "Nevada"
          ],
          [
           1,
           "4/26/20",
           206,
           "Nevada"
          ]
         ],
         "hoverlabel": {
          "namelength": 0
         },
         "hovertemplate": "State =%{customdata[3]}<br>Mean growth over 14d compared to max growth =%{x}<br>% cases from last 14d =%{y}<br>Deaths=%{customdata[2]}<br>Deaths today =%{customdata[0]}<br>Date=%{customdata[1]}",
         "legendgroup": "Nevada",
         "marker": {
          "color": "#19d3f3",
          "size": [
           26,
           31,
           38,
           43,
           46,
           46,
           46,
           72,
           72,
           81,
           90,
           102,
           112,
           114,
           126,
           131,
           137,
           142,
           151,
           158,
           159,
           163,
           172,
           195,
           197,
           205,
           206
          ],
          "sizemode": "area",
          "sizeref": 55.6725,
          "symbol": "circle"
         },
         "mode": "lines+markers",
         "name": "Nevada",
         "showlegend": true,
         "type": "scattergl",
         "x": [
          7.8,
          9.3,
          11.5,
          12.7,
          13.7,
          13.7,
          13,
          21.1,
          20.5,
          22,
          24.8,
          28.6,
          30.1,
          30.7,
          31.1,
          31.1,
          30.7,
          30.7,
          32.6,
          34.8,
          35.1,
          28.3,
          31.1,
          35.4,
          33.2,
          32,
          29.2
         ],
         "xaxis": "x",
         "y": [
          96.2,
          96.8,
          97.4,
          95.3,
          95.7,
          95.7,
          91.3,
          94.4,
          91.7,
          87.7,
          88.9,
          90.2,
          86.6,
          86.8,
          79.4,
          76.3,
          72.3,
          69.7,
          69.5,
          70.9,
          71.1,
          55.8,
          58.1,
          58.5,
          54.3,
          50.2,
          45.6
         ],
         "yaxis": "y"
        },
        {
         "customdata": [
          [
           8,
           "4/9/20",
           21,
           "New Hampshire"
          ],
          [
           0,
           "4/10/20",
           21,
           "New Hampshire"
          ],
          [
           1,
           "4/11/20",
           22,
           "New Hampshire"
          ],
          [
           1,
           "4/12/20",
           23,
           "New Hampshire"
          ],
          [
           0,
           "4/13/20",
           23,
           "New Hampshire"
          ],
          [
           2,
           "4/14/20",
           25,
           "New Hampshire"
          ],
          [
           7,
           "4/15/20",
           32,
           "New Hampshire"
          ],
          [
           0,
           "4/16/20",
           32,
           "New Hampshire"
          ],
          [
           5,
           "4/17/20",
           37,
           "New Hampshire"
          ],
          [
           1,
           "4/18/20",
           38,
           "New Hampshire"
          ],
          [
           0,
           "4/19/20",
           38,
           "New Hampshire"
          ],
          [
           4,
           "4/20/20",
           42,
           "New Hampshire"
          ],
          [
           0,
           "4/21/20",
           42,
           "New Hampshire"
          ],
          [
           6,
           "4/22/20",
           48,
           "New Hampshire"
          ],
          [
           3,
           "4/23/20",
           51,
           "New Hampshire"
          ],
          [
           2,
           "4/24/20",
           53,
           "New Hampshire"
          ],
          [
           0,
           "4/25/20",
           53,
           "New Hampshire"
          ],
          [
           7,
           "4/26/20",
           60,
           "New Hampshire"
          ]
         ],
         "hoverlabel": {
          "namelength": 0
         },
         "hovertemplate": "State =%{customdata[3]}<br>Mean growth over 14d compared to max growth =%{x}<br>% cases from last 14d =%{y}<br>Deaths=%{customdata[2]}<br>Deaths today =%{customdata[0]}<br>Date=%{customdata[1]}",
         "legendgroup": "New Hampshire",
         "marker": {
          "color": "#FF6692",
          "size": [
           21,
           21,
           22,
           23,
           23,
           25,
           32,
           32,
           37,
           38,
           38,
           42,
           42,
           48,
           51,
           53,
           53,
           60
          ],
          "sizemode": "area",
          "sizeref": 55.6725,
          "symbol": "circle"
         },
         "mode": "lines+markers",
         "name": "New Hampshire",
         "showlegend": true,
         "type": "scattergl",
         "x": [
          20.4,
          20.4,
          20.4,
          21.4,
          20.4,
          22.4,
          29.6,
          29.6,
          32.7,
          31.6,
          29.6,
          33.7,
          33.7,
          35.7,
          30.6,
          32.7,
          31.6,
          37.8
         ],
         "xaxis": "x",
         "y": [
          95.2,
          95.2,
          90.9,
          91.3,
          87,
          88,
          90.6,
          90.6,
          86.5,
          81.6,
          76.3,
          78.6,
          78.6,
          72.9,
          58.8,
          60.4,
          58.5,
          61.7
         ],
         "yaxis": "y"
        },
        {
         "customdata": [
          [
           4,
           "3/22/20",
           20,
           "New Jersey"
          ],
          [
           7,
           "3/23/20",
           27,
           "New Jersey"
          ],
          [
           17,
           "3/24/20",
           44,
           "New Jersey"
          ],
          [
           18,
           "3/25/20",
           62,
           "New Jersey"
          ],
          [
           19,
           "3/26/20",
           81,
           "New Jersey"
          ],
          [
           27,
           "3/27/20",
           108,
           "New Jersey"
          ],
          [
           32,
           "3/28/20",
           140,
           "New Jersey"
          ],
          [
           21,
           "3/29/20",
           161,
           "New Jersey"
          ],
          [
           37,
           "3/30/20",
           198,
           "New Jersey"
          ],
          [
           69,
           "3/31/20",
           267,
           "New Jersey"
          ],
          [
           88,
           "4/1/20",
           355,
           "New Jersey"
          ],
          [
           182,
           "4/2/20",
           537,
           "New Jersey"
          ],
          [
           109,
           "4/3/20",
           646,
           "New Jersey"
          ],
          [
           200,
           "4/4/20",
           846,
           "New Jersey"
          ],
          [
           71,
           "4/5/20",
           917,
           "New Jersey"
          ],
          [
           86,
           "4/6/20",
           1003,
           "New Jersey"
          ],
          [
           229,
           "4/7/20",
           1232,
           "New Jersey"
          ],
          [
           272,
           "4/8/20",
           1504,
           "New Jersey"
          ],
          [
           205,
           "4/9/20",
           1709,
           "New Jersey"
          ],
          [
           223,
           "4/10/20",
           1932,
           "New Jersey"
          ],
          [
           251,
           "4/11/20",
           2183,
           "New Jersey"
          ],
          [
           167,
           "4/12/20",
           2350,
           "New Jersey"
          ],
          [
           93,
           "4/13/20",
           2443,
           "New Jersey"
          ],
          [
           362,
           "4/14/20",
           2805,
           "New Jersey"
          ],
          [
           351,
           "4/15/20",
           3156,
           "New Jersey"
          ],
          [
           362,
           "4/16/20",
           3518,
           "New Jersey"
          ],
          [
           322,
           "4/17/20",
           3840,
           "New Jersey"
          ],
          [
           230,
           "4/18/20",
           4070,
           "New Jersey"
          ],
          [
           292,
           "4/19/20",
           4362,
           "New Jersey"
          ],
          [
           134,
           "4/20/20",
           4496,
           "New Jersey"
          ],
          [
           257,
           "4/21/20",
           4753,
           "New Jersey"
          ],
          [
           397,
           "4/22/20",
           5150,
           "New Jersey"
          ],
          [
           276,
           "4/23/20",
           5426,
           "New Jersey"
          ],
          [
           257,
           "4/24/20",
           5683,
           "New Jersey"
          ],
          [
           231,
           "4/25/20",
           5914,
           "New Jersey"
          ],
          [
           24,
           "4/26/20",
           5938,
           "New Jersey"
          ]
         ],
         "hoverlabel": {
          "namelength": 0
         },
         "hovertemplate": "State =%{customdata[3]}<br>Mean growth over 14d compared to max growth =%{x}<br>% cases from last 14d =%{y}<br>Deaths=%{customdata[2]}<br>Deaths today =%{customdata[0]}<br>Date=%{customdata[1]}",
         "legendgroup": "New Jersey",
         "marker": {
          "color": "#B6E880",
          "size": [
           20,
           27,
           44,
           62,
           81,
           108,
           140,
           161,
           198,
           267,
           355,
           537,
           646,
           846,
           917,
           1003,
           1232,
           1504,
           1709,
           1932,
           2183,
           2350,
           2443,
           2805,
           3156,
           3518,
           3840,
           4070,
           4362,
           4496,
           4753,
           5150,
           5426,
           5683,
           5914,
           5938
          ],
          "sizemode": "area",
          "sizeref": 55.6725,
          "symbol": "circle"
         },
         "mode": "lines+markers",
         "name": "New Jersey",
         "showlegend": true,
         "type": "scattergl",
         "x": [
          0.4,
          0.5,
          0.8,
          1.2,
          1.6,
          2.1,
          2.7,
          3.1,
          3.9,
          5.2,
          6.9,
          10.4,
          12.5,
          16.4,
          17.7,
          19.3,
          23.4,
          28.5,
          32.1,
          36,
          40.3,
          43.2,
          44.3,
          50.1,
          55.3,
          58.8,
          63,
          63.6,
          68,
          68.9,
          69.5,
          71.9,
          73.3,
          74,
          73.6,
          70.8
         ],
         "xaxis": "x",
         "y": [
          100,
          100,
          97.7,
          98.4,
          98.8,
          99.1,
          99.3,
          98.8,
          99,
          98.9,
          98.6,
          98.3,
          98.3,
          98.1,
          97.8,
          97.3,
          96.4,
          95.9,
          95.3,
          94.4,
          93.6,
          93.1,
          91.9,
          90.5,
          88.8,
          84.7,
          83.2,
          79.2,
          79,
          77.7,
          74.1,
          70.8,
          68.5,
          66,
          63.1,
          60.4
         ],
         "yaxis": "y"
        },
        {
         "customdata": [
          [
           7,
           "4/12/20",
           26,
           "New Mexico"
          ],
          [
           0,
           "4/13/20",
           26,
           "New Mexico"
          ],
          [
           5,
           "4/14/20",
           31,
           "New Mexico"
          ],
          [
           5,
           "4/15/20",
           36,
           "New Mexico"
          ],
          [
           0,
           "4/16/20",
           36,
           "New Mexico"
          ],
          [
           8,
           "4/17/20",
           44,
           "New Mexico"
          ],
          [
           9,
           "4/18/20",
           53,
           "New Mexico"
          ],
          [
           2,
           "4/19/20",
           55,
           "New Mexico"
          ],
          [
           3,
           "4/20/20",
           58,
           "New Mexico"
          ],
          [
           0,
           "4/21/20",
           58,
           "New Mexico"
          ],
          [
           13,
           "4/22/20",
           71,
           "New Mexico"
          ],
          [
           7,
           "4/23/20",
           78,
           "New Mexico"
          ],
          [
           6,
           "4/24/20",
           84,
           "New Mexico"
          ],
          [
           9,
           "4/25/20",
           93,
           "New Mexico"
          ],
          [
           6,
           "4/26/20",
           99,
           "New Mexico"
          ]
         ],
         "hoverlabel": {
          "namelength": 0
         },
         "hovertemplate": "State =%{customdata[3]}<br>Mean growth over 14d compared to max growth =%{x}<br>% cases from last 14d =%{y}<br>Deaths=%{customdata[2]}<br>Deaths today =%{customdata[0]}<br>Date=%{customdata[1]}",
         "legendgroup": "New Mexico",
         "marker": {
          "color": "#FF97FF",
          "size": [
           26,
           26,
           31,
           36,
           36,
           44,
           53,
           55,
           58,
           58,
           71,
           78,
           84,
           93,
           99
          ],
          "sizemode": "area",
          "sizeref": 55.6725,
          "symbol": "circle"
         },
         "mode": "lines+markers",
         "name": "New Mexico",
         "showlegend": true,
         "type": "scattergl",
         "x": [
          19,
          19,
          21.4,
          24.6,
          23.8,
          27,
          33.3,
          34.1,
          36.5,
          35.7,
          46,
          49.2,
          53.2,
          58.7,
          57.9
         ],
         "xaxis": "x",
         "y": [
          92.3,
          92.3,
          87.1,
          86.1,
          83.3,
          77.3,
          79.2,
          78.2,
          79.3,
          77.6,
          81.7,
          79.5,
          79.8,
          79.6,
          73.7
         ],
         "yaxis": "y"
        },
        {
         "customdata": [
          [
           12,
           "3/16/20",
           24,
           "New York"
          ],
          [
           14,
           "3/17/20",
           38,
           "New York"
          ],
          [
           25,
           "3/18/20",
           63,
           "New York"
          ],
          [
           33,
           "3/19/20",
           96,
           "New York"
          ],
          [
           55,
           "3/20/20",
           151,
           "New York"
          ],
          [
           44,
           "3/21/20",
           195,
           "New York"
          ],
          [
           91,
           "3/22/20",
           286,
           "New York"
          ],
          [
           101,
           "3/23/20",
           387,
           "New York"
          ],
          [
           125,
           "3/24/20",
           512,
           "New York"
          ],
          [
           147,
           "3/25/20",
           659,
           "New York"
          ],
          [
           243,
           "3/26/20",
           902,
           "New York"
          ],
          [
           309,
           "3/27/20",
           1211,
           "New York"
          ],
          [
           377,
           "3/28/20",
           1588,
           "New York"
          ],
          [
           428,
           "3/29/20",
           2016,
           "New York"
          ],
          [
           540,
           "3/30/20",
           2556,
           "New York"
          ],
          [
           651,
           "3/31/20",
           3207,
           "New York"
          ],
          [
           710,
           "4/1/20",
           3917,
           "New York"
          ],
          [
           813,
           "4/2/20",
           4730,
           "New York"
          ],
          [
           688,
           "4/3/20",
           5418,
           "New York"
          ],
          [
           573,
           "4/4/20",
           5991,
           "New York"
          ],
          [
           794,
           "4/5/20",
           6785,
           "New York"
          ],
          [
           1024,
           "4/6/20",
           7809,
           "New York"
          ],
          [
           1077,
           "4/7/20",
           8886,
           "New York"
          ],
          [
           948,
           "4/8/20",
           9834,
           "New York"
          ],
          [
           944,
           "4/9/20",
           10778,
           "New York"
          ],
          [
           827,
           "4/10/20",
           11605,
           "New York"
          ],
          [
           893,
           "4/11/20",
           12498,
           "New York"
          ],
          [
           944,
           "4/12/20",
           13442,
           "New York"
          ],
          [
           948,
           "4/13/20",
           14390,
           "New York"
          ],
          [
           871,
           "4/14/20",
           15261,
           "New York"
          ],
          [
           752,
           "4/15/20",
           16013,
           "New York"
          ],
          [
           716,
           "4/16/20",
           16729,
           "New York"
          ],
          [
           1026,
           "4/17/20",
           17755,
           "New York"
          ],
          [
           1005,
           "4/18/20",
           18760,
           "New York"
          ],
          [
           -178,
           "4/19/20",
           18582,
           "New York"
          ],
          [
           594,
           "4/20/20",
           19176,
           "New York"
          ],
          [
           570,
           "4/21/20",
           19746,
           "New York"
          ],
          [
           457,
           "4/22/20",
           20203,
           "New York"
          ],
          [
           540,
           "4/23/20",
           20743,
           "New York"
          ],
          [
           212,
           "4/24/20",
           20955,
           "New York"
          ],
          [
           1054,
           "4/25/20",
           22009,
           "New York"
          ],
          [
           260,
           "4/26/20",
           22269,
           "New York"
          ]
         ],
         "hoverlabel": {
          "namelength": 0
         },
         "hovertemplate": "State =%{customdata[3]}<br>Mean growth over 14d compared to max growth =%{x}<br>% cases from last 14d =%{y}<br>Deaths=%{customdata[2]}<br>Deaths today =%{customdata[0]}<br>Date=%{customdata[1]}",
         "legendgroup": "New York",
         "marker": {
          "color": "#FECB52",
          "size": [
           24,
           38,
           63,
           96,
           151,
           195,
           286,
           387,
           512,
           659,
           902,
           1211,
           1588,
           2016,
           2556,
           3207,
           3917,
           4730,
           5418,
           5991,
           6785,
           7809,
           8886,
           9834,
           10778,
           11605,
           12498,
           13442,
           14390,
           15261,
           16013,
           16729,
           17755,
           18760,
           18582,
           19176,
           19746,
           20203,
           20743,
           20955,
           22009,
           22269
          ],
          "sizemode": "area",
          "sizeref": 55.6725,
          "symbol": "circle"
         },
         "mode": "lines+markers",
         "name": "New York",
         "showlegend": true,
         "type": "scattergl",
         "x": [
          0.2,
          0.3,
          0.4,
          0.7,
          1,
          1.3,
          1.9,
          2.6,
          3.5,
          4.5,
          6.1,
          8.2,
          10.7,
          13.6,
          17.2,
          21.5,
          26.1,
          31.4,
          35.7,
          39.3,
          44,
          50.3,
          56.7,
          62.2,
          66.9,
          70.4,
          73.9,
          77.4,
          80.2,
          81.7,
          82,
          81.3,
          83.6,
          86.5,
          79.9,
          77,
          73.6,
          70.3,
          67.5,
          63.4,
          64.5,
          59.8
         ],
         "xaxis": "x",
         "y": [
          100,
          100,
          100,
          100,
          100,
          100,
          100,
          100,
          100,
          100,
          99.9,
          99.8,
          99.6,
          99.4,
          99.1,
          98.8,
          98.4,
          98,
          97.2,
          96.7,
          95.8,
          95,
          94.2,
          93.3,
          91.6,
          89.6,
          87.3,
          85,
          82.2,
          79,
          75.5,
          71.7,
          69.5,
          68.1,
          63.5,
          59.3,
          55,
          51.3,
          48,
          44.6,
          43.2,
          39.6
         ],
         "yaxis": "y"
        },
        {
         "customdata": [
          [
           7,
           "4/2/20",
           21,
           "North Carolina"
          ],
          [
           6,
           "4/3/20",
           27,
           "North Carolina"
          ],
          [
           7,
           "4/4/20",
           34,
           "North Carolina"
          ],
          [
           4,
           "4/5/20",
           38,
           "North Carolina"
          ],
          [
           7,
           "4/6/20",
           45,
           "North Carolina"
          ],
          [
           8,
           "4/7/20",
           53,
           "North Carolina"
          ],
          [
           13,
           "4/8/20",
           66,
           "North Carolina"
          ],
          [
           10,
           "4/9/20",
           76,
           "North Carolina"
          ],
          [
           7,
           "4/10/20",
           83,
           "North Carolina"
          ],
          [
           6,
           "4/11/20",
           89,
           "North Carolina"
          ],
          [
           0,
           "4/12/20",
           89,
           "North Carolina"
          ],
          [
           5,
           "4/13/20",
           94,
           "North Carolina"
          ],
          [
           18,
           "4/14/20",
           112,
           "North Carolina"
          ],
          [
           18,
           "4/15/20",
           130,
           "North Carolina"
          ],
          [
           20,
           "4/16/20",
           150,
           "North Carolina"
          ],
          [
           27,
           "4/17/20",
           177,
           "North Carolina"
          ],
          [
           10,
           "4/18/20",
           187,
           "North Carolina"
          ],
          [
           13,
           "4/19/20",
           200,
           "North Carolina"
          ],
          [
           18,
           "4/20/20",
           218,
           "North Carolina"
          ],
          [
           27,
           "4/21/20",
           245,
           "North Carolina"
          ],
          [
           20,
           "4/22/20",
           265,
           "North Carolina"
          ],
          [
           16,
           "4/23/20",
           281,
           "North Carolina"
          ],
          [
           13,
           "4/24/20",
           294,
           "North Carolina"
          ],
          [
           11,
           "4/25/20",
           305,
           "North Carolina"
          ],
          [
           19,
           "4/26/20",
           324,
           "North Carolina"
          ]
         ],
         "hoverlabel": {
          "namelength": 0
         },
         "hovertemplate": "State =%{customdata[3]}<br>Mean growth over 14d compared to max growth =%{x}<br>% cases from last 14d =%{y}<br>Deaths=%{customdata[2]}<br>Deaths today =%{customdata[0]}<br>Date=%{customdata[1]}",
         "legendgroup": "North Carolina",
         "marker": {
          "color": "#636efa",
          "size": [
           21,
           27,
           34,
           38,
           45,
           53,
           66,
           76,
           83,
           89,
           89,
           94,
           112,
           130,
           150,
           177,
           187,
           200,
           218,
           245,
           265,
           281,
           294,
           305,
           324
          ],
          "sizemode": "area",
          "sizeref": 55.6725,
          "symbol": "circle"
         },
         "mode": "lines+markers",
         "name": "North Carolina",
         "showlegend": true,
         "type": "scattergl",
         "x": [
          5.6,
          7.1,
          9,
          10.1,
          11.9,
          14,
          16.9,
          19.3,
          20.9,
          22.2,
          21.7,
          23,
          26.5,
          30.7,
          34.1,
          39.7,
          40.5,
          42.9,
          45.8,
          50.8,
          52.6,
          54.2,
          55.8,
          57.1,
          62.2
         ],
         "xaxis": "x",
         "y": [
          100,
          100,
          100,
          100,
          100,
          100,
          97,
          96.1,
          95.2,
          94.4,
          92.1,
          92.6,
          89.3,
          89.2,
          86,
          84.7,
          81.8,
          81,
          79.4,
          78.4,
          75.1,
          73,
          71.8,
          70.8,
          72.5
         ],
         "yaxis": "y"
        },
        {
         "customdata": [
          [
           6,
           "3/28/20",
           25,
           "Ohio"
          ],
          [
           4,
           "3/29/20",
           29,
           "Ohio"
          ],
          [
           11,
           "3/30/20",
           40,
           "Ohio"
          ],
          [
           15,
           "3/31/20",
           55,
           "Ohio"
          ],
          [
           10,
           "4/1/20",
           65,
           "Ohio"
          ],
          [
           16,
           "4/2/20",
           81,
           "Ohio"
          ],
          [
           10,
           "4/3/20",
           91,
           "Ohio"
          ],
          [
           11,
           "4/4/20",
           102,
           "Ohio"
          ],
          [
           17,
           "4/5/20",
           119,
           "Ohio"
          ],
          [
           23,
           "4/6/20",
           142,
           "Ohio"
          ],
          [
           25,
           "4/7/20",
           167,
           "Ohio"
          ],
          [
           26,
           "4/8/20",
           193,
           "Ohio"
          ],
          [
           20,
           "4/9/20",
           213,
           "Ohio"
          ],
          [
           18,
           "4/10/20",
           231,
           "Ohio"
          ],
          [
           16,
           "4/11/20",
           247,
           "Ohio"
          ],
          [
           6,
           "4/12/20",
           253,
           "Ohio"
          ],
          [
           21,
           "4/13/20",
           274,
           "Ohio"
          ],
          [
           50,
           "4/14/20",
           324,
           "Ohio"
          ],
          [
           38,
           "4/15/20",
           362,
           "Ohio"
          ],
          [
           45,
           "4/16/20",
           407,
           "Ohio"
          ],
          [
           11,
           "4/17/20",
           418,
           "Ohio"
          ],
          [
           33,
           "4/18/20",
           451,
           "Ohio"
          ],
          [
           20,
           "4/19/20",
           471,
           "Ohio"
          ],
          [
           38,
           "4/20/20",
           509,
           "Ohio"
          ],
          [
           48,
           "4/21/20",
           557,
           "Ohio"
          ],
          [
           53,
           "4/22/20",
           610,
           "Ohio"
          ],
          [
           46,
           "4/23/20",
           656,
           "Ohio"
          ],
          [
           34,
           "4/24/20",
           690,
           "Ohio"
          ],
          [
           21,
           "4/25/20",
           711,
           "Ohio"
          ],
          [
           17,
           "4/26/20",
           728,
           "Ohio"
          ]
         ],
         "hoverlabel": {
          "namelength": 0
         },
         "hovertemplate": "State =%{customdata[3]}<br>Mean growth over 14d compared to max growth =%{x}<br>% cases from last 14d =%{y}<br>Deaths=%{customdata[2]}<br>Deaths today =%{customdata[0]}<br>Date=%{customdata[1]}",
         "legendgroup": "Ohio",
         "marker": {
          "color": "#EF553B",
          "size": [
           25,
           29,
           40,
           55,
           65,
           81,
           91,
           102,
           119,
           142,
           167,
           193,
           213,
           231,
           247,
           253,
           274,
           324,
           362,
           407,
           418,
           451,
           471,
           509,
           557,
           610,
           656,
           690,
           711,
           728
          ],
          "sizemode": "area",
          "sizeref": 55.6725,
          "symbol": "circle"
         },
         "mode": "lines+markers",
         "name": "Ohio",
         "showlegend": true,
         "type": "scattergl",
         "x": [
          3.6,
          4.1,
          5.7,
          7.9,
          9.3,
          11.6,
          12.6,
          14.1,
          16.6,
          19.4,
          22.7,
          26,
          28.3,
          30.3,
          31.7,
          32,
          33.4,
          38.4,
          42.4,
          46.6,
          46.7,
          49.9,
          50.3,
          52.4,
          55.7,
          59.6,
          63.3,
          65.6,
          66.3,
          67.9
         ],
         "xaxis": "x",
         "y": [
          100,
          100,
          100,
          100,
          100,
          100,
          96.7,
          97.1,
          97.5,
          95.8,
          95.2,
          94.3,
          93,
          91.8,
          89.9,
          88.5,
          85.4,
          83,
          82,
          80.1,
          78.2,
          77.4,
          74.7,
          72.1,
          70,
          68.4,
          67.5,
          66.5,
          65.3,
          65.2
         ],
         "yaxis": "y"
        },
        {
         "customdata": [
          [
           7,
           "3/31/20",
           23,
           "Oklahoma"
          ],
          [
           7,
           "4/1/20",
           30,
           "Oklahoma"
          ],
          [
           4,
           "4/2/20",
           34,
           "Oklahoma"
          ],
          [
           4,
           "4/3/20",
           38,
           "Oklahoma"
          ],
          [
           4,
           "4/4/20",
           42,
           "Oklahoma"
          ],
          [
           4,
           "4/5/20",
           46,
           "Oklahoma"
          ],
          [
           5,
           "4/6/20",
           51,
           "Oklahoma"
          ],
          [
           16,
           "4/7/20",
           67,
           "Oklahoma"
          ],
          [
           12,
           "4/8/20",
           79,
           "Oklahoma"
          ],
          [
           1,
           "4/9/20",
           80,
           "Oklahoma"
          ],
          [
           8,
           "4/10/20",
           88,
           "Oklahoma"
          ],
          [
           6,
           "4/11/20",
           94,
           "Oklahoma"
          ],
          [
           2,
           "4/12/20",
           96,
           "Oklahoma"
          ],
          [
           3,
           "4/13/20",
           99,
           "Oklahoma"
          ],
          [
           9,
           "4/14/20",
           108,
           "Oklahoma"
          ],
          [
           15,
           "4/15/20",
           123,
           "Oklahoma"
          ],
          [
           8,
           "4/16/20",
           131,
           "Oklahoma"
          ],
          [
           5,
           "4/17/20",
           136,
           "Oklahoma"
          ],
          [
           0,
           "4/18/20",
           136,
           "Oklahoma"
          ],
          [
           4,
           "4/19/20",
           140,
           "Oklahoma"
          ],
          [
           3,
           "4/20/20",
           143,
           "Oklahoma"
          ],
          [
           21,
           "4/21/20",
           164,
           "Oklahoma"
          ],
          [
           6,
           "4/22/20",
           170,
           "Oklahoma"
          ],
          [
           9,
           "4/23/20",
           179,
           "Oklahoma"
          ],
          [
           9,
           "4/24/20",
           188,
           "Oklahoma"
          ],
          [
           6,
           "4/25/20",
           194,
           "Oklahoma"
          ],
          [
           1,
           "4/26/20",
           195,
           "Oklahoma"
          ]
         ],
         "hoverlabel": {
          "namelength": 0
         },
         "hovertemplate": "State =%{customdata[3]}<br>Mean growth over 14d compared to max growth =%{x}<br>% cases from last 14d =%{y}<br>Deaths=%{customdata[2]}<br>Deaths today =%{customdata[0]}<br>Date=%{customdata[1]}",
         "legendgroup": "Oklahoma",
         "marker": {
          "color": "#00cc96",
          "size": [
           23,
           30,
           34,
           38,
           42,
           46,
           51,
           67,
           79,
           80,
           88,
           94,
           96,
           99,
           108,
           123,
           131,
           136,
           136,
           140,
           143,
           164,
           170,
           179,
           188,
           194,
           195
          ],
          "sizemode": "area",
          "sizeref": 55.6725,
          "symbol": "circle"
         },
         "mode": "lines+markers",
         "name": "Oklahoma",
         "showlegend": true,
         "type": "scattergl",
         "x": [
          10.3,
          13.4,
          14.7,
          16.5,
          18.3,
          19.6,
          21.9,
          28.6,
          33,
          32.6,
          35.7,
          35.3,
          35.7,
          37.1,
          37.9,
          41.5,
          43.3,
          43.8,
          42,
          42,
          41.1,
          43.3,
          40.6,
          44.2,
          44.6,
          44.6,
          44.2
         ],
         "xaxis": "x",
         "y": [
          100,
          100,
          97.1,
          97.4,
          97.6,
          95.7,
          96.1,
          95.5,
          93.7,
          91.2,
          90.9,
          84,
          83.3,
          83.8,
          78.7,
          75.6,
          74,
          72.1,
          69.1,
          67.1,
          64.3,
          59.1,
          53.5,
          55.3,
          53.2,
          51.5,
          50.8
         ],
         "yaxis": "y"
        },
        {
         "customdata": [
          [
           2,
           "4/2/20",
           21,
           "Oregon"
          ],
          [
           1,
           "4/3/20",
           22,
           "Oregon"
          ],
          [
           0,
           "4/4/20",
           22,
           "Oregon"
          ],
          [
           5,
           "4/5/20",
           27,
           "Oregon"
          ],
          [
           0,
           "4/6/20",
           27,
           "Oregon"
          ],
          [
           2,
           "4/7/20",
           29,
           "Oregon"
          ],
          [
           4,
           "4/8/20",
           33,
           "Oregon"
          ],
          [
           11,
           "4/9/20",
           44,
           "Oregon"
          ],
          [
           0,
           "4/10/20",
           44,
           "Oregon"
          ],
          [
           4,
           "4/11/20",
           48,
           "Oregon"
          ],
          [
           4,
           "4/12/20",
           52,
           "Oregon"
          ],
          [
           1,
           "4/13/20",
           53,
           "Oregon"
          ],
          [
           2,
           "4/14/20",
           55,
           "Oregon"
          ],
          [
           3,
           "4/15/20",
           58,
           "Oregon"
          ],
          [
           6,
           "4/16/20",
           64,
           "Oregon"
          ],
          [
           6,
           "4/17/20",
           70,
           "Oregon"
          ],
          [
           2,
           "4/18/20",
           72,
           "Oregon"
          ],
          [
           2,
           "4/19/20",
           74,
           "Oregon"
          ],
          [
           1,
           "4/20/20",
           75,
           "Oregon"
          ],
          [
           3,
           "4/21/20",
           78,
           "Oregon"
          ],
          [
           0,
           "4/22/20",
           78,
           "Oregon"
          ],
          [
           5,
           "4/23/20",
           83,
           "Oregon"
          ],
          [
           3,
           "4/24/20",
           86,
           "Oregon"
          ],
          [
           1,
           "4/25/20",
           87,
           "Oregon"
          ],
          [
           5,
           "4/26/20",
           92,
           "Oregon"
          ]
         ],
         "hoverlabel": {
          "namelength": 0
         },
         "hovertemplate": "State =%{customdata[3]}<br>Mean growth over 14d compared to max growth =%{x}<br>% cases from last 14d =%{y}<br>Deaths=%{customdata[2]}<br>Deaths today =%{customdata[0]}<br>Date=%{customdata[1]}",
         "legendgroup": "Oregon",
         "marker": {
          "color": "#ab63fa",
          "size": [
           21,
           22,
           22,
           27,
           27,
           29,
           33,
           44,
           44,
           48,
           52,
           53,
           55,
           58,
           64,
           70,
           72,
           74,
           75,
           78,
           78,
           83,
           86,
           87,
           92
          ],
          "sizemode": "area",
          "sizeref": 55.6725,
          "symbol": "circle"
         },
         "mode": "lines+markers",
         "name": "Oregon",
         "showlegend": true,
         "type": "scattergl",
         "x": [
          21.4,
          22.6,
          21.4,
          26.2,
          26.2,
          25,
          27.4,
          39.3,
          38.1,
          41.7,
          46.4,
          44,
          44,
          46.4,
          51.2,
          57.1,
          59.5,
          56,
          57.1,
          58.3,
          53.6,
          46.4,
          50,
          46.4,
          47.6
         ],
         "xaxis": "x",
         "y": [
          85.7,
          86.4,
          81.8,
          81.5,
          81.5,
          72.4,
          69.7,
          75,
          72.7,
          72.9,
          75,
          69.8,
          67.3,
          67.2,
          67.2,
          68.6,
          69.4,
          63.5,
          64,
          62.8,
          57.7,
          47,
          48.8,
          44.8,
          43.5
         ],
         "yaxis": "y"
        },
        {
         "customdata": [
          [
           4,
           "3/27/20",
           22,
           "Pennsylvania"
          ],
          [
           12,
           "3/28/20",
           34,
           "Pennsylvania"
          ],
          [
           7,
           "3/29/20",
           41,
           "Pennsylvania"
          ],
          [
           9,
           "3/30/20",
           50,
           "Pennsylvania"
          ],
          [
           13,
           "3/31/20",
           63,
           "Pennsylvania"
          ],
          [
           11,
           "4/1/20",
           74,
           "Pennsylvania"
          ],
          [
           16,
           "4/2/20",
           90,
           "Pennsylvania"
          ],
          [
           12,
           "4/3/20",
           102,
           "Pennsylvania"
          ],
          [
           34,
           "4/4/20",
           136,
           "Pennsylvania"
          ],
          [
           15,
           "4/5/20",
           151,
           "Pennsylvania"
          ],
          [
           28,
           "4/6/20",
           179,
           "Pennsylvania"
          ],
          [
           68,
           "4/7/20",
           247,
           "Pennsylvania"
          ],
          [
           71,
           "4/8/20",
           318,
           "Pennsylvania"
          ],
          [
           27,
           "4/9/20",
           345,
           "Pennsylvania"
          ],
          [
           73,
           "4/10/20",
           418,
           "Pennsylvania"
          ],
          [
           85,
           "4/11/20",
           503,
           "Pennsylvania"
          ],
          [
           54,
           "4/12/20",
           557,
           "Pennsylvania"
          ],
          [
           32,
           "4/13/20",
           589,
           "Pennsylvania"
          ],
          [
           102,
           "4/14/20",
           691,
           "Pennsylvania"
          ],
          [
           88,
           "4/15/20",
           779,
           "Pennsylvania"
          ],
          [
           62,
           "4/16/20",
           841,
           "Pennsylvania"
          ],
          [
           80,
           "4/17/20",
           921,
           "Pennsylvania"
          ],
          [
           121,
           "4/18/20",
           1042,
           "Pennsylvania"
          ],
          [
           234,
           "4/19/20",
           1276,
           "Pennsylvania"
          ],
          [
           72,
           "4/20/20",
           1348,
           "Pennsylvania"
          ],
          [
           266,
           "4/21/20",
           1614,
           "Pennsylvania"
          ],
          [
           59,
           "4/22/20",
           1673,
           "Pennsylvania"
          ],
          [
           51,
           "4/23/20",
           1724,
           "Pennsylvania"
          ],
          [
           23,
           "4/24/20",
           1747,
           "Pennsylvania"
          ],
          [
           46,
           "4/25/20",
           1793,
           "Pennsylvania"
          ],
          [
           23,
           "4/26/20",
           1816,
           "Pennsylvania"
          ]
         ],
         "hoverlabel": {
          "namelength": 0
         },
         "hovertemplate": "State =%{customdata[3]}<br>Mean growth over 14d compared to max growth =%{x}<br>% cases from last 14d =%{y}<br>Deaths=%{customdata[2]}<br>Deaths today =%{customdata[0]}<br>Date=%{customdata[1]}",
         "legendgroup": "Pennsylvania",
         "marker": {
          "color": "#FFA15A",
          "size": [
           22,
           34,
           41,
           50,
           63,
           74,
           90,
           102,
           136,
           151,
           179,
           247,
           318,
           345,
           418,
           503,
           557,
           589,
           691,
           779,
           841,
           921,
           1042,
           1276,
           1348,
           1614,
           1673,
           1724,
           1747,
           1793,
           1816
          ],
          "sizemode": "area",
          "sizeref": 55.6725,
          "symbol": "circle"
         },
         "mode": "lines+markers",
         "name": "Pennsylvania",
         "showlegend": true,
         "type": "scattergl",
         "x": [
          0.7,
          1,
          1.3,
          1.5,
          1.9,
          2.2,
          2.7,
          3.1,
          4.1,
          4.5,
          5.3,
          7.3,
          9.2,
          10,
          12.1,
          14.3,
          15.8,
          16.5,
          19.2,
          21.5,
          22.9,
          25,
          27.7,
          34.3,
          35.7,
          41.7,
          41.4,
          42.1,
          40.6,
          39.4,
          38.4
         ],
         "xaxis": "x",
         "y": [
          100,
          100,
          100,
          100,
          100,
          98.6,
          98.9,
          99,
          98.5,
          97.4,
          96.6,
          96.8,
          95.3,
          94.8,
          94.7,
          93.2,
          92.6,
          91.5,
          90.9,
          90.5,
          89.3,
          88.9,
          86.9,
          88.2,
          86.7,
          84.7,
          81,
          80,
          76.1,
          71.9,
          69.3
         ],
         "yaxis": "y"
        },
        {
         "customdata": [
          [
           2,
           "4/5/20",
           20,
           "Puerto Rico"
          ],
          [
           1,
           "4/6/20",
           21,
           "Puerto Rico"
          ],
          [
           2,
           "4/7/20",
           23,
           "Puerto Rico"
          ],
          [
           1,
           "4/8/20",
           24,
           "Puerto Rico"
          ],
          [
           9,
           "4/9/20",
           33,
           "Puerto Rico"
          ],
          [
           6,
           "4/10/20",
           39,
           "Puerto Rico"
          ],
          [
           3,
           "4/11/20",
           42,
           "Puerto Rico"
          ],
          [
           2,
           "4/12/20",
           44,
           "Puerto Rico"
          ],
          [
           1,
           "4/13/20",
           45,
           "Puerto Rico"
          ],
          [
           0,
           "4/14/20",
           45,
           "Puerto Rico"
          ],
          [
           6,
           "4/15/20",
           51,
           "Puerto Rico"
          ],
          [
           5,
           "4/16/20",
           56,
           "Puerto Rico"
          ],
          [
           2,
           "4/17/20",
           58,
           "Puerto Rico"
          ],
          [
           2,
           "4/18/20",
           60,
           "Puerto Rico"
          ],
          [
           2,
           "4/19/20",
           62,
           "Puerto Rico"
          ],
          [
           1,
           "4/20/20",
           63,
           "Puerto Rico"
          ],
          [
           1,
           "4/21/20",
           64,
           "Puerto Rico"
          ],
          [
           -1,
           "4/22/20",
           63,
           "Puerto Rico"
          ],
          [
           6,
           "4/23/20",
           69,
           "Puerto Rico"
          ],
          [
           8,
           "4/24/20",
           77,
           "Puerto Rico"
          ],
          [
           6,
           "4/25/20",
           83,
           "Puerto Rico"
          ],
          [
           1,
           "4/26/20",
           84,
           "Puerto Rico"
          ]
         ],
         "hoverlabel": {
          "namelength": 0
         },
         "hovertemplate": "State =%{customdata[3]}<br>Mean growth over 14d compared to max growth =%{x}<br>% cases from last 14d =%{y}<br>Deaths=%{customdata[2]}<br>Deaths today =%{customdata[0]}<br>Date=%{customdata[1]}",
         "legendgroup": "Puerto Rico",
         "marker": {
          "color": "#19d3f3",
          "size": [
           20,
           21,
           23,
           24,
           33,
           39,
           42,
           44,
           45,
           45,
           51,
           56,
           58,
           60,
           62,
           63,
           64,
           63,
           69,
           77,
           83,
           84
          ],
          "sizemode": "area",
          "sizeref": 55.6725,
          "symbol": "circle"
         },
         "mode": "lines+markers",
         "name": "Puerto Rico",
         "showlegend": true,
         "type": "scattergl",
         "x": [
          17,
          17,
          18.8,
          19.6,
          27.7,
          32.1,
          34.8,
          36.6,
          34.8,
          33,
          35.7,
          39.3,
          38.4,
          37.5,
          37.5,
          37.5,
          36.6,
          34.8,
          32.1,
          33.9,
          36.6,
          35.7
         ],
         "xaxis": "x",
         "y": [
          95,
          90.5,
          91.3,
          91.7,
          93.9,
          92.3,
          92.9,
          93.2,
          86.7,
          82.2,
          78.4,
          78.6,
          74.1,
          70,
          67.7,
          66.7,
          64.1,
          61.9,
          52.2,
          49.4,
          49.4,
          47.6
         ],
         "yaxis": "y"
        },
        {
         "customdata": [
          [
           8,
           "4/5/20",
           25,
           "Rhode Island"
          ],
          [
           2,
           "4/6/20",
           27,
           "Rhode Island"
          ],
          [
           3,
           "4/7/20",
           30,
           "Rhode Island"
          ],
          [
           5,
           "4/8/20",
           35,
           "Rhode Island"
          ],
          [
           8,
           "4/9/20",
           43,
           "Rhode Island"
          ],
          [
           0,
           "4/10/20",
           43,
           "Rhode Island"
          ],
          [
           13,
           "4/11/20",
           56,
           "Rhode Island"
          ],
          [
           7,
           "4/12/20",
           63,
           "Rhode Island"
          ],
          [
           0,
           "4/13/20",
           63,
           "Rhode Island"
          ],
          [
           17,
           "4/14/20",
           80,
           "Rhode Island"
          ],
          [
           0,
           "4/15/20",
           80,
           "Rhode Island"
          ],
          [
           7,
           "4/16/20",
           87,
           "Rhode Island"
          ],
          [
           31,
           "4/17/20",
           118,
           "Rhode Island"
          ],
          [
           19,
           "4/18/20",
           137,
           "Rhode Island"
          ],
          [
           13,
           "4/19/20",
           150,
           "Rhode Island"
          ],
          [
           5,
           "4/20/20",
           155,
           "Rhode Island"
          ],
          [
           16,
           "4/21/20",
           171,
           "Rhode Island"
          ],
          [
           10,
           "4/22/20",
           181,
           "Rhode Island"
          ],
          [
           8,
           "4/23/20",
           189,
           "Rhode Island"
          ],
          [
           13,
           "4/24/20",
           202,
           "Rhode Island"
          ],
          [
           13,
           "4/25/20",
           215,
           "Rhode Island"
          ],
          [
           11,
           "4/26/20",
           226,
           "Rhode Island"
          ]
         ],
         "hoverlabel": {
          "namelength": 0
         },
         "hovertemplate": "State =%{customdata[3]}<br>Mean growth over 14d compared to max growth =%{x}<br>% cases from last 14d =%{y}<br>Deaths=%{customdata[2]}<br>Deaths today =%{customdata[0]}<br>Date=%{customdata[1]}",
         "legendgroup": "Rhode Island",
         "marker": {
          "color": "#FF6692",
          "size": [
           25,
           27,
           30,
           35,
           43,
           43,
           56,
           63,
           63,
           80,
           80,
           87,
           118,
           137,
           150,
           155,
           171,
           181,
           189,
           202,
           215,
           226
          ],
          "sizemode": "area",
          "sizeref": 55.6725,
          "symbol": "circle"
         },
         "mode": "lines+markers",
         "name": "Rhode Island",
         "showlegend": true,
         "type": "scattergl",
         "x": [
          9.4,
          10.2,
          11.3,
          13.2,
          16.2,
          16.2,
          20.3,
          22.6,
          22.2,
          27.1,
          26.3,
          28.2,
          39.1,
          45.1,
          47,
          48.1,
          53,
          54.9,
          54.9,
          59.8,
          59.8,
          61.3
         ],
         "xaxis": "x",
         "y": [
          100,
          100,
          100,
          100,
          100,
          100,
          96.4,
          95.2,
          93.7,
          90,
          87.5,
          86.2,
          88.1,
          87.6,
          83.3,
          82.6,
          82.5,
          80.7,
          77.2,
          78.7,
          74,
          72.1
         ],
         "yaxis": "y"
        },
        {
         "customdata": [
          [
           4,
           "3/31/20",
           22,
           "South Carolina"
          ],
          [
           4,
           "4/1/20",
           26,
           "South Carolina"
          ],
          [
           5,
           "4/2/20",
           31,
           "South Carolina"
          ],
          [
           3,
           "4/3/20",
           34,
           "South Carolina"
          ],
          [
           6,
           "4/4/20",
           40,
           "South Carolina"
          ],
          [
           4,
           "4/5/20",
           44,
           "South Carolina"
          ],
          [
           4,
           "4/6/20",
           48,
           "South Carolina"
          ],
          [
           3,
           "4/7/20",
           51,
           "South Carolina"
          ],
          [
           0,
           "4/8/20",
           51,
           "South Carolina"
          ],
          [
           16,
           "4/9/20",
           67,
           "South Carolina"
          ],
          [
           5,
           "4/10/20",
           72,
           "South Carolina"
          ],
          [
           8,
           "4/11/20",
           80,
           "South Carolina"
          ],
          [
           2,
           "4/12/20",
           82,
           "South Carolina"
          ],
          [
           0,
           "4/13/20",
           82,
           "South Carolina"
          ],
          [
           15,
           "4/14/20",
           97,
           "South Carolina"
          ],
          [
           9,
           "4/15/20",
           106,
           "South Carolina"
          ],
          [
           5,
           "4/16/20",
           111,
           "South Carolina"
          ],
          [
           5,
           "4/17/20",
           116,
           "South Carolina"
          ],
          [
           3,
           "4/18/20",
           119,
           "South Carolina"
          ],
          [
           1,
           "4/19/20",
           120,
           "South Carolina"
          ],
          [
           3,
           "4/20/20",
           123,
           "South Carolina"
          ],
          [
           1,
           "4/21/20",
           124,
           "South Carolina"
          ],
          [
           16,
           "4/22/20",
           140,
           "South Carolina"
          ],
          [
           10,
           "4/23/20",
           150,
           "South Carolina"
          ],
          [
           7,
           "4/24/20",
           157,
           "South Carolina"
          ],
          [
           9,
           "4/25/20",
           166,
           "South Carolina"
          ],
          [
           8,
           "4/26/20",
           174,
           "South Carolina"
          ]
         ],
         "hoverlabel": {
          "namelength": 0
         },
         "hovertemplate": "State =%{customdata[3]}<br>Mean growth over 14d compared to max growth =%{x}<br>% cases from last 14d =%{y}<br>Deaths=%{customdata[2]}<br>Deaths today =%{customdata[0]}<br>Date=%{customdata[1]}",
         "legendgroup": "South Carolina",
         "marker": {
          "color": "#B6E880",
          "size": [
           22,
           26,
           31,
           34,
           40,
           44,
           48,
           51,
           51,
           67,
           72,
           80,
           82,
           82,
           97,
           106,
           111,
           116,
           119,
           120,
           123,
           124,
           140,
           150,
           157,
           166,
           174
          ],
          "sizemode": "area",
          "sizeref": 55.6725,
          "symbol": "circle"
         },
         "mode": "lines+markers",
         "name": "South Carolina",
         "showlegend": true,
         "type": "scattergl",
         "x": [
          9.4,
          11.2,
          13.4,
          13.8,
          16.5,
          18.3,
          19.2,
          20.5,
          19.6,
          25.9,
          26.3,
          29,
          29.5,
          28.6,
          33.5,
          35.7,
          35.7,
          36.6,
          35.3,
          33.9,
          33.5,
          32.6,
          39.7,
          37.1,
          37.9,
          38.4,
          41.1
         ],
         "xaxis": "x",
         "y": [
          95.5,
          96.2,
          96.8,
          91.2,
          92.5,
          93.2,
          89.6,
          90.2,
          86.3,
          86.6,
          81.9,
          81.2,
          80.5,
          78,
          77.3,
          75.5,
          72.1,
          70.7,
          66.4,
          63.3,
          61,
          58.9,
          63.6,
          55.3,
          54.1,
          51.8,
          52.9
         ],
         "yaxis": "y"
        },
        {
         "customdata": [
          [
           9,
           "3/31/20",
           23,
           "Tennessee"
          ],
          [
           1,
           "4/1/20",
           24,
           "Tennessee"
          ],
          [
           12,
           "4/2/20",
           36,
           "Tennessee"
          ],
          [
           5,
           "4/3/20",
           41,
           "Tennessee"
          ],
          [
           9,
           "4/4/20",
           50,
           "Tennessee"
          ],
          [
           3,
           "4/5/20",
           53,
           "Tennessee"
          ],
          [
           12,
           "4/6/20",
           65,
           "Tennessee"
          ],
          [
           7,
           "4/7/20",
           72,
           "Tennessee"
          ],
          [
           8,
           "4/8/20",
           80,
           "Tennessee"
          ],
          [
           14,
           "4/9/20",
           94,
           "Tennessee"
          ],
          [
           4,
           "4/10/20",
           98,
           "Tennessee"
          ],
          [
           8,
           "4/11/20",
           106,
           "Tennessee"
          ],
          [
           0,
           "4/12/20",
           106,
           "Tennessee"
          ],
          [
           3,
           "4/13/20",
           109,
           "Tennessee"
          ],
          [
           15,
           "4/14/20",
           124,
           "Tennessee"
          ],
          [
           0,
           "4/15/20",
           124,
           "Tennessee"
          ],
          [
           12,
           "4/16/20",
           136,
           "Tennessee"
          ],
          [
           5,
           "4/17/20",
           141,
           "Tennessee"
          ],
          [
           1,
           "4/18/20",
           142,
           "Tennessee"
          ],
          [
           6,
           "4/19/20",
           148,
           "Tennessee"
          ],
          [
           4,
           "4/20/20",
           152,
           "Tennessee"
          ],
          [
           5,
           "4/21/20",
           157,
           "Tennessee"
          ],
          [
           0,
           "4/22/20",
           157,
           "Tennessee"
          ],
          [
           14,
           "4/23/20",
           171,
           "Tennessee"
          ],
          [
           -2,
           "4/24/20",
           169,
           "Tennessee"
          ],
          [
           8,
           "4/25/20",
           177,
           "Tennessee"
          ],
          [
           4,
           "4/26/20",
           181,
           "Tennessee"
          ]
         ],
         "hoverlabel": {
          "namelength": 0
         },
         "hovertemplate": "State =%{customdata[3]}<br>Mean growth over 14d compared to max growth =%{x}<br>% cases from last 14d =%{y}<br>Deaths=%{customdata[2]}<br>Deaths today =%{customdata[0]}<br>Date=%{customdata[1]}",
         "legendgroup": "Tennessee",
         "marker": {
          "color": "#FF97FF",
          "size": [
           23,
           24,
           36,
           41,
           50,
           53,
           65,
           72,
           80,
           94,
           98,
           106,
           106,
           109,
           124,
           124,
           136,
           141,
           142,
           148,
           152,
           157,
           157,
           171,
           169,
           177,
           181
          ],
          "sizemode": "area",
          "sizeref": 55.6725,
          "symbol": "circle"
         },
         "mode": "lines+markers",
         "name": "Tennessee",
         "showlegend": true,
         "type": "scattergl",
         "x": [
          11.7,
          12.2,
          18.4,
          20.4,
          25,
          26,
          32.1,
          35.7,
          39.3,
          46.4,
          46.9,
          50.5,
          50,
          48.5,
          51.5,
          51,
          51,
          51,
          46.9,
          48.5,
          44.4,
          43.4,
          39.3,
          39.3,
          36.2,
          36.2,
          38.3
         ],
         "xaxis": "x",
         "y": [
          100,
          100,
          100,
          97.6,
          98,
          96.2,
          96.9,
          97.2,
          96.2,
          96.8,
          93.9,
          93.4,
          92.5,
          87.2,
          81.5,
          80.6,
          73.5,
          70.9,
          64.8,
          64.2,
          57.2,
          54.1,
          49,
          45,
          42,
          40.1,
          41.4
         ],
         "yaxis": "y"
        },
        {
         "customdata": [
          [
           6,
           "3/26/20",
           21,
           "Texas"
          ],
          [
           5,
           "3/27/20",
           26,
           "Texas"
          ],
          [
           4,
           "3/28/20",
           30,
           "Texas"
          ],
          [
           7,
           "3/29/20",
           37,
           "Texas"
          ],
          [
           8,
           "3/30/20",
           45,
           "Texas"
          ],
          [
           9,
           "3/31/20",
           54,
           "Texas"
          ],
          [
           12,
           "4/1/20",
           66,
           "Texas"
          ],
          [
           11,
           "4/2/20",
           77,
           "Texas"
          ],
          [
           23,
           "4/3/20",
           100,
           "Texas"
          ],
          [
           16,
           "4/4/20",
           116,
           "Texas"
          ],
          [
           20,
           "4/5/20",
           136,
           "Texas"
          ],
          [
           14,
           "4/6/20",
           150,
           "Texas"
          ],
          [
           10,
           "4/7/20",
           160,
           "Texas"
          ],
          [
           29,
           "4/8/20",
           189,
           "Texas"
          ],
          [
           21,
           "4/9/20",
           210,
           "Texas"
          ],
          [
           28,
           "4/10/20",
           238,
           "Texas"
          ],
          [
           28,
           "4/11/20",
           266,
           "Texas"
          ],
          [
           17,
           "4/12/20",
           283,
           "Texas"
          ],
          [
           22,
           "4/13/20",
           305,
           "Texas"
          ],
          [
           37,
           "4/14/20",
           342,
           "Texas"
          ],
          [
           33,
           "4/15/20",
           375,
           "Texas"
          ],
          [
           39,
           "4/16/20",
           414,
           "Texas"
          ],
          [
           37,
           "4/17/20",
           451,
           "Texas"
          ],
          [
           25,
           "4/18/20",
           476,
           "Texas"
          ],
          [
           14,
           "4/19/20",
           490,
           "Texas"
          ],
          [
           17,
           "4/20/20",
           507,
           "Texas"
          ],
          [
           26,
           "4/21/20",
           533,
           "Texas"
          ],
          [
           23,
           "4/22/20",
           556,
           "Texas"
          ],
          [
           48,
           "4/23/20",
           604,
           "Texas"
          ],
          [
           20,
           "4/24/20",
           624,
           "Texas"
          ],
          [
           14,
           "4/25/20",
           638,
           "Texas"
          ],
          [
           13,
           "4/26/20",
           651,
           "Texas"
          ]
         ],
         "hoverlabel": {
          "namelength": 0
         },
         "hovertemplate": "State =%{customdata[3]}<br>Mean growth over 14d compared to max growth =%{x}<br>% cases from last 14d =%{y}<br>Deaths=%{customdata[2]}<br>Deaths today =%{customdata[0]}<br>Date=%{customdata[1]}",
         "legendgroup": "Texas",
         "marker": {
          "color": "#FECB52",
          "size": [
           21,
           26,
           30,
           37,
           45,
           54,
           66,
           77,
           100,
           116,
           136,
           150,
           160,
           189,
           210,
           238,
           266,
           283,
           305,
           342,
           375,
           414,
           451,
           476,
           490,
           507,
           533,
           556,
           604,
           624,
           638,
           651
          ],
          "sizemode": "area",
          "sizeref": 55.6725,
          "symbol": "circle"
         },
         "mode": "lines+markers",
         "name": "Texas",
         "showlegend": true,
         "type": "scattergl",
         "x": [
          3.8,
          4.8,
          5.5,
          6.8,
          8.2,
          9.7,
          11.5,
          13.2,
          17.6,
          20.3,
          23.6,
          25.8,
          27.1,
          31.9,
          34.6,
          38.8,
          43.2,
          45.1,
          47.6,
          52.7,
          56.6,
          61.7,
          64.3,
          65.9,
          64.8,
          65.4,
          68.3,
          67.2,
          72.2,
          70.7,
          68.1,
          67.4
         ],
         "xaxis": "x",
         "y": [
          100,
          100,
          100,
          100,
          100,
          98.1,
          95.5,
          93.5,
          96,
          95.7,
          94.9,
          94,
          92.5,
          92.1,
          90,
          89.1,
          88.7,
          86.9,
          85.2,
          84.2,
          82.4,
          81.4,
          77.8,
          75.6,
          72.2,
          70.4,
          70,
          66,
          65.2,
          61.9,
          58.3,
          56.5
         ],
         "yaxis": "y"
        },
        {
         "customdata": [
          [
           2,
           "4/15/20",
           20,
           "Utah"
          ],
          [
           0,
           "4/16/20",
           20,
           "Utah"
          ],
          [
           3,
           "4/17/20",
           23,
           "Utah"
          ],
          [
           2,
           "4/18/20",
           25,
           "Utah"
          ],
          [
           2,
           "4/19/20",
           27,
           "Utah"
          ],
          [
           1,
           "4/20/20",
           28,
           "Utah"
          ],
          [
           4,
           "4/21/20",
           32,
           "Utah"
          ],
          [
           0,
           "4/22/20",
           32,
           "Utah"
          ],
          [
           3,
           "4/23/20",
           35,
           "Utah"
          ],
          [
           4,
           "4/24/20",
           39,
           "Utah"
          ],
          [
           2,
           "4/25/20",
           41,
           "Utah"
          ],
          [
           0,
           "4/26/20",
           41,
           "Utah"
          ]
         ],
         "hoverlabel": {
          "namelength": 0
         },
         "hovertemplate": "State =%{customdata[3]}<br>Mean growth over 14d compared to max growth =%{x}<br>% cases from last 14d =%{y}<br>Deaths=%{customdata[2]}<br>Deaths today =%{customdata[0]}<br>Date=%{customdata[1]}",
         "legendgroup": "Utah",
         "marker": {
          "color": "#636efa",
          "size": [
           20,
           20,
           23,
           25,
           27,
           28,
           32,
           32,
           35,
           39,
           41,
           41
          ],
          "sizemode": "area",
          "sizeref": 55.6725,
          "symbol": "circle"
         },
         "mode": "lines+markers",
         "name": "Utah",
         "showlegend": true,
         "type": "scattergl",
         "x": [
          21.4,
          18.6,
          22.9,
          24.3,
          27.1,
          21.4,
          27.1,
          27.1,
          31.4,
          31.4,
          32.9,
          32.9
         ],
         "xaxis": "x",
         "y": [
          75,
          65,
          69.6,
          68,
          70.4,
          53.6,
          59.4,
          59.4,
          62.9,
          56.4,
          56.1,
          56.1
         ],
         "yaxis": "y"
        },
        {
         "customdata": [
          [
           3,
           "4/4/20",
           20,
           "Vermont"
          ],
          [
           2,
           "4/5/20",
           22,
           "Vermont"
          ],
          [
           1,
           "4/6/20",
           23,
           "Vermont"
          ],
          [
           0,
           "4/7/20",
           23,
           "Vermont"
          ],
          [
           0,
           "4/8/20",
           23,
           "Vermont"
          ],
          [
           0,
           "4/9/20",
           23,
           "Vermont"
          ],
          [
           1,
           "4/10/20",
           24,
           "Vermont"
          ],
          [
           1,
           "4/11/20",
           25,
           "Vermont"
          ],
          [
           2,
           "4/12/20",
           27,
           "Vermont"
          ],
          [
           1,
           "4/13/20",
           28,
           "Vermont"
          ],
          [
           1,
           "4/14/20",
           29,
           "Vermont"
          ],
          [
           0,
           "4/15/20",
           29,
           "Vermont"
          ],
          [
           4,
           "4/16/20",
           33,
           "Vermont"
          ],
          [
           2,
           "4/17/20",
           35,
           "Vermont"
          ],
          [
           3,
           "4/18/20",
           38,
           "Vermont"
          ],
          [
           0,
           "4/19/20",
           38,
           "Vermont"
          ],
          [
           0,
           "4/20/20",
           38,
           "Vermont"
          ],
          [
           2,
           "4/21/20",
           40,
           "Vermont"
          ],
          [
           0,
           "4/22/20",
           40,
           "Vermont"
          ],
          [
           3,
           "4/23/20",
           43,
           "Vermont"
          ],
          [
           1,
           "4/24/20",
           44,
           "Vermont"
          ],
          [
           2,
           "4/25/20",
           46,
           "Vermont"
          ],
          [
           0,
           "4/26/20",
           46,
           "Vermont"
          ]
         ],
         "hoverlabel": {
          "namelength": 0
         },
         "hovertemplate": "State =%{customdata[3]}<br>Mean growth over 14d compared to max growth =%{x}<br>% cases from last 14d =%{y}<br>Deaths=%{customdata[2]}<br>Deaths today =%{customdata[0]}<br>Date=%{customdata[1]}",
         "legendgroup": "Vermont",
         "marker": {
          "color": "#EF553B",
          "size": [
           20,
           22,
           23,
           23,
           23,
           23,
           24,
           25,
           27,
           28,
           29,
           29,
           33,
           35,
           38,
           38,
           38,
           40,
           40,
           43,
           44,
           46,
           46
          ],
          "sizemode": "area",
          "sizeref": 55.6725,
          "symbol": "circle"
         },
         "mode": "lines+markers",
         "name": "Vermont",
         "showlegend": true,
         "type": "scattergl",
         "x": [
          42.9,
          47.6,
          42.9,
          38.1,
          35.7,
          33.3,
          33.3,
          31,
          35.7,
          38.1,
          38.1,
          31,
          38.1,
          42.9,
          42.9,
          38.1,
          35.7,
          40.5,
          40.5,
          47.6,
          47.6,
          50,
          45.2
         ],
         "xaxis": "x",
         "y": [
          90,
          90.9,
          78.3,
          69.6,
          65.2,
          60.9,
          58.3,
          52,
          55.6,
          57.1,
          55.2,
          44.8,
          48.5,
          51.4,
          47.4,
          42.1,
          39.5,
          42.5,
          42.5,
          46.5,
          45.5,
          45.7,
          41.3
         ],
         "yaxis": "y"
        },
        {
         "customdata": [
          [
           7,
           "3/29/20",
           20,
           "Virginia"
          ],
          [
           12,
           "3/31/20",
           27,
           "Virginia"
          ],
          [
           7,
           "4/1/20",
           34,
           "Virginia"
          ],
          [
           7,
           "4/2/20",
           41,
           "Virginia"
          ],
          [
           5,
           "4/3/20",
           46,
           "Virginia"
          ],
          [
           6,
           "4/4/20",
           52,
           "Virginia"
          ],
          [
           0,
           "4/5/20",
           52,
           "Virginia"
          ],
          [
           14,
           "4/6/20",
           66,
           "Virginia"
          ],
          [
           0,
           "4/7/20",
           66,
           "Virginia"
          ],
          [
           0,
           "4/8/20",
           66,
           "Virginia"
          ],
          [
           43,
           "4/9/20",
           109,
           "Virginia"
          ],
          [
           12,
           "4/10/20",
           121,
           "Virginia"
          ],
          [
           9,
           "4/11/20",
           130,
           "Virginia"
          ],
          [
           11,
           "4/12/20",
           141,
           "Virginia"
          ],
          [
           8,
           "4/13/20",
           149,
           "Virginia"
          ],
          [
           5,
           "4/14/20",
           154,
           "Virginia"
          ],
          [
           41,
           "4/15/20",
           195,
           "Virginia"
          ],
          [
           13,
           "4/16/20",
           208,
           "Virginia"
          ],
          [
           23,
           "4/17/20",
           231,
           "Virginia"
          ],
          [
           27,
           "4/18/20",
           258,
           "Virginia"
          ],
          [
           19,
           "4/19/20",
           277,
           "Virginia"
          ],
          [
           23,
           "4/20/20",
           300,
           "Virginia"
          ],
          [
           24,
           "4/21/20",
           324,
           "Virginia"
          ],
          [
           25,
           "4/22/20",
           349,
           "Virginia"
          ],
          [
           24,
           "4/23/20",
           373,
           "Virginia"
          ],
          [
           38,
           "4/24/20",
           411,
           "Virginia"
          ],
          [
           26,
           "4/25/20",
           437,
           "Virginia"
          ],
          [
           12,
           "4/26/20",
           449,
           "Virginia"
          ]
         ],
         "hoverlabel": {
          "namelength": 0
         },
         "hovertemplate": "State =%{customdata[3]}<br>Mean growth over 14d compared to max growth =%{x}<br>% cases from last 14d =%{y}<br>Deaths=%{customdata[2]}<br>Deaths today =%{customdata[0]}<br>Date=%{customdata[1]}",
         "legendgroup": "Virginia",
         "marker": {
          "color": "#00cc96",
          "size": [
           20,
           27,
           34,
           41,
           46,
           52,
           52,
           66,
           66,
           66,
           109,
           121,
           130,
           141,
           149,
           154,
           195,
           208,
           231,
           258,
           277,
           300,
           324,
           349,
           373,
           411,
           437,
           449
          ],
          "sizemode": "area",
          "sizeref": 55.6725,
          "symbol": "circle"
         },
         "mode": "lines+markers",
         "name": "Virginia",
         "showlegend": true,
         "type": "scattergl",
         "x": [
          3.3,
          4.4,
          5.6,
          6.8,
          7.7,
          8.5,
          8,
          10.5,
          9.9,
          9.9,
          17.2,
          19.3,
          20.4,
          21.1,
          23.3,
          22.1,
          28,
          29.1,
          32.2,
          35.9,
          39.2,
          40.8,
          44.9,
          49.3,
          46,
          50.5,
          53.5,
          53.7
         ],
         "xaxis": "x",
         "y": [
          95,
          92.6,
          94.1,
          95.1,
          95.7,
          94.2,
          88.5,
          90.9,
          86.4,
          86.4,
          90.8,
          91.7,
          90,
          85.8,
          89.9,
          82.5,
          82.6,
          80.3,
          80.1,
          79.8,
          81.2,
          78,
          79.6,
          81.1,
          70.8,
          70.6,
          70.3,
          68.6
         ],
         "yaxis": "y"
        },
        {
         "customdata": [
          [
           4,
           "3/10/20",
           23,
           "Washington"
          ],
          [
           1,
           "3/11/20",
           24,
           "Washington"
          ],
          [
           7,
           "3/12/20",
           31,
           "Washington"
          ],
          [
           6,
           "3/13/20",
           37,
           "Washington"
          ],
          [
           2,
           "3/14/20",
           39,
           "Washington"
          ],
          [
           1,
           "3/15/20",
           40,
           "Washington"
          ],
          [
           8,
           "3/16/20",
           48,
           "Washington"
          ],
          [
           7,
           "3/17/20",
           55,
           "Washington"
          ],
          [
           12,
           "3/18/20",
           67,
           "Washington"
          ],
          [
           6,
           "3/19/20",
           73,
           "Washington"
          ],
          [
           10,
           "3/20/20",
           83,
           "Washington"
          ],
          [
           11,
           "3/21/20",
           94,
           "Washington"
          ],
          [
           3,
           "3/22/20",
           97,
           "Washington"
          ],
          [
           12,
           "3/23/20",
           109,
           "Washington"
          ],
          [
           7,
           "3/24/20",
           116,
           "Washington"
          ],
          [
           17,
           "3/25/20",
           133,
           "Washington"
          ],
          [
           17,
           "3/26/20",
           150,
           "Washington"
          ],
          [
           7,
           "3/27/20",
           157,
           "Washington"
          ],
          [
           31,
           "3/28/20",
           188,
           "Washington"
          ],
          [
           10,
           "3/29/20",
           198,
           "Washington"
          ],
          [
           7,
           "3/30/20",
           205,
           "Washington"
          ],
          [
           20,
           "3/31/20",
           225,
           "Washington"
          ],
          [
           9,
           "4/1/20",
           234,
           "Washington"
          ],
          [
           37,
           "4/2/20",
           271,
           "Washington"
          ],
          [
           20,
           "4/3/20",
           291,
           "Washington"
          ],
          [
           24,
           "4/4/20",
           315,
           "Washington"
          ],
          [
           21,
           "4/5/20",
           336,
           "Washington"
          ],
          [
           45,
           "4/6/20",
           381,
           "Washington"
          ],
          [
           19,
           "4/7/20",
           400,
           "Washington"
          ],
          [
           26,
           "4/8/20",
           426,
           "Washington"
          ],
          [
           30,
           "4/9/20",
           456,
           "Washington"
          ],
          [
           27,
           "4/10/20",
           483,
           "Washington"
          ],
          [
           12,
           "4/11/20",
           495,
           "Washington"
          ],
          [
           11,
           "4/12/20",
           506,
           "Washington"
          ],
          [
           7,
           "4/13/20",
           513,
           "Washington"
          ],
          [
           17,
           "4/14/20",
           530,
           "Washington"
          ],
          [
           22,
           "4/15/20",
           552,
           "Washington"
          ],
          [
           27,
           "4/16/20",
           579,
           "Washington"
          ],
          [
           24,
           "4/17/20",
           603,
           "Washington"
          ],
          [
           10,
           "4/18/20",
           613,
           "Washington"
          ],
          [
           23,
           "4/19/20",
           636,
           "Washington"
          ],
          [
           7,
           "4/20/20",
           643,
           "Washington"
          ],
          [
           21,
           "4/21/20",
           664,
           "Washington"
          ],
          [
           22,
           "4/22/20",
           686,
           "Washington"
          ],
          [
           25,
           "4/23/20",
           711,
           "Washington"
          ],
          [
           11,
           "4/24/20",
           722,
           "Washington"
          ],
          [
           15,
           "4/25/20",
           737,
           "Washington"
          ],
          [
           12,
           "4/26/20",
           749,
           "Washington"
          ]
         ],
         "hoverlabel": {
          "namelength": 0
         },
         "hovertemplate": "State =%{customdata[3]}<br>Mean growth over 14d compared to max growth =%{x}<br>% cases from last 14d =%{y}<br>Deaths=%{customdata[2]}<br>Deaths today =%{customdata[0]}<br>Date=%{customdata[1]}",
         "legendgroup": "Washington",
         "marker": {
          "color": "#ab63fa",
          "size": [
           23,
           24,
           31,
           37,
           39,
           40,
           48,
           55,
           67,
           73,
           83,
           94,
           97,
           109,
           116,
           133,
           150,
           157,
           188,
           198,
           205,
           225,
           234,
           271,
           291,
           315,
           336,
           381,
           400,
           426,
           456,
           483,
           495,
           506,
           513,
           530,
           552,
           579,
           603,
           613,
           636,
           643,
           664,
           686,
           711,
           722,
           737,
           749
          ],
          "sizemode": "area",
          "sizeref": 55.6725,
          "symbol": "circle"
         },
         "mode": "lines+markers",
         "name": "Washington",
         "showlegend": true,
         "type": "scattergl",
         "x": [
          4.4,
          4.6,
          6,
          7.1,
          7.3,
          7.5,
          8.1,
          9.3,
          11,
          12,
          13.5,
          15.1,
          15.3,
          17.4,
          18,
          21,
          23,
          23.2,
          28.8,
          30.5,
          30.3,
          32.8,
          32.2,
          38.2,
          40.2,
          42.7,
          46.1,
          52.5,
          54.8,
          56.6,
          59.1,
          62.9,
          59.3,
          59.5,
          59.5,
          58.9,
          61.4,
          59.5,
          60.2,
          57.5,
          57.9,
          50.6,
          51,
          50.2,
          49.2,
          46.1,
          46.7,
          46.9
         ],
         "xaxis": "x",
         "y": [
          100,
          100,
          100,
          100,
          97.4,
          97.5,
          87.5,
          87.3,
          85.1,
          84.9,
          84.3,
          83,
          81.4,
          82.6,
          80.2,
          82,
          79.3,
          76.4,
          79.3,
          79.8,
          76.6,
          75.6,
          71.4,
          73.1,
          71.5,
          70.2,
          71.1,
          71.4,
          71,
          68.8,
          67.1,
          67.5,
          62,
          60.9,
          60,
          57.5,
          57.6,
          53.2,
          51.7,
          48.6,
          47.2,
          40.7,
          39.8,
          37.9,
          35.9,
          33.1,
          32.8,
          32.4
         ],
         "yaxis": "y"
        },
        {
         "customdata": [
          [
           6,
           "4/20/20",
           24,
           "West Virginia"
          ],
          [
           2,
           "4/21/20",
           26,
           "West Virginia"
          ],
          [
           1,
           "4/22/20",
           27,
           "West Virginia"
          ],
          [
           4,
           "4/23/20",
           31,
           "West Virginia"
          ],
          [
           1,
           "4/24/20",
           32,
           "West Virginia"
          ],
          [
           0,
           "4/25/20",
           32,
           "West Virginia"
          ],
          [
           2,
           "4/26/20",
           34,
           "West Virginia"
          ]
         ],
         "hoverlabel": {
          "namelength": 0
         },
         "hovertemplate": "State =%{customdata[3]}<br>Mean growth over 14d compared to max growth =%{x}<br>% cases from last 14d =%{y}<br>Deaths=%{customdata[2]}<br>Deaths today =%{customdata[0]}<br>Date=%{customdata[1]}",
         "legendgroup": "West Virginia",
         "marker": {
          "color": "#FFA15A",
          "size": [
           24,
           26,
           27,
           31,
           32,
           32,
           34
          ],
          "sizemode": "area",
          "sizeref": 55.6725,
          "symbol": "circle"
         },
         "mode": "lines+markers",
         "name": "West Virginia",
         "showlegend": true,
         "type": "scattergl",
         "x": [
          35.7,
          39.3,
          41.1,
          46.4,
          48.2,
          48.2,
          50
         ],
         "xaxis": "x",
         "y": [
          83.3,
          84.6,
          85.2,
          83.9,
          84.4,
          84.4,
          82.4
         ],
         "yaxis": "y"
        },
        {
         "customdata": [
          [
           2,
           "3/30/20",
           20,
           "Wisconsin"
          ],
          [
           5,
           "3/31/20",
           25,
           "Wisconsin"
          ],
          [
           2,
           "4/1/20",
           27,
           "Wisconsin"
          ],
          [
           11,
           "4/2/20",
           38,
           "Wisconsin"
          ],
          [
           13,
           "4/3/20",
           51,
           "Wisconsin"
          ],
          [
           3,
           "4/4/20",
           54,
           "Wisconsin"
          ],
          [
           20,
           "4/5/20",
           74,
           "Wisconsin"
          ],
          [
           4,
           "4/6/20",
           78,
           "Wisconsin"
          ],
          [
           14,
           "4/7/20",
           92,
           "Wisconsin"
          ],
          [
           8,
           "4/8/20",
           100,
           "Wisconsin"
          ],
          [
           11,
           "4/9/20",
           111,
           "Wisconsin"
          ],
          [
           17,
           "4/10/20",
           128,
           "Wisconsin"
          ],
          [
           9,
           "4/11/20",
           137,
           "Wisconsin"
          ],
          [
           7,
           "4/12/20",
           144,
           "Wisconsin"
          ],
          [
           10,
           "4/13/20",
           154,
           "Wisconsin"
          ],
          [
           16,
           "4/14/20",
           170,
           "Wisconsin"
          ],
          [
           13,
           "4/15/20",
           183,
           "Wisconsin"
          ],
          [
           14,
           "4/16/20",
           197,
           "Wisconsin"
          ],
          [
           9,
           "4/17/20",
           206,
           "Wisconsin"
          ],
          [
           6,
           "4/18/20",
           212,
           "Wisconsin"
          ],
          [
           8,
           "4/19/20",
           220,
           "Wisconsin"
          ],
          [
           10,
           "4/20/20",
           230,
           "Wisconsin"
          ],
          [
           14,
           "4/21/20",
           244,
           "Wisconsin"
          ],
          [
           4,
           "4/22/20",
           248,
           "Wisconsin"
          ],
          [
           10,
           "4/23/20",
           258,
           "Wisconsin"
          ],
          [
           5,
           "4/24/20",
           263,
           "Wisconsin"
          ],
          [
           3,
           "4/25/20",
           266,
           "Wisconsin"
          ],
          [
           6,
           "4/26/20",
           272,
           "Wisconsin"
          ]
         ],
         "hoverlabel": {
          "namelength": 0
         },
         "hovertemplate": "State =%{customdata[3]}<br>Mean growth over 14d compared to max growth =%{x}<br>% cases from last 14d =%{y}<br>Deaths=%{customdata[2]}<br>Deaths today =%{customdata[0]}<br>Date=%{customdata[1]}",
         "legendgroup": "Wisconsin",
         "marker": {
          "color": "#19d3f3",
          "size": [
           20,
           25,
           27,
           38,
           51,
           54,
           74,
           78,
           92,
           100,
           111,
           128,
           137,
           144,
           154,
           170,
           183,
           197,
           206,
           212,
           220,
           230,
           244,
           248,
           258,
           263,
           266,
           272
          ],
          "sizemode": "area",
          "sizeref": 55.6725,
          "symbol": "circle"
         },
         "mode": "lines+markers",
         "name": "Wisconsin",
         "showlegend": true,
         "type": "scattergl",
         "x": [
          8.4,
          10.5,
          11.3,
          14.3,
          20.2,
          21,
          29.4,
          30.7,
          36.6,
          39.1,
          42.4,
          47.9,
          50.4,
          52.9,
          56.3,
          60.9,
          65.5,
          66.8,
          65.1,
          66.4,
          61.3,
          63.9,
          63.9,
          62.2,
          61.8,
          56.7,
          54.2,
          53.8
         ],
         "xaxis": "x",
         "y": [
          100,
          100,
          100,
          89.5,
          94.1,
          92.6,
          94.6,
          93.6,
          94.6,
          93,
          91,
          89.1,
          87.6,
          87.5,
          87,
          85.3,
          85.2,
          80.7,
          75.2,
          74.5,
          66.4,
          66.1,
          62.3,
          59.7,
          57,
          51.3,
          48.5,
          47.1
         ],
         "yaxis": "y"
        }
       ],
       "layout": {
        "legend": {
         "itemsizing": "constant",
         "title": {
          "text": "State "
         },
         "tracegroupgap": 0
        },
        "template": {
         "data": {
          "bar": [
           {
            "error_x": {
             "color": "#2a3f5f"
            },
            "error_y": {
             "color": "#2a3f5f"
            },
            "marker": {
             "line": {
              "color": "#E5ECF6",
              "width": 0.5
             }
            },
            "type": "bar"
           }
          ],
          "barpolar": [
           {
            "marker": {
             "line": {
              "color": "#E5ECF6",
              "width": 0.5
             }
            },
            "type": "barpolar"
           }
          ],
          "carpet": [
           {
            "aaxis": {
             "endlinecolor": "#2a3f5f",
             "gridcolor": "white",
             "linecolor": "white",
             "minorgridcolor": "white",
             "startlinecolor": "#2a3f5f"
            },
            "baxis": {
             "endlinecolor": "#2a3f5f",
             "gridcolor": "white",
             "linecolor": "white",
             "minorgridcolor": "white",
             "startlinecolor": "#2a3f5f"
            },
            "type": "carpet"
           }
          ],
          "choropleth": [
           {
            "colorbar": {
             "outlinewidth": 0,
             "ticks": ""
            },
            "type": "choropleth"
           }
          ],
          "contour": [
           {
            "colorbar": {
             "outlinewidth": 0,
             "ticks": ""
            },
            "colorscale": [
             [
              0,
              "#0d0887"
             ],
             [
              0.1111111111111111,
              "#46039f"
             ],
             [
              0.2222222222222222,
              "#7201a8"
             ],
             [
              0.3333333333333333,
              "#9c179e"
             ],
             [
              0.4444444444444444,
              "#bd3786"
             ],
             [
              0.5555555555555556,
              "#d8576b"
             ],
             [
              0.6666666666666666,
              "#ed7953"
             ],
             [
              0.7777777777777778,
              "#fb9f3a"
             ],
             [
              0.8888888888888888,
              "#fdca26"
             ],
             [
              1,
              "#f0f921"
             ]
            ],
            "type": "contour"
           }
          ],
          "contourcarpet": [
           {
            "colorbar": {
             "outlinewidth": 0,
             "ticks": ""
            },
            "type": "contourcarpet"
           }
          ],
          "heatmap": [
           {
            "colorbar": {
             "outlinewidth": 0,
             "ticks": ""
            },
            "colorscale": [
             [
              0,
              "#0d0887"
             ],
             [
              0.1111111111111111,
              "#46039f"
             ],
             [
              0.2222222222222222,
              "#7201a8"
             ],
             [
              0.3333333333333333,
              "#9c179e"
             ],
             [
              0.4444444444444444,
              "#bd3786"
             ],
             [
              0.5555555555555556,
              "#d8576b"
             ],
             [
              0.6666666666666666,
              "#ed7953"
             ],
             [
              0.7777777777777778,
              "#fb9f3a"
             ],
             [
              0.8888888888888888,
              "#fdca26"
             ],
             [
              1,
              "#f0f921"
             ]
            ],
            "type": "heatmap"
           }
          ],
          "heatmapgl": [
           {
            "colorbar": {
             "outlinewidth": 0,
             "ticks": ""
            },
            "colorscale": [
             [
              0,
              "#0d0887"
             ],
             [
              0.1111111111111111,
              "#46039f"
             ],
             [
              0.2222222222222222,
              "#7201a8"
             ],
             [
              0.3333333333333333,
              "#9c179e"
             ],
             [
              0.4444444444444444,
              "#bd3786"
             ],
             [
              0.5555555555555556,
              "#d8576b"
             ],
             [
              0.6666666666666666,
              "#ed7953"
             ],
             [
              0.7777777777777778,
              "#fb9f3a"
             ],
             [
              0.8888888888888888,
              "#fdca26"
             ],
             [
              1,
              "#f0f921"
             ]
            ],
            "type": "heatmapgl"
           }
          ],
          "histogram": [
           {
            "marker": {
             "colorbar": {
              "outlinewidth": 0,
              "ticks": ""
             }
            },
            "type": "histogram"
           }
          ],
          "histogram2d": [
           {
            "colorbar": {
             "outlinewidth": 0,
             "ticks": ""
            },
            "colorscale": [
             [
              0,
              "#0d0887"
             ],
             [
              0.1111111111111111,
              "#46039f"
             ],
             [
              0.2222222222222222,
              "#7201a8"
             ],
             [
              0.3333333333333333,
              "#9c179e"
             ],
             [
              0.4444444444444444,
              "#bd3786"
             ],
             [
              0.5555555555555556,
              "#d8576b"
             ],
             [
              0.6666666666666666,
              "#ed7953"
             ],
             [
              0.7777777777777778,
              "#fb9f3a"
             ],
             [
              0.8888888888888888,
              "#fdca26"
             ],
             [
              1,
              "#f0f921"
             ]
            ],
            "type": "histogram2d"
           }
          ],
          "histogram2dcontour": [
           {
            "colorbar": {
             "outlinewidth": 0,
             "ticks": ""
            },
            "colorscale": [
             [
              0,
              "#0d0887"
             ],
             [
              0.1111111111111111,
              "#46039f"
             ],
             [
              0.2222222222222222,
              "#7201a8"
             ],
             [
              0.3333333333333333,
              "#9c179e"
             ],
             [
              0.4444444444444444,
              "#bd3786"
             ],
             [
              0.5555555555555556,
              "#d8576b"
             ],
             [
              0.6666666666666666,
              "#ed7953"
             ],
             [
              0.7777777777777778,
              "#fb9f3a"
             ],
             [
              0.8888888888888888,
              "#fdca26"
             ],
             [
              1,
              "#f0f921"
             ]
            ],
            "type": "histogram2dcontour"
           }
          ],
          "mesh3d": [
           {
            "colorbar": {
             "outlinewidth": 0,
             "ticks": ""
            },
            "type": "mesh3d"
           }
          ],
          "parcoords": [
           {
            "line": {
             "colorbar": {
              "outlinewidth": 0,
              "ticks": ""
             }
            },
            "type": "parcoords"
           }
          ],
          "pie": [
           {
            "automargin": true,
            "type": "pie"
           }
          ],
          "scatter": [
           {
            "marker": {
             "colorbar": {
              "outlinewidth": 0,
              "ticks": ""
             }
            },
            "type": "scatter"
           }
          ],
          "scatter3d": [
           {
            "line": {
             "colorbar": {
              "outlinewidth": 0,
              "ticks": ""
             }
            },
            "marker": {
             "colorbar": {
              "outlinewidth": 0,
              "ticks": ""
             }
            },
            "type": "scatter3d"
           }
          ],
          "scattercarpet": [
           {
            "marker": {
             "colorbar": {
              "outlinewidth": 0,
              "ticks": ""
             }
            },
            "type": "scattercarpet"
           }
          ],
          "scattergeo": [
           {
            "marker": {
             "colorbar": {
              "outlinewidth": 0,
              "ticks": ""
             }
            },
            "type": "scattergeo"
           }
          ],
          "scattergl": [
           {
            "marker": {
             "colorbar": {
              "outlinewidth": 0,
              "ticks": ""
             }
            },
            "type": "scattergl"
           }
          ],
          "scattermapbox": [
           {
            "marker": {
             "colorbar": {
              "outlinewidth": 0,
              "ticks": ""
             }
            },
            "type": "scattermapbox"
           }
          ],
          "scatterpolar": [
           {
            "marker": {
             "colorbar": {
              "outlinewidth": 0,
              "ticks": ""
             }
            },
            "type": "scatterpolar"
           }
          ],
          "scatterpolargl": [
           {
            "marker": {
             "colorbar": {
              "outlinewidth": 0,
              "ticks": ""
             }
            },
            "type": "scatterpolargl"
           }
          ],
          "scatterternary": [
           {
            "marker": {
             "colorbar": {
              "outlinewidth": 0,
              "ticks": ""
             }
            },
            "type": "scatterternary"
           }
          ],
          "surface": [
           {
            "colorbar": {
             "outlinewidth": 0,
             "ticks": ""
            },
            "colorscale": [
             [
              0,
              "#0d0887"
             ],
             [
              0.1111111111111111,
              "#46039f"
             ],
             [
              0.2222222222222222,
              "#7201a8"
             ],
             [
              0.3333333333333333,
              "#9c179e"
             ],
             [
              0.4444444444444444,
              "#bd3786"
             ],
             [
              0.5555555555555556,
              "#d8576b"
             ],
             [
              0.6666666666666666,
              "#ed7953"
             ],
             [
              0.7777777777777778,
              "#fb9f3a"
             ],
             [
              0.8888888888888888,
              "#fdca26"
             ],
             [
              1,
              "#f0f921"
             ]
            ],
            "type": "surface"
           }
          ],
          "table": [
           {
            "cells": {
             "fill": {
              "color": "#EBF0F8"
             },
             "line": {
              "color": "white"
             }
            },
            "header": {
             "fill": {
              "color": "#C8D4E3"
             },
             "line": {
              "color": "white"
             }
            },
            "type": "table"
           }
          ]
         },
         "layout": {
          "annotationdefaults": {
           "arrowcolor": "#2a3f5f",
           "arrowhead": 0,
           "arrowwidth": 1
          },
          "coloraxis": {
           "colorbar": {
            "outlinewidth": 0,
            "ticks": ""
           }
          },
          "colorscale": {
           "diverging": [
            [
             0,
             "#8e0152"
            ],
            [
             0.1,
             "#c51b7d"
            ],
            [
             0.2,
             "#de77ae"
            ],
            [
             0.3,
             "#f1b6da"
            ],
            [
             0.4,
             "#fde0ef"
            ],
            [
             0.5,
             "#f7f7f7"
            ],
            [
             0.6,
             "#e6f5d0"
            ],
            [
             0.7,
             "#b8e186"
            ],
            [
             0.8,
             "#7fbc41"
            ],
            [
             0.9,
             "#4d9221"
            ],
            [
             1,
             "#276419"
            ]
           ],
           "sequential": [
            [
             0,
             "#0d0887"
            ],
            [
             0.1111111111111111,
             "#46039f"
            ],
            [
             0.2222222222222222,
             "#7201a8"
            ],
            [
             0.3333333333333333,
             "#9c179e"
            ],
            [
             0.4444444444444444,
             "#bd3786"
            ],
            [
             0.5555555555555556,
             "#d8576b"
            ],
            [
             0.6666666666666666,
             "#ed7953"
            ],
            [
             0.7777777777777778,
             "#fb9f3a"
            ],
            [
             0.8888888888888888,
             "#fdca26"
            ],
            [
             1,
             "#f0f921"
            ]
           ],
           "sequentialminus": [
            [
             0,
             "#0d0887"
            ],
            [
             0.1111111111111111,
             "#46039f"
            ],
            [
             0.2222222222222222,
             "#7201a8"
            ],
            [
             0.3333333333333333,
             "#9c179e"
            ],
            [
             0.4444444444444444,
             "#bd3786"
            ],
            [
             0.5555555555555556,
             "#d8576b"
            ],
            [
             0.6666666666666666,
             "#ed7953"
            ],
            [
             0.7777777777777778,
             "#fb9f3a"
            ],
            [
             0.8888888888888888,
             "#fdca26"
            ],
            [
             1,
             "#f0f921"
            ]
           ]
          },
          "colorway": [
           "#636efa",
           "#EF553B",
           "#00cc96",
           "#ab63fa",
           "#FFA15A",
           "#19d3f3",
           "#FF6692",
           "#B6E880",
           "#FF97FF",
           "#FECB52"
          ],
          "font": {
           "color": "#2a3f5f"
          },
          "geo": {
           "bgcolor": "white",
           "lakecolor": "white",
           "landcolor": "#E5ECF6",
           "showlakes": true,
           "showland": true,
           "subunitcolor": "white"
          },
          "hoverlabel": {
           "align": "left"
          },
          "hovermode": "closest",
          "mapbox": {
           "style": "light"
          },
          "paper_bgcolor": "white",
          "plot_bgcolor": "#E5ECF6",
          "polar": {
           "angularaxis": {
            "gridcolor": "white",
            "linecolor": "white",
            "ticks": ""
           },
           "bgcolor": "#E5ECF6",
           "radialaxis": {
            "gridcolor": "white",
            "linecolor": "white",
            "ticks": ""
           }
          },
          "scene": {
           "xaxis": {
            "backgroundcolor": "#E5ECF6",
            "gridcolor": "white",
            "gridwidth": 2,
            "linecolor": "white",
            "showbackground": true,
            "ticks": "",
            "zerolinecolor": "white"
           },
           "yaxis": {
            "backgroundcolor": "#E5ECF6",
            "gridcolor": "white",
            "gridwidth": 2,
            "linecolor": "white",
            "showbackground": true,
            "ticks": "",
            "zerolinecolor": "white"
           },
           "zaxis": {
            "backgroundcolor": "#E5ECF6",
            "gridcolor": "white",
            "gridwidth": 2,
            "linecolor": "white",
            "showbackground": true,
            "ticks": "",
            "zerolinecolor": "white"
           }
          },
          "shapedefaults": {
           "line": {
            "color": "#2a3f5f"
           }
          },
          "ternary": {
           "aaxis": {
            "gridcolor": "white",
            "linecolor": "white",
            "ticks": ""
           },
           "baxis": {
            "gridcolor": "white",
            "linecolor": "white",
            "ticks": ""
           },
           "bgcolor": "#E5ECF6",
           "caxis": {
            "gridcolor": "white",
            "linecolor": "white",
            "ticks": ""
           }
          },
          "title": {
           "x": 0.05
          },
          "xaxis": {
           "automargin": true,
           "gridcolor": "white",
           "linecolor": "white",
           "ticks": "",
           "title": {
            "standoff": 15
           },
           "zerolinecolor": "white",
           "zerolinewidth": 2
          },
          "yaxis": {
           "automargin": true,
           "gridcolor": "white",
           "linecolor": "white",
           "ticks": "",
           "title": {
            "standoff": 15
           },
           "zerolinecolor": "white",
           "zerolinewidth": 2
          }
         }
        },
        "title": {
         "text": "Deaths - US"
        },
        "xaxis": {
         "anchor": "y",
         "domain": [
          0,
          1
         ],
         "rangemode": "tozero",
         "title": {
          "text": "Mean Daily Growth over 14 previous days compared to Max Daily Growth (%)"
         }
        },
        "yaxis": {
         "anchor": "x",
         "domain": [
          0,
          1
         ],
         "rangemode": "tozero",
         "title": {
          "text": "Percentage of Total occuring in the last 14 days (%)"
         }
        }
       }
      },
      "text/html": [
       "<div>\n",
       "        \n",
       "        \n",
       "            <div id=\"3f7d20d9-c9d7-4bed-a4ab-f986fc30840b\" class=\"plotly-graph-div\" style=\"height:525px; width:100%;\"></div>\n",
       "            <script type=\"text/javascript\">\n",
       "                require([\"plotly\"], function(Plotly) {\n",
       "                    window.PLOTLYENV=window.PLOTLYENV || {};\n",
       "                    \n",
       "                if (document.getElementById(\"3f7d20d9-c9d7-4bed-a4ab-f986fc30840b\")) {\n",
       "                    Plotly.newPlot(\n",
       "                        '3f7d20d9-c9d7-4bed-a4ab-f986fc30840b',\n",
       "                        [{\"customdata\": [[13.0, \"3/31/20\", 23.0, \"Alabama\"], [4.0, \"4/1/20\", 27.0, \"Alabama\"], [5.0, \"4/2/20\", 32.0, \"Alabama\"], [6.0, \"4/3/20\", 38.0, \"Alabama\"], [6.0, \"4/4/20\", 44.0, \"Alabama\"], [1.0, \"4/5/20\", 45.0, \"Alabama\"], [4.0, \"4/6/20\", 49.0, \"Alabama\"], [15.0, \"4/7/20\", 64.0, \"Alabama\"], [2.0, \"4/8/20\", 66.0, \"Alabama\"], [4.0, \"4/9/20\", 70.0, \"Alabama\"], [10.0, \"4/10/20\", 80.0, \"Alabama\"], [12.0, \"4/11/20\", 92.0, \"Alabama\"], [1.0, \"4/12/20\", 93.0, \"Alabama\"], [6.0, \"4/13/20\", 99.0, \"Alabama\"], [15.0, \"4/14/20\", 114.0, \"Alabama\"], [4.0, \"4/15/20\", 118.0, \"Alabama\"], [15.0, \"4/16/20\", 133.0, \"Alabama\"], [15.0, \"4/17/20\", 148.0, \"Alabama\"], [5.0, \"4/18/20\", 153.0, \"Alabama\"], [4.0, \"4/19/20\", 157.0, \"Alabama\"], [6.0, \"4/20/20\", 163.0, \"Alabama\"], [20.0, \"4/21/20\", 183.0, \"Alabama\"], [13.0, \"4/22/20\", 196.0, \"Alabama\"], [6.0, \"4/23/20\", 202.0, \"Alabama\"], [7.0, \"4/24/20\", 209.0, \"Alabama\"], [0.0, \"4/25/20\", 209.0, \"Alabama\"], [10.0, \"4/26/20\", 219.0, \"Alabama\"]], \"hoverlabel\": {\"namelength\": 0}, \"hovertemplate\": \"State =%{customdata[3]}<br>Mean growth over 14d compared to max growth =%{x}<br>% cases from last 14d =%{y}<br>Deaths=%{customdata[2]}<br>Deaths today =%{customdata[0]}<br>Date=%{customdata[1]}\", \"legendgroup\": \"Alabama\", \"marker\": {\"color\": \"#636efa\", \"size\": [23.0, 27.0, 32.0, 38.0, 44.0, 45.0, 49.0, 64.0, 66.0, 70.0, 80.0, 92.0, 93.0, 99.0, 114.0, 118.0, 133.0, 148.0, 153.0, 157.0, 163.0, 183.0, 196.0, 202.0, 209.0, 209.0, 219.0], \"sizemode\": \"area\", \"sizeref\": 55.6725, \"symbol\": \"circle\"}, \"mode\": \"lines+markers\", \"name\": \"Alabama\", \"showlegend\": true, \"type\": \"scattergl\", \"x\": [11.0, 12.9, 15.2, 18.1, 21.0, 21.4, 23.3, 30.5, 31.0, 32.9, 36.2, 41.9, 39.5, 42.4, 43.3, 43.3, 48.1, 52.4, 51.9, 53.3, 54.3, 56.7, 61.9, 62.9, 61.4, 55.7, 60.0], \"xaxis\": \"x\", \"y\": [100.0, 100.0, 100.0, 100.0, 100.0, 100.0, 100.0, 100.0, 98.5, 98.6, 95.0, 95.7, 89.2, 89.9, 79.8, 77.1, 75.9, 74.3, 71.2, 71.3, 69.9, 65.0, 66.3, 65.3, 61.7, 56.0, 57.5], \"yaxis\": \"y\"}, {\"customdata\": [[3.0, \"3/30/20\", 20.0, \"Arizona\"], [5.0, \"3/31/20\", 25.0, \"Arizona\"], [7.0, \"4/1/20\", 32.0, \"Arizona\"], [3.0, \"4/2/20\", 35.0, \"Arizona\"], [9.0, \"4/3/20\", 44.0, \"Arizona\"], [8.0, \"4/4/20\", 52.0, \"Arizona\"], [12.0, \"4/5/20\", 64.0, \"Arizona\"], [1.0, \"4/6/20\", 65.0, \"Arizona\"], [8.0, \"4/7/20\", 73.0, \"Arizona\"], [16.0, \"4/8/20\", 89.0, \"Arizona\"], [9.0, \"4/9/20\", 98.0, \"Arizona\"], [8.0, \"4/10/20\", 106.0, \"Arizona\"], [11.0, \"4/11/20\", 117.0, \"Arizona\"], [8.0, \"4/12/20\", 125.0, \"Arizona\"], [7.0, \"4/13/20\", 132.0, \"Arizona\"], [11.0, \"4/14/20\", 143.0, \"Arizona\"], [12.0, \"4/15/20\", 155.0, \"Arizona\"], [9.0, \"4/16/20\", 164.0, \"Arizona\"], [19.0, \"4/17/20\", 183.0, \"Arizona\"], [-3.0, \"4/18/20\", 180.0, \"Arizona\"], [4.0, \"4/19/20\", 184.0, \"Arizona\"], [7.0, \"4/20/20\", 191.0, \"Arizona\"], [17.0, \"4/21/20\", 208.0, \"Arizona\"], [23.0, \"4/22/20\", 231.0, \"Arizona\"], [18.0, \"4/23/20\", 249.0, \"Arizona\"], [17.0, \"4/24/20\", 266.0, \"Arizona\"], [7.0, \"4/25/20\", 273.0, \"Arizona\"], [2.0, \"4/26/20\", 275.0, \"Arizona\"]], \"hoverlabel\": {\"namelength\": 0}, \"hovertemplate\": \"State =%{customdata[3]}<br>Mean growth over 14d compared to max growth =%{x}<br>% cases from last 14d =%{y}<br>Deaths=%{customdata[2]}<br>Deaths today =%{customdata[0]}<br>Date=%{customdata[1]}\", \"legendgroup\": \"Arizona\", \"marker\": {\"color\": \"#EF553B\", \"size\": [20.0, 25.0, 32.0, 35.0, 44.0, 52.0, 64.0, 65.0, 73.0, 89.0, 98.0, 106.0, 117.0, 125.0, 132.0, 143.0, 155.0, 164.0, 183.0, 180.0, 184.0, 191.0, 208.0, 231.0, 249.0, 266.0, 273.0, 275.0], \"sizemode\": \"area\", \"sizeref\": 55.6725, \"symbol\": \"circle\"}, \"mode\": \"lines+markers\", \"name\": \"Arizona\", \"showlegend\": true, \"type\": \"scattergl\", \"x\": [7.5, 9.4, 12.0, 13.2, 16.5, 19.2, 23.3, 23.7, 25.6, 31.2, 33.8, 35.0, 38.3, 40.6, 42.1, 44.4, 46.2, 48.5, 52.3, 48.1, 45.1, 47.4, 50.8, 53.4, 56.8, 60.2, 58.6, 56.4], \"xaxis\": \"x\", \"y\": [100.0, 100.0, 100.0, 100.0, 100.0, 98.1, 96.9, 96.9, 93.2, 93.3, 91.8, 87.7, 87.2, 86.4, 84.8, 82.5, 79.4, 78.7, 76.0, 71.1, 65.2, 66.0, 64.9, 61.5, 60.6, 60.2, 57.1, 54.5], \"yaxis\": \"y\"}, {\"customdata\": [[3.0, \"4/9/20\", 21.0, \"Arkansas\"], [0.0, \"4/10/20\", 21.0, \"Arkansas\"], [4.0, \"4/11/20\", 25.0, \"Arkansas\"], [2.0, \"4/12/20\", 27.0, \"Arkansas\"], [2.0, \"4/13/20\", 29.0, \"Arkansas\"], [3.0, \"4/14/20\", 32.0, \"Arkansas\"], [1.0, \"4/15/20\", 33.0, \"Arkansas\"], [4.0, \"4/16/20\", 37.0, \"Arkansas\"], [0.0, \"4/17/20\", 37.0, \"Arkansas\"], [1.0, \"4/18/20\", 38.0, \"Arkansas\"], [1.0, \"4/19/20\", 39.0, \"Arkansas\"], [2.0, \"4/20/20\", 41.0, \"Arkansas\"], [1.0, \"4/21/20\", 42.0, \"Arkansas\"], [0.0, \"4/22/20\", 42.0, \"Arkansas\"], [3.0, \"4/23/20\", 45.0, \"Arkansas\"], [2.0, \"4/24/20\", 47.0, \"Arkansas\"], [1.0, \"4/25/20\", 48.0, \"Arkansas\"], [3.0, \"4/26/20\", 51.0, \"Arkansas\"]], \"hoverlabel\": {\"namelength\": 0}, \"hovertemplate\": \"State =%{customdata[3]}<br>Mean growth over 14d compared to max growth =%{x}<br>% cases from last 14d =%{y}<br>Deaths=%{customdata[2]}<br>Deaths today =%{customdata[0]}<br>Date=%{customdata[1]}\", \"legendgroup\": \"Arkansas\", \"marker\": {\"color\": \"#00cc96\", \"size\": [21.0, 21.0, 25.0, 27.0, 29.0, 32.0, 33.0, 37.0, 37.0, 38.0, 39.0, 41.0, 42.0, 42.0, 45.0, 47.0, 48.0, 51.0], \"sizemode\": \"area\", \"sizeref\": 55.6725, \"symbol\": \"circle\"}, \"mode\": \"lines+markers\", \"name\": \"Arkansas\", \"showlegend\": true, \"type\": \"scattergl\", \"x\": [33.9, 32.1, 35.7, 37.5, 39.3, 42.9, 41.1, 44.6, 44.6, 42.9, 41.1, 44.6, 42.9, 42.9, 42.9, 46.4, 41.1, 42.9], \"xaxis\": \"x\", \"y\": [90.5, 85.7, 80.0, 77.8, 75.9, 75.0, 69.7, 67.6, 67.6, 63.2, 59.0, 61.0, 57.1, 57.1, 53.3, 55.3, 47.9, 47.1], \"yaxis\": \"y\"}, {\"customdata\": [[6.0, \"3/20/20\", 24.0, \"California\"], [1.0, \"3/21/20\", 25.0, \"California\"], [5.0, \"3/22/20\", 30.0, \"California\"], [9.0, \"3/23/20\", 39.0, \"California\"], [11.0, \"3/24/20\", 50.0, \"California\"], [15.0, \"3/25/20\", 65.0, \"California\"], [16.0, \"3/26/20\", 81.0, \"California\"], [13.0, \"3/27/20\", 94.0, \"California\"], [16.0, \"3/28/20\", 110.0, \"California\"], [14.0, \"3/29/20\", 124.0, \"California\"], [22.0, \"3/30/20\", 146.0, \"California\"], [27.0, \"3/31/20\", 173.0, \"California\"], [26.0, \"4/1/20\", 199.0, \"California\"], [39.0, \"4/2/20\", 238.0, \"California\"], [27.0, \"4/3/20\", 265.0, \"California\"], [24.0, \"4/4/20\", 289.0, \"California\"], [59.0, \"4/5/20\", 348.0, \"California\"], [32.0, \"4/6/20\", 380.0, \"California\"], [52.0, \"4/7/20\", 432.0, \"California\"], [63.0, \"4/8/20\", 495.0, \"California\"], [49.0, \"4/9/20\", 544.0, \"California\"], [39.0, \"4/10/20\", 583.0, \"California\"], [21.0, \"4/11/20\", 604.0, \"California\"], [36.0, \"4/12/20\", 640.0, \"California\"], [74.0, \"4/13/20\", 714.0, \"California\"], [53.0, \"4/14/20\", 767.0, \"California\"], [93.0, \"4/15/20\", 860.0, \"California\"], [96.0, \"4/16/20\", 956.0, \"California\"], [81.0, \"4/17/20\", 1037.0, \"California\"], [103.0, \"4/18/20\", 1140.0, \"California\"], [37.0, \"4/19/20\", 1177.0, \"California\"], [48.0, \"4/20/20\", 1225.0, \"California\"], [57.0, \"4/21/20\", 1282.0, \"California\"], [139.0, \"4/22/20\", 1421.0, \"California\"], [112.0, \"4/23/20\", 1533.0, \"California\"], [88.0, \"4/24/20\", 1621.0, \"California\"], [68.0, \"4/25/20\", 1689.0, \"California\"], [36.0, \"4/26/20\", 1725.0, \"California\"]], \"hoverlabel\": {\"namelength\": 0}, \"hovertemplate\": \"State =%{customdata[3]}<br>Mean growth over 14d compared to max growth =%{x}<br>% cases from last 14d =%{y}<br>Deaths=%{customdata[2]}<br>Deaths today =%{customdata[0]}<br>Date=%{customdata[1]}\", \"legendgroup\": \"California\", \"marker\": {\"color\": \"#ab63fa\", \"size\": [24.0, 25.0, 30.0, 39.0, 50.0, 65.0, 81.0, 94.0, 110.0, 124.0, 146.0, 173.0, 199.0, 238.0, 265.0, 289.0, 348.0, 380.0, 432.0, 495.0, 544.0, 583.0, 604.0, 640.0, 714.0, 767.0, 860.0, 956.0, 1037.0, 1140.0, 1177.0, 1225.0, 1282.0, 1421.0, 1533.0, 1621.0, 1689.0, 1725.0], \"sizemode\": \"area\", \"sizeref\": 55.6725, \"symbol\": \"circle\"}, \"mode\": \"lines+markers\", \"name\": \"California\", \"showlegend\": true, \"type\": \"scattergl\", \"x\": [1.5, 1.5, 1.8, 2.4, 3.1, 3.9, 4.9, 5.7, 6.8, 7.6, 8.9, 10.3, 11.7, 14.0, 15.4, 16.8, 20.3, 21.7, 24.4, 27.4, 29.5, 31.2, 31.5, 32.9, 36.2, 37.9, 42.2, 45.8, 49.2, 54.3, 52.9, 53.9, 54.2, 59.1, 63.1, 66.2, 69.2, 69.2], \"xaxis\": \"x\", \"y\": [95.8, 96.0, 96.7, 97.4, 96.0, 93.8, 95.1, 95.7, 97.3, 96.0, 95.2, 93.1, 92.0, 92.4, 90.9, 91.3, 91.4, 89.7, 88.4, 86.9, 85.1, 83.9, 81.8, 80.6, 79.6, 77.4, 76.9, 75.1, 74.4, 74.6, 70.4, 69.0, 66.3, 65.2, 64.5, 64.0, 64.2, 62.9], \"yaxis\": \"y\"}, {\"customdata\": [[8.0, \"3/27/20\", 27.0, \"Colorado\"], [4.0, \"3/28/20\", 31.0, \"Colorado\"], [16.0, \"3/29/20\", 47.0, \"Colorado\"], [0.0, \"3/30/20\", 47.0, \"Colorado\"], [22.0, \"3/31/20\", 69.0, \"Colorado\"], [0.0, \"4/1/20\", 69.0, \"Colorado\"], [11.0, \"4/2/20\", 80.0, \"Colorado\"], [17.0, \"4/3/20\", 97.0, \"Colorado\"], [14.0, \"4/4/20\", 111.0, \"Colorado\"], [29.0, \"4/5/20\", 140.0, \"Colorado\"], [10.0, \"4/6/20\", 150.0, \"Colorado\"], [29.0, \"4/7/20\", 179.0, \"Colorado\"], [14.0, \"4/8/20\", 193.0, \"Colorado\"], [0.0, \"4/9/20\", 193.0, \"Colorado\"], [33.0, \"4/10/20\", 226.0, \"Colorado\"], [24.0, \"4/11/20\", 250.0, \"Colorado\"], [39.0, \"4/12/20\", 289.0, \"Colorado\"], [17.0, \"4/13/20\", 306.0, \"Colorado\"], [21.0, \"4/14/20\", 327.0, \"Colorado\"], [1.0, \"4/15/20\", 328.0, \"Colorado\"], [27.0, \"4/16/20\", 355.0, \"Colorado\"], [17.0, \"4/17/20\", 372.0, \"Colorado\"], [17.0, \"4/18/20\", 389.0, \"Colorado\"], [31.0, \"4/19/20\", 420.0, \"Colorado\"], [0.0, \"4/20/20\", 420.0, \"Colorado\"], [63.0, \"4/21/20\", 483.0, \"Colorado\"], [23.0, \"4/22/20\", 506.0, \"Colorado\"], [46.0, \"4/23/20\", 552.0, \"Colorado\"], [122.0, \"4/24/20\", 674.0, \"Colorado\"], [10.0, \"4/25/20\", 684.0, \"Colorado\"], [4.0, \"4/26/20\", 688.0, \"Colorado\"]], \"hoverlabel\": {\"namelength\": 0}, \"hovertemplate\": \"State =%{customdata[3]}<br>Mean growth over 14d compared to max growth =%{x}<br>% cases from last 14d =%{y}<br>Deaths=%{customdata[2]}<br>Deaths today =%{customdata[0]}<br>Date=%{customdata[1]}\", \"legendgroup\": \"Colorado\", \"marker\": {\"color\": \"#FFA15A\", \"size\": [27.0, 31.0, 47.0, 47.0, 69.0, 69.0, 80.0, 97.0, 111.0, 140.0, 150.0, 179.0, 193.0, 193.0, 226.0, 250.0, 289.0, 306.0, 327.0, 328.0, 355.0, 372.0, 389.0, 420.0, 420.0, 483.0, 506.0, 552.0, 674.0, 684.0, 688.0], \"sizemode\": \"area\", \"sizeref\": 55.6725, \"symbol\": \"circle\"}, \"mode\": \"lines+markers\", \"name\": \"Colorado\", \"showlegend\": true, \"type\": \"scattergl\", \"x\": [2.9, 3.5, 5.2, 5.2, 7.6, 7.6, 8.6, 10.5, 11.9, 15.2, 16.2, 19.4, 20.1, 19.7, 22.6, 24.8, 27.4, 29.4, 29.3, 29.4, 31.2, 31.2, 31.5, 31.7, 30.6, 34.5, 35.5, 40.7, 50.8, 49.2, 45.2], \"xaxis\": \"x\", \"y\": [96.3, 100.0, 97.9, 97.9, 97.1, 97.1, 95.0, 95.9, 94.6, 95.7, 95.3, 95.5, 91.7, 90.2, 88.1, 87.6, 83.7, 84.6, 78.9, 79.0, 77.5, 73.9, 71.5, 66.7, 64.3, 62.9, 61.9, 65.0, 66.5, 63.5, 58.0], \"yaxis\": \"y\"}, {\"customdata\": [[2.0, \"3/26/20\", 21.0, \"Connecticut\"], [6.0, \"3/27/20\", 27.0, \"Connecticut\"], [6.0, \"3/28/20\", 33.0, \"Connecticut\"], [1.0, \"3/29/20\", 34.0, \"Connecticut\"], [2.0, \"3/30/20\", 36.0, \"Connecticut\"], [33.0, \"3/31/20\", 69.0, \"Connecticut\"], [16.0, \"4/1/20\", 85.0, \"Connecticut\"], [27.0, \"4/2/20\", 112.0, \"Connecticut\"], [19.0, \"4/3/20\", 131.0, \"Connecticut\"], [34.0, \"4/4/20\", 165.0, \"Connecticut\"], [24.0, \"4/5/20\", 189.0, \"Connecticut\"], [17.0, \"4/6/20\", 206.0, \"Connecticut\"], [71.0, \"4/7/20\", 277.0, \"Connecticut\"], [49.0, \"4/8/20\", 326.0, \"Connecticut\"], [54.0, \"4/9/20\", 380.0, \"Connecticut\"], [68.0, \"4/10/20\", 448.0, \"Connecticut\"], [46.0, \"4/11/20\", 494.0, \"Connecticut\"], [60.0, \"4/12/20\", 554.0, \"Connecticut\"], [48.0, \"4/13/20\", 602.0, \"Connecticut\"], [69.0, \"4/14/20\", 671.0, \"Connecticut\"], [197.0, \"4/15/20\", 868.0, \"Connecticut\"], [103.0, \"4/16/20\", 971.0, \"Connecticut\"], [65.0, \"4/17/20\", 1036.0, \"Connecticut\"], [50.0, \"4/18/20\", 1086.0, \"Connecticut\"], [41.0, \"4/19/20\", 1127.0, \"Connecticut\"], [204.0, \"4/20/20\", 1331.0, \"Connecticut\"], [92.0, \"4/21/20\", 1423.0, \"Connecticut\"], [121.0, \"4/22/20\", 1544.0, \"Connecticut\"], [95.0, \"4/23/20\", 1639.0, \"Connecticut\"], [128.0, \"4/24/20\", 1767.0, \"Connecticut\"], [98.0, \"4/25/20\", 1865.0, \"Connecticut\"], [59.0, \"4/26/20\", 1924.0, \"Connecticut\"]], \"hoverlabel\": {\"namelength\": 0}, \"hovertemplate\": \"State =%{customdata[3]}<br>Mean growth over 14d compared to max growth =%{x}<br>% cases from last 14d =%{y}<br>Deaths=%{customdata[2]}<br>Deaths today =%{customdata[0]}<br>Date=%{customdata[1]}\", \"legendgroup\": \"Connecticut\", \"marker\": {\"color\": \"#19d3f3\", \"size\": [21.0, 27.0, 33.0, 34.0, 36.0, 69.0, 85.0, 112.0, 131.0, 165.0, 189.0, 206.0, 277.0, 326.0, 380.0, 448.0, 494.0, 554.0, 602.0, 671.0, 868.0, 971.0, 1036.0, 1086.0, 1127.0, 1331.0, 1423.0, 1544.0, 1639.0, 1767.0, 1865.0, 1924.0], \"sizemode\": \"area\", \"sizeref\": 55.6725, \"symbol\": \"circle\"}, \"mode\": \"lines+markers\", \"name\": \"Connecticut\", \"showlegend\": true, \"type\": \"scattergl\", \"x\": [0.8, 1.0, 1.2, 1.2, 1.3, 2.5, 3.0, 4.0, 4.6, 5.8, 6.6, 7.1, 9.6, 11.1, 13.0, 15.3, 16.7, 18.9, 20.5, 21.8, 28.4, 31.1, 32.8, 33.4, 34.0, 40.8, 41.6, 44.2, 45.6, 47.8, 49.7, 49.7], \"xaxis\": \"x\", \"y\": [100.0, 100.0, 100.0, 100.0, 100.0, 100.0, 98.8, 97.3, 96.9, 97.6, 95.8, 95.1, 95.7, 94.2, 94.5, 94.0, 93.3, 93.9, 94.0, 89.7, 90.2, 88.5, 87.4, 84.8, 83.2, 84.5, 80.5, 78.9, 76.8, 74.6, 73.5, 71.2], \"yaxis\": \"y\"}, {\"customdata\": [[4.0, \"4/9/20\", 23.0, \"Delaware\"], [9.0, \"4/10/20\", 32.0, \"Delaware\"], [1.0, \"4/11/20\", 33.0, \"Delaware\"], [2.0, \"4/12/20\", 35.0, \"Delaware\"], [6.0, \"4/13/20\", 41.0, \"Delaware\"], [2.0, \"4/14/20\", 43.0, \"Delaware\"], [3.0, \"4/15/20\", 46.0, \"Delaware\"], [9.0, \"4/16/20\", 55.0, \"Delaware\"], [6.0, \"4/17/20\", 61.0, \"Delaware\"], [6.0, \"4/18/20\", 67.0, \"Delaware\"], [0.0, \"4/19/20\", 67.0, \"Delaware\"], [5.0, \"4/20/20\", 72.0, \"Delaware\"], [10.0, \"4/21/20\", 82.0, \"Delaware\"], [7.0, \"4/22/20\", 89.0, \"Delaware\"], [3.0, \"4/23/20\", 92.0, \"Delaware\"], [8.0, \"4/24/20\", 100.0, \"Delaware\"], [12.0, \"4/25/20\", 112.0, \"Delaware\"], [8.0, \"4/26/20\", 120.0, \"Delaware\"]], \"hoverlabel\": {\"namelength\": 0}, \"hovertemplate\": \"State =%{customdata[3]}<br>Mean growth over 14d compared to max growth =%{x}<br>% cases from last 14d =%{y}<br>Deaths=%{customdata[2]}<br>Deaths today =%{customdata[0]}<br>Date=%{customdata[1]}\", \"legendgroup\": \"Delaware\", \"marker\": {\"color\": \"#FF6692\", \"size\": [23.0, 32.0, 33.0, 35.0, 41.0, 43.0, 46.0, 55.0, 61.0, 67.0, 67.0, 72.0, 82.0, 89.0, 92.0, 100.0, 112.0, 120.0], \"sizemode\": \"area\", \"sizeref\": 55.6725, \"symbol\": \"circle\"}, \"mode\": \"lines+markers\", \"name\": \"Delaware\", \"showlegend\": true, \"type\": \"scattergl\", \"x\": [15.7, 21.4, 20.0, 20.7, 25.0, 23.6, 25.0, 30.7, 33.6, 37.9, 37.9, 40.7, 47.1, 50.0, 49.3, 48.6, 56.4, 60.7], \"xaxis\": \"x\", \"y\": [95.7, 93.8, 84.8, 82.9, 85.4, 76.7, 76.1, 78.2, 77.0, 79.1, 79.1, 79.2, 80.5, 78.7, 75.0, 68.0, 70.5, 70.8], \"yaxis\": \"y\"}, {\"customdata\": [[6.0, \"4/4/20\", 21.0, \"District of Columbia\"], [1.0, \"4/5/20\", 22.0, \"District of Columbia\"], [2.0, \"4/6/20\", 24.0, \"District of Columbia\"], [-2.0, \"4/7/20\", 22.0, \"District of Columbia\"], [5.0, \"4/8/20\", 27.0, \"District of Columbia\"], [5.0, \"4/9/20\", 32.0, \"District of Columbia\"], [6.0, \"4/10/20\", 38.0, \"District of Columbia\"], [9.0, \"4/11/20\", 47.0, \"District of Columbia\"], [3.0, \"4/12/20\", 50.0, \"District of Columbia\"], [2.0, \"4/13/20\", 52.0, \"District of Columbia\"], [15.0, \"4/14/20\", 67.0, \"District of Columbia\"], [5.0, \"4/15/20\", 72.0, \"District of Columbia\"], [9.0, \"4/16/20\", 81.0, \"District of Columbia\"], [5.0, \"4/17/20\", 86.0, \"District of Columbia\"], [5.0, \"4/18/20\", 91.0, \"District of Columbia\"], [5.0, \"4/19/20\", 96.0, \"District of Columbia\"], [9.0, \"4/20/20\", 105.0, \"District of Columbia\"], [7.0, \"4/21/20\", 112.0, \"District of Columbia\"], [15.0, \"4/22/20\", 127.0, \"District of Columbia\"], [12.0, \"4/23/20\", 139.0, \"District of Columbia\"], [14.0, \"4/24/20\", 153.0, \"District of Columbia\"], [12.0, \"4/25/20\", 165.0, \"District of Columbia\"], [13.0, \"4/26/20\", 178.0, \"District of Columbia\"]], \"hoverlabel\": {\"namelength\": 0}, \"hovertemplate\": \"State =%{customdata[3]}<br>Mean growth over 14d compared to max growth =%{x}<br>% cases from last 14d =%{y}<br>Deaths=%{customdata[2]}<br>Deaths today =%{customdata[0]}<br>Date=%{customdata[1]}\", \"legendgroup\": \"District of Columbia\", \"marker\": {\"color\": \"#B6E880\", \"size\": [21.0, 22.0, 24.0, 22.0, 27.0, 32.0, 38.0, 47.0, 50.0, 52.0, 67.0, 72.0, 81.0, 86.0, 91.0, 96.0, 105.0, 112.0, 127.0, 139.0, 153.0, 165.0, 178.0], \"sizemode\": \"area\", \"sizeref\": 55.6725, \"symbol\": \"circle\"}, \"mode\": \"lines+markers\", \"name\": \"District of Columbia\", \"showlegend\": true, \"type\": \"scattergl\", \"x\": [10.0, 9.5, 10.5, 9.5, 11.9, 13.8, 16.7, 20.5, 21.4, 20.5, 27.6, 30.0, 32.9, 33.8, 33.3, 35.2, 38.6, 42.9, 47.6, 51.0, 54.8, 56.2, 61.0], \"xaxis\": \"x\", \"y\": [100.0, 90.9, 91.7, 90.9, 92.6, 90.6, 92.1, 91.5, 90.0, 82.7, 86.6, 87.5, 85.2, 82.6, 76.9, 77.1, 77.1, 80.4, 78.7, 77.0, 75.2, 71.5, 71.9], \"yaxis\": \"y\"}, {\"customdata\": [[5.0, \"3/25/20\", 23.0, \"Florida\"], [6.0, \"3/26/20\", 29.0, \"Florida\"], [6.0, \"3/27/20\", 35.0, \"Florida\"], [19.0, \"3/28/20\", 54.0, \"Florida\"], [2.0, \"3/29/20\", 56.0, \"Florida\"], [7.0, \"3/30/20\", 63.0, \"Florida\"], [22.0, \"3/31/20\", 85.0, \"Florida\"], [2.0, \"4/1/20\", 87.0, \"Florida\"], [77.0, \"4/2/20\", 164.0, \"Florida\"], [6.0, \"4/3/20\", 170.0, \"Florida\"], [25.0, \"4/4/20\", 195.0, \"Florida\"], [26.0, \"4/5/20\", 221.0, \"Florida\"], [15.0, \"4/6/20\", 236.0, \"Florida\"], [47.0, \"4/7/20\", 283.0, \"Florida\"], [26.0, \"4/8/20\", 309.0, \"Florida\"], [45.0, \"4/9/20\", 354.0, \"Florida\"], [36.0, \"4/10/20\", 390.0, \"Florida\"], [48.0, \"4/11/20\", 438.0, \"Florida\"], [23.0, \"4/12/20\", 461.0, \"Florida\"], [38.0, \"4/13/20\", 499.0, \"Florida\"], [72.0, \"4/14/20\", 571.0, \"Florida\"], [25.0, \"4/15/20\", 596.0, \"Florida\"], [72.0, \"4/16/20\", 668.0, \"Florida\"], [57.0, \"4/17/20\", 725.0, \"Florida\"], [23.0, \"4/18/20\", 748.0, \"Florida\"], [26.0, \"4/19/20\", 774.0, \"Florida\"], [48.0, \"4/20/20\", 822.0, \"Florida\"], [45.0, \"4/21/20\", 867.0, \"Florida\"], [26.0, \"4/22/20\", 893.0, \"Florida\"], [94.0, \"4/23/20\", 987.0, \"Florida\"], [59.0, \"4/24/20\", 1046.0, \"Florida\"], [9.0, \"4/25/20\", 1055.0, \"Florida\"], [20.0, \"4/26/20\", 1075.0, \"Florida\"]], \"hoverlabel\": {\"namelength\": 0}, \"hovertemplate\": \"State =%{customdata[3]}<br>Mean growth over 14d compared to max growth =%{x}<br>% cases from last 14d =%{y}<br>Deaths=%{customdata[2]}<br>Deaths today =%{customdata[0]}<br>Date=%{customdata[1]}\", \"legendgroup\": \"Florida\", \"marker\": {\"color\": \"#FF97FF\", \"size\": [23.0, 29.0, 35.0, 54.0, 56.0, 63.0, 85.0, 87.0, 164.0, 170.0, 195.0, 221.0, 236.0, 283.0, 309.0, 354.0, 390.0, 438.0, 461.0, 499.0, 571.0, 596.0, 668.0, 725.0, 748.0, 774.0, 822.0, 867.0, 893.0, 987.0, 1046.0, 1055.0, 1075.0], \"sizemode\": \"area\", \"sizeref\": 55.6725, \"symbol\": \"circle\"}, \"mode\": \"lines+markers\", \"name\": \"Florida\", \"showlegend\": true, \"type\": \"scattergl\", \"x\": [1.9, 2.5, 3.1, 4.8, 4.9, 5.6, 7.4, 7.4, 14.4, 14.7, 16.9, 19.3, 20.2, 24.6, 26.5, 30.1, 32.9, 35.6, 37.6, 40.4, 45.1, 47.2, 46.8, 51.5, 51.3, 51.3, 54.4, 54.2, 54.2, 58.7, 60.9, 57.2, 57.0], \"xaxis\": \"x\", \"y\": [91.3, 93.1, 94.3, 96.3, 94.6, 95.2, 94.1, 92.0, 94.5, 93.5, 93.3, 94.1, 92.4, 93.6, 92.6, 91.8, 91.0, 87.7, 87.9, 87.4, 85.1, 85.4, 75.4, 76.6, 73.9, 71.4, 71.3, 67.4, 65.4, 64.1, 62.7, 58.5, 57.1], \"yaxis\": \"y\"}, {\"customdata\": [[6.0, \"3/21/20\", 20.0, \"Georgia\"], [5.0, \"3/22/20\", 25.0, \"Georgia\"], [0.0, \"3/23/20\", 25.0, \"Georgia\"], [7.0, \"3/24/20\", 32.0, \"Georgia\"], [8.0, \"3/25/20\", 40.0, \"Georgia\"], [8.0, \"3/26/20\", 48.0, \"Georgia\"], [16.0, \"3/27/20\", 64.0, \"Georgia\"], [5.0, \"3/28/20\", 69.0, \"Georgia\"], [11.0, \"3/29/20\", 80.0, \"Georgia\"], [7.0, \"3/30/20\", 87.0, \"Georgia\"], [24.0, \"3/31/20\", 111.0, \"Georgia\"], [28.0, \"4/1/20\", 139.0, \"Georgia\"], [24.0, \"4/2/20\", 163.0, \"Georgia\"], [21.0, \"4/3/20\", 184.0, \"Georgia\"], [17.0, \"4/4/20\", 201.0, \"Georgia\"], [10.0, \"4/5/20\", 211.0, \"Georgia\"], [18.0, \"4/6/20\", 229.0, \"Georgia\"], [100.0, \"4/7/20\", 329.0, \"Georgia\"], [33.0, \"4/8/20\", 362.0, \"Georgia\"], [17.0, \"4/9/20\", 379.0, \"Georgia\"], [37.0, \"4/10/20\", 416.0, \"Georgia\"], [13.0, \"4/11/20\", 429.0, \"Georgia\"], [4.0, \"4/12/20\", 433.0, \"Georgia\"], [32.0, \"4/13/20\", 465.0, \"Georgia\"], [60.0, \"4/14/20\", 525.0, \"Georgia\"], [27.0, \"4/15/20\", 552.0, \"Georgia\"], [35.0, \"4/16/20\", 587.0, \"Georgia\"], [63.0, \"4/17/20\", 650.0, \"Georgia\"], [23.0, \"4/18/20\", 673.0, \"Georgia\"], [14.0, \"4/19/20\", 687.0, \"Georgia\"], [88.0, \"4/20/20\", 775.0, \"Georgia\"], [23.0, \"4/21/20\", 798.0, \"Georgia\"], [50.0, \"4/22/20\", 848.0, \"Georgia\"], [33.0, \"4/23/20\", 881.0, \"Georgia\"], [18.0, \"4/24/20\", 899.0, \"Georgia\"], [8.0, \"4/25/20\", 907.0, \"Georgia\"], [9.0, \"4/26/20\", 916.0, \"Georgia\"]], \"hoverlabel\": {\"namelength\": 0}, \"hovertemplate\": \"State =%{customdata[3]}<br>Mean growth over 14d compared to max growth =%{x}<br>% cases from last 14d =%{y}<br>Deaths=%{customdata[2]}<br>Deaths today =%{customdata[0]}<br>Date=%{customdata[1]}\", \"legendgroup\": \"Georgia\", \"marker\": {\"color\": \"#FECB52\", \"size\": [20.0, 25.0, 25.0, 32.0, 40.0, 48.0, 64.0, 69.0, 80.0, 87.0, 111.0, 139.0, 163.0, 184.0, 201.0, 211.0, 229.0, 329.0, 362.0, 379.0, 416.0, 429.0, 433.0, 465.0, 525.0, 552.0, 587.0, 650.0, 673.0, 687.0, 775.0, 798.0, 848.0, 881.0, 899.0, 907.0, 916.0], \"sizemode\": \"area\", \"sizeref\": 55.6725, \"symbol\": \"circle\"}, \"mode\": \"lines+markers\", \"name\": \"Georgia\", \"showlegend\": true, \"type\": \"scattergl\", \"x\": [1.6, 2.0, 2.0, 2.6, 3.2, 3.8, 5.1, 5.5, 6.4, 7.0, 8.9, 11.0, 12.4, 13.8, 14.7, 15.1, 16.6, 24.1, 26.1, 26.9, 28.6, 29.2, 28.7, 30.7, 33.6, 33.5, 34.4, 37.8, 38.3, 38.6, 44.3, 38.1, 39.4, 40.7, 39.2, 38.8, 39.2], \"xaxis\": \"x\", \"y\": [100.0, 100.0, 100.0, 100.0, 100.0, 97.9, 98.4, 98.6, 98.8, 98.9, 99.1, 97.8, 93.9, 92.4, 90.0, 88.2, 89.1, 90.3, 89.0, 87.3, 84.6, 83.9, 81.5, 81.3, 78.9, 74.8, 72.2, 71.7, 70.1, 69.3, 70.5, 58.8, 57.3, 57.0, 53.7, 52.7, 52.7], \"yaxis\": \"y\"}, {\"customdata\": [[6.0, \"4/10/20\", 24.0, \"Idaho\"], [1.0, \"4/11/20\", 25.0, \"Idaho\"], [2.0, \"4/12/20\", 27.0, \"Idaho\"], [0.0, \"4/13/20\", 27.0, \"Idaho\"], [6.0, \"4/14/20\", 33.0, \"Idaho\"], [6.0, \"4/15/20\", 39.0, \"Idaho\"], [2.0, \"4/16/20\", 41.0, \"Idaho\"], [0.0, \"4/17/20\", 41.0, \"Idaho\"], [2.0, \"4/18/20\", 43.0, \"Idaho\"], [1.0, \"4/19/20\", 44.0, \"Idaho\"], [1.0, \"4/20/20\", 45.0, \"Idaho\"], [3.0, \"4/21/20\", 48.0, \"Idaho\"], [3.0, \"4/22/20\", 51.0, \"Idaho\"], [3.0, \"4/23/20\", 54.0, \"Idaho\"], [0.0, \"4/24/20\", 54.0, \"Idaho\"], [2.0, \"4/25/20\", 56.0, \"Idaho\"], [0.0, \"4/26/20\", 56.0, \"Idaho\"]], \"hoverlabel\": {\"namelength\": 0}, \"hovertemplate\": \"State =%{customdata[3]}<br>Mean growth over 14d compared to max growth =%{x}<br>% cases from last 14d =%{y}<br>Deaths=%{customdata[2]}<br>Deaths today =%{customdata[0]}<br>Date=%{customdata[1]}\", \"legendgroup\": \"Idaho\", \"marker\": {\"color\": \"#636efa\", \"size\": [24.0, 25.0, 27.0, 27.0, 33.0, 39.0, 41.0, 41.0, 43.0, 44.0, 45.0, 48.0, 51.0, 54.0, 54.0, 56.0, 56.0], \"sizemode\": \"area\", \"sizeref\": 55.6725, \"symbol\": \"circle\"}, \"mode\": \"lines+markers\", \"name\": \"Idaho\", \"showlegend\": true, \"type\": \"scattergl\", \"x\": [25.0, 25.0, 26.2, 25.0, 29.8, 35.7, 38.1, 38.1, 39.3, 40.5, 41.7, 41.7, 42.9, 42.9, 35.7, 36.9, 34.5], \"xaxis\": \"x\", \"y\": [87.5, 84.0, 81.5, 77.8, 75.8, 76.9, 78.0, 78.0, 76.7, 77.3, 77.8, 72.9, 70.6, 66.7, 55.6, 55.4, 51.8], \"yaxis\": \"y\"}, {\"customdata\": [[7.0, \"3/26/20\", 26.0, \"Illinois\"], [8.0, \"3/27/20\", 34.0, \"Illinois\"], [13.0, \"3/28/20\", 47.0, \"Illinois\"], [19.0, \"3/29/20\", 66.0, \"Illinois\"], [7.0, \"3/30/20\", 73.0, \"Illinois\"], [26.0, \"3/31/20\", 99.0, \"Illinois\"], [42.0, \"4/1/20\", 141.0, \"Illinois\"], [22.0, \"4/2/20\", 163.0, \"Illinois\"], [47.0, \"4/3/20\", 210.0, \"Illinois\"], [34.0, \"4/4/20\", 244.0, \"Illinois\"], [30.0, \"4/5/20\", 274.0, \"Illinois\"], [33.0, \"4/6/20\", 307.0, \"Illinois\"], [73.0, \"4/7/20\", 380.0, \"Illinois\"], [82.0, \"4/8/20\", 462.0, \"Illinois\"], [66.0, \"4/9/20\", 528.0, \"Illinois\"], [69.0, \"4/10/20\", 597.0, \"Illinois\"], [80.0, \"4/11/20\", 677.0, \"Illinois\"], [43.0, \"4/12/20\", 720.0, \"Illinois\"], [78.0, \"4/13/20\", 798.0, \"Illinois\"], [70.0, \"4/14/20\", 868.0, \"Illinois\"], [81.0, \"4/15/20\", 949.0, \"Illinois\"], [123.0, \"4/16/20\", 1072.0, \"Illinois\"], [60.0, \"4/17/20\", 1132.0, \"Illinois\"], [127.0, \"4/18/20\", 1259.0, \"Illinois\"], [31.0, \"4/19/20\", 1290.0, \"Illinois\"], [59.0, \"4/20/20\", 1349.0, \"Illinois\"], [119.0, \"4/21/20\", 1468.0, \"Illinois\"], [97.0, \"4/22/20\", 1565.0, \"Illinois\"], [123.0, \"4/23/20\", 1688.0, \"Illinois\"], [107.0, \"4/24/20\", 1795.0, \"Illinois\"], [80.0, \"4/25/20\", 1875.0, \"Illinois\"], [58.0, \"4/26/20\", 1933.0, \"Illinois\"]], \"hoverlabel\": {\"namelength\": 0}, \"hovertemplate\": \"State =%{customdata[3]}<br>Mean growth over 14d compared to max growth =%{x}<br>% cases from last 14d =%{y}<br>Deaths=%{customdata[2]}<br>Deaths today =%{customdata[0]}<br>Date=%{customdata[1]}\", \"legendgroup\": \"Illinois\", \"marker\": {\"color\": \"#EF553B\", \"size\": [26.0, 34.0, 47.0, 66.0, 73.0, 99.0, 141.0, 163.0, 210.0, 244.0, 274.0, 307.0, 380.0, 462.0, 528.0, 597.0, 677.0, 720.0, 798.0, 868.0, 949.0, 1072.0, 1132.0, 1259.0, 1290.0, 1349.0, 1468.0, 1565.0, 1688.0, 1795.0, 1875.0, 1933.0], \"sizemode\": \"area\", \"sizeref\": 55.6725, \"symbol\": \"circle\"}, \"mode\": \"lines+markers\", \"name\": \"Illinois\", \"showlegend\": true, \"type\": \"scattergl\", \"x\": [1.5, 2.0, 2.7, 3.8, 4.2, 5.7, 8.1, 9.2, 11.9, 13.8, 15.4, 17.1, 21.1, 25.7, 29.2, 32.7, 36.6, 38.0, 42.1, 44.7, 46.9, 52.8, 53.5, 58.9, 59.0, 60.5, 63.2, 64.1, 67.4, 69.6, 69.6, 70.4], \"xaxis\": \"x\", \"y\": [100.0, 100.0, 100.0, 100.0, 100.0, 99.0, 99.3, 97.5, 97.6, 97.5, 96.7, 96.1, 95.8, 95.9, 95.1, 94.3, 93.1, 90.8, 90.9, 88.6, 85.1, 84.8, 81.4, 80.6, 78.8, 77.2, 74.1, 70.5, 68.7, 66.7, 63.9, 62.8], \"yaxis\": \"y\"}, {\"customdata\": [[8.0, \"3/27/20\", 25.0, \"Indiana\"], [6.0, \"3/28/20\", 31.0, \"Indiana\"], [1.0, \"3/29/20\", 32.0, \"Indiana\"], [3.0, \"3/30/20\", 35.0, \"Indiana\"], [14.0, \"3/31/20\", 49.0, \"Indiana\"], [16.0, \"4/1/20\", 65.0, \"Indiana\"], [13.0, \"4/2/20\", 78.0, \"Indiana\"], [24.0, \"4/3/20\", 102.0, \"Indiana\"], [14.0, \"4/4/20\", 116.0, \"Indiana\"], [11.0, \"4/5/20\", 127.0, \"Indiana\"], [16.0, \"4/6/20\", 143.0, \"Indiana\"], [30.0, \"4/7/20\", 173.0, \"Indiana\"], [30.0, \"4/8/20\", 203.0, \"Indiana\"], [42.0, \"4/9/20\", 245.0, \"Indiana\"], [55.0, \"4/10/20\", 300.0, \"Indiana\"], [30.0, \"4/11/20\", 330.0, \"Indiana\"], [13.0, \"4/12/20\", 343.0, \"Indiana\"], [7.0, \"4/13/20\", 350.0, \"Indiana\"], [37.0, \"4/14/20\", 387.0, \"Indiana\"], [49.0, \"4/15/20\", 436.0, \"Indiana\"], [41.0, \"4/16/20\", 477.0, \"Indiana\"], [45.0, \"4/17/20\", 522.0, \"Indiana\"], [23.0, \"4/18/20\", 545.0, \"Indiana\"], [17.0, \"4/19/20\", 562.0, \"Indiana\"], [15.0, \"4/20/20\", 577.0, \"Indiana\"], [58.0, \"4/21/20\", 635.0, \"Indiana\"], [31.0, \"4/22/20\", 666.0, \"Indiana\"], [40.0, \"4/23/20\", 706.0, \"Indiana\"], [35.0, \"4/24/20\", 741.0, \"Indiana\"], [45.0, \"4/25/20\", 786.0, \"Indiana\"], [27.0, \"4/26/20\", 813.0, \"Indiana\"]], \"hoverlabel\": {\"namelength\": 0}, \"hovertemplate\": \"State =%{customdata[3]}<br>Mean growth over 14d compared to max growth =%{x}<br>% cases from last 14d =%{y}<br>Deaths=%{customdata[2]}<br>Deaths today =%{customdata[0]}<br>Date=%{customdata[1]}\", \"legendgroup\": \"Indiana\", \"marker\": {\"color\": \"#00cc96\", \"size\": [25.0, 31.0, 32.0, 35.0, 49.0, 65.0, 78.0, 102.0, 116.0, 127.0, 143.0, 173.0, 203.0, 245.0, 300.0, 330.0, 343.0, 350.0, 387.0, 436.0, 477.0, 522.0, 545.0, 562.0, 577.0, 635.0, 666.0, 706.0, 741.0, 786.0, 813.0], \"sizemode\": \"area\", \"sizeref\": 55.6725, \"symbol\": \"circle\"}, \"mode\": \"lines+markers\", \"name\": \"Indiana\", \"showlegend\": true, \"type\": \"scattergl\", \"x\": [3.2, 4.0, 4.2, 4.4, 6.1, 8.2, 9.9, 12.9, 14.5, 15.7, 17.7, 20.9, 24.5, 29.6, 35.7, 38.8, 40.4, 40.9, 43.9, 48.2, 51.8, 54.5, 55.7, 56.5, 56.4, 60.0, 60.1, 59.9, 57.3, 59.2, 61.0], \"xaxis\": \"x\", \"y\": [100.0, 100.0, 100.0, 97.1, 95.9, 96.9, 97.4, 97.1, 96.6, 95.3, 95.1, 93.1, 93.1, 93.1, 91.7, 90.6, 90.7, 90.0, 87.3, 85.1, 83.6, 80.5, 78.7, 77.4, 75.2, 72.8, 69.5, 65.3, 59.5, 58.0, 57.8], \"yaxis\": \"y\"}, {\"customdata\": [[7.0, \"4/6/20\", 25.0, \"Iowa\"], [0.0, \"4/7/20\", 25.0, \"Iowa\"], [2.0, \"4/8/20\", 27.0, \"Iowa\"], [2.0, \"4/9/20\", 29.0, \"Iowa\"], [2.0, \"4/10/20\", 31.0, \"Iowa\"], [3.0, \"4/11/20\", 34.0, \"Iowa\"], [7.0, \"4/12/20\", 41.0, \"Iowa\"], [0.0, \"4/13/20\", 41.0, \"Iowa\"], [8.0, \"4/14/20\", 49.0, \"Iowa\"], [4.0, \"4/15/20\", 53.0, \"Iowa\"], [7.0, \"4/16/20\", 60.0, \"Iowa\"], [4.0, \"4/17/20\", 64.0, \"Iowa\"], [10.0, \"4/18/20\", 74.0, \"Iowa\"], [1.0, \"4/19/20\", 75.0, \"Iowa\"], [4.0, \"4/20/20\", 79.0, \"Iowa\"], [4.0, \"4/21/20\", 83.0, \"Iowa\"], [7.0, \"4/22/20\", 90.0, \"Iowa\"], [6.0, \"4/23/20\", 96.0, \"Iowa\"], [11.0, \"4/24/20\", 107.0, \"Iowa\"], [5.0, \"4/25/20\", 112.0, \"Iowa\"], [6.0, \"4/26/20\", 118.0, \"Iowa\"]], \"hoverlabel\": {\"namelength\": 0}, \"hovertemplate\": \"State =%{customdata[3]}<br>Mean growth over 14d compared to max growth =%{x}<br>% cases from last 14d =%{y}<br>Deaths=%{customdata[2]}<br>Deaths today =%{customdata[0]}<br>Date=%{customdata[1]}\", \"legendgroup\": \"Iowa\", \"marker\": {\"color\": \"#ab63fa\", \"size\": [25.0, 25.0, 27.0, 29.0, 31.0, 34.0, 41.0, 41.0, 49.0, 53.0, 60.0, 64.0, 74.0, 75.0, 79.0, 83.0, 90.0, 96.0, 107.0, 112.0, 118.0], \"sizemode\": \"area\", \"sizeref\": 55.6725, \"symbol\": \"circle\"}, \"mode\": \"lines+markers\", \"name\": \"Iowa\", \"showlegend\": true, \"type\": \"scattergl\", \"x\": [17.9, 17.9, 18.6, 20.0, 20.0, 22.1, 26.4, 25.0, 30.0, 31.4, 35.0, 37.9, 42.9, 40.7, 38.6, 41.4, 45.0, 47.9, 54.3, 55.7, 55.0], \"xaxis\": \"x\", \"y\": [100.0, 100.0, 96.3, 96.6, 90.3, 91.2, 90.2, 85.4, 85.7, 83.0, 81.7, 82.8, 81.1, 76.0, 68.4, 69.9, 70.0, 69.8, 71.0, 69.6, 65.3], \"yaxis\": \"y\"}, {\"customdata\": [[3.0, \"4/4/20\", 21.0, \"Kansas\"], [1.0, \"4/5/20\", 22.0, \"Kansas\"], [3.0, \"4/6/20\", 25.0, \"Kansas\"], [4.0, \"4/7/20\", 29.0, \"Kansas\"], [5.0, \"4/8/20\", 34.0, \"Kansas\"], [8.0, \"4/9/20\", 42.0, \"Kansas\"], [0.0, \"4/10/20\", 42.0, \"Kansas\"], [13.0, \"4/11/20\", 55.0, \"Kansas\"], [1.0, \"4/12/20\", 56.0, \"Kansas\"], [6.0, \"4/13/20\", 62.0, \"Kansas\"], [7.0, \"4/14/20\", 69.0, \"Kansas\"], [2.0, \"4/15/20\", 71.0, \"Kansas\"], [9.0, \"4/16/20\", 80.0, \"Kansas\"], [2.0, \"4/17/20\", 82.0, \"Kansas\"], [3.0, \"4/18/20\", 85.0, \"Kansas\"], [8.0, \"4/19/20\", 93.0, \"Kansas\"], [9.0, \"4/20/20\", 102.0, \"Kansas\"], [7.0, \"4/21/20\", 109.0, \"Kansas\"], [3.0, \"4/22/20\", 112.0, \"Kansas\"], [1.0, \"4/23/20\", 113.0, \"Kansas\"], [5.0, \"4/24/20\", 118.0, \"Kansas\"], [2.0, \"4/25/20\", 120.0, \"Kansas\"], [1.0, \"4/26/20\", 121.0, \"Kansas\"]], \"hoverlabel\": {\"namelength\": 0}, \"hovertemplate\": \"State =%{customdata[3]}<br>Mean growth over 14d compared to max growth =%{x}<br>% cases from last 14d =%{y}<br>Deaths=%{customdata[2]}<br>Deaths today =%{customdata[0]}<br>Date=%{customdata[1]}\", \"legendgroup\": \"Kansas\", \"marker\": {\"color\": \"#FFA15A\", \"size\": [21.0, 22.0, 25.0, 29.0, 34.0, 42.0, 42.0, 55.0, 56.0, 62.0, 69.0, 71.0, 80.0, 82.0, 85.0, 93.0, 102.0, 109.0, 112.0, 113.0, 118.0, 120.0, 121.0], \"sizemode\": \"area\", \"sizeref\": 55.6725, \"symbol\": \"circle\"}, \"mode\": \"lines+markers\", \"name\": \"Kansas\", \"showlegend\": true, \"type\": \"scattergl\", \"x\": [15.1, 15.9, 18.3, 21.4, 24.6, 31.0, 30.2, 40.5, 38.9, 42.9, 47.6, 48.4, 54.0, 50.8, 50.8, 56.3, 61.1, 63.5, 61.9, 56.3, 60.3, 51.6, 51.6], \"xaxis\": \"x\", \"y\": [90.5, 90.9, 92.0, 93.1, 91.2, 92.9, 90.5, 92.7, 87.5, 87.1, 87.0, 85.9, 85.0, 78.0, 75.3, 76.3, 75.5, 73.4, 69.6, 62.8, 64.4, 54.2, 53.7], \"yaxis\": \"y\"}, {\"customdata\": [[13.0, \"4/2/20\", 31.0, \"Kentucky\"], [3.0, \"4/3/20\", 34.0, \"Kentucky\"], [6.0, \"4/4/20\", 40.0, \"Kentucky\"], [5.0, \"4/5/20\", 45.0, \"Kentucky\"], [0.0, \"4/6/20\", 45.0, \"Kentucky\"], [20.0, \"4/7/20\", 65.0, \"Kentucky\"], [0.0, \"4/8/20\", 65.0, \"Kentucky\"], [8.0, \"4/9/20\", 73.0, \"Kentucky\"], [17.0, \"4/10/20\", 90.0, \"Kentucky\"], [0.0, \"4/11/20\", 90.0, \"Kentucky\"], [7.0, \"4/12/20\", 97.0, \"Kentucky\"], [16.0, \"4/13/20\", 113.0, \"Kentucky\"], [-7.0, \"4/14/20\", 106.0, \"Kentucky\"], [9.0, \"4/15/20\", 115.0, \"Kentucky\"], [14.0, \"4/16/20\", 129.0, \"Kentucky\"], [8.0, \"4/17/20\", 137.0, \"Kentucky\"], [7.0, \"4/18/20\", 144.0, \"Kentucky\"], [2.0, \"4/19/20\", 146.0, \"Kentucky\"], [8.0, \"4/20/20\", 154.0, \"Kentucky\"], [17.0, \"4/21/20\", 171.0, \"Kentucky\"], [14.0, \"4/22/20\", 185.0, \"Kentucky\"], [6.0, \"4/23/20\", 191.0, \"Kentucky\"], [9.0, \"4/24/20\", 200.0, \"Kentucky\"], [5.0, \"4/25/20\", 205.0, \"Kentucky\"], [3.0, \"4/26/20\", 208.0, \"Kentucky\"]], \"hoverlabel\": {\"namelength\": 0}, \"hovertemplate\": \"State =%{customdata[3]}<br>Mean growth over 14d compared to max growth =%{x}<br>% cases from last 14d =%{y}<br>Deaths=%{customdata[2]}<br>Deaths today =%{customdata[0]}<br>Date=%{customdata[1]}\", \"legendgroup\": \"Kentucky\", \"marker\": {\"color\": \"#19d3f3\", \"size\": [31.0, 34.0, 40.0, 45.0, 45.0, 65.0, 65.0, 73.0, 90.0, 90.0, 97.0, 113.0, 106.0, 115.0, 129.0, 137.0, 144.0, 146.0, 154.0, 171.0, 185.0, 191.0, 200.0, 205.0, 208.0], \"sizemode\": \"area\", \"sizeref\": 55.6725, \"symbol\": \"circle\"}, \"mode\": \"lines+markers\", \"name\": \"Kentucky\", \"showlegend\": true, \"type\": \"scattergl\", \"x\": [12.2, 13.4, 15.5, 17.6, 17.2, 25.6, 25.2, 28.6, 34.9, 34.0, 37.0, 42.9, 39.9, 40.8, 41.2, 43.3, 43.7, 42.4, 45.8, 44.5, 50.4, 49.6, 46.2, 48.3, 46.6], \"xaxis\": \"x\", \"y\": [93.5, 94.1, 92.5, 93.3, 91.1, 93.8, 92.3, 93.2, 92.2, 90.0, 90.7, 90.3, 89.6, 84.3, 76.0, 75.2, 72.2, 69.2, 70.8, 62.0, 64.9, 61.8, 55.0, 56.1, 53.4], \"yaxis\": \"y\"}, {\"customdata\": [[6.0, \"3/21/20\", 20.0, \"Louisiana\"], [0.0, \"3/22/20\", 20.0, \"Louisiana\"], [15.0, \"3/23/20\", 35.0, \"Louisiana\"], [11.0, \"3/24/20\", 46.0, \"Louisiana\"], [19.0, \"3/25/20\", 65.0, \"Louisiana\"], [18.0, \"3/26/20\", 83.0, \"Louisiana\"], [36.0, \"3/27/20\", 119.0, \"Louisiana\"], [18.0, \"3/28/20\", 137.0, \"Louisiana\"], [14.0, \"3/29/20\", 151.0, \"Louisiana\"], [34.0, \"3/30/20\", 185.0, \"Louisiana\"], [54.0, \"3/31/20\", 239.0, \"Louisiana\"], [34.0, \"4/1/20\", 273.0, \"Louisiana\"], [37.0, \"4/2/20\", 310.0, \"Louisiana\"], [60.0, \"4/3/20\", 370.0, \"Louisiana\"], [39.0, \"4/4/20\", 409.0, \"Louisiana\"], [68.0, \"4/5/20\", 477.0, \"Louisiana\"], [35.0, \"4/6/20\", 512.0, \"Louisiana\"], [70.0, \"4/7/20\", 582.0, \"Louisiana\"], [70.0, \"4/8/20\", 652.0, \"Louisiana\"], [50.0, \"4/9/20\", 702.0, \"Louisiana\"], [53.0, \"4/10/20\", 755.0, \"Louisiana\"], [51.0, \"4/11/20\", 806.0, \"Louisiana\"], [34.0, \"4/12/20\", 840.0, \"Louisiana\"], [44.0, \"4/13/20\", 884.0, \"Louisiana\"], [129.0, \"4/14/20\", 1013.0, \"Louisiana\"], [90.0, \"4/15/20\", 1103.0, \"Louisiana\"], [53.0, \"4/16/20\", 1156.0, \"Louisiana\"], [57.0, \"4/17/20\", 1213.0, \"Louisiana\"], [54.0, \"4/18/20\", 1267.0, \"Louisiana\"], [29.0, \"4/19/20\", 1296.0, \"Louisiana\"], [32.0, \"4/20/20\", 1328.0, \"Louisiana\"], [77.0, \"4/21/20\", 1405.0, \"Louisiana\"], [68.0, \"4/22/20\", 1473.0, \"Louisiana\"], [126.0, \"4/23/20\", 1599.0, \"Louisiana\"], [61.0, \"4/24/20\", 1660.0, \"Louisiana\"], [47.0, \"4/25/20\", 1707.0, \"Louisiana\"], [22.0, \"4/26/20\", 1729.0, \"Louisiana\"]], \"hoverlabel\": {\"namelength\": 0}, \"hovertemplate\": \"State =%{customdata[3]}<br>Mean growth over 14d compared to max growth =%{x}<br>% cases from last 14d =%{y}<br>Deaths=%{customdata[2]}<br>Deaths today =%{customdata[0]}<br>Date=%{customdata[1]}\", \"legendgroup\": \"Louisiana\", \"marker\": {\"color\": \"#FF6692\", \"size\": [20.0, 20.0, 35.0, 46.0, 65.0, 83.0, 119.0, 137.0, 151.0, 185.0, 239.0, 273.0, 310.0, 370.0, 409.0, 477.0, 512.0, 582.0, 652.0, 702.0, 755.0, 806.0, 840.0, 884.0, 1013.0, 1103.0, 1156.0, 1213.0, 1267.0, 1296.0, 1328.0, 1405.0, 1473.0, 1599.0, 1660.0, 1707.0, 1729.0], \"sizemode\": \"area\", \"sizeref\": 55.6725, \"symbol\": \"circle\"}, \"mode\": \"lines+markers\", \"name\": \"Louisiana\", \"showlegend\": true, \"type\": \"scattergl\", \"x\": [1.1, 1.1, 2.0, 2.6, 3.7, 4.7, 6.7, 7.7, 8.4, 10.3, 13.3, 15.1, 17.0, 20.2, 22.1, 25.9, 27.0, 30.4, 33.3, 35.1, 36.1, 37.9, 39.1, 39.6, 43.9, 47.1, 48.0, 47.8, 48.6, 46.4, 46.3, 46.7, 46.5, 50.9, 51.3, 51.1, 50.4], \"xaxis\": \"x\", \"y\": [100.0, 100.0, 100.0, 100.0, 100.0, 100.0, 100.0, 99.3, 98.7, 98.4, 98.3, 97.8, 96.8, 96.2, 95.1, 95.8, 93.2, 92.1, 90.0, 88.2, 84.2, 83.0, 82.0, 79.1, 76.4, 75.2, 73.2, 69.5, 67.7, 63.2, 61.4, 58.6, 55.7, 56.1, 54.5, 52.8, 51.4], \"yaxis\": \"y\"}, {\"customdata\": [[1.0, \"4/14/20\", 20.0, \"Maine\"], [4.0, \"4/15/20\", 24.0, \"Maine\"], [3.0, \"4/16/20\", 27.0, \"Maine\"], [2.0, \"4/17/20\", 29.0, \"Maine\"], [3.0, \"4/18/20\", 32.0, \"Maine\"], [2.0, \"4/19/20\", 34.0, \"Maine\"], [1.0, \"4/20/20\", 35.0, \"Maine\"], [1.0, \"4/21/20\", 36.0, \"Maine\"], [3.0, \"4/22/20\", 39.0, \"Maine\"], [5.0, \"4/23/20\", 44.0, \"Maine\"], [3.0, \"4/24/20\", 47.0, \"Maine\"], [0.0, \"4/25/20\", 47.0, \"Maine\"], [3.0, \"4/26/20\", 50.0, \"Maine\"]], \"hoverlabel\": {\"namelength\": 0}, \"hovertemplate\": \"State =%{customdata[3]}<br>Mean growth over 14d compared to max growth =%{x}<br>% cases from last 14d =%{y}<br>Deaths=%{customdata[2]}<br>Deaths today =%{customdata[0]}<br>Date=%{customdata[1]}\", \"legendgroup\": \"Maine\", \"marker\": {\"color\": \"#B6E880\", \"size\": [20.0, 24.0, 27.0, 29.0, 32.0, 34.0, 35.0, 36.0, 39.0, 44.0, 47.0, 47.0, 50.0], \"sizemode\": \"area\", \"sizeref\": 55.6725, \"symbol\": \"circle\"}, \"mode\": \"lines+markers\", \"name\": \"Maine\", \"showlegend\": true, \"type\": \"scattergl\", \"x\": [26.8, 33.9, 35.7, 35.7, 39.3, 42.9, 44.6, 42.9, 44.6, 50.0, 53.6, 50.0, 55.4], \"xaxis\": \"x\", \"y\": [75.0, 79.2, 74.1, 69.0, 68.8, 70.6, 71.4, 66.7, 64.1, 63.6, 63.8, 59.6, 62.0], \"yaxis\": \"y\"}, {\"customdata\": [[13.0, \"4/1/20\", 31.0, \"Maryland\"], [5.0, \"4/2/20\", 36.0, \"Maryland\"], [7.0, \"4/3/20\", 43.0, \"Maryland\"], [11.0, \"4/4/20\", 54.0, \"Maryland\"], [13.0, \"4/5/20\", 67.0, \"Maryland\"], [24.0, \"4/6/20\", 91.0, \"Maryland\"], [12.0, \"4/7/20\", 103.0, \"Maryland\"], [21.0, \"4/8/20\", 124.0, \"Maryland\"], [14.0, \"4/9/20\", 138.0, \"Maryland\"], [33.0, \"4/10/20\", 171.0, \"Maryland\"], [35.0, \"4/11/20\", 206.0, \"Maryland\"], [30.0, \"4/12/20\", 236.0, \"Maryland\"], [26.0, \"4/13/20\", 262.0, \"Maryland\"], [40.0, \"4/14/20\", 302.0, \"Maryland\"], [9.0, \"4/15/20\", 311.0, \"Maryland\"], [8.0, \"4/16/20\", 319.0, \"Maryland\"], [15.0, \"4/17/20\", 334.0, \"Maryland\"], [87.0, \"4/18/20\", 421.0, \"Maryland\"], [40.0, \"4/19/20\", 461.0, \"Maryland\"], [121.0, \"4/20/20\", 582.0, \"Maryland\"], [70.0, \"4/21/20\", 652.0, \"Maryland\"], [46.0, \"4/22/20\", 698.0, \"Maryland\"], [50.0, \"4/23/20\", 748.0, \"Maryland\"], [50.0, \"4/24/20\", 798.0, \"Maryland\"], [77.0, \"4/25/20\", 875.0, \"Maryland\"], [35.0, \"4/26/20\", 910.0, \"Maryland\"]], \"hoverlabel\": {\"namelength\": 0}, \"hovertemplate\": \"State =%{customdata[3]}<br>Mean growth over 14d compared to max growth =%{x}<br>% cases from last 14d =%{y}<br>Deaths=%{customdata[2]}<br>Deaths today =%{customdata[0]}<br>Date=%{customdata[1]}\", \"legendgroup\": \"Maryland\", \"marker\": {\"color\": \"#FF97FF\", \"size\": [31.0, 36.0, 43.0, 54.0, 67.0, 91.0, 103.0, 124.0, 138.0, 171.0, 206.0, 236.0, 262.0, 302.0, 311.0, 319.0, 334.0, 421.0, 461.0, 582.0, 652.0, 698.0, 748.0, 798.0, 875.0, 910.0], \"sizemode\": \"area\", \"sizeref\": 55.6725, \"symbol\": \"circle\"}, \"mode\": \"lines+markers\", \"name\": \"Maryland\", \"showlegend\": true, \"type\": \"scattergl\", \"x\": [2.5, 2.9, 3.4, 4.3, 5.3, 7.2, 8.1, 9.9, 11.0, 13.6, 16.5, 18.6, 20.3, 23.3, 23.0, 23.2, 23.9, 30.1, 32.3, 40.3, 45.1, 47.1, 50.1, 51.5, 54.9, 55.3], \"xaxis\": \"x\", \"y\": [100.0, 97.2, 95.3, 96.3, 95.5, 96.7, 96.1, 96.8, 97.1, 97.1, 97.6, 95.8, 94.3, 94.0, 90.0, 88.7, 87.1, 87.2, 85.5, 84.4, 84.2, 82.2, 81.6, 78.6, 76.5, 74.1], \"yaxis\": \"y\"}, {\"customdata\": [[10.0, \"3/26/20\", 25.0, \"Massachusetts\"], [10.0, \"3/27/20\", 35.0, \"Massachusetts\"], [9.0, \"3/28/20\", 44.0, \"Massachusetts\"], [4.0, \"3/29/20\", 48.0, \"Massachusetts\"], [8.0, \"3/30/20\", 56.0, \"Massachusetts\"], [33.0, \"3/31/20\", 89.0, \"Massachusetts\"], [33.0, \"4/1/20\", 122.0, \"Massachusetts\"], [32.0, \"4/2/20\", 154.0, \"Massachusetts\"], [38.0, \"4/3/20\", 192.0, \"Massachusetts\"], [24.0, \"4/4/20\", 216.0, \"Massachusetts\"], [15.0, \"4/5/20\", 231.0, \"Massachusetts\"], [29.0, \"4/6/20\", 260.0, \"Massachusetts\"], [96.0, \"4/7/20\", 356.0, \"Massachusetts\"], [77.0, \"4/8/20\", 433.0, \"Massachusetts\"], [70.0, \"4/9/20\", 503.0, \"Massachusetts\"], [96.0, \"4/10/20\", 599.0, \"Massachusetts\"], [87.0, \"4/11/20\", 686.0, \"Massachusetts\"], [70.0, \"4/12/20\", 756.0, \"Massachusetts\"], [88.0, \"4/13/20\", 844.0, \"Massachusetts\"], [0.0, \"4/14/20\", 844.0, \"Massachusetts\"], [264.0, \"4/15/20\", 1108.0, \"Massachusetts\"], [0.0, \"4/16/20\", 1108.0, \"Massachusetts\"], [137.0, \"4/17/20\", 1245.0, \"Massachusetts\"], [159.0, \"4/18/20\", 1404.0, \"Massachusetts\"], [302.0, \"4/19/20\", 1706.0, \"Massachusetts\"], [0.0, \"4/20/20\", 1706.0, \"Massachusetts\"], [255.0, \"4/21/20\", 1961.0, \"Massachusetts\"], [221.0, \"4/22/20\", 2182.0, \"Massachusetts\"], [178.0, \"4/23/20\", 2360.0, \"Massachusetts\"], [196.0, \"4/24/20\", 2556.0, \"Massachusetts\"], [174.0, \"4/25/20\", 2730.0, \"Massachusetts\"], [169.0, \"4/26/20\", 2899.0, \"Massachusetts\"]], \"hoverlabel\": {\"namelength\": 0}, \"hovertemplate\": \"State =%{customdata[3]}<br>Mean growth over 14d compared to max growth =%{x}<br>% cases from last 14d =%{y}<br>Deaths=%{customdata[2]}<br>Deaths today =%{customdata[0]}<br>Date=%{customdata[1]}\", \"legendgroup\": \"Massachusetts\", \"marker\": {\"color\": \"#FECB52\", \"size\": [25.0, 35.0, 44.0, 48.0, 56.0, 89.0, 122.0, 154.0, 192.0, 216.0, 231.0, 260.0, 356.0, 433.0, 503.0, 599.0, 686.0, 756.0, 844.0, 844.0, 1108.0, 1108.0, 1245.0, 1404.0, 1706.0, 1706.0, 1961.0, 2182.0, 2360.0, 2556.0, 2730.0, 2899.0], \"sizemode\": \"area\", \"sizeref\": 55.6725, \"symbol\": \"circle\"}, \"mode\": \"lines+markers\", \"name\": \"Massachusetts\", \"showlegend\": true, \"type\": \"scattergl\", \"x\": [0.7, 0.9, 1.2, 1.3, 1.5, 2.4, 3.3, 4.2, 5.2, 5.8, 6.1, 6.8, 9.3, 11.3, 12.9, 15.3, 17.4, 19.2, 21.3, 20.4, 26.7, 25.8, 28.5, 32.1, 39.9, 39.1, 43.4, 47.3, 50.2, 52.9, 55.3, 58.0], \"xaxis\": \"x\", \"y\": [100.0, 100.0, 100.0, 100.0, 100.0, 100.0, 100.0, 100.0, 99.5, 99.5, 97.8, 96.5, 96.9, 96.5, 95.0, 94.2, 93.6, 93.7, 93.4, 89.5, 89.0, 86.1, 84.6, 84.6, 86.5, 84.8, 81.8, 80.2, 78.7, 76.6, 74.9, 73.9], \"yaxis\": \"y\"}, {\"customdata\": [[9.0, \"3/24/20\", 24.0, \"Michigan\"], [19.0, \"3/25/20\", 43.0, \"Michigan\"], [18.0, \"3/26/20\", 61.0, \"Michigan\"], [31.0, \"3/27/20\", 92.0, \"Michigan\"], [19.0, \"3/28/20\", 111.0, \"Michigan\"], [21.0, \"3/29/20\", 132.0, \"Michigan\"], [52.0, \"3/30/20\", 184.0, \"Michigan\"], [75.0, \"3/31/20\", 259.0, \"Michigan\"], [76.0, \"4/1/20\", 335.0, \"Michigan\"], [82.0, \"4/2/20\", 417.0, \"Michigan\"], [62.0, \"4/3/20\", 479.0, \"Michigan\"], [61.0, \"4/4/20\", 540.0, \"Michigan\"], [77.0, \"4/5/20\", 617.0, \"Michigan\"], [110.0, \"4/6/20\", 727.0, \"Michigan\"], [118.0, \"4/7/20\", 845.0, \"Michigan\"], [114.0, \"4/8/20\", 959.0, \"Michigan\"], [117.0, \"4/9/20\", 1076.0, \"Michigan\"], [200.0, \"4/10/20\", 1276.0, \"Michigan\"], [108.0, \"4/11/20\", 1384.0, \"Michigan\"], [95.0, \"4/12/20\", 1479.0, \"Michigan\"], [123.0, \"4/13/20\", 1602.0, \"Michigan\"], [166.0, \"4/14/20\", 1768.0, \"Michigan\"], [153.0, \"4/15/20\", 1921.0, \"Michigan\"], [75.0, \"4/16/20\", 1996.0, \"Michigan\"], [231.0, \"4/17/20\", 2227.0, \"Michigan\"], [81.0, \"4/18/20\", 2308.0, \"Michigan\"], [83.0, \"4/19/20\", 2391.0, \"Michigan\"], [77.0, \"4/20/20\", 2468.0, \"Michigan\"], [107.0, \"4/21/20\", 2575.0, \"Michigan\"], [238.0, \"4/22/20\", 2813.0, \"Michigan\"], [164.0, \"4/23/20\", 2977.0, \"Michigan\"], [108.0, \"4/24/20\", 3085.0, \"Michigan\"], [70.0, \"4/25/20\", 3155.0, \"Michigan\"], [160.0, \"4/26/20\", 3315.0, \"Michigan\"]], \"hoverlabel\": {\"namelength\": 0}, \"hovertemplate\": \"State =%{customdata[3]}<br>Mean growth over 14d compared to max growth =%{x}<br>% cases from last 14d =%{y}<br>Deaths=%{customdata[2]}<br>Deaths today =%{customdata[0]}<br>Date=%{customdata[1]}\", \"legendgroup\": \"Michigan\", \"marker\": {\"color\": \"#636efa\", \"size\": [24.0, 43.0, 61.0, 92.0, 111.0, 132.0, 184.0, 259.0, 335.0, 417.0, 479.0, 540.0, 617.0, 727.0, 845.0, 959.0, 1076.0, 1276.0, 1384.0, 1479.0, 1602.0, 1768.0, 1921.0, 1996.0, 2227.0, 2308.0, 2391.0, 2468.0, 2575.0, 2813.0, 2977.0, 3085.0, 3155.0, 3315.0], \"sizemode\": \"area\", \"sizeref\": 55.6725, \"symbol\": \"circle\"}, \"mode\": \"lines+markers\", \"name\": \"Michigan\", \"showlegend\": true, \"type\": \"scattergl\", \"x\": [0.7, 1.3, 1.9, 2.8, 3.4, 4.1, 5.7, 8.0, 10.3, 12.9, 14.8, 16.6, 18.8, 22.0, 25.4, 28.3, 31.4, 36.6, 39.4, 41.7, 43.8, 46.7, 49.0, 48.8, 54.1, 54.7, 54.9, 53.8, 53.5, 57.3, 58.8, 55.9, 54.8, 56.8], \"xaxis\": \"x\", \"y\": [100.0, 100.0, 100.0, 100.0, 100.0, 100.0, 100.0, 100.0, 99.7, 99.8, 99.8, 99.4, 98.5, 97.9, 97.2, 95.5, 94.3, 92.8, 92.0, 91.1, 88.5, 85.4, 82.6, 79.1, 78.5, 76.6, 74.2, 70.5, 67.2, 65.9, 63.9, 58.6, 56.1, 55.4], \"yaxis\": \"y\"}, {\"customdata\": [[4.0, \"4/3/20\", 22.0, \"Minnesota\"], [2.0, \"4/4/20\", 24.0, \"Minnesota\"], [5.0, \"4/5/20\", 29.0, \"Minnesota\"], [1.0, \"4/6/20\", 30.0, \"Minnesota\"], [4.0, \"4/7/20\", 34.0, \"Minnesota\"], [5.0, \"4/8/20\", 39.0, \"Minnesota\"], [11.0, \"4/9/20\", 50.0, \"Minnesota\"], [7.0, \"4/10/20\", 57.0, \"Minnesota\"], [7.0, \"4/11/20\", 64.0, \"Minnesota\"], [6.0, \"4/12/20\", 70.0, \"Minnesota\"], [0.0, \"4/13/20\", 70.0, \"Minnesota\"], [9.0, \"4/14/20\", 79.0, \"Minnesota\"], [8.0, \"4/15/20\", 87.0, \"Minnesota\"], [0.0, \"4/16/20\", 87.0, \"Minnesota\"], [24.0, \"4/17/20\", 111.0, \"Minnesota\"], [10.0, \"4/18/20\", 121.0, \"Minnesota\"], [13.0, \"4/19/20\", 134.0, \"Minnesota\"], [9.0, \"4/20/20\", 143.0, \"Minnesota\"], [17.0, \"4/21/20\", 160.0, \"Minnesota\"], [19.0, \"4/22/20\", 179.0, \"Minnesota\"], [21.0, \"4/23/20\", 200.0, \"Minnesota\"], [21.0, \"4/24/20\", 221.0, \"Minnesota\"], [23.0, \"4/25/20\", 244.0, \"Minnesota\"], [28.0, \"4/26/20\", 272.0, \"Minnesota\"]], \"hoverlabel\": {\"namelength\": 0}, \"hovertemplate\": \"State =%{customdata[3]}<br>Mean growth over 14d compared to max growth =%{x}<br>% cases from last 14d =%{y}<br>Deaths=%{customdata[2]}<br>Deaths today =%{customdata[0]}<br>Date=%{customdata[1]}\", \"legendgroup\": \"Minnesota\", \"marker\": {\"color\": \"#EF553B\", \"size\": [22.0, 24.0, 29.0, 30.0, 34.0, 39.0, 50.0, 57.0, 64.0, 70.0, 70.0, 79.0, 87.0, 87.0, 111.0, 121.0, 134.0, 143.0, 160.0, 179.0, 200.0, 221.0, 244.0, 272.0], \"sizemode\": \"area\", \"sizeref\": 55.6725, \"symbol\": \"circle\"}, \"mode\": \"lines+markers\", \"name\": \"Minnesota\", \"showlegend\": true, \"type\": \"scattergl\", \"x\": [6.5, 6.8, 8.3, 8.6, 9.8, 11.3, 14.3, 15.8, 17.6, 18.2, 17.9, 19.9, 20.8, 20.5, 26.5, 28.9, 31.2, 33.6, 37.5, 41.7, 44.6, 48.8, 53.6, 60.1], \"xaxis\": \"x\", \"y\": [100.0, 95.8, 96.6, 96.7, 97.1, 97.4, 96.0, 93.0, 92.2, 87.1, 85.7, 84.8, 80.5, 79.3, 80.2, 80.2, 78.4, 79.0, 78.8, 78.2, 75.0, 74.2, 73.8, 74.3], \"yaxis\": \"y\"}, {\"customdata\": [[4.0, \"3/31/20\", 20.0, \"Mississippi\"], [2.0, \"4/1/20\", 22.0, \"Mississippi\"], [4.0, \"4/2/20\", 26.0, \"Mississippi\"], [3.0, \"4/3/20\", 29.0, \"Mississippi\"], [6.0, \"4/4/20\", 35.0, \"Mississippi\"], [8.0, \"4/5/20\", 43.0, \"Mississippi\"], [8.0, \"4/6/20\", 51.0, \"Mississippi\"], [9.0, \"4/7/20\", 60.0, \"Mississippi\"], [7.0, \"4/8/20\", 67.0, \"Mississippi\"], [9.0, \"4/9/20\", 76.0, \"Mississippi\"], [6.0, \"4/10/20\", 82.0, \"Mississippi\"], [11.0, \"4/11/20\", 93.0, \"Mississippi\"], [3.0, \"4/12/20\", 96.0, \"Mississippi\"], [2.0, \"4/13/20\", 98.0, \"Mississippi\"], [13.0, \"4/14/20\", 111.0, \"Mississippi\"], [11.0, \"4/15/20\", 122.0, \"Mississippi\"], [7.0, \"4/16/20\", 129.0, \"Mississippi\"], [11.0, \"4/17/20\", 140.0, \"Mississippi\"], [12.0, \"4/18/20\", 152.0, \"Mississippi\"], [7.0, \"4/19/20\", 159.0, \"Mississippi\"], [10.0, \"4/20/20\", 169.0, \"Mississippi\"], [14.0, \"4/21/20\", 183.0, \"Mississippi\"], [10.0, \"4/22/20\", 193.0, \"Mississippi\"], [8.0, \"4/23/20\", 201.0, \"Mississippi\"], [8.0, \"4/24/20\", 209.0, \"Mississippi\"], [12.0, \"4/25/20\", 221.0, \"Mississippi\"], [6.0, \"4/26/20\", 227.0, \"Mississippi\"]], \"hoverlabel\": {\"namelength\": 0}, \"hovertemplate\": \"State =%{customdata[3]}<br>Mean growth over 14d compared to max growth =%{x}<br>% cases from last 14d =%{y}<br>Deaths=%{customdata[2]}<br>Deaths today =%{customdata[0]}<br>Date=%{customdata[1]}\", \"legendgroup\": \"Mississippi\", \"marker\": {\"color\": \"#00cc96\", \"size\": [20.0, 22.0, 26.0, 29.0, 35.0, 43.0, 51.0, 60.0, 67.0, 76.0, 82.0, 93.0, 96.0, 98.0, 111.0, 122.0, 129.0, 140.0, 152.0, 159.0, 169.0, 183.0, 193.0, 201.0, 209.0, 221.0, 227.0], \"sizemode\": \"area\", \"sizeref\": 55.6725, \"symbol\": \"circle\"}, \"mode\": \"lines+markers\", \"name\": \"Mississippi\", \"showlegend\": true, \"type\": \"scattergl\", \"x\": [11.0, 12.1, 13.7, 15.4, 18.7, 23.1, 27.5, 32.4, 35.2, 38.5, 40.7, 44.0, 45.1, 45.1, 50.0, 54.9, 56.6, 61.0, 64.3, 63.7, 64.8, 67.6, 69.2, 68.7, 69.8, 70.3, 72.0], \"xaxis\": \"x\", \"y\": [100.0, 100.0, 96.2, 96.6, 97.1, 97.7, 98.0, 98.3, 95.5, 92.1, 90.2, 86.0, 85.4, 83.7, 82.0, 82.0, 79.8, 79.3, 77.0, 73.0, 69.8, 67.2, 65.3, 62.2, 60.8, 57.9, 57.7], \"yaxis\": \"y\"}, {\"customdata\": [[4.0, \"4/2/20\", 22.0, \"Missouri\"], [3.0, \"4/3/20\", 25.0, \"Missouri\"], [8.0, \"4/4/20\", 33.0, \"Missouri\"], [11.0, \"4/5/20\", 44.0, \"Missouri\"], [3.0, \"4/6/20\", 47.0, \"Missouri\"], [18.0, \"4/7/20\", 65.0, \"Missouri\"], [21.0, \"4/8/20\", 86.0, \"Missouri\"], [7.0, \"4/9/20\", 93.0, \"Missouri\"], [6.0, \"4/10/20\", 99.0, \"Missouri\"], [17.0, \"4/11/20\", 116.0, \"Missouri\"], [2.0, \"4/12/20\", 118.0, \"Missouri\"], [5.0, \"4/13/20\", 123.0, \"Missouri\"], [26.0, \"4/14/20\", 149.0, \"Missouri\"], [4.0, \"4/15/20\", 153.0, \"Missouri\"], [16.0, \"4/16/20\", 169.0, \"Missouri\"], [15.0, \"4/17/20\", 184.0, \"Missouri\"], [13.0, \"4/18/20\", 197.0, \"Missouri\"], [2.0, \"4/19/20\", 199.0, \"Missouri\"], [1.0, \"4/20/20\", 200.0, \"Missouri\"], [24.0, \"4/21/20\", 224.0, \"Missouri\"], [14.0, \"4/22/20\", 238.0, \"Missouri\"], [14.0, \"4/23/20\", 252.0, \"Missouri\"], [20.0, \"4/24/20\", 272.0, \"Missouri\"], [9.0, \"4/25/20\", 281.0, \"Missouri\"], [2.0, \"4/26/20\", 283.0, \"Missouri\"]], \"hoverlabel\": {\"namelength\": 0}, \"hovertemplate\": \"State =%{customdata[3]}<br>Mean growth over 14d compared to max growth =%{x}<br>% cases from last 14d =%{y}<br>Deaths=%{customdata[2]}<br>Deaths today =%{customdata[0]}<br>Date=%{customdata[1]}\", \"legendgroup\": \"Missouri\", \"marker\": {\"color\": \"#ab63fa\", \"size\": [22.0, 25.0, 33.0, 44.0, 47.0, 65.0, 86.0, 93.0, 99.0, 116.0, 118.0, 123.0, 149.0, 153.0, 169.0, 184.0, 197.0, 199.0, 200.0, 224.0, 238.0, 252.0, 272.0, 281.0, 283.0], \"sizemode\": \"area\", \"sizeref\": 55.6725, \"symbol\": \"circle\"}, \"mode\": \"lines+markers\", \"name\": \"Missouri\", \"showlegend\": true, \"type\": \"scattergl\", \"x\": [6.2, 6.5, 8.9, 12.2, 12.8, 17.3, 23.2, 25.0, 26.8, 31.5, 31.2, 32.7, 39.9, 40.2, 43.8, 47.3, 48.8, 46.1, 45.5, 47.3, 45.2, 47.3, 51.5, 49.1, 49.1], \"xaxis\": \"x\", \"y\": [95.5, 88.0, 90.9, 93.2, 91.5, 89.2, 90.7, 90.3, 90.9, 91.4, 89.0, 89.4, 89.9, 88.2, 87.0, 86.4, 83.2, 77.9, 76.5, 71.0, 63.9, 63.1, 63.6, 58.7, 58.3], \"yaxis\": \"y\"}, {\"customdata\": [[3.0, \"4/14/20\", 20.0, \"Nebraska\"], [0.0, \"4/15/20\", 20.0, \"Nebraska\"], [1.0, \"4/16/20\", 21.0, \"Nebraska\"], [3.0, \"4/17/20\", 24.0, \"Nebraska\"], [0.0, \"4/18/20\", 24.0, \"Nebraska\"], [4.0, \"4/19/20\", 28.0, \"Nebraska\"], [5.0, \"4/20/20\", 33.0, \"Nebraska\"], [0.0, \"4/21/20\", 33.0, \"Nebraska\"], [5.0, \"4/22/20\", 38.0, \"Nebraska\"], [9.0, \"4/23/20\", 47.0, \"Nebraska\"], [3.0, \"4/24/20\", 50.0, \"Nebraska\"], [0.0, \"4/25/20\", 50.0, \"Nebraska\"], [6.0, \"4/26/20\", 56.0, \"Nebraska\"]], \"hoverlabel\": {\"namelength\": 0}, \"hovertemplate\": \"State =%{customdata[3]}<br>Mean growth over 14d compared to max growth =%{x}<br>% cases from last 14d =%{y}<br>Deaths=%{customdata[2]}<br>Deaths today =%{customdata[0]}<br>Date=%{customdata[1]}\", \"legendgroup\": \"Nebraska\", \"marker\": {\"color\": \"#FFA15A\", \"size\": [20.0, 20.0, 21.0, 24.0, 24.0, 28.0, 33.0, 33.0, 38.0, 47.0, 50.0, 50.0, 56.0], \"sizemode\": \"area\", \"sizeref\": 55.6725, \"symbol\": \"circle\"}, \"mode\": \"lines+markers\", \"name\": \"Nebraska\", \"showlegend\": true, \"type\": \"scattergl\", \"x\": [20.2, 19.0, 19.0, 21.4, 21.4, 23.8, 28.6, 27.4, 31.0, 39.3, 41.7, 39.3, 46.4], \"xaxis\": \"x\", \"y\": [85.0, 80.0, 76.2, 75.0, 75.0, 71.4, 72.7, 69.7, 68.4, 70.2, 70.0, 66.0, 69.6], \"yaxis\": \"y\"}, {\"customdata\": [[11.0, \"3/31/20\", 26.0, \"Nevada\"], [5.0, \"4/1/20\", 31.0, \"Nevada\"], [7.0, \"4/2/20\", 38.0, \"Nevada\"], [5.0, \"4/3/20\", 43.0, \"Nevada\"], [3.0, \"4/4/20\", 46.0, \"Nevada\"], [0.0, \"4/5/20\", 46.0, \"Nevada\"], [0.0, \"4/6/20\", 46.0, \"Nevada\"], [26.0, \"4/7/20\", 72.0, \"Nevada\"], [0.0, \"4/8/20\", 72.0, \"Nevada\"], [9.0, \"4/9/20\", 81.0, \"Nevada\"], [9.0, \"4/10/20\", 90.0, \"Nevada\"], [12.0, \"4/11/20\", 102.0, \"Nevada\"], [10.0, \"4/12/20\", 112.0, \"Nevada\"], [2.0, \"4/13/20\", 114.0, \"Nevada\"], [12.0, \"4/14/20\", 126.0, \"Nevada\"], [5.0, \"4/15/20\", 131.0, \"Nevada\"], [6.0, \"4/16/20\", 137.0, \"Nevada\"], [5.0, \"4/17/20\", 142.0, \"Nevada\"], [9.0, \"4/18/20\", 151.0, \"Nevada\"], [7.0, \"4/19/20\", 158.0, \"Nevada\"], [1.0, \"4/20/20\", 159.0, \"Nevada\"], [4.0, \"4/21/20\", 163.0, \"Nevada\"], [9.0, \"4/22/20\", 172.0, \"Nevada\"], [23.0, \"4/23/20\", 195.0, \"Nevada\"], [2.0, \"4/24/20\", 197.0, \"Nevada\"], [8.0, \"4/25/20\", 205.0, \"Nevada\"], [1.0, \"4/26/20\", 206.0, \"Nevada\"]], \"hoverlabel\": {\"namelength\": 0}, \"hovertemplate\": \"State =%{customdata[3]}<br>Mean growth over 14d compared to max growth =%{x}<br>% cases from last 14d =%{y}<br>Deaths=%{customdata[2]}<br>Deaths today =%{customdata[0]}<br>Date=%{customdata[1]}\", \"legendgroup\": \"Nevada\", \"marker\": {\"color\": \"#19d3f3\", \"size\": [26.0, 31.0, 38.0, 43.0, 46.0, 46.0, 46.0, 72.0, 72.0, 81.0, 90.0, 102.0, 112.0, 114.0, 126.0, 131.0, 137.0, 142.0, 151.0, 158.0, 159.0, 163.0, 172.0, 195.0, 197.0, 205.0, 206.0], \"sizemode\": \"area\", \"sizeref\": 55.6725, \"symbol\": \"circle\"}, \"mode\": \"lines+markers\", \"name\": \"Nevada\", \"showlegend\": true, \"type\": \"scattergl\", \"x\": [7.8, 9.3, 11.5, 12.7, 13.7, 13.7, 13.0, 21.1, 20.5, 22.0, 24.8, 28.6, 30.1, 30.7, 31.1, 31.1, 30.7, 30.7, 32.6, 34.8, 35.1, 28.3, 31.1, 35.4, 33.2, 32.0, 29.2], \"xaxis\": \"x\", \"y\": [96.2, 96.8, 97.4, 95.3, 95.7, 95.7, 91.3, 94.4, 91.7, 87.7, 88.9, 90.2, 86.6, 86.8, 79.4, 76.3, 72.3, 69.7, 69.5, 70.9, 71.1, 55.8, 58.1, 58.5, 54.3, 50.2, 45.6], \"yaxis\": \"y\"}, {\"customdata\": [[8.0, \"4/9/20\", 21.0, \"New Hampshire\"], [0.0, \"4/10/20\", 21.0, \"New Hampshire\"], [1.0, \"4/11/20\", 22.0, \"New Hampshire\"], [1.0, \"4/12/20\", 23.0, \"New Hampshire\"], [0.0, \"4/13/20\", 23.0, \"New Hampshire\"], [2.0, \"4/14/20\", 25.0, \"New Hampshire\"], [7.0, \"4/15/20\", 32.0, \"New Hampshire\"], [0.0, \"4/16/20\", 32.0, \"New Hampshire\"], [5.0, \"4/17/20\", 37.0, \"New Hampshire\"], [1.0, \"4/18/20\", 38.0, \"New Hampshire\"], [0.0, \"4/19/20\", 38.0, \"New Hampshire\"], [4.0, \"4/20/20\", 42.0, \"New Hampshire\"], [0.0, \"4/21/20\", 42.0, \"New Hampshire\"], [6.0, \"4/22/20\", 48.0, \"New Hampshire\"], [3.0, \"4/23/20\", 51.0, \"New Hampshire\"], [2.0, \"4/24/20\", 53.0, \"New Hampshire\"], [0.0, \"4/25/20\", 53.0, \"New Hampshire\"], [7.0, \"4/26/20\", 60.0, \"New Hampshire\"]], \"hoverlabel\": {\"namelength\": 0}, \"hovertemplate\": \"State =%{customdata[3]}<br>Mean growth over 14d compared to max growth =%{x}<br>% cases from last 14d =%{y}<br>Deaths=%{customdata[2]}<br>Deaths today =%{customdata[0]}<br>Date=%{customdata[1]}\", \"legendgroup\": \"New Hampshire\", \"marker\": {\"color\": \"#FF6692\", \"size\": [21.0, 21.0, 22.0, 23.0, 23.0, 25.0, 32.0, 32.0, 37.0, 38.0, 38.0, 42.0, 42.0, 48.0, 51.0, 53.0, 53.0, 60.0], \"sizemode\": \"area\", \"sizeref\": 55.6725, \"symbol\": \"circle\"}, \"mode\": \"lines+markers\", \"name\": \"New Hampshire\", \"showlegend\": true, \"type\": \"scattergl\", \"x\": [20.4, 20.4, 20.4, 21.4, 20.4, 22.4, 29.6, 29.6, 32.7, 31.6, 29.6, 33.7, 33.7, 35.7, 30.6, 32.7, 31.6, 37.8], \"xaxis\": \"x\", \"y\": [95.2, 95.2, 90.9, 91.3, 87.0, 88.0, 90.6, 90.6, 86.5, 81.6, 76.3, 78.6, 78.6, 72.9, 58.8, 60.4, 58.5, 61.7], \"yaxis\": \"y\"}, {\"customdata\": [[4.0, \"3/22/20\", 20.0, \"New Jersey\"], [7.0, \"3/23/20\", 27.0, \"New Jersey\"], [17.0, \"3/24/20\", 44.0, \"New Jersey\"], [18.0, \"3/25/20\", 62.0, \"New Jersey\"], [19.0, \"3/26/20\", 81.0, \"New Jersey\"], [27.0, \"3/27/20\", 108.0, \"New Jersey\"], [32.0, \"3/28/20\", 140.0, \"New Jersey\"], [21.0, \"3/29/20\", 161.0, \"New Jersey\"], [37.0, \"3/30/20\", 198.0, \"New Jersey\"], [69.0, \"3/31/20\", 267.0, \"New Jersey\"], [88.0, \"4/1/20\", 355.0, \"New Jersey\"], [182.0, \"4/2/20\", 537.0, \"New Jersey\"], [109.0, \"4/3/20\", 646.0, \"New Jersey\"], [200.0, \"4/4/20\", 846.0, \"New Jersey\"], [71.0, \"4/5/20\", 917.0, \"New Jersey\"], [86.0, \"4/6/20\", 1003.0, \"New Jersey\"], [229.0, \"4/7/20\", 1232.0, \"New Jersey\"], [272.0, \"4/8/20\", 1504.0, \"New Jersey\"], [205.0, \"4/9/20\", 1709.0, \"New Jersey\"], [223.0, \"4/10/20\", 1932.0, \"New Jersey\"], [251.0, \"4/11/20\", 2183.0, \"New Jersey\"], [167.0, \"4/12/20\", 2350.0, \"New Jersey\"], [93.0, \"4/13/20\", 2443.0, \"New Jersey\"], [362.0, \"4/14/20\", 2805.0, \"New Jersey\"], [351.0, \"4/15/20\", 3156.0, \"New Jersey\"], [362.0, \"4/16/20\", 3518.0, \"New Jersey\"], [322.0, \"4/17/20\", 3840.0, \"New Jersey\"], [230.0, \"4/18/20\", 4070.0, \"New Jersey\"], [292.0, \"4/19/20\", 4362.0, \"New Jersey\"], [134.0, \"4/20/20\", 4496.0, \"New Jersey\"], [257.0, \"4/21/20\", 4753.0, \"New Jersey\"], [397.0, \"4/22/20\", 5150.0, \"New Jersey\"], [276.0, \"4/23/20\", 5426.0, \"New Jersey\"], [257.0, \"4/24/20\", 5683.0, \"New Jersey\"], [231.0, \"4/25/20\", 5914.0, \"New Jersey\"], [24.0, \"4/26/20\", 5938.0, \"New Jersey\"]], \"hoverlabel\": {\"namelength\": 0}, \"hovertemplate\": \"State =%{customdata[3]}<br>Mean growth over 14d compared to max growth =%{x}<br>% cases from last 14d =%{y}<br>Deaths=%{customdata[2]}<br>Deaths today =%{customdata[0]}<br>Date=%{customdata[1]}\", \"legendgroup\": \"New Jersey\", \"marker\": {\"color\": \"#B6E880\", \"size\": [20.0, 27.0, 44.0, 62.0, 81.0, 108.0, 140.0, 161.0, 198.0, 267.0, 355.0, 537.0, 646.0, 846.0, 917.0, 1003.0, 1232.0, 1504.0, 1709.0, 1932.0, 2183.0, 2350.0, 2443.0, 2805.0, 3156.0, 3518.0, 3840.0, 4070.0, 4362.0, 4496.0, 4753.0, 5150.0, 5426.0, 5683.0, 5914.0, 5938.0], \"sizemode\": \"area\", \"sizeref\": 55.6725, \"symbol\": \"circle\"}, \"mode\": \"lines+markers\", \"name\": \"New Jersey\", \"showlegend\": true, \"type\": \"scattergl\", \"x\": [0.4, 0.5, 0.8, 1.2, 1.6, 2.1, 2.7, 3.1, 3.9, 5.2, 6.9, 10.4, 12.5, 16.4, 17.7, 19.3, 23.4, 28.5, 32.1, 36.0, 40.3, 43.2, 44.3, 50.1, 55.3, 58.8, 63.0, 63.6, 68.0, 68.9, 69.5, 71.9, 73.3, 74.0, 73.6, 70.8], \"xaxis\": \"x\", \"y\": [100.0, 100.0, 97.7, 98.4, 98.8, 99.1, 99.3, 98.8, 99.0, 98.9, 98.6, 98.3, 98.3, 98.1, 97.8, 97.3, 96.4, 95.9, 95.3, 94.4, 93.6, 93.1, 91.9, 90.5, 88.8, 84.7, 83.2, 79.2, 79.0, 77.7, 74.1, 70.8, 68.5, 66.0, 63.1, 60.4], \"yaxis\": \"y\"}, {\"customdata\": [[7.0, \"4/12/20\", 26.0, \"New Mexico\"], [0.0, \"4/13/20\", 26.0, \"New Mexico\"], [5.0, \"4/14/20\", 31.0, \"New Mexico\"], [5.0, \"4/15/20\", 36.0, \"New Mexico\"], [0.0, \"4/16/20\", 36.0, \"New Mexico\"], [8.0, \"4/17/20\", 44.0, \"New Mexico\"], [9.0, \"4/18/20\", 53.0, \"New Mexico\"], [2.0, \"4/19/20\", 55.0, \"New Mexico\"], [3.0, \"4/20/20\", 58.0, \"New Mexico\"], [0.0, \"4/21/20\", 58.0, \"New Mexico\"], [13.0, \"4/22/20\", 71.0, \"New Mexico\"], [7.0, \"4/23/20\", 78.0, \"New Mexico\"], [6.0, \"4/24/20\", 84.0, \"New Mexico\"], [9.0, \"4/25/20\", 93.0, \"New Mexico\"], [6.0, \"4/26/20\", 99.0, \"New Mexico\"]], \"hoverlabel\": {\"namelength\": 0}, \"hovertemplate\": \"State =%{customdata[3]}<br>Mean growth over 14d compared to max growth =%{x}<br>% cases from last 14d =%{y}<br>Deaths=%{customdata[2]}<br>Deaths today =%{customdata[0]}<br>Date=%{customdata[1]}\", \"legendgroup\": \"New Mexico\", \"marker\": {\"color\": \"#FF97FF\", \"size\": [26.0, 26.0, 31.0, 36.0, 36.0, 44.0, 53.0, 55.0, 58.0, 58.0, 71.0, 78.0, 84.0, 93.0, 99.0], \"sizemode\": \"area\", \"sizeref\": 55.6725, \"symbol\": \"circle\"}, \"mode\": \"lines+markers\", \"name\": \"New Mexico\", \"showlegend\": true, \"type\": \"scattergl\", \"x\": [19.0, 19.0, 21.4, 24.6, 23.8, 27.0, 33.3, 34.1, 36.5, 35.7, 46.0, 49.2, 53.2, 58.7, 57.9], \"xaxis\": \"x\", \"y\": [92.3, 92.3, 87.1, 86.1, 83.3, 77.3, 79.2, 78.2, 79.3, 77.6, 81.7, 79.5, 79.8, 79.6, 73.7], \"yaxis\": \"y\"}, {\"customdata\": [[12.0, \"3/16/20\", 24.0, \"New York\"], [14.0, \"3/17/20\", 38.0, \"New York\"], [25.0, \"3/18/20\", 63.0, \"New York\"], [33.0, \"3/19/20\", 96.0, \"New York\"], [55.0, \"3/20/20\", 151.0, \"New York\"], [44.0, \"3/21/20\", 195.0, \"New York\"], [91.0, \"3/22/20\", 286.0, \"New York\"], [101.0, \"3/23/20\", 387.0, \"New York\"], [125.0, \"3/24/20\", 512.0, \"New York\"], [147.0, \"3/25/20\", 659.0, \"New York\"], [243.0, \"3/26/20\", 902.0, \"New York\"], [309.0, \"3/27/20\", 1211.0, \"New York\"], [377.0, \"3/28/20\", 1588.0, \"New York\"], [428.0, \"3/29/20\", 2016.0, \"New York\"], [540.0, \"3/30/20\", 2556.0, \"New York\"], [651.0, \"3/31/20\", 3207.0, \"New York\"], [710.0, \"4/1/20\", 3917.0, \"New York\"], [813.0, \"4/2/20\", 4730.0, \"New York\"], [688.0, \"4/3/20\", 5418.0, \"New York\"], [573.0, \"4/4/20\", 5991.0, \"New York\"], [794.0, \"4/5/20\", 6785.0, \"New York\"], [1024.0, \"4/6/20\", 7809.0, \"New York\"], [1077.0, \"4/7/20\", 8886.0, \"New York\"], [948.0, \"4/8/20\", 9834.0, \"New York\"], [944.0, \"4/9/20\", 10778.0, \"New York\"], [827.0, \"4/10/20\", 11605.0, \"New York\"], [893.0, \"4/11/20\", 12498.0, \"New York\"], [944.0, \"4/12/20\", 13442.0, \"New York\"], [948.0, \"4/13/20\", 14390.0, \"New York\"], [871.0, \"4/14/20\", 15261.0, \"New York\"], [752.0, \"4/15/20\", 16013.0, \"New York\"], [716.0, \"4/16/20\", 16729.0, \"New York\"], [1026.0, \"4/17/20\", 17755.0, \"New York\"], [1005.0, \"4/18/20\", 18760.0, \"New York\"], [-178.0, \"4/19/20\", 18582.0, \"New York\"], [594.0, \"4/20/20\", 19176.0, \"New York\"], [570.0, \"4/21/20\", 19746.0, \"New York\"], [457.0, \"4/22/20\", 20203.0, \"New York\"], [540.0, \"4/23/20\", 20743.0, \"New York\"], [212.0, \"4/24/20\", 20955.0, \"New York\"], [1054.0, \"4/25/20\", 22009.0, \"New York\"], [260.0, \"4/26/20\", 22269.0, \"New York\"]], \"hoverlabel\": {\"namelength\": 0}, \"hovertemplate\": \"State =%{customdata[3]}<br>Mean growth over 14d compared to max growth =%{x}<br>% cases from last 14d =%{y}<br>Deaths=%{customdata[2]}<br>Deaths today =%{customdata[0]}<br>Date=%{customdata[1]}\", \"legendgroup\": \"New York\", \"marker\": {\"color\": \"#FECB52\", \"size\": [24.0, 38.0, 63.0, 96.0, 151.0, 195.0, 286.0, 387.0, 512.0, 659.0, 902.0, 1211.0, 1588.0, 2016.0, 2556.0, 3207.0, 3917.0, 4730.0, 5418.0, 5991.0, 6785.0, 7809.0, 8886.0, 9834.0, 10778.0, 11605.0, 12498.0, 13442.0, 14390.0, 15261.0, 16013.0, 16729.0, 17755.0, 18760.0, 18582.0, 19176.0, 19746.0, 20203.0, 20743.0, 20955.0, 22009.0, 22269.0], \"sizemode\": \"area\", \"sizeref\": 55.6725, \"symbol\": \"circle\"}, \"mode\": \"lines+markers\", \"name\": \"New York\", \"showlegend\": true, \"type\": \"scattergl\", \"x\": [0.2, 0.3, 0.4, 0.7, 1.0, 1.3, 1.9, 2.6, 3.5, 4.5, 6.1, 8.2, 10.7, 13.6, 17.2, 21.5, 26.1, 31.4, 35.7, 39.3, 44.0, 50.3, 56.7, 62.2, 66.9, 70.4, 73.9, 77.4, 80.2, 81.7, 82.0, 81.3, 83.6, 86.5, 79.9, 77.0, 73.6, 70.3, 67.5, 63.4, 64.5, 59.8], \"xaxis\": \"x\", \"y\": [100.0, 100.0, 100.0, 100.0, 100.0, 100.0, 100.0, 100.0, 100.0, 100.0, 99.9, 99.8, 99.6, 99.4, 99.1, 98.8, 98.4, 98.0, 97.2, 96.7, 95.8, 95.0, 94.2, 93.3, 91.6, 89.6, 87.3, 85.0, 82.2, 79.0, 75.5, 71.7, 69.5, 68.1, 63.5, 59.3, 55.0, 51.3, 48.0, 44.6, 43.2, 39.6], \"yaxis\": \"y\"}, {\"customdata\": [[7.0, \"4/2/20\", 21.0, \"North Carolina\"], [6.0, \"4/3/20\", 27.0, \"North Carolina\"], [7.0, \"4/4/20\", 34.0, \"North Carolina\"], [4.0, \"4/5/20\", 38.0, \"North Carolina\"], [7.0, \"4/6/20\", 45.0, \"North Carolina\"], [8.0, \"4/7/20\", 53.0, \"North Carolina\"], [13.0, \"4/8/20\", 66.0, \"North Carolina\"], [10.0, \"4/9/20\", 76.0, \"North Carolina\"], [7.0, \"4/10/20\", 83.0, \"North Carolina\"], [6.0, \"4/11/20\", 89.0, \"North Carolina\"], [0.0, \"4/12/20\", 89.0, \"North Carolina\"], [5.0, \"4/13/20\", 94.0, \"North Carolina\"], [18.0, \"4/14/20\", 112.0, \"North Carolina\"], [18.0, \"4/15/20\", 130.0, \"North Carolina\"], [20.0, \"4/16/20\", 150.0, \"North Carolina\"], [27.0, \"4/17/20\", 177.0, \"North Carolina\"], [10.0, \"4/18/20\", 187.0, \"North Carolina\"], [13.0, \"4/19/20\", 200.0, \"North Carolina\"], [18.0, \"4/20/20\", 218.0, \"North Carolina\"], [27.0, \"4/21/20\", 245.0, \"North Carolina\"], [20.0, \"4/22/20\", 265.0, \"North Carolina\"], [16.0, \"4/23/20\", 281.0, \"North Carolina\"], [13.0, \"4/24/20\", 294.0, \"North Carolina\"], [11.0, \"4/25/20\", 305.0, \"North Carolina\"], [19.0, \"4/26/20\", 324.0, \"North Carolina\"]], \"hoverlabel\": {\"namelength\": 0}, \"hovertemplate\": \"State =%{customdata[3]}<br>Mean growth over 14d compared to max growth =%{x}<br>% cases from last 14d =%{y}<br>Deaths=%{customdata[2]}<br>Deaths today =%{customdata[0]}<br>Date=%{customdata[1]}\", \"legendgroup\": \"North Carolina\", \"marker\": {\"color\": \"#636efa\", \"size\": [21.0, 27.0, 34.0, 38.0, 45.0, 53.0, 66.0, 76.0, 83.0, 89.0, 89.0, 94.0, 112.0, 130.0, 150.0, 177.0, 187.0, 200.0, 218.0, 245.0, 265.0, 281.0, 294.0, 305.0, 324.0], \"sizemode\": \"area\", \"sizeref\": 55.6725, \"symbol\": \"circle\"}, \"mode\": \"lines+markers\", \"name\": \"North Carolina\", \"showlegend\": true, \"type\": \"scattergl\", \"x\": [5.6, 7.1, 9.0, 10.1, 11.9, 14.0, 16.9, 19.3, 20.9, 22.2, 21.7, 23.0, 26.5, 30.7, 34.1, 39.7, 40.5, 42.9, 45.8, 50.8, 52.6, 54.2, 55.8, 57.1, 62.2], \"xaxis\": \"x\", \"y\": [100.0, 100.0, 100.0, 100.0, 100.0, 100.0, 97.0, 96.1, 95.2, 94.4, 92.1, 92.6, 89.3, 89.2, 86.0, 84.7, 81.8, 81.0, 79.4, 78.4, 75.1, 73.0, 71.8, 70.8, 72.5], \"yaxis\": \"y\"}, {\"customdata\": [[6.0, \"3/28/20\", 25.0, \"Ohio\"], [4.0, \"3/29/20\", 29.0, \"Ohio\"], [11.0, \"3/30/20\", 40.0, \"Ohio\"], [15.0, \"3/31/20\", 55.0, \"Ohio\"], [10.0, \"4/1/20\", 65.0, \"Ohio\"], [16.0, \"4/2/20\", 81.0, \"Ohio\"], [10.0, \"4/3/20\", 91.0, \"Ohio\"], [11.0, \"4/4/20\", 102.0, \"Ohio\"], [17.0, \"4/5/20\", 119.0, \"Ohio\"], [23.0, \"4/6/20\", 142.0, \"Ohio\"], [25.0, \"4/7/20\", 167.0, \"Ohio\"], [26.0, \"4/8/20\", 193.0, \"Ohio\"], [20.0, \"4/9/20\", 213.0, \"Ohio\"], [18.0, \"4/10/20\", 231.0, \"Ohio\"], [16.0, \"4/11/20\", 247.0, \"Ohio\"], [6.0, \"4/12/20\", 253.0, \"Ohio\"], [21.0, \"4/13/20\", 274.0, \"Ohio\"], [50.0, \"4/14/20\", 324.0, \"Ohio\"], [38.0, \"4/15/20\", 362.0, \"Ohio\"], [45.0, \"4/16/20\", 407.0, \"Ohio\"], [11.0, \"4/17/20\", 418.0, \"Ohio\"], [33.0, \"4/18/20\", 451.0, \"Ohio\"], [20.0, \"4/19/20\", 471.0, \"Ohio\"], [38.0, \"4/20/20\", 509.0, \"Ohio\"], [48.0, \"4/21/20\", 557.0, \"Ohio\"], [53.0, \"4/22/20\", 610.0, \"Ohio\"], [46.0, \"4/23/20\", 656.0, \"Ohio\"], [34.0, \"4/24/20\", 690.0, \"Ohio\"], [21.0, \"4/25/20\", 711.0, \"Ohio\"], [17.0, \"4/26/20\", 728.0, \"Ohio\"]], \"hoverlabel\": {\"namelength\": 0}, \"hovertemplate\": \"State =%{customdata[3]}<br>Mean growth over 14d compared to max growth =%{x}<br>% cases from last 14d =%{y}<br>Deaths=%{customdata[2]}<br>Deaths today =%{customdata[0]}<br>Date=%{customdata[1]}\", \"legendgroup\": \"Ohio\", \"marker\": {\"color\": \"#EF553B\", \"size\": [25.0, 29.0, 40.0, 55.0, 65.0, 81.0, 91.0, 102.0, 119.0, 142.0, 167.0, 193.0, 213.0, 231.0, 247.0, 253.0, 274.0, 324.0, 362.0, 407.0, 418.0, 451.0, 471.0, 509.0, 557.0, 610.0, 656.0, 690.0, 711.0, 728.0], \"sizemode\": \"area\", \"sizeref\": 55.6725, \"symbol\": \"circle\"}, \"mode\": \"lines+markers\", \"name\": \"Ohio\", \"showlegend\": true, \"type\": \"scattergl\", \"x\": [3.6, 4.1, 5.7, 7.9, 9.3, 11.6, 12.6, 14.1, 16.6, 19.4, 22.7, 26.0, 28.3, 30.3, 31.7, 32.0, 33.4, 38.4, 42.4, 46.6, 46.7, 49.9, 50.3, 52.4, 55.7, 59.6, 63.3, 65.6, 66.3, 67.9], \"xaxis\": \"x\", \"y\": [100.0, 100.0, 100.0, 100.0, 100.0, 100.0, 96.7, 97.1, 97.5, 95.8, 95.2, 94.3, 93.0, 91.8, 89.9, 88.5, 85.4, 83.0, 82.0, 80.1, 78.2, 77.4, 74.7, 72.1, 70.0, 68.4, 67.5, 66.5, 65.3, 65.2], \"yaxis\": \"y\"}, {\"customdata\": [[7.0, \"3/31/20\", 23.0, \"Oklahoma\"], [7.0, \"4/1/20\", 30.0, \"Oklahoma\"], [4.0, \"4/2/20\", 34.0, \"Oklahoma\"], [4.0, \"4/3/20\", 38.0, \"Oklahoma\"], [4.0, \"4/4/20\", 42.0, \"Oklahoma\"], [4.0, \"4/5/20\", 46.0, \"Oklahoma\"], [5.0, \"4/6/20\", 51.0, \"Oklahoma\"], [16.0, \"4/7/20\", 67.0, \"Oklahoma\"], [12.0, \"4/8/20\", 79.0, \"Oklahoma\"], [1.0, \"4/9/20\", 80.0, \"Oklahoma\"], [8.0, \"4/10/20\", 88.0, \"Oklahoma\"], [6.0, \"4/11/20\", 94.0, \"Oklahoma\"], [2.0, \"4/12/20\", 96.0, \"Oklahoma\"], [3.0, \"4/13/20\", 99.0, \"Oklahoma\"], [9.0, \"4/14/20\", 108.0, \"Oklahoma\"], [15.0, \"4/15/20\", 123.0, \"Oklahoma\"], [8.0, \"4/16/20\", 131.0, \"Oklahoma\"], [5.0, \"4/17/20\", 136.0, \"Oklahoma\"], [0.0, \"4/18/20\", 136.0, \"Oklahoma\"], [4.0, \"4/19/20\", 140.0, \"Oklahoma\"], [3.0, \"4/20/20\", 143.0, \"Oklahoma\"], [21.0, \"4/21/20\", 164.0, \"Oklahoma\"], [6.0, \"4/22/20\", 170.0, \"Oklahoma\"], [9.0, \"4/23/20\", 179.0, \"Oklahoma\"], [9.0, \"4/24/20\", 188.0, \"Oklahoma\"], [6.0, \"4/25/20\", 194.0, \"Oklahoma\"], [1.0, \"4/26/20\", 195.0, \"Oklahoma\"]], \"hoverlabel\": {\"namelength\": 0}, \"hovertemplate\": \"State =%{customdata[3]}<br>Mean growth over 14d compared to max growth =%{x}<br>% cases from last 14d =%{y}<br>Deaths=%{customdata[2]}<br>Deaths today =%{customdata[0]}<br>Date=%{customdata[1]}\", \"legendgroup\": \"Oklahoma\", \"marker\": {\"color\": \"#00cc96\", \"size\": [23.0, 30.0, 34.0, 38.0, 42.0, 46.0, 51.0, 67.0, 79.0, 80.0, 88.0, 94.0, 96.0, 99.0, 108.0, 123.0, 131.0, 136.0, 136.0, 140.0, 143.0, 164.0, 170.0, 179.0, 188.0, 194.0, 195.0], \"sizemode\": \"area\", \"sizeref\": 55.6725, \"symbol\": \"circle\"}, \"mode\": \"lines+markers\", \"name\": \"Oklahoma\", \"showlegend\": true, \"type\": \"scattergl\", \"x\": [10.3, 13.4, 14.7, 16.5, 18.3, 19.6, 21.9, 28.6, 33.0, 32.6, 35.7, 35.3, 35.7, 37.1, 37.9, 41.5, 43.3, 43.8, 42.0, 42.0, 41.1, 43.3, 40.6, 44.2, 44.6, 44.6, 44.2], \"xaxis\": \"x\", \"y\": [100.0, 100.0, 97.1, 97.4, 97.6, 95.7, 96.1, 95.5, 93.7, 91.2, 90.9, 84.0, 83.3, 83.8, 78.7, 75.6, 74.0, 72.1, 69.1, 67.1, 64.3, 59.1, 53.5, 55.3, 53.2, 51.5, 50.8], \"yaxis\": \"y\"}, {\"customdata\": [[2.0, \"4/2/20\", 21.0, \"Oregon\"], [1.0, \"4/3/20\", 22.0, \"Oregon\"], [0.0, \"4/4/20\", 22.0, \"Oregon\"], [5.0, \"4/5/20\", 27.0, \"Oregon\"], [0.0, \"4/6/20\", 27.0, \"Oregon\"], [2.0, \"4/7/20\", 29.0, \"Oregon\"], [4.0, \"4/8/20\", 33.0, \"Oregon\"], [11.0, \"4/9/20\", 44.0, \"Oregon\"], [0.0, \"4/10/20\", 44.0, \"Oregon\"], [4.0, \"4/11/20\", 48.0, \"Oregon\"], [4.0, \"4/12/20\", 52.0, \"Oregon\"], [1.0, \"4/13/20\", 53.0, \"Oregon\"], [2.0, \"4/14/20\", 55.0, \"Oregon\"], [3.0, \"4/15/20\", 58.0, \"Oregon\"], [6.0, \"4/16/20\", 64.0, \"Oregon\"], [6.0, \"4/17/20\", 70.0, \"Oregon\"], [2.0, \"4/18/20\", 72.0, \"Oregon\"], [2.0, \"4/19/20\", 74.0, \"Oregon\"], [1.0, \"4/20/20\", 75.0, \"Oregon\"], [3.0, \"4/21/20\", 78.0, \"Oregon\"], [0.0, \"4/22/20\", 78.0, \"Oregon\"], [5.0, \"4/23/20\", 83.0, \"Oregon\"], [3.0, \"4/24/20\", 86.0, \"Oregon\"], [1.0, \"4/25/20\", 87.0, \"Oregon\"], [5.0, \"4/26/20\", 92.0, \"Oregon\"]], \"hoverlabel\": {\"namelength\": 0}, \"hovertemplate\": \"State =%{customdata[3]}<br>Mean growth over 14d compared to max growth =%{x}<br>% cases from last 14d =%{y}<br>Deaths=%{customdata[2]}<br>Deaths today =%{customdata[0]}<br>Date=%{customdata[1]}\", \"legendgroup\": \"Oregon\", \"marker\": {\"color\": \"#ab63fa\", \"size\": [21.0, 22.0, 22.0, 27.0, 27.0, 29.0, 33.0, 44.0, 44.0, 48.0, 52.0, 53.0, 55.0, 58.0, 64.0, 70.0, 72.0, 74.0, 75.0, 78.0, 78.0, 83.0, 86.0, 87.0, 92.0], \"sizemode\": \"area\", \"sizeref\": 55.6725, \"symbol\": \"circle\"}, \"mode\": \"lines+markers\", \"name\": \"Oregon\", \"showlegend\": true, \"type\": \"scattergl\", \"x\": [21.4, 22.6, 21.4, 26.2, 26.2, 25.0, 27.4, 39.3, 38.1, 41.7, 46.4, 44.0, 44.0, 46.4, 51.2, 57.1, 59.5, 56.0, 57.1, 58.3, 53.6, 46.4, 50.0, 46.4, 47.6], \"xaxis\": \"x\", \"y\": [85.7, 86.4, 81.8, 81.5, 81.5, 72.4, 69.7, 75.0, 72.7, 72.9, 75.0, 69.8, 67.3, 67.2, 67.2, 68.6, 69.4, 63.5, 64.0, 62.8, 57.7, 47.0, 48.8, 44.8, 43.5], \"yaxis\": \"y\"}, {\"customdata\": [[4.0, \"3/27/20\", 22.0, \"Pennsylvania\"], [12.0, \"3/28/20\", 34.0, \"Pennsylvania\"], [7.0, \"3/29/20\", 41.0, \"Pennsylvania\"], [9.0, \"3/30/20\", 50.0, \"Pennsylvania\"], [13.0, \"3/31/20\", 63.0, \"Pennsylvania\"], [11.0, \"4/1/20\", 74.0, \"Pennsylvania\"], [16.0, \"4/2/20\", 90.0, \"Pennsylvania\"], [12.0, \"4/3/20\", 102.0, \"Pennsylvania\"], [34.0, \"4/4/20\", 136.0, \"Pennsylvania\"], [15.0, \"4/5/20\", 151.0, \"Pennsylvania\"], [28.0, \"4/6/20\", 179.0, \"Pennsylvania\"], [68.0, \"4/7/20\", 247.0, \"Pennsylvania\"], [71.0, \"4/8/20\", 318.0, \"Pennsylvania\"], [27.0, \"4/9/20\", 345.0, \"Pennsylvania\"], [73.0, \"4/10/20\", 418.0, \"Pennsylvania\"], [85.0, \"4/11/20\", 503.0, \"Pennsylvania\"], [54.0, \"4/12/20\", 557.0, \"Pennsylvania\"], [32.0, \"4/13/20\", 589.0, \"Pennsylvania\"], [102.0, \"4/14/20\", 691.0, \"Pennsylvania\"], [88.0, \"4/15/20\", 779.0, \"Pennsylvania\"], [62.0, \"4/16/20\", 841.0, \"Pennsylvania\"], [80.0, \"4/17/20\", 921.0, \"Pennsylvania\"], [121.0, \"4/18/20\", 1042.0, \"Pennsylvania\"], [234.0, \"4/19/20\", 1276.0, \"Pennsylvania\"], [72.0, \"4/20/20\", 1348.0, \"Pennsylvania\"], [266.0, \"4/21/20\", 1614.0, \"Pennsylvania\"], [59.0, \"4/22/20\", 1673.0, \"Pennsylvania\"], [51.0, \"4/23/20\", 1724.0, \"Pennsylvania\"], [23.0, \"4/24/20\", 1747.0, \"Pennsylvania\"], [46.0, \"4/25/20\", 1793.0, \"Pennsylvania\"], [23.0, \"4/26/20\", 1816.0, \"Pennsylvania\"]], \"hoverlabel\": {\"namelength\": 0}, \"hovertemplate\": \"State =%{customdata[3]}<br>Mean growth over 14d compared to max growth =%{x}<br>% cases from last 14d =%{y}<br>Deaths=%{customdata[2]}<br>Deaths today =%{customdata[0]}<br>Date=%{customdata[1]}\", \"legendgroup\": \"Pennsylvania\", \"marker\": {\"color\": \"#FFA15A\", \"size\": [22.0, 34.0, 41.0, 50.0, 63.0, 74.0, 90.0, 102.0, 136.0, 151.0, 179.0, 247.0, 318.0, 345.0, 418.0, 503.0, 557.0, 589.0, 691.0, 779.0, 841.0, 921.0, 1042.0, 1276.0, 1348.0, 1614.0, 1673.0, 1724.0, 1747.0, 1793.0, 1816.0], \"sizemode\": \"area\", \"sizeref\": 55.6725, \"symbol\": \"circle\"}, \"mode\": \"lines+markers\", \"name\": \"Pennsylvania\", \"showlegend\": true, \"type\": \"scattergl\", \"x\": [0.7, 1.0, 1.3, 1.5, 1.9, 2.2, 2.7, 3.1, 4.1, 4.5, 5.3, 7.3, 9.2, 10.0, 12.1, 14.3, 15.8, 16.5, 19.2, 21.5, 22.9, 25.0, 27.7, 34.3, 35.7, 41.7, 41.4, 42.1, 40.6, 39.4, 38.4], \"xaxis\": \"x\", \"y\": [100.0, 100.0, 100.0, 100.0, 100.0, 98.6, 98.9, 99.0, 98.5, 97.4, 96.6, 96.8, 95.3, 94.8, 94.7, 93.2, 92.6, 91.5, 90.9, 90.5, 89.3, 88.9, 86.9, 88.2, 86.7, 84.7, 81.0, 80.0, 76.1, 71.9, 69.3], \"yaxis\": \"y\"}, {\"customdata\": [[2.0, \"4/5/20\", 20.0, \"Puerto Rico\"], [1.0, \"4/6/20\", 21.0, \"Puerto Rico\"], [2.0, \"4/7/20\", 23.0, \"Puerto Rico\"], [1.0, \"4/8/20\", 24.0, \"Puerto Rico\"], [9.0, \"4/9/20\", 33.0, \"Puerto Rico\"], [6.0, \"4/10/20\", 39.0, \"Puerto Rico\"], [3.0, \"4/11/20\", 42.0, \"Puerto Rico\"], [2.0, \"4/12/20\", 44.0, \"Puerto Rico\"], [1.0, \"4/13/20\", 45.0, \"Puerto Rico\"], [0.0, \"4/14/20\", 45.0, \"Puerto Rico\"], [6.0, \"4/15/20\", 51.0, \"Puerto Rico\"], [5.0, \"4/16/20\", 56.0, \"Puerto Rico\"], [2.0, \"4/17/20\", 58.0, \"Puerto Rico\"], [2.0, \"4/18/20\", 60.0, \"Puerto Rico\"], [2.0, \"4/19/20\", 62.0, \"Puerto Rico\"], [1.0, \"4/20/20\", 63.0, \"Puerto Rico\"], [1.0, \"4/21/20\", 64.0, \"Puerto Rico\"], [-1.0, \"4/22/20\", 63.0, \"Puerto Rico\"], [6.0, \"4/23/20\", 69.0, \"Puerto Rico\"], [8.0, \"4/24/20\", 77.0, \"Puerto Rico\"], [6.0, \"4/25/20\", 83.0, \"Puerto Rico\"], [1.0, \"4/26/20\", 84.0, \"Puerto Rico\"]], \"hoverlabel\": {\"namelength\": 0}, \"hovertemplate\": \"State =%{customdata[3]}<br>Mean growth over 14d compared to max growth =%{x}<br>% cases from last 14d =%{y}<br>Deaths=%{customdata[2]}<br>Deaths today =%{customdata[0]}<br>Date=%{customdata[1]}\", \"legendgroup\": \"Puerto Rico\", \"marker\": {\"color\": \"#19d3f3\", \"size\": [20.0, 21.0, 23.0, 24.0, 33.0, 39.0, 42.0, 44.0, 45.0, 45.0, 51.0, 56.0, 58.0, 60.0, 62.0, 63.0, 64.0, 63.0, 69.0, 77.0, 83.0, 84.0], \"sizemode\": \"area\", \"sizeref\": 55.6725, \"symbol\": \"circle\"}, \"mode\": \"lines+markers\", \"name\": \"Puerto Rico\", \"showlegend\": true, \"type\": \"scattergl\", \"x\": [17.0, 17.0, 18.8, 19.6, 27.7, 32.1, 34.8, 36.6, 34.8, 33.0, 35.7, 39.3, 38.4, 37.5, 37.5, 37.5, 36.6, 34.8, 32.1, 33.9, 36.6, 35.7], \"xaxis\": \"x\", \"y\": [95.0, 90.5, 91.3, 91.7, 93.9, 92.3, 92.9, 93.2, 86.7, 82.2, 78.4, 78.6, 74.1, 70.0, 67.7, 66.7, 64.1, 61.9, 52.2, 49.4, 49.4, 47.6], \"yaxis\": \"y\"}, {\"customdata\": [[8.0, \"4/5/20\", 25.0, \"Rhode Island\"], [2.0, \"4/6/20\", 27.0, \"Rhode Island\"], [3.0, \"4/7/20\", 30.0, \"Rhode Island\"], [5.0, \"4/8/20\", 35.0, \"Rhode Island\"], [8.0, \"4/9/20\", 43.0, \"Rhode Island\"], [0.0, \"4/10/20\", 43.0, \"Rhode Island\"], [13.0, \"4/11/20\", 56.0, \"Rhode Island\"], [7.0, \"4/12/20\", 63.0, \"Rhode Island\"], [0.0, \"4/13/20\", 63.0, \"Rhode Island\"], [17.0, \"4/14/20\", 80.0, \"Rhode Island\"], [0.0, \"4/15/20\", 80.0, \"Rhode Island\"], [7.0, \"4/16/20\", 87.0, \"Rhode Island\"], [31.0, \"4/17/20\", 118.0, \"Rhode Island\"], [19.0, \"4/18/20\", 137.0, \"Rhode Island\"], [13.0, \"4/19/20\", 150.0, \"Rhode Island\"], [5.0, \"4/20/20\", 155.0, \"Rhode Island\"], [16.0, \"4/21/20\", 171.0, \"Rhode Island\"], [10.0, \"4/22/20\", 181.0, \"Rhode Island\"], [8.0, \"4/23/20\", 189.0, \"Rhode Island\"], [13.0, \"4/24/20\", 202.0, \"Rhode Island\"], [13.0, \"4/25/20\", 215.0, \"Rhode Island\"], [11.0, \"4/26/20\", 226.0, \"Rhode Island\"]], \"hoverlabel\": {\"namelength\": 0}, \"hovertemplate\": \"State =%{customdata[3]}<br>Mean growth over 14d compared to max growth =%{x}<br>% cases from last 14d =%{y}<br>Deaths=%{customdata[2]}<br>Deaths today =%{customdata[0]}<br>Date=%{customdata[1]}\", \"legendgroup\": \"Rhode Island\", \"marker\": {\"color\": \"#FF6692\", \"size\": [25.0, 27.0, 30.0, 35.0, 43.0, 43.0, 56.0, 63.0, 63.0, 80.0, 80.0, 87.0, 118.0, 137.0, 150.0, 155.0, 171.0, 181.0, 189.0, 202.0, 215.0, 226.0], \"sizemode\": \"area\", \"sizeref\": 55.6725, \"symbol\": \"circle\"}, \"mode\": \"lines+markers\", \"name\": \"Rhode Island\", \"showlegend\": true, \"type\": \"scattergl\", \"x\": [9.4, 10.2, 11.3, 13.2, 16.2, 16.2, 20.3, 22.6, 22.2, 27.1, 26.3, 28.2, 39.1, 45.1, 47.0, 48.1, 53.0, 54.9, 54.9, 59.8, 59.8, 61.3], \"xaxis\": \"x\", \"y\": [100.0, 100.0, 100.0, 100.0, 100.0, 100.0, 96.4, 95.2, 93.7, 90.0, 87.5, 86.2, 88.1, 87.6, 83.3, 82.6, 82.5, 80.7, 77.2, 78.7, 74.0, 72.1], \"yaxis\": \"y\"}, {\"customdata\": [[4.0, \"3/31/20\", 22.0, \"South Carolina\"], [4.0, \"4/1/20\", 26.0, \"South Carolina\"], [5.0, \"4/2/20\", 31.0, \"South Carolina\"], [3.0, \"4/3/20\", 34.0, \"South Carolina\"], [6.0, \"4/4/20\", 40.0, \"South Carolina\"], [4.0, \"4/5/20\", 44.0, \"South Carolina\"], [4.0, \"4/6/20\", 48.0, \"South Carolina\"], [3.0, \"4/7/20\", 51.0, \"South Carolina\"], [0.0, \"4/8/20\", 51.0, \"South Carolina\"], [16.0, \"4/9/20\", 67.0, \"South Carolina\"], [5.0, \"4/10/20\", 72.0, \"South Carolina\"], [8.0, \"4/11/20\", 80.0, \"South Carolina\"], [2.0, \"4/12/20\", 82.0, \"South Carolina\"], [0.0, \"4/13/20\", 82.0, \"South Carolina\"], [15.0, \"4/14/20\", 97.0, \"South Carolina\"], [9.0, \"4/15/20\", 106.0, \"South Carolina\"], [5.0, \"4/16/20\", 111.0, \"South Carolina\"], [5.0, \"4/17/20\", 116.0, \"South Carolina\"], [3.0, \"4/18/20\", 119.0, \"South Carolina\"], [1.0, \"4/19/20\", 120.0, \"South Carolina\"], [3.0, \"4/20/20\", 123.0, \"South Carolina\"], [1.0, \"4/21/20\", 124.0, \"South Carolina\"], [16.0, \"4/22/20\", 140.0, \"South Carolina\"], [10.0, \"4/23/20\", 150.0, \"South Carolina\"], [7.0, \"4/24/20\", 157.0, \"South Carolina\"], [9.0, \"4/25/20\", 166.0, \"South Carolina\"], [8.0, \"4/26/20\", 174.0, \"South Carolina\"]], \"hoverlabel\": {\"namelength\": 0}, \"hovertemplate\": \"State =%{customdata[3]}<br>Mean growth over 14d compared to max growth =%{x}<br>% cases from last 14d =%{y}<br>Deaths=%{customdata[2]}<br>Deaths today =%{customdata[0]}<br>Date=%{customdata[1]}\", \"legendgroup\": \"South Carolina\", \"marker\": {\"color\": \"#B6E880\", \"size\": [22.0, 26.0, 31.0, 34.0, 40.0, 44.0, 48.0, 51.0, 51.0, 67.0, 72.0, 80.0, 82.0, 82.0, 97.0, 106.0, 111.0, 116.0, 119.0, 120.0, 123.0, 124.0, 140.0, 150.0, 157.0, 166.0, 174.0], \"sizemode\": \"area\", \"sizeref\": 55.6725, \"symbol\": \"circle\"}, \"mode\": \"lines+markers\", \"name\": \"South Carolina\", \"showlegend\": true, \"type\": \"scattergl\", \"x\": [9.4, 11.2, 13.4, 13.8, 16.5, 18.3, 19.2, 20.5, 19.6, 25.9, 26.3, 29.0, 29.5, 28.6, 33.5, 35.7, 35.7, 36.6, 35.3, 33.9, 33.5, 32.6, 39.7, 37.1, 37.9, 38.4, 41.1], \"xaxis\": \"x\", \"y\": [95.5, 96.2, 96.8, 91.2, 92.5, 93.2, 89.6, 90.2, 86.3, 86.6, 81.9, 81.2, 80.5, 78.0, 77.3, 75.5, 72.1, 70.7, 66.4, 63.3, 61.0, 58.9, 63.6, 55.3, 54.1, 51.8, 52.9], \"yaxis\": \"y\"}, {\"customdata\": [[9.0, \"3/31/20\", 23.0, \"Tennessee\"], [1.0, \"4/1/20\", 24.0, \"Tennessee\"], [12.0, \"4/2/20\", 36.0, \"Tennessee\"], [5.0, \"4/3/20\", 41.0, \"Tennessee\"], [9.0, \"4/4/20\", 50.0, \"Tennessee\"], [3.0, \"4/5/20\", 53.0, \"Tennessee\"], [12.0, \"4/6/20\", 65.0, \"Tennessee\"], [7.0, \"4/7/20\", 72.0, \"Tennessee\"], [8.0, \"4/8/20\", 80.0, \"Tennessee\"], [14.0, \"4/9/20\", 94.0, \"Tennessee\"], [4.0, \"4/10/20\", 98.0, \"Tennessee\"], [8.0, \"4/11/20\", 106.0, \"Tennessee\"], [0.0, \"4/12/20\", 106.0, \"Tennessee\"], [3.0, \"4/13/20\", 109.0, \"Tennessee\"], [15.0, \"4/14/20\", 124.0, \"Tennessee\"], [0.0, \"4/15/20\", 124.0, \"Tennessee\"], [12.0, \"4/16/20\", 136.0, \"Tennessee\"], [5.0, \"4/17/20\", 141.0, \"Tennessee\"], [1.0, \"4/18/20\", 142.0, \"Tennessee\"], [6.0, \"4/19/20\", 148.0, \"Tennessee\"], [4.0, \"4/20/20\", 152.0, \"Tennessee\"], [5.0, \"4/21/20\", 157.0, \"Tennessee\"], [0.0, \"4/22/20\", 157.0, \"Tennessee\"], [14.0, \"4/23/20\", 171.0, \"Tennessee\"], [-2.0, \"4/24/20\", 169.0, \"Tennessee\"], [8.0, \"4/25/20\", 177.0, \"Tennessee\"], [4.0, \"4/26/20\", 181.0, \"Tennessee\"]], \"hoverlabel\": {\"namelength\": 0}, \"hovertemplate\": \"State =%{customdata[3]}<br>Mean growth over 14d compared to max growth =%{x}<br>% cases from last 14d =%{y}<br>Deaths=%{customdata[2]}<br>Deaths today =%{customdata[0]}<br>Date=%{customdata[1]}\", \"legendgroup\": \"Tennessee\", \"marker\": {\"color\": \"#FF97FF\", \"size\": [23.0, 24.0, 36.0, 41.0, 50.0, 53.0, 65.0, 72.0, 80.0, 94.0, 98.0, 106.0, 106.0, 109.0, 124.0, 124.0, 136.0, 141.0, 142.0, 148.0, 152.0, 157.0, 157.0, 171.0, 169.0, 177.0, 181.0], \"sizemode\": \"area\", \"sizeref\": 55.6725, \"symbol\": \"circle\"}, \"mode\": \"lines+markers\", \"name\": \"Tennessee\", \"showlegend\": true, \"type\": \"scattergl\", \"x\": [11.7, 12.2, 18.4, 20.4, 25.0, 26.0, 32.1, 35.7, 39.3, 46.4, 46.9, 50.5, 50.0, 48.5, 51.5, 51.0, 51.0, 51.0, 46.9, 48.5, 44.4, 43.4, 39.3, 39.3, 36.2, 36.2, 38.3], \"xaxis\": \"x\", \"y\": [100.0, 100.0, 100.0, 97.6, 98.0, 96.2, 96.9, 97.2, 96.2, 96.8, 93.9, 93.4, 92.5, 87.2, 81.5, 80.6, 73.5, 70.9, 64.8, 64.2, 57.2, 54.1, 49.0, 45.0, 42.0, 40.1, 41.4], \"yaxis\": \"y\"}, {\"customdata\": [[6.0, \"3/26/20\", 21.0, \"Texas\"], [5.0, \"3/27/20\", 26.0, \"Texas\"], [4.0, \"3/28/20\", 30.0, \"Texas\"], [7.0, \"3/29/20\", 37.0, \"Texas\"], [8.0, \"3/30/20\", 45.0, \"Texas\"], [9.0, \"3/31/20\", 54.0, \"Texas\"], [12.0, \"4/1/20\", 66.0, \"Texas\"], [11.0, \"4/2/20\", 77.0, \"Texas\"], [23.0, \"4/3/20\", 100.0, \"Texas\"], [16.0, \"4/4/20\", 116.0, \"Texas\"], [20.0, \"4/5/20\", 136.0, \"Texas\"], [14.0, \"4/6/20\", 150.0, \"Texas\"], [10.0, \"4/7/20\", 160.0, \"Texas\"], [29.0, \"4/8/20\", 189.0, \"Texas\"], [21.0, \"4/9/20\", 210.0, \"Texas\"], [28.0, \"4/10/20\", 238.0, \"Texas\"], [28.0, \"4/11/20\", 266.0, \"Texas\"], [17.0, \"4/12/20\", 283.0, \"Texas\"], [22.0, \"4/13/20\", 305.0, \"Texas\"], [37.0, \"4/14/20\", 342.0, \"Texas\"], [33.0, \"4/15/20\", 375.0, \"Texas\"], [39.0, \"4/16/20\", 414.0, \"Texas\"], [37.0, \"4/17/20\", 451.0, \"Texas\"], [25.0, \"4/18/20\", 476.0, \"Texas\"], [14.0, \"4/19/20\", 490.0, \"Texas\"], [17.0, \"4/20/20\", 507.0, \"Texas\"], [26.0, \"4/21/20\", 533.0, \"Texas\"], [23.0, \"4/22/20\", 556.0, \"Texas\"], [48.0, \"4/23/20\", 604.0, \"Texas\"], [20.0, \"4/24/20\", 624.0, \"Texas\"], [14.0, \"4/25/20\", 638.0, \"Texas\"], [13.0, \"4/26/20\", 651.0, \"Texas\"]], \"hoverlabel\": {\"namelength\": 0}, \"hovertemplate\": \"State =%{customdata[3]}<br>Mean growth over 14d compared to max growth =%{x}<br>% cases from last 14d =%{y}<br>Deaths=%{customdata[2]}<br>Deaths today =%{customdata[0]}<br>Date=%{customdata[1]}\", \"legendgroup\": \"Texas\", \"marker\": {\"color\": \"#FECB52\", \"size\": [21.0, 26.0, 30.0, 37.0, 45.0, 54.0, 66.0, 77.0, 100.0, 116.0, 136.0, 150.0, 160.0, 189.0, 210.0, 238.0, 266.0, 283.0, 305.0, 342.0, 375.0, 414.0, 451.0, 476.0, 490.0, 507.0, 533.0, 556.0, 604.0, 624.0, 638.0, 651.0], \"sizemode\": \"area\", \"sizeref\": 55.6725, \"symbol\": \"circle\"}, \"mode\": \"lines+markers\", \"name\": \"Texas\", \"showlegend\": true, \"type\": \"scattergl\", \"x\": [3.8, 4.8, 5.5, 6.8, 8.2, 9.7, 11.5, 13.2, 17.6, 20.3, 23.6, 25.8, 27.1, 31.9, 34.6, 38.8, 43.2, 45.1, 47.6, 52.7, 56.6, 61.7, 64.3, 65.9, 64.8, 65.4, 68.3, 67.2, 72.2, 70.7, 68.1, 67.4], \"xaxis\": \"x\", \"y\": [100.0, 100.0, 100.0, 100.0, 100.0, 98.1, 95.5, 93.5, 96.0, 95.7, 94.9, 94.0, 92.5, 92.1, 90.0, 89.1, 88.7, 86.9, 85.2, 84.2, 82.4, 81.4, 77.8, 75.6, 72.2, 70.4, 70.0, 66.0, 65.2, 61.9, 58.3, 56.5], \"yaxis\": \"y\"}, {\"customdata\": [[2.0, \"4/15/20\", 20.0, \"Utah\"], [0.0, \"4/16/20\", 20.0, \"Utah\"], [3.0, \"4/17/20\", 23.0, \"Utah\"], [2.0, \"4/18/20\", 25.0, \"Utah\"], [2.0, \"4/19/20\", 27.0, \"Utah\"], [1.0, \"4/20/20\", 28.0, \"Utah\"], [4.0, \"4/21/20\", 32.0, \"Utah\"], [0.0, \"4/22/20\", 32.0, \"Utah\"], [3.0, \"4/23/20\", 35.0, \"Utah\"], [4.0, \"4/24/20\", 39.0, \"Utah\"], [2.0, \"4/25/20\", 41.0, \"Utah\"], [0.0, \"4/26/20\", 41.0, \"Utah\"]], \"hoverlabel\": {\"namelength\": 0}, \"hovertemplate\": \"State =%{customdata[3]}<br>Mean growth over 14d compared to max growth =%{x}<br>% cases from last 14d =%{y}<br>Deaths=%{customdata[2]}<br>Deaths today =%{customdata[0]}<br>Date=%{customdata[1]}\", \"legendgroup\": \"Utah\", \"marker\": {\"color\": \"#636efa\", \"size\": [20.0, 20.0, 23.0, 25.0, 27.0, 28.0, 32.0, 32.0, 35.0, 39.0, 41.0, 41.0], \"sizemode\": \"area\", \"sizeref\": 55.6725, \"symbol\": \"circle\"}, \"mode\": \"lines+markers\", \"name\": \"Utah\", \"showlegend\": true, \"type\": \"scattergl\", \"x\": [21.4, 18.6, 22.9, 24.3, 27.1, 21.4, 27.1, 27.1, 31.4, 31.4, 32.9, 32.9], \"xaxis\": \"x\", \"y\": [75.0, 65.0, 69.6, 68.0, 70.4, 53.6, 59.4, 59.4, 62.9, 56.4, 56.1, 56.1], \"yaxis\": \"y\"}, {\"customdata\": [[3.0, \"4/4/20\", 20.0, \"Vermont\"], [2.0, \"4/5/20\", 22.0, \"Vermont\"], [1.0, \"4/6/20\", 23.0, \"Vermont\"], [0.0, \"4/7/20\", 23.0, \"Vermont\"], [0.0, \"4/8/20\", 23.0, \"Vermont\"], [0.0, \"4/9/20\", 23.0, \"Vermont\"], [1.0, \"4/10/20\", 24.0, \"Vermont\"], [1.0, \"4/11/20\", 25.0, \"Vermont\"], [2.0, \"4/12/20\", 27.0, \"Vermont\"], [1.0, \"4/13/20\", 28.0, \"Vermont\"], [1.0, \"4/14/20\", 29.0, \"Vermont\"], [0.0, \"4/15/20\", 29.0, \"Vermont\"], [4.0, \"4/16/20\", 33.0, \"Vermont\"], [2.0, \"4/17/20\", 35.0, \"Vermont\"], [3.0, \"4/18/20\", 38.0, \"Vermont\"], [0.0, \"4/19/20\", 38.0, \"Vermont\"], [0.0, \"4/20/20\", 38.0, \"Vermont\"], [2.0, \"4/21/20\", 40.0, \"Vermont\"], [0.0, \"4/22/20\", 40.0, \"Vermont\"], [3.0, \"4/23/20\", 43.0, \"Vermont\"], [1.0, \"4/24/20\", 44.0, \"Vermont\"], [2.0, \"4/25/20\", 46.0, \"Vermont\"], [0.0, \"4/26/20\", 46.0, \"Vermont\"]], \"hoverlabel\": {\"namelength\": 0}, \"hovertemplate\": \"State =%{customdata[3]}<br>Mean growth over 14d compared to max growth =%{x}<br>% cases from last 14d =%{y}<br>Deaths=%{customdata[2]}<br>Deaths today =%{customdata[0]}<br>Date=%{customdata[1]}\", \"legendgroup\": \"Vermont\", \"marker\": {\"color\": \"#EF553B\", \"size\": [20.0, 22.0, 23.0, 23.0, 23.0, 23.0, 24.0, 25.0, 27.0, 28.0, 29.0, 29.0, 33.0, 35.0, 38.0, 38.0, 38.0, 40.0, 40.0, 43.0, 44.0, 46.0, 46.0], \"sizemode\": \"area\", \"sizeref\": 55.6725, \"symbol\": \"circle\"}, \"mode\": \"lines+markers\", \"name\": \"Vermont\", \"showlegend\": true, \"type\": \"scattergl\", \"x\": [42.9, 47.6, 42.9, 38.1, 35.7, 33.3, 33.3, 31.0, 35.7, 38.1, 38.1, 31.0, 38.1, 42.9, 42.9, 38.1, 35.7, 40.5, 40.5, 47.6, 47.6, 50.0, 45.2], \"xaxis\": \"x\", \"y\": [90.0, 90.9, 78.3, 69.6, 65.2, 60.9, 58.3, 52.0, 55.6, 57.1, 55.2, 44.8, 48.5, 51.4, 47.4, 42.1, 39.5, 42.5, 42.5, 46.5, 45.5, 45.7, 41.3], \"yaxis\": \"y\"}, {\"customdata\": [[7.0, \"3/29/20\", 20.0, \"Virginia\"], [12.0, \"3/31/20\", 27.0, \"Virginia\"], [7.0, \"4/1/20\", 34.0, \"Virginia\"], [7.0, \"4/2/20\", 41.0, \"Virginia\"], [5.0, \"4/3/20\", 46.0, \"Virginia\"], [6.0, \"4/4/20\", 52.0, \"Virginia\"], [0.0, \"4/5/20\", 52.0, \"Virginia\"], [14.0, \"4/6/20\", 66.0, \"Virginia\"], [0.0, \"4/7/20\", 66.0, \"Virginia\"], [0.0, \"4/8/20\", 66.0, \"Virginia\"], [43.0, \"4/9/20\", 109.0, \"Virginia\"], [12.0, \"4/10/20\", 121.0, \"Virginia\"], [9.0, \"4/11/20\", 130.0, \"Virginia\"], [11.0, \"4/12/20\", 141.0, \"Virginia\"], [8.0, \"4/13/20\", 149.0, \"Virginia\"], [5.0, \"4/14/20\", 154.0, \"Virginia\"], [41.0, \"4/15/20\", 195.0, \"Virginia\"], [13.0, \"4/16/20\", 208.0, \"Virginia\"], [23.0, \"4/17/20\", 231.0, \"Virginia\"], [27.0, \"4/18/20\", 258.0, \"Virginia\"], [19.0, \"4/19/20\", 277.0, \"Virginia\"], [23.0, \"4/20/20\", 300.0, \"Virginia\"], [24.0, \"4/21/20\", 324.0, \"Virginia\"], [25.0, \"4/22/20\", 349.0, \"Virginia\"], [24.0, \"4/23/20\", 373.0, \"Virginia\"], [38.0, \"4/24/20\", 411.0, \"Virginia\"], [26.0, \"4/25/20\", 437.0, \"Virginia\"], [12.0, \"4/26/20\", 449.0, \"Virginia\"]], \"hoverlabel\": {\"namelength\": 0}, \"hovertemplate\": \"State =%{customdata[3]}<br>Mean growth over 14d compared to max growth =%{x}<br>% cases from last 14d =%{y}<br>Deaths=%{customdata[2]}<br>Deaths today =%{customdata[0]}<br>Date=%{customdata[1]}\", \"legendgroup\": \"Virginia\", \"marker\": {\"color\": \"#00cc96\", \"size\": [20.0, 27.0, 34.0, 41.0, 46.0, 52.0, 52.0, 66.0, 66.0, 66.0, 109.0, 121.0, 130.0, 141.0, 149.0, 154.0, 195.0, 208.0, 231.0, 258.0, 277.0, 300.0, 324.0, 349.0, 373.0, 411.0, 437.0, 449.0], \"sizemode\": \"area\", \"sizeref\": 55.6725, \"symbol\": \"circle\"}, \"mode\": \"lines+markers\", \"name\": \"Virginia\", \"showlegend\": true, \"type\": \"scattergl\", \"x\": [3.3, 4.4, 5.6, 6.8, 7.7, 8.5, 8.0, 10.5, 9.9, 9.9, 17.2, 19.3, 20.4, 21.1, 23.3, 22.1, 28.0, 29.1, 32.2, 35.9, 39.2, 40.8, 44.9, 49.3, 46.0, 50.5, 53.5, 53.7], \"xaxis\": \"x\", \"y\": [95.0, 92.6, 94.1, 95.1, 95.7, 94.2, 88.5, 90.9, 86.4, 86.4, 90.8, 91.7, 90.0, 85.8, 89.9, 82.5, 82.6, 80.3, 80.1, 79.8, 81.2, 78.0, 79.6, 81.1, 70.8, 70.6, 70.3, 68.6], \"yaxis\": \"y\"}, {\"customdata\": [[4.0, \"3/10/20\", 23.0, \"Washington\"], [1.0, \"3/11/20\", 24.0, \"Washington\"], [7.0, \"3/12/20\", 31.0, \"Washington\"], [6.0, \"3/13/20\", 37.0, \"Washington\"], [2.0, \"3/14/20\", 39.0, \"Washington\"], [1.0, \"3/15/20\", 40.0, \"Washington\"], [8.0, \"3/16/20\", 48.0, \"Washington\"], [7.0, \"3/17/20\", 55.0, \"Washington\"], [12.0, \"3/18/20\", 67.0, \"Washington\"], [6.0, \"3/19/20\", 73.0, \"Washington\"], [10.0, \"3/20/20\", 83.0, \"Washington\"], [11.0, \"3/21/20\", 94.0, \"Washington\"], [3.0, \"3/22/20\", 97.0, \"Washington\"], [12.0, \"3/23/20\", 109.0, \"Washington\"], [7.0, \"3/24/20\", 116.0, \"Washington\"], [17.0, \"3/25/20\", 133.0, \"Washington\"], [17.0, \"3/26/20\", 150.0, \"Washington\"], [7.0, \"3/27/20\", 157.0, \"Washington\"], [31.0, \"3/28/20\", 188.0, \"Washington\"], [10.0, \"3/29/20\", 198.0, \"Washington\"], [7.0, \"3/30/20\", 205.0, \"Washington\"], [20.0, \"3/31/20\", 225.0, \"Washington\"], [9.0, \"4/1/20\", 234.0, \"Washington\"], [37.0, \"4/2/20\", 271.0, \"Washington\"], [20.0, \"4/3/20\", 291.0, \"Washington\"], [24.0, \"4/4/20\", 315.0, \"Washington\"], [21.0, \"4/5/20\", 336.0, \"Washington\"], [45.0, \"4/6/20\", 381.0, \"Washington\"], [19.0, \"4/7/20\", 400.0, \"Washington\"], [26.0, \"4/8/20\", 426.0, \"Washington\"], [30.0, \"4/9/20\", 456.0, \"Washington\"], [27.0, \"4/10/20\", 483.0, \"Washington\"], [12.0, \"4/11/20\", 495.0, \"Washington\"], [11.0, \"4/12/20\", 506.0, \"Washington\"], [7.0, \"4/13/20\", 513.0, \"Washington\"], [17.0, \"4/14/20\", 530.0, \"Washington\"], [22.0, \"4/15/20\", 552.0, \"Washington\"], [27.0, \"4/16/20\", 579.0, \"Washington\"], [24.0, \"4/17/20\", 603.0, \"Washington\"], [10.0, \"4/18/20\", 613.0, \"Washington\"], [23.0, \"4/19/20\", 636.0, \"Washington\"], [7.0, \"4/20/20\", 643.0, \"Washington\"], [21.0, \"4/21/20\", 664.0, \"Washington\"], [22.0, \"4/22/20\", 686.0, \"Washington\"], [25.0, \"4/23/20\", 711.0, \"Washington\"], [11.0, \"4/24/20\", 722.0, \"Washington\"], [15.0, \"4/25/20\", 737.0, \"Washington\"], [12.0, \"4/26/20\", 749.0, \"Washington\"]], \"hoverlabel\": {\"namelength\": 0}, \"hovertemplate\": \"State =%{customdata[3]}<br>Mean growth over 14d compared to max growth =%{x}<br>% cases from last 14d =%{y}<br>Deaths=%{customdata[2]}<br>Deaths today =%{customdata[0]}<br>Date=%{customdata[1]}\", \"legendgroup\": \"Washington\", \"marker\": {\"color\": \"#ab63fa\", \"size\": [23.0, 24.0, 31.0, 37.0, 39.0, 40.0, 48.0, 55.0, 67.0, 73.0, 83.0, 94.0, 97.0, 109.0, 116.0, 133.0, 150.0, 157.0, 188.0, 198.0, 205.0, 225.0, 234.0, 271.0, 291.0, 315.0, 336.0, 381.0, 400.0, 426.0, 456.0, 483.0, 495.0, 506.0, 513.0, 530.0, 552.0, 579.0, 603.0, 613.0, 636.0, 643.0, 664.0, 686.0, 711.0, 722.0, 737.0, 749.0], \"sizemode\": \"area\", \"sizeref\": 55.6725, \"symbol\": \"circle\"}, \"mode\": \"lines+markers\", \"name\": \"Washington\", \"showlegend\": true, \"type\": \"scattergl\", \"x\": [4.4, 4.6, 6.0, 7.1, 7.3, 7.5, 8.1, 9.3, 11.0, 12.0, 13.5, 15.1, 15.3, 17.4, 18.0, 21.0, 23.0, 23.2, 28.8, 30.5, 30.3, 32.8, 32.2, 38.2, 40.2, 42.7, 46.1, 52.5, 54.8, 56.6, 59.1, 62.9, 59.3, 59.5, 59.5, 58.9, 61.4, 59.5, 60.2, 57.5, 57.9, 50.6, 51.0, 50.2, 49.2, 46.1, 46.7, 46.9], \"xaxis\": \"x\", \"y\": [100.0, 100.0, 100.0, 100.0, 97.4, 97.5, 87.5, 87.3, 85.1, 84.9, 84.3, 83.0, 81.4, 82.6, 80.2, 82.0, 79.3, 76.4, 79.3, 79.8, 76.6, 75.6, 71.4, 73.1, 71.5, 70.2, 71.1, 71.4, 71.0, 68.8, 67.1, 67.5, 62.0, 60.9, 60.0, 57.5, 57.6, 53.2, 51.7, 48.6, 47.2, 40.7, 39.8, 37.9, 35.9, 33.1, 32.8, 32.4], \"yaxis\": \"y\"}, {\"customdata\": [[6.0, \"4/20/20\", 24.0, \"West Virginia\"], [2.0, \"4/21/20\", 26.0, \"West Virginia\"], [1.0, \"4/22/20\", 27.0, \"West Virginia\"], [4.0, \"4/23/20\", 31.0, \"West Virginia\"], [1.0, \"4/24/20\", 32.0, \"West Virginia\"], [0.0, \"4/25/20\", 32.0, \"West Virginia\"], [2.0, \"4/26/20\", 34.0, \"West Virginia\"]], \"hoverlabel\": {\"namelength\": 0}, \"hovertemplate\": \"State =%{customdata[3]}<br>Mean growth over 14d compared to max growth =%{x}<br>% cases from last 14d =%{y}<br>Deaths=%{customdata[2]}<br>Deaths today =%{customdata[0]}<br>Date=%{customdata[1]}\", \"legendgroup\": \"West Virginia\", \"marker\": {\"color\": \"#FFA15A\", \"size\": [24.0, 26.0, 27.0, 31.0, 32.0, 32.0, 34.0], \"sizemode\": \"area\", \"sizeref\": 55.6725, \"symbol\": \"circle\"}, \"mode\": \"lines+markers\", \"name\": \"West Virginia\", \"showlegend\": true, \"type\": \"scattergl\", \"x\": [35.7, 39.3, 41.1, 46.4, 48.2, 48.2, 50.0], \"xaxis\": \"x\", \"y\": [83.3, 84.6, 85.2, 83.9, 84.4, 84.4, 82.4], \"yaxis\": \"y\"}, {\"customdata\": [[2.0, \"3/30/20\", 20.0, \"Wisconsin\"], [5.0, \"3/31/20\", 25.0, \"Wisconsin\"], [2.0, \"4/1/20\", 27.0, \"Wisconsin\"], [11.0, \"4/2/20\", 38.0, \"Wisconsin\"], [13.0, \"4/3/20\", 51.0, \"Wisconsin\"], [3.0, \"4/4/20\", 54.0, \"Wisconsin\"], [20.0, \"4/5/20\", 74.0, \"Wisconsin\"], [4.0, \"4/6/20\", 78.0, \"Wisconsin\"], [14.0, \"4/7/20\", 92.0, \"Wisconsin\"], [8.0, \"4/8/20\", 100.0, \"Wisconsin\"], [11.0, \"4/9/20\", 111.0, \"Wisconsin\"], [17.0, \"4/10/20\", 128.0, \"Wisconsin\"], [9.0, \"4/11/20\", 137.0, \"Wisconsin\"], [7.0, \"4/12/20\", 144.0, \"Wisconsin\"], [10.0, \"4/13/20\", 154.0, \"Wisconsin\"], [16.0, \"4/14/20\", 170.0, \"Wisconsin\"], [13.0, \"4/15/20\", 183.0, \"Wisconsin\"], [14.0, \"4/16/20\", 197.0, \"Wisconsin\"], [9.0, \"4/17/20\", 206.0, \"Wisconsin\"], [6.0, \"4/18/20\", 212.0, \"Wisconsin\"], [8.0, \"4/19/20\", 220.0, \"Wisconsin\"], [10.0, \"4/20/20\", 230.0, \"Wisconsin\"], [14.0, \"4/21/20\", 244.0, \"Wisconsin\"], [4.0, \"4/22/20\", 248.0, \"Wisconsin\"], [10.0, \"4/23/20\", 258.0, \"Wisconsin\"], [5.0, \"4/24/20\", 263.0, \"Wisconsin\"], [3.0, \"4/25/20\", 266.0, \"Wisconsin\"], [6.0, \"4/26/20\", 272.0, \"Wisconsin\"]], \"hoverlabel\": {\"namelength\": 0}, \"hovertemplate\": \"State =%{customdata[3]}<br>Mean growth over 14d compared to max growth =%{x}<br>% cases from last 14d =%{y}<br>Deaths=%{customdata[2]}<br>Deaths today =%{customdata[0]}<br>Date=%{customdata[1]}\", \"legendgroup\": \"Wisconsin\", \"marker\": {\"color\": \"#19d3f3\", \"size\": [20.0, 25.0, 27.0, 38.0, 51.0, 54.0, 74.0, 78.0, 92.0, 100.0, 111.0, 128.0, 137.0, 144.0, 154.0, 170.0, 183.0, 197.0, 206.0, 212.0, 220.0, 230.0, 244.0, 248.0, 258.0, 263.0, 266.0, 272.0], \"sizemode\": \"area\", \"sizeref\": 55.6725, \"symbol\": \"circle\"}, \"mode\": \"lines+markers\", \"name\": \"Wisconsin\", \"showlegend\": true, \"type\": \"scattergl\", \"x\": [8.4, 10.5, 11.3, 14.3, 20.2, 21.0, 29.4, 30.7, 36.6, 39.1, 42.4, 47.9, 50.4, 52.9, 56.3, 60.9, 65.5, 66.8, 65.1, 66.4, 61.3, 63.9, 63.9, 62.2, 61.8, 56.7, 54.2, 53.8], \"xaxis\": \"x\", \"y\": [100.0, 100.0, 100.0, 89.5, 94.1, 92.6, 94.6, 93.6, 94.6, 93.0, 91.0, 89.1, 87.6, 87.5, 87.0, 85.3, 85.2, 80.7, 75.2, 74.5, 66.4, 66.1, 62.3, 59.7, 57.0, 51.3, 48.5, 47.1], \"yaxis\": \"y\"}],\n",
       "                        {\"legend\": {\"itemsizing\": \"constant\", \"title\": {\"text\": \"State \"}, \"tracegroupgap\": 0}, \"template\": {\"data\": {\"bar\": [{\"error_x\": {\"color\": \"#2a3f5f\"}, \"error_y\": {\"color\": \"#2a3f5f\"}, \"marker\": {\"line\": {\"color\": \"#E5ECF6\", \"width\": 0.5}}, \"type\": \"bar\"}], \"barpolar\": [{\"marker\": {\"line\": {\"color\": \"#E5ECF6\", \"width\": 0.5}}, \"type\": \"barpolar\"}], \"carpet\": [{\"aaxis\": {\"endlinecolor\": \"#2a3f5f\", \"gridcolor\": \"white\", \"linecolor\": \"white\", \"minorgridcolor\": \"white\", \"startlinecolor\": \"#2a3f5f\"}, \"baxis\": {\"endlinecolor\": \"#2a3f5f\", \"gridcolor\": \"white\", \"linecolor\": \"white\", \"minorgridcolor\": \"white\", \"startlinecolor\": \"#2a3f5f\"}, \"type\": \"carpet\"}], \"choropleth\": [{\"colorbar\": {\"outlinewidth\": 0, \"ticks\": \"\"}, \"type\": \"choropleth\"}], \"contour\": [{\"colorbar\": {\"outlinewidth\": 0, \"ticks\": \"\"}, \"colorscale\": [[0.0, \"#0d0887\"], [0.1111111111111111, \"#46039f\"], [0.2222222222222222, \"#7201a8\"], [0.3333333333333333, \"#9c179e\"], [0.4444444444444444, \"#bd3786\"], [0.5555555555555556, \"#d8576b\"], [0.6666666666666666, \"#ed7953\"], [0.7777777777777778, \"#fb9f3a\"], [0.8888888888888888, \"#fdca26\"], [1.0, \"#f0f921\"]], \"type\": \"contour\"}], \"contourcarpet\": [{\"colorbar\": {\"outlinewidth\": 0, \"ticks\": \"\"}, \"type\": \"contourcarpet\"}], \"heatmap\": [{\"colorbar\": {\"outlinewidth\": 0, \"ticks\": \"\"}, \"colorscale\": [[0.0, \"#0d0887\"], [0.1111111111111111, \"#46039f\"], [0.2222222222222222, \"#7201a8\"], [0.3333333333333333, \"#9c179e\"], [0.4444444444444444, \"#bd3786\"], [0.5555555555555556, \"#d8576b\"], [0.6666666666666666, \"#ed7953\"], [0.7777777777777778, \"#fb9f3a\"], [0.8888888888888888, \"#fdca26\"], [1.0, \"#f0f921\"]], \"type\": \"heatmap\"}], \"heatmapgl\": [{\"colorbar\": {\"outlinewidth\": 0, \"ticks\": \"\"}, \"colorscale\": [[0.0, \"#0d0887\"], [0.1111111111111111, \"#46039f\"], [0.2222222222222222, \"#7201a8\"], [0.3333333333333333, \"#9c179e\"], [0.4444444444444444, \"#bd3786\"], [0.5555555555555556, \"#d8576b\"], [0.6666666666666666, \"#ed7953\"], [0.7777777777777778, \"#fb9f3a\"], [0.8888888888888888, \"#fdca26\"], [1.0, \"#f0f921\"]], \"type\": \"heatmapgl\"}], \"histogram\": [{\"marker\": {\"colorbar\": {\"outlinewidth\": 0, \"ticks\": \"\"}}, \"type\": \"histogram\"}], \"histogram2d\": [{\"colorbar\": {\"outlinewidth\": 0, \"ticks\": \"\"}, \"colorscale\": [[0.0, \"#0d0887\"], [0.1111111111111111, \"#46039f\"], [0.2222222222222222, \"#7201a8\"], [0.3333333333333333, \"#9c179e\"], [0.4444444444444444, \"#bd3786\"], [0.5555555555555556, \"#d8576b\"], [0.6666666666666666, \"#ed7953\"], [0.7777777777777778, \"#fb9f3a\"], [0.8888888888888888, \"#fdca26\"], [1.0, \"#f0f921\"]], \"type\": \"histogram2d\"}], \"histogram2dcontour\": [{\"colorbar\": {\"outlinewidth\": 0, \"ticks\": \"\"}, \"colorscale\": [[0.0, \"#0d0887\"], [0.1111111111111111, \"#46039f\"], [0.2222222222222222, \"#7201a8\"], [0.3333333333333333, \"#9c179e\"], [0.4444444444444444, \"#bd3786\"], [0.5555555555555556, \"#d8576b\"], [0.6666666666666666, \"#ed7953\"], [0.7777777777777778, \"#fb9f3a\"], [0.8888888888888888, \"#fdca26\"], [1.0, \"#f0f921\"]], \"type\": \"histogram2dcontour\"}], \"mesh3d\": [{\"colorbar\": {\"outlinewidth\": 0, \"ticks\": \"\"}, \"type\": \"mesh3d\"}], \"parcoords\": [{\"line\": {\"colorbar\": {\"outlinewidth\": 0, \"ticks\": \"\"}}, \"type\": \"parcoords\"}], \"pie\": [{\"automargin\": true, \"type\": \"pie\"}], \"scatter\": [{\"marker\": {\"colorbar\": {\"outlinewidth\": 0, \"ticks\": \"\"}}, \"type\": \"scatter\"}], \"scatter3d\": [{\"line\": {\"colorbar\": {\"outlinewidth\": 0, \"ticks\": \"\"}}, \"marker\": {\"colorbar\": {\"outlinewidth\": 0, \"ticks\": \"\"}}, \"type\": \"scatter3d\"}], \"scattercarpet\": [{\"marker\": {\"colorbar\": {\"outlinewidth\": 0, \"ticks\": \"\"}}, \"type\": \"scattercarpet\"}], \"scattergeo\": [{\"marker\": {\"colorbar\": {\"outlinewidth\": 0, \"ticks\": \"\"}}, \"type\": \"scattergeo\"}], \"scattergl\": [{\"marker\": {\"colorbar\": {\"outlinewidth\": 0, \"ticks\": \"\"}}, \"type\": \"scattergl\"}], \"scattermapbox\": [{\"marker\": {\"colorbar\": {\"outlinewidth\": 0, \"ticks\": \"\"}}, \"type\": \"scattermapbox\"}], \"scatterpolar\": [{\"marker\": {\"colorbar\": {\"outlinewidth\": 0, \"ticks\": \"\"}}, \"type\": \"scatterpolar\"}], \"scatterpolargl\": [{\"marker\": {\"colorbar\": {\"outlinewidth\": 0, \"ticks\": \"\"}}, \"type\": \"scatterpolargl\"}], \"scatterternary\": [{\"marker\": {\"colorbar\": {\"outlinewidth\": 0, \"ticks\": \"\"}}, \"type\": \"scatterternary\"}], \"surface\": [{\"colorbar\": {\"outlinewidth\": 0, \"ticks\": \"\"}, \"colorscale\": [[0.0, \"#0d0887\"], [0.1111111111111111, \"#46039f\"], [0.2222222222222222, \"#7201a8\"], [0.3333333333333333, \"#9c179e\"], [0.4444444444444444, \"#bd3786\"], [0.5555555555555556, \"#d8576b\"], [0.6666666666666666, \"#ed7953\"], [0.7777777777777778, \"#fb9f3a\"], [0.8888888888888888, \"#fdca26\"], [1.0, \"#f0f921\"]], \"type\": \"surface\"}], \"table\": [{\"cells\": {\"fill\": {\"color\": \"#EBF0F8\"}, \"line\": {\"color\": \"white\"}}, \"header\": {\"fill\": {\"color\": \"#C8D4E3\"}, \"line\": {\"color\": \"white\"}}, \"type\": \"table\"}]}, \"layout\": {\"annotationdefaults\": {\"arrowcolor\": \"#2a3f5f\", \"arrowhead\": 0, \"arrowwidth\": 1}, \"coloraxis\": {\"colorbar\": {\"outlinewidth\": 0, \"ticks\": \"\"}}, \"colorscale\": {\"diverging\": [[0, \"#8e0152\"], [0.1, \"#c51b7d\"], [0.2, \"#de77ae\"], [0.3, \"#f1b6da\"], [0.4, \"#fde0ef\"], [0.5, \"#f7f7f7\"], [0.6, \"#e6f5d0\"], [0.7, \"#b8e186\"], [0.8, \"#7fbc41\"], [0.9, \"#4d9221\"], [1, \"#276419\"]], \"sequential\": [[0.0, \"#0d0887\"], [0.1111111111111111, \"#46039f\"], [0.2222222222222222, \"#7201a8\"], [0.3333333333333333, \"#9c179e\"], [0.4444444444444444, \"#bd3786\"], [0.5555555555555556, \"#d8576b\"], [0.6666666666666666, \"#ed7953\"], [0.7777777777777778, \"#fb9f3a\"], [0.8888888888888888, \"#fdca26\"], [1.0, \"#f0f921\"]], \"sequentialminus\": [[0.0, \"#0d0887\"], [0.1111111111111111, \"#46039f\"], [0.2222222222222222, \"#7201a8\"], [0.3333333333333333, \"#9c179e\"], [0.4444444444444444, \"#bd3786\"], [0.5555555555555556, \"#d8576b\"], [0.6666666666666666, \"#ed7953\"], [0.7777777777777778, \"#fb9f3a\"], [0.8888888888888888, \"#fdca26\"], [1.0, \"#f0f921\"]]}, \"colorway\": [\"#636efa\", \"#EF553B\", \"#00cc96\", \"#ab63fa\", \"#FFA15A\", \"#19d3f3\", \"#FF6692\", \"#B6E880\", \"#FF97FF\", \"#FECB52\"], \"font\": {\"color\": \"#2a3f5f\"}, \"geo\": {\"bgcolor\": \"white\", \"lakecolor\": \"white\", \"landcolor\": \"#E5ECF6\", \"showlakes\": true, \"showland\": true, \"subunitcolor\": \"white\"}, \"hoverlabel\": {\"align\": \"left\"}, \"hovermode\": \"closest\", \"mapbox\": {\"style\": \"light\"}, \"paper_bgcolor\": \"white\", \"plot_bgcolor\": \"#E5ECF6\", \"polar\": {\"angularaxis\": {\"gridcolor\": \"white\", \"linecolor\": \"white\", \"ticks\": \"\"}, \"bgcolor\": \"#E5ECF6\", \"radialaxis\": {\"gridcolor\": \"white\", \"linecolor\": \"white\", \"ticks\": \"\"}}, \"scene\": {\"xaxis\": {\"backgroundcolor\": \"#E5ECF6\", \"gridcolor\": \"white\", \"gridwidth\": 2, \"linecolor\": \"white\", \"showbackground\": true, \"ticks\": \"\", \"zerolinecolor\": \"white\"}, \"yaxis\": {\"backgroundcolor\": \"#E5ECF6\", \"gridcolor\": \"white\", \"gridwidth\": 2, \"linecolor\": \"white\", \"showbackground\": true, \"ticks\": \"\", \"zerolinecolor\": \"white\"}, \"zaxis\": {\"backgroundcolor\": \"#E5ECF6\", \"gridcolor\": \"white\", \"gridwidth\": 2, \"linecolor\": \"white\", \"showbackground\": true, \"ticks\": \"\", \"zerolinecolor\": \"white\"}}, \"shapedefaults\": {\"line\": {\"color\": \"#2a3f5f\"}}, \"ternary\": {\"aaxis\": {\"gridcolor\": \"white\", \"linecolor\": \"white\", \"ticks\": \"\"}, \"baxis\": {\"gridcolor\": \"white\", \"linecolor\": \"white\", \"ticks\": \"\"}, \"bgcolor\": \"#E5ECF6\", \"caxis\": {\"gridcolor\": \"white\", \"linecolor\": \"white\", \"ticks\": \"\"}}, \"title\": {\"x\": 0.05}, \"xaxis\": {\"automargin\": true, \"gridcolor\": \"white\", \"linecolor\": \"white\", \"ticks\": \"\", \"title\": {\"standoff\": 15}, \"zerolinecolor\": \"white\", \"zerolinewidth\": 2}, \"yaxis\": {\"automargin\": true, \"gridcolor\": \"white\", \"linecolor\": \"white\", \"ticks\": \"\", \"title\": {\"standoff\": 15}, \"zerolinecolor\": \"white\", \"zerolinewidth\": 2}}}, \"title\": {\"text\": \"Deaths - US\"}, \"xaxis\": {\"anchor\": \"y\", \"domain\": [0.0, 1.0], \"rangemode\": \"tozero\", \"title\": {\"text\": \"Mean Daily Growth over 14 previous days compared to Max Daily Growth (%)\"}}, \"yaxis\": {\"anchor\": \"x\", \"domain\": [0.0, 1.0], \"rangemode\": \"tozero\", \"title\": {\"text\": \"Percentage of Total occuring in the last 14 days (%)\"}}},\n",
       "                        {\"responsive\": true}\n",
       "                    ).then(function(){\n",
       "                            \n",
       "var gd = document.getElementById('3f7d20d9-c9d7-4bed-a4ab-f986fc30840b');\n",
       "var x = new MutationObserver(function (mutations, observer) {{\n",
       "        var display = window.getComputedStyle(gd).display;\n",
       "        if (!display || display === 'none') {{\n",
       "            console.log([gd, 'removed!']);\n",
       "            Plotly.purge(gd);\n",
       "            observer.disconnect();\n",
       "        }}\n",
       "}});\n",
       "\n",
       "// Listen for the removal of the full notebook cells\n",
       "var notebookContainer = gd.closest('#notebook-container');\n",
       "if (notebookContainer) {{\n",
       "    x.observe(notebookContainer, {childList: true});\n",
       "}}\n",
       "\n",
       "// Listen for the clearing of the current output cell\n",
       "var outputEl = gd.closest('.output');\n",
       "if (outputEl) {{\n",
       "    x.observe(outputEl, {childList: true});\n",
       "}}\n",
       "\n",
       "                        })\n",
       "                };\n",
       "                });\n",
       "            </script>\n",
       "        </div>"
      ]
     },
     "metadata": {},
     "output_type": "display_data"
    }
   ],
   "source": [
    "if cases_us.value == 'Confirmed Cases':\n",
    "    daily_cases_US_2 = plot_phase_space_US(daily_cases_US, \n",
    "                                           title = cases_us.value, time_window=int(tw_us.value), \n",
    "                                     \n",
    "                                           n_cases = min_us.value, state=st_us.value)\n",
    "elif cases_us.value == 'Deaths':\n",
    "    daily_deaths_US_2 = plot_phase_space_US(daily_deaths_US.drop(columns='Population'), \n",
    "                                            title = cases_us.value, time_window=int(tw_us.value), \n",
    "                                            n_cases = min_us.value, state=st_us.value)\n",
    "else:\n",
    "    print('ERROR in dataframe')   \n",
    "    \n"
   ]
  },
  {
   "cell_type": "code",
   "execution_count": 19,
   "metadata": {
    "ExecuteTime": {
     "end_time": "2020-04-27T21:19:47.814037Z",
     "start_time": "2020-04-27T21:19:47.811373Z"
    }
   },
   "outputs": [],
   "source": [
    "# if cases_us.value == 'Confirmed Cases':\n",
    "#     df_test = daily_cases_US_2\n",
    "# elif cases_us.value == 'Deaths':\n",
    "#     df_test = daily_deaths_US_2\n",
    "\n",
    "# fig, ax = plt.subplots(figsize=(10,10))\n",
    "\n",
    "\n",
    "# sns.lineplot(x=\"Days\", y=\"DailyGrowth\",\n",
    "#              hue=\"Province_State\", \n",
    "#              data=df_test)\n",
    "\n",
    "# #ax.set_yscale('log')"
   ]
  },
  {
   "cell_type": "markdown",
   "metadata": {},
   "source": [
    "# Model SIR"
   ]
  },
  {
   "cell_type": "code",
   "execution_count": 20,
   "metadata": {
    "ExecuteTime": {
     "end_time": "2020-04-27T21:19:47.823123Z",
     "start_time": "2020-04-27T21:19:47.817373Z"
    }
   },
   "outputs": [],
   "source": [
    "import numpy as np\n",
    "from scipy.integrate import odeint\n",
    "import matplotlib.pyplot as plt\n",
    "\n",
    "# Total population, N.\n",
    "N = 1000\n",
    "# Initial number of infected and recovered individuals, I0 and R0.\n",
    "I0, R0 = 1, 0\n",
    "# Everyone else, S0, is susceptible to infection initially.\n",
    "S0 = N - I0 - R0\n",
    "# Contact rate, beta, and mean recovery rate, gamma, (in 1/days).\n",
    "beta, gamma = 0.2, 1./10 \n",
    "# A grid of time points (in days)\n",
    "t = np.linspace(0, 160, 160)"
   ]
  },
  {
   "cell_type": "code",
   "execution_count": 21,
   "metadata": {
    "ExecuteTime": {
     "end_time": "2020-04-27T21:19:47.834621Z",
     "start_time": "2020-04-27T21:19:47.825178Z"
    }
   },
   "outputs": [],
   "source": [
    "# The SIR model differential equations.\n",
    "def deriv(y, t, N, beta, gamma):\n",
    "    S, I, R = y\n",
    "    dSdt = -beta * S * I / N\n",
    "    dIdt = beta * S * I / N - gamma * I\n",
    "    dRdt = gamma * I\n",
    "    return dSdt, dIdt, dRdt\n",
    "\n",
    "# Initial conditions vector\n",
    "y0 = S0, I0, R0\n",
    "# Integrate the SIR equations over the time grid, t.\n",
    "ret = odeint(deriv, y0, t, args=(N, beta, gamma))\n",
    "S, I, R = ret.T"
   ]
  },
  {
   "cell_type": "code",
   "execution_count": 22,
   "metadata": {
    "ExecuteTime": {
     "end_time": "2020-04-27T21:19:48.128629Z",
     "start_time": "2020-04-27T21:19:47.837395Z"
    }
   },
   "outputs": [
    {
     "data": {
      "image/png": "[encoded data removed]",
      "text/plain": [
       "<Figure size 432x288 with 1 Axes>"
      ]
     },
     "metadata": {},
     "output_type": "display_data"
    }
   ],
   "source": [
    "# Plot the data on three separate curves for S(t), I(t) and R(t)\n",
    "fig = plt.figure(facecolor='w')\n",
    "ax = fig.add_subplot(111,  axisbelow=True)\n",
    "ax.plot(t, S/1000, 'b', alpha=0.5, lw=2, label='Susceptible')\n",
    "ax.plot(t, I/1000, 'r', alpha=0.5, lw=2, label='Infected')\n",
    "ax.plot(t, R/1000, 'g', alpha=0.5, lw=2, label='Recovered with immunity')\n",
    "ax.set_xlabel('Time /days')\n",
    "ax.set_ylabel('Number (1000s)')\n",
    "ax.set_ylim(0,1.2)\n",
    "ax.yaxis.set_tick_params(length=0)\n",
    "ax.xaxis.set_tick_params(length=0)\n",
    "ax.grid(b=True, which='major', c='w', lw=2, ls='-')\n",
    "legend = ax.legend()\n",
    "legend.get_frame().set_alpha(0.5)\n",
    "for spine in ('top', 'right', 'bottom', 'left'):\n",
    "    ax.spines[spine].set_visible(False)\n",
    "plt.show()"
   ]
  },
  {
   "cell_type": "code",
   "execution_count": null,
   "metadata": {},
   "outputs": [],
   "source": []
  },
  {
   "cell_type": "code",
   "execution_count": null,
   "metadata": {},
   "outputs": [],
   "source": []
  }
 ],
 "metadata": {
  "kernelspec": {
   "display_name": "Python 3",
   "language": "python",
   "name": "python3"
  },
  "language_info": {
   "codemirror_mode": {
    "name": "ipython",
    "version": 3
   },
   "file_extension": ".py",
   "mimetype": "text/x-python",
   "name": "python",
   "nbconvert_exporter": "python",
   "pygments_lexer": "ipython3",
   "version": "3.7.6"
  },
  "toc": {
   "base_numbering": 1,
   "nav_menu": {},
   "number_sections": true,
   "sideBar": true,
   "skip_h1_title": false,
   "title_cell": "Table of Contents",
   "title_sidebar": "Contents",
   "toc_cell": true,
   "toc_position": {
    "height": "calc(100% - 180px)",
    "left": "10px",
    "top": "150px",
    "width": "307.656px"
   },
   "toc_section_display": true,
   "toc_window_display": true
  }
 },
 "nbformat": 4,
 "nbformat_minor": 4
}
