{
 "cells": [
  {
   "cell_type": "markdown",
   "metadata": {
    "toc": true
   },
   "source": [
    "<h1>Table of Contents<span class=\"tocSkip\"></span></h1>\n",
    "<div class=\"toc\"><ul class=\"toc-item\"><li><span><a href=\"#Standard\" data-toc-modified-id=\"Standard-1\"><span class=\"toc-item-num\">1&nbsp;&nbsp;</span>Standard</a></span></li><li><span><a href=\"#Date\" data-toc-modified-id=\"Date-2\"><span class=\"toc-item-num\">2&nbsp;&nbsp;</span>Date</a></span></li><li><span><a href=\"#Functions\" data-toc-modified-id=\"Functions-3\"><span class=\"toc-item-num\">3&nbsp;&nbsp;</span>Functions</a></span><ul class=\"toc-item\"><li><span><a href=\"#Phase-space\" data-toc-modified-id=\"Phase-space-3.1\"><span class=\"toc-item-num\">3.1&nbsp;&nbsp;</span>Phase space</a></span></li><li><span><a href=\"#World-plot\" data-toc-modified-id=\"World-plot-3.2\"><span class=\"toc-item-num\">3.2&nbsp;&nbsp;</span>World plot</a></span></li><li><span><a href=\"#US-plot\" data-toc-modified-id=\"US-plot-3.3\"><span class=\"toc-item-num\">3.3&nbsp;&nbsp;</span>US plot</a></span></li></ul></li><li><span><a href=\"#Data\" data-toc-modified-id=\"Data-4\"><span class=\"toc-item-num\">4&nbsp;&nbsp;</span>Data</a></span><ul class=\"toc-item\"><li><span><a href=\"#World\" data-toc-modified-id=\"World-4.1\"><span class=\"toc-item-num\">4.1&nbsp;&nbsp;</span>World</a></span><ul class=\"toc-item\"><li><span><a href=\"#Reading-data\" data-toc-modified-id=\"Reading-data-4.1.1\"><span class=\"toc-item-num\">4.1.1&nbsp;&nbsp;</span>Reading data</a></span></li><li><span><a href=\"#Widgets\" data-toc-modified-id=\"Widgets-4.1.2\"><span class=\"toc-item-num\">4.1.2&nbsp;&nbsp;</span>Widgets</a></span></li><li><span><a href=\"#Plot\" data-toc-modified-id=\"Plot-4.1.3\"><span class=\"toc-item-num\">4.1.3&nbsp;&nbsp;</span>Plot</a></span></li></ul></li><li><span><a href=\"#US\" data-toc-modified-id=\"US-4.2\"><span class=\"toc-item-num\">4.2&nbsp;&nbsp;</span>US</a></span><ul class=\"toc-item\"><li><span><a href=\"#Reading-data\" data-toc-modified-id=\"Reading-data-4.2.1\"><span class=\"toc-item-num\">4.2.1&nbsp;&nbsp;</span>Reading data</a></span></li><li><span><a href=\"#Widgets\" data-toc-modified-id=\"Widgets-4.2.2\"><span class=\"toc-item-num\">4.2.2&nbsp;&nbsp;</span>Widgets</a></span></li><li><span><a href=\"#Plot\" data-toc-modified-id=\"Plot-4.2.3\"><span class=\"toc-item-num\">4.2.3&nbsp;&nbsp;</span>Plot</a></span></li></ul></li></ul></li><li><span><a href=\"#Model-SIR\" data-toc-modified-id=\"Model-SIR-5\"><span class=\"toc-item-num\">5&nbsp;&nbsp;</span>Model SIR</a></span></li></ul></div>"
   ]
  },
  {
   "cell_type": "code",
   "execution_count": 1,
   "metadata": {
    "ExecuteTime": {
     "end_time": "2020-04-21T01:14:11.785935Z",
     "start_time": "2020-04-21T01:14:11.323712Z"
    }
   },
   "outputs": [],
   "source": [
    "%matplotlib inline\n",
    "user = 'UF'"
   ]
  },
  {
   "cell_type": "markdown",
   "metadata": {},
   "source": [
    "# Standard "
   ]
  },
  {
   "cell_type": "code",
   "execution_count": 2,
   "metadata": {
    "ExecuteTime": {
     "end_time": "2020-04-21T01:14:14.670376Z",
     "start_time": "2020-04-21T01:14:12.477046Z"
    }
   },
   "outputs": [
    {
     "name": "stdout",
     "output_type": "stream",
     "text": [
      "200420\n"
     ]
    },
    {
     "data": {
      "text/html": [
       "<style>.container { width:70% !important; }</style>"
      ],
      "text/plain": [
       "<IPython.core.display.HTML object>"
      ]
     },
     "execution_count": 2,
     "metadata": {},
     "output_type": "execute_result"
    }
   ],
   "source": [
    "import datetime as dt\n",
    "import pandas as pd\n",
    "import sys\n",
    "import csv\n",
    "import geopandas as gpd\n",
    "import glob\n",
    "import ipywidgets #as widgets\n",
    "import itertools\n",
    "import math\n",
    "import numpy as np\n",
    "import matplotlib.pyplot as plt\n",
    "import seaborn as sns\n",
    "import socket\n",
    "\n",
    "from matplotlib import *\n",
    "from matplotlib.dates import YearLocator, MonthLocator, DateFormatter\n",
    "from matplotlib.dates import *\n",
    "from numpy.random import randn\n",
    "import statsmodels.api as sm\n",
    "\n",
    "from ipywidgets import interact, interactive, fixed, interact_manual, Layout\n",
    "import ipywidgets as widgets\n",
    "\n",
    "import plotly.express as px\n",
    "import plotly.graph_objects as go\n",
    "from plotly.offline import download_plotlyjs, init_notebook_mode, plot, iplot\n",
    "#init_notebook_mode(connected=True)\n",
    "\n",
    "\n",
    "sns.set()\n",
    "\n",
    "import warnings\n",
    "warnings.filterwarnings('ignore')\n",
    "\n",
    "today = dt.datetime.today().strftime(\"%y%m%d\")\n",
    "print(today)\n",
    "\n",
    "from IPython.core.display import HTML\n",
    "HTML(\"<style>.container { width:70% !important; }</style>\")"
   ]
  },
  {
   "cell_type": "code",
   "execution_count": 3,
   "metadata": {
    "ExecuteTime": {
     "end_time": "2020-04-21T01:14:14.736565Z",
     "start_time": "2020-04-21T01:14:14.672812Z"
    }
   },
   "outputs": [
    {
     "name": "stdout",
     "output_type": "stream",
     "text": [
      "UF\n",
      "urbanos-macbook-pro.local\n",
      "Running on the laptop\n",
      "/Users/ufranca/Documents/Data/ /Users/ufranca/Documents/Data/new_datasets/\n",
      "Running on the laptop\n",
      "Running on the laptop\n",
      "\n",
      " /Volumes/Bell/Data/ \n",
      " /Volumes/Bell/Data/ \n",
      " /Users/ufranca/Documents/Dropbox/projects_coding/data_tools/\n"
     ]
    }
   ],
   "source": [
    "if user == 'UF':\n",
    "    print(user)\n",
    "    print(socket.gethostname().lower())\n",
    "\n",
    "    #laptop\n",
    "    if socket.gethostname().lower().startswith('osxlap01664'):#.tch.harvard.edu':\n",
    "        print('Running on the laptop')\n",
    "        address = \"/Users/ufranca/Documents/Data/\"\n",
    "        addressdata = \"/Users/ufranca/Documents/Data/new_datasets/\"\n",
    "        data_tools = \"/Users/ufranca/Documents/Dropbox/projects_coding/data_tools/\"\n",
    "        sys.path.insert(0, '/Users/ufranca/Documents/Dropbox/projects_coding/functions')\n",
    "\n",
    "    elif socket.gethostname().lower().startswith('urbano'):#.tch.harvard.edu':\n",
    "        print('Running on the laptop')\n",
    "    #     address = \"/Users/urbanofranca/Documents/Datasets/\"\n",
    "    #     addressdata = \"/Users/urbanofranca/Documents/Datasets/\"\n",
    "        address = \"/Users/ufranca/Documents/Data/\"\n",
    "        addressdata = \"/Users/ufranca/Documents/Data/new_datasets/\"\n",
    "        data_tools = \"/Users/ufranca/Documents/Dropbox/projects_coding/data_tools/\"\n",
    "        sys.path.insert(0, '/Users/ufranca/Documents/Dropbox/projects_coding/functions')\n",
    "\n",
    "    elif socket.gethostname().lower().startswith('vpn'):#.tch.harvard.edu':\n",
    "        print('Running on the laptop')\n",
    "    #     address = \"/Users/urbanofranca/Documents/Datasets/\"\n",
    "    #     addressdata = \"/Users/urbanofranca/Documents/Datasets/\"\n",
    "        address = \"/Users/ufranca/Documents/Data/\"\n",
    "        addressdata = \"/Users/ufranca/Documents/Data/new_datasets/\"\n",
    "        data_tools = \"/Users/ufranca/Documents/Dropbox/projects_coding/data_tools/\"\n",
    "        sys.path.insert(0, '/Users/ufranca/Documents/Dropbox/projects_coding/functions')\n",
    "\n",
    "        \n",
    "    else:\n",
    "        print('No known computer')\n",
    "\n",
    "    print(address, addressdata)\n",
    "    \n",
    "    \n",
    "    ######################################################\n",
    "    ## it needs to be here to find the right dropbox -> fix this later?\n",
    "    \n",
    "    import functionsuf as fuf\n",
    "    import hospitals as hosp\n",
    "    \n",
    "    external_disk = 'T'\n",
    "\n",
    "    if (external_disk == 'T'):\n",
    "        address = \"/Volumes/Bell/Data/\"\n",
    "        addressdata = \"/Volumes/Bell/Data/\"\n",
    "    else:\n",
    "        address = address\n",
    "        addressdata = addressdata \n",
    "\n",
    "    print('\\n '+ address, '\\n', addressdata, '\\n', data_tools)\n",
    "\n",
    "elif user =='MM':\n",
    "    ## Here I define \n",
    "    #'addressdata', which is the folder where the data is located\n",
    "    # 'data_tools', which is where the data_tools are located\n",
    "    # 'address' is not used anywhere and mostly deprecated\n",
    "    print(user)\n",
    "    \n",
    "    \n",
    "else:\n",
    "    print(\"Define the paths for `address`, `addressdata`, and `data_tools`\")"
   ]
  },
  {
   "cell_type": "markdown",
   "metadata": {},
   "source": [
    "# Date\n",
    "Date of data downloaded from JHU"
   ]
  },
  {
   "cell_type": "code",
   "execution_count": 4,
   "metadata": {
    "ExecuteTime": {
     "end_time": "2020-04-21T01:14:14.748769Z",
     "start_time": "2020-04-21T01:14:14.745670Z"
    }
   },
   "outputs": [],
   "source": [
    "date2 = '0420'"
   ]
  },
  {
   "cell_type": "markdown",
   "metadata": {},
   "source": [
    "# Functions"
   ]
  },
  {
   "cell_type": "markdown",
   "metadata": {},
   "source": [
    "## Phase space"
   ]
  },
  {
   "cell_type": "code",
   "execution_count": 5,
   "metadata": {
    "ExecuteTime": {
     "end_time": "2020-04-21T01:14:16.420657Z",
     "start_time": "2020-04-21T01:14:16.410314Z"
    }
   },
   "outputs": [],
   "source": [
    "def create_phase_space(df, col=\"Country/Region\", ncases=10, time_window=1):\n",
    "    # melt the dates in the dataset\n",
    "    df_melted = df.melt(id_vars=[col], \n",
    "                        var_name=\"Date\", \n",
    "                        value_name=\"Confirmed\")\n",
    "\n",
    "    # changing column types\n",
    "    df_melted['Confirmed'] = df_melted['Confirmed'].astype(float)\n",
    "    df_melted['DateDT'] = pd.to_datetime(df_melted['Date'])\n",
    "    \n",
    "    \n",
    "    # sorting by col & date\n",
    "    df_melted = df_melted.sort_values([col, 'DateDT'])\n",
    "    \n",
    "    # adding dates \n",
    "    df_melted['Days'] = df_melted.index\n",
    "    \n",
    "    #Daily growth\n",
    "    df_melted['DailyGrowth'] = df_melted['Confirmed'].diff()\n",
    "    #df_melted['DotDailyGrowth'] = df_melted['DailyGrowth'].diff()\n",
    "    \n",
    "    max_daily_growth= df_melted.groupby(col)['DailyGrowth'].nlargest(3).reset_index()\n",
    "    max_daily_growth= max_daily_growth.groupby([col])['DailyGrowth'].median().reset_index()\n",
    "    #print(max_daily_growth)\n",
    "    \n",
    "    max_daily_growth.columns=[col, 'MaxDailyGrowth']\n",
    "\n",
    "    df_melted = df_melted.merge(max_daily_growth, on=col, how='outer')\n",
    "    \n",
    "    \n",
    "    \n",
    "    #\n",
    "    df_melted['DailyGrowth_'+str(time_window)+'d'] = round(100*df_melted['DailyGrowth'].rolling(time_window).sum()/ df_melted['Confirmed'], 1)\n",
    "    df_melted['MeanGrowth_'+str(time_window)+'d'] = round(100*df_melted['DailyGrowth'].rolling(time_window).mean()/df_melted['MaxDailyGrowth'], 1)\n",
    "\n",
    "    # just cleaning values when transitioning from one country to another\n",
    "    df_melted['DailyGrowth_'+str(time_window)+'d'] = np.where(df_melted['DailyGrowth_'+str(time_window)+'d'] >= 0, \n",
    "                                                              df_melted['DailyGrowth_'+str(time_window)+'d'], \n",
    "                                                              0)\n",
    "    df_melted['MeanGrowth_'+str(time_window)+'d'] = np.where(df_melted['MeanGrowth_'+str(time_window)+'d'] >= 0, \n",
    "                                                             df_melted['MeanGrowth_'+str(time_window)+'d'], \n",
    "                                                             0)\n",
    "    \n",
    "    # selecting minimum number of cases\n",
    "    df_melted = df_melted[df_melted['Confirmed'] >= ncases]\n",
    "    \n",
    "    \n",
    "    return df_melted\n",
    "    "
   ]
  },
  {
   "cell_type": "markdown",
   "metadata": {},
   "source": [
    "## World plot"
   ]
  },
  {
   "cell_type": "code",
   "execution_count": 6,
   "metadata": {
    "ExecuteTime": {
     "end_time": "2020-04-21T01:14:17.960352Z",
     "start_time": "2020-04-21T01:14:17.951363Z"
    }
   },
   "outputs": [],
   "source": [
    "def plot_phase_space_world(df, title='Deaths', time_window=1, n_cases= 50, country=['All Countries']):\n",
    "        \n",
    "    if country == ('All Countries',):\n",
    "        print('All Countries')\n",
    "        \n",
    "        #### ADD SUM FOR COUNTRIES\n",
    "        \n",
    "        \n",
    "    else:\n",
    "        df = df[df['Country/Region'].isin(country)]\n",
    "\n",
    "        \n",
    "    df_2 = create_phase_space(df, col='Country/Region', ncases=n_cases, time_window=time_window)\n",
    "    \n",
    "    \n",
    "    print(df_2.columns)\n",
    "    \n",
    "    #df_2['Size'] = df_2['Confirmed']*2\n",
    "    \n",
    "    fig = px.scatter(df_2, \n",
    "                  x='MeanGrowth_'+str(time_window)+'d', \n",
    "                  y='DailyGrowth_'+str(time_window)+'d', \n",
    "                  size='Confirmed',\n",
    "                  color='Country/Region', \n",
    "                  title=title+\" - World\",\n",
    "                  hover_data={'Country/Region',\n",
    "                              'Confirmed',\n",
    "                              'Date',\n",
    "                              'DailyGrowth'\n",
    "                             }, #What will be shown in the hover box (besides location) \n",
    "                  labels={'MeanGrowth_'+str(time_window)+'d':'Mean growth over '+str(time_window)+'d compared to max growth ',\n",
    "                          'DailyGrowth_'+str(time_window)+'d': '% cases from last '+str(time_window)+'d ',\n",
    "                          'Country/Region':'Country ', \n",
    "                          'Confirmed':title, \n",
    "                          'DailyGrowth': title+' today ' \n",
    "                         })\n",
    "\n",
    "\n",
    "    fig.update_traces(mode='lines+markers')\n",
    "    \n",
    "    fig.update_yaxes(title_text='Percentage of Total occuring in the last '+str(time_window)+' days (%)',\n",
    "                     rangemode=\"tozero\")\n",
    "    \n",
    "    fig.update_xaxes(title_text='Mean Daily Growth over '+str(time_window)+' previous days compared to Max Daily Growth (%)',\n",
    "                     rangemode=\"tozero\")\n",
    "\n",
    "    \n",
    "    ## Uncomment to see on a separate webpage page at the folder \"webpage\"\n",
    "    #plot(fig, filename=\"webpage/phase_space_world_\"+title.lower()+\"_\"+date2+\".html\")\n",
    "    \n",
    "\n",
    "    fig.show()\n",
    "    \n",
    "    return df_2"
   ]
  },
  {
   "cell_type": "markdown",
   "metadata": {},
   "source": [
    "## US plot"
   ]
  },
  {
   "cell_type": "code",
   "execution_count": 7,
   "metadata": {
    "ExecuteTime": {
     "end_time": "2020-04-21T01:14:19.049584Z",
     "start_time": "2020-04-21T01:14:19.041979Z"
    }
   },
   "outputs": [],
   "source": [
    "def plot_phase_space_US(df, title='Deaths', time_window=10, n_cases= 50, state=['All States']):\n",
    "        \n",
    "    if state == ('All States',):\n",
    "        print('All states')\n",
    "        \n",
    "        #### ADD SUM FOR STATES\n",
    "\n",
    "        \n",
    "        \n",
    "    else:\n",
    "        df = df[df['Province_State'].isin(state)]\n",
    "\n",
    "        \n",
    "    df_2 = create_phase_space(df, col='Province_State', ncases=n_cases, time_window=time_window)\n",
    "    \n",
    "    \n",
    "    #df_2 = df_2[df_2['MeanGrowth_'+str(time_window)+'d'] > 0]\n",
    "    \n",
    "    \n",
    "    fig = px.scatter(df_2, \n",
    "                  x='MeanGrowth_'+str(time_window)+'d', \n",
    "                  y='DailyGrowth_'+str(time_window)+'d', \n",
    "                  size='Confirmed',\n",
    "                  color='Province_State', \n",
    "                  title=title+\" - US\",\n",
    "                  hover_data={'Province_State',\n",
    "                              'Confirmed', \n",
    "                              'Date',\n",
    "                              'DailyGrowth'\n",
    "                             }, #What will be shown in the hover box (besides location) \n",
    "                  labels={'MeanGrowth_'+str(time_window)+'d':'Mean growth over '+str(time_window)+'d compared to max growth ',\n",
    "                          'DailyGrowth_'+str(time_window)+'d': '% cases from last '+str(time_window)+'d ',\n",
    "                          'Province_State':'State ', \n",
    "                          'Confirmed':title,\n",
    "                          'DailyGrowth': title+' today ' ,\n",
    "                         })\n",
    "\n",
    "    fig.update_traces(mode='lines+markers')\n",
    "    \n",
    "    fig.update_yaxes(title_text='Percentage of Total occuring in the last '+str(time_window)+' days (%)',\n",
    "                     rangemode=\"tozero\")\n",
    "    \n",
    "    fig.update_xaxes(title_text='Mean Daily Growth over '+str(time_window)+' previous days compared to Max Daily Growth (%)', \n",
    "                     rangemode=\"tozero\")\n",
    "    \n",
    "    \n",
    "    # Uncomment to see on a separate webpage page at the folder \"webpage\"\n",
    "    #plot(fig, filename=\"webpage/phase_space_us_\"+title.lower()+\"_\"+date2+\".html\")\n",
    "    \n",
    "    fig.show()\n",
    "    \n",
    "    return df_2"
   ]
  },
  {
   "cell_type": "code",
   "execution_count": null,
   "metadata": {},
   "outputs": [],
   "source": []
  },
  {
   "cell_type": "markdown",
   "metadata": {},
   "source": [
    "# Data"
   ]
  },
  {
   "cell_type": "markdown",
   "metadata": {},
   "source": [
    "## World"
   ]
  },
  {
   "cell_type": "markdown",
   "metadata": {},
   "source": [
    "### Reading data"
   ]
  },
  {
   "cell_type": "code",
   "execution_count": 8,
   "metadata": {
    "ExecuteTime": {
     "end_time": "2020-04-21T01:14:21.645306Z",
     "start_time": "2020-04-21T01:14:21.563440Z"
    }
   },
   "outputs": [],
   "source": [
    "daily_cases_global_all = pd.read_csv(date2+'_COVID-19-master_JHU/csse_covid_19_data/csse_covid_19_time_series/time_series_covid19_confirmed_global.csv', \n",
    "                                 dtype=object)\n",
    "daily_cases_global = daily_cases_global_all.drop(columns =['Province/State', 'Lat', 'Long'])\n",
    "\n",
    "daily_deaths_global_all = pd.read_csv(date2+'_COVID-19-master_JHU/csse_covid_19_data/csse_covid_19_time_series/time_series_covid19_deaths_global.csv', \n",
    "                                 dtype=object)\n",
    "daily_deaths_global = daily_deaths_global_all.drop(columns =['Province/State', 'Lat', 'Long'])\n",
    "\n",
    "\n",
    "daily_cases_global[daily_cases_global.columns[1:]] = daily_cases_global[daily_cases_global.columns[1:]].astype(float)\n",
    "daily_deaths_global[daily_deaths_global.columns[1:]] = daily_deaths_global[daily_deaths_global.columns[1:]].astype(float)\n",
    "\n",
    "daily_cases_global = daily_cases_global.groupby('Country/Region').sum().reset_index()\n",
    "daily_deaths_global = daily_deaths_global.groupby('Country/Region').sum().reset_index()"
   ]
  },
  {
   "cell_type": "code",
   "execution_count": 9,
   "metadata": {
    "ExecuteTime": {
     "end_time": "2020-04-21T01:14:22.478854Z",
     "start_time": "2020-04-21T01:14:22.465705Z"
    }
   },
   "outputs": [
    {
     "data": {
      "application/vnd.jupyter.widget-view+json": {
       "model_id": "d56df79084d74cacb565e58c04fbef0b",
       "version_major": 2,
       "version_minor": 0
      },
      "text/plain": [
       "FloatSlider(value=5000.0, continuous_update=False, description='Minimum Number:', max=100000.0, readout_format…"
      ]
     },
     "metadata": {},
     "output_type": "display_data"
    }
   ],
   "source": [
    "min_w = widgets.FloatSlider(\n",
    "    value=5000,\n",
    "    min=0,\n",
    "    max=100000,\n",
    "    step=1000,\n",
    "    description='Minimum Number:',\n",
    "    disabled=False,\n",
    "    continuous_update=False,\n",
    "    orientation='horizontal',\n",
    "    readout=True,\n",
    "    readout_format='.0f',\n",
    ")\n",
    "display(min_w)\n"
   ]
  },
  {
   "cell_type": "code",
   "execution_count": 10,
   "metadata": {
    "ExecuteTime": {
     "end_time": "2020-04-21T01:14:23.334843Z",
     "start_time": "2020-04-21T01:14:23.328874Z"
    }
   },
   "outputs": [],
   "source": [
    "# Select minimum number countries\n",
    "df_cts = daily_cases_global[['Country/Region',daily_cases_global.columns[-1]]]\n",
    "df_cts = df_cts[df_cts[daily_cases_global.columns[-1]].astype(float) > min_w.value]\n",
    "\n",
    "list_countries = ['All Countries']\n",
    "list_countries.extend(sorted(list(df_cts['Country/Region'].unique())))"
   ]
  },
  {
   "cell_type": "markdown",
   "metadata": {},
   "source": [
    "### Widgets"
   ]
  },
  {
   "cell_type": "code",
   "execution_count": 11,
   "metadata": {
    "ExecuteTime": {
     "end_time": "2020-04-21T01:14:24.521876Z",
     "start_time": "2020-04-21T01:14:24.478086Z"
    }
   },
   "outputs": [
    {
     "data": {
      "application/vnd.jupyter.widget-view+json": {
       "model_id": "112f7b18b57a4409bf195167aa750815",
       "version_major": 2,
       "version_minor": 0
      },
      "text/plain": [
       "SelectMultiple(description='Country:', index=(0, 1, 2, 3, 4, 5, 6, 7, 8, 9, 10, 11, 12, 13, 14, 15, 16, 17, 18…"
      ]
     },
     "metadata": {},
     "output_type": "display_data"
    },
    {
     "data": {
      "application/vnd.jupyter.widget-view+json": {
       "model_id": "501564fd17f942a2a34bd1298e6c694d",
       "version_major": 2,
       "version_minor": 0
      },
      "text/plain": [
       "ToggleButtons(description='Option:', options=('Confirmed Cases', 'Deaths'), value='Confirmed Cases')"
      ]
     },
     "metadata": {},
     "output_type": "display_data"
    },
    {
     "data": {
      "application/vnd.jupyter.widget-view+json": {
       "model_id": "d427f7fb169148bdac4f308f7e9fa6e8",
       "version_major": 2,
       "version_minor": 0
      },
      "text/plain": [
       "FloatSlider(value=50.0, continuous_update=False, description='Minimum Number:', readout_format='.0f', step=10.…"
      ]
     },
     "metadata": {},
     "output_type": "display_data"
    },
    {
     "data": {
      "application/vnd.jupyter.widget-view+json": {
       "model_id": "ff60ce7497134cb3877b061794225cf0",
       "version_major": 2,
       "version_minor": 0
      },
      "text/plain": [
       "FloatSlider(value=14.0, description='Days Avg:', max=21.0, min=1.0, readout_format='.0f', step=1.0)"
      ]
     },
     "metadata": {},
     "output_type": "display_data"
    }
   ],
   "source": [
    "style = {'description_width': 'initial'}\n",
    "\n",
    "ct_w = widgets.SelectMultiple(\n",
    "    description='Country:',\n",
    "    options=list_countries,\n",
    "    value=list_countries,\n",
    "    layout=Layout(width='20%', height='100px')\n",
    ")\n",
    "display(ct_w)\n",
    "\n",
    "cases_w = widgets.ToggleButtons(\n",
    "    description='Option:',\n",
    "    options=['Confirmed Cases', 'Deaths'],\n",
    ")\n",
    "display(cases_w)\n",
    "\n",
    "min_w = widgets.FloatSlider(\n",
    "    value=50,\n",
    "    min=0,\n",
    "    max=100,\n",
    "    step=10,\n",
    "    description='Minimum Number:',\n",
    "    disabled=False,\n",
    "    continuous_update=False,\n",
    "    orientation='horizontal',\n",
    "    readout=True,\n",
    "    readout_format='.0f',\n",
    ")\n",
    "display(min_w)\n",
    "\n",
    "tw_w = widgets.FloatSlider(\n",
    "    value=14,\n",
    "    min=1,\n",
    "    max=21,\n",
    "    step=1,\n",
    "    description='Days Avg:',\n",
    "    disabled=False,\n",
    "    #continuous_update=False,\n",
    "    orientation='horizontal',\n",
    "    readout=True,\n",
    "    readout_format='.0f',\n",
    ")\n",
    "display(tw_w)\n"
   ]
  },
  {
   "cell_type": "markdown",
   "metadata": {},
   "source": [
    "### Plot"
   ]
  },
  {
   "cell_type": "code",
   "execution_count": 17,
   "metadata": {
    "ExecuteTime": {
     "end_time": "2020-04-21T01:17:17.022674Z",
     "start_time": "2020-04-21T01:17:16.575754Z"
    }
   },
   "outputs": [
    {
     "name": "stdout",
     "output_type": "stream",
     "text": [
      "Index(['Country/Region', 'Date', 'Confirmed', 'DateDT', 'Days', 'DailyGrowth',\n",
      "       'MaxDailyGrowth', 'DailyGrowth_14d', 'MeanGrowth_14d'],\n",
      "      dtype='object')\n"
     ]
    },
    {
     "data": {
      "application/vnd.plotly.v1+json": {
       "config": {
        "plotlyServerURL": "https://plot.ly"
       },
       "data": [
        {
         "customdata": [
          [
           52,
           "Brazil",
           14,
           "3/12/20"
          ],
          [
           151,
           "Brazil",
           99,
           "3/13/20"
          ],
          [
           151,
           "Brazil",
           0,
           "3/14/20"
          ],
          [
           162,
           "Brazil",
           11,
           "3/15/20"
          ],
          [
           200,
           "Brazil",
           38,
           "3/16/20"
          ],
          [
           321,
           "Brazil",
           121,
           "3/17/20"
          ],
          [
           372,
           "Brazil",
           51,
           "3/18/20"
          ],
          [
           621,
           "Brazil",
           249,
           "3/19/20"
          ],
          [
           793,
           "Brazil",
           172,
           "3/20/20"
          ],
          [
           1021,
           "Brazil",
           228,
           "3/21/20"
          ],
          [
           1546,
           "Brazil",
           525,
           "3/22/20"
          ],
          [
           1924,
           "Brazil",
           378,
           "3/23/20"
          ],
          [
           2247,
           "Brazil",
           323,
           "3/24/20"
          ],
          [
           2554,
           "Brazil",
           307,
           "3/25/20"
          ],
          [
           2985,
           "Brazil",
           431,
           "3/26/20"
          ],
          [
           3417,
           "Brazil",
           432,
           "3/27/20"
          ],
          [
           3904,
           "Brazil",
           487,
           "3/28/20"
          ],
          [
           4256,
           "Brazil",
           352,
           "3/29/20"
          ],
          [
           4579,
           "Brazil",
           323,
           "3/30/20"
          ],
          [
           5717,
           "Brazil",
           1138,
           "3/31/20"
          ],
          [
           6836,
           "Brazil",
           1119,
           "4/1/20"
          ],
          [
           8044,
           "Brazil",
           1208,
           "4/2/20"
          ],
          [
           9056,
           "Brazil",
           1012,
           "4/3/20"
          ],
          [
           10360,
           "Brazil",
           1304,
           "4/4/20"
          ],
          [
           11130,
           "Brazil",
           770,
           "4/5/20"
          ],
          [
           12161,
           "Brazil",
           1031,
           "4/6/20"
          ],
          [
           14034,
           "Brazil",
           1873,
           "4/7/20"
          ],
          [
           16170,
           "Brazil",
           2136,
           "4/8/20"
          ],
          [
           18092,
           "Brazil",
           1922,
           "4/9/20"
          ],
          [
           19638,
           "Brazil",
           1546,
           "4/10/20"
          ],
          [
           20727,
           "Brazil",
           1089,
           "4/11/20"
          ],
          [
           22192,
           "Brazil",
           1465,
           "4/12/20"
          ],
          [
           23430,
           "Brazil",
           1238,
           "4/13/20"
          ],
          [
           25262,
           "Brazil",
           1832,
           "4/14/20"
          ],
          [
           28320,
           "Brazil",
           3058,
           "4/15/20"
          ],
          [
           30425,
           "Brazil",
           2105,
           "4/16/20"
          ],
          [
           33682,
           "Brazil",
           3257,
           "4/17/20"
          ],
          [
           36658,
           "Brazil",
           2976,
           "4/18/20"
          ],
          [
           38654,
           "Brazil",
           1996,
           "4/19/20"
          ],
          [
           40743,
           "Brazil",
           2089,
           "4/20/20"
          ]
         ],
         "hoverlabel": {
          "namelength": 0
         },
         "hovertemplate": "Country =%{customdata[1]}<br>Mean growth over 14d compared to max growth =%{x}<br>% cases from last 14d =%{y}<br>Confirmed Cases=%{customdata[0]}<br>Confirmed Cases today =%{customdata[2]}<br>Date=%{customdata[3]}",
         "legendgroup": "Brazil",
         "marker": {
          "color": "#636efa",
          "size": [
           52,
           151,
           151,
           162,
           200,
           321,
           372,
           621,
           793,
           1021,
           1546,
           1924,
           2247,
           2554,
           2985,
           3417,
           3904,
           4256,
           4579,
           5717,
           6836,
           8044,
           9056,
           10360,
           11130,
           12161,
           14034,
           16170,
           18092,
           19638,
           20727,
           22192,
           23430,
           25262,
           28320,
           30425,
           33682,
           36658,
           38654,
           40743
          ],
          "sizemode": "area",
          "sizeref": 1960.815,
          "symbol": "circle"
         },
         "mode": "lines+markers",
         "name": "Brazil",
         "showlegend": true,
         "type": "scatter",
         "x": [
          0.1,
          0.4,
          0.3,
          0.4,
          0.5,
          0.7,
          0.9,
          1.4,
          1.8,
          2.4,
          3.6,
          4.4,
          5.2,
          5.9,
          6.9,
          7.6,
          8.8,
          9.6,
          10.2,
          12.6,
          15.1,
          17.3,
          19.3,
          21.8,
          22.4,
          23.9,
          27.5,
          31.8,
          35.3,
          37.9,
          39.3,
          41.9,
          44,
          45.7,
          50.2,
          52.3,
          57.5,
          61.4,
          64.3,
          66.8
         ],
         "xaxis": "x",
         "y": [
          98.1,
          99.3,
          98.7,
          98.8,
          99,
          99.4,
          98.9,
          99.4,
          98.4,
          98.7,
          98.7,
          98.7,
          98.6,
          98.5,
          98.3,
          95.6,
          96.1,
          96.2,
          95.6,
          94.4,
          94.6,
          92.3,
          91.2,
          90.1,
          86.1,
          84.2,
          84,
          84.2,
          83.5,
          82.6,
          81.2,
          80.8,
          80.5,
          77.4,
          75.9,
          73.6,
          73.1,
          71.7,
          71.2,
          70.2
         ],
         "yaxis": "y"
        },
        {
         "customdata": [
          [
           57,
           "France",
           19,
           "2/28/20"
          ],
          [
           100,
           "France",
           43,
           "2/29/20"
          ],
          [
           130,
           "France",
           30,
           "3/1/20"
          ],
          [
           191,
           "France",
           61,
           "3/2/20"
          ],
          [
           204,
           "France",
           13,
           "3/3/20"
          ],
          [
           288,
           "France",
           84,
           "3/4/20"
          ],
          [
           380,
           "France",
           92,
           "3/5/20"
          ],
          [
           656,
           "France",
           276,
           "3/6/20"
          ],
          [
           959,
           "France",
           303,
           "3/7/20"
          ],
          [
           1136,
           "France",
           177,
           "3/8/20"
          ],
          [
           1219,
           "France",
           83,
           "3/9/20"
          ],
          [
           1794,
           "France",
           575,
           "3/10/20"
          ],
          [
           2293,
           "France",
           499,
           "3/11/20"
          ],
          [
           2293,
           "France",
           0,
           "3/12/20"
          ],
          [
           3681,
           "France",
           1388,
           "3/13/20"
          ],
          [
           4496,
           "France",
           815,
           "3/14/20"
          ],
          [
           4532,
           "France",
           36,
           "3/15/20"
          ],
          [
           6683,
           "France",
           2151,
           "3/16/20"
          ],
          [
           7715,
           "France",
           1032,
           "3/17/20"
          ],
          [
           9124,
           "France",
           1409,
           "3/18/20"
          ],
          [
           10970,
           "France",
           1846,
           "3/19/20"
          ],
          [
           12758,
           "France",
           1788,
           "3/20/20"
          ],
          [
           14463,
           "France",
           1705,
           "3/21/20"
          ],
          [
           16243,
           "France",
           1780,
           "3/22/20"
          ],
          [
           20123,
           "France",
           3880,
           "3/23/20"
          ],
          [
           22622,
           "France",
           2499,
           "3/24/20"
          ],
          [
           25600,
           "France",
           2978,
           "3/25/20"
          ],
          [
           29551,
           "France",
           3951,
           "3/26/20"
          ],
          [
           33402,
           "France",
           3851,
           "3/27/20"
          ],
          [
           38105,
           "France",
           4703,
           "3/28/20"
          ],
          [
           40708,
           "France",
           2603,
           "3/29/20"
          ],
          [
           45170,
           "France",
           4462,
           "3/30/20"
          ],
          [
           52827,
           "France",
           7657,
           "3/31/20"
          ],
          [
           57749,
           "France",
           4922,
           "4/1/20"
          ],
          [
           59929,
           "France",
           2180,
           "4/2/20"
          ],
          [
           65202,
           "France",
           5273,
           "4/3/20"
          ],
          [
           69500,
           "France",
           4298,
           "4/4/20"
          ],
          [
           71412,
           "France",
           1912,
           "4/5/20"
          ],
          [
           75343,
           "France",
           3931,
           "4/6/20"
          ],
          [
           79163,
           "France",
           3820,
           "4/7/20"
          ],
          [
           83057,
           "France",
           3894,
           "4/8/20"
          ],
          [
           87366,
           "France",
           4309,
           "4/9/20"
          ],
          [
           91738,
           "France",
           4372,
           "4/10/20"
          ],
          [
           94863,
           "France",
           3125,
           "4/11/20"
          ],
          [
           121712,
           "France",
           26849,
           "4/12/20"
          ],
          [
           125394,
           "France",
           3682,
           "4/13/20"
          ],
          [
           131361,
           "France",
           5967,
           "4/14/20"
          ],
          [
           134582,
           "France",
           3221,
           "4/15/20"
          ],
          [
           147091,
           "France",
           12509,
           "4/16/20"
          ],
          [
           149130,
           "France",
           2039,
           "4/17/20"
          ],
          [
           149149,
           "France",
           19,
           "4/18/20"
          ],
          [
           154097,
           "France",
           4948,
           "4/19/20"
          ],
          [
           156480,
           "France",
           2383,
           "4/20/20"
          ]
         ],
         "hoverlabel": {
          "namelength": 0
         },
         "hovertemplate": "Country =%{customdata[1]}<br>Mean growth over 14d compared to max growth =%{x}<br>% cases from last 14d =%{y}<br>Confirmed Cases=%{customdata[0]}<br>Confirmed Cases today =%{customdata[2]}<br>Date=%{customdata[3]}",
         "legendgroup": "France",
         "marker": {
          "color": "#EF553B",
          "size": [
           57,
           100,
           130,
           191,
           204,
           288,
           380,
           656,
           959,
           1136,
           1219,
           1794,
           2293,
           2293,
           3681,
           4496,
           4532,
           6683,
           7715,
           9124,
           10970,
           12758,
           14463,
           16243,
           20123,
           22622,
           25600,
           29551,
           33402,
           38105,
           40708,
           45170,
           52827,
           57749,
           59929,
           65202,
           69500,
           71412,
           75343,
           79163,
           83057,
           87366,
           91738,
           94863,
           121712,
           125394,
           131361,
           134582,
           147091,
           149130,
           149149,
           154097,
           156480
          ],
          "sizemode": "area",
          "sizeref": 1960.815,
          "symbol": "circle"
         },
         "mode": "lines+markers",
         "name": "France",
         "showlegend": true,
         "type": "scatter",
         "x": [
          0,
          0.1,
          0.1,
          0.1,
          0.1,
          0.2,
          0.2,
          0.4,
          0.5,
          0.6,
          0.7,
          1,
          1.3,
          1.3,
          2.1,
          2.5,
          2.5,
          3.7,
          4.3,
          5,
          6,
          6.9,
          7.7,
          8.6,
          10.8,
          11.9,
          13.3,
          15.6,
          17,
          19.2,
          20.7,
          22,
          25.8,
          27.8,
          28,
          29.9,
          31.4,
          31.5,
          31.5,
          32.3,
          32.8,
          33,
          33.3,
          32.4,
          46.3,
          45.8,
          44.8,
          43.9,
          49.8,
          47.9,
          45.5,
          47.2,
          46.3
         ],
         "xaxis": "x",
         "y": [
          80.7,
          88,
          90.8,
          93.7,
          94.1,
          95.8,
          96.8,
          98.2,
          98.7,
          98.9,
          99,
          99.2,
          99.2,
          98.3,
          98.5,
          97.8,
          97.1,
          97.1,
          97.4,
          96.8,
          96.5,
          94.9,
          93.4,
          93,
          93.9,
          92.1,
          91,
          92.2,
          89,
          88.2,
          88.9,
          85.2,
          85.4,
          84.2,
          81.7,
          80.4,
          79.2,
          77.3,
          73.3,
          71.4,
          69.2,
          66.2,
          63.6,
          59.8,
          66.6,
          64,
          59.8,
          57.1,
          59.3,
          56.3,
          53.4,
          53.7,
          51.9
         ],
         "yaxis": "y"
        },
        {
         "customdata": [
          [
           79,
           "Germany",
           31,
           "2/29/20"
          ],
          [
           130,
           "Germany",
           51,
           "3/1/20"
          ],
          [
           159,
           "Germany",
           29,
           "3/2/20"
          ],
          [
           196,
           "Germany",
           37,
           "3/3/20"
          ],
          [
           262,
           "Germany",
           66,
           "3/4/20"
          ],
          [
           482,
           "Germany",
           220,
           "3/5/20"
          ],
          [
           670,
           "Germany",
           188,
           "3/6/20"
          ],
          [
           799,
           "Germany",
           129,
           "3/7/20"
          ],
          [
           1040,
           "Germany",
           241,
           "3/8/20"
          ],
          [
           1176,
           "Germany",
           136,
           "3/9/20"
          ],
          [
           1457,
           "Germany",
           281,
           "3/10/20"
          ],
          [
           1908,
           "Germany",
           451,
           "3/11/20"
          ],
          [
           2078,
           "Germany",
           170,
           "3/12/20"
          ],
          [
           3675,
           "Germany",
           1597,
           "3/13/20"
          ],
          [
           4585,
           "Germany",
           910,
           "3/14/20"
          ],
          [
           5795,
           "Germany",
           1210,
           "3/15/20"
          ],
          [
           7272,
           "Germany",
           1477,
           "3/16/20"
          ],
          [
           9257,
           "Germany",
           1985,
           "3/17/20"
          ],
          [
           12327,
           "Germany",
           3070,
           "3/18/20"
          ],
          [
           15320,
           "Germany",
           2993,
           "3/19/20"
          ],
          [
           19848,
           "Germany",
           4528,
           "3/20/20"
          ],
          [
           22213,
           "Germany",
           2365,
           "3/21/20"
          ],
          [
           24873,
           "Germany",
           2660,
           "3/22/20"
          ],
          [
           29056,
           "Germany",
           4183,
           "3/23/20"
          ],
          [
           32986,
           "Germany",
           3930,
           "3/24/20"
          ],
          [
           37323,
           "Germany",
           4337,
           "3/25/20"
          ],
          [
           43938,
           "Germany",
           6615,
           "3/26/20"
          ],
          [
           50871,
           "Germany",
           6933,
           "3/27/20"
          ],
          [
           57695,
           "Germany",
           6824,
           "3/28/20"
          ],
          [
           62095,
           "Germany",
           4400,
           "3/29/20"
          ],
          [
           66885,
           "Germany",
           4790,
           "3/30/20"
          ],
          [
           71808,
           "Germany",
           4923,
           "3/31/20"
          ],
          [
           77872,
           "Germany",
           6064,
           "4/1/20"
          ],
          [
           84794,
           "Germany",
           6922,
           "4/2/20"
          ],
          [
           91159,
           "Germany",
           6365,
           "4/3/20"
          ],
          [
           96092,
           "Germany",
           4933,
           "4/4/20"
          ],
          [
           100123,
           "Germany",
           4031,
           "4/5/20"
          ],
          [
           103374,
           "Germany",
           3251,
           "4/6/20"
          ],
          [
           107663,
           "Germany",
           4289,
           "4/7/20"
          ],
          [
           113296,
           "Germany",
           5633,
           "4/8/20"
          ],
          [
           118181,
           "Germany",
           4885,
           "4/9/20"
          ],
          [
           122171,
           "Germany",
           3990,
           "4/10/20"
          ],
          [
           124908,
           "Germany",
           2737,
           "4/11/20"
          ],
          [
           127854,
           "Germany",
           2946,
           "4/12/20"
          ],
          [
           130072,
           "Germany",
           2218,
           "4/13/20"
          ],
          [
           131359,
           "Germany",
           1287,
           "4/14/20"
          ],
          [
           134753,
           "Germany",
           3394,
           "4/15/20"
          ],
          [
           137698,
           "Germany",
           2945,
           "4/16/20"
          ],
          [
           141397,
           "Germany",
           3699,
           "4/17/20"
          ],
          [
           143342,
           "Germany",
           1945,
           "4/18/20"
          ],
          [
           145184,
           "Germany",
           1842,
           "4/19/20"
          ],
          [
           147065,
           "Germany",
           1881,
           "4/20/20"
          ]
         ],
         "hoverlabel": {
          "namelength": 0
         },
         "hovertemplate": "Country =%{customdata[1]}<br>Mean growth over 14d compared to max growth =%{x}<br>% cases from last 14d =%{y}<br>Confirmed Cases=%{customdata[0]}<br>Confirmed Cases today =%{customdata[2]}<br>Date=%{customdata[3]}",
         "legendgroup": "Germany",
         "marker": {
          "color": "#00cc96",
          "size": [
           79,
           130,
           159,
           196,
           262,
           482,
           670,
           799,
           1040,
           1176,
           1457,
           1908,
           2078,
           3675,
           4585,
           5795,
           7272,
           9257,
           12327,
           15320,
           19848,
           22213,
           24873,
           29056,
           32986,
           37323,
           43938,
           50871,
           57695,
           62095,
           66885,
           71808,
           77872,
           84794,
           91159,
           96092,
           100123,
           103374,
           107663,
           113296,
           118181,
           122171,
           124908,
           127854,
           130072,
           131359,
           134753,
           137698,
           141397,
           143342,
           145184,
           147065
          ],
          "sizemode": "area",
          "sizeref": 1960.815,
          "symbol": "circle"
         },
         "mode": "lines+markers",
         "name": "Germany",
         "showlegend": true,
         "type": "scatter",
         "x": [
          0.1,
          0.1,
          0.1,
          0.2,
          0.3,
          0.5,
          0.7,
          0.8,
          1.1,
          1.2,
          1.5,
          1.9,
          2.1,
          3.7,
          4.6,
          5.8,
          7.3,
          9.4,
          12.4,
          15.3,
          19.8,
          22.1,
          24.6,
          28.8,
          32.5,
          36.5,
          43.2,
          48.7,
          54.8,
          58.1,
          61.5,
          64.5,
          67.6,
          71.7,
          73.6,
          76.2,
          77.7,
          76.7,
          77.1,
          78.4,
          76.6,
          73.6,
          69.4,
          67.9,
          65.2,
          61.5,
          58.7,
          54.6,
          51.8,
          48.8,
          46.5,
          45.1
         ],
         "xaxis": "x",
         "y": [
          79.7,
          87.7,
          89.9,
          91.8,
          93.9,
          96.7,
          97.6,
          98,
          98.5,
          98.6,
          98.8,
          98.6,
          97.8,
          98.7,
          98.3,
          97.8,
          97.8,
          97.9,
          97.9,
          96.9,
          96.6,
          96.4,
          95.8,
          96,
          95.6,
          94.9,
          95.3,
          92.8,
          92.1,
          90.7,
          89.1,
          87.1,
          84.2,
          81.9,
          78.2,
          76.9,
          75.2,
          71.9,
          69.4,
          67.1,
          62.8,
          58.4,
          53.8,
          51.4,
          48.6,
          45.3,
          42.2,
          38.4,
          35.5,
          33,
          31,
          29.7
         ],
         "yaxis": "y"
        },
        {
         "customdata": [
          [
           62,
           "Italy",
           42,
           "2/22/20"
          ],
          [
           155,
           "Italy",
           93,
           "2/23/20"
          ],
          [
           229,
           "Italy",
           74,
           "2/24/20"
          ],
          [
           322,
           "Italy",
           93,
           "2/25/20"
          ],
          [
           453,
           "Italy",
           131,
           "2/26/20"
          ],
          [
           655,
           "Italy",
           202,
           "2/27/20"
          ],
          [
           888,
           "Italy",
           233,
           "2/28/20"
          ],
          [
           1128,
           "Italy",
           240,
           "2/29/20"
          ],
          [
           1694,
           "Italy",
           566,
           "3/1/20"
          ],
          [
           2036,
           "Italy",
           342,
           "3/2/20"
          ],
          [
           2502,
           "Italy",
           466,
           "3/3/20"
          ],
          [
           3089,
           "Italy",
           587,
           "3/4/20"
          ],
          [
           3858,
           "Italy",
           769,
           "3/5/20"
          ],
          [
           4636,
           "Italy",
           778,
           "3/6/20"
          ],
          [
           5883,
           "Italy",
           1247,
           "3/7/20"
          ],
          [
           7375,
           "Italy",
           1492,
           "3/8/20"
          ],
          [
           9172,
           "Italy",
           1797,
           "3/9/20"
          ],
          [
           10149,
           "Italy",
           977,
           "3/10/20"
          ],
          [
           12462,
           "Italy",
           2313,
           "3/11/20"
          ],
          [
           12462,
           "Italy",
           0,
           "3/12/20"
          ],
          [
           17660,
           "Italy",
           5198,
           "3/13/20"
          ],
          [
           21157,
           "Italy",
           3497,
           "3/14/20"
          ],
          [
           24747,
           "Italy",
           3590,
           "3/15/20"
          ],
          [
           27980,
           "Italy",
           3233,
           "3/16/20"
          ],
          [
           31506,
           "Italy",
           3526,
           "3/17/20"
          ],
          [
           35713,
           "Italy",
           4207,
           "3/18/20"
          ],
          [
           41035,
           "Italy",
           5322,
           "3/19/20"
          ],
          [
           47021,
           "Italy",
           5986,
           "3/20/20"
          ],
          [
           53578,
           "Italy",
           6557,
           "3/21/20"
          ],
          [
           59138,
           "Italy",
           5560,
           "3/22/20"
          ],
          [
           63927,
           "Italy",
           4789,
           "3/23/20"
          ],
          [
           69176,
           "Italy",
           5249,
           "3/24/20"
          ],
          [
           74386,
           "Italy",
           5210,
           "3/25/20"
          ],
          [
           80589,
           "Italy",
           6203,
           "3/26/20"
          ],
          [
           86498,
           "Italy",
           5909,
           "3/27/20"
          ],
          [
           92472,
           "Italy",
           5974,
           "3/28/20"
          ],
          [
           97689,
           "Italy",
           5217,
           "3/29/20"
          ],
          [
           101739,
           "Italy",
           4050,
           "3/30/20"
          ],
          [
           105792,
           "Italy",
           4053,
           "3/31/20"
          ],
          [
           110574,
           "Italy",
           4782,
           "4/1/20"
          ],
          [
           115242,
           "Italy",
           4668,
           "4/2/20"
          ],
          [
           119827,
           "Italy",
           4585,
           "4/3/20"
          ],
          [
           124632,
           "Italy",
           4805,
           "4/4/20"
          ],
          [
           128948,
           "Italy",
           4316,
           "4/5/20"
          ],
          [
           132547,
           "Italy",
           3599,
           "4/6/20"
          ],
          [
           135586,
           "Italy",
           3039,
           "4/7/20"
          ],
          [
           139422,
           "Italy",
           3836,
           "4/8/20"
          ],
          [
           143626,
           "Italy",
           4204,
           "4/9/20"
          ],
          [
           147577,
           "Italy",
           3951,
           "4/10/20"
          ],
          [
           152271,
           "Italy",
           4694,
           "4/11/20"
          ],
          [
           156363,
           "Italy",
           4092,
           "4/12/20"
          ],
          [
           159516,
           "Italy",
           3153,
           "4/13/20"
          ],
          [
           162488,
           "Italy",
           2972,
           "4/14/20"
          ],
          [
           165155,
           "Italy",
           2667,
           "4/15/20"
          ],
          [
           168941,
           "Italy",
           3786,
           "4/16/20"
          ],
          [
           172434,
           "Italy",
           3493,
           "4/17/20"
          ],
          [
           175925,
           "Italy",
           3491,
           "4/18/20"
          ],
          [
           178972,
           "Italy",
           3047,
           "4/19/20"
          ],
          [
           181228,
           "Italy",
           2256,
           "4/20/20"
          ]
         ],
         "hoverlabel": {
          "namelength": 0
         },
         "hovertemplate": "Country =%{customdata[1]}<br>Mean growth over 14d compared to max growth =%{x}<br>% cases from last 14d =%{y}<br>Confirmed Cases=%{customdata[0]}<br>Confirmed Cases today =%{customdata[2]}<br>Date=%{customdata[3]}",
         "legendgroup": "Italy",
         "marker": {
          "color": "#ab63fa",
          "size": [
           62,
           155,
           229,
           322,
           453,
           655,
           888,
           1128,
           1694,
           2036,
           2502,
           3089,
           3858,
           4636,
           5883,
           7375,
           9172,
           10149,
           12462,
           12462,
           17660,
           21157,
           24747,
           27980,
           31506,
           35713,
           41035,
           47021,
           53578,
           59138,
           63927,
           69176,
           74386,
           80589,
           86498,
           92472,
           97689,
           101739,
           105792,
           110574,
           115242,
           119827,
           124632,
           128948,
           132547,
           135586,
           139422,
           143626,
           147577,
           152271,
           156363,
           159516,
           162488,
           165155,
           168941,
           172434,
           175925,
           178972,
           181228
          ],
          "sizemode": "area",
          "sizeref": 1960.815,
          "symbol": "circle"
         },
         "mode": "lines+markers",
         "name": "Italy",
         "showlegend": true,
         "type": "scatter",
         "x": [
          0.1,
          0.2,
          0.3,
          0.4,
          0.5,
          0.8,
          1,
          1.3,
          1.9,
          2.3,
          2.9,
          3.6,
          4.4,
          5.3,
          6.7,
          8.3,
          10.3,
          11.3,
          13.8,
          13.6,
          19.3,
          23.1,
          26.5,
          29.9,
          33.4,
          37.6,
          42.8,
          48.8,
          54.9,
          59.6,
          63.1,
          68,
          71.3,
          78.4,
          79.3,
          82.1,
          84,
          84.9,
          85.5,
          86.2,
          85.5,
          83.8,
          81.8,
          80.4,
          79,
          76.5,
          74.9,
          72.6,
          70.3,
          68.9,
          67.6,
          66.5,
          65.3,
          62.9,
          61.8,
          60.6,
          59.1,
          57.6,
          56.1
         ],
         "xaxis": "x",
         "y": [
          95.2,
          98.1,
          98.7,
          99.1,
          99.3,
          99.5,
          99.7,
          99.7,
          99.8,
          99.9,
          99.9,
          99.9,
          99.9,
          99.6,
          98.9,
          97.9,
          97.5,
          96.8,
          96.4,
          94.7,
          95,
          94.7,
          93.2,
          92.7,
          92.1,
          91.4,
          90.6,
          90.1,
          89,
          87.5,
          85.7,
          85.3,
          83.2,
          84.5,
          79.6,
          77.1,
          74.7,
          72.5,
          70.2,
          67.7,
          64.4,
          60.8,
          57,
          54.1,
          51.8,
          49,
          46.6,
          43.9,
          41.4,
          39.3,
          37.5,
          36.2,
          34.9,
          33,
          31.8,
          30.5,
          29.2,
          28,
          26.9
         ],
         "yaxis": "y"
        },
        {
         "customdata": [
          [
           59,
           "Japan",
           16,
           "2/16/20"
          ],
          [
           66,
           "Japan",
           7,
           "2/17/20"
          ],
          [
           74,
           "Japan",
           8,
           "2/18/20"
          ],
          [
           84,
           "Japan",
           10,
           "2/19/20"
          ],
          [
           94,
           "Japan",
           10,
           "2/20/20"
          ],
          [
           105,
           "Japan",
           11,
           "2/21/20"
          ],
          [
           122,
           "Japan",
           17,
           "2/22/20"
          ],
          [
           147,
           "Japan",
           25,
           "2/23/20"
          ],
          [
           159,
           "Japan",
           12,
           "2/24/20"
          ],
          [
           170,
           "Japan",
           11,
           "2/25/20"
          ],
          [
           189,
           "Japan",
           19,
           "2/26/20"
          ],
          [
           214,
           "Japan",
           25,
           "2/27/20"
          ],
          [
           228,
           "Japan",
           14,
           "2/28/20"
          ],
          [
           241,
           "Japan",
           13,
           "2/29/20"
          ],
          [
           256,
           "Japan",
           15,
           "3/1/20"
          ],
          [
           274,
           "Japan",
           18,
           "3/2/20"
          ],
          [
           293,
           "Japan",
           19,
           "3/3/20"
          ],
          [
           331,
           "Japan",
           38,
           "3/4/20"
          ],
          [
           360,
           "Japan",
           29,
           "3/5/20"
          ],
          [
           420,
           "Japan",
           60,
           "3/6/20"
          ],
          [
           461,
           "Japan",
           41,
           "3/7/20"
          ],
          [
           502,
           "Japan",
           41,
           "3/8/20"
          ],
          [
           511,
           "Japan",
           9,
           "3/9/20"
          ],
          [
           581,
           "Japan",
           70,
           "3/10/20"
          ],
          [
           639,
           "Japan",
           58,
           "3/11/20"
          ],
          [
           639,
           "Japan",
           0,
           "3/12/20"
          ],
          [
           701,
           "Japan",
           62,
           "3/13/20"
          ],
          [
           773,
           "Japan",
           72,
           "3/14/20"
          ],
          [
           839,
           "Japan",
           66,
           "3/15/20"
          ],
          [
           839,
           "Japan",
           0,
           "3/16/20"
          ],
          [
           878,
           "Japan",
           39,
           "3/17/20"
          ],
          [
           889,
           "Japan",
           11,
           "3/18/20"
          ],
          [
           924,
           "Japan",
           35,
           "3/19/20"
          ],
          [
           963,
           "Japan",
           39,
           "3/20/20"
          ],
          [
           1007,
           "Japan",
           44,
           "3/21/20"
          ],
          [
           1101,
           "Japan",
           94,
           "3/22/20"
          ],
          [
           1128,
           "Japan",
           27,
           "3/23/20"
          ],
          [
           1193,
           "Japan",
           65,
           "3/24/20"
          ],
          [
           1307,
           "Japan",
           114,
           "3/25/20"
          ],
          [
           1387,
           "Japan",
           80,
           "3/26/20"
          ],
          [
           1468,
           "Japan",
           81,
           "3/27/20"
          ],
          [
           1693,
           "Japan",
           225,
           "3/28/20"
          ],
          [
           1866,
           "Japan",
           173,
           "3/29/20"
          ],
          [
           1866,
           "Japan",
           0,
           "3/30/20"
          ],
          [
           1953,
           "Japan",
           87,
           "3/31/20"
          ],
          [
           2178,
           "Japan",
           225,
           "4/1/20"
          ],
          [
           2495,
           "Japan",
           317,
           "4/2/20"
          ],
          [
           2617,
           "Japan",
           122,
           "4/3/20"
          ],
          [
           3139,
           "Japan",
           522,
           "4/4/20"
          ],
          [
           3139,
           "Japan",
           0,
           "4/5/20"
          ],
          [
           3654,
           "Japan",
           515,
           "4/6/20"
          ],
          [
           3906,
           "Japan",
           252,
           "4/7/20"
          ],
          [
           4257,
           "Japan",
           351,
           "4/8/20"
          ],
          [
           4667,
           "Japan",
           410,
           "4/9/20"
          ],
          [
           5530,
           "Japan",
           863,
           "4/10/20"
          ],
          [
           6005,
           "Japan",
           475,
           "4/11/20"
          ],
          [
           6748,
           "Japan",
           743,
           "4/12/20"
          ],
          [
           7370,
           "Japan",
           622,
           "4/13/20"
          ],
          [
           7645,
           "Japan",
           275,
           "4/14/20"
          ],
          [
           8100,
           "Japan",
           455,
           "4/15/20"
          ],
          [
           8626,
           "Japan",
           526,
           "4/16/20"
          ],
          [
           9787,
           "Japan",
           1161,
           "4/17/20"
          ],
          [
           10296,
           "Japan",
           509,
           "4/18/20"
          ],
          [
           10797,
           "Japan",
           501,
           "4/19/20"
          ],
          [
           10797,
           "Japan",
           0,
           "4/20/20"
          ]
         ],
         "hoverlabel": {
          "namelength": 0
         },
         "hovertemplate": "Country =%{customdata[1]}<br>Mean growth over 14d compared to max growth =%{x}<br>% cases from last 14d =%{y}<br>Confirmed Cases=%{customdata[0]}<br>Confirmed Cases today =%{customdata[2]}<br>Date=%{customdata[3]}",
         "legendgroup": "Japan",
         "marker": {
          "color": "#FFA15A",
          "size": [
           59,
           66,
           74,
           84,
           94,
           105,
           122,
           147,
           159,
           170,
           189,
           214,
           228,
           241,
           256,
           274,
           293,
           331,
           360,
           420,
           461,
           502,
           511,
           581,
           639,
           639,
           701,
           773,
           839,
           839,
           878,
           889,
           924,
           963,
           1007,
           1101,
           1128,
           1193,
           1307,
           1387,
           1468,
           1693,
           1866,
           1866,
           1953,
           2178,
           2495,
           2617,
           3139,
           3139,
           3654,
           3906,
           4257,
           4667,
           5530,
           6005,
           6748,
           7370,
           7645,
           8100,
           8626,
           9787,
           10296,
           10797,
           10797
          ],
          "sizemode": "area",
          "sizeref": 1960.815,
          "symbol": "circle"
         },
         "mode": "lines+markers",
         "name": "Japan",
         "showlegend": true,
         "type": "scatter",
         "x": [
          0.3,
          0.4,
          0.4,
          0.5,
          0.6,
          0.7,
          0.8,
          1,
          1.1,
          1.2,
          1.3,
          1.5,
          1.6,
          1.6,
          1.6,
          1.7,
          1.8,
          2,
          2.2,
          2.6,
          2.8,
          2.9,
          2.9,
          3.4,
          3.7,
          3.5,
          3.9,
          4.4,
          4.8,
          4.7,
          4.8,
          4.6,
          4.7,
          4.5,
          4.5,
          5,
          5.1,
          5.1,
          5.5,
          6.2,
          6.3,
          7.6,
          8.5,
          8.5,
          8.9,
          10.7,
          13,
          13.7,
          17.6,
          16.9,
          20.9,
          22.5,
          24.4,
          27.1,
          33.6,
          35.7,
          40.4,
          45.6,
          47.1,
          49,
          50.7,
          59.3,
          59.2,
          63.4,
          59.1
         ],
         "xaxis": "x",
         "y": [
          66.1,
          69.7,
          70.3,
          73.8,
          76.6,
          76.2,
          79.5,
          82.3,
          83.6,
          84.7,
          85.2,
          86.9,
          87.3,
          82.2,
          77,
          75.9,
          74.7,
          74.6,
          73.9,
          75,
          73.5,
          70.7,
          68.9,
          70.7,
          70.4,
          66.5,
          67.5,
          68.8,
          69.5,
          67.3,
          66.6,
          62.8,
          61,
          56.4,
          54.2,
          54.4,
          54.7,
          51.3,
          51.1,
          53.9,
          52.2,
          54.3,
          55,
          55,
          55,
          59.2,
          63,
          63.2,
          67.9,
          64.9,
          69.1,
          69.5,
          69.3,
          70.3,
          73.5,
          71.8,
          72.3,
          74.7,
          74.5,
          73.1,
          71.1,
          73.3,
          69.5,
          70.9,
          66.2
         ],
         "yaxis": "y"
        },
        {
         "customdata": [
          [
           104,
           "Korea, South",
           73,
           "2/20/20"
          ],
          [
           204,
           "Korea, South",
           100,
           "2/21/20"
          ],
          [
           433,
           "Korea, South",
           229,
           "2/22/20"
          ],
          [
           602,
           "Korea, South",
           169,
           "2/23/20"
          ],
          [
           833,
           "Korea, South",
           231,
           "2/24/20"
          ],
          [
           977,
           "Korea, South",
           144,
           "2/25/20"
          ],
          [
           1261,
           "Korea, South",
           284,
           "2/26/20"
          ],
          [
           1766,
           "Korea, South",
           505,
           "2/27/20"
          ],
          [
           2337,
           "Korea, South",
           571,
           "2/28/20"
          ],
          [
           3150,
           "Korea, South",
           813,
           "2/29/20"
          ],
          [
           3736,
           "Korea, South",
           586,
           "3/1/20"
          ],
          [
           4335,
           "Korea, South",
           599,
           "3/2/20"
          ],
          [
           5186,
           "Korea, South",
           851,
           "3/3/20"
          ],
          [
           5621,
           "Korea, South",
           435,
           "3/4/20"
          ],
          [
           6088,
           "Korea, South",
           467,
           "3/5/20"
          ],
          [
           6593,
           "Korea, South",
           505,
           "3/6/20"
          ],
          [
           7041,
           "Korea, South",
           448,
           "3/7/20"
          ],
          [
           7314,
           "Korea, South",
           273,
           "3/8/20"
          ],
          [
           7478,
           "Korea, South",
           164,
           "3/9/20"
          ],
          [
           7513,
           "Korea, South",
           35,
           "3/10/20"
          ],
          [
           7755,
           "Korea, South",
           242,
           "3/11/20"
          ],
          [
           7869,
           "Korea, South",
           114,
           "3/12/20"
          ],
          [
           7979,
           "Korea, South",
           110,
           "3/13/20"
          ],
          [
           8086,
           "Korea, South",
           107,
           "3/14/20"
          ],
          [
           8162,
           "Korea, South",
           76,
           "3/15/20"
          ],
          [
           8236,
           "Korea, South",
           74,
           "3/16/20"
          ],
          [
           8320,
           "Korea, South",
           84,
           "3/17/20"
          ],
          [
           8413,
           "Korea, South",
           93,
           "3/18/20"
          ],
          [
           8565,
           "Korea, South",
           152,
           "3/19/20"
          ],
          [
           8652,
           "Korea, South",
           87,
           "3/20/20"
          ],
          [
           8799,
           "Korea, South",
           147,
           "3/21/20"
          ],
          [
           8961,
           "Korea, South",
           162,
           "3/22/20"
          ],
          [
           8961,
           "Korea, South",
           0,
           "3/23/20"
          ],
          [
           9037,
           "Korea, South",
           76,
           "3/24/20"
          ],
          [
           9137,
           "Korea, South",
           100,
           "3/25/20"
          ],
          [
           9241,
           "Korea, South",
           104,
           "3/26/20"
          ],
          [
           9332,
           "Korea, South",
           91,
           "3/27/20"
          ],
          [
           9478,
           "Korea, South",
           146,
           "3/28/20"
          ],
          [
           9583,
           "Korea, South",
           105,
           "3/29/20"
          ],
          [
           9661,
           "Korea, South",
           78,
           "3/30/20"
          ],
          [
           9786,
           "Korea, South",
           125,
           "3/31/20"
          ],
          [
           9887,
           "Korea, South",
           101,
           "4/1/20"
          ],
          [
           9976,
           "Korea, South",
           89,
           "4/2/20"
          ],
          [
           10062,
           "Korea, South",
           86,
           "4/3/20"
          ],
          [
           10156,
           "Korea, South",
           94,
           "4/4/20"
          ],
          [
           10237,
           "Korea, South",
           81,
           "4/5/20"
          ],
          [
           10284,
           "Korea, South",
           47,
           "4/6/20"
          ],
          [
           10331,
           "Korea, South",
           47,
           "4/7/20"
          ],
          [
           10384,
           "Korea, South",
           53,
           "4/8/20"
          ],
          [
           10423,
           "Korea, South",
           39,
           "4/9/20"
          ],
          [
           10450,
           "Korea, South",
           27,
           "4/10/20"
          ],
          [
           10480,
           "Korea, South",
           30,
           "4/11/20"
          ],
          [
           10512,
           "Korea, South",
           32,
           "4/12/20"
          ],
          [
           10537,
           "Korea, South",
           25,
           "4/13/20"
          ],
          [
           10564,
           "Korea, South",
           27,
           "4/14/20"
          ],
          [
           10591,
           "Korea, South",
           27,
           "4/15/20"
          ],
          [
           10613,
           "Korea, South",
           22,
           "4/16/20"
          ],
          [
           10635,
           "Korea, South",
           22,
           "4/17/20"
          ],
          [
           10653,
           "Korea, South",
           18,
           "4/18/20"
          ],
          [
           10661,
           "Korea, South",
           8,
           "4/19/20"
          ],
          [
           10674,
           "Korea, South",
           13,
           "4/20/20"
          ]
         ],
         "hoverlabel": {
          "namelength": 0
         },
         "hovertemplate": "Country =%{customdata[1]}<br>Mean growth over 14d compared to max growth =%{x}<br>% cases from last 14d =%{y}<br>Confirmed Cases=%{customdata[0]}<br>Confirmed Cases today =%{customdata[2]}<br>Date=%{customdata[3]}",
         "legendgroup": "Korea, South",
         "marker": {
          "color": "#19d3f3",
          "size": [
           104,
           204,
           433,
           602,
           833,
           977,
           1261,
           1766,
           2337,
           3150,
           3736,
           4335,
           5186,
           5621,
           6088,
           6593,
           7041,
           7314,
           7478,
           7513,
           7755,
           7869,
           7979,
           8086,
           8162,
           8236,
           8320,
           8413,
           8565,
           8652,
           8799,
           8961,
           8961,
           9037,
           9137,
           9241,
           9332,
           9478,
           9583,
           9661,
           9786,
           9887,
           9976,
           10062,
           10156,
           10237,
           10284,
           10331,
           10384,
           10423,
           10450,
           10480,
           10512,
           10537,
           10564,
           10591,
           10613,
           10635,
           10653,
           10661,
           10674
          ],
          "sizemode": "area",
          "sizeref": 1960.815,
          "symbol": "circle"
         },
         "mode": "lines+markers",
         "name": "Korea, South",
         "showlegend": true,
         "type": "scatter",
         "x": [
          0.7,
          1.6,
          3.6,
          5.1,
          7.1,
          8.3,
          10.8,
          15.3,
          20.3,
          27.4,
          32.6,
          37.8,
          45.3,
          49.1,
          52.6,
          56.1,
          58.1,
          59,
          58.4,
          57.4,
          57.1,
          53.6,
          49.6,
          43.4,
          38.9,
          34.3,
          27.5,
          24.5,
          21.8,
          18.1,
          15.4,
          14.5,
          13,
          13.4,
          12.1,
          12.1,
          11.9,
          12.2,
          12.5,
          12.5,
          12.9,
          13,
          12.4,
          12.4,
          11.9,
          11.2,
          11.6,
          11.4,
          11,
          10.4,
          9.8,
          8.8,
          8.2,
          7.7,
          6.8,
          6.2,
          5.6,
          5,
          4.4,
          3.7,
          3.4
         ],
         "xaxis": "x",
         "y": [
          77.9,
          88.2,
          94.5,
          95.8,
          96.8,
          97.1,
          97.8,
          98.4,
          98.8,
          99.1,
          99.2,
          99.3,
          99.4,
          99.4,
          98.3,
          96.9,
          93.9,
          91.8,
          88.9,
          87,
          83.7,
          77.6,
          70.7,
          61,
          54.2,
          47.4,
          37.7,
          33.2,
          28.9,
          23.8,
          20,
          18.4,
          16.5,
          16.9,
          15.1,
          14.8,
          14.5,
          14.7,
          14.8,
          14.8,
          15,
          14.9,
          14.1,
          14,
          13.4,
          12.5,
          12.9,
          12.5,
          12,
          11.3,
          10.7,
          9.6,
          8.8,
          8.3,
          7.4,
          6.6,
          6,
          5.4,
          4.7,
          4,
          3.7
         ],
         "yaxis": "y"
        },
        {
         "customdata": [
          [
           53,
           "Mexico",
           12,
           "3/16/20"
          ],
          [
           82,
           "Mexico",
           29,
           "3/17/20"
          ],
          [
           93,
           "Mexico",
           11,
           "3/18/20"
          ],
          [
           118,
           "Mexico",
           25,
           "3/19/20"
          ],
          [
           164,
           "Mexico",
           46,
           "3/20/20"
          ],
          [
           203,
           "Mexico",
           39,
           "3/21/20"
          ],
          [
           251,
           "Mexico",
           48,
           "3/22/20"
          ],
          [
           316,
           "Mexico",
           65,
           "3/23/20"
          ],
          [
           367,
           "Mexico",
           51,
           "3/24/20"
          ],
          [
           405,
           "Mexico",
           38,
           "3/25/20"
          ],
          [
           475,
           "Mexico",
           70,
           "3/26/20"
          ],
          [
           585,
           "Mexico",
           110,
           "3/27/20"
          ],
          [
           717,
           "Mexico",
           132,
           "3/28/20"
          ],
          [
           848,
           "Mexico",
           131,
           "3/29/20"
          ],
          [
           993,
           "Mexico",
           145,
           "3/30/20"
          ],
          [
           1094,
           "Mexico",
           101,
           "3/31/20"
          ],
          [
           1215,
           "Mexico",
           121,
           "4/1/20"
          ],
          [
           1378,
           "Mexico",
           163,
           "4/2/20"
          ],
          [
           1510,
           "Mexico",
           132,
           "4/3/20"
          ],
          [
           1688,
           "Mexico",
           178,
           "4/4/20"
          ],
          [
           1890,
           "Mexico",
           202,
           "4/5/20"
          ],
          [
           2143,
           "Mexico",
           253,
           "4/6/20"
          ],
          [
           2439,
           "Mexico",
           296,
           "4/7/20"
          ],
          [
           2785,
           "Mexico",
           346,
           "4/8/20"
          ],
          [
           3181,
           "Mexico",
           396,
           "4/9/20"
          ],
          [
           3441,
           "Mexico",
           260,
           "4/10/20"
          ],
          [
           3844,
           "Mexico",
           403,
           "4/11/20"
          ],
          [
           4219,
           "Mexico",
           375,
           "4/12/20"
          ],
          [
           4661,
           "Mexico",
           442,
           "4/13/20"
          ],
          [
           5014,
           "Mexico",
           353,
           "4/14/20"
          ],
          [
           5399,
           "Mexico",
           385,
           "4/15/20"
          ],
          [
           5847,
           "Mexico",
           448,
           "4/16/20"
          ],
          [
           6297,
           "Mexico",
           450,
           "4/17/20"
          ],
          [
           6875,
           "Mexico",
           578,
           "4/18/20"
          ],
          [
           7497,
           "Mexico",
           622,
           "4/19/20"
          ],
          [
           8261,
           "Mexico",
           764,
           "4/20/20"
          ]
         ],
         "hoverlabel": {
          "namelength": 0
         },
         "hovertemplate": "Country =%{customdata[1]}<br>Mean growth over 14d compared to max growth =%{x}<br>% cases from last 14d =%{y}<br>Confirmed Cases=%{customdata[0]}<br>Confirmed Cases today =%{customdata[2]}<br>Date=%{customdata[3]}",
         "legendgroup": "Mexico",
         "marker": {
          "color": "#FF6692",
          "size": [
           53,
           82,
           93,
           118,
           164,
           203,
           251,
           316,
           367,
           405,
           475,
           585,
           717,
           848,
           993,
           1094,
           1215,
           1378,
           1510,
           1688,
           1890,
           2143,
           2439,
           2785,
           3181,
           3441,
           3844,
           4219,
           4661,
           5014,
           5399,
           5847,
           6297,
           6875,
           7497,
           8261
          ],
          "sizemode": "area",
          "sizeref": 1960.815,
          "symbol": "circle"
         },
         "mode": "lines+markers",
         "name": "Mexico",
         "showlegend": true,
         "type": "scatter",
         "x": [
          0.6,
          0.9,
          1,
          1.3,
          1.8,
          2.3,
          2.8,
          3.5,
          4.1,
          4.6,
          5.3,
          6.6,
          7.9,
          9.3,
          10.8,
          11.6,
          12.9,
          14.5,
          15.5,
          17.1,
          18.8,
          21,
          23.8,
          27.3,
          31.1,
          32.8,
          35.9,
          38.7,
          42.1,
          45,
          48,
          51.3,
          55,
          59.6,
          64.4,
          70.3
         ],
         "xaxis": "x",
         "y": [
          90.6,
          93.9,
          94.6,
          95.8,
          96.3,
          97,
          97.2,
          97.8,
          98.1,
          98,
          97.5,
          97.9,
          96.4,
          95.2,
          94.7,
          92.5,
          92.3,
          91.4,
          89.1,
          88,
          86.7,
          85.3,
          85,
          85.5,
          85.1,
          83,
          81.3,
          79.9,
          78.7,
          78.2,
          77.5,
          76.4,
          76,
          75.4,
          74.8,
          74.1
         ],
         "yaxis": "y"
        },
        {
         "customdata": [
          [
           82,
           "Netherlands",
           44,
           "3/5/20"
          ],
          [
           128,
           "Netherlands",
           46,
           "3/6/20"
          ],
          [
           188,
           "Netherlands",
           60,
           "3/7/20"
          ],
          [
           265,
           "Netherlands",
           77,
           "3/8/20"
          ],
          [
           321,
           "Netherlands",
           56,
           "3/9/20"
          ],
          [
           382,
           "Netherlands",
           61,
           "3/10/20"
          ],
          [
           503,
           "Netherlands",
           121,
           "3/11/20"
          ],
          [
           503,
           "Netherlands",
           0,
           "3/12/20"
          ],
          [
           806,
           "Netherlands",
           303,
           "3/13/20"
          ],
          [
           962,
           "Netherlands",
           156,
           "3/14/20"
          ],
          [
           1138,
           "Netherlands",
           176,
           "3/15/20"
          ],
          [
           1416,
           "Netherlands",
           278,
           "3/16/20"
          ],
          [
           1711,
           "Netherlands",
           295,
           "3/17/20"
          ],
          [
           2058,
           "Netherlands",
           347,
           "3/18/20"
          ],
          [
           2467,
           "Netherlands",
           409,
           "3/19/20"
          ],
          [
           3003,
           "Netherlands",
           536,
           "3/20/20"
          ],
          [
           3640,
           "Netherlands",
           637,
           "3/21/20"
          ],
          [
           4217,
           "Netherlands",
           577,
           "3/22/20"
          ],
          [
           4764,
           "Netherlands",
           547,
           "3/23/20"
          ],
          [
           5580,
           "Netherlands",
           816,
           "3/24/20"
          ],
          [
           6438,
           "Netherlands",
           858,
           "3/25/20"
          ],
          [
           7468,
           "Netherlands",
           1030,
           "3/26/20"
          ],
          [
           8647,
           "Netherlands",
           1179,
           "3/27/20"
          ],
          [
           9819,
           "Netherlands",
           1172,
           "3/28/20"
          ],
          [
           10930,
           "Netherlands",
           1111,
           "3/29/20"
          ],
          [
           11817,
           "Netherlands",
           887,
           "3/30/20"
          ],
          [
           12667,
           "Netherlands",
           850,
           "3/31/20"
          ],
          [
           13696,
           "Netherlands",
           1029,
           "4/1/20"
          ],
          [
           14788,
           "Netherlands",
           1092,
           "4/2/20"
          ],
          [
           15821,
           "Netherlands",
           1033,
           "4/3/20"
          ],
          [
           16727,
           "Netherlands",
           906,
           "4/4/20"
          ],
          [
           17953,
           "Netherlands",
           1226,
           "4/5/20"
          ],
          [
           18926,
           "Netherlands",
           973,
           "4/6/20"
          ],
          [
           19709,
           "Netherlands",
           783,
           "4/7/20"
          ],
          [
           20682,
           "Netherlands",
           973,
           "4/8/20"
          ],
          [
           21903,
           "Netherlands",
           1221,
           "4/9/20"
          ],
          [
           23249,
           "Netherlands",
           1346,
           "4/10/20"
          ],
          [
           24571,
           "Netherlands",
           1322,
           "4/11/20"
          ],
          [
           25746,
           "Netherlands",
           1175,
           "4/12/20"
          ],
          [
           26710,
           "Netherlands",
           964,
           "4/13/20"
          ],
          [
           27580,
           "Netherlands",
           870,
           "4/14/20"
          ],
          [
           28316,
           "Netherlands",
           736,
           "4/15/20"
          ],
          [
           29383,
           "Netherlands",
           1067,
           "4/16/20"
          ],
          [
           30619,
           "Netherlands",
           1236,
           "4/17/20"
          ],
          [
           31766,
           "Netherlands",
           1147,
           "4/18/20"
          ],
          [
           32838,
           "Netherlands",
           1072,
           "4/19/20"
          ],
          [
           33588,
           "Netherlands",
           750,
           "4/20/20"
          ]
         ],
         "hoverlabel": {
          "namelength": 0
         },
         "hovertemplate": "Country =%{customdata[1]}<br>Mean growth over 14d compared to max growth =%{x}<br>% cases from last 14d =%{y}<br>Confirmed Cases=%{customdata[0]}<br>Confirmed Cases today =%{customdata[2]}<br>Date=%{customdata[3]}",
         "legendgroup": "Netherlands",
         "marker": {
          "color": "#B6E880",
          "size": [
           82,
           128,
           188,
           265,
           321,
           382,
           503,
           503,
           806,
           962,
           1138,
           1416,
           1711,
           2058,
           2467,
           3003,
           3640,
           4217,
           4764,
           5580,
           6438,
           7468,
           8647,
           9819,
           10930,
           11817,
           12667,
           13696,
           14788,
           15821,
           16727,
           17953,
           18926,
           19709,
           20682,
           21903,
           23249,
           24571,
           25746,
           26710,
           27580,
           28316,
           29383,
           30619,
           31766,
           32838,
           33588
          ],
          "sizemode": "area",
          "sizeref": 1960.815,
          "symbol": "circle"
         },
         "mode": "lines+markers",
         "name": "Netherlands",
         "showlegend": true,
         "type": "scatter",
         "x": [
          0.4,
          0.7,
          1,
          1.4,
          1.7,
          2.1,
          2.7,
          2.7,
          4.3,
          5.2,
          6.1,
          7.6,
          9.1,
          10.9,
          12.9,
          15.5,
          18.7,
          21.4,
          24,
          28.1,
          32.1,
          37.6,
          42.4,
          47.9,
          52.9,
          56.2,
          59.2,
          62.9,
          66.6,
          69.3,
          70.7,
          74.2,
          76.5,
          76.3,
          77,
          78,
          78.9,
          79.7,
          80.1,
          80.5,
          80.6,
          79,
          78.9,
          80,
          81.3,
          80.4,
          79.2
         ],
         "xaxis": "x",
         "y": [
          100,
          100,
          100,
          100,
          100,
          100,
          100,
          99.8,
          99.9,
          99.4,
          99.1,
          98.7,
          98.6,
          98.2,
          96.7,
          95.7,
          94.8,
          93.7,
          93.3,
          93.2,
          92.2,
          93.3,
          90.7,
          90.2,
          89.6,
          88,
          86.5,
          85,
          83.3,
          81,
          78.2,
          76.5,
          74.8,
          71.7,
          68.9,
          65.9,
          62.8,
          60,
          57.5,
          55.8,
          54.1,
          51.6,
          49.7,
          48.3,
          47.3,
          45.3,
          43.7
         ],
         "yaxis": "y"
        },
        {
         "customdata": [
          [
           84,
           "Spain",
           39,
           "3/1/20"
          ],
          [
           120,
           "Spain",
           36,
           "3/2/20"
          ],
          [
           165,
           "Spain",
           45,
           "3/3/20"
          ],
          [
           222,
           "Spain",
           57,
           "3/4/20"
          ],
          [
           259,
           "Spain",
           37,
           "3/5/20"
          ],
          [
           400,
           "Spain",
           141,
           "3/6/20"
          ],
          [
           500,
           "Spain",
           100,
           "3/7/20"
          ],
          [
           673,
           "Spain",
           173,
           "3/8/20"
          ],
          [
           1073,
           "Spain",
           400,
           "3/9/20"
          ],
          [
           1695,
           "Spain",
           622,
           "3/10/20"
          ],
          [
           2277,
           "Spain",
           582,
           "3/11/20"
          ],
          [
           2277,
           "Spain",
           0,
           "3/12/20"
          ],
          [
           5232,
           "Spain",
           2955,
           "3/13/20"
          ],
          [
           6391,
           "Spain",
           1159,
           "3/14/20"
          ],
          [
           7798,
           "Spain",
           1407,
           "3/15/20"
          ],
          [
           9942,
           "Spain",
           2144,
           "3/16/20"
          ],
          [
           11748,
           "Spain",
           1806,
           "3/17/20"
          ],
          [
           13910,
           "Spain",
           2162,
           "3/18/20"
          ],
          [
           17963,
           "Spain",
           4053,
           "3/19/20"
          ],
          [
           20410,
           "Spain",
           2447,
           "3/20/20"
          ],
          [
           25374,
           "Spain",
           4964,
           "3/21/20"
          ],
          [
           28768,
           "Spain",
           3394,
           "3/22/20"
          ],
          [
           35136,
           "Spain",
           6368,
           "3/23/20"
          ],
          [
           39885,
           "Spain",
           4749,
           "3/24/20"
          ],
          [
           49515,
           "Spain",
           9630,
           "3/25/20"
          ],
          [
           57786,
           "Spain",
           8271,
           "3/26/20"
          ],
          [
           65719,
           "Spain",
           7933,
           "3/27/20"
          ],
          [
           73235,
           "Spain",
           7516,
           "3/28/20"
          ],
          [
           80110,
           "Spain",
           6875,
           "3/29/20"
          ],
          [
           87956,
           "Spain",
           7846,
           "3/30/20"
          ],
          [
           95923,
           "Spain",
           7967,
           "3/31/20"
          ],
          [
           104118,
           "Spain",
           8195,
           "4/1/20"
          ],
          [
           112065,
           "Spain",
           7947,
           "4/2/20"
          ],
          [
           119199,
           "Spain",
           7134,
           "4/3/20"
          ],
          [
           126168,
           "Spain",
           6969,
           "4/4/20"
          ],
          [
           131646,
           "Spain",
           5478,
           "4/5/20"
          ],
          [
           136675,
           "Spain",
           5029,
           "4/6/20"
          ],
          [
           141942,
           "Spain",
           5267,
           "4/7/20"
          ],
          [
           148220,
           "Spain",
           6278,
           "4/8/20"
          ],
          [
           153222,
           "Spain",
           5002,
           "4/9/20"
          ],
          [
           158273,
           "Spain",
           5051,
           "4/10/20"
          ],
          [
           163027,
           "Spain",
           4754,
           "4/11/20"
          ],
          [
           166831,
           "Spain",
           3804,
           "4/12/20"
          ],
          [
           170099,
           "Spain",
           3268,
           "4/13/20"
          ],
          [
           172541,
           "Spain",
           2442,
           "4/14/20"
          ],
          [
           177644,
           "Spain",
           5103,
           "4/15/20"
          ],
          [
           184948,
           "Spain",
           7304,
           "4/16/20"
          ],
          [
           190839,
           "Spain",
           5891,
           "4/17/20"
          ],
          [
           191726,
           "Spain",
           887,
           "4/18/20"
          ],
          [
           198674,
           "Spain",
           6948,
           "4/19/20"
          ],
          [
           200210,
           "Spain",
           1536,
           "4/20/20"
          ]
         ],
         "hoverlabel": {
          "namelength": 0
         },
         "hovertemplate": "Country =%{customdata[1]}<br>Mean growth over 14d compared to max growth =%{x}<br>% cases from last 14d =%{y}<br>Confirmed Cases=%{customdata[0]}<br>Confirmed Cases today =%{customdata[2]}<br>Date=%{customdata[3]}",
         "legendgroup": "Spain",
         "marker": {
          "color": "#FF97FF",
          "size": [
           84,
           120,
           165,
           222,
           259,
           400,
           500,
           673,
           1073,
           1695,
           2277,
           2277,
           5232,
           6391,
           7798,
           9942,
           11748,
           13910,
           17963,
           20410,
           25374,
           28768,
           35136,
           39885,
           49515,
           57786,
           65719,
           73235,
           80110,
           87956,
           95923,
           104118,
           112065,
           119199,
           126168,
           131646,
           136675,
           141942,
           148220,
           153222,
           158273,
           163027,
           166831,
           170099,
           172541,
           177644,
           184948,
           190839,
           191726,
           198674,
           200210
          ],
          "sizemode": "area",
          "sizeref": 1960.815,
          "symbol": "circle"
         },
         "mode": "lines+markers",
         "name": "Spain",
         "showlegend": true,
         "type": "scatter",
         "x": [
          0.1,
          0.1,
          0.1,
          0.2,
          0.2,
          0.3,
          0.4,
          0.6,
          0.9,
          1.5,
          2,
          2,
          4.5,
          5.5,
          6.7,
          8.5,
          10,
          11.8,
          15.3,
          17.3,
          21.5,
          24.3,
          29.4,
          33,
          40.8,
          47.9,
          52.2,
          57.7,
          62.4,
          67.4,
          72.7,
          77.9,
          81.3,
          85.3,
          87,
          88.8,
          87.7,
          88.1,
          85.2,
          82.4,
          79.9,
          77.5,
          74.9,
          70.9,
          66.2,
          63.5,
          62.9,
          61.9,
          56.6,
          57.9,
          54.9
         ],
         "xaxis": "x",
         "y": [
          97.6,
          98.3,
          98.8,
          99.1,
          99.2,
          99.5,
          99.6,
          99.7,
          99.8,
          99.6,
          99.4,
          99.3,
          99.4,
          99.3,
          98.9,
          98.8,
          98.6,
          98.4,
          98.6,
          98,
          98,
          97.7,
          96.9,
          95.8,
          95.4,
          96.1,
          92,
          91.3,
          90.3,
          88.7,
          87.8,
          86.6,
          84,
          82.9,
          79.9,
          78.1,
          74.3,
          71.9,
          66.6,
          62.3,
          58.5,
          55.1,
          52,
          48.3,
          44.4,
          41.4,
          39.4,
          37.5,
          34.2,
          33.7,
          31.7
         ],
         "yaxis": "y"
        },
        {
         "customdata": [
          [
           56,
           "Switzerland",
           14,
           "3/3/20"
          ],
          [
           90,
           "Switzerland",
           34,
           "3/4/20"
          ],
          [
           114,
           "Switzerland",
           24,
           "3/5/20"
          ],
          [
           214,
           "Switzerland",
           100,
           "3/6/20"
          ],
          [
           268,
           "Switzerland",
           54,
           "3/7/20"
          ],
          [
           337,
           "Switzerland",
           69,
           "3/8/20"
          ],
          [
           374,
           "Switzerland",
           37,
           "3/9/20"
          ],
          [
           491,
           "Switzerland",
           117,
           "3/10/20"
          ],
          [
           652,
           "Switzerland",
           161,
           "3/11/20"
          ],
          [
           652,
           "Switzerland",
           0,
           "3/12/20"
          ],
          [
           1139,
           "Switzerland",
           487,
           "3/13/20"
          ],
          [
           1359,
           "Switzerland",
           220,
           "3/14/20"
          ],
          [
           2200,
           "Switzerland",
           841,
           "3/15/20"
          ],
          [
           2200,
           "Switzerland",
           0,
           "3/16/20"
          ],
          [
           2700,
           "Switzerland",
           500,
           "3/17/20"
          ],
          [
           3028,
           "Switzerland",
           328,
           "3/18/20"
          ],
          [
           4075,
           "Switzerland",
           1047,
           "3/19/20"
          ],
          [
           5294,
           "Switzerland",
           1219,
           "3/20/20"
          ],
          [
           6575,
           "Switzerland",
           1281,
           "3/21/20"
          ],
          [
           7474,
           "Switzerland",
           899,
           "3/22/20"
          ],
          [
           8795,
           "Switzerland",
           1321,
           "3/23/20"
          ],
          [
           9877,
           "Switzerland",
           1082,
           "3/24/20"
          ],
          [
           10897,
           "Switzerland",
           1020,
           "3/25/20"
          ],
          [
           11811,
           "Switzerland",
           914,
           "3/26/20"
          ],
          [
           12928,
           "Switzerland",
           1117,
           "3/27/20"
          ],
          [
           14076,
           "Switzerland",
           1148,
           "3/28/20"
          ],
          [
           14829,
           "Switzerland",
           753,
           "3/29/20"
          ],
          [
           15922,
           "Switzerland",
           1093,
           "3/30/20"
          ],
          [
           16605,
           "Switzerland",
           683,
           "3/31/20"
          ],
          [
           17768,
           "Switzerland",
           1163,
           "4/1/20"
          ],
          [
           18827,
           "Switzerland",
           1059,
           "4/2/20"
          ],
          [
           19606,
           "Switzerland",
           779,
           "4/3/20"
          ],
          [
           20505,
           "Switzerland",
           899,
           "4/4/20"
          ],
          [
           21100,
           "Switzerland",
           595,
           "4/5/20"
          ],
          [
           21657,
           "Switzerland",
           557,
           "4/6/20"
          ],
          [
           22253,
           "Switzerland",
           596,
           "4/7/20"
          ],
          [
           23280,
           "Switzerland",
           1027,
           "4/8/20"
          ],
          [
           24051,
           "Switzerland",
           771,
           "4/9/20"
          ],
          [
           24551,
           "Switzerland",
           500,
           "4/10/20"
          ],
          [
           25107,
           "Switzerland",
           556,
           "4/11/20"
          ],
          [
           25415,
           "Switzerland",
           308,
           "4/12/20"
          ],
          [
           25688,
           "Switzerland",
           273,
           "4/13/20"
          ],
          [
           25936,
           "Switzerland",
           248,
           "4/14/20"
          ],
          [
           26336,
           "Switzerland",
           400,
           "4/15/20"
          ],
          [
           26732,
           "Switzerland",
           396,
           "4/16/20"
          ],
          [
           27078,
           "Switzerland",
           346,
           "4/17/20"
          ],
          [
           27404,
           "Switzerland",
           326,
           "4/18/20"
          ],
          [
           27740,
           "Switzerland",
           336,
           "4/19/20"
          ],
          [
           27944,
           "Switzerland",
           204,
           "4/20/20"
          ]
         ],
         "hoverlabel": {
          "namelength": 0
         },
         "hovertemplate": "Country =%{customdata[1]}<br>Mean growth over 14d compared to max growth =%{x}<br>% cases from last 14d =%{y}<br>Confirmed Cases=%{customdata[0]}<br>Confirmed Cases today =%{customdata[2]}<br>Date=%{customdata[3]}",
         "legendgroup": "Switzerland",
         "marker": {
          "color": "#FECB52",
          "size": [
           56,
           90,
           114,
           214,
           268,
           337,
           374,
           491,
           652,
           652,
           1139,
           1359,
           2200,
           2200,
           2700,
           3028,
           4075,
           5294,
           6575,
           7474,
           8795,
           9877,
           10897,
           11811,
           12928,
           14076,
           14829,
           15922,
           16605,
           17768,
           18827,
           19606,
           20505,
           21100,
           21657,
           22253,
           23280,
           24051,
           24551,
           25107,
           25415,
           25688,
           25936,
           26336,
           26732,
           27078,
           27404,
           27740,
           27944
          ],
          "sizemode": "area",
          "sizeref": 1960.815,
          "symbol": "circle"
         },
         "mode": "lines+markers",
         "name": "Switzerland",
         "showlegend": true,
         "type": "scatter",
         "x": [
          0.3,
          0.5,
          0.6,
          1.2,
          1.5,
          1.9,
          2.1,
          2.7,
          3.6,
          3.6,
          6.3,
          7.5,
          12.1,
          12,
          14.7,
          16.4,
          22.1,
          28.3,
          35.2,
          39.8,
          47,
          52.3,
          57.1,
          62.2,
          65.7,
          70.9,
          70.4,
          76.5,
          77.5,
          82.2,
          82.3,
          79.8,
          77.7,
          76,
          71.7,
          69,
          69,
          68.3,
          64.8,
          61.5,
          59,
          54.5,
          52,
          47.8,
          44.1,
          41.7,
          38.5,
          37,
          35.1
         ],
         "xaxis": "x",
         "y": [
          100,
          100,
          100,
          100,
          100,
          100,
          100,
          99.8,
          99.8,
          98.8,
          99.3,
          98.7,
          98.8,
          98.1,
          97.9,
          97,
          97.2,
          96,
          95.9,
          95.5,
          95.7,
          95,
          94,
          94.5,
          91.2,
          90.3,
          85.2,
          86.2,
          83.7,
          83,
          78.4,
          73,
          67.9,
          64.6,
          59.4,
          55.6,
          53.2,
          50.9,
          47.3,
          43.9,
          41.7,
          38,
          36,
          32.5,
          29.6,
          27.6,
          25.2,
          23.9,
          22.5
         ],
         "yaxis": "y"
        },
        {
         "customdata": [
          [
           51,
           "US",
           36,
           "2/24/20"
          ],
          [
           51,
           "US",
           0,
           "2/25/20"
          ],
          [
           57,
           "US",
           6,
           "2/26/20"
          ],
          [
           58,
           "US",
           1,
           "2/27/20"
          ],
          [
           60,
           "US",
           2,
           "2/28/20"
          ],
          [
           68,
           "US",
           8,
           "2/29/20"
          ],
          [
           74,
           "US",
           6,
           "3/1/20"
          ],
          [
           98,
           "US",
           24,
           "3/2/20"
          ],
          [
           118,
           "US",
           20,
           "3/3/20"
          ],
          [
           149,
           "US",
           31,
           "3/4/20"
          ],
          [
           217,
           "US",
           68,
           "3/5/20"
          ],
          [
           262,
           "US",
           45,
           "3/6/20"
          ],
          [
           402,
           "US",
           140,
           "3/7/20"
          ],
          [
           518,
           "US",
           116,
           "3/8/20"
          ],
          [
           583,
           "US",
           65,
           "3/9/20"
          ],
          [
           959,
           "US",
           376,
           "3/10/20"
          ],
          [
           1281,
           "US",
           322,
           "3/11/20"
          ],
          [
           1663,
           "US",
           382,
           "3/12/20"
          ],
          [
           2179,
           "US",
           516,
           "3/13/20"
          ],
          [
           2727,
           "US",
           548,
           "3/14/20"
          ],
          [
           3499,
           "US",
           772,
           "3/15/20"
          ],
          [
           4632,
           "US",
           1133,
           "3/16/20"
          ],
          [
           6421,
           "US",
           1789,
           "3/17/20"
          ],
          [
           7783,
           "US",
           1362,
           "3/18/20"
          ],
          [
           13747,
           "US",
           5964,
           "3/19/20"
          ],
          [
           19273,
           "US",
           5526,
           "3/20/20"
          ],
          [
           25600,
           "US",
           6327,
           "3/21/20"
          ],
          [
           33276,
           "US",
           7676,
           "3/22/20"
          ],
          [
           43843,
           "US",
           10567,
           "3/23/20"
          ],
          [
           53736,
           "US",
           9893,
           "3/24/20"
          ],
          [
           65778,
           "US",
           12042,
           "3/25/20"
          ],
          [
           83836,
           "US",
           18058,
           "3/26/20"
          ],
          [
           101657,
           "US",
           17821,
           "3/27/20"
          ],
          [
           121465,
           "US",
           19808,
           "3/28/20"
          ],
          [
           140909,
           "US",
           19444,
           "3/29/20"
          ],
          [
           161831,
           "US",
           20922,
           "3/30/20"
          ],
          [
           188172,
           "US",
           26341,
           "3/31/20"
          ],
          [
           213372,
           "US",
           25200,
           "4/1/20"
          ],
          [
           243762,
           "US",
           30390,
           "4/2/20"
          ],
          [
           275586,
           "US",
           31824,
           "4/3/20"
          ],
          [
           308853,
           "US",
           33267,
           "4/4/20"
          ],
          [
           337072,
           "US",
           28219,
           "4/5/20"
          ],
          [
           366667,
           "US",
           29595,
           "4/6/20"
          ],
          [
           397505,
           "US",
           30838,
           "4/7/20"
          ],
          [
           429052,
           "US",
           31547,
           "4/8/20"
          ],
          [
           462780,
           "US",
           33728,
           "4/9/20"
          ],
          [
           496535,
           "US",
           33755,
           "4/10/20"
          ],
          [
           526396,
           "US",
           29861,
           "4/11/20"
          ],
          [
           555313,
           "US",
           28917,
           "4/12/20"
          ],
          [
           580619,
           "US",
           25306,
           "4/13/20"
          ],
          [
           607670,
           "US",
           27051,
           "4/14/20"
          ],
          [
           636350,
           "US",
           28680,
           "4/15/20"
          ],
          [
           667592,
           "US",
           31242,
           "4/16/20"
          ],
          [
           699706,
           "US",
           32114,
           "4/17/20"
          ],
          [
           732197,
           "US",
           32491,
           "4/18/20"
          ],
          [
           759086,
           "US",
           26889,
           "4/19/20"
          ],
          [
           784326,
           "US",
           25240,
           "4/20/20"
          ]
         ],
         "hoverlabel": {
          "namelength": 0
         },
         "hovertemplate": "Country =%{customdata[1]}<br>Mean growth over 14d compared to max growth =%{x}<br>% cases from last 14d =%{y}<br>Confirmed Cases=%{customdata[0]}<br>Confirmed Cases today =%{customdata[2]}<br>Date=%{customdata[3]}",
         "legendgroup": "US",
         "marker": {
          "color": "#636efa",
          "size": [
           51,
           51,
           57,
           58,
           60,
           68,
           74,
           98,
           118,
           149,
           217,
           262,
           402,
           518,
           583,
           959,
           1281,
           1663,
           2179,
           2727,
           3499,
           4632,
           6421,
           7783,
           13747,
           19273,
           25600,
           33276,
           43843,
           53736,
           65778,
           83836,
           101657,
           121465,
           140909,
           161831,
           188172,
           213372,
           243762,
           275586,
           308853,
           337072,
           366667,
           397505,
           429052,
           462780,
           496535,
           526396,
           555313,
           580619,
           607670,
           636350,
           667592,
           699706,
           732197,
           759086,
           784326
          ],
          "sizemode": "area",
          "sizeref": 1960.815,
          "symbol": "circle"
         },
         "mode": "lines+markers",
         "name": "US",
         "showlegend": true,
         "type": "scatter",
         "x": [
          0,
          0,
          0,
          0,
          0,
          0,
          0,
          0,
          0,
          0,
          0,
          0.1,
          0.1,
          0.1,
          0.1,
          0.2,
          0.3,
          0.3,
          0.4,
          0.6,
          0.7,
          1,
          1.3,
          1.6,
          2.9,
          4,
          5.3,
          6.9,
          9.2,
          11.2,
          13.7,
          17.4,
          21.1,
          25.1,
          29.1,
          33.3,
          38.5,
          43.5,
          48.7,
          54.3,
          60,
          64.3,
          68.4,
          72.8,
          76.9,
          80.3,
          83.6,
          85.8,
          87.8,
          88.7,
          88.8,
          89.6,
          89.8,
          89.8,
          89.7,
          89.4,
          88.5
         ],
         "xaxis": "x",
         "y": [
          78.4,
          76.5,
          78.9,
          77.6,
          78.3,
          80.9,
          82.4,
          86.7,
          89,
          91.3,
          94,
          94.3,
          96.3,
          97.1,
          91.3,
          94.7,
          95.6,
          96.5,
          97.2,
          97.5,
          97.9,
          97.9,
          98.2,
          98.1,
          98.4,
          98.6,
          98.4,
          98.4,
          98.7,
          98.2,
          98.1,
          98,
          97.9,
          97.8,
          97.5,
          97.1,
          96.6,
          96.4,
          94.4,
          93,
          91.7,
          90.1,
          88,
          86.5,
          84.7,
          81.9,
          79.5,
          76.9,
          74.6,
          72.1,
          69,
          66.5,
          63.5,
          60.6,
          57.8,
          55.6,
          53.3
         ],
         "yaxis": "y"
        },
        {
         "customdata": [
          [
           51,
           "United Kingdom",
           11,
           "3/3/20"
          ],
          [
           86,
           "United Kingdom",
           35,
           "3/4/20"
          ],
          [
           116,
           "United Kingdom",
           30,
           "3/5/20"
          ],
          [
           164,
           "United Kingdom",
           48,
           "3/6/20"
          ],
          [
           207,
           "United Kingdom",
           43,
           "3/7/20"
          ],
          [
           274,
           "United Kingdom",
           67,
           "3/8/20"
          ],
          [
           322,
           "United Kingdom",
           48,
           "3/9/20"
          ],
          [
           384,
           "United Kingdom",
           62,
           "3/10/20"
          ],
          [
           459,
           "United Kingdom",
           75,
           "3/11/20"
          ],
          [
           459,
           "United Kingdom",
           0,
           "3/12/20"
          ],
          [
           802,
           "United Kingdom",
           343,
           "3/13/20"
          ],
          [
           1144,
           "United Kingdom",
           342,
           "3/14/20"
          ],
          [
           1145,
           "United Kingdom",
           1,
           "3/15/20"
          ],
          [
           1551,
           "United Kingdom",
           406,
           "3/16/20"
          ],
          [
           1960,
           "United Kingdom",
           409,
           "3/17/20"
          ],
          [
           2642,
           "United Kingdom",
           682,
           "3/18/20"
          ],
          [
           2716,
           "United Kingdom",
           74,
           "3/19/20"
          ],
          [
           4014,
           "United Kingdom",
           1298,
           "3/20/20"
          ],
          [
           5067,
           "United Kingdom",
           1053,
           "3/21/20"
          ],
          [
           5745,
           "United Kingdom",
           678,
           "3/22/20"
          ],
          [
           6726,
           "United Kingdom",
           981,
           "3/23/20"
          ],
          [
           8164,
           "United Kingdom",
           1438,
           "3/24/20"
          ],
          [
           9640,
           "United Kingdom",
           1476,
           "3/25/20"
          ],
          [
           11812,
           "United Kingdom",
           2172,
           "3/26/20"
          ],
          [
           14745,
           "United Kingdom",
           2933,
           "3/27/20"
          ],
          [
           17312,
           "United Kingdom",
           2567,
           "3/28/20"
          ],
          [
           19780,
           "United Kingdom",
           2468,
           "3/29/20"
          ],
          [
           22453,
           "United Kingdom",
           2673,
           "3/30/20"
          ],
          [
           25481,
           "United Kingdom",
           3028,
           "3/31/20"
          ],
          [
           29865,
           "United Kingdom",
           4384,
           "4/1/20"
          ],
          [
           34173,
           "United Kingdom",
           4308,
           "4/2/20"
          ],
          [
           38689,
           "United Kingdom",
           4516,
           "4/3/20"
          ],
          [
           42477,
           "United Kingdom",
           3788,
           "4/4/20"
          ],
          [
           48436,
           "United Kingdom",
           5959,
           "4/5/20"
          ],
          [
           52279,
           "United Kingdom",
           3843,
           "4/6/20"
          ],
          [
           55949,
           "United Kingdom",
           3670,
           "4/7/20"
          ],
          [
           61474,
           "United Kingdom",
           5525,
           "4/8/20"
          ],
          [
           65872,
           "United Kingdom",
           4398,
           "4/9/20"
          ],
          [
           74605,
           "United Kingdom",
           8733,
           "4/10/20"
          ],
          [
           79874,
           "United Kingdom",
           5269,
           "4/11/20"
          ],
          [
           85206,
           "United Kingdom",
           5332,
           "4/12/20"
          ],
          [
           89570,
           "United Kingdom",
           4364,
           "4/13/20"
          ],
          [
           94845,
           "United Kingdom",
           5275,
           "4/14/20"
          ],
          [
           99483,
           "United Kingdom",
           4638,
           "4/15/20"
          ],
          [
           104145,
           "United Kingdom",
           4662,
           "4/16/20"
          ],
          [
           109769,
           "United Kingdom",
           5624,
           "4/17/20"
          ],
          [
           115314,
           "United Kingdom",
           5545,
           "4/18/20"
          ],
          [
           121172,
           "United Kingdom",
           5858,
           "4/19/20"
          ],
          [
           125856,
           "United Kingdom",
           4684,
           "4/20/20"
          ]
         ],
         "hoverlabel": {
          "namelength": 0
         },
         "hovertemplate": "Country =%{customdata[1]}<br>Mean growth over 14d compared to max growth =%{x}<br>% cases from last 14d =%{y}<br>Confirmed Cases=%{customdata[0]}<br>Confirmed Cases today =%{customdata[2]}<br>Date=%{customdata[3]}",
         "legendgroup": "United Kingdom",
         "marker": {
          "color": "#EF553B",
          "size": [
           51,
           86,
           116,
           164,
           207,
           274,
           322,
           384,
           459,
           459,
           802,
           1144,
           1145,
           1551,
           1960,
           2642,
           2716,
           4014,
           5067,
           5745,
           6726,
           8164,
           9640,
           11812,
           14745,
           17312,
           19780,
           22453,
           25481,
           29865,
           34173,
           38689,
           42477,
           48436,
           52279,
           55949,
           61474,
           65872,
           74605,
           79874,
           85206,
           89570,
           94845,
           99483,
           104145,
           109769,
           115314,
           121172,
           125856
          ],
          "sizemode": "area",
          "sizeref": 1960.815,
          "symbol": "circle"
         },
         "mode": "lines+markers",
         "name": "United Kingdom",
         "showlegend": true,
         "type": "scatter",
         "x": [
          0.1,
          0.1,
          0.1,
          0.2,
          0.2,
          0.3,
          0.4,
          0.4,
          0.5,
          0.5,
          0.9,
          1.3,
          1.3,
          1.8,
          2.3,
          3.1,
          3.1,
          4.6,
          5.8,
          6.6,
          7.7,
          9.3,
          11,
          13.6,
          16.7,
          19.4,
          22.3,
          25.1,
          28.2,
          32.6,
          37.7,
          41.6,
          44.8,
          51.2,
          54.6,
          57.3,
          62.1,
          64.8,
          71.8,
          75,
          78.4,
          80.5,
          83.1,
          83.4,
          83.9,
          85.2,
          87.3,
          87.2,
          88.2
         ],
         "xaxis": "x",
         "y": [
          82.4,
          89.5,
          92.2,
          94.5,
          95.7,
          96.7,
          96,
          96.6,
          97.2,
          96.7,
          97.5,
          98,
          96.9,
          97.4,
          97.4,
          96.7,
          95.7,
          95.9,
          95.9,
          95.2,
          95.2,
          95.3,
          95.2,
          96.1,
          94.6,
          93.4,
          94.2,
          93.1,
          92.3,
          91.2,
          92.1,
          89.6,
          88.1,
          88.1,
          87.1,
          85.4,
          84.3,
          82.1,
          80.2,
          78.3,
          76.8,
          74.9,
          73.1,
          70,
          67.2,
          64.8,
          63.2,
          60,
          58.5
         ],
         "yaxis": "y"
        }
       ],
       "layout": {
        "legend": {
         "itemsizing": "constant",
         "title": {
          "text": "Country "
         },
         "tracegroupgap": 0
        },
        "template": {
         "data": {
          "bar": [
           {
            "error_x": {
             "color": "#2a3f5f"
            },
            "error_y": {
             "color": "#2a3f5f"
            },
            "marker": {
             "line": {
              "color": "#E5ECF6",
              "width": 0.5
             }
            },
            "type": "bar"
           }
          ],
          "barpolar": [
           {
            "marker": {
             "line": {
              "color": "#E5ECF6",
              "width": 0.5
             }
            },
            "type": "barpolar"
           }
          ],
          "carpet": [
           {
            "aaxis": {
             "endlinecolor": "#2a3f5f",
             "gridcolor": "white",
             "linecolor": "white",
             "minorgridcolor": "white",
             "startlinecolor": "#2a3f5f"
            },
            "baxis": {
             "endlinecolor": "#2a3f5f",
             "gridcolor": "white",
             "linecolor": "white",
             "minorgridcolor": "white",
             "startlinecolor": "#2a3f5f"
            },
            "type": "carpet"
           }
          ],
          "choropleth": [
           {
            "colorbar": {
             "outlinewidth": 0,
             "ticks": ""
            },
            "type": "choropleth"
           }
          ],
          "contour": [
           {
            "colorbar": {
             "outlinewidth": 0,
             "ticks": ""
            },
            "colorscale": [
             [
              0,
              "#0d0887"
             ],
             [
              0.1111111111111111,
              "#46039f"
             ],
             [
              0.2222222222222222,
              "#7201a8"
             ],
             [
              0.3333333333333333,
              "#9c179e"
             ],
             [
              0.4444444444444444,
              "#bd3786"
             ],
             [
              0.5555555555555556,
              "#d8576b"
             ],
             [
              0.6666666666666666,
              "#ed7953"
             ],
             [
              0.7777777777777778,
              "#fb9f3a"
             ],
             [
              0.8888888888888888,
              "#fdca26"
             ],
             [
              1,
              "#f0f921"
             ]
            ],
            "type": "contour"
           }
          ],
          "contourcarpet": [
           {
            "colorbar": {
             "outlinewidth": 0,
             "ticks": ""
            },
            "type": "contourcarpet"
           }
          ],
          "heatmap": [
           {
            "colorbar": {
             "outlinewidth": 0,
             "ticks": ""
            },
            "colorscale": [
             [
              0,
              "#0d0887"
             ],
             [
              0.1111111111111111,
              "#46039f"
             ],
             [
              0.2222222222222222,
              "#7201a8"
             ],
             [
              0.3333333333333333,
              "#9c179e"
             ],
             [
              0.4444444444444444,
              "#bd3786"
             ],
             [
              0.5555555555555556,
              "#d8576b"
             ],
             [
              0.6666666666666666,
              "#ed7953"
             ],
             [
              0.7777777777777778,
              "#fb9f3a"
             ],
             [
              0.8888888888888888,
              "#fdca26"
             ],
             [
              1,
              "#f0f921"
             ]
            ],
            "type": "heatmap"
           }
          ],
          "heatmapgl": [
           {
            "colorbar": {
             "outlinewidth": 0,
             "ticks": ""
            },
            "colorscale": [
             [
              0,
              "#0d0887"
             ],
             [
              0.1111111111111111,
              "#46039f"
             ],
             [
              0.2222222222222222,
              "#7201a8"
             ],
             [
              0.3333333333333333,
              "#9c179e"
             ],
             [
              0.4444444444444444,
              "#bd3786"
             ],
             [
              0.5555555555555556,
              "#d8576b"
             ],
             [
              0.6666666666666666,
              "#ed7953"
             ],
             [
              0.7777777777777778,
              "#fb9f3a"
             ],
             [
              0.8888888888888888,
              "#fdca26"
             ],
             [
              1,
              "#f0f921"
             ]
            ],
            "type": "heatmapgl"
           }
          ],
          "histogram": [
           {
            "marker": {
             "colorbar": {
              "outlinewidth": 0,
              "ticks": ""
             }
            },
            "type": "histogram"
           }
          ],
          "histogram2d": [
           {
            "colorbar": {
             "outlinewidth": 0,
             "ticks": ""
            },
            "colorscale": [
             [
              0,
              "#0d0887"
             ],
             [
              0.1111111111111111,
              "#46039f"
             ],
             [
              0.2222222222222222,
              "#7201a8"
             ],
             [
              0.3333333333333333,
              "#9c179e"
             ],
             [
              0.4444444444444444,
              "#bd3786"
             ],
             [
              0.5555555555555556,
              "#d8576b"
             ],
             [
              0.6666666666666666,
              "#ed7953"
             ],
             [
              0.7777777777777778,
              "#fb9f3a"
             ],
             [
              0.8888888888888888,
              "#fdca26"
             ],
             [
              1,
              "#f0f921"
             ]
            ],
            "type": "histogram2d"
           }
          ],
          "histogram2dcontour": [
           {
            "colorbar": {
             "outlinewidth": 0,
             "ticks": ""
            },
            "colorscale": [
             [
              0,
              "#0d0887"
             ],
             [
              0.1111111111111111,
              "#46039f"
             ],
             [
              0.2222222222222222,
              "#7201a8"
             ],
             [
              0.3333333333333333,
              "#9c179e"
             ],
             [
              0.4444444444444444,
              "#bd3786"
             ],
             [
              0.5555555555555556,
              "#d8576b"
             ],
             [
              0.6666666666666666,
              "#ed7953"
             ],
             [
              0.7777777777777778,
              "#fb9f3a"
             ],
             [
              0.8888888888888888,
              "#fdca26"
             ],
             [
              1,
              "#f0f921"
             ]
            ],
            "type": "histogram2dcontour"
           }
          ],
          "mesh3d": [
           {
            "colorbar": {
             "outlinewidth": 0,
             "ticks": ""
            },
            "type": "mesh3d"
           }
          ],
          "parcoords": [
           {
            "line": {
             "colorbar": {
              "outlinewidth": 0,
              "ticks": ""
             }
            },
            "type": "parcoords"
           }
          ],
          "pie": [
           {
            "automargin": true,
            "type": "pie"
           }
          ],
          "scatter": [
           {
            "marker": {
             "colorbar": {
              "outlinewidth": 0,
              "ticks": ""
             }
            },
            "type": "scatter"
           }
          ],
          "scatter3d": [
           {
            "line": {
             "colorbar": {
              "outlinewidth": 0,
              "ticks": ""
             }
            },
            "marker": {
             "colorbar": {
              "outlinewidth": 0,
              "ticks": ""
             }
            },
            "type": "scatter3d"
           }
          ],
          "scattercarpet": [
           {
            "marker": {
             "colorbar": {
              "outlinewidth": 0,
              "ticks": ""
             }
            },
            "type": "scattercarpet"
           }
          ],
          "scattergeo": [
           {
            "marker": {
             "colorbar": {
              "outlinewidth": 0,
              "ticks": ""
             }
            },
            "type": "scattergeo"
           }
          ],
          "scattergl": [
           {
            "marker": {
             "colorbar": {
              "outlinewidth": 0,
              "ticks": ""
             }
            },
            "type": "scattergl"
           }
          ],
          "scattermapbox": [
           {
            "marker": {
             "colorbar": {
              "outlinewidth": 0,
              "ticks": ""
             }
            },
            "type": "scattermapbox"
           }
          ],
          "scatterpolar": [
           {
            "marker": {
             "colorbar": {
              "outlinewidth": 0,
              "ticks": ""
             }
            },
            "type": "scatterpolar"
           }
          ],
          "scatterpolargl": [
           {
            "marker": {
             "colorbar": {
              "outlinewidth": 0,
              "ticks": ""
             }
            },
            "type": "scatterpolargl"
           }
          ],
          "scatterternary": [
           {
            "marker": {
             "colorbar": {
              "outlinewidth": 0,
              "ticks": ""
             }
            },
            "type": "scatterternary"
           }
          ],
          "surface": [
           {
            "colorbar": {
             "outlinewidth": 0,
             "ticks": ""
            },
            "colorscale": [
             [
              0,
              "#0d0887"
             ],
             [
              0.1111111111111111,
              "#46039f"
             ],
             [
              0.2222222222222222,
              "#7201a8"
             ],
             [
              0.3333333333333333,
              "#9c179e"
             ],
             [
              0.4444444444444444,
              "#bd3786"
             ],
             [
              0.5555555555555556,
              "#d8576b"
             ],
             [
              0.6666666666666666,
              "#ed7953"
             ],
             [
              0.7777777777777778,
              "#fb9f3a"
             ],
             [
              0.8888888888888888,
              "#fdca26"
             ],
             [
              1,
              "#f0f921"
             ]
            ],
            "type": "surface"
           }
          ],
          "table": [
           {
            "cells": {
             "fill": {
              "color": "#EBF0F8"
             },
             "line": {
              "color": "white"
             }
            },
            "header": {
             "fill": {
              "color": "#C8D4E3"
             },
             "line": {
              "color": "white"
             }
            },
            "type": "table"
           }
          ]
         },
         "layout": {
          "annotationdefaults": {
           "arrowcolor": "#2a3f5f",
           "arrowhead": 0,
           "arrowwidth": 1
          },
          "coloraxis": {
           "colorbar": {
            "outlinewidth": 0,
            "ticks": ""
           }
          },
          "colorscale": {
           "diverging": [
            [
             0,
             "#8e0152"
            ],
            [
             0.1,
             "#c51b7d"
            ],
            [
             0.2,
             "#de77ae"
            ],
            [
             0.3,
             "#f1b6da"
            ],
            [
             0.4,
             "#fde0ef"
            ],
            [
             0.5,
             "#f7f7f7"
            ],
            [
             0.6,
             "#e6f5d0"
            ],
            [
             0.7,
             "#b8e186"
            ],
            [
             0.8,
             "#7fbc41"
            ],
            [
             0.9,
             "#4d9221"
            ],
            [
             1,
             "#276419"
            ]
           ],
           "sequential": [
            [
             0,
             "#0d0887"
            ],
            [
             0.1111111111111111,
             "#46039f"
            ],
            [
             0.2222222222222222,
             "#7201a8"
            ],
            [
             0.3333333333333333,
             "#9c179e"
            ],
            [
             0.4444444444444444,
             "#bd3786"
            ],
            [
             0.5555555555555556,
             "#d8576b"
            ],
            [
             0.6666666666666666,
             "#ed7953"
            ],
            [
             0.7777777777777778,
             "#fb9f3a"
            ],
            [
             0.8888888888888888,
             "#fdca26"
            ],
            [
             1,
             "#f0f921"
            ]
           ],
           "sequentialminus": [
            [
             0,
             "#0d0887"
            ],
            [
             0.1111111111111111,
             "#46039f"
            ],
            [
             0.2222222222222222,
             "#7201a8"
            ],
            [
             0.3333333333333333,
             "#9c179e"
            ],
            [
             0.4444444444444444,
             "#bd3786"
            ],
            [
             0.5555555555555556,
             "#d8576b"
            ],
            [
             0.6666666666666666,
             "#ed7953"
            ],
            [
             0.7777777777777778,
             "#fb9f3a"
            ],
            [
             0.8888888888888888,
             "#fdca26"
            ],
            [
             1,
             "#f0f921"
            ]
           ]
          },
          "colorway": [
           "#636efa",
           "#EF553B",
           "#00cc96",
           "#ab63fa",
           "#FFA15A",
           "#19d3f3",
           "#FF6692",
           "#B6E880",
           "#FF97FF",
           "#FECB52"
          ],
          "font": {
           "color": "#2a3f5f"
          },
          "geo": {
           "bgcolor": "white",
           "lakecolor": "white",
           "landcolor": "#E5ECF6",
           "showlakes": true,
           "showland": true,
           "subunitcolor": "white"
          },
          "hoverlabel": {
           "align": "left"
          },
          "hovermode": "closest",
          "mapbox": {
           "style": "light"
          },
          "paper_bgcolor": "white",
          "plot_bgcolor": "#E5ECF6",
          "polar": {
           "angularaxis": {
            "gridcolor": "white",
            "linecolor": "white",
            "ticks": ""
           },
           "bgcolor": "#E5ECF6",
           "radialaxis": {
            "gridcolor": "white",
            "linecolor": "white",
            "ticks": ""
           }
          },
          "scene": {
           "xaxis": {
            "backgroundcolor": "#E5ECF6",
            "gridcolor": "white",
            "gridwidth": 2,
            "linecolor": "white",
            "showbackground": true,
            "ticks": "",
            "zerolinecolor": "white"
           },
           "yaxis": {
            "backgroundcolor": "#E5ECF6",
            "gridcolor": "white",
            "gridwidth": 2,
            "linecolor": "white",
            "showbackground": true,
            "ticks": "",
            "zerolinecolor": "white"
           },
           "zaxis": {
            "backgroundcolor": "#E5ECF6",
            "gridcolor": "white",
            "gridwidth": 2,
            "linecolor": "white",
            "showbackground": true,
            "ticks": "",
            "zerolinecolor": "white"
           }
          },
          "shapedefaults": {
           "line": {
            "color": "#2a3f5f"
           }
          },
          "ternary": {
           "aaxis": {
            "gridcolor": "white",
            "linecolor": "white",
            "ticks": ""
           },
           "baxis": {
            "gridcolor": "white",
            "linecolor": "white",
            "ticks": ""
           },
           "bgcolor": "#E5ECF6",
           "caxis": {
            "gridcolor": "white",
            "linecolor": "white",
            "ticks": ""
           }
          },
          "title": {
           "x": 0.05
          },
          "xaxis": {
           "automargin": true,
           "gridcolor": "white",
           "linecolor": "white",
           "ticks": "",
           "title": {
            "standoff": 15
           },
           "zerolinecolor": "white",
           "zerolinewidth": 2
          },
          "yaxis": {
           "automargin": true,
           "gridcolor": "white",
           "linecolor": "white",
           "ticks": "",
           "title": {
            "standoff": 15
           },
           "zerolinecolor": "white",
           "zerolinewidth": 2
          }
         }
        },
        "title": {
         "text": "Confirmed Cases - World"
        },
        "xaxis": {
         "anchor": "y",
         "domain": [
          0,
          1
         ],
         "rangemode": "tozero",
         "title": {
          "text": "Mean Daily Growth over 14 previous days compared to Max Daily Growth (%)"
         }
        },
        "yaxis": {
         "anchor": "x",
         "domain": [
          0,
          1
         ],
         "rangemode": "tozero",
         "title": {
          "text": "Percentage of Total occuring in the last 14 days (%)"
         }
        }
       }
      },
      "text/html": [
       "<div>\n",
       "        \n",
       "        \n",
       "            <div id=\"34e18a70-2ae1-4dba-96ab-bf510a614c8e\" class=\"plotly-graph-div\" style=\"height:525px; width:100%;\"></div>\n",
       "            <script type=\"text/javascript\">\n",
       "                require([\"plotly\"], function(Plotly) {\n",
       "                    window.PLOTLYENV=window.PLOTLYENV || {};\n",
       "                    \n",
       "                if (document.getElementById(\"34e18a70-2ae1-4dba-96ab-bf510a614c8e\")) {\n",
       "                    Plotly.newPlot(\n",
       "                        '34e18a70-2ae1-4dba-96ab-bf510a614c8e',\n",
       "                        [{\"customdata\": [[52.0, \"Brazil\", 14.0, \"3/12/20\"], [151.0, \"Brazil\", 99.0, \"3/13/20\"], [151.0, \"Brazil\", 0.0, \"3/14/20\"], [162.0, \"Brazil\", 11.0, \"3/15/20\"], [200.0, \"Brazil\", 38.0, \"3/16/20\"], [321.0, \"Brazil\", 121.0, \"3/17/20\"], [372.0, \"Brazil\", 51.0, \"3/18/20\"], [621.0, \"Brazil\", 249.0, \"3/19/20\"], [793.0, \"Brazil\", 172.0, \"3/20/20\"], [1021.0, \"Brazil\", 228.0, \"3/21/20\"], [1546.0, \"Brazil\", 525.0, \"3/22/20\"], [1924.0, \"Brazil\", 378.0, \"3/23/20\"], [2247.0, \"Brazil\", 323.0, \"3/24/20\"], [2554.0, \"Brazil\", 307.0, \"3/25/20\"], [2985.0, \"Brazil\", 431.0, \"3/26/20\"], [3417.0, \"Brazil\", 432.0, \"3/27/20\"], [3904.0, \"Brazil\", 487.0, \"3/28/20\"], [4256.0, \"Brazil\", 352.0, \"3/29/20\"], [4579.0, \"Brazil\", 323.0, \"3/30/20\"], [5717.0, \"Brazil\", 1138.0, \"3/31/20\"], [6836.0, \"Brazil\", 1119.0, \"4/1/20\"], [8044.0, \"Brazil\", 1208.0, \"4/2/20\"], [9056.0, \"Brazil\", 1012.0, \"4/3/20\"], [10360.0, \"Brazil\", 1304.0, \"4/4/20\"], [11130.0, \"Brazil\", 770.0, \"4/5/20\"], [12161.0, \"Brazil\", 1031.0, \"4/6/20\"], [14034.0, \"Brazil\", 1873.0, \"4/7/20\"], [16170.0, \"Brazil\", 2136.0, \"4/8/20\"], [18092.0, \"Brazil\", 1922.0, \"4/9/20\"], [19638.0, \"Brazil\", 1546.0, \"4/10/20\"], [20727.0, \"Brazil\", 1089.0, \"4/11/20\"], [22192.0, \"Brazil\", 1465.0, \"4/12/20\"], [23430.0, \"Brazil\", 1238.0, \"4/13/20\"], [25262.0, \"Brazil\", 1832.0, \"4/14/20\"], [28320.0, \"Brazil\", 3058.0, \"4/15/20\"], [30425.0, \"Brazil\", 2105.0, \"4/16/20\"], [33682.0, \"Brazil\", 3257.0, \"4/17/20\"], [36658.0, \"Brazil\", 2976.0, \"4/18/20\"], [38654.0, \"Brazil\", 1996.0, \"4/19/20\"], [40743.0, \"Brazil\", 2089.0, \"4/20/20\"]], \"hoverlabel\": {\"namelength\": 0}, \"hovertemplate\": \"Country =%{customdata[1]}<br>Mean growth over 14d compared to max growth =%{x}<br>% cases from last 14d =%{y}<br>Confirmed Cases=%{customdata[0]}<br>Confirmed Cases today =%{customdata[2]}<br>Date=%{customdata[3]}\", \"legendgroup\": \"Brazil\", \"marker\": {\"color\": \"#636efa\", \"size\": [52.0, 151.0, 151.0, 162.0, 200.0, 321.0, 372.0, 621.0, 793.0, 1021.0, 1546.0, 1924.0, 2247.0, 2554.0, 2985.0, 3417.0, 3904.0, 4256.0, 4579.0, 5717.0, 6836.0, 8044.0, 9056.0, 10360.0, 11130.0, 12161.0, 14034.0, 16170.0, 18092.0, 19638.0, 20727.0, 22192.0, 23430.0, 25262.0, 28320.0, 30425.0, 33682.0, 36658.0, 38654.0, 40743.0], \"sizemode\": \"area\", \"sizeref\": 1960.815, \"symbol\": \"circle\"}, \"mode\": \"lines+markers\", \"name\": \"Brazil\", \"showlegend\": true, \"type\": \"scatter\", \"x\": [0.1, 0.4, 0.3, 0.4, 0.5, 0.7, 0.9, 1.4, 1.8, 2.4, 3.6, 4.4, 5.2, 5.9, 6.9, 7.6, 8.8, 9.6, 10.2, 12.6, 15.1, 17.3, 19.3, 21.8, 22.4, 23.9, 27.5, 31.8, 35.3, 37.9, 39.3, 41.9, 44.0, 45.7, 50.2, 52.3, 57.5, 61.4, 64.3, 66.8], \"xaxis\": \"x\", \"y\": [98.1, 99.3, 98.7, 98.8, 99.0, 99.4, 98.9, 99.4, 98.4, 98.7, 98.7, 98.7, 98.6, 98.5, 98.3, 95.6, 96.1, 96.2, 95.6, 94.4, 94.6, 92.3, 91.2, 90.1, 86.1, 84.2, 84.0, 84.2, 83.5, 82.6, 81.2, 80.8, 80.5, 77.4, 75.9, 73.6, 73.1, 71.7, 71.2, 70.2], \"yaxis\": \"y\"}, {\"customdata\": [[57.0, \"France\", 19.0, \"2/28/20\"], [100.0, \"France\", 43.0, \"2/29/20\"], [130.0, \"France\", 30.0, \"3/1/20\"], [191.0, \"France\", 61.0, \"3/2/20\"], [204.0, \"France\", 13.0, \"3/3/20\"], [288.0, \"France\", 84.0, \"3/4/20\"], [380.0, \"France\", 92.0, \"3/5/20\"], [656.0, \"France\", 276.0, \"3/6/20\"], [959.0, \"France\", 303.0, \"3/7/20\"], [1136.0, \"France\", 177.0, \"3/8/20\"], [1219.0, \"France\", 83.0, \"3/9/20\"], [1794.0, \"France\", 575.0, \"3/10/20\"], [2293.0, \"France\", 499.0, \"3/11/20\"], [2293.0, \"France\", 0.0, \"3/12/20\"], [3681.0, \"France\", 1388.0, \"3/13/20\"], [4496.0, \"France\", 815.0, \"3/14/20\"], [4532.0, \"France\", 36.0, \"3/15/20\"], [6683.0, \"France\", 2151.0, \"3/16/20\"], [7715.0, \"France\", 1032.0, \"3/17/20\"], [9124.0, \"France\", 1409.0, \"3/18/20\"], [10970.0, \"France\", 1846.0, \"3/19/20\"], [12758.0, \"France\", 1788.0, \"3/20/20\"], [14463.0, \"France\", 1705.0, \"3/21/20\"], [16243.0, \"France\", 1780.0, \"3/22/20\"], [20123.0, \"France\", 3880.0, \"3/23/20\"], [22622.0, \"France\", 2499.0, \"3/24/20\"], [25600.0, \"France\", 2978.0, \"3/25/20\"], [29551.0, \"France\", 3951.0, \"3/26/20\"], [33402.0, \"France\", 3851.0, \"3/27/20\"], [38105.0, \"France\", 4703.0, \"3/28/20\"], [40708.0, \"France\", 2603.0, \"3/29/20\"], [45170.0, \"France\", 4462.0, \"3/30/20\"], [52827.0, \"France\", 7657.0, \"3/31/20\"], [57749.0, \"France\", 4922.0, \"4/1/20\"], [59929.0, \"France\", 2180.0, \"4/2/20\"], [65202.0, \"France\", 5273.0, \"4/3/20\"], [69500.0, \"France\", 4298.0, \"4/4/20\"], [71412.0, \"France\", 1912.0, \"4/5/20\"], [75343.0, \"France\", 3931.0, \"4/6/20\"], [79163.0, \"France\", 3820.0, \"4/7/20\"], [83057.0, \"France\", 3894.0, \"4/8/20\"], [87366.0, \"France\", 4309.0, \"4/9/20\"], [91738.0, \"France\", 4372.0, \"4/10/20\"], [94863.0, \"France\", 3125.0, \"4/11/20\"], [121712.0, \"France\", 26849.0, \"4/12/20\"], [125394.0, \"France\", 3682.0, \"4/13/20\"], [131361.0, \"France\", 5967.0, \"4/14/20\"], [134582.0, \"France\", 3221.0, \"4/15/20\"], [147091.0, \"France\", 12509.0, \"4/16/20\"], [149130.0, \"France\", 2039.0, \"4/17/20\"], [149149.0, \"France\", 19.0, \"4/18/20\"], [154097.0, \"France\", 4948.0, \"4/19/20\"], [156480.0, \"France\", 2383.0, \"4/20/20\"]], \"hoverlabel\": {\"namelength\": 0}, \"hovertemplate\": \"Country =%{customdata[1]}<br>Mean growth over 14d compared to max growth =%{x}<br>% cases from last 14d =%{y}<br>Confirmed Cases=%{customdata[0]}<br>Confirmed Cases today =%{customdata[2]}<br>Date=%{customdata[3]}\", \"legendgroup\": \"France\", \"marker\": {\"color\": \"#EF553B\", \"size\": [57.0, 100.0, 130.0, 191.0, 204.0, 288.0, 380.0, 656.0, 959.0, 1136.0, 1219.0, 1794.0, 2293.0, 2293.0, 3681.0, 4496.0, 4532.0, 6683.0, 7715.0, 9124.0, 10970.0, 12758.0, 14463.0, 16243.0, 20123.0, 22622.0, 25600.0, 29551.0, 33402.0, 38105.0, 40708.0, 45170.0, 52827.0, 57749.0, 59929.0, 65202.0, 69500.0, 71412.0, 75343.0, 79163.0, 83057.0, 87366.0, 91738.0, 94863.0, 121712.0, 125394.0, 131361.0, 134582.0, 147091.0, 149130.0, 149149.0, 154097.0, 156480.0], \"sizemode\": \"area\", \"sizeref\": 1960.815, \"symbol\": \"circle\"}, \"mode\": \"lines+markers\", \"name\": \"France\", \"showlegend\": true, \"type\": \"scatter\", \"x\": [0.0, 0.1, 0.1, 0.1, 0.1, 0.2, 0.2, 0.4, 0.5, 0.6, 0.7, 1.0, 1.3, 1.3, 2.1, 2.5, 2.5, 3.7, 4.3, 5.0, 6.0, 6.9, 7.7, 8.6, 10.8, 11.9, 13.3, 15.6, 17.0, 19.2, 20.7, 22.0, 25.8, 27.8, 28.0, 29.9, 31.4, 31.5, 31.5, 32.3, 32.8, 33.0, 33.3, 32.4, 46.3, 45.8, 44.8, 43.9, 49.8, 47.9, 45.5, 47.2, 46.3], \"xaxis\": \"x\", \"y\": [80.7, 88.0, 90.8, 93.7, 94.1, 95.8, 96.8, 98.2, 98.7, 98.9, 99.0, 99.2, 99.2, 98.3, 98.5, 97.8, 97.1, 97.1, 97.4, 96.8, 96.5, 94.9, 93.4, 93.0, 93.9, 92.1, 91.0, 92.2, 89.0, 88.2, 88.9, 85.2, 85.4, 84.2, 81.7, 80.4, 79.2, 77.3, 73.3, 71.4, 69.2, 66.2, 63.6, 59.8, 66.6, 64.0, 59.8, 57.1, 59.3, 56.3, 53.4, 53.7, 51.9], \"yaxis\": \"y\"}, {\"customdata\": [[79.0, \"Germany\", 31.0, \"2/29/20\"], [130.0, \"Germany\", 51.0, \"3/1/20\"], [159.0, \"Germany\", 29.0, \"3/2/20\"], [196.0, \"Germany\", 37.0, \"3/3/20\"], [262.0, \"Germany\", 66.0, \"3/4/20\"], [482.0, \"Germany\", 220.0, \"3/5/20\"], [670.0, \"Germany\", 188.0, \"3/6/20\"], [799.0, \"Germany\", 129.0, \"3/7/20\"], [1040.0, \"Germany\", 241.0, \"3/8/20\"], [1176.0, \"Germany\", 136.0, \"3/9/20\"], [1457.0, \"Germany\", 281.0, \"3/10/20\"], [1908.0, \"Germany\", 451.0, \"3/11/20\"], [2078.0, \"Germany\", 170.0, \"3/12/20\"], [3675.0, \"Germany\", 1597.0, \"3/13/20\"], [4585.0, \"Germany\", 910.0, \"3/14/20\"], [5795.0, \"Germany\", 1210.0, \"3/15/20\"], [7272.0, \"Germany\", 1477.0, \"3/16/20\"], [9257.0, \"Germany\", 1985.0, \"3/17/20\"], [12327.0, \"Germany\", 3070.0, \"3/18/20\"], [15320.0, \"Germany\", 2993.0, \"3/19/20\"], [19848.0, \"Germany\", 4528.0, \"3/20/20\"], [22213.0, \"Germany\", 2365.0, \"3/21/20\"], [24873.0, \"Germany\", 2660.0, \"3/22/20\"], [29056.0, \"Germany\", 4183.0, \"3/23/20\"], [32986.0, \"Germany\", 3930.0, \"3/24/20\"], [37323.0, \"Germany\", 4337.0, \"3/25/20\"], [43938.0, \"Germany\", 6615.0, \"3/26/20\"], [50871.0, \"Germany\", 6933.0, \"3/27/20\"], [57695.0, \"Germany\", 6824.0, \"3/28/20\"], [62095.0, \"Germany\", 4400.0, \"3/29/20\"], [66885.0, \"Germany\", 4790.0, \"3/30/20\"], [71808.0, \"Germany\", 4923.0, \"3/31/20\"], [77872.0, \"Germany\", 6064.0, \"4/1/20\"], [84794.0, \"Germany\", 6922.0, \"4/2/20\"], [91159.0, \"Germany\", 6365.0, \"4/3/20\"], [96092.0, \"Germany\", 4933.0, \"4/4/20\"], [100123.0, \"Germany\", 4031.0, \"4/5/20\"], [103374.0, \"Germany\", 3251.0, \"4/6/20\"], [107663.0, \"Germany\", 4289.0, \"4/7/20\"], [113296.0, \"Germany\", 5633.0, \"4/8/20\"], [118181.0, \"Germany\", 4885.0, \"4/9/20\"], [122171.0, \"Germany\", 3990.0, \"4/10/20\"], [124908.0, \"Germany\", 2737.0, \"4/11/20\"], [127854.0, \"Germany\", 2946.0, \"4/12/20\"], [130072.0, \"Germany\", 2218.0, \"4/13/20\"], [131359.0, \"Germany\", 1287.0, \"4/14/20\"], [134753.0, \"Germany\", 3394.0, \"4/15/20\"], [137698.0, \"Germany\", 2945.0, \"4/16/20\"], [141397.0, \"Germany\", 3699.0, \"4/17/20\"], [143342.0, \"Germany\", 1945.0, \"4/18/20\"], [145184.0, \"Germany\", 1842.0, \"4/19/20\"], [147065.0, \"Germany\", 1881.0, \"4/20/20\"]], \"hoverlabel\": {\"namelength\": 0}, \"hovertemplate\": \"Country =%{customdata[1]}<br>Mean growth over 14d compared to max growth =%{x}<br>% cases from last 14d =%{y}<br>Confirmed Cases=%{customdata[0]}<br>Confirmed Cases today =%{customdata[2]}<br>Date=%{customdata[3]}\", \"legendgroup\": \"Germany\", \"marker\": {\"color\": \"#00cc96\", \"size\": [79.0, 130.0, 159.0, 196.0, 262.0, 482.0, 670.0, 799.0, 1040.0, 1176.0, 1457.0, 1908.0, 2078.0, 3675.0, 4585.0, 5795.0, 7272.0, 9257.0, 12327.0, 15320.0, 19848.0, 22213.0, 24873.0, 29056.0, 32986.0, 37323.0, 43938.0, 50871.0, 57695.0, 62095.0, 66885.0, 71808.0, 77872.0, 84794.0, 91159.0, 96092.0, 100123.0, 103374.0, 107663.0, 113296.0, 118181.0, 122171.0, 124908.0, 127854.0, 130072.0, 131359.0, 134753.0, 137698.0, 141397.0, 143342.0, 145184.0, 147065.0], \"sizemode\": \"area\", \"sizeref\": 1960.815, \"symbol\": \"circle\"}, \"mode\": \"lines+markers\", \"name\": \"Germany\", \"showlegend\": true, \"type\": \"scatter\", \"x\": [0.1, 0.1, 0.1, 0.2, 0.3, 0.5, 0.7, 0.8, 1.1, 1.2, 1.5, 1.9, 2.1, 3.7, 4.6, 5.8, 7.3, 9.4, 12.4, 15.3, 19.8, 22.1, 24.6, 28.8, 32.5, 36.5, 43.2, 48.7, 54.8, 58.1, 61.5, 64.5, 67.6, 71.7, 73.6, 76.2, 77.7, 76.7, 77.1, 78.4, 76.6, 73.6, 69.4, 67.9, 65.2, 61.5, 58.7, 54.6, 51.8, 48.8, 46.5, 45.1], \"xaxis\": \"x\", \"y\": [79.7, 87.7, 89.9, 91.8, 93.9, 96.7, 97.6, 98.0, 98.5, 98.6, 98.8, 98.6, 97.8, 98.7, 98.3, 97.8, 97.8, 97.9, 97.9, 96.9, 96.6, 96.4, 95.8, 96.0, 95.6, 94.9, 95.3, 92.8, 92.1, 90.7, 89.1, 87.1, 84.2, 81.9, 78.2, 76.9, 75.2, 71.9, 69.4, 67.1, 62.8, 58.4, 53.8, 51.4, 48.6, 45.3, 42.2, 38.4, 35.5, 33.0, 31.0, 29.7], \"yaxis\": \"y\"}, {\"customdata\": [[62.0, \"Italy\", 42.0, \"2/22/20\"], [155.0, \"Italy\", 93.0, \"2/23/20\"], [229.0, \"Italy\", 74.0, \"2/24/20\"], [322.0, \"Italy\", 93.0, \"2/25/20\"], [453.0, \"Italy\", 131.0, \"2/26/20\"], [655.0, \"Italy\", 202.0, \"2/27/20\"], [888.0, \"Italy\", 233.0, \"2/28/20\"], [1128.0, \"Italy\", 240.0, \"2/29/20\"], [1694.0, \"Italy\", 566.0, \"3/1/20\"], [2036.0, \"Italy\", 342.0, \"3/2/20\"], [2502.0, \"Italy\", 466.0, \"3/3/20\"], [3089.0, \"Italy\", 587.0, \"3/4/20\"], [3858.0, \"Italy\", 769.0, \"3/5/20\"], [4636.0, \"Italy\", 778.0, \"3/6/20\"], [5883.0, \"Italy\", 1247.0, \"3/7/20\"], [7375.0, \"Italy\", 1492.0, \"3/8/20\"], [9172.0, \"Italy\", 1797.0, \"3/9/20\"], [10149.0, \"Italy\", 977.0, \"3/10/20\"], [12462.0, \"Italy\", 2313.0, \"3/11/20\"], [12462.0, \"Italy\", 0.0, \"3/12/20\"], [17660.0, \"Italy\", 5198.0, \"3/13/20\"], [21157.0, \"Italy\", 3497.0, \"3/14/20\"], [24747.0, \"Italy\", 3590.0, \"3/15/20\"], [27980.0, \"Italy\", 3233.0, \"3/16/20\"], [31506.0, \"Italy\", 3526.0, \"3/17/20\"], [35713.0, \"Italy\", 4207.0, \"3/18/20\"], [41035.0, \"Italy\", 5322.0, \"3/19/20\"], [47021.0, \"Italy\", 5986.0, \"3/20/20\"], [53578.0, \"Italy\", 6557.0, \"3/21/20\"], [59138.0, \"Italy\", 5560.0, \"3/22/20\"], [63927.0, \"Italy\", 4789.0, \"3/23/20\"], [69176.0, \"Italy\", 5249.0, \"3/24/20\"], [74386.0, \"Italy\", 5210.0, \"3/25/20\"], [80589.0, \"Italy\", 6203.0, \"3/26/20\"], [86498.0, \"Italy\", 5909.0, \"3/27/20\"], [92472.0, \"Italy\", 5974.0, \"3/28/20\"], [97689.0, \"Italy\", 5217.0, \"3/29/20\"], [101739.0, \"Italy\", 4050.0, \"3/30/20\"], [105792.0, \"Italy\", 4053.0, \"3/31/20\"], [110574.0, \"Italy\", 4782.0, \"4/1/20\"], [115242.0, \"Italy\", 4668.0, \"4/2/20\"], [119827.0, \"Italy\", 4585.0, \"4/3/20\"], [124632.0, \"Italy\", 4805.0, \"4/4/20\"], [128948.0, \"Italy\", 4316.0, \"4/5/20\"], [132547.0, \"Italy\", 3599.0, \"4/6/20\"], [135586.0, \"Italy\", 3039.0, \"4/7/20\"], [139422.0, \"Italy\", 3836.0, \"4/8/20\"], [143626.0, \"Italy\", 4204.0, \"4/9/20\"], [147577.0, \"Italy\", 3951.0, \"4/10/20\"], [152271.0, \"Italy\", 4694.0, \"4/11/20\"], [156363.0, \"Italy\", 4092.0, \"4/12/20\"], [159516.0, \"Italy\", 3153.0, \"4/13/20\"], [162488.0, \"Italy\", 2972.0, \"4/14/20\"], [165155.0, \"Italy\", 2667.0, \"4/15/20\"], [168941.0, \"Italy\", 3786.0, \"4/16/20\"], [172434.0, \"Italy\", 3493.0, \"4/17/20\"], [175925.0, \"Italy\", 3491.0, \"4/18/20\"], [178972.0, \"Italy\", 3047.0, \"4/19/20\"], [181228.0, \"Italy\", 2256.0, \"4/20/20\"]], \"hoverlabel\": {\"namelength\": 0}, \"hovertemplate\": \"Country =%{customdata[1]}<br>Mean growth over 14d compared to max growth =%{x}<br>% cases from last 14d =%{y}<br>Confirmed Cases=%{customdata[0]}<br>Confirmed Cases today =%{customdata[2]}<br>Date=%{customdata[3]}\", \"legendgroup\": \"Italy\", \"marker\": {\"color\": \"#ab63fa\", \"size\": [62.0, 155.0, 229.0, 322.0, 453.0, 655.0, 888.0, 1128.0, 1694.0, 2036.0, 2502.0, 3089.0, 3858.0, 4636.0, 5883.0, 7375.0, 9172.0, 10149.0, 12462.0, 12462.0, 17660.0, 21157.0, 24747.0, 27980.0, 31506.0, 35713.0, 41035.0, 47021.0, 53578.0, 59138.0, 63927.0, 69176.0, 74386.0, 80589.0, 86498.0, 92472.0, 97689.0, 101739.0, 105792.0, 110574.0, 115242.0, 119827.0, 124632.0, 128948.0, 132547.0, 135586.0, 139422.0, 143626.0, 147577.0, 152271.0, 156363.0, 159516.0, 162488.0, 165155.0, 168941.0, 172434.0, 175925.0, 178972.0, 181228.0], \"sizemode\": \"area\", \"sizeref\": 1960.815, \"symbol\": \"circle\"}, \"mode\": \"lines+markers\", \"name\": \"Italy\", \"showlegend\": true, \"type\": \"scatter\", \"x\": [0.1, 0.2, 0.3, 0.4, 0.5, 0.8, 1.0, 1.3, 1.9, 2.3, 2.9, 3.6, 4.4, 5.3, 6.7, 8.3, 10.3, 11.3, 13.8, 13.6, 19.3, 23.1, 26.5, 29.9, 33.4, 37.6, 42.8, 48.8, 54.9, 59.6, 63.1, 68.0, 71.3, 78.4, 79.3, 82.1, 84.0, 84.9, 85.5, 86.2, 85.5, 83.8, 81.8, 80.4, 79.0, 76.5, 74.9, 72.6, 70.3, 68.9, 67.6, 66.5, 65.3, 62.9, 61.8, 60.6, 59.1, 57.6, 56.1], \"xaxis\": \"x\", \"y\": [95.2, 98.1, 98.7, 99.1, 99.3, 99.5, 99.7, 99.7, 99.8, 99.9, 99.9, 99.9, 99.9, 99.6, 98.9, 97.9, 97.5, 96.8, 96.4, 94.7, 95.0, 94.7, 93.2, 92.7, 92.1, 91.4, 90.6, 90.1, 89.0, 87.5, 85.7, 85.3, 83.2, 84.5, 79.6, 77.1, 74.7, 72.5, 70.2, 67.7, 64.4, 60.8, 57.0, 54.1, 51.8, 49.0, 46.6, 43.9, 41.4, 39.3, 37.5, 36.2, 34.9, 33.0, 31.8, 30.5, 29.2, 28.0, 26.9], \"yaxis\": \"y\"}, {\"customdata\": [[59.0, \"Japan\", 16.0, \"2/16/20\"], [66.0, \"Japan\", 7.0, \"2/17/20\"], [74.0, \"Japan\", 8.0, \"2/18/20\"], [84.0, \"Japan\", 10.0, \"2/19/20\"], [94.0, \"Japan\", 10.0, \"2/20/20\"], [105.0, \"Japan\", 11.0, \"2/21/20\"], [122.0, \"Japan\", 17.0, \"2/22/20\"], [147.0, \"Japan\", 25.0, \"2/23/20\"], [159.0, \"Japan\", 12.0, \"2/24/20\"], [170.0, \"Japan\", 11.0, \"2/25/20\"], [189.0, \"Japan\", 19.0, \"2/26/20\"], [214.0, \"Japan\", 25.0, \"2/27/20\"], [228.0, \"Japan\", 14.0, \"2/28/20\"], [241.0, \"Japan\", 13.0, \"2/29/20\"], [256.0, \"Japan\", 15.0, \"3/1/20\"], [274.0, \"Japan\", 18.0, \"3/2/20\"], [293.0, \"Japan\", 19.0, \"3/3/20\"], [331.0, \"Japan\", 38.0, \"3/4/20\"], [360.0, \"Japan\", 29.0, \"3/5/20\"], [420.0, \"Japan\", 60.0, \"3/6/20\"], [461.0, \"Japan\", 41.0, \"3/7/20\"], [502.0, \"Japan\", 41.0, \"3/8/20\"], [511.0, \"Japan\", 9.0, \"3/9/20\"], [581.0, \"Japan\", 70.0, \"3/10/20\"], [639.0, \"Japan\", 58.0, \"3/11/20\"], [639.0, \"Japan\", 0.0, \"3/12/20\"], [701.0, \"Japan\", 62.0, \"3/13/20\"], [773.0, \"Japan\", 72.0, \"3/14/20\"], [839.0, \"Japan\", 66.0, \"3/15/20\"], [839.0, \"Japan\", 0.0, \"3/16/20\"], [878.0, \"Japan\", 39.0, \"3/17/20\"], [889.0, \"Japan\", 11.0, \"3/18/20\"], [924.0, \"Japan\", 35.0, \"3/19/20\"], [963.0, \"Japan\", 39.0, \"3/20/20\"], [1007.0, \"Japan\", 44.0, \"3/21/20\"], [1101.0, \"Japan\", 94.0, \"3/22/20\"], [1128.0, \"Japan\", 27.0, \"3/23/20\"], [1193.0, \"Japan\", 65.0, \"3/24/20\"], [1307.0, \"Japan\", 114.0, \"3/25/20\"], [1387.0, \"Japan\", 80.0, \"3/26/20\"], [1468.0, \"Japan\", 81.0, \"3/27/20\"], [1693.0, \"Japan\", 225.0, \"3/28/20\"], [1866.0, \"Japan\", 173.0, \"3/29/20\"], [1866.0, \"Japan\", 0.0, \"3/30/20\"], [1953.0, \"Japan\", 87.0, \"3/31/20\"], [2178.0, \"Japan\", 225.0, \"4/1/20\"], [2495.0, \"Japan\", 317.0, \"4/2/20\"], [2617.0, \"Japan\", 122.0, \"4/3/20\"], [3139.0, \"Japan\", 522.0, \"4/4/20\"], [3139.0, \"Japan\", 0.0, \"4/5/20\"], [3654.0, \"Japan\", 515.0, \"4/6/20\"], [3906.0, \"Japan\", 252.0, \"4/7/20\"], [4257.0, \"Japan\", 351.0, \"4/8/20\"], [4667.0, \"Japan\", 410.0, \"4/9/20\"], [5530.0, \"Japan\", 863.0, \"4/10/20\"], [6005.0, \"Japan\", 475.0, \"4/11/20\"], [6748.0, \"Japan\", 743.0, \"4/12/20\"], [7370.0, \"Japan\", 622.0, \"4/13/20\"], [7645.0, \"Japan\", 275.0, \"4/14/20\"], [8100.0, \"Japan\", 455.0, \"4/15/20\"], [8626.0, \"Japan\", 526.0, \"4/16/20\"], [9787.0, \"Japan\", 1161.0, \"4/17/20\"], [10296.0, \"Japan\", 509.0, \"4/18/20\"], [10797.0, \"Japan\", 501.0, \"4/19/20\"], [10797.0, \"Japan\", 0.0, \"4/20/20\"]], \"hoverlabel\": {\"namelength\": 0}, \"hovertemplate\": \"Country =%{customdata[1]}<br>Mean growth over 14d compared to max growth =%{x}<br>% cases from last 14d =%{y}<br>Confirmed Cases=%{customdata[0]}<br>Confirmed Cases today =%{customdata[2]}<br>Date=%{customdata[3]}\", \"legendgroup\": \"Japan\", \"marker\": {\"color\": \"#FFA15A\", \"size\": [59.0, 66.0, 74.0, 84.0, 94.0, 105.0, 122.0, 147.0, 159.0, 170.0, 189.0, 214.0, 228.0, 241.0, 256.0, 274.0, 293.0, 331.0, 360.0, 420.0, 461.0, 502.0, 511.0, 581.0, 639.0, 639.0, 701.0, 773.0, 839.0, 839.0, 878.0, 889.0, 924.0, 963.0, 1007.0, 1101.0, 1128.0, 1193.0, 1307.0, 1387.0, 1468.0, 1693.0, 1866.0, 1866.0, 1953.0, 2178.0, 2495.0, 2617.0, 3139.0, 3139.0, 3654.0, 3906.0, 4257.0, 4667.0, 5530.0, 6005.0, 6748.0, 7370.0, 7645.0, 8100.0, 8626.0, 9787.0, 10296.0, 10797.0, 10797.0], \"sizemode\": \"area\", \"sizeref\": 1960.815, \"symbol\": \"circle\"}, \"mode\": \"lines+markers\", \"name\": \"Japan\", \"showlegend\": true, \"type\": \"scatter\", \"x\": [0.3, 0.4, 0.4, 0.5, 0.6, 0.7, 0.8, 1.0, 1.1, 1.2, 1.3, 1.5, 1.6, 1.6, 1.6, 1.7, 1.8, 2.0, 2.2, 2.6, 2.8, 2.9, 2.9, 3.4, 3.7, 3.5, 3.9, 4.4, 4.8, 4.7, 4.8, 4.6, 4.7, 4.5, 4.5, 5.0, 5.1, 5.1, 5.5, 6.2, 6.3, 7.6, 8.5, 8.5, 8.9, 10.7, 13.0, 13.7, 17.6, 16.9, 20.9, 22.5, 24.4, 27.1, 33.6, 35.7, 40.4, 45.6, 47.1, 49.0, 50.7, 59.3, 59.2, 63.4, 59.1], \"xaxis\": \"x\", \"y\": [66.1, 69.7, 70.3, 73.8, 76.6, 76.2, 79.5, 82.3, 83.6, 84.7, 85.2, 86.9, 87.3, 82.2, 77.0, 75.9, 74.7, 74.6, 73.9, 75.0, 73.5, 70.7, 68.9, 70.7, 70.4, 66.5, 67.5, 68.8, 69.5, 67.3, 66.6, 62.8, 61.0, 56.4, 54.2, 54.4, 54.7, 51.3, 51.1, 53.9, 52.2, 54.3, 55.0, 55.0, 55.0, 59.2, 63.0, 63.2, 67.9, 64.9, 69.1, 69.5, 69.3, 70.3, 73.5, 71.8, 72.3, 74.7, 74.5, 73.1, 71.1, 73.3, 69.5, 70.9, 66.2], \"yaxis\": \"y\"}, {\"customdata\": [[104.0, \"Korea, South\", 73.0, \"2/20/20\"], [204.0, \"Korea, South\", 100.0, \"2/21/20\"], [433.0, \"Korea, South\", 229.0, \"2/22/20\"], [602.0, \"Korea, South\", 169.0, \"2/23/20\"], [833.0, \"Korea, South\", 231.0, \"2/24/20\"], [977.0, \"Korea, South\", 144.0, \"2/25/20\"], [1261.0, \"Korea, South\", 284.0, \"2/26/20\"], [1766.0, \"Korea, South\", 505.0, \"2/27/20\"], [2337.0, \"Korea, South\", 571.0, \"2/28/20\"], [3150.0, \"Korea, South\", 813.0, \"2/29/20\"], [3736.0, \"Korea, South\", 586.0, \"3/1/20\"], [4335.0, \"Korea, South\", 599.0, \"3/2/20\"], [5186.0, \"Korea, South\", 851.0, \"3/3/20\"], [5621.0, \"Korea, South\", 435.0, \"3/4/20\"], [6088.0, \"Korea, South\", 467.0, \"3/5/20\"], [6593.0, \"Korea, South\", 505.0, \"3/6/20\"], [7041.0, \"Korea, South\", 448.0, \"3/7/20\"], [7314.0, \"Korea, South\", 273.0, \"3/8/20\"], [7478.0, \"Korea, South\", 164.0, \"3/9/20\"], [7513.0, \"Korea, South\", 35.0, \"3/10/20\"], [7755.0, \"Korea, South\", 242.0, \"3/11/20\"], [7869.0, \"Korea, South\", 114.0, \"3/12/20\"], [7979.0, \"Korea, South\", 110.0, \"3/13/20\"], [8086.0, \"Korea, South\", 107.0, \"3/14/20\"], [8162.0, \"Korea, South\", 76.0, \"3/15/20\"], [8236.0, \"Korea, South\", 74.0, \"3/16/20\"], [8320.0, \"Korea, South\", 84.0, \"3/17/20\"], [8413.0, \"Korea, South\", 93.0, \"3/18/20\"], [8565.0, \"Korea, South\", 152.0, \"3/19/20\"], [8652.0, \"Korea, South\", 87.0, \"3/20/20\"], [8799.0, \"Korea, South\", 147.0, \"3/21/20\"], [8961.0, \"Korea, South\", 162.0, \"3/22/20\"], [8961.0, \"Korea, South\", 0.0, \"3/23/20\"], [9037.0, \"Korea, South\", 76.0, \"3/24/20\"], [9137.0, \"Korea, South\", 100.0, \"3/25/20\"], [9241.0, \"Korea, South\", 104.0, \"3/26/20\"], [9332.0, \"Korea, South\", 91.0, \"3/27/20\"], [9478.0, \"Korea, South\", 146.0, \"3/28/20\"], [9583.0, \"Korea, South\", 105.0, \"3/29/20\"], [9661.0, \"Korea, South\", 78.0, \"3/30/20\"], [9786.0, \"Korea, South\", 125.0, \"3/31/20\"], [9887.0, \"Korea, South\", 101.0, \"4/1/20\"], [9976.0, \"Korea, South\", 89.0, \"4/2/20\"], [10062.0, \"Korea, South\", 86.0, \"4/3/20\"], [10156.0, \"Korea, South\", 94.0, \"4/4/20\"], [10237.0, \"Korea, South\", 81.0, \"4/5/20\"], [10284.0, \"Korea, South\", 47.0, \"4/6/20\"], [10331.0, \"Korea, South\", 47.0, \"4/7/20\"], [10384.0, \"Korea, South\", 53.0, \"4/8/20\"], [10423.0, \"Korea, South\", 39.0, \"4/9/20\"], [10450.0, \"Korea, South\", 27.0, \"4/10/20\"], [10480.0, \"Korea, South\", 30.0, \"4/11/20\"], [10512.0, \"Korea, South\", 32.0, \"4/12/20\"], [10537.0, \"Korea, South\", 25.0, \"4/13/20\"], [10564.0, \"Korea, South\", 27.0, \"4/14/20\"], [10591.0, \"Korea, South\", 27.0, \"4/15/20\"], [10613.0, \"Korea, South\", 22.0, \"4/16/20\"], [10635.0, \"Korea, South\", 22.0, \"4/17/20\"], [10653.0, \"Korea, South\", 18.0, \"4/18/20\"], [10661.0, \"Korea, South\", 8.0, \"4/19/20\"], [10674.0, \"Korea, South\", 13.0, \"4/20/20\"]], \"hoverlabel\": {\"namelength\": 0}, \"hovertemplate\": \"Country =%{customdata[1]}<br>Mean growth over 14d compared to max growth =%{x}<br>% cases from last 14d =%{y}<br>Confirmed Cases=%{customdata[0]}<br>Confirmed Cases today =%{customdata[2]}<br>Date=%{customdata[3]}\", \"legendgroup\": \"Korea, South\", \"marker\": {\"color\": \"#19d3f3\", \"size\": [104.0, 204.0, 433.0, 602.0, 833.0, 977.0, 1261.0, 1766.0, 2337.0, 3150.0, 3736.0, 4335.0, 5186.0, 5621.0, 6088.0, 6593.0, 7041.0, 7314.0, 7478.0, 7513.0, 7755.0, 7869.0, 7979.0, 8086.0, 8162.0, 8236.0, 8320.0, 8413.0, 8565.0, 8652.0, 8799.0, 8961.0, 8961.0, 9037.0, 9137.0, 9241.0, 9332.0, 9478.0, 9583.0, 9661.0, 9786.0, 9887.0, 9976.0, 10062.0, 10156.0, 10237.0, 10284.0, 10331.0, 10384.0, 10423.0, 10450.0, 10480.0, 10512.0, 10537.0, 10564.0, 10591.0, 10613.0, 10635.0, 10653.0, 10661.0, 10674.0], \"sizemode\": \"area\", \"sizeref\": 1960.815, \"symbol\": \"circle\"}, \"mode\": \"lines+markers\", \"name\": \"Korea, South\", \"showlegend\": true, \"type\": \"scatter\", \"x\": [0.7, 1.6, 3.6, 5.1, 7.1, 8.3, 10.8, 15.3, 20.3, 27.4, 32.6, 37.8, 45.3, 49.1, 52.6, 56.1, 58.1, 59.0, 58.4, 57.4, 57.1, 53.6, 49.6, 43.4, 38.9, 34.3, 27.5, 24.5, 21.8, 18.1, 15.4, 14.5, 13.0, 13.4, 12.1, 12.1, 11.9, 12.2, 12.5, 12.5, 12.9, 13.0, 12.4, 12.4, 11.9, 11.2, 11.6, 11.4, 11.0, 10.4, 9.8, 8.8, 8.2, 7.7, 6.8, 6.2, 5.6, 5.0, 4.4, 3.7, 3.4], \"xaxis\": \"x\", \"y\": [77.9, 88.2, 94.5, 95.8, 96.8, 97.1, 97.8, 98.4, 98.8, 99.1, 99.2, 99.3, 99.4, 99.4, 98.3, 96.9, 93.9, 91.8, 88.9, 87.0, 83.7, 77.6, 70.7, 61.0, 54.2, 47.4, 37.7, 33.2, 28.9, 23.8, 20.0, 18.4, 16.5, 16.9, 15.1, 14.8, 14.5, 14.7, 14.8, 14.8, 15.0, 14.9, 14.1, 14.0, 13.4, 12.5, 12.9, 12.5, 12.0, 11.3, 10.7, 9.6, 8.8, 8.3, 7.4, 6.6, 6.0, 5.4, 4.7, 4.0, 3.7], \"yaxis\": \"y\"}, {\"customdata\": [[53.0, \"Mexico\", 12.0, \"3/16/20\"], [82.0, \"Mexico\", 29.0, \"3/17/20\"], [93.0, \"Mexico\", 11.0, \"3/18/20\"], [118.0, \"Mexico\", 25.0, \"3/19/20\"], [164.0, \"Mexico\", 46.0, \"3/20/20\"], [203.0, \"Mexico\", 39.0, \"3/21/20\"], [251.0, \"Mexico\", 48.0, \"3/22/20\"], [316.0, \"Mexico\", 65.0, \"3/23/20\"], [367.0, \"Mexico\", 51.0, \"3/24/20\"], [405.0, \"Mexico\", 38.0, \"3/25/20\"], [475.0, \"Mexico\", 70.0, \"3/26/20\"], [585.0, \"Mexico\", 110.0, \"3/27/20\"], [717.0, \"Mexico\", 132.0, \"3/28/20\"], [848.0, \"Mexico\", 131.0, \"3/29/20\"], [993.0, \"Mexico\", 145.0, \"3/30/20\"], [1094.0, \"Mexico\", 101.0, \"3/31/20\"], [1215.0, \"Mexico\", 121.0, \"4/1/20\"], [1378.0, \"Mexico\", 163.0, \"4/2/20\"], [1510.0, \"Mexico\", 132.0, \"4/3/20\"], [1688.0, \"Mexico\", 178.0, \"4/4/20\"], [1890.0, \"Mexico\", 202.0, \"4/5/20\"], [2143.0, \"Mexico\", 253.0, \"4/6/20\"], [2439.0, \"Mexico\", 296.0, \"4/7/20\"], [2785.0, \"Mexico\", 346.0, \"4/8/20\"], [3181.0, \"Mexico\", 396.0, \"4/9/20\"], [3441.0, \"Mexico\", 260.0, \"4/10/20\"], [3844.0, \"Mexico\", 403.0, \"4/11/20\"], [4219.0, \"Mexico\", 375.0, \"4/12/20\"], [4661.0, \"Mexico\", 442.0, \"4/13/20\"], [5014.0, \"Mexico\", 353.0, \"4/14/20\"], [5399.0, \"Mexico\", 385.0, \"4/15/20\"], [5847.0, \"Mexico\", 448.0, \"4/16/20\"], [6297.0, \"Mexico\", 450.0, \"4/17/20\"], [6875.0, \"Mexico\", 578.0, \"4/18/20\"], [7497.0, \"Mexico\", 622.0, \"4/19/20\"], [8261.0, \"Mexico\", 764.0, \"4/20/20\"]], \"hoverlabel\": {\"namelength\": 0}, \"hovertemplate\": \"Country =%{customdata[1]}<br>Mean growth over 14d compared to max growth =%{x}<br>% cases from last 14d =%{y}<br>Confirmed Cases=%{customdata[0]}<br>Confirmed Cases today =%{customdata[2]}<br>Date=%{customdata[3]}\", \"legendgroup\": \"Mexico\", \"marker\": {\"color\": \"#FF6692\", \"size\": [53.0, 82.0, 93.0, 118.0, 164.0, 203.0, 251.0, 316.0, 367.0, 405.0, 475.0, 585.0, 717.0, 848.0, 993.0, 1094.0, 1215.0, 1378.0, 1510.0, 1688.0, 1890.0, 2143.0, 2439.0, 2785.0, 3181.0, 3441.0, 3844.0, 4219.0, 4661.0, 5014.0, 5399.0, 5847.0, 6297.0, 6875.0, 7497.0, 8261.0], \"sizemode\": \"area\", \"sizeref\": 1960.815, \"symbol\": \"circle\"}, \"mode\": \"lines+markers\", \"name\": \"Mexico\", \"showlegend\": true, \"type\": \"scatter\", \"x\": [0.6, 0.9, 1.0, 1.3, 1.8, 2.3, 2.8, 3.5, 4.1, 4.6, 5.3, 6.6, 7.9, 9.3, 10.8, 11.6, 12.9, 14.5, 15.5, 17.1, 18.8, 21.0, 23.8, 27.3, 31.1, 32.8, 35.9, 38.7, 42.1, 45.0, 48.0, 51.3, 55.0, 59.6, 64.4, 70.3], \"xaxis\": \"x\", \"y\": [90.6, 93.9, 94.6, 95.8, 96.3, 97.0, 97.2, 97.8, 98.1, 98.0, 97.5, 97.9, 96.4, 95.2, 94.7, 92.5, 92.3, 91.4, 89.1, 88.0, 86.7, 85.3, 85.0, 85.5, 85.1, 83.0, 81.3, 79.9, 78.7, 78.2, 77.5, 76.4, 76.0, 75.4, 74.8, 74.1], \"yaxis\": \"y\"}, {\"customdata\": [[82.0, \"Netherlands\", 44.0, \"3/5/20\"], [128.0, \"Netherlands\", 46.0, \"3/6/20\"], [188.0, \"Netherlands\", 60.0, \"3/7/20\"], [265.0, \"Netherlands\", 77.0, \"3/8/20\"], [321.0, \"Netherlands\", 56.0, \"3/9/20\"], [382.0, \"Netherlands\", 61.0, \"3/10/20\"], [503.0, \"Netherlands\", 121.0, \"3/11/20\"], [503.0, \"Netherlands\", 0.0, \"3/12/20\"], [806.0, \"Netherlands\", 303.0, \"3/13/20\"], [962.0, \"Netherlands\", 156.0, \"3/14/20\"], [1138.0, \"Netherlands\", 176.0, \"3/15/20\"], [1416.0, \"Netherlands\", 278.0, \"3/16/20\"], [1711.0, \"Netherlands\", 295.0, \"3/17/20\"], [2058.0, \"Netherlands\", 347.0, \"3/18/20\"], [2467.0, \"Netherlands\", 409.0, \"3/19/20\"], [3003.0, \"Netherlands\", 536.0, \"3/20/20\"], [3640.0, \"Netherlands\", 637.0, \"3/21/20\"], [4217.0, \"Netherlands\", 577.0, \"3/22/20\"], [4764.0, \"Netherlands\", 547.0, \"3/23/20\"], [5580.0, \"Netherlands\", 816.0, \"3/24/20\"], [6438.0, \"Netherlands\", 858.0, \"3/25/20\"], [7468.0, \"Netherlands\", 1030.0, \"3/26/20\"], [8647.0, \"Netherlands\", 1179.0, \"3/27/20\"], [9819.0, \"Netherlands\", 1172.0, \"3/28/20\"], [10930.0, \"Netherlands\", 1111.0, \"3/29/20\"], [11817.0, \"Netherlands\", 887.0, \"3/30/20\"], [12667.0, \"Netherlands\", 850.0, \"3/31/20\"], [13696.0, \"Netherlands\", 1029.0, \"4/1/20\"], [14788.0, \"Netherlands\", 1092.0, \"4/2/20\"], [15821.0, \"Netherlands\", 1033.0, \"4/3/20\"], [16727.0, \"Netherlands\", 906.0, \"4/4/20\"], [17953.0, \"Netherlands\", 1226.0, \"4/5/20\"], [18926.0, \"Netherlands\", 973.0, \"4/6/20\"], [19709.0, \"Netherlands\", 783.0, \"4/7/20\"], [20682.0, \"Netherlands\", 973.0, \"4/8/20\"], [21903.0, \"Netherlands\", 1221.0, \"4/9/20\"], [23249.0, \"Netherlands\", 1346.0, \"4/10/20\"], [24571.0, \"Netherlands\", 1322.0, \"4/11/20\"], [25746.0, \"Netherlands\", 1175.0, \"4/12/20\"], [26710.0, \"Netherlands\", 964.0, \"4/13/20\"], [27580.0, \"Netherlands\", 870.0, \"4/14/20\"], [28316.0, \"Netherlands\", 736.0, \"4/15/20\"], [29383.0, \"Netherlands\", 1067.0, \"4/16/20\"], [30619.0, \"Netherlands\", 1236.0, \"4/17/20\"], [31766.0, \"Netherlands\", 1147.0, \"4/18/20\"], [32838.0, \"Netherlands\", 1072.0, \"4/19/20\"], [33588.0, \"Netherlands\", 750.0, \"4/20/20\"]], \"hoverlabel\": {\"namelength\": 0}, \"hovertemplate\": \"Country =%{customdata[1]}<br>Mean growth over 14d compared to max growth =%{x}<br>% cases from last 14d =%{y}<br>Confirmed Cases=%{customdata[0]}<br>Confirmed Cases today =%{customdata[2]}<br>Date=%{customdata[3]}\", \"legendgroup\": \"Netherlands\", \"marker\": {\"color\": \"#B6E880\", \"size\": [82.0, 128.0, 188.0, 265.0, 321.0, 382.0, 503.0, 503.0, 806.0, 962.0, 1138.0, 1416.0, 1711.0, 2058.0, 2467.0, 3003.0, 3640.0, 4217.0, 4764.0, 5580.0, 6438.0, 7468.0, 8647.0, 9819.0, 10930.0, 11817.0, 12667.0, 13696.0, 14788.0, 15821.0, 16727.0, 17953.0, 18926.0, 19709.0, 20682.0, 21903.0, 23249.0, 24571.0, 25746.0, 26710.0, 27580.0, 28316.0, 29383.0, 30619.0, 31766.0, 32838.0, 33588.0], \"sizemode\": \"area\", \"sizeref\": 1960.815, \"symbol\": \"circle\"}, \"mode\": \"lines+markers\", \"name\": \"Netherlands\", \"showlegend\": true, \"type\": \"scatter\", \"x\": [0.4, 0.7, 1.0, 1.4, 1.7, 2.1, 2.7, 2.7, 4.3, 5.2, 6.1, 7.6, 9.1, 10.9, 12.9, 15.5, 18.7, 21.4, 24.0, 28.1, 32.1, 37.6, 42.4, 47.9, 52.9, 56.2, 59.2, 62.9, 66.6, 69.3, 70.7, 74.2, 76.5, 76.3, 77.0, 78.0, 78.9, 79.7, 80.1, 80.5, 80.6, 79.0, 78.9, 80.0, 81.3, 80.4, 79.2], \"xaxis\": \"x\", \"y\": [100.0, 100.0, 100.0, 100.0, 100.0, 100.0, 100.0, 99.8, 99.9, 99.4, 99.1, 98.7, 98.6, 98.2, 96.7, 95.7, 94.8, 93.7, 93.3, 93.2, 92.2, 93.3, 90.7, 90.2, 89.6, 88.0, 86.5, 85.0, 83.3, 81.0, 78.2, 76.5, 74.8, 71.7, 68.9, 65.9, 62.8, 60.0, 57.5, 55.8, 54.1, 51.6, 49.7, 48.3, 47.3, 45.3, 43.7], \"yaxis\": \"y\"}, {\"customdata\": [[84.0, \"Spain\", 39.0, \"3/1/20\"], [120.0, \"Spain\", 36.0, \"3/2/20\"], [165.0, \"Spain\", 45.0, \"3/3/20\"], [222.0, \"Spain\", 57.0, \"3/4/20\"], [259.0, \"Spain\", 37.0, \"3/5/20\"], [400.0, \"Spain\", 141.0, \"3/6/20\"], [500.0, \"Spain\", 100.0, \"3/7/20\"], [673.0, \"Spain\", 173.0, \"3/8/20\"], [1073.0, \"Spain\", 400.0, \"3/9/20\"], [1695.0, \"Spain\", 622.0, \"3/10/20\"], [2277.0, \"Spain\", 582.0, \"3/11/20\"], [2277.0, \"Spain\", 0.0, \"3/12/20\"], [5232.0, \"Spain\", 2955.0, \"3/13/20\"], [6391.0, \"Spain\", 1159.0, \"3/14/20\"], [7798.0, \"Spain\", 1407.0, \"3/15/20\"], [9942.0, \"Spain\", 2144.0, \"3/16/20\"], [11748.0, \"Spain\", 1806.0, \"3/17/20\"], [13910.0, \"Spain\", 2162.0, \"3/18/20\"], [17963.0, \"Spain\", 4053.0, \"3/19/20\"], [20410.0, \"Spain\", 2447.0, \"3/20/20\"], [25374.0, \"Spain\", 4964.0, \"3/21/20\"], [28768.0, \"Spain\", 3394.0, \"3/22/20\"], [35136.0, \"Spain\", 6368.0, \"3/23/20\"], [39885.0, \"Spain\", 4749.0, \"3/24/20\"], [49515.0, \"Spain\", 9630.0, \"3/25/20\"], [57786.0, \"Spain\", 8271.0, \"3/26/20\"], [65719.0, \"Spain\", 7933.0, \"3/27/20\"], [73235.0, \"Spain\", 7516.0, \"3/28/20\"], [80110.0, \"Spain\", 6875.0, \"3/29/20\"], [87956.0, \"Spain\", 7846.0, \"3/30/20\"], [95923.0, \"Spain\", 7967.0, \"3/31/20\"], [104118.0, \"Spain\", 8195.0, \"4/1/20\"], [112065.0, \"Spain\", 7947.0, \"4/2/20\"], [119199.0, \"Spain\", 7134.0, \"4/3/20\"], [126168.0, \"Spain\", 6969.0, \"4/4/20\"], [131646.0, \"Spain\", 5478.0, \"4/5/20\"], [136675.0, \"Spain\", 5029.0, \"4/6/20\"], [141942.0, \"Spain\", 5267.0, \"4/7/20\"], [148220.0, \"Spain\", 6278.0, \"4/8/20\"], [153222.0, \"Spain\", 5002.0, \"4/9/20\"], [158273.0, \"Spain\", 5051.0, \"4/10/20\"], [163027.0, \"Spain\", 4754.0, \"4/11/20\"], [166831.0, \"Spain\", 3804.0, \"4/12/20\"], [170099.0, \"Spain\", 3268.0, \"4/13/20\"], [172541.0, \"Spain\", 2442.0, \"4/14/20\"], [177644.0, \"Spain\", 5103.0, \"4/15/20\"], [184948.0, \"Spain\", 7304.0, \"4/16/20\"], [190839.0, \"Spain\", 5891.0, \"4/17/20\"], [191726.0, \"Spain\", 887.0, \"4/18/20\"], [198674.0, \"Spain\", 6948.0, \"4/19/20\"], [200210.0, \"Spain\", 1536.0, \"4/20/20\"]], \"hoverlabel\": {\"namelength\": 0}, \"hovertemplate\": \"Country =%{customdata[1]}<br>Mean growth over 14d compared to max growth =%{x}<br>% cases from last 14d =%{y}<br>Confirmed Cases=%{customdata[0]}<br>Confirmed Cases today =%{customdata[2]}<br>Date=%{customdata[3]}\", \"legendgroup\": \"Spain\", \"marker\": {\"color\": \"#FF97FF\", \"size\": [84.0, 120.0, 165.0, 222.0, 259.0, 400.0, 500.0, 673.0, 1073.0, 1695.0, 2277.0, 2277.0, 5232.0, 6391.0, 7798.0, 9942.0, 11748.0, 13910.0, 17963.0, 20410.0, 25374.0, 28768.0, 35136.0, 39885.0, 49515.0, 57786.0, 65719.0, 73235.0, 80110.0, 87956.0, 95923.0, 104118.0, 112065.0, 119199.0, 126168.0, 131646.0, 136675.0, 141942.0, 148220.0, 153222.0, 158273.0, 163027.0, 166831.0, 170099.0, 172541.0, 177644.0, 184948.0, 190839.0, 191726.0, 198674.0, 200210.0], \"sizemode\": \"area\", \"sizeref\": 1960.815, \"symbol\": \"circle\"}, \"mode\": \"lines+markers\", \"name\": \"Spain\", \"showlegend\": true, \"type\": \"scatter\", \"x\": [0.1, 0.1, 0.1, 0.2, 0.2, 0.3, 0.4, 0.6, 0.9, 1.5, 2.0, 2.0, 4.5, 5.5, 6.7, 8.5, 10.0, 11.8, 15.3, 17.3, 21.5, 24.3, 29.4, 33.0, 40.8, 47.9, 52.2, 57.7, 62.4, 67.4, 72.7, 77.9, 81.3, 85.3, 87.0, 88.8, 87.7, 88.1, 85.2, 82.4, 79.9, 77.5, 74.9, 70.9, 66.2, 63.5, 62.9, 61.9, 56.6, 57.9, 54.9], \"xaxis\": \"x\", \"y\": [97.6, 98.3, 98.8, 99.1, 99.2, 99.5, 99.6, 99.7, 99.8, 99.6, 99.4, 99.3, 99.4, 99.3, 98.9, 98.8, 98.6, 98.4, 98.6, 98.0, 98.0, 97.7, 96.9, 95.8, 95.4, 96.1, 92.0, 91.3, 90.3, 88.7, 87.8, 86.6, 84.0, 82.9, 79.9, 78.1, 74.3, 71.9, 66.6, 62.3, 58.5, 55.1, 52.0, 48.3, 44.4, 41.4, 39.4, 37.5, 34.2, 33.7, 31.7], \"yaxis\": \"y\"}, {\"customdata\": [[56.0, \"Switzerland\", 14.0, \"3/3/20\"], [90.0, \"Switzerland\", 34.0, \"3/4/20\"], [114.0, \"Switzerland\", 24.0, \"3/5/20\"], [214.0, \"Switzerland\", 100.0, \"3/6/20\"], [268.0, \"Switzerland\", 54.0, \"3/7/20\"], [337.0, \"Switzerland\", 69.0, \"3/8/20\"], [374.0, \"Switzerland\", 37.0, \"3/9/20\"], [491.0, \"Switzerland\", 117.0, \"3/10/20\"], [652.0, \"Switzerland\", 161.0, \"3/11/20\"], [652.0, \"Switzerland\", 0.0, \"3/12/20\"], [1139.0, \"Switzerland\", 487.0, \"3/13/20\"], [1359.0, \"Switzerland\", 220.0, \"3/14/20\"], [2200.0, \"Switzerland\", 841.0, \"3/15/20\"], [2200.0, \"Switzerland\", 0.0, \"3/16/20\"], [2700.0, \"Switzerland\", 500.0, \"3/17/20\"], [3028.0, \"Switzerland\", 328.0, \"3/18/20\"], [4075.0, \"Switzerland\", 1047.0, \"3/19/20\"], [5294.0, \"Switzerland\", 1219.0, \"3/20/20\"], [6575.0, \"Switzerland\", 1281.0, \"3/21/20\"], [7474.0, \"Switzerland\", 899.0, \"3/22/20\"], [8795.0, \"Switzerland\", 1321.0, \"3/23/20\"], [9877.0, \"Switzerland\", 1082.0, \"3/24/20\"], [10897.0, \"Switzerland\", 1020.0, \"3/25/20\"], [11811.0, \"Switzerland\", 914.0, \"3/26/20\"], [12928.0, \"Switzerland\", 1117.0, \"3/27/20\"], [14076.0, \"Switzerland\", 1148.0, \"3/28/20\"], [14829.0, \"Switzerland\", 753.0, \"3/29/20\"], [15922.0, \"Switzerland\", 1093.0, \"3/30/20\"], [16605.0, \"Switzerland\", 683.0, \"3/31/20\"], [17768.0, \"Switzerland\", 1163.0, \"4/1/20\"], [18827.0, \"Switzerland\", 1059.0, \"4/2/20\"], [19606.0, \"Switzerland\", 779.0, \"4/3/20\"], [20505.0, \"Switzerland\", 899.0, \"4/4/20\"], [21100.0, \"Switzerland\", 595.0, \"4/5/20\"], [21657.0, \"Switzerland\", 557.0, \"4/6/20\"], [22253.0, \"Switzerland\", 596.0, \"4/7/20\"], [23280.0, \"Switzerland\", 1027.0, \"4/8/20\"], [24051.0, \"Switzerland\", 771.0, \"4/9/20\"], [24551.0, \"Switzerland\", 500.0, \"4/10/20\"], [25107.0, \"Switzerland\", 556.0, \"4/11/20\"], [25415.0, \"Switzerland\", 308.0, \"4/12/20\"], [25688.0, \"Switzerland\", 273.0, \"4/13/20\"], [25936.0, \"Switzerland\", 248.0, \"4/14/20\"], [26336.0, \"Switzerland\", 400.0, \"4/15/20\"], [26732.0, \"Switzerland\", 396.0, \"4/16/20\"], [27078.0, \"Switzerland\", 346.0, \"4/17/20\"], [27404.0, \"Switzerland\", 326.0, \"4/18/20\"], [27740.0, \"Switzerland\", 336.0, \"4/19/20\"], [27944.0, \"Switzerland\", 204.0, \"4/20/20\"]], \"hoverlabel\": {\"namelength\": 0}, \"hovertemplate\": \"Country =%{customdata[1]}<br>Mean growth over 14d compared to max growth =%{x}<br>% cases from last 14d =%{y}<br>Confirmed Cases=%{customdata[0]}<br>Confirmed Cases today =%{customdata[2]}<br>Date=%{customdata[3]}\", \"legendgroup\": \"Switzerland\", \"marker\": {\"color\": \"#FECB52\", \"size\": [56.0, 90.0, 114.0, 214.0, 268.0, 337.0, 374.0, 491.0, 652.0, 652.0, 1139.0, 1359.0, 2200.0, 2200.0, 2700.0, 3028.0, 4075.0, 5294.0, 6575.0, 7474.0, 8795.0, 9877.0, 10897.0, 11811.0, 12928.0, 14076.0, 14829.0, 15922.0, 16605.0, 17768.0, 18827.0, 19606.0, 20505.0, 21100.0, 21657.0, 22253.0, 23280.0, 24051.0, 24551.0, 25107.0, 25415.0, 25688.0, 25936.0, 26336.0, 26732.0, 27078.0, 27404.0, 27740.0, 27944.0], \"sizemode\": \"area\", \"sizeref\": 1960.815, \"symbol\": \"circle\"}, \"mode\": \"lines+markers\", \"name\": \"Switzerland\", \"showlegend\": true, \"type\": \"scatter\", \"x\": [0.3, 0.5, 0.6, 1.2, 1.5, 1.9, 2.1, 2.7, 3.6, 3.6, 6.3, 7.5, 12.1, 12.0, 14.7, 16.4, 22.1, 28.3, 35.2, 39.8, 47.0, 52.3, 57.1, 62.2, 65.7, 70.9, 70.4, 76.5, 77.5, 82.2, 82.3, 79.8, 77.7, 76.0, 71.7, 69.0, 69.0, 68.3, 64.8, 61.5, 59.0, 54.5, 52.0, 47.8, 44.1, 41.7, 38.5, 37.0, 35.1], \"xaxis\": \"x\", \"y\": [100.0, 100.0, 100.0, 100.0, 100.0, 100.0, 100.0, 99.8, 99.8, 98.8, 99.3, 98.7, 98.8, 98.1, 97.9, 97.0, 97.2, 96.0, 95.9, 95.5, 95.7, 95.0, 94.0, 94.5, 91.2, 90.3, 85.2, 86.2, 83.7, 83.0, 78.4, 73.0, 67.9, 64.6, 59.4, 55.6, 53.2, 50.9, 47.3, 43.9, 41.7, 38.0, 36.0, 32.5, 29.6, 27.6, 25.2, 23.9, 22.5], \"yaxis\": \"y\"}, {\"customdata\": [[51.0, \"US\", 36.0, \"2/24/20\"], [51.0, \"US\", 0.0, \"2/25/20\"], [57.0, \"US\", 6.0, \"2/26/20\"], [58.0, \"US\", 1.0, \"2/27/20\"], [60.0, \"US\", 2.0, \"2/28/20\"], [68.0, \"US\", 8.0, \"2/29/20\"], [74.0, \"US\", 6.0, \"3/1/20\"], [98.0, \"US\", 24.0, \"3/2/20\"], [118.0, \"US\", 20.0, \"3/3/20\"], [149.0, \"US\", 31.0, \"3/4/20\"], [217.0, \"US\", 68.0, \"3/5/20\"], [262.0, \"US\", 45.0, \"3/6/20\"], [402.0, \"US\", 140.0, \"3/7/20\"], [518.0, \"US\", 116.0, \"3/8/20\"], [583.0, \"US\", 65.0, \"3/9/20\"], [959.0, \"US\", 376.0, \"3/10/20\"], [1281.0, \"US\", 322.0, \"3/11/20\"], [1663.0, \"US\", 382.0, \"3/12/20\"], [2179.0, \"US\", 516.0, \"3/13/20\"], [2727.0, \"US\", 548.0, \"3/14/20\"], [3499.0, \"US\", 772.0, \"3/15/20\"], [4632.0, \"US\", 1133.0, \"3/16/20\"], [6421.0, \"US\", 1789.0, \"3/17/20\"], [7783.0, \"US\", 1362.0, \"3/18/20\"], [13747.0, \"US\", 5964.0, \"3/19/20\"], [19273.0, \"US\", 5526.0, \"3/20/20\"], [25600.0, \"US\", 6327.0, \"3/21/20\"], [33276.0, \"US\", 7676.0, \"3/22/20\"], [43843.0, \"US\", 10567.0, \"3/23/20\"], [53736.0, \"US\", 9893.0, \"3/24/20\"], [65778.0, \"US\", 12042.0, \"3/25/20\"], [83836.0, \"US\", 18058.0, \"3/26/20\"], [101657.0, \"US\", 17821.0, \"3/27/20\"], [121465.0, \"US\", 19808.0, \"3/28/20\"], [140909.0, \"US\", 19444.0, \"3/29/20\"], [161831.0, \"US\", 20922.0, \"3/30/20\"], [188172.0, \"US\", 26341.0, \"3/31/20\"], [213372.0, \"US\", 25200.0, \"4/1/20\"], [243762.0, \"US\", 30390.0, \"4/2/20\"], [275586.0, \"US\", 31824.0, \"4/3/20\"], [308853.0, \"US\", 33267.0, \"4/4/20\"], [337072.0, \"US\", 28219.0, \"4/5/20\"], [366667.0, \"US\", 29595.0, \"4/6/20\"], [397505.0, \"US\", 30838.0, \"4/7/20\"], [429052.0, \"US\", 31547.0, \"4/8/20\"], [462780.0, \"US\", 33728.0, \"4/9/20\"], [496535.0, \"US\", 33755.0, \"4/10/20\"], [526396.0, \"US\", 29861.0, \"4/11/20\"], [555313.0, \"US\", 28917.0, \"4/12/20\"], [580619.0, \"US\", 25306.0, \"4/13/20\"], [607670.0, \"US\", 27051.0, \"4/14/20\"], [636350.0, \"US\", 28680.0, \"4/15/20\"], [667592.0, \"US\", 31242.0, \"4/16/20\"], [699706.0, \"US\", 32114.0, \"4/17/20\"], [732197.0, \"US\", 32491.0, \"4/18/20\"], [759086.0, \"US\", 26889.0, \"4/19/20\"], [784326.0, \"US\", 25240.0, \"4/20/20\"]], \"hoverlabel\": {\"namelength\": 0}, \"hovertemplate\": \"Country =%{customdata[1]}<br>Mean growth over 14d compared to max growth =%{x}<br>% cases from last 14d =%{y}<br>Confirmed Cases=%{customdata[0]}<br>Confirmed Cases today =%{customdata[2]}<br>Date=%{customdata[3]}\", \"legendgroup\": \"US\", \"marker\": {\"color\": \"#636efa\", \"size\": [51.0, 51.0, 57.0, 58.0, 60.0, 68.0, 74.0, 98.0, 118.0, 149.0, 217.0, 262.0, 402.0, 518.0, 583.0, 959.0, 1281.0, 1663.0, 2179.0, 2727.0, 3499.0, 4632.0, 6421.0, 7783.0, 13747.0, 19273.0, 25600.0, 33276.0, 43843.0, 53736.0, 65778.0, 83836.0, 101657.0, 121465.0, 140909.0, 161831.0, 188172.0, 213372.0, 243762.0, 275586.0, 308853.0, 337072.0, 366667.0, 397505.0, 429052.0, 462780.0, 496535.0, 526396.0, 555313.0, 580619.0, 607670.0, 636350.0, 667592.0, 699706.0, 732197.0, 759086.0, 784326.0], \"sizemode\": \"area\", \"sizeref\": 1960.815, \"symbol\": \"circle\"}, \"mode\": \"lines+markers\", \"name\": \"US\", \"showlegend\": true, \"type\": \"scatter\", \"x\": [0.0, 0.0, 0.0, 0.0, 0.0, 0.0, 0.0, 0.0, 0.0, 0.0, 0.0, 0.1, 0.1, 0.1, 0.1, 0.2, 0.3, 0.3, 0.4, 0.6, 0.7, 1.0, 1.3, 1.6, 2.9, 4.0, 5.3, 6.9, 9.2, 11.2, 13.7, 17.4, 21.1, 25.1, 29.1, 33.3, 38.5, 43.5, 48.7, 54.3, 60.0, 64.3, 68.4, 72.8, 76.9, 80.3, 83.6, 85.8, 87.8, 88.7, 88.8, 89.6, 89.8, 89.8, 89.7, 89.4, 88.5], \"xaxis\": \"x\", \"y\": [78.4, 76.5, 78.9, 77.6, 78.3, 80.9, 82.4, 86.7, 89.0, 91.3, 94.0, 94.3, 96.3, 97.1, 91.3, 94.7, 95.6, 96.5, 97.2, 97.5, 97.9, 97.9, 98.2, 98.1, 98.4, 98.6, 98.4, 98.4, 98.7, 98.2, 98.1, 98.0, 97.9, 97.8, 97.5, 97.1, 96.6, 96.4, 94.4, 93.0, 91.7, 90.1, 88.0, 86.5, 84.7, 81.9, 79.5, 76.9, 74.6, 72.1, 69.0, 66.5, 63.5, 60.6, 57.8, 55.6, 53.3], \"yaxis\": \"y\"}, {\"customdata\": [[51.0, \"United Kingdom\", 11.0, \"3/3/20\"], [86.0, \"United Kingdom\", 35.0, \"3/4/20\"], [116.0, \"United Kingdom\", 30.0, \"3/5/20\"], [164.0, \"United Kingdom\", 48.0, \"3/6/20\"], [207.0, \"United Kingdom\", 43.0, \"3/7/20\"], [274.0, \"United Kingdom\", 67.0, \"3/8/20\"], [322.0, \"United Kingdom\", 48.0, \"3/9/20\"], [384.0, \"United Kingdom\", 62.0, \"3/10/20\"], [459.0, \"United Kingdom\", 75.0, \"3/11/20\"], [459.0, \"United Kingdom\", 0.0, \"3/12/20\"], [802.0, \"United Kingdom\", 343.0, \"3/13/20\"], [1144.0, \"United Kingdom\", 342.0, \"3/14/20\"], [1145.0, \"United Kingdom\", 1.0, \"3/15/20\"], [1551.0, \"United Kingdom\", 406.0, \"3/16/20\"], [1960.0, \"United Kingdom\", 409.0, \"3/17/20\"], [2642.0, \"United Kingdom\", 682.0, \"3/18/20\"], [2716.0, \"United Kingdom\", 74.0, \"3/19/20\"], [4014.0, \"United Kingdom\", 1298.0, \"3/20/20\"], [5067.0, \"United Kingdom\", 1053.0, \"3/21/20\"], [5745.0, \"United Kingdom\", 678.0, \"3/22/20\"], [6726.0, \"United Kingdom\", 981.0, \"3/23/20\"], [8164.0, \"United Kingdom\", 1438.0, \"3/24/20\"], [9640.0, \"United Kingdom\", 1476.0, \"3/25/20\"], [11812.0, \"United Kingdom\", 2172.0, \"3/26/20\"], [14745.0, \"United Kingdom\", 2933.0, \"3/27/20\"], [17312.0, \"United Kingdom\", 2567.0, \"3/28/20\"], [19780.0, \"United Kingdom\", 2468.0, \"3/29/20\"], [22453.0, \"United Kingdom\", 2673.0, \"3/30/20\"], [25481.0, \"United Kingdom\", 3028.0, \"3/31/20\"], [29865.0, \"United Kingdom\", 4384.0, \"4/1/20\"], [34173.0, \"United Kingdom\", 4308.0, \"4/2/20\"], [38689.0, \"United Kingdom\", 4516.0, \"4/3/20\"], [42477.0, \"United Kingdom\", 3788.0, \"4/4/20\"], [48436.0, \"United Kingdom\", 5959.0, \"4/5/20\"], [52279.0, \"United Kingdom\", 3843.0, \"4/6/20\"], [55949.0, \"United Kingdom\", 3670.0, \"4/7/20\"], [61474.0, \"United Kingdom\", 5525.0, \"4/8/20\"], [65872.0, \"United Kingdom\", 4398.0, \"4/9/20\"], [74605.0, \"United Kingdom\", 8733.0, \"4/10/20\"], [79874.0, \"United Kingdom\", 5269.0, \"4/11/20\"], [85206.0, \"United Kingdom\", 5332.0, \"4/12/20\"], [89570.0, \"United Kingdom\", 4364.0, \"4/13/20\"], [94845.0, \"United Kingdom\", 5275.0, \"4/14/20\"], [99483.0, \"United Kingdom\", 4638.0, \"4/15/20\"], [104145.0, \"United Kingdom\", 4662.0, \"4/16/20\"], [109769.0, \"United Kingdom\", 5624.0, \"4/17/20\"], [115314.0, \"United Kingdom\", 5545.0, \"4/18/20\"], [121172.0, \"United Kingdom\", 5858.0, \"4/19/20\"], [125856.0, \"United Kingdom\", 4684.0, \"4/20/20\"]], \"hoverlabel\": {\"namelength\": 0}, \"hovertemplate\": \"Country =%{customdata[1]}<br>Mean growth over 14d compared to max growth =%{x}<br>% cases from last 14d =%{y}<br>Confirmed Cases=%{customdata[0]}<br>Confirmed Cases today =%{customdata[2]}<br>Date=%{customdata[3]}\", \"legendgroup\": \"United Kingdom\", \"marker\": {\"color\": \"#EF553B\", \"size\": [51.0, 86.0, 116.0, 164.0, 207.0, 274.0, 322.0, 384.0, 459.0, 459.0, 802.0, 1144.0, 1145.0, 1551.0, 1960.0, 2642.0, 2716.0, 4014.0, 5067.0, 5745.0, 6726.0, 8164.0, 9640.0, 11812.0, 14745.0, 17312.0, 19780.0, 22453.0, 25481.0, 29865.0, 34173.0, 38689.0, 42477.0, 48436.0, 52279.0, 55949.0, 61474.0, 65872.0, 74605.0, 79874.0, 85206.0, 89570.0, 94845.0, 99483.0, 104145.0, 109769.0, 115314.0, 121172.0, 125856.0], \"sizemode\": \"area\", \"sizeref\": 1960.815, \"symbol\": \"circle\"}, \"mode\": \"lines+markers\", \"name\": \"United Kingdom\", \"showlegend\": true, \"type\": \"scatter\", \"x\": [0.1, 0.1, 0.1, 0.2, 0.2, 0.3, 0.4, 0.4, 0.5, 0.5, 0.9, 1.3, 1.3, 1.8, 2.3, 3.1, 3.1, 4.6, 5.8, 6.6, 7.7, 9.3, 11.0, 13.6, 16.7, 19.4, 22.3, 25.1, 28.2, 32.6, 37.7, 41.6, 44.8, 51.2, 54.6, 57.3, 62.1, 64.8, 71.8, 75.0, 78.4, 80.5, 83.1, 83.4, 83.9, 85.2, 87.3, 87.2, 88.2], \"xaxis\": \"x\", \"y\": [82.4, 89.5, 92.2, 94.5, 95.7, 96.7, 96.0, 96.6, 97.2, 96.7, 97.5, 98.0, 96.9, 97.4, 97.4, 96.7, 95.7, 95.9, 95.9, 95.2, 95.2, 95.3, 95.2, 96.1, 94.6, 93.4, 94.2, 93.1, 92.3, 91.2, 92.1, 89.6, 88.1, 88.1, 87.1, 85.4, 84.3, 82.1, 80.2, 78.3, 76.8, 74.9, 73.1, 70.0, 67.2, 64.8, 63.2, 60.0, 58.5], \"yaxis\": \"y\"}],\n",
       "                        {\"legend\": {\"itemsizing\": \"constant\", \"title\": {\"text\": \"Country \"}, \"tracegroupgap\": 0}, \"template\": {\"data\": {\"bar\": [{\"error_x\": {\"color\": \"#2a3f5f\"}, \"error_y\": {\"color\": \"#2a3f5f\"}, \"marker\": {\"line\": {\"color\": \"#E5ECF6\", \"width\": 0.5}}, \"type\": \"bar\"}], \"barpolar\": [{\"marker\": {\"line\": {\"color\": \"#E5ECF6\", \"width\": 0.5}}, \"type\": \"barpolar\"}], \"carpet\": [{\"aaxis\": {\"endlinecolor\": \"#2a3f5f\", \"gridcolor\": \"white\", \"linecolor\": \"white\", \"minorgridcolor\": \"white\", \"startlinecolor\": \"#2a3f5f\"}, \"baxis\": {\"endlinecolor\": \"#2a3f5f\", \"gridcolor\": \"white\", \"linecolor\": \"white\", \"minorgridcolor\": \"white\", \"startlinecolor\": \"#2a3f5f\"}, \"type\": \"carpet\"}], \"choropleth\": [{\"colorbar\": {\"outlinewidth\": 0, \"ticks\": \"\"}, \"type\": \"choropleth\"}], \"contour\": [{\"colorbar\": {\"outlinewidth\": 0, \"ticks\": \"\"}, \"colorscale\": [[0.0, \"#0d0887\"], [0.1111111111111111, \"#46039f\"], [0.2222222222222222, \"#7201a8\"], [0.3333333333333333, \"#9c179e\"], [0.4444444444444444, \"#bd3786\"], [0.5555555555555556, \"#d8576b\"], [0.6666666666666666, \"#ed7953\"], [0.7777777777777778, \"#fb9f3a\"], [0.8888888888888888, \"#fdca26\"], [1.0, \"#f0f921\"]], \"type\": \"contour\"}], \"contourcarpet\": [{\"colorbar\": {\"outlinewidth\": 0, \"ticks\": \"\"}, \"type\": \"contourcarpet\"}], \"heatmap\": [{\"colorbar\": {\"outlinewidth\": 0, \"ticks\": \"\"}, \"colorscale\": [[0.0, \"#0d0887\"], [0.1111111111111111, \"#46039f\"], [0.2222222222222222, \"#7201a8\"], [0.3333333333333333, \"#9c179e\"], [0.4444444444444444, \"#bd3786\"], [0.5555555555555556, \"#d8576b\"], [0.6666666666666666, \"#ed7953\"], [0.7777777777777778, \"#fb9f3a\"], [0.8888888888888888, \"#fdca26\"], [1.0, \"#f0f921\"]], \"type\": \"heatmap\"}], \"heatmapgl\": [{\"colorbar\": {\"outlinewidth\": 0, \"ticks\": \"\"}, \"colorscale\": [[0.0, \"#0d0887\"], [0.1111111111111111, \"#46039f\"], [0.2222222222222222, \"#7201a8\"], [0.3333333333333333, \"#9c179e\"], [0.4444444444444444, \"#bd3786\"], [0.5555555555555556, \"#d8576b\"], [0.6666666666666666, \"#ed7953\"], [0.7777777777777778, \"#fb9f3a\"], [0.8888888888888888, \"#fdca26\"], [1.0, \"#f0f921\"]], \"type\": \"heatmapgl\"}], \"histogram\": [{\"marker\": {\"colorbar\": {\"outlinewidth\": 0, \"ticks\": \"\"}}, \"type\": \"histogram\"}], \"histogram2d\": [{\"colorbar\": {\"outlinewidth\": 0, \"ticks\": \"\"}, \"colorscale\": [[0.0, \"#0d0887\"], [0.1111111111111111, \"#46039f\"], [0.2222222222222222, \"#7201a8\"], [0.3333333333333333, \"#9c179e\"], [0.4444444444444444, \"#bd3786\"], [0.5555555555555556, \"#d8576b\"], [0.6666666666666666, \"#ed7953\"], [0.7777777777777778, \"#fb9f3a\"], [0.8888888888888888, \"#fdca26\"], [1.0, \"#f0f921\"]], \"type\": \"histogram2d\"}], \"histogram2dcontour\": [{\"colorbar\": {\"outlinewidth\": 0, \"ticks\": \"\"}, \"colorscale\": [[0.0, \"#0d0887\"], [0.1111111111111111, \"#46039f\"], [0.2222222222222222, \"#7201a8\"], [0.3333333333333333, \"#9c179e\"], [0.4444444444444444, \"#bd3786\"], [0.5555555555555556, \"#d8576b\"], [0.6666666666666666, \"#ed7953\"], [0.7777777777777778, \"#fb9f3a\"], [0.8888888888888888, \"#fdca26\"], [1.0, \"#f0f921\"]], \"type\": \"histogram2dcontour\"}], \"mesh3d\": [{\"colorbar\": {\"outlinewidth\": 0, \"ticks\": \"\"}, \"type\": \"mesh3d\"}], \"parcoords\": [{\"line\": {\"colorbar\": {\"outlinewidth\": 0, \"ticks\": \"\"}}, \"type\": \"parcoords\"}], \"pie\": [{\"automargin\": true, \"type\": \"pie\"}], \"scatter\": [{\"marker\": {\"colorbar\": {\"outlinewidth\": 0, \"ticks\": \"\"}}, \"type\": \"scatter\"}], \"scatter3d\": [{\"line\": {\"colorbar\": {\"outlinewidth\": 0, \"ticks\": \"\"}}, \"marker\": {\"colorbar\": {\"outlinewidth\": 0, \"ticks\": \"\"}}, \"type\": \"scatter3d\"}], \"scattercarpet\": [{\"marker\": {\"colorbar\": {\"outlinewidth\": 0, \"ticks\": \"\"}}, \"type\": \"scattercarpet\"}], \"scattergeo\": [{\"marker\": {\"colorbar\": {\"outlinewidth\": 0, \"ticks\": \"\"}}, \"type\": \"scattergeo\"}], \"scattergl\": [{\"marker\": {\"colorbar\": {\"outlinewidth\": 0, \"ticks\": \"\"}}, \"type\": \"scattergl\"}], \"scattermapbox\": [{\"marker\": {\"colorbar\": {\"outlinewidth\": 0, \"ticks\": \"\"}}, \"type\": \"scattermapbox\"}], \"scatterpolar\": [{\"marker\": {\"colorbar\": {\"outlinewidth\": 0, \"ticks\": \"\"}}, \"type\": \"scatterpolar\"}], \"scatterpolargl\": [{\"marker\": {\"colorbar\": {\"outlinewidth\": 0, \"ticks\": \"\"}}, \"type\": \"scatterpolargl\"}], \"scatterternary\": [{\"marker\": {\"colorbar\": {\"outlinewidth\": 0, \"ticks\": \"\"}}, \"type\": \"scatterternary\"}], \"surface\": [{\"colorbar\": {\"outlinewidth\": 0, \"ticks\": \"\"}, \"colorscale\": [[0.0, \"#0d0887\"], [0.1111111111111111, \"#46039f\"], [0.2222222222222222, \"#7201a8\"], [0.3333333333333333, \"#9c179e\"], [0.4444444444444444, \"#bd3786\"], [0.5555555555555556, \"#d8576b\"], [0.6666666666666666, \"#ed7953\"], [0.7777777777777778, \"#fb9f3a\"], [0.8888888888888888, \"#fdca26\"], [1.0, \"#f0f921\"]], \"type\": \"surface\"}], \"table\": [{\"cells\": {\"fill\": {\"color\": \"#EBF0F8\"}, \"line\": {\"color\": \"white\"}}, \"header\": {\"fill\": {\"color\": \"#C8D4E3\"}, \"line\": {\"color\": \"white\"}}, \"type\": \"table\"}]}, \"layout\": {\"annotationdefaults\": {\"arrowcolor\": \"#2a3f5f\", \"arrowhead\": 0, \"arrowwidth\": 1}, \"coloraxis\": {\"colorbar\": {\"outlinewidth\": 0, \"ticks\": \"\"}}, \"colorscale\": {\"diverging\": [[0, \"#8e0152\"], [0.1, \"#c51b7d\"], [0.2, \"#de77ae\"], [0.3, \"#f1b6da\"], [0.4, \"#fde0ef\"], [0.5, \"#f7f7f7\"], [0.6, \"#e6f5d0\"], [0.7, \"#b8e186\"], [0.8, \"#7fbc41\"], [0.9, \"#4d9221\"], [1, \"#276419\"]], \"sequential\": [[0.0, \"#0d0887\"], [0.1111111111111111, \"#46039f\"], [0.2222222222222222, \"#7201a8\"], [0.3333333333333333, \"#9c179e\"], [0.4444444444444444, \"#bd3786\"], [0.5555555555555556, \"#d8576b\"], [0.6666666666666666, \"#ed7953\"], [0.7777777777777778, \"#fb9f3a\"], [0.8888888888888888, \"#fdca26\"], [1.0, \"#f0f921\"]], \"sequentialminus\": [[0.0, \"#0d0887\"], [0.1111111111111111, \"#46039f\"], [0.2222222222222222, \"#7201a8\"], [0.3333333333333333, \"#9c179e\"], [0.4444444444444444, \"#bd3786\"], [0.5555555555555556, \"#d8576b\"], [0.6666666666666666, \"#ed7953\"], [0.7777777777777778, \"#fb9f3a\"], [0.8888888888888888, \"#fdca26\"], [1.0, \"#f0f921\"]]}, \"colorway\": [\"#636efa\", \"#EF553B\", \"#00cc96\", \"#ab63fa\", \"#FFA15A\", \"#19d3f3\", \"#FF6692\", \"#B6E880\", \"#FF97FF\", \"#FECB52\"], \"font\": {\"color\": \"#2a3f5f\"}, \"geo\": {\"bgcolor\": \"white\", \"lakecolor\": \"white\", \"landcolor\": \"#E5ECF6\", \"showlakes\": true, \"showland\": true, \"subunitcolor\": \"white\"}, \"hoverlabel\": {\"align\": \"left\"}, \"hovermode\": \"closest\", \"mapbox\": {\"style\": \"light\"}, \"paper_bgcolor\": \"white\", \"plot_bgcolor\": \"#E5ECF6\", \"polar\": {\"angularaxis\": {\"gridcolor\": \"white\", \"linecolor\": \"white\", \"ticks\": \"\"}, \"bgcolor\": \"#E5ECF6\", \"radialaxis\": {\"gridcolor\": \"white\", \"linecolor\": \"white\", \"ticks\": \"\"}}, \"scene\": {\"xaxis\": {\"backgroundcolor\": \"#E5ECF6\", \"gridcolor\": \"white\", \"gridwidth\": 2, \"linecolor\": \"white\", \"showbackground\": true, \"ticks\": \"\", \"zerolinecolor\": \"white\"}, \"yaxis\": {\"backgroundcolor\": \"#E5ECF6\", \"gridcolor\": \"white\", \"gridwidth\": 2, \"linecolor\": \"white\", \"showbackground\": true, \"ticks\": \"\", \"zerolinecolor\": \"white\"}, \"zaxis\": {\"backgroundcolor\": \"#E5ECF6\", \"gridcolor\": \"white\", \"gridwidth\": 2, \"linecolor\": \"white\", \"showbackground\": true, \"ticks\": \"\", \"zerolinecolor\": \"white\"}}, \"shapedefaults\": {\"line\": {\"color\": \"#2a3f5f\"}}, \"ternary\": {\"aaxis\": {\"gridcolor\": \"white\", \"linecolor\": \"white\", \"ticks\": \"\"}, \"baxis\": {\"gridcolor\": \"white\", \"linecolor\": \"white\", \"ticks\": \"\"}, \"bgcolor\": \"#E5ECF6\", \"caxis\": {\"gridcolor\": \"white\", \"linecolor\": \"white\", \"ticks\": \"\"}}, \"title\": {\"x\": 0.05}, \"xaxis\": {\"automargin\": true, \"gridcolor\": \"white\", \"linecolor\": \"white\", \"ticks\": \"\", \"title\": {\"standoff\": 15}, \"zerolinecolor\": \"white\", \"zerolinewidth\": 2}, \"yaxis\": {\"automargin\": true, \"gridcolor\": \"white\", \"linecolor\": \"white\", \"ticks\": \"\", \"title\": {\"standoff\": 15}, \"zerolinecolor\": \"white\", \"zerolinewidth\": 2}}}, \"title\": {\"text\": \"Confirmed Cases - World\"}, \"xaxis\": {\"anchor\": \"y\", \"domain\": [0.0, 1.0], \"rangemode\": \"tozero\", \"title\": {\"text\": \"Mean Daily Growth over 14 previous days compared to Max Daily Growth (%)\"}}, \"yaxis\": {\"anchor\": \"x\", \"domain\": [0.0, 1.0], \"rangemode\": \"tozero\", \"title\": {\"text\": \"Percentage of Total occuring in the last 14 days (%)\"}}},\n",
       "                        {\"responsive\": true}\n",
       "                    ).then(function(){\n",
       "                            \n",
       "var gd = document.getElementById('34e18a70-2ae1-4dba-96ab-bf510a614c8e');\n",
       "var x = new MutationObserver(function (mutations, observer) {{\n",
       "        var display = window.getComputedStyle(gd).display;\n",
       "        if (!display || display === 'none') {{\n",
       "            console.log([gd, 'removed!']);\n",
       "            Plotly.purge(gd);\n",
       "            observer.disconnect();\n",
       "        }}\n",
       "}});\n",
       "\n",
       "// Listen for the removal of the full notebook cells\n",
       "var notebookContainer = gd.closest('#notebook-container');\n",
       "if (notebookContainer) {{\n",
       "    x.observe(notebookContainer, {childList: true});\n",
       "}}\n",
       "\n",
       "// Listen for the clearing of the current output cell\n",
       "var outputEl = gd.closest('.output');\n",
       "if (outputEl) {{\n",
       "    x.observe(outputEl, {childList: true});\n",
       "}}\n",
       "\n",
       "                        })\n",
       "                };\n",
       "                });\n",
       "            </script>\n",
       "        </div>"
      ]
     },
     "metadata": {},
     "output_type": "display_data"
    }
   ],
   "source": [
    "if cases_w.value == 'Confirmed Cases':\n",
    "    daily_cases_global_2 = plot_phase_space_world(daily_cases_global, \n",
    "                                           title = cases_w.value, time_window=int(tw_w.value), \n",
    "                                           n_cases = min_w.value, country=ct_w.value)\n",
    "elif cases_w.value == 'Deaths':\n",
    "    daily_deaths_global_2 = plot_phase_space_world(daily_deaths_global, \n",
    "                                            title = cases_w.value, time_window=int(tw_w.value), \n",
    "                                            n_cases = min_w.value, country=ct_w.value)\n",
    "else:\n",
    "    print('ERROR in dataframe')   \n",
    "    \n"
   ]
  },
  {
   "cell_type": "code",
   "execution_count": 25,
   "metadata": {
    "ExecuteTime": {
     "end_time": "2020-04-21T17:34:09.893094Z",
     "start_time": "2020-04-21T17:34:09.891179Z"
    }
   },
   "outputs": [],
   "source": [
    "#daily_deaths_global_2"
   ]
  },
  {
   "cell_type": "markdown",
   "metadata": {},
   "source": [
    "## US"
   ]
  },
  {
   "cell_type": "markdown",
   "metadata": {},
   "source": [
    "### Reading data"
   ]
  },
  {
   "cell_type": "code",
   "execution_count": 26,
   "metadata": {
    "ExecuteTime": {
     "end_time": "2020-04-21T17:34:11.166252Z",
     "start_time": "2020-04-21T17:34:10.825913Z"
    }
   },
   "outputs": [],
   "source": [
    "daily_cases_US = pd.read_csv(date2+'_COVID-19-master_JHU/csse_covid_19_data/csse_covid_19_time_series/time_series_covid19_confirmed_US.csv', \n",
    "                                 dtype=object)\n",
    "# daily_cases_global = daily_cases_global_all.drop(columns =['Province/State', 'Lat', 'Long'])\n",
    "daily_cases_US = daily_cases_US[daily_cases_US['Province_State'] != 'Diamond Princess']\n",
    "\n",
    "daily_deaths_US = pd.read_csv(date2+'_COVID-19-master_JHU/csse_covid_19_data/csse_covid_19_time_series/time_series_covid19_deaths_US.csv', \n",
    "                                 dtype=object)\n",
    "# daily_deaths_global = daily_deaths_global_all.drop(columns =['Province/State', 'Lat', 'Long'])\n",
    "daily_deaths_US = daily_deaths_US[daily_deaths_US['Province_State'] != 'Diamond Princess']\n",
    "\n",
    "daily_cases_US[daily_cases_US.columns[11:]] = daily_cases_US[daily_cases_US.columns[11:]].astype(float)\n",
    "daily_deaths_US[daily_deaths_US.columns[11:]] = daily_deaths_US[daily_deaths_US.columns[11:]].astype(float)\n",
    "\n",
    "daily_cases_US = daily_cases_US.groupby('Province_State')[daily_cases_US.columns[11:]].sum().reset_index()\n",
    "daily_deaths_US = daily_deaths_US.groupby('Province_State')[daily_deaths_US.columns[11:]].sum().reset_index()"
   ]
  },
  {
   "cell_type": "code",
   "execution_count": 27,
   "metadata": {
    "ExecuteTime": {
     "end_time": "2020-04-21T17:34:11.300810Z",
     "start_time": "2020-04-21T17:34:11.291763Z"
    }
   },
   "outputs": [
    {
     "data": {
      "application/vnd.jupyter.widget-view+json": {
       "model_id": "134f5587658c4f2084dffa986d712628",
       "version_major": 2,
       "version_minor": 0
      },
      "text/plain": [
       "FloatSlider(value=1000.0, continuous_update=False, description='Minimum Number:', max=100000.0, readout_format…"
      ]
     },
     "metadata": {},
     "output_type": "display_data"
    }
   ],
   "source": [
    "min_us = widgets.FloatSlider(\n",
    "    value=1000,\n",
    "    min=0,\n",
    "    max=100000,\n",
    "    step=1000,\n",
    "    description='Minimum Number:',\n",
    "    disabled=False,\n",
    "    continuous_update=False,\n",
    "    orientation='horizontal',\n",
    "    readout=True,\n",
    "    readout_format='.0f',\n",
    ")\n",
    "display(min_us)"
   ]
  },
  {
   "cell_type": "code",
   "execution_count": 28,
   "metadata": {
    "ExecuteTime": {
     "end_time": "2020-04-21T17:34:11.720979Z",
     "start_time": "2020-04-21T17:34:11.715047Z"
    }
   },
   "outputs": [],
   "source": [
    "# Select minimum number states\n",
    "df_sts = daily_cases_US[['Province_State',daily_cases_US.columns[-1]]]\n",
    "df_sts = df_sts[df_sts[daily_cases_US.columns[-1]].astype(float) > min_us.value]\n",
    "\n",
    "list_states = ['All States']\n",
    "list_states.extend(sorted(list(daily_cases_US['Province_State'].unique())))"
   ]
  },
  {
   "cell_type": "markdown",
   "metadata": {},
   "source": [
    "### Widgets"
   ]
  },
  {
   "cell_type": "code",
   "execution_count": 29,
   "metadata": {
    "ExecuteTime": {
     "end_time": "2020-04-21T17:34:12.515472Z",
     "start_time": "2020-04-21T17:34:12.479004Z"
    }
   },
   "outputs": [
    {
     "data": {
      "application/vnd.jupyter.widget-view+json": {
       "model_id": "d1cab2483e814425a9bc66f256c527bd",
       "version_major": 2,
       "version_minor": 0
      },
      "text/plain": [
       "SelectMultiple(description='State:', index=(0, 1, 2, 3, 4, 5, 6, 7, 8, 9, 10, 11, 12, 13, 14, 15, 16, 17, 18, …"
      ]
     },
     "metadata": {},
     "output_type": "display_data"
    },
    {
     "data": {
      "application/vnd.jupyter.widget-view+json": {
       "model_id": "3e7178b3243f4f02b175a4a2afcf1851",
       "version_major": 2,
       "version_minor": 0
      },
      "text/plain": [
       "ToggleButtons(description='Option:', options=('Confirmed Cases', 'Deaths'), value='Confirmed Cases')"
      ]
     },
     "metadata": {},
     "output_type": "display_data"
    },
    {
     "data": {
      "application/vnd.jupyter.widget-view+json": {
       "model_id": "48daee36694b463ca78a88c1112302d2",
       "version_major": 2,
       "version_minor": 0
      },
      "text/plain": [
       "FloatSlider(value=20.0, continuous_update=False, description='Minimum Number:', readout_format='.0f', step=50.…"
      ]
     },
     "metadata": {},
     "output_type": "display_data"
    },
    {
     "data": {
      "application/vnd.jupyter.widget-view+json": {
       "model_id": "c260bcf253184930860eb8bd487b87e6",
       "version_major": 2,
       "version_minor": 0
      },
      "text/plain": [
       "FloatSlider(value=14.0, continuous_update=False, description='Days Avg:', max=21.0, min=1.0, readout_format='.…"
      ]
     },
     "metadata": {},
     "output_type": "display_data"
    }
   ],
   "source": [
    "style = {'description_width': 'initial'}\n",
    "\n",
    "st_us = widgets.SelectMultiple(\n",
    "    description='State:',\n",
    "    options=list_states,\n",
    "    value=list_states,\n",
    "    layout=Layout(width='20%', height='100px')\n",
    ")\n",
    "display(st_us)\n",
    "\n",
    "cases_us = widgets.ToggleButtons(\n",
    "    description='Option:',\n",
    "    options=['Confirmed Cases', 'Deaths'],\n",
    ")\n",
    "display(cases_us)\n",
    "\n",
    "min_us = widgets.FloatSlider(\n",
    "    value=20,\n",
    "    min=0,\n",
    "    max=100,\n",
    "    step=50,\n",
    "    description='Minimum Number:',\n",
    "    disabled=False,\n",
    "    continuous_update=False,\n",
    "    orientation='horizontal',\n",
    "    readout=True,\n",
    "    readout_format='.0f',\n",
    ")\n",
    "display(min_us)\n",
    "\n",
    "tw_us = widgets.FloatSlider(\n",
    "    value=14,\n",
    "    min=1,\n",
    "    max=21,\n",
    "    step=1,\n",
    "    description='Days Avg:',\n",
    "    disabled=False,\n",
    "    continuous_update=False,\n",
    "    orientation='horizontal',\n",
    "    readout=True,\n",
    "    readout_format='.0f',\n",
    ")\n",
    "display(tw_us)"
   ]
  },
  {
   "cell_type": "markdown",
   "metadata": {},
   "source": [
    "### Plot"
   ]
  },
  {
   "cell_type": "code",
   "execution_count": 30,
   "metadata": {
    "ExecuteTime": {
     "end_time": "2020-04-21T17:34:14.391626Z",
     "start_time": "2020-04-21T17:34:13.446532Z"
    },
    "scrolled": false
   },
   "outputs": [
    {
     "data": {
      "application/vnd.plotly.v1+json": {
       "config": {
        "plotlyServerURL": "https://plot.ly"
       },
       "data": [
        {
         "customdata": [
          [
           29,
           18,
           "3/16/20",
           "Alabama"
          ],
          [
           39,
           10,
           "3/17/20",
           "Alabama"
          ],
          [
           51,
           12,
           "3/18/20",
           "Alabama"
          ],
          [
           78,
           27,
           "3/19/20",
           "Alabama"
          ],
          [
           106,
           28,
           "3/20/20",
           "Alabama"
          ],
          [
           131,
           25,
           "3/21/20",
           "Alabama"
          ],
          [
           157,
           26,
           "3/22/20",
           "Alabama"
          ],
          [
           196,
           39,
           "3/23/20",
           "Alabama"
          ],
          [
           242,
           46,
           "3/24/20",
           "Alabama"
          ],
          [
           381,
           139,
           "3/25/20",
           "Alabama"
          ],
          [
           517,
           136,
           "3/26/20",
           "Alabama"
          ],
          [
           587,
           70,
           "3/27/20",
           "Alabama"
          ],
          [
           694,
           107,
           "3/28/20",
           "Alabama"
          ],
          [
           825,
           131,
           "3/29/20",
           "Alabama"
          ],
          [
           899,
           74,
           "3/30/20",
           "Alabama"
          ],
          [
           987,
           88,
           "3/31/20",
           "Alabama"
          ],
          [
           1060,
           73,
           "4/1/20",
           "Alabama"
          ],
          [
           1233,
           173,
           "4/2/20",
           "Alabama"
          ],
          [
           1495,
           262,
           "4/3/20",
           "Alabama"
          ],
          [
           1614,
           119,
           "4/4/20",
           "Alabama"
          ],
          [
           1765,
           151,
           "4/5/20",
           "Alabama"
          ],
          [
           1952,
           187,
           "4/6/20",
           "Alabama"
          ],
          [
           2169,
           217,
           "4/7/20",
           "Alabama"
          ],
          [
           2328,
           159,
           "4/8/20",
           "Alabama"
          ],
          [
           2703,
           375,
           "4/9/20",
           "Alabama"
          ],
          [
           2947,
           244,
           "4/10/20",
           "Alabama"
          ],
          [
           3217,
           270,
           "4/11/20",
           "Alabama"
          ],
          [
           3563,
           346,
           "4/12/20",
           "Alabama"
          ],
          [
           3734,
           171,
           "4/13/20",
           "Alabama"
          ],
          [
           3953,
           219,
           "4/14/20",
           "Alabama"
          ],
          [
           4075,
           122,
           "4/15/20",
           "Alabama"
          ],
          [
           4345,
           270,
           "4/16/20",
           "Alabama"
          ],
          [
           4571,
           226,
           "4/17/20",
           "Alabama"
          ],
          [
           4712,
           141,
           "4/18/20",
           "Alabama"
          ],
          [
           4888,
           176,
           "4/19/20",
           "Alabama"
          ],
          [
           5079,
           191,
           "4/20/20",
           "Alabama"
          ]
         ],
         "hoverlabel": {
          "namelength": 0
         },
         "hovertemplate": "State =%{customdata[3]}<br>Mean growth over 14d compared to max growth =%{x}<br>% cases from last 14d =%{y}<br>Confirmed Cases=%{customdata[0]}<br>Confirmed Cases today =%{customdata[1]}<br>Date=%{customdata[2]}",
         "legendgroup": "Alabama",
         "marker": {
          "color": "#636efa",
          "size": [
           29,
           39,
           51,
           78,
           106,
           131,
           157,
           196,
           242,
           381,
           517,
           587,
           694,
           825,
           899,
           987,
           1060,
           1233,
           1495,
           1614,
           1765,
           1952,
           2169,
           2328,
           2703,
           2947,
           3217,
           3563,
           3734,
           3953,
           4075,
           4345,
           4571,
           4712,
           4888,
           5079
          ],
          "sizemode": "area",
          "sizeref": 632.65,
          "symbol": "circle"
         },
         "mode": "lines+markers",
         "name": "Alabama",
         "showlegend": true,
         "type": "scattergl",
         "x": [
          0.6,
          0.8,
          1.1,
          1.6,
          2.2,
          2.7,
          3.2,
          4,
          5,
          7.9,
          10.7,
          12,
          14.2,
          16.8,
          18,
          19.6,
          20.8,
          23.8,
          28.7,
          30.6,
          33.2,
          36.3,
          39.8,
          40.2,
          45.1,
          48.7,
          52.1,
          56.5,
          58.5,
          61.2,
          62.2,
          64.2,
          63.5,
          64,
          64.5,
          64.6
         ],
         "xaxis": "x",
         "y": [
          100,
          100,
          100,
          100,
          100,
          100,
          100,
          100,
          100,
          100,
          100,
          99.1,
          99,
          98.7,
          96.8,
          96,
          95.2,
          93.7,
          92.9,
          91.9,
          91.1,
          90,
          88.8,
          83.6,
          80.9,
          80.1,
          78.4,
          76.8,
          75.9,
          75,
          74,
          71.6,
          67.3,
          65.7,
          63.9,
          61.6
         ],
         "yaxis": "y"
        },
        {
         "customdata": [
          [
           30,
           12,
           "3/23/20",
           "Alaska"
          ],
          [
           34,
           4,
           "3/24/20",
           "Alaska"
          ],
          [
           41,
           7,
           "3/25/20",
           "Alaska"
          ],
          [
           56,
           15,
           "3/26/20",
           "Alaska"
          ],
          [
           58,
           2,
           "3/27/20",
           "Alaska"
          ],
          [
           85,
           27,
           "3/28/20",
           "Alaska"
          ],
          [
           102,
           17,
           "3/29/20",
           "Alaska"
          ],
          [
           114,
           12,
           "3/30/20",
           "Alaska"
          ],
          [
           119,
           5,
           "3/31/20",
           "Alaska"
          ],
          [
           132,
           13,
           "4/1/20",
           "Alaska"
          ],
          [
           143,
           11,
           "4/2/20",
           "Alaska"
          ],
          [
           157,
           14,
           "4/3/20",
           "Alaska"
          ],
          [
           171,
           14,
           "4/4/20",
           "Alaska"
          ],
          [
           185,
           14,
           "4/5/20",
           "Alaska"
          ],
          [
           190,
           5,
           "4/6/20",
           "Alaska"
          ],
          [
           213,
           23,
           "4/7/20",
           "Alaska"
          ],
          [
           226,
           13,
           "4/8/20",
           "Alaska"
          ],
          [
           235,
           9,
           "4/9/20",
           "Alaska"
          ],
          [
           246,
           11,
           "4/10/20",
           "Alaska"
          ],
          [
           257,
           11,
           "4/11/20",
           "Alaska"
          ],
          [
           272,
           15,
           "4/12/20",
           "Alaska"
          ],
          [
           277,
           5,
           "4/13/20",
           "Alaska"
          ],
          [
           285,
           8,
           "4/14/20",
           "Alaska"
          ],
          [
           293,
           8,
           "4/15/20",
           "Alaska"
          ],
          [
           300,
           7,
           "4/16/20",
           "Alaska"
          ],
          [
           309,
           9,
           "4/17/20",
           "Alaska"
          ],
          [
           314,
           5,
           "4/18/20",
           "Alaska"
          ],
          [
           319,
           5,
           "4/19/20",
           "Alaska"
          ],
          [
           321,
           2,
           "4/20/20",
           "Alaska"
          ]
         ],
         "hoverlabel": {
          "namelength": 0
         },
         "hovertemplate": "State =%{customdata[3]}<br>Mean growth over 14d compared to max growth =%{x}<br>% cases from last 14d =%{y}<br>Confirmed Cases=%{customdata[0]}<br>Confirmed Cases today =%{customdata[1]}<br>Date=%{customdata[2]}",
         "legendgroup": "Alaska",
         "marker": {
          "color": "#EF553B",
          "size": [
           30,
           34,
           41,
           56,
           58,
           85,
           102,
           114,
           119,
           132,
           143,
           157,
           171,
           185,
           190,
           213,
           226,
           235,
           246,
           257,
           272,
           277,
           285,
           293,
           300,
           309,
           314,
           319,
           321
          ],
          "sizemode": "area",
          "sizeref": 632.65,
          "symbol": "circle"
         },
         "mode": "lines+markers",
         "name": "Alaska",
         "showlegend": true,
         "type": "scattergl",
         "x": [
          9.3,
          10.6,
          12.7,
          17.4,
          17.7,
          26.1,
          31.4,
          35.1,
          36,
          39.4,
          41.9,
          45.3,
          49.1,
          51.9,
          49.7,
          55.6,
          57.5,
          55.6,
          58.4,
          53.4,
          52.8,
          50.6,
          51.6,
          50,
          48.8,
          47.2,
          44.4,
          41.6,
          40.7
         ],
         "xaxis": "x",
         "y": [
          100,
          100,
          100,
          100,
          98.3,
          98.8,
          99,
          99.1,
          97.5,
          96.2,
          94.4,
          93,
          92.4,
          90.3,
          84.2,
          84,
          81.9,
          76.2,
          76.4,
          66.9,
          62.5,
          58.8,
          58.2,
          54.9,
          52.3,
          49.2,
          45.5,
          42,
          40.8
         ],
         "yaxis": "y"
        },
        {
         "customdata": [
          [
           20,
           2,
           "3/17/20",
           "Arizona"
          ],
          [
           27,
           7,
           "3/18/20",
           "Arizona"
          ],
          [
           45,
           18,
           "3/19/20",
           "Arizona"
          ],
          [
           68,
           23,
           "3/20/20",
           "Arizona"
          ],
          [
           104,
           36,
           "3/21/20",
           "Arizona"
          ],
          [
           152,
           48,
           "3/22/20",
           "Arizona"
          ],
          [
           235,
           83,
           "3/23/20",
           "Arizona"
          ],
          [
           326,
           91,
           "3/24/20",
           "Arizona"
          ],
          [
           401,
           75,
           "3/25/20",
           "Arizona"
          ],
          [
           508,
           107,
           "3/26/20",
           "Arizona"
          ],
          [
           665,
           157,
           "3/27/20",
           "Arizona"
          ],
          [
           773,
           108,
           "3/28/20",
           "Arizona"
          ],
          [
           919,
           146,
           "3/29/20",
           "Arizona"
          ],
          [
           1157,
           238,
           "3/30/20",
           "Arizona"
          ],
          [
           1289,
           132,
           "3/31/20",
           "Arizona"
          ],
          [
           1530,
           241,
           "4/1/20",
           "Arizona"
          ],
          [
           1715,
           185,
           "4/2/20",
           "Arizona"
          ],
          [
           1937,
           222,
           "4/3/20",
           "Arizona"
          ],
          [
           2187,
           250,
           "4/4/20",
           "Arizona"
          ],
          [
           2486,
           299,
           "4/5/20",
           "Arizona"
          ],
          [
           2732,
           246,
           "4/6/20",
           "Arizona"
          ],
          [
           2870,
           138,
           "4/7/20",
           "Arizona"
          ],
          [
           3036,
           166,
           "4/8/20",
           "Arizona"
          ],
          [
           3018,
           -18,
           "4/9/20",
           "Arizona"
          ],
          [
           3112,
           94,
           "4/10/20",
           "Arizona"
          ],
          [
           3393,
           281,
           "4/11/20",
           "Arizona"
          ],
          [
           3542,
           149,
           "4/12/20",
           "Arizona"
          ],
          [
           3705,
           163,
           "4/13/20",
           "Arizona"
          ],
          [
           3809,
           104,
           "4/14/20",
           "Arizona"
          ],
          [
           3964,
           155,
           "4/15/20",
           "Arizona"
          ],
          [
           4237,
           273,
           "4/16/20",
           "Arizona"
          ],
          [
           4511,
           274,
           "4/17/20",
           "Arizona"
          ],
          [
           4724,
           213,
           "4/18/20",
           "Arizona"
          ],
          [
           4933,
           209,
           "4/19/20",
           "Arizona"
          ],
          [
           5068,
           135,
           "4/20/20",
           "Arizona"
          ]
         ],
         "hoverlabel": {
          "namelength": 0
         },
         "hovertemplate": "State =%{customdata[3]}<br>Mean growth over 14d compared to max growth =%{x}<br>% cases from last 14d =%{y}<br>Confirmed Cases=%{customdata[0]}<br>Confirmed Cases today =%{customdata[1]}<br>Date=%{customdata[2]}",
         "legendgroup": "Arizona",
         "marker": {
          "color": "#00cc96",
          "size": [
           20,
           27,
           45,
           68,
           104,
           152,
           235,
           326,
           401,
           508,
           665,
           773,
           919,
           1157,
           1289,
           1530,
           1715,
           1937,
           2187,
           2486,
           2732,
           2870,
           3036,
           3018,
           3112,
           3393,
           3542,
           3705,
           3809,
           3964,
           4237,
           4511,
           4724,
           4933,
           5068
          ],
          "sizemode": "area",
          "sizeref": 632.65,
          "symbol": "circle"
         },
         "mode": "lines+markers",
         "name": "Arizona",
         "showlegend": true,
         "type": "scattergl",
         "x": [
          0.5,
          0.7,
          1.1,
          1.7,
          2.5,
          3.8,
          5.9,
          8.1,
          10,
          12.7,
          16.7,
          19.3,
          23.1,
          29,
          32.3,
          38.2,
          42.5,
          47.5,
          52.9,
          59.3,
          63.5,
          64.7,
          67,
          63.8,
          62.2,
          66.6,
          66.7,
          64.8,
          64.1,
          61.9,
          64.1,
          65.4,
          64.5,
          62.2,
          59.4
         ],
         "xaxis": "x",
         "y": [
          95,
          96.3,
          97.8,
          97.1,
          96.2,
          97.4,
          98.3,
          98.2,
          97.8,
          98.2,
          98.6,
          98.4,
          98.7,
          98.4,
          98.4,
          98.2,
          97.4,
          96.5,
          95.2,
          93.9,
          91.4,
          88.6,
          86.8,
          83.2,
          78.6,
          77.2,
          74.1,
          68.8,
          66.2,
          61.4,
          59.5,
          57.1,
          53.7,
          49.6,
          46.1
         ],
         "yaxis": "y"
        },
        {
         "customdata": [
          [
           62,
           58,
           "3/19/20",
           "Arkansas"
          ],
          [
           100,
           38,
           "3/20/20",
           "Arkansas"
          ],
          [
           122,
           22,
           "3/21/20",
           "Arkansas"
          ],
          [
           165,
           43,
           "3/22/20",
           "Arkansas"
          ],
          [
           192,
           27,
           "3/23/20",
           "Arkansas"
          ],
          [
           219,
           27,
           "3/24/20",
           "Arkansas"
          ],
          [
           280,
           61,
           "3/25/20",
           "Arkansas"
          ],
          [
           335,
           55,
           "3/26/20",
           "Arkansas"
          ],
          [
           381,
           46,
           "3/27/20",
           "Arkansas"
          ],
          [
           409,
           28,
           "3/28/20",
           "Arkansas"
          ],
          [
           426,
           17,
           "3/29/20",
           "Arkansas"
          ],
          [
           473,
           47,
           "3/30/20",
           "Arkansas"
          ],
          [
           523,
           50,
           "3/31/20",
           "Arkansas"
          ],
          [
           584,
           61,
           "4/1/20",
           "Arkansas"
          ],
          [
           643,
           59,
           "4/2/20",
           "Arkansas"
          ],
          [
           704,
           61,
           "4/3/20",
           "Arkansas"
          ],
          [
           743,
           39,
           "4/4/20",
           "Arkansas"
          ],
          [
           837,
           94,
           "4/5/20",
           "Arkansas"
          ],
          [
           875,
           38,
           "4/6/20",
           "Arkansas"
          ],
          [
           946,
           71,
           "4/7/20",
           "Arkansas"
          ],
          [
           1000,
           54,
           "4/8/20",
           "Arkansas"
          ],
          [
           1119,
           119,
           "4/9/20",
           "Arkansas"
          ],
          [
           1171,
           52,
           "4/10/20",
           "Arkansas"
          ],
          [
           1228,
           57,
           "4/11/20",
           "Arkansas"
          ],
          [
           1280,
           52,
           "4/12/20",
           "Arkansas"
          ],
          [
           1410,
           130,
           "4/13/20",
           "Arkansas"
          ],
          [
           1498,
           88,
           "4/14/20",
           "Arkansas"
          ],
          [
           1569,
           71,
           "4/15/20",
           "Arkansas"
          ],
          [
           1620,
           51,
           "4/16/20",
           "Arkansas"
          ],
          [
           1695,
           75,
           "4/17/20",
           "Arkansas"
          ],
          [
           1744,
           49,
           "4/18/20",
           "Arkansas"
          ],
          [
           1781,
           37,
           "4/19/20",
           "Arkansas"
          ],
          [
           1973,
           192,
           "4/20/20",
           "Arkansas"
          ]
         ],
         "hoverlabel": {
          "namelength": 0
         },
         "hovertemplate": "State =%{customdata[3]}<br>Mean growth over 14d compared to max growth =%{x}<br>% cases from last 14d =%{y}<br>Confirmed Cases=%{customdata[0]}<br>Confirmed Cases today =%{customdata[1]}<br>Date=%{customdata[2]}",
         "legendgroup": "Arkansas",
         "marker": {
          "color": "#ab63fa",
          "size": [
           62,
           100,
           122,
           165,
           192,
           219,
           280,
           335,
           381,
           409,
           426,
           473,
           523,
           584,
           643,
           704,
           743,
           837,
           875,
           946,
           1000,
           1119,
           1171,
           1228,
           1280,
           1410,
           1498,
           1569,
           1620,
           1695,
           1744,
           1781,
           1973
          ],
          "sizemode": "area",
          "sizeref": 632.65,
          "symbol": "circle"
         },
         "mode": "lines+markers",
         "name": "Arkansas",
         "showlegend": true,
         "type": "scattergl",
         "x": [
          3.4,
          5.5,
          6.7,
          9.1,
          10.5,
          12,
          15.4,
          18.4,
          20.4,
          21.8,
          23.2,
          25.8,
          28.6,
          31.9,
          31.9,
          33.2,
          34.1,
          36.9,
          37.5,
          39.9,
          39.6,
          43.1,
          43.4,
          45,
          46.9,
          51.5,
          53.6,
          54.1,
          53.7,
          54.5,
          55,
          51.9,
          60.3
         ],
         "xaxis": "x",
         "y": [
          100,
          100,
          100,
          100,
          100,
          100,
          100,
          100,
          97.6,
          97.1,
          99.3,
          99.4,
          99.4,
          99.3,
          90.4,
          85.8,
          83.6,
          80.3,
          78.1,
          76.8,
          72,
          70.1,
          67.5,
          66.7,
          66.7,
          66.5,
          65.1,
          62.8,
          60.3,
          58.5,
          57.4,
          53,
          55.7
         ],
         "yaxis": "y"
        },
        {
         "customdata": [
          [
           21,
           9,
           "3/2/20",
           "California"
          ],
          [
           25,
           4,
           "3/3/20",
           "California"
          ],
          [
           35,
           10,
           "3/4/20",
           "California"
          ],
          [
           51,
           16,
           "3/5/20",
           "California"
          ],
          [
           59,
           8,
           "3/6/20",
           "California"
          ],
          [
           81,
           22,
           "3/7/20",
           "California"
          ],
          [
           95,
           14,
           "3/8/20",
           "California"
          ],
          [
           101,
           6,
           "3/9/20",
           "California"
          ],
          [
           144,
           43,
           "3/10/20",
           "California"
          ],
          [
           178,
           34,
           "3/11/20",
           "California"
          ],
          [
           221,
           43,
           "3/12/20",
           "California"
          ],
          [
           281,
           60,
           "3/13/20",
           "California"
          ],
          [
           372,
           91,
           "3/14/20",
           "California"
          ],
          [
           373,
           1,
           "3/15/20",
           "California"
          ],
          [
           557,
           184,
           "3/16/20",
           "California"
          ],
          [
           700,
           143,
           "3/17/20",
           "California"
          ],
          [
           828,
           128,
           "3/18/20",
           "California"
          ],
          [
           1005,
           177,
           "3/19/20",
           "California"
          ],
          [
           1243,
           238,
           "3/20/20",
           "California"
          ],
          [
           1405,
           162,
           "3/21/20",
           "California"
          ],
          [
           1646,
           241,
           "3/22/20",
           "California"
          ],
          [
           2108,
           462,
           "3/23/20",
           "California"
          ],
          [
           2538,
           430,
           "3/24/20",
           "California"
          ],
          [
           2998,
           460,
           "3/25/20",
           "California"
          ],
          [
           3899,
           901,
           "3/26/20",
           "California"
          ],
          [
           4657,
           758,
           "3/27/20",
           "California"
          ],
          [
           5095,
           438,
           "3/28/20",
           "California"
          ],
          [
           5852,
           757,
           "3/29/20",
           "California"
          ],
          [
           7138,
           1286,
           "3/30/20",
           "California"
          ],
          [
           8210,
           1072,
           "3/31/20",
           "California"
          ],
          [
           9399,
           1189,
           "4/1/20",
           "California"
          ],
          [
           10773,
           1374,
           "4/2/20",
           "California"
          ],
          [
           12004,
           1231,
           "4/3/20",
           "California"
          ],
          [
           12837,
           833,
           "4/4/20",
           "California"
          ],
          [
           15034,
           2197,
           "4/5/20",
           "California"
          ],
          [
           16019,
           985,
           "4/6/20",
           "California"
          ],
          [
           17351,
           1332,
           "4/7/20",
           "California"
          ],
          [
           18897,
           1546,
           "4/8/20",
           "California"
          ],
          [
           19710,
           813,
           "4/9/20",
           "California"
          ],
          [
           21081,
           1371,
           "4/10/20",
           "California"
          ],
          [
           21706,
           625,
           "4/11/20",
           "California"
          ],
          [
           22795,
           1089,
           "4/12/20",
           "California"
          ],
          [
           23931,
           1136,
           "4/13/20",
           "California"
          ],
          [
           25356,
           1425,
           "4/14/20",
           "California"
          ],
          [
           26686,
           1330,
           "4/15/20",
           "California"
          ],
          [
           27677,
           991,
           "4/16/20",
           "California"
          ],
          [
           29157,
           1480,
           "4/17/20",
           "California"
          ],
          [
           30491,
           1334,
           "4/18/20",
           "California"
          ],
          [
           31431,
           940,
           "4/19/20",
           "California"
          ],
          [
           33686,
           2255,
           "4/20/20",
           "California"
          ]
         ],
         "hoverlabel": {
          "namelength": 0
         },
         "hovertemplate": "State =%{customdata[3]}<br>Mean growth over 14d compared to max growth =%{x}<br>% cases from last 14d =%{y}<br>Confirmed Cases=%{customdata[0]}<br>Confirmed Cases today =%{customdata[1]}<br>Date=%{customdata[2]}",
         "legendgroup": "California",
         "marker": {
          "color": "#FFA15A",
          "size": [
           21,
           25,
           35,
           51,
           59,
           81,
           95,
           101,
           144,
           178,
           221,
           281,
           372,
           373,
           557,
           700,
           828,
           1005,
           1243,
           1405,
           1646,
           2108,
           2538,
           2998,
           3899,
           4657,
           5095,
           5852,
           7138,
           8210,
           9399,
           10773,
           12004,
           12837,
           15034,
           16019,
           17351,
           18897,
           19710,
           21081,
           21706,
           22795,
           23931,
           25356,
           26686,
           27677,
           29157,
           30491,
           31431,
           33686
          ],
          "sizemode": "area",
          "sizeref": 632.65,
          "symbol": "circle"
         },
         "mode": "lines+markers",
         "name": "California",
         "showlegend": true,
         "type": "scattergl",
         "x": [
          0,
          0.1,
          0.1,
          0.1,
          0.2,
          0.2,
          0.3,
          0.3,
          0.4,
          0.5,
          0.7,
          0.9,
          1.2,
          1.2,
          1.7,
          2.2,
          2.6,
          3.1,
          3.8,
          4.3,
          5,
          6.5,
          7.8,
          9.2,
          12,
          14.2,
          15.4,
          17.8,
          21.4,
          24.4,
          27.9,
          31.8,
          35,
          37.2,
          43.5,
          45.2,
          48.2,
          51.7,
          51.4,
          53.4,
          54,
          55.1,
          54.6,
          55.7,
          56.2,
          55,
          55.8,
          57.4,
          53.3,
          57.4
         ],
         "xaxis": "x",
         "y": [
          61.9,
          68,
          77.1,
          84.3,
          83.1,
          87.7,
          89.5,
          90.1,
          93.1,
          94.4,
          95,
          96.1,
          96.8,
          96.8,
          96.2,
          96.4,
          95.8,
          94.9,
          95.3,
          94.2,
          94.2,
          95.2,
          94.3,
          94.1,
          94.3,
          94,
          92.7,
          93.6,
          92.2,
          91.5,
          91.2,
          90.7,
          89.6,
          89.1,
          89.1,
          86.8,
          85.4,
          84.1,
          80.2,
          77.9,
          76.5,
          74.3,
          70.2,
          67.6,
          64.8,
          61.1,
          58.8,
          57.9,
          52.2,
          52.4
         ],
         "yaxis": "y"
        },
        {
         "customdata": [
          [
           30,
           16,
           "3/11/20",
           "Colorado"
          ],
          [
           45,
           15,
           "3/12/20",
           "Colorado"
          ],
          [
           76,
           31,
           "3/13/20",
           "Colorado"
          ],
          [
           101,
           25,
           "3/14/20",
           "Colorado"
          ],
          [
           99,
           -2,
           "3/15/20",
           "Colorado"
          ],
          [
           132,
           33,
           "3/16/20",
           "Colorado"
          ],
          [
           167,
           35,
           "3/17/20",
           "Colorado"
          ],
          [
           218,
           51,
           "3/18/20",
           "Colorado"
          ],
          [
           277,
           59,
           "3/19/20",
           "Colorado"
          ],
          [
           363,
           86,
           "3/20/20",
           "Colorado"
          ],
          [
           475,
           112,
           "3/21/20",
           "Colorado"
          ],
          [
           591,
           116,
           "3/22/20",
           "Colorado"
          ],
          [
           704,
           113,
           "3/23/20",
           "Colorado"
          ],
          [
           723,
           19,
           "3/24/20",
           "Colorado"
          ],
          [
           1021,
           298,
           "3/25/20",
           "Colorado"
          ],
          [
           1430,
           409,
           "3/26/20",
           "Colorado"
          ],
          [
           1433,
           3,
           "3/27/20",
           "Colorado"
          ],
          [
           1740,
           307,
           "3/28/20",
           "Colorado"
          ],
          [
           2307,
           567,
           "3/29/20",
           "Colorado"
          ],
          [
           2311,
           4,
           "3/30/20",
           "Colorado"
          ],
          [
           2966,
           655,
           "3/31/20",
           "Colorado"
          ],
          [
           2982,
           16,
           "4/1/20",
           "Colorado"
          ],
          [
           3342,
           360,
           "4/2/20",
           "Colorado"
          ],
          [
           3742,
           400,
           "4/3/20",
           "Colorado"
          ],
          [
           4188,
           446,
           "4/4/20",
           "Colorado"
          ],
          [
           4950,
           762,
           "4/5/20",
           "Colorado"
          ],
          [
           5183,
           233,
           "4/6/20",
           "Colorado"
          ],
          [
           5429,
           246,
           "4/7/20",
           "Colorado"
          ],
          [
           5655,
           226,
           "4/8/20",
           "Colorado"
          ],
          [
           5655,
           0,
           "4/9/20",
           "Colorado"
          ],
          [
           6202,
           547,
           "4/10/20",
           "Colorado"
          ],
          [
           6513,
           311,
           "4/11/20",
           "Colorado"
          ],
          [
           7307,
           794,
           "4/12/20",
           "Colorado"
          ],
          [
           7691,
           384,
           "4/13/20",
           "Colorado"
          ],
          [
           7950,
           259,
           "4/14/20",
           "Colorado"
          ],
          [
           7956,
           6,
           "4/15/20",
           "Colorado"
          ],
          [
           8286,
           330,
           "4/16/20",
           "Colorado"
          ],
          [
           8691,
           405,
           "4/17/20",
           "Colorado"
          ],
          [
           9047,
           356,
           "4/18/20",
           "Colorado"
          ],
          [
           9730,
           683,
           "4/19/20",
           "Colorado"
          ],
          [
           9730,
           0,
           "4/20/20",
           "Colorado"
          ]
         ],
         "hoverlabel": {
          "namelength": 0
         },
         "hovertemplate": "State =%{customdata[3]}<br>Mean growth over 14d compared to max growth =%{x}<br>% cases from last 14d =%{y}<br>Confirmed Cases=%{customdata[0]}<br>Confirmed Cases today =%{customdata[1]}<br>Date=%{customdata[2]}",
         "legendgroup": "Colorado",
         "marker": {
          "color": "#19d3f3",
          "size": [
           30,
           45,
           76,
           101,
           99,
           132,
           167,
           218,
           277,
           363,
           475,
           591,
           704,
           723,
           1021,
           1430,
           1433,
           1740,
           2307,
           2311,
           2966,
           2982,
           3342,
           3742,
           4188,
           4950,
           5183,
           5429,
           5655,
           5655,
           6202,
           6513,
           7307,
           7691,
           7950,
           7956,
           8286,
           8691,
           9047,
           9730,
           9730
          ],
          "sizemode": "area",
          "sizeref": 632.65,
          "symbol": "circle"
         },
         "mode": "lines+markers",
         "name": "Colorado",
         "showlegend": true,
         "type": "scattergl",
         "x": [
          0.3,
          0.4,
          0.7,
          0.9,
          0.9,
          1.2,
          1.6,
          2,
          2.6,
          3.4,
          4.4,
          5.5,
          6.5,
          6.6,
          9.3,
          13,
          12.7,
          15.4,
          20.7,
          20.4,
          26.2,
          25.9,
          28.7,
          31.7,
          34.8,
          40.9,
          42,
          44.1,
          43.4,
          39.6,
          44.7,
          44.7,
          46.9,
          50.4,
          46.7,
          46.6,
          46.3,
          46.4,
          45.5,
          44.8,
          42.6
         ],
         "xaxis": "x",
         "y": [
          100,
          100,
          100,
          100,
          100,
          100,
          100,
          100,
          100,
          99.2,
          98.5,
          98.8,
          99,
          98.1,
          97.1,
          96.9,
          94.7,
          94.2,
          95.7,
          94.3,
          94.4,
          92.7,
          91.7,
          90.3,
          88.7,
          88.1,
          86.4,
          86.7,
          81.9,
          74.7,
          76.9,
          73.3,
          68.4,
          70,
          62.7,
          62.5,
          59.7,
          56.9,
          53.7,
          49.1,
          46.7
         ],
         "yaxis": "y"
        },
        {
         "customdata": [
          [
           23,
           12,
           "3/14/20",
           "Connecticut"
          ],
          [
           24,
           1,
           "3/15/20",
           "Connecticut"
          ],
          [
           41,
           17,
           "3/16/20",
           "Connecticut"
          ],
          [
           68,
           27,
           "3/17/20",
           "Connecticut"
          ],
          [
           96,
           28,
           "3/18/20",
           "Connecticut"
          ],
          [
           159,
           63,
           "3/19/20",
           "Connecticut"
          ],
          [
           194,
           35,
           "3/20/20",
           "Connecticut"
          ],
          [
           194,
           0,
           "3/21/20",
           "Connecticut"
          ],
          [
           327,
           133,
           "3/22/20",
           "Connecticut"
          ],
          [
           415,
           88,
           "3/23/20",
           "Connecticut"
          ],
          [
           618,
           203,
           "3/24/20",
           "Connecticut"
          ],
          [
           875,
           257,
           "3/25/20",
           "Connecticut"
          ],
          [
           1012,
           137,
           "3/26/20",
           "Connecticut"
          ],
          [
           1291,
           279,
           "3/27/20",
           "Connecticut"
          ],
          [
           1524,
           233,
           "3/28/20",
           "Connecticut"
          ],
          [
           1993,
           469,
           "3/29/20",
           "Connecticut"
          ],
          [
           2571,
           578,
           "3/30/20",
           "Connecticut"
          ],
          [
           3128,
           557,
           "3/31/20",
           "Connecticut"
          ],
          [
           3557,
           429,
           "4/1/20",
           "Connecticut"
          ],
          [
           3824,
           267,
           "4/2/20",
           "Connecticut"
          ],
          [
           4914,
           1090,
           "4/3/20",
           "Connecticut"
          ],
          [
           5276,
           362,
           "4/4/20",
           "Connecticut"
          ],
          [
           5675,
           399,
           "4/5/20",
           "Connecticut"
          ],
          [
           6906,
           1231,
           "4/6/20",
           "Connecticut"
          ],
          [
           7781,
           875,
           "4/7/20",
           "Connecticut"
          ],
          [
           7781,
           0,
           "4/8/20",
           "Connecticut"
          ],
          [
           9784,
           2003,
           "4/9/20",
           "Connecticut"
          ],
          [
           10538,
           754,
           "4/10/20",
           "Connecticut"
          ],
          [
           11510,
           972,
           "4/11/20",
           "Connecticut"
          ],
          [
           12035,
           525,
           "4/12/20",
           "Connecticut"
          ],
          [
           13381,
           1346,
           "4/13/20",
           "Connecticut"
          ],
          [
           13989,
           608,
           "4/14/20",
           "Connecticut"
          ],
          [
           14755,
           766,
           "4/15/20",
           "Connecticut"
          ],
          [
           15884,
           1129,
           "4/16/20",
           "Connecticut"
          ],
          [
           16809,
           925,
           "4/17/20",
           "Connecticut"
          ],
          [
           17550,
           741,
           "4/18/20",
           "Connecticut"
          ],
          [
           17962,
           412,
           "4/19/20",
           "Connecticut"
          ],
          [
           19815,
           1853,
           "4/20/20",
           "Connecticut"
          ]
         ],
         "hoverlabel": {
          "namelength": 0
         },
         "hovertemplate": "State =%{customdata[3]}<br>Mean growth over 14d compared to max growth =%{x}<br>% cases from last 14d =%{y}<br>Confirmed Cases=%{customdata[0]}<br>Confirmed Cases today =%{customdata[1]}<br>Date=%{customdata[2]}",
         "legendgroup": "Connecticut",
         "marker": {
          "color": "#FF6692",
          "size": [
           23,
           24,
           41,
           68,
           96,
           159,
           194,
           194,
           327,
           415,
           618,
           875,
           1012,
           1291,
           1524,
           1993,
           2571,
           3128,
           3557,
           3824,
           4914,
           5276,
           5675,
           6906,
           7781,
           7781,
           9784,
           10538,
           11510,
           12035,
           13381,
           13989,
           14755,
           15884,
           16809,
           17550,
           17962,
           19815
          ],
          "sizemode": "area",
          "sizeref": 632.65,
          "symbol": "circle"
         },
         "mode": "lines+markers",
         "name": "Connecticut",
         "showlegend": true,
         "type": "scattergl",
         "x": [
          0.1,
          0.1,
          0.2,
          0.3,
          0.4,
          0.6,
          0.7,
          0.7,
          1.3,
          1.6,
          2.4,
          3.4,
          3.9,
          4.9,
          5.8,
          7.6,
          9.8,
          11.8,
          13.3,
          14.1,
          18.2,
          19.6,
          20.6,
          25,
          27.6,
          26.6,
          33.8,
          35.6,
          38.5,
          38.7,
          41.7,
          41.9,
          43.2,
          46.5,
          45.9,
          47.3,
          47.4,
          49.8
         ],
         "xaxis": "x",
         "y": [
          100,
          100,
          100,
          100,
          100,
          100,
          100,
          100,
          100,
          100,
          99.8,
          99.7,
          99.5,
          99.1,
          98.5,
          98.8,
          98.4,
          97.8,
          97.3,
          95.8,
          96.1,
          96.3,
          94.2,
          94,
          92.1,
          88.8,
          89.7,
          87.7,
          86.8,
          83.4,
          80.8,
          77.6,
          75.9,
          75.9,
          70.8,
          69.9,
          68.4,
          65.1
         ],
         "yaxis": "y"
        },
        {
         "customdata": [
          [
           30,
           11,
           "3/19/20",
           "Delaware"
          ],
          [
           39,
           9,
           "3/20/20",
           "Delaware"
          ],
          [
           45,
           6,
           "3/21/20",
           "Delaware"
          ],
          [
           56,
           11,
           "3/22/20",
           "Delaware"
          ],
          [
           68,
           12,
           "3/23/20",
           "Delaware"
          ],
          [
           104,
           36,
           "3/24/20",
           "Delaware"
          ],
          [
           119,
           15,
           "3/25/20",
           "Delaware"
          ],
          [
           130,
           11,
           "3/26/20",
           "Delaware"
          ],
          [
           163,
           33,
           "3/27/20",
           "Delaware"
          ],
          [
           214,
           51,
           "3/28/20",
           "Delaware"
          ],
          [
           232,
           18,
           "3/29/20",
           "Delaware"
          ],
          [
           264,
           32,
           "3/30/20",
           "Delaware"
          ],
          [
           319,
           55,
           "3/31/20",
           "Delaware"
          ],
          [
           368,
           49,
           "4/1/20",
           "Delaware"
          ],
          [
           393,
           25,
           "4/2/20",
           "Delaware"
          ],
          [
           450,
           57,
           "4/3/20",
           "Delaware"
          ],
          [
           593,
           143,
           "4/4/20",
           "Delaware"
          ],
          [
           673,
           80,
           "4/5/20",
           "Delaware"
          ],
          [
           783,
           110,
           "4/6/20",
           "Delaware"
          ],
          [
           928,
           145,
           "4/7/20",
           "Delaware"
          ],
          [
           1116,
           188,
           "4/8/20",
           "Delaware"
          ],
          [
           1209,
           93,
           "4/9/20",
           "Delaware"
          ],
          [
           1326,
           117,
           "4/10/20",
           "Delaware"
          ],
          [
           1479,
           153,
           "4/11/20",
           "Delaware"
          ],
          [
           1625,
           146,
           "4/12/20",
           "Delaware"
          ],
          [
           1758,
           133,
           "4/13/20",
           "Delaware"
          ],
          [
           1926,
           168,
           "4/14/20",
           "Delaware"
          ],
          [
           2014,
           88,
           "4/15/20",
           "Delaware"
          ],
          [
           2070,
           56,
           "4/16/20",
           "Delaware"
          ],
          [
           2317,
           247,
           "4/17/20",
           "Delaware"
          ],
          [
           2538,
           221,
           "4/18/20",
           "Delaware"
          ],
          [
           2538,
           0,
           "4/19/20",
           "Delaware"
          ],
          [
           2745,
           207,
           "4/20/20",
           "Delaware"
          ]
         ],
         "hoverlabel": {
          "namelength": 0
         },
         "hovertemplate": "State =%{customdata[3]}<br>Mean growth over 14d compared to max growth =%{x}<br>% cases from last 14d =%{y}<br>Confirmed Cases=%{customdata[0]}<br>Confirmed Cases today =%{customdata[1]}<br>Date=%{customdata[2]}",
         "legendgroup": "Delaware",
         "marker": {
          "color": "#B6E880",
          "size": [
           30,
           39,
           45,
           56,
           68,
           104,
           119,
           130,
           163,
           214,
           232,
           264,
           319,
           368,
           393,
           450,
           593,
           673,
           783,
           928,
           1116,
           1209,
           1326,
           1479,
           1625,
           1758,
           1926,
           2014,
           2070,
           2317,
           2538,
           2538,
           2745
          ],
          "sizemode": "area",
          "sizeref": 632.65,
          "symbol": "circle"
         },
         "mode": "lines+markers",
         "name": "Delaware",
         "showlegend": true,
         "type": "scattergl",
         "x": [
          1,
          1.3,
          1.5,
          1.8,
          2.2,
          3.4,
          3.8,
          4.2,
          5.1,
          6.7,
          7.3,
          8.3,
          9.8,
          11.3,
          11.7,
          13.3,
          17.7,
          19.9,
          23.1,
          26.6,
          32.2,
          34.9,
          37.6,
          40.9,
          45,
          48.3,
          51.9,
          53.2,
          54.2,
          60.3,
          62.9,
          60.3,
          63.4
         ],
         "xaxis": "x",
         "y": [
          100,
          100,
          100,
          100,
          100,
          100,
          99.2,
          99.2,
          97.5,
          97.2,
          97.4,
          97,
          95,
          94.8,
          92.4,
          91.3,
          92.4,
          91.7,
          91.3,
          88.8,
          89.3,
          89.2,
          87.7,
          85.5,
          85.7,
          85,
          83.4,
          81.7,
          81,
          80.6,
          76.6,
          73.5,
          71.5
         ],
         "yaxis": "y"
        },
        {
         "customdata": [
          [
           47,
           47,
           "3/17/20",
           "Diamond Princess"
          ],
          [
           47,
           0,
           "3/18/20",
           "Diamond Princess"
          ],
          [
           47,
           0,
           "3/19/20",
           "Diamond Princess"
          ],
          [
           49,
           2,
           "3/20/20",
           "Diamond Princess"
          ],
          [
           49,
           0,
           "3/21/20",
           "Diamond Princess"
          ],
          [
           49,
           0,
           "3/22/20",
           "Diamond Princess"
          ],
          [
           49,
           0,
           "3/23/20",
           "Diamond Princess"
          ],
          [
           49,
           0,
           "3/24/20",
           "Diamond Princess"
          ],
          [
           49,
           0,
           "3/25/20",
           "Diamond Princess"
          ],
          [
           49,
           0,
           "3/26/20",
           "Diamond Princess"
          ],
          [
           49,
           0,
           "3/27/20",
           "Diamond Princess"
          ],
          [
           49,
           0,
           "3/28/20",
           "Diamond Princess"
          ],
          [
           49,
           0,
           "3/29/20",
           "Diamond Princess"
          ],
          [
           49,
           0,
           "3/30/20",
           "Diamond Princess"
          ],
          [
           49,
           0,
           "3/31/20",
           "Diamond Princess"
          ],
          [
           49,
           0,
           "4/1/20",
           "Diamond Princess"
          ],
          [
           49,
           0,
           "4/2/20",
           "Diamond Princess"
          ],
          [
           49,
           0,
           "4/3/20",
           "Diamond Princess"
          ],
          [
           49,
           0,
           "4/4/20",
           "Diamond Princess"
          ],
          [
           49,
           0,
           "4/5/20",
           "Diamond Princess"
          ],
          [
           49,
           0,
           "4/6/20",
           "Diamond Princess"
          ],
          [
           49,
           0,
           "4/7/20",
           "Diamond Princess"
          ],
          [
           49,
           0,
           "4/8/20",
           "Diamond Princess"
          ],
          [
           49,
           0,
           "4/9/20",
           "Diamond Princess"
          ],
          [
           49,
           0,
           "4/10/20",
           "Diamond Princess"
          ],
          [
           49,
           0,
           "4/11/20",
           "Diamond Princess"
          ],
          [
           49,
           0,
           "4/12/20",
           "Diamond Princess"
          ],
          [
           49,
           0,
           "4/13/20",
           "Diamond Princess"
          ],
          [
           49,
           0,
           "4/14/20",
           "Diamond Princess"
          ],
          [
           49,
           0,
           "4/15/20",
           "Diamond Princess"
          ],
          [
           49,
           0,
           "4/16/20",
           "Diamond Princess"
          ],
          [
           49,
           0,
           "4/17/20",
           "Diamond Princess"
          ],
          [
           49,
           0,
           "4/18/20",
           "Diamond Princess"
          ],
          [
           49,
           0,
           "4/19/20",
           "Diamond Princess"
          ],
          [
           49,
           0,
           "4/20/20",
           "Diamond Princess"
          ]
         ],
         "hoverlabel": {
          "namelength": 0
         },
         "hovertemplate": "State =%{customdata[3]}<br>Mean growth over 14d compared to max growth =%{x}<br>% cases from last 14d =%{y}<br>Confirmed Cases=%{customdata[0]}<br>Confirmed Cases today =%{customdata[1]}<br>Date=%{customdata[2]}",
         "legendgroup": "Diamond Princess",
         "marker": {
          "color": "#FF97FF",
          "size": [
           47,
           47,
           47,
           49,
           49,
           49,
           49,
           49,
           49,
           49,
           49,
           49,
           49,
           49,
           49,
           49,
           49,
           49,
           49,
           49,
           49,
           49,
           49,
           49,
           49,
           49,
           49,
           49,
           49,
           49,
           49,
           49,
           49,
           49,
           49
          ],
          "sizemode": "area",
          "sizeref": 632.65,
          "symbol": "circle"
         },
         "mode": "lines+markers",
         "name": "Diamond Princess",
         "showlegend": true,
         "type": "scattergl",
         "x": [
          167.9,
          167.9,
          167.9,
          175,
          175,
          175,
          175,
          175,
          175,
          175,
          175,
          175,
          175,
          175,
          7.1,
          7.1,
          7.1,
          0,
          0,
          0,
          0,
          0,
          0,
          0,
          0,
          0,
          0,
          0,
          0,
          0,
          0,
          0,
          0,
          0,
          0
         ],
         "xaxis": "x",
         "y": [
          100,
          100,
          100,
          100,
          100,
          100,
          100,
          100,
          100,
          100,
          100,
          100,
          100,
          100,
          4.1,
          4.1,
          4.1,
          0,
          0,
          0,
          0,
          0,
          0,
          0,
          0,
          0,
          0,
          0,
          0,
          0,
          0,
          0,
          0,
          0,
          0
         ],
         "yaxis": "y"
        },
        {
         "customdata": [
          [
           22,
           22,
           "3/16/20",
           "District of Columbia"
          ],
          [
           22,
           0,
           "3/17/20",
           "District of Columbia"
          ],
          [
           31,
           9,
           "3/18/20",
           "District of Columbia"
          ],
          [
           40,
           9,
           "3/19/20",
           "District of Columbia"
          ],
          [
           71,
           31,
           "3/20/20",
           "District of Columbia"
          ],
          [
           98,
           27,
           "3/21/20",
           "District of Columbia"
          ],
          [
           102,
           4,
           "3/22/20",
           "District of Columbia"
          ],
          [
           120,
           18,
           "3/23/20",
           "District of Columbia"
          ],
          [
           141,
           21,
           "3/24/20",
           "District of Columbia"
          ],
          [
           187,
           46,
           "3/25/20",
           "District of Columbia"
          ],
          [
           231,
           44,
           "3/26/20",
           "District of Columbia"
          ],
          [
           271,
           40,
           "3/27/20",
           "District of Columbia"
          ],
          [
           304,
           33,
           "3/28/20",
           "District of Columbia"
          ],
          [
           342,
           38,
           "3/29/20",
           "District of Columbia"
          ],
          [
           401,
           59,
           "3/30/20",
           "District of Columbia"
          ],
          [
           495,
           94,
           "3/31/20",
           "District of Columbia"
          ],
          [
           586,
           91,
           "4/1/20",
           "District of Columbia"
          ],
          [
           653,
           67,
           "4/2/20",
           "District of Columbia"
          ],
          [
           757,
           104,
           "4/3/20",
           "District of Columbia"
          ],
          [
           902,
           145,
           "4/4/20",
           "District of Columbia"
          ],
          [
           1002,
           100,
           "4/5/20",
           "District of Columbia"
          ],
          [
           1097,
           95,
           "4/6/20",
           "District of Columbia"
          ],
          [
           1211,
           114,
           "4/7/20",
           "District of Columbia"
          ],
          [
           1440,
           229,
           "4/8/20",
           "District of Columbia"
          ],
          [
           1523,
           83,
           "4/9/20",
           "District of Columbia"
          ],
          [
           1660,
           137,
           "4/10/20",
           "District of Columbia"
          ],
          [
           1778,
           118,
           "4/11/20",
           "District of Columbia"
          ],
          [
           1875,
           97,
           "4/12/20",
           "District of Columbia"
          ],
          [
           1955,
           80,
           "4/13/20",
           "District of Columbia"
          ],
          [
           2058,
           103,
           "4/14/20",
           "District of Columbia"
          ],
          [
           2197,
           139,
           "4/15/20",
           "District of Columbia"
          ],
          [
           2350,
           153,
           "4/16/20",
           "District of Columbia"
          ],
          [
           2476,
           126,
           "4/17/20",
           "District of Columbia"
          ],
          [
           2666,
           190,
           "4/18/20",
           "District of Columbia"
          ],
          [
           2793,
           127,
           "4/19/20",
           "District of Columbia"
          ],
          [
           2927,
           134,
           "4/20/20",
           "District of Columbia"
          ]
         ],
         "hoverlabel": {
          "namelength": 0
         },
         "hovertemplate": "State =%{customdata[3]}<br>Mean growth over 14d compared to max growth =%{x}<br>% cases from last 14d =%{y}<br>Confirmed Cases=%{customdata[0]}<br>Confirmed Cases today =%{customdata[1]}<br>Date=%{customdata[2]}",
         "legendgroup": "District of Columbia",
         "marker": {
          "color": "#FECB52",
          "size": [
           22,
           22,
           31,
           40,
           71,
           98,
           102,
           120,
           141,
           187,
           231,
           271,
           304,
           342,
           401,
           495,
           586,
           653,
           757,
           902,
           1002,
           1097,
           1211,
           1440,
           1523,
           1660,
           1778,
           1875,
           1955,
           2058,
           2197,
           2350,
           2476,
           2666,
           2793,
           2927
          ],
          "sizemode": "area",
          "sizeref": 632.65,
          "symbol": "circle"
         },
         "mode": "lines+markers",
         "name": "District of Columbia",
         "showlegend": true,
         "type": "scattergl",
         "x": [
          0.8,
          0.8,
          1.2,
          1.5,
          2.7,
          3.7,
          3.8,
          4.5,
          5.3,
          7,
          8.7,
          10.2,
          11.4,
          12.9,
          14.2,
          17.8,
          20.9,
          23,
          25.8,
          30.2,
          33.8,
          36.7,
          40.2,
          47.1,
          48.6,
          52.2,
          55.4,
          57.6,
          58.4,
          58.8,
          60.6,
          63.8,
          64.6,
          66.3,
          67.3,
          68.8
         ],
         "xaxis": "x",
         "y": [
          100,
          100,
          100,
          100,
          100,
          100,
          100,
          100,
          100,
          100,
          100,
          100,
          100,
          100,
          94.5,
          95.6,
          94.7,
          93.9,
          90.6,
          89.1,
          89.8,
          89.1,
          88.4,
          87,
          84.8,
          83.7,
          82.9,
          81.8,
          79.5,
          75.9,
          73.3,
          72.2,
          69.4,
          66.2,
          64.1,
          62.5
         ],
         "yaxis": "y"
        },
        {
         "customdata": [
          [
           24,
           9,
           "3/11/20",
           "Florida"
          ],
          [
           30,
           6,
           "3/12/20",
           "Florida"
          ],
          [
           50,
           20,
           "3/13/20",
           "Florida"
          ],
          [
           76,
           26,
           "3/14/20",
           "Florida"
          ],
          [
           100,
           24,
           "3/15/20",
           "Florida"
          ],
          [
           101,
           1,
           "3/16/20",
           "Florida"
          ],
          [
           190,
           89,
           "3/17/20",
           "Florida"
          ],
          [
           306,
           116,
           "3/18/20",
           "Florida"
          ],
          [
           432,
           126,
           "3/19/20",
           "Florida"
          ],
          [
           564,
           132,
           "3/20/20",
           "Florida"
          ],
          [
           763,
           199,
           "3/21/20",
           "Florida"
          ],
          [
           1004,
           241,
           "3/22/20",
           "Florida"
          ],
          [
           1227,
           223,
           "3/23/20",
           "Florida"
          ],
          [
           1412,
           185,
           "3/24/20",
           "Florida"
          ],
          [
           1682,
           270,
           "3/25/20",
           "Florida"
          ],
          [
           2357,
           675,
           "3/26/20",
           "Florida"
          ],
          [
           2900,
           543,
           "3/27/20",
           "Florida"
          ],
          [
           3763,
           863,
           "3/28/20",
           "Florida"
          ],
          [
           4246,
           483,
           "3/29/20",
           "Florida"
          ],
          [
           5473,
           1227,
           "3/30/20",
           "Florida"
          ],
          [
           6741,
           1268,
           "3/31/20",
           "Florida"
          ],
          [
           6956,
           215,
           "4/1/20",
           "Florida"
          ],
          [
           9008,
           2052,
           "4/2/20",
           "Florida"
          ],
          [
           10268,
           1260,
           "4/3/20",
           "Florida"
          ],
          [
           11537,
           1269,
           "4/4/20",
           "Florida"
          ],
          [
           12350,
           813,
           "4/5/20",
           "Florida"
          ],
          [
           13324,
           974,
           "4/6/20",
           "Florida"
          ],
          [
           14545,
           1221,
           "4/7/20",
           "Florida"
          ],
          [
           15456,
           911,
           "4/8/20",
           "Florida"
          ],
          [
           16364,
           908,
           "4/9/20",
           "Florida"
          ],
          [
           17531,
           1167,
           "4/10/20",
           "Florida"
          ],
          [
           18494,
           963,
           "4/11/20",
           "Florida"
          ],
          [
           19895,
           1401,
           "4/12/20",
           "Florida"
          ],
          [
           21019,
           1124,
           "4/13/20",
           "Florida"
          ],
          [
           21628,
           609,
           "4/14/20",
           "Florida"
          ],
          [
           22511,
           883,
           "4/15/20",
           "Florida"
          ],
          [
           23343,
           832,
           "4/16/20",
           "Florida"
          ],
          [
           24759,
           1416,
           "4/17/20",
           "Florida"
          ],
          [
           25492,
           733,
           "4/18/20",
           "Florida"
          ],
          [
           26314,
           822,
           "4/19/20",
           "Florida"
          ],
          [
           27059,
           745,
           "4/20/20",
           "Florida"
          ]
         ],
         "hoverlabel": {
          "namelength": 0
         },
         "hovertemplate": "State =%{customdata[3]}<br>Mean growth over 14d compared to max growth =%{x}<br>% cases from last 14d =%{y}<br>Confirmed Cases=%{customdata[0]}<br>Confirmed Cases today =%{customdata[1]}<br>Date=%{customdata[2]}",
         "legendgroup": "Florida",
         "marker": {
          "color": "#636efa",
          "size": [
           24,
           30,
           50,
           76,
           100,
           101,
           190,
           306,
           432,
           564,
           763,
           1004,
           1227,
           1412,
           1682,
           2357,
           2900,
           3763,
           4246,
           5473,
           6741,
           6956,
           9008,
           10268,
           11537,
           12350,
           13324,
           14545,
           15456,
           16364,
           17531,
           18494,
           19895,
           21019,
           21628,
           22511,
           23343,
           24759,
           25492,
           26314,
           27059
          ],
          "sizemode": "area",
          "sizeref": 632.65,
          "symbol": "circle"
         },
         "mode": "lines+markers",
         "name": "Florida",
         "showlegend": true,
         "type": "scattergl",
         "x": [
          0.1,
          0.2,
          0.3,
          0.4,
          0.5,
          0.5,
          0.9,
          1.5,
          2.2,
          2.8,
          3.8,
          5,
          6.1,
          7,
          8.4,
          11.7,
          14.4,
          18.6,
          20.9,
          27.1,
          33,
          33.5,
          43.3,
          49,
          54.3,
          57.2,
          61,
          66.2,
          69.5,
          70.7,
          73.8,
          74.3,
          78.9,
          78.4,
          75.1,
          78.5,
          72.3,
          73.1,
          70.4,
          70.4,
          69.3
         ],
         "xaxis": "x",
         "y": [
          100,
          100,
          100,
          100,
          100,
          99,
          98.9,
          99.3,
          99.3,
          99.5,
          99.1,
          99,
          98.9,
          98.9,
          98.6,
          98.7,
          98.3,
          98,
          97.6,
          98.2,
          97.2,
          95.6,
          95.2,
          94.5,
          93.4,
          91.9,
          90.8,
          90.3,
          89.1,
          85.6,
          83.5,
          79.7,
          78.7,
          74,
          68.8,
          69.1,
          61.4,
          58.5,
          54.7,
          53.1,
          50.8
         ],
         "yaxis": "y"
        },
        {
         "customdata": [
          [
           23,
           6,
           "3/11/20",
           "Georgia"
          ],
          [
           31,
           8,
           "3/12/20",
           "Georgia"
          ],
          [
           42,
           11,
           "3/13/20",
           "Georgia"
          ],
          [
           73,
           31,
           "3/14/20",
           "Georgia"
          ],
          [
           99,
           26,
           "3/15/20",
           "Georgia"
          ],
          [
           121,
           22,
           "3/16/20",
           "Georgia"
          ],
          [
           146,
           25,
           "3/17/20",
           "Georgia"
          ],
          [
           197,
           51,
           "3/18/20",
           "Georgia"
          ],
          [
           287,
           90,
           "3/19/20",
           "Georgia"
          ],
          [
           485,
           198,
           "3/20/20",
           "Georgia"
          ],
          [
           555,
           70,
           "3/21/20",
           "Georgia"
          ],
          [
           621,
           66,
           "3/22/20",
           "Georgia"
          ],
          [
           772,
           151,
           "3/23/20",
           "Georgia"
          ],
          [
           1026,
           254,
           "3/24/20",
           "Georgia"
          ],
          [
           1247,
           221,
           "3/25/20",
           "Georgia"
          ],
          [
           1525,
           278,
           "3/26/20",
           "Georgia"
          ],
          [
           2000,
           475,
           "3/27/20",
           "Georgia"
          ],
          [
           2366,
           366,
           "3/28/20",
           "Georgia"
          ],
          [
           2651,
           285,
           "3/29/20",
           "Georgia"
          ],
          [
           2808,
           157,
           "3/30/20",
           "Georgia"
          ],
          [
           3929,
           1121,
           "3/31/20",
           "Georgia"
          ],
          [
           4638,
           709,
           "4/1/20",
           "Georgia"
          ],
          [
           5348,
           710,
           "4/2/20",
           "Georgia"
          ],
          [
           5831,
           483,
           "4/3/20",
           "Georgia"
          ],
          [
           6160,
           329,
           "4/4/20",
           "Georgia"
          ],
          [
           6647,
           487,
           "4/5/20",
           "Georgia"
          ],
          [
           7314,
           667,
           "4/6/20",
           "Georgia"
          ],
          [
           8822,
           1508,
           "4/7/20",
           "Georgia"
          ],
          [
           9901,
           1079,
           "4/8/20",
           "Georgia"
          ],
          [
           10566,
           665,
           "4/9/20",
           "Georgia"
          ],
          [
           11485,
           919,
           "4/10/20",
           "Georgia"
          ],
          [
           12159,
           674,
           "4/11/20",
           "Georgia"
          ],
          [
           12452,
           293,
           "4/12/20",
           "Georgia"
          ],
          [
           13315,
           863,
           "4/13/20",
           "Georgia"
          ],
          [
           14578,
           1263,
           "4/14/20",
           "Georgia"
          ],
          [
           14987,
           409,
           "4/15/20",
           "Georgia"
          ],
          [
           15669,
           682,
           "4/16/20",
           "Georgia"
          ],
          [
           17194,
           1525,
           "4/17/20",
           "Georgia"
          ],
          [
           17669,
           475,
           "4/18/20",
           "Georgia"
          ],
          [
           18301,
           632,
           "4/19/20",
           "Georgia"
          ],
          [
           19407,
           1106,
           "4/20/20",
           "Georgia"
          ]
         ],
         "hoverlabel": {
          "namelength": 0
         },
         "hovertemplate": "State =%{customdata[3]}<br>Mean growth over 14d compared to max growth =%{x}<br>% cases from last 14d =%{y}<br>Confirmed Cases=%{customdata[0]}<br>Confirmed Cases today =%{customdata[1]}<br>Date=%{customdata[2]}",
         "legendgroup": "Georgia",
         "marker": {
          "color": "#EF553B",
          "size": [
           23,
           31,
           42,
           73,
           99,
           121,
           146,
           197,
           287,
           485,
           555,
           621,
           772,
           1026,
           1247,
           1525,
           2000,
           2366,
           2651,
           2808,
           3929,
           4638,
           5348,
           5831,
           6160,
           6647,
           7314,
           8822,
           9901,
           10566,
           11485,
           12159,
           12452,
           13315,
           14578,
           14987,
           15669,
           17194,
           17669,
           18301,
           19407
          ],
          "sizemode": "area",
          "sizeref": 632.65,
          "symbol": "circle"
         },
         "mode": "lines+markers",
         "name": "Georgia",
         "showlegend": true,
         "type": "scattergl",
         "x": [
          0.1,
          0.1,
          0.2,
          0.3,
          0.5,
          0.6,
          0.7,
          0.9,
          1.3,
          2.3,
          2.6,
          2.9,
          3.6,
          4.8,
          5.8,
          7.1,
          9.3,
          10.9,
          12.1,
          12.7,
          17.9,
          21,
          24,
          25.3,
          26.5,
          28.5,
          31,
          36.9,
          41,
          42.8,
          44.9,
          46.4,
          46.4,
          49.8,
          50.4,
          49,
          48.9,
          53.8,
          54.5,
          55.2,
          57.3
         ],
         "xaxis": "x",
         "y": [
          100,
          100,
          100,
          100,
          100,
          100,
          98.6,
          99,
          99.3,
          99.4,
          99.1,
          99.2,
          98.7,
          98.3,
          98.2,
          98,
          97.9,
          96.9,
          96.3,
          95.7,
          96.3,
          95.8,
          94.6,
          91.7,
          91,
          90.7,
          89.4,
          88.4,
          87.4,
          85.6,
          82.6,
          80.5,
          78.7,
          78.9,
          73,
          69.1,
          65.9,
          66.1,
          65.1,
          63.7,
          62.3
         ],
         "yaxis": "y"
        },
        {
         "customdata": [
          [
           20,
           20,
           "3/16/20",
           "Grand Princess"
          ],
          [
           21,
           1,
           "3/17/20",
           "Grand Princess"
          ],
          [
           21,
           0,
           "3/18/20",
           "Grand Princess"
          ],
          [
           22,
           1,
           "3/19/20",
           "Grand Princess"
          ],
          [
           23,
           1,
           "3/20/20",
           "Grand Princess"
          ],
          [
           23,
           0,
           "3/21/20",
           "Grand Princess"
          ],
          [
           30,
           7,
           "3/22/20",
           "Grand Princess"
          ],
          [
           28,
           -2,
           "3/23/20",
           "Grand Princess"
          ],
          [
           28,
           0,
           "3/24/20",
           "Grand Princess"
          ],
          [
           28,
           0,
           "3/25/20",
           "Grand Princess"
          ],
          [
           28,
           0,
           "3/26/20",
           "Grand Princess"
          ],
          [
           28,
           0,
           "3/27/20",
           "Grand Princess"
          ],
          [
           103,
           75,
           "3/28/20",
           "Grand Princess"
          ],
          [
           103,
           0,
           "3/29/20",
           "Grand Princess"
          ],
          [
           103,
           0,
           "3/30/20",
           "Grand Princess"
          ],
          [
           103,
           0,
           "3/31/20",
           "Grand Princess"
          ],
          [
           103,
           0,
           "4/1/20",
           "Grand Princess"
          ],
          [
           103,
           0,
           "4/2/20",
           "Grand Princess"
          ],
          [
           103,
           0,
           "4/3/20",
           "Grand Princess"
          ],
          [
           103,
           0,
           "4/4/20",
           "Grand Princess"
          ],
          [
           103,
           0,
           "4/5/20",
           "Grand Princess"
          ],
          [
           103,
           0,
           "4/6/20",
           "Grand Princess"
          ],
          [
           103,
           0,
           "4/7/20",
           "Grand Princess"
          ],
          [
           103,
           0,
           "4/8/20",
           "Grand Princess"
          ],
          [
           103,
           0,
           "4/9/20",
           "Grand Princess"
          ],
          [
           103,
           0,
           "4/10/20",
           "Grand Princess"
          ],
          [
           103,
           0,
           "4/11/20",
           "Grand Princess"
          ],
          [
           103,
           0,
           "4/12/20",
           "Grand Princess"
          ],
          [
           103,
           0,
           "4/13/20",
           "Grand Princess"
          ],
          [
           103,
           0,
           "4/14/20",
           "Grand Princess"
          ],
          [
           103,
           0,
           "4/15/20",
           "Grand Princess"
          ],
          [
           103,
           0,
           "4/16/20",
           "Grand Princess"
          ],
          [
           103,
           0,
           "4/17/20",
           "Grand Princess"
          ],
          [
           103,
           0,
           "4/18/20",
           "Grand Princess"
          ],
          [
           103,
           0,
           "4/19/20",
           "Grand Princess"
          ],
          [
           103,
           0,
           "4/20/20",
           "Grand Princess"
          ]
         ],
         "hoverlabel": {
          "namelength": 0
         },
         "hovertemplate": "State =%{customdata[3]}<br>Mean growth over 14d compared to max growth =%{x}<br>% cases from last 14d =%{y}<br>Confirmed Cases=%{customdata[0]}<br>Confirmed Cases today =%{customdata[1]}<br>Date=%{customdata[2]}",
         "legendgroup": "Grand Princess",
         "marker": {
          "color": "#00cc96",
          "size": [
           20,
           21,
           21,
           22,
           23,
           23,
           30,
           28,
           28,
           28,
           28,
           28,
           103,
           103,
           103,
           103,
           103,
           103,
           103,
           103,
           103,
           103,
           103,
           103,
           103,
           103,
           103,
           103,
           103,
           103,
           103,
           103,
           103,
           103,
           103,
           103
          ],
          "sizemode": "area",
          "sizeref": 632.65,
          "symbol": "circle"
         },
         "mode": "lines+markers",
         "name": "Grand Princess",
         "showlegend": true,
         "type": "scattergl",
         "x": [
          7.1,
          7.5,
          7.5,
          7.9,
          8.2,
          8.2,
          10.7,
          10,
          10,
          10,
          10,
          10,
          36.8,
          36.8,
          29.6,
          29.3,
          29.3,
          28.9,
          28.6,
          28.6,
          26.1,
          26.8,
          26.8,
          26.8,
          26.8,
          26.8,
          0,
          0,
          0,
          0,
          0,
          0,
          0,
          0,
          0,
          0
         ],
         "xaxis": "x",
         "y": [
          100,
          100,
          100,
          100,
          100,
          100,
          100,
          100,
          100,
          100,
          100,
          100,
          100,
          100,
          80.6,
          79.6,
          79.6,
          78.6,
          77.7,
          77.7,
          70.9,
          72.8,
          72.8,
          72.8,
          72.8,
          72.8,
          0,
          0,
          0,
          0,
          0,
          0,
          0,
          0,
          0,
          0
         ],
         "yaxis": "y"
        },
        {
         "customdata": [
          [
           27,
           12,
           "3/22/20",
           "Guam"
          ],
          [
           29,
           2,
           "3/23/20",
           "Guam"
          ],
          [
           32,
           3,
           "3/24/20",
           "Guam"
          ],
          [
           37,
           5,
           "3/25/20",
           "Guam"
          ],
          [
           45,
           8,
           "3/26/20",
           "Guam"
          ],
          [
           51,
           6,
           "3/27/20",
           "Guam"
          ],
          [
           55,
           4,
           "3/28/20",
           "Guam"
          ],
          [
           56,
           1,
           "3/29/20",
           "Guam"
          ],
          [
           58,
           2,
           "3/30/20",
           "Guam"
          ],
          [
           69,
           11,
           "3/31/20",
           "Guam"
          ],
          [
           77,
           8,
           "4/1/20",
           "Guam"
          ],
          [
           82,
           5,
           "4/2/20",
           "Guam"
          ],
          [
           84,
           2,
           "4/3/20",
           "Guam"
          ],
          [
           93,
           9,
           "4/4/20",
           "Guam"
          ],
          [
           112,
           19,
           "4/5/20",
           "Guam"
          ],
          [
           113,
           1,
           "4/6/20",
           "Guam"
          ],
          [
           121,
           8,
           "4/7/20",
           "Guam"
          ],
          [
           121,
           0,
           "4/8/20",
           "Guam"
          ],
          [
           128,
           7,
           "4/9/20",
           "Guam"
          ],
          [
           130,
           2,
           "4/10/20",
           "Guam"
          ],
          [
           133,
           3,
           "4/11/20",
           "Guam"
          ],
          [
           133,
           0,
           "4/12/20",
           "Guam"
          ],
          [
           133,
           0,
           "4/13/20",
           "Guam"
          ],
          [
           133,
           0,
           "4/14/20",
           "Guam"
          ],
          [
           135,
           2,
           "4/15/20",
           "Guam"
          ],
          [
           135,
           0,
           "4/16/20",
           "Guam"
          ],
          [
           136,
           1,
           "4/17/20",
           "Guam"
          ],
          [
           136,
           0,
           "4/18/20",
           "Guam"
          ],
          [
           136,
           0,
           "4/19/20",
           "Guam"
          ],
          [
           136,
           0,
           "4/20/20",
           "Guam"
          ]
         ],
         "hoverlabel": {
          "namelength": 0
         },
         "hovertemplate": "State =%{customdata[3]}<br>Mean growth over 14d compared to max growth =%{x}<br>% cases from last 14d =%{y}<br>Confirmed Cases=%{customdata[0]}<br>Confirmed Cases today =%{customdata[1]}<br>Date=%{customdata[2]}",
         "legendgroup": "Guam",
         "marker": {
          "color": "#ab63fa",
          "size": [
           27,
           29,
           32,
           37,
           45,
           51,
           55,
           56,
           58,
           69,
           77,
           82,
           84,
           93,
           112,
           113,
           121,
           121,
           128,
           130,
           133,
           133,
           133,
           133,
           135,
           135,
           136,
           136,
           136,
           136
          ],
          "sizemode": "area",
          "sizeref": 632.65,
          "symbol": "circle"
         },
         "mode": "lines+markers",
         "name": "Guam",
         "showlegend": true,
         "type": "scattergl",
         "x": [
          16.1,
          17.3,
          19,
          22,
          26.8,
          30.4,
          32.7,
          33.3,
          32.7,
          39.3,
          42.9,
          41.7,
          41.7,
          46.4,
          50.6,
          50,
          53,
          50,
          49.4,
          47,
          46.4,
          45.8,
          44.6,
          38.1,
          34.5,
          31.5,
          31,
          25.6,
          14.3,
          13.7
         ],
         "xaxis": "x",
         "y": [
          100,
          100,
          100,
          100,
          100,
          100,
          100,
          100,
          94.8,
          95.7,
          93.5,
          85.4,
          83.3,
          83.9,
          75.9,
          74.3,
          73.6,
          69.4,
          64.8,
          60.8,
          58.6,
          57.9,
          56.4,
          48.1,
          43,
          39.3,
          38.2,
          31.6,
          17.6,
          16.9
         ],
         "yaxis": "y"
        },
        {
         "customdata": [
          [
           25,
           10,
           "3/19/20",
           "Hawaii"
          ],
          [
           36,
           11,
           "3/20/20",
           "Hawaii"
          ],
          [
           36,
           0,
           "3/21/20",
           "Hawaii"
          ],
          [
           53,
           17,
           "3/22/20",
           "Hawaii"
          ],
          [
           56,
           3,
           "3/23/20",
           "Hawaii"
          ],
          [
           90,
           34,
           "3/24/20",
           "Hawaii"
          ],
          [
           91,
           1,
           "3/25/20",
           "Hawaii"
          ],
          [
           95,
           4,
           "3/26/20",
           "Hawaii"
          ],
          [
           106,
           11,
           "3/27/20",
           "Hawaii"
          ],
          [
           149,
           43,
           "3/28/20",
           "Hawaii"
          ],
          [
           149,
           0,
           "3/29/20",
           "Hawaii"
          ],
          [
           175,
           26,
           "3/30/20",
           "Hawaii"
          ],
          [
           204,
           29,
           "3/31/20",
           "Hawaii"
          ],
          [
           224,
           20,
           "4/1/20",
           "Hawaii"
          ],
          [
           256,
           32,
           "4/2/20",
           "Hawaii"
          ],
          [
           319,
           63,
           "4/3/20",
           "Hawaii"
          ],
          [
           351,
           32,
           "4/4/20",
           "Hawaii"
          ],
          [
           371,
           20,
           "4/5/20",
           "Hawaii"
          ],
          [
           387,
           16,
           "4/6/20",
           "Hawaii"
          ],
          [
           410,
           23,
           "4/7/20",
           "Hawaii"
          ],
          [
           410,
           0,
           "4/8/20",
           "Hawaii"
          ],
          [
           442,
           32,
           "4/9/20",
           "Hawaii"
          ],
          [
           442,
           0,
           "4/10/20",
           "Hawaii"
          ],
          [
           465,
           23,
           "4/11/20",
           "Hawaii"
          ],
          [
           499,
           34,
           "4/12/20",
           "Hawaii"
          ],
          [
           504,
           5,
           "4/13/20",
           "Hawaii"
          ],
          [
           511,
           7,
           "4/14/20",
           "Hawaii"
          ],
          [
           524,
           13,
           "4/15/20",
           "Hawaii"
          ],
          [
           530,
           6,
           "4/16/20",
           "Hawaii"
          ],
          [
           541,
           11,
           "4/17/20",
           "Hawaii"
          ],
          [
           574,
           33,
           "4/18/20",
           "Hawaii"
          ],
          [
           580,
           6,
           "4/19/20",
           "Hawaii"
          ],
          [
           584,
           4,
           "4/20/20",
           "Hawaii"
          ]
         ],
         "hoverlabel": {
          "namelength": 0
         },
         "hovertemplate": "State =%{customdata[3]}<br>Mean growth over 14d compared to max growth =%{x}<br>% cases from last 14d =%{y}<br>Confirmed Cases=%{customdata[0]}<br>Confirmed Cases today =%{customdata[1]}<br>Date=%{customdata[2]}",
         "legendgroup": "Hawaii",
         "marker": {
          "color": "#FFA15A",
          "size": [
           25,
           36,
           36,
           53,
           56,
           90,
           91,
           95,
           106,
           149,
           149,
           175,
           204,
           224,
           256,
           319,
           351,
           371,
           387,
           410,
           410,
           442,
           442,
           465,
           499,
           504,
           511,
           524,
           530,
           541,
           574,
           580,
           584
          ],
          "sizemode": "area",
          "sizeref": 632.65,
          "symbol": "circle"
         },
         "mode": "lines+markers",
         "name": "Hawaii",
         "showlegend": true,
         "type": "scattergl",
         "x": [
          4.2,
          6,
          5.8,
          8.6,
          9.1,
          14.5,
          14.8,
          15.4,
          17.3,
          24.1,
          23.8,
          27.7,
          32.2,
          34.7,
          38.4,
          47,
          52.3,
          52.8,
          55,
          53.2,
          53,
          57.6,
          55.8,
          52.5,
          58.1,
          54.7,
          51,
          49.8,
          45.5,
          36.9,
          37,
          34.7,
          32.7
         ],
         "xaxis": "x",
         "y": [
          100,
          100,
          97.2,
          98.1,
          98.2,
          96.7,
          97.8,
          97.9,
          98.1,
          97.3,
          96,
          95.4,
          95.1,
          93.3,
          90.2,
          88.7,
          89.7,
          85.7,
          85.5,
          78,
          77.8,
          78.5,
          76,
          68,
          70.1,
          65.3,
          60.1,
          57.3,
          51.7,
          41,
          38.9,
          36,
          33.7
         ],
         "yaxis": "y"
        },
        {
         "customdata": [
          [
           23,
           14,
           "3/19/20",
           "Idaho"
          ],
          [
           36,
           13,
           "3/20/20",
           "Idaho"
          ],
          [
           42,
           6,
           "3/21/20",
           "Idaho"
          ],
          [
           42,
           0,
           "3/22/20",
           "Idaho"
          ],
          [
           68,
           26,
           "3/23/20",
           "Idaho"
          ],
          [
           81,
           13,
           "3/24/20",
           "Idaho"
          ],
          [
           91,
           10,
           "3/25/20",
           "Idaho"
          ],
          [
           146,
           55,
           "3/26/20",
           "Idaho"
          ],
          [
           205,
           59,
           "3/27/20",
           "Idaho"
          ],
          [
           234,
           29,
           "3/28/20",
           "Idaho"
          ],
          [
           281,
           47,
           "3/29/20",
           "Idaho"
          ],
          [
           340,
           59,
           "3/30/20",
           "Idaho"
          ],
          [
           515,
           175,
           "3/31/20",
           "Idaho"
          ],
          [
           566,
           51,
           "4/1/20",
           "Idaho"
          ],
          [
           776,
           210,
           "4/2/20",
           "Idaho"
          ],
          [
           891,
           115,
           "4/3/20",
           "Idaho"
          ],
          [
           1022,
           131,
           "4/4/20",
           "Idaho"
          ],
          [
           1078,
           56,
           "4/5/20",
           "Idaho"
          ],
          [
           1101,
           23,
           "4/6/20",
           "Idaho"
          ],
          [
           1170,
           69,
           "4/7/20",
           "Idaho"
          ],
          [
           1210,
           40,
           "4/8/20",
           "Idaho"
          ],
          [
           1232,
           22,
           "4/9/20",
           "Idaho"
          ],
          [
           1354,
           122,
           "4/10/20",
           "Idaho"
          ],
          [
           1396,
           42,
           "4/11/20",
           "Idaho"
          ],
          [
           1407,
           11,
           "4/12/20",
           "Idaho"
          ],
          [
           1426,
           19,
           "4/13/20",
           "Idaho"
          ],
          [
           1464,
           38,
           "4/14/20",
           "Idaho"
          ],
          [
           1473,
           9,
           "4/15/20",
           "Idaho"
          ],
          [
           1587,
           114,
           "4/16/20",
           "Idaho"
          ],
          [
           1609,
           22,
           "4/17/20",
           "Idaho"
          ],
          [
           1655,
           46,
           "4/18/20",
           "Idaho"
          ],
          [
           1668,
           13,
           "4/19/20",
           "Idaho"
          ],
          [
           1672,
           4,
           "4/20/20",
           "Idaho"
          ]
         ],
         "hoverlabel": {
          "namelength": 0
         },
         "hovertemplate": "State =%{customdata[3]}<br>Mean growth over 14d compared to max growth =%{x}<br>% cases from last 14d =%{y}<br>Confirmed Cases=%{customdata[0]}<br>Confirmed Cases today =%{customdata[1]}<br>Date=%{customdata[2]}",
         "legendgroup": "Idaho",
         "marker": {
          "color": "#19d3f3",
          "size": [
           23,
           36,
           42,
           42,
           68,
           81,
           91,
           146,
           205,
           234,
           281,
           340,
           515,
           566,
           776,
           891,
           1022,
           1078,
           1101,
           1170,
           1210,
           1232,
           1354,
           1396,
           1407,
           1426,
           1464,
           1473,
           1587,
           1609,
           1655,
           1668,
           1672
          ],
          "sizemode": "area",
          "sizeref": 632.65,
          "symbol": "circle"
         },
         "mode": "lines+markers",
         "name": "Idaho",
         "showlegend": true,
         "type": "scattergl",
         "x": [
          0.9,
          1.5,
          1.7,
          1.7,
          2.8,
          3.3,
          3.7,
          6,
          8.3,
          9.5,
          11.3,
          13.7,
          20.7,
          22.7,
          30.7,
          34.9,
          40,
          42.3,
          42.2,
          44.4,
          45.7,
          44.3,
          46.9,
          47.4,
          46,
          44.3,
          38.7,
          37,
          33.1,
          29.3,
          25.8,
          24.1,
          23.3
         ],
         "xaxis": "x",
         "y": [
          100,
          100,
          100,
          100,
          100,
          100,
          100,
          100,
          99.5,
          99.1,
          98.6,
          98.8,
          98.4,
          98.4,
          97,
          96,
          95.9,
          96.1,
          93.8,
          93.1,
          92.5,
          88.1,
          84.9,
          83.2,
          80,
          76.2,
          64.8,
          61.6,
          51.1,
          44.6,
          38.2,
          35.4,
          34.2
         ],
         "yaxis": "y"
        },
        {
         "customdata": [
          [
           25,
           13,
           "3/11/20",
           "Illinois"
          ],
          [
           32,
           7,
           "3/12/20",
           "Illinois"
          ],
          [
           46,
           14,
           "3/13/20",
           "Illinois"
          ],
          [
           64,
           18,
           "3/14/20",
           "Illinois"
          ],
          [
           66,
           2,
           "3/15/20",
           "Illinois"
          ],
          [
           83,
           17,
           "3/16/20",
           "Illinois"
          ],
          [
           161,
           78,
           "3/17/20",
           "Illinois"
          ],
          [
           272,
           111,
           "3/18/20",
           "Illinois"
          ],
          [
           422,
           150,
           "3/19/20",
           "Illinois"
          ],
          [
           585,
           163,
           "3/20/20",
           "Illinois"
          ],
          [
           753,
           168,
           "3/21/20",
           "Illinois"
          ],
          [
           1049,
           296,
           "3/22/20",
           "Illinois"
          ],
          [
           1285,
           236,
           "3/23/20",
           "Illinois"
          ],
          [
           1537,
           252,
           "3/24/20",
           "Illinois"
          ],
          [
           1865,
           328,
           "3/25/20",
           "Illinois"
          ],
          [
           2538,
           673,
           "3/26/20",
           "Illinois"
          ],
          [
           3024,
           486,
           "3/27/20",
           "Illinois"
          ],
          [
           3491,
           467,
           "3/28/20",
           "Illinois"
          ],
          [
           4596,
           1105,
           "3/29/20",
           "Illinois"
          ],
          [
           5056,
           460,
           "3/30/20",
           "Illinois"
          ],
          [
           5994,
           938,
           "3/31/20",
           "Illinois"
          ],
          [
           6980,
           986,
           "4/1/20",
           "Illinois"
          ],
          [
           7695,
           715,
           "4/2/20",
           "Illinois"
          ],
          [
           8904,
           1209,
           "4/3/20",
           "Illinois"
          ],
          [
           10357,
           1453,
           "4/4/20",
           "Illinois"
          ],
          [
           11259,
           902,
           "4/5/20",
           "Illinois"
          ],
          [
           12262,
           1003,
           "4/6/20",
           "Illinois"
          ],
          [
           13553,
           1291,
           "4/7/20",
           "Illinois"
          ],
          [
           15078,
           1525,
           "4/8/20",
           "Illinois"
          ],
          [
           16422,
           1344,
           "4/9/20",
           "Illinois"
          ],
          [
           17887,
           1465,
           "4/10/20",
           "Illinois"
          ],
          [
           19180,
           1293,
           "4/11/20",
           "Illinois"
          ],
          [
           20852,
           1672,
           "4/12/20",
           "Illinois"
          ],
          [
           22025,
           1173,
           "4/13/20",
           "Illinois"
          ],
          [
           23248,
           1223,
           "4/14/20",
           "Illinois"
          ],
          [
           24593,
           1345,
           "4/15/20",
           "Illinois"
          ],
          [
           25734,
           1141,
           "4/16/20",
           "Illinois"
          ],
          [
           27578,
           1844,
           "4/17/20",
           "Illinois"
          ],
          [
           29160,
           1582,
           "4/18/20",
           "Illinois"
          ],
          [
           30357,
           1197,
           "4/19/20",
           "Illinois"
          ],
          [
           31513,
           1156,
           "4/20/20",
           "Illinois"
          ]
         ],
         "hoverlabel": {
          "namelength": 0
         },
         "hovertemplate": "State =%{customdata[3]}<br>Mean growth over 14d compared to max growth =%{x}<br>% cases from last 14d =%{y}<br>Confirmed Cases=%{customdata[0]}<br>Confirmed Cases today =%{customdata[1]}<br>Date=%{customdata[2]}",
         "legendgroup": "Illinois",
         "marker": {
          "color": "#FF6692",
          "size": [
           25,
           32,
           46,
           64,
           66,
           83,
           161,
           272,
           422,
           585,
           753,
           1049,
           1285,
           1537,
           1865,
           2538,
           3024,
           3491,
           4596,
           5056,
           5994,
           6980,
           7695,
           8904,
           10357,
           11259,
           12262,
           13553,
           15078,
           16422,
           17887,
           19180,
           20852,
           22025,
           23248,
           24593,
           25734,
           27578,
           29160,
           30357,
           31513
          ],
          "sizemode": "area",
          "sizeref": 632.65,
          "symbol": "circle"
         },
         "mode": "lines+markers",
         "name": "Illinois",
         "showlegend": true,
         "type": "scattergl",
         "x": [
          0.1,
          0.1,
          0.2,
          0.3,
          0.3,
          0.3,
          0.7,
          1.1,
          1.8,
          2.5,
          3.2,
          4.5,
          5.5,
          6.5,
          7.9,
          10.7,
          12.7,
          14.6,
          19.4,
          21.2,
          24.9,
          28.7,
          31.1,
          35.5,
          41,
          43.6,
          46.9,
          51.3,
          56.4,
          59.3,
          63.5,
          67,
          69.4,
          72.5,
          73.7,
          75.2,
          77.1,
          79.8,
          80.3,
          81.6,
          82.2
         ],
         "xaxis": "x",
         "y": [
          92,
          93.8,
          95.7,
          96.9,
          95.5,
          95.2,
          97.5,
          98.5,
          98.8,
          99.1,
          99.2,
          99.3,
          99.5,
          99.2,
          98.7,
          98.7,
          98.5,
          98.2,
          98.6,
          98.4,
          97.3,
          96.1,
          94.5,
          93.4,
          92.7,
          90.7,
          89.5,
          88.7,
          87.6,
          84.5,
          83.1,
          81.8,
          78,
          77,
          74.2,
          71.6,
          70.1,
          67.7,
          64.5,
          62.9,
          61.1
         ],
         "yaxis": "y"
        },
        {
         "customdata": [
          [
           20,
           4,
           "3/15/20",
           "Indiana"
          ],
          [
           25,
           5,
           "3/16/20",
           "Indiana"
          ],
          [
           30,
           5,
           "3/17/20",
           "Indiana"
          ],
          [
           38,
           8,
           "3/18/20",
           "Indiana"
          ],
          [
           60,
           22,
           "3/19/20",
           "Indiana"
          ],
          [
           86,
           26,
           "3/20/20",
           "Indiana"
          ],
          [
           128,
           42,
           "3/21/20",
           "Indiana"
          ],
          [
           204,
           76,
           "3/22/20",
           "Indiana"
          ],
          [
           270,
           66,
           "3/23/20",
           "Indiana"
          ],
          [
           368,
           98,
           "3/24/20",
           "Indiana"
          ],
          [
           477,
           109,
           "3/25/20",
           "Indiana"
          ],
          [
           645,
           168,
           "3/26/20",
           "Indiana"
          ],
          [
           979,
           334,
           "3/27/20",
           "Indiana"
          ],
          [
           1233,
           254,
           "3/28/20",
           "Indiana"
          ],
          [
           1513,
           280,
           "3/29/20",
           "Indiana"
          ],
          [
           1786,
           273,
           "3/30/20",
           "Indiana"
          ],
          [
           2158,
           372,
           "3/31/20",
           "Indiana"
          ],
          [
           2564,
           406,
           "4/1/20",
           "Indiana"
          ],
          [
           3038,
           474,
           "4/2/20",
           "Indiana"
          ],
          [
           3437,
           399,
           "4/3/20",
           "Indiana"
          ],
          [
           3953,
           516,
           "4/4/20",
           "Indiana"
          ],
          [
           4411,
           458,
           "4/5/20",
           "Indiana"
          ],
          [
           4956,
           545,
           "4/6/20",
           "Indiana"
          ],
          [
           5510,
           554,
           "4/7/20",
           "Indiana"
          ],
          [
           5943,
           433,
           "4/8/20",
           "Indiana"
          ],
          [
           6351,
           408,
           "4/9/20",
           "Indiana"
          ],
          [
           6907,
           556,
           "4/10/20",
           "Indiana"
          ],
          [
           7435,
           528,
           "4/11/20",
           "Indiana"
          ],
          [
           7928,
           493,
           "4/12/20",
           "Indiana"
          ],
          [
           8359,
           431,
           "4/13/20",
           "Indiana"
          ],
          [
           8527,
           168,
           "4/14/20",
           "Indiana"
          ],
          [
           8960,
           433,
           "4/15/20",
           "Indiana"
          ],
          [
           9542,
           582,
           "4/16/20",
           "Indiana"
          ],
          [
           10154,
           612,
           "4/17/20",
           "Indiana"
          ],
          [
           10641,
           487,
           "4/18/20",
           "Indiana"
          ],
          [
           11211,
           570,
           "4/19/20",
           "Indiana"
          ],
          [
           11688,
           477,
           "4/20/20",
           "Indiana"
          ]
         ],
         "hoverlabel": {
          "namelength": 0
         },
         "hovertemplate": "State =%{customdata[3]}<br>Mean growth over 14d compared to max growth =%{x}<br>% cases from last 14d =%{y}<br>Confirmed Cases=%{customdata[0]}<br>Confirmed Cases today =%{customdata[1]}<br>Date=%{customdata[2]}",
         "legendgroup": "Indiana",
         "marker": {
          "color": "#B6E880",
          "size": [
           20,
           25,
           30,
           38,
           60,
           86,
           128,
           204,
           270,
           368,
           477,
           645,
           979,
           1233,
           1513,
           1786,
           2158,
           2564,
           3038,
           3437,
           3953,
           4411,
           4956,
           5510,
           5943,
           6351,
           6907,
           7435,
           7928,
           8359,
           8527,
           8960,
           9542,
           10154,
           10641,
           11211,
           11688
          ],
          "sizemode": "area",
          "sizeref": 632.65,
          "symbol": "circle"
         },
         "mode": "lines+markers",
         "name": "Indiana",
         "showlegend": true,
         "type": "scattergl",
         "x": [
          0.2,
          0.3,
          0.4,
          0.5,
          0.7,
          1,
          1.6,
          2.5,
          3.3,
          4.4,
          5.7,
          7.8,
          11.9,
          14.9,
          18.3,
          21.6,
          26.1,
          31,
          36.5,
          41.1,
          46.9,
          51.6,
          57.5,
          63.1,
          67.1,
          70,
          72.8,
          76.1,
          78.7,
          80.7,
          78.2,
          78.5,
          79.8,
          82.4,
          82.1,
          83.5,
          82.6
         ],
         "xaxis": "x",
         "y": [
          100,
          100,
          100,
          100,
          100,
          98.8,
          99.2,
          99,
          98.9,
          98.4,
          97.7,
          98,
          98.7,
          98.7,
          98.7,
          98.6,
          98.6,
          98.5,
          98,
          97.5,
          96.8,
          95.4,
          94.6,
          93.3,
          92,
          89.8,
          85.8,
          83.4,
          80.9,
          78.6,
          74.7,
          71.4,
          68.2,
          66.2,
          62.9,
          60.7,
          57.6
         ],
         "yaxis": "y"
        },
        {
         "customdata": [
          [
           23,
           5,
           "3/16/20",
           "Iowa"
          ],
          [
           23,
           0,
           "3/17/20",
           "Iowa"
          ],
          [
           38,
           15,
           "3/18/20",
           "Iowa"
          ],
          [
           44,
           6,
           "3/19/20",
           "Iowa"
          ],
          [
           45,
           1,
           "3/20/20",
           "Iowa"
          ],
          [
           69,
           24,
           "3/21/20",
           "Iowa"
          ],
          [
           90,
           21,
           "3/22/20",
           "Iowa"
          ],
          [
           105,
           15,
           "3/23/20",
           "Iowa"
          ],
          [
           124,
           19,
           "3/24/20",
           "Iowa"
          ],
          [
           146,
           22,
           "3/25/20",
           "Iowa"
          ],
          [
           179,
           33,
           "3/26/20",
           "Iowa"
          ],
          [
           235,
           56,
           "3/27/20",
           "Iowa"
          ],
          [
           298,
           63,
           "3/28/20",
           "Iowa"
          ],
          [
           336,
           38,
           "3/29/20",
           "Iowa"
          ],
          [
           424,
           88,
           "3/30/20",
           "Iowa"
          ],
          [
           497,
           73,
           "3/31/20",
           "Iowa"
          ],
          [
           547,
           50,
           "4/1/20",
           "Iowa"
          ],
          [
           614,
           67,
           "4/2/20",
           "Iowa"
          ],
          [
           699,
           85,
           "4/3/20",
           "Iowa"
          ],
          [
           787,
           88,
           "4/4/20",
           "Iowa"
          ],
          [
           869,
           82,
           "4/5/20",
           "Iowa"
          ],
          [
           946,
           77,
           "4/6/20",
           "Iowa"
          ],
          [
           1046,
           100,
           "4/7/20",
           "Iowa"
          ],
          [
           1145,
           99,
           "4/8/20",
           "Iowa"
          ],
          [
           1270,
           125,
           "4/9/20",
           "Iowa"
          ],
          [
           1388,
           118,
           "4/10/20",
           "Iowa"
          ],
          [
           1510,
           122,
           "4/11/20",
           "Iowa"
          ],
          [
           1587,
           77,
           "4/12/20",
           "Iowa"
          ],
          [
           1710,
           123,
           "4/13/20",
           "Iowa"
          ],
          [
           1899,
           189,
           "4/14/20",
           "Iowa"
          ],
          [
           1995,
           96,
           "4/15/20",
           "Iowa"
          ],
          [
           2141,
           146,
           "4/16/20",
           "Iowa"
          ],
          [
           2332,
           191,
           "4/17/20",
           "Iowa"
          ],
          [
           2513,
           181,
           "4/18/20",
           "Iowa"
          ],
          [
           2902,
           389,
           "4/19/20",
           "Iowa"
          ],
          [
           3159,
           257,
           "4/20/20",
           "Iowa"
          ]
         ],
         "hoverlabel": {
          "namelength": 0
         },
         "hovertemplate": "State =%{customdata[3]}<br>Mean growth over 14d compared to max growth =%{x}<br>% cases from last 14d =%{y}<br>Confirmed Cases=%{customdata[0]}<br>Confirmed Cases today =%{customdata[1]}<br>Date=%{customdata[2]}",
         "legendgroup": "Iowa",
         "marker": {
          "color": "#FF97FF",
          "size": [
           23,
           23,
           38,
           44,
           45,
           69,
           90,
           105,
           124,
           146,
           179,
           235,
           298,
           336,
           424,
           497,
           547,
           614,
           699,
           787,
           869,
           946,
           1046,
           1145,
           1270,
           1388,
           1510,
           1587,
           1710,
           1899,
           1995,
           2141,
           2332,
           2513,
           2902,
           3159
          ],
          "sizemode": "area",
          "sizeref": 632.65,
          "symbol": "circle"
         },
         "mode": "lines+markers",
         "name": "Iowa",
         "showlegend": true,
         "type": "scattergl",
         "x": [
          0.6,
          0.6,
          1.1,
          1.2,
          1.3,
          1.9,
          2.5,
          2.8,
          3.2,
          3.7,
          4.6,
          6.1,
          7.8,
          8.8,
          11.1,
          13.2,
          14.1,
          15.8,
          18.2,
          20,
          21.7,
          23.4,
          25.6,
          27.8,
          30.3,
          32,
          33.7,
          34.8,
          35.7,
          39,
          40.2,
          42.4,
          45.4,
          48,
          56.5,
          61.5
         ],
         "xaxis": "x",
         "y": [
          100,
          100,
          100,
          100,
          100,
          100,
          100,
          97.1,
          93.5,
          91.1,
          92.2,
          92.8,
          94.3,
          94.6,
          94.6,
          95.4,
          93.1,
          92.8,
          93.6,
          91.2,
          89.6,
          88.9,
          88.1,
          87.2,
          85.9,
          83.1,
          80.3,
          78.8,
          75.2,
          73.8,
          72.6,
          71.3,
          70,
          68.7,
          70.1,
          70.1
         ],
         "yaxis": "y"
        },
        {
         "customdata": [
          [
           22,
           4,
           "3/18/20",
           "Kansas"
          ],
          [
           35,
           13,
           "3/19/20",
           "Kansas"
          ],
          [
           48,
           13,
           "3/20/20",
           "Kansas"
          ],
          [
           57,
           9,
           "3/21/20",
           "Kansas"
          ],
          [
           65,
           8,
           "3/22/20",
           "Kansas"
          ],
          [
           84,
           19,
           "3/23/20",
           "Kansas"
          ],
          [
           100,
           16,
           "3/24/20",
           "Kansas"
          ],
          [
           134,
           34,
           "3/25/20",
           "Kansas"
          ],
          [
           172,
           38,
           "3/26/20",
           "Kansas"
          ],
          [
           206,
           34,
           "3/27/20",
           "Kansas"
          ],
          [
           266,
           60,
           "3/28/20",
           "Kansas"
          ],
          [
           330,
           64,
           "3/29/20",
           "Kansas"
          ],
          [
           372,
           42,
           "3/30/20",
           "Kansas"
          ],
          [
           434,
           62,
           "3/31/20",
           "Kansas"
          ],
          [
           485,
           51,
           "4/1/20",
           "Kansas"
          ],
          [
           553,
           68,
           "4/2/20",
           "Kansas"
          ],
          [
           629,
           76,
           "4/3/20",
           "Kansas"
          ],
          [
           698,
           69,
           "4/4/20",
           "Kansas"
          ],
          [
           751,
           53,
           "4/5/20",
           "Kansas"
          ],
          [
           849,
           98,
           "4/6/20",
           "Kansas"
          ],
          [
           912,
           63,
           "4/7/20",
           "Kansas"
          ],
          [
           1046,
           134,
           "4/8/20",
           "Kansas"
          ],
          [
           1116,
           70,
           "4/9/20",
           "Kansas"
          ],
          [
           1117,
           1,
           "4/10/20",
           "Kansas"
          ],
          [
           1275,
           158,
           "4/11/20",
           "Kansas"
          ],
          [
           1344,
           69,
           "4/12/20",
           "Kansas"
          ],
          [
           1390,
           46,
           "4/13/20",
           "Kansas"
          ],
          [
           1441,
           51,
           "4/14/20",
           "Kansas"
          ],
          [
           1504,
           63,
           "4/15/20",
           "Kansas"
          ],
          [
           1615,
           111,
           "4/16/20",
           "Kansas"
          ],
          [
           1730,
           115,
           "4/17/20",
           "Kansas"
          ],
          [
           1821,
           91,
           "4/18/20",
           "Kansas"
          ],
          [
           1905,
           84,
           "4/19/20",
           "Kansas"
          ],
          [
           2048,
           143,
           "4/20/20",
           "Kansas"
          ]
         ],
         "hoverlabel": {
          "namelength": 0
         },
         "hovertemplate": "State =%{customdata[3]}<br>Mean growth over 14d compared to max growth =%{x}<br>% cases from last 14d =%{y}<br>Confirmed Cases=%{customdata[0]}<br>Confirmed Cases today =%{customdata[1]}<br>Date=%{customdata[2]}",
         "legendgroup": "Kansas",
         "marker": {
          "color": "#FECB52",
          "size": [
           22,
           35,
           48,
           57,
           65,
           84,
           100,
           134,
           172,
           206,
           266,
           330,
           372,
           434,
           485,
           553,
           629,
           698,
           751,
           849,
           912,
           1046,
           1116,
           1117,
           1275,
           1344,
           1390,
           1441,
           1504,
           1615,
           1730,
           1821,
           1905,
           2048
          ],
          "sizemode": "area",
          "sizeref": 632.65,
          "symbol": "circle"
         },
         "mode": "lines+markers",
         "name": "Kansas",
         "showlegend": true,
         "type": "scattergl",
         "x": [
          1.1,
          1.7,
          2.4,
          2.8,
          3.2,
          4.1,
          4.9,
          6.6,
          8.4,
          10,
          12.9,
          16.1,
          18,
          20.8,
          23.1,
          25.9,
          29,
          32,
          34.3,
          38.2,
          40.6,
          45.6,
          47.2,
          45.5,
          50.4,
          50.6,
          50.8,
          50.3,
          50.9,
          53,
          55,
          56.1,
          57.6,
          59.9
         ],
         "xaxis": "x",
         "y": [
          100,
          100,
          100,
          100,
          98.5,
          98.8,
          99,
          99.3,
          97.7,
          97.1,
          97,
          97.6,
          97,
          95.9,
          95.5,
          93.7,
          92.4,
          91.8,
          91.3,
          90.1,
          89,
          87.2,
          84.6,
          81.6,
          79.1,
          75.4,
          73.2,
          69.9,
          67.8,
          65.8,
          63.6,
          61.7,
          60.6,
          58.5
         ],
         "yaxis": "y"
        },
        {
         "customdata": [
          [
           21,
           3,
           "3/16/20",
           "Kentucky"
          ],
          [
           26,
           5,
           "3/17/20",
           "Kentucky"
          ],
          [
           28,
           2,
           "3/18/20",
           "Kentucky"
          ],
          [
           50,
           22,
           "3/19/20",
           "Kentucky"
          ],
          [
           64,
           14,
           "3/20/20",
           "Kentucky"
          ],
          [
           87,
           23,
           "3/21/20",
           "Kentucky"
          ],
          [
           103,
           16,
           "3/22/20",
           "Kentucky"
          ],
          [
           123,
           20,
           "3/23/20",
           "Kentucky"
          ],
          [
           162,
           39,
           "3/24/20",
           "Kentucky"
          ],
          [
           197,
           35,
           "3/25/20",
           "Kentucky"
          ],
          [
           247,
           50,
           "3/26/20",
           "Kentucky"
          ],
          [
           301,
           54,
           "3/27/20",
           "Kentucky"
          ],
          [
           380,
           79,
           "3/28/20",
           "Kentucky"
          ],
          [
           438,
           58,
           "3/29/20",
           "Kentucky"
          ],
          [
           479,
           41,
           "3/30/20",
           "Kentucky"
          ],
          [
           628,
           149,
           "3/31/20",
           "Kentucky"
          ],
          [
           632,
           4,
           "4/1/20",
           "Kentucky"
          ],
          [
           770,
           138,
           "4/2/20",
           "Kentucky"
          ],
          [
           770,
           0,
           "4/3/20",
           "Kentucky"
          ],
          [
           917,
           147,
           "4/4/20",
           "Kentucky"
          ],
          [
           955,
           38,
           "4/5/20",
           "Kentucky"
          ],
          [
           955,
           0,
           "4/6/20",
           "Kentucky"
          ],
          [
           1149,
           194,
           "4/7/20",
           "Kentucky"
          ],
          [
           1149,
           0,
           "4/8/20",
           "Kentucky"
          ],
          [
           1341,
           192,
           "4/9/20",
           "Kentucky"
          ],
          [
           1693,
           352,
           "4/10/20",
           "Kentucky"
          ],
          [
           1693,
           0,
           "4/11/20",
           "Kentucky"
          ],
          [
           1963,
           270,
           "4/12/20",
           "Kentucky"
          ],
          [
           2018,
           55,
           "4/13/20",
           "Kentucky"
          ],
          [
           2048,
           30,
           "4/14/20",
           "Kentucky"
          ],
          [
           2210,
           162,
           "4/15/20",
           "Kentucky"
          ],
          [
           2435,
           225,
           "4/16/20",
           "Kentucky"
          ],
          [
           2522,
           87,
           "4/17/20",
           "Kentucky"
          ],
          [
           2707,
           185,
           "4/18/20",
           "Kentucky"
          ],
          [
           2960,
           253,
           "4/19/20",
           "Kentucky"
          ],
          [
           3050,
           90,
           "4/20/20",
           "Kentucky"
          ]
         ],
         "hoverlabel": {
          "namelength": 0
         },
         "hovertemplate": "State =%{customdata[3]}<br>Mean growth over 14d compared to max growth =%{x}<br>% cases from last 14d =%{y}<br>Confirmed Cases=%{customdata[0]}<br>Confirmed Cases today =%{customdata[1]}<br>Date=%{customdata[2]}",
         "legendgroup": "Kentucky",
         "marker": {
          "color": "#636efa",
          "size": [
           21,
           26,
           28,
           50,
           64,
           87,
           103,
           123,
           162,
           197,
           247,
           301,
           380,
           438,
           479,
           628,
           632,
           770,
           770,
           917,
           955,
           955,
           1149,
           1149,
           1341,
           1693,
           1693,
           1963,
           2018,
           2048,
           2210,
           2435,
           2522,
           2707,
           2960,
           3050
          ],
          "sizemode": "area",
          "sizeref": 632.65,
          "symbol": "circle"
         },
         "mode": "lines+markers",
         "name": "Kentucky",
         "showlegend": true,
         "type": "scattergl",
         "x": [
          0.6,
          0.7,
          0.7,
          1.3,
          1.7,
          2.3,
          2.7,
          3.1,
          4.2,
          5,
          6.3,
          7.6,
          9.6,
          11.1,
          12.1,
          15.9,
          16,
          19,
          18.7,
          22,
          22.5,
          22,
          26.1,
          25.2,
          28.9,
          36.8,
          34.7,
          40.3,
          40.7,
          37.6,
          41.7,
          44,
          46.3,
          47.4,
          53,
          55.4
         ],
         "xaxis": "x",
         "y": [
          100,
          100,
          100,
          100,
          98.4,
          98.9,
          99,
          96.7,
          96.9,
          95.9,
          96,
          95.3,
          95.8,
          95.9,
          95.6,
          95.9,
          95.6,
          93.5,
          91.7,
          90.5,
          89.2,
          87.1,
          85.9,
          82.9,
          81.6,
          82.2,
          77.6,
          77.7,
          76.3,
          69.3,
          71.4,
          68.4,
          69.5,
          66.1,
          67.7,
          68.7
         ],
         "yaxis": "y"
        },
        {
         "customdata": [
          [
           29,
           10,
           "3/13/20",
           "Louisiana"
          ],
          [
           77,
           48,
           "3/14/20",
           "Louisiana"
          ],
          [
           87,
           10,
           "3/15/20",
           "Louisiana"
          ],
          [
           115,
           28,
           "3/16/20",
           "Louisiana"
          ],
          [
           196,
           81,
           "3/17/20",
           "Louisiana"
          ],
          [
           257,
           61,
           "3/18/20",
           "Louisiana"
          ],
          [
           392,
           135,
           "3/19/20",
           "Louisiana"
          ],
          [
           537,
           145,
           "3/20/20",
           "Louisiana"
          ],
          [
           763,
           226,
           "3/21/20",
           "Louisiana"
          ],
          [
           837,
           74,
           "3/22/20",
           "Louisiana"
          ],
          [
           1172,
           335,
           "3/23/20",
           "Louisiana"
          ],
          [
           1388,
           216,
           "3/24/20",
           "Louisiana"
          ],
          [
           1795,
           407,
           "3/25/20",
           "Louisiana"
          ],
          [
           2304,
           509,
           "3/26/20",
           "Louisiana"
          ],
          [
           2744,
           440,
           "3/27/20",
           "Louisiana"
          ],
          [
           3315,
           571,
           "3/28/20",
           "Louisiana"
          ],
          [
           3540,
           225,
           "3/29/20",
           "Louisiana"
          ],
          [
           4025,
           485,
           "3/30/20",
           "Louisiana"
          ],
          [
           5237,
           1212,
           "3/31/20",
           "Louisiana"
          ],
          [
           6424,
           1187,
           "4/1/20",
           "Louisiana"
          ],
          [
           9149,
           2725,
           "4/2/20",
           "Louisiana"
          ],
          [
           10297,
           1148,
           "4/3/20",
           "Louisiana"
          ],
          [
           12496,
           2199,
           "4/4/20",
           "Louisiana"
          ],
          [
           13010,
           514,
           "4/5/20",
           "Louisiana"
          ],
          [
           14867,
           1857,
           "4/6/20",
           "Louisiana"
          ],
          [
           16284,
           1417,
           "4/7/20",
           "Louisiana"
          ],
          [
           17030,
           746,
           "4/8/20",
           "Louisiana"
          ],
          [
           18283,
           1253,
           "4/9/20",
           "Louisiana"
          ],
          [
           19253,
           970,
           "4/10/20",
           "Louisiana"
          ],
          [
           20014,
           761,
           "4/11/20",
           "Louisiana"
          ],
          [
           20595,
           581,
           "4/12/20",
           "Louisiana"
          ],
          [
           21016,
           421,
           "4/13/20",
           "Louisiana"
          ],
          [
           21518,
           502,
           "4/14/20",
           "Louisiana"
          ],
          [
           21951,
           433,
           "4/15/20",
           "Louisiana"
          ],
          [
           22532,
           581,
           "4/16/20",
           "Louisiana"
          ],
          [
           23118,
           586,
           "4/17/20",
           "Louisiana"
          ],
          [
           23580,
           462,
           "4/18/20",
           "Louisiana"
          ],
          [
           23928,
           348,
           "4/19/20",
           "Louisiana"
          ],
          [
           24523,
           595,
           "4/20/20",
           "Louisiana"
          ]
         ],
         "hoverlabel": {
          "namelength": 0
         },
         "hovertemplate": "State =%{customdata[3]}<br>Mean growth over 14d compared to max growth =%{x}<br>% cases from last 14d =%{y}<br>Confirmed Cases=%{customdata[0]}<br>Confirmed Cases today =%{customdata[1]}<br>Date=%{customdata[2]}",
         "legendgroup": "Louisiana",
         "marker": {
          "color": "#EF553B",
          "size": [
           29,
           77,
           87,
           115,
           196,
           257,
           392,
           537,
           763,
           837,
           1172,
           1388,
           1795,
           2304,
           2744,
           3315,
           3540,
           4025,
           5237,
           6424,
           9149,
           10297,
           12496,
           13010,
           14867,
           16284,
           17030,
           18283,
           19253,
           20014,
           20595,
           21016,
           21518,
           21951,
           22532,
           23118,
           23580,
           23928,
           24523
          ],
          "sizemode": "area",
          "sizeref": 632.65,
          "symbol": "circle"
         },
         "mode": "lines+markers",
         "name": "Louisiana",
         "showlegend": true,
         "type": "scattergl",
         "x": [
          0.1,
          0.3,
          0.3,
          0.4,
          0.6,
          0.8,
          1.3,
          1.7,
          2.5,
          2.7,
          3.8,
          4.5,
          5.8,
          7.4,
          8.8,
          10.5,
          11.2,
          12.7,
          16.4,
          20,
          28.4,
          31.7,
          38.1,
          39.5,
          44.5,
          48.4,
          49.5,
          51.9,
          53.6,
          54.2,
          55.4,
          55.2,
          52.9,
          50.4,
          43.5,
          41.6,
          36,
          35.5,
          31.4
         ],
         "xaxis": "x",
         "y": [
          100,
          100,
          100,
          100,
          100,
          100,
          100,
          100,
          100,
          100,
          100,
          100,
          99.7,
          99.2,
          98.9,
          97.7,
          97.5,
          97.1,
          96.3,
          96,
          95.7,
          94.8,
          93.9,
          93.6,
          92.1,
          91.5,
          89.5,
          87.4,
          85.7,
          83.4,
          82.8,
          80.8,
          75.7,
          70.7,
          59.4,
          55.5,
          47,
          45.6,
          39.4
         ],
         "yaxis": "y"
        },
        {
         "customdata": [
          [
           26,
           9,
           "3/17/20",
           "Maine"
          ],
          [
           35,
           9,
           "3/18/20",
           "Maine"
          ],
          [
           52,
           17,
           "3/19/20",
           "Maine"
          ],
          [
           56,
           4,
           "3/20/20",
           "Maine"
          ],
          [
           70,
           14,
           "3/21/20",
           "Maine"
          ],
          [
           89,
           19,
           "3/22/20",
           "Maine"
          ],
          [
           107,
           18,
           "3/23/20",
           "Maine"
          ],
          [
           118,
           11,
           "3/24/20",
           "Maine"
          ],
          [
           142,
           24,
           "3/25/20",
           "Maine"
          ],
          [
           155,
           13,
           "3/26/20",
           "Maine"
          ],
          [
           168,
           13,
           "3/27/20",
           "Maine"
          ],
          [
           211,
           43,
           "3/28/20",
           "Maine"
          ],
          [
           253,
           42,
           "3/29/20",
           "Maine"
          ],
          [
           275,
           22,
           "3/30/20",
           "Maine"
          ],
          [
           303,
           28,
           "3/31/20",
           "Maine"
          ],
          [
           303,
           0,
           "4/1/20",
           "Maine"
          ],
          [
           376,
           73,
           "4/2/20",
           "Maine"
          ],
          [
           432,
           56,
           "4/3/20",
           "Maine"
          ],
          [
           456,
           24,
           "4/4/20",
           "Maine"
          ],
          [
           470,
           14,
           "4/5/20",
           "Maine"
          ],
          [
           499,
           29,
           "4/6/20",
           "Maine"
          ],
          [
           519,
           20,
           "4/7/20",
           "Maine"
          ],
          [
           537,
           18,
           "4/8/20",
           "Maine"
          ],
          [
           560,
           23,
           "4/9/20",
           "Maine"
          ],
          [
           586,
           26,
           "4/10/20",
           "Maine"
          ],
          [
           616,
           30,
           "4/11/20",
           "Maine"
          ],
          [
           633,
           17,
           "4/12/20",
           "Maine"
          ],
          [
           698,
           65,
           "4/13/20",
           "Maine"
          ],
          [
           735,
           37,
           "4/14/20",
           "Maine"
          ],
          [
           770,
           35,
           "4/15/20",
           "Maine"
          ],
          [
           796,
           26,
           "4/16/20",
           "Maine"
          ],
          [
           827,
           31,
           "4/17/20",
           "Maine"
          ],
          [
           847,
           20,
           "4/18/20",
           "Maine"
          ],
          [
           867,
           20,
           "4/19/20",
           "Maine"
          ],
          [
           875,
           8,
           "4/20/20",
           "Maine"
          ]
         ],
         "hoverlabel": {
          "namelength": 0
         },
         "hovertemplate": "State =%{customdata[3]}<br>Mean growth over 14d compared to max growth =%{x}<br>% cases from last 14d =%{y}<br>Confirmed Cases=%{customdata[0]}<br>Confirmed Cases today =%{customdata[1]}<br>Date=%{customdata[2]}",
         "legendgroup": "Maine",
         "marker": {
          "color": "#00cc96",
          "size": [
           26,
           35,
           52,
           56,
           70,
           89,
           107,
           118,
           142,
           155,
           168,
           211,
           253,
           275,
           303,
           303,
           376,
           432,
           456,
           470,
           499,
           519,
           537,
           560,
           586,
           616,
           633,
           698,
           735,
           770,
           796,
           827,
           847,
           867,
           875
          ],
          "sizemode": "area",
          "sizeref": 632.65,
          "symbol": "circle"
         },
         "mode": "lines+markers",
         "name": "Maine",
         "showlegend": true,
         "type": "scattergl",
         "x": [
          2.9,
          3.8,
          5.7,
          6.2,
          7.7,
          9.8,
          11.8,
          13,
          15.6,
          16.9,
          18.1,
          22.9,
          27.6,
          28.4,
          30.4,
          29.5,
          35.6,
          41.3,
          42.4,
          41.9,
          43.1,
          44.1,
          43.4,
          44.5,
          45.9,
          44.5,
          41.8,
          46.5,
          47.5,
          51.3,
          46.2,
          43.4,
          43,
          43.6,
          41.3
         ],
         "xaxis": "x",
         "y": [
          100,
          100,
          100,
          100,
          100,
          100,
          100,
          100,
          100,
          99.4,
          98.2,
          98.6,
          99.2,
          93.8,
          91.4,
          88.4,
          86.2,
          87,
          84.6,
          81.1,
          78.6,
          77.3,
          73.6,
          72.3,
          71.3,
          65.7,
          60,
          60.6,
          58.8,
          60.6,
          52.8,
          47.8,
          46.2,
          45.8,
          43
         ],
         "yaxis": "y"
        },
        {
         "customdata": [
          [
           27,
           9,
           "3/14/20",
           "Maryland"
          ],
          [
           24,
           -3,
           "3/15/20",
           "Maryland"
          ],
          [
           42,
           18,
           "3/16/20",
           "Maryland"
          ],
          [
           60,
           18,
           "3/17/20",
           "Maryland"
          ],
          [
           85,
           25,
           "3/18/20",
           "Maryland"
          ],
          [
           107,
           22,
           "3/19/20",
           "Maryland"
          ],
          [
           149,
           42,
           "3/20/20",
           "Maryland"
          ],
          [
           193,
           44,
           "3/21/20",
           "Maryland"
          ],
          [
           244,
           51,
           "3/22/20",
           "Maryland"
          ],
          [
           290,
           46,
           "3/23/20",
           "Maryland"
          ],
          [
           349,
           59,
           "3/24/20",
           "Maryland"
          ],
          [
           425,
           76,
           "3/25/20",
           "Maryland"
          ],
          [
           583,
           158,
           "3/26/20",
           "Maryland"
          ],
          [
           775,
           192,
           "3/27/20",
           "Maryland"
          ],
          [
           995,
           220,
           "3/28/20",
           "Maryland"
          ],
          [
           1239,
           244,
           "3/29/20",
           "Maryland"
          ],
          [
           1413,
           174,
           "3/30/20",
           "Maryland"
          ],
          [
           1660,
           247,
           "3/31/20",
           "Maryland"
          ],
          [
           1986,
           326,
           "4/1/20",
           "Maryland"
          ],
          [
           2331,
           345,
           "4/2/20",
           "Maryland"
          ],
          [
           2758,
           427,
           "4/3/20",
           "Maryland"
          ],
          [
           3125,
           367,
           "4/4/20",
           "Maryland"
          ],
          [
           3617,
           492,
           "4/5/20",
           "Maryland"
          ],
          [
           4045,
           428,
           "4/6/20",
           "Maryland"
          ],
          [
           4371,
           326,
           "4/7/20",
           "Maryland"
          ],
          [
           5529,
           1158,
           "4/8/20",
           "Maryland"
          ],
          [
           6185,
           656,
           "4/9/20",
           "Maryland"
          ],
          [
           6968,
           783,
           "4/10/20",
           "Maryland"
          ],
          [
           7694,
           726,
           "4/11/20",
           "Maryland"
          ],
          [
           8225,
           531,
           "4/12/20",
           "Maryland"
          ],
          [
           8936,
           711,
           "4/13/20",
           "Maryland"
          ],
          [
           9472,
           536,
           "4/14/20",
           "Maryland"
          ],
          [
           10032,
           560,
           "4/15/20",
           "Maryland"
          ],
          [
           10784,
           752,
           "4/16/20",
           "Maryland"
          ],
          [
           11572,
           788,
           "4/17/20",
           "Maryland"
          ],
          [
           12326,
           754,
           "4/18/20",
           "Maryland"
          ],
          [
           12847,
           521,
           "4/19/20",
           "Maryland"
          ],
          [
           13684,
           837,
           "4/20/20",
           "Maryland"
          ]
         ],
         "hoverlabel": {
          "namelength": 0
         },
         "hovertemplate": "State =%{customdata[3]}<br>Mean growth over 14d compared to max growth =%{x}<br>% cases from last 14d =%{y}<br>Confirmed Cases=%{customdata[0]}<br>Confirmed Cases today =%{customdata[1]}<br>Date=%{customdata[2]}",
         "legendgroup": "Maryland",
         "marker": {
          "color": "#ab63fa",
          "size": [
           27,
           24,
           42,
           60,
           85,
           107,
           149,
           193,
           244,
           290,
           349,
           425,
           583,
           775,
           995,
           1239,
           1413,
           1660,
           1986,
           2331,
           2758,
           3125,
           3617,
           4045,
           4371,
           5529,
           6185,
           6968,
           7694,
           8225,
           8936,
           9472,
           10032,
           10784,
           11572,
           12326,
           12847,
           13684
          ],
          "sizemode": "area",
          "sizeref": 632.65,
          "symbol": "circle"
         },
         "mode": "lines+markers",
         "name": "Maryland",
         "showlegend": true,
         "type": "scattergl",
         "x": [
          0.2,
          0.2,
          0.4,
          0.5,
          0.7,
          0.9,
          1.2,
          1.6,
          2,
          2.4,
          2.9,
          3.6,
          4.9,
          6.5,
          8.3,
          10.4,
          11.7,
          13.7,
          16.2,
          19,
          22.3,
          25,
          28.8,
          32,
          34.3,
          43.6,
          47.8,
          52.9,
          57.2,
          59.6,
          64.2,
          66.7,
          68.7,
          72.1,
          75.2,
          78.5,
          78.8,
          82.3
         ],
         "xaxis": "x",
         "y": [
          100,
          100,
          100,
          100,
          100,
          100,
          98,
          98.4,
          98,
          98.3,
          97.7,
          97.9,
          97.9,
          97.7,
          97.3,
          98.1,
          97,
          96.4,
          95.7,
          95.4,
          94.6,
          93.8,
          93.3,
          92.8,
          92,
          92.3,
          90.6,
          88.9,
          87.1,
          84.9,
          84.2,
          82.5,
          80.2,
          78.4,
          76.2,
          74.6,
          71.8,
          70.4
         ],
         "yaxis": "y"
        },
        {
         "customdata": [
          [
           22,
           16,
           "3/8/20",
           "Massachusetts"
          ],
          [
           22,
           0,
           "3/9/20",
           "Massachusetts"
          ],
          [
           41,
           19,
           "3/10/20",
           "Massachusetts"
          ],
          [
           92,
           51,
           "3/11/20",
           "Massachusetts"
          ],
          [
           107,
           15,
           "3/12/20",
           "Massachusetts"
          ],
          [
           123,
           16,
           "3/13/20",
           "Massachusetts"
          ],
          [
           138,
           15,
           "3/14/20",
           "Massachusetts"
          ],
          [
           138,
           0,
           "3/15/20",
           "Massachusetts"
          ],
          [
           187,
           49,
           "3/16/20",
           "Massachusetts"
          ],
          [
           217,
           30,
           "3/17/20",
           "Massachusetts"
          ],
          [
           252,
           35,
           "3/18/20",
           "Massachusetts"
          ],
          [
           328,
           76,
           "3/19/20",
           "Massachusetts"
          ],
          [
           413,
           85,
           "3/20/20",
           "Massachusetts"
          ],
          [
           523,
           110,
           "3/21/20",
           "Massachusetts"
          ],
          [
           640,
           117,
           "3/22/20",
           "Massachusetts"
          ],
          [
           777,
           137,
           "3/23/20",
           "Massachusetts"
          ],
          [
           1159,
           382,
           "3/24/20",
           "Massachusetts"
          ],
          [
           1838,
           679,
           "3/25/20",
           "Massachusetts"
          ],
          [
           2417,
           579,
           "3/26/20",
           "Massachusetts"
          ],
          [
           3240,
           823,
           "3/27/20",
           "Massachusetts"
          ],
          [
           4257,
           1017,
           "3/28/20",
           "Massachusetts"
          ],
          [
           4955,
           698,
           "3/29/20",
           "Massachusetts"
          ],
          [
           5752,
           797,
           "3/30/20",
           "Massachusetts"
          ],
          [
           6620,
           868,
           "3/31/20",
           "Massachusetts"
          ],
          [
           7738,
           1118,
           "4/1/20",
           "Massachusetts"
          ],
          [
           8966,
           1228,
           "4/2/20",
           "Massachusetts"
          ],
          [
           10402,
           1436,
           "4/3/20",
           "Massachusetts"
          ],
          [
           11736,
           1334,
           "4/4/20",
           "Massachusetts"
          ],
          [
           12500,
           764,
           "4/5/20",
           "Massachusetts"
          ],
          [
           13837,
           1337,
           "4/6/20",
           "Massachusetts"
          ],
          [
           15202,
           1365,
           "4/7/20",
           "Massachusetts"
          ],
          [
           16790,
           1588,
           "4/8/20",
           "Massachusetts"
          ],
          [
           18941,
           2151,
           "4/9/20",
           "Massachusetts"
          ],
          [
           20974,
           2033,
           "4/10/20",
           "Massachusetts"
          ],
          [
           22860,
           1886,
           "4/11/20",
           "Massachusetts"
          ],
          [
           25475,
           2615,
           "4/12/20",
           "Massachusetts"
          ],
          [
           26867,
           1392,
           "4/13/20",
           "Massachusetts"
          ],
          [
           28164,
           1297,
           "4/14/20",
           "Massachusetts"
          ],
          [
           29918,
           1754,
           "4/15/20",
           "Massachusetts"
          ],
          [
           32181,
           2263,
           "4/16/20",
           "Massachusetts"
          ],
          [
           34402,
           2221,
           "4/17/20",
           "Massachusetts"
          ],
          [
           36372,
           1970,
           "4/18/20",
           "Massachusetts"
          ],
          [
           38077,
           1705,
           "4/19/20",
           "Massachusetts"
          ],
          [
           38077,
           0,
           "4/20/20",
           "Massachusetts"
          ]
         ],
         "hoverlabel": {
          "namelength": 0
         },
         "hovertemplate": "State =%{customdata[3]}<br>Mean growth over 14d compared to max growth =%{x}<br>% cases from last 14d =%{y}<br>Confirmed Cases=%{customdata[0]}<br>Confirmed Cases today =%{customdata[1]}<br>Date=%{customdata[2]}",
         "legendgroup": "Massachusetts",
         "marker": {
          "color": "#FFA15A",
          "size": [
           22,
           22,
           41,
           92,
           107,
           123,
           138,
           138,
           187,
           217,
           252,
           328,
           413,
           523,
           640,
           777,
           1159,
           1838,
           2417,
           3240,
           4257,
           4955,
           5752,
           6620,
           7738,
           8966,
           10402,
           11736,
           12500,
           13837,
           15202,
           16790,
           18941,
           20974,
           22860,
           25475,
           26867,
           28164,
           29918,
           32181,
           34402,
           36372,
           38077,
           38077
          ],
          "sizemode": "area",
          "sizeref": 632.65,
          "symbol": "circle"
         },
         "mode": "lines+markers",
         "name": "Massachusetts",
         "showlegend": true,
         "type": "scattergl",
         "x": [
          0.1,
          0.1,
          0.1,
          0.3,
          0.3,
          0.4,
          0.4,
          0.4,
          0.6,
          0.7,
          0.8,
          1,
          1.3,
          1.6,
          2,
          2.4,
          3.5,
          5.5,
          7.3,
          9.8,
          13,
          15.2,
          17.6,
          20.2,
          23.6,
          27.3,
          31.5,
          35.4,
          37.4,
          41.2,
          44.3,
          47.2,
          52.2,
          56,
          58.7,
          64.8,
          66.6,
          68,
          70,
          73.3,
          75.8,
          77.8,
          80.7,
          76.5
         ],
         "xaxis": "x",
         "y": [
          95.5,
          95.5,
          97.6,
          98.9,
          99.1,
          99.2,
          99.3,
          99.3,
          99.5,
          99.1,
          99.2,
          99.4,
          98.5,
          98.9,
          96.6,
          97.2,
          96.5,
          95,
          95.6,
          96.2,
          96.8,
          97.2,
          96.7,
          96.7,
          96.7,
          96.3,
          96,
          95.5,
          94.9,
          94.4,
          92.4,
          89.1,
          87.2,
          84.6,
          81.4,
          80.5,
          78.6,
          76.5,
          74.1,
          72.1,
          69.8,
          67.7,
          67.2,
          63.7
         ],
         "yaxis": "y"
        },
        {
         "customdata": [
          [
           25,
           9,
           "3/14/20",
           "Michigan"
          ],
          [
           32,
           7,
           "3/15/20",
           "Michigan"
          ],
          [
           54,
           22,
           "3/16/20",
           "Michigan"
          ],
          [
           63,
           9,
           "3/17/20",
           "Michigan"
          ],
          [
           119,
           56,
           "3/18/20",
           "Michigan"
          ],
          [
           259,
           140,
           "3/19/20",
           "Michigan"
          ],
          [
           402,
           143,
           "3/20/20",
           "Michigan"
          ],
          [
           540,
           138,
           "3/21/20",
           "Michigan"
          ],
          [
           1035,
           495,
           "3/22/20",
           "Michigan"
          ],
          [
           1329,
           294,
           "3/23/20",
           "Michigan"
          ],
          [
           1793,
           464,
           "3/24/20",
           "Michigan"
          ],
          [
           2296,
           503,
           "3/25/20",
           "Michigan"
          ],
          [
           2845,
           549,
           "3/26/20",
           "Michigan"
          ],
          [
           3634,
           789,
           "3/27/20",
           "Michigan"
          ],
          [
           4650,
           1016,
           "3/28/20",
           "Michigan"
          ],
          [
           5488,
           838,
           "3/29/20",
           "Michigan"
          ],
          [
           6498,
           1010,
           "3/30/20",
           "Michigan"
          ],
          [
           7615,
           1117,
           "3/31/20",
           "Michigan"
          ],
          [
           9315,
           1700,
           "4/1/20",
           "Michigan"
          ],
          [
           10791,
           1476,
           "4/2/20",
           "Michigan"
          ],
          [
           12744,
           1953,
           "4/3/20",
           "Michigan"
          ],
          [
           14225,
           1481,
           "4/4/20",
           "Michigan"
          ],
          [
           15718,
           1493,
           "4/5/20",
           "Michigan"
          ],
          [
           17221,
           1503,
           "4/6/20",
           "Michigan"
          ],
          [
           18970,
           1749,
           "4/7/20",
           "Michigan"
          ],
          [
           20346,
           1376,
           "4/8/20",
           "Michigan"
          ],
          [
           21504,
           1158,
           "4/9/20",
           "Michigan"
          ],
          [
           22434,
           930,
           "4/10/20",
           "Michigan"
          ],
          [
           23605,
           1171,
           "4/11/20",
           "Michigan"
          ],
          [
           24244,
           639,
           "4/12/20",
           "Michigan"
          ],
          [
           25635,
           1391,
           "4/13/20",
           "Michigan"
          ],
          [
           27001,
           1366,
           "4/14/20",
           "Michigan"
          ],
          [
           28059,
           1058,
           "4/15/20",
           "Michigan"
          ],
          [
           28809,
           750,
           "4/16/20",
           "Michigan"
          ],
          [
           30023,
           1214,
           "4/17/20",
           "Michigan"
          ],
          [
           30791,
           768,
           "4/18/20",
           "Michigan"
          ],
          [
           31424,
           633,
           "4/19/20",
           "Michigan"
          ],
          [
           32000,
           576,
           "4/20/20",
           "Michigan"
          ]
         ],
         "hoverlabel": {
          "namelength": 0
         },
         "hovertemplate": "State =%{customdata[3]}<br>Mean growth over 14d compared to max growth =%{x}<br>% cases from last 14d =%{y}<br>Confirmed Cases=%{customdata[0]}<br>Confirmed Cases today =%{customdata[1]}<br>Date=%{customdata[2]}",
         "legendgroup": "Michigan",
         "marker": {
          "color": "#19d3f3",
          "size": [
           25,
           32,
           54,
           63,
           119,
           259,
           402,
           540,
           1035,
           1329,
           1793,
           2296,
           2845,
           3634,
           4650,
           5488,
           6498,
           7615,
           9315,
           10791,
           12744,
           14225,
           15718,
           17221,
           18970,
           20346,
           21504,
           22434,
           23605,
           24244,
           25635,
           27001,
           28059,
           28809,
           30023,
           30791,
           31424,
           32000
          ],
          "sizemode": "area",
          "sizeref": 632.65,
          "symbol": "circle"
         },
         "mode": "lines+markers",
         "name": "Michigan",
         "showlegend": true,
         "type": "scattergl",
         "x": [
          0.1,
          0.1,
          0.2,
          0.3,
          0.5,
          1.1,
          1.6,
          2.2,
          4.2,
          5.4,
          7.3,
          9.4,
          11.6,
          14.8,
          18.9,
          22.3,
          26.3,
          30.8,
          37.6,
          43,
          50.4,
          55.9,
          60,
          64.9,
          70.2,
          73.7,
          76.2,
          76.8,
          77.4,
          76.6,
          78.2,
          79.2,
          76.5,
          73.6,
          70.6,
          67.7,
          64.1,
          60.4
         ],
         "xaxis": "x",
         "y": [
          100,
          100,
          100,
          100,
          100,
          100,
          100,
          100,
          100,
          100,
          100,
          99.9,
          99.9,
          99.6,
          99.5,
          99.4,
          99.2,
          99.2,
          98.7,
          97.6,
          96.8,
          96.2,
          93.4,
          92.3,
          90.5,
          88.7,
          86.8,
          83.8,
          80.3,
          77.4,
          74.7,
          71.8,
          66.8,
          62.5,
          57.6,
          53.8,
          50,
          46.2
         ],
         "yaxis": "y"
        },
        {
         "customdata": [
          [
           21,
           7,
           "3/14/20",
           "Minnesota"
          ],
          [
           21,
           0,
           "3/15/20",
           "Minnesota"
          ],
          [
           53,
           32,
           "3/16/20",
           "Minnesota"
          ],
          [
           59,
           6,
           "3/17/20",
           "Minnesota"
          ],
          [
           77,
           18,
           "3/18/20",
           "Minnesota"
          ],
          [
           89,
           12,
           "3/19/20",
           "Minnesota"
          ],
          [
           113,
           24,
           "3/20/20",
           "Minnesota"
          ],
          [
           134,
           21,
           "3/21/20",
           "Minnesota"
          ],
          [
           167,
           33,
           "3/22/20",
           "Minnesota"
          ],
          [
           234,
           67,
           "3/23/20",
           "Minnesota"
          ],
          [
           261,
           27,
           "3/24/20",
           "Minnesota"
          ],
          [
           286,
           25,
           "3/25/20",
           "Minnesota"
          ],
          [
           344,
           58,
           "3/26/20",
           "Minnesota"
          ],
          [
           396,
           52,
           "3/27/20",
           "Minnesota"
          ],
          [
           441,
           45,
           "3/28/20",
           "Minnesota"
          ],
          [
           503,
           62,
           "3/29/20",
           "Minnesota"
          ],
          [
           576,
           73,
           "3/30/20",
           "Minnesota"
          ],
          [
           629,
           53,
           "3/31/20",
           "Minnesota"
          ],
          [
           689,
           60,
           "4/1/20",
           "Minnesota"
          ],
          [
           742,
           53,
           "4/2/20",
           "Minnesota"
          ],
          [
           788,
           46,
           "4/3/20",
           "Minnesota"
          ],
          [
           865,
           77,
           "4/4/20",
           "Minnesota"
          ],
          [
           935,
           70,
           "4/5/20",
           "Minnesota"
          ],
          [
           986,
           51,
           "4/6/20",
           "Minnesota"
          ],
          [
           1069,
           83,
           "4/7/20",
           "Minnesota"
          ],
          [
           1154,
           85,
           "4/8/20",
           "Minnesota"
          ],
          [
           1240,
           86,
           "4/9/20",
           "Minnesota"
          ],
          [
           1336,
           96,
           "4/10/20",
           "Minnesota"
          ],
          [
           1427,
           91,
           "4/11/20",
           "Minnesota"
          ],
          [
           1621,
           194,
           "4/12/20",
           "Minnesota"
          ],
          [
           1621,
           0,
           "4/13/20",
           "Minnesota"
          ],
          [
           1695,
           74,
           "4/14/20",
           "Minnesota"
          ],
          [
           1809,
           114,
           "4/15/20",
           "Minnesota"
          ],
          [
           1809,
           0,
           "4/16/20",
           "Minnesota"
          ],
          [
           2070,
           261,
           "4/17/20",
           "Minnesota"
          ],
          [
           2209,
           139,
           "4/18/20",
           "Minnesota"
          ],
          [
           2356,
           147,
           "4/19/20",
           "Minnesota"
          ],
          [
           2470,
           114,
           "4/20/20",
           "Minnesota"
          ]
         ],
         "hoverlabel": {
          "namelength": 0
         },
         "hovertemplate": "State =%{customdata[3]}<br>Mean growth over 14d compared to max growth =%{x}<br>% cases from last 14d =%{y}<br>Confirmed Cases=%{customdata[0]}<br>Confirmed Cases today =%{customdata[1]}<br>Date=%{customdata[2]}",
         "legendgroup": "Minnesota",
         "marker": {
          "color": "#FF6692",
          "size": [
           21,
           21,
           53,
           59,
           77,
           89,
           113,
           134,
           167,
           234,
           261,
           286,
           344,
           396,
           441,
           503,
           576,
           629,
           689,
           742,
           788,
           865,
           935,
           986,
           1069,
           1154,
           1240,
           1336,
           1427,
           1621,
           1621,
           1695,
           1809,
           1809,
           2070,
           2209,
           2356,
           2470
          ],
          "sizemode": "area",
          "sizeref": 632.65,
          "symbol": "circle"
         },
         "mode": "lines+markers",
         "name": "Minnesota",
         "showlegend": true,
         "type": "scattergl",
         "x": [
          0.8,
          0.8,
          2,
          2.2,
          2.8,
          3.3,
          4.1,
          4.9,
          6.1,
          8.5,
          9.5,
          10.3,
          12.3,
          14.1,
          15.5,
          17.7,
          19.3,
          21,
          22.5,
          24,
          24.9,
          26.9,
          28.3,
          27.7,
          29.7,
          32,
          33,
          34.6,
          36.3,
          41.2,
          38.5,
          39.2,
          41.2,
          39.3,
          47.2,
          49.5,
          52.3,
          54.6
         ],
         "xaxis": "x",
         "y": [
          100,
          100,
          100,
          100,
          100,
          100,
          99.1,
          99.3,
          99.4,
          99.1,
          99.2,
          98.3,
          97.4,
          96.5,
          95.2,
          95.8,
          90.8,
          90.6,
          88.8,
          88,
          85.7,
          84.5,
          82.1,
          76.3,
          75.6,
          75.2,
          72.3,
          70.4,
          69.1,
          69,
          64.5,
          62.9,
          61.9,
          59,
          61.9,
          60.8,
          60.3,
          60.1
         ],
         "yaxis": "y"
        },
        {
         "customdata": [
          [
           21,
           9,
           "3/17/20",
           "Mississippi"
          ],
          [
           34,
           13,
           "3/18/20",
           "Mississippi"
          ],
          [
           50,
           16,
           "3/19/20",
           "Mississippi"
          ],
          [
           80,
           30,
           "3/20/20",
           "Mississippi"
          ],
          [
           140,
           60,
           "3/21/20",
           "Mississippi"
          ],
          [
           207,
           67,
           "3/22/20",
           "Mississippi"
          ],
          [
           249,
           42,
           "3/23/20",
           "Mississippi"
          ],
          [
           320,
           71,
           "3/24/20",
           "Mississippi"
          ],
          [
           377,
           57,
           "3/25/20",
           "Mississippi"
          ],
          [
           485,
           108,
           "3/26/20",
           "Mississippi"
          ],
          [
           579,
           94,
           "3/27/20",
           "Mississippi"
          ],
          [
           663,
           84,
           "3/28/20",
           "Mississippi"
          ],
          [
           759,
           96,
           "3/29/20",
           "Mississippi"
          ],
          [
           847,
           88,
           "3/30/20",
           "Mississippi"
          ],
          [
           937,
           90,
           "3/31/20",
           "Mississippi"
          ],
          [
           1073,
           136,
           "4/1/20",
           "Mississippi"
          ],
          [
           1177,
           104,
           "4/2/20",
           "Mississippi"
          ],
          [
           1358,
           181,
           "4/3/20",
           "Mississippi"
          ],
          [
           1455,
           97,
           "4/4/20",
           "Mississippi"
          ],
          [
           1638,
           183,
           "4/5/20",
           "Mississippi"
          ],
          [
           1738,
           100,
           "4/6/20",
           "Mississippi"
          ],
          [
           1915,
           177,
           "4/7/20",
           "Mississippi"
          ],
          [
           2003,
           88,
           "4/8/20",
           "Mississippi"
          ],
          [
           2260,
           257,
           "4/9/20",
           "Mississippi"
          ],
          [
           2469,
           209,
           "4/10/20",
           "Mississippi"
          ],
          [
           2642,
           173,
           "4/11/20",
           "Mississippi"
          ],
          [
           2781,
           139,
           "4/12/20",
           "Mississippi"
          ],
          [
           2942,
           161,
           "4/13/20",
           "Mississippi"
          ],
          [
           3087,
           145,
           "4/14/20",
           "Mississippi"
          ],
          [
           3360,
           273,
           "4/15/20",
           "Mississippi"
          ],
          [
           3624,
           264,
           "4/16/20",
           "Mississippi"
          ],
          [
           3793,
           169,
           "4/17/20",
           "Mississippi"
          ],
          [
           3974,
           181,
           "4/18/20",
           "Mississippi"
          ],
          [
           4274,
           300,
           "4/19/20",
           "Mississippi"
          ],
          [
           4512,
           238,
           "4/20/20",
           "Mississippi"
          ]
         ],
         "hoverlabel": {
          "namelength": 0
         },
         "hovertemplate": "State =%{customdata[3]}<br>Mean growth over 14d compared to max growth =%{x}<br>% cases from last 14d =%{y}<br>Confirmed Cases=%{customdata[0]}<br>Confirmed Cases today =%{customdata[1]}<br>Date=%{customdata[2]}",
         "legendgroup": "Mississippi",
         "marker": {
          "color": "#B6E880",
          "size": [
           21,
           34,
           50,
           80,
           140,
           207,
           249,
           320,
           377,
           485,
           579,
           663,
           759,
           847,
           937,
           1073,
           1177,
           1358,
           1455,
           1638,
           1738,
           1915,
           2003,
           2260,
           2469,
           2642,
           2781,
           2942,
           3087,
           3360,
           3624,
           3793,
           3974,
           4274,
           4512
          ],
          "sizemode": "area",
          "sizeref": 632.65,
          "symbol": "circle"
         },
         "mode": "lines+markers",
         "name": "Mississippi",
         "showlegend": true,
         "type": "scattergl",
         "x": [
          0.5,
          0.9,
          1.3,
          2.1,
          3.7,
          5.4,
          6.5,
          8.4,
          9.9,
          12.7,
          15,
          17.2,
          19.7,
          21.8,
          24,
          27.2,
          29.5,
          33.4,
          34.4,
          37.4,
          39,
          41.7,
          42.5,
          46.4,
          49.5,
          51.8,
          52.9,
          54.8,
          56.3,
          59.8,
          64,
          63.7,
          65.9,
          69,
          72.6
         ],
         "xaxis": "x",
         "y": [
          100,
          100,
          100,
          100,
          100,
          100,
          100,
          100,
          100,
          99.8,
          99,
          99.1,
          99.2,
          98.6,
          97.8,
          96.8,
          95.8,
          94.1,
          90.4,
          87.4,
          85.7,
          83.3,
          81.2,
          78.5,
          76.5,
          74.9,
          72.7,
          71.2,
          69.6,
          68.1,
          67.5,
          64.2,
          63.4,
          61.7,
          61.5
         ],
         "yaxis": "y"
        },
        {
         "customdata": [
          [
           39,
           21,
           "3/19/20",
           "Missouri"
          ],
          [
           73,
           34,
           "3/20/20",
           "Missouri"
          ],
          [
           81,
           8,
           "3/21/20",
           "Missouri"
          ],
          [
           100,
           19,
           "3/22/20",
           "Missouri"
          ],
          [
           187,
           87,
           "3/23/20",
           "Missouri"
          ],
          [
           257,
           70,
           "3/24/20",
           "Missouri"
          ],
          [
           354,
           97,
           "3/25/20",
           "Missouri"
          ],
          [
           520,
           166,
           "3/26/20",
           "Missouri"
          ],
          [
           666,
           146,
           "3/27/20",
           "Missouri"
          ],
          [
           836,
           170,
           "3/28/20",
           "Missouri"
          ],
          [
           915,
           79,
           "3/29/20",
           "Missouri"
          ],
          [
           1051,
           136,
           "3/30/20",
           "Missouri"
          ],
          [
           1357,
           306,
           "3/31/20",
           "Missouri"
          ],
          [
           1613,
           256,
           "4/1/20",
           "Missouri"
          ],
          [
           1857,
           244,
           "4/2/20",
           "Missouri"
          ],
          [
           1864,
           7,
           "4/3/20",
           "Missouri"
          ],
          [
           2310,
           446,
           "4/4/20",
           "Missouri"
          ],
          [
           2347,
           37,
           "4/5/20",
           "Missouri"
          ],
          [
           2736,
           389,
           "4/6/20",
           "Missouri"
          ],
          [
           3130,
           394,
           "4/7/20",
           "Missouri"
          ],
          [
           3209,
           79,
           "4/8/20",
           "Missouri"
          ],
          [
           3432,
           223,
           "4/9/20",
           "Missouri"
          ],
          [
           3897,
           465,
           "4/10/20",
           "Missouri"
          ],
          [
           4108,
           211,
           "4/11/20",
           "Missouri"
          ],
          [
           4269,
           161,
           "4/12/20",
           "Missouri"
          ],
          [
           4515,
           246,
           "4/13/20",
           "Missouri"
          ],
          [
           4746,
           231,
           "4/14/20",
           "Missouri"
          ],
          [
           4791,
           45,
           "4/15/20",
           "Missouri"
          ],
          [
           5174,
           383,
           "4/16/20",
           "Missouri"
          ],
          [
           5371,
           197,
           "4/17/20",
           "Missouri"
          ],
          [
           5579,
           208,
           "4/18/20",
           "Missouri"
          ],
          [
           5743,
           164,
           "4/19/20",
           "Missouri"
          ],
          [
           5890,
           147,
           "4/20/20",
           "Missouri"
          ]
         ],
         "hoverlabel": {
          "namelength": 0
         },
         "hovertemplate": "State =%{customdata[3]}<br>Mean growth over 14d compared to max growth =%{x}<br>% cases from last 14d =%{y}<br>Confirmed Cases=%{customdata[0]}<br>Confirmed Cases today =%{customdata[1]}<br>Date=%{customdata[2]}",
         "legendgroup": "Missouri",
         "marker": {
          "color": "#FF97FF",
          "size": [
           39,
           73,
           81,
           100,
           187,
           257,
           354,
           520,
           666,
           836,
           915,
           1051,
           1357,
           1613,
           1857,
           1864,
           2310,
           2347,
           2736,
           3130,
           3209,
           3432,
           3897,
           4108,
           4269,
           4515,
           4746,
           4791,
           5174,
           5371,
           5579,
           5743,
           5890
          ],
          "sizemode": "area",
          "sizeref": 632.65,
          "symbol": "circle"
         },
         "mode": "lines+markers",
         "name": "Missouri",
         "showlegend": true,
         "type": "scattergl",
         "x": [
          0.6,
          1.2,
          1.3,
          1.6,
          3,
          4.1,
          5.7,
          8.3,
          10.6,
          13.3,
          14.6,
          16.7,
          21.5,
          25.5,
          29.1,
          28.7,
          35.7,
          36,
          40.8,
          46,
          45.7,
          46.6,
          51.7,
          52.4,
          53.7,
          55.5,
          54.3,
          50.9,
          53.1,
          56.2,
          52.4,
          54.4,
          50.5
         ],
         "xaxis": "x",
         "y": [
          100,
          100,
          100,
          99,
          99.5,
          99.6,
          99.7,
          99.6,
          99.4,
          99.5,
          99.5,
          99.4,
          99.1,
          98.9,
          97.9,
          96.1,
          96.5,
          95.7,
          93.2,
          91.8,
          89,
          84.8,
          82.9,
          79.6,
          78.6,
          76.7,
          71.4,
          66.3,
          64.1,
          65.3,
          58.6,
          59.1,
          53.5
         ],
         "yaxis": "y"
        },
        {
         "customdata": [
          [
           20,
           9,
           "3/20/20",
           "Montana"
          ],
          [
           27,
           7,
           "3/21/20",
           "Montana"
          ],
          [
           34,
           7,
           "3/22/20",
           "Montana"
          ],
          [
           34,
           0,
           "3/23/20",
           "Montana"
          ],
          [
           51,
           17,
           "3/24/20",
           "Montana"
          ],
          [
           65,
           14,
           "3/25/20",
           "Montana"
          ],
          [
           90,
           25,
           "3/26/20",
           "Montana"
          ],
          [
           109,
           19,
           "3/27/20",
           "Montana"
          ],
          [
           129,
           20,
           "3/28/20",
           "Montana"
          ],
          [
           154,
           25,
           "3/29/20",
           "Montana"
          ],
          [
           171,
           17,
           "3/30/20",
           "Montana"
          ],
          [
           198,
           27,
           "3/31/20",
           "Montana"
          ],
          [
           208,
           10,
           "4/1/20",
           "Montana"
          ],
          [
           241,
           33,
           "4/2/20",
           "Montana"
          ],
          [
           243,
           2,
           "4/3/20",
           "Montana"
          ],
          [
           265,
           22,
           "4/4/20",
           "Montana"
          ],
          [
           286,
           21,
           "4/5/20",
           "Montana"
          ],
          [
           299,
           13,
           "4/6/20",
           "Montana"
          ],
          [
           319,
           20,
           "4/7/20",
           "Montana"
          ],
          [
           332,
           13,
           "4/8/20",
           "Montana"
          ],
          [
           354,
           22,
           "4/9/20",
           "Montana"
          ],
          [
           365,
           11,
           "4/10/20",
           "Montana"
          ],
          [
           377,
           12,
           "4/11/20",
           "Montana"
          ],
          [
           387,
           10,
           "4/12/20",
           "Montana"
          ],
          [
           394,
           7,
           "4/13/20",
           "Montana"
          ],
          [
           399,
           5,
           "4/14/20",
           "Montana"
          ],
          [
           404,
           5,
           "4/15/20",
           "Montana"
          ],
          [
           415,
           11,
           "4/16/20",
           "Montana"
          ],
          [
           422,
           7,
           "4/17/20",
           "Montana"
          ],
          [
           426,
           4,
           "4/18/20",
           "Montana"
          ],
          [
           433,
           7,
           "4/19/20",
           "Montana"
          ],
          [
           433,
           0,
           "4/20/20",
           "Montana"
          ]
         ],
         "hoverlabel": {
          "namelength": 0
         },
         "hovertemplate": "State =%{customdata[3]}<br>Mean growth over 14d compared to max growth =%{x}<br>% cases from last 14d =%{y}<br>Confirmed Cases=%{customdata[0]}<br>Confirmed Cases today =%{customdata[1]}<br>Date=%{customdata[2]}",
         "legendgroup": "Montana",
         "marker": {
          "color": "#FECB52",
          "size": [
           20,
           27,
           34,
           34,
           51,
           65,
           90,
           109,
           129,
           154,
           171,
           198,
           208,
           241,
           243,
           265,
           286,
           299,
           319,
           332,
           354,
           365,
           377,
           387,
           394,
           399,
           404,
           415,
           422,
           426,
           433,
           433
          ],
          "sizemode": "area",
          "sizeref": 632.65,
          "symbol": "circle"
         },
         "mode": "lines+markers",
         "name": "Montana",
         "showlegend": true,
         "type": "scattergl",
         "x": [
          5.3,
          7.1,
          9,
          9,
          13.5,
          17.2,
          23.8,
          28.6,
          32.8,
          39.2,
          43.7,
          50.3,
          52.4,
          60.8,
          59,
          63,
          66.7,
          70.1,
          70.9,
          70.6,
          69.8,
          67.7,
          65.6,
          61.6,
          59,
          53.2,
          51.9,
          46,
          47.4,
          42.6,
          38.9,
          35.4
         ],
         "xaxis": "x",
         "y": [
          100,
          100,
          100,
          100,
          100,
          100,
          100,
          99.1,
          96.1,
          96.1,
          96.5,
          96,
          95.2,
          95.4,
          91.8,
          89.8,
          88.1,
          88.6,
          84,
          80.4,
          74.6,
          70.1,
          65.8,
          60.2,
          56.6,
          50.4,
          48.5,
          41.9,
          42.4,
          37.8,
          33.9,
          30.9
         ],
         "yaxis": "y"
        },
        {
         "customdata": [
          [
           23,
           5,
           "3/17/20",
           "Nebraska"
          ],
          [
           24,
           1,
           "3/18/20",
           "Nebraska"
          ],
          [
           29,
           5,
           "3/19/20",
           "Nebraska"
          ],
          [
           37,
           8,
           "3/20/20",
           "Nebraska"
          ],
          [
           38,
           1,
           "3/21/20",
           "Nebraska"
          ],
          [
           51,
           13,
           "3/22/20",
           "Nebraska"
          ],
          [
           51,
           0,
           "3/23/20",
           "Nebraska"
          ],
          [
           66,
           15,
           "3/24/20",
           "Nebraska"
          ],
          [
           71,
           5,
           "3/25/20",
           "Nebraska"
          ],
          [
           74,
           3,
           "3/26/20",
           "Nebraska"
          ],
          [
           82,
           8,
           "3/27/20",
           "Nebraska"
          ],
          [
           96,
           14,
           "3/28/20",
           "Nebraska"
          ],
          [
           108,
           12,
           "3/29/20",
           "Nebraska"
          ],
          [
           145,
           37,
           "3/30/20",
           "Nebraska"
          ],
          [
           172,
           27,
           "3/31/20",
           "Nebraska"
          ],
          [
           210,
           38,
           "4/1/20",
           "Nebraska"
          ],
          [
           246,
           36,
           "4/2/20",
           "Nebraska"
          ],
          [
           279,
           33,
           "4/3/20",
           "Nebraska"
          ],
          [
           321,
           42,
           "4/4/20",
           "Nebraska"
          ],
          [
           364,
           43,
           "4/5/20",
           "Nebraska"
          ],
          [
           417,
           53,
           "4/6/20",
           "Nebraska"
          ],
          [
           447,
           30,
           "4/7/20",
           "Nebraska"
          ],
          [
           519,
           72,
           "4/8/20",
           "Nebraska"
          ],
          [
           568,
           49,
           "4/9/20",
           "Nebraska"
          ],
          [
           635,
           67,
           "4/10/20",
           "Nebraska"
          ],
          [
           699,
           64,
           "4/11/20",
           "Nebraska"
          ],
          [
           791,
           92,
           "4/12/20",
           "Nebraska"
          ],
          [
           814,
           23,
           "4/13/20",
           "Nebraska"
          ],
          [
           897,
           83,
           "4/14/20",
           "Nebraska"
          ],
          [
           901,
           4,
           "4/15/20",
           "Nebraska"
          ],
          [
           952,
           51,
           "4/16/20",
           "Nebraska"
          ],
          [
           1066,
           114,
           "4/17/20",
           "Nebraska"
          ],
          [
           1249,
           183,
           "4/18/20",
           "Nebraska"
          ],
          [
           1474,
           225,
           "4/19/20",
           "Nebraska"
          ],
          [
           1648,
           174,
           "4/20/20",
           "Nebraska"
          ]
         ],
         "hoverlabel": {
          "namelength": 0
         },
         "hovertemplate": "State =%{customdata[3]}<br>Mean growth over 14d compared to max growth =%{x}<br>% cases from last 14d =%{y}<br>Confirmed Cases=%{customdata[0]}<br>Confirmed Cases today =%{customdata[1]}<br>Date=%{customdata[2]}",
         "legendgroup": "Nebraska",
         "marker": {
          "color": "#636efa",
          "size": [
           23,
           24,
           29,
           37,
           38,
           51,
           51,
           66,
           71,
           74,
           82,
           96,
           108,
           145,
           172,
           210,
           246,
           279,
           321,
           364,
           417,
           447,
           519,
           568,
           635,
           699,
           791,
           814,
           897,
           901,
           952,
           1066,
           1249,
           1474,
           1648
          ],
          "sizemode": "area",
          "sizeref": 632.65,
          "symbol": "circle"
         },
         "mode": "lines+markers",
         "name": "Nebraska",
         "showlegend": true,
         "type": "scattergl",
         "x": [
          0.9,
          0.9,
          1.1,
          1.4,
          1.4,
          2,
          1.9,
          2.5,
          2.6,
          2.5,
          2.7,
          3,
          3.6,
          5,
          5.8,
          7.3,
          8.5,
          9.4,
          11,
          12.2,
          14.3,
          14.9,
          17.5,
          19.3,
          21.6,
          23.5,
          26.7,
          26.1,
          28.3,
          27,
          27.6,
          30.7,
          36.2,
          43.3,
          48
         ],
         "xaxis": "x",
         "y": [
          100,
          100,
          100,
          97.3,
          97.4,
          98,
          94.1,
          95.5,
          93,
          86.5,
          82.9,
          81.2,
          84.3,
          87.6,
          86.6,
          88.6,
          88.2,
          86.7,
          88.2,
          86,
          87.8,
          85.2,
          86.3,
          87,
          87.1,
          86.3,
          86.3,
          82.2,
          80.8,
          76.7,
          74.2,
          73.8,
          74.3,
          75.3,
          74.7
         ],
         "yaxis": "y"
        },
        {
         "customdata": [
          [
           20,
           2,
           "3/14/20",
           "Nevada"
          ],
          [
           20,
           0,
           "3/15/20",
           "Nevada"
          ],
          [
           45,
           25,
           "3/16/20",
           "Nevada"
          ],
          [
           55,
           10,
           "3/17/20",
           "Nevada"
          ],
          [
           55,
           0,
           "3/18/20",
           "Nevada"
          ],
          [
           95,
           40,
           "3/19/20",
           "Nevada"
          ],
          [
           161,
           66,
           "3/20/20",
           "Nevada"
          ],
          [
           161,
           0,
           "3/21/20",
           "Nevada"
          ],
          [
           190,
           29,
           "3/22/20",
           "Nevada"
          ],
          [
           245,
           55,
           "3/23/20",
           "Nevada"
          ],
          [
           278,
           33,
           "3/24/20",
           "Nevada"
          ],
          [
           323,
           45,
           "3/25/20",
           "Nevada"
          ],
          [
           420,
           97,
           "3/26/20",
           "Nevada"
          ],
          [
           536,
           116,
           "3/27/20",
           "Nevada"
          ],
          [
           626,
           90,
           "3/28/20",
           "Nevada"
          ],
          [
           920,
           294,
           "3/29/20",
           "Nevada"
          ],
          [
           1012,
           92,
           "3/30/20",
           "Nevada"
          ],
          [
           1114,
           102,
           "3/31/20",
           "Nevada"
          ],
          [
           1279,
           165,
           "4/1/20",
           "Nevada"
          ],
          [
           1463,
           184,
           "4/2/20",
           "Nevada"
          ],
          [
           1514,
           51,
           "4/3/20",
           "Nevada"
          ],
          [
           1742,
           228,
           "4/4/20",
           "Nevada"
          ],
          [
           1855,
           113,
           "4/5/20",
           "Nevada"
          ],
          [
           1953,
           98,
           "4/6/20",
           "Nevada"
          ],
          [
           2124,
           171,
           "4/7/20",
           "Nevada"
          ],
          [
           2259,
           135,
           "4/8/20",
           "Nevada"
          ],
          [
           2456,
           197,
           "4/9/20",
           "Nevada"
          ],
          [
           2722,
           266,
           "4/10/20",
           "Nevada"
          ],
          [
           2702,
           -20,
           "4/11/20",
           "Nevada"
          ],
          [
           2836,
           134,
           "4/12/20",
           "Nevada"
          ],
          [
           2990,
           154,
           "4/13/20",
           "Nevada"
          ],
          [
           3134,
           144,
           "4/14/20",
           "Nevada"
          ],
          [
           3211,
           77,
           "4/15/20",
           "Nevada"
          ],
          [
           3214,
           3,
           "4/16/20",
           "Nevada"
          ],
          [
           3524,
           310,
           "4/17/20",
           "Nevada"
          ],
          [
           3626,
           102,
           "4/18/20",
           "Nevada"
          ],
          [
           3728,
           102,
           "4/19/20",
           "Nevada"
          ],
          [
           3830,
           102,
           "4/20/20",
           "Nevada"
          ]
         ],
         "hoverlabel": {
          "namelength": 0
         },
         "hovertemplate": "State =%{customdata[3]}<br>Mean growth over 14d compared to max growth =%{x}<br>% cases from last 14d =%{y}<br>Confirmed Cases=%{customdata[0]}<br>Confirmed Cases today =%{customdata[1]}<br>Date=%{customdata[2]}",
         "legendgroup": "Nevada",
         "marker": {
          "color": "#EF553B",
          "size": [
           20,
           20,
           45,
           55,
           55,
           95,
           161,
           161,
           190,
           245,
           278,
           323,
           420,
           536,
           626,
           920,
           1012,
           1114,
           1279,
           1463,
           1514,
           1742,
           1855,
           1953,
           2124,
           2259,
           2456,
           2722,
           2702,
           2836,
           2990,
           3134,
           3211,
           3214,
           3524,
           3626,
           3728,
           3830
          ],
          "sizemode": "area",
          "sizeref": 632.65,
          "symbol": "circle"
         },
         "mode": "lines+markers",
         "name": "Nevada",
         "showlegend": true,
         "type": "scattergl",
         "x": [
          0.5,
          0.5,
          1.1,
          1.3,
          1.3,
          2.3,
          3.9,
          3.9,
          4.5,
          5.9,
          6.7,
          7.7,
          10,
          12.6,
          14.7,
          21.9,
          23.5,
          25.7,
          29.7,
          33.2,
          32.9,
          38.4,
          40.5,
          41.5,
          44.8,
          47,
          49.5,
          53.1,
          50.4,
          46.6,
          48.1,
          49.1,
          46.9,
          42.5,
          48.8,
          45.8,
          45.5,
          45.6
         ],
         "xaxis": "x",
         "y": [
          100,
          100,
          100,
          100,
          100,
          98.9,
          98.8,
          98.8,
          97.9,
          98.4,
          98.6,
          97.8,
          97.6,
          96.6,
          96.8,
          97.8,
          95.6,
          95.1,
          95.7,
          93.5,
          89.4,
          90.8,
          89.8,
          87.5,
          86.9,
          85.7,
          82.9,
          80.3,
          76.8,
          67.6,
          66.2,
          64.5,
          60.2,
          54.5,
          57,
          52,
          50.2,
          49
         ],
         "yaxis": "y"
        },
        {
         "customdata": [
          [
           26,
           9,
           "3/17/20",
           "New Hampshire"
          ],
          [
           37,
           11,
           "3/18/20",
           "New Hampshire"
          ],
          [
           42,
           5,
           "3/19/20",
           "New Hampshire"
          ],
          [
           53,
           11,
           "3/20/20",
           "New Hampshire"
          ],
          [
           61,
           8,
           "3/21/20",
           "New Hampshire"
          ],
          [
           73,
           12,
           "3/22/20",
           "New Hampshire"
          ],
          [
           101,
           28,
           "3/23/20",
           "New Hampshire"
          ],
          [
           101,
           0,
           "3/24/20",
           "New Hampshire"
          ],
          [
           108,
           7,
           "3/25/20",
           "New Hampshire"
          ],
          [
           137,
           29,
           "3/26/20",
           "New Hampshire"
          ],
          [
           158,
           21,
           "3/27/20",
           "New Hampshire"
          ],
          [
           187,
           29,
           "3/28/20",
           "New Hampshire"
          ],
          [
           214,
           27,
           "3/29/20",
           "New Hampshire"
          ],
          [
           314,
           100,
           "3/30/20",
           "New Hampshire"
          ],
          [
           357,
           43,
           "3/31/20",
           "New Hampshire"
          ],
          [
           367,
           10,
           "4/1/20",
           "New Hampshire"
          ],
          [
           479,
           112,
           "4/2/20",
           "New Hampshire"
          ],
          [
           479,
           0,
           "4/3/20",
           "New Hampshire"
          ],
          [
           540,
           61,
           "4/4/20",
           "New Hampshire"
          ],
          [
           621,
           81,
           "4/5/20",
           "New Hampshire"
          ],
          [
           715,
           94,
           "4/6/20",
           "New Hampshire"
          ],
          [
           715,
           0,
           "4/7/20",
           "New Hampshire"
          ],
          [
           747,
           32,
           "4/8/20",
           "New Hampshire"
          ],
          [
           819,
           72,
           "4/9/20",
           "New Hampshire"
          ],
          [
           819,
           0,
           "4/10/20",
           "New Hampshire"
          ],
          [
           885,
           66,
           "4/11/20",
           "New Hampshire"
          ],
          [
           929,
           44,
           "4/12/20",
           "New Hampshire"
          ],
          [
           985,
           56,
           "4/13/20",
           "New Hampshire"
          ],
          [
           922,
           -63,
           "4/14/20",
           "New Hampshire"
          ],
          [
           1139,
           217,
           "4/15/20",
           "New Hampshire"
          ],
          [
           1139,
           0,
           "4/16/20",
           "New Hampshire"
          ],
          [
           1287,
           148,
           "4/17/20",
           "New Hampshire"
          ],
          [
           1342,
           55,
           "4/18/20",
           "New Hampshire"
          ],
          [
           1390,
           48,
           "4/19/20",
           "New Hampshire"
          ],
          [
           1447,
           57,
           "4/20/20",
           "New Hampshire"
          ]
         ],
         "hoverlabel": {
          "namelength": 0
         },
         "hovertemplate": "State =%{customdata[3]}<br>Mean growth over 14d compared to max growth =%{x}<br>% cases from last 14d =%{y}<br>Confirmed Cases=%{customdata[0]}<br>Confirmed Cases today =%{customdata[1]}<br>Date=%{customdata[2]}",
         "legendgroup": "New Hampshire",
         "marker": {
          "color": "#00cc96",
          "size": [
           26,
           37,
           42,
           53,
           61,
           73,
           101,
           101,
           108,
           137,
           158,
           187,
           214,
           314,
           357,
           367,
           479,
           479,
           540,
           621,
           715,
           715,
           747,
           819,
           819,
           885,
           929,
           985,
           922,
           1139,
           1139,
           1287,
           1342,
           1390,
           1447
          ],
          "sizemode": "area",
          "sizeref": 632.65,
          "symbol": "circle"
         },
         "mode": "lines+markers",
         "name": "New Hampshire",
         "showlegend": true,
         "type": "scattergl",
         "x": [
          1.2,
          1.7,
          1.9,
          2.5,
          2.8,
          3.3,
          4.7,
          4.7,
          5,
          6.3,
          7.3,
          8.7,
          10,
          14.3,
          16,
          15.9,
          21.1,
          20.6,
          23.1,
          26.4,
          29.6,
          29.6,
          30.8,
          32.9,
          31.9,
          33.7,
          34.5,
          32.4,
          27.3,
          37.3,
          31.9,
          39,
          38.7,
          37.1,
          35.3
         ],
         "xaxis": "x",
         "y": [
          92.3,
          94.6,
          95.2,
          96.2,
          96.7,
          94.5,
          96,
          96,
          95.4,
          95.6,
          96.2,
          96.3,
          96.7,
          94.6,
          92.7,
          89.9,
          91.2,
          88.9,
          88.7,
          88.2,
          85.9,
          85.9,
          85.5,
          83.3,
          80.7,
          78.9,
          77,
          68.1,
          61.3,
          67.8,
          57.9,
          62.8,
          59.8,
          55.3,
          50.6
         ],
         "yaxis": "y"
        },
        {
         "customdata": [
          [
           23,
           8,
           "3/11/20",
           "New Jersey"
          ],
          [
           29,
           6,
           "3/12/20",
           "New Jersey"
          ],
          [
           49,
           20,
           "3/13/20",
           "New Jersey"
          ],
          [
           69,
           20,
           "3/14/20",
           "New Jersey"
          ],
          [
           72,
           3,
           "3/15/20",
           "New Jersey"
          ],
          [
           176,
           104,
           "3/16/20",
           "New Jersey"
          ],
          [
           250,
           74,
           "3/17/20",
           "New Jersey"
          ],
          [
           397,
           147,
           "3/18/20",
           "New Jersey"
          ],
          [
           741,
           344,
           "3/19/20",
           "New Jersey"
          ],
          [
           890,
           149,
           "3/20/20",
           "New Jersey"
          ],
          [
           1327,
           437,
           "3/21/20",
           "New Jersey"
          ],
          [
           1914,
           587,
           "3/22/20",
           "New Jersey"
          ],
          [
           2844,
           930,
           "3/23/20",
           "New Jersey"
          ],
          [
           3675,
           831,
           "3/24/20",
           "New Jersey"
          ],
          [
           4402,
           727,
           "3/25/20",
           "New Jersey"
          ],
          [
           6876,
           2474,
           "3/26/20",
           "New Jersey"
          ],
          [
           8825,
           1949,
           "3/27/20",
           "New Jersey"
          ],
          [
           11124,
           2299,
           "3/28/20",
           "New Jersey"
          ],
          [
           13386,
           2262,
           "3/29/20",
           "New Jersey"
          ],
          [
           16636,
           3250,
           "3/30/20",
           "New Jersey"
          ],
          [
           18696,
           2060,
           "3/31/20",
           "New Jersey"
          ],
          [
           22255,
           3559,
           "4/1/20",
           "New Jersey"
          ],
          [
           25590,
           3335,
           "4/2/20",
           "New Jersey"
          ],
          [
           29895,
           4305,
           "4/3/20",
           "New Jersey"
          ],
          [
           34124,
           4229,
           "4/4/20",
           "New Jersey"
          ],
          [
           37505,
           3381,
           "4/5/20",
           "New Jersey"
          ],
          [
           41090,
           3585,
           "4/6/20",
           "New Jersey"
          ],
          [
           44416,
           3326,
           "4/7/20",
           "New Jersey"
          ],
          [
           47437,
           3021,
           "4/8/20",
           "New Jersey"
          ],
          [
           51027,
           3590,
           "4/9/20",
           "New Jersey"
          ],
          [
           54588,
           3561,
           "4/10/20",
           "New Jersey"
          ],
          [
           58151,
           3563,
           "4/11/20",
           "New Jersey"
          ],
          [
           61850,
           3699,
           "4/12/20",
           "New Jersey"
          ],
          [
           64584,
           2734,
           "4/13/20",
           "New Jersey"
          ],
          [
           68824,
           4240,
           "4/14/20",
           "New Jersey"
          ],
          [
           71030,
           2206,
           "4/15/20",
           "New Jersey"
          ],
          [
           75317,
           4287,
           "4/16/20",
           "New Jersey"
          ],
          [
           78467,
           3150,
           "4/17/20",
           "New Jersey"
          ],
          [
           81420,
           2953,
           "4/18/20",
           "New Jersey"
          ],
          [
           85301,
           3881,
           "4/19/20",
           "New Jersey"
          ],
          [
           88722,
           3421,
           "4/20/20",
           "New Jersey"
          ]
         ],
         "hoverlabel": {
          "namelength": 0
         },
         "hovertemplate": "State =%{customdata[3]}<br>Mean growth over 14d compared to max growth =%{x}<br>% cases from last 14d =%{y}<br>Confirmed Cases=%{customdata[0]}<br>Confirmed Cases today =%{customdata[1]}<br>Date=%{customdata[2]}",
         "legendgroup": "New Jersey",
         "marker": {
          "color": "#ab63fa",
          "size": [
           23,
           29,
           49,
           69,
           72,
           176,
           250,
           397,
           741,
           890,
           1327,
           1914,
           2844,
           3675,
           4402,
           6876,
           8825,
           11124,
           13386,
           16636,
           18696,
           22255,
           25590,
           29895,
           34124,
           37505,
           41090,
           44416,
           47437,
           51027,
           54588,
           58151,
           61850,
           64584,
           68824,
           71030,
           75317,
           78467,
           81420,
           85301,
           88722
          ],
          "sizemode": "area",
          "sizeref": 632.65,
          "symbol": "circle"
         },
         "mode": "lines+markers",
         "name": "New Jersey",
         "showlegend": true,
         "type": "scattergl",
         "x": [
          0,
          0,
          0.1,
          0.1,
          0.1,
          0.3,
          0.4,
          0.7,
          1.2,
          1.5,
          2.2,
          3.2,
          4.7,
          6.1,
          7.3,
          11.4,
          14.6,
          18.4,
          22.2,
          27.4,
          30.7,
          36.4,
          41.4,
          48.3,
          54.6,
          59.3,
          63.7,
          67.9,
          71.7,
          73.6,
          76.2,
          78.4,
          80.7,
          79.9,
          83.5,
          81.3,
          82.9,
          80.9,
          78.8,
          79.6,
          79.4
         ],
         "xaxis": "x",
         "y": [
          100,
          100,
          100,
          100,
          100,
          100,
          100,
          100,
          99.7,
          99.8,
          99.7,
          99.7,
          99.8,
          99.6,
          99.5,
          99.6,
          99.4,
          99.4,
          99.5,
          98.9,
          98.7,
          98.2,
          97.1,
          97,
          96.1,
          94.9,
          93.1,
          91.7,
          90.7,
          86.5,
          83.8,
          80.9,
          78.4,
          74.2,
          72.8,
          68.7,
          66,
          61.9,
          58.1,
          56,
          53.7
         ],
         "yaxis": "y"
        },
        {
         "customdata": [
          [
           21,
           8,
           "3/16/20",
           "New Mexico"
          ],
          [
           23,
           2,
           "3/17/20",
           "New Mexico"
          ],
          [
           28,
           5,
           "3/18/20",
           "New Mexico"
          ],
          [
           35,
           7,
           "3/19/20",
           "New Mexico"
          ],
          [
           42,
           7,
           "3/20/20",
           "New Mexico"
          ],
          [
           55,
           13,
           "3/21/20",
           "New Mexico"
          ],
          [
           57,
           2,
           "3/22/20",
           "New Mexico"
          ],
          [
           83,
           26,
           "3/23/20",
           "New Mexico"
          ],
          [
           100,
           17,
           "3/24/20",
           "New Mexico"
          ],
          [
           113,
           13,
           "3/25/20",
           "New Mexico"
          ],
          [
           113,
           0,
           "3/26/20",
           "New Mexico"
          ],
          [
           136,
           23,
           "3/27/20",
           "New Mexico"
          ],
          [
           208,
           72,
           "3/28/20",
           "New Mexico"
          ],
          [
           237,
           29,
           "3/29/20",
           "New Mexico"
          ],
          [
           237,
           0,
           "3/30/20",
           "New Mexico"
          ],
          [
           315,
           78,
           "3/31/20",
           "New Mexico"
          ],
          [
           340,
           25,
           "4/1/20",
           "New Mexico"
          ],
          [
           388,
           48,
           "4/2/20",
           "New Mexico"
          ],
          [
           534,
           146,
           "4/3/20",
           "New Mexico"
          ],
          [
           534,
           0,
           "4/4/20",
           "New Mexico"
          ],
          [
           670,
           136,
           "4/5/20",
           "New Mexico"
          ],
          [
           757,
           87,
           "4/6/20",
           "New Mexico"
          ],
          [
           876,
           119,
           "4/7/20",
           "New Mexico"
          ],
          [
           902,
           26,
           "4/8/20",
           "New Mexico"
          ],
          [
           865,
           -37,
           "4/9/20",
           "New Mexico"
          ],
          [
           1081,
           216,
           "4/10/20",
           "New Mexico"
          ],
          [
           1091,
           10,
           "4/11/20",
           "New Mexico"
          ],
          [
           1245,
           154,
           "4/12/20",
           "New Mexico"
          ],
          [
           1262,
           17,
           "4/13/20",
           "New Mexico"
          ],
          [
           1345,
           83,
           "4/14/20",
           "New Mexico"
          ],
          [
           1484,
           139,
           "4/15/20",
           "New Mexico"
          ],
          [
           1484,
           0,
           "4/16/20",
           "New Mexico"
          ],
          [
           1597,
           113,
           "4/17/20",
           "New Mexico"
          ],
          [
           1798,
           201,
           "4/18/20",
           "New Mexico"
          ],
          [
           1845,
           47,
           "4/19/20",
           "New Mexico"
          ],
          [
           1971,
           126,
           "4/20/20",
           "New Mexico"
          ]
         ],
         "hoverlabel": {
          "namelength": 0
         },
         "hovertemplate": "State =%{customdata[3]}<br>Mean growth over 14d compared to max growth =%{x}<br>% cases from last 14d =%{y}<br>Confirmed Cases=%{customdata[0]}<br>Confirmed Cases today =%{customdata[1]}<br>Date=%{customdata[2]}",
         "legendgroup": "New Mexico",
         "marker": {
          "color": "#FFA15A",
          "size": [
           21,
           23,
           28,
           35,
           42,
           55,
           57,
           83,
           100,
           113,
           113,
           136,
           208,
           237,
           237,
           315,
           340,
           388,
           534,
           534,
           670,
           757,
           876,
           902,
           865,
           1081,
           1091,
           1245,
           1262,
           1345,
           1484,
           1484,
           1597,
           1798,
           1845,
           1971
          ],
          "sizemode": "area",
          "sizeref": 632.65,
          "symbol": "circle"
         },
         "mode": "lines+markers",
         "name": "New Mexico",
         "showlegend": true,
         "type": "scattergl",
         "x": [
          0.7,
          0.8,
          1,
          1.2,
          1.5,
          2,
          2,
          2.9,
          3.6,
          3.9,
          3.8,
          4.5,
          6.9,
          8,
          7.7,
          10.4,
          11.1,
          12.5,
          17.5,
          17,
          21.8,
          24,
          27.6,
          28,
          26.7,
          33.6,
          31.4,
          35.8,
          36.4,
          36.6,
          40.7,
          38.9,
          37.8,
          44.9,
          41.8,
          43.1
         ],
         "xaxis": "x",
         "y": [
          100,
          100,
          100,
          100,
          100,
          100,
          100,
          100,
          100,
          97.3,
          95.6,
          92.6,
          93.8,
          94.5,
          91.1,
          92.7,
          91.8,
          91,
          92.1,
          89.7,
          91.5,
          89,
          88.6,
          87.5,
          86.9,
          87.4,
          80.9,
          81,
          81.2,
          76.6,
          77.1,
          73.9,
          66.6,
          70.3,
          63.7,
          61.6
         ],
         "yaxis": "y"
        },
        {
         "customdata": [
          [
           23,
           12,
           "3/5/20",
           "New York"
          ],
          [
           31,
           8,
           "3/6/20",
           "New York"
          ],
          [
           76,
           45,
           "3/7/20",
           "New York"
          ],
          [
           106,
           30,
           "3/8/20",
           "New York"
          ],
          [
           142,
           36,
           "3/9/20",
           "New York"
          ],
          [
           150,
           8,
           "3/10/20",
           "New York"
          ],
          [
           220,
           70,
           "3/11/20",
           "New York"
          ],
          [
           327,
           107,
           "3/12/20",
           "New York"
          ],
          [
           421,
           94,
           "3/13/20",
           "New York"
          ],
          [
           613,
           192,
           "3/14/20",
           "New York"
          ],
          [
           615,
           2,
           "3/15/20",
           "New York"
          ],
          [
           967,
           352,
           "3/16/20",
           "New York"
          ],
          [
           1578,
           611,
           "3/17/20",
           "New York"
          ],
          [
           3038,
           1460,
           "3/18/20",
           "New York"
          ],
          [
           5704,
           2666,
           "3/19/20",
           "New York"
          ],
          [
           8403,
           2699,
           "3/20/20",
           "New York"
          ],
          [
           11727,
           3324,
           "3/21/20",
           "New York"
          ],
          [
           15800,
           4073,
           "3/22/20",
           "New York"
          ],
          [
           20884,
           5084,
           "3/23/20",
           "New York"
          ],
          [
           25681,
           4797,
           "3/24/20",
           "New York"
          ],
          [
           30841,
           5160,
           "3/25/20",
           "New York"
          ],
          [
           37877,
           7036,
           "3/26/20",
           "New York"
          ],
          [
           44876,
           6999,
           "3/27/20",
           "New York"
          ],
          [
           52410,
           7534,
           "3/28/20",
           "New York"
          ],
          [
           59648,
           7238,
           "3/29/20",
           "New York"
          ],
          [
           66663,
           7015,
           "3/30/20",
           "New York"
          ],
          [
           75833,
           9170,
           "3/31/20",
           "New York"
          ],
          [
           83948,
           8115,
           "4/1/20",
           "New York"
          ],
          [
           92506,
           8558,
           "4/2/20",
           "New York"
          ],
          [
           102987,
           10481,
           "4/3/20",
           "New York"
          ],
          [
           113833,
           10846,
           "4/4/20",
           "New York"
          ],
          [
           123160,
           9327,
           "4/5/20",
           "New York"
          ],
          [
           131815,
           8655,
           "4/6/20",
           "New York"
          ],
          [
           139875,
           8060,
           "4/7/20",
           "New York"
          ],
          [
           151061,
           11186,
           "4/8/20",
           "New York"
          ],
          [
           161779,
           10718,
           "4/9/20",
           "New York"
          ],
          [
           172348,
           10569,
           "4/10/20",
           "New York"
          ],
          [
           181026,
           8678,
           "4/11/20",
           "New York"
          ],
          [
           189033,
           8007,
           "4/12/20",
           "New York"
          ],
          [
           195749,
           6716,
           "4/13/20",
           "New York"
          ],
          [
           203020,
           7271,
           "4/14/20",
           "New York"
          ],
          [
           214454,
           11434,
           "4/15/20",
           "New York"
          ],
          [
           223691,
           9237,
           "4/16/20",
           "New York"
          ],
          [
           230597,
           6906,
           "4/17/20",
           "New York"
          ],
          [
           241712,
           11115,
           "4/18/20",
           "New York"
          ],
          [
           247815,
           6103,
           "4/19/20",
           "New York"
          ],
          [
           253060,
           5245,
           "4/20/20",
           "New York"
          ]
         ],
         "hoverlabel": {
          "namelength": 0
         },
         "hovertemplate": "State =%{customdata[3]}<br>Mean growth over 14d compared to max growth =%{x}<br>% cases from last 14d =%{y}<br>Confirmed Cases=%{customdata[0]}<br>Confirmed Cases today =%{customdata[1]}<br>Date=%{customdata[2]}",
         "legendgroup": "New York",
         "marker": {
          "color": "#19d3f3",
          "size": [
           23,
           31,
           76,
           106,
           142,
           150,
           220,
           327,
           421,
           613,
           615,
           967,
           1578,
           3038,
           5704,
           8403,
           11727,
           15800,
           20884,
           25681,
           30841,
           37877,
           44876,
           52410,
           59648,
           66663,
           75833,
           83948,
           92506,
           102987,
           113833,
           123160,
           131815,
           139875,
           151061,
           161779,
           172348,
           181026,
           189033,
           195749,
           203020,
           214454,
           223691,
           230597,
           241712,
           247815,
           253060
          ],
          "sizemode": "area",
          "sizeref": 632.65,
          "symbol": "circle"
         },
         "mode": "lines+markers",
         "name": "New York",
         "showlegend": true,
         "type": "scattergl",
         "x": [
          0,
          0,
          0,
          0.1,
          0.1,
          0.1,
          0.1,
          0.2,
          0.3,
          0.4,
          0.4,
          0.6,
          1,
          1.9,
          3.6,
          5.3,
          7.4,
          10,
          13.2,
          16.3,
          19.6,
          24,
          28.4,
          33.1,
          37.7,
          42,
          47.4,
          51.7,
          55.4,
          60.4,
          65.2,
          68.6,
          70.8,
          72.9,
          76.8,
          79.1,
          81.4,
          82.1,
          82.6,
          82.4,
          81.2,
          83.3,
          83.8,
          81.5,
          81.7,
          79.6,
          77.4
         ],
         "xaxis": "x",
         "y": [
          100,
          100,
          100,
          100,
          100,
          100,
          100,
          100,
          100,
          100,
          100,
          99.9,
          99.9,
          99.6,
          99.6,
          99.6,
          99.4,
          99.3,
          99.3,
          99.4,
          99.3,
          99.1,
          99.1,
          98.8,
          99,
          98.5,
          97.9,
          96.4,
          93.8,
          91.8,
          89.7,
          87.2,
          84.2,
          81.6,
          79.6,
          76.6,
          74,
          71,
          68.4,
          65.9,
          62.6,
          60.9,
          58.6,
          55.3,
          52.9,
          50.3,
          47.9
         ],
         "yaxis": "y"
        },
        {
         "customdata": [
          [
           25,
           8,
           "3/14/20",
           "North Carolina"
          ],
          [
           32,
           7,
           "3/15/20",
           "North Carolina"
          ],
          [
           39,
           7,
           "3/16/20",
           "North Carolina"
          ],
          [
           64,
           25,
           "3/17/20",
           "North Carolina"
          ],
          [
           92,
           28,
           "3/18/20",
           "North Carolina"
          ],
          [
           136,
           44,
           "3/19/20",
           "North Carolina"
          ],
          [
           189,
           53,
           "3/20/20",
           "North Carolina"
          ],
          [
           256,
           67,
           "3/21/20",
           "North Carolina"
          ],
          [
           305,
           49,
           "3/22/20",
           "North Carolina"
          ],
          [
           353,
           48,
           "3/23/20",
           "North Carolina"
          ],
          [
           495,
           142,
           "3/24/20",
           "North Carolina"
          ],
          [
           590,
           95,
           "3/25/20",
           "North Carolina"
          ],
          [
           738,
           148,
           "3/26/20",
           "North Carolina"
          ],
          [
           887,
           149,
           "3/27/20",
           "North Carolina"
          ],
          [
           1020,
           133,
           "3/28/20",
           "North Carolina"
          ],
          [
           1191,
           171,
           "3/29/20",
           "North Carolina"
          ],
          [
           1313,
           122,
           "3/30/20",
           "North Carolina"
          ],
          [
           1535,
           222,
           "3/31/20",
           "North Carolina"
          ],
          [
           1675,
           140,
           "4/1/20",
           "North Carolina"
          ],
          [
           1977,
           302,
           "4/2/20",
           "North Carolina"
          ],
          [
           2251,
           274,
           "4/3/20",
           "North Carolina"
          ],
          [
           2486,
           235,
           "4/4/20",
           "North Carolina"
          ],
          [
           2649,
           163,
           "4/5/20",
           "North Carolina"
          ],
          [
           2962,
           313,
           "4/6/20",
           "North Carolina"
          ],
          [
           3299,
           337,
           "4/7/20",
           "North Carolina"
          ],
          [
           3499,
           200,
           "4/8/20",
           "North Carolina"
          ],
          [
           3736,
           237,
           "4/9/20",
           "North Carolina"
          ],
          [
           3965,
           229,
           "4/10/20",
           "North Carolina"
          ],
          [
           4354,
           389,
           "4/11/20",
           "North Carolina"
          ],
          [
           4570,
           216,
           "4/12/20",
           "North Carolina"
          ],
          [
           4886,
           316,
           "4/13/20",
           "North Carolina"
          ],
          [
           5113,
           227,
           "4/14/20",
           "North Carolina"
          ],
          [
           5340,
           227,
           "4/15/20",
           "North Carolina"
          ],
          [
           5639,
           299,
           "4/16/20",
           "North Carolina"
          ],
          [
           6045,
           406,
           "4/17/20",
           "North Carolina"
          ],
          [
           6328,
           283,
           "4/18/20",
           "North Carolina"
          ],
          [
           6601,
           273,
           "4/19/20",
           "North Carolina"
          ],
          [
           6895,
           294,
           "4/20/20",
           "North Carolina"
          ]
         ],
         "hoverlabel": {
          "namelength": 0
         },
         "hovertemplate": "State =%{customdata[3]}<br>Mean growth over 14d compared to max growth =%{x}<br>% cases from last 14d =%{y}<br>Confirmed Cases=%{customdata[0]}<br>Confirmed Cases today =%{customdata[1]}<br>Date=%{customdata[2]}",
         "legendgroup": "North Carolina",
         "marker": {
          "color": "#FF6692",
          "size": [
           25,
           32,
           39,
           64,
           92,
           136,
           189,
           256,
           305,
           353,
           495,
           590,
           738,
           887,
           1020,
           1191,
           1313,
           1535,
           1675,
           1977,
           2251,
           2486,
           2649,
           2962,
           3299,
           3499,
           3736,
           3965,
           4354,
           4570,
           4886,
           5113,
           5340,
           5639,
           6045,
           6328,
           6601,
           6895
          ],
          "sizemode": "area",
          "sizeref": 632.65,
          "symbol": "circle"
         },
         "mode": "lines+markers",
         "name": "North Carolina",
         "showlegend": true,
         "type": "scattergl",
         "x": [
          0.5,
          0.6,
          0.7,
          1.2,
          1.7,
          2.5,
          3.4,
          4.7,
          5.6,
          6.4,
          9,
          10.7,
          13.3,
          16,
          18.3,
          21.3,
          23.4,
          27,
          29.1,
          33.8,
          37.9,
          40.9,
          43,
          47.9,
          51.5,
          53.4,
          55,
          56.5,
          61.2,
          62,
          65.6,
          65.7,
          67.3,
          67.2,
          69.7,
          70.5,
          72.6,
          72.2
         ],
         "xaxis": "x",
         "y": [
          100,
          100,
          100,
          98.4,
          98.9,
          99.3,
          98.9,
          99.2,
          99.3,
          99.4,
          98.6,
          98.8,
          98,
          98.1,
          97.5,
          97.3,
          97,
          95.8,
          94.5,
          93.1,
          91.6,
          89.7,
          88.5,
          88.1,
          85,
          83.1,
          80.2,
          77.6,
          76.6,
          73.9,
          73.1,
          70,
          68.6,
          64.9,
          62.8,
          60.7,
          59.9,
          57
         ],
         "yaxis": "y"
        },
        {
         "customdata": [
          [
           26,
           7,
           "3/20/20",
           "North Dakota"
          ],
          [
           28,
           2,
           "3/21/20",
           "North Dakota"
          ],
          [
           28,
           0,
           "3/22/20",
           "North Dakota"
          ],
          [
           30,
           2,
           "3/23/20",
           "North Dakota"
          ],
          [
           36,
           6,
           "3/24/20",
           "North Dakota"
          ],
          [
           45,
           9,
           "3/25/20",
           "North Dakota"
          ],
          [
           51,
           6,
           "3/26/20",
           "North Dakota"
          ],
          [
           68,
           17,
           "3/27/20",
           "North Dakota"
          ],
          [
           94,
           26,
           "3/28/20",
           "North Dakota"
          ],
          [
           98,
           4,
           "3/29/20",
           "North Dakota"
          ],
          [
           109,
           11,
           "3/30/20",
           "North Dakota"
          ],
          [
           122,
           13,
           "3/31/20",
           "North Dakota"
          ],
          [
           142,
           20,
           "4/1/20",
           "North Dakota"
          ],
          [
           159,
           17,
           "4/2/20",
           "North Dakota"
          ],
          [
           173,
           14,
           "4/3/20",
           "North Dakota"
          ],
          [
           186,
           13,
           "4/4/20",
           "North Dakota"
          ],
          [
           207,
           21,
           "4/5/20",
           "North Dakota"
          ],
          [
           225,
           18,
           "4/6/20",
           "North Dakota"
          ],
          [
           237,
           12,
           "4/7/20",
           "North Dakota"
          ],
          [
           251,
           14,
           "4/8/20",
           "North Dakota"
          ],
          [
           269,
           18,
           "4/9/20",
           "North Dakota"
          ],
          [
           278,
           9,
           "4/10/20",
           "North Dakota"
          ],
          [
           293,
           15,
           "4/11/20",
           "North Dakota"
          ],
          [
           308,
           15,
           "4/12/20",
           "North Dakota"
          ],
          [
           331,
           23,
           "4/13/20",
           "North Dakota"
          ],
          [
           341,
           10,
           "4/14/20",
           "North Dakota"
          ],
          [
           365,
           24,
           "4/15/20",
           "North Dakota"
          ],
          [
           393,
           28,
           "4/16/20",
           "North Dakota"
          ],
          [
           393,
           0,
           "4/17/20",
           "North Dakota"
          ],
          [
           528,
           135,
           "4/18/20",
           "North Dakota"
          ],
          [
           585,
           57,
           "4/19/20",
           "North Dakota"
          ],
          [
           627,
           42,
           "4/20/20",
           "North Dakota"
          ]
         ],
         "hoverlabel": {
          "namelength": 0
         },
         "hovertemplate": "State =%{customdata[3]}<br>Mean growth over 14d compared to max growth =%{x}<br>% cases from last 14d =%{y}<br>Confirmed Cases=%{customdata[0]}<br>Confirmed Cases today =%{customdata[1]}<br>Date=%{customdata[2]}",
         "legendgroup": "North Dakota",
         "marker": {
          "color": "#B6E880",
          "size": [
           26,
           28,
           28,
           30,
           36,
           45,
           51,
           68,
           94,
           98,
           109,
           122,
           142,
           159,
           173,
           186,
           207,
           225,
           237,
           251,
           269,
           278,
           293,
           308,
           331,
           341,
           365,
           393,
           393,
           528,
           585,
           627
          ],
          "sizemode": "area",
          "sizeref": 632.65,
          "symbol": "circle"
         },
         "mode": "lines+markers",
         "name": "North Dakota",
         "showlegend": true,
         "type": "scattergl",
         "x": [
          3.3,
          3.5,
          3.5,
          3.8,
          4.5,
          5.6,
          6.3,
          8.4,
          11.7,
          12.2,
          13.5,
          14.9,
          17,
          17.5,
          18.4,
          19.8,
          22.4,
          24.4,
          25.2,
          25.8,
          27.3,
          26.3,
          24.9,
          26.3,
          27.8,
          27.4,
          27.9,
          29.3,
          27.6,
          42.9,
          47.4,
          50.4
         ],
         "xaxis": "x",
         "y": [
          100,
          100,
          100,
          100,
          100,
          100,
          98,
          98.5,
          98.9,
          99,
          99.1,
          97.5,
          95.8,
          88.1,
          85,
          84.9,
          86.5,
          86.7,
          84.8,
          82.1,
          81,
          75.5,
          67.9,
          68.2,
          67.1,
          64.2,
          61.1,
          59.5,
          56,
          64.8,
          64.6,
          64.1
         ],
         "yaxis": "y"
        },
        {
         "customdata": [
          [
           26,
           14,
           "3/14/20",
           "Ohio"
          ],
          [
           30,
           4,
           "3/15/20",
           "Ohio"
          ],
          [
           50,
           20,
           "3/16/20",
           "Ohio"
          ],
          [
           67,
           17,
           "3/17/20",
           "Ohio"
          ],
          [
           89,
           22,
           "3/18/20",
           "Ohio"
          ],
          [
           119,
           30,
           "3/19/20",
           "Ohio"
          ],
          [
           173,
           54,
           "3/20/20",
           "Ohio"
          ],
          [
           247,
           74,
           "3/21/20",
           "Ohio"
          ],
          [
           356,
           109,
           "3/22/20",
           "Ohio"
          ],
          [
           443,
           87,
           "3/23/20",
           "Ohio"
          ],
          [
           567,
           124,
           "3/24/20",
           "Ohio"
          ],
          [
           704,
           137,
           "3/25/20",
           "Ohio"
          ],
          [
           868,
           164,
           "3/26/20",
           "Ohio"
          ],
          [
           1137,
           269,
           "3/27/20",
           "Ohio"
          ],
          [
           1406,
           269,
           "3/28/20",
           "Ohio"
          ],
          [
           1653,
           247,
           "3/29/20",
           "Ohio"
          ],
          [
           1933,
           280,
           "3/30/20",
           "Ohio"
          ],
          [
           2199,
           266,
           "3/31/20",
           "Ohio"
          ],
          [
           2547,
           348,
           "4/1/20",
           "Ohio"
          ],
          [
           2901,
           354,
           "4/2/20",
           "Ohio"
          ],
          [
           3312,
           411,
           "4/3/20",
           "Ohio"
          ],
          [
           3739,
           427,
           "4/4/20",
           "Ohio"
          ],
          [
           4043,
           304,
           "4/5/20",
           "Ohio"
          ],
          [
           4453,
           410,
           "4/6/20",
           "Ohio"
          ],
          [
           4782,
           329,
           "4/7/20",
           "Ohio"
          ],
          [
           5148,
           366,
           "4/8/20",
           "Ohio"
          ],
          [
           5512,
           364,
           "4/9/20",
           "Ohio"
          ],
          [
           5878,
           366,
           "4/10/20",
           "Ohio"
          ],
          [
           6250,
           372,
           "4/11/20",
           "Ohio"
          ],
          [
           6604,
           354,
           "4/12/20",
           "Ohio"
          ],
          [
           6975,
           371,
           "4/13/20",
           "Ohio"
          ],
          [
           7285,
           310,
           "4/14/20",
           "Ohio"
          ],
          [
           7794,
           509,
           "4/15/20",
           "Ohio"
          ],
          [
           8414,
           620,
           "4/16/20",
           "Ohio"
          ],
          [
           9107,
           693,
           "4/17/20",
           "Ohio"
          ],
          [
           10222,
           1115,
           "4/18/20",
           "Ohio"
          ],
          [
           11602,
           1380,
           "4/19/20",
           "Ohio"
          ],
          [
           12919,
           1317,
           "4/20/20",
           "Ohio"
          ]
         ],
         "hoverlabel": {
          "namelength": 0
         },
         "hovertemplate": "State =%{customdata[3]}<br>Mean growth over 14d compared to max growth =%{x}<br>% cases from last 14d =%{y}<br>Confirmed Cases=%{customdata[0]}<br>Confirmed Cases today =%{customdata[1]}<br>Date=%{customdata[2]}",
         "legendgroup": "Ohio",
         "marker": {
          "color": "#FF97FF",
          "size": [
           26,
           30,
           50,
           67,
           89,
           119,
           173,
           247,
           356,
           443,
           567,
           704,
           868,
           1137,
           1406,
           1653,
           1933,
           2199,
           2547,
           2901,
           3312,
           3739,
           4043,
           4453,
           4782,
           5148,
           5512,
           5878,
           6250,
           6604,
           6975,
           7285,
           7794,
           8414,
           9107,
           10222,
           11602,
           12919
          ],
          "sizemode": "area",
          "sizeref": 632.65,
          "symbol": "circle"
         },
         "mode": "lines+markers",
         "name": "Ohio",
         "showlegend": true,
         "type": "scattergl",
         "x": [
          0.1,
          0.2,
          0.3,
          0.4,
          0.5,
          0.6,
          0.9,
          1.3,
          1.9,
          2.4,
          3.1,
          3.8,
          4.7,
          6.1,
          7.5,
          8.8,
          10.2,
          11.6,
          13.3,
          15.1,
          17,
          18.9,
          20,
          21.7,
          22.9,
          24.1,
          25.2,
          25.7,
          26.3,
          26.9,
          27.3,
          27.6,
          28.5,
          29.9,
          31.4,
          35.2,
          41,
          45.9
         ],
         "xaxis": "x",
         "y": [
          100,
          100,
          100,
          100,
          100,
          100,
          100,
          100,
          100,
          100,
          99.5,
          99.4,
          99.4,
          98.9,
          98.2,
          98.2,
          97.4,
          97,
          96.5,
          95.9,
          94.8,
          93.4,
          91.2,
          90.1,
          88.1,
          86.3,
          84.3,
          80.7,
          77.5,
          75,
          72.3,
          69.8,
          67.3,
          65.5,
          63.6,
          63.4,
          65.2,
          65.5
         ],
         "yaxis": "y"
        },
        {
         "customdata": [
          [
           44,
           27,
           "3/19/20",
           "Oklahoma"
          ],
          [
           49,
           5,
           "3/20/20",
           "Oklahoma"
          ],
          [
           53,
           4,
           "3/21/20",
           "Oklahoma"
          ],
          [
           67,
           14,
           "3/22/20",
           "Oklahoma"
          ],
          [
           81,
           14,
           "3/23/20",
           "Oklahoma"
          ],
          [
           106,
           25,
           "3/24/20",
           "Oklahoma"
          ],
          [
           164,
           58,
           "3/25/20",
           "Oklahoma"
          ],
          [
           248,
           84,
           "3/26/20",
           "Oklahoma"
          ],
          [
           322,
           74,
           "3/27/20",
           "Oklahoma"
          ],
          [
           377,
           55,
           "3/28/20",
           "Oklahoma"
          ],
          [
           429,
           52,
           "3/29/20",
           "Oklahoma"
          ],
          [
           481,
           52,
           "3/30/20",
           "Oklahoma"
          ],
          [
           568,
           87,
           "3/31/20",
           "Oklahoma"
          ],
          [
           721,
           153,
           "4/1/20",
           "Oklahoma"
          ],
          [
           881,
           160,
           "4/2/20",
           "Oklahoma"
          ],
          [
           990,
           109,
           "4/3/20",
           "Oklahoma"
          ],
          [
           1161,
           171,
           "4/4/20",
           "Oklahoma"
          ],
          [
           1254,
           93,
           "4/5/20",
           "Oklahoma"
          ],
          [
           1329,
           75,
           "4/6/20",
           "Oklahoma"
          ],
          [
           1474,
           145,
           "4/7/20",
           "Oklahoma"
          ],
          [
           1526,
           52,
           "4/8/20",
           "Oklahoma"
          ],
          [
           1686,
           160,
           "4/9/20",
           "Oklahoma"
          ],
          [
           1794,
           108,
           "4/10/20",
           "Oklahoma"
          ],
          [
           1868,
           74,
           "4/11/20",
           "Oklahoma"
          ],
          [
           1970,
           102,
           "4/12/20",
           "Oklahoma"
          ],
          [
           2069,
           99,
           "4/13/20",
           "Oklahoma"
          ],
          [
           2184,
           115,
           "4/14/20",
           "Oklahoma"
          ],
          [
           2263,
           79,
           "4/15/20",
           "Oklahoma"
          ],
          [
           2357,
           94,
           "4/16/20",
           "Oklahoma"
          ],
          [
           2465,
           108,
           "4/17/20",
           "Oklahoma"
          ],
          [
           2465,
           0,
           "4/18/20",
           "Oklahoma"
          ],
          [
           2567,
           102,
           "4/19/20",
           "Oklahoma"
          ],
          [
           2680,
           113,
           "4/20/20",
           "Oklahoma"
          ]
         ],
         "hoverlabel": {
          "namelength": 0
         },
         "hovertemplate": "State =%{customdata[3]}<br>Mean growth over 14d compared to max growth =%{x}<br>% cases from last 14d =%{y}<br>Confirmed Cases=%{customdata[0]}<br>Confirmed Cases today =%{customdata[1]}<br>Date=%{customdata[2]}",
         "legendgroup": "Oklahoma",
         "marker": {
          "color": "#FECB52",
          "size": [
           44,
           49,
           53,
           67,
           81,
           106,
           164,
           248,
           322,
           377,
           429,
           481,
           568,
           721,
           881,
           990,
           1161,
           1254,
           1329,
           1474,
           1526,
           1686,
           1794,
           1868,
           1970,
           2069,
           2184,
           2263,
           2357,
           2465,
           2465,
           2567,
           2680
          ],
          "sizemode": "area",
          "sizeref": 632.65,
          "symbol": "circle"
         },
         "mode": "lines+markers",
         "name": "Oklahoma",
         "showlegend": true,
         "type": "scattergl",
         "x": [
          2,
          2.2,
          2.3,
          2.9,
          3.6,
          4.6,
          7.2,
          10.9,
          14.2,
          16.7,
          19,
          21,
          24.6,
          31.4,
          37.4,
          42,
          49.5,
          53,
          55.7,
          61.1,
          60.8,
          64.2,
          65.7,
          66.6,
          68.8,
          70.9,
          72.1,
          68.8,
          65.9,
          65.8,
          58.2,
          58.6,
          60.3
         ],
         "xaxis": "x",
         "y": [
          100,
          100,
          98.1,
          98.5,
          98.8,
          98.1,
          98.8,
          98.8,
          99.1,
          98.9,
          99.1,
          97.9,
          97,
          97.6,
          95,
          95.1,
          95.4,
          94.7,
          93.9,
          92.8,
          89.3,
          85.3,
          82.1,
          79.8,
          78.2,
          76.8,
          74,
          68.1,
          62.6,
          59.8,
          52.9,
          51.1,
          50.4
         ],
         "yaxis": "y"
        },
        {
         "customdata": [
          [
           24,
           5,
           "3/12/20",
           "Oregon"
          ],
          [
           30,
           6,
           "3/13/20",
           "Oregon"
          ],
          [
           36,
           6,
           "3/14/20",
           "Oregon"
          ],
          [
           36,
           0,
           "3/15/20",
           "Oregon"
          ],
          [
           39,
           3,
           "3/16/20",
           "Oregon"
          ],
          [
           66,
           27,
           "3/17/20",
           "Oregon"
          ],
          [
           75,
           9,
           "3/18/20",
           "Oregon"
          ],
          [
           88,
           13,
           "3/19/20",
           "Oregon"
          ],
          [
           114,
           26,
           "3/20/20",
           "Oregon"
          ],
          [
           137,
           23,
           "3/21/20",
           "Oregon"
          ],
          [
           161,
           24,
           "3/22/20",
           "Oregon"
          ],
          [
           191,
           30,
           "3/23/20",
           "Oregon"
          ],
          [
           210,
           19,
           "3/24/20",
           "Oregon"
          ],
          [
           266,
           56,
           "3/25/20",
           "Oregon"
          ],
          [
           316,
           50,
           "3/26/20",
           "Oregon"
          ],
          [
           416,
           100,
           "3/27/20",
           "Oregon"
          ],
          [
           479,
           63,
           "3/28/20",
           "Oregon"
          ],
          [
           548,
           69,
           "3/29/20",
           "Oregon"
          ],
          [
           606,
           58,
           "3/30/20",
           "Oregon"
          ],
          [
           690,
           84,
           "3/31/20",
           "Oregon"
          ],
          [
           736,
           46,
           "4/1/20",
           "Oregon"
          ],
          [
           826,
           90,
           "4/2/20",
           "Oregon"
          ],
          [
           899,
           73,
           "4/3/20",
           "Oregon"
          ],
          [
           899,
           0,
           "4/4/20",
           "Oregon"
          ],
          [
           1068,
           169,
           "4/5/20",
           "Oregon"
          ],
          [
           1068,
           0,
           "4/6/20",
           "Oregon"
          ],
          [
           1132,
           64,
           "4/7/20",
           "Oregon"
          ],
          [
           1181,
           49,
           "4/8/20",
           "Oregon"
          ],
          [
           1321,
           140,
           "4/9/20",
           "Oregon"
          ],
          [
           1322,
           1,
           "4/10/20",
           "Oregon"
          ],
          [
           1371,
           49,
           "4/11/20",
           "Oregon"
          ],
          [
           1527,
           156,
           "4/12/20",
           "Oregon"
          ],
          [
           1584,
           57,
           "4/13/20",
           "Oregon"
          ],
          [
           1633,
           49,
           "4/14/20",
           "Oregon"
          ],
          [
           1663,
           30,
           "4/15/20",
           "Oregon"
          ],
          [
           1736,
           73,
           "4/16/20",
           "Oregon"
          ],
          [
           1785,
           49,
           "4/17/20",
           "Oregon"
          ],
          [
           1844,
           59,
           "4/18/20",
           "Oregon"
          ],
          [
           1910,
           66,
           "4/19/20",
           "Oregon"
          ],
          [
           1957,
           47,
           "4/20/20",
           "Oregon"
          ]
         ],
         "hoverlabel": {
          "namelength": 0
         },
         "hovertemplate": "State =%{customdata[3]}<br>Mean growth over 14d compared to max growth =%{x}<br>% cases from last 14d =%{y}<br>Confirmed Cases=%{customdata[0]}<br>Confirmed Cases today =%{customdata[1]}<br>Date=%{customdata[2]}",
         "legendgroup": "Oregon",
         "marker": {
          "color": "#636efa",
          "size": [
           24,
           30,
           36,
           36,
           39,
           66,
           75,
           88,
           114,
           137,
           161,
           191,
           210,
           266,
           316,
           416,
           479,
           548,
           606,
           690,
           736,
           826,
           899,
           899,
           1068,
           1068,
           1132,
           1181,
           1321,
           1322,
           1371,
           1527,
           1584,
           1633,
           1663,
           1736,
           1785,
           1844,
           1910,
           1957
          ],
          "sizemode": "area",
          "sizeref": 632.65,
          "symbol": "circle"
         },
         "mode": "lines+markers",
         "name": "Oregon",
         "showlegend": true,
         "type": "scattergl",
         "x": [
          1.1,
          1.4,
          1.6,
          1.6,
          1.6,
          2.9,
          3.3,
          3.9,
          5.1,
          6,
          6.7,
          8.1,
          9,
          11.3,
          13.4,
          17.7,
          20.3,
          23.4,
          26,
          28.6,
          30.3,
          33.8,
          35.9,
          34.9,
          41.5,
          40.2,
          42.2,
          41.9,
          46,
          41.5,
          40.8,
          44.8,
          44.8,
          43.2,
          42.4,
          41.7,
          40.6,
          43.3,
          38.6,
          40.7
         ],
         "xaxis": "x",
         "y": [
          100,
          100,
          97.2,
          97.2,
          92.3,
          95.5,
          96,
          96.6,
          97.4,
          95.6,
          91.3,
          92.7,
          93.3,
          92.9,
          92.4,
          92.8,
          92.5,
          93.4,
          93.6,
          90.4,
          89.8,
          89.3,
          87.3,
          84.8,
          84.9,
          82.1,
          81.4,
          77.5,
          76.1,
          68.5,
          65.1,
          64.1,
          61.7,
          57.7,
          55.7,
          52.4,
          49.6,
          51.2,
          44.1,
          45.4
         ],
         "yaxis": "y"
        },
        {
         "customdata": [
          [
           22,
           6,
           "3/12/20",
           "Pennsylvania"
          ],
          [
           41,
           19,
           "3/13/20",
           "Pennsylvania"
          ],
          [
           47,
           6,
           "3/14/20",
           "Pennsylvania"
          ],
          [
           47,
           0,
           "3/15/20",
           "Pennsylvania"
          ],
          [
           79,
           32,
           "3/16/20",
           "Pennsylvania"
          ],
          [
           112,
           33,
           "3/17/20",
           "Pennsylvania"
          ],
          [
           155,
           43,
           "3/18/20",
           "Pennsylvania"
          ],
          [
           206,
           51,
           "3/19/20",
           "Pennsylvania"
          ],
          [
           311,
           105,
           "3/20/20",
           "Pennsylvania"
          ],
          [
           399,
           88,
           "3/21/20",
           "Pennsylvania"
          ],
          [
           509,
           110,
           "3/22/20",
           "Pennsylvania"
          ],
          [
           698,
           189,
           "3/23/20",
           "Pennsylvania"
          ],
          [
           946,
           248,
           "3/24/20",
           "Pennsylvania"
          ],
          [
           1260,
           314,
           "3/25/20",
           "Pennsylvania"
          ],
          [
           1795,
           535,
           "3/26/20",
           "Pennsylvania"
          ],
          [
           2345,
           550,
           "3/27/20",
           "Pennsylvania"
          ],
          [
           2845,
           500,
           "3/28/20",
           "Pennsylvania"
          ],
          [
           3432,
           587,
           "3/29/20",
           "Pennsylvania"
          ],
          [
           4155,
           723,
           "3/30/20",
           "Pennsylvania"
          ],
          [
           4963,
           808,
           "3/31/20",
           "Pennsylvania"
          ],
          [
           6009,
           1046,
           "4/1/20",
           "Pennsylvania"
          ],
          [
           7268,
           1259,
           "4/2/20",
           "Pennsylvania"
          ],
          [
           8570,
           1302,
           "4/3/20",
           "Pennsylvania"
          ],
          [
           10444,
           1874,
           "4/4/20",
           "Pennsylvania"
          ],
          [
           11589,
           1145,
           "4/5/20",
           "Pennsylvania"
          ],
          [
           13127,
           1538,
           "4/6/20",
           "Pennsylvania"
          ],
          [
           14853,
           1726,
           "4/7/20",
           "Pennsylvania"
          ],
          [
           16631,
           1778,
           "4/8/20",
           "Pennsylvania"
          ],
          [
           18300,
           1669,
           "4/9/20",
           "Pennsylvania"
          ],
          [
           20051,
           1751,
           "4/10/20",
           "Pennsylvania"
          ],
          [
           21719,
           1668,
           "4/11/20",
           "Pennsylvania"
          ],
          [
           22938,
           1219,
           "4/12/20",
           "Pennsylvania"
          ],
          [
           24292,
           1354,
           "4/13/20",
           "Pennsylvania"
          ],
          [
           25465,
           1173,
           "4/14/20",
           "Pennsylvania"
          ],
          [
           26753,
           1288,
           "4/15/20",
           "Pennsylvania"
          ],
          [
           28258,
           1505,
           "4/16/20",
           "Pennsylvania"
          ],
          [
           29888,
           1630,
           "4/17/20",
           "Pennsylvania"
          ],
          [
           31652,
           1764,
           "4/18/20",
           "Pennsylvania"
          ],
          [
           32902,
           1250,
           "4/19/20",
           "Pennsylvania"
          ],
          [
           33914,
           1012,
           "4/20/20",
           "Pennsylvania"
          ]
         ],
         "hoverlabel": {
          "namelength": 0
         },
         "hovertemplate": "State =%{customdata[3]}<br>Mean growth over 14d compared to max growth =%{x}<br>% cases from last 14d =%{y}<br>Confirmed Cases=%{customdata[0]}<br>Confirmed Cases today =%{customdata[1]}<br>Date=%{customdata[2]}",
         "legendgroup": "Pennsylvania",
         "marker": {
          "color": "#EF553B",
          "size": [
           22,
           41,
           47,
           47,
           79,
           112,
           155,
           206,
           311,
           399,
           509,
           698,
           946,
           1260,
           1795,
           2345,
           2845,
           3432,
           4155,
           4963,
           6009,
           7268,
           8570,
           10444,
           11589,
           13127,
           14853,
           16631,
           18300,
           20051,
           21719,
           22938,
           24292,
           25465,
           26753,
           28258,
           29888,
           31652,
           32902,
           33914
          ],
          "sizemode": "area",
          "sizeref": 632.65,
          "symbol": "circle"
         },
         "mode": "lines+markers",
         "name": "Pennsylvania",
         "showlegend": true,
         "type": "scattergl",
         "x": [
          0.1,
          0.2,
          0.2,
          0.2,
          0.3,
          0.4,
          0.6,
          0.8,
          1.2,
          1.6,
          2,
          2.8,
          3.8,
          5,
          7.1,
          9.3,
          11.2,
          13.6,
          16.4,
          19.5,
          23.5,
          28.4,
          33.2,
          40.4,
          44.5,
          49.9,
          55.9,
          61.8,
          66.3,
          71.1,
          75.8,
          78.4,
          80.9,
          82.4,
          83.3,
          84.3,
          85.6,
          85.2,
          85.6,
          83.5
         ],
         "xaxis": "x",
         "y": [
          100,
          100,
          100,
          100,
          100,
          100,
          100,
          100,
          99.4,
          99.5,
          98.8,
          99,
          98.7,
          98.7,
          98.8,
          98.3,
          98.3,
          98.6,
          98.1,
          97.7,
          97.4,
          97.2,
          96.4,
          96.2,
          95.6,
          94.7,
          93.6,
          92.4,
          90.2,
          88.3,
          86.9,
          85,
          82.9,
          80.5,
          77.5,
          74.3,
          71.3,
          67,
          64.8,
          61.3
         ],
         "yaxis": "y"
        },
        {
         "customdata": [
          [
           21,
           7,
           "3/21/20",
           "Puerto Rico"
          ],
          [
           23,
           2,
           "3/22/20",
           "Puerto Rico"
          ],
          [
           31,
           8,
           "3/23/20",
           "Puerto Rico"
          ],
          [
           39,
           8,
           "3/24/20",
           "Puerto Rico"
          ],
          [
           51,
           12,
           "3/25/20",
           "Puerto Rico"
          ],
          [
           64,
           13,
           "3/26/20",
           "Puerto Rico"
          ],
          [
           79,
           15,
           "3/27/20",
           "Puerto Rico"
          ],
          [
           100,
           21,
           "3/28/20",
           "Puerto Rico"
          ],
          [
           127,
           27,
           "3/29/20",
           "Puerto Rico"
          ],
          [
           174,
           47,
           "3/30/20",
           "Puerto Rico"
          ],
          [
           239,
           65,
           "3/31/20",
           "Puerto Rico"
          ],
          [
           286,
           47,
           "4/1/20",
           "Puerto Rico"
          ],
          [
           316,
           30,
           "4/2/20",
           "Puerto Rico"
          ],
          [
           316,
           0,
           "4/3/20",
           "Puerto Rico"
          ],
          [
           452,
           136,
           "4/4/20",
           "Puerto Rico"
          ],
          [
           475,
           23,
           "4/5/20",
           "Puerto Rico"
          ],
          [
           513,
           38,
           "4/6/20",
           "Puerto Rico"
          ],
          [
           573,
           60,
           "4/7/20",
           "Puerto Rico"
          ],
          [
           620,
           47,
           "4/8/20",
           "Puerto Rico"
          ],
          [
           683,
           63,
           "4/9/20",
           "Puerto Rico"
          ],
          [
           725,
           42,
           "4/10/20",
           "Puerto Rico"
          ],
          [
           788,
           63,
           "4/11/20",
           "Puerto Rico"
          ],
          [
           897,
           109,
           "4/12/20",
           "Puerto Rico"
          ],
          [
           903,
           6,
           "4/13/20",
           "Puerto Rico"
          ],
          [
           923,
           20,
           "4/14/20",
           "Puerto Rico"
          ],
          [
           974,
           51,
           "4/15/20",
           "Puerto Rico"
          ],
          [
           1043,
           69,
           "4/16/20",
           "Puerto Rico"
          ],
          [
           1068,
           25,
           "4/17/20",
           "Puerto Rico"
          ],
          [
           1118,
           50,
           "4/18/20",
           "Puerto Rico"
          ],
          [
           1213,
           95,
           "4/19/20",
           "Puerto Rico"
          ],
          [
           1252,
           39,
           "4/20/20",
           "Puerto Rico"
          ]
         ],
         "hoverlabel": {
          "namelength": 0
         },
         "hovertemplate": "State =%{customdata[3]}<br>Mean growth over 14d compared to max growth =%{x}<br>% cases from last 14d =%{y}<br>Confirmed Cases=%{customdata[0]}<br>Confirmed Cases today =%{customdata[1]}<br>Date=%{customdata[2]}",
         "legendgroup": "Puerto Rico",
         "marker": {
          "color": "#00cc96",
          "size": [
           21,
           23,
           31,
           39,
           51,
           64,
           79,
           100,
           127,
           174,
           239,
           286,
           316,
           316,
           452,
           475,
           513,
           573,
           620,
           683,
           725,
           788,
           897,
           903,
           923,
           974,
           1043,
           1068,
           1118,
           1213,
           1252
          ],
          "sizemode": "area",
          "sizeref": 632.65,
          "symbol": "circle"
         },
         "mode": "lines+markers",
         "name": "Puerto Rico",
         "showlegend": true,
         "type": "scattergl",
         "x": [
          1.4,
          1.5,
          2,
          2.6,
          3.3,
          4.2,
          5.2,
          6.6,
          8.3,
          11.1,
          15.3,
          18.4,
          20.4,
          19.8,
          28.2,
          29.6,
          31.6,
          35,
          37.3,
          40.6,
          42.3,
          45.1,
          50.5,
          47.8,
          44.8,
          45.1,
          47.6,
          49.3,
          43.6,
          48.4,
          48.4
         ],
         "xaxis": "x",
         "y": [
          100,
          100,
          100,
          100,
          100,
          100,
          100,
          100,
          100,
          97.1,
          97.9,
          98.3,
          98.4,
          95.6,
          95.4,
          95.2,
          94,
          93.2,
          91.8,
          90.6,
          89.1,
          87.3,
          85.8,
          80.7,
          74.1,
          70.6,
          69.7,
          70.4,
          59.6,
          60.8,
          59
         ],
         "yaxis": "y"
        },
        {
         "customdata": [
          [
           20,
           8,
           "3/14/20",
           "Rhode Island"
          ],
          [
           20,
           0,
           "3/15/20",
           "Rhode Island"
          ],
          [
           21,
           1,
           "3/16/20",
           "Rhode Island"
          ],
          [
           23,
           2,
           "3/17/20",
           "Rhode Island"
          ],
          [
           33,
           10,
           "3/18/20",
           "Rhode Island"
          ],
          [
           44,
           11,
           "3/19/20",
           "Rhode Island"
          ],
          [
           54,
           10,
           "3/20/20",
           "Rhode Island"
          ],
          [
           66,
           12,
           "3/21/20",
           "Rhode Island"
          ],
          [
           83,
           17,
           "3/22/20",
           "Rhode Island"
          ],
          [
           106,
           23,
           "3/23/20",
           "Rhode Island"
          ],
          [
           124,
           18,
           "3/24/20",
           "Rhode Island"
          ],
          [
           132,
           8,
           "3/25/20",
           "Rhode Island"
          ],
          [
           165,
           33,
           "3/26/20",
           "Rhode Island"
          ],
          [
           203,
           38,
           "3/27/20",
           "Rhode Island"
          ],
          [
           239,
           36,
           "3/28/20",
           "Rhode Island"
          ],
          [
           294,
           55,
           "3/29/20",
           "Rhode Island"
          ],
          [
           408,
           114,
           "3/30/20",
           "Rhode Island"
          ],
          [
           488,
           80,
           "3/31/20",
           "Rhode Island"
          ],
          [
           566,
           78,
           "4/1/20",
           "Rhode Island"
          ],
          [
           645,
           79,
           "4/2/20",
           "Rhode Island"
          ],
          [
           711,
           66,
           "4/3/20",
           "Rhode Island"
          ],
          [
           806,
           95,
           "4/4/20",
           "Rhode Island"
          ],
          [
           922,
           116,
           "4/5/20",
           "Rhode Island"
          ],
          [
           1082,
           160,
           "4/6/20",
           "Rhode Island"
          ],
          [
           1229,
           147,
           "4/7/20",
           "Rhode Island"
          ],
          [
           1450,
           221,
           "4/8/20",
           "Rhode Island"
          ],
          [
           1727,
           277,
           "4/9/20",
           "Rhode Island"
          ],
          [
           1727,
           0,
           "4/10/20",
           "Rhode Island"
          ],
          [
           2349,
           622,
           "4/11/20",
           "Rhode Island"
          ],
          [
           2665,
           316,
           "4/12/20",
           "Rhode Island"
          ],
          [
           2665,
           0,
           "4/13/20",
           "Rhode Island"
          ],
          [
           3251,
           586,
           "4/14/20",
           "Rhode Island"
          ],
          [
           3251,
           0,
           "4/15/20",
           "Rhode Island"
          ],
          [
           3529,
           278,
           "4/16/20",
           "Rhode Island"
          ],
          [
           4177,
           648,
           "4/17/20",
           "Rhode Island"
          ],
          [
           4491,
           314,
           "4/18/20",
           "Rhode Island"
          ],
          [
           4706,
           215,
           "4/19/20",
           "Rhode Island"
          ],
          [
           5090,
           384,
           "4/20/20",
           "Rhode Island"
          ]
         ],
         "hoverlabel": {
          "namelength": 0
         },
         "hovertemplate": "State =%{customdata[3]}<br>Mean growth over 14d compared to max growth =%{x}<br>% cases from last 14d =%{y}<br>Confirmed Cases=%{customdata[0]}<br>Confirmed Cases today =%{customdata[1]}<br>Date=%{customdata[2]}",
         "legendgroup": "Rhode Island",
         "marker": {
          "color": "#ab63fa",
          "size": [
           20,
           20,
           21,
           23,
           33,
           44,
           54,
           66,
           83,
           106,
           124,
           132,
           165,
           203,
           239,
           294,
           408,
           488,
           566,
           645,
           711,
           806,
           922,
           1082,
           1229,
           1450,
           1727,
           1727,
           2349,
           2665,
           2665,
           3251,
           3251,
           3529,
           4177,
           4491,
           4706,
           5090
          ],
          "sizemode": "area",
          "sizeref": 632.65,
          "symbol": "circle"
         },
         "mode": "lines+markers",
         "name": "Rhode Island",
         "showlegend": true,
         "type": "scattergl",
         "x": [
          0.2,
          0.2,
          0.2,
          0.2,
          0.4,
          0.5,
          0.6,
          0.7,
          0.9,
          1.2,
          1.4,
          1.5,
          1.9,
          2.2,
          2.5,
          3.1,
          4.4,
          5.3,
          6.1,
          6.9,
          7.5,
          8.5,
          9.6,
          11.2,
          12.7,
          15.1,
          17.9,
          17.5,
          24.2,
          27.2,
          25.9,
          31.7,
          30.8,
          33.1,
          39.8,
          42.3,
          43.5,
          46
         ],
         "xaxis": "x",
         "y": [
          100,
          95,
          90.5,
          91.3,
          93.9,
          95.5,
          96.3,
          95.5,
          96.4,
          97.2,
          97.6,
          96.2,
          98.2,
          94.1,
          91.6,
          93.2,
          94.9,
          95.3,
          94.2,
          93.2,
          92.4,
          91.8,
          91,
          90.2,
          89.9,
          90.9,
          90.4,
          88.2,
          89.8,
          89,
          84.7,
          85,
          82.6,
          81.7,
          83,
          82.1,
          80.4,
          78.7
         ],
         "yaxis": "y"
        },
        {
         "customdata": [
          [
           30,
           11,
           "3/16/20",
           "South Carolina"
          ],
          [
           47,
           17,
           "3/17/20",
           "South Carolina"
          ],
          [
           60,
           13,
           "3/18/20",
           "South Carolina"
          ],
          [
           80,
           20,
           "3/19/20",
           "South Carolina"
          ],
          [
           126,
           46,
           "3/20/20",
           "South Carolina"
          ],
          [
           174,
           48,
           "3/21/20",
           "South Carolina"
          ],
          [
           196,
           22,
           "3/22/20",
           "South Carolina"
          ],
          [
           298,
           102,
           "3/23/20",
           "South Carolina"
          ],
          [
           342,
           44,
           "3/24/20",
           "South Carolina"
          ],
          [
           424,
           82,
           "3/25/20",
           "South Carolina"
          ],
          [
           424,
           0,
           "3/26/20",
           "South Carolina"
          ],
          [
           542,
           118,
           "3/27/20",
           "South Carolina"
          ],
          [
           660,
           118,
           "3/28/20",
           "South Carolina"
          ],
          [
           774,
           114,
           "3/29/20",
           "South Carolina"
          ],
          [
           925,
           151,
           "3/30/20",
           "South Carolina"
          ],
          [
           1083,
           158,
           "3/31/20",
           "South Carolina"
          ],
          [
           1293,
           210,
           "4/1/20",
           "South Carolina"
          ],
          [
           1554,
           261,
           "4/2/20",
           "South Carolina"
          ],
          [
           1700,
           146,
           "4/3/20",
           "South Carolina"
          ],
          [
           1917,
           217,
           "4/4/20",
           "South Carolina"
          ],
          [
           2049,
           132,
           "4/5/20",
           "South Carolina"
          ],
          [
           2232,
           183,
           "4/6/20",
           "South Carolina"
          ],
          [
           2417,
           185,
           "4/7/20",
           "South Carolina"
          ],
          [
           2417,
           0,
           "4/8/20",
           "South Carolina"
          ],
          [
           2793,
           376,
           "4/9/20",
           "South Carolina"
          ],
          [
           3067,
           274,
           "4/10/20",
           "South Carolina"
          ],
          [
           3211,
           144,
           "4/11/20",
           "South Carolina"
          ],
          [
           3320,
           109,
           "4/12/20",
           "South Carolina"
          ],
          [
           3391,
           71,
           "4/13/20",
           "South Carolina"
          ],
          [
           3553,
           162,
           "4/14/20",
           "South Carolina"
          ],
          [
           3656,
           103,
           "4/15/20",
           "South Carolina"
          ],
          [
           3931,
           275,
           "4/16/20",
           "South Carolina"
          ],
          [
           4099,
           168,
           "4/17/20",
           "South Carolina"
          ],
          [
           4248,
           149,
           "4/18/20",
           "South Carolina"
          ],
          [
           4377,
           129,
           "4/19/20",
           "South Carolina"
          ],
          [
           4446,
           69,
           "4/20/20",
           "South Carolina"
          ]
         ],
         "hoverlabel": {
          "namelength": 0
         },
         "hovertemplate": "State =%{customdata[3]}<br>Mean growth over 14d compared to max growth =%{x}<br>% cases from last 14d =%{y}<br>Confirmed Cases=%{customdata[0]}<br>Confirmed Cases today =%{customdata[1]}<br>Date=%{customdata[2]}",
         "legendgroup": "South Carolina",
         "marker": {
          "color": "#FFA15A",
          "size": [
           30,
           47,
           60,
           80,
           126,
           174,
           196,
           298,
           342,
           424,
           424,
           542,
           660,
           774,
           925,
           1083,
           1293,
           1554,
           1700,
           1917,
           2049,
           2232,
           2417,
           2417,
           2793,
           3067,
           3211,
           3320,
           3391,
           3553,
           3656,
           3931,
           4099,
           4248,
           4377,
           4446
          ],
          "sizemode": "area",
          "sizeref": 632.65,
          "symbol": "circle"
         },
         "mode": "lines+markers",
         "name": "South Carolina",
         "showlegend": true,
         "type": "scattergl",
         "x": [
          0.8,
          1.2,
          1.6,
          2.1,
          3.3,
          4.5,
          5,
          7.7,
          8.7,
          10.8,
          10.8,
          13.9,
          16.6,
          19.6,
          23.2,
          26.9,
          32,
          38.3,
          40.9,
          45.3,
          48.1,
          50.2,
          53.9,
          51.8,
          61.5,
          65.6,
          66.3,
          66.1,
          64.1,
          64.2,
          61.4,
          61.7,
          62.3,
          60.5,
          60.5,
          57.5
         ],
         "xaxis": "x",
         "y": [
          100,
          100,
          100,
          100,
          100,
          98.9,
          99,
          99,
          98,
          97.6,
          98.3,
          98.5,
          97.1,
          97.5,
          96.8,
          95.7,
          95.4,
          94.9,
          92.6,
          90.9,
          90.4,
          86.6,
          85.9,
          82.5,
          84.8,
          82.3,
          79.4,
          76.7,
          72.7,
          69.5,
          64.6,
          60.5,
          58.5,
          54.9,
          53.2,
          49.8
         ],
         "yaxis": "y"
        },
        {
         "customdata": [
          [
           21,
           7,
           "3/22/20",
           "South Dakota"
          ],
          [
           28,
           7,
           "3/23/20",
           "South Dakota"
          ],
          [
           30,
           2,
           "3/24/20",
           "South Dakota"
          ],
          [
           41,
           11,
           "3/25/20",
           "South Dakota"
          ],
          [
           46,
           5,
           "3/26/20",
           "South Dakota"
          ],
          [
           58,
           12,
           "3/27/20",
           "South Dakota"
          ],
          [
           68,
           10,
           "3/28/20",
           "South Dakota"
          ],
          [
           90,
           22,
           "3/29/20",
           "South Dakota"
          ],
          [
           101,
           11,
           "3/30/20",
           "South Dakota"
          ],
          [
           108,
           7,
           "3/31/20",
           "South Dakota"
          ],
          [
           129,
           21,
           "4/1/20",
           "South Dakota"
          ],
          [
           165,
           36,
           "4/2/20",
           "South Dakota"
          ],
          [
           187,
           22,
           "4/3/20",
           "South Dakota"
          ],
          [
           212,
           25,
           "4/4/20",
           "South Dakota"
          ],
          [
           240,
           28,
           "4/5/20",
           "South Dakota"
          ],
          [
           288,
           48,
           "4/6/20",
           "South Dakota"
          ],
          [
           320,
           32,
           "4/7/20",
           "South Dakota"
          ],
          [
           393,
           73,
           "4/8/20",
           "South Dakota"
          ],
          [
           447,
           54,
           "4/9/20",
           "South Dakota"
          ],
          [
           536,
           89,
           "4/10/20",
           "South Dakota"
          ],
          [
           626,
           90,
           "4/11/20",
           "South Dakota"
          ],
          [
           730,
           104,
           "4/12/20",
           "South Dakota"
          ],
          [
           868,
           138,
           "4/13/20",
           "South Dakota"
          ],
          [
           988,
           120,
           "4/14/20",
           "South Dakota"
          ],
          [
           1168,
           180,
           "4/15/20",
           "South Dakota"
          ],
          [
           1311,
           143,
           "4/16/20",
           "South Dakota"
          ],
          [
           1411,
           100,
           "4/17/20",
           "South Dakota"
          ],
          [
           1542,
           131,
           "4/18/20",
           "South Dakota"
          ],
          [
           1635,
           93,
           "4/19/20",
           "South Dakota"
          ],
          [
           1685,
           50,
           "4/20/20",
           "South Dakota"
          ]
         ],
         "hoverlabel": {
          "namelength": 0
         },
         "hovertemplate": "State =%{customdata[3]}<br>Mean growth over 14d compared to max growth =%{x}<br>% cases from last 14d =%{y}<br>Confirmed Cases=%{customdata[0]}<br>Confirmed Cases today =%{customdata[1]}<br>Date=%{customdata[2]}",
         "legendgroup": "South Dakota",
         "marker": {
          "color": "#19d3f3",
          "size": [
           21,
           28,
           30,
           41,
           46,
           58,
           68,
           90,
           101,
           108,
           129,
           165,
           187,
           212,
           240,
           288,
           320,
           393,
           447,
           536,
           626,
           730,
           868,
           988,
           1168,
           1311,
           1411,
           1542,
           1635,
           1685
          ],
          "sizemode": "area",
          "sizeref": 632.65,
          "symbol": "circle"
         },
         "mode": "lines+markers",
         "name": "South Dakota",
         "showlegend": true,
         "type": "scattergl",
         "x": [
          1,
          1.4,
          1.5,
          1.6,
          1.9,
          2.5,
          3,
          4.1,
          4.5,
          4.8,
          5.9,
          7.5,
          8.6,
          9.9,
          10.9,
          13,
          14.5,
          17.6,
          20,
          23.9,
          27.9,
          32,
          38.3,
          44,
          51.9,
          57.2,
          61.1,
          66.4,
          69.7,
          69.8
         ],
         "xaxis": "x",
         "y": [
          100,
          100,
          100,
          80.5,
          84.8,
          86.2,
          88.2,
          91.1,
          90.1,
          89.8,
          91.5,
          91.5,
          92.5,
          93.4,
          91.2,
          90.3,
          90.6,
          89.6,
          89.7,
          89.2,
          89.1,
          87.7,
          88.4,
          89.1,
          89,
          87.4,
          86.7,
          86.3,
          85.3,
          82.9
         ],
         "yaxis": "y"
        },
        {
         "customdata": [
          [
           26,
           8,
           "3/13/20",
           "Tennessee"
          ],
          [
           32,
           6,
           "3/14/20",
           "Tennessee"
          ],
          [
           32,
           0,
           "3/15/20",
           "Tennessee"
          ],
          [
           52,
           20,
           "3/16/20",
           "Tennessee"
          ],
          [
           74,
           22,
           "3/17/20",
           "Tennessee"
          ],
          [
           100,
           26,
           "3/18/20",
           "Tennessee"
          ],
          [
           154,
           54,
           "3/19/20",
           "Tennessee"
          ],
          [
           223,
           69,
           "3/20/20",
           "Tennessee"
          ],
          [
           304,
           81,
           "3/21/20",
           "Tennessee"
          ],
          [
           393,
           89,
           "3/22/20",
           "Tennessee"
          ],
          [
           614,
           221,
           "3/23/20",
           "Tennessee"
          ],
          [
           772,
           158,
           "3/24/20",
           "Tennessee"
          ],
          [
           916,
           144,
           "3/25/20",
           "Tennessee"
          ],
          [
           1097,
           181,
           "3/26/20",
           "Tennessee"
          ],
          [
           1318,
           221,
           "3/27/20",
           "Tennessee"
          ],
          [
           1511,
           193,
           "3/28/20",
           "Tennessee"
          ],
          [
           1720,
           209,
           "3/29/20",
           "Tennessee"
          ],
          [
           1917,
           197,
           "3/30/20",
           "Tennessee"
          ],
          [
           2391,
           474,
           "3/31/20",
           "Tennessee"
          ],
          [
           2933,
           542,
           "4/1/20",
           "Tennessee"
          ],
          [
           3013,
           80,
           "4/2/20",
           "Tennessee"
          ],
          [
           3067,
           54,
           "4/3/20",
           "Tennessee"
          ],
          [
           3322,
           255,
           "4/4/20",
           "Tennessee"
          ],
          [
           3633,
           311,
           "4/5/20",
           "Tennessee"
          ],
          [
           3802,
           169,
           "4/6/20",
           "Tennessee"
          ],
          [
           4139,
           337,
           "4/7/20",
           "Tennessee"
          ],
          [
           4363,
           224,
           "4/8/20",
           "Tennessee"
          ],
          [
           4634,
           271,
           "4/9/20",
           "Tennessee"
          ],
          [
           4891,
           257,
           "4/10/20",
           "Tennessee"
          ],
          [
           5132,
           241,
           "4/11/20",
           "Tennessee"
          ],
          [
           5508,
           376,
           "4/12/20",
           "Tennessee"
          ],
          [
           5610,
           102,
           "4/13/20",
           "Tennessee"
          ],
          [
           5827,
           217,
           "4/14/20",
           "Tennessee"
          ],
          [
           5827,
           0,
           "4/15/20",
           "Tennessee"
          ],
          [
           6166,
           339,
           "4/16/20",
           "Tennessee"
          ],
          [
           6263,
           97,
           "4/17/20",
           "Tennessee"
          ],
          [
           6589,
           326,
           "4/18/20",
           "Tennessee"
          ],
          [
           7070,
           481,
           "4/19/20",
           "Tennessee"
          ],
          [
           7238,
           168,
           "4/20/20",
           "Tennessee"
          ]
         ],
         "hoverlabel": {
          "namelength": 0
         },
         "hovertemplate": "State =%{customdata[3]}<br>Mean growth over 14d compared to max growth =%{x}<br>% cases from last 14d =%{y}<br>Confirmed Cases=%{customdata[0]}<br>Confirmed Cases today =%{customdata[1]}<br>Date=%{customdata[2]}",
         "legendgroup": "Tennessee",
         "marker": {
          "color": "#FF6692",
          "size": [
           26,
           32,
           32,
           52,
           74,
           100,
           154,
           223,
           304,
           393,
           614,
           772,
           916,
           1097,
           1318,
           1511,
           1720,
           1917,
           2391,
           2933,
           3013,
           3067,
           3322,
           3633,
           3802,
           4139,
           4363,
           4634,
           4891,
           5132,
           5508,
           5610,
           5827,
           5827,
           6166,
           6263,
           6589,
           7070,
           7238
          ],
          "sizemode": "area",
          "sizeref": 632.65,
          "symbol": "circle"
         },
         "mode": "lines+markers",
         "name": "Tennessee",
         "showlegend": true,
         "type": "scattergl",
         "x": [
          0.4,
          0.5,
          0.5,
          0.8,
          1.1,
          1.5,
          2.3,
          3.3,
          4.5,
          5.8,
          9.1,
          11.4,
          13.5,
          16,
          19.2,
          22,
          25.1,
          27.7,
          34.4,
          42.1,
          42.5,
          42.2,
          44.8,
          48.1,
          47.3,
          50,
          51.2,
          52.5,
          53.1,
          53.8,
          56.3,
          54.8,
          51,
          43,
          46.8,
          47.5,
          48.5,
          51,
          51
         ],
         "xaxis": "x",
         "y": [
          100,
          100,
          100,
          100,
          100,
          100,
          99.4,
          99.6,
          99.7,
          99.2,
          99.5,
          99.6,
          99,
          98.4,
          98,
          97.9,
          98.1,
          97.3,
          96.9,
          96.6,
          94.9,
          92.7,
          90.8,
          89.2,
          83.9,
          81.3,
          79,
          76.3,
          73.1,
          70.6,
          68.8,
          65.8,
          59,
          49.7,
          51.1,
          51,
          49.6,
          48.6,
          47.5
         ],
         "yaxis": "y"
        },
        {
         "customdata": [
          [
           21,
           5,
           "3/11/20",
           "Texas"
          ],
          [
           27,
           6,
           "3/12/20",
           "Texas"
          ],
          [
           44,
           17,
           "3/13/20",
           "Texas"
          ],
          [
           60,
           16,
           "3/14/20",
           "Texas"
          ],
          [
           63,
           3,
           "3/15/20",
           "Texas"
          ],
          [
           85,
           22,
           "3/16/20",
           "Texas"
          ],
          [
           110,
           25,
           "3/17/20",
           "Texas"
          ],
          [
           196,
           86,
           "3/18/20",
           "Texas"
          ],
          [
           306,
           110,
           "3/19/20",
           "Texas"
          ],
          [
           429,
           123,
           "3/20/20",
           "Texas"
          ],
          [
           582,
           153,
           "3/21/20",
           "Texas"
          ],
          [
           643,
           61,
           "3/22/20",
           "Texas"
          ],
          [
           758,
           115,
           "3/23/20",
           "Texas"
          ],
          [
           955,
           197,
           "3/24/20",
           "Texas"
          ],
          [
           1229,
           274,
           "3/25/20",
           "Texas"
          ],
          [
           1563,
           334,
           "3/26/20",
           "Texas"
          ],
          [
           1937,
           374,
           "3/27/20",
           "Texas"
          ],
          [
           2455,
           518,
           "3/28/20",
           "Texas"
          ],
          [
           2792,
           337,
           "3/29/20",
           "Texas"
          ],
          [
           3147,
           355,
           "3/30/20",
           "Texas"
          ],
          [
           3809,
           662,
           "3/31/20",
           "Texas"
          ],
          [
           4355,
           546,
           "4/1/20",
           "Texas"
          ],
          [
           5069,
           714,
           "4/2/20",
           "Texas"
          ],
          [
           5734,
           665,
           "4/3/20",
           "Texas"
          ],
          [
           6567,
           833,
           "4/4/20",
           "Texas"
          ],
          [
           7209,
           642,
           "4/5/20",
           "Texas"
          ],
          [
           8043,
           834,
           "4/6/20",
           "Texas"
          ],
          [
           8925,
           882,
           "4/7/20",
           "Texas"
          ],
          [
           9777,
           852,
           "4/8/20",
           "Texas"
          ],
          [
           11208,
           1431,
           "4/9/20",
           "Texas"
          ],
          [
           12105,
           897,
           "4/10/20",
           "Texas"
          ],
          [
           13023,
           918,
           "4/11/20",
           "Texas"
          ],
          [
           13677,
           654,
           "4/12/20",
           "Texas"
          ],
          [
           14275,
           598,
           "4/13/20",
           "Texas"
          ],
          [
           15006,
           731,
           "4/14/20",
           "Texas"
          ],
          [
           15907,
           901,
           "4/15/20",
           "Texas"
          ],
          [
           16876,
           969,
           "4/16/20",
           "Texas"
          ],
          [
           17849,
           973,
           "4/17/20",
           "Texas"
          ],
          [
           18704,
           855,
           "4/18/20",
           "Texas"
          ],
          [
           19260,
           556,
           "4/19/20",
           "Texas"
          ],
          [
           19751,
           491,
           "4/20/20",
           "Texas"
          ]
         ],
         "hoverlabel": {
          "namelength": 0
         },
         "hovertemplate": "State =%{customdata[3]}<br>Mean growth over 14d compared to max growth =%{x}<br>% cases from last 14d =%{y}<br>Confirmed Cases=%{customdata[0]}<br>Confirmed Cases today =%{customdata[1]}<br>Date=%{customdata[2]}",
         "legendgroup": "Texas",
         "marker": {
          "color": "#B6E880",
          "size": [
           21,
           27,
           44,
           60,
           63,
           85,
           110,
           196,
           306,
           429,
           582,
           643,
           758,
           955,
           1229,
           1563,
           1937,
           2455,
           2792,
           3147,
           3809,
           4355,
           5069,
           5734,
           6567,
           7209,
           8043,
           8925,
           9777,
           11208,
           12105,
           13023,
           13677,
           14275,
           15006,
           15907,
           16876,
           17849,
           18704,
           19260,
           19751
          ],
          "sizemode": "area",
          "sizeref": 632.65,
          "symbol": "circle"
         },
         "mode": "lines+markers",
         "name": "Texas",
         "showlegend": true,
         "type": "scattergl",
         "x": [
          0.2,
          0.2,
          0.3,
          0.4,
          0.5,
          0.6,
          0.8,
          1.4,
          2.2,
          3.1,
          4.2,
          4.6,
          5.5,
          6.9,
          8.9,
          11.3,
          13.9,
          17.6,
          20,
          22.5,
          27.2,
          30.5,
          35,
          38.9,
          43.9,
          48.2,
          53.5,
          58.5,
          62.8,
          70.8,
          74.6,
          77.6,
          79.9,
          81.7,
          82.2,
          84.8,
          86.7,
          88.9,
          89.1,
          88.5,
          85.9
         ],
         "xaxis": "x",
         "y": [
          100,
          100,
          100,
          100,
          100,
          100,
          100,
          100,
          99,
          99.1,
          98.6,
          98.3,
          98.3,
          98.3,
          98.3,
          98.3,
          97.7,
          97.6,
          97.7,
          97.3,
          97.1,
          95.5,
          94,
          92.5,
          91.1,
          91.1,
          90.6,
          89.3,
          87.4,
          86.1,
          84,
          81.1,
          79.6,
          78,
          74.6,
          72.6,
          70,
          67.9,
          64.9,
          62.6,
          59.3
         ],
         "yaxis": "y"
        },
        {
         "customdata": [
          [
           28,
           10,
           "3/16/20",
           "Utah"
          ],
          [
           39,
           11,
           "3/17/20",
           "Utah"
          ],
          [
           47,
           8,
           "3/18/20",
           "Utah"
          ],
          [
           62,
           15,
           "3/19/20",
           "Utah"
          ],
          [
           95,
           33,
           "3/20/20",
           "Utah"
          ],
          [
           118,
           23,
           "3/21/20",
           "Utah"
          ],
          [
           162,
           44,
           "3/22/20",
           "Utah"
          ],
          [
           257,
           95,
           "3/23/20",
           "Utah"
          ],
          [
           298,
           41,
           "3/24/20",
           "Utah"
          ],
          [
           340,
           42,
           "3/25/20",
           "Utah"
          ],
          [
           396,
           56,
           "3/26/20",
           "Utah"
          ],
          [
           472,
           76,
           "3/27/20",
           "Utah"
          ],
          [
           602,
           130,
           "3/28/20",
           "Utah"
          ],
          [
           720,
           118,
           "3/29/20",
           "Utah"
          ],
          [
           798,
           78,
           "3/30/20",
           "Utah"
          ],
          [
           888,
           90,
           "3/31/20",
           "Utah"
          ],
          [
           888,
           0,
           "4/1/20",
           "Utah"
          ],
          [
           1092,
           204,
           "4/2/20",
           "Utah"
          ],
          [
           1255,
           163,
           "4/3/20",
           "Utah"
          ],
          [
           1435,
           180,
           "4/4/20",
           "Utah"
          ],
          [
           1608,
           173,
           "4/5/20",
           "Utah"
          ],
          [
           1685,
           77,
           "4/6/20",
           "Utah"
          ],
          [
           1746,
           61,
           "4/7/20",
           "Utah"
          ],
          [
           1855,
           109,
           "4/8/20",
           "Utah"
          ],
          [
           1856,
           1,
           "4/9/20",
           "Utah"
          ],
          [
           2103,
           247,
           "4/10/20",
           "Utah"
          ],
          [
           2207,
           104,
           "4/11/20",
           "Utah"
          ],
          [
           2303,
           96,
           "4/12/20",
           "Utah"
          ],
          [
           2363,
           60,
           "4/13/20",
           "Utah"
          ],
          [
           2417,
           54,
           "4/14/20",
           "Utah"
          ],
          [
           2548,
           131,
           "4/15/20",
           "Utah"
          ],
          [
           2683,
           135,
           "4/16/20",
           "Utah"
          ],
          [
           2793,
           110,
           "4/17/20",
           "Utah"
          ],
          [
           2917,
           124,
           "4/18/20",
           "Utah"
          ],
          [
           3069,
           152,
           "4/19/20",
           "Utah"
          ],
          [
           3213,
           144,
           "4/20/20",
           "Utah"
          ]
         ],
         "hoverlabel": {
          "namelength": 0
         },
         "hovertemplate": "State =%{customdata[3]}<br>Mean growth over 14d compared to max growth =%{x}<br>% cases from last 14d =%{y}<br>Confirmed Cases=%{customdata[0]}<br>Confirmed Cases today =%{customdata[1]}<br>Date=%{customdata[2]}",
         "legendgroup": "Utah",
         "marker": {
          "color": "#FF97FF",
          "size": [
           28,
           39,
           47,
           62,
           95,
           118,
           162,
           257,
           298,
           340,
           396,
           472,
           602,
           720,
           798,
           888,
           888,
           1092,
           1255,
           1435,
           1608,
           1685,
           1746,
           1855,
           1856,
           2103,
           2207,
           2303,
           2363,
           2417,
           2548,
           2683,
           2793,
           2917,
           3069,
           3213
          ],
          "sizemode": "area",
          "sizeref": 632.65,
          "symbol": "circle"
         },
         "mode": "lines+markers",
         "name": "Utah",
         "showlegend": true,
         "type": "scattergl",
         "x": [
          1,
          1.4,
          1.6,
          2.2,
          3.3,
          4.1,
          5.6,
          9,
          10.4,
          11.8,
          13.8,
          16.2,
          20.7,
          24.6,
          27,
          29.7,
          29.4,
          36.1,
          40.6,
          46.1,
          50.6,
          50,
          50.7,
          53,
          51.1,
          57.1,
          56.2,
          55.4,
          54.8,
          53.5,
          58.1,
          55.7,
          53.9,
          51.9,
          51.2,
          53.5
         ],
         "xaxis": "x",
         "y": [
          100,
          100,
          100,
          100,
          100,
          99.2,
          99.4,
          99.6,
          99.3,
          99.1,
          99.2,
          98.1,
          98.3,
          97.5,
          96.5,
          95.6,
          94.7,
          94.3,
          92.4,
          91.8,
          89.9,
          84.7,
          82.9,
          81.7,
          78.7,
          77.6,
          72.7,
          68.7,
          66.2,
          63.3,
          65.1,
          59.3,
          55.1,
          50.8,
          47.6,
          47.6
         ],
         "yaxis": "y"
        },
        {
         "customdata": [
          [
           22,
           9,
           "3/19/20",
           "Vermont"
          ],
          [
           29,
           7,
           "3/20/20",
           "Vermont"
          ],
          [
           49,
           20,
           "3/21/20",
           "Vermont"
          ],
          [
           52,
           3,
           "3/22/20",
           "Vermont"
          ],
          [
           75,
           23,
           "3/23/20",
           "Vermont"
          ],
          [
           95,
           20,
           "3/24/20",
           "Vermont"
          ],
          [
           125,
           30,
           "3/25/20",
           "Vermont"
          ],
          [
           158,
           33,
           "3/26/20",
           "Vermont"
          ],
          [
           184,
           26,
           "3/27/20",
           "Vermont"
          ],
          [
           211,
           27,
           "3/28/20",
           "Vermont"
          ],
          [
           235,
           24,
           "3/29/20",
           "Vermont"
          ],
          [
           256,
           21,
           "3/30/20",
           "Vermont"
          ],
          [
           293,
           37,
           "3/31/20",
           "Vermont"
          ],
          [
           321,
           28,
           "4/1/20",
           "Vermont"
          ],
          [
           338,
           17,
           "4/2/20",
           "Vermont"
          ],
          [
           389,
           51,
           "4/3/20",
           "Vermont"
          ],
          [
           461,
           72,
           "4/4/20",
           "Vermont"
          ],
          [
           512,
           51,
           "4/5/20",
           "Vermont"
          ],
          [
           543,
           31,
           "4/6/20",
           "Vermont"
          ],
          [
           575,
           32,
           "4/7/20",
           "Vermont"
          ],
          [
           605,
           30,
           "4/8/20",
           "Vermont"
          ],
          [
           628,
           23,
           "4/9/20",
           "Vermont"
          ],
          [
           679,
           51,
           "4/10/20",
           "Vermont"
          ],
          [
           711,
           32,
           "4/11/20",
           "Vermont"
          ],
          [
           727,
           16,
           "4/12/20",
           "Vermont"
          ],
          [
           748,
           21,
           "4/13/20",
           "Vermont"
          ],
          [
           752,
           4,
           "4/14/20",
           "Vermont"
          ],
          [
           759,
           7,
           "4/15/20",
           "Vermont"
          ],
          [
           774,
           15,
           "4/16/20",
           "Vermont"
          ],
          [
           779,
           5,
           "4/17/20",
           "Vermont"
          ],
          [
           803,
           24,
           "4/18/20",
           "Vermont"
          ],
          [
           813,
           10,
           "4/19/20",
           "Vermont"
          ],
          [
           816,
           3,
           "4/20/20",
           "Vermont"
          ]
         ],
         "hoverlabel": {
          "namelength": 0
         },
         "hovertemplate": "State =%{customdata[3]}<br>Mean growth over 14d compared to max growth =%{x}<br>% cases from last 14d =%{y}<br>Confirmed Cases=%{customdata[0]}<br>Confirmed Cases today =%{customdata[1]}<br>Date=%{customdata[2]}",
         "legendgroup": "Vermont",
         "marker": {
          "color": "#FECB52",
          "size": [
           22,
           29,
           49,
           52,
           75,
           95,
           125,
           158,
           184,
           211,
           235,
           256,
           293,
           321,
           338,
           389,
           461,
           512,
           543,
           575,
           605,
           628,
           679,
           711,
           727,
           748,
           752,
           759,
           774,
           779,
           803,
           813,
           816
          ],
          "sizemode": "area",
          "sizeref": 632.65,
          "symbol": "circle"
         },
         "mode": "lines+markers",
         "name": "Vermont",
         "showlegend": true,
         "type": "scattergl",
         "x": [
          3.1,
          4.1,
          6.9,
          7.1,
          10.4,
          13.2,
          17.4,
          21.8,
          25.5,
          28.9,
          32.2,
          34.2,
          39.4,
          43.1,
          44.3,
          50.4,
          57.7,
          64.4,
          65.5,
          67.2,
          67.2,
          65.8,
          69.3,
          70,
          68.9,
          68.9,
          64.3,
          61.3,
          61.1,
          54.6,
          47.9,
          42.2,
          38.2
         ],
         "xaxis": "x",
         "y": [
          100,
          100,
          100,
          98.1,
          98.7,
          98.9,
          99.2,
          98.7,
          98.9,
          97.6,
          97.9,
          95.3,
          95.9,
          96,
          93.5,
          92.5,
          89.4,
          89.8,
          86.2,
          83.5,
          79.3,
          74.8,
          72.9,
          70.3,
          67.7,
          65.8,
          61,
          57.7,
          56.3,
          50.1,
          42.6,
          37,
          33.5
         ],
         "yaxis": "y"
        },
        {
         "customdata": [
          [
           22,
           3,
           "3/28/20",
           "Virgin Islands"
          ],
          [
           23,
           1,
           "3/29/20",
           "Virgin Islands"
          ],
          [
           30,
           7,
           "3/30/20",
           "Virgin Islands"
          ],
          [
           30,
           0,
           "3/31/20",
           "Virgin Islands"
          ],
          [
           30,
           0,
           "4/1/20",
           "Virgin Islands"
          ],
          [
           30,
           0,
           "4/2/20",
           "Virgin Islands"
          ],
          [
           37,
           7,
           "4/3/20",
           "Virgin Islands"
          ],
          [
           40,
           3,
           "4/4/20",
           "Virgin Islands"
          ],
          [
           42,
           2,
           "4/5/20",
           "Virgin Islands"
          ],
          [
           43,
           1,
           "4/6/20",
           "Virgin Islands"
          ],
          [
           43,
           0,
           "4/7/20",
           "Virgin Islands"
          ],
          [
           45,
           2,
           "4/8/20",
           "Virgin Islands"
          ],
          [
           45,
           0,
           "4/9/20",
           "Virgin Islands"
          ],
          [
           50,
           5,
           "4/10/20",
           "Virgin Islands"
          ],
          [
           51,
           1,
           "4/11/20",
           "Virgin Islands"
          ],
          [
           51,
           0,
           "4/12/20",
           "Virgin Islands"
          ],
          [
           51,
           0,
           "4/13/20",
           "Virgin Islands"
          ],
          [
           51,
           0,
           "4/14/20",
           "Virgin Islands"
          ],
          [
           51,
           0,
           "4/15/20",
           "Virgin Islands"
          ],
          [
           51,
           0,
           "4/16/20",
           "Virgin Islands"
          ],
          [
           51,
           0,
           "4/17/20",
           "Virgin Islands"
          ],
          [
           53,
           2,
           "4/18/20",
           "Virgin Islands"
          ],
          [
           53,
           0,
           "4/19/20",
           "Virgin Islands"
          ],
          [
           53,
           0,
           "4/20/20",
           "Virgin Islands"
          ]
         ],
         "hoverlabel": {
          "namelength": 0
         },
         "hovertemplate": "State =%{customdata[3]}<br>Mean growth over 14d compared to max growth =%{x}<br>% cases from last 14d =%{y}<br>Confirmed Cases=%{customdata[0]}<br>Confirmed Cases today =%{customdata[1]}<br>Date=%{customdata[2]}",
         "legendgroup": "Virgin Islands",
         "marker": {
          "color": "#636efa",
          "size": [
           22,
           23,
           30,
           30,
           30,
           30,
           37,
           40,
           42,
           43,
           43,
           45,
           45,
           50,
           51,
           51,
           51,
           51,
           51,
           51,
           51,
           53,
           53,
           53
          ],
          "sizemode": "area",
          "sizeref": 632.65,
          "symbol": "circle"
         },
         "mode": "lines+markers",
         "name": "Virgin Islands",
         "showlegend": true,
         "type": "scattergl",
         "x": [
          22.4,
          23.5,
          29.6,
          28.6,
          28.6,
          27.6,
          34.7,
          34.7,
          36.7,
          36.7,
          26.5,
          28.6,
          28.6,
          31.6,
          29.6,
          28.6,
          21.4,
          21.4,
          21.4,
          21.4,
          14.3,
          13.3,
          11.2,
          10.2
         ],
         "xaxis": "x",
         "y": [
          100,
          100,
          96.7,
          93.3,
          93.3,
          90,
          91.9,
          85,
          85.7,
          83.7,
          60.5,
          62.2,
          62.2,
          62,
          56.9,
          54.9,
          41.2,
          41.2,
          41.2,
          41.2,
          27.5,
          24.5,
          20.8,
          18.9
         ],
         "yaxis": "y"
        },
        {
         "customdata": [
          [
           27,
           15,
           "3/13/20",
           "Virginia"
          ],
          [
           37,
           10,
           "3/14/20",
           "Virginia"
          ],
          [
           37,
           0,
           "3/15/20",
           "Virginia"
          ],
          [
           49,
           12,
           "3/16/20",
           "Virginia"
          ],
          [
           67,
           18,
           "3/17/20",
           "Virginia"
          ],
          [
           79,
           12,
           "3/18/20",
           "Virginia"
          ],
          [
           103,
           24,
           "3/19/20",
           "Virginia"
          ],
          [
           123,
           20,
           "3/20/20",
           "Virginia"
          ],
          [
           157,
           34,
           "3/21/20",
           "Virginia"
          ],
          [
           220,
           63,
           "3/22/20",
           "Virginia"
          ],
          [
           254,
           34,
           "3/23/20",
           "Virginia"
          ],
          [
           293,
           39,
           "3/24/20",
           "Virginia"
          ],
          [
           396,
           103,
           "3/25/20",
           "Virginia"
          ],
          [
           466,
           70,
           "3/26/20",
           "Virginia"
          ],
          [
           607,
           141,
           "3/27/20",
           "Virginia"
          ],
          [
           740,
           133,
           "3/28/20",
           "Virginia"
          ],
          [
           890,
           150,
           "3/29/20",
           "Virginia"
          ],
          [
           1020,
           130,
           "3/30/20",
           "Virginia"
          ],
          [
           1249,
           229,
           "3/31/20",
           "Virginia"
          ],
          [
           1483,
           234,
           "4/1/20",
           "Virginia"
          ],
          [
           1706,
           223,
           "4/2/20",
           "Virginia"
          ],
          [
           2012,
           306,
           "4/3/20",
           "Virginia"
          ],
          [
           2407,
           395,
           "4/4/20",
           "Virginia"
          ],
          [
           2640,
           233,
           "4/5/20",
           "Virginia"
          ],
          [
           2878,
           238,
           "4/6/20",
           "Virginia"
          ],
          [
           3335,
           457,
           "4/7/20",
           "Virginia"
          ],
          [
           3645,
           310,
           "4/8/20",
           "Virginia"
          ],
          [
           4042,
           397,
           "4/9/20",
           "Virginia"
          ],
          [
           4509,
           467,
           "4/10/20",
           "Virginia"
          ],
          [
           5077,
           568,
           "4/11/20",
           "Virginia"
          ],
          [
           5274,
           197,
           "4/12/20",
           "Virginia"
          ],
          [
           5747,
           473,
           "4/13/20",
           "Virginia"
          ],
          [
           6182,
           435,
           "4/14/20",
           "Virginia"
          ],
          [
           6500,
           318,
           "4/15/20",
           "Virginia"
          ],
          [
           6889,
           389,
           "4/16/20",
           "Virginia"
          ],
          [
           7491,
           602,
           "4/17/20",
           "Virginia"
          ],
          [
           8053,
           562,
           "4/18/20",
           "Virginia"
          ],
          [
           8542,
           489,
           "4/19/20",
           "Virginia"
          ],
          [
           8990,
           448,
           "4/20/20",
           "Virginia"
          ]
         ],
         "hoverlabel": {
          "namelength": 0
         },
         "hovertemplate": "State =%{customdata[3]}<br>Mean growth over 14d compared to max growth =%{x}<br>% cases from last 14d =%{y}<br>Confirmed Cases=%{customdata[0]}<br>Confirmed Cases today =%{customdata[1]}<br>Date=%{customdata[2]}",
         "legendgroup": "Virginia",
         "marker": {
          "color": "#EF553B",
          "size": [
           27,
           37,
           37,
           49,
           67,
           79,
           103,
           123,
           157,
           220,
           254,
           293,
           396,
           466,
           607,
           740,
           890,
           1020,
           1249,
           1483,
           1706,
           2012,
           2407,
           2640,
           2878,
           3335,
           3645,
           4042,
           4509,
           5077,
           5274,
           5747,
           6182,
           6500,
           6889,
           7491,
           8053,
           8542,
           8990
          ],
          "sizemode": "area",
          "sizeref": 632.65,
          "symbol": "circle"
         },
         "mode": "lines+markers",
         "name": "Virginia",
         "showlegend": true,
         "type": "scattergl",
         "x": [
          0.3,
          0.5,
          0.5,
          0.6,
          0.8,
          1,
          1.3,
          1.5,
          2,
          2.7,
          3.2,
          3.6,
          4.9,
          5.7,
          7.3,
          8.8,
          10.7,
          12.2,
          14.9,
          17.7,
          20.2,
          23.8,
          28.3,
          30.4,
          33,
          38.3,
          40.9,
          45,
          49.1,
          54.5,
          55.1,
          59.4,
          62,
          63.1,
          65.2,
          68.9,
          71,
          74.2,
          76.9
         ],
         "xaxis": "x",
         "y": [
          100,
          100,
          100,
          100,
          100,
          100,
          100,
          100,
          100,
          99.1,
          99.2,
          97.3,
          97.7,
          97.4,
          95.6,
          95,
          95.8,
          95.2,
          94.6,
          94.7,
          94,
          93.9,
          93.5,
          91.7,
          91.2,
          91.2,
          89.1,
          88.5,
          86.5,
          85.4,
          83.1,
          82.3,
          79.8,
          77.2,
          75.2,
          73.1,
          70.1,
          69.1,
          68
         ],
         "yaxis": "y"
        },
        {
         "customdata": [
          [
           27,
           9,
           "3/3/20",
           "Washington"
          ],
          [
           39,
           12,
           "3/4/20",
           "Washington"
          ],
          [
           70,
           31,
           "3/5/20",
           "Washington"
          ],
          [
           78,
           8,
           "3/6/20",
           "Washington"
          ],
          [
           102,
           24,
           "3/7/20",
           "Washington"
          ],
          [
           122,
           20,
           "3/8/20",
           "Washington"
          ],
          [
           122,
           0,
           "3/9/20",
           "Washington"
          ],
          [
           167,
           45,
           "3/10/20",
           "Washington"
          ],
          [
           282,
           115,
           "3/11/20",
           "Washington"
          ],
          [
           442,
           160,
           "3/12/20",
           "Washington"
          ],
          [
           568,
           126,
           "3/13/20",
           "Washington"
          ],
          [
           642,
           74,
           "3/14/20",
           "Washington"
          ],
          [
           603,
           -39,
           "3/15/20",
           "Washington"
          ],
          [
           779,
           176,
           "3/16/20",
           "Washington"
          ],
          [
           955,
           176,
           "3/17/20",
           "Washington"
          ],
          [
           1022,
           67,
           "3/18/20",
           "Washington"
          ],
          [
           1374,
           352,
           "3/19/20",
           "Washington"
          ],
          [
           1524,
           150,
           "3/20/20",
           "Washington"
          ],
          [
           1793,
           269,
           "3/21/20",
           "Washington"
          ],
          [
           1997,
           204,
           "3/22/20",
           "Washington"
          ],
          [
           2221,
           224,
           "3/23/20",
           "Washington"
          ],
          [
           2328,
           107,
           "3/24/20",
           "Washington"
          ],
          [
           2591,
           263,
           "3/25/20",
           "Washington"
          ],
          [
           3207,
           616,
           "3/26/20",
           "Washington"
          ],
          [
           3477,
           270,
           "3/27/20",
           "Washington"
          ],
          [
           4030,
           553,
           "3/28/20",
           "Washington"
          ],
          [
           4465,
           435,
           "3/29/20",
           "Washington"
          ],
          [
           4923,
           458,
           "3/30/20",
           "Washington"
          ],
          [
           5432,
           509,
           "3/31/20",
           "Washington"
          ],
          [
           5608,
           176,
           "4/1/20",
           "Washington"
          ],
          [
           6389,
           781,
           "4/2/20",
           "Washington"
          ],
          [
           6846,
           457,
           "4/3/20",
           "Washington"
          ],
          [
           7247,
           401,
           "4/4/20",
           "Washington"
          ],
          [
           7825,
           578,
           "4/5/20",
           "Washington"
          ],
          [
           8311,
           486,
           "4/6/20",
           "Washington"
          ],
          [
           8692,
           381,
           "4/7/20",
           "Washington"
          ],
          [
           9276,
           584,
           "4/8/20",
           "Washington"
          ],
          [
           9639,
           363,
           "4/9/20",
           "Washington"
          ],
          [
           10119,
           480,
           "4/10/20",
           "Washington"
          ],
          [
           10434,
           315,
           "4/11/20",
           "Washington"
          ],
          [
           10609,
           175,
           "4/12/20",
           "Washington"
          ],
          [
           10635,
           26,
           "4/13/20",
           "Washington"
          ],
          [
           10799,
           164,
           "4/14/20",
           "Washington"
          ],
          [
           10942,
           143,
           "4/15/20",
           "Washington"
          ],
          [
           11057,
           115,
           "4/16/20",
           "Washington"
          ],
          [
           11517,
           460,
           "4/17/20",
           "Washington"
          ],
          [
           11776,
           259,
           "4/18/20",
           "Washington"
          ],
          [
           12255,
           479,
           "4/19/20",
           "Washington"
          ],
          [
           12114,
           -141,
           "4/20/20",
           "Washington"
          ]
         ],
         "hoverlabel": {
          "namelength": 0
         },
         "hovertemplate": "State =%{customdata[3]}<br>Mean growth over 14d compared to max growth =%{x}<br>% cases from last 14d =%{y}<br>Confirmed Cases=%{customdata[0]}<br>Confirmed Cases today =%{customdata[1]}<br>Date=%{customdata[2]}",
         "legendgroup": "Washington",
         "marker": {
          "color": "#00cc96",
          "size": [
           27,
           39,
           70,
           78,
           102,
           122,
           122,
           167,
           282,
           442,
           568,
           642,
           603,
           779,
           955,
           1022,
           1374,
           1524,
           1793,
           1997,
           2221,
           2328,
           2591,
           3207,
           3477,
           4030,
           4465,
           4923,
           5432,
           5608,
           6389,
           6846,
           7247,
           7825,
           8311,
           8692,
           9276,
           9639,
           10119,
           10434,
           10609,
           10635,
           10799,
           10942,
           11057,
           11517,
           11776,
           12255,
           12114
          ],
          "sizemode": "area",
          "sizeref": 632.65,
          "symbol": "circle"
         },
         "mode": "lines+markers",
         "name": "Washington",
         "showlegend": true,
         "type": "scattergl",
         "x": [
          0.3,
          0.4,
          0.8,
          0.9,
          1.2,
          1.4,
          1.4,
          1.9,
          3.3,
          5.1,
          6.6,
          7.4,
          6.9,
          8.8,
          10.8,
          11.4,
          15.1,
          16.8,
          19.6,
          21.7,
          24.3,
          25.1,
          26.8,
          32.1,
          33.7,
          39.3,
          44.8,
          48.1,
          51.9,
          53.2,
          58.2,
          61.7,
          63.2,
          67.6,
          70.6,
          73.8,
          77.5,
          74.6,
          77,
          74.3,
          71.2,
          66.2,
          62.2,
          61.9,
          54.1,
          54.2,
          52.5,
          51.4,
          44.1
         ],
         "xaxis": "x",
         "y": [
          96.3,
          97.4,
          98.6,
          98.7,
          99,
          99.2,
          99.2,
          99.4,
          99.6,
          99.8,
          99.8,
          98.9,
          98.2,
          97.7,
          97.2,
          96.2,
          94.9,
          94.9,
          94.3,
          93.9,
          94.5,
          92.8,
          89.1,
          86.2,
          83.7,
          84.1,
          86.5,
          84.2,
          82.4,
          81.8,
          78.5,
          77.7,
          75.3,
          74.5,
          73.3,
          73.2,
          72.1,
          66.7,
          65.6,
          61.4,
          57.9,
          53.7,
          49.7,
          48.7,
          42.2,
          40.6,
          38.5,
          36.1,
          31.4
         ],
         "yaxis": "y"
        },
        {
         "customdata": [
          [
           22,
           6,
           "3/24/20",
           "West Virginia"
          ],
          [
           39,
           17,
           "3/25/20",
           "West Virginia"
          ],
          [
           52,
           13,
           "3/26/20",
           "West Virginia"
          ],
          [
           76,
           24,
           "3/27/20",
           "West Virginia"
          ],
          [
           96,
           20,
           "3/28/20",
           "West Virginia"
          ],
          [
           113,
           17,
           "3/29/20",
           "West Virginia"
          ],
          [
           145,
           32,
           "3/30/20",
           "West Virginia"
          ],
          [
           162,
           17,
           "3/31/20",
           "West Virginia"
          ],
          [
           191,
           29,
           "4/1/20",
           "West Virginia"
          ],
          [
           216,
           25,
           "4/2/20",
           "West Virginia"
          ],
          [
           237,
           21,
           "4/3/20",
           "West Virginia"
          ],
          [
           282,
           45,
           "4/4/20",
           "West Virginia"
          ],
          [
           324,
           42,
           "4/5/20",
           "West Virginia"
          ],
          [
           345,
           21,
           "4/6/20",
           "West Virginia"
          ],
          [
           412,
           67,
           "4/7/20",
           "West Virginia"
          ],
          [
           483,
           71,
           "4/8/20",
           "West Virginia"
          ],
          [
           514,
           31,
           "4/9/20",
           "West Virginia"
          ],
          [
           574,
           60,
           "4/10/20",
           "West Virginia"
          ],
          [
           577,
           3,
           "4/11/20",
           "West Virginia"
          ],
          [
           593,
           16,
           "4/12/20",
           "West Virginia"
          ],
          [
           611,
           18,
           "4/13/20",
           "West Virginia"
          ],
          [
           640,
           29,
           "4/14/20",
           "West Virginia"
          ],
          [
           702,
           62,
           "4/15/20",
           "West Virginia"
          ],
          [
           728,
           26,
           "4/16/20",
           "West Virginia"
          ],
          [
           775,
           47,
           "4/17/20",
           "West Virginia"
          ],
          [
           785,
           10,
           "4/18/20",
           "West Virginia"
          ],
          [
           890,
           105,
           "4/19/20",
           "West Virginia"
          ],
          [
           902,
           12,
           "4/20/20",
           "West Virginia"
          ]
         ],
         "hoverlabel": {
          "namelength": 0
         },
         "hovertemplate": "State =%{customdata[3]}<br>Mean growth over 14d compared to max growth =%{x}<br>% cases from last 14d =%{y}<br>Confirmed Cases=%{customdata[0]}<br>Confirmed Cases today =%{customdata[1]}<br>Date=%{customdata[2]}",
         "legendgroup": "West Virginia",
         "marker": {
          "color": "#ab63fa",
          "size": [
           22,
           39,
           52,
           76,
           96,
           113,
           145,
           162,
           191,
           216,
           237,
           282,
           324,
           345,
           412,
           483,
           514,
           574,
           577,
           593,
           611,
           640,
           702,
           728,
           775,
           785,
           890,
           902
          ],
          "sizemode": "area",
          "sizeref": 632.65,
          "symbol": "circle"
         },
         "mode": "lines+markers",
         "name": "West Virginia",
         "showlegend": true,
         "type": "scattergl",
         "x": [
          2.2,
          3.9,
          5.2,
          7.6,
          9.7,
          11.4,
          14.6,
          16.3,
          19.1,
          21.5,
          23,
          27.2,
          31,
          33.1,
          39.2,
          44.7,
          46.5,
          50.1,
          48.4,
          48.3,
          46.9,
          48.1,
          51.4,
          51.5,
          54.1,
          50.6,
          56.9,
          56
         ],
         "xaxis": "x",
         "y": [
          100,
          100,
          100,
          100,
          100,
          100,
          100,
          100,
          99.5,
          99.1,
          96.6,
          95.7,
          95.1,
          95.4,
          94.7,
          91.9,
          89.9,
          86.8,
          83.4,
          80.9,
          76.3,
          74.7,
          72.8,
          70.3,
          69.4,
          64.1,
          63.6,
          61.8
         ],
         "yaxis": "y"
        },
        {
         "customdata": [
          [
           27,
           8,
           "3/14/20",
           "Wisconsin"
          ],
          [
           28,
           1,
           "3/15/20",
           "Wisconsin"
          ],
          [
           48,
           20,
           "3/16/20",
           "Wisconsin"
          ],
          [
           73,
           25,
           "3/17/20",
           "Wisconsin"
          ],
          [
           111,
           38,
           "3/18/20",
           "Wisconsin"
          ],
          [
           159,
           48,
           "3/19/20",
           "Wisconsin"
          ],
          [
           219,
           60,
           "3/20/20",
           "Wisconsin"
          ],
          [
           282,
           63,
           "3/21/20",
           "Wisconsin"
          ],
          [
           381,
           99,
           "3/22/20",
           "Wisconsin"
          ],
          [
           425,
           44,
           "3/23/20",
           "Wisconsin"
          ],
          [
           481,
           56,
           "3/24/20",
           "Wisconsin"
          ],
          [
           621,
           140,
           "3/25/20",
           "Wisconsin"
          ],
          [
           728,
           107,
           "3/26/20",
           "Wisconsin"
          ],
          [
           926,
           198,
           "3/27/20",
           "Wisconsin"
          ],
          [
           1055,
           129,
           "3/28/20",
           "Wisconsin"
          ],
          [
           1164,
           109,
           "3/29/20",
           "Wisconsin"
          ],
          [
           1230,
           66,
           "3/30/20",
           "Wisconsin"
          ],
          [
           1412,
           182,
           "3/31/20",
           "Wisconsin"
          ],
          [
           1556,
           144,
           "4/1/20",
           "Wisconsin"
          ],
          [
           1748,
           192,
           "4/2/20",
           "Wisconsin"
          ],
          [
           2012,
           264,
           "4/3/20",
           "Wisconsin"
          ],
          [
           2030,
           18,
           "4/4/20",
           "Wisconsin"
          ],
          [
           2320,
           290,
           "4/5/20",
           "Wisconsin"
          ],
          [
           2449,
           129,
           "4/6/20",
           "Wisconsin"
          ],
          [
           2578,
           129,
           "4/7/20",
           "Wisconsin"
          ],
          [
           2710,
           132,
           "4/8/20",
           "Wisconsin"
          ],
          [
           2886,
           176,
           "4/9/20",
           "Wisconsin"
          ],
          [
           3068,
           182,
           "4/10/20",
           "Wisconsin"
          ],
          [
           3213,
           145,
           "4/11/20",
           "Wisconsin"
          ],
          [
           3341,
           128,
           "4/12/20",
           "Wisconsin"
          ],
          [
           3428,
           87,
           "4/13/20",
           "Wisconsin"
          ],
          [
           3555,
           127,
           "4/14/20",
           "Wisconsin"
          ],
          [
           3721,
           166,
           "4/15/20",
           "Wisconsin"
          ],
          [
           3875,
           154,
           "4/16/20",
           "Wisconsin"
          ],
          [
           4053,
           178,
           "4/17/20",
           "Wisconsin"
          ],
          [
           4199,
           146,
           "4/18/20",
           "Wisconsin"
          ],
          [
           4346,
           147,
           "4/19/20",
           "Wisconsin"
          ],
          [
           4499,
           153,
           "4/20/20",
           "Wisconsin"
          ]
         ],
         "hoverlabel": {
          "namelength": 0
         },
         "hovertemplate": "State =%{customdata[3]}<br>Mean growth over 14d compared to max growth =%{x}<br>% cases from last 14d =%{y}<br>Confirmed Cases=%{customdata[0]}<br>Confirmed Cases today =%{customdata[1]}<br>Date=%{customdata[2]}",
         "legendgroup": "Wisconsin",
         "marker": {
          "color": "#FFA15A",
          "size": [
           27,
           28,
           48,
           73,
           111,
           159,
           219,
           282,
           381,
           425,
           481,
           621,
           728,
           926,
           1055,
           1164,
           1230,
           1412,
           1556,
           1748,
           2012,
           2030,
           2320,
           2449,
           2578,
           2710,
           2886,
           3068,
           3213,
           3341,
           3428,
           3555,
           3721,
           3875,
           4053,
           4199,
           4346,
           4499
          ],
          "sizemode": "area",
          "sizeref": 632.65,
          "symbol": "circle"
         },
         "mode": "lines+markers",
         "name": "Wisconsin",
         "showlegend": true,
         "type": "scattergl",
         "x": [
          0.7,
          0.8,
          1.3,
          2,
          3,
          4.3,
          5.9,
          7.6,
          10.3,
          11.5,
          12.9,
          16.7,
          19.5,
          24.5,
          27.8,
          30.7,
          32,
          36.2,
          39.1,
          43,
          48.5,
          47.3,
          52.5,
          54.8,
          56.7,
          56.5,
          58.4,
          58,
          58.4,
          58.9,
          59.5,
          58,
          58.6,
          57.5,
          55.2,
          58.7,
          54.8,
          55.5
         ],
         "xaxis": "x",
         "y": [
          100,
          100,
          100,
          100,
          100,
          100,
          100,
          100,
          100,
          100,
          99.4,
          99.4,
          98.9,
          97.9,
          97.4,
          97.6,
          96.1,
          94.8,
          92.9,
          90.9,
          89.1,
          86.1,
          83.6,
          82.6,
          81.3,
          77.1,
          74.8,
          69.8,
          67.2,
          65.2,
          64.1,
          60.3,
          58.2,
          54.9,
          50.4,
          51.7,
          46.6,
          45.6
         ],
         "yaxis": "y"
        },
        {
         "customdata": [
          [
           21,
           3,
           "3/20/20",
           "Wyoming"
          ],
          [
           23,
           2,
           "3/21/20",
           "Wyoming"
          ],
          [
           26,
           3,
           "3/22/20",
           "Wyoming"
          ],
          [
           26,
           0,
           "3/23/20",
           "Wyoming"
          ],
          [
           29,
           3,
           "3/24/20",
           "Wyoming"
          ],
          [
           44,
           15,
           "3/25/20",
           "Wyoming"
          ],
          [
           53,
           9,
           "3/26/20",
           "Wyoming"
          ],
          [
           70,
           17,
           "3/27/20",
           "Wyoming"
          ],
          [
           82,
           12,
           "3/28/20",
           "Wyoming"
          ],
          [
           86,
           4,
           "3/29/20",
           "Wyoming"
          ],
          [
           94,
           8,
           "3/30/20",
           "Wyoming"
          ],
          [
           109,
           15,
           "3/31/20",
           "Wyoming"
          ],
          [
           130,
           21,
           "4/1/20",
           "Wyoming"
          ],
          [
           150,
           20,
           "4/2/20",
           "Wyoming"
          ],
          [
           162,
           12,
           "4/3/20",
           "Wyoming"
          ],
          [
           187,
           25,
           "4/4/20",
           "Wyoming"
          ],
          [
           197,
           10,
           "4/5/20",
           "Wyoming"
          ],
          [
           210,
           13,
           "4/6/20",
           "Wyoming"
          ],
          [
           216,
           6,
           "4/7/20",
           "Wyoming"
          ],
          [
           221,
           5,
           "4/8/20",
           "Wyoming"
          ],
          [
           230,
           9,
           "4/9/20",
           "Wyoming"
          ],
          [
           239,
           9,
           "4/10/20",
           "Wyoming"
          ],
          [
           261,
           22,
           "4/11/20",
           "Wyoming"
          ],
          [
           270,
           9,
           "4/12/20",
           "Wyoming"
          ],
          [
           275,
           5,
           "4/13/20",
           "Wyoming"
          ],
          [
           282,
           7,
           "4/14/20",
           "Wyoming"
          ],
          [
           287,
           5,
           "4/15/20",
           "Wyoming"
          ],
          [
           296,
           9,
           "4/16/20",
           "Wyoming"
          ],
          [
           305,
           9,
           "4/17/20",
           "Wyoming"
          ],
          [
           309,
           4,
           "4/18/20",
           "Wyoming"
          ],
          [
           313,
           4,
           "4/19/20",
           "Wyoming"
          ],
          [
           317,
           4,
           "4/20/20",
           "Wyoming"
          ]
         ],
         "hoverlabel": {
          "namelength": 0
         },
         "hovertemplate": "State =%{customdata[3]}<br>Mean growth over 14d compared to max growth =%{x}<br>% cases from last 14d =%{y}<br>Confirmed Cases=%{customdata[0]}<br>Confirmed Cases today =%{customdata[1]}<br>Date=%{customdata[2]}",
         "legendgroup": "Wyoming",
         "marker": {
          "color": "#19d3f3",
          "size": [
           21,
           23,
           26,
           26,
           29,
           44,
           53,
           70,
           82,
           86,
           94,
           109,
           130,
           150,
           162,
           187,
           197,
           210,
           216,
           221,
           230,
           239,
           261,
           270,
           275,
           282,
           287,
           296,
           305,
           309,
           313,
           317
          ],
          "sizemode": "area",
          "sizeref": 632.65,
          "symbol": "circle"
         },
         "mode": "lines+markers",
         "name": "Wyoming",
         "showlegend": true,
         "type": "scattergl",
         "x": [
          6.8,
          7.5,
          8.4,
          8.4,
          9.4,
          14.3,
          16.9,
          22.4,
          26,
          27.3,
          29.9,
          31.8,
          37,
          42.9,
          45.8,
          53.2,
          55.5,
          59.7,
          60.7,
          57.5,
          57.5,
          54.9,
          58.1,
          59.7,
          58.8,
          56.2,
          51,
          47.4,
          46.4,
          39.6,
          37.7,
          34.7
         ],
         "xaxis": "x",
         "y": [
          100,
          100,
          100,
          100,
          100,
          100,
          98.1,
          98.6,
          97.6,
          97.7,
          97.9,
          89.9,
          87.7,
          88,
          87,
          87.7,
          86.8,
          87.6,
          86.6,
          80.1,
          77,
          70.7,
          68.6,
          68.1,
          65.8,
          61.3,
          54.7,
          49.3,
          46.9,
          39.5,
          37.1,
          33.8
         ],
         "yaxis": "y"
        }
       ],
       "layout": {
        "legend": {
         "itemsizing": "constant",
         "title": {
          "text": "State "
         },
         "tracegroupgap": 0
        },
        "template": {
         "data": {
          "bar": [
           {
            "error_x": {
             "color": "#2a3f5f"
            },
            "error_y": {
             "color": "#2a3f5f"
            },
            "marker": {
             "line": {
              "color": "#E5ECF6",
              "width": 0.5
             }
            },
            "type": "bar"
           }
          ],
          "barpolar": [
           {
            "marker": {
             "line": {
              "color": "#E5ECF6",
              "width": 0.5
             }
            },
            "type": "barpolar"
           }
          ],
          "carpet": [
           {
            "aaxis": {
             "endlinecolor": "#2a3f5f",
             "gridcolor": "white",
             "linecolor": "white",
             "minorgridcolor": "white",
             "startlinecolor": "#2a3f5f"
            },
            "baxis": {
             "endlinecolor": "#2a3f5f",
             "gridcolor": "white",
             "linecolor": "white",
             "minorgridcolor": "white",
             "startlinecolor": "#2a3f5f"
            },
            "type": "carpet"
           }
          ],
          "choropleth": [
           {
            "colorbar": {
             "outlinewidth": 0,
             "ticks": ""
            },
            "type": "choropleth"
           }
          ],
          "contour": [
           {
            "colorbar": {
             "outlinewidth": 0,
             "ticks": ""
            },
            "colorscale": [
             [
              0,
              "#0d0887"
             ],
             [
              0.1111111111111111,
              "#46039f"
             ],
             [
              0.2222222222222222,
              "#7201a8"
             ],
             [
              0.3333333333333333,
              "#9c179e"
             ],
             [
              0.4444444444444444,
              "#bd3786"
             ],
             [
              0.5555555555555556,
              "#d8576b"
             ],
             [
              0.6666666666666666,
              "#ed7953"
             ],
             [
              0.7777777777777778,
              "#fb9f3a"
             ],
             [
              0.8888888888888888,
              "#fdca26"
             ],
             [
              1,
              "#f0f921"
             ]
            ],
            "type": "contour"
           }
          ],
          "contourcarpet": [
           {
            "colorbar": {
             "outlinewidth": 0,
             "ticks": ""
            },
            "type": "contourcarpet"
           }
          ],
          "heatmap": [
           {
            "colorbar": {
             "outlinewidth": 0,
             "ticks": ""
            },
            "colorscale": [
             [
              0,
              "#0d0887"
             ],
             [
              0.1111111111111111,
              "#46039f"
             ],
             [
              0.2222222222222222,
              "#7201a8"
             ],
             [
              0.3333333333333333,
              "#9c179e"
             ],
             [
              0.4444444444444444,
              "#bd3786"
             ],
             [
              0.5555555555555556,
              "#d8576b"
             ],
             [
              0.6666666666666666,
              "#ed7953"
             ],
             [
              0.7777777777777778,
              "#fb9f3a"
             ],
             [
              0.8888888888888888,
              "#fdca26"
             ],
             [
              1,
              "#f0f921"
             ]
            ],
            "type": "heatmap"
           }
          ],
          "heatmapgl": [
           {
            "colorbar": {
             "outlinewidth": 0,
             "ticks": ""
            },
            "colorscale": [
             [
              0,
              "#0d0887"
             ],
             [
              0.1111111111111111,
              "#46039f"
             ],
             [
              0.2222222222222222,
              "#7201a8"
             ],
             [
              0.3333333333333333,
              "#9c179e"
             ],
             [
              0.4444444444444444,
              "#bd3786"
             ],
             [
              0.5555555555555556,
              "#d8576b"
             ],
             [
              0.6666666666666666,
              "#ed7953"
             ],
             [
              0.7777777777777778,
              "#fb9f3a"
             ],
             [
              0.8888888888888888,
              "#fdca26"
             ],
             [
              1,
              "#f0f921"
             ]
            ],
            "type": "heatmapgl"
           }
          ],
          "histogram": [
           {
            "marker": {
             "colorbar": {
              "outlinewidth": 0,
              "ticks": ""
             }
            },
            "type": "histogram"
           }
          ],
          "histogram2d": [
           {
            "colorbar": {
             "outlinewidth": 0,
             "ticks": ""
            },
            "colorscale": [
             [
              0,
              "#0d0887"
             ],
             [
              0.1111111111111111,
              "#46039f"
             ],
             [
              0.2222222222222222,
              "#7201a8"
             ],
             [
              0.3333333333333333,
              "#9c179e"
             ],
             [
              0.4444444444444444,
              "#bd3786"
             ],
             [
              0.5555555555555556,
              "#d8576b"
             ],
             [
              0.6666666666666666,
              "#ed7953"
             ],
             [
              0.7777777777777778,
              "#fb9f3a"
             ],
             [
              0.8888888888888888,
              "#fdca26"
             ],
             [
              1,
              "#f0f921"
             ]
            ],
            "type": "histogram2d"
           }
          ],
          "histogram2dcontour": [
           {
            "colorbar": {
             "outlinewidth": 0,
             "ticks": ""
            },
            "colorscale": [
             [
              0,
              "#0d0887"
             ],
             [
              0.1111111111111111,
              "#46039f"
             ],
             [
              0.2222222222222222,
              "#7201a8"
             ],
             [
              0.3333333333333333,
              "#9c179e"
             ],
             [
              0.4444444444444444,
              "#bd3786"
             ],
             [
              0.5555555555555556,
              "#d8576b"
             ],
             [
              0.6666666666666666,
              "#ed7953"
             ],
             [
              0.7777777777777778,
              "#fb9f3a"
             ],
             [
              0.8888888888888888,
              "#fdca26"
             ],
             [
              1,
              "#f0f921"
             ]
            ],
            "type": "histogram2dcontour"
           }
          ],
          "mesh3d": [
           {
            "colorbar": {
             "outlinewidth": 0,
             "ticks": ""
            },
            "type": "mesh3d"
           }
          ],
          "parcoords": [
           {
            "line": {
             "colorbar": {
              "outlinewidth": 0,
              "ticks": ""
             }
            },
            "type": "parcoords"
           }
          ],
          "pie": [
           {
            "automargin": true,
            "type": "pie"
           }
          ],
          "scatter": [
           {
            "marker": {
             "colorbar": {
              "outlinewidth": 0,
              "ticks": ""
             }
            },
            "type": "scatter"
           }
          ],
          "scatter3d": [
           {
            "line": {
             "colorbar": {
              "outlinewidth": 0,
              "ticks": ""
             }
            },
            "marker": {
             "colorbar": {
              "outlinewidth": 0,
              "ticks": ""
             }
            },
            "type": "scatter3d"
           }
          ],
          "scattercarpet": [
           {
            "marker": {
             "colorbar": {
              "outlinewidth": 0,
              "ticks": ""
             }
            },
            "type": "scattercarpet"
           }
          ],
          "scattergeo": [
           {
            "marker": {
             "colorbar": {
              "outlinewidth": 0,
              "ticks": ""
             }
            },
            "type": "scattergeo"
           }
          ],
          "scattergl": [
           {
            "marker": {
             "colorbar": {
              "outlinewidth": 0,
              "ticks": ""
             }
            },
            "type": "scattergl"
           }
          ],
          "scattermapbox": [
           {
            "marker": {
             "colorbar": {
              "outlinewidth": 0,
              "ticks": ""
             }
            },
            "type": "scattermapbox"
           }
          ],
          "scatterpolar": [
           {
            "marker": {
             "colorbar": {
              "outlinewidth": 0,
              "ticks": ""
             }
            },
            "type": "scatterpolar"
           }
          ],
          "scatterpolargl": [
           {
            "marker": {
             "colorbar": {
              "outlinewidth": 0,
              "ticks": ""
             }
            },
            "type": "scatterpolargl"
           }
          ],
          "scatterternary": [
           {
            "marker": {
             "colorbar": {
              "outlinewidth": 0,
              "ticks": ""
             }
            },
            "type": "scatterternary"
           }
          ],
          "surface": [
           {
            "colorbar": {
             "outlinewidth": 0,
             "ticks": ""
            },
            "colorscale": [
             [
              0,
              "#0d0887"
             ],
             [
              0.1111111111111111,
              "#46039f"
             ],
             [
              0.2222222222222222,
              "#7201a8"
             ],
             [
              0.3333333333333333,
              "#9c179e"
             ],
             [
              0.4444444444444444,
              "#bd3786"
             ],
             [
              0.5555555555555556,
              "#d8576b"
             ],
             [
              0.6666666666666666,
              "#ed7953"
             ],
             [
              0.7777777777777778,
              "#fb9f3a"
             ],
             [
              0.8888888888888888,
              "#fdca26"
             ],
             [
              1,
              "#f0f921"
             ]
            ],
            "type": "surface"
           }
          ],
          "table": [
           {
            "cells": {
             "fill": {
              "color": "#EBF0F8"
             },
             "line": {
              "color": "white"
             }
            },
            "header": {
             "fill": {
              "color": "#C8D4E3"
             },
             "line": {
              "color": "white"
             }
            },
            "type": "table"
           }
          ]
         },
         "layout": {
          "annotationdefaults": {
           "arrowcolor": "#2a3f5f",
           "arrowhead": 0,
           "arrowwidth": 1
          },
          "coloraxis": {
           "colorbar": {
            "outlinewidth": 0,
            "ticks": ""
           }
          },
          "colorscale": {
           "diverging": [
            [
             0,
             "#8e0152"
            ],
            [
             0.1,
             "#c51b7d"
            ],
            [
             0.2,
             "#de77ae"
            ],
            [
             0.3,
             "#f1b6da"
            ],
            [
             0.4,
             "#fde0ef"
            ],
            [
             0.5,
             "#f7f7f7"
            ],
            [
             0.6,
             "#e6f5d0"
            ],
            [
             0.7,
             "#b8e186"
            ],
            [
             0.8,
             "#7fbc41"
            ],
            [
             0.9,
             "#4d9221"
            ],
            [
             1,
             "#276419"
            ]
           ],
           "sequential": [
            [
             0,
             "#0d0887"
            ],
            [
             0.1111111111111111,
             "#46039f"
            ],
            [
             0.2222222222222222,
             "#7201a8"
            ],
            [
             0.3333333333333333,
             "#9c179e"
            ],
            [
             0.4444444444444444,
             "#bd3786"
            ],
            [
             0.5555555555555556,
             "#d8576b"
            ],
            [
             0.6666666666666666,
             "#ed7953"
            ],
            [
             0.7777777777777778,
             "#fb9f3a"
            ],
            [
             0.8888888888888888,
             "#fdca26"
            ],
            [
             1,
             "#f0f921"
            ]
           ],
           "sequentialminus": [
            [
             0,
             "#0d0887"
            ],
            [
             0.1111111111111111,
             "#46039f"
            ],
            [
             0.2222222222222222,
             "#7201a8"
            ],
            [
             0.3333333333333333,
             "#9c179e"
            ],
            [
             0.4444444444444444,
             "#bd3786"
            ],
            [
             0.5555555555555556,
             "#d8576b"
            ],
            [
             0.6666666666666666,
             "#ed7953"
            ],
            [
             0.7777777777777778,
             "#fb9f3a"
            ],
            [
             0.8888888888888888,
             "#fdca26"
            ],
            [
             1,
             "#f0f921"
            ]
           ]
          },
          "colorway": [
           "#636efa",
           "#EF553B",
           "#00cc96",
           "#ab63fa",
           "#FFA15A",
           "#19d3f3",
           "#FF6692",
           "#B6E880",
           "#FF97FF",
           "#FECB52"
          ],
          "font": {
           "color": "#2a3f5f"
          },
          "geo": {
           "bgcolor": "white",
           "lakecolor": "white",
           "landcolor": "#E5ECF6",
           "showlakes": true,
           "showland": true,
           "subunitcolor": "white"
          },
          "hoverlabel": {
           "align": "left"
          },
          "hovermode": "closest",
          "mapbox": {
           "style": "light"
          },
          "paper_bgcolor": "white",
          "plot_bgcolor": "#E5ECF6",
          "polar": {
           "angularaxis": {
            "gridcolor": "white",
            "linecolor": "white",
            "ticks": ""
           },
           "bgcolor": "#E5ECF6",
           "radialaxis": {
            "gridcolor": "white",
            "linecolor": "white",
            "ticks": ""
           }
          },
          "scene": {
           "xaxis": {
            "backgroundcolor": "#E5ECF6",
            "gridcolor": "white",
            "gridwidth": 2,
            "linecolor": "white",
            "showbackground": true,
            "ticks": "",
            "zerolinecolor": "white"
           },
           "yaxis": {
            "backgroundcolor": "#E5ECF6",
            "gridcolor": "white",
            "gridwidth": 2,
            "linecolor": "white",
            "showbackground": true,
            "ticks": "",
            "zerolinecolor": "white"
           },
           "zaxis": {
            "backgroundcolor": "#E5ECF6",
            "gridcolor": "white",
            "gridwidth": 2,
            "linecolor": "white",
            "showbackground": true,
            "ticks": "",
            "zerolinecolor": "white"
           }
          },
          "shapedefaults": {
           "line": {
            "color": "#2a3f5f"
           }
          },
          "ternary": {
           "aaxis": {
            "gridcolor": "white",
            "linecolor": "white",
            "ticks": ""
           },
           "baxis": {
            "gridcolor": "white",
            "linecolor": "white",
            "ticks": ""
           },
           "bgcolor": "#E5ECF6",
           "caxis": {
            "gridcolor": "white",
            "linecolor": "white",
            "ticks": ""
           }
          },
          "title": {
           "x": 0.05
          },
          "xaxis": {
           "automargin": true,
           "gridcolor": "white",
           "linecolor": "white",
           "ticks": "",
           "title": {
            "standoff": 15
           },
           "zerolinecolor": "white",
           "zerolinewidth": 2
          },
          "yaxis": {
           "automargin": true,
           "gridcolor": "white",
           "linecolor": "white",
           "ticks": "",
           "title": {
            "standoff": 15
           },
           "zerolinecolor": "white",
           "zerolinewidth": 2
          }
         }
        },
        "title": {
         "text": "Confirmed Cases - US"
        },
        "xaxis": {
         "anchor": "y",
         "domain": [
          0,
          1
         ],
         "rangemode": "tozero",
         "title": {
          "text": "Mean Daily Growth over 14 previous days compared to Max Daily Growth (%)"
         }
        },
        "yaxis": {
         "anchor": "x",
         "domain": [
          0,
          1
         ],
         "rangemode": "tozero",
         "title": {
          "text": "Percentage of Total occuring in the last 14 days (%)"
         }
        }
       }
      },
      "text/html": [
       "<div>\n",
       "        \n",
       "        \n",
       "            <div id=\"8ed2adf4-8988-4010-aa50-616ee5276338\" class=\"plotly-graph-div\" style=\"height:525px; width:100%;\"></div>\n",
       "            <script type=\"text/javascript\">\n",
       "                require([\"plotly\"], function(Plotly) {\n",
       "                    window.PLOTLYENV=window.PLOTLYENV || {};\n",
       "                    \n",
       "                if (document.getElementById(\"8ed2adf4-8988-4010-aa50-616ee5276338\")) {\n",
       "                    Plotly.newPlot(\n",
       "                        '8ed2adf4-8988-4010-aa50-616ee5276338',\n",
       "                        [{\"customdata\": [[29.0, 18.0, \"3/16/20\", \"Alabama\"], [39.0, 10.0, \"3/17/20\", \"Alabama\"], [51.0, 12.0, \"3/18/20\", \"Alabama\"], [78.0, 27.0, \"3/19/20\", \"Alabama\"], [106.0, 28.0, \"3/20/20\", \"Alabama\"], [131.0, 25.0, \"3/21/20\", \"Alabama\"], [157.0, 26.0, \"3/22/20\", \"Alabama\"], [196.0, 39.0, \"3/23/20\", \"Alabama\"], [242.0, 46.0, \"3/24/20\", \"Alabama\"], [381.0, 139.0, \"3/25/20\", \"Alabama\"], [517.0, 136.0, \"3/26/20\", \"Alabama\"], [587.0, 70.0, \"3/27/20\", \"Alabama\"], [694.0, 107.0, \"3/28/20\", \"Alabama\"], [825.0, 131.0, \"3/29/20\", \"Alabama\"], [899.0, 74.0, \"3/30/20\", \"Alabama\"], [987.0, 88.0, \"3/31/20\", \"Alabama\"], [1060.0, 73.0, \"4/1/20\", \"Alabama\"], [1233.0, 173.0, \"4/2/20\", \"Alabama\"], [1495.0, 262.0, \"4/3/20\", \"Alabama\"], [1614.0, 119.0, \"4/4/20\", \"Alabama\"], [1765.0, 151.0, \"4/5/20\", \"Alabama\"], [1952.0, 187.0, \"4/6/20\", \"Alabama\"], [2169.0, 217.0, \"4/7/20\", \"Alabama\"], [2328.0, 159.0, \"4/8/20\", \"Alabama\"], [2703.0, 375.0, \"4/9/20\", \"Alabama\"], [2947.0, 244.0, \"4/10/20\", \"Alabama\"], [3217.0, 270.0, \"4/11/20\", \"Alabama\"], [3563.0, 346.0, \"4/12/20\", \"Alabama\"], [3734.0, 171.0, \"4/13/20\", \"Alabama\"], [3953.0, 219.0, \"4/14/20\", \"Alabama\"], [4075.0, 122.0, \"4/15/20\", \"Alabama\"], [4345.0, 270.0, \"4/16/20\", \"Alabama\"], [4571.0, 226.0, \"4/17/20\", \"Alabama\"], [4712.0, 141.0, \"4/18/20\", \"Alabama\"], [4888.0, 176.0, \"4/19/20\", \"Alabama\"], [5079.0, 191.0, \"4/20/20\", \"Alabama\"]], \"hoverlabel\": {\"namelength\": 0}, \"hovertemplate\": \"State =%{customdata[3]}<br>Mean growth over 14d compared to max growth =%{x}<br>% cases from last 14d =%{y}<br>Confirmed Cases=%{customdata[0]}<br>Confirmed Cases today =%{customdata[1]}<br>Date=%{customdata[2]}\", \"legendgroup\": \"Alabama\", \"marker\": {\"color\": \"#636efa\", \"size\": [29.0, 39.0, 51.0, 78.0, 106.0, 131.0, 157.0, 196.0, 242.0, 381.0, 517.0, 587.0, 694.0, 825.0, 899.0, 987.0, 1060.0, 1233.0, 1495.0, 1614.0, 1765.0, 1952.0, 2169.0, 2328.0, 2703.0, 2947.0, 3217.0, 3563.0, 3734.0, 3953.0, 4075.0, 4345.0, 4571.0, 4712.0, 4888.0, 5079.0], \"sizemode\": \"area\", \"sizeref\": 632.65, \"symbol\": \"circle\"}, \"mode\": \"lines+markers\", \"name\": \"Alabama\", \"showlegend\": true, \"type\": \"scattergl\", \"x\": [0.6, 0.8, 1.1, 1.6, 2.2, 2.7, 3.2, 4.0, 5.0, 7.9, 10.7, 12.0, 14.2, 16.8, 18.0, 19.6, 20.8, 23.8, 28.7, 30.6, 33.2, 36.3, 39.8, 40.2, 45.1, 48.7, 52.1, 56.5, 58.5, 61.2, 62.2, 64.2, 63.5, 64.0, 64.5, 64.6], \"xaxis\": \"x\", \"y\": [100.0, 100.0, 100.0, 100.0, 100.0, 100.0, 100.0, 100.0, 100.0, 100.0, 100.0, 99.1, 99.0, 98.7, 96.8, 96.0, 95.2, 93.7, 92.9, 91.9, 91.1, 90.0, 88.8, 83.6, 80.9, 80.1, 78.4, 76.8, 75.9, 75.0, 74.0, 71.6, 67.3, 65.7, 63.9, 61.6], \"yaxis\": \"y\"}, {\"customdata\": [[30.0, 12.0, \"3/23/20\", \"Alaska\"], [34.0, 4.0, \"3/24/20\", \"Alaska\"], [41.0, 7.0, \"3/25/20\", \"Alaska\"], [56.0, 15.0, \"3/26/20\", \"Alaska\"], [58.0, 2.0, \"3/27/20\", \"Alaska\"], [85.0, 27.0, \"3/28/20\", \"Alaska\"], [102.0, 17.0, \"3/29/20\", \"Alaska\"], [114.0, 12.0, \"3/30/20\", \"Alaska\"], [119.0, 5.0, \"3/31/20\", \"Alaska\"], [132.0, 13.0, \"4/1/20\", \"Alaska\"], [143.0, 11.0, \"4/2/20\", \"Alaska\"], [157.0, 14.0, \"4/3/20\", \"Alaska\"], [171.0, 14.0, \"4/4/20\", \"Alaska\"], [185.0, 14.0, \"4/5/20\", \"Alaska\"], [190.0, 5.0, \"4/6/20\", \"Alaska\"], [213.0, 23.0, \"4/7/20\", \"Alaska\"], [226.0, 13.0, \"4/8/20\", \"Alaska\"], [235.0, 9.0, \"4/9/20\", \"Alaska\"], [246.0, 11.0, \"4/10/20\", \"Alaska\"], [257.0, 11.0, \"4/11/20\", \"Alaska\"], [272.0, 15.0, \"4/12/20\", \"Alaska\"], [277.0, 5.0, \"4/13/20\", \"Alaska\"], [285.0, 8.0, \"4/14/20\", \"Alaska\"], [293.0, 8.0, \"4/15/20\", \"Alaska\"], [300.0, 7.0, \"4/16/20\", \"Alaska\"], [309.0, 9.0, \"4/17/20\", \"Alaska\"], [314.0, 5.0, \"4/18/20\", \"Alaska\"], [319.0, 5.0, \"4/19/20\", \"Alaska\"], [321.0, 2.0, \"4/20/20\", \"Alaska\"]], \"hoverlabel\": {\"namelength\": 0}, \"hovertemplate\": \"State =%{customdata[3]}<br>Mean growth over 14d compared to max growth =%{x}<br>% cases from last 14d =%{y}<br>Confirmed Cases=%{customdata[0]}<br>Confirmed Cases today =%{customdata[1]}<br>Date=%{customdata[2]}\", \"legendgroup\": \"Alaska\", \"marker\": {\"color\": \"#EF553B\", \"size\": [30.0, 34.0, 41.0, 56.0, 58.0, 85.0, 102.0, 114.0, 119.0, 132.0, 143.0, 157.0, 171.0, 185.0, 190.0, 213.0, 226.0, 235.0, 246.0, 257.0, 272.0, 277.0, 285.0, 293.0, 300.0, 309.0, 314.0, 319.0, 321.0], \"sizemode\": \"area\", \"sizeref\": 632.65, \"symbol\": \"circle\"}, \"mode\": \"lines+markers\", \"name\": \"Alaska\", \"showlegend\": true, \"type\": \"scattergl\", \"x\": [9.3, 10.6, 12.7, 17.4, 17.7, 26.1, 31.4, 35.1, 36.0, 39.4, 41.9, 45.3, 49.1, 51.9, 49.7, 55.6, 57.5, 55.6, 58.4, 53.4, 52.8, 50.6, 51.6, 50.0, 48.8, 47.2, 44.4, 41.6, 40.7], \"xaxis\": \"x\", \"y\": [100.0, 100.0, 100.0, 100.0, 98.3, 98.8, 99.0, 99.1, 97.5, 96.2, 94.4, 93.0, 92.4, 90.3, 84.2, 84.0, 81.9, 76.2, 76.4, 66.9, 62.5, 58.8, 58.2, 54.9, 52.3, 49.2, 45.5, 42.0, 40.8], \"yaxis\": \"y\"}, {\"customdata\": [[20.0, 2.0, \"3/17/20\", \"Arizona\"], [27.0, 7.0, \"3/18/20\", \"Arizona\"], [45.0, 18.0, \"3/19/20\", \"Arizona\"], [68.0, 23.0, \"3/20/20\", \"Arizona\"], [104.0, 36.0, \"3/21/20\", \"Arizona\"], [152.0, 48.0, \"3/22/20\", \"Arizona\"], [235.0, 83.0, \"3/23/20\", \"Arizona\"], [326.0, 91.0, \"3/24/20\", \"Arizona\"], [401.0, 75.0, \"3/25/20\", \"Arizona\"], [508.0, 107.0, \"3/26/20\", \"Arizona\"], [665.0, 157.0, \"3/27/20\", \"Arizona\"], [773.0, 108.0, \"3/28/20\", \"Arizona\"], [919.0, 146.0, \"3/29/20\", \"Arizona\"], [1157.0, 238.0, \"3/30/20\", \"Arizona\"], [1289.0, 132.0, \"3/31/20\", \"Arizona\"], [1530.0, 241.0, \"4/1/20\", \"Arizona\"], [1715.0, 185.0, \"4/2/20\", \"Arizona\"], [1937.0, 222.0, \"4/3/20\", \"Arizona\"], [2187.0, 250.0, \"4/4/20\", \"Arizona\"], [2486.0, 299.0, \"4/5/20\", \"Arizona\"], [2732.0, 246.0, \"4/6/20\", \"Arizona\"], [2870.0, 138.0, \"4/7/20\", \"Arizona\"], [3036.0, 166.0, \"4/8/20\", \"Arizona\"], [3018.0, -18.0, \"4/9/20\", \"Arizona\"], [3112.0, 94.0, \"4/10/20\", \"Arizona\"], [3393.0, 281.0, \"4/11/20\", \"Arizona\"], [3542.0, 149.0, \"4/12/20\", \"Arizona\"], [3705.0, 163.0, \"4/13/20\", \"Arizona\"], [3809.0, 104.0, \"4/14/20\", \"Arizona\"], [3964.0, 155.0, \"4/15/20\", \"Arizona\"], [4237.0, 273.0, \"4/16/20\", \"Arizona\"], [4511.0, 274.0, \"4/17/20\", \"Arizona\"], [4724.0, 213.0, \"4/18/20\", \"Arizona\"], [4933.0, 209.0, \"4/19/20\", \"Arizona\"], [5068.0, 135.0, \"4/20/20\", \"Arizona\"]], \"hoverlabel\": {\"namelength\": 0}, \"hovertemplate\": \"State =%{customdata[3]}<br>Mean growth over 14d compared to max growth =%{x}<br>% cases from last 14d =%{y}<br>Confirmed Cases=%{customdata[0]}<br>Confirmed Cases today =%{customdata[1]}<br>Date=%{customdata[2]}\", \"legendgroup\": \"Arizona\", \"marker\": {\"color\": \"#00cc96\", \"size\": [20.0, 27.0, 45.0, 68.0, 104.0, 152.0, 235.0, 326.0, 401.0, 508.0, 665.0, 773.0, 919.0, 1157.0, 1289.0, 1530.0, 1715.0, 1937.0, 2187.0, 2486.0, 2732.0, 2870.0, 3036.0, 3018.0, 3112.0, 3393.0, 3542.0, 3705.0, 3809.0, 3964.0, 4237.0, 4511.0, 4724.0, 4933.0, 5068.0], \"sizemode\": \"area\", \"sizeref\": 632.65, \"symbol\": \"circle\"}, \"mode\": \"lines+markers\", \"name\": \"Arizona\", \"showlegend\": true, \"type\": \"scattergl\", \"x\": [0.5, 0.7, 1.1, 1.7, 2.5, 3.8, 5.9, 8.1, 10.0, 12.7, 16.7, 19.3, 23.1, 29.0, 32.3, 38.2, 42.5, 47.5, 52.9, 59.3, 63.5, 64.7, 67.0, 63.8, 62.2, 66.6, 66.7, 64.8, 64.1, 61.9, 64.1, 65.4, 64.5, 62.2, 59.4], \"xaxis\": \"x\", \"y\": [95.0, 96.3, 97.8, 97.1, 96.2, 97.4, 98.3, 98.2, 97.8, 98.2, 98.6, 98.4, 98.7, 98.4, 98.4, 98.2, 97.4, 96.5, 95.2, 93.9, 91.4, 88.6, 86.8, 83.2, 78.6, 77.2, 74.1, 68.8, 66.2, 61.4, 59.5, 57.1, 53.7, 49.6, 46.1], \"yaxis\": \"y\"}, {\"customdata\": [[62.0, 58.0, \"3/19/20\", \"Arkansas\"], [100.0, 38.0, \"3/20/20\", \"Arkansas\"], [122.0, 22.0, \"3/21/20\", \"Arkansas\"], [165.0, 43.0, \"3/22/20\", \"Arkansas\"], [192.0, 27.0, \"3/23/20\", \"Arkansas\"], [219.0, 27.0, \"3/24/20\", \"Arkansas\"], [280.0, 61.0, \"3/25/20\", \"Arkansas\"], [335.0, 55.0, \"3/26/20\", \"Arkansas\"], [381.0, 46.0, \"3/27/20\", \"Arkansas\"], [409.0, 28.0, \"3/28/20\", \"Arkansas\"], [426.0, 17.0, \"3/29/20\", \"Arkansas\"], [473.0, 47.0, \"3/30/20\", \"Arkansas\"], [523.0, 50.0, \"3/31/20\", \"Arkansas\"], [584.0, 61.0, \"4/1/20\", \"Arkansas\"], [643.0, 59.0, \"4/2/20\", \"Arkansas\"], [704.0, 61.0, \"4/3/20\", \"Arkansas\"], [743.0, 39.0, \"4/4/20\", \"Arkansas\"], [837.0, 94.0, \"4/5/20\", \"Arkansas\"], [875.0, 38.0, \"4/6/20\", \"Arkansas\"], [946.0, 71.0, \"4/7/20\", \"Arkansas\"], [1000.0, 54.0, \"4/8/20\", \"Arkansas\"], [1119.0, 119.0, \"4/9/20\", \"Arkansas\"], [1171.0, 52.0, \"4/10/20\", \"Arkansas\"], [1228.0, 57.0, \"4/11/20\", \"Arkansas\"], [1280.0, 52.0, \"4/12/20\", \"Arkansas\"], [1410.0, 130.0, \"4/13/20\", \"Arkansas\"], [1498.0, 88.0, \"4/14/20\", \"Arkansas\"], [1569.0, 71.0, \"4/15/20\", \"Arkansas\"], [1620.0, 51.0, \"4/16/20\", \"Arkansas\"], [1695.0, 75.0, \"4/17/20\", \"Arkansas\"], [1744.0, 49.0, \"4/18/20\", \"Arkansas\"], [1781.0, 37.0, \"4/19/20\", \"Arkansas\"], [1973.0, 192.0, \"4/20/20\", \"Arkansas\"]], \"hoverlabel\": {\"namelength\": 0}, \"hovertemplate\": \"State =%{customdata[3]}<br>Mean growth over 14d compared to max growth =%{x}<br>% cases from last 14d =%{y}<br>Confirmed Cases=%{customdata[0]}<br>Confirmed Cases today =%{customdata[1]}<br>Date=%{customdata[2]}\", \"legendgroup\": \"Arkansas\", \"marker\": {\"color\": \"#ab63fa\", \"size\": [62.0, 100.0, 122.0, 165.0, 192.0, 219.0, 280.0, 335.0, 381.0, 409.0, 426.0, 473.0, 523.0, 584.0, 643.0, 704.0, 743.0, 837.0, 875.0, 946.0, 1000.0, 1119.0, 1171.0, 1228.0, 1280.0, 1410.0, 1498.0, 1569.0, 1620.0, 1695.0, 1744.0, 1781.0, 1973.0], \"sizemode\": \"area\", \"sizeref\": 632.65, \"symbol\": \"circle\"}, \"mode\": \"lines+markers\", \"name\": \"Arkansas\", \"showlegend\": true, \"type\": \"scattergl\", \"x\": [3.4, 5.5, 6.7, 9.1, 10.5, 12.0, 15.4, 18.4, 20.4, 21.8, 23.2, 25.8, 28.6, 31.9, 31.9, 33.2, 34.1, 36.9, 37.5, 39.9, 39.6, 43.1, 43.4, 45.0, 46.9, 51.5, 53.6, 54.1, 53.7, 54.5, 55.0, 51.9, 60.3], \"xaxis\": \"x\", \"y\": [100.0, 100.0, 100.0, 100.0, 100.0, 100.0, 100.0, 100.0, 97.6, 97.1, 99.3, 99.4, 99.4, 99.3, 90.4, 85.8, 83.6, 80.3, 78.1, 76.8, 72.0, 70.1, 67.5, 66.7, 66.7, 66.5, 65.1, 62.8, 60.3, 58.5, 57.4, 53.0, 55.7], \"yaxis\": \"y\"}, {\"customdata\": [[21.0, 9.0, \"3/2/20\", \"California\"], [25.0, 4.0, \"3/3/20\", \"California\"], [35.0, 10.0, \"3/4/20\", \"California\"], [51.0, 16.0, \"3/5/20\", \"California\"], [59.0, 8.0, \"3/6/20\", \"California\"], [81.0, 22.0, \"3/7/20\", \"California\"], [95.0, 14.0, \"3/8/20\", \"California\"], [101.0, 6.0, \"3/9/20\", \"California\"], [144.0, 43.0, \"3/10/20\", \"California\"], [178.0, 34.0, \"3/11/20\", \"California\"], [221.0, 43.0, \"3/12/20\", \"California\"], [281.0, 60.0, \"3/13/20\", \"California\"], [372.0, 91.0, \"3/14/20\", \"California\"], [373.0, 1.0, \"3/15/20\", \"California\"], [557.0, 184.0, \"3/16/20\", \"California\"], [700.0, 143.0, \"3/17/20\", \"California\"], [828.0, 128.0, \"3/18/20\", \"California\"], [1005.0, 177.0, \"3/19/20\", \"California\"], [1243.0, 238.0, \"3/20/20\", \"California\"], [1405.0, 162.0, \"3/21/20\", \"California\"], [1646.0, 241.0, \"3/22/20\", \"California\"], [2108.0, 462.0, \"3/23/20\", \"California\"], [2538.0, 430.0, \"3/24/20\", \"California\"], [2998.0, 460.0, \"3/25/20\", \"California\"], [3899.0, 901.0, \"3/26/20\", \"California\"], [4657.0, 758.0, \"3/27/20\", \"California\"], [5095.0, 438.0, \"3/28/20\", \"California\"], [5852.0, 757.0, \"3/29/20\", \"California\"], [7138.0, 1286.0, \"3/30/20\", \"California\"], [8210.0, 1072.0, \"3/31/20\", \"California\"], [9399.0, 1189.0, \"4/1/20\", \"California\"], [10773.0, 1374.0, \"4/2/20\", \"California\"], [12004.0, 1231.0, \"4/3/20\", \"California\"], [12837.0, 833.0, \"4/4/20\", \"California\"], [15034.0, 2197.0, \"4/5/20\", \"California\"], [16019.0, 985.0, \"4/6/20\", \"California\"], [17351.0, 1332.0, \"4/7/20\", \"California\"], [18897.0, 1546.0, \"4/8/20\", \"California\"], [19710.0, 813.0, \"4/9/20\", \"California\"], [21081.0, 1371.0, \"4/10/20\", \"California\"], [21706.0, 625.0, \"4/11/20\", \"California\"], [22795.0, 1089.0, \"4/12/20\", \"California\"], [23931.0, 1136.0, \"4/13/20\", \"California\"], [25356.0, 1425.0, \"4/14/20\", \"California\"], [26686.0, 1330.0, \"4/15/20\", \"California\"], [27677.0, 991.0, \"4/16/20\", \"California\"], [29157.0, 1480.0, \"4/17/20\", \"California\"], [30491.0, 1334.0, \"4/18/20\", \"California\"], [31431.0, 940.0, \"4/19/20\", \"California\"], [33686.0, 2255.0, \"4/20/20\", \"California\"]], \"hoverlabel\": {\"namelength\": 0}, \"hovertemplate\": \"State =%{customdata[3]}<br>Mean growth over 14d compared to max growth =%{x}<br>% cases from last 14d =%{y}<br>Confirmed Cases=%{customdata[0]}<br>Confirmed Cases today =%{customdata[1]}<br>Date=%{customdata[2]}\", \"legendgroup\": \"California\", \"marker\": {\"color\": \"#FFA15A\", \"size\": [21.0, 25.0, 35.0, 51.0, 59.0, 81.0, 95.0, 101.0, 144.0, 178.0, 221.0, 281.0, 372.0, 373.0, 557.0, 700.0, 828.0, 1005.0, 1243.0, 1405.0, 1646.0, 2108.0, 2538.0, 2998.0, 3899.0, 4657.0, 5095.0, 5852.0, 7138.0, 8210.0, 9399.0, 10773.0, 12004.0, 12837.0, 15034.0, 16019.0, 17351.0, 18897.0, 19710.0, 21081.0, 21706.0, 22795.0, 23931.0, 25356.0, 26686.0, 27677.0, 29157.0, 30491.0, 31431.0, 33686.0], \"sizemode\": \"area\", \"sizeref\": 632.65, \"symbol\": \"circle\"}, \"mode\": \"lines+markers\", \"name\": \"California\", \"showlegend\": true, \"type\": \"scattergl\", \"x\": [0.0, 0.1, 0.1, 0.1, 0.2, 0.2, 0.3, 0.3, 0.4, 0.5, 0.7, 0.9, 1.2, 1.2, 1.7, 2.2, 2.6, 3.1, 3.8, 4.3, 5.0, 6.5, 7.8, 9.2, 12.0, 14.2, 15.4, 17.8, 21.4, 24.4, 27.9, 31.8, 35.0, 37.2, 43.5, 45.2, 48.2, 51.7, 51.4, 53.4, 54.0, 55.1, 54.6, 55.7, 56.2, 55.0, 55.8, 57.4, 53.3, 57.4], \"xaxis\": \"x\", \"y\": [61.9, 68.0, 77.1, 84.3, 83.1, 87.7, 89.5, 90.1, 93.1, 94.4, 95.0, 96.1, 96.8, 96.8, 96.2, 96.4, 95.8, 94.9, 95.3, 94.2, 94.2, 95.2, 94.3, 94.1, 94.3, 94.0, 92.7, 93.6, 92.2, 91.5, 91.2, 90.7, 89.6, 89.1, 89.1, 86.8, 85.4, 84.1, 80.2, 77.9, 76.5, 74.3, 70.2, 67.6, 64.8, 61.1, 58.8, 57.9, 52.2, 52.4], \"yaxis\": \"y\"}, {\"customdata\": [[30.0, 16.0, \"3/11/20\", \"Colorado\"], [45.0, 15.0, \"3/12/20\", \"Colorado\"], [76.0, 31.0, \"3/13/20\", \"Colorado\"], [101.0, 25.0, \"3/14/20\", \"Colorado\"], [99.0, -2.0, \"3/15/20\", \"Colorado\"], [132.0, 33.0, \"3/16/20\", \"Colorado\"], [167.0, 35.0, \"3/17/20\", \"Colorado\"], [218.0, 51.0, \"3/18/20\", \"Colorado\"], [277.0, 59.0, \"3/19/20\", \"Colorado\"], [363.0, 86.0, \"3/20/20\", \"Colorado\"], [475.0, 112.0, \"3/21/20\", \"Colorado\"], [591.0, 116.0, \"3/22/20\", \"Colorado\"], [704.0, 113.0, \"3/23/20\", \"Colorado\"], [723.0, 19.0, \"3/24/20\", \"Colorado\"], [1021.0, 298.0, \"3/25/20\", \"Colorado\"], [1430.0, 409.0, \"3/26/20\", \"Colorado\"], [1433.0, 3.0, \"3/27/20\", \"Colorado\"], [1740.0, 307.0, \"3/28/20\", \"Colorado\"], [2307.0, 567.0, \"3/29/20\", \"Colorado\"], [2311.0, 4.0, \"3/30/20\", \"Colorado\"], [2966.0, 655.0, \"3/31/20\", \"Colorado\"], [2982.0, 16.0, \"4/1/20\", \"Colorado\"], [3342.0, 360.0, \"4/2/20\", \"Colorado\"], [3742.0, 400.0, \"4/3/20\", \"Colorado\"], [4188.0, 446.0, \"4/4/20\", \"Colorado\"], [4950.0, 762.0, \"4/5/20\", \"Colorado\"], [5183.0, 233.0, \"4/6/20\", \"Colorado\"], [5429.0, 246.0, \"4/7/20\", \"Colorado\"], [5655.0, 226.0, \"4/8/20\", \"Colorado\"], [5655.0, 0.0, \"4/9/20\", \"Colorado\"], [6202.0, 547.0, \"4/10/20\", \"Colorado\"], [6513.0, 311.0, \"4/11/20\", \"Colorado\"], [7307.0, 794.0, \"4/12/20\", \"Colorado\"], [7691.0, 384.0, \"4/13/20\", \"Colorado\"], [7950.0, 259.0, \"4/14/20\", \"Colorado\"], [7956.0, 6.0, \"4/15/20\", \"Colorado\"], [8286.0, 330.0, \"4/16/20\", \"Colorado\"], [8691.0, 405.0, \"4/17/20\", \"Colorado\"], [9047.0, 356.0, \"4/18/20\", \"Colorado\"], [9730.0, 683.0, \"4/19/20\", \"Colorado\"], [9730.0, 0.0, \"4/20/20\", \"Colorado\"]], \"hoverlabel\": {\"namelength\": 0}, \"hovertemplate\": \"State =%{customdata[3]}<br>Mean growth over 14d compared to max growth =%{x}<br>% cases from last 14d =%{y}<br>Confirmed Cases=%{customdata[0]}<br>Confirmed Cases today =%{customdata[1]}<br>Date=%{customdata[2]}\", \"legendgroup\": \"Colorado\", \"marker\": {\"color\": \"#19d3f3\", \"size\": [30.0, 45.0, 76.0, 101.0, 99.0, 132.0, 167.0, 218.0, 277.0, 363.0, 475.0, 591.0, 704.0, 723.0, 1021.0, 1430.0, 1433.0, 1740.0, 2307.0, 2311.0, 2966.0, 2982.0, 3342.0, 3742.0, 4188.0, 4950.0, 5183.0, 5429.0, 5655.0, 5655.0, 6202.0, 6513.0, 7307.0, 7691.0, 7950.0, 7956.0, 8286.0, 8691.0, 9047.0, 9730.0, 9730.0], \"sizemode\": \"area\", \"sizeref\": 632.65, \"symbol\": \"circle\"}, \"mode\": \"lines+markers\", \"name\": \"Colorado\", \"showlegend\": true, \"type\": \"scattergl\", \"x\": [0.3, 0.4, 0.7, 0.9, 0.9, 1.2, 1.6, 2.0, 2.6, 3.4, 4.4, 5.5, 6.5, 6.6, 9.3, 13.0, 12.7, 15.4, 20.7, 20.4, 26.2, 25.9, 28.7, 31.7, 34.8, 40.9, 42.0, 44.1, 43.4, 39.6, 44.7, 44.7, 46.9, 50.4, 46.7, 46.6, 46.3, 46.4, 45.5, 44.8, 42.6], \"xaxis\": \"x\", \"y\": [100.0, 100.0, 100.0, 100.0, 100.0, 100.0, 100.0, 100.0, 100.0, 99.2, 98.5, 98.8, 99.0, 98.1, 97.1, 96.9, 94.7, 94.2, 95.7, 94.3, 94.4, 92.7, 91.7, 90.3, 88.7, 88.1, 86.4, 86.7, 81.9, 74.7, 76.9, 73.3, 68.4, 70.0, 62.7, 62.5, 59.7, 56.9, 53.7, 49.1, 46.7], \"yaxis\": \"y\"}, {\"customdata\": [[23.0, 12.0, \"3/14/20\", \"Connecticut\"], [24.0, 1.0, \"3/15/20\", \"Connecticut\"], [41.0, 17.0, \"3/16/20\", \"Connecticut\"], [68.0, 27.0, \"3/17/20\", \"Connecticut\"], [96.0, 28.0, \"3/18/20\", \"Connecticut\"], [159.0, 63.0, \"3/19/20\", \"Connecticut\"], [194.0, 35.0, \"3/20/20\", \"Connecticut\"], [194.0, 0.0, \"3/21/20\", \"Connecticut\"], [327.0, 133.0, \"3/22/20\", \"Connecticut\"], [415.0, 88.0, \"3/23/20\", \"Connecticut\"], [618.0, 203.0, \"3/24/20\", \"Connecticut\"], [875.0, 257.0, \"3/25/20\", \"Connecticut\"], [1012.0, 137.0, \"3/26/20\", \"Connecticut\"], [1291.0, 279.0, \"3/27/20\", \"Connecticut\"], [1524.0, 233.0, \"3/28/20\", \"Connecticut\"], [1993.0, 469.0, \"3/29/20\", \"Connecticut\"], [2571.0, 578.0, \"3/30/20\", \"Connecticut\"], [3128.0, 557.0, \"3/31/20\", \"Connecticut\"], [3557.0, 429.0, \"4/1/20\", \"Connecticut\"], [3824.0, 267.0, \"4/2/20\", \"Connecticut\"], [4914.0, 1090.0, \"4/3/20\", \"Connecticut\"], [5276.0, 362.0, \"4/4/20\", \"Connecticut\"], [5675.0, 399.0, \"4/5/20\", \"Connecticut\"], [6906.0, 1231.0, \"4/6/20\", \"Connecticut\"], [7781.0, 875.0, \"4/7/20\", \"Connecticut\"], [7781.0, 0.0, \"4/8/20\", \"Connecticut\"], [9784.0, 2003.0, \"4/9/20\", \"Connecticut\"], [10538.0, 754.0, \"4/10/20\", \"Connecticut\"], [11510.0, 972.0, \"4/11/20\", \"Connecticut\"], [12035.0, 525.0, \"4/12/20\", \"Connecticut\"], [13381.0, 1346.0, \"4/13/20\", \"Connecticut\"], [13989.0, 608.0, \"4/14/20\", \"Connecticut\"], [14755.0, 766.0, \"4/15/20\", \"Connecticut\"], [15884.0, 1129.0, \"4/16/20\", \"Connecticut\"], [16809.0, 925.0, \"4/17/20\", \"Connecticut\"], [17550.0, 741.0, \"4/18/20\", \"Connecticut\"], [17962.0, 412.0, \"4/19/20\", \"Connecticut\"], [19815.0, 1853.0, \"4/20/20\", \"Connecticut\"]], \"hoverlabel\": {\"namelength\": 0}, \"hovertemplate\": \"State =%{customdata[3]}<br>Mean growth over 14d compared to max growth =%{x}<br>% cases from last 14d =%{y}<br>Confirmed Cases=%{customdata[0]}<br>Confirmed Cases today =%{customdata[1]}<br>Date=%{customdata[2]}\", \"legendgroup\": \"Connecticut\", \"marker\": {\"color\": \"#FF6692\", \"size\": [23.0, 24.0, 41.0, 68.0, 96.0, 159.0, 194.0, 194.0, 327.0, 415.0, 618.0, 875.0, 1012.0, 1291.0, 1524.0, 1993.0, 2571.0, 3128.0, 3557.0, 3824.0, 4914.0, 5276.0, 5675.0, 6906.0, 7781.0, 7781.0, 9784.0, 10538.0, 11510.0, 12035.0, 13381.0, 13989.0, 14755.0, 15884.0, 16809.0, 17550.0, 17962.0, 19815.0], \"sizemode\": \"area\", \"sizeref\": 632.65, \"symbol\": \"circle\"}, \"mode\": \"lines+markers\", \"name\": \"Connecticut\", \"showlegend\": true, \"type\": \"scattergl\", \"x\": [0.1, 0.1, 0.2, 0.3, 0.4, 0.6, 0.7, 0.7, 1.3, 1.6, 2.4, 3.4, 3.9, 4.9, 5.8, 7.6, 9.8, 11.8, 13.3, 14.1, 18.2, 19.6, 20.6, 25.0, 27.6, 26.6, 33.8, 35.6, 38.5, 38.7, 41.7, 41.9, 43.2, 46.5, 45.9, 47.3, 47.4, 49.8], \"xaxis\": \"x\", \"y\": [100.0, 100.0, 100.0, 100.0, 100.0, 100.0, 100.0, 100.0, 100.0, 100.0, 99.8, 99.7, 99.5, 99.1, 98.5, 98.8, 98.4, 97.8, 97.3, 95.8, 96.1, 96.3, 94.2, 94.0, 92.1, 88.8, 89.7, 87.7, 86.8, 83.4, 80.8, 77.6, 75.9, 75.9, 70.8, 69.9, 68.4, 65.1], \"yaxis\": \"y\"}, {\"customdata\": [[30.0, 11.0, \"3/19/20\", \"Delaware\"], [39.0, 9.0, \"3/20/20\", \"Delaware\"], [45.0, 6.0, \"3/21/20\", \"Delaware\"], [56.0, 11.0, \"3/22/20\", \"Delaware\"], [68.0, 12.0, \"3/23/20\", \"Delaware\"], [104.0, 36.0, \"3/24/20\", \"Delaware\"], [119.0, 15.0, \"3/25/20\", \"Delaware\"], [130.0, 11.0, \"3/26/20\", \"Delaware\"], [163.0, 33.0, \"3/27/20\", \"Delaware\"], [214.0, 51.0, \"3/28/20\", \"Delaware\"], [232.0, 18.0, \"3/29/20\", \"Delaware\"], [264.0, 32.0, \"3/30/20\", \"Delaware\"], [319.0, 55.0, \"3/31/20\", \"Delaware\"], [368.0, 49.0, \"4/1/20\", \"Delaware\"], [393.0, 25.0, \"4/2/20\", \"Delaware\"], [450.0, 57.0, \"4/3/20\", \"Delaware\"], [593.0, 143.0, \"4/4/20\", \"Delaware\"], [673.0, 80.0, \"4/5/20\", \"Delaware\"], [783.0, 110.0, \"4/6/20\", \"Delaware\"], [928.0, 145.0, \"4/7/20\", \"Delaware\"], [1116.0, 188.0, \"4/8/20\", \"Delaware\"], [1209.0, 93.0, \"4/9/20\", \"Delaware\"], [1326.0, 117.0, \"4/10/20\", \"Delaware\"], [1479.0, 153.0, \"4/11/20\", \"Delaware\"], [1625.0, 146.0, \"4/12/20\", \"Delaware\"], [1758.0, 133.0, \"4/13/20\", \"Delaware\"], [1926.0, 168.0, \"4/14/20\", \"Delaware\"], [2014.0, 88.0, \"4/15/20\", \"Delaware\"], [2070.0, 56.0, \"4/16/20\", \"Delaware\"], [2317.0, 247.0, \"4/17/20\", \"Delaware\"], [2538.0, 221.0, \"4/18/20\", \"Delaware\"], [2538.0, 0.0, \"4/19/20\", \"Delaware\"], [2745.0, 207.0, \"4/20/20\", \"Delaware\"]], \"hoverlabel\": {\"namelength\": 0}, \"hovertemplate\": \"State =%{customdata[3]}<br>Mean growth over 14d compared to max growth =%{x}<br>% cases from last 14d =%{y}<br>Confirmed Cases=%{customdata[0]}<br>Confirmed Cases today =%{customdata[1]}<br>Date=%{customdata[2]}\", \"legendgroup\": \"Delaware\", \"marker\": {\"color\": \"#B6E880\", \"size\": [30.0, 39.0, 45.0, 56.0, 68.0, 104.0, 119.0, 130.0, 163.0, 214.0, 232.0, 264.0, 319.0, 368.0, 393.0, 450.0, 593.0, 673.0, 783.0, 928.0, 1116.0, 1209.0, 1326.0, 1479.0, 1625.0, 1758.0, 1926.0, 2014.0, 2070.0, 2317.0, 2538.0, 2538.0, 2745.0], \"sizemode\": \"area\", \"sizeref\": 632.65, \"symbol\": \"circle\"}, \"mode\": \"lines+markers\", \"name\": \"Delaware\", \"showlegend\": true, \"type\": \"scattergl\", \"x\": [1.0, 1.3, 1.5, 1.8, 2.2, 3.4, 3.8, 4.2, 5.1, 6.7, 7.3, 8.3, 9.8, 11.3, 11.7, 13.3, 17.7, 19.9, 23.1, 26.6, 32.2, 34.9, 37.6, 40.9, 45.0, 48.3, 51.9, 53.2, 54.2, 60.3, 62.9, 60.3, 63.4], \"xaxis\": \"x\", \"y\": [100.0, 100.0, 100.0, 100.0, 100.0, 100.0, 99.2, 99.2, 97.5, 97.2, 97.4, 97.0, 95.0, 94.8, 92.4, 91.3, 92.4, 91.7, 91.3, 88.8, 89.3, 89.2, 87.7, 85.5, 85.7, 85.0, 83.4, 81.7, 81.0, 80.6, 76.6, 73.5, 71.5], \"yaxis\": \"y\"}, {\"customdata\": [[47.0, 47.0, \"3/17/20\", \"Diamond Princess\"], [47.0, 0.0, \"3/18/20\", \"Diamond Princess\"], [47.0, 0.0, \"3/19/20\", \"Diamond Princess\"], [49.0, 2.0, \"3/20/20\", \"Diamond Princess\"], [49.0, 0.0, \"3/21/20\", \"Diamond Princess\"], [49.0, 0.0, \"3/22/20\", \"Diamond Princess\"], [49.0, 0.0, \"3/23/20\", \"Diamond Princess\"], [49.0, 0.0, \"3/24/20\", \"Diamond Princess\"], [49.0, 0.0, \"3/25/20\", \"Diamond Princess\"], [49.0, 0.0, \"3/26/20\", \"Diamond Princess\"], [49.0, 0.0, \"3/27/20\", \"Diamond Princess\"], [49.0, 0.0, \"3/28/20\", \"Diamond Princess\"], [49.0, 0.0, \"3/29/20\", \"Diamond Princess\"], [49.0, 0.0, \"3/30/20\", \"Diamond Princess\"], [49.0, 0.0, \"3/31/20\", \"Diamond Princess\"], [49.0, 0.0, \"4/1/20\", \"Diamond Princess\"], [49.0, 0.0, \"4/2/20\", \"Diamond Princess\"], [49.0, 0.0, \"4/3/20\", \"Diamond Princess\"], [49.0, 0.0, \"4/4/20\", \"Diamond Princess\"], [49.0, 0.0, \"4/5/20\", \"Diamond Princess\"], [49.0, 0.0, \"4/6/20\", \"Diamond Princess\"], [49.0, 0.0, \"4/7/20\", \"Diamond Princess\"], [49.0, 0.0, \"4/8/20\", \"Diamond Princess\"], [49.0, 0.0, \"4/9/20\", \"Diamond Princess\"], [49.0, 0.0, \"4/10/20\", \"Diamond Princess\"], [49.0, 0.0, \"4/11/20\", \"Diamond Princess\"], [49.0, 0.0, \"4/12/20\", \"Diamond Princess\"], [49.0, 0.0, \"4/13/20\", \"Diamond Princess\"], [49.0, 0.0, \"4/14/20\", \"Diamond Princess\"], [49.0, 0.0, \"4/15/20\", \"Diamond Princess\"], [49.0, 0.0, \"4/16/20\", \"Diamond Princess\"], [49.0, 0.0, \"4/17/20\", \"Diamond Princess\"], [49.0, 0.0, \"4/18/20\", \"Diamond Princess\"], [49.0, 0.0, \"4/19/20\", \"Diamond Princess\"], [49.0, 0.0, \"4/20/20\", \"Diamond Princess\"]], \"hoverlabel\": {\"namelength\": 0}, \"hovertemplate\": \"State =%{customdata[3]}<br>Mean growth over 14d compared to max growth =%{x}<br>% cases from last 14d =%{y}<br>Confirmed Cases=%{customdata[0]}<br>Confirmed Cases today =%{customdata[1]}<br>Date=%{customdata[2]}\", \"legendgroup\": \"Diamond Princess\", \"marker\": {\"color\": \"#FF97FF\", \"size\": [47.0, 47.0, 47.0, 49.0, 49.0, 49.0, 49.0, 49.0, 49.0, 49.0, 49.0, 49.0, 49.0, 49.0, 49.0, 49.0, 49.0, 49.0, 49.0, 49.0, 49.0, 49.0, 49.0, 49.0, 49.0, 49.0, 49.0, 49.0, 49.0, 49.0, 49.0, 49.0, 49.0, 49.0, 49.0], \"sizemode\": \"area\", \"sizeref\": 632.65, \"symbol\": \"circle\"}, \"mode\": \"lines+markers\", \"name\": \"Diamond Princess\", \"showlegend\": true, \"type\": \"scattergl\", \"x\": [167.9, 167.9, 167.9, 175.0, 175.0, 175.0, 175.0, 175.0, 175.0, 175.0, 175.0, 175.0, 175.0, 175.0, 7.1, 7.1, 7.1, 0.0, 0.0, 0.0, 0.0, 0.0, 0.0, 0.0, 0.0, 0.0, 0.0, 0.0, 0.0, 0.0, 0.0, 0.0, 0.0, 0.0, 0.0], \"xaxis\": \"x\", \"y\": [100.0, 100.0, 100.0, 100.0, 100.0, 100.0, 100.0, 100.0, 100.0, 100.0, 100.0, 100.0, 100.0, 100.0, 4.1, 4.1, 4.1, 0.0, 0.0, 0.0, 0.0, 0.0, 0.0, 0.0, 0.0, 0.0, 0.0, 0.0, 0.0, 0.0, 0.0, 0.0, 0.0, 0.0, 0.0], \"yaxis\": \"y\"}, {\"customdata\": [[22.0, 22.0, \"3/16/20\", \"District of Columbia\"], [22.0, 0.0, \"3/17/20\", \"District of Columbia\"], [31.0, 9.0, \"3/18/20\", \"District of Columbia\"], [40.0, 9.0, \"3/19/20\", \"District of Columbia\"], [71.0, 31.0, \"3/20/20\", \"District of Columbia\"], [98.0, 27.0, \"3/21/20\", \"District of Columbia\"], [102.0, 4.0, \"3/22/20\", \"District of Columbia\"], [120.0, 18.0, \"3/23/20\", \"District of Columbia\"], [141.0, 21.0, \"3/24/20\", \"District of Columbia\"], [187.0, 46.0, \"3/25/20\", \"District of Columbia\"], [231.0, 44.0, \"3/26/20\", \"District of Columbia\"], [271.0, 40.0, \"3/27/20\", \"District of Columbia\"], [304.0, 33.0, \"3/28/20\", \"District of Columbia\"], [342.0, 38.0, \"3/29/20\", \"District of Columbia\"], [401.0, 59.0, \"3/30/20\", \"District of Columbia\"], [495.0, 94.0, \"3/31/20\", \"District of Columbia\"], [586.0, 91.0, \"4/1/20\", \"District of Columbia\"], [653.0, 67.0, \"4/2/20\", \"District of Columbia\"], [757.0, 104.0, \"4/3/20\", \"District of Columbia\"], [902.0, 145.0, \"4/4/20\", \"District of Columbia\"], [1002.0, 100.0, \"4/5/20\", \"District of Columbia\"], [1097.0, 95.0, \"4/6/20\", \"District of Columbia\"], [1211.0, 114.0, \"4/7/20\", \"District of Columbia\"], [1440.0, 229.0, \"4/8/20\", \"District of Columbia\"], [1523.0, 83.0, \"4/9/20\", \"District of Columbia\"], [1660.0, 137.0, \"4/10/20\", \"District of Columbia\"], [1778.0, 118.0, \"4/11/20\", \"District of Columbia\"], [1875.0, 97.0, \"4/12/20\", \"District of Columbia\"], [1955.0, 80.0, \"4/13/20\", \"District of Columbia\"], [2058.0, 103.0, \"4/14/20\", \"District of Columbia\"], [2197.0, 139.0, \"4/15/20\", \"District of Columbia\"], [2350.0, 153.0, \"4/16/20\", \"District of Columbia\"], [2476.0, 126.0, \"4/17/20\", \"District of Columbia\"], [2666.0, 190.0, \"4/18/20\", \"District of Columbia\"], [2793.0, 127.0, \"4/19/20\", \"District of Columbia\"], [2927.0, 134.0, \"4/20/20\", \"District of Columbia\"]], \"hoverlabel\": {\"namelength\": 0}, \"hovertemplate\": \"State =%{customdata[3]}<br>Mean growth over 14d compared to max growth =%{x}<br>% cases from last 14d =%{y}<br>Confirmed Cases=%{customdata[0]}<br>Confirmed Cases today =%{customdata[1]}<br>Date=%{customdata[2]}\", \"legendgroup\": \"District of Columbia\", \"marker\": {\"color\": \"#FECB52\", \"size\": [22.0, 22.0, 31.0, 40.0, 71.0, 98.0, 102.0, 120.0, 141.0, 187.0, 231.0, 271.0, 304.0, 342.0, 401.0, 495.0, 586.0, 653.0, 757.0, 902.0, 1002.0, 1097.0, 1211.0, 1440.0, 1523.0, 1660.0, 1778.0, 1875.0, 1955.0, 2058.0, 2197.0, 2350.0, 2476.0, 2666.0, 2793.0, 2927.0], \"sizemode\": \"area\", \"sizeref\": 632.65, \"symbol\": \"circle\"}, \"mode\": \"lines+markers\", \"name\": \"District of Columbia\", \"showlegend\": true, \"type\": \"scattergl\", \"x\": [0.8, 0.8, 1.2, 1.5, 2.7, 3.7, 3.8, 4.5, 5.3, 7.0, 8.7, 10.2, 11.4, 12.9, 14.2, 17.8, 20.9, 23.0, 25.8, 30.2, 33.8, 36.7, 40.2, 47.1, 48.6, 52.2, 55.4, 57.6, 58.4, 58.8, 60.6, 63.8, 64.6, 66.3, 67.3, 68.8], \"xaxis\": \"x\", \"y\": [100.0, 100.0, 100.0, 100.0, 100.0, 100.0, 100.0, 100.0, 100.0, 100.0, 100.0, 100.0, 100.0, 100.0, 94.5, 95.6, 94.7, 93.9, 90.6, 89.1, 89.8, 89.1, 88.4, 87.0, 84.8, 83.7, 82.9, 81.8, 79.5, 75.9, 73.3, 72.2, 69.4, 66.2, 64.1, 62.5], \"yaxis\": \"y\"}, {\"customdata\": [[24.0, 9.0, \"3/11/20\", \"Florida\"], [30.0, 6.0, \"3/12/20\", \"Florida\"], [50.0, 20.0, \"3/13/20\", \"Florida\"], [76.0, 26.0, \"3/14/20\", \"Florida\"], [100.0, 24.0, \"3/15/20\", \"Florida\"], [101.0, 1.0, \"3/16/20\", \"Florida\"], [190.0, 89.0, \"3/17/20\", \"Florida\"], [306.0, 116.0, \"3/18/20\", \"Florida\"], [432.0, 126.0, \"3/19/20\", \"Florida\"], [564.0, 132.0, \"3/20/20\", \"Florida\"], [763.0, 199.0, \"3/21/20\", \"Florida\"], [1004.0, 241.0, \"3/22/20\", \"Florida\"], [1227.0, 223.0, \"3/23/20\", \"Florida\"], [1412.0, 185.0, \"3/24/20\", \"Florida\"], [1682.0, 270.0, \"3/25/20\", \"Florida\"], [2357.0, 675.0, \"3/26/20\", \"Florida\"], [2900.0, 543.0, \"3/27/20\", \"Florida\"], [3763.0, 863.0, \"3/28/20\", \"Florida\"], [4246.0, 483.0, \"3/29/20\", \"Florida\"], [5473.0, 1227.0, \"3/30/20\", \"Florida\"], [6741.0, 1268.0, \"3/31/20\", \"Florida\"], [6956.0, 215.0, \"4/1/20\", \"Florida\"], [9008.0, 2052.0, \"4/2/20\", \"Florida\"], [10268.0, 1260.0, \"4/3/20\", \"Florida\"], [11537.0, 1269.0, \"4/4/20\", \"Florida\"], [12350.0, 813.0, \"4/5/20\", \"Florida\"], [13324.0, 974.0, \"4/6/20\", \"Florida\"], [14545.0, 1221.0, \"4/7/20\", \"Florida\"], [15456.0, 911.0, \"4/8/20\", \"Florida\"], [16364.0, 908.0, \"4/9/20\", \"Florida\"], [17531.0, 1167.0, \"4/10/20\", \"Florida\"], [18494.0, 963.0, \"4/11/20\", \"Florida\"], [19895.0, 1401.0, \"4/12/20\", \"Florida\"], [21019.0, 1124.0, \"4/13/20\", \"Florida\"], [21628.0, 609.0, \"4/14/20\", \"Florida\"], [22511.0, 883.0, \"4/15/20\", \"Florida\"], [23343.0, 832.0, \"4/16/20\", \"Florida\"], [24759.0, 1416.0, \"4/17/20\", \"Florida\"], [25492.0, 733.0, \"4/18/20\", \"Florida\"], [26314.0, 822.0, \"4/19/20\", \"Florida\"], [27059.0, 745.0, \"4/20/20\", \"Florida\"]], \"hoverlabel\": {\"namelength\": 0}, \"hovertemplate\": \"State =%{customdata[3]}<br>Mean growth over 14d compared to max growth =%{x}<br>% cases from last 14d =%{y}<br>Confirmed Cases=%{customdata[0]}<br>Confirmed Cases today =%{customdata[1]}<br>Date=%{customdata[2]}\", \"legendgroup\": \"Florida\", \"marker\": {\"color\": \"#636efa\", \"size\": [24.0, 30.0, 50.0, 76.0, 100.0, 101.0, 190.0, 306.0, 432.0, 564.0, 763.0, 1004.0, 1227.0, 1412.0, 1682.0, 2357.0, 2900.0, 3763.0, 4246.0, 5473.0, 6741.0, 6956.0, 9008.0, 10268.0, 11537.0, 12350.0, 13324.0, 14545.0, 15456.0, 16364.0, 17531.0, 18494.0, 19895.0, 21019.0, 21628.0, 22511.0, 23343.0, 24759.0, 25492.0, 26314.0, 27059.0], \"sizemode\": \"area\", \"sizeref\": 632.65, \"symbol\": \"circle\"}, \"mode\": \"lines+markers\", \"name\": \"Florida\", \"showlegend\": true, \"type\": \"scattergl\", \"x\": [0.1, 0.2, 0.3, 0.4, 0.5, 0.5, 0.9, 1.5, 2.2, 2.8, 3.8, 5.0, 6.1, 7.0, 8.4, 11.7, 14.4, 18.6, 20.9, 27.1, 33.0, 33.5, 43.3, 49.0, 54.3, 57.2, 61.0, 66.2, 69.5, 70.7, 73.8, 74.3, 78.9, 78.4, 75.1, 78.5, 72.3, 73.1, 70.4, 70.4, 69.3], \"xaxis\": \"x\", \"y\": [100.0, 100.0, 100.0, 100.0, 100.0, 99.0, 98.9, 99.3, 99.3, 99.5, 99.1, 99.0, 98.9, 98.9, 98.6, 98.7, 98.3, 98.0, 97.6, 98.2, 97.2, 95.6, 95.2, 94.5, 93.4, 91.9, 90.8, 90.3, 89.1, 85.6, 83.5, 79.7, 78.7, 74.0, 68.8, 69.1, 61.4, 58.5, 54.7, 53.1, 50.8], \"yaxis\": \"y\"}, {\"customdata\": [[23.0, 6.0, \"3/11/20\", \"Georgia\"], [31.0, 8.0, \"3/12/20\", \"Georgia\"], [42.0, 11.0, \"3/13/20\", \"Georgia\"], [73.0, 31.0, \"3/14/20\", \"Georgia\"], [99.0, 26.0, \"3/15/20\", \"Georgia\"], [121.0, 22.0, \"3/16/20\", \"Georgia\"], [146.0, 25.0, \"3/17/20\", \"Georgia\"], [197.0, 51.0, \"3/18/20\", \"Georgia\"], [287.0, 90.0, \"3/19/20\", \"Georgia\"], [485.0, 198.0, \"3/20/20\", \"Georgia\"], [555.0, 70.0, \"3/21/20\", \"Georgia\"], [621.0, 66.0, \"3/22/20\", \"Georgia\"], [772.0, 151.0, \"3/23/20\", \"Georgia\"], [1026.0, 254.0, \"3/24/20\", \"Georgia\"], [1247.0, 221.0, \"3/25/20\", \"Georgia\"], [1525.0, 278.0, \"3/26/20\", \"Georgia\"], [2000.0, 475.0, \"3/27/20\", \"Georgia\"], [2366.0, 366.0, \"3/28/20\", \"Georgia\"], [2651.0, 285.0, \"3/29/20\", \"Georgia\"], [2808.0, 157.0, \"3/30/20\", \"Georgia\"], [3929.0, 1121.0, \"3/31/20\", \"Georgia\"], [4638.0, 709.0, \"4/1/20\", \"Georgia\"], [5348.0, 710.0, \"4/2/20\", \"Georgia\"], [5831.0, 483.0, \"4/3/20\", \"Georgia\"], [6160.0, 329.0, \"4/4/20\", \"Georgia\"], [6647.0, 487.0, \"4/5/20\", \"Georgia\"], [7314.0, 667.0, \"4/6/20\", \"Georgia\"], [8822.0, 1508.0, \"4/7/20\", \"Georgia\"], [9901.0, 1079.0, \"4/8/20\", \"Georgia\"], [10566.0, 665.0, \"4/9/20\", \"Georgia\"], [11485.0, 919.0, \"4/10/20\", \"Georgia\"], [12159.0, 674.0, \"4/11/20\", \"Georgia\"], [12452.0, 293.0, \"4/12/20\", \"Georgia\"], [13315.0, 863.0, \"4/13/20\", \"Georgia\"], [14578.0, 1263.0, \"4/14/20\", \"Georgia\"], [14987.0, 409.0, \"4/15/20\", \"Georgia\"], [15669.0, 682.0, \"4/16/20\", \"Georgia\"], [17194.0, 1525.0, \"4/17/20\", \"Georgia\"], [17669.0, 475.0, \"4/18/20\", \"Georgia\"], [18301.0, 632.0, \"4/19/20\", \"Georgia\"], [19407.0, 1106.0, \"4/20/20\", \"Georgia\"]], \"hoverlabel\": {\"namelength\": 0}, \"hovertemplate\": \"State =%{customdata[3]}<br>Mean growth over 14d compared to max growth =%{x}<br>% cases from last 14d =%{y}<br>Confirmed Cases=%{customdata[0]}<br>Confirmed Cases today =%{customdata[1]}<br>Date=%{customdata[2]}\", \"legendgroup\": \"Georgia\", \"marker\": {\"color\": \"#EF553B\", \"size\": [23.0, 31.0, 42.0, 73.0, 99.0, 121.0, 146.0, 197.0, 287.0, 485.0, 555.0, 621.0, 772.0, 1026.0, 1247.0, 1525.0, 2000.0, 2366.0, 2651.0, 2808.0, 3929.0, 4638.0, 5348.0, 5831.0, 6160.0, 6647.0, 7314.0, 8822.0, 9901.0, 10566.0, 11485.0, 12159.0, 12452.0, 13315.0, 14578.0, 14987.0, 15669.0, 17194.0, 17669.0, 18301.0, 19407.0], \"sizemode\": \"area\", \"sizeref\": 632.65, \"symbol\": \"circle\"}, \"mode\": \"lines+markers\", \"name\": \"Georgia\", \"showlegend\": true, \"type\": \"scattergl\", \"x\": [0.1, 0.1, 0.2, 0.3, 0.5, 0.6, 0.7, 0.9, 1.3, 2.3, 2.6, 2.9, 3.6, 4.8, 5.8, 7.1, 9.3, 10.9, 12.1, 12.7, 17.9, 21.0, 24.0, 25.3, 26.5, 28.5, 31.0, 36.9, 41.0, 42.8, 44.9, 46.4, 46.4, 49.8, 50.4, 49.0, 48.9, 53.8, 54.5, 55.2, 57.3], \"xaxis\": \"x\", \"y\": [100.0, 100.0, 100.0, 100.0, 100.0, 100.0, 98.6, 99.0, 99.3, 99.4, 99.1, 99.2, 98.7, 98.3, 98.2, 98.0, 97.9, 96.9, 96.3, 95.7, 96.3, 95.8, 94.6, 91.7, 91.0, 90.7, 89.4, 88.4, 87.4, 85.6, 82.6, 80.5, 78.7, 78.9, 73.0, 69.1, 65.9, 66.1, 65.1, 63.7, 62.3], \"yaxis\": \"y\"}, {\"customdata\": [[20.0, 20.0, \"3/16/20\", \"Grand Princess\"], [21.0, 1.0, \"3/17/20\", \"Grand Princess\"], [21.0, 0.0, \"3/18/20\", \"Grand Princess\"], [22.0, 1.0, \"3/19/20\", \"Grand Princess\"], [23.0, 1.0, \"3/20/20\", \"Grand Princess\"], [23.0, 0.0, \"3/21/20\", \"Grand Princess\"], [30.0, 7.0, \"3/22/20\", \"Grand Princess\"], [28.0, -2.0, \"3/23/20\", \"Grand Princess\"], [28.0, 0.0, \"3/24/20\", \"Grand Princess\"], [28.0, 0.0, \"3/25/20\", \"Grand Princess\"], [28.0, 0.0, \"3/26/20\", \"Grand Princess\"], [28.0, 0.0, \"3/27/20\", \"Grand Princess\"], [103.0, 75.0, \"3/28/20\", \"Grand Princess\"], [103.0, 0.0, \"3/29/20\", \"Grand Princess\"], [103.0, 0.0, \"3/30/20\", \"Grand Princess\"], [103.0, 0.0, \"3/31/20\", \"Grand Princess\"], [103.0, 0.0, \"4/1/20\", \"Grand Princess\"], [103.0, 0.0, \"4/2/20\", \"Grand Princess\"], [103.0, 0.0, \"4/3/20\", \"Grand Princess\"], [103.0, 0.0, \"4/4/20\", \"Grand Princess\"], [103.0, 0.0, \"4/5/20\", \"Grand Princess\"], [103.0, 0.0, \"4/6/20\", \"Grand Princess\"], [103.0, 0.0, \"4/7/20\", \"Grand Princess\"], [103.0, 0.0, \"4/8/20\", \"Grand Princess\"], [103.0, 0.0, \"4/9/20\", \"Grand Princess\"], [103.0, 0.0, \"4/10/20\", \"Grand Princess\"], [103.0, 0.0, \"4/11/20\", \"Grand Princess\"], [103.0, 0.0, \"4/12/20\", \"Grand Princess\"], [103.0, 0.0, \"4/13/20\", \"Grand Princess\"], [103.0, 0.0, \"4/14/20\", \"Grand Princess\"], [103.0, 0.0, \"4/15/20\", \"Grand Princess\"], [103.0, 0.0, \"4/16/20\", \"Grand Princess\"], [103.0, 0.0, \"4/17/20\", \"Grand Princess\"], [103.0, 0.0, \"4/18/20\", \"Grand Princess\"], [103.0, 0.0, \"4/19/20\", \"Grand Princess\"], [103.0, 0.0, \"4/20/20\", \"Grand Princess\"]], \"hoverlabel\": {\"namelength\": 0}, \"hovertemplate\": \"State =%{customdata[3]}<br>Mean growth over 14d compared to max growth =%{x}<br>% cases from last 14d =%{y}<br>Confirmed Cases=%{customdata[0]}<br>Confirmed Cases today =%{customdata[1]}<br>Date=%{customdata[2]}\", \"legendgroup\": \"Grand Princess\", \"marker\": {\"color\": \"#00cc96\", \"size\": [20.0, 21.0, 21.0, 22.0, 23.0, 23.0, 30.0, 28.0, 28.0, 28.0, 28.0, 28.0, 103.0, 103.0, 103.0, 103.0, 103.0, 103.0, 103.0, 103.0, 103.0, 103.0, 103.0, 103.0, 103.0, 103.0, 103.0, 103.0, 103.0, 103.0, 103.0, 103.0, 103.0, 103.0, 103.0, 103.0], \"sizemode\": \"area\", \"sizeref\": 632.65, \"symbol\": \"circle\"}, \"mode\": \"lines+markers\", \"name\": \"Grand Princess\", \"showlegend\": true, \"type\": \"scattergl\", \"x\": [7.1, 7.5, 7.5, 7.9, 8.2, 8.2, 10.7, 10.0, 10.0, 10.0, 10.0, 10.0, 36.8, 36.8, 29.6, 29.3, 29.3, 28.9, 28.6, 28.6, 26.1, 26.8, 26.8, 26.8, 26.8, 26.8, 0.0, 0.0, 0.0, 0.0, 0.0, 0.0, 0.0, 0.0, 0.0, 0.0], \"xaxis\": \"x\", \"y\": [100.0, 100.0, 100.0, 100.0, 100.0, 100.0, 100.0, 100.0, 100.0, 100.0, 100.0, 100.0, 100.0, 100.0, 80.6, 79.6, 79.6, 78.6, 77.7, 77.7, 70.9, 72.8, 72.8, 72.8, 72.8, 72.8, 0.0, 0.0, 0.0, 0.0, 0.0, 0.0, 0.0, 0.0, 0.0, 0.0], \"yaxis\": \"y\"}, {\"customdata\": [[27.0, 12.0, \"3/22/20\", \"Guam\"], [29.0, 2.0, \"3/23/20\", \"Guam\"], [32.0, 3.0, \"3/24/20\", \"Guam\"], [37.0, 5.0, \"3/25/20\", \"Guam\"], [45.0, 8.0, \"3/26/20\", \"Guam\"], [51.0, 6.0, \"3/27/20\", \"Guam\"], [55.0, 4.0, \"3/28/20\", \"Guam\"], [56.0, 1.0, \"3/29/20\", \"Guam\"], [58.0, 2.0, \"3/30/20\", \"Guam\"], [69.0, 11.0, \"3/31/20\", \"Guam\"], [77.0, 8.0, \"4/1/20\", \"Guam\"], [82.0, 5.0, \"4/2/20\", \"Guam\"], [84.0, 2.0, \"4/3/20\", \"Guam\"], [93.0, 9.0, \"4/4/20\", \"Guam\"], [112.0, 19.0, \"4/5/20\", \"Guam\"], [113.0, 1.0, \"4/6/20\", \"Guam\"], [121.0, 8.0, \"4/7/20\", \"Guam\"], [121.0, 0.0, \"4/8/20\", \"Guam\"], [128.0, 7.0, \"4/9/20\", \"Guam\"], [130.0, 2.0, \"4/10/20\", \"Guam\"], [133.0, 3.0, \"4/11/20\", \"Guam\"], [133.0, 0.0, \"4/12/20\", \"Guam\"], [133.0, 0.0, \"4/13/20\", \"Guam\"], [133.0, 0.0, \"4/14/20\", \"Guam\"], [135.0, 2.0, \"4/15/20\", \"Guam\"], [135.0, 0.0, \"4/16/20\", \"Guam\"], [136.0, 1.0, \"4/17/20\", \"Guam\"], [136.0, 0.0, \"4/18/20\", \"Guam\"], [136.0, 0.0, \"4/19/20\", \"Guam\"], [136.0, 0.0, \"4/20/20\", \"Guam\"]], \"hoverlabel\": {\"namelength\": 0}, \"hovertemplate\": \"State =%{customdata[3]}<br>Mean growth over 14d compared to max growth =%{x}<br>% cases from last 14d =%{y}<br>Confirmed Cases=%{customdata[0]}<br>Confirmed Cases today =%{customdata[1]}<br>Date=%{customdata[2]}\", \"legendgroup\": \"Guam\", \"marker\": {\"color\": \"#ab63fa\", \"size\": [27.0, 29.0, 32.0, 37.0, 45.0, 51.0, 55.0, 56.0, 58.0, 69.0, 77.0, 82.0, 84.0, 93.0, 112.0, 113.0, 121.0, 121.0, 128.0, 130.0, 133.0, 133.0, 133.0, 133.0, 135.0, 135.0, 136.0, 136.0, 136.0, 136.0], \"sizemode\": \"area\", \"sizeref\": 632.65, \"symbol\": \"circle\"}, \"mode\": \"lines+markers\", \"name\": \"Guam\", \"showlegend\": true, \"type\": \"scattergl\", \"x\": [16.1, 17.3, 19.0, 22.0, 26.8, 30.4, 32.7, 33.3, 32.7, 39.3, 42.9, 41.7, 41.7, 46.4, 50.6, 50.0, 53.0, 50.0, 49.4, 47.0, 46.4, 45.8, 44.6, 38.1, 34.5, 31.5, 31.0, 25.6, 14.3, 13.7], \"xaxis\": \"x\", \"y\": [100.0, 100.0, 100.0, 100.0, 100.0, 100.0, 100.0, 100.0, 94.8, 95.7, 93.5, 85.4, 83.3, 83.9, 75.9, 74.3, 73.6, 69.4, 64.8, 60.8, 58.6, 57.9, 56.4, 48.1, 43.0, 39.3, 38.2, 31.6, 17.6, 16.9], \"yaxis\": \"y\"}, {\"customdata\": [[25.0, 10.0, \"3/19/20\", \"Hawaii\"], [36.0, 11.0, \"3/20/20\", \"Hawaii\"], [36.0, 0.0, \"3/21/20\", \"Hawaii\"], [53.0, 17.0, \"3/22/20\", \"Hawaii\"], [56.0, 3.0, \"3/23/20\", \"Hawaii\"], [90.0, 34.0, \"3/24/20\", \"Hawaii\"], [91.0, 1.0, \"3/25/20\", \"Hawaii\"], [95.0, 4.0, \"3/26/20\", \"Hawaii\"], [106.0, 11.0, \"3/27/20\", \"Hawaii\"], [149.0, 43.0, \"3/28/20\", \"Hawaii\"], [149.0, 0.0, \"3/29/20\", \"Hawaii\"], [175.0, 26.0, \"3/30/20\", \"Hawaii\"], [204.0, 29.0, \"3/31/20\", \"Hawaii\"], [224.0, 20.0, \"4/1/20\", \"Hawaii\"], [256.0, 32.0, \"4/2/20\", \"Hawaii\"], [319.0, 63.0, \"4/3/20\", \"Hawaii\"], [351.0, 32.0, \"4/4/20\", \"Hawaii\"], [371.0, 20.0, \"4/5/20\", \"Hawaii\"], [387.0, 16.0, \"4/6/20\", \"Hawaii\"], [410.0, 23.0, \"4/7/20\", \"Hawaii\"], [410.0, 0.0, \"4/8/20\", \"Hawaii\"], [442.0, 32.0, \"4/9/20\", \"Hawaii\"], [442.0, 0.0, \"4/10/20\", \"Hawaii\"], [465.0, 23.0, \"4/11/20\", \"Hawaii\"], [499.0, 34.0, \"4/12/20\", \"Hawaii\"], [504.0, 5.0, \"4/13/20\", \"Hawaii\"], [511.0, 7.0, \"4/14/20\", \"Hawaii\"], [524.0, 13.0, \"4/15/20\", \"Hawaii\"], [530.0, 6.0, \"4/16/20\", \"Hawaii\"], [541.0, 11.0, \"4/17/20\", \"Hawaii\"], [574.0, 33.0, \"4/18/20\", \"Hawaii\"], [580.0, 6.0, \"4/19/20\", \"Hawaii\"], [584.0, 4.0, \"4/20/20\", \"Hawaii\"]], \"hoverlabel\": {\"namelength\": 0}, \"hovertemplate\": \"State =%{customdata[3]}<br>Mean growth over 14d compared to max growth =%{x}<br>% cases from last 14d =%{y}<br>Confirmed Cases=%{customdata[0]}<br>Confirmed Cases today =%{customdata[1]}<br>Date=%{customdata[2]}\", \"legendgroup\": \"Hawaii\", \"marker\": {\"color\": \"#FFA15A\", \"size\": [25.0, 36.0, 36.0, 53.0, 56.0, 90.0, 91.0, 95.0, 106.0, 149.0, 149.0, 175.0, 204.0, 224.0, 256.0, 319.0, 351.0, 371.0, 387.0, 410.0, 410.0, 442.0, 442.0, 465.0, 499.0, 504.0, 511.0, 524.0, 530.0, 541.0, 574.0, 580.0, 584.0], \"sizemode\": \"area\", \"sizeref\": 632.65, \"symbol\": \"circle\"}, \"mode\": \"lines+markers\", \"name\": \"Hawaii\", \"showlegend\": true, \"type\": \"scattergl\", \"x\": [4.2, 6.0, 5.8, 8.6, 9.1, 14.5, 14.8, 15.4, 17.3, 24.1, 23.8, 27.7, 32.2, 34.7, 38.4, 47.0, 52.3, 52.8, 55.0, 53.2, 53.0, 57.6, 55.8, 52.5, 58.1, 54.7, 51.0, 49.8, 45.5, 36.9, 37.0, 34.7, 32.7], \"xaxis\": \"x\", \"y\": [100.0, 100.0, 97.2, 98.1, 98.2, 96.7, 97.8, 97.9, 98.1, 97.3, 96.0, 95.4, 95.1, 93.3, 90.2, 88.7, 89.7, 85.7, 85.5, 78.0, 77.8, 78.5, 76.0, 68.0, 70.1, 65.3, 60.1, 57.3, 51.7, 41.0, 38.9, 36.0, 33.7], \"yaxis\": \"y\"}, {\"customdata\": [[23.0, 14.0, \"3/19/20\", \"Idaho\"], [36.0, 13.0, \"3/20/20\", \"Idaho\"], [42.0, 6.0, \"3/21/20\", \"Idaho\"], [42.0, 0.0, \"3/22/20\", \"Idaho\"], [68.0, 26.0, \"3/23/20\", \"Idaho\"], [81.0, 13.0, \"3/24/20\", \"Idaho\"], [91.0, 10.0, \"3/25/20\", \"Idaho\"], [146.0, 55.0, \"3/26/20\", \"Idaho\"], [205.0, 59.0, \"3/27/20\", \"Idaho\"], [234.0, 29.0, \"3/28/20\", \"Idaho\"], [281.0, 47.0, \"3/29/20\", \"Idaho\"], [340.0, 59.0, \"3/30/20\", \"Idaho\"], [515.0, 175.0, \"3/31/20\", \"Idaho\"], [566.0, 51.0, \"4/1/20\", \"Idaho\"], [776.0, 210.0, \"4/2/20\", \"Idaho\"], [891.0, 115.0, \"4/3/20\", \"Idaho\"], [1022.0, 131.0, \"4/4/20\", \"Idaho\"], [1078.0, 56.0, \"4/5/20\", \"Idaho\"], [1101.0, 23.0, \"4/6/20\", \"Idaho\"], [1170.0, 69.0, \"4/7/20\", \"Idaho\"], [1210.0, 40.0, \"4/8/20\", \"Idaho\"], [1232.0, 22.0, \"4/9/20\", \"Idaho\"], [1354.0, 122.0, \"4/10/20\", \"Idaho\"], [1396.0, 42.0, \"4/11/20\", \"Idaho\"], [1407.0, 11.0, \"4/12/20\", \"Idaho\"], [1426.0, 19.0, \"4/13/20\", \"Idaho\"], [1464.0, 38.0, \"4/14/20\", \"Idaho\"], [1473.0, 9.0, \"4/15/20\", \"Idaho\"], [1587.0, 114.0, \"4/16/20\", \"Idaho\"], [1609.0, 22.0, \"4/17/20\", \"Idaho\"], [1655.0, 46.0, \"4/18/20\", \"Idaho\"], [1668.0, 13.0, \"4/19/20\", \"Idaho\"], [1672.0, 4.0, \"4/20/20\", \"Idaho\"]], \"hoverlabel\": {\"namelength\": 0}, \"hovertemplate\": \"State =%{customdata[3]}<br>Mean growth over 14d compared to max growth =%{x}<br>% cases from last 14d =%{y}<br>Confirmed Cases=%{customdata[0]}<br>Confirmed Cases today =%{customdata[1]}<br>Date=%{customdata[2]}\", \"legendgroup\": \"Idaho\", \"marker\": {\"color\": \"#19d3f3\", \"size\": [23.0, 36.0, 42.0, 42.0, 68.0, 81.0, 91.0, 146.0, 205.0, 234.0, 281.0, 340.0, 515.0, 566.0, 776.0, 891.0, 1022.0, 1078.0, 1101.0, 1170.0, 1210.0, 1232.0, 1354.0, 1396.0, 1407.0, 1426.0, 1464.0, 1473.0, 1587.0, 1609.0, 1655.0, 1668.0, 1672.0], \"sizemode\": \"area\", \"sizeref\": 632.65, \"symbol\": \"circle\"}, \"mode\": \"lines+markers\", \"name\": \"Idaho\", \"showlegend\": true, \"type\": \"scattergl\", \"x\": [0.9, 1.5, 1.7, 1.7, 2.8, 3.3, 3.7, 6.0, 8.3, 9.5, 11.3, 13.7, 20.7, 22.7, 30.7, 34.9, 40.0, 42.3, 42.2, 44.4, 45.7, 44.3, 46.9, 47.4, 46.0, 44.3, 38.7, 37.0, 33.1, 29.3, 25.8, 24.1, 23.3], \"xaxis\": \"x\", \"y\": [100.0, 100.0, 100.0, 100.0, 100.0, 100.0, 100.0, 100.0, 99.5, 99.1, 98.6, 98.8, 98.4, 98.4, 97.0, 96.0, 95.9, 96.1, 93.8, 93.1, 92.5, 88.1, 84.9, 83.2, 80.0, 76.2, 64.8, 61.6, 51.1, 44.6, 38.2, 35.4, 34.2], \"yaxis\": \"y\"}, {\"customdata\": [[25.0, 13.0, \"3/11/20\", \"Illinois\"], [32.0, 7.0, \"3/12/20\", \"Illinois\"], [46.0, 14.0, \"3/13/20\", \"Illinois\"], [64.0, 18.0, \"3/14/20\", \"Illinois\"], [66.0, 2.0, \"3/15/20\", \"Illinois\"], [83.0, 17.0, \"3/16/20\", \"Illinois\"], [161.0, 78.0, \"3/17/20\", \"Illinois\"], [272.0, 111.0, \"3/18/20\", \"Illinois\"], [422.0, 150.0, \"3/19/20\", \"Illinois\"], [585.0, 163.0, \"3/20/20\", \"Illinois\"], [753.0, 168.0, \"3/21/20\", \"Illinois\"], [1049.0, 296.0, \"3/22/20\", \"Illinois\"], [1285.0, 236.0, \"3/23/20\", \"Illinois\"], [1537.0, 252.0, \"3/24/20\", \"Illinois\"], [1865.0, 328.0, \"3/25/20\", \"Illinois\"], [2538.0, 673.0, \"3/26/20\", \"Illinois\"], [3024.0, 486.0, \"3/27/20\", \"Illinois\"], [3491.0, 467.0, \"3/28/20\", \"Illinois\"], [4596.0, 1105.0, \"3/29/20\", \"Illinois\"], [5056.0, 460.0, \"3/30/20\", \"Illinois\"], [5994.0, 938.0, \"3/31/20\", \"Illinois\"], [6980.0, 986.0, \"4/1/20\", \"Illinois\"], [7695.0, 715.0, \"4/2/20\", \"Illinois\"], [8904.0, 1209.0, \"4/3/20\", \"Illinois\"], [10357.0, 1453.0, \"4/4/20\", \"Illinois\"], [11259.0, 902.0, \"4/5/20\", \"Illinois\"], [12262.0, 1003.0, \"4/6/20\", \"Illinois\"], [13553.0, 1291.0, \"4/7/20\", \"Illinois\"], [15078.0, 1525.0, \"4/8/20\", \"Illinois\"], [16422.0, 1344.0, \"4/9/20\", \"Illinois\"], [17887.0, 1465.0, \"4/10/20\", \"Illinois\"], [19180.0, 1293.0, \"4/11/20\", \"Illinois\"], [20852.0, 1672.0, \"4/12/20\", \"Illinois\"], [22025.0, 1173.0, \"4/13/20\", \"Illinois\"], [23248.0, 1223.0, \"4/14/20\", \"Illinois\"], [24593.0, 1345.0, \"4/15/20\", \"Illinois\"], [25734.0, 1141.0, \"4/16/20\", \"Illinois\"], [27578.0, 1844.0, \"4/17/20\", \"Illinois\"], [29160.0, 1582.0, \"4/18/20\", \"Illinois\"], [30357.0, 1197.0, \"4/19/20\", \"Illinois\"], [31513.0, 1156.0, \"4/20/20\", \"Illinois\"]], \"hoverlabel\": {\"namelength\": 0}, \"hovertemplate\": \"State =%{customdata[3]}<br>Mean growth over 14d compared to max growth =%{x}<br>% cases from last 14d =%{y}<br>Confirmed Cases=%{customdata[0]}<br>Confirmed Cases today =%{customdata[1]}<br>Date=%{customdata[2]}\", \"legendgroup\": \"Illinois\", \"marker\": {\"color\": \"#FF6692\", \"size\": [25.0, 32.0, 46.0, 64.0, 66.0, 83.0, 161.0, 272.0, 422.0, 585.0, 753.0, 1049.0, 1285.0, 1537.0, 1865.0, 2538.0, 3024.0, 3491.0, 4596.0, 5056.0, 5994.0, 6980.0, 7695.0, 8904.0, 10357.0, 11259.0, 12262.0, 13553.0, 15078.0, 16422.0, 17887.0, 19180.0, 20852.0, 22025.0, 23248.0, 24593.0, 25734.0, 27578.0, 29160.0, 30357.0, 31513.0], \"sizemode\": \"area\", \"sizeref\": 632.65, \"symbol\": \"circle\"}, \"mode\": \"lines+markers\", \"name\": \"Illinois\", \"showlegend\": true, \"type\": \"scattergl\", \"x\": [0.1, 0.1, 0.2, 0.3, 0.3, 0.3, 0.7, 1.1, 1.8, 2.5, 3.2, 4.5, 5.5, 6.5, 7.9, 10.7, 12.7, 14.6, 19.4, 21.2, 24.9, 28.7, 31.1, 35.5, 41.0, 43.6, 46.9, 51.3, 56.4, 59.3, 63.5, 67.0, 69.4, 72.5, 73.7, 75.2, 77.1, 79.8, 80.3, 81.6, 82.2], \"xaxis\": \"x\", \"y\": [92.0, 93.8, 95.7, 96.9, 95.5, 95.2, 97.5, 98.5, 98.8, 99.1, 99.2, 99.3, 99.5, 99.2, 98.7, 98.7, 98.5, 98.2, 98.6, 98.4, 97.3, 96.1, 94.5, 93.4, 92.7, 90.7, 89.5, 88.7, 87.6, 84.5, 83.1, 81.8, 78.0, 77.0, 74.2, 71.6, 70.1, 67.7, 64.5, 62.9, 61.1], \"yaxis\": \"y\"}, {\"customdata\": [[20.0, 4.0, \"3/15/20\", \"Indiana\"], [25.0, 5.0, \"3/16/20\", \"Indiana\"], [30.0, 5.0, \"3/17/20\", \"Indiana\"], [38.0, 8.0, \"3/18/20\", \"Indiana\"], [60.0, 22.0, \"3/19/20\", \"Indiana\"], [86.0, 26.0, \"3/20/20\", \"Indiana\"], [128.0, 42.0, \"3/21/20\", \"Indiana\"], [204.0, 76.0, \"3/22/20\", \"Indiana\"], [270.0, 66.0, \"3/23/20\", \"Indiana\"], [368.0, 98.0, \"3/24/20\", \"Indiana\"], [477.0, 109.0, \"3/25/20\", \"Indiana\"], [645.0, 168.0, \"3/26/20\", \"Indiana\"], [979.0, 334.0, \"3/27/20\", \"Indiana\"], [1233.0, 254.0, \"3/28/20\", \"Indiana\"], [1513.0, 280.0, \"3/29/20\", \"Indiana\"], [1786.0, 273.0, \"3/30/20\", \"Indiana\"], [2158.0, 372.0, \"3/31/20\", \"Indiana\"], [2564.0, 406.0, \"4/1/20\", \"Indiana\"], [3038.0, 474.0, \"4/2/20\", \"Indiana\"], [3437.0, 399.0, \"4/3/20\", \"Indiana\"], [3953.0, 516.0, \"4/4/20\", \"Indiana\"], [4411.0, 458.0, \"4/5/20\", \"Indiana\"], [4956.0, 545.0, \"4/6/20\", \"Indiana\"], [5510.0, 554.0, \"4/7/20\", \"Indiana\"], [5943.0, 433.0, \"4/8/20\", \"Indiana\"], [6351.0, 408.0, \"4/9/20\", \"Indiana\"], [6907.0, 556.0, \"4/10/20\", \"Indiana\"], [7435.0, 528.0, \"4/11/20\", \"Indiana\"], [7928.0, 493.0, \"4/12/20\", \"Indiana\"], [8359.0, 431.0, \"4/13/20\", \"Indiana\"], [8527.0, 168.0, \"4/14/20\", \"Indiana\"], [8960.0, 433.0, \"4/15/20\", \"Indiana\"], [9542.0, 582.0, \"4/16/20\", \"Indiana\"], [10154.0, 612.0, \"4/17/20\", \"Indiana\"], [10641.0, 487.0, \"4/18/20\", \"Indiana\"], [11211.0, 570.0, \"4/19/20\", \"Indiana\"], [11688.0, 477.0, \"4/20/20\", \"Indiana\"]], \"hoverlabel\": {\"namelength\": 0}, \"hovertemplate\": \"State =%{customdata[3]}<br>Mean growth over 14d compared to max growth =%{x}<br>% cases from last 14d =%{y}<br>Confirmed Cases=%{customdata[0]}<br>Confirmed Cases today =%{customdata[1]}<br>Date=%{customdata[2]}\", \"legendgroup\": \"Indiana\", \"marker\": {\"color\": \"#B6E880\", \"size\": [20.0, 25.0, 30.0, 38.0, 60.0, 86.0, 128.0, 204.0, 270.0, 368.0, 477.0, 645.0, 979.0, 1233.0, 1513.0, 1786.0, 2158.0, 2564.0, 3038.0, 3437.0, 3953.0, 4411.0, 4956.0, 5510.0, 5943.0, 6351.0, 6907.0, 7435.0, 7928.0, 8359.0, 8527.0, 8960.0, 9542.0, 10154.0, 10641.0, 11211.0, 11688.0], \"sizemode\": \"area\", \"sizeref\": 632.65, \"symbol\": \"circle\"}, \"mode\": \"lines+markers\", \"name\": \"Indiana\", \"showlegend\": true, \"type\": \"scattergl\", \"x\": [0.2, 0.3, 0.4, 0.5, 0.7, 1.0, 1.6, 2.5, 3.3, 4.4, 5.7, 7.8, 11.9, 14.9, 18.3, 21.6, 26.1, 31.0, 36.5, 41.1, 46.9, 51.6, 57.5, 63.1, 67.1, 70.0, 72.8, 76.1, 78.7, 80.7, 78.2, 78.5, 79.8, 82.4, 82.1, 83.5, 82.6], \"xaxis\": \"x\", \"y\": [100.0, 100.0, 100.0, 100.0, 100.0, 98.8, 99.2, 99.0, 98.9, 98.4, 97.7, 98.0, 98.7, 98.7, 98.7, 98.6, 98.6, 98.5, 98.0, 97.5, 96.8, 95.4, 94.6, 93.3, 92.0, 89.8, 85.8, 83.4, 80.9, 78.6, 74.7, 71.4, 68.2, 66.2, 62.9, 60.7, 57.6], \"yaxis\": \"y\"}, {\"customdata\": [[23.0, 5.0, \"3/16/20\", \"Iowa\"], [23.0, 0.0, \"3/17/20\", \"Iowa\"], [38.0, 15.0, \"3/18/20\", \"Iowa\"], [44.0, 6.0, \"3/19/20\", \"Iowa\"], [45.0, 1.0, \"3/20/20\", \"Iowa\"], [69.0, 24.0, \"3/21/20\", \"Iowa\"], [90.0, 21.0, \"3/22/20\", \"Iowa\"], [105.0, 15.0, \"3/23/20\", \"Iowa\"], [124.0, 19.0, \"3/24/20\", \"Iowa\"], [146.0, 22.0, \"3/25/20\", \"Iowa\"], [179.0, 33.0, \"3/26/20\", \"Iowa\"], [235.0, 56.0, \"3/27/20\", \"Iowa\"], [298.0, 63.0, \"3/28/20\", \"Iowa\"], [336.0, 38.0, \"3/29/20\", \"Iowa\"], [424.0, 88.0, \"3/30/20\", \"Iowa\"], [497.0, 73.0, \"3/31/20\", \"Iowa\"], [547.0, 50.0, \"4/1/20\", \"Iowa\"], [614.0, 67.0, \"4/2/20\", \"Iowa\"], [699.0, 85.0, \"4/3/20\", \"Iowa\"], [787.0, 88.0, \"4/4/20\", \"Iowa\"], [869.0, 82.0, \"4/5/20\", \"Iowa\"], [946.0, 77.0, \"4/6/20\", \"Iowa\"], [1046.0, 100.0, \"4/7/20\", \"Iowa\"], [1145.0, 99.0, \"4/8/20\", \"Iowa\"], [1270.0, 125.0, \"4/9/20\", \"Iowa\"], [1388.0, 118.0, \"4/10/20\", \"Iowa\"], [1510.0, 122.0, \"4/11/20\", \"Iowa\"], [1587.0, 77.0, \"4/12/20\", \"Iowa\"], [1710.0, 123.0, \"4/13/20\", \"Iowa\"], [1899.0, 189.0, \"4/14/20\", \"Iowa\"], [1995.0, 96.0, \"4/15/20\", \"Iowa\"], [2141.0, 146.0, \"4/16/20\", \"Iowa\"], [2332.0, 191.0, \"4/17/20\", \"Iowa\"], [2513.0, 181.0, \"4/18/20\", \"Iowa\"], [2902.0, 389.0, \"4/19/20\", \"Iowa\"], [3159.0, 257.0, \"4/20/20\", \"Iowa\"]], \"hoverlabel\": {\"namelength\": 0}, \"hovertemplate\": \"State =%{customdata[3]}<br>Mean growth over 14d compared to max growth =%{x}<br>% cases from last 14d =%{y}<br>Confirmed Cases=%{customdata[0]}<br>Confirmed Cases today =%{customdata[1]}<br>Date=%{customdata[2]}\", \"legendgroup\": \"Iowa\", \"marker\": {\"color\": \"#FF97FF\", \"size\": [23.0, 23.0, 38.0, 44.0, 45.0, 69.0, 90.0, 105.0, 124.0, 146.0, 179.0, 235.0, 298.0, 336.0, 424.0, 497.0, 547.0, 614.0, 699.0, 787.0, 869.0, 946.0, 1046.0, 1145.0, 1270.0, 1388.0, 1510.0, 1587.0, 1710.0, 1899.0, 1995.0, 2141.0, 2332.0, 2513.0, 2902.0, 3159.0], \"sizemode\": \"area\", \"sizeref\": 632.65, \"symbol\": \"circle\"}, \"mode\": \"lines+markers\", \"name\": \"Iowa\", \"showlegend\": true, \"type\": \"scattergl\", \"x\": [0.6, 0.6, 1.1, 1.2, 1.3, 1.9, 2.5, 2.8, 3.2, 3.7, 4.6, 6.1, 7.8, 8.8, 11.1, 13.2, 14.1, 15.8, 18.2, 20.0, 21.7, 23.4, 25.6, 27.8, 30.3, 32.0, 33.7, 34.8, 35.7, 39.0, 40.2, 42.4, 45.4, 48.0, 56.5, 61.5], \"xaxis\": \"x\", \"y\": [100.0, 100.0, 100.0, 100.0, 100.0, 100.0, 100.0, 97.1, 93.5, 91.1, 92.2, 92.8, 94.3, 94.6, 94.6, 95.4, 93.1, 92.8, 93.6, 91.2, 89.6, 88.9, 88.1, 87.2, 85.9, 83.1, 80.3, 78.8, 75.2, 73.8, 72.6, 71.3, 70.0, 68.7, 70.1, 70.1], \"yaxis\": \"y\"}, {\"customdata\": [[22.0, 4.0, \"3/18/20\", \"Kansas\"], [35.0, 13.0, \"3/19/20\", \"Kansas\"], [48.0, 13.0, \"3/20/20\", \"Kansas\"], [57.0, 9.0, \"3/21/20\", \"Kansas\"], [65.0, 8.0, \"3/22/20\", \"Kansas\"], [84.0, 19.0, \"3/23/20\", \"Kansas\"], [100.0, 16.0, \"3/24/20\", \"Kansas\"], [134.0, 34.0, \"3/25/20\", \"Kansas\"], [172.0, 38.0, \"3/26/20\", \"Kansas\"], [206.0, 34.0, \"3/27/20\", \"Kansas\"], [266.0, 60.0, \"3/28/20\", \"Kansas\"], [330.0, 64.0, \"3/29/20\", \"Kansas\"], [372.0, 42.0, \"3/30/20\", \"Kansas\"], [434.0, 62.0, \"3/31/20\", \"Kansas\"], [485.0, 51.0, \"4/1/20\", \"Kansas\"], [553.0, 68.0, \"4/2/20\", \"Kansas\"], [629.0, 76.0, \"4/3/20\", \"Kansas\"], [698.0, 69.0, \"4/4/20\", \"Kansas\"], [751.0, 53.0, \"4/5/20\", \"Kansas\"], [849.0, 98.0, \"4/6/20\", \"Kansas\"], [912.0, 63.0, \"4/7/20\", \"Kansas\"], [1046.0, 134.0, \"4/8/20\", \"Kansas\"], [1116.0, 70.0, \"4/9/20\", \"Kansas\"], [1117.0, 1.0, \"4/10/20\", \"Kansas\"], [1275.0, 158.0, \"4/11/20\", \"Kansas\"], [1344.0, 69.0, \"4/12/20\", \"Kansas\"], [1390.0, 46.0, \"4/13/20\", \"Kansas\"], [1441.0, 51.0, \"4/14/20\", \"Kansas\"], [1504.0, 63.0, \"4/15/20\", \"Kansas\"], [1615.0, 111.0, \"4/16/20\", \"Kansas\"], [1730.0, 115.0, \"4/17/20\", \"Kansas\"], [1821.0, 91.0, \"4/18/20\", \"Kansas\"], [1905.0, 84.0, \"4/19/20\", \"Kansas\"], [2048.0, 143.0, \"4/20/20\", \"Kansas\"]], \"hoverlabel\": {\"namelength\": 0}, \"hovertemplate\": \"State =%{customdata[3]}<br>Mean growth over 14d compared to max growth =%{x}<br>% cases from last 14d =%{y}<br>Confirmed Cases=%{customdata[0]}<br>Confirmed Cases today =%{customdata[1]}<br>Date=%{customdata[2]}\", \"legendgroup\": \"Kansas\", \"marker\": {\"color\": \"#FECB52\", \"size\": [22.0, 35.0, 48.0, 57.0, 65.0, 84.0, 100.0, 134.0, 172.0, 206.0, 266.0, 330.0, 372.0, 434.0, 485.0, 553.0, 629.0, 698.0, 751.0, 849.0, 912.0, 1046.0, 1116.0, 1117.0, 1275.0, 1344.0, 1390.0, 1441.0, 1504.0, 1615.0, 1730.0, 1821.0, 1905.0, 2048.0], \"sizemode\": \"area\", \"sizeref\": 632.65, \"symbol\": \"circle\"}, \"mode\": \"lines+markers\", \"name\": \"Kansas\", \"showlegend\": true, \"type\": \"scattergl\", \"x\": [1.1, 1.7, 2.4, 2.8, 3.2, 4.1, 4.9, 6.6, 8.4, 10.0, 12.9, 16.1, 18.0, 20.8, 23.1, 25.9, 29.0, 32.0, 34.3, 38.2, 40.6, 45.6, 47.2, 45.5, 50.4, 50.6, 50.8, 50.3, 50.9, 53.0, 55.0, 56.1, 57.6, 59.9], \"xaxis\": \"x\", \"y\": [100.0, 100.0, 100.0, 100.0, 98.5, 98.8, 99.0, 99.3, 97.7, 97.1, 97.0, 97.6, 97.0, 95.9, 95.5, 93.7, 92.4, 91.8, 91.3, 90.1, 89.0, 87.2, 84.6, 81.6, 79.1, 75.4, 73.2, 69.9, 67.8, 65.8, 63.6, 61.7, 60.6, 58.5], \"yaxis\": \"y\"}, {\"customdata\": [[21.0, 3.0, \"3/16/20\", \"Kentucky\"], [26.0, 5.0, \"3/17/20\", \"Kentucky\"], [28.0, 2.0, \"3/18/20\", \"Kentucky\"], [50.0, 22.0, \"3/19/20\", \"Kentucky\"], [64.0, 14.0, \"3/20/20\", \"Kentucky\"], [87.0, 23.0, \"3/21/20\", \"Kentucky\"], [103.0, 16.0, \"3/22/20\", \"Kentucky\"], [123.0, 20.0, \"3/23/20\", \"Kentucky\"], [162.0, 39.0, \"3/24/20\", \"Kentucky\"], [197.0, 35.0, \"3/25/20\", \"Kentucky\"], [247.0, 50.0, \"3/26/20\", \"Kentucky\"], [301.0, 54.0, \"3/27/20\", \"Kentucky\"], [380.0, 79.0, \"3/28/20\", \"Kentucky\"], [438.0, 58.0, \"3/29/20\", \"Kentucky\"], [479.0, 41.0, \"3/30/20\", \"Kentucky\"], [628.0, 149.0, \"3/31/20\", \"Kentucky\"], [632.0, 4.0, \"4/1/20\", \"Kentucky\"], [770.0, 138.0, \"4/2/20\", \"Kentucky\"], [770.0, 0.0, \"4/3/20\", \"Kentucky\"], [917.0, 147.0, \"4/4/20\", \"Kentucky\"], [955.0, 38.0, \"4/5/20\", \"Kentucky\"], [955.0, 0.0, \"4/6/20\", \"Kentucky\"], [1149.0, 194.0, \"4/7/20\", \"Kentucky\"], [1149.0, 0.0, \"4/8/20\", \"Kentucky\"], [1341.0, 192.0, \"4/9/20\", \"Kentucky\"], [1693.0, 352.0, \"4/10/20\", \"Kentucky\"], [1693.0, 0.0, \"4/11/20\", \"Kentucky\"], [1963.0, 270.0, \"4/12/20\", \"Kentucky\"], [2018.0, 55.0, \"4/13/20\", \"Kentucky\"], [2048.0, 30.0, \"4/14/20\", \"Kentucky\"], [2210.0, 162.0, \"4/15/20\", \"Kentucky\"], [2435.0, 225.0, \"4/16/20\", \"Kentucky\"], [2522.0, 87.0, \"4/17/20\", \"Kentucky\"], [2707.0, 185.0, \"4/18/20\", \"Kentucky\"], [2960.0, 253.0, \"4/19/20\", \"Kentucky\"], [3050.0, 90.0, \"4/20/20\", \"Kentucky\"]], \"hoverlabel\": {\"namelength\": 0}, \"hovertemplate\": \"State =%{customdata[3]}<br>Mean growth over 14d compared to max growth =%{x}<br>% cases from last 14d =%{y}<br>Confirmed Cases=%{customdata[0]}<br>Confirmed Cases today =%{customdata[1]}<br>Date=%{customdata[2]}\", \"legendgroup\": \"Kentucky\", \"marker\": {\"color\": \"#636efa\", \"size\": [21.0, 26.0, 28.0, 50.0, 64.0, 87.0, 103.0, 123.0, 162.0, 197.0, 247.0, 301.0, 380.0, 438.0, 479.0, 628.0, 632.0, 770.0, 770.0, 917.0, 955.0, 955.0, 1149.0, 1149.0, 1341.0, 1693.0, 1693.0, 1963.0, 2018.0, 2048.0, 2210.0, 2435.0, 2522.0, 2707.0, 2960.0, 3050.0], \"sizemode\": \"area\", \"sizeref\": 632.65, \"symbol\": \"circle\"}, \"mode\": \"lines+markers\", \"name\": \"Kentucky\", \"showlegend\": true, \"type\": \"scattergl\", \"x\": [0.6, 0.7, 0.7, 1.3, 1.7, 2.3, 2.7, 3.1, 4.2, 5.0, 6.3, 7.6, 9.6, 11.1, 12.1, 15.9, 16.0, 19.0, 18.7, 22.0, 22.5, 22.0, 26.1, 25.2, 28.9, 36.8, 34.7, 40.3, 40.7, 37.6, 41.7, 44.0, 46.3, 47.4, 53.0, 55.4], \"xaxis\": \"x\", \"y\": [100.0, 100.0, 100.0, 100.0, 98.4, 98.9, 99.0, 96.7, 96.9, 95.9, 96.0, 95.3, 95.8, 95.9, 95.6, 95.9, 95.6, 93.5, 91.7, 90.5, 89.2, 87.1, 85.9, 82.9, 81.6, 82.2, 77.6, 77.7, 76.3, 69.3, 71.4, 68.4, 69.5, 66.1, 67.7, 68.7], \"yaxis\": \"y\"}, {\"customdata\": [[29.0, 10.0, \"3/13/20\", \"Louisiana\"], [77.0, 48.0, \"3/14/20\", \"Louisiana\"], [87.0, 10.0, \"3/15/20\", \"Louisiana\"], [115.0, 28.0, \"3/16/20\", \"Louisiana\"], [196.0, 81.0, \"3/17/20\", \"Louisiana\"], [257.0, 61.0, \"3/18/20\", \"Louisiana\"], [392.0, 135.0, \"3/19/20\", \"Louisiana\"], [537.0, 145.0, \"3/20/20\", \"Louisiana\"], [763.0, 226.0, \"3/21/20\", \"Louisiana\"], [837.0, 74.0, \"3/22/20\", \"Louisiana\"], [1172.0, 335.0, \"3/23/20\", \"Louisiana\"], [1388.0, 216.0, \"3/24/20\", \"Louisiana\"], [1795.0, 407.0, \"3/25/20\", \"Louisiana\"], [2304.0, 509.0, \"3/26/20\", \"Louisiana\"], [2744.0, 440.0, \"3/27/20\", \"Louisiana\"], [3315.0, 571.0, \"3/28/20\", \"Louisiana\"], [3540.0, 225.0, \"3/29/20\", \"Louisiana\"], [4025.0, 485.0, \"3/30/20\", \"Louisiana\"], [5237.0, 1212.0, \"3/31/20\", \"Louisiana\"], [6424.0, 1187.0, \"4/1/20\", \"Louisiana\"], [9149.0, 2725.0, \"4/2/20\", \"Louisiana\"], [10297.0, 1148.0, \"4/3/20\", \"Louisiana\"], [12496.0, 2199.0, \"4/4/20\", \"Louisiana\"], [13010.0, 514.0, \"4/5/20\", \"Louisiana\"], [14867.0, 1857.0, \"4/6/20\", \"Louisiana\"], [16284.0, 1417.0, \"4/7/20\", \"Louisiana\"], [17030.0, 746.0, \"4/8/20\", \"Louisiana\"], [18283.0, 1253.0, \"4/9/20\", \"Louisiana\"], [19253.0, 970.0, \"4/10/20\", \"Louisiana\"], [20014.0, 761.0, \"4/11/20\", \"Louisiana\"], [20595.0, 581.0, \"4/12/20\", \"Louisiana\"], [21016.0, 421.0, \"4/13/20\", \"Louisiana\"], [21518.0, 502.0, \"4/14/20\", \"Louisiana\"], [21951.0, 433.0, \"4/15/20\", \"Louisiana\"], [22532.0, 581.0, \"4/16/20\", \"Louisiana\"], [23118.0, 586.0, \"4/17/20\", \"Louisiana\"], [23580.0, 462.0, \"4/18/20\", \"Louisiana\"], [23928.0, 348.0, \"4/19/20\", \"Louisiana\"], [24523.0, 595.0, \"4/20/20\", \"Louisiana\"]], \"hoverlabel\": {\"namelength\": 0}, \"hovertemplate\": \"State =%{customdata[3]}<br>Mean growth over 14d compared to max growth =%{x}<br>% cases from last 14d =%{y}<br>Confirmed Cases=%{customdata[0]}<br>Confirmed Cases today =%{customdata[1]}<br>Date=%{customdata[2]}\", \"legendgroup\": \"Louisiana\", \"marker\": {\"color\": \"#EF553B\", \"size\": [29.0, 77.0, 87.0, 115.0, 196.0, 257.0, 392.0, 537.0, 763.0, 837.0, 1172.0, 1388.0, 1795.0, 2304.0, 2744.0, 3315.0, 3540.0, 4025.0, 5237.0, 6424.0, 9149.0, 10297.0, 12496.0, 13010.0, 14867.0, 16284.0, 17030.0, 18283.0, 19253.0, 20014.0, 20595.0, 21016.0, 21518.0, 21951.0, 22532.0, 23118.0, 23580.0, 23928.0, 24523.0], \"sizemode\": \"area\", \"sizeref\": 632.65, \"symbol\": \"circle\"}, \"mode\": \"lines+markers\", \"name\": \"Louisiana\", \"showlegend\": true, \"type\": \"scattergl\", \"x\": [0.1, 0.3, 0.3, 0.4, 0.6, 0.8, 1.3, 1.7, 2.5, 2.7, 3.8, 4.5, 5.8, 7.4, 8.8, 10.5, 11.2, 12.7, 16.4, 20.0, 28.4, 31.7, 38.1, 39.5, 44.5, 48.4, 49.5, 51.9, 53.6, 54.2, 55.4, 55.2, 52.9, 50.4, 43.5, 41.6, 36.0, 35.5, 31.4], \"xaxis\": \"x\", \"y\": [100.0, 100.0, 100.0, 100.0, 100.0, 100.0, 100.0, 100.0, 100.0, 100.0, 100.0, 100.0, 99.7, 99.2, 98.9, 97.7, 97.5, 97.1, 96.3, 96.0, 95.7, 94.8, 93.9, 93.6, 92.1, 91.5, 89.5, 87.4, 85.7, 83.4, 82.8, 80.8, 75.7, 70.7, 59.4, 55.5, 47.0, 45.6, 39.4], \"yaxis\": \"y\"}, {\"customdata\": [[26.0, 9.0, \"3/17/20\", \"Maine\"], [35.0, 9.0, \"3/18/20\", \"Maine\"], [52.0, 17.0, \"3/19/20\", \"Maine\"], [56.0, 4.0, \"3/20/20\", \"Maine\"], [70.0, 14.0, \"3/21/20\", \"Maine\"], [89.0, 19.0, \"3/22/20\", \"Maine\"], [107.0, 18.0, \"3/23/20\", \"Maine\"], [118.0, 11.0, \"3/24/20\", \"Maine\"], [142.0, 24.0, \"3/25/20\", \"Maine\"], [155.0, 13.0, \"3/26/20\", \"Maine\"], [168.0, 13.0, \"3/27/20\", \"Maine\"], [211.0, 43.0, \"3/28/20\", \"Maine\"], [253.0, 42.0, \"3/29/20\", \"Maine\"], [275.0, 22.0, \"3/30/20\", \"Maine\"], [303.0, 28.0, \"3/31/20\", \"Maine\"], [303.0, 0.0, \"4/1/20\", \"Maine\"], [376.0, 73.0, \"4/2/20\", \"Maine\"], [432.0, 56.0, \"4/3/20\", \"Maine\"], [456.0, 24.0, \"4/4/20\", \"Maine\"], [470.0, 14.0, \"4/5/20\", \"Maine\"], [499.0, 29.0, \"4/6/20\", \"Maine\"], [519.0, 20.0, \"4/7/20\", \"Maine\"], [537.0, 18.0, \"4/8/20\", \"Maine\"], [560.0, 23.0, \"4/9/20\", \"Maine\"], [586.0, 26.0, \"4/10/20\", \"Maine\"], [616.0, 30.0, \"4/11/20\", \"Maine\"], [633.0, 17.0, \"4/12/20\", \"Maine\"], [698.0, 65.0, \"4/13/20\", \"Maine\"], [735.0, 37.0, \"4/14/20\", \"Maine\"], [770.0, 35.0, \"4/15/20\", \"Maine\"], [796.0, 26.0, \"4/16/20\", \"Maine\"], [827.0, 31.0, \"4/17/20\", \"Maine\"], [847.0, 20.0, \"4/18/20\", \"Maine\"], [867.0, 20.0, \"4/19/20\", \"Maine\"], [875.0, 8.0, \"4/20/20\", \"Maine\"]], \"hoverlabel\": {\"namelength\": 0}, \"hovertemplate\": \"State =%{customdata[3]}<br>Mean growth over 14d compared to max growth =%{x}<br>% cases from last 14d =%{y}<br>Confirmed Cases=%{customdata[0]}<br>Confirmed Cases today =%{customdata[1]}<br>Date=%{customdata[2]}\", \"legendgroup\": \"Maine\", \"marker\": {\"color\": \"#00cc96\", \"size\": [26.0, 35.0, 52.0, 56.0, 70.0, 89.0, 107.0, 118.0, 142.0, 155.0, 168.0, 211.0, 253.0, 275.0, 303.0, 303.0, 376.0, 432.0, 456.0, 470.0, 499.0, 519.0, 537.0, 560.0, 586.0, 616.0, 633.0, 698.0, 735.0, 770.0, 796.0, 827.0, 847.0, 867.0, 875.0], \"sizemode\": \"area\", \"sizeref\": 632.65, \"symbol\": \"circle\"}, \"mode\": \"lines+markers\", \"name\": \"Maine\", \"showlegend\": true, \"type\": \"scattergl\", \"x\": [2.9, 3.8, 5.7, 6.2, 7.7, 9.8, 11.8, 13.0, 15.6, 16.9, 18.1, 22.9, 27.6, 28.4, 30.4, 29.5, 35.6, 41.3, 42.4, 41.9, 43.1, 44.1, 43.4, 44.5, 45.9, 44.5, 41.8, 46.5, 47.5, 51.3, 46.2, 43.4, 43.0, 43.6, 41.3], \"xaxis\": \"x\", \"y\": [100.0, 100.0, 100.0, 100.0, 100.0, 100.0, 100.0, 100.0, 100.0, 99.4, 98.2, 98.6, 99.2, 93.8, 91.4, 88.4, 86.2, 87.0, 84.6, 81.1, 78.6, 77.3, 73.6, 72.3, 71.3, 65.7, 60.0, 60.6, 58.8, 60.6, 52.8, 47.8, 46.2, 45.8, 43.0], \"yaxis\": \"y\"}, {\"customdata\": [[27.0, 9.0, \"3/14/20\", \"Maryland\"], [24.0, -3.0, \"3/15/20\", \"Maryland\"], [42.0, 18.0, \"3/16/20\", \"Maryland\"], [60.0, 18.0, \"3/17/20\", \"Maryland\"], [85.0, 25.0, \"3/18/20\", \"Maryland\"], [107.0, 22.0, \"3/19/20\", \"Maryland\"], [149.0, 42.0, \"3/20/20\", \"Maryland\"], [193.0, 44.0, \"3/21/20\", \"Maryland\"], [244.0, 51.0, \"3/22/20\", \"Maryland\"], [290.0, 46.0, \"3/23/20\", \"Maryland\"], [349.0, 59.0, \"3/24/20\", \"Maryland\"], [425.0, 76.0, \"3/25/20\", \"Maryland\"], [583.0, 158.0, \"3/26/20\", \"Maryland\"], [775.0, 192.0, \"3/27/20\", \"Maryland\"], [995.0, 220.0, \"3/28/20\", \"Maryland\"], [1239.0, 244.0, \"3/29/20\", \"Maryland\"], [1413.0, 174.0, \"3/30/20\", \"Maryland\"], [1660.0, 247.0, \"3/31/20\", \"Maryland\"], [1986.0, 326.0, \"4/1/20\", \"Maryland\"], [2331.0, 345.0, \"4/2/20\", \"Maryland\"], [2758.0, 427.0, \"4/3/20\", \"Maryland\"], [3125.0, 367.0, \"4/4/20\", \"Maryland\"], [3617.0, 492.0, \"4/5/20\", \"Maryland\"], [4045.0, 428.0, \"4/6/20\", \"Maryland\"], [4371.0, 326.0, \"4/7/20\", \"Maryland\"], [5529.0, 1158.0, \"4/8/20\", \"Maryland\"], [6185.0, 656.0, \"4/9/20\", \"Maryland\"], [6968.0, 783.0, \"4/10/20\", \"Maryland\"], [7694.0, 726.0, \"4/11/20\", \"Maryland\"], [8225.0, 531.0, \"4/12/20\", \"Maryland\"], [8936.0, 711.0, \"4/13/20\", \"Maryland\"], [9472.0, 536.0, \"4/14/20\", \"Maryland\"], [10032.0, 560.0, \"4/15/20\", \"Maryland\"], [10784.0, 752.0, \"4/16/20\", \"Maryland\"], [11572.0, 788.0, \"4/17/20\", \"Maryland\"], [12326.0, 754.0, \"4/18/20\", \"Maryland\"], [12847.0, 521.0, \"4/19/20\", \"Maryland\"], [13684.0, 837.0, \"4/20/20\", \"Maryland\"]], \"hoverlabel\": {\"namelength\": 0}, \"hovertemplate\": \"State =%{customdata[3]}<br>Mean growth over 14d compared to max growth =%{x}<br>% cases from last 14d =%{y}<br>Confirmed Cases=%{customdata[0]}<br>Confirmed Cases today =%{customdata[1]}<br>Date=%{customdata[2]}\", \"legendgroup\": \"Maryland\", \"marker\": {\"color\": \"#ab63fa\", \"size\": [27.0, 24.0, 42.0, 60.0, 85.0, 107.0, 149.0, 193.0, 244.0, 290.0, 349.0, 425.0, 583.0, 775.0, 995.0, 1239.0, 1413.0, 1660.0, 1986.0, 2331.0, 2758.0, 3125.0, 3617.0, 4045.0, 4371.0, 5529.0, 6185.0, 6968.0, 7694.0, 8225.0, 8936.0, 9472.0, 10032.0, 10784.0, 11572.0, 12326.0, 12847.0, 13684.0], \"sizemode\": \"area\", \"sizeref\": 632.65, \"symbol\": \"circle\"}, \"mode\": \"lines+markers\", \"name\": \"Maryland\", \"showlegend\": true, \"type\": \"scattergl\", \"x\": [0.2, 0.2, 0.4, 0.5, 0.7, 0.9, 1.2, 1.6, 2.0, 2.4, 2.9, 3.6, 4.9, 6.5, 8.3, 10.4, 11.7, 13.7, 16.2, 19.0, 22.3, 25.0, 28.8, 32.0, 34.3, 43.6, 47.8, 52.9, 57.2, 59.6, 64.2, 66.7, 68.7, 72.1, 75.2, 78.5, 78.8, 82.3], \"xaxis\": \"x\", \"y\": [100.0, 100.0, 100.0, 100.0, 100.0, 100.0, 98.0, 98.4, 98.0, 98.3, 97.7, 97.9, 97.9, 97.7, 97.3, 98.1, 97.0, 96.4, 95.7, 95.4, 94.6, 93.8, 93.3, 92.8, 92.0, 92.3, 90.6, 88.9, 87.1, 84.9, 84.2, 82.5, 80.2, 78.4, 76.2, 74.6, 71.8, 70.4], \"yaxis\": \"y\"}, {\"customdata\": [[22.0, 16.0, \"3/8/20\", \"Massachusetts\"], [22.0, 0.0, \"3/9/20\", \"Massachusetts\"], [41.0, 19.0, \"3/10/20\", \"Massachusetts\"], [92.0, 51.0, \"3/11/20\", \"Massachusetts\"], [107.0, 15.0, \"3/12/20\", \"Massachusetts\"], [123.0, 16.0, \"3/13/20\", \"Massachusetts\"], [138.0, 15.0, \"3/14/20\", \"Massachusetts\"], [138.0, 0.0, \"3/15/20\", \"Massachusetts\"], [187.0, 49.0, \"3/16/20\", \"Massachusetts\"], [217.0, 30.0, \"3/17/20\", \"Massachusetts\"], [252.0, 35.0, \"3/18/20\", \"Massachusetts\"], [328.0, 76.0, \"3/19/20\", \"Massachusetts\"], [413.0, 85.0, \"3/20/20\", \"Massachusetts\"], [523.0, 110.0, \"3/21/20\", \"Massachusetts\"], [640.0, 117.0, \"3/22/20\", \"Massachusetts\"], [777.0, 137.0, \"3/23/20\", \"Massachusetts\"], [1159.0, 382.0, \"3/24/20\", \"Massachusetts\"], [1838.0, 679.0, \"3/25/20\", \"Massachusetts\"], [2417.0, 579.0, \"3/26/20\", \"Massachusetts\"], [3240.0, 823.0, \"3/27/20\", \"Massachusetts\"], [4257.0, 1017.0, \"3/28/20\", \"Massachusetts\"], [4955.0, 698.0, \"3/29/20\", \"Massachusetts\"], [5752.0, 797.0, \"3/30/20\", \"Massachusetts\"], [6620.0, 868.0, \"3/31/20\", \"Massachusetts\"], [7738.0, 1118.0, \"4/1/20\", \"Massachusetts\"], [8966.0, 1228.0, \"4/2/20\", \"Massachusetts\"], [10402.0, 1436.0, \"4/3/20\", \"Massachusetts\"], [11736.0, 1334.0, \"4/4/20\", \"Massachusetts\"], [12500.0, 764.0, \"4/5/20\", \"Massachusetts\"], [13837.0, 1337.0, \"4/6/20\", \"Massachusetts\"], [15202.0, 1365.0, \"4/7/20\", \"Massachusetts\"], [16790.0, 1588.0, \"4/8/20\", \"Massachusetts\"], [18941.0, 2151.0, \"4/9/20\", \"Massachusetts\"], [20974.0, 2033.0, \"4/10/20\", \"Massachusetts\"], [22860.0, 1886.0, \"4/11/20\", \"Massachusetts\"], [25475.0, 2615.0, \"4/12/20\", \"Massachusetts\"], [26867.0, 1392.0, \"4/13/20\", \"Massachusetts\"], [28164.0, 1297.0, \"4/14/20\", \"Massachusetts\"], [29918.0, 1754.0, \"4/15/20\", \"Massachusetts\"], [32181.0, 2263.0, \"4/16/20\", \"Massachusetts\"], [34402.0, 2221.0, \"4/17/20\", \"Massachusetts\"], [36372.0, 1970.0, \"4/18/20\", \"Massachusetts\"], [38077.0, 1705.0, \"4/19/20\", \"Massachusetts\"], [38077.0, 0.0, \"4/20/20\", \"Massachusetts\"]], \"hoverlabel\": {\"namelength\": 0}, \"hovertemplate\": \"State =%{customdata[3]}<br>Mean growth over 14d compared to max growth =%{x}<br>% cases from last 14d =%{y}<br>Confirmed Cases=%{customdata[0]}<br>Confirmed Cases today =%{customdata[1]}<br>Date=%{customdata[2]}\", \"legendgroup\": \"Massachusetts\", \"marker\": {\"color\": \"#FFA15A\", \"size\": [22.0, 22.0, 41.0, 92.0, 107.0, 123.0, 138.0, 138.0, 187.0, 217.0, 252.0, 328.0, 413.0, 523.0, 640.0, 777.0, 1159.0, 1838.0, 2417.0, 3240.0, 4257.0, 4955.0, 5752.0, 6620.0, 7738.0, 8966.0, 10402.0, 11736.0, 12500.0, 13837.0, 15202.0, 16790.0, 18941.0, 20974.0, 22860.0, 25475.0, 26867.0, 28164.0, 29918.0, 32181.0, 34402.0, 36372.0, 38077.0, 38077.0], \"sizemode\": \"area\", \"sizeref\": 632.65, \"symbol\": \"circle\"}, \"mode\": \"lines+markers\", \"name\": \"Massachusetts\", \"showlegend\": true, \"type\": \"scattergl\", \"x\": [0.1, 0.1, 0.1, 0.3, 0.3, 0.4, 0.4, 0.4, 0.6, 0.7, 0.8, 1.0, 1.3, 1.6, 2.0, 2.4, 3.5, 5.5, 7.3, 9.8, 13.0, 15.2, 17.6, 20.2, 23.6, 27.3, 31.5, 35.4, 37.4, 41.2, 44.3, 47.2, 52.2, 56.0, 58.7, 64.8, 66.6, 68.0, 70.0, 73.3, 75.8, 77.8, 80.7, 76.5], \"xaxis\": \"x\", \"y\": [95.5, 95.5, 97.6, 98.9, 99.1, 99.2, 99.3, 99.3, 99.5, 99.1, 99.2, 99.4, 98.5, 98.9, 96.6, 97.2, 96.5, 95.0, 95.6, 96.2, 96.8, 97.2, 96.7, 96.7, 96.7, 96.3, 96.0, 95.5, 94.9, 94.4, 92.4, 89.1, 87.2, 84.6, 81.4, 80.5, 78.6, 76.5, 74.1, 72.1, 69.8, 67.7, 67.2, 63.7], \"yaxis\": \"y\"}, {\"customdata\": [[25.0, 9.0, \"3/14/20\", \"Michigan\"], [32.0, 7.0, \"3/15/20\", \"Michigan\"], [54.0, 22.0, \"3/16/20\", \"Michigan\"], [63.0, 9.0, \"3/17/20\", \"Michigan\"], [119.0, 56.0, \"3/18/20\", \"Michigan\"], [259.0, 140.0, \"3/19/20\", \"Michigan\"], [402.0, 143.0, \"3/20/20\", \"Michigan\"], [540.0, 138.0, \"3/21/20\", \"Michigan\"], [1035.0, 495.0, \"3/22/20\", \"Michigan\"], [1329.0, 294.0, \"3/23/20\", \"Michigan\"], [1793.0, 464.0, \"3/24/20\", \"Michigan\"], [2296.0, 503.0, \"3/25/20\", \"Michigan\"], [2845.0, 549.0, \"3/26/20\", \"Michigan\"], [3634.0, 789.0, \"3/27/20\", \"Michigan\"], [4650.0, 1016.0, \"3/28/20\", \"Michigan\"], [5488.0, 838.0, \"3/29/20\", \"Michigan\"], [6498.0, 1010.0, \"3/30/20\", \"Michigan\"], [7615.0, 1117.0, \"3/31/20\", \"Michigan\"], [9315.0, 1700.0, \"4/1/20\", \"Michigan\"], [10791.0, 1476.0, \"4/2/20\", \"Michigan\"], [12744.0, 1953.0, \"4/3/20\", \"Michigan\"], [14225.0, 1481.0, \"4/4/20\", \"Michigan\"], [15718.0, 1493.0, \"4/5/20\", \"Michigan\"], [17221.0, 1503.0, \"4/6/20\", \"Michigan\"], [18970.0, 1749.0, \"4/7/20\", \"Michigan\"], [20346.0, 1376.0, \"4/8/20\", \"Michigan\"], [21504.0, 1158.0, \"4/9/20\", \"Michigan\"], [22434.0, 930.0, \"4/10/20\", \"Michigan\"], [23605.0, 1171.0, \"4/11/20\", \"Michigan\"], [24244.0, 639.0, \"4/12/20\", \"Michigan\"], [25635.0, 1391.0, \"4/13/20\", \"Michigan\"], [27001.0, 1366.0, \"4/14/20\", \"Michigan\"], [28059.0, 1058.0, \"4/15/20\", \"Michigan\"], [28809.0, 750.0, \"4/16/20\", \"Michigan\"], [30023.0, 1214.0, \"4/17/20\", \"Michigan\"], [30791.0, 768.0, \"4/18/20\", \"Michigan\"], [31424.0, 633.0, \"4/19/20\", \"Michigan\"], [32000.0, 576.0, \"4/20/20\", \"Michigan\"]], \"hoverlabel\": {\"namelength\": 0}, \"hovertemplate\": \"State =%{customdata[3]}<br>Mean growth over 14d compared to max growth =%{x}<br>% cases from last 14d =%{y}<br>Confirmed Cases=%{customdata[0]}<br>Confirmed Cases today =%{customdata[1]}<br>Date=%{customdata[2]}\", \"legendgroup\": \"Michigan\", \"marker\": {\"color\": \"#19d3f3\", \"size\": [25.0, 32.0, 54.0, 63.0, 119.0, 259.0, 402.0, 540.0, 1035.0, 1329.0, 1793.0, 2296.0, 2845.0, 3634.0, 4650.0, 5488.0, 6498.0, 7615.0, 9315.0, 10791.0, 12744.0, 14225.0, 15718.0, 17221.0, 18970.0, 20346.0, 21504.0, 22434.0, 23605.0, 24244.0, 25635.0, 27001.0, 28059.0, 28809.0, 30023.0, 30791.0, 31424.0, 32000.0], \"sizemode\": \"area\", \"sizeref\": 632.65, \"symbol\": \"circle\"}, \"mode\": \"lines+markers\", \"name\": \"Michigan\", \"showlegend\": true, \"type\": \"scattergl\", \"x\": [0.1, 0.1, 0.2, 0.3, 0.5, 1.1, 1.6, 2.2, 4.2, 5.4, 7.3, 9.4, 11.6, 14.8, 18.9, 22.3, 26.3, 30.8, 37.6, 43.0, 50.4, 55.9, 60.0, 64.9, 70.2, 73.7, 76.2, 76.8, 77.4, 76.6, 78.2, 79.2, 76.5, 73.6, 70.6, 67.7, 64.1, 60.4], \"xaxis\": \"x\", \"y\": [100.0, 100.0, 100.0, 100.0, 100.0, 100.0, 100.0, 100.0, 100.0, 100.0, 100.0, 99.9, 99.9, 99.6, 99.5, 99.4, 99.2, 99.2, 98.7, 97.6, 96.8, 96.2, 93.4, 92.3, 90.5, 88.7, 86.8, 83.8, 80.3, 77.4, 74.7, 71.8, 66.8, 62.5, 57.6, 53.8, 50.0, 46.2], \"yaxis\": \"y\"}, {\"customdata\": [[21.0, 7.0, \"3/14/20\", \"Minnesota\"], [21.0, 0.0, \"3/15/20\", \"Minnesota\"], [53.0, 32.0, \"3/16/20\", \"Minnesota\"], [59.0, 6.0, \"3/17/20\", \"Minnesota\"], [77.0, 18.0, \"3/18/20\", \"Minnesota\"], [89.0, 12.0, \"3/19/20\", \"Minnesota\"], [113.0, 24.0, \"3/20/20\", \"Minnesota\"], [134.0, 21.0, \"3/21/20\", \"Minnesota\"], [167.0, 33.0, \"3/22/20\", \"Minnesota\"], [234.0, 67.0, \"3/23/20\", \"Minnesota\"], [261.0, 27.0, \"3/24/20\", \"Minnesota\"], [286.0, 25.0, \"3/25/20\", \"Minnesota\"], [344.0, 58.0, \"3/26/20\", \"Minnesota\"], [396.0, 52.0, \"3/27/20\", \"Minnesota\"], [441.0, 45.0, \"3/28/20\", \"Minnesota\"], [503.0, 62.0, \"3/29/20\", \"Minnesota\"], [576.0, 73.0, \"3/30/20\", \"Minnesota\"], [629.0, 53.0, \"3/31/20\", \"Minnesota\"], [689.0, 60.0, \"4/1/20\", \"Minnesota\"], [742.0, 53.0, \"4/2/20\", \"Minnesota\"], [788.0, 46.0, \"4/3/20\", \"Minnesota\"], [865.0, 77.0, \"4/4/20\", \"Minnesota\"], [935.0, 70.0, \"4/5/20\", \"Minnesota\"], [986.0, 51.0, \"4/6/20\", \"Minnesota\"], [1069.0, 83.0, \"4/7/20\", \"Minnesota\"], [1154.0, 85.0, \"4/8/20\", \"Minnesota\"], [1240.0, 86.0, \"4/9/20\", \"Minnesota\"], [1336.0, 96.0, \"4/10/20\", \"Minnesota\"], [1427.0, 91.0, \"4/11/20\", \"Minnesota\"], [1621.0, 194.0, \"4/12/20\", \"Minnesota\"], [1621.0, 0.0, \"4/13/20\", \"Minnesota\"], [1695.0, 74.0, \"4/14/20\", \"Minnesota\"], [1809.0, 114.0, \"4/15/20\", \"Minnesota\"], [1809.0, 0.0, \"4/16/20\", \"Minnesota\"], [2070.0, 261.0, \"4/17/20\", \"Minnesota\"], [2209.0, 139.0, \"4/18/20\", \"Minnesota\"], [2356.0, 147.0, \"4/19/20\", \"Minnesota\"], [2470.0, 114.0, \"4/20/20\", \"Minnesota\"]], \"hoverlabel\": {\"namelength\": 0}, \"hovertemplate\": \"State =%{customdata[3]}<br>Mean growth over 14d compared to max growth =%{x}<br>% cases from last 14d =%{y}<br>Confirmed Cases=%{customdata[0]}<br>Confirmed Cases today =%{customdata[1]}<br>Date=%{customdata[2]}\", \"legendgroup\": \"Minnesota\", \"marker\": {\"color\": \"#FF6692\", \"size\": [21.0, 21.0, 53.0, 59.0, 77.0, 89.0, 113.0, 134.0, 167.0, 234.0, 261.0, 286.0, 344.0, 396.0, 441.0, 503.0, 576.0, 629.0, 689.0, 742.0, 788.0, 865.0, 935.0, 986.0, 1069.0, 1154.0, 1240.0, 1336.0, 1427.0, 1621.0, 1621.0, 1695.0, 1809.0, 1809.0, 2070.0, 2209.0, 2356.0, 2470.0], \"sizemode\": \"area\", \"sizeref\": 632.65, \"symbol\": \"circle\"}, \"mode\": \"lines+markers\", \"name\": \"Minnesota\", \"showlegend\": true, \"type\": \"scattergl\", \"x\": [0.8, 0.8, 2.0, 2.2, 2.8, 3.3, 4.1, 4.9, 6.1, 8.5, 9.5, 10.3, 12.3, 14.1, 15.5, 17.7, 19.3, 21.0, 22.5, 24.0, 24.9, 26.9, 28.3, 27.7, 29.7, 32.0, 33.0, 34.6, 36.3, 41.2, 38.5, 39.2, 41.2, 39.3, 47.2, 49.5, 52.3, 54.6], \"xaxis\": \"x\", \"y\": [100.0, 100.0, 100.0, 100.0, 100.0, 100.0, 99.1, 99.3, 99.4, 99.1, 99.2, 98.3, 97.4, 96.5, 95.2, 95.8, 90.8, 90.6, 88.8, 88.0, 85.7, 84.5, 82.1, 76.3, 75.6, 75.2, 72.3, 70.4, 69.1, 69.0, 64.5, 62.9, 61.9, 59.0, 61.9, 60.8, 60.3, 60.1], \"yaxis\": \"y\"}, {\"customdata\": [[21.0, 9.0, \"3/17/20\", \"Mississippi\"], [34.0, 13.0, \"3/18/20\", \"Mississippi\"], [50.0, 16.0, \"3/19/20\", \"Mississippi\"], [80.0, 30.0, \"3/20/20\", \"Mississippi\"], [140.0, 60.0, \"3/21/20\", \"Mississippi\"], [207.0, 67.0, \"3/22/20\", \"Mississippi\"], [249.0, 42.0, \"3/23/20\", \"Mississippi\"], [320.0, 71.0, \"3/24/20\", \"Mississippi\"], [377.0, 57.0, \"3/25/20\", \"Mississippi\"], [485.0, 108.0, \"3/26/20\", \"Mississippi\"], [579.0, 94.0, \"3/27/20\", \"Mississippi\"], [663.0, 84.0, \"3/28/20\", \"Mississippi\"], [759.0, 96.0, \"3/29/20\", \"Mississippi\"], [847.0, 88.0, \"3/30/20\", \"Mississippi\"], [937.0, 90.0, \"3/31/20\", \"Mississippi\"], [1073.0, 136.0, \"4/1/20\", \"Mississippi\"], [1177.0, 104.0, \"4/2/20\", \"Mississippi\"], [1358.0, 181.0, \"4/3/20\", \"Mississippi\"], [1455.0, 97.0, \"4/4/20\", \"Mississippi\"], [1638.0, 183.0, \"4/5/20\", \"Mississippi\"], [1738.0, 100.0, \"4/6/20\", \"Mississippi\"], [1915.0, 177.0, \"4/7/20\", \"Mississippi\"], [2003.0, 88.0, \"4/8/20\", \"Mississippi\"], [2260.0, 257.0, \"4/9/20\", \"Mississippi\"], [2469.0, 209.0, \"4/10/20\", \"Mississippi\"], [2642.0, 173.0, \"4/11/20\", \"Mississippi\"], [2781.0, 139.0, \"4/12/20\", \"Mississippi\"], [2942.0, 161.0, \"4/13/20\", \"Mississippi\"], [3087.0, 145.0, \"4/14/20\", \"Mississippi\"], [3360.0, 273.0, \"4/15/20\", \"Mississippi\"], [3624.0, 264.0, \"4/16/20\", \"Mississippi\"], [3793.0, 169.0, \"4/17/20\", \"Mississippi\"], [3974.0, 181.0, \"4/18/20\", \"Mississippi\"], [4274.0, 300.0, \"4/19/20\", \"Mississippi\"], [4512.0, 238.0, \"4/20/20\", \"Mississippi\"]], \"hoverlabel\": {\"namelength\": 0}, \"hovertemplate\": \"State =%{customdata[3]}<br>Mean growth over 14d compared to max growth =%{x}<br>% cases from last 14d =%{y}<br>Confirmed Cases=%{customdata[0]}<br>Confirmed Cases today =%{customdata[1]}<br>Date=%{customdata[2]}\", \"legendgroup\": \"Mississippi\", \"marker\": {\"color\": \"#B6E880\", \"size\": [21.0, 34.0, 50.0, 80.0, 140.0, 207.0, 249.0, 320.0, 377.0, 485.0, 579.0, 663.0, 759.0, 847.0, 937.0, 1073.0, 1177.0, 1358.0, 1455.0, 1638.0, 1738.0, 1915.0, 2003.0, 2260.0, 2469.0, 2642.0, 2781.0, 2942.0, 3087.0, 3360.0, 3624.0, 3793.0, 3974.0, 4274.0, 4512.0], \"sizemode\": \"area\", \"sizeref\": 632.65, \"symbol\": \"circle\"}, \"mode\": \"lines+markers\", \"name\": \"Mississippi\", \"showlegend\": true, \"type\": \"scattergl\", \"x\": [0.5, 0.9, 1.3, 2.1, 3.7, 5.4, 6.5, 8.4, 9.9, 12.7, 15.0, 17.2, 19.7, 21.8, 24.0, 27.2, 29.5, 33.4, 34.4, 37.4, 39.0, 41.7, 42.5, 46.4, 49.5, 51.8, 52.9, 54.8, 56.3, 59.8, 64.0, 63.7, 65.9, 69.0, 72.6], \"xaxis\": \"x\", \"y\": [100.0, 100.0, 100.0, 100.0, 100.0, 100.0, 100.0, 100.0, 100.0, 99.8, 99.0, 99.1, 99.2, 98.6, 97.8, 96.8, 95.8, 94.1, 90.4, 87.4, 85.7, 83.3, 81.2, 78.5, 76.5, 74.9, 72.7, 71.2, 69.6, 68.1, 67.5, 64.2, 63.4, 61.7, 61.5], \"yaxis\": \"y\"}, {\"customdata\": [[39.0, 21.0, \"3/19/20\", \"Missouri\"], [73.0, 34.0, \"3/20/20\", \"Missouri\"], [81.0, 8.0, \"3/21/20\", \"Missouri\"], [100.0, 19.0, \"3/22/20\", \"Missouri\"], [187.0, 87.0, \"3/23/20\", \"Missouri\"], [257.0, 70.0, \"3/24/20\", \"Missouri\"], [354.0, 97.0, \"3/25/20\", \"Missouri\"], [520.0, 166.0, \"3/26/20\", \"Missouri\"], [666.0, 146.0, \"3/27/20\", \"Missouri\"], [836.0, 170.0, \"3/28/20\", \"Missouri\"], [915.0, 79.0, \"3/29/20\", \"Missouri\"], [1051.0, 136.0, \"3/30/20\", \"Missouri\"], [1357.0, 306.0, \"3/31/20\", \"Missouri\"], [1613.0, 256.0, \"4/1/20\", \"Missouri\"], [1857.0, 244.0, \"4/2/20\", \"Missouri\"], [1864.0, 7.0, \"4/3/20\", \"Missouri\"], [2310.0, 446.0, \"4/4/20\", \"Missouri\"], [2347.0, 37.0, \"4/5/20\", \"Missouri\"], [2736.0, 389.0, \"4/6/20\", \"Missouri\"], [3130.0, 394.0, \"4/7/20\", \"Missouri\"], [3209.0, 79.0, \"4/8/20\", \"Missouri\"], [3432.0, 223.0, \"4/9/20\", \"Missouri\"], [3897.0, 465.0, \"4/10/20\", \"Missouri\"], [4108.0, 211.0, \"4/11/20\", \"Missouri\"], [4269.0, 161.0, \"4/12/20\", \"Missouri\"], [4515.0, 246.0, \"4/13/20\", \"Missouri\"], [4746.0, 231.0, \"4/14/20\", \"Missouri\"], [4791.0, 45.0, \"4/15/20\", \"Missouri\"], [5174.0, 383.0, \"4/16/20\", \"Missouri\"], [5371.0, 197.0, \"4/17/20\", \"Missouri\"], [5579.0, 208.0, \"4/18/20\", \"Missouri\"], [5743.0, 164.0, \"4/19/20\", \"Missouri\"], [5890.0, 147.0, \"4/20/20\", \"Missouri\"]], \"hoverlabel\": {\"namelength\": 0}, \"hovertemplate\": \"State =%{customdata[3]}<br>Mean growth over 14d compared to max growth =%{x}<br>% cases from last 14d =%{y}<br>Confirmed Cases=%{customdata[0]}<br>Confirmed Cases today =%{customdata[1]}<br>Date=%{customdata[2]}\", \"legendgroup\": \"Missouri\", \"marker\": {\"color\": \"#FF97FF\", \"size\": [39.0, 73.0, 81.0, 100.0, 187.0, 257.0, 354.0, 520.0, 666.0, 836.0, 915.0, 1051.0, 1357.0, 1613.0, 1857.0, 1864.0, 2310.0, 2347.0, 2736.0, 3130.0, 3209.0, 3432.0, 3897.0, 4108.0, 4269.0, 4515.0, 4746.0, 4791.0, 5174.0, 5371.0, 5579.0, 5743.0, 5890.0], \"sizemode\": \"area\", \"sizeref\": 632.65, \"symbol\": \"circle\"}, \"mode\": \"lines+markers\", \"name\": \"Missouri\", \"showlegend\": true, \"type\": \"scattergl\", \"x\": [0.6, 1.2, 1.3, 1.6, 3.0, 4.1, 5.7, 8.3, 10.6, 13.3, 14.6, 16.7, 21.5, 25.5, 29.1, 28.7, 35.7, 36.0, 40.8, 46.0, 45.7, 46.6, 51.7, 52.4, 53.7, 55.5, 54.3, 50.9, 53.1, 56.2, 52.4, 54.4, 50.5], \"xaxis\": \"x\", \"y\": [100.0, 100.0, 100.0, 99.0, 99.5, 99.6, 99.7, 99.6, 99.4, 99.5, 99.5, 99.4, 99.1, 98.9, 97.9, 96.1, 96.5, 95.7, 93.2, 91.8, 89.0, 84.8, 82.9, 79.6, 78.6, 76.7, 71.4, 66.3, 64.1, 65.3, 58.6, 59.1, 53.5], \"yaxis\": \"y\"}, {\"customdata\": [[20.0, 9.0, \"3/20/20\", \"Montana\"], [27.0, 7.0, \"3/21/20\", \"Montana\"], [34.0, 7.0, \"3/22/20\", \"Montana\"], [34.0, 0.0, \"3/23/20\", \"Montana\"], [51.0, 17.0, \"3/24/20\", \"Montana\"], [65.0, 14.0, \"3/25/20\", \"Montana\"], [90.0, 25.0, \"3/26/20\", \"Montana\"], [109.0, 19.0, \"3/27/20\", \"Montana\"], [129.0, 20.0, \"3/28/20\", \"Montana\"], [154.0, 25.0, \"3/29/20\", \"Montana\"], [171.0, 17.0, \"3/30/20\", \"Montana\"], [198.0, 27.0, \"3/31/20\", \"Montana\"], [208.0, 10.0, \"4/1/20\", \"Montana\"], [241.0, 33.0, \"4/2/20\", \"Montana\"], [243.0, 2.0, \"4/3/20\", \"Montana\"], [265.0, 22.0, \"4/4/20\", \"Montana\"], [286.0, 21.0, \"4/5/20\", \"Montana\"], [299.0, 13.0, \"4/6/20\", \"Montana\"], [319.0, 20.0, \"4/7/20\", \"Montana\"], [332.0, 13.0, \"4/8/20\", \"Montana\"], [354.0, 22.0, \"4/9/20\", \"Montana\"], [365.0, 11.0, \"4/10/20\", \"Montana\"], [377.0, 12.0, \"4/11/20\", \"Montana\"], [387.0, 10.0, \"4/12/20\", \"Montana\"], [394.0, 7.0, \"4/13/20\", \"Montana\"], [399.0, 5.0, \"4/14/20\", \"Montana\"], [404.0, 5.0, \"4/15/20\", \"Montana\"], [415.0, 11.0, \"4/16/20\", \"Montana\"], [422.0, 7.0, \"4/17/20\", \"Montana\"], [426.0, 4.0, \"4/18/20\", \"Montana\"], [433.0, 7.0, \"4/19/20\", \"Montana\"], [433.0, 0.0, \"4/20/20\", \"Montana\"]], \"hoverlabel\": {\"namelength\": 0}, \"hovertemplate\": \"State =%{customdata[3]}<br>Mean growth over 14d compared to max growth =%{x}<br>% cases from last 14d =%{y}<br>Confirmed Cases=%{customdata[0]}<br>Confirmed Cases today =%{customdata[1]}<br>Date=%{customdata[2]}\", \"legendgroup\": \"Montana\", \"marker\": {\"color\": \"#FECB52\", \"size\": [20.0, 27.0, 34.0, 34.0, 51.0, 65.0, 90.0, 109.0, 129.0, 154.0, 171.0, 198.0, 208.0, 241.0, 243.0, 265.0, 286.0, 299.0, 319.0, 332.0, 354.0, 365.0, 377.0, 387.0, 394.0, 399.0, 404.0, 415.0, 422.0, 426.0, 433.0, 433.0], \"sizemode\": \"area\", \"sizeref\": 632.65, \"symbol\": \"circle\"}, \"mode\": \"lines+markers\", \"name\": \"Montana\", \"showlegend\": true, \"type\": \"scattergl\", \"x\": [5.3, 7.1, 9.0, 9.0, 13.5, 17.2, 23.8, 28.6, 32.8, 39.2, 43.7, 50.3, 52.4, 60.8, 59.0, 63.0, 66.7, 70.1, 70.9, 70.6, 69.8, 67.7, 65.6, 61.6, 59.0, 53.2, 51.9, 46.0, 47.4, 42.6, 38.9, 35.4], \"xaxis\": \"x\", \"y\": [100.0, 100.0, 100.0, 100.0, 100.0, 100.0, 100.0, 99.1, 96.1, 96.1, 96.5, 96.0, 95.2, 95.4, 91.8, 89.8, 88.1, 88.6, 84.0, 80.4, 74.6, 70.1, 65.8, 60.2, 56.6, 50.4, 48.5, 41.9, 42.4, 37.8, 33.9, 30.9], \"yaxis\": \"y\"}, {\"customdata\": [[23.0, 5.0, \"3/17/20\", \"Nebraska\"], [24.0, 1.0, \"3/18/20\", \"Nebraska\"], [29.0, 5.0, \"3/19/20\", \"Nebraska\"], [37.0, 8.0, \"3/20/20\", \"Nebraska\"], [38.0, 1.0, \"3/21/20\", \"Nebraska\"], [51.0, 13.0, \"3/22/20\", \"Nebraska\"], [51.0, 0.0, \"3/23/20\", \"Nebraska\"], [66.0, 15.0, \"3/24/20\", \"Nebraska\"], [71.0, 5.0, \"3/25/20\", \"Nebraska\"], [74.0, 3.0, \"3/26/20\", \"Nebraska\"], [82.0, 8.0, \"3/27/20\", \"Nebraska\"], [96.0, 14.0, \"3/28/20\", \"Nebraska\"], [108.0, 12.0, \"3/29/20\", \"Nebraska\"], [145.0, 37.0, \"3/30/20\", \"Nebraska\"], [172.0, 27.0, \"3/31/20\", \"Nebraska\"], [210.0, 38.0, \"4/1/20\", \"Nebraska\"], [246.0, 36.0, \"4/2/20\", \"Nebraska\"], [279.0, 33.0, \"4/3/20\", \"Nebraska\"], [321.0, 42.0, \"4/4/20\", \"Nebraska\"], [364.0, 43.0, \"4/5/20\", \"Nebraska\"], [417.0, 53.0, \"4/6/20\", \"Nebraska\"], [447.0, 30.0, \"4/7/20\", \"Nebraska\"], [519.0, 72.0, \"4/8/20\", \"Nebraska\"], [568.0, 49.0, \"4/9/20\", \"Nebraska\"], [635.0, 67.0, \"4/10/20\", \"Nebraska\"], [699.0, 64.0, \"4/11/20\", \"Nebraska\"], [791.0, 92.0, \"4/12/20\", \"Nebraska\"], [814.0, 23.0, \"4/13/20\", \"Nebraska\"], [897.0, 83.0, \"4/14/20\", \"Nebraska\"], [901.0, 4.0, \"4/15/20\", \"Nebraska\"], [952.0, 51.0, \"4/16/20\", \"Nebraska\"], [1066.0, 114.0, \"4/17/20\", \"Nebraska\"], [1249.0, 183.0, \"4/18/20\", \"Nebraska\"], [1474.0, 225.0, \"4/19/20\", \"Nebraska\"], [1648.0, 174.0, \"4/20/20\", \"Nebraska\"]], \"hoverlabel\": {\"namelength\": 0}, \"hovertemplate\": \"State =%{customdata[3]}<br>Mean growth over 14d compared to max growth =%{x}<br>% cases from last 14d =%{y}<br>Confirmed Cases=%{customdata[0]}<br>Confirmed Cases today =%{customdata[1]}<br>Date=%{customdata[2]}\", \"legendgroup\": \"Nebraska\", \"marker\": {\"color\": \"#636efa\", \"size\": [23.0, 24.0, 29.0, 37.0, 38.0, 51.0, 51.0, 66.0, 71.0, 74.0, 82.0, 96.0, 108.0, 145.0, 172.0, 210.0, 246.0, 279.0, 321.0, 364.0, 417.0, 447.0, 519.0, 568.0, 635.0, 699.0, 791.0, 814.0, 897.0, 901.0, 952.0, 1066.0, 1249.0, 1474.0, 1648.0], \"sizemode\": \"area\", \"sizeref\": 632.65, \"symbol\": \"circle\"}, \"mode\": \"lines+markers\", \"name\": \"Nebraska\", \"showlegend\": true, \"type\": \"scattergl\", \"x\": [0.9, 0.9, 1.1, 1.4, 1.4, 2.0, 1.9, 2.5, 2.6, 2.5, 2.7, 3.0, 3.6, 5.0, 5.8, 7.3, 8.5, 9.4, 11.0, 12.2, 14.3, 14.9, 17.5, 19.3, 21.6, 23.5, 26.7, 26.1, 28.3, 27.0, 27.6, 30.7, 36.2, 43.3, 48.0], \"xaxis\": \"x\", \"y\": [100.0, 100.0, 100.0, 97.3, 97.4, 98.0, 94.1, 95.5, 93.0, 86.5, 82.9, 81.2, 84.3, 87.6, 86.6, 88.6, 88.2, 86.7, 88.2, 86.0, 87.8, 85.2, 86.3, 87.0, 87.1, 86.3, 86.3, 82.2, 80.8, 76.7, 74.2, 73.8, 74.3, 75.3, 74.7], \"yaxis\": \"y\"}, {\"customdata\": [[20.0, 2.0, \"3/14/20\", \"Nevada\"], [20.0, 0.0, \"3/15/20\", \"Nevada\"], [45.0, 25.0, \"3/16/20\", \"Nevada\"], [55.0, 10.0, \"3/17/20\", \"Nevada\"], [55.0, 0.0, \"3/18/20\", \"Nevada\"], [95.0, 40.0, \"3/19/20\", \"Nevada\"], [161.0, 66.0, \"3/20/20\", \"Nevada\"], [161.0, 0.0, \"3/21/20\", \"Nevada\"], [190.0, 29.0, \"3/22/20\", \"Nevada\"], [245.0, 55.0, \"3/23/20\", \"Nevada\"], [278.0, 33.0, \"3/24/20\", \"Nevada\"], [323.0, 45.0, \"3/25/20\", \"Nevada\"], [420.0, 97.0, \"3/26/20\", \"Nevada\"], [536.0, 116.0, \"3/27/20\", \"Nevada\"], [626.0, 90.0, \"3/28/20\", \"Nevada\"], [920.0, 294.0, \"3/29/20\", \"Nevada\"], [1012.0, 92.0, \"3/30/20\", \"Nevada\"], [1114.0, 102.0, \"3/31/20\", \"Nevada\"], [1279.0, 165.0, \"4/1/20\", \"Nevada\"], [1463.0, 184.0, \"4/2/20\", \"Nevada\"], [1514.0, 51.0, \"4/3/20\", \"Nevada\"], [1742.0, 228.0, \"4/4/20\", \"Nevada\"], [1855.0, 113.0, \"4/5/20\", \"Nevada\"], [1953.0, 98.0, \"4/6/20\", \"Nevada\"], [2124.0, 171.0, \"4/7/20\", \"Nevada\"], [2259.0, 135.0, \"4/8/20\", \"Nevada\"], [2456.0, 197.0, \"4/9/20\", \"Nevada\"], [2722.0, 266.0, \"4/10/20\", \"Nevada\"], [2702.0, -20.0, \"4/11/20\", \"Nevada\"], [2836.0, 134.0, \"4/12/20\", \"Nevada\"], [2990.0, 154.0, \"4/13/20\", \"Nevada\"], [3134.0, 144.0, \"4/14/20\", \"Nevada\"], [3211.0, 77.0, \"4/15/20\", \"Nevada\"], [3214.0, 3.0, \"4/16/20\", \"Nevada\"], [3524.0, 310.0, \"4/17/20\", \"Nevada\"], [3626.0, 102.0, \"4/18/20\", \"Nevada\"], [3728.0, 102.0, \"4/19/20\", \"Nevada\"], [3830.0, 102.0, \"4/20/20\", \"Nevada\"]], \"hoverlabel\": {\"namelength\": 0}, \"hovertemplate\": \"State =%{customdata[3]}<br>Mean growth over 14d compared to max growth =%{x}<br>% cases from last 14d =%{y}<br>Confirmed Cases=%{customdata[0]}<br>Confirmed Cases today =%{customdata[1]}<br>Date=%{customdata[2]}\", \"legendgroup\": \"Nevada\", \"marker\": {\"color\": \"#EF553B\", \"size\": [20.0, 20.0, 45.0, 55.0, 55.0, 95.0, 161.0, 161.0, 190.0, 245.0, 278.0, 323.0, 420.0, 536.0, 626.0, 920.0, 1012.0, 1114.0, 1279.0, 1463.0, 1514.0, 1742.0, 1855.0, 1953.0, 2124.0, 2259.0, 2456.0, 2722.0, 2702.0, 2836.0, 2990.0, 3134.0, 3211.0, 3214.0, 3524.0, 3626.0, 3728.0, 3830.0], \"sizemode\": \"area\", \"sizeref\": 632.65, \"symbol\": \"circle\"}, \"mode\": \"lines+markers\", \"name\": \"Nevada\", \"showlegend\": true, \"type\": \"scattergl\", \"x\": [0.5, 0.5, 1.1, 1.3, 1.3, 2.3, 3.9, 3.9, 4.5, 5.9, 6.7, 7.7, 10.0, 12.6, 14.7, 21.9, 23.5, 25.7, 29.7, 33.2, 32.9, 38.4, 40.5, 41.5, 44.8, 47.0, 49.5, 53.1, 50.4, 46.6, 48.1, 49.1, 46.9, 42.5, 48.8, 45.8, 45.5, 45.6], \"xaxis\": \"x\", \"y\": [100.0, 100.0, 100.0, 100.0, 100.0, 98.9, 98.8, 98.8, 97.9, 98.4, 98.6, 97.8, 97.6, 96.6, 96.8, 97.8, 95.6, 95.1, 95.7, 93.5, 89.4, 90.8, 89.8, 87.5, 86.9, 85.7, 82.9, 80.3, 76.8, 67.6, 66.2, 64.5, 60.2, 54.5, 57.0, 52.0, 50.2, 49.0], \"yaxis\": \"y\"}, {\"customdata\": [[26.0, 9.0, \"3/17/20\", \"New Hampshire\"], [37.0, 11.0, \"3/18/20\", \"New Hampshire\"], [42.0, 5.0, \"3/19/20\", \"New Hampshire\"], [53.0, 11.0, \"3/20/20\", \"New Hampshire\"], [61.0, 8.0, \"3/21/20\", \"New Hampshire\"], [73.0, 12.0, \"3/22/20\", \"New Hampshire\"], [101.0, 28.0, \"3/23/20\", \"New Hampshire\"], [101.0, 0.0, \"3/24/20\", \"New Hampshire\"], [108.0, 7.0, \"3/25/20\", \"New Hampshire\"], [137.0, 29.0, \"3/26/20\", \"New Hampshire\"], [158.0, 21.0, \"3/27/20\", \"New Hampshire\"], [187.0, 29.0, \"3/28/20\", \"New Hampshire\"], [214.0, 27.0, \"3/29/20\", \"New Hampshire\"], [314.0, 100.0, \"3/30/20\", \"New Hampshire\"], [357.0, 43.0, \"3/31/20\", \"New Hampshire\"], [367.0, 10.0, \"4/1/20\", \"New Hampshire\"], [479.0, 112.0, \"4/2/20\", \"New Hampshire\"], [479.0, 0.0, \"4/3/20\", \"New Hampshire\"], [540.0, 61.0, \"4/4/20\", \"New Hampshire\"], [621.0, 81.0, \"4/5/20\", \"New Hampshire\"], [715.0, 94.0, \"4/6/20\", \"New Hampshire\"], [715.0, 0.0, \"4/7/20\", \"New Hampshire\"], [747.0, 32.0, \"4/8/20\", \"New Hampshire\"], [819.0, 72.0, \"4/9/20\", \"New Hampshire\"], [819.0, 0.0, \"4/10/20\", \"New Hampshire\"], [885.0, 66.0, \"4/11/20\", \"New Hampshire\"], [929.0, 44.0, \"4/12/20\", \"New Hampshire\"], [985.0, 56.0, \"4/13/20\", \"New Hampshire\"], [922.0, -63.0, \"4/14/20\", \"New Hampshire\"], [1139.0, 217.0, \"4/15/20\", \"New Hampshire\"], [1139.0, 0.0, \"4/16/20\", \"New Hampshire\"], [1287.0, 148.0, \"4/17/20\", \"New Hampshire\"], [1342.0, 55.0, \"4/18/20\", \"New Hampshire\"], [1390.0, 48.0, \"4/19/20\", \"New Hampshire\"], [1447.0, 57.0, \"4/20/20\", \"New Hampshire\"]], \"hoverlabel\": {\"namelength\": 0}, \"hovertemplate\": \"State =%{customdata[3]}<br>Mean growth over 14d compared to max growth =%{x}<br>% cases from last 14d =%{y}<br>Confirmed Cases=%{customdata[0]}<br>Confirmed Cases today =%{customdata[1]}<br>Date=%{customdata[2]}\", \"legendgroup\": \"New Hampshire\", \"marker\": {\"color\": \"#00cc96\", \"size\": [26.0, 37.0, 42.0, 53.0, 61.0, 73.0, 101.0, 101.0, 108.0, 137.0, 158.0, 187.0, 214.0, 314.0, 357.0, 367.0, 479.0, 479.0, 540.0, 621.0, 715.0, 715.0, 747.0, 819.0, 819.0, 885.0, 929.0, 985.0, 922.0, 1139.0, 1139.0, 1287.0, 1342.0, 1390.0, 1447.0], \"sizemode\": \"area\", \"sizeref\": 632.65, \"symbol\": \"circle\"}, \"mode\": \"lines+markers\", \"name\": \"New Hampshire\", \"showlegend\": true, \"type\": \"scattergl\", \"x\": [1.2, 1.7, 1.9, 2.5, 2.8, 3.3, 4.7, 4.7, 5.0, 6.3, 7.3, 8.7, 10.0, 14.3, 16.0, 15.9, 21.1, 20.6, 23.1, 26.4, 29.6, 29.6, 30.8, 32.9, 31.9, 33.7, 34.5, 32.4, 27.3, 37.3, 31.9, 39.0, 38.7, 37.1, 35.3], \"xaxis\": \"x\", \"y\": [92.3, 94.6, 95.2, 96.2, 96.7, 94.5, 96.0, 96.0, 95.4, 95.6, 96.2, 96.3, 96.7, 94.6, 92.7, 89.9, 91.2, 88.9, 88.7, 88.2, 85.9, 85.9, 85.5, 83.3, 80.7, 78.9, 77.0, 68.1, 61.3, 67.8, 57.9, 62.8, 59.8, 55.3, 50.6], \"yaxis\": \"y\"}, {\"customdata\": [[23.0, 8.0, \"3/11/20\", \"New Jersey\"], [29.0, 6.0, \"3/12/20\", \"New Jersey\"], [49.0, 20.0, \"3/13/20\", \"New Jersey\"], [69.0, 20.0, \"3/14/20\", \"New Jersey\"], [72.0, 3.0, \"3/15/20\", \"New Jersey\"], [176.0, 104.0, \"3/16/20\", \"New Jersey\"], [250.0, 74.0, \"3/17/20\", \"New Jersey\"], [397.0, 147.0, \"3/18/20\", \"New Jersey\"], [741.0, 344.0, \"3/19/20\", \"New Jersey\"], [890.0, 149.0, \"3/20/20\", \"New Jersey\"], [1327.0, 437.0, \"3/21/20\", \"New Jersey\"], [1914.0, 587.0, \"3/22/20\", \"New Jersey\"], [2844.0, 930.0, \"3/23/20\", \"New Jersey\"], [3675.0, 831.0, \"3/24/20\", \"New Jersey\"], [4402.0, 727.0, \"3/25/20\", \"New Jersey\"], [6876.0, 2474.0, \"3/26/20\", \"New Jersey\"], [8825.0, 1949.0, \"3/27/20\", \"New Jersey\"], [11124.0, 2299.0, \"3/28/20\", \"New Jersey\"], [13386.0, 2262.0, \"3/29/20\", \"New Jersey\"], [16636.0, 3250.0, \"3/30/20\", \"New Jersey\"], [18696.0, 2060.0, \"3/31/20\", \"New Jersey\"], [22255.0, 3559.0, \"4/1/20\", \"New Jersey\"], [25590.0, 3335.0, \"4/2/20\", \"New Jersey\"], [29895.0, 4305.0, \"4/3/20\", \"New Jersey\"], [34124.0, 4229.0, \"4/4/20\", \"New Jersey\"], [37505.0, 3381.0, \"4/5/20\", \"New Jersey\"], [41090.0, 3585.0, \"4/6/20\", \"New Jersey\"], [44416.0, 3326.0, \"4/7/20\", \"New Jersey\"], [47437.0, 3021.0, \"4/8/20\", \"New Jersey\"], [51027.0, 3590.0, \"4/9/20\", \"New Jersey\"], [54588.0, 3561.0, \"4/10/20\", \"New Jersey\"], [58151.0, 3563.0, \"4/11/20\", \"New Jersey\"], [61850.0, 3699.0, \"4/12/20\", \"New Jersey\"], [64584.0, 2734.0, \"4/13/20\", \"New Jersey\"], [68824.0, 4240.0, \"4/14/20\", \"New Jersey\"], [71030.0, 2206.0, \"4/15/20\", \"New Jersey\"], [75317.0, 4287.0, \"4/16/20\", \"New Jersey\"], [78467.0, 3150.0, \"4/17/20\", \"New Jersey\"], [81420.0, 2953.0, \"4/18/20\", \"New Jersey\"], [85301.0, 3881.0, \"4/19/20\", \"New Jersey\"], [88722.0, 3421.0, \"4/20/20\", \"New Jersey\"]], \"hoverlabel\": {\"namelength\": 0}, \"hovertemplate\": \"State =%{customdata[3]}<br>Mean growth over 14d compared to max growth =%{x}<br>% cases from last 14d =%{y}<br>Confirmed Cases=%{customdata[0]}<br>Confirmed Cases today =%{customdata[1]}<br>Date=%{customdata[2]}\", \"legendgroup\": \"New Jersey\", \"marker\": {\"color\": \"#ab63fa\", \"size\": [23.0, 29.0, 49.0, 69.0, 72.0, 176.0, 250.0, 397.0, 741.0, 890.0, 1327.0, 1914.0, 2844.0, 3675.0, 4402.0, 6876.0, 8825.0, 11124.0, 13386.0, 16636.0, 18696.0, 22255.0, 25590.0, 29895.0, 34124.0, 37505.0, 41090.0, 44416.0, 47437.0, 51027.0, 54588.0, 58151.0, 61850.0, 64584.0, 68824.0, 71030.0, 75317.0, 78467.0, 81420.0, 85301.0, 88722.0], \"sizemode\": \"area\", \"sizeref\": 632.65, \"symbol\": \"circle\"}, \"mode\": \"lines+markers\", \"name\": \"New Jersey\", \"showlegend\": true, \"type\": \"scattergl\", \"x\": [0.0, 0.0, 0.1, 0.1, 0.1, 0.3, 0.4, 0.7, 1.2, 1.5, 2.2, 3.2, 4.7, 6.1, 7.3, 11.4, 14.6, 18.4, 22.2, 27.4, 30.7, 36.4, 41.4, 48.3, 54.6, 59.3, 63.7, 67.9, 71.7, 73.6, 76.2, 78.4, 80.7, 79.9, 83.5, 81.3, 82.9, 80.9, 78.8, 79.6, 79.4], \"xaxis\": \"x\", \"y\": [100.0, 100.0, 100.0, 100.0, 100.0, 100.0, 100.0, 100.0, 99.7, 99.8, 99.7, 99.7, 99.8, 99.6, 99.5, 99.6, 99.4, 99.4, 99.5, 98.9, 98.7, 98.2, 97.1, 97.0, 96.1, 94.9, 93.1, 91.7, 90.7, 86.5, 83.8, 80.9, 78.4, 74.2, 72.8, 68.7, 66.0, 61.9, 58.1, 56.0, 53.7], \"yaxis\": \"y\"}, {\"customdata\": [[21.0, 8.0, \"3/16/20\", \"New Mexico\"], [23.0, 2.0, \"3/17/20\", \"New Mexico\"], [28.0, 5.0, \"3/18/20\", \"New Mexico\"], [35.0, 7.0, \"3/19/20\", \"New Mexico\"], [42.0, 7.0, \"3/20/20\", \"New Mexico\"], [55.0, 13.0, \"3/21/20\", \"New Mexico\"], [57.0, 2.0, \"3/22/20\", \"New Mexico\"], [83.0, 26.0, \"3/23/20\", \"New Mexico\"], [100.0, 17.0, \"3/24/20\", \"New Mexico\"], [113.0, 13.0, \"3/25/20\", \"New Mexico\"], [113.0, 0.0, \"3/26/20\", \"New Mexico\"], [136.0, 23.0, \"3/27/20\", \"New Mexico\"], [208.0, 72.0, \"3/28/20\", \"New Mexico\"], [237.0, 29.0, \"3/29/20\", \"New Mexico\"], [237.0, 0.0, \"3/30/20\", \"New Mexico\"], [315.0, 78.0, \"3/31/20\", \"New Mexico\"], [340.0, 25.0, \"4/1/20\", \"New Mexico\"], [388.0, 48.0, \"4/2/20\", \"New Mexico\"], [534.0, 146.0, \"4/3/20\", \"New Mexico\"], [534.0, 0.0, \"4/4/20\", \"New Mexico\"], [670.0, 136.0, \"4/5/20\", \"New Mexico\"], [757.0, 87.0, \"4/6/20\", \"New Mexico\"], [876.0, 119.0, \"4/7/20\", \"New Mexico\"], [902.0, 26.0, \"4/8/20\", \"New Mexico\"], [865.0, -37.0, \"4/9/20\", \"New Mexico\"], [1081.0, 216.0, \"4/10/20\", \"New Mexico\"], [1091.0, 10.0, \"4/11/20\", \"New Mexico\"], [1245.0, 154.0, \"4/12/20\", \"New Mexico\"], [1262.0, 17.0, \"4/13/20\", \"New Mexico\"], [1345.0, 83.0, \"4/14/20\", \"New Mexico\"], [1484.0, 139.0, \"4/15/20\", \"New Mexico\"], [1484.0, 0.0, \"4/16/20\", \"New Mexico\"], [1597.0, 113.0, \"4/17/20\", \"New Mexico\"], [1798.0, 201.0, \"4/18/20\", \"New Mexico\"], [1845.0, 47.0, \"4/19/20\", \"New Mexico\"], [1971.0, 126.0, \"4/20/20\", \"New Mexico\"]], \"hoverlabel\": {\"namelength\": 0}, \"hovertemplate\": \"State =%{customdata[3]}<br>Mean growth over 14d compared to max growth =%{x}<br>% cases from last 14d =%{y}<br>Confirmed Cases=%{customdata[0]}<br>Confirmed Cases today =%{customdata[1]}<br>Date=%{customdata[2]}\", \"legendgroup\": \"New Mexico\", \"marker\": {\"color\": \"#FFA15A\", \"size\": [21.0, 23.0, 28.0, 35.0, 42.0, 55.0, 57.0, 83.0, 100.0, 113.0, 113.0, 136.0, 208.0, 237.0, 237.0, 315.0, 340.0, 388.0, 534.0, 534.0, 670.0, 757.0, 876.0, 902.0, 865.0, 1081.0, 1091.0, 1245.0, 1262.0, 1345.0, 1484.0, 1484.0, 1597.0, 1798.0, 1845.0, 1971.0], \"sizemode\": \"area\", \"sizeref\": 632.65, \"symbol\": \"circle\"}, \"mode\": \"lines+markers\", \"name\": \"New Mexico\", \"showlegend\": true, \"type\": \"scattergl\", \"x\": [0.7, 0.8, 1.0, 1.2, 1.5, 2.0, 2.0, 2.9, 3.6, 3.9, 3.8, 4.5, 6.9, 8.0, 7.7, 10.4, 11.1, 12.5, 17.5, 17.0, 21.8, 24.0, 27.6, 28.0, 26.7, 33.6, 31.4, 35.8, 36.4, 36.6, 40.7, 38.9, 37.8, 44.9, 41.8, 43.1], \"xaxis\": \"x\", \"y\": [100.0, 100.0, 100.0, 100.0, 100.0, 100.0, 100.0, 100.0, 100.0, 97.3, 95.6, 92.6, 93.8, 94.5, 91.1, 92.7, 91.8, 91.0, 92.1, 89.7, 91.5, 89.0, 88.6, 87.5, 86.9, 87.4, 80.9, 81.0, 81.2, 76.6, 77.1, 73.9, 66.6, 70.3, 63.7, 61.6], \"yaxis\": \"y\"}, {\"customdata\": [[23.0, 12.0, \"3/5/20\", \"New York\"], [31.0, 8.0, \"3/6/20\", \"New York\"], [76.0, 45.0, \"3/7/20\", \"New York\"], [106.0, 30.0, \"3/8/20\", \"New York\"], [142.0, 36.0, \"3/9/20\", \"New York\"], [150.0, 8.0, \"3/10/20\", \"New York\"], [220.0, 70.0, \"3/11/20\", \"New York\"], [327.0, 107.0, \"3/12/20\", \"New York\"], [421.0, 94.0, \"3/13/20\", \"New York\"], [613.0, 192.0, \"3/14/20\", \"New York\"], [615.0, 2.0, \"3/15/20\", \"New York\"], [967.0, 352.0, \"3/16/20\", \"New York\"], [1578.0, 611.0, \"3/17/20\", \"New York\"], [3038.0, 1460.0, \"3/18/20\", \"New York\"], [5704.0, 2666.0, \"3/19/20\", \"New York\"], [8403.0, 2699.0, \"3/20/20\", \"New York\"], [11727.0, 3324.0, \"3/21/20\", \"New York\"], [15800.0, 4073.0, \"3/22/20\", \"New York\"], [20884.0, 5084.0, \"3/23/20\", \"New York\"], [25681.0, 4797.0, \"3/24/20\", \"New York\"], [30841.0, 5160.0, \"3/25/20\", \"New York\"], [37877.0, 7036.0, \"3/26/20\", \"New York\"], [44876.0, 6999.0, \"3/27/20\", \"New York\"], [52410.0, 7534.0, \"3/28/20\", \"New York\"], [59648.0, 7238.0, \"3/29/20\", \"New York\"], [66663.0, 7015.0, \"3/30/20\", \"New York\"], [75833.0, 9170.0, \"3/31/20\", \"New York\"], [83948.0, 8115.0, \"4/1/20\", \"New York\"], [92506.0, 8558.0, \"4/2/20\", \"New York\"], [102987.0, 10481.0, \"4/3/20\", \"New York\"], [113833.0, 10846.0, \"4/4/20\", \"New York\"], [123160.0, 9327.0, \"4/5/20\", \"New York\"], [131815.0, 8655.0, \"4/6/20\", \"New York\"], [139875.0, 8060.0, \"4/7/20\", \"New York\"], [151061.0, 11186.0, \"4/8/20\", \"New York\"], [161779.0, 10718.0, \"4/9/20\", \"New York\"], [172348.0, 10569.0, \"4/10/20\", \"New York\"], [181026.0, 8678.0, \"4/11/20\", \"New York\"], [189033.0, 8007.0, \"4/12/20\", \"New York\"], [195749.0, 6716.0, \"4/13/20\", \"New York\"], [203020.0, 7271.0, \"4/14/20\", \"New York\"], [214454.0, 11434.0, \"4/15/20\", \"New York\"], [223691.0, 9237.0, \"4/16/20\", \"New York\"], [230597.0, 6906.0, \"4/17/20\", \"New York\"], [241712.0, 11115.0, \"4/18/20\", \"New York\"], [247815.0, 6103.0, \"4/19/20\", \"New York\"], [253060.0, 5245.0, \"4/20/20\", \"New York\"]], \"hoverlabel\": {\"namelength\": 0}, \"hovertemplate\": \"State =%{customdata[3]}<br>Mean growth over 14d compared to max growth =%{x}<br>% cases from last 14d =%{y}<br>Confirmed Cases=%{customdata[0]}<br>Confirmed Cases today =%{customdata[1]}<br>Date=%{customdata[2]}\", \"legendgroup\": \"New York\", \"marker\": {\"color\": \"#19d3f3\", \"size\": [23.0, 31.0, 76.0, 106.0, 142.0, 150.0, 220.0, 327.0, 421.0, 613.0, 615.0, 967.0, 1578.0, 3038.0, 5704.0, 8403.0, 11727.0, 15800.0, 20884.0, 25681.0, 30841.0, 37877.0, 44876.0, 52410.0, 59648.0, 66663.0, 75833.0, 83948.0, 92506.0, 102987.0, 113833.0, 123160.0, 131815.0, 139875.0, 151061.0, 161779.0, 172348.0, 181026.0, 189033.0, 195749.0, 203020.0, 214454.0, 223691.0, 230597.0, 241712.0, 247815.0, 253060.0], \"sizemode\": \"area\", \"sizeref\": 632.65, \"symbol\": \"circle\"}, \"mode\": \"lines+markers\", \"name\": \"New York\", \"showlegend\": true, \"type\": \"scattergl\", \"x\": [0.0, 0.0, 0.0, 0.1, 0.1, 0.1, 0.1, 0.2, 0.3, 0.4, 0.4, 0.6, 1.0, 1.9, 3.6, 5.3, 7.4, 10.0, 13.2, 16.3, 19.6, 24.0, 28.4, 33.1, 37.7, 42.0, 47.4, 51.7, 55.4, 60.4, 65.2, 68.6, 70.8, 72.9, 76.8, 79.1, 81.4, 82.1, 82.6, 82.4, 81.2, 83.3, 83.8, 81.5, 81.7, 79.6, 77.4], \"xaxis\": \"x\", \"y\": [100.0, 100.0, 100.0, 100.0, 100.0, 100.0, 100.0, 100.0, 100.0, 100.0, 100.0, 99.9, 99.9, 99.6, 99.6, 99.6, 99.4, 99.3, 99.3, 99.4, 99.3, 99.1, 99.1, 98.8, 99.0, 98.5, 97.9, 96.4, 93.8, 91.8, 89.7, 87.2, 84.2, 81.6, 79.6, 76.6, 74.0, 71.0, 68.4, 65.9, 62.6, 60.9, 58.6, 55.3, 52.9, 50.3, 47.9], \"yaxis\": \"y\"}, {\"customdata\": [[25.0, 8.0, \"3/14/20\", \"North Carolina\"], [32.0, 7.0, \"3/15/20\", \"North Carolina\"], [39.0, 7.0, \"3/16/20\", \"North Carolina\"], [64.0, 25.0, \"3/17/20\", \"North Carolina\"], [92.0, 28.0, \"3/18/20\", \"North Carolina\"], [136.0, 44.0, \"3/19/20\", \"North Carolina\"], [189.0, 53.0, \"3/20/20\", \"North Carolina\"], [256.0, 67.0, \"3/21/20\", \"North Carolina\"], [305.0, 49.0, \"3/22/20\", \"North Carolina\"], [353.0, 48.0, \"3/23/20\", \"North Carolina\"], [495.0, 142.0, \"3/24/20\", \"North Carolina\"], [590.0, 95.0, \"3/25/20\", \"North Carolina\"], [738.0, 148.0, \"3/26/20\", \"North Carolina\"], [887.0, 149.0, \"3/27/20\", \"North Carolina\"], [1020.0, 133.0, \"3/28/20\", \"North Carolina\"], [1191.0, 171.0, \"3/29/20\", \"North Carolina\"], [1313.0, 122.0, \"3/30/20\", \"North Carolina\"], [1535.0, 222.0, \"3/31/20\", \"North Carolina\"], [1675.0, 140.0, \"4/1/20\", \"North Carolina\"], [1977.0, 302.0, \"4/2/20\", \"North Carolina\"], [2251.0, 274.0, \"4/3/20\", \"North Carolina\"], [2486.0, 235.0, \"4/4/20\", \"North Carolina\"], [2649.0, 163.0, \"4/5/20\", \"North Carolina\"], [2962.0, 313.0, \"4/6/20\", \"North Carolina\"], [3299.0, 337.0, \"4/7/20\", \"North Carolina\"], [3499.0, 200.0, \"4/8/20\", \"North Carolina\"], [3736.0, 237.0, \"4/9/20\", \"North Carolina\"], [3965.0, 229.0, \"4/10/20\", \"North Carolina\"], [4354.0, 389.0, \"4/11/20\", \"North Carolina\"], [4570.0, 216.0, \"4/12/20\", \"North Carolina\"], [4886.0, 316.0, \"4/13/20\", \"North Carolina\"], [5113.0, 227.0, \"4/14/20\", \"North Carolina\"], [5340.0, 227.0, \"4/15/20\", \"North Carolina\"], [5639.0, 299.0, \"4/16/20\", \"North Carolina\"], [6045.0, 406.0, \"4/17/20\", \"North Carolina\"], [6328.0, 283.0, \"4/18/20\", \"North Carolina\"], [6601.0, 273.0, \"4/19/20\", \"North Carolina\"], [6895.0, 294.0, \"4/20/20\", \"North Carolina\"]], \"hoverlabel\": {\"namelength\": 0}, \"hovertemplate\": \"State =%{customdata[3]}<br>Mean growth over 14d compared to max growth =%{x}<br>% cases from last 14d =%{y}<br>Confirmed Cases=%{customdata[0]}<br>Confirmed Cases today =%{customdata[1]}<br>Date=%{customdata[2]}\", \"legendgroup\": \"North Carolina\", \"marker\": {\"color\": \"#FF6692\", \"size\": [25.0, 32.0, 39.0, 64.0, 92.0, 136.0, 189.0, 256.0, 305.0, 353.0, 495.0, 590.0, 738.0, 887.0, 1020.0, 1191.0, 1313.0, 1535.0, 1675.0, 1977.0, 2251.0, 2486.0, 2649.0, 2962.0, 3299.0, 3499.0, 3736.0, 3965.0, 4354.0, 4570.0, 4886.0, 5113.0, 5340.0, 5639.0, 6045.0, 6328.0, 6601.0, 6895.0], \"sizemode\": \"area\", \"sizeref\": 632.65, \"symbol\": \"circle\"}, \"mode\": \"lines+markers\", \"name\": \"North Carolina\", \"showlegend\": true, \"type\": \"scattergl\", \"x\": [0.5, 0.6, 0.7, 1.2, 1.7, 2.5, 3.4, 4.7, 5.6, 6.4, 9.0, 10.7, 13.3, 16.0, 18.3, 21.3, 23.4, 27.0, 29.1, 33.8, 37.9, 40.9, 43.0, 47.9, 51.5, 53.4, 55.0, 56.5, 61.2, 62.0, 65.6, 65.7, 67.3, 67.2, 69.7, 70.5, 72.6, 72.2], \"xaxis\": \"x\", \"y\": [100.0, 100.0, 100.0, 98.4, 98.9, 99.3, 98.9, 99.2, 99.3, 99.4, 98.6, 98.8, 98.0, 98.1, 97.5, 97.3, 97.0, 95.8, 94.5, 93.1, 91.6, 89.7, 88.5, 88.1, 85.0, 83.1, 80.2, 77.6, 76.6, 73.9, 73.1, 70.0, 68.6, 64.9, 62.8, 60.7, 59.9, 57.0], \"yaxis\": \"y\"}, {\"customdata\": [[26.0, 7.0, \"3/20/20\", \"North Dakota\"], [28.0, 2.0, \"3/21/20\", \"North Dakota\"], [28.0, 0.0, \"3/22/20\", \"North Dakota\"], [30.0, 2.0, \"3/23/20\", \"North Dakota\"], [36.0, 6.0, \"3/24/20\", \"North Dakota\"], [45.0, 9.0, \"3/25/20\", \"North Dakota\"], [51.0, 6.0, \"3/26/20\", \"North Dakota\"], [68.0, 17.0, \"3/27/20\", \"North Dakota\"], [94.0, 26.0, \"3/28/20\", \"North Dakota\"], [98.0, 4.0, \"3/29/20\", \"North Dakota\"], [109.0, 11.0, \"3/30/20\", \"North Dakota\"], [122.0, 13.0, \"3/31/20\", \"North Dakota\"], [142.0, 20.0, \"4/1/20\", \"North Dakota\"], [159.0, 17.0, \"4/2/20\", \"North Dakota\"], [173.0, 14.0, \"4/3/20\", \"North Dakota\"], [186.0, 13.0, \"4/4/20\", \"North Dakota\"], [207.0, 21.0, \"4/5/20\", \"North Dakota\"], [225.0, 18.0, \"4/6/20\", \"North Dakota\"], [237.0, 12.0, \"4/7/20\", \"North Dakota\"], [251.0, 14.0, \"4/8/20\", \"North Dakota\"], [269.0, 18.0, \"4/9/20\", \"North Dakota\"], [278.0, 9.0, \"4/10/20\", \"North Dakota\"], [293.0, 15.0, \"4/11/20\", \"North Dakota\"], [308.0, 15.0, \"4/12/20\", \"North Dakota\"], [331.0, 23.0, \"4/13/20\", \"North Dakota\"], [341.0, 10.0, \"4/14/20\", \"North Dakota\"], [365.0, 24.0, \"4/15/20\", \"North Dakota\"], [393.0, 28.0, \"4/16/20\", \"North Dakota\"], [393.0, 0.0, \"4/17/20\", \"North Dakota\"], [528.0, 135.0, \"4/18/20\", \"North Dakota\"], [585.0, 57.0, \"4/19/20\", \"North Dakota\"], [627.0, 42.0, \"4/20/20\", \"North Dakota\"]], \"hoverlabel\": {\"namelength\": 0}, \"hovertemplate\": \"State =%{customdata[3]}<br>Mean growth over 14d compared to max growth =%{x}<br>% cases from last 14d =%{y}<br>Confirmed Cases=%{customdata[0]}<br>Confirmed Cases today =%{customdata[1]}<br>Date=%{customdata[2]}\", \"legendgroup\": \"North Dakota\", \"marker\": {\"color\": \"#B6E880\", \"size\": [26.0, 28.0, 28.0, 30.0, 36.0, 45.0, 51.0, 68.0, 94.0, 98.0, 109.0, 122.0, 142.0, 159.0, 173.0, 186.0, 207.0, 225.0, 237.0, 251.0, 269.0, 278.0, 293.0, 308.0, 331.0, 341.0, 365.0, 393.0, 393.0, 528.0, 585.0, 627.0], \"sizemode\": \"area\", \"sizeref\": 632.65, \"symbol\": \"circle\"}, \"mode\": \"lines+markers\", \"name\": \"North Dakota\", \"showlegend\": true, \"type\": \"scattergl\", \"x\": [3.3, 3.5, 3.5, 3.8, 4.5, 5.6, 6.3, 8.4, 11.7, 12.2, 13.5, 14.9, 17.0, 17.5, 18.4, 19.8, 22.4, 24.4, 25.2, 25.8, 27.3, 26.3, 24.9, 26.3, 27.8, 27.4, 27.9, 29.3, 27.6, 42.9, 47.4, 50.4], \"xaxis\": \"x\", \"y\": [100.0, 100.0, 100.0, 100.0, 100.0, 100.0, 98.0, 98.5, 98.9, 99.0, 99.1, 97.5, 95.8, 88.1, 85.0, 84.9, 86.5, 86.7, 84.8, 82.1, 81.0, 75.5, 67.9, 68.2, 67.1, 64.2, 61.1, 59.5, 56.0, 64.8, 64.6, 64.1], \"yaxis\": \"y\"}, {\"customdata\": [[26.0, 14.0, \"3/14/20\", \"Ohio\"], [30.0, 4.0, \"3/15/20\", \"Ohio\"], [50.0, 20.0, \"3/16/20\", \"Ohio\"], [67.0, 17.0, \"3/17/20\", \"Ohio\"], [89.0, 22.0, \"3/18/20\", \"Ohio\"], [119.0, 30.0, \"3/19/20\", \"Ohio\"], [173.0, 54.0, \"3/20/20\", \"Ohio\"], [247.0, 74.0, \"3/21/20\", \"Ohio\"], [356.0, 109.0, \"3/22/20\", \"Ohio\"], [443.0, 87.0, \"3/23/20\", \"Ohio\"], [567.0, 124.0, \"3/24/20\", \"Ohio\"], [704.0, 137.0, \"3/25/20\", \"Ohio\"], [868.0, 164.0, \"3/26/20\", \"Ohio\"], [1137.0, 269.0, \"3/27/20\", \"Ohio\"], [1406.0, 269.0, \"3/28/20\", \"Ohio\"], [1653.0, 247.0, \"3/29/20\", \"Ohio\"], [1933.0, 280.0, \"3/30/20\", \"Ohio\"], [2199.0, 266.0, \"3/31/20\", \"Ohio\"], [2547.0, 348.0, \"4/1/20\", \"Ohio\"], [2901.0, 354.0, \"4/2/20\", \"Ohio\"], [3312.0, 411.0, \"4/3/20\", \"Ohio\"], [3739.0, 427.0, \"4/4/20\", \"Ohio\"], [4043.0, 304.0, \"4/5/20\", \"Ohio\"], [4453.0, 410.0, \"4/6/20\", \"Ohio\"], [4782.0, 329.0, \"4/7/20\", \"Ohio\"], [5148.0, 366.0, \"4/8/20\", \"Ohio\"], [5512.0, 364.0, \"4/9/20\", \"Ohio\"], [5878.0, 366.0, \"4/10/20\", \"Ohio\"], [6250.0, 372.0, \"4/11/20\", \"Ohio\"], [6604.0, 354.0, \"4/12/20\", \"Ohio\"], [6975.0, 371.0, \"4/13/20\", \"Ohio\"], [7285.0, 310.0, \"4/14/20\", \"Ohio\"], [7794.0, 509.0, \"4/15/20\", \"Ohio\"], [8414.0, 620.0, \"4/16/20\", \"Ohio\"], [9107.0, 693.0, \"4/17/20\", \"Ohio\"], [10222.0, 1115.0, \"4/18/20\", \"Ohio\"], [11602.0, 1380.0, \"4/19/20\", \"Ohio\"], [12919.0, 1317.0, \"4/20/20\", \"Ohio\"]], \"hoverlabel\": {\"namelength\": 0}, \"hovertemplate\": \"State =%{customdata[3]}<br>Mean growth over 14d compared to max growth =%{x}<br>% cases from last 14d =%{y}<br>Confirmed Cases=%{customdata[0]}<br>Confirmed Cases today =%{customdata[1]}<br>Date=%{customdata[2]}\", \"legendgroup\": \"Ohio\", \"marker\": {\"color\": \"#FF97FF\", \"size\": [26.0, 30.0, 50.0, 67.0, 89.0, 119.0, 173.0, 247.0, 356.0, 443.0, 567.0, 704.0, 868.0, 1137.0, 1406.0, 1653.0, 1933.0, 2199.0, 2547.0, 2901.0, 3312.0, 3739.0, 4043.0, 4453.0, 4782.0, 5148.0, 5512.0, 5878.0, 6250.0, 6604.0, 6975.0, 7285.0, 7794.0, 8414.0, 9107.0, 10222.0, 11602.0, 12919.0], \"sizemode\": \"area\", \"sizeref\": 632.65, \"symbol\": \"circle\"}, \"mode\": \"lines+markers\", \"name\": \"Ohio\", \"showlegend\": true, \"type\": \"scattergl\", \"x\": [0.1, 0.2, 0.3, 0.4, 0.5, 0.6, 0.9, 1.3, 1.9, 2.4, 3.1, 3.8, 4.7, 6.1, 7.5, 8.8, 10.2, 11.6, 13.3, 15.1, 17.0, 18.9, 20.0, 21.7, 22.9, 24.1, 25.2, 25.7, 26.3, 26.9, 27.3, 27.6, 28.5, 29.9, 31.4, 35.2, 41.0, 45.9], \"xaxis\": \"x\", \"y\": [100.0, 100.0, 100.0, 100.0, 100.0, 100.0, 100.0, 100.0, 100.0, 100.0, 99.5, 99.4, 99.4, 98.9, 98.2, 98.2, 97.4, 97.0, 96.5, 95.9, 94.8, 93.4, 91.2, 90.1, 88.1, 86.3, 84.3, 80.7, 77.5, 75.0, 72.3, 69.8, 67.3, 65.5, 63.6, 63.4, 65.2, 65.5], \"yaxis\": \"y\"}, {\"customdata\": [[44.0, 27.0, \"3/19/20\", \"Oklahoma\"], [49.0, 5.0, \"3/20/20\", \"Oklahoma\"], [53.0, 4.0, \"3/21/20\", \"Oklahoma\"], [67.0, 14.0, \"3/22/20\", \"Oklahoma\"], [81.0, 14.0, \"3/23/20\", \"Oklahoma\"], [106.0, 25.0, \"3/24/20\", \"Oklahoma\"], [164.0, 58.0, \"3/25/20\", \"Oklahoma\"], [248.0, 84.0, \"3/26/20\", \"Oklahoma\"], [322.0, 74.0, \"3/27/20\", \"Oklahoma\"], [377.0, 55.0, \"3/28/20\", \"Oklahoma\"], [429.0, 52.0, \"3/29/20\", \"Oklahoma\"], [481.0, 52.0, \"3/30/20\", \"Oklahoma\"], [568.0, 87.0, \"3/31/20\", \"Oklahoma\"], [721.0, 153.0, \"4/1/20\", \"Oklahoma\"], [881.0, 160.0, \"4/2/20\", \"Oklahoma\"], [990.0, 109.0, \"4/3/20\", \"Oklahoma\"], [1161.0, 171.0, \"4/4/20\", \"Oklahoma\"], [1254.0, 93.0, \"4/5/20\", \"Oklahoma\"], [1329.0, 75.0, \"4/6/20\", \"Oklahoma\"], [1474.0, 145.0, \"4/7/20\", \"Oklahoma\"], [1526.0, 52.0, \"4/8/20\", \"Oklahoma\"], [1686.0, 160.0, \"4/9/20\", \"Oklahoma\"], [1794.0, 108.0, \"4/10/20\", \"Oklahoma\"], [1868.0, 74.0, \"4/11/20\", \"Oklahoma\"], [1970.0, 102.0, \"4/12/20\", \"Oklahoma\"], [2069.0, 99.0, \"4/13/20\", \"Oklahoma\"], [2184.0, 115.0, \"4/14/20\", \"Oklahoma\"], [2263.0, 79.0, \"4/15/20\", \"Oklahoma\"], [2357.0, 94.0, \"4/16/20\", \"Oklahoma\"], [2465.0, 108.0, \"4/17/20\", \"Oklahoma\"], [2465.0, 0.0, \"4/18/20\", \"Oklahoma\"], [2567.0, 102.0, \"4/19/20\", \"Oklahoma\"], [2680.0, 113.0, \"4/20/20\", \"Oklahoma\"]], \"hoverlabel\": {\"namelength\": 0}, \"hovertemplate\": \"State =%{customdata[3]}<br>Mean growth over 14d compared to max growth =%{x}<br>% cases from last 14d =%{y}<br>Confirmed Cases=%{customdata[0]}<br>Confirmed Cases today =%{customdata[1]}<br>Date=%{customdata[2]}\", \"legendgroup\": \"Oklahoma\", \"marker\": {\"color\": \"#FECB52\", \"size\": [44.0, 49.0, 53.0, 67.0, 81.0, 106.0, 164.0, 248.0, 322.0, 377.0, 429.0, 481.0, 568.0, 721.0, 881.0, 990.0, 1161.0, 1254.0, 1329.0, 1474.0, 1526.0, 1686.0, 1794.0, 1868.0, 1970.0, 2069.0, 2184.0, 2263.0, 2357.0, 2465.0, 2465.0, 2567.0, 2680.0], \"sizemode\": \"area\", \"sizeref\": 632.65, \"symbol\": \"circle\"}, \"mode\": \"lines+markers\", \"name\": \"Oklahoma\", \"showlegend\": true, \"type\": \"scattergl\", \"x\": [2.0, 2.2, 2.3, 2.9, 3.6, 4.6, 7.2, 10.9, 14.2, 16.7, 19.0, 21.0, 24.6, 31.4, 37.4, 42.0, 49.5, 53.0, 55.7, 61.1, 60.8, 64.2, 65.7, 66.6, 68.8, 70.9, 72.1, 68.8, 65.9, 65.8, 58.2, 58.6, 60.3], \"xaxis\": \"x\", \"y\": [100.0, 100.0, 98.1, 98.5, 98.8, 98.1, 98.8, 98.8, 99.1, 98.9, 99.1, 97.9, 97.0, 97.6, 95.0, 95.1, 95.4, 94.7, 93.9, 92.8, 89.3, 85.3, 82.1, 79.8, 78.2, 76.8, 74.0, 68.1, 62.6, 59.8, 52.9, 51.1, 50.4], \"yaxis\": \"y\"}, {\"customdata\": [[24.0, 5.0, \"3/12/20\", \"Oregon\"], [30.0, 6.0, \"3/13/20\", \"Oregon\"], [36.0, 6.0, \"3/14/20\", \"Oregon\"], [36.0, 0.0, \"3/15/20\", \"Oregon\"], [39.0, 3.0, \"3/16/20\", \"Oregon\"], [66.0, 27.0, \"3/17/20\", \"Oregon\"], [75.0, 9.0, \"3/18/20\", \"Oregon\"], [88.0, 13.0, \"3/19/20\", \"Oregon\"], [114.0, 26.0, \"3/20/20\", \"Oregon\"], [137.0, 23.0, \"3/21/20\", \"Oregon\"], [161.0, 24.0, \"3/22/20\", \"Oregon\"], [191.0, 30.0, \"3/23/20\", \"Oregon\"], [210.0, 19.0, \"3/24/20\", \"Oregon\"], [266.0, 56.0, \"3/25/20\", \"Oregon\"], [316.0, 50.0, \"3/26/20\", \"Oregon\"], [416.0, 100.0, \"3/27/20\", \"Oregon\"], [479.0, 63.0, \"3/28/20\", \"Oregon\"], [548.0, 69.0, \"3/29/20\", \"Oregon\"], [606.0, 58.0, \"3/30/20\", \"Oregon\"], [690.0, 84.0, \"3/31/20\", \"Oregon\"], [736.0, 46.0, \"4/1/20\", \"Oregon\"], [826.0, 90.0, \"4/2/20\", \"Oregon\"], [899.0, 73.0, \"4/3/20\", \"Oregon\"], [899.0, 0.0, \"4/4/20\", \"Oregon\"], [1068.0, 169.0, \"4/5/20\", \"Oregon\"], [1068.0, 0.0, \"4/6/20\", \"Oregon\"], [1132.0, 64.0, \"4/7/20\", \"Oregon\"], [1181.0, 49.0, \"4/8/20\", \"Oregon\"], [1321.0, 140.0, \"4/9/20\", \"Oregon\"], [1322.0, 1.0, \"4/10/20\", \"Oregon\"], [1371.0, 49.0, \"4/11/20\", \"Oregon\"], [1527.0, 156.0, \"4/12/20\", \"Oregon\"], [1584.0, 57.0, \"4/13/20\", \"Oregon\"], [1633.0, 49.0, \"4/14/20\", \"Oregon\"], [1663.0, 30.0, \"4/15/20\", \"Oregon\"], [1736.0, 73.0, \"4/16/20\", \"Oregon\"], [1785.0, 49.0, \"4/17/20\", \"Oregon\"], [1844.0, 59.0, \"4/18/20\", \"Oregon\"], [1910.0, 66.0, \"4/19/20\", \"Oregon\"], [1957.0, 47.0, \"4/20/20\", \"Oregon\"]], \"hoverlabel\": {\"namelength\": 0}, \"hovertemplate\": \"State =%{customdata[3]}<br>Mean growth over 14d compared to max growth =%{x}<br>% cases from last 14d =%{y}<br>Confirmed Cases=%{customdata[0]}<br>Confirmed Cases today =%{customdata[1]}<br>Date=%{customdata[2]}\", \"legendgroup\": \"Oregon\", \"marker\": {\"color\": \"#636efa\", \"size\": [24.0, 30.0, 36.0, 36.0, 39.0, 66.0, 75.0, 88.0, 114.0, 137.0, 161.0, 191.0, 210.0, 266.0, 316.0, 416.0, 479.0, 548.0, 606.0, 690.0, 736.0, 826.0, 899.0, 899.0, 1068.0, 1068.0, 1132.0, 1181.0, 1321.0, 1322.0, 1371.0, 1527.0, 1584.0, 1633.0, 1663.0, 1736.0, 1785.0, 1844.0, 1910.0, 1957.0], \"sizemode\": \"area\", \"sizeref\": 632.65, \"symbol\": \"circle\"}, \"mode\": \"lines+markers\", \"name\": \"Oregon\", \"showlegend\": true, \"type\": \"scattergl\", \"x\": [1.1, 1.4, 1.6, 1.6, 1.6, 2.9, 3.3, 3.9, 5.1, 6.0, 6.7, 8.1, 9.0, 11.3, 13.4, 17.7, 20.3, 23.4, 26.0, 28.6, 30.3, 33.8, 35.9, 34.9, 41.5, 40.2, 42.2, 41.9, 46.0, 41.5, 40.8, 44.8, 44.8, 43.2, 42.4, 41.7, 40.6, 43.3, 38.6, 40.7], \"xaxis\": \"x\", \"y\": [100.0, 100.0, 97.2, 97.2, 92.3, 95.5, 96.0, 96.6, 97.4, 95.6, 91.3, 92.7, 93.3, 92.9, 92.4, 92.8, 92.5, 93.4, 93.6, 90.4, 89.8, 89.3, 87.3, 84.8, 84.9, 82.1, 81.4, 77.5, 76.1, 68.5, 65.1, 64.1, 61.7, 57.7, 55.7, 52.4, 49.6, 51.2, 44.1, 45.4], \"yaxis\": \"y\"}, {\"customdata\": [[22.0, 6.0, \"3/12/20\", \"Pennsylvania\"], [41.0, 19.0, \"3/13/20\", \"Pennsylvania\"], [47.0, 6.0, \"3/14/20\", \"Pennsylvania\"], [47.0, 0.0, \"3/15/20\", \"Pennsylvania\"], [79.0, 32.0, \"3/16/20\", \"Pennsylvania\"], [112.0, 33.0, \"3/17/20\", \"Pennsylvania\"], [155.0, 43.0, \"3/18/20\", \"Pennsylvania\"], [206.0, 51.0, \"3/19/20\", \"Pennsylvania\"], [311.0, 105.0, \"3/20/20\", \"Pennsylvania\"], [399.0, 88.0, \"3/21/20\", \"Pennsylvania\"], [509.0, 110.0, \"3/22/20\", \"Pennsylvania\"], [698.0, 189.0, \"3/23/20\", \"Pennsylvania\"], [946.0, 248.0, \"3/24/20\", \"Pennsylvania\"], [1260.0, 314.0, \"3/25/20\", \"Pennsylvania\"], [1795.0, 535.0, \"3/26/20\", \"Pennsylvania\"], [2345.0, 550.0, \"3/27/20\", \"Pennsylvania\"], [2845.0, 500.0, \"3/28/20\", \"Pennsylvania\"], [3432.0, 587.0, \"3/29/20\", \"Pennsylvania\"], [4155.0, 723.0, \"3/30/20\", \"Pennsylvania\"], [4963.0, 808.0, \"3/31/20\", \"Pennsylvania\"], [6009.0, 1046.0, \"4/1/20\", \"Pennsylvania\"], [7268.0, 1259.0, \"4/2/20\", \"Pennsylvania\"], [8570.0, 1302.0, \"4/3/20\", \"Pennsylvania\"], [10444.0, 1874.0, \"4/4/20\", \"Pennsylvania\"], [11589.0, 1145.0, \"4/5/20\", \"Pennsylvania\"], [13127.0, 1538.0, \"4/6/20\", \"Pennsylvania\"], [14853.0, 1726.0, \"4/7/20\", \"Pennsylvania\"], [16631.0, 1778.0, \"4/8/20\", \"Pennsylvania\"], [18300.0, 1669.0, \"4/9/20\", \"Pennsylvania\"], [20051.0, 1751.0, \"4/10/20\", \"Pennsylvania\"], [21719.0, 1668.0, \"4/11/20\", \"Pennsylvania\"], [22938.0, 1219.0, \"4/12/20\", \"Pennsylvania\"], [24292.0, 1354.0, \"4/13/20\", \"Pennsylvania\"], [25465.0, 1173.0, \"4/14/20\", \"Pennsylvania\"], [26753.0, 1288.0, \"4/15/20\", \"Pennsylvania\"], [28258.0, 1505.0, \"4/16/20\", \"Pennsylvania\"], [29888.0, 1630.0, \"4/17/20\", \"Pennsylvania\"], [31652.0, 1764.0, \"4/18/20\", \"Pennsylvania\"], [32902.0, 1250.0, \"4/19/20\", \"Pennsylvania\"], [33914.0, 1012.0, \"4/20/20\", \"Pennsylvania\"]], \"hoverlabel\": {\"namelength\": 0}, \"hovertemplate\": \"State =%{customdata[3]}<br>Mean growth over 14d compared to max growth =%{x}<br>% cases from last 14d =%{y}<br>Confirmed Cases=%{customdata[0]}<br>Confirmed Cases today =%{customdata[1]}<br>Date=%{customdata[2]}\", \"legendgroup\": \"Pennsylvania\", \"marker\": {\"color\": \"#EF553B\", \"size\": [22.0, 41.0, 47.0, 47.0, 79.0, 112.0, 155.0, 206.0, 311.0, 399.0, 509.0, 698.0, 946.0, 1260.0, 1795.0, 2345.0, 2845.0, 3432.0, 4155.0, 4963.0, 6009.0, 7268.0, 8570.0, 10444.0, 11589.0, 13127.0, 14853.0, 16631.0, 18300.0, 20051.0, 21719.0, 22938.0, 24292.0, 25465.0, 26753.0, 28258.0, 29888.0, 31652.0, 32902.0, 33914.0], \"sizemode\": \"area\", \"sizeref\": 632.65, \"symbol\": \"circle\"}, \"mode\": \"lines+markers\", \"name\": \"Pennsylvania\", \"showlegend\": true, \"type\": \"scattergl\", \"x\": [0.1, 0.2, 0.2, 0.2, 0.3, 0.4, 0.6, 0.8, 1.2, 1.6, 2.0, 2.8, 3.8, 5.0, 7.1, 9.3, 11.2, 13.6, 16.4, 19.5, 23.5, 28.4, 33.2, 40.4, 44.5, 49.9, 55.9, 61.8, 66.3, 71.1, 75.8, 78.4, 80.9, 82.4, 83.3, 84.3, 85.6, 85.2, 85.6, 83.5], \"xaxis\": \"x\", \"y\": [100.0, 100.0, 100.0, 100.0, 100.0, 100.0, 100.0, 100.0, 99.4, 99.5, 98.8, 99.0, 98.7, 98.7, 98.8, 98.3, 98.3, 98.6, 98.1, 97.7, 97.4, 97.2, 96.4, 96.2, 95.6, 94.7, 93.6, 92.4, 90.2, 88.3, 86.9, 85.0, 82.9, 80.5, 77.5, 74.3, 71.3, 67.0, 64.8, 61.3], \"yaxis\": \"y\"}, {\"customdata\": [[21.0, 7.0, \"3/21/20\", \"Puerto Rico\"], [23.0, 2.0, \"3/22/20\", \"Puerto Rico\"], [31.0, 8.0, \"3/23/20\", \"Puerto Rico\"], [39.0, 8.0, \"3/24/20\", \"Puerto Rico\"], [51.0, 12.0, \"3/25/20\", \"Puerto Rico\"], [64.0, 13.0, \"3/26/20\", \"Puerto Rico\"], [79.0, 15.0, \"3/27/20\", \"Puerto Rico\"], [100.0, 21.0, \"3/28/20\", \"Puerto Rico\"], [127.0, 27.0, \"3/29/20\", \"Puerto Rico\"], [174.0, 47.0, \"3/30/20\", \"Puerto Rico\"], [239.0, 65.0, \"3/31/20\", \"Puerto Rico\"], [286.0, 47.0, \"4/1/20\", \"Puerto Rico\"], [316.0, 30.0, \"4/2/20\", \"Puerto Rico\"], [316.0, 0.0, \"4/3/20\", \"Puerto Rico\"], [452.0, 136.0, \"4/4/20\", \"Puerto Rico\"], [475.0, 23.0, \"4/5/20\", \"Puerto Rico\"], [513.0, 38.0, \"4/6/20\", \"Puerto Rico\"], [573.0, 60.0, \"4/7/20\", \"Puerto Rico\"], [620.0, 47.0, \"4/8/20\", \"Puerto Rico\"], [683.0, 63.0, \"4/9/20\", \"Puerto Rico\"], [725.0, 42.0, \"4/10/20\", \"Puerto Rico\"], [788.0, 63.0, \"4/11/20\", \"Puerto Rico\"], [897.0, 109.0, \"4/12/20\", \"Puerto Rico\"], [903.0, 6.0, \"4/13/20\", \"Puerto Rico\"], [923.0, 20.0, \"4/14/20\", \"Puerto Rico\"], [974.0, 51.0, \"4/15/20\", \"Puerto Rico\"], [1043.0, 69.0, \"4/16/20\", \"Puerto Rico\"], [1068.0, 25.0, \"4/17/20\", \"Puerto Rico\"], [1118.0, 50.0, \"4/18/20\", \"Puerto Rico\"], [1213.0, 95.0, \"4/19/20\", \"Puerto Rico\"], [1252.0, 39.0, \"4/20/20\", \"Puerto Rico\"]], \"hoverlabel\": {\"namelength\": 0}, \"hovertemplate\": \"State =%{customdata[3]}<br>Mean growth over 14d compared to max growth =%{x}<br>% cases from last 14d =%{y}<br>Confirmed Cases=%{customdata[0]}<br>Confirmed Cases today =%{customdata[1]}<br>Date=%{customdata[2]}\", \"legendgroup\": \"Puerto Rico\", \"marker\": {\"color\": \"#00cc96\", \"size\": [21.0, 23.0, 31.0, 39.0, 51.0, 64.0, 79.0, 100.0, 127.0, 174.0, 239.0, 286.0, 316.0, 316.0, 452.0, 475.0, 513.0, 573.0, 620.0, 683.0, 725.0, 788.0, 897.0, 903.0, 923.0, 974.0, 1043.0, 1068.0, 1118.0, 1213.0, 1252.0], \"sizemode\": \"area\", \"sizeref\": 632.65, \"symbol\": \"circle\"}, \"mode\": \"lines+markers\", \"name\": \"Puerto Rico\", \"showlegend\": true, \"type\": \"scattergl\", \"x\": [1.4, 1.5, 2.0, 2.6, 3.3, 4.2, 5.2, 6.6, 8.3, 11.1, 15.3, 18.4, 20.4, 19.8, 28.2, 29.6, 31.6, 35.0, 37.3, 40.6, 42.3, 45.1, 50.5, 47.8, 44.8, 45.1, 47.6, 49.3, 43.6, 48.4, 48.4], \"xaxis\": \"x\", \"y\": [100.0, 100.0, 100.0, 100.0, 100.0, 100.0, 100.0, 100.0, 100.0, 97.1, 97.9, 98.3, 98.4, 95.6, 95.4, 95.2, 94.0, 93.2, 91.8, 90.6, 89.1, 87.3, 85.8, 80.7, 74.1, 70.6, 69.7, 70.4, 59.6, 60.8, 59.0], \"yaxis\": \"y\"}, {\"customdata\": [[20.0, 8.0, \"3/14/20\", \"Rhode Island\"], [20.0, 0.0, \"3/15/20\", \"Rhode Island\"], [21.0, 1.0, \"3/16/20\", \"Rhode Island\"], [23.0, 2.0, \"3/17/20\", \"Rhode Island\"], [33.0, 10.0, \"3/18/20\", \"Rhode Island\"], [44.0, 11.0, \"3/19/20\", \"Rhode Island\"], [54.0, 10.0, \"3/20/20\", \"Rhode Island\"], [66.0, 12.0, \"3/21/20\", \"Rhode Island\"], [83.0, 17.0, \"3/22/20\", \"Rhode Island\"], [106.0, 23.0, \"3/23/20\", \"Rhode Island\"], [124.0, 18.0, \"3/24/20\", \"Rhode Island\"], [132.0, 8.0, \"3/25/20\", \"Rhode Island\"], [165.0, 33.0, \"3/26/20\", \"Rhode Island\"], [203.0, 38.0, \"3/27/20\", \"Rhode Island\"], [239.0, 36.0, \"3/28/20\", \"Rhode Island\"], [294.0, 55.0, \"3/29/20\", \"Rhode Island\"], [408.0, 114.0, \"3/30/20\", \"Rhode Island\"], [488.0, 80.0, \"3/31/20\", \"Rhode Island\"], [566.0, 78.0, \"4/1/20\", \"Rhode Island\"], [645.0, 79.0, \"4/2/20\", \"Rhode Island\"], [711.0, 66.0, \"4/3/20\", \"Rhode Island\"], [806.0, 95.0, \"4/4/20\", \"Rhode Island\"], [922.0, 116.0, \"4/5/20\", \"Rhode Island\"], [1082.0, 160.0, \"4/6/20\", \"Rhode Island\"], [1229.0, 147.0, \"4/7/20\", \"Rhode Island\"], [1450.0, 221.0, \"4/8/20\", \"Rhode Island\"], [1727.0, 277.0, \"4/9/20\", \"Rhode Island\"], [1727.0, 0.0, \"4/10/20\", \"Rhode Island\"], [2349.0, 622.0, \"4/11/20\", \"Rhode Island\"], [2665.0, 316.0, \"4/12/20\", \"Rhode Island\"], [2665.0, 0.0, \"4/13/20\", \"Rhode Island\"], [3251.0, 586.0, \"4/14/20\", \"Rhode Island\"], [3251.0, 0.0, \"4/15/20\", \"Rhode Island\"], [3529.0, 278.0, \"4/16/20\", \"Rhode Island\"], [4177.0, 648.0, \"4/17/20\", \"Rhode Island\"], [4491.0, 314.0, \"4/18/20\", \"Rhode Island\"], [4706.0, 215.0, \"4/19/20\", \"Rhode Island\"], [5090.0, 384.0, \"4/20/20\", \"Rhode Island\"]], \"hoverlabel\": {\"namelength\": 0}, \"hovertemplate\": \"State =%{customdata[3]}<br>Mean growth over 14d compared to max growth =%{x}<br>% cases from last 14d =%{y}<br>Confirmed Cases=%{customdata[0]}<br>Confirmed Cases today =%{customdata[1]}<br>Date=%{customdata[2]}\", \"legendgroup\": \"Rhode Island\", \"marker\": {\"color\": \"#ab63fa\", \"size\": [20.0, 20.0, 21.0, 23.0, 33.0, 44.0, 54.0, 66.0, 83.0, 106.0, 124.0, 132.0, 165.0, 203.0, 239.0, 294.0, 408.0, 488.0, 566.0, 645.0, 711.0, 806.0, 922.0, 1082.0, 1229.0, 1450.0, 1727.0, 1727.0, 2349.0, 2665.0, 2665.0, 3251.0, 3251.0, 3529.0, 4177.0, 4491.0, 4706.0, 5090.0], \"sizemode\": \"area\", \"sizeref\": 632.65, \"symbol\": \"circle\"}, \"mode\": \"lines+markers\", \"name\": \"Rhode Island\", \"showlegend\": true, \"type\": \"scattergl\", \"x\": [0.2, 0.2, 0.2, 0.2, 0.4, 0.5, 0.6, 0.7, 0.9, 1.2, 1.4, 1.5, 1.9, 2.2, 2.5, 3.1, 4.4, 5.3, 6.1, 6.9, 7.5, 8.5, 9.6, 11.2, 12.7, 15.1, 17.9, 17.5, 24.2, 27.2, 25.9, 31.7, 30.8, 33.1, 39.8, 42.3, 43.5, 46.0], \"xaxis\": \"x\", \"y\": [100.0, 95.0, 90.5, 91.3, 93.9, 95.5, 96.3, 95.5, 96.4, 97.2, 97.6, 96.2, 98.2, 94.1, 91.6, 93.2, 94.9, 95.3, 94.2, 93.2, 92.4, 91.8, 91.0, 90.2, 89.9, 90.9, 90.4, 88.2, 89.8, 89.0, 84.7, 85.0, 82.6, 81.7, 83.0, 82.1, 80.4, 78.7], \"yaxis\": \"y\"}, {\"customdata\": [[30.0, 11.0, \"3/16/20\", \"South Carolina\"], [47.0, 17.0, \"3/17/20\", \"South Carolina\"], [60.0, 13.0, \"3/18/20\", \"South Carolina\"], [80.0, 20.0, \"3/19/20\", \"South Carolina\"], [126.0, 46.0, \"3/20/20\", \"South Carolina\"], [174.0, 48.0, \"3/21/20\", \"South Carolina\"], [196.0, 22.0, \"3/22/20\", \"South Carolina\"], [298.0, 102.0, \"3/23/20\", \"South Carolina\"], [342.0, 44.0, \"3/24/20\", \"South Carolina\"], [424.0, 82.0, \"3/25/20\", \"South Carolina\"], [424.0, 0.0, \"3/26/20\", \"South Carolina\"], [542.0, 118.0, \"3/27/20\", \"South Carolina\"], [660.0, 118.0, \"3/28/20\", \"South Carolina\"], [774.0, 114.0, \"3/29/20\", \"South Carolina\"], [925.0, 151.0, \"3/30/20\", \"South Carolina\"], [1083.0, 158.0, \"3/31/20\", \"South Carolina\"], [1293.0, 210.0, \"4/1/20\", \"South Carolina\"], [1554.0, 261.0, \"4/2/20\", \"South Carolina\"], [1700.0, 146.0, \"4/3/20\", \"South Carolina\"], [1917.0, 217.0, \"4/4/20\", \"South Carolina\"], [2049.0, 132.0, \"4/5/20\", \"South Carolina\"], [2232.0, 183.0, \"4/6/20\", \"South Carolina\"], [2417.0, 185.0, \"4/7/20\", \"South Carolina\"], [2417.0, 0.0, \"4/8/20\", \"South Carolina\"], [2793.0, 376.0, \"4/9/20\", \"South Carolina\"], [3067.0, 274.0, \"4/10/20\", \"South Carolina\"], [3211.0, 144.0, \"4/11/20\", \"South Carolina\"], [3320.0, 109.0, \"4/12/20\", \"South Carolina\"], [3391.0, 71.0, \"4/13/20\", \"South Carolina\"], [3553.0, 162.0, \"4/14/20\", \"South Carolina\"], [3656.0, 103.0, \"4/15/20\", \"South Carolina\"], [3931.0, 275.0, \"4/16/20\", \"South Carolina\"], [4099.0, 168.0, \"4/17/20\", \"South Carolina\"], [4248.0, 149.0, \"4/18/20\", \"South Carolina\"], [4377.0, 129.0, \"4/19/20\", \"South Carolina\"], [4446.0, 69.0, \"4/20/20\", \"South Carolina\"]], \"hoverlabel\": {\"namelength\": 0}, \"hovertemplate\": \"State =%{customdata[3]}<br>Mean growth over 14d compared to max growth =%{x}<br>% cases from last 14d =%{y}<br>Confirmed Cases=%{customdata[0]}<br>Confirmed Cases today =%{customdata[1]}<br>Date=%{customdata[2]}\", \"legendgroup\": \"South Carolina\", \"marker\": {\"color\": \"#FFA15A\", \"size\": [30.0, 47.0, 60.0, 80.0, 126.0, 174.0, 196.0, 298.0, 342.0, 424.0, 424.0, 542.0, 660.0, 774.0, 925.0, 1083.0, 1293.0, 1554.0, 1700.0, 1917.0, 2049.0, 2232.0, 2417.0, 2417.0, 2793.0, 3067.0, 3211.0, 3320.0, 3391.0, 3553.0, 3656.0, 3931.0, 4099.0, 4248.0, 4377.0, 4446.0], \"sizemode\": \"area\", \"sizeref\": 632.65, \"symbol\": \"circle\"}, \"mode\": \"lines+markers\", \"name\": \"South Carolina\", \"showlegend\": true, \"type\": \"scattergl\", \"x\": [0.8, 1.2, 1.6, 2.1, 3.3, 4.5, 5.0, 7.7, 8.7, 10.8, 10.8, 13.9, 16.6, 19.6, 23.2, 26.9, 32.0, 38.3, 40.9, 45.3, 48.1, 50.2, 53.9, 51.8, 61.5, 65.6, 66.3, 66.1, 64.1, 64.2, 61.4, 61.7, 62.3, 60.5, 60.5, 57.5], \"xaxis\": \"x\", \"y\": [100.0, 100.0, 100.0, 100.0, 100.0, 98.9, 99.0, 99.0, 98.0, 97.6, 98.3, 98.5, 97.1, 97.5, 96.8, 95.7, 95.4, 94.9, 92.6, 90.9, 90.4, 86.6, 85.9, 82.5, 84.8, 82.3, 79.4, 76.7, 72.7, 69.5, 64.6, 60.5, 58.5, 54.9, 53.2, 49.8], \"yaxis\": \"y\"}, {\"customdata\": [[21.0, 7.0, \"3/22/20\", \"South Dakota\"], [28.0, 7.0, \"3/23/20\", \"South Dakota\"], [30.0, 2.0, \"3/24/20\", \"South Dakota\"], [41.0, 11.0, \"3/25/20\", \"South Dakota\"], [46.0, 5.0, \"3/26/20\", \"South Dakota\"], [58.0, 12.0, \"3/27/20\", \"South Dakota\"], [68.0, 10.0, \"3/28/20\", \"South Dakota\"], [90.0, 22.0, \"3/29/20\", \"South Dakota\"], [101.0, 11.0, \"3/30/20\", \"South Dakota\"], [108.0, 7.0, \"3/31/20\", \"South Dakota\"], [129.0, 21.0, \"4/1/20\", \"South Dakota\"], [165.0, 36.0, \"4/2/20\", \"South Dakota\"], [187.0, 22.0, \"4/3/20\", \"South Dakota\"], [212.0, 25.0, \"4/4/20\", \"South Dakota\"], [240.0, 28.0, \"4/5/20\", \"South Dakota\"], [288.0, 48.0, \"4/6/20\", \"South Dakota\"], [320.0, 32.0, \"4/7/20\", \"South Dakota\"], [393.0, 73.0, \"4/8/20\", \"South Dakota\"], [447.0, 54.0, \"4/9/20\", \"South Dakota\"], [536.0, 89.0, \"4/10/20\", \"South Dakota\"], [626.0, 90.0, \"4/11/20\", \"South Dakota\"], [730.0, 104.0, \"4/12/20\", \"South Dakota\"], [868.0, 138.0, \"4/13/20\", \"South Dakota\"], [988.0, 120.0, \"4/14/20\", \"South Dakota\"], [1168.0, 180.0, \"4/15/20\", \"South Dakota\"], [1311.0, 143.0, \"4/16/20\", \"South Dakota\"], [1411.0, 100.0, \"4/17/20\", \"South Dakota\"], [1542.0, 131.0, \"4/18/20\", \"South Dakota\"], [1635.0, 93.0, \"4/19/20\", \"South Dakota\"], [1685.0, 50.0, \"4/20/20\", \"South Dakota\"]], \"hoverlabel\": {\"namelength\": 0}, \"hovertemplate\": \"State =%{customdata[3]}<br>Mean growth over 14d compared to max growth =%{x}<br>% cases from last 14d =%{y}<br>Confirmed Cases=%{customdata[0]}<br>Confirmed Cases today =%{customdata[1]}<br>Date=%{customdata[2]}\", \"legendgroup\": \"South Dakota\", \"marker\": {\"color\": \"#19d3f3\", \"size\": [21.0, 28.0, 30.0, 41.0, 46.0, 58.0, 68.0, 90.0, 101.0, 108.0, 129.0, 165.0, 187.0, 212.0, 240.0, 288.0, 320.0, 393.0, 447.0, 536.0, 626.0, 730.0, 868.0, 988.0, 1168.0, 1311.0, 1411.0, 1542.0, 1635.0, 1685.0], \"sizemode\": \"area\", \"sizeref\": 632.65, \"symbol\": \"circle\"}, \"mode\": \"lines+markers\", \"name\": \"South Dakota\", \"showlegend\": true, \"type\": \"scattergl\", \"x\": [1.0, 1.4, 1.5, 1.6, 1.9, 2.5, 3.0, 4.1, 4.5, 4.8, 5.9, 7.5, 8.6, 9.9, 10.9, 13.0, 14.5, 17.6, 20.0, 23.9, 27.9, 32.0, 38.3, 44.0, 51.9, 57.2, 61.1, 66.4, 69.7, 69.8], \"xaxis\": \"x\", \"y\": [100.0, 100.0, 100.0, 80.5, 84.8, 86.2, 88.2, 91.1, 90.1, 89.8, 91.5, 91.5, 92.5, 93.4, 91.2, 90.3, 90.6, 89.6, 89.7, 89.2, 89.1, 87.7, 88.4, 89.1, 89.0, 87.4, 86.7, 86.3, 85.3, 82.9], \"yaxis\": \"y\"}, {\"customdata\": [[26.0, 8.0, \"3/13/20\", \"Tennessee\"], [32.0, 6.0, \"3/14/20\", \"Tennessee\"], [32.0, 0.0, \"3/15/20\", \"Tennessee\"], [52.0, 20.0, \"3/16/20\", \"Tennessee\"], [74.0, 22.0, \"3/17/20\", \"Tennessee\"], [100.0, 26.0, \"3/18/20\", \"Tennessee\"], [154.0, 54.0, \"3/19/20\", \"Tennessee\"], [223.0, 69.0, \"3/20/20\", \"Tennessee\"], [304.0, 81.0, \"3/21/20\", \"Tennessee\"], [393.0, 89.0, \"3/22/20\", \"Tennessee\"], [614.0, 221.0, \"3/23/20\", \"Tennessee\"], [772.0, 158.0, \"3/24/20\", \"Tennessee\"], [916.0, 144.0, \"3/25/20\", \"Tennessee\"], [1097.0, 181.0, \"3/26/20\", \"Tennessee\"], [1318.0, 221.0, \"3/27/20\", \"Tennessee\"], [1511.0, 193.0, \"3/28/20\", \"Tennessee\"], [1720.0, 209.0, \"3/29/20\", \"Tennessee\"], [1917.0, 197.0, \"3/30/20\", \"Tennessee\"], [2391.0, 474.0, \"3/31/20\", \"Tennessee\"], [2933.0, 542.0, \"4/1/20\", \"Tennessee\"], [3013.0, 80.0, \"4/2/20\", \"Tennessee\"], [3067.0, 54.0, \"4/3/20\", \"Tennessee\"], [3322.0, 255.0, \"4/4/20\", \"Tennessee\"], [3633.0, 311.0, \"4/5/20\", \"Tennessee\"], [3802.0, 169.0, \"4/6/20\", \"Tennessee\"], [4139.0, 337.0, \"4/7/20\", \"Tennessee\"], [4363.0, 224.0, \"4/8/20\", \"Tennessee\"], [4634.0, 271.0, \"4/9/20\", \"Tennessee\"], [4891.0, 257.0, \"4/10/20\", \"Tennessee\"], [5132.0, 241.0, \"4/11/20\", \"Tennessee\"], [5508.0, 376.0, \"4/12/20\", \"Tennessee\"], [5610.0, 102.0, \"4/13/20\", \"Tennessee\"], [5827.0, 217.0, \"4/14/20\", \"Tennessee\"], [5827.0, 0.0, \"4/15/20\", \"Tennessee\"], [6166.0, 339.0, \"4/16/20\", \"Tennessee\"], [6263.0, 97.0, \"4/17/20\", \"Tennessee\"], [6589.0, 326.0, \"4/18/20\", \"Tennessee\"], [7070.0, 481.0, \"4/19/20\", \"Tennessee\"], [7238.0, 168.0, \"4/20/20\", \"Tennessee\"]], \"hoverlabel\": {\"namelength\": 0}, \"hovertemplate\": \"State =%{customdata[3]}<br>Mean growth over 14d compared to max growth =%{x}<br>% cases from last 14d =%{y}<br>Confirmed Cases=%{customdata[0]}<br>Confirmed Cases today =%{customdata[1]}<br>Date=%{customdata[2]}\", \"legendgroup\": \"Tennessee\", \"marker\": {\"color\": \"#FF6692\", \"size\": [26.0, 32.0, 32.0, 52.0, 74.0, 100.0, 154.0, 223.0, 304.0, 393.0, 614.0, 772.0, 916.0, 1097.0, 1318.0, 1511.0, 1720.0, 1917.0, 2391.0, 2933.0, 3013.0, 3067.0, 3322.0, 3633.0, 3802.0, 4139.0, 4363.0, 4634.0, 4891.0, 5132.0, 5508.0, 5610.0, 5827.0, 5827.0, 6166.0, 6263.0, 6589.0, 7070.0, 7238.0], \"sizemode\": \"area\", \"sizeref\": 632.65, \"symbol\": \"circle\"}, \"mode\": \"lines+markers\", \"name\": \"Tennessee\", \"showlegend\": true, \"type\": \"scattergl\", \"x\": [0.4, 0.5, 0.5, 0.8, 1.1, 1.5, 2.3, 3.3, 4.5, 5.8, 9.1, 11.4, 13.5, 16.0, 19.2, 22.0, 25.1, 27.7, 34.4, 42.1, 42.5, 42.2, 44.8, 48.1, 47.3, 50.0, 51.2, 52.5, 53.1, 53.8, 56.3, 54.8, 51.0, 43.0, 46.8, 47.5, 48.5, 51.0, 51.0], \"xaxis\": \"x\", \"y\": [100.0, 100.0, 100.0, 100.0, 100.0, 100.0, 99.4, 99.6, 99.7, 99.2, 99.5, 99.6, 99.0, 98.4, 98.0, 97.9, 98.1, 97.3, 96.9, 96.6, 94.9, 92.7, 90.8, 89.2, 83.9, 81.3, 79.0, 76.3, 73.1, 70.6, 68.8, 65.8, 59.0, 49.7, 51.1, 51.0, 49.6, 48.6, 47.5], \"yaxis\": \"y\"}, {\"customdata\": [[21.0, 5.0, \"3/11/20\", \"Texas\"], [27.0, 6.0, \"3/12/20\", \"Texas\"], [44.0, 17.0, \"3/13/20\", \"Texas\"], [60.0, 16.0, \"3/14/20\", \"Texas\"], [63.0, 3.0, \"3/15/20\", \"Texas\"], [85.0, 22.0, \"3/16/20\", \"Texas\"], [110.0, 25.0, \"3/17/20\", \"Texas\"], [196.0, 86.0, \"3/18/20\", \"Texas\"], [306.0, 110.0, \"3/19/20\", \"Texas\"], [429.0, 123.0, \"3/20/20\", \"Texas\"], [582.0, 153.0, \"3/21/20\", \"Texas\"], [643.0, 61.0, \"3/22/20\", \"Texas\"], [758.0, 115.0, \"3/23/20\", \"Texas\"], [955.0, 197.0, \"3/24/20\", \"Texas\"], [1229.0, 274.0, \"3/25/20\", \"Texas\"], [1563.0, 334.0, \"3/26/20\", \"Texas\"], [1937.0, 374.0, \"3/27/20\", \"Texas\"], [2455.0, 518.0, \"3/28/20\", \"Texas\"], [2792.0, 337.0, \"3/29/20\", \"Texas\"], [3147.0, 355.0, \"3/30/20\", \"Texas\"], [3809.0, 662.0, \"3/31/20\", \"Texas\"], [4355.0, 546.0, \"4/1/20\", \"Texas\"], [5069.0, 714.0, \"4/2/20\", \"Texas\"], [5734.0, 665.0, \"4/3/20\", \"Texas\"], [6567.0, 833.0, \"4/4/20\", \"Texas\"], [7209.0, 642.0, \"4/5/20\", \"Texas\"], [8043.0, 834.0, \"4/6/20\", \"Texas\"], [8925.0, 882.0, \"4/7/20\", \"Texas\"], [9777.0, 852.0, \"4/8/20\", \"Texas\"], [11208.0, 1431.0, \"4/9/20\", \"Texas\"], [12105.0, 897.0, \"4/10/20\", \"Texas\"], [13023.0, 918.0, \"4/11/20\", \"Texas\"], [13677.0, 654.0, \"4/12/20\", \"Texas\"], [14275.0, 598.0, \"4/13/20\", \"Texas\"], [15006.0, 731.0, \"4/14/20\", \"Texas\"], [15907.0, 901.0, \"4/15/20\", \"Texas\"], [16876.0, 969.0, \"4/16/20\", \"Texas\"], [17849.0, 973.0, \"4/17/20\", \"Texas\"], [18704.0, 855.0, \"4/18/20\", \"Texas\"], [19260.0, 556.0, \"4/19/20\", \"Texas\"], [19751.0, 491.0, \"4/20/20\", \"Texas\"]], \"hoverlabel\": {\"namelength\": 0}, \"hovertemplate\": \"State =%{customdata[3]}<br>Mean growth over 14d compared to max growth =%{x}<br>% cases from last 14d =%{y}<br>Confirmed Cases=%{customdata[0]}<br>Confirmed Cases today =%{customdata[1]}<br>Date=%{customdata[2]}\", \"legendgroup\": \"Texas\", \"marker\": {\"color\": \"#B6E880\", \"size\": [21.0, 27.0, 44.0, 60.0, 63.0, 85.0, 110.0, 196.0, 306.0, 429.0, 582.0, 643.0, 758.0, 955.0, 1229.0, 1563.0, 1937.0, 2455.0, 2792.0, 3147.0, 3809.0, 4355.0, 5069.0, 5734.0, 6567.0, 7209.0, 8043.0, 8925.0, 9777.0, 11208.0, 12105.0, 13023.0, 13677.0, 14275.0, 15006.0, 15907.0, 16876.0, 17849.0, 18704.0, 19260.0, 19751.0], \"sizemode\": \"area\", \"sizeref\": 632.65, \"symbol\": \"circle\"}, \"mode\": \"lines+markers\", \"name\": \"Texas\", \"showlegend\": true, \"type\": \"scattergl\", \"x\": [0.2, 0.2, 0.3, 0.4, 0.5, 0.6, 0.8, 1.4, 2.2, 3.1, 4.2, 4.6, 5.5, 6.9, 8.9, 11.3, 13.9, 17.6, 20.0, 22.5, 27.2, 30.5, 35.0, 38.9, 43.9, 48.2, 53.5, 58.5, 62.8, 70.8, 74.6, 77.6, 79.9, 81.7, 82.2, 84.8, 86.7, 88.9, 89.1, 88.5, 85.9], \"xaxis\": \"x\", \"y\": [100.0, 100.0, 100.0, 100.0, 100.0, 100.0, 100.0, 100.0, 99.0, 99.1, 98.6, 98.3, 98.3, 98.3, 98.3, 98.3, 97.7, 97.6, 97.7, 97.3, 97.1, 95.5, 94.0, 92.5, 91.1, 91.1, 90.6, 89.3, 87.4, 86.1, 84.0, 81.1, 79.6, 78.0, 74.6, 72.6, 70.0, 67.9, 64.9, 62.6, 59.3], \"yaxis\": \"y\"}, {\"customdata\": [[28.0, 10.0, \"3/16/20\", \"Utah\"], [39.0, 11.0, \"3/17/20\", \"Utah\"], [47.0, 8.0, \"3/18/20\", \"Utah\"], [62.0, 15.0, \"3/19/20\", \"Utah\"], [95.0, 33.0, \"3/20/20\", \"Utah\"], [118.0, 23.0, \"3/21/20\", \"Utah\"], [162.0, 44.0, \"3/22/20\", \"Utah\"], [257.0, 95.0, \"3/23/20\", \"Utah\"], [298.0, 41.0, \"3/24/20\", \"Utah\"], [340.0, 42.0, \"3/25/20\", \"Utah\"], [396.0, 56.0, \"3/26/20\", \"Utah\"], [472.0, 76.0, \"3/27/20\", \"Utah\"], [602.0, 130.0, \"3/28/20\", \"Utah\"], [720.0, 118.0, \"3/29/20\", \"Utah\"], [798.0, 78.0, \"3/30/20\", \"Utah\"], [888.0, 90.0, \"3/31/20\", \"Utah\"], [888.0, 0.0, \"4/1/20\", \"Utah\"], [1092.0, 204.0, \"4/2/20\", \"Utah\"], [1255.0, 163.0, \"4/3/20\", \"Utah\"], [1435.0, 180.0, \"4/4/20\", \"Utah\"], [1608.0, 173.0, \"4/5/20\", \"Utah\"], [1685.0, 77.0, \"4/6/20\", \"Utah\"], [1746.0, 61.0, \"4/7/20\", \"Utah\"], [1855.0, 109.0, \"4/8/20\", \"Utah\"], [1856.0, 1.0, \"4/9/20\", \"Utah\"], [2103.0, 247.0, \"4/10/20\", \"Utah\"], [2207.0, 104.0, \"4/11/20\", \"Utah\"], [2303.0, 96.0, \"4/12/20\", \"Utah\"], [2363.0, 60.0, \"4/13/20\", \"Utah\"], [2417.0, 54.0, \"4/14/20\", \"Utah\"], [2548.0, 131.0, \"4/15/20\", \"Utah\"], [2683.0, 135.0, \"4/16/20\", \"Utah\"], [2793.0, 110.0, \"4/17/20\", \"Utah\"], [2917.0, 124.0, \"4/18/20\", \"Utah\"], [3069.0, 152.0, \"4/19/20\", \"Utah\"], [3213.0, 144.0, \"4/20/20\", \"Utah\"]], \"hoverlabel\": {\"namelength\": 0}, \"hovertemplate\": \"State =%{customdata[3]}<br>Mean growth over 14d compared to max growth =%{x}<br>% cases from last 14d =%{y}<br>Confirmed Cases=%{customdata[0]}<br>Confirmed Cases today =%{customdata[1]}<br>Date=%{customdata[2]}\", \"legendgroup\": \"Utah\", \"marker\": {\"color\": \"#FF97FF\", \"size\": [28.0, 39.0, 47.0, 62.0, 95.0, 118.0, 162.0, 257.0, 298.0, 340.0, 396.0, 472.0, 602.0, 720.0, 798.0, 888.0, 888.0, 1092.0, 1255.0, 1435.0, 1608.0, 1685.0, 1746.0, 1855.0, 1856.0, 2103.0, 2207.0, 2303.0, 2363.0, 2417.0, 2548.0, 2683.0, 2793.0, 2917.0, 3069.0, 3213.0], \"sizemode\": \"area\", \"sizeref\": 632.65, \"symbol\": \"circle\"}, \"mode\": \"lines+markers\", \"name\": \"Utah\", \"showlegend\": true, \"type\": \"scattergl\", \"x\": [1.0, 1.4, 1.6, 2.2, 3.3, 4.1, 5.6, 9.0, 10.4, 11.8, 13.8, 16.2, 20.7, 24.6, 27.0, 29.7, 29.4, 36.1, 40.6, 46.1, 50.6, 50.0, 50.7, 53.0, 51.1, 57.1, 56.2, 55.4, 54.8, 53.5, 58.1, 55.7, 53.9, 51.9, 51.2, 53.5], \"xaxis\": \"x\", \"y\": [100.0, 100.0, 100.0, 100.0, 100.0, 99.2, 99.4, 99.6, 99.3, 99.1, 99.2, 98.1, 98.3, 97.5, 96.5, 95.6, 94.7, 94.3, 92.4, 91.8, 89.9, 84.7, 82.9, 81.7, 78.7, 77.6, 72.7, 68.7, 66.2, 63.3, 65.1, 59.3, 55.1, 50.8, 47.6, 47.6], \"yaxis\": \"y\"}, {\"customdata\": [[22.0, 9.0, \"3/19/20\", \"Vermont\"], [29.0, 7.0, \"3/20/20\", \"Vermont\"], [49.0, 20.0, \"3/21/20\", \"Vermont\"], [52.0, 3.0, \"3/22/20\", \"Vermont\"], [75.0, 23.0, \"3/23/20\", \"Vermont\"], [95.0, 20.0, \"3/24/20\", \"Vermont\"], [125.0, 30.0, \"3/25/20\", \"Vermont\"], [158.0, 33.0, \"3/26/20\", \"Vermont\"], [184.0, 26.0, \"3/27/20\", \"Vermont\"], [211.0, 27.0, \"3/28/20\", \"Vermont\"], [235.0, 24.0, \"3/29/20\", \"Vermont\"], [256.0, 21.0, \"3/30/20\", \"Vermont\"], [293.0, 37.0, \"3/31/20\", \"Vermont\"], [321.0, 28.0, \"4/1/20\", \"Vermont\"], [338.0, 17.0, \"4/2/20\", \"Vermont\"], [389.0, 51.0, \"4/3/20\", \"Vermont\"], [461.0, 72.0, \"4/4/20\", \"Vermont\"], [512.0, 51.0, \"4/5/20\", \"Vermont\"], [543.0, 31.0, \"4/6/20\", \"Vermont\"], [575.0, 32.0, \"4/7/20\", \"Vermont\"], [605.0, 30.0, \"4/8/20\", \"Vermont\"], [628.0, 23.0, \"4/9/20\", \"Vermont\"], [679.0, 51.0, \"4/10/20\", \"Vermont\"], [711.0, 32.0, \"4/11/20\", \"Vermont\"], [727.0, 16.0, \"4/12/20\", \"Vermont\"], [748.0, 21.0, \"4/13/20\", \"Vermont\"], [752.0, 4.0, \"4/14/20\", \"Vermont\"], [759.0, 7.0, \"4/15/20\", \"Vermont\"], [774.0, 15.0, \"4/16/20\", \"Vermont\"], [779.0, 5.0, \"4/17/20\", \"Vermont\"], [803.0, 24.0, \"4/18/20\", \"Vermont\"], [813.0, 10.0, \"4/19/20\", \"Vermont\"], [816.0, 3.0, \"4/20/20\", \"Vermont\"]], \"hoverlabel\": {\"namelength\": 0}, \"hovertemplate\": \"State =%{customdata[3]}<br>Mean growth over 14d compared to max growth =%{x}<br>% cases from last 14d =%{y}<br>Confirmed Cases=%{customdata[0]}<br>Confirmed Cases today =%{customdata[1]}<br>Date=%{customdata[2]}\", \"legendgroup\": \"Vermont\", \"marker\": {\"color\": \"#FECB52\", \"size\": [22.0, 29.0, 49.0, 52.0, 75.0, 95.0, 125.0, 158.0, 184.0, 211.0, 235.0, 256.0, 293.0, 321.0, 338.0, 389.0, 461.0, 512.0, 543.0, 575.0, 605.0, 628.0, 679.0, 711.0, 727.0, 748.0, 752.0, 759.0, 774.0, 779.0, 803.0, 813.0, 816.0], \"sizemode\": \"area\", \"sizeref\": 632.65, \"symbol\": \"circle\"}, \"mode\": \"lines+markers\", \"name\": \"Vermont\", \"showlegend\": true, \"type\": \"scattergl\", \"x\": [3.1, 4.1, 6.9, 7.1, 10.4, 13.2, 17.4, 21.8, 25.5, 28.9, 32.2, 34.2, 39.4, 43.1, 44.3, 50.4, 57.7, 64.4, 65.5, 67.2, 67.2, 65.8, 69.3, 70.0, 68.9, 68.9, 64.3, 61.3, 61.1, 54.6, 47.9, 42.2, 38.2], \"xaxis\": \"x\", \"y\": [100.0, 100.0, 100.0, 98.1, 98.7, 98.9, 99.2, 98.7, 98.9, 97.6, 97.9, 95.3, 95.9, 96.0, 93.5, 92.5, 89.4, 89.8, 86.2, 83.5, 79.3, 74.8, 72.9, 70.3, 67.7, 65.8, 61.0, 57.7, 56.3, 50.1, 42.6, 37.0, 33.5], \"yaxis\": \"y\"}, {\"customdata\": [[22.0, 3.0, \"3/28/20\", \"Virgin Islands\"], [23.0, 1.0, \"3/29/20\", \"Virgin Islands\"], [30.0, 7.0, \"3/30/20\", \"Virgin Islands\"], [30.0, 0.0, \"3/31/20\", \"Virgin Islands\"], [30.0, 0.0, \"4/1/20\", \"Virgin Islands\"], [30.0, 0.0, \"4/2/20\", \"Virgin Islands\"], [37.0, 7.0, \"4/3/20\", \"Virgin Islands\"], [40.0, 3.0, \"4/4/20\", \"Virgin Islands\"], [42.0, 2.0, \"4/5/20\", \"Virgin Islands\"], [43.0, 1.0, \"4/6/20\", \"Virgin Islands\"], [43.0, 0.0, \"4/7/20\", \"Virgin Islands\"], [45.0, 2.0, \"4/8/20\", \"Virgin Islands\"], [45.0, 0.0, \"4/9/20\", \"Virgin Islands\"], [50.0, 5.0, \"4/10/20\", \"Virgin Islands\"], [51.0, 1.0, \"4/11/20\", \"Virgin Islands\"], [51.0, 0.0, \"4/12/20\", \"Virgin Islands\"], [51.0, 0.0, \"4/13/20\", \"Virgin Islands\"], [51.0, 0.0, \"4/14/20\", \"Virgin Islands\"], [51.0, 0.0, \"4/15/20\", \"Virgin Islands\"], [51.0, 0.0, \"4/16/20\", \"Virgin Islands\"], [51.0, 0.0, \"4/17/20\", \"Virgin Islands\"], [53.0, 2.0, \"4/18/20\", \"Virgin Islands\"], [53.0, 0.0, \"4/19/20\", \"Virgin Islands\"], [53.0, 0.0, \"4/20/20\", \"Virgin Islands\"]], \"hoverlabel\": {\"namelength\": 0}, \"hovertemplate\": \"State =%{customdata[3]}<br>Mean growth over 14d compared to max growth =%{x}<br>% cases from last 14d =%{y}<br>Confirmed Cases=%{customdata[0]}<br>Confirmed Cases today =%{customdata[1]}<br>Date=%{customdata[2]}\", \"legendgroup\": \"Virgin Islands\", \"marker\": {\"color\": \"#636efa\", \"size\": [22.0, 23.0, 30.0, 30.0, 30.0, 30.0, 37.0, 40.0, 42.0, 43.0, 43.0, 45.0, 45.0, 50.0, 51.0, 51.0, 51.0, 51.0, 51.0, 51.0, 51.0, 53.0, 53.0, 53.0], \"sizemode\": \"area\", \"sizeref\": 632.65, \"symbol\": \"circle\"}, \"mode\": \"lines+markers\", \"name\": \"Virgin Islands\", \"showlegend\": true, \"type\": \"scattergl\", \"x\": [22.4, 23.5, 29.6, 28.6, 28.6, 27.6, 34.7, 34.7, 36.7, 36.7, 26.5, 28.6, 28.6, 31.6, 29.6, 28.6, 21.4, 21.4, 21.4, 21.4, 14.3, 13.3, 11.2, 10.2], \"xaxis\": \"x\", \"y\": [100.0, 100.0, 96.7, 93.3, 93.3, 90.0, 91.9, 85.0, 85.7, 83.7, 60.5, 62.2, 62.2, 62.0, 56.9, 54.9, 41.2, 41.2, 41.2, 41.2, 27.5, 24.5, 20.8, 18.9], \"yaxis\": \"y\"}, {\"customdata\": [[27.0, 15.0, \"3/13/20\", \"Virginia\"], [37.0, 10.0, \"3/14/20\", \"Virginia\"], [37.0, 0.0, \"3/15/20\", \"Virginia\"], [49.0, 12.0, \"3/16/20\", \"Virginia\"], [67.0, 18.0, \"3/17/20\", \"Virginia\"], [79.0, 12.0, \"3/18/20\", \"Virginia\"], [103.0, 24.0, \"3/19/20\", \"Virginia\"], [123.0, 20.0, \"3/20/20\", \"Virginia\"], [157.0, 34.0, \"3/21/20\", \"Virginia\"], [220.0, 63.0, \"3/22/20\", \"Virginia\"], [254.0, 34.0, \"3/23/20\", \"Virginia\"], [293.0, 39.0, \"3/24/20\", \"Virginia\"], [396.0, 103.0, \"3/25/20\", \"Virginia\"], [466.0, 70.0, \"3/26/20\", \"Virginia\"], [607.0, 141.0, \"3/27/20\", \"Virginia\"], [740.0, 133.0, \"3/28/20\", \"Virginia\"], [890.0, 150.0, \"3/29/20\", \"Virginia\"], [1020.0, 130.0, \"3/30/20\", \"Virginia\"], [1249.0, 229.0, \"3/31/20\", \"Virginia\"], [1483.0, 234.0, \"4/1/20\", \"Virginia\"], [1706.0, 223.0, \"4/2/20\", \"Virginia\"], [2012.0, 306.0, \"4/3/20\", \"Virginia\"], [2407.0, 395.0, \"4/4/20\", \"Virginia\"], [2640.0, 233.0, \"4/5/20\", \"Virginia\"], [2878.0, 238.0, \"4/6/20\", \"Virginia\"], [3335.0, 457.0, \"4/7/20\", \"Virginia\"], [3645.0, 310.0, \"4/8/20\", \"Virginia\"], [4042.0, 397.0, \"4/9/20\", \"Virginia\"], [4509.0, 467.0, \"4/10/20\", \"Virginia\"], [5077.0, 568.0, \"4/11/20\", \"Virginia\"], [5274.0, 197.0, \"4/12/20\", \"Virginia\"], [5747.0, 473.0, \"4/13/20\", \"Virginia\"], [6182.0, 435.0, \"4/14/20\", \"Virginia\"], [6500.0, 318.0, \"4/15/20\", \"Virginia\"], [6889.0, 389.0, \"4/16/20\", \"Virginia\"], [7491.0, 602.0, \"4/17/20\", \"Virginia\"], [8053.0, 562.0, \"4/18/20\", \"Virginia\"], [8542.0, 489.0, \"4/19/20\", \"Virginia\"], [8990.0, 448.0, \"4/20/20\", \"Virginia\"]], \"hoverlabel\": {\"namelength\": 0}, \"hovertemplate\": \"State =%{customdata[3]}<br>Mean growth over 14d compared to max growth =%{x}<br>% cases from last 14d =%{y}<br>Confirmed Cases=%{customdata[0]}<br>Confirmed Cases today =%{customdata[1]}<br>Date=%{customdata[2]}\", \"legendgroup\": \"Virginia\", \"marker\": {\"color\": \"#EF553B\", \"size\": [27.0, 37.0, 37.0, 49.0, 67.0, 79.0, 103.0, 123.0, 157.0, 220.0, 254.0, 293.0, 396.0, 466.0, 607.0, 740.0, 890.0, 1020.0, 1249.0, 1483.0, 1706.0, 2012.0, 2407.0, 2640.0, 2878.0, 3335.0, 3645.0, 4042.0, 4509.0, 5077.0, 5274.0, 5747.0, 6182.0, 6500.0, 6889.0, 7491.0, 8053.0, 8542.0, 8990.0], \"sizemode\": \"area\", \"sizeref\": 632.65, \"symbol\": \"circle\"}, \"mode\": \"lines+markers\", \"name\": \"Virginia\", \"showlegend\": true, \"type\": \"scattergl\", \"x\": [0.3, 0.5, 0.5, 0.6, 0.8, 1.0, 1.3, 1.5, 2.0, 2.7, 3.2, 3.6, 4.9, 5.7, 7.3, 8.8, 10.7, 12.2, 14.9, 17.7, 20.2, 23.8, 28.3, 30.4, 33.0, 38.3, 40.9, 45.0, 49.1, 54.5, 55.1, 59.4, 62.0, 63.1, 65.2, 68.9, 71.0, 74.2, 76.9], \"xaxis\": \"x\", \"y\": [100.0, 100.0, 100.0, 100.0, 100.0, 100.0, 100.0, 100.0, 100.0, 99.1, 99.2, 97.3, 97.7, 97.4, 95.6, 95.0, 95.8, 95.2, 94.6, 94.7, 94.0, 93.9, 93.5, 91.7, 91.2, 91.2, 89.1, 88.5, 86.5, 85.4, 83.1, 82.3, 79.8, 77.2, 75.2, 73.1, 70.1, 69.1, 68.0], \"yaxis\": \"y\"}, {\"customdata\": [[27.0, 9.0, \"3/3/20\", \"Washington\"], [39.0, 12.0, \"3/4/20\", \"Washington\"], [70.0, 31.0, \"3/5/20\", \"Washington\"], [78.0, 8.0, \"3/6/20\", \"Washington\"], [102.0, 24.0, \"3/7/20\", \"Washington\"], [122.0, 20.0, \"3/8/20\", \"Washington\"], [122.0, 0.0, \"3/9/20\", \"Washington\"], [167.0, 45.0, \"3/10/20\", \"Washington\"], [282.0, 115.0, \"3/11/20\", \"Washington\"], [442.0, 160.0, \"3/12/20\", \"Washington\"], [568.0, 126.0, \"3/13/20\", \"Washington\"], [642.0, 74.0, \"3/14/20\", \"Washington\"], [603.0, -39.0, \"3/15/20\", \"Washington\"], [779.0, 176.0, \"3/16/20\", \"Washington\"], [955.0, 176.0, \"3/17/20\", \"Washington\"], [1022.0, 67.0, \"3/18/20\", \"Washington\"], [1374.0, 352.0, \"3/19/20\", \"Washington\"], [1524.0, 150.0, \"3/20/20\", \"Washington\"], [1793.0, 269.0, \"3/21/20\", \"Washington\"], [1997.0, 204.0, \"3/22/20\", \"Washington\"], [2221.0, 224.0, \"3/23/20\", \"Washington\"], [2328.0, 107.0, \"3/24/20\", \"Washington\"], [2591.0, 263.0, \"3/25/20\", \"Washington\"], [3207.0, 616.0, \"3/26/20\", \"Washington\"], [3477.0, 270.0, \"3/27/20\", \"Washington\"], [4030.0, 553.0, \"3/28/20\", \"Washington\"], [4465.0, 435.0, \"3/29/20\", \"Washington\"], [4923.0, 458.0, \"3/30/20\", \"Washington\"], [5432.0, 509.0, \"3/31/20\", \"Washington\"], [5608.0, 176.0, \"4/1/20\", \"Washington\"], [6389.0, 781.0, \"4/2/20\", \"Washington\"], [6846.0, 457.0, \"4/3/20\", \"Washington\"], [7247.0, 401.0, \"4/4/20\", \"Washington\"], [7825.0, 578.0, \"4/5/20\", \"Washington\"], [8311.0, 486.0, \"4/6/20\", \"Washington\"], [8692.0, 381.0, \"4/7/20\", \"Washington\"], [9276.0, 584.0, \"4/8/20\", \"Washington\"], [9639.0, 363.0, \"4/9/20\", \"Washington\"], [10119.0, 480.0, \"4/10/20\", \"Washington\"], [10434.0, 315.0, \"4/11/20\", \"Washington\"], [10609.0, 175.0, \"4/12/20\", \"Washington\"], [10635.0, 26.0, \"4/13/20\", \"Washington\"], [10799.0, 164.0, \"4/14/20\", \"Washington\"], [10942.0, 143.0, \"4/15/20\", \"Washington\"], [11057.0, 115.0, \"4/16/20\", \"Washington\"], [11517.0, 460.0, \"4/17/20\", \"Washington\"], [11776.0, 259.0, \"4/18/20\", \"Washington\"], [12255.0, 479.0, \"4/19/20\", \"Washington\"], [12114.0, -141.0, \"4/20/20\", \"Washington\"]], \"hoverlabel\": {\"namelength\": 0}, \"hovertemplate\": \"State =%{customdata[3]}<br>Mean growth over 14d compared to max growth =%{x}<br>% cases from last 14d =%{y}<br>Confirmed Cases=%{customdata[0]}<br>Confirmed Cases today =%{customdata[1]}<br>Date=%{customdata[2]}\", \"legendgroup\": \"Washington\", \"marker\": {\"color\": \"#00cc96\", \"size\": [27.0, 39.0, 70.0, 78.0, 102.0, 122.0, 122.0, 167.0, 282.0, 442.0, 568.0, 642.0, 603.0, 779.0, 955.0, 1022.0, 1374.0, 1524.0, 1793.0, 1997.0, 2221.0, 2328.0, 2591.0, 3207.0, 3477.0, 4030.0, 4465.0, 4923.0, 5432.0, 5608.0, 6389.0, 6846.0, 7247.0, 7825.0, 8311.0, 8692.0, 9276.0, 9639.0, 10119.0, 10434.0, 10609.0, 10635.0, 10799.0, 10942.0, 11057.0, 11517.0, 11776.0, 12255.0, 12114.0], \"sizemode\": \"area\", \"sizeref\": 632.65, \"symbol\": \"circle\"}, \"mode\": \"lines+markers\", \"name\": \"Washington\", \"showlegend\": true, \"type\": \"scattergl\", \"x\": [0.3, 0.4, 0.8, 0.9, 1.2, 1.4, 1.4, 1.9, 3.3, 5.1, 6.6, 7.4, 6.9, 8.8, 10.8, 11.4, 15.1, 16.8, 19.6, 21.7, 24.3, 25.1, 26.8, 32.1, 33.7, 39.3, 44.8, 48.1, 51.9, 53.2, 58.2, 61.7, 63.2, 67.6, 70.6, 73.8, 77.5, 74.6, 77.0, 74.3, 71.2, 66.2, 62.2, 61.9, 54.1, 54.2, 52.5, 51.4, 44.1], \"xaxis\": \"x\", \"y\": [96.3, 97.4, 98.6, 98.7, 99.0, 99.2, 99.2, 99.4, 99.6, 99.8, 99.8, 98.9, 98.2, 97.7, 97.2, 96.2, 94.9, 94.9, 94.3, 93.9, 94.5, 92.8, 89.1, 86.2, 83.7, 84.1, 86.5, 84.2, 82.4, 81.8, 78.5, 77.7, 75.3, 74.5, 73.3, 73.2, 72.1, 66.7, 65.6, 61.4, 57.9, 53.7, 49.7, 48.7, 42.2, 40.6, 38.5, 36.1, 31.4], \"yaxis\": \"y\"}, {\"customdata\": [[22.0, 6.0, \"3/24/20\", \"West Virginia\"], [39.0, 17.0, \"3/25/20\", \"West Virginia\"], [52.0, 13.0, \"3/26/20\", \"West Virginia\"], [76.0, 24.0, \"3/27/20\", \"West Virginia\"], [96.0, 20.0, \"3/28/20\", \"West Virginia\"], [113.0, 17.0, \"3/29/20\", \"West Virginia\"], [145.0, 32.0, \"3/30/20\", \"West Virginia\"], [162.0, 17.0, \"3/31/20\", \"West Virginia\"], [191.0, 29.0, \"4/1/20\", \"West Virginia\"], [216.0, 25.0, \"4/2/20\", \"West Virginia\"], [237.0, 21.0, \"4/3/20\", \"West Virginia\"], [282.0, 45.0, \"4/4/20\", \"West Virginia\"], [324.0, 42.0, \"4/5/20\", \"West Virginia\"], [345.0, 21.0, \"4/6/20\", \"West Virginia\"], [412.0, 67.0, \"4/7/20\", \"West Virginia\"], [483.0, 71.0, \"4/8/20\", \"West Virginia\"], [514.0, 31.0, \"4/9/20\", \"West Virginia\"], [574.0, 60.0, \"4/10/20\", \"West Virginia\"], [577.0, 3.0, \"4/11/20\", \"West Virginia\"], [593.0, 16.0, \"4/12/20\", \"West Virginia\"], [611.0, 18.0, \"4/13/20\", \"West Virginia\"], [640.0, 29.0, \"4/14/20\", \"West Virginia\"], [702.0, 62.0, \"4/15/20\", \"West Virginia\"], [728.0, 26.0, \"4/16/20\", \"West Virginia\"], [775.0, 47.0, \"4/17/20\", \"West Virginia\"], [785.0, 10.0, \"4/18/20\", \"West Virginia\"], [890.0, 105.0, \"4/19/20\", \"West Virginia\"], [902.0, 12.0, \"4/20/20\", \"West Virginia\"]], \"hoverlabel\": {\"namelength\": 0}, \"hovertemplate\": \"State =%{customdata[3]}<br>Mean growth over 14d compared to max growth =%{x}<br>% cases from last 14d =%{y}<br>Confirmed Cases=%{customdata[0]}<br>Confirmed Cases today =%{customdata[1]}<br>Date=%{customdata[2]}\", \"legendgroup\": \"West Virginia\", \"marker\": {\"color\": \"#ab63fa\", \"size\": [22.0, 39.0, 52.0, 76.0, 96.0, 113.0, 145.0, 162.0, 191.0, 216.0, 237.0, 282.0, 324.0, 345.0, 412.0, 483.0, 514.0, 574.0, 577.0, 593.0, 611.0, 640.0, 702.0, 728.0, 775.0, 785.0, 890.0, 902.0], \"sizemode\": \"area\", \"sizeref\": 632.65, \"symbol\": \"circle\"}, \"mode\": \"lines+markers\", \"name\": \"West Virginia\", \"showlegend\": true, \"type\": \"scattergl\", \"x\": [2.2, 3.9, 5.2, 7.6, 9.7, 11.4, 14.6, 16.3, 19.1, 21.5, 23.0, 27.2, 31.0, 33.1, 39.2, 44.7, 46.5, 50.1, 48.4, 48.3, 46.9, 48.1, 51.4, 51.5, 54.1, 50.6, 56.9, 56.0], \"xaxis\": \"x\", \"y\": [100.0, 100.0, 100.0, 100.0, 100.0, 100.0, 100.0, 100.0, 99.5, 99.1, 96.6, 95.7, 95.1, 95.4, 94.7, 91.9, 89.9, 86.8, 83.4, 80.9, 76.3, 74.7, 72.8, 70.3, 69.4, 64.1, 63.6, 61.8], \"yaxis\": \"y\"}, {\"customdata\": [[27.0, 8.0, \"3/14/20\", \"Wisconsin\"], [28.0, 1.0, \"3/15/20\", \"Wisconsin\"], [48.0, 20.0, \"3/16/20\", \"Wisconsin\"], [73.0, 25.0, \"3/17/20\", \"Wisconsin\"], [111.0, 38.0, \"3/18/20\", \"Wisconsin\"], [159.0, 48.0, \"3/19/20\", \"Wisconsin\"], [219.0, 60.0, \"3/20/20\", \"Wisconsin\"], [282.0, 63.0, \"3/21/20\", \"Wisconsin\"], [381.0, 99.0, \"3/22/20\", \"Wisconsin\"], [425.0, 44.0, \"3/23/20\", \"Wisconsin\"], [481.0, 56.0, \"3/24/20\", \"Wisconsin\"], [621.0, 140.0, \"3/25/20\", \"Wisconsin\"], [728.0, 107.0, \"3/26/20\", \"Wisconsin\"], [926.0, 198.0, \"3/27/20\", \"Wisconsin\"], [1055.0, 129.0, \"3/28/20\", \"Wisconsin\"], [1164.0, 109.0, \"3/29/20\", \"Wisconsin\"], [1230.0, 66.0, \"3/30/20\", \"Wisconsin\"], [1412.0, 182.0, \"3/31/20\", \"Wisconsin\"], [1556.0, 144.0, \"4/1/20\", \"Wisconsin\"], [1748.0, 192.0, \"4/2/20\", \"Wisconsin\"], [2012.0, 264.0, \"4/3/20\", \"Wisconsin\"], [2030.0, 18.0, \"4/4/20\", \"Wisconsin\"], [2320.0, 290.0, \"4/5/20\", \"Wisconsin\"], [2449.0, 129.0, \"4/6/20\", \"Wisconsin\"], [2578.0, 129.0, \"4/7/20\", \"Wisconsin\"], [2710.0, 132.0, \"4/8/20\", \"Wisconsin\"], [2886.0, 176.0, \"4/9/20\", \"Wisconsin\"], [3068.0, 182.0, \"4/10/20\", \"Wisconsin\"], [3213.0, 145.0, \"4/11/20\", \"Wisconsin\"], [3341.0, 128.0, \"4/12/20\", \"Wisconsin\"], [3428.0, 87.0, \"4/13/20\", \"Wisconsin\"], [3555.0, 127.0, \"4/14/20\", \"Wisconsin\"], [3721.0, 166.0, \"4/15/20\", \"Wisconsin\"], [3875.0, 154.0, \"4/16/20\", \"Wisconsin\"], [4053.0, 178.0, \"4/17/20\", \"Wisconsin\"], [4199.0, 146.0, \"4/18/20\", \"Wisconsin\"], [4346.0, 147.0, \"4/19/20\", \"Wisconsin\"], [4499.0, 153.0, \"4/20/20\", \"Wisconsin\"]], \"hoverlabel\": {\"namelength\": 0}, \"hovertemplate\": \"State =%{customdata[3]}<br>Mean growth over 14d compared to max growth =%{x}<br>% cases from last 14d =%{y}<br>Confirmed Cases=%{customdata[0]}<br>Confirmed Cases today =%{customdata[1]}<br>Date=%{customdata[2]}\", \"legendgroup\": \"Wisconsin\", \"marker\": {\"color\": \"#FFA15A\", \"size\": [27.0, 28.0, 48.0, 73.0, 111.0, 159.0, 219.0, 282.0, 381.0, 425.0, 481.0, 621.0, 728.0, 926.0, 1055.0, 1164.0, 1230.0, 1412.0, 1556.0, 1748.0, 2012.0, 2030.0, 2320.0, 2449.0, 2578.0, 2710.0, 2886.0, 3068.0, 3213.0, 3341.0, 3428.0, 3555.0, 3721.0, 3875.0, 4053.0, 4199.0, 4346.0, 4499.0], \"sizemode\": \"area\", \"sizeref\": 632.65, \"symbol\": \"circle\"}, \"mode\": \"lines+markers\", \"name\": \"Wisconsin\", \"showlegend\": true, \"type\": \"scattergl\", \"x\": [0.7, 0.8, 1.3, 2.0, 3.0, 4.3, 5.9, 7.6, 10.3, 11.5, 12.9, 16.7, 19.5, 24.5, 27.8, 30.7, 32.0, 36.2, 39.1, 43.0, 48.5, 47.3, 52.5, 54.8, 56.7, 56.5, 58.4, 58.0, 58.4, 58.9, 59.5, 58.0, 58.6, 57.5, 55.2, 58.7, 54.8, 55.5], \"xaxis\": \"x\", \"y\": [100.0, 100.0, 100.0, 100.0, 100.0, 100.0, 100.0, 100.0, 100.0, 100.0, 99.4, 99.4, 98.9, 97.9, 97.4, 97.6, 96.1, 94.8, 92.9, 90.9, 89.1, 86.1, 83.6, 82.6, 81.3, 77.1, 74.8, 69.8, 67.2, 65.2, 64.1, 60.3, 58.2, 54.9, 50.4, 51.7, 46.6, 45.6], \"yaxis\": \"y\"}, {\"customdata\": [[21.0, 3.0, \"3/20/20\", \"Wyoming\"], [23.0, 2.0, \"3/21/20\", \"Wyoming\"], [26.0, 3.0, \"3/22/20\", \"Wyoming\"], [26.0, 0.0, \"3/23/20\", \"Wyoming\"], [29.0, 3.0, \"3/24/20\", \"Wyoming\"], [44.0, 15.0, \"3/25/20\", \"Wyoming\"], [53.0, 9.0, \"3/26/20\", \"Wyoming\"], [70.0, 17.0, \"3/27/20\", \"Wyoming\"], [82.0, 12.0, \"3/28/20\", \"Wyoming\"], [86.0, 4.0, \"3/29/20\", \"Wyoming\"], [94.0, 8.0, \"3/30/20\", \"Wyoming\"], [109.0, 15.0, \"3/31/20\", \"Wyoming\"], [130.0, 21.0, \"4/1/20\", \"Wyoming\"], [150.0, 20.0, \"4/2/20\", \"Wyoming\"], [162.0, 12.0, \"4/3/20\", \"Wyoming\"], [187.0, 25.0, \"4/4/20\", \"Wyoming\"], [197.0, 10.0, \"4/5/20\", \"Wyoming\"], [210.0, 13.0, \"4/6/20\", \"Wyoming\"], [216.0, 6.0, \"4/7/20\", \"Wyoming\"], [221.0, 5.0, \"4/8/20\", \"Wyoming\"], [230.0, 9.0, \"4/9/20\", \"Wyoming\"], [239.0, 9.0, \"4/10/20\", \"Wyoming\"], [261.0, 22.0, \"4/11/20\", \"Wyoming\"], [270.0, 9.0, \"4/12/20\", \"Wyoming\"], [275.0, 5.0, \"4/13/20\", \"Wyoming\"], [282.0, 7.0, \"4/14/20\", \"Wyoming\"], [287.0, 5.0, \"4/15/20\", \"Wyoming\"], [296.0, 9.0, \"4/16/20\", \"Wyoming\"], [305.0, 9.0, \"4/17/20\", \"Wyoming\"], [309.0, 4.0, \"4/18/20\", \"Wyoming\"], [313.0, 4.0, \"4/19/20\", \"Wyoming\"], [317.0, 4.0, \"4/20/20\", \"Wyoming\"]], \"hoverlabel\": {\"namelength\": 0}, \"hovertemplate\": \"State =%{customdata[3]}<br>Mean growth over 14d compared to max growth =%{x}<br>% cases from last 14d =%{y}<br>Confirmed Cases=%{customdata[0]}<br>Confirmed Cases today =%{customdata[1]}<br>Date=%{customdata[2]}\", \"legendgroup\": \"Wyoming\", \"marker\": {\"color\": \"#19d3f3\", \"size\": [21.0, 23.0, 26.0, 26.0, 29.0, 44.0, 53.0, 70.0, 82.0, 86.0, 94.0, 109.0, 130.0, 150.0, 162.0, 187.0, 197.0, 210.0, 216.0, 221.0, 230.0, 239.0, 261.0, 270.0, 275.0, 282.0, 287.0, 296.0, 305.0, 309.0, 313.0, 317.0], \"sizemode\": \"area\", \"sizeref\": 632.65, \"symbol\": \"circle\"}, \"mode\": \"lines+markers\", \"name\": \"Wyoming\", \"showlegend\": true, \"type\": \"scattergl\", \"x\": [6.8, 7.5, 8.4, 8.4, 9.4, 14.3, 16.9, 22.4, 26.0, 27.3, 29.9, 31.8, 37.0, 42.9, 45.8, 53.2, 55.5, 59.7, 60.7, 57.5, 57.5, 54.9, 58.1, 59.7, 58.8, 56.2, 51.0, 47.4, 46.4, 39.6, 37.7, 34.7], \"xaxis\": \"x\", \"y\": [100.0, 100.0, 100.0, 100.0, 100.0, 100.0, 98.1, 98.6, 97.6, 97.7, 97.9, 89.9, 87.7, 88.0, 87.0, 87.7, 86.8, 87.6, 86.6, 80.1, 77.0, 70.7, 68.6, 68.1, 65.8, 61.3, 54.7, 49.3, 46.9, 39.5, 37.1, 33.8], \"yaxis\": \"y\"}],\n",
       "                        {\"legend\": {\"itemsizing\": \"constant\", \"title\": {\"text\": \"State \"}, \"tracegroupgap\": 0}, \"template\": {\"data\": {\"bar\": [{\"error_x\": {\"color\": \"#2a3f5f\"}, \"error_y\": {\"color\": \"#2a3f5f\"}, \"marker\": {\"line\": {\"color\": \"#E5ECF6\", \"width\": 0.5}}, \"type\": \"bar\"}], \"barpolar\": [{\"marker\": {\"line\": {\"color\": \"#E5ECF6\", \"width\": 0.5}}, \"type\": \"barpolar\"}], \"carpet\": [{\"aaxis\": {\"endlinecolor\": \"#2a3f5f\", \"gridcolor\": \"white\", \"linecolor\": \"white\", \"minorgridcolor\": \"white\", \"startlinecolor\": \"#2a3f5f\"}, \"baxis\": {\"endlinecolor\": \"#2a3f5f\", \"gridcolor\": \"white\", \"linecolor\": \"white\", \"minorgridcolor\": \"white\", \"startlinecolor\": \"#2a3f5f\"}, \"type\": \"carpet\"}], \"choropleth\": [{\"colorbar\": {\"outlinewidth\": 0, \"ticks\": \"\"}, \"type\": \"choropleth\"}], \"contour\": [{\"colorbar\": {\"outlinewidth\": 0, \"ticks\": \"\"}, \"colorscale\": [[0.0, \"#0d0887\"], [0.1111111111111111, \"#46039f\"], [0.2222222222222222, \"#7201a8\"], [0.3333333333333333, \"#9c179e\"], [0.4444444444444444, \"#bd3786\"], [0.5555555555555556, \"#d8576b\"], [0.6666666666666666, \"#ed7953\"], [0.7777777777777778, \"#fb9f3a\"], [0.8888888888888888, \"#fdca26\"], [1.0, \"#f0f921\"]], \"type\": \"contour\"}], \"contourcarpet\": [{\"colorbar\": {\"outlinewidth\": 0, \"ticks\": \"\"}, \"type\": \"contourcarpet\"}], \"heatmap\": [{\"colorbar\": {\"outlinewidth\": 0, \"ticks\": \"\"}, \"colorscale\": [[0.0, \"#0d0887\"], [0.1111111111111111, \"#46039f\"], [0.2222222222222222, \"#7201a8\"], [0.3333333333333333, \"#9c179e\"], [0.4444444444444444, \"#bd3786\"], [0.5555555555555556, \"#d8576b\"], [0.6666666666666666, \"#ed7953\"], [0.7777777777777778, \"#fb9f3a\"], [0.8888888888888888, \"#fdca26\"], [1.0, \"#f0f921\"]], \"type\": \"heatmap\"}], \"heatmapgl\": [{\"colorbar\": {\"outlinewidth\": 0, \"ticks\": \"\"}, \"colorscale\": [[0.0, \"#0d0887\"], [0.1111111111111111, \"#46039f\"], [0.2222222222222222, \"#7201a8\"], [0.3333333333333333, \"#9c179e\"], [0.4444444444444444, \"#bd3786\"], [0.5555555555555556, \"#d8576b\"], [0.6666666666666666, \"#ed7953\"], [0.7777777777777778, \"#fb9f3a\"], [0.8888888888888888, \"#fdca26\"], [1.0, \"#f0f921\"]], \"type\": \"heatmapgl\"}], \"histogram\": [{\"marker\": {\"colorbar\": {\"outlinewidth\": 0, \"ticks\": \"\"}}, \"type\": \"histogram\"}], \"histogram2d\": [{\"colorbar\": {\"outlinewidth\": 0, \"ticks\": \"\"}, \"colorscale\": [[0.0, \"#0d0887\"], [0.1111111111111111, \"#46039f\"], [0.2222222222222222, \"#7201a8\"], [0.3333333333333333, \"#9c179e\"], [0.4444444444444444, \"#bd3786\"], [0.5555555555555556, \"#d8576b\"], [0.6666666666666666, \"#ed7953\"], [0.7777777777777778, \"#fb9f3a\"], [0.8888888888888888, \"#fdca26\"], [1.0, \"#f0f921\"]], \"type\": \"histogram2d\"}], \"histogram2dcontour\": [{\"colorbar\": {\"outlinewidth\": 0, \"ticks\": \"\"}, \"colorscale\": [[0.0, \"#0d0887\"], [0.1111111111111111, \"#46039f\"], [0.2222222222222222, \"#7201a8\"], [0.3333333333333333, \"#9c179e\"], [0.4444444444444444, \"#bd3786\"], [0.5555555555555556, \"#d8576b\"], [0.6666666666666666, \"#ed7953\"], [0.7777777777777778, \"#fb9f3a\"], [0.8888888888888888, \"#fdca26\"], [1.0, \"#f0f921\"]], \"type\": \"histogram2dcontour\"}], \"mesh3d\": [{\"colorbar\": {\"outlinewidth\": 0, \"ticks\": \"\"}, \"type\": \"mesh3d\"}], \"parcoords\": [{\"line\": {\"colorbar\": {\"outlinewidth\": 0, \"ticks\": \"\"}}, \"type\": \"parcoords\"}], \"pie\": [{\"automargin\": true, \"type\": \"pie\"}], \"scatter\": [{\"marker\": {\"colorbar\": {\"outlinewidth\": 0, \"ticks\": \"\"}}, \"type\": \"scatter\"}], \"scatter3d\": [{\"line\": {\"colorbar\": {\"outlinewidth\": 0, \"ticks\": \"\"}}, \"marker\": {\"colorbar\": {\"outlinewidth\": 0, \"ticks\": \"\"}}, \"type\": \"scatter3d\"}], \"scattercarpet\": [{\"marker\": {\"colorbar\": {\"outlinewidth\": 0, \"ticks\": \"\"}}, \"type\": \"scattercarpet\"}], \"scattergeo\": [{\"marker\": {\"colorbar\": {\"outlinewidth\": 0, \"ticks\": \"\"}}, \"type\": \"scattergeo\"}], \"scattergl\": [{\"marker\": {\"colorbar\": {\"outlinewidth\": 0, \"ticks\": \"\"}}, \"type\": \"scattergl\"}], \"scattermapbox\": [{\"marker\": {\"colorbar\": {\"outlinewidth\": 0, \"ticks\": \"\"}}, \"type\": \"scattermapbox\"}], \"scatterpolar\": [{\"marker\": {\"colorbar\": {\"outlinewidth\": 0, \"ticks\": \"\"}}, \"type\": \"scatterpolar\"}], \"scatterpolargl\": [{\"marker\": {\"colorbar\": {\"outlinewidth\": 0, \"ticks\": \"\"}}, \"type\": \"scatterpolargl\"}], \"scatterternary\": [{\"marker\": {\"colorbar\": {\"outlinewidth\": 0, \"ticks\": \"\"}}, \"type\": \"scatterternary\"}], \"surface\": [{\"colorbar\": {\"outlinewidth\": 0, \"ticks\": \"\"}, \"colorscale\": [[0.0, \"#0d0887\"], [0.1111111111111111, \"#46039f\"], [0.2222222222222222, \"#7201a8\"], [0.3333333333333333, \"#9c179e\"], [0.4444444444444444, \"#bd3786\"], [0.5555555555555556, \"#d8576b\"], [0.6666666666666666, \"#ed7953\"], [0.7777777777777778, \"#fb9f3a\"], [0.8888888888888888, \"#fdca26\"], [1.0, \"#f0f921\"]], \"type\": \"surface\"}], \"table\": [{\"cells\": {\"fill\": {\"color\": \"#EBF0F8\"}, \"line\": {\"color\": \"white\"}}, \"header\": {\"fill\": {\"color\": \"#C8D4E3\"}, \"line\": {\"color\": \"white\"}}, \"type\": \"table\"}]}, \"layout\": {\"annotationdefaults\": {\"arrowcolor\": \"#2a3f5f\", \"arrowhead\": 0, \"arrowwidth\": 1}, \"coloraxis\": {\"colorbar\": {\"outlinewidth\": 0, \"ticks\": \"\"}}, \"colorscale\": {\"diverging\": [[0, \"#8e0152\"], [0.1, \"#c51b7d\"], [0.2, \"#de77ae\"], [0.3, \"#f1b6da\"], [0.4, \"#fde0ef\"], [0.5, \"#f7f7f7\"], [0.6, \"#e6f5d0\"], [0.7, \"#b8e186\"], [0.8, \"#7fbc41\"], [0.9, \"#4d9221\"], [1, \"#276419\"]], \"sequential\": [[0.0, \"#0d0887\"], [0.1111111111111111, \"#46039f\"], [0.2222222222222222, \"#7201a8\"], [0.3333333333333333, \"#9c179e\"], [0.4444444444444444, \"#bd3786\"], [0.5555555555555556, \"#d8576b\"], [0.6666666666666666, \"#ed7953\"], [0.7777777777777778, \"#fb9f3a\"], [0.8888888888888888, \"#fdca26\"], [1.0, \"#f0f921\"]], \"sequentialminus\": [[0.0, \"#0d0887\"], [0.1111111111111111, \"#46039f\"], [0.2222222222222222, \"#7201a8\"], [0.3333333333333333, \"#9c179e\"], [0.4444444444444444, \"#bd3786\"], [0.5555555555555556, \"#d8576b\"], [0.6666666666666666, \"#ed7953\"], [0.7777777777777778, \"#fb9f3a\"], [0.8888888888888888, \"#fdca26\"], [1.0, \"#f0f921\"]]}, \"colorway\": [\"#636efa\", \"#EF553B\", \"#00cc96\", \"#ab63fa\", \"#FFA15A\", \"#19d3f3\", \"#FF6692\", \"#B6E880\", \"#FF97FF\", \"#FECB52\"], \"font\": {\"color\": \"#2a3f5f\"}, \"geo\": {\"bgcolor\": \"white\", \"lakecolor\": \"white\", \"landcolor\": \"#E5ECF6\", \"showlakes\": true, \"showland\": true, \"subunitcolor\": \"white\"}, \"hoverlabel\": {\"align\": \"left\"}, \"hovermode\": \"closest\", \"mapbox\": {\"style\": \"light\"}, \"paper_bgcolor\": \"white\", \"plot_bgcolor\": \"#E5ECF6\", \"polar\": {\"angularaxis\": {\"gridcolor\": \"white\", \"linecolor\": \"white\", \"ticks\": \"\"}, \"bgcolor\": \"#E5ECF6\", \"radialaxis\": {\"gridcolor\": \"white\", \"linecolor\": \"white\", \"ticks\": \"\"}}, \"scene\": {\"xaxis\": {\"backgroundcolor\": \"#E5ECF6\", \"gridcolor\": \"white\", \"gridwidth\": 2, \"linecolor\": \"white\", \"showbackground\": true, \"ticks\": \"\", \"zerolinecolor\": \"white\"}, \"yaxis\": {\"backgroundcolor\": \"#E5ECF6\", \"gridcolor\": \"white\", \"gridwidth\": 2, \"linecolor\": \"white\", \"showbackground\": true, \"ticks\": \"\", \"zerolinecolor\": \"white\"}, \"zaxis\": {\"backgroundcolor\": \"#E5ECF6\", \"gridcolor\": \"white\", \"gridwidth\": 2, \"linecolor\": \"white\", \"showbackground\": true, \"ticks\": \"\", \"zerolinecolor\": \"white\"}}, \"shapedefaults\": {\"line\": {\"color\": \"#2a3f5f\"}}, \"ternary\": {\"aaxis\": {\"gridcolor\": \"white\", \"linecolor\": \"white\", \"ticks\": \"\"}, \"baxis\": {\"gridcolor\": \"white\", \"linecolor\": \"white\", \"ticks\": \"\"}, \"bgcolor\": \"#E5ECF6\", \"caxis\": {\"gridcolor\": \"white\", \"linecolor\": \"white\", \"ticks\": \"\"}}, \"title\": {\"x\": 0.05}, \"xaxis\": {\"automargin\": true, \"gridcolor\": \"white\", \"linecolor\": \"white\", \"ticks\": \"\", \"title\": {\"standoff\": 15}, \"zerolinecolor\": \"white\", \"zerolinewidth\": 2}, \"yaxis\": {\"automargin\": true, \"gridcolor\": \"white\", \"linecolor\": \"white\", \"ticks\": \"\", \"title\": {\"standoff\": 15}, \"zerolinecolor\": \"white\", \"zerolinewidth\": 2}}}, \"title\": {\"text\": \"Confirmed Cases - US\"}, \"xaxis\": {\"anchor\": \"y\", \"domain\": [0.0, 1.0], \"rangemode\": \"tozero\", \"title\": {\"text\": \"Mean Daily Growth over 14 previous days compared to Max Daily Growth (%)\"}}, \"yaxis\": {\"anchor\": \"x\", \"domain\": [0.0, 1.0], \"rangemode\": \"tozero\", \"title\": {\"text\": \"Percentage of Total occuring in the last 14 days (%)\"}}},\n",
       "                        {\"responsive\": true}\n",
       "                    ).then(function(){\n",
       "                            \n",
       "var gd = document.getElementById('8ed2adf4-8988-4010-aa50-616ee5276338');\n",
       "var x = new MutationObserver(function (mutations, observer) {{\n",
       "        var display = window.getComputedStyle(gd).display;\n",
       "        if (!display || display === 'none') {{\n",
       "            console.log([gd, 'removed!']);\n",
       "            Plotly.purge(gd);\n",
       "            observer.disconnect();\n",
       "        }}\n",
       "}});\n",
       "\n",
       "// Listen for the removal of the full notebook cells\n",
       "var notebookContainer = gd.closest('#notebook-container');\n",
       "if (notebookContainer) {{\n",
       "    x.observe(notebookContainer, {childList: true});\n",
       "}}\n",
       "\n",
       "// Listen for the clearing of the current output cell\n",
       "var outputEl = gd.closest('.output');\n",
       "if (outputEl) {{\n",
       "    x.observe(outputEl, {childList: true});\n",
       "}}\n",
       "\n",
       "                        })\n",
       "                };\n",
       "                });\n",
       "            </script>\n",
       "        </div>"
      ]
     },
     "metadata": {},
     "output_type": "display_data"
    }
   ],
   "source": [
    "if cases_us.value == 'Confirmed Cases':\n",
    "    daily_cases_US_2 = plot_phase_space_US(daily_cases_US, \n",
    "                                           title = cases_us.value, time_window=int(tw_us.value), \n",
    "                                     \n",
    "                                           n_cases = min_us.value, state=st_us.value)\n",
    "elif cases_us.value == 'Deaths':\n",
    "    daily_deaths_US_2 = plot_phase_space_US(daily_deaths_US.drop(columns='Population'), \n",
    "                                            title = cases_us.value, time_window=int(tw_us.value), \n",
    "                                            n_cases = min_us.value, state=st_us.value)\n",
    "else:\n",
    "    print('ERROR in dataframe')   \n",
    "    \n"
   ]
  },
  {
   "cell_type": "code",
   "execution_count": 31,
   "metadata": {
    "ExecuteTime": {
     "end_time": "2020-04-21T17:34:14.395531Z",
     "start_time": "2020-04-21T17:34:14.393412Z"
    }
   },
   "outputs": [],
   "source": [
    "# if cases_us.value == 'Confirmed Cases':\n",
    "#     df_test = daily_cases_US_2\n",
    "# elif cases_us.value == 'Deaths':\n",
    "#     df_test = daily_deaths_US_2\n",
    "\n",
    "# fig, ax = plt.subplots(figsize=(10,10))\n",
    "\n",
    "\n",
    "# sns.lineplot(x=\"Days\", y=\"DailyGrowth\",\n",
    "#              hue=\"Province_State\", \n",
    "#              data=df_test)\n",
    "\n",
    "# #ax.set_yscale('log')"
   ]
  },
  {
   "cell_type": "markdown",
   "metadata": {},
   "source": [
    "# Model SIR"
   ]
  },
  {
   "cell_type": "code",
   "execution_count": 21,
   "metadata": {
    "ExecuteTime": {
     "end_time": "2020-04-21T17:34:00.346894Z",
     "start_time": "2020-04-21T17:34:00.339896Z"
    }
   },
   "outputs": [],
   "source": [
    "import numpy as np\n",
    "from scipy.integrate import odeint\n",
    "import matplotlib.pyplot as plt\n",
    "\n",
    "# Total population, N.\n",
    "N = 1000\n",
    "# Initial number of infected and recovered individuals, I0 and R0.\n",
    "I0, R0 = 1, 0\n",
    "# Everyone else, S0, is susceptible to infection initially.\n",
    "S0 = N - I0 - R0\n",
    "# Contact rate, beta, and mean recovery rate, gamma, (in 1/days).\n",
    "beta, gamma = 0.2, 1./10 \n",
    "# A grid of time points (in days)\n",
    "t = np.linspace(0, 160, 160)"
   ]
  },
  {
   "cell_type": "code",
   "execution_count": 22,
   "metadata": {
    "ExecuteTime": {
     "end_time": "2020-04-21T17:34:00.910412Z",
     "start_time": "2020-04-21T17:34:00.903249Z"
    }
   },
   "outputs": [],
   "source": [
    "# The SIR model differential equations.\n",
    "def deriv(y, t, N, beta, gamma):\n",
    "    S, I, R = y\n",
    "    dSdt = -beta * S * I / N\n",
    "    dIdt = beta * S * I / N - gamma * I\n",
    "    dRdt = gamma * I\n",
    "    return dSdt, dIdt, dRdt\n",
    "\n",
    "# Initial conditions vector\n",
    "y0 = S0, I0, R0\n",
    "# Integrate the SIR equations over the time grid, t.\n",
    "ret = odeint(deriv, y0, t, args=(N, beta, gamma))\n",
    "S, I, R = ret.T"
   ]
  },
  {
   "cell_type": "code",
   "execution_count": 23,
   "metadata": {
    "ExecuteTime": {
     "end_time": "2020-04-21T17:34:01.501090Z",
     "start_time": "2020-04-21T17:34:01.218076Z"
    }
   },
   "outputs": [
    {
     "data": {
      "image/png": "[encoded data removed]",
      "text/plain": [
       "<Figure size 432x288 with 1 Axes>"
      ]
     },
     "metadata": {},
     "output_type": "display_data"
    }
   ],
   "source": [
    "# Plot the data on three separate curves for S(t), I(t) and R(t)\n",
    "fig = plt.figure(facecolor='w')\n",
    "ax = fig.add_subplot(111,  axisbelow=True)\n",
    "ax.plot(t, S/1000, 'b', alpha=0.5, lw=2, label='Susceptible')\n",
    "ax.plot(t, I/1000, 'r', alpha=0.5, lw=2, label='Infected')\n",
    "ax.plot(t, R/1000, 'g', alpha=0.5, lw=2, label='Recovered with immunity')\n",
    "ax.set_xlabel('Time /days')\n",
    "ax.set_ylabel('Number (1000s)')\n",
    "ax.set_ylim(0,1.2)\n",
    "ax.yaxis.set_tick_params(length=0)\n",
    "ax.xaxis.set_tick_params(length=0)\n",
    "ax.grid(b=True, which='major', c='w', lw=2, ls='-')\n",
    "legend = ax.legend()\n",
    "legend.get_frame().set_alpha(0.5)\n",
    "for spine in ('top', 'right', 'bottom', 'left'):\n",
    "    ax.spines[spine].set_visible(False)\n",
    "plt.show()"
   ]
  },
  {
   "cell_type": "code",
   "execution_count": null,
   "metadata": {},
   "outputs": [],
   "source": []
  },
  {
   "cell_type": "code",
   "execution_count": null,
   "metadata": {},
   "outputs": [],
   "source": []
  }
 ],
 "metadata": {
  "kernelspec": {
   "display_name": "Python 3",
   "language": "python",
   "name": "python3"
  },
  "language_info": {
   "codemirror_mode": {
    "name": "ipython",
    "version": 3
   },
   "file_extension": ".py",
   "mimetype": "text/x-python",
   "name": "python",
   "nbconvert_exporter": "python",
   "pygments_lexer": "ipython3",
   "version": "3.7.6"
  },
  "toc": {
   "base_numbering": 1,
   "nav_menu": {},
   "number_sections": true,
   "sideBar": true,
   "skip_h1_title": false,
   "title_cell": "Table of Contents",
   "title_sidebar": "Contents",
   "toc_cell": true,
   "toc_position": {
    "height": "calc(100% - 180px)",
    "left": "10px",
    "top": "150px",
    "width": "307.656px"
   },
   "toc_section_display": true,
   "toc_window_display": true
  }
 },
 "nbformat": 4,
 "nbformat_minor": 4
}
