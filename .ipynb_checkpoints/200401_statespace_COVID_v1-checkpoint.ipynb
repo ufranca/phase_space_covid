{
 "cells": [
  {
   "cell_type": "markdown",
   "metadata": {
    "toc": true
   },
   "source": [
    "<h1>Table of Contents<span class=\"tocSkip\"></span></h1>\n",
    "<div class=\"toc\"><ul class=\"toc-item\"><li><span><a href=\"#Data\" data-toc-modified-id=\"Data-1\"><span class=\"toc-item-num\">1&nbsp;&nbsp;</span>Data</a></span></li></ul></div>"
   ]
  },
  {
   "cell_type": "code",
   "execution_count": 1,
   "metadata": {
    "ExecuteTime": {
     "end_time": "2020-04-02T00:17:09.585353Z",
     "start_time": "2020-04-02T00:17:08.553322Z"
    }
   },
   "outputs": [],
   "source": [
    "%matplotlib inline\n",
    "user = 'UF'"
   ]
  },
  {
   "cell_type": "code",
   "execution_count": 2,
   "metadata": {
    "ExecuteTime": {
     "end_time": "2020-04-02T00:17:19.193170Z",
     "start_time": "2020-04-02T00:17:16.398628Z"
    }
   },
   "outputs": [
    {
     "name": "stdout",
     "output_type": "stream",
     "text": [
      "200401\n"
     ]
    },
    {
     "data": {
      "text/html": [
       "<style>.container { width:70% !important; }</style>"
      ],
      "text/plain": [
       "<IPython.core.display.HTML object>"
      ]
     },
     "execution_count": 2,
     "metadata": {},
     "output_type": "execute_result"
    }
   ],
   "source": [
    "import datetime as dt\n",
    "import pandas as pd\n",
    "import sys\n",
    "import csv\n",
    "import geopandas as gpd\n",
    "import glob\n",
    "import ipywidgets #as widgets\n",
    "import itertools\n",
    "import math\n",
    "import numpy as np\n",
    "import matplotlib.pyplot as plt\n",
    "import seaborn as sns\n",
    "import socket\n",
    "\n",
    "from matplotlib import *\n",
    "from matplotlib.dates import YearLocator, MonthLocator, DateFormatter\n",
    "from matplotlib.dates import *\n",
    "from numpy.random import randn\n",
    "import statsmodels.api as sm\n",
    "\n",
    "from ipywidgets import interact, interactive, fixed, interact_manual, Layout\n",
    "import ipywidgets as widgets\n",
    "\n",
    "import plotly.express as px\n",
    "import plotly.graph_objects as go\n",
    "from plotly.offline import download_plotlyjs, init_notebook_mode, plot, iplot\n",
    "#init_notebook_mode(connected=True)\n",
    "\n",
    "\n",
    "sns.set()\n",
    "\n",
    "import warnings\n",
    "warnings.filterwarnings('ignore')\n",
    "\n",
    "today = dt.datetime.today().strftime(\"%y%m%d\")\n",
    "print(today)\n",
    "\n",
    "from IPython.core.display import HTML\n",
    "HTML(\"<style>.container { width:70% !important; }</style>\")"
   ]
  },
  {
   "cell_type": "code",
   "execution_count": 4,
   "metadata": {
    "ExecuteTime": {
     "end_time": "2020-04-02T00:17:28.867328Z",
     "start_time": "2020-04-02T00:17:28.856966Z"
    }
   },
   "outputs": [
    {
     "name": "stdout",
     "output_type": "stream",
     "text": [
      "UF\n",
      "urbanos-macbook-pro.local\n",
      "Running on the laptop\n",
      "/Users/ufranca/Documents/Data/ /Users/ufranca/Documents/Data/new_datasets/\n",
      "\n",
      " /Volumes/Bell/Data/ \n",
      " /Volumes/Bell/Data/ \n",
      " /Users/ufranca/Documents/Dropbox/projects_coding/data_tools/\n"
     ]
    }
   ],
   "source": [
    "if user == 'UF':\n",
    "    print(user)\n",
    "    print(socket.gethostname().lower())\n",
    "\n",
    "    #laptop\n",
    "    if socket.gethostname().lower().startswith('osxlap01664'):#.tch.harvard.edu':\n",
    "        print('Running on the laptop')\n",
    "        address = \"/Users/ufranca/Documents/Data/\"\n",
    "        addressdata = \"/Users/ufranca/Documents/Data/new_datasets/\"\n",
    "        data_tools = \"/Users/ufranca/Documents/Dropbox/projects_coding/data_tools/\"\n",
    "        sys.path.insert(0, '/Users/ufranca/Documents/Dropbox/projects_coding/functions')\n",
    "\n",
    "    elif socket.gethostname().lower().startswith('urbano'):#.tch.harvard.edu':\n",
    "        print('Running on the laptop')\n",
    "    #     address = \"/Users/urbanofranca/Documents/Datasets/\"\n",
    "    #     addressdata = \"/Users/urbanofranca/Documents/Datasets/\"\n",
    "        address = \"/Users/ufranca/Documents/Data/\"\n",
    "        addressdata = \"/Users/ufranca/Documents/Data/new_datasets/\"\n",
    "        data_tools = \"/Users/ufranca/Documents/Dropbox/projects_coding/data_tools/\"\n",
    "        sys.path.insert(0, '/Users/ufranca/Documents/Dropbox/projects_coding/functions')\n",
    "\n",
    "    elif socket.gethostname().lower().startswith('vpn'):#.tch.harvard.edu':\n",
    "        print('Running on the laptop')\n",
    "    #     address = \"/Users/urbanofranca/Documents/Datasets/\"\n",
    "    #     addressdata = \"/Users/urbanofranca/Documents/Datasets/\"\n",
    "        address = \"/Users/ufranca/Documents/Data/\"\n",
    "        addressdata = \"/Users/ufranca/Documents/Data/new_datasets/\"\n",
    "        data_tools = \"/Users/ufranca/Documents/Dropbox/projects_coding/data_tools/\"\n",
    "        sys.path.insert(0, '/Users/ufranca/Documents/Dropbox/projects_coding/functions')\n",
    "\n",
    "        \n",
    "    else:\n",
    "        print('No known computer')\n",
    "\n",
    "    print(address, addressdata)\n",
    "    \n",
    "    \n",
    "    ######################################################\n",
    "    ## it needs to be here to find the right dropbox -> fix this later?\n",
    "    \n",
    "    import functionsuf as fuf\n",
    "    import hospitals as hosp\n",
    "    \n",
    "    external_disk = 'T'\n",
    "\n",
    "    if (external_disk == 'T'):\n",
    "        address = \"/Volumes/Bell/Data/\"\n",
    "        addressdata = \"/Volumes/Bell/Data/\"\n",
    "    else:\n",
    "        address = address\n",
    "        addressdata = addressdata \n",
    "\n",
    "    print('\\n '+ address, '\\n', addressdata, '\\n', data_tools)\n",
    "\n",
    "elif user =='MM':\n",
    "    ## Here I define \n",
    "    #'addressdata', which is the folder where the data is located\n",
    "    # 'data_tools', which is where the data_tools are located\n",
    "    # 'address' is not used anywhere and mostly deprecated\n",
    "    print(user)\n",
    "    \n",
    "    \n",
    "else:\n",
    "    print(\"Define the paths for `address`, `addressdata`, and `data_tools`\")"
   ]
  },
  {
   "cell_type": "markdown",
   "metadata": {},
   "source": [
    "# Data"
   ]
  },
  {
   "cell_type": "code",
   "execution_count": 239,
   "metadata": {
    "ExecuteTime": {
     "end_time": "2020-04-04T16:31:26.381263Z",
     "start_time": "2020-04-04T16:31:26.356484Z"
    }
   },
   "outputs": [],
   "source": [
    "date2 = '0403'\n",
    "daily_cases_global = pd.read_csv(date2+'_COVID-19-master_JHU/csse_covid_19_data/csse_covid_19_time_series/time_series_covid19_confirmed_global.csv', \n",
    "                                 dtype=object)\n",
    "daily_cases_global = daily_cases_global.drop(columns =['Province/State', 'Lat', 'Long'])\n",
    "\n",
    "daily_deaths_global = pd.read_csv(date2+'_COVID-19-master_JHU/csse_covid_19_data/csse_covid_19_time_series/time_series_covid19_deaths_global.csv', \n",
    "                                 dtype=object)\n",
    "daily_deaths_global = daily_deaths_global.drop(columns =['Province/State', 'Lat', 'Long'])\n"
   ]
  },
  {
   "cell_type": "code",
   "execution_count": 240,
   "metadata": {
    "ExecuteTime": {
     "end_time": "2020-04-04T16:31:26.852198Z",
     "start_time": "2020-04-04T16:31:26.809663Z"
    }
   },
   "outputs": [],
   "source": [
    "daily_cases_global[daily_cases_global.columns[1:]] = daily_cases_global[daily_cases_global.columns[1:]].astype(float)\n",
    "daily_deaths_global[daily_deaths_global.columns[1:]] = daily_deaths_global[daily_deaths_global.columns[1:]].astype(float)"
   ]
  },
  {
   "cell_type": "code",
   "execution_count": 241,
   "metadata": {
    "ExecuteTime": {
     "end_time": "2020-04-04T16:31:27.363280Z",
     "start_time": "2020-04-04T16:31:27.348005Z"
    }
   },
   "outputs": [],
   "source": [
    "daily_cases_global = daily_cases_global.groupby('Country/Region').sum().reset_index()\n",
    "daily_deaths_global = daily_deaths_global.groupby('Country/Region').sum().reset_index()"
   ]
  },
  {
   "cell_type": "code",
   "execution_count": null,
   "metadata": {},
   "outputs": [],
   "source": []
  },
  {
   "cell_type": "code",
   "execution_count": 242,
   "metadata": {
    "ExecuteTime": {
     "end_time": "2020-04-04T16:31:28.345886Z",
     "start_time": "2020-04-04T16:31:28.339687Z"
    }
   },
   "outputs": [
    {
     "data": {
      "text/plain": [
       "['China',\n",
       " 'Diamond Princess',\n",
       " 'Singapore',\n",
       " 'Japan',\n",
       " 'Korea, South',\n",
       " 'Italy',\n",
       " 'Iran',\n",
       " 'US',\n",
       " 'France',\n",
       " 'Germany',\n",
       " 'Spain',\n",
       " 'Kuwait',\n",
       " 'Switzerland',\n",
       " 'United Kingdom',\n",
       " 'Australia',\n",
       " 'Bahrain',\n",
       " 'Norway',\n",
       " 'Netherlands',\n",
       " 'Sweden',\n",
       " 'Austria',\n",
       " 'Belgium',\n",
       " 'Malaysia',\n",
       " 'Canada',\n",
       " 'Iraq',\n",
       " 'Greece',\n",
       " 'Israel',\n",
       " 'Denmark',\n",
       " 'Egypt',\n",
       " 'Iceland',\n",
       " 'India',\n",
       " 'San Marino',\n",
       " 'Thailand',\n",
       " 'United Arab Emirates',\n",
       " 'Czechia',\n",
       " 'Finland',\n",
       " 'Lebanon',\n",
       " 'Portugal',\n",
       " 'Qatar',\n",
       " 'Slovenia',\n",
       " 'Brazil',\n",
       " 'Philippines',\n",
       " 'Estonia',\n",
       " 'Indonesia',\n",
       " 'Ireland',\n",
       " 'Poland',\n",
       " 'Romania',\n",
       " 'Saudi Arabia',\n",
       " 'Chile',\n",
       " 'Luxembourg',\n",
       " 'Russia',\n",
       " 'Taiwan*',\n",
       " 'Vietnam',\n",
       " 'Bulgaria',\n",
       " 'Pakistan',\n",
       " 'Slovakia',\n",
       " 'South Africa',\n",
       " 'Albania',\n",
       " 'Algeria',\n",
       " 'Argentina',\n",
       " 'Armenia',\n",
       " 'Brunei',\n",
       " 'Colombia',\n",
       " 'Croatia',\n",
       " 'Mexico',\n",
       " 'Panama',\n",
       " 'Peru',\n",
       " 'Serbia',\n",
       " 'Ecuador',\n",
       " 'Belarus',\n",
       " 'Hungary',\n",
       " 'Jordan',\n",
       " 'Latvia',\n",
       " 'Sri Lanka',\n",
       " 'Turkey',\n",
       " 'Andorra',\n",
       " 'Bosnia and Herzegovina',\n",
       " 'Costa Rica',\n",
       " 'Cyprus',\n",
       " 'Malta',\n",
       " 'Morocco',\n",
       " 'Uruguay',\n",
       " 'Cambodia',\n",
       " 'Dominican Republic',\n",
       " 'Moldova',\n",
       " 'North Macedonia',\n",
       " 'Tunisia',\n",
       " 'Azerbaijan',\n",
       " 'Burkina Faso',\n",
       " 'Kazakhstan',\n",
       " 'Lithuania',\n",
       " 'New Zealand',\n",
       " 'Oman',\n",
       " 'Venezuela',\n",
       " 'Georgia',\n",
       " 'Senegal',\n",
       " 'Ukraine',\n",
       " 'West Bank and Gaza',\n",
       " 'Cameroon',\n",
       " 'Liechtenstein',\n",
       " 'Trinidad and Tobago',\n",
       " 'Afghanistan',\n",
       " \"Cote d'Ivoire\",\n",
       " 'Ghana',\n",
       " 'Cuba',\n",
       " 'Montenegro',\n",
       " 'Nigeria',\n",
       " 'Uzbekistan',\n",
       " 'Congo (Kinshasa)',\n",
       " 'Honduras',\n",
       " 'Kosovo',\n",
       " 'Mauritius',\n",
       " 'Bolivia',\n",
       " 'Kyrgyzstan',\n",
       " 'Paraguay',\n",
       " 'Rwanda',\n",
       " 'Bangladesh',\n",
       " 'Kenya',\n",
       " 'Madagascar',\n",
       " 'Monaco']"
      ]
     },
     "execution_count": 242,
     "metadata": {},
     "output_type": "execute_result"
    }
   ],
   "source": [
    "list(daily_cases_global_2[\"Country/Region\"].unique())"
   ]
  },
  {
   "cell_type": "code",
   "execution_count": 243,
   "metadata": {
    "ExecuteTime": {
     "end_time": "2020-04-04T16:31:28.786119Z",
     "start_time": "2020-04-04T16:31:28.778574Z"
    }
   },
   "outputs": [],
   "source": [
    "daily_cases_global_2 = daily_cases_global.melt(id_vars=[\"Country/Region\"], \n",
    "                                                var_name=\"Date\", \n",
    "                                                value_name=\"Confirmed\")\n",
    "\n",
    "# daily_cases_global_2 = daily_deaths_global.melt(id_vars=[\"Country/Region\"], \n",
    "#                                                 var_name=\"Date\", \n",
    "#                                                 value_name=\"Confirmed\")\n",
    "daily_cases_global_2['Confirmed'] = daily_cases_global_2['Confirmed'].astype(float)"
   ]
  },
  {
   "cell_type": "code",
   "execution_count": 244,
   "metadata": {
    "ExecuteTime": {
     "end_time": "2020-04-04T16:31:29.306044Z",
     "start_time": "2020-04-04T16:31:29.294583Z"
    },
    "scrolled": false
   },
   "outputs": [],
   "source": [
    "daily_cases_global_2['DateDT'] = pd.to_datetime(daily_cases_global_2['Date'])"
   ]
  },
  {
   "cell_type": "code",
   "execution_count": 245,
   "metadata": {
    "ExecuteTime": {
     "end_time": "2020-04-04T16:31:29.710420Z",
     "start_time": "2020-04-04T16:31:29.700753Z"
    }
   },
   "outputs": [],
   "source": [
    "daily_cases_US = daily_cases_global_2[daily_cases_global_2[\"Country/Region\"] == 'US']\n",
    "daily_cases_US = daily_cases_US.sort_values('DateDT')#@['']\n",
    "daily_cases_US['Days'] = daily_cases_US.index\n",
    "daily_cases_US\n",
    "\n",
    "daily_cases_US['DailyGrowth'] = daily_cases_US['Confirmed'].diff()\n",
    "daily_cases_US['MeanGrowth_3d'] = daily_cases_US['DailyGrowth'].rolling(7).mean().round(0)"
   ]
  },
  {
   "cell_type": "code",
   "execution_count": 246,
   "metadata": {
    "ExecuteTime": {
     "end_time": "2020-04-04T16:31:30.148876Z",
     "start_time": "2020-04-04T16:31:30.129570Z"
    }
   },
   "outputs": [
    {
     "data": {
      "text/html": [
       "<div>\n",
       "<style scoped>\n",
       "    .dataframe tbody tr th:only-of-type {\n",
       "        vertical-align: middle;\n",
       "    }\n",
       "\n",
       "    .dataframe tbody tr th {\n",
       "        vertical-align: top;\n",
       "    }\n",
       "\n",
       "    .dataframe thead th {\n",
       "        text-align: right;\n",
       "    }\n",
       "</style>\n",
       "<table border=\"1\" class=\"dataframe\">\n",
       "  <thead>\n",
       "    <tr style=\"text-align: right;\">\n",
       "      <th></th>\n",
       "      <th>Country/Region</th>\n",
       "      <th>Date</th>\n",
       "      <th>Confirmed</th>\n",
       "      <th>DateDT</th>\n",
       "      <th>Days</th>\n",
       "      <th>DailyGrowth</th>\n",
       "      <th>MeanGrowth_3d</th>\n",
       "    </tr>\n",
       "  </thead>\n",
       "  <tbody>\n",
       "    <tr>\n",
       "      <th>169</th>\n",
       "      <td>US</td>\n",
       "      <td>1/22/20</td>\n",
       "      <td>1.0</td>\n",
       "      <td>2020-01-22</td>\n",
       "      <td>169</td>\n",
       "      <td>NaN</td>\n",
       "      <td>NaN</td>\n",
       "    </tr>\n",
       "    <tr>\n",
       "      <th>350</th>\n",
       "      <td>US</td>\n",
       "      <td>1/23/20</td>\n",
       "      <td>1.0</td>\n",
       "      <td>2020-01-23</td>\n",
       "      <td>350</td>\n",
       "      <td>0.0</td>\n",
       "      <td>NaN</td>\n",
       "    </tr>\n",
       "    <tr>\n",
       "      <th>531</th>\n",
       "      <td>US</td>\n",
       "      <td>1/24/20</td>\n",
       "      <td>2.0</td>\n",
       "      <td>2020-01-24</td>\n",
       "      <td>531</td>\n",
       "      <td>1.0</td>\n",
       "      <td>NaN</td>\n",
       "    </tr>\n",
       "    <tr>\n",
       "      <th>712</th>\n",
       "      <td>US</td>\n",
       "      <td>1/25/20</td>\n",
       "      <td>2.0</td>\n",
       "      <td>2020-01-25</td>\n",
       "      <td>712</td>\n",
       "      <td>0.0</td>\n",
       "      <td>NaN</td>\n",
       "    </tr>\n",
       "    <tr>\n",
       "      <th>893</th>\n",
       "      <td>US</td>\n",
       "      <td>1/26/20</td>\n",
       "      <td>5.0</td>\n",
       "      <td>2020-01-26</td>\n",
       "      <td>893</td>\n",
       "      <td>3.0</td>\n",
       "      <td>NaN</td>\n",
       "    </tr>\n",
       "    <tr>\n",
       "      <th>...</th>\n",
       "      <td>...</td>\n",
       "      <td>...</td>\n",
       "      <td>...</td>\n",
       "      <td>...</td>\n",
       "      <td>...</td>\n",
       "      <td>...</td>\n",
       "      <td>...</td>\n",
       "    </tr>\n",
       "    <tr>\n",
       "      <th>12477</th>\n",
       "      <td>US</td>\n",
       "      <td>3/30/20</td>\n",
       "      <td>161807.0</td>\n",
       "      <td>2020-03-30</td>\n",
       "      <td>12477</td>\n",
       "      <td>20921.0</td>\n",
       "      <td>16851.0</td>\n",
       "    </tr>\n",
       "    <tr>\n",
       "      <th>12658</th>\n",
       "      <td>US</td>\n",
       "      <td>3/31/20</td>\n",
       "      <td>188172.0</td>\n",
       "      <td>2020-03-31</td>\n",
       "      <td>12658</td>\n",
       "      <td>26365.0</td>\n",
       "      <td>19205.0</td>\n",
       "    </tr>\n",
       "    <tr>\n",
       "      <th>12839</th>\n",
       "      <td>US</td>\n",
       "      <td>4/1/20</td>\n",
       "      <td>213372.0</td>\n",
       "      <td>2020-04-01</td>\n",
       "      <td>12839</td>\n",
       "      <td>25200.0</td>\n",
       "      <td>21085.0</td>\n",
       "    </tr>\n",
       "    <tr>\n",
       "      <th>13020</th>\n",
       "      <td>US</td>\n",
       "      <td>4/2/20</td>\n",
       "      <td>243453.0</td>\n",
       "      <td>2020-04-02</td>\n",
       "      <td>13020</td>\n",
       "      <td>30081.0</td>\n",
       "      <td>22802.0</td>\n",
       "    </tr>\n",
       "    <tr>\n",
       "      <th>13201</th>\n",
       "      <td>US</td>\n",
       "      <td>4/3/20</td>\n",
       "      <td>275586.0</td>\n",
       "      <td>2020-04-03</td>\n",
       "      <td>13201</td>\n",
       "      <td>32133.0</td>\n",
       "      <td>24847.0</td>\n",
       "    </tr>\n",
       "  </tbody>\n",
       "</table>\n",
       "<p>73 rows × 7 columns</p>\n",
       "</div>"
      ],
      "text/plain": [
       "      Country/Region     Date  Confirmed     DateDT   Days  DailyGrowth  \\\n",
       "169               US  1/22/20        1.0 2020-01-22    169          NaN   \n",
       "350               US  1/23/20        1.0 2020-01-23    350          0.0   \n",
       "531               US  1/24/20        2.0 2020-01-24    531          1.0   \n",
       "712               US  1/25/20        2.0 2020-01-25    712          0.0   \n",
       "893               US  1/26/20        5.0 2020-01-26    893          3.0   \n",
       "...              ...      ...        ...        ...    ...          ...   \n",
       "12477             US  3/30/20   161807.0 2020-03-30  12477      20921.0   \n",
       "12658             US  3/31/20   188172.0 2020-03-31  12658      26365.0   \n",
       "12839             US   4/1/20   213372.0 2020-04-01  12839      25200.0   \n",
       "13020             US   4/2/20   243453.0 2020-04-02  13020      30081.0   \n",
       "13201             US   4/3/20   275586.0 2020-04-03  13201      32133.0   \n",
       "\n",
       "       MeanGrowth_3d  \n",
       "169              NaN  \n",
       "350              NaN  \n",
       "531              NaN  \n",
       "712              NaN  \n",
       "893              NaN  \n",
       "...              ...  \n",
       "12477        16851.0  \n",
       "12658        19205.0  \n",
       "12839        21085.0  \n",
       "13020        22802.0  \n",
       "13201        24847.0  \n",
       "\n",
       "[73 rows x 7 columns]"
      ]
     },
     "execution_count": 246,
     "metadata": {},
     "output_type": "execute_result"
    }
   ],
   "source": [
    "daily_cases_US#['MeanGrowth_3d'].plot()"
   ]
  },
  {
   "cell_type": "code",
   "execution_count": 247,
   "metadata": {
    "ExecuteTime": {
     "end_time": "2020-04-04T16:31:30.925061Z",
     "start_time": "2020-04-04T16:31:30.645831Z"
    }
   },
   "outputs": [
    {
     "data": {
      "application/vnd.plotly.v1+json": {
       "config": {
        "plotlyServerURL": "https://plot.ly"
       },
       "data": [
        {
         "hoverlabel": {
          "namelength": 0
         },
         "hovertemplate": "x=%{x}<br>y=%{y}<br>color=%{marker.color}",
         "legendgroup": "",
         "marker": {
          "color": [
           169,
           350,
           531,
           712,
           893,
           1074,
           1255,
           1436,
           1617,
           1798,
           1979,
           2160,
           2341,
           2522,
           2703,
           2884,
           3065,
           3246,
           3427,
           3608,
           3789,
           3970,
           4151,
           4332,
           4513,
           4694,
           4875,
           5056,
           5237,
           5418,
           5599,
           5780,
           5961,
           6142,
           6323,
           6504,
           6685,
           6866,
           7047,
           7228,
           7409,
           7590,
           7771,
           7952,
           8133,
           8314,
           8495,
           8676,
           8857,
           9038,
           9219,
           9400,
           9581,
           9762,
           9943,
           10124,
           10305,
           10486,
           10667,
           10848,
           11029,
           11210,
           11391,
           11572,
           11753,
           11934,
           12115,
           12296,
           12477,
           12658,
           12839,
           13020,
           13201
          ],
          "coloraxis": "coloraxis",
          "symbol": "circle"
         },
         "mode": "markers",
         "name": "",
         "showlegend": false,
         "type": "scatter",
         "x": [
          null,
          null,
          null,
          null,
          null,
          null,
          null,
          1,
          1,
          1,
          1,
          0,
          1,
          1,
          1,
          1,
          1,
          0,
          0,
          0,
          0,
          0,
          0,
          0,
          0,
          0,
          0,
          0,
          0,
          0,
          0,
          0,
          0,
          5,
          5,
          6,
          6,
          6,
          8,
          8,
          7,
          10,
          13,
          23,
          29,
          48,
          63,
          69,
          120,
          162,
          207,
          274,
          332,
          426,
          578,
          780,
          929,
          1716,
          2417,
          3252,
          4254,
          5602,
          6760,
          8285,
          10023,
          11794,
          13713,
          15373,
          16851,
          19205,
          21085,
          22802,
          24847
         ],
         "xaxis": "x",
         "y": [
          null,
          null,
          null,
          null,
          null,
          null,
          null,
          0.8,
          0.8,
          0.7142857142857143,
          0.75,
          0.375,
          0.5454545454545454,
          0.5454545454545454,
          0.5454545454545454,
          0.5454545454545454,
          0.36363636363636365,
          0.2727272727272727,
          0.2727272727272727,
          0,
          0.08333333333333333,
          0.08333333333333333,
          0.15384615384615385,
          0.15384615384615385,
          0.15384615384615385,
          0.15384615384615385,
          0.15384615384615385,
          0.07692307692307693,
          0.07692307692307693,
          0,
          0.13333333333333333,
          0.13333333333333333,
          0.13333333333333333,
          0.7450980392156863,
          0.7450980392156863,
          0.7719298245614035,
          0.7758620689655172,
          0.75,
          0.7794117647058824,
          0.7972972972972973,
          0.47959183673469385,
          0.5677966101694916,
          0.6174496644295302,
          0.7327188940092166,
          0.7709923664122137,
          0.8308457711442786,
          0.8571428571428571,
          0.8319039451114922,
          0.8769551616266945,
          0.8836846213895394,
          0.8695129284425737,
          0.8797613584212942,
          0.8525852585258525,
          0.8519577022006287,
          0.8741364421416234,
          0.8506463167730883,
          0.835410510086085,
          0.8784090078233531,
          0.8859162303664921,
          0.893012672133077,
          0.8948491405216973,
          0.8943599334047939,
          0.8805173055452177,
          0.8816777646021466,
          0.836860060117372,
          0.8121132829023088,
          0.7901759989463113,
          0.7638090370938205,
          0.7290166680057105,
          0.7144102204366218,
          0.6917215004780384,
          0.6556378438548713,
          0.6311242225657326
         ],
         "yaxis": "y"
        }
       ],
       "layout": {
        "coloraxis": {
         "colorbar": {
          "title": {
           "text": "color"
          }
         },
         "colorscale": [
          [
           0,
           "rgb(84,48,5)"
          ],
          [
           0.1,
           "rgb(140,81,10)"
          ],
          [
           0.2,
           "rgb(191,129,45)"
          ],
          [
           0.3,
           "rgb(223,194,125)"
          ],
          [
           0.4,
           "rgb(246,232,195)"
          ],
          [
           0.5,
           "rgb(245,245,245)"
          ],
          [
           0.6,
           "rgb(199,234,229)"
          ],
          [
           0.7,
           "rgb(128,205,193)"
          ],
          [
           0.8,
           "rgb(53,151,143)"
          ],
          [
           0.9,
           "rgb(1,102,94)"
          ],
          [
           1,
           "rgb(0,60,48)"
          ]
         ]
        },
        "legend": {
         "tracegroupgap": 0
        },
        "margin": {
         "t": 60
        },
        "template": {
         "data": {
          "bar": [
           {
            "error_x": {
             "color": "#2a3f5f"
            },
            "error_y": {
             "color": "#2a3f5f"
            },
            "marker": {
             "line": {
              "color": "#E5ECF6",
              "width": 0.5
             }
            },
            "type": "bar"
           }
          ],
          "barpolar": [
           {
            "marker": {
             "line": {
              "color": "#E5ECF6",
              "width": 0.5
             }
            },
            "type": "barpolar"
           }
          ],
          "carpet": [
           {
            "aaxis": {
             "endlinecolor": "#2a3f5f",
             "gridcolor": "white",
             "linecolor": "white",
             "minorgridcolor": "white",
             "startlinecolor": "#2a3f5f"
            },
            "baxis": {
             "endlinecolor": "#2a3f5f",
             "gridcolor": "white",
             "linecolor": "white",
             "minorgridcolor": "white",
             "startlinecolor": "#2a3f5f"
            },
            "type": "carpet"
           }
          ],
          "choropleth": [
           {
            "colorbar": {
             "outlinewidth": 0,
             "ticks": ""
            },
            "type": "choropleth"
           }
          ],
          "contour": [
           {
            "colorbar": {
             "outlinewidth": 0,
             "ticks": ""
            },
            "colorscale": [
             [
              0,
              "#0d0887"
             ],
             [
              0.1111111111111111,
              "#46039f"
             ],
             [
              0.2222222222222222,
              "#7201a8"
             ],
             [
              0.3333333333333333,
              "#9c179e"
             ],
             [
              0.4444444444444444,
              "#bd3786"
             ],
             [
              0.5555555555555556,
              "#d8576b"
             ],
             [
              0.6666666666666666,
              "#ed7953"
             ],
             [
              0.7777777777777778,
              "#fb9f3a"
             ],
             [
              0.8888888888888888,
              "#fdca26"
             ],
             [
              1,
              "#f0f921"
             ]
            ],
            "type": "contour"
           }
          ],
          "contourcarpet": [
           {
            "colorbar": {
             "outlinewidth": 0,
             "ticks": ""
            },
            "type": "contourcarpet"
           }
          ],
          "heatmap": [
           {
            "colorbar": {
             "outlinewidth": 0,
             "ticks": ""
            },
            "colorscale": [
             [
              0,
              "#0d0887"
             ],
             [
              0.1111111111111111,
              "#46039f"
             ],
             [
              0.2222222222222222,
              "#7201a8"
             ],
             [
              0.3333333333333333,
              "#9c179e"
             ],
             [
              0.4444444444444444,
              "#bd3786"
             ],
             [
              0.5555555555555556,
              "#d8576b"
             ],
             [
              0.6666666666666666,
              "#ed7953"
             ],
             [
              0.7777777777777778,
              "#fb9f3a"
             ],
             [
              0.8888888888888888,
              "#fdca26"
             ],
             [
              1,
              "#f0f921"
             ]
            ],
            "type": "heatmap"
           }
          ],
          "heatmapgl": [
           {
            "colorbar": {
             "outlinewidth": 0,
             "ticks": ""
            },
            "colorscale": [
             [
              0,
              "#0d0887"
             ],
             [
              0.1111111111111111,
              "#46039f"
             ],
             [
              0.2222222222222222,
              "#7201a8"
             ],
             [
              0.3333333333333333,
              "#9c179e"
             ],
             [
              0.4444444444444444,
              "#bd3786"
             ],
             [
              0.5555555555555556,
              "#d8576b"
             ],
             [
              0.6666666666666666,
              "#ed7953"
             ],
             [
              0.7777777777777778,
              "#fb9f3a"
             ],
             [
              0.8888888888888888,
              "#fdca26"
             ],
             [
              1,
              "#f0f921"
             ]
            ],
            "type": "heatmapgl"
           }
          ],
          "histogram": [
           {
            "marker": {
             "colorbar": {
              "outlinewidth": 0,
              "ticks": ""
             }
            },
            "type": "histogram"
           }
          ],
          "histogram2d": [
           {
            "colorbar": {
             "outlinewidth": 0,
             "ticks": ""
            },
            "colorscale": [
             [
              0,
              "#0d0887"
             ],
             [
              0.1111111111111111,
              "#46039f"
             ],
             [
              0.2222222222222222,
              "#7201a8"
             ],
             [
              0.3333333333333333,
              "#9c179e"
             ],
             [
              0.4444444444444444,
              "#bd3786"
             ],
             [
              0.5555555555555556,
              "#d8576b"
             ],
             [
              0.6666666666666666,
              "#ed7953"
             ],
             [
              0.7777777777777778,
              "#fb9f3a"
             ],
             [
              0.8888888888888888,
              "#fdca26"
             ],
             [
              1,
              "#f0f921"
             ]
            ],
            "type": "histogram2d"
           }
          ],
          "histogram2dcontour": [
           {
            "colorbar": {
             "outlinewidth": 0,
             "ticks": ""
            },
            "colorscale": [
             [
              0,
              "#0d0887"
             ],
             [
              0.1111111111111111,
              "#46039f"
             ],
             [
              0.2222222222222222,
              "#7201a8"
             ],
             [
              0.3333333333333333,
              "#9c179e"
             ],
             [
              0.4444444444444444,
              "#bd3786"
             ],
             [
              0.5555555555555556,
              "#d8576b"
             ],
             [
              0.6666666666666666,
              "#ed7953"
             ],
             [
              0.7777777777777778,
              "#fb9f3a"
             ],
             [
              0.8888888888888888,
              "#fdca26"
             ],
             [
              1,
              "#f0f921"
             ]
            ],
            "type": "histogram2dcontour"
           }
          ],
          "mesh3d": [
           {
            "colorbar": {
             "outlinewidth": 0,
             "ticks": ""
            },
            "type": "mesh3d"
           }
          ],
          "parcoords": [
           {
            "line": {
             "colorbar": {
              "outlinewidth": 0,
              "ticks": ""
             }
            },
            "type": "parcoords"
           }
          ],
          "pie": [
           {
            "automargin": true,
            "type": "pie"
           }
          ],
          "scatter": [
           {
            "marker": {
             "colorbar": {
              "outlinewidth": 0,
              "ticks": ""
             }
            },
            "type": "scatter"
           }
          ],
          "scatter3d": [
           {
            "line": {
             "colorbar": {
              "outlinewidth": 0,
              "ticks": ""
             }
            },
            "marker": {
             "colorbar": {
              "outlinewidth": 0,
              "ticks": ""
             }
            },
            "type": "scatter3d"
           }
          ],
          "scattercarpet": [
           {
            "marker": {
             "colorbar": {
              "outlinewidth": 0,
              "ticks": ""
             }
            },
            "type": "scattercarpet"
           }
          ],
          "scattergeo": [
           {
            "marker": {
             "colorbar": {
              "outlinewidth": 0,
              "ticks": ""
             }
            },
            "type": "scattergeo"
           }
          ],
          "scattergl": [
           {
            "marker": {
             "colorbar": {
              "outlinewidth": 0,
              "ticks": ""
             }
            },
            "type": "scattergl"
           }
          ],
          "scattermapbox": [
           {
            "marker": {
             "colorbar": {
              "outlinewidth": 0,
              "ticks": ""
             }
            },
            "type": "scattermapbox"
           }
          ],
          "scatterpolar": [
           {
            "marker": {
             "colorbar": {
              "outlinewidth": 0,
              "ticks": ""
             }
            },
            "type": "scatterpolar"
           }
          ],
          "scatterpolargl": [
           {
            "marker": {
             "colorbar": {
              "outlinewidth": 0,
              "ticks": ""
             }
            },
            "type": "scatterpolargl"
           }
          ],
          "scatterternary": [
           {
            "marker": {
             "colorbar": {
              "outlinewidth": 0,
              "ticks": ""
             }
            },
            "type": "scatterternary"
           }
          ],
          "surface": [
           {
            "colorbar": {
             "outlinewidth": 0,
             "ticks": ""
            },
            "colorscale": [
             [
              0,
              "#0d0887"
             ],
             [
              0.1111111111111111,
              "#46039f"
             ],
             [
              0.2222222222222222,
              "#7201a8"
             ],
             [
              0.3333333333333333,
              "#9c179e"
             ],
             [
              0.4444444444444444,
              "#bd3786"
             ],
             [
              0.5555555555555556,
              "#d8576b"
             ],
             [
              0.6666666666666666,
              "#ed7953"
             ],
             [
              0.7777777777777778,
              "#fb9f3a"
             ],
             [
              0.8888888888888888,
              "#fdca26"
             ],
             [
              1,
              "#f0f921"
             ]
            ],
            "type": "surface"
           }
          ],
          "table": [
           {
            "cells": {
             "fill": {
              "color": "#EBF0F8"
             },
             "line": {
              "color": "white"
             }
            },
            "header": {
             "fill": {
              "color": "#C8D4E3"
             },
             "line": {
              "color": "white"
             }
            },
            "type": "table"
           }
          ]
         },
         "layout": {
          "annotationdefaults": {
           "arrowcolor": "#2a3f5f",
           "arrowhead": 0,
           "arrowwidth": 1
          },
          "coloraxis": {
           "colorbar": {
            "outlinewidth": 0,
            "ticks": ""
           }
          },
          "colorscale": {
           "diverging": [
            [
             0,
             "#8e0152"
            ],
            [
             0.1,
             "#c51b7d"
            ],
            [
             0.2,
             "#de77ae"
            ],
            [
             0.3,
             "#f1b6da"
            ],
            [
             0.4,
             "#fde0ef"
            ],
            [
             0.5,
             "#f7f7f7"
            ],
            [
             0.6,
             "#e6f5d0"
            ],
            [
             0.7,
             "#b8e186"
            ],
            [
             0.8,
             "#7fbc41"
            ],
            [
             0.9,
             "#4d9221"
            ],
            [
             1,
             "#276419"
            ]
           ],
           "sequential": [
            [
             0,
             "#0d0887"
            ],
            [
             0.1111111111111111,
             "#46039f"
            ],
            [
             0.2222222222222222,
             "#7201a8"
            ],
            [
             0.3333333333333333,
             "#9c179e"
            ],
            [
             0.4444444444444444,
             "#bd3786"
            ],
            [
             0.5555555555555556,
             "#d8576b"
            ],
            [
             0.6666666666666666,
             "#ed7953"
            ],
            [
             0.7777777777777778,
             "#fb9f3a"
            ],
            [
             0.8888888888888888,
             "#fdca26"
            ],
            [
             1,
             "#f0f921"
            ]
           ],
           "sequentialminus": [
            [
             0,
             "#0d0887"
            ],
            [
             0.1111111111111111,
             "#46039f"
            ],
            [
             0.2222222222222222,
             "#7201a8"
            ],
            [
             0.3333333333333333,
             "#9c179e"
            ],
            [
             0.4444444444444444,
             "#bd3786"
            ],
            [
             0.5555555555555556,
             "#d8576b"
            ],
            [
             0.6666666666666666,
             "#ed7953"
            ],
            [
             0.7777777777777778,
             "#fb9f3a"
            ],
            [
             0.8888888888888888,
             "#fdca26"
            ],
            [
             1,
             "#f0f921"
            ]
           ]
          },
          "colorway": [
           "#636efa",
           "#EF553B",
           "#00cc96",
           "#ab63fa",
           "#FFA15A",
           "#19d3f3",
           "#FF6692",
           "#B6E880",
           "#FF97FF",
           "#FECB52"
          ],
          "font": {
           "color": "#2a3f5f"
          },
          "geo": {
           "bgcolor": "white",
           "lakecolor": "white",
           "landcolor": "#E5ECF6",
           "showlakes": true,
           "showland": true,
           "subunitcolor": "white"
          },
          "hoverlabel": {
           "align": "left"
          },
          "hovermode": "closest",
          "mapbox": {
           "style": "light"
          },
          "paper_bgcolor": "white",
          "plot_bgcolor": "#E5ECF6",
          "polar": {
           "angularaxis": {
            "gridcolor": "white",
            "linecolor": "white",
            "ticks": ""
           },
           "bgcolor": "#E5ECF6",
           "radialaxis": {
            "gridcolor": "white",
            "linecolor": "white",
            "ticks": ""
           }
          },
          "scene": {
           "xaxis": {
            "backgroundcolor": "#E5ECF6",
            "gridcolor": "white",
            "gridwidth": 2,
            "linecolor": "white",
            "showbackground": true,
            "ticks": "",
            "zerolinecolor": "white"
           },
           "yaxis": {
            "backgroundcolor": "#E5ECF6",
            "gridcolor": "white",
            "gridwidth": 2,
            "linecolor": "white",
            "showbackground": true,
            "ticks": "",
            "zerolinecolor": "white"
           },
           "zaxis": {
            "backgroundcolor": "#E5ECF6",
            "gridcolor": "white",
            "gridwidth": 2,
            "linecolor": "white",
            "showbackground": true,
            "ticks": "",
            "zerolinecolor": "white"
           }
          },
          "shapedefaults": {
           "line": {
            "color": "#2a3f5f"
           }
          },
          "ternary": {
           "aaxis": {
            "gridcolor": "white",
            "linecolor": "white",
            "ticks": ""
           },
           "baxis": {
            "gridcolor": "white",
            "linecolor": "white",
            "ticks": ""
           },
           "bgcolor": "#E5ECF6",
           "caxis": {
            "gridcolor": "white",
            "linecolor": "white",
            "ticks": ""
           }
          },
          "title": {
           "x": 0.05
          },
          "xaxis": {
           "automargin": true,
           "gridcolor": "white",
           "linecolor": "white",
           "ticks": "",
           "title": {
            "standoff": 15
           },
           "zerolinecolor": "white",
           "zerolinewidth": 2
          },
          "yaxis": {
           "automargin": true,
           "gridcolor": "white",
           "linecolor": "white",
           "ticks": "",
           "title": {
            "standoff": 15
           },
           "zerolinecolor": "white",
           "zerolinewidth": 2
          }
         }
        },
        "xaxis": {
         "anchor": "y",
         "domain": [
          0,
          1
         ],
         "title": {
          "text": "x"
         }
        },
        "yaxis": {
         "anchor": "x",
         "domain": [
          0,
          1
         ],
         "title": {
          "text": "y"
         }
        }
       }
      },
      "text/html": [
       "<div>\n",
       "        \n",
       "        \n",
       "            <div id=\"4553e159-442e-449b-9b9b-bdab693622ff\" class=\"plotly-graph-div\" style=\"height:525px; width:100%;\"></div>\n",
       "            <script type=\"text/javascript\">\n",
       "                require([\"plotly\"], function(Plotly) {\n",
       "                    window.PLOTLYENV=window.PLOTLYENV || {};\n",
       "                    \n",
       "                if (document.getElementById(\"4553e159-442e-449b-9b9b-bdab693622ff\")) {\n",
       "                    Plotly.newPlot(\n",
       "                        '4553e159-442e-449b-9b9b-bdab693622ff',\n",
       "                        [{\"hoverlabel\": {\"namelength\": 0}, \"hovertemplate\": \"x=%{x}<br>y=%{y}<br>color=%{marker.color}\", \"legendgroup\": \"\", \"marker\": {\"color\": [169, 350, 531, 712, 893, 1074, 1255, 1436, 1617, 1798, 1979, 2160, 2341, 2522, 2703, 2884, 3065, 3246, 3427, 3608, 3789, 3970, 4151, 4332, 4513, 4694, 4875, 5056, 5237, 5418, 5599, 5780, 5961, 6142, 6323, 6504, 6685, 6866, 7047, 7228, 7409, 7590, 7771, 7952, 8133, 8314, 8495, 8676, 8857, 9038, 9219, 9400, 9581, 9762, 9943, 10124, 10305, 10486, 10667, 10848, 11029, 11210, 11391, 11572, 11753, 11934, 12115, 12296, 12477, 12658, 12839, 13020, 13201], \"coloraxis\": \"coloraxis\", \"symbol\": \"circle\"}, \"mode\": \"markers\", \"name\": \"\", \"showlegend\": false, \"type\": \"scatter\", \"x\": [null, null, null, null, null, null, null, 1.0, 1.0, 1.0, 1.0, 0.0, 1.0, 1.0, 1.0, 1.0, 1.0, 0.0, 0.0, 0.0, 0.0, 0.0, 0.0, 0.0, 0.0, 0.0, 0.0, 0.0, 0.0, 0.0, 0.0, 0.0, 0.0, 5.0, 5.0, 6.0, 6.0, 6.0, 8.0, 8.0, 7.0, 10.0, 13.0, 23.0, 29.0, 48.0, 63.0, 69.0, 120.0, 162.0, 207.0, 274.0, 332.0, 426.0, 578.0, 780.0, 929.0, 1716.0, 2417.0, 3252.0, 4254.0, 5602.0, 6760.0, 8285.0, 10023.0, 11794.0, 13713.0, 15373.0, 16851.0, 19205.0, 21085.0, 22802.0, 24847.0], \"xaxis\": \"x\", \"y\": [null, null, null, null, null, null, null, 0.8, 0.8, 0.7142857142857143, 0.75, 0.375, 0.5454545454545454, 0.5454545454545454, 0.5454545454545454, 0.5454545454545454, 0.36363636363636365, 0.2727272727272727, 0.2727272727272727, 0.0, 0.08333333333333333, 0.08333333333333333, 0.15384615384615385, 0.15384615384615385, 0.15384615384615385, 0.15384615384615385, 0.15384615384615385, 0.07692307692307693, 0.07692307692307693, 0.0, 0.13333333333333333, 0.13333333333333333, 0.13333333333333333, 0.7450980392156863, 0.7450980392156863, 0.7719298245614035, 0.7758620689655172, 0.75, 0.7794117647058824, 0.7972972972972973, 0.47959183673469385, 0.5677966101694916, 0.6174496644295302, 0.7327188940092166, 0.7709923664122137, 0.8308457711442786, 0.8571428571428571, 0.8319039451114922, 0.8769551616266945, 0.8836846213895394, 0.8695129284425737, 0.8797613584212942, 0.8525852585258525, 0.8519577022006287, 0.8741364421416234, 0.8506463167730883, 0.835410510086085, 0.8784090078233531, 0.8859162303664921, 0.893012672133077, 0.8948491405216973, 0.8943599334047939, 0.8805173055452177, 0.8816777646021466, 0.836860060117372, 0.8121132829023088, 0.7901759989463113, 0.7638090370938205, 0.7290166680057105, 0.7144102204366218, 0.6917215004780384, 0.6556378438548713, 0.6311242225657326], \"yaxis\": \"y\"}],\n",
       "                        {\"coloraxis\": {\"colorbar\": {\"title\": {\"text\": \"color\"}}, \"colorscale\": [[0.0, \"rgb(84,48,5)\"], [0.1, \"rgb(140,81,10)\"], [0.2, \"rgb(191,129,45)\"], [0.3, \"rgb(223,194,125)\"], [0.4, \"rgb(246,232,195)\"], [0.5, \"rgb(245,245,245)\"], [0.6, \"rgb(199,234,229)\"], [0.7, \"rgb(128,205,193)\"], [0.8, \"rgb(53,151,143)\"], [0.9, \"rgb(1,102,94)\"], [1.0, \"rgb(0,60,48)\"]]}, \"legend\": {\"tracegroupgap\": 0}, \"margin\": {\"t\": 60}, \"template\": {\"data\": {\"bar\": [{\"error_x\": {\"color\": \"#2a3f5f\"}, \"error_y\": {\"color\": \"#2a3f5f\"}, \"marker\": {\"line\": {\"color\": \"#E5ECF6\", \"width\": 0.5}}, \"type\": \"bar\"}], \"barpolar\": [{\"marker\": {\"line\": {\"color\": \"#E5ECF6\", \"width\": 0.5}}, \"type\": \"barpolar\"}], \"carpet\": [{\"aaxis\": {\"endlinecolor\": \"#2a3f5f\", \"gridcolor\": \"white\", \"linecolor\": \"white\", \"minorgridcolor\": \"white\", \"startlinecolor\": \"#2a3f5f\"}, \"baxis\": {\"endlinecolor\": \"#2a3f5f\", \"gridcolor\": \"white\", \"linecolor\": \"white\", \"minorgridcolor\": \"white\", \"startlinecolor\": \"#2a3f5f\"}, \"type\": \"carpet\"}], \"choropleth\": [{\"colorbar\": {\"outlinewidth\": 0, \"ticks\": \"\"}, \"type\": \"choropleth\"}], \"contour\": [{\"colorbar\": {\"outlinewidth\": 0, \"ticks\": \"\"}, \"colorscale\": [[0.0, \"#0d0887\"], [0.1111111111111111, \"#46039f\"], [0.2222222222222222, \"#7201a8\"], [0.3333333333333333, \"#9c179e\"], [0.4444444444444444, \"#bd3786\"], [0.5555555555555556, \"#d8576b\"], [0.6666666666666666, \"#ed7953\"], [0.7777777777777778, \"#fb9f3a\"], [0.8888888888888888, \"#fdca26\"], [1.0, \"#f0f921\"]], \"type\": \"contour\"}], \"contourcarpet\": [{\"colorbar\": {\"outlinewidth\": 0, \"ticks\": \"\"}, \"type\": \"contourcarpet\"}], \"heatmap\": [{\"colorbar\": {\"outlinewidth\": 0, \"ticks\": \"\"}, \"colorscale\": [[0.0, \"#0d0887\"], [0.1111111111111111, \"#46039f\"], [0.2222222222222222, \"#7201a8\"], [0.3333333333333333, \"#9c179e\"], [0.4444444444444444, \"#bd3786\"], [0.5555555555555556, \"#d8576b\"], [0.6666666666666666, \"#ed7953\"], [0.7777777777777778, \"#fb9f3a\"], [0.8888888888888888, \"#fdca26\"], [1.0, \"#f0f921\"]], \"type\": \"heatmap\"}], \"heatmapgl\": [{\"colorbar\": {\"outlinewidth\": 0, \"ticks\": \"\"}, \"colorscale\": [[0.0, \"#0d0887\"], [0.1111111111111111, \"#46039f\"], [0.2222222222222222, \"#7201a8\"], [0.3333333333333333, \"#9c179e\"], [0.4444444444444444, \"#bd3786\"], [0.5555555555555556, \"#d8576b\"], [0.6666666666666666, \"#ed7953\"], [0.7777777777777778, \"#fb9f3a\"], [0.8888888888888888, \"#fdca26\"], [1.0, \"#f0f921\"]], \"type\": \"heatmapgl\"}], \"histogram\": [{\"marker\": {\"colorbar\": {\"outlinewidth\": 0, \"ticks\": \"\"}}, \"type\": \"histogram\"}], \"histogram2d\": [{\"colorbar\": {\"outlinewidth\": 0, \"ticks\": \"\"}, \"colorscale\": [[0.0, \"#0d0887\"], [0.1111111111111111, \"#46039f\"], [0.2222222222222222, \"#7201a8\"], [0.3333333333333333, \"#9c179e\"], [0.4444444444444444, \"#bd3786\"], [0.5555555555555556, \"#d8576b\"], [0.6666666666666666, \"#ed7953\"], [0.7777777777777778, \"#fb9f3a\"], [0.8888888888888888, \"#fdca26\"], [1.0, \"#f0f921\"]], \"type\": \"histogram2d\"}], \"histogram2dcontour\": [{\"colorbar\": {\"outlinewidth\": 0, \"ticks\": \"\"}, \"colorscale\": [[0.0, \"#0d0887\"], [0.1111111111111111, \"#46039f\"], [0.2222222222222222, \"#7201a8\"], [0.3333333333333333, \"#9c179e\"], [0.4444444444444444, \"#bd3786\"], [0.5555555555555556, \"#d8576b\"], [0.6666666666666666, \"#ed7953\"], [0.7777777777777778, \"#fb9f3a\"], [0.8888888888888888, \"#fdca26\"], [1.0, \"#f0f921\"]], \"type\": \"histogram2dcontour\"}], \"mesh3d\": [{\"colorbar\": {\"outlinewidth\": 0, \"ticks\": \"\"}, \"type\": \"mesh3d\"}], \"parcoords\": [{\"line\": {\"colorbar\": {\"outlinewidth\": 0, \"ticks\": \"\"}}, \"type\": \"parcoords\"}], \"pie\": [{\"automargin\": true, \"type\": \"pie\"}], \"scatter\": [{\"marker\": {\"colorbar\": {\"outlinewidth\": 0, \"ticks\": \"\"}}, \"type\": \"scatter\"}], \"scatter3d\": [{\"line\": {\"colorbar\": {\"outlinewidth\": 0, \"ticks\": \"\"}}, \"marker\": {\"colorbar\": {\"outlinewidth\": 0, \"ticks\": \"\"}}, \"type\": \"scatter3d\"}], \"scattercarpet\": [{\"marker\": {\"colorbar\": {\"outlinewidth\": 0, \"ticks\": \"\"}}, \"type\": \"scattercarpet\"}], \"scattergeo\": [{\"marker\": {\"colorbar\": {\"outlinewidth\": 0, \"ticks\": \"\"}}, \"type\": \"scattergeo\"}], \"scattergl\": [{\"marker\": {\"colorbar\": {\"outlinewidth\": 0, \"ticks\": \"\"}}, \"type\": \"scattergl\"}], \"scattermapbox\": [{\"marker\": {\"colorbar\": {\"outlinewidth\": 0, \"ticks\": \"\"}}, \"type\": \"scattermapbox\"}], \"scatterpolar\": [{\"marker\": {\"colorbar\": {\"outlinewidth\": 0, \"ticks\": \"\"}}, \"type\": \"scatterpolar\"}], \"scatterpolargl\": [{\"marker\": {\"colorbar\": {\"outlinewidth\": 0, \"ticks\": \"\"}}, \"type\": \"scatterpolargl\"}], \"scatterternary\": [{\"marker\": {\"colorbar\": {\"outlinewidth\": 0, \"ticks\": \"\"}}, \"type\": \"scatterternary\"}], \"surface\": [{\"colorbar\": {\"outlinewidth\": 0, \"ticks\": \"\"}, \"colorscale\": [[0.0, \"#0d0887\"], [0.1111111111111111, \"#46039f\"], [0.2222222222222222, \"#7201a8\"], [0.3333333333333333, \"#9c179e\"], [0.4444444444444444, \"#bd3786\"], [0.5555555555555556, \"#d8576b\"], [0.6666666666666666, \"#ed7953\"], [0.7777777777777778, \"#fb9f3a\"], [0.8888888888888888, \"#fdca26\"], [1.0, \"#f0f921\"]], \"type\": \"surface\"}], \"table\": [{\"cells\": {\"fill\": {\"color\": \"#EBF0F8\"}, \"line\": {\"color\": \"white\"}}, \"header\": {\"fill\": {\"color\": \"#C8D4E3\"}, \"line\": {\"color\": \"white\"}}, \"type\": \"table\"}]}, \"layout\": {\"annotationdefaults\": {\"arrowcolor\": \"#2a3f5f\", \"arrowhead\": 0, \"arrowwidth\": 1}, \"coloraxis\": {\"colorbar\": {\"outlinewidth\": 0, \"ticks\": \"\"}}, \"colorscale\": {\"diverging\": [[0, \"#8e0152\"], [0.1, \"#c51b7d\"], [0.2, \"#de77ae\"], [0.3, \"#f1b6da\"], [0.4, \"#fde0ef\"], [0.5, \"#f7f7f7\"], [0.6, \"#e6f5d0\"], [0.7, \"#b8e186\"], [0.8, \"#7fbc41\"], [0.9, \"#4d9221\"], [1, \"#276419\"]], \"sequential\": [[0.0, \"#0d0887\"], [0.1111111111111111, \"#46039f\"], [0.2222222222222222, \"#7201a8\"], [0.3333333333333333, \"#9c179e\"], [0.4444444444444444, \"#bd3786\"], [0.5555555555555556, \"#d8576b\"], [0.6666666666666666, \"#ed7953\"], [0.7777777777777778, \"#fb9f3a\"], [0.8888888888888888, \"#fdca26\"], [1.0, \"#f0f921\"]], \"sequentialminus\": [[0.0, \"#0d0887\"], [0.1111111111111111, \"#46039f\"], [0.2222222222222222, \"#7201a8\"], [0.3333333333333333, \"#9c179e\"], [0.4444444444444444, \"#bd3786\"], [0.5555555555555556, \"#d8576b\"], [0.6666666666666666, \"#ed7953\"], [0.7777777777777778, \"#fb9f3a\"], [0.8888888888888888, \"#fdca26\"], [1.0, \"#f0f921\"]]}, \"colorway\": [\"#636efa\", \"#EF553B\", \"#00cc96\", \"#ab63fa\", \"#FFA15A\", \"#19d3f3\", \"#FF6692\", \"#B6E880\", \"#FF97FF\", \"#FECB52\"], \"font\": {\"color\": \"#2a3f5f\"}, \"geo\": {\"bgcolor\": \"white\", \"lakecolor\": \"white\", \"landcolor\": \"#E5ECF6\", \"showlakes\": true, \"showland\": true, \"subunitcolor\": \"white\"}, \"hoverlabel\": {\"align\": \"left\"}, \"hovermode\": \"closest\", \"mapbox\": {\"style\": \"light\"}, \"paper_bgcolor\": \"white\", \"plot_bgcolor\": \"#E5ECF6\", \"polar\": {\"angularaxis\": {\"gridcolor\": \"white\", \"linecolor\": \"white\", \"ticks\": \"\"}, \"bgcolor\": \"#E5ECF6\", \"radialaxis\": {\"gridcolor\": \"white\", \"linecolor\": \"white\", \"ticks\": \"\"}}, \"scene\": {\"xaxis\": {\"backgroundcolor\": \"#E5ECF6\", \"gridcolor\": \"white\", \"gridwidth\": 2, \"linecolor\": \"white\", \"showbackground\": true, \"ticks\": \"\", \"zerolinecolor\": \"white\"}, \"yaxis\": {\"backgroundcolor\": \"#E5ECF6\", \"gridcolor\": \"white\", \"gridwidth\": 2, \"linecolor\": \"white\", \"showbackground\": true, \"ticks\": \"\", \"zerolinecolor\": \"white\"}, \"zaxis\": {\"backgroundcolor\": \"#E5ECF6\", \"gridcolor\": \"white\", \"gridwidth\": 2, \"linecolor\": \"white\", \"showbackground\": true, \"ticks\": \"\", \"zerolinecolor\": \"white\"}}, \"shapedefaults\": {\"line\": {\"color\": \"#2a3f5f\"}}, \"ternary\": {\"aaxis\": {\"gridcolor\": \"white\", \"linecolor\": \"white\", \"ticks\": \"\"}, \"baxis\": {\"gridcolor\": \"white\", \"linecolor\": \"white\", \"ticks\": \"\"}, \"bgcolor\": \"#E5ECF6\", \"caxis\": {\"gridcolor\": \"white\", \"linecolor\": \"white\", \"ticks\": \"\"}}, \"title\": {\"x\": 0.05}, \"xaxis\": {\"automargin\": true, \"gridcolor\": \"white\", \"linecolor\": \"white\", \"ticks\": \"\", \"title\": {\"standoff\": 15}, \"zerolinecolor\": \"white\", \"zerolinewidth\": 2}, \"yaxis\": {\"automargin\": true, \"gridcolor\": \"white\", \"linecolor\": \"white\", \"ticks\": \"\", \"title\": {\"standoff\": 15}, \"zerolinecolor\": \"white\", \"zerolinewidth\": 2}}}, \"xaxis\": {\"anchor\": \"y\", \"domain\": [0.0, 1.0], \"title\": {\"text\": \"x\"}}, \"yaxis\": {\"anchor\": \"x\", \"domain\": [0.0, 1.0], \"title\": {\"text\": \"y\"}}},\n",
       "                        {\"responsive\": true}\n",
       "                    ).then(function(){\n",
       "                            \n",
       "var gd = document.getElementById('4553e159-442e-449b-9b9b-bdab693622ff');\n",
       "var x = new MutationObserver(function (mutations, observer) {{\n",
       "        var display = window.getComputedStyle(gd).display;\n",
       "        if (!display || display === 'none') {{\n",
       "            console.log([gd, 'removed!']);\n",
       "            Plotly.purge(gd);\n",
       "            observer.disconnect();\n",
       "        }}\n",
       "}});\n",
       "\n",
       "// Listen for the removal of the full notebook cells\n",
       "var notebookContainer = gd.closest('#notebook-container');\n",
       "if (notebookContainer) {{\n",
       "    x.observe(notebookContainer, {childList: true});\n",
       "}}\n",
       "\n",
       "// Listen for the clearing of the current output cell\n",
       "var outputEl = gd.closest('.output');\n",
       "if (outputEl) {{\n",
       "    x.observe(outputEl, {childList: true});\n",
       "}}\n",
       "\n",
       "                        })\n",
       "                };\n",
       "                });\n",
       "            </script>\n",
       "        </div>"
      ]
     },
     "metadata": {},
     "output_type": "display_data"
    }
   ],
   "source": [
    "daily_cases_US['DailyGrowth'] = daily_cases_US['Confirmed'].diff()\n",
    "daily_cases_US['DailyGrowth_7d'] = daily_cases_US['DailyGrowth'].rolling(7).sum()/ daily_cases_US['Confirmed']\n",
    "daily_cases_US['MeanGrowth_7d'] = daily_cases_US['DailyGrowth'].rolling(7).mean().round(0)\n",
    "daily_cases_US\n",
    "\n",
    "fig = px.scatter(x=daily_cases_US['MeanGrowth_7d'], \n",
    "                 y=daily_cases_US['DailyGrowth_7d'], \n",
    "                 color=daily_cases_US['Days'],\n",
    "                 color_continuous_scale = 'BrBg')\n",
    "fig.show()"
   ]
  },
  {
   "cell_type": "code",
   "execution_count": 248,
   "metadata": {
    "ExecuteTime": {
     "end_time": "2020-04-04T16:31:33.564623Z",
     "start_time": "2020-04-04T16:31:33.560500Z"
    }
   },
   "outputs": [],
   "source": [
    "daily_cases_global_2 = daily_cases_global_2[daily_cases_global_2['Confirmed'] > 50]"
   ]
  },
  {
   "cell_type": "code",
   "execution_count": 249,
   "metadata": {
    "ExecuteTime": {
     "end_time": "2020-04-04T16:31:35.264355Z",
     "start_time": "2020-04-04T16:31:34.103259Z"
    },
    "scrolled": false
   },
   "outputs": [
    {
     "data": {
      "application/vnd.plotly.v1+json": {
       "config": {
        "plotlyServerURL": "https://plot.ly"
       },
       "data": [
        {
         "hoverlabel": {
          "namelength": 0
         },
         "hovertemplate": "Country/Region=Afghanistan<br>MeanGrowth_7d=%{x}<br>DailyGrowth_7d=%{y}",
         "legendgroup": "Afghanistan",
         "marker": {
          "color": "#636efa",
          "symbol": "circle"
         },
         "mode": "lines+markers",
         "name": "Afghanistan",
         "showlegend": true,
         "type": "scattergl",
         "x": [
          0,
          0,
          0,
          0,
          0,
          0,
          0,
          0.00043568916690007157,
          0.0006846544051286839,
          0.00080913702424299,
          0.000746895714685837
         ],
         "xaxis": "x",
         "y": [
          0,
          0,
          0,
          0,
          0,
          0,
          0,
          0.08210180623973728,
          0.0922242314647378,
          0.0936682365253794,
          0.08693441789527198
         ],
         "yaxis": "y"
        },
        {
         "hoverlabel": {
          "namelength": 0
         },
         "hovertemplate": "Country/Region=Albania<br>MeanGrowth_7d=%{x}<br>DailyGrowth_7d=%{y}",
         "legendgroup": "Albania",
         "marker": {
          "color": "#EF553B",
          "symbol": "circle"
         },
         "mode": "lines+markers",
         "name": "Albania",
         "showlegend": true,
         "type": "scattergl",
         "x": [
          0,
          0,
          0,
          0,
          0,
          0,
          0,
          0.0002489652382286123,
          0.00031120654778576544,
          0.0003734478573429185,
          0.0004979304764572246,
          0.0005290511312358012,
          0.0005290511312358012,
          0.0005601717860143778,
          0.0005290511312358012,
          0.0005290511312358012,
          0.0004979304764572246,
          0.00046680982167864813,
          0.0005290511312358012
         ],
         "xaxis": "x",
         "y": [
          0,
          0,
          0,
          0,
          0,
          0,
          0,
          0.0728021978021978,
          0.07897793263646921,
          0.08512720156555773,
          0.090311986863711,
          0.08909370199692782,
          0.0877447425670776,
          0.08288409703504043,
          0.07623318385650224,
          0.07054673721340388,
          0.06232763375620518,
          0.05312016503352243,
          0.055451127819548876
         ],
         "yaxis": "y"
        },
        {
         "hoverlabel": {
          "namelength": 0
         },
         "hovertemplate": "Country/Region=Algeria<br>MeanGrowth_7d=%{x}<br>DailyGrowth_7d=%{y}",
         "legendgroup": "Algeria",
         "marker": {
          "color": "#00cc96",
          "symbol": "circle"
         },
         "mode": "lines+markers",
         "name": "Algeria",
         "showlegend": true,
         "type": "scattergl",
         "x": [
          0,
          0,
          0,
          0,
          0,
          0,
          0,
          0.0007780163694644136,
          0.0009024989885787197,
          0.0010269816076930258,
          0.0012448261911430618,
          0.001431550119814521,
          0.0014004294650359443,
          0.0013693088102573678,
          0.0015871533937074037,
          0.0020228425606074753,
          0.0024274110727289704,
          0.0027386176205147356,
          0.003392151370864843
         ],
         "xaxis": "x",
         "y": [
          0,
          0,
          0,
          0,
          0,
          0,
          0,
          0.1093167701863354,
          0.11038961038961038,
          0.10785241248817407,
          0.10899182561307902,
          0.11142158574921411,
          0.09911894273127753,
          0.08666480290746435,
          0.08659491193737769,
          0.09018355945730247,
          0.09192106594703998,
          0.08968414952187771,
          0.09296083933146274
         ],
         "yaxis": "y"
        },
        {
         "hoverlabel": {
          "namelength": 0
         },
         "hovertemplate": "Country/Region=Andorra<br>MeanGrowth_7d=%{x}<br>DailyGrowth_7d=%{y}",
         "legendgroup": "Andorra",
         "marker": {
          "color": "#ab63fa",
          "symbol": "circle"
         },
         "mode": "lines+markers",
         "name": "Andorra",
         "showlegend": true,
         "type": "scattergl",
         "x": [
          0,
          0,
          0,
          0,
          0,
          0,
          0,
          0.000746895714685837,
          0.0008402576790215666,
          0.0009647402981358728,
          0.0009958609529144493,
          0.0010581022624716024,
          0.0009336196433572963,
          0.0009024989885787197,
          0.0009024989885787197,
          0.0007780163694644136
         ],
         "xaxis": "x",
         "y": [
          0,
          0,
          0,
          0,
          0,
          0,
          0,
          0.10905612244897958,
          0.10272873194221509,
          0.1020408163265306,
          0.09452523524379812,
          0.0915057915057915,
          0.08054711246200608,
          0.073992673992674,
          0.06809078771695594,
          0.05597136348844777
         ],
         "yaxis": "y"
        },
        {
         "hoverlabel": {
          "namelength": 0
         },
         "hovertemplate": "Country/Region=Argentina<br>MeanGrowth_7d=%{x}<br>DailyGrowth_7d=%{y}",
         "legendgroup": "Argentina",
         "marker": {
          "color": "#FFA15A",
          "symbol": "circle"
         },
         "mode": "lines+markers",
         "name": "Argentina",
         "showlegend": true,
         "type": "scattergl",
         "x": [
          0,
          0,
          0,
          0,
          0,
          0,
          0,
          0.001089222917250179,
          0.001431550119814521,
          0.0013693088102573678,
          0.0018049979771574394,
          0.0020539632153860517,
          0.0023651697631718173,
          0.002116204524943205,
          0.002302928453614664,
          0.0029564622039647713,
          0.0029564622039647713,
          0.0028008589300718887,
          0.0030187035135219244
         ],
         "xaxis": "x",
         "y": [
          0,
          0,
          0,
          0,
          0,
          0,
          0,
          0.11627906976744186,
          0.11775562938353636,
          0.11369509043927649,
          0.11525327262379055,
          0.11181178753334951,
          0.11014492753623188,
          0.09185043144774689,
          0.09041811846689896,
          0.09040390349688263,
          0.09040390349688263,
          0.07956121548354558,
          0.07634105025409373
         ],
         "yaxis": "y"
        },
        {
         "hoverlabel": {
          "namelength": 0
         },
         "hovertemplate": "Country/Region=Armenia<br>MeanGrowth_7d=%{x}<br>DailyGrowth_7d=%{y}",
         "legendgroup": "Armenia",
         "marker": {
          "color": "#19d3f3",
          "symbol": "circle"
         },
         "mode": "lines+markers",
         "name": "Armenia",
         "showlegend": true,
         "type": "scattergl",
         "x": [
          0,
          0,
          0,
          0,
          0,
          0,
          0,
          0.00080913702424299,
          0.000746895714685837,
          0.00080913702424299,
          0.0007780163694644136,
          0.0008713783338001431,
          0.001089222917250179,
          0.0010269816076930258,
          0.001089222917250179,
          0.0012448261911430618,
          0.0013693088102573678,
          0.0016493947032645566,
          0.0018049979771574394
         ],
         "xaxis": "x",
         "y": [
          0,
          0,
          0,
          0,
          0,
          0,
          0,
          0.11124620060790273,
          0.09810671256454388,
          0.09757412398921833,
          0.08620689655172414,
          0.08380373425966131,
          0.0866970866970867,
          0.0774932614555256,
          0.07320687611144043,
          0.0759935553168636,
          0.07655741806354767,
          0.08037060978237448,
          0.07899844720496894
         ],
         "yaxis": "y"
        },
        {
         "hoverlabel": {
          "namelength": 0
         },
         "hovertemplate": "Country/Region=Australia<br>MeanGrowth_7d=%{x}<br>DailyGrowth_7d=%{y}",
         "legendgroup": "Australia",
         "marker": {
          "color": "#FF6692",
          "symbol": "circle"
         },
         "mode": "lines+markers",
         "name": "Australia",
         "showlegend": true,
         "type": "scattergl",
         "x": [
          0,
          0,
          0,
          0,
          0,
          0,
          0,
          0.00034232720256434195,
          0.00031120654778576544,
          0.0006224130955715309,
          0.0008402576790215666,
          0.0009958609529144493,
          0.001275946845921638,
          0.0015249120841502506,
          0.001960601251050322,
          0.0024585317275075467,
          0.0026141350014004293,
          0.003641116609093455,
          0.005570597205365201,
          0.005788441788815236,
          0.007064388634736875,
          0.007998008278094172,
          0.009460679052687269,
          0.010456540005601717,
          0.011421280303737591,
          0.010829987862944637,
          0.011919210780194815,
          0.011172315065508979,
          0.011110073755951825,
          0.010238695422151682,
          0.009709644290915882
         ],
         "xaxis": "x",
         "y": [
          0,
          0,
          0,
          0,
          0,
          0,
          0,
          0.08482142857142858,
          0.08147321428571429,
          0.1,
          0.10685714285714286,
          0.10630110630110631,
          0.1083743842364532,
          0.10903919089759798,
          0.11066398390342051,
          0.11600587371512482,
          0.1067364999096984,
          0.10951047085500867,
          0.11546619939131238,
          0.11083743842364531,
          0.11126642437797037,
          0.10853275320280396,
          0.10823589222165736,
          0.10690423162583519,
          0.10082417582417583,
          0.08731353987378083,
          0.08775837782946244,
          0.078808009275217,
          0.07339719104424987,
          0.06439182396961912,
          0.05861699276333423
         ],
         "yaxis": "y"
        },
        {
         "hoverlabel": {
          "namelength": 0
         },
         "hovertemplate": "Country/Region=Austria<br>MeanGrowth_7d=%{x}<br>DailyGrowth_7d=%{y}",
         "legendgroup": "Austria",
         "marker": {
          "color": "#B6E880",
          "symbol": "circle"
         },
         "mode": "lines+markers",
         "name": "Austria",
         "showlegend": true,
         "type": "scattergl",
         "x": [
          0,
          0,
          0,
          0,
          0,
          0,
          0,
          0.0019917219058288986,
          0.002551893691843276,
          0.0033610307160862663,
          0.00395232315687922,
          0.005103787383686552,
          0.006224130955715309,
          0.007593439765972676,
          0.00837145613543709,
          0.009585161671801574,
          0.012105934708866275,
          0.015373603460616812,
          0.01755204929511717,
          0.017520928640338593,
          0.021753337690225003,
          0.023433853048268137,
          0.024274110727289702,
          0.023153767155260945,
          0.022873681262253757,
          0.021784458345003577,
          0.022780319297918027,
          0.018765754831481653,
          0.01717860143777425
         ],
         "xaxis": "x",
         "y": [
          0,
          0,
          0,
          0,
          0,
          0,
          0,
          0.1272675736961451,
          0.12562704471101419,
          0.12558139534883722,
          0.12447375806904294,
          0.12333762333762333,
          0.12150668286755771,
          0.12142502306436732,
          0.11270638908829865,
          0.10960503604426845,
          0.10855866634761106,
          0.11035187432147647,
          0.10683864687271842,
          0.10077717558032519,
          0.1012344147385398,
          0.09830407283717979,
          0.09425358826882221,
          0.08462838936211717,
          0.07640436087098595,
          0.06872017962391243,
          0.06832762047027756,
          0.05416992927101652,
          0.04793722417811276
         ],
         "yaxis": "y"
        },
        {
         "hoverlabel": {
          "namelength": 0
         },
         "hovertemplate": "Country/Region=Azerbaijan<br>MeanGrowth_7d=%{x}<br>DailyGrowth_7d=%{y}",
         "legendgroup": "Azerbaijan",
         "marker": {
          "color": "#FF97FF",
          "symbol": "circle"
         },
         "mode": "lines+markers",
         "name": "Azerbaijan",
         "showlegend": true,
         "type": "scattergl",
         "x": [
          0,
          0,
          0,
          0,
          0,
          0,
          0,
          0.0005601717860143778,
          0.0006535337503501073,
          0.0009024989885787197,
          0.0009336196433572963,
          0.0011825848815859086,
          0.0012448261911430618,
          0.0012448261911430618
         ],
         "xaxis": "x",
         "y": [
          0,
          0,
          0,
          0,
          0,
          0,
          0,
          0.10125588697017268,
          0.09842788790157211,
          0.10518053375196233,
          0.10115052732502397,
          0.10584958217270195,
          0.09928571428571428,
          0.08964850048371494
         ],
         "yaxis": "y"
        },
        {
         "hoverlabel": {
          "namelength": 0
         },
         "hovertemplate": "Country/Region=Bahrain<br>MeanGrowth_7d=%{x}<br>DailyGrowth_7d=%{y}",
         "legendgroup": "Bahrain",
         "marker": {
          "color": "#FECB52",
          "symbol": "circle"
         },
         "mode": "lines+markers",
         "name": "Bahrain",
         "showlegend": true,
         "type": "scattergl",
         "x": [
          0,
          0,
          0,
          0,
          0,
          0,
          0,
          0.0006224130955715309,
          0.0006224130955715309,
          0.0005912924407929543,
          0.0005601717860143778,
          0.0005601717860143778,
          0.0005290511312358012,
          0.0005290511312358012,
          0.0002800858930071889,
          0.0003734478573429185,
          0.000404568512121495,
          0.00043568916690007157,
          0.0005290511312358012,
          0.0007157750599072605,
          0.0007157750599072605,
          0.0007157750599072605,
          0.00080913702424299,
          0.00080913702424299,
          0.000746895714685837,
          0.000746895714685837,
          0.0006224130955715309,
          0.0007780163694644136,
          0.0006535337503501073,
          0.00080913702424299,
          0.0009024989885787197
         ],
         "xaxis": "x",
         "y": [
          0,
          0,
          0,
          0,
          0,
          0,
          0,
          0.10476190476190475,
          0.10256410256410256,
          0.0989010989010989,
          0.08503401360544217,
          0.08611481975967956,
          0.0794392523364486,
          0.07393483709273183,
          0.03404017857142857,
          0.04265159301130524,
          0.04511278195488722,
          0.04449648711943794,
          0.05132591958939264,
          0.06176582038651004,
          0.0597667638483965,
          0.0555744971019434,
          0.056144728633811605,
          0.05548743102391171,
          0.05132052821128451,
          0.047237331806470086,
          0.03828016643550625,
          0.04409171075837742,
          0.03766005523474768,
          0.04110197733836925,
          0.04379251700680272
         ],
         "yaxis": "y"
        },
        {
         "hoverlabel": {
          "namelength": 0
         },
         "hovertemplate": "Country/Region=Bangladesh<br>MeanGrowth_7d=%{x}<br>DailyGrowth_7d=%{y}",
         "legendgroup": "Bangladesh",
         "marker": {
          "color": "#636efa",
          "symbol": "circle"
         },
         "mode": "lines+markers",
         "name": "Bangladesh",
         "showlegend": true,
         "type": "scattergl",
         "x": [
          0,
          0,
          0,
          0
         ],
         "xaxis": "x",
         "y": [
          0,
          0,
          0,
          0
         ],
         "yaxis": "y"
        },
        {
         "hoverlabel": {
          "namelength": 0
         },
         "hovertemplate": "Country/Region=Barbados<br>MeanGrowth_7d=%{x}<br>DailyGrowth_7d=%{y}",
         "legendgroup": "Barbados",
         "marker": {
          "color": "#EF553B",
          "symbol": "circle"
         },
         "mode": "lines+markers",
         "name": "Barbados",
         "showlegend": true,
         "type": "scattergl",
         "x": [
          0
         ],
         "xaxis": "x",
         "y": [
          0
         ],
         "yaxis": "y"
        },
        {
         "hoverlabel": {
          "namelength": 0
         },
         "hovertemplate": "Country/Region=Belarus<br>MeanGrowth_7d=%{x}<br>DailyGrowth_7d=%{y}",
         "legendgroup": "Belarus",
         "marker": {
          "color": "#00cc96",
          "symbol": "circle"
         },
         "mode": "lines+markers",
         "name": "Belarus",
         "showlegend": true,
         "type": "scattergl",
         "x": [
          0,
          0,
          9.336196433572963e-05,
          9.336196433572963e-05,
          9.336196433572963e-05,
          9.336196433572963e-05,
          0.00012448261911430616,
          0.00015560327389288272,
          0.00015560327389288272,
          0.00012448261911430616,
          9.336196433572963e-05,
          9.336196433572963e-05,
          0.00031120654778576544,
          0.00031120654778576544,
          0.00034232720256434195,
          0.0009647402981358728,
          0.001151464226807332
         ],
         "xaxis": "x",
         "y": [
          0,
          0,
          0.037267080745341616,
          0.041353383458646614,
          0.03759398496240601,
          0.03527336860670194,
          0.05291005291005291,
          0.05813953488372093,
          0.05813953488372093,
          0.03799392097264438,
          0.02735562310030395,
          0.02735562310030395,
          0.06672932330827068,
          0.06672932330827068,
          0.06748466257668712,
          0.10244360902255639,
          0.1045991045991046
         ],
         "yaxis": "y"
        },
        {
         "hoverlabel": {
          "namelength": 0
         },
         "hovertemplate": "Country/Region=Belgium<br>MeanGrowth_7d=%{x}<br>DailyGrowth_7d=%{y}",
         "legendgroup": "Belgium",
         "marker": {
          "color": "#ab63fa",
          "symbol": "circle"
         },
         "mode": "lines+markers",
         "name": "Belgium",
         "showlegend": true,
         "type": "scattergl",
         "x": [
          6.224130955715308e-05,
          0.00034232720256434195,
          0.00021784458345003579,
          0.0003734478573429185,
          0.00046680982167864813,
          3.112065477857654e-05,
          0,
          0.0019917219058288986,
          0.002302928453614664,
          0.003049824168300501,
          0.003641116609093455,
          0.004325771014222139,
          0.005197149348022283,
          0.006597578813058226,
          0.0075623191111941,
          0.009460679052687269,
          0.011172315065508979,
          0.011950331434973392,
          0.013444122864345065,
          0.015342482805838234,
          0.019730495129617526,
          0.022344630131017958,
          0.028101951265054617,
          0.033050135374848286,
          0.03625556281704167,
          0.037811595555970495,
          0.04014564466436374,
          0.04051909252170666,
          0.04216848722497121
         ],
         "xaxis": "x",
         "y": [
          0.019659239842726082,
          0.06339814032121724,
          0.03428571428571428,
          0.052002390914524806,
          0.05564472980203317,
          0.004549590536851684,
          0,
          0.11500127779197548,
          0.1078167115902965,
          0.11060948081264109,
          0.11058601134215501,
          0.11217101482588207,
          0.11267064026148817,
          0.11786709112614406,
          0.10747515665548453,
          0.10789139812230399,
          0.1056411979669845,
          0.1024770046944773,
          0.10126158685540274,
          0.09985821348997367,
          0.10172986596402796,
          0.09859182552757512,
          0.09883011667552942,
          0.09801982808627327,
          0.09791939298620532,
          0.09511881464914733,
          0.092349715595204,
          0.08482259205480472,
          0.08080756452849476
         ],
         "yaxis": "y"
        },
        {
         "hoverlabel": {
          "namelength": 0
         },
         "hovertemplate": "Country/Region=Bolivia<br>MeanGrowth_7d=%{x}<br>DailyGrowth_7d=%{y}",
         "legendgroup": "Bolivia",
         "marker": {
          "color": "#FFA15A",
          "symbol": "circle"
         },
         "mode": "lines+markers",
         "name": "Bolivia",
         "showlegend": true,
         "type": "scattergl",
         "x": [
          0,
          0,
          0,
          0,
          0,
          0,
          0,
          0.00031120654778576544
         ],
         "xaxis": "x",
         "y": [
          0,
          0,
          0,
          0,
          0,
          0,
          0,
          0.07683982683982683
         ],
         "yaxis": "y"
        },
        {
         "hoverlabel": {
          "namelength": 0
         },
         "hovertemplate": "Country/Region=Bosnia and Herzegovina<br>MeanGrowth_7d=%{x}<br>DailyGrowth_7d=%{y}",
         "legendgroup": "Bosnia and Herzegovina",
         "marker": {
          "color": "#19d3f3",
          "symbol": "circle"
         },
         "mode": "lines+markers",
         "name": "Bosnia and Herzegovina",
         "showlegend": true,
         "type": "scattergl",
         "x": [
          0,
          3.112065477857654e-05,
          0,
          9.336196433572963e-05,
          9.336196433572963e-05,
          0.00018672392867145925,
          0.00018672392867145925,
          0.0005601717860143778,
          0.0006535337503501073,
          0.000746895714685837,
          0.0008713783338001431,
          0.0010269816076930258,
          0.0011203435720287555,
          0.0012448261911430618,
          0.0015249120841502506,
          0.0015249120841502506
         ],
         "xaxis": "x",
         "y": [
          0,
          0.012841091492776886,
          0,
          0.021541950113378686,
          0.022058823529411766,
          0.03700516351118761,
          0.03571428571428571,
          0.09573672400897532,
          0.08921036769138034,
          0.09136212624584718,
          0.0871295886775763,
          0.09006211180124224,
          0.08639455782312926,
          0.08807967631497043,
          0.09166443312784775,
          0.0843819393042191
         ],
         "yaxis": "y"
        },
        {
         "hoverlabel": {
          "namelength": 0
         },
         "hovertemplate": "Country/Region=Brazil<br>MeanGrowth_7d=%{x}<br>DailyGrowth_7d=%{y}",
         "legendgroup": "Brazil",
         "marker": {
          "color": "#FF6692",
          "symbol": "circle"
         },
         "mode": "lines+markers",
         "name": "Brazil",
         "showlegend": true,
         "type": "scattergl",
         "x": [
          0,
          0,
          0,
          0,
          0,
          0,
          0,
          0.0025207730370647,
          0.002863100239629042,
          0.0038589611925434913,
          0.006161889646158155,
          0.007655681075529829,
          0.008558180064108549,
          0.009709644290915882,
          0.01051878131515887,
          0.011670245541966204,
          0.012821709768773535,
          0.012043693399309122,
          0.01179472816108051,
          0.015435844770173965,
          0.019045840724488842,
          0.02250023340491084,
          0.025083247751532693
         ],
         "xaxis": "x",
         "y": [
          0,
          0,
          0,
          0,
          0,
          0,
          0,
          0.1308948700253048,
          0.11565483696631237,
          0.12172939694976914,
          0.1278876362964332,
          0.128007128007128,
          0.12244897959183675,
          0.12204944624678377,
          0.11313711414213927,
          0.10970358292570759,
          0.10549619437939109,
          0.0909640171858217,
          0.08283156022837175,
          0.08670881331367601,
          0.08948424308283874,
          0.08984513745826525,
          0.08895444220090863
         ],
         "yaxis": "y"
        },
        {
         "hoverlabel": {
          "namelength": 0
         },
         "hovertemplate": "Country/Region=Brunei<br>MeanGrowth_7d=%{x}<br>DailyGrowth_7d=%{y}",
         "legendgroup": "Brunei",
         "marker": {
          "color": "#B6E880",
          "symbol": "circle"
         },
         "mode": "lines+markers",
         "name": "Brunei",
         "showlegend": true,
         "type": "scattergl",
         "x": [
          0,
          0,
          0,
          0,
          0,
          0,
          0,
          0.00015560327389288272,
          0.00021784458345003579,
          0.00018672392867145925,
          0.00018672392867145925,
          0.00015560327389288272,
          0.00015560327389288272,
          0.00015560327389288272,
          0.00015560327389288272,
          0.00012448261911430616,
          9.336196433572963e-05,
          9.336196433572963e-05,
          9.336196433572963e-05
         ],
         "xaxis": "x",
         "y": [
          0,
          0,
          0,
          0,
          0,
          0,
          0,
          0.058084772370486655,
          0.06593406593406594,
          0.05373525557011795,
          0.04887218045112782,
          0.04596273291925466,
          0.044047619047619044,
          0.04308390022675737,
          0.04049493813273341,
          0.027685492801771874,
          0.023991275899672846,
          0.020408163265306124,
          0.02025586353944563
         ],
         "yaxis": "y"
        },
        {
         "hoverlabel": {
          "namelength": 0
         },
         "hovertemplate": "Country/Region=Bulgaria<br>MeanGrowth_7d=%{x}<br>DailyGrowth_7d=%{y}",
         "legendgroup": "Bulgaria",
         "marker": {
          "color": "#FF97FF",
          "symbol": "circle"
         },
         "mode": "lines+markers",
         "name": "Bulgaria",
         "showlegend": true,
         "type": "scattergl",
         "x": [
          0,
          0,
          0,
          0,
          0,
          0,
          0.00012448261911430616,
          0.0005912924407929543,
          0.0006535337503501073,
          0.0006846544051286839,
          0.0006535337503501073,
          0.000746895714685837,
          0.000746895714685837,
          0.000746895714685837,
          0.0007157750599072605,
          0.0007157750599072605,
          0.00080913702424299,
          0.00080913702424299,
          0.0008713783338001431,
          0.0008402576790215666
         ],
         "xaxis": "x",
         "y": [
          0,
          0,
          0,
          0,
          0,
          0,
          0.025416301489921123,
          0.10389610389610389,
          0.10589907604832978,
          0.09895150720838795,
          0.0885478158205431,
          0.09199134199134198,
          0.08093612871769869,
          0.07250755287009064,
          0.06564822460776218,
          0.06287306008754477,
          0.06480486931614751,
          0.06093432633716994,
          0.060331353547983746,
          0.05655375552282769
         ],
         "yaxis": "y"
        },
        {
         "hoverlabel": {
          "namelength": 0
         },
         "hovertemplate": "Country/Region=Burkina Faso<br>MeanGrowth_7d=%{x}<br>DailyGrowth_7d=%{y}",
         "legendgroup": "Burkina Faso",
         "marker": {
          "color": "#FECB52",
          "symbol": "circle"
         },
         "mode": "lines+markers",
         "name": "Burkina Faso",
         "showlegend": true,
         "type": "scattergl",
         "x": [
          0,
          0,
          0,
          0,
          0,
          0,
          0,
          0.0006224130955715309,
          0.0006535337503501073,
          0.0006535337503501073,
          0.0006535337503501073,
          0.0005912924407929543,
          0.0005912924407929543,
          0.0005290511312358012
         ],
         "xaxis": "x",
         "y": [
          0,
          0,
          0,
          0,
          0,
          0,
          0,
          0.0986887508626639,
          0.0945945945945946,
          0.08536585365853659,
          0.08045977011494253,
          0.06889564336372847,
          0.06746031746031746,
          0.05771050141911069
         ],
         "yaxis": "y"
        },
        {
         "hoverlabel": {
          "namelength": 0
         },
         "hovertemplate": "Country/Region=Cambodia<br>MeanGrowth_7d=%{x}<br>DailyGrowth_7d=%{y}",
         "legendgroup": "Cambodia",
         "marker": {
          "color": "#636efa",
          "symbol": "circle"
         },
         "mode": "lines+markers",
         "name": "Cambodia",
         "showlegend": true,
         "type": "scattergl",
         "x": [
          0,
          0,
          0,
          0,
          0,
          0,
          0,
          0.00021784458345003579,
          0.00021784458345003579,
          9.336196433572963e-05,
          9.336196433572963e-05,
          9.336196433572963e-05,
          6.224130955715308e-05,
          6.224130955715308e-05,
          6.224130955715308e-05
         ],
         "xaxis": "x",
         "y": [
          0,
          0,
          0,
          0,
          0,
          0,
          0,
          0.06926406926406926,
          0.06637806637806637,
          0.02635228848821082,
          0.0267022696929239,
          0.0235910878112713,
          0.01703800786369594,
          0.01818181818181818,
          0.018796992481203006
         ],
         "yaxis": "y"
        },
        {
         "hoverlabel": {
          "namelength": 0
         },
         "hovertemplate": "Country/Region=Cameroon<br>MeanGrowth_7d=%{x}<br>DailyGrowth_7d=%{y}",
         "legendgroup": "Cameroon",
         "marker": {
          "color": "#EF553B",
          "symbol": "circle"
         },
         "mode": "lines+markers",
         "name": "Cameroon",
         "showlegend": true,
         "type": "scattergl",
         "x": [
          0,
          0,
          0,
          0,
          0,
          0,
          0.00012448261911430616,
          0.0003734478573429185,
          0.0005601717860143778,
          0.0007157750599072605,
          0.0010269816076930258,
          0.0018672392867145925
         ],
         "xaxis": "x",
         "y": [
          0,
          0,
          0,
          0,
          0,
          0,
          0.025693730729701953,
          0.08530318602261049,
          0.09400444115470022,
          0.09687308399754753,
          0.10784313725490197,
          0.11731686780802694
         ],
         "yaxis": "y"
        },
        {
         "hoverlabel": {
          "namelength": 0
         },
         "hovertemplate": "Country/Region=Canada<br>MeanGrowth_7d=%{x}<br>DailyGrowth_7d=%{y}",
         "legendgroup": "Canada",
         "marker": {
          "color": "#00cc96",
          "symbol": "circle"
         },
         "mode": "lines+markers",
         "name": "Canada",
         "showlegend": true,
         "type": "scattergl",
         "x": [
          0,
          0,
          0,
          0,
          0,
          0,
          0,
          0.0006535337503501073,
          0.0008402576790215666,
          0.001493791429371674,
          0.0017738773223788628,
          0.0024274110727289704,
          0.003049824168300501,
          0.00332991006130769,
          0.004792580835900787,
          0.0054149939314723184,
          0.007437836492079793,
          0.010269816076930258,
          0.011545762922851897,
          0.01440886316248094,
          0.016618429651759872,
          0.019108082034045997,
          0.021379889832882085,
          0.023620576976939596,
          0.025518936918432763,
          0.028039709955497465,
          0.03220987769582672,
          0.03448168549466281
         ],
         "xaxis": "x",
         "y": [
          0,
          0,
          0,
          0,
          0,
          0,
          0,
          0.1038961038961039,
          0.10657596371882086,
          0.11635111876075731,
          0.1192468619246862,
          0.11937377690802349,
          0.1219642857142857,
          0.11361914861384638,
          0.12070701420740575,
          0.11835067587279977,
          0.11446360153256704,
          0.11838197644649258,
          0.11398690512809245,
          0.11458259701703542,
          0.11408433514371147,
          0.11014039762246361,
          0.10944040036396725,
          0.10253736531108794,
          0.0961148620348808,
          0.09427674835624628,
          0.09168481288296958,
          0.08907752214015782
         ],
         "yaxis": "y"
        },
        {
         "hoverlabel": {
          "namelength": 0
         },
         "hovertemplate": "Country/Region=Chile<br>MeanGrowth_7d=%{x}<br>DailyGrowth_7d=%{y}",
         "legendgroup": "Chile",
         "marker": {
          "color": "#ab63fa",
          "symbol": "circle"
         },
         "mode": "lines+markers",
         "name": "Chile",
         "showlegend": true,
         "type": "scattergl",
         "x": [
          0,
          0,
          0,
          0,
          0,
          0,
          0,
          0.002116204524943205,
          0.0024896523822861235,
          0.0026141350014004293,
          0.0032054274421933837,
          0.004014564466436374,
          0.0047614601811222105,
          0.005228270002800859,
          0.006099648336601002,
          0.006690940777393957,
          0.0075623191111941,
          0.008060249587651324,
          0.008402576790215666,
          0.009336196433572962,
          0.009460679052687269
         ],
         "xaxis": "x",
         "y": [
          0,
          0,
          0,
          0,
          0,
          0,
          0,
          0.1266294227188082,
          0.12613019891500904,
          0.11317502872462658,
          0.11171366594360087,
          0.11308481361020765,
          0.11682345219864364,
          0.10434782608695652,
          0.10267155578837088,
          0.10064783276564482,
          0.0993408388263431,
          0.09475112177814882,
          0.08903237969552716,
          0.08804767500419675,
          0.0813104476470813
         ],
         "yaxis": "y"
        },
        {
         "hoverlabel": {
          "namelength": 0
         },
         "hovertemplate": "Country/Region=China<br>MeanGrowth_7d=%{x}<br>DailyGrowth_7d=%{y}",
         "legendgroup": "China",
         "marker": {
          "color": "#FFA15A",
          "symbol": "circle"
         },
         "mode": "lines+markers",
         "name": "China",
         "showlegend": true,
         "type": "scattergl",
         "x": [
          0,
          0,
          0,
          0,
          0,
          0,
          0.007873525658979865,
          0.024616437929854042,
          0.033330221267855474,
          0.03949211091401363,
          0.04661874085830766,
          0.06469984128466062,
          0.07487629539725515,
          0.080913702424299,
          0.09491799707465845,
          0.09980393987489497,
          0.10808203404599633,
          0.11078953101173249,
          0.10313384993620266,
          0.10064419755391653,
          0.09193041421591511,
          0.07699249992219837,
          0.13030218155789997,
          0.14337285656490212,
          0.1404786356704945,
          0.13640182989450098,
          0.1337254535835434,
          0.13260511001151465,
          0.13276071328540753,
          0.06750070021473252,
          0.040861419724271,
          0.03818504341331341,
          0.028942208944076182,
          0.021379889832882085,
          0.01574705131795973,
          0.015778171972738307,
          0.015653689353624,
          0.01503127625805247,
          0.010456540005601717,
          0.01294619238788784,
          0.012883951078330689,
          0.011141194410730401,
          0.009865247564808763,
          0.008620421373665702,
          0.007842405004201289,
          0.006286372265272461,
          0.00395232315687922,
          0.0032054274421933837,
          0.0027697382752933123,
          0.0023651697631718173,
          0.0017427566676002863,
          0.0011203435720287555,
          0.0009336196433572963,
          0.00080913702424299,
          0.0007780163694644136,
          0.000746895714685837,
          0.00080913702424299,
          0.0009958609529144493,
          0.0013693088102573678,
          0.0014626707745930975,
          0.0019294805962717456,
          0.0020539632153860517,
          0.0023651697631718173,
          0.0024896523822861235,
          0.0027697382752933123,
          0.002863100239629042,
          0.0030809448230790775,
          0.003049824168300501,
          0.0031120654778576543,
          0.003049824168300501,
          0.0031120654778576543,
          0.002894220894407618,
          0.0027386176205147356
         ],
         "xaxis": "x",
         "y": [
          0,
          0,
          0,
          0,
          0,
          0,
          0.04595078183751264,
          0.12999601023257998,
          0.1315738677242178,
          0.1294488005363337,
          0.12596561625238775,
          0.125032213727343,
          0.12201112946700286,
          0.1096601968074529,
          0.11116722199083716,
          0.10483445347930259,
          0.10180508439083637,
          0.09671398303440462,
          0.08320929114823011,
          0.07635642442272277,
          0.066555735077341,
          0.055276991379227806,
          0.06990328312642363,
          0.06942429161302545,
          0.06598369983983829,
          0.06216482877524104,
          0.05932494211479218,
          0.05741351397655719,
          0.057166596787872864,
          0.028888436443346734,
          0.01738110995556396,
          0.015933002725382044,
          0.012072617471075055,
          0.008890541107886818,
          0.006509541080109797,
          0.006482540819720668,
          0.006403126135950564,
          0.006114071414091686,
          0.0042394849970836665,
          0.005200849293327901,
          0.00516086937919822,
          0.004462227696426124,
          0.003945249883597357,
          0.003435865325431612,
          0.00311952268824248,
          0.002500928562585118,
          0.0015748699539204717,
          0.0012791067453446876,
          0.0011055988159849102,
          0.0009444837734156947,
          0.0006972343625336261,
          0.0004500410331530228,
          0.00036518305903439954,
          0.00031744856010623945,
          0.0003049903831067061,
          0.00030137150470738763,
          0.00031882250569829175,
          0.0003943023313125339,
          0.0005362637362637362,
          0.0005763131770142409,
          0.0007578349077704392,
          0.0008150944983750697,
          0.0009332261786576601,
          0.0009779104206064444,
          0.0010934994427694532,
          0.0011285953261849814,
          0.0012090739782540901,
          0.0011950860566335103,
          0.001216574612520986,
          0.0011945419157465974,
          0.001214166899381989,
          0.0011264696095829637,
          0.0010630617216405777
         ],
         "yaxis": "y"
        },
        {
         "hoverlabel": {
          "namelength": 0
         },
         "hovertemplate": "Country/Region=Colombia<br>MeanGrowth_7d=%{x}<br>DailyGrowth_7d=%{y}",
         "legendgroup": "Colombia",
         "marker": {
          "color": "#19d3f3",
          "symbol": "circle"
         },
         "mode": "lines+markers",
         "name": "Colombia",
         "showlegend": true,
         "type": "scattergl",
         "x": [
          0,
          0,
          0,
          0,
          0,
          0,
          0,
          0.0009958609529144493,
          0.0014004294650359443,
          0.0016805153580431332,
          0.0017427566676002863,
          0.001836118631936016,
          0.001836118631936016,
          0.0020850838701646284,
          0.002302928453614664,
          0.0023340491083932405,
          0.002645255656179006,
          0.002987582858743348,
          0.00323654809697196
         ],
         "xaxis": "x",
         "y": [
          0,
          0,
          0,
          0,
          0,
          0,
          0,
          0.11500773594636411,
          0.11829176114890401,
          0.11458966565349543,
          0.11318009892347977,
          0.10893188444208853,
          0.09680451127819549,
          0.09584859584859586,
          0.09326888650196921,
          0.08325449385052035,
          0.07981220657276995,
          0.0824412452319429,
          0.08208366219415943
         ],
         "yaxis": "y"
        },
        {
         "hoverlabel": {
          "namelength": 0
         },
         "hovertemplate": "Country/Region=Congo (Kinshasa)<br>MeanGrowth_7d=%{x}<br>DailyGrowth_7d=%{y}",
         "legendgroup": "Congo (Kinshasa)",
         "marker": {
          "color": "#FF6692",
          "symbol": "circle"
         },
         "mode": "lines+markers",
         "name": "Congo (Kinshasa)",
         "showlegend": true,
         "type": "scattergl",
         "x": [
          0,
          0,
          0,
          0,
          0,
          0,
          0,
          0.0003734478573429185,
          0.0003734478573429185
         ],
         "xaxis": "x",
         "y": [
          0,
          0,
          0,
          0,
          0,
          0,
          0,
          0.0884861407249467,
          0.0884861407249467
         ],
         "yaxis": "y"
        },
        {
         "hoverlabel": {
          "namelength": 0
         },
         "hovertemplate": "Country/Region=Costa Rica<br>MeanGrowth_7d=%{x}<br>DailyGrowth_7d=%{y}",
         "legendgroup": "Costa Rica",
         "marker": {
          "color": "#B6E880",
          "symbol": "circle"
         },
         "mode": "lines+markers",
         "name": "Costa Rica",
         "showlegend": true,
         "type": "scattergl",
         "x": [
          3.112065477857654e-05,
          9.336196433572963e-05,
          0.00015560327389288272,
          0.00015560327389288272,
          0.00021784458345003579,
          0.00018672392867145925,
          0.00031120654778576544,
          0.0007157750599072605,
          0.0007780163694644136,
          0.0007780163694644136,
          0.00080913702424299,
          0.0007780163694644136,
          0.000746895714685837,
          0.0007780163694644136,
          0.000746895714685837,
          0.0006846544051286839
         ],
         "xaxis": "x",
         "y": [
          0.008281573498964802,
          0.038523274478330656,
          0.04395604395604396,
          0.03837953091684435,
          0.04430379746835443,
          0.03470540758676352,
          0.047619047619047616,
          0.10018552875695733,
          0.09451385116784357,
          0.08619854721549636,
          0.0818926296633303,
          0.07445887445887446,
          0.0699876492383697,
          0.06628571428571428,
          0.05952380952380953,
          0.05254120879120879
         ],
         "yaxis": "y"
        },
        {
         "hoverlabel": {
          "namelength": 0
         },
         "hovertemplate": "Country/Region=Cote d'Ivoire<br>MeanGrowth_7d=%{x}<br>DailyGrowth_7d=%{y}",
         "legendgroup": "Cote d'Ivoire",
         "marker": {
          "color": "#FF97FF",
          "symbol": "circle"
         },
         "mode": "lines+markers",
         "name": "Cote d'Ivoire",
         "showlegend": true,
         "type": "scattergl",
         "x": [
          0,
          0,
          0,
          0,
          0,
          0,
          0,
          0.00046680982167864813,
          0.0004979304764572246,
          0.00043568916690007157,
          0.0005290511312358012
         ],
         "xaxis": "x",
         "y": [
          0,
          0,
          0,
          0,
          0,
          0,
          0,
          0.08459696727853153,
          0.08270676691729323,
          0.07216494845360824,
          0.07667103538663173
         ],
         "yaxis": "y"
        },
        {
         "hoverlabel": {
          "namelength": 0
         },
         "hovertemplate": "Country/Region=Croatia<br>MeanGrowth_7d=%{x}<br>DailyGrowth_7d=%{y}",
         "legendgroup": "Croatia",
         "marker": {
          "color": "#FECB52",
          "symbol": "circle"
         },
         "mode": "lines+markers",
         "name": "Croatia",
         "showlegend": true,
         "type": "scattergl",
         "x": [
          0,
          0,
          0,
          0,
          0,
          6.224130955715308e-05,
          0.00015560327389288272,
          0.001151464226807332,
          0.0014004294650359443,
          0.00161827404848598,
          0.0017427566676002863,
          0.0020228425606074753,
          0.0019917219058288986,
          0.0020539632153860517,
          0.002116204524943205,
          0.002147325179721781,
          0.002302928453614664,
          0.002302928453614664,
          0.002178445834500358
         ],
         "xaxis": "x",
         "y": [
          0,
          0,
          0,
          0,
          0,
          0.008321775312066574,
          0.020247469066366704,
          0.11700680272108843,
          0.11854899027673897,
          0.11667744020685197,
          0.11255411255411256,
          0.11165285226718674,
          0.09806479669493369,
          0.09196553796834302,
          0.08589511754068717,
          0.07991431866864393,
          0.07728823616674084,
          0.07291225095379397,
          0.0652720773202701
         ],
         "yaxis": "y"
        },
        {
         "hoverlabel": {
          "namelength": 0
         },
         "hovertemplate": "Country/Region=Cuba<br>MeanGrowth_7d=%{x}<br>DailyGrowth_7d=%{y}",
         "legendgroup": "Cuba",
         "marker": {
          "color": "#636efa",
          "symbol": "circle"
         },
         "mode": "lines+markers",
         "name": "Cuba",
         "showlegend": true,
         "type": "scattergl",
         "x": [
          0,
          0,
          0,
          0,
          0,
          0,
          0,
          0.0006846544051286839,
          0.000746895714685837,
          0.0008402576790215666
         ],
         "xaxis": "x",
         "y": [
          0,
          0,
          0,
          0,
          0,
          0,
          0,
          0.10444743935309973,
          0.10177805027590436,
          0.10037174721189591
         ],
         "yaxis": "y"
        },
        {
         "hoverlabel": {
          "namelength": 0
         },
         "hovertemplate": "Country/Region=Cyprus<br>MeanGrowth_7d=%{x}<br>DailyGrowth_7d=%{y}",
         "legendgroup": "Cyprus",
         "marker": {
          "color": "#EF553B",
          "symbol": "circle"
         },
         "mode": "lines+markers",
         "name": "Cyprus",
         "showlegend": true,
         "type": "scattergl",
         "x": [
          0,
          0,
          0,
          0,
          0,
          0,
          0,
          0.00034232720256434195,
          0.00043568916690007157,
          0.00043568916690007157,
          0.0005290511312358012,
          0.0004979304764572246,
          0.0006224130955715309,
          0.0008402576790215666,
          0.0009336196433572963,
          0.0010269816076930258
         ],
         "xaxis": "x",
         "y": [
          0,
          0,
          0,
          0,
          0,
          0,
          0,
          0.07729941291585128,
          0.0837742504409171,
          0.07581803671189145,
          0.0794392523364486,
          0.07080745341614907,
          0.0752453653217012,
          0.08392857142857144,
          0.08426966292134831,
          0.08441558441558442
         ],
         "yaxis": "y"
        },
        {
         "hoverlabel": {
          "namelength": 0
         },
         "hovertemplate": "Country/Region=Czechia<br>MeanGrowth_7d=%{x}<br>DailyGrowth_7d=%{y}",
         "legendgroup": "Czechia",
         "marker": {
          "color": "#00cc96",
          "symbol": "circle"
         },
         "mode": "lines+markers",
         "name": "Czechia",
         "showlegend": true,
         "type": "scattergl",
         "x": [
          0,
          0,
          0,
          0,
          0,
          0,
          0,
          0.0016493947032645566,
          0.0026763763109575824,
          0.0030809448230790775,
          0.003578875299536302,
          0.0038589611925434913,
          0.004170167740329257,
          0.004450253633336445,
          0.005290511312358012,
          0.005477235241029471,
          0.006441975539165344,
          0.00728223321818691,
          0.007531198456415523,
          0.007842405004201289,
          0.008495938754551395,
          0.008246973516322783,
          0.008589300718887125,
          0.008060249587651324
         ],
         "xaxis": "x",
         "y": [
          0,
          0,
          0,
          0,
          0,
          0,
          0,
          0.1148399014778325,
          0.12350761630300534,
          0.11867604184530955,
          0.11572146446518305,
          0.11058673469387756,
          0.10841423948220065,
          0.10227505636400902,
          0.10278113663845223,
          0.0913543599257885,
          0.09064125869742369,
          0.08883097138513331,
          0.08605913078756529,
          0.08401961251011568,
          0.0826567628260494,
          0.07550089591138621,
          0.07157668666222322,
          0.06327478436987113
         ],
         "yaxis": "y"
        },
        {
         "hoverlabel": {
          "namelength": 0
         },
         "hovertemplate": "Country/Region=Denmark<br>MeanGrowth_7d=%{x}<br>DailyGrowth_7d=%{y}",
         "legendgroup": "Denmark",
         "marker": {
          "color": "#ab63fa",
          "symbol": "circle"
         },
         "mode": "lines+markers",
         "name": "Denmark",
         "showlegend": true,
         "type": "scattergl",
         "x": [
          0,
          0,
          0,
          0,
          0,
          0,
          0,
          0.003734478573429185,
          0.003392151370864843,
          0.002987582858743348,
          0.0027074969657361592,
          0.0023651697631718173,
          0.002583014346621853,
          0.0028319795848504655,
          0.0028319795848504655,
          0.0030809448230790775,
          0.00332991006130769,
          0.0035477546447577257,
          0.0038278405377649145,
          0.004201288395107833,
          0.004668098216786481,
          0.005259390657579435,
          0.005881803753150967,
          0.006348613574829615,
          0.006877664706065416,
          0.0077490430398655585
         ],
         "xaxis": "x",
         "y": [
          0,
          0,
          0,
          0,
          0,
          0,
          0,
          0.12877047925279436,
          0.10606271777003484,
          0.08602150537634409,
          0.07090379008746356,
          0.05695052890266054,
          0.05875251509054326,
          0.0602943951688998,
          0.05806979280261723,
          0.057625145518044235,
          0.057234924044805895,
          0.05635195254572417,
          0.05603896103896104,
          0.05711870547035382,
          0.05850234009360374,
          0.06134301270417423,
          0.06209749447656654,
          0.06200607902735562,
          0.06197273199792091,
          0.06321048439649554
         ],
         "yaxis": "y"
        },
        {
         "hoverlabel": {
          "namelength": 0
         },
         "hovertemplate": "Country/Region=Dominican Republic<br>MeanGrowth_7d=%{x}<br>DailyGrowth_7d=%{y}",
         "legendgroup": "Dominican Republic",
         "marker": {
          "color": "#FFA15A",
          "symbol": "circle"
         },
         "mode": "lines+markers",
         "name": "Dominican Republic",
         "showlegend": true,
         "type": "scattergl",
         "x": [
          0,
          0,
          0,
          0,
          0,
          0,
          0,
          0.0022718077988360874,
          0.0027074969657361592,
          0.002925341549186195,
          0.002925341549186195,
          0.0035477546447577257,
          0.00395232315687922,
          0.00395232315687922,
          0.004045685121214951
         ],
         "xaxis": "x",
         "y": [
          0,
          0,
          0,
          0,
          0,
          0,
          0,
          0.1251536759282026,
          0.12060401351082853,
          0.10926326293031766,
          0.10401141588710955,
          0.10266649491176093,
          0.09924343569203382,
          0.09233954451345756,
          0.08707757296466975
         ],
         "yaxis": "y"
        },
        {
         "hoverlabel": {
          "namelength": 0
         },
         "hovertemplate": "Country/Region=Ecuador<br>MeanGrowth_7d=%{x}<br>DailyGrowth_7d=%{y}",
         "legendgroup": "Ecuador",
         "marker": {
          "color": "#19d3f3",
          "symbol": "circle"
         },
         "mode": "lines+markers",
         "name": "Ecuador",
         "showlegend": true,
         "type": "scattergl",
         "x": [
          0,
          0,
          0,
          0,
          0,
          0,
          0,
          0.004543615597672175,
          0.0047303395263436345,
          0.005352752621915165,
          0.005446114586250894,
          0.00585068309837239,
          0.0050415460741294,
          0.004356891669000716,
          0.005134908038465129,
          0.007002147325179722,
          0.007811284349422712,
          0.007873525658979865
         ],
         "xaxis": "x",
         "y": [
          0,
          0,
          0,
          0,
          0,
          0,
          0,
          0.1351993662529707,
          0.12933869199853856,
          0.1225944404846757,
          0.10998656515897895,
          0.10320507797194577,
          0.08427383427383427,
          0.07142857142857142,
          0.07385204081632653,
          0.08187772925764192,
          0.07949053791608328,
          0.07520359687818119
         ],
         "yaxis": "y"
        },
        {
         "hoverlabel": {
          "namelength": 0
         },
         "hovertemplate": "Country/Region=Egypt<br>MeanGrowth_7d=%{x}<br>DailyGrowth_7d=%{y}",
         "legendgroup": "Egypt",
         "marker": {
          "color": "#FF6692",
          "symbol": "circle"
         },
         "mode": "lines+markers",
         "name": "Egypt",
         "showlegend": true,
         "type": "scattergl",
         "x": [
          0,
          0,
          0,
          0,
          0,
          0,
          0,
          0.00043568916690007157,
          0.0006224130955715309,
          0.0005912924407929543,
          0.0008402576790215666,
          0.0009024989885787197,
          0.00080913702424299,
          0.0009647402981358728,
          0.0009647402981358728,
          0.0009024989885787197,
          0.001151464226807332,
          0.0010581022624716024,
          0.0011203435720287555,
          0.0012448261911430618,
          0.0012448261911430618,
          0.001275946845921638,
          0.0013693088102573678,
          0.001431550119814521,
          0.0016493947032645566,
          0.0019917219058288986
         ],
         "xaxis": "x",
         "y": [
          0,
          0,
          0,
          0,
          0,
          0,
          0,
          0.09047619047619047,
          0.09985422740524783,
          0.09912536443148687,
          0.10546875,
          0.10275689223057644,
          0.08989310009718172,
          0.09480122324159021,
          0.08430913348946135,
          0.07320540156361051,
          0.08145363408521304,
          0.06897546897546898,
          0.06689765458422174,
          0.06994047619047619,
          0.0661505981703026,
          0.06315331010452963,
          0.061971830985915494,
          0.05923344947735192,
          0.061106523534269194,
          0.06511965192168237
         ],
         "yaxis": "y"
        },
        {
         "hoverlabel": {
          "namelength": 0
         },
         "hovertemplate": "Country/Region=Estonia<br>MeanGrowth_7d=%{x}<br>DailyGrowth_7d=%{y}",
         "legendgroup": "Estonia",
         "marker": {
          "color": "#B6E880",
          "symbol": "circle"
         },
         "mode": "lines+markers",
         "name": "Estonia",
         "showlegend": true,
         "type": "scattergl",
         "x": [
          0,
          0,
          0,
          0,
          0,
          0,
          0,
          0.0009024989885787197,
          0.0008402576790215666,
          0.0006846544051286839,
          0.0006535337503501073,
          0.0006535337503501073,
          0.0006535337503501073,
          0.0012137055363644852,
          0.0013070675007002147,
          0.001493791429371674,
          0.0015560327389288271,
          0.00161827404848598,
          0.0016805153580431332,
          0.0016805153580431332,
          0.001431550119814521,
          0.0017116360128217097
         ],
         "xaxis": "x",
         "y": [
          0,
          0,
          0,
          0,
          0,
          0,
          0,
          0.10297829379101464,
          0.08916900093370682,
          0.06792287467134092,
          0.05965909090909091,
          0.055749128919860634,
          0.051626591230551626,
          0.07195963887413702,
          0.07254658385093168,
          0.07508305647840532,
          0.07426888281085631,
          0.07252747252747252,
          0.07209971236816874,
          0.06876948468732808,
          0.05328005328005328,
          0.0573807046231604
         ],
         "yaxis": "y"
        },
        {
         "hoverlabel": {
          "namelength": 0
         },
         "hovertemplate": "Country/Region=Finland<br>MeanGrowth_7d=%{x}<br>DailyGrowth_7d=%{y}",
         "legendgroup": "Finland",
         "marker": {
          "color": "#FF97FF",
          "symbol": "circle"
         },
         "mode": "lines+markers",
         "name": "Finland",
         "showlegend": true,
         "type": "scattergl",
         "x": [
          0,
          0,
          0,
          0,
          0,
          0,
          0,
          0.0012448261911430618,
          0.0015249120841502506,
          0.0013070675007002147,
          0.0013381881554787912,
          0.0017116360128217097,
          0.0018672392867145925,
          0.0020850838701646284,
          0.0024274110727289704,
          0.0024896523822861235,
          0.0026141350014004293,
          0.002863100239629042,
          0.0027386176205147356,
          0.002894220894407618,
          0.0027697382752933123,
          0.0025207730370647,
          0.0024896523822861235,
          0.002551893691843276
         ],
         "xaxis": "x",
         "y": [
          0,
          0,
          0,
          0,
          0,
          0,
          0,
          0.11777210884353741,
          0.12178571428571429,
          0.09365079365079365,
          0.08139852499317127,
          0.08717480602464628,
          0.0863265306122449,
          0.08495670995670997,
          0.0883116883116883,
          0.08320906650760512,
          0.08110333470564018,
          0.07883461868037704,
          0.07073732718894009,
          0.06889264581572274,
          0.06306669353213783,
          0.05591780280576961,
          0.052700922266139656,
          0.05077399380804953
         ],
         "yaxis": "y"
        },
        {
         "hoverlabel": {
          "namelength": 0
         },
         "hovertemplate": "Country/Region=France<br>MeanGrowth_7d=%{x}<br>DailyGrowth_7d=%{y}",
         "legendgroup": "France",
         "marker": {
          "color": "#FECB52",
          "symbol": "circle"
         },
         "mode": "lines+markers",
         "name": "France",
         "showlegend": true,
         "type": "scattergl",
         "x": [
          0,
          0,
          0,
          0,
          0,
          0,
          0,
          0.0026763763109575824,
          0.0038278405377649145,
          0.004481374288115022,
          0.0045747362524507515,
          0.007064388634736875,
          0.00890050726667289,
          0.008495938754551395,
          0.013444122864345065,
          0.015715930663181152,
          0.015093517567609623,
          0.02430523138206828,
          0.026328073942675754,
          0.030373759063890705,
          0.03858961192543491,
          0.04036348924781377,
          0.044315812404693,
          0.05206485544455856,
          0.05975165717486696,
          0.06628699467836803,
          0.07325802134876917,
          0.08259421778234215,
          0.09177481094202222,
          0.10509445118725298,
          0.10876668845112501,
          0.11134970279774686,
          0.13428562536955777,
          0.14293716739800205,
          0.1350636417390222,
          0.14138113465907323
         ],
         "xaxis": "x",
         "y": [
          0,
          0,
          0,
          0,
          0,
          0,
          0,
          0.13044425087108014,
          0.12796067332042305,
          0.12650905432595574,
          0.12047345599437478,
          0.12661251791686573,
          0.12491433555541712,
          0.1191826054451436,
          0.11739822253269687,
          0.11238561260803254,
          0.10704829151431093,
          0.11679955537504542,
          0.10963799648180725,
          0.10695496962485126,
          0.11299648391717672,
          0.10163930754932479,
          0.09844825712902876,
          0.10299821461552669,
          0.09541320876608855,
          0.09413718630410346,
          0.09194196428571429,
          0.08982533827716732,
          0.08829240336335721,
          0.08863478733574522,
          0.0858553601257738,
          0.0792150289382966,
          0.08168171578927443,
          0.0795288972227101,
          0.0724142616381766,
          0.06967358582339718
         ],
         "yaxis": "y"
        },
        {
         "hoverlabel": {
          "namelength": 0
         },
         "hovertemplate": "Country/Region=Georgia<br>MeanGrowth_7d=%{x}<br>DailyGrowth_7d=%{y}",
         "legendgroup": "Georgia",
         "marker": {
          "color": "#636efa",
          "symbol": "circle"
         },
         "mode": "lines+markers",
         "name": "Georgia",
         "showlegend": true,
         "type": "scattergl",
         "x": [
          0,
          0,
          0,
          0,
          0,
          0,
          0,
          0.00015560327389288272,
          0.00018672392867145925,
          0.00018672392867145925,
          0.00018672392867145925,
          0.0002489652382286123,
          0.00031120654778576544
         ],
         "xaxis": "x",
         "y": [
          0,
          0,
          0,
          0,
          0,
          0,
          0,
          0.058084772370486655,
          0.05825242718446602,
          0.05194805194805195,
          0.05128205128205128,
          0.05863539445628998,
          0.0663594470046083
         ],
         "yaxis": "y"
        },
        {
         "hoverlabel": {
          "namelength": 0
         },
         "hovertemplate": "Country/Region=Germany<br>MeanGrowth_7d=%{x}<br>DailyGrowth_7d=%{y}",
         "legendgroup": "Germany",
         "marker": {
          "color": "#EF553B",
          "symbol": "circle"
         },
         "mode": "lines+markers",
         "name": "Germany",
         "showlegend": true,
         "type": "scattergl",
         "x": [
          0,
          0.00018672392867145925,
          0.0002489652382286123,
          0.0003734478573429185,
          0.0006535337503501073,
          0.0015560327389288271,
          0.002302928453614664,
          0.0032054274421933837,
          0.004045685121214951,
          0.004512494942893599,
          0.005601717860143777,
          0.007313353872965487,
          0.007095509289515451,
          0.013350760900009336,
          0.01683627423520991,
          0.02113092459465347,
          0.027106090312140167,
          0.03466840942333427,
          0.04630753431052189,
          0.058880278841066815,
          0.07188871253851181,
          0.07836180873245573,
          0.08480378427162108,
          0.0968474776709302,
          0.10549901969937447,
          0.11113185821429683,
          0.12722123673482091,
          0.13792674197865123,
          0.1577505990726045,
          0.16546852145769148,
          0.16817601842342764,
          0.1725951514019855,
          0.1802819531322939,
          0.18165126194255127,
          0.179099368250708
         ],
         "xaxis": "x",
         "y": [
          0,
          0.04285714285714286,
          0.050314465408805034,
          0.06268221574344024,
          0.07906215921483098,
          0.1031416716064019,
          0.10980810234541577,
          0.12873234400143035,
          0.125,
          0.12354227405247813,
          0.12363957250710854,
          0.12324049116501946,
          0.109720885466795,
          0.11681243926141885,
          0.11796229942358624,
          0.11721927770245286,
          0.11975483262611976,
          0.12037222796648096,
          0.1207454020790599,
          0.12348004475941814,
          0.11640611504577648,
          0.11336990565370343,
          0.10957377764759263,
          0.10710352422907489,
          0.1027665416497042,
          0.0956744405020267,
          0.09304669566857195,
          0.08711952080472456,
          0.0878560905252993,
          0.08563376393314391,
          0.08079753094330354,
          0.07723373440285206,
          0.07438763978983827,
          0.0688323634758524,
          0.06313615300111422
         ],
         "yaxis": "y"
        },
        {
         "hoverlabel": {
          "namelength": 0
         },
         "hovertemplate": "Country/Region=Ghana<br>MeanGrowth_7d=%{x}<br>DailyGrowth_7d=%{y}",
         "legendgroup": "Ghana",
         "marker": {
          "color": "#00cc96",
          "symbol": "circle"
         },
         "mode": "lines+markers",
         "name": "Ghana",
         "showlegend": true,
         "type": "scattergl",
         "x": [
          0,
          0,
          0,
          0,
          0,
          0,
          0,
          0.00046680982167864813,
          0.00046680982167864813,
          0.00031120654778576544,
          0.00031120654778576544
         ],
         "xaxis": "x",
         "y": [
          0,
          0,
          0,
          0,
          0,
          0,
          0,
          0.09582963620230701,
          0.07472527472527472,
          0.05042016806722689,
          0.04738675958188153
         ],
         "yaxis": "y"
        },
        {
         "hoverlabel": {
          "namelength": 0
         },
         "hovertemplate": "Country/Region=Greece<br>MeanGrowth_7d=%{x}<br>DailyGrowth_7d=%{y}",
         "legendgroup": "Greece",
         "marker": {
          "color": "#ab63fa",
          "symbol": "circle"
         },
         "mode": "lines+markers",
         "name": "Greece",
         "showlegend": true,
         "type": "scattergl",
         "x": [
          0,
          0,
          0,
          0,
          0,
          0,
          9.336196433572963e-05,
          0.001151464226807332,
          0.001151464226807332,
          0.0013381881554787912,
          0.001431550119814521,
          0.001431550119814521,
          0.0013693088102573678,
          0.0013381881554787912,
          0.0013070675007002147,
          0.00161827404848598,
          0.0015871533937074037,
          0.0018049979771574394,
          0.002116204524943205,
          0.0020850838701646284,
          0.0023651697631718173,
          0.0023651697631718173,
          0.002302928453614664,
          0.002551893691843276,
          0.002645255656179006,
          0.002894220894407618,
          0.002863100239629042
         ],
         "xaxis": "x",
         "y": [
          0,
          0,
          0,
          0,
          0,
          0,
          0.014411027568922305,
          0.11135088476478204,
          0.11135088476478204,
          0.11000369139904023,
          0.10902255639097744,
          0.10902255639097744,
          0.08802308802308802,
          0.08140161725067387,
          0.06707875457875458,
          0.07482014388489208,
          0.06844837531243991,
          0.07012354271793979,
          0.07591287636130685,
          0.06965394853593612,
          0.07149589336205736,
          0.0657439446366782,
          0.06093823668081094,
          0.06207871276364427,
          0.059969712266532055,
          0.06032568467801628,
          0.05730227614914534
         ],
         "yaxis": "y"
        },
        {
         "hoverlabel": {
          "namelength": 0
         },
         "hovertemplate": "Country/Region=Guinea<br>MeanGrowth_7d=%{x}<br>DailyGrowth_7d=%{y}",
         "legendgroup": "Guinea",
         "marker": {
          "color": "#FFA15A",
          "symbol": "circle"
         },
         "mode": "lines+markers",
         "name": "Guinea",
         "showlegend": true,
         "type": "scattergl",
         "x": [
          0,
          0
         ],
         "xaxis": "x",
         "y": [
          0,
          0
         ],
         "yaxis": "y"
        },
        {
         "hoverlabel": {
          "namelength": 0
         },
         "hovertemplate": "Country/Region=Honduras<br>MeanGrowth_7d=%{x}<br>DailyGrowth_7d=%{y}",
         "legendgroup": "Honduras",
         "marker": {
          "color": "#19d3f3",
          "symbol": "circle"
         },
         "mode": "lines+markers",
         "name": "Honduras",
         "showlegend": true,
         "type": "scattergl",
         "x": [
          0,
          0,
          0,
          0,
          0,
          0.000404568512121495,
          0.00043568916690007157,
          0.000746895714685837,
          0.0006846544051286839
         ],
         "xaxis": "x",
         "y": [
          0,
          0,
          0,
          0,
          0,
          0.09017223910840931,
          0.08222591362126246,
          0.10893672537508155,
          0.0990990990990991
         ],
         "yaxis": "y"
        },
        {
         "hoverlabel": {
          "namelength": 0
         },
         "hovertemplate": "Country/Region=Hungary<br>MeanGrowth_7d=%{x}<br>DailyGrowth_7d=%{y}",
         "legendgroup": "Hungary",
         "marker": {
          "color": "#FF6692",
          "symbol": "circle"
         },
         "mode": "lines+markers",
         "name": "Hungary",
         "showlegend": true,
         "type": "scattergl",
         "x": [
          0,
          0,
          0,
          0,
          0,
          0,
          0,
          0.000746895714685837,
          0.0008402576790215666,
          0.0009647402981358728,
          0.0010581022624716024,
          0.0012448261911430618,
          0.0012448261911430618,
          0.0013693088102573678,
          0.0013381881554787912,
          0.001431550119814521,
          0.001431550119814521
         ],
         "xaxis": "x",
         "y": [
          0,
          0,
          0,
          0,
          0,
          0,
          0,
          0.10619469026548672,
          0.10290093048713739,
          0.10238095238095238,
          0.09995835068721366,
          0.09698879551820727,
          0.0894854586129754,
          0.08855981416957026,
          0.08136054421768708,
          0.07912087912087912,
          0.07406558128869525
         ],
         "yaxis": "y"
        },
        {
         "hoverlabel": {
          "namelength": 0
         },
         "hovertemplate": "Country/Region=India<br>MeanGrowth_7d=%{x}<br>DailyGrowth_7d=%{y}",
         "legendgroup": "India",
         "marker": {
          "color": "#B6E880",
          "symbol": "circle"
         },
         "mode": "lines+markers",
         "name": "India",
         "showlegend": true,
         "type": "scattergl",
         "x": [
          0,
          0,
          0,
          0,
          0,
          0,
          0,
          0.0003734478573429185,
          0.000404568512121495,
          0.0005290511312358012,
          0.0007157750599072605,
          0.0010269816076930258,
          0.0012448261911430618,
          0.0016805153580431332,
          0.0017427566676002863,
          0.002240687144057511,
          0.0023651697631718173,
          0.002863100239629042,
          0.002925341549186195,
          0.0028008589300718887,
          0.00332991006130769,
          0.0038278405377649145,
          0.005975165717486696,
          0.008060249587651324,
          0.00746895714685837
         ],
         "xaxis": "x",
         "y": [
          0,
          0,
          0,
          0,
          0,
          0,
          0,
          0.08651911468812878,
          0.08608058608058608,
          0.08910162002945507,
          0.09484777517564402,
          0.09870129870129869,
          0.1020923520923521,
          0.10878900658459777,
          0.10501066098081023,
          0.10893672537508153,
          0.10473570446060129,
          0.1035593493316154,
          0.09509335649153279,
          0.08761160714285714,
          0.08587415781660386,
          0.08804581245526127,
          0.0958815958815959,
          0.10201674063254874,
          0.09349435138293728
         ],
         "yaxis": "y"
        },
        {
         "hoverlabel": {
          "namelength": 0
         },
         "hovertemplate": "Country/Region=Indonesia<br>MeanGrowth_7d=%{x}<br>DailyGrowth_7d=%{y}",
         "legendgroup": "Indonesia",
         "marker": {
          "color": "#FF97FF",
          "symbol": "circle"
         },
         "mode": "lines+markers",
         "name": "Indonesia",
         "showlegend": true,
         "type": "scattergl",
         "x": [
          0,
          0,
          0,
          0,
          0,
          0,
          0,
          0.0013381881554787912,
          0.0015871533937074037,
          0.0017738773223788628,
          0.0019917219058288986,
          0.0022718077988360874,
          0.0024896523822861235,
          0.002583014346621853,
          0.0030187035135219244,
          0.0031431861326362306,
          0.0034232720256434195,
          0.0037033579186506083,
          0.003734478573429185,
          0.00395232315687922,
          0.003983443811657797,
          0.004170167740329257
         ],
         "xaxis": "x",
         "y": [
          0,
          0,
          0,
          0,
          0,
          0,
          0,
          0.11614401858304296,
          0.11238095238095237,
          0.1103390772651473,
          0.10979521342215642,
          0.1070387338608913,
          0.10180831826401447,
          0.09310510318349063,
          0.09246107620868614,
          0.08719851576994433,
          0.08571428571428572,
          0.08436047686401293,
          0.0787210172026926,
          0.07556009881591276,
          0.07158818834796488,
          0.06761617033520356
         ],
         "yaxis": "y"
        },
        {
         "hoverlabel": {
          "namelength": 0
         },
         "hovertemplate": "Country/Region=Iran<br>MeanGrowth_7d=%{x}<br>DailyGrowth_7d=%{y}",
         "legendgroup": "Iran",
         "marker": {
          "color": "#FECB52",
          "symbol": "circle"
         },
         "mode": "lines+markers",
         "name": "Iran",
         "showlegend": true,
         "type": "scattergl",
         "x": [
          0,
          0,
          0,
          0,
          0,
          0,
          0,
          0.0064108548843867675,
          0.009958609529144494,
          0.012386020601873464,
          0.014533345781595245,
          0.019388167927053186,
          0.023247129119596675,
          0.02483428251330408,
          0.025176609715868423,
          0.02536333364453988,
          0.027012728347804438,
          0.02916005352752622,
          0.029409018765754833,
          0.030716086266455046,
          0.0327700494818411,
          0.03482401269722715,
          0.036131080197927365,
          0.03715806180562039,
          0.037033579186506085,
          0.036815734603056045,
          0.035041857280677186,
          0.034232720256434195,
          0.0358198736501416,
          0.03843400865154203,
          0.04291538293965705,
          0.04889054865714375,
          0.05642174711355927,
          0.0657890642019108,
          0.07412939968256932,
          0.08200292534154918,
          0.08800921171381446,
          0.09146360439423645,
          0.09364205022873681,
          0.09270843058537952
         ],
         "xaxis": "x",
         "y": [
          0,
          0,
          0,
          0,
          0,
          0,
          0,
          0.13705148948320167,
          0.13704745596868886,
          0.13606140608193995,
          0.13289414826562562,
          0.13118059526317372,
          0.12830892274478053,
          0.1215786954440625,
          0.11291320047080415,
          0.10136071339752016,
          0.09647619047619048,
          0.0930450194966324,
          0.08318248101775029,
          0.07750580788525639,
          0.07555910870590164,
          0.07461619829040282,
          0.07180406951573999,
          0.0687995260312523,
          0.06466484023934993,
          0.060214678418710185,
          0.054626741526304846,
          0.05083649135779647,
          0.04994328852196872,
          0.04975903545086569,
          0.051057799586503735,
          0.053434187386442025,
          0.05606122196497058,
          0.059704021690013556,
          0.06216741310322453,
          0.06350506945759386,
          0.06339455858568066,
          0.06176178369568154,
          0.05961910800620478,
          0.056008767570732865
         ],
         "yaxis": "y"
        },
        {
         "hoverlabel": {
          "namelength": 0
         },
         "hovertemplate": "Country/Region=Iraq<br>MeanGrowth_7d=%{x}<br>DailyGrowth_7d=%{y}",
         "legendgroup": "Iraq",
         "marker": {
          "color": "#636efa",
          "symbol": "circle"
         },
         "mode": "lines+markers",
         "name": "Iraq",
         "showlegend": true,
         "type": "scattergl",
         "x": [
          0,
          0,
          0,
          0,
          0,
          0,
          0,
          0.0002489652382286123,
          0.0002489652382286123,
          0.0002800858930071889,
          0.0003734478573429185,
          0.000404568512121495,
          0.0005290511312358012,
          0.00046680982167864813,
          0.00046680982167864813,
          0.0005290511312358012,
          0.0006224130955715309,
          0.0007157750599072605,
          0.00080913702424299,
          0.0008402576790215666,
          0.0011203435720287555,
          0.0013070675007002147,
          0.0014004294650359443,
          0.00161827404848598,
          0.0016805153580431332,
          0.0017116360128217097,
          0.0017427566676002863,
          0.00161827404848598
         ],
         "xaxis": "x",
         "y": [
          0,
          0,
          0,
          0,
          0,
          0,
          0,
          0.07272727272727272,
          0.06896551724137931,
          0.07373271889400922,
          0.07699443413729129,
          0.08101045296167247,
          0.0900297619047619,
          0.07348901098901099,
          0.06942590120160214,
          0.07173513182096873,
          0.07626208378088077,
          0.07323688969258589,
          0.07514450867052024,
          0.07105459985041136,
          0.07797878976918278,
          0.08243929983060418,
          0.08200574562548968,
          0.08253968253968254,
          0.07780979827089338,
          0.0749607535321821,
          0.07216876387860843,
          0.06306620209059234
         ],
         "yaxis": "y"
        },
        {
         "hoverlabel": {
          "namelength": 0
         },
         "hovertemplate": "Country/Region=Ireland<br>MeanGrowth_7d=%{x}<br>DailyGrowth_7d=%{y}",
         "legendgroup": "Ireland",
         "marker": {
          "color": "#EF553B",
          "symbol": "circle"
         },
         "mode": "lines+markers",
         "name": "Ireland",
         "showlegend": true,
         "type": "scattergl",
         "x": [
          0,
          0,
          0,
          0,
          0,
          0,
          0,
          0.002645255656179006,
          0.002925341549186195,
          0.0034543926804219962,
          0.004263529704664986,
          0.0049170634550150935,
          0.005663959169700931,
          0.005601717860143777,
          0.006379734229608191,
          0.007251112563408334,
          0.007593439765972676,
          0.007935766968537018,
          0.00846481809977282,
          0.00837145613543709,
          0.009024989885787198,
          0.009554041017022999
         ],
         "xaxis": "x",
         "y": [
          0,
          0,
          0,
          0,
          0,
          0,
          0,
          0.1240326291570801,
          0.11938125568698817,
          0.12251655629139073,
          0.1213968253968254,
          0.11888638073739653,
          0.11618560467665327,
          0.09911254221314694,
          0.09685458341752542,
          0.09642117716651878,
          0.09336246927069107,
          0.08762886597938144,
          0.08416869066018988,
          0.0780388743835219,
          0.0753442452585087,
          0.0719467754337869
         ],
         "yaxis": "y"
        },
        {
         "hoverlabel": {
          "namelength": 0
         },
         "hovertemplate": "Country/Region=Israel<br>MeanGrowth_7d=%{x}<br>DailyGrowth_7d=%{y}",
         "legendgroup": "Israel",
         "marker": {
          "color": "#00cc96",
          "symbol": "circle"
         },
         "mode": "lines+markers",
         "name": "Israel",
         "showlegend": true,
         "type": "scattergl",
         "x": [
          0,
          0,
          0,
          0,
          0,
          0,
          0,
          0.0006846544051286839,
          0.0006846544051286839,
          0.0007780163694644136,
          0.0009958609529144493,
          0.0014626707745930975,
          0.0018049979771574394,
          0.0024896523822861235,
          0.002987582858743348,
          0.003796719882986338,
          0.004388012323779293,
          0.009180593159680079,
          0.0100830921482588,
          0.011141194410730401,
          0.012915071733109264,
          0.014969034948495316,
          0.016120499175302647,
          0.018330065664581584,
          0.01655618834220272,
          0.018516789593253043,
          0.019543771200946067
         ],
         "xaxis": "x",
         "y": [
          0,
          0,
          0,
          0,
          0,
          0,
          0,
          0.10194500335345406,
          0.10288335517693316,
          0.1,
          0.10573308270676693,
          0.109401137504182,
          0.10883067782878747,
          0.11175762439807384,
          0.10839669956317748,
          0.11377884487128186,
          0.11400876990537734,
          0.12452511608273534,
          0.12020582462468835,
          0.11795716639209226,
          0.114751509888288,
          0.11315550472602509,
          0.11026928343222273,
          0.10984909081213672,
          0.08730419285245287,
          0.08675180732931936,
          0.08448726825140396
         ],
         "yaxis": "y"
        },
        {
         "hoverlabel": {
          "namelength": 0
         },
         "hovertemplate": "Country/Region=Italy<br>MeanGrowth_7d=%{x}<br>DailyGrowth_7d=%{y}",
         "legendgroup": "Italy",
         "marker": {
          "color": "#ab63fa",
          "symbol": "circle"
         },
         "mode": "lines+markers",
         "name": "Italy",
         "showlegend": true,
         "type": "scattergl",
         "x": [
          0,
          0,
          0,
          0,
          0,
          0,
          0,
          0.0047303395263436345,
          0.006846544051286839,
          0.008029128932872748,
          0.009678523636137304,
          0.011732486851523356,
          0.014253259888588056,
          0.01664955030653845,
          0.02113092459465347,
          0.025269971680204152,
          0.03171194721936949,
          0.03398375501820558,
          0.04167055674851399,
          0.03824728472287057,
          0.057915538542930946,
          0.06790526872685401,
          0.07724146516042697,
          0.08362119939003516,
          0.09494911772943702,
          0.10338281517443126,
          0.12703451280614944,
          0.13052002614135003,
          0.14415087293436654,
          0.15289577692714654,
          0.15980456228799053,
          0.16746024336352036,
          0.1719416176516354,
          0.17586282015373603,
          0.1755204929511717,
          0.17290635794977127,
          0.171381445865621,
          0.1681137771138705,
          0.16279214514673387,
          0.16089378520524072,
          0.15404724115395388,
          0.1481654374008029
         ],
         "xaxis": "x",
         "y": [
          0,
          0,
          0,
          0,
          0,
          0,
          0,
          0.13500506585612967,
          0.12978579861696746,
          0.12678922256525402,
          0.12447185109055613,
          0.12190722841418859,
          0.1186032733466637,
          0.11549365216319488,
          0.11546587018285133,
          0.11004358353510896,
          0.11114572300791228,
          0.10763903551370296,
          0.10744663777884769,
          0.0986312676250086,
          0.10535512053065847,
          0.1031337146098218,
          0.1002834398397497,
          0.09602777494128459,
          0.09683869739097314,
          0.09300734826453752,
          0.09947257567581681,
          0.08920330429868721,
          0.08644539603142014,
          0.08307687104738071,
          0.08033046622375076,
          0.07779328916717607,
          0.07427088814715518,
          0.0701159144370997,
          0.06519886504394816,
          0.060086141905503446,
          0.056375699559681386,
          0.05309384096279977,
          0.04944473252095757,
          0.04675343467464581,
          0.04295680890151656,
          0.039734665094558946
         ],
         "yaxis": "y"
        },
        {
         "hoverlabel": {
          "namelength": 0
         },
         "hovertemplate": "Country/Region=Japan<br>MeanGrowth_7d=%{x}<br>DailyGrowth_7d=%{y}",
         "legendgroup": "Japan",
         "marker": {
          "color": "#FFA15A",
          "symbol": "circle"
         },
         "mode": "lines+markers",
         "name": "Japan",
         "showlegend": true,
         "type": "scattergl",
         "x": [
          0,
          0,
          0,
          0,
          0,
          0,
          0,
          0.000404568512121495,
          0.000404568512121495,
          0.00043568916690007157,
          0.00046680982167864813,
          0.0005290511312358012,
          0.0005601717860143778,
          0.0005290511312358012,
          0.0004979304764572246,
          0.0004979304764572246,
          0.0005601717860143778,
          0.0006224130955715309,
          0.0006535337503501073,
          0.0008402576790215666,
          0.0009647402981358728,
          0.001089222917250179,
          0.0010581022624716024,
          0.001275946845921638,
          0.0013693088102573678,
          0.0012448261911430618,
          0.0012448261911430618,
          0.0014004294650359443,
          0.001493791429371674,
          0.0014626707745930975,
          0.0013070675007002147,
          0.0011203435720287555,
          0.001275946845921638,
          0.001151464226807332,
          0.0010269816076930258,
          0.001151464226807332,
          0.001275946845921638,
          0.0014004294650359443,
          0.0018672392867145925,
          0.0020539632153860517,
          0.002240687144057511,
          0.003049824168300501,
          0.003392151370864843,
          0.003267668751750537,
          0.003392151370864843,
          0.0038589611925434913,
          0.0049170634550150935,
          0.005103787383686552
         ],
         "xaxis": "x",
         "y": [
          0,
          0,
          0,
          0,
          0,
          0,
          0,
          0.08551992225461613,
          0.08355795148247978,
          0.08067226890756302,
          0.07936507936507936,
          0.0801068090787717,
          0.07706766917293234,
          0.07053941908713693,
          0.060825892857142856,
          0.05995828988529718,
          0.05997074597757192,
          0.06128614587829089,
          0.05793650793650794,
          0.06530612244897958,
          0.06817477533312674,
          0.07000569151963575,
          0.06625663964215822,
          0.07081386771576101,
          0.06885758998435054,
          0.062374245472837014,
          0.057265131444874676,
          0.057660321567177965,
          0.057381236165503155,
          0.055848799591350244,
          0.048324113244386596,
          0.040173549734854576,
          0.04406307977736549,
          0.038866636997478124,
          0.0331961980422755,
          0.033995069417412746,
          0.03660081053698075,
          0.037720033528918694,
          0.04568805333916275,
          0.04768771243176434,
          0.04914363565589723,
          0.057885410513880686,
          0.05856683509416629,
          0.056499770326136886,
          0.055592129324848215,
          0.05712973894792077,
          0.06344116805038648,
          0.06272176428844368
         ],
         "yaxis": "y"
        },
        {
         "hoverlabel": {
          "namelength": 0
         },
         "hovertemplate": "Country/Region=Jordan<br>MeanGrowth_7d=%{x}<br>DailyGrowth_7d=%{y}",
         "legendgroup": "Jordan",
         "marker": {
          "color": "#19d3f3",
          "symbol": "circle"
         },
         "mode": "lines+markers",
         "name": "Jordan",
         "showlegend": true,
         "type": "scattergl",
         "x": [
          0,
          0,
          0,
          0,
          0,
          0,
          0,
          0.0005290511312358012,
          0.0006224130955715309,
          0.0006535337503501073,
          0.0007157750599072605,
          0.0006535337503501073,
          0.0006224130955715309,
          0.0005290511312358012,
          0.00046680982167864813,
          0.0003734478573429185,
          0.00034232720256434195
         ],
         "xaxis": "x",
         "y": [
          0,
          0,
          0,
          0,
          0,
          0,
          0,
          0.09966777408637874,
          0.09636118598382748,
          0.0911854103343465,
          0.09349593495934959,
          0.08108108108108109,
          0.07515991471215351,
          0.06256517205422314,
          0.05447070914696814,
          0.041567128523650264,
          0.034562211981566816
         ],
         "yaxis": "y"
        },
        {
         "hoverlabel": {
          "namelength": 0
         },
         "hovertemplate": "Country/Region=Kazakhstan<br>MeanGrowth_7d=%{x}<br>DailyGrowth_7d=%{y}",
         "legendgroup": "Kazakhstan",
         "marker": {
          "color": "#FF6692",
          "symbol": "circle"
         },
         "mode": "lines+markers",
         "name": "Kazakhstan",
         "showlegend": true,
         "type": "scattergl",
         "x": [
          0,
          0,
          0,
          0,
          0,
          0,
          0,
          0.0007780163694644136,
          0.0009958609529144493,
          0.0010581022624716024,
          0.0012137055363644852,
          0.0013381881554787912,
          0.001431550119814521,
          0.0014004294650359443
         ],
         "xaxis": "x",
         "y": [
          0,
          0,
          0,
          0,
          0,
          0,
          0,
          0.10964912280701754,
          0.11267605633802817,
          0.11352885525070955,
          0.11286963765097877,
          0.11240601503759398,
          0.10640394088669951,
          0.09667487684729063
         ],
         "yaxis": "y"
        },
        {
         "hoverlabel": {
          "namelength": 0
         },
         "hovertemplate": "Country/Region=Kenya<br>MeanGrowth_7d=%{x}<br>DailyGrowth_7d=%{y}",
         "legendgroup": "Kenya",
         "marker": {
          "color": "#B6E880",
          "symbol": "circle"
         },
         "mode": "lines+markers",
         "name": "Kenya",
         "showlegend": true,
         "type": "scattergl",
         "x": [
          0,
          0,
          0,
          0
         ],
         "xaxis": "x",
         "y": [
          0,
          0,
          0,
          0
         ],
         "yaxis": "y"
        },
        {
         "hoverlabel": {
          "namelength": 0
         },
         "hovertemplate": "Country/Region=Korea, South<br>MeanGrowth_7d=%{x}<br>DailyGrowth_7d=%{y}",
         "legendgroup": "Korea, South",
         "marker": {
          "color": "#FF97FF",
          "symbol": "circle"
         },
         "mode": "lines+markers",
         "name": "Korea, South",
         "showlegend": true,
         "type": "scattergl",
         "x": [
          0,
          0,
          0,
          0.0024274110727289704,
          0.00332991006130769,
          0.0038589611925434913,
          0.0050726667289079765,
          0.007375595182522641,
          0.009491799707465845,
          0.012074814054087698,
          0.01394205334080229,
          0.01556032738928827,
          0.0187035135219245,
          0.019388167927053186,
          0.019201443998381727,
          0.018921358105374538,
          0.017303084056888556,
          0.015902654591852614,
          0.013973173995580866,
          0.010332057386487412,
          0.009491799707465845,
          0.00790464631375844,
          0.006161889646158155,
          0.004636977562007904,
          0.0037655992282077614,
          0.0033610307160862663,
          0.003578875299536302,
          0.002925341549186195,
          0.0030809448230790775,
          0.002987582858743348,
          0.0031743067874148074,
          0.0035477546447577257,
          0.00323654809697196,
          0.0031743067874148074,
          0.0032054274421933837,
          0.0030187035135219244,
          0.0030187035135219244,
          0.0030187035135219244,
          0.0027697382752933123,
          0.0031120654778576543,
          0.00332991006130769,
          0.00332991006130769,
          0.003267668751750537,
          0.00323654809697196
         ],
         "xaxis": "x",
         "y": [
          0,
          0,
          0,
          0.12885619364024678,
          0.12896587206311097,
          0.12677292001754642,
          0.1290359125410672,
          0.13444426468209028,
          0.13038694296717404,
          0.12321995464852609,
          0.11983787090853472,
          0.11540616246498599,
          0.11594402512258278,
          0.11080895621013039,
          0.10141730805331331,
          0.09221902017291066,
          0.07894576663217481,
          0.06988554240400016,
          0.06004279219042525,
          0.04424711452529901,
          0.03931104356636271,
          0.03233302470816767,
          0.024815139741822284,
          0.01846224515034804,
          0.014842300556586271,
          0.013147852633039617,
          0.013856456043956045,
          0.0111731843575419,
          0.011608706529897423,
          0.011112211875041278,
          0.011575990778172845,
          0.012737736540883511,
          0.01155802126675913,
          0.011334355585766452,
          0.011319751715943027,
          0.010450322321331952,
          0.010409650358214438,
          0.010234226630090736,
          0.009272372206735142,
          0.010350895352447986,
          0.010933987328837115,
          0.010836740886300914,
          0.010525260625501203,
          0.010364312689894085
         ],
         "yaxis": "y"
        },
        {
         "hoverlabel": {
          "namelength": 0
         },
         "hovertemplate": "Country/Region=Kosovo<br>MeanGrowth_7d=%{x}<br>DailyGrowth_7d=%{y}",
         "legendgroup": "Kosovo",
         "marker": {
          "color": "#FECB52",
          "symbol": "circle"
         },
         "mode": "lines+markers",
         "name": "Kosovo",
         "showlegend": true,
         "type": "scattergl",
         "x": [
          0,
          0,
          0,
          0,
          0,
          0,
          0,
          0.0002489652382286123,
          0.00018672392867145925
         ],
         "xaxis": "x",
         "y": [
          0,
          0,
          0,
          0,
          0,
          0,
          0,
          0.061714285714285715,
          0.045351473922902494
         ],
         "yaxis": "y"
        },
        {
         "hoverlabel": {
          "namelength": 0
         },
         "hovertemplate": "Country/Region=Kuwait<br>MeanGrowth_7d=%{x}<br>DailyGrowth_7d=%{y}",
         "legendgroup": "Kuwait",
         "marker": {
          "color": "#636efa",
          "symbol": "circle"
         },
         "mode": "lines+markers",
         "name": "Kuwait",
         "showlegend": true,
         "type": "scattergl",
         "x": [
          0,
          0,
          0,
          0,
          0,
          0,
          0,
          3.112065477857654e-05,
          6.224130955715308e-05,
          6.224130955715308e-05,
          9.336196433572963e-05,
          9.336196433572963e-05,
          0.00018672392867145925,
          0.00021784458345003579,
          0.0002489652382286123,
          0.0002800858930071889,
          0.00031120654778576544,
          0.00031120654778576544,
          0.00034232720256434195,
          0.00031120654778576544,
          0.00034232720256434195,
          0.0002800858930071889,
          0.0002800858930071889,
          0.0002489652382286123,
          0.0002800858930071889,
          0.0002800858930071889,
          0.0002489652382286123,
          0.00031120654778576544,
          0.00034232720256434195,
          0.00043568916690007157,
          0.0005290511312358012,
          0.0005912924407929543,
          0.0008402576790215666
         ],
         "xaxis": "x",
         "y": [
          0,
          0,
          0,
          0,
          0,
          0,
          0,
          0.017857142857142856,
          0.026915113871635612,
          0.031746031746031744,
          0.039285714285714285,
          0.039285714285714285,
          0.05906593406593407,
          0.061224489795918366,
          0.06852497096399536,
          0.06703296703296703,
          0.07042253521126761,
          0.06563706563706563,
          0.07097933513027853,
          0.05844155844155845,
          0.057750759878419454,
          0.049886621315192746,
          0.0456245325355273,
          0.03882783882783883,
          0.04120879120879121,
          0.0419047619047619,
          0.035866261398176294,
          0.03753501400560224,
          0.041353383458646614,
          0.04844290657439446,
          0.054979720594862544,
          0.055973266499582286,
          0.065775950668037
         ],
         "yaxis": "y"
        },
        {
         "hoverlabel": {
          "namelength": 0
         },
         "hovertemplate": "Country/Region=Kyrgyzstan<br>MeanGrowth_7d=%{x}<br>DailyGrowth_7d=%{y}",
         "legendgroup": "Kyrgyzstan",
         "marker": {
          "color": "#EF553B",
          "symbol": "circle"
         },
         "mode": "lines+markers",
         "name": "Kyrgyzstan",
         "showlegend": true,
         "type": "scattergl",
         "x": [
          0,
          0,
          0,
          0,
          0,
          0,
          0,
          0.00031120654778576544
         ],
         "xaxis": "x",
         "y": [
          0,
          0,
          0,
          0,
          0,
          0,
          0,
          0.07912087912087913
         ],
         "yaxis": "y"
        },
        {
         "hoverlabel": {
          "namelength": 0
         },
         "hovertemplate": "Country/Region=Latvia<br>MeanGrowth_7d=%{x}<br>DailyGrowth_7d=%{y}",
         "legendgroup": "Latvia",
         "marker": {
          "color": "#00cc96",
          "symbol": "circle"
         },
         "mode": "lines+markers",
         "name": "Latvia",
         "showlegend": true,
         "type": "scattergl",
         "x": [
          6.224130955715308e-05,
          0,
          6.224130955715308e-05,
          6.224130955715308e-05,
          0.00012448261911430616,
          0.0002800858930071889,
          0.00031120654778576544,
          0.0006535337503501073,
          0.0007157750599072605,
          0.000746895714685837,
          0.00080913702424299,
          0.0009336196433572963,
          0.0008713783338001431,
          0.0009024989885787197,
          0.0009958609529144493,
          0.0009647402981358728,
          0.0009336196433572963
         ],
         "xaxis": "x",
         "y": [
          0.026156941649899398,
          0.0033222591362126242,
          0.021879021879021878,
          0.019585253456221197,
          0.02877697841726619,
          0.050793650793650794,
          0.048585931834662796,
          0.09696186166774401,
          0.09250585480093677,
          0.08622448979591836,
          0.08477751756440281,
          0.08563194730341704,
          0.07446808510638298,
          0.07214644651830582,
          0.0720691864189622,
          0.06674984404242046,
          0.06172124022022602
         ],
         "yaxis": "y"
        },
        {
         "hoverlabel": {
          "namelength": 0
         },
         "hovertemplate": "Country/Region=Lebanon<br>MeanGrowth_7d=%{x}<br>DailyGrowth_7d=%{y}",
         "legendgroup": "Lebanon",
         "marker": {
          "color": "#ab63fa",
          "symbol": "circle"
         },
         "mode": "lines+markers",
         "name": "Lebanon",
         "showlegend": true,
         "type": "scattergl",
         "x": [
          0,
          0,
          0,
          0,
          0,
          0,
          0,
          0.00031120654778576544,
          0.00043568916690007157,
          0.0003734478573429185,
          0.000404568512121495,
          0.0006224130955715309,
          0.0006846544051286839,
          0.0008713783338001431,
          0.0009024989885787197,
          0.0009336196433572963,
          0.0010269816076930258,
          0.0009958609529144493,
          0.0008402576790215666,
          0.00080913702424299,
          0.0006846544051286839,
          0.0006535337503501073,
          0.0005601717860143778,
          0.0005290511312358012
         ],
         "xaxis": "x",
         "y": [
          0,
          0,
          0,
          0,
          0,
          0,
          0,
          0.07733619763694952,
          0.08735213830755231,
          0.07537248028045575,
          0.0718105423987777,
          0.07949308755760369,
          0.08400214018191546,
          0.0889487870619946,
          0.0858000858000858,
          0.08190993788819875,
          0.08330288637194007,
          0.07801664355062414,
          0.06196999347684279,
          0.057335041639974375,
          0.046200607902735565,
          0.04354309573516254,
          0.03643724696356275,
          0.03290213723284589
         ],
         "yaxis": "y"
        },
        {
         "hoverlabel": {
          "namelength": 0
         },
         "hovertemplate": "Country/Region=Liechtenstein<br>MeanGrowth_7d=%{x}<br>DailyGrowth_7d=%{y}",
         "legendgroup": "Liechtenstein",
         "marker": {
          "color": "#FFA15A",
          "symbol": "circle"
         },
         "mode": "lines+markers",
         "name": "Liechtenstein",
         "showlegend": true,
         "type": "scattergl",
         "x": [
          0,
          0,
          0,
          0,
          0,
          0,
          0,
          6.224130955715308e-05,
          6.224130955715308e-05,
          6.224130955715308e-05,
          9.336196433572963e-05,
          9.336196433572963e-05
         ],
         "xaxis": "x",
         "y": [
          0,
          0,
          0,
          0,
          0,
          0,
          0,
          0.025345622119815666,
          0.03571428571428571,
          0.03571428571428571,
          0.03619047619047619,
          0.03619047619047619
         ],
         "yaxis": "y"
        },
        {
         "hoverlabel": {
          "namelength": 0
         },
         "hovertemplate": "Country/Region=Lithuania<br>MeanGrowth_7d=%{x}<br>DailyGrowth_7d=%{y}",
         "legendgroup": "Lithuania",
         "marker": {
          "color": "#19d3f3",
          "symbol": "circle"
         },
         "mode": "lines+markers",
         "name": "Lithuania",
         "showlegend": true,
         "type": "scattergl",
         "x": [
          0.00012448261911430616,
          0.0003734478573429185,
          0.0005290511312358012,
          0.0006224130955715309,
          0.0009024989885787197,
          0.0009958609529144493,
          0.0012448261911430618,
          0.0013693088102573678,
          0.0014004294650359443,
          0.0014004294650359443,
          0.0014626707745930975,
          0.0013693088102573678,
          0.0015560327389288271,
          0.001493791429371674
         ],
         "xaxis": "x",
         "y": [
          0.04647160068846816,
          0.08691308691308691,
          0.0933758978451716,
          0.09637730690362269,
          0.10740354535974973,
          0.10702341137123746,
          0.11292897047086992,
          0.11276287164612038,
          0.0984472049689441,
          0.0907768402676753,
          0.08725724926842245,
          0.07548561593312023,
          0.07704160246533127,
          0.069376026272578
         ],
         "yaxis": "y"
        },
        {
         "hoverlabel": {
          "namelength": 0
         },
         "hovertemplate": "Country/Region=Luxembourg<br>MeanGrowth_7d=%{x}<br>DailyGrowth_7d=%{y}",
         "legendgroup": "Luxembourg",
         "marker": {
          "color": "#FF6692",
          "symbol": "circle"
         },
         "mode": "lines+markers",
         "name": "Luxembourg",
         "showlegend": true,
         "type": "scattergl",
         "x": [
          0,
          0,
          0,
          0,
          0,
          0,
          0,
          0.0027386176205147356,
          0.003298789406529113,
          0.0035477546447577257,
          0.004263529704664986,
          0.005010425419350823,
          0.004979304764572247,
          0.004979304764572247,
          0.005166028693243706,
          0.005134908038465129,
          0.00494818410979367,
          0.004792580835900787,
          0.004388012323779293,
          0.004605856907229328,
          0.004481374288115022
         ],
         "xaxis": "x",
         "y": [
          0,
          0,
          0,
          0,
          0,
          0,
          0,
          0.13198294243070363,
          0.13229502327246687,
          0.13028571428571428,
          0.12465878070973613,
          0.12110170399742792,
          0.10992036181299775,
          0.0997774810858923,
          0.09058281969259577,
          0.0843956043956044,
          0.07997987927565392,
          0.07077266168175259,
          0.06074046695004005,
          0.059394566029065426,
          0.05507547582585868
         ],
         "yaxis": "y"
        },
        {
         "hoverlabel": {
          "namelength": 0
         },
         "hovertemplate": "Country/Region=Madagascar<br>MeanGrowth_7d=%{x}<br>DailyGrowth_7d=%{y}",
         "legendgroup": "Madagascar",
         "marker": {
          "color": "#B6E880",
          "symbol": "circle"
         },
         "mode": "lines+markers",
         "name": "Madagascar",
         "showlegend": true,
         "type": "scattergl",
         "x": [
          0,
          0,
          0,
          0
         ],
         "xaxis": "x",
         "y": [
          0,
          0,
          0,
          0
         ],
         "yaxis": "y"
        },
        {
         "hoverlabel": {
          "namelength": 0
         },
         "hovertemplate": "Country/Region=Malaysia<br>MeanGrowth_7d=%{x}<br>DailyGrowth_7d=%{y}",
         "legendgroup": "Malaysia",
         "marker": {
          "color": "#FF97FF",
          "symbol": "circle"
         },
         "mode": "lines+markers",
         "name": "Malaysia",
         "showlegend": true,
         "type": "scattergl",
         "x": [
          0,
          0,
          0,
          0.0002800858930071889,
          0.00031120654778576544,
          0.000404568512121495,
          0.00034232720256434195,
          0.0004979304764572246,
          0.0006535337503501073,
          0.0014626707745930975,
          0.0019917219058288986,
          0.0024274110727289704,
          0.002863100239629042,
          0.00332991006130769,
          0.0037033579186506083,
          0.004201288395107833,
          0.0038900818473220676,
          0.00423240904988641,
          0.00423240904988641,
          0.004481374288115022,
          0.0050415460741294,
          0.0050415460741294,
          0.0050415460741294,
          0.005166028693243706,
          0.0049170634550150935,
          0.0050726667289079765,
          0.00494818410979367,
          0.004823701490679364,
          0.005197149348022283
         ],
         "xaxis": "x",
         "y": [
          0,
          0,
          0,
          0.07326007326007326,
          0.079734219269103,
          0.0862895493767977,
          0.07574304889741132,
          0.0826686004350979,
          0.08703481392557023,
          0.10981308411214953,
          0.11332660272589601,
          0.11547442156654637,
          0.11591320072332731,
          0.11920634920634922,
          0.11553398058252427,
          0.11411665257819104,
          0.0960402537737913,
          0.08959156785243742,
          0.08365587614356088,
          0.08001909004136176,
          0.07955264823802491,
          0.07476697296225293,
          0.07001231527093596,
          0.06732215153267784,
          0.06027635730606027,
          0.05898151017456874,
          0.0546276282177245,
          0.04974326059050064,
          0.05023359478805023
         ],
         "yaxis": "y"
        },
        {
         "hoverlabel": {
          "namelength": 0
         },
         "hovertemplate": "Country/Region=Malta<br>MeanGrowth_7d=%{x}<br>DailyGrowth_7d=%{y}",
         "legendgroup": "Malta",
         "marker": {
          "color": "#FECB52",
          "symbol": "circle"
         },
         "mode": "lines+markers",
         "name": "Malta",
         "showlegend": true,
         "type": "scattergl",
         "x": [
          0,
          0,
          0,
          0,
          0,
          0,
          0,
          0.0003734478573429185,
          0.00034232720256434195,
          0.00034232720256434195,
          0.0002800858930071889,
          0.00021784458345003579,
          0.0002489652382286123,
          0.0002489652382286123,
          0.0002800858930071889,
          0.0002800858930071889
         ],
         "xaxis": "x",
         "y": [
          0,
          0,
          0,
          0,
          0,
          0,
          0,
          0.08635394456289978,
          0.07708119218910585,
          0.0728667305848514,
          0.05771050141911069,
          0.04487179487179487,
          0.049873203719357564,
          0.044832826747720364,
          0.04518950437317785,
          0.04455445544554455
         ],
         "yaxis": "y"
        },
        {
         "hoverlabel": {
          "namelength": 0
         },
         "hovertemplate": "Country/Region=Mauritius<br>MeanGrowth_7d=%{x}<br>DailyGrowth_7d=%{y}",
         "legendgroup": "Mauritius",
         "marker": {
          "color": "#636efa",
          "symbol": "circle"
         },
         "mode": "lines+markers",
         "name": "Mauritius",
         "showlegend": true,
         "type": "scattergl",
         "x": [
          0,
          0,
          0,
          0,
          0,
          0,
          0,
          0.000404568512121495,
          0.000404568512121495
         ],
         "xaxis": "x",
         "y": [
          0,
          0,
          0,
          0,
          0,
          0,
          0,
          0.07438715131022823,
          0.0706605222734255
         ],
         "yaxis": "y"
        },
        {
         "hoverlabel": {
          "namelength": 0
         },
         "hovertemplate": "Country/Region=Mexico<br>MeanGrowth_7d=%{x}<br>DailyGrowth_7d=%{y}",
         "legendgroup": "Mexico",
         "marker": {
          "color": "#EF553B",
          "symbol": "circle"
         },
         "mode": "lines+markers",
         "name": "Mexico",
         "showlegend": true,
         "type": "scattergl",
         "x": [
          0,
          0,
          0,
          0,
          0,
          0.00015560327389288272,
          0.0002800858930071889,
          0.0011825848815859086,
          0.001275946845921638,
          0.0014004294650359443,
          0.0015871533937074037,
          0.0018672392867145925,
          0.0022718077988360874,
          0.002645255656179006,
          0.0030187035135219244,
          0.00323654809697196,
          0.003609995954314879,
          0.004014564466436374,
          0.004107926430772103
         ],
         "xaxis": "x",
         "y": [
          0,
          0,
          0,
          0,
          0.0026132404181184667,
          0.023926812104152005,
          0.03699487763232783,
          0.11889692585895117,
          0.11093810821331257,
          0.11005291005291004,
          0.10736842105263159,
          0.10280830280830282,
          0.10241083881251245,
          0.10057277628032346,
          0.09739605812113364,
          0.09493340297727866,
          0.09523809523809523,
          0.09361393323657474,
          0.08751182592242195
         ],
         "yaxis": "y"
        },
        {
         "hoverlabel": {
          "namelength": 0
         },
         "hovertemplate": "Country/Region=Moldova<br>MeanGrowth_7d=%{x}<br>DailyGrowth_7d=%{y}",
         "legendgroup": "Moldova",
         "marker": {
          "color": "#00cc96",
          "symbol": "circle"
         },
         "mode": "lines+markers",
         "name": "Moldova",
         "showlegend": true,
         "type": "scattergl",
         "x": [
          0,
          0,
          0,
          0,
          0,
          0,
          0,
          0.0005912924407929543,
          0.0006846544051286839,
          0.000746895714685837,
          0.0008402576790215666,
          0.0010269816076930258,
          0.0012137055363644852,
          0.0014626707745930975,
          0.0017427566676002863
         ],
         "xaxis": "x",
         "y": [
          0,
          0,
          0,
          0,
          0,
          0,
          0,
          0.09547738693467336,
          0.09338280766852196,
          0.09179793590439977,
          0.09060402684563758,
          0.09227033589639821,
          0.09253630530226276,
          0.09278642149929278,
          0.09475465313028765
         ],
         "yaxis": "y"
        },
        {
         "hoverlabel": {
          "namelength": 0
         },
         "hovertemplate": "Country/Region=Monaco<br>MeanGrowth_7d=%{x}<br>DailyGrowth_7d=%{y}",
         "legendgroup": "Monaco",
         "marker": {
          "color": "#ab63fa",
          "symbol": "circle"
         },
         "mode": "lines+markers",
         "name": "Monaco",
         "showlegend": true,
         "type": "scattergl",
         "x": [
          0,
          0,
          0,
          0
         ],
         "xaxis": "x",
         "y": [
          0,
          0,
          0,
          0
         ],
         "yaxis": "y"
        },
        {
         "hoverlabel": {
          "namelength": 0
         },
         "hovertemplate": "Country/Region=Montenegro<br>MeanGrowth_7d=%{x}<br>DailyGrowth_7d=%{y}",
         "legendgroup": "Montenegro",
         "marker": {
          "color": "#FFA15A",
          "symbol": "circle"
         },
         "mode": "lines+markers",
         "name": "Montenegro",
         "showlegend": true,
         "type": "scattergl",
         "x": [
          0,
          0,
          0,
          0.00015560327389288272,
          0.00012448261911430616,
          0.00012448261911430616,
          0.00018672392867145925,
          0.00031120654778576544,
          0.00034232720256434195,
          0.000404568512121495
         ],
         "xaxis": "x",
         "y": [
          0,
          0,
          0,
          0.05442176870748299,
          0.05042016806722689,
          0.04866562009419152,
          0.05897771952817825,
          0.08246225319396051,
          0.0744047619047619,
          0.07553366174055828
         ],
         "yaxis": "y"
        },
        {
         "hoverlabel": {
          "namelength": 0
         },
         "hovertemplate": "Country/Region=Morocco<br>MeanGrowth_7d=%{x}<br>DailyGrowth_7d=%{y}",
         "legendgroup": "Morocco",
         "marker": {
          "color": "#19d3f3",
          "symbol": "circle"
         },
         "mode": "lines+markers",
         "name": "Morocco",
         "showlegend": true,
         "type": "scattergl",
         "x": [
          0,
          0,
          3.112065477857654e-05,
          3.112065477857654e-05,
          9.336196433572963e-05,
          0.00012448261911430616,
          0.00021784458345003579,
          0.0009336196433572963,
          0.0011825848815859086,
          0.0013693088102573678,
          0.00161827404848598,
          0.001836118631936016,
          0.0019917219058288986,
          0.001898359941493169,
          0.0019294805962717456,
          0.0019917219058288986
         ],
         "xaxis": "x",
         "y": [
          0,
          0,
          0.007440476190476191,
          0.007453416149068323,
          0.01998001998001998,
          0.02184873949579832,
          0.03238095238095238,
          0.11012987012987012,
          0.11097308488612836,
          0.10874200426439233,
          0.10855949895615867,
          0.10611510791366907,
          0.10349617967122018,
          0.09370904325032765,
          0.08736884584342211,
          0.08054903377280116
         ],
         "yaxis": "y"
        },
        {
         "hoverlabel": {
          "namelength": 0
         },
         "hovertemplate": "Country/Region=Netherlands<br>MeanGrowth_7d=%{x}<br>DailyGrowth_7d=%{y}",
         "legendgroup": "Netherlands",
         "marker": {
          "color": "#FF6692",
          "symbol": "circle"
         },
         "mode": "lines+markers",
         "name": "Netherlands",
         "showlegend": true,
         "type": "scattergl",
         "x": [
          0,
          0,
          0,
          0,
          0,
          0,
          0,
          0.0018672392867145925,
          0.0030187035135219244,
          0.0034543926804219962,
          0.0038900818473220676,
          0.004854822145457941,
          0.0059129244079295425,
          0.0069087853608439925,
          0.008744903992780008,
          0.009771885600473033,
          0.011919210780194815,
          0.013693088102573678,
          0.014875672984159587,
          0.017209722092552827,
          0.019481529891388915,
          0.02222014751190365,
          0.025083247751532693,
          0.027479538169483085,
          0.029844707932654903,
          0.031369620016805155,
          0.03149410263591946,
          0.032272119005383876,
          0.032552204898391064,
          0.03189867114804096
         ],
         "xaxis": "x",
         "y": [
          0,
          0,
          0,
          0,
          0,
          0,
          0,
          0.11956830445896052,
          0.12017015242821695,
          0.11493911493911493,
          0.10959076073311573,
          0.11047215496368037,
          0.11096267846706187,
          0.10794113563792863,
          0.11372980485262608,
          0.10451453308596165,
          0.10510204081632653,
          0.10430570141264947,
          0.10039582583663188,
          0.09905273937532001,
          0.09719078684595925,
          0.0956653148672431,
          0.09324456045862314,
          0.0898985931066591,
          0.08774016468435498,
          0.08526457041308526,
          0.07992646810046353,
          0.07570510680907877,
          0.07071370609374397,
          0.06477827841837702
         ],
         "yaxis": "y"
        },
        {
         "hoverlabel": {
          "namelength": 0
         },
         "hovertemplate": "Country/Region=New Zealand<br>MeanGrowth_7d=%{x}<br>DailyGrowth_7d=%{y}",
         "legendgroup": "New Zealand",
         "marker": {
          "color": "#B6E880",
          "symbol": "circle"
         },
         "mode": "lines+markers",
         "name": "New Zealand",
         "showlegend": true,
         "type": "scattergl",
         "x": [
          0,
          0,
          0,
          0,
          0,
          0,
          0,
          0.0017738773223788628,
          0.001836118631936016,
          0.002178445834500358,
          0.002178445834500358,
          0.002240687144057511,
          0.0022718077988360874,
          0.0022095664892789343
         ],
         "xaxis": "x",
         "y": [
          0,
          0,
          0,
          0,
          0,
          0,
          0,
          0.12638580931263857,
          0.11450806003335186,
          0.11811787533349502,
          0.10863325237359242,
          0.10149313962873285,
          0.09213120630937444,
          0.08229098090849243
         ],
         "yaxis": "y"
        },
        {
         "hoverlabel": {
          "namelength": 0
         },
         "hovertemplate": "Country/Region=Niger<br>MeanGrowth_7d=%{x}<br>DailyGrowth_7d=%{y}",
         "legendgroup": "Niger",
         "marker": {
          "color": "#FF97FF",
          "symbol": "circle"
         },
         "mode": "lines+markers",
         "name": "Niger",
         "showlegend": true,
         "type": "scattergl",
         "x": [
          0,
          0,
          0
         ],
         "xaxis": "x",
         "y": [
          0,
          0,
          0
         ],
         "yaxis": "y"
        },
        {
         "hoverlabel": {
          "namelength": 0
         },
         "hovertemplate": "Country/Region=Nigeria<br>MeanGrowth_7d=%{x}<br>DailyGrowth_7d=%{y}",
         "legendgroup": "Nigeria",
         "marker": {
          "color": "#FECB52",
          "symbol": "circle"
         },
         "mode": "lines+markers",
         "name": "Nigeria",
         "showlegend": true,
         "type": "scattergl",
         "x": [
          0,
          0,
          0,
          0,
          0.00015560327389288272,
          0.00015560327389288272,
          6.224130955715308e-05,
          0.0005601717860143778,
          0.0005290511312358012,
          0.0006224130955715309
         ],
         "xaxis": "x",
         "y": [
          0,
          0,
          0,
          0,
          0.047619047619047616,
          0.03598691384950927,
          0.015873015873015872,
          0.10098522167487686,
          0.09239130434782608,
          0.09523809523809523
         ],
         "yaxis": "y"
        },
        {
         "hoverlabel": {
          "namelength": 0
         },
         "hovertemplate": "Country/Region=North Macedonia<br>MeanGrowth_7d=%{x}<br>DailyGrowth_7d=%{y}",
         "legendgroup": "North Macedonia",
         "marker": {
          "color": "#636efa",
          "symbol": "circle"
         },
         "mode": "lines+markers",
         "name": "North Macedonia",
         "showlegend": true,
         "type": "scattergl",
         "x": [
          0,
          0,
          0,
          0,
          0,
          0,
          0,
          0.0006846544051286839,
          0.0006846544051286839,
          0.0006535337503501073,
          0.0006535337503501073,
          0.00080913702424299,
          0.0007780163694644136,
          0.00080913702424299,
          0.0009336196433572963
         ],
         "xaxis": "x",
         "y": [
          0,
          0,
          0,
          0.0010504201680672268,
          0,
          0,
          0,
          0.09915198956294848,
          0.0924718435091879,
          0.07942636514065086,
          0.07468671679197994,
          0.07859313938341295,
          0.07142857142857142,
          0.06808035714285714,
          0.07009966777408638
         ],
         "yaxis": "y"
        },
        {
         "hoverlabel": {
          "namelength": 0
         },
         "hovertemplate": "Country/Region=Norway<br>MeanGrowth_7d=%{x}<br>DailyGrowth_7d=%{y}",
         "legendgroup": "Norway",
         "marker": {
          "color": "#EF553B",
          "symbol": "circle"
         },
         "mode": "lines+markers",
         "name": "Norway",
         "showlegend": true,
         "type": "scattergl",
         "x": [
          0,
          0,
          0,
          0,
          0,
          0,
          0,
          0.0023962904179503936,
          0.0027386176205147356,
          0.00395232315687922,
          0.004201288395107833,
          0.004636977562007904,
          0.005010425419350823,
          0.0047303395263436345,
          0.00423240904988641,
          0.004636977562007904,
          0.0040768057759935266,
          0.0045747362524507515,
          0.005166028693243706,
          0.005726200479258084,
          0.006224130955715309,
          0.006815423396508262,
          0.007219991908629758,
          0.00818473220676563,
          0.008433697444994243,
          0.008433697444994243,
          0.008122490897208477,
          0.00790464631375844,
          0.00790464631375844,
          0.00790464631375844,
          0.007188871253851181
         ],
         "xaxis": "x",
         "y": [
          0,
          0,
          0,
          0,
          0,
          0,
          0,
          0.12947921643573818,
          0.12515262515262515,
          0.12736660929432014,
          0.1235910878112713,
          0.12226512226512226,
          0.12088736469831743,
          0.10379845718191583,
          0.08774193548387096,
          0.08541973490427099,
          0.06851768920734438,
          0.06933765007419398,
          0.0697214734950584,
          0.07020221289584128,
          0.069856793573175,
          0.0710579951825088,
          0.06882076071746597,
          0.07003994673768309,
          0.06749688667496886,
          0.06332533013205283,
          0.05862124377309979,
          0.05472958414134885,
          0.05226050938574072,
          0.0493491354186905,
          0.0429635541367385
         ],
         "yaxis": "y"
        },
        {
         "hoverlabel": {
          "namelength": 0
         },
         "hovertemplate": "Country/Region=Oman<br>MeanGrowth_7d=%{x}<br>DailyGrowth_7d=%{y}",
         "legendgroup": "Oman",
         "marker": {
          "color": "#00cc96",
          "symbol": "circle"
         },
         "mode": "lines+markers",
         "name": "Oman",
         "showlegend": true,
         "type": "scattergl",
         "x": [
          0,
          0,
          0,
          0,
          0,
          0,
          0,
          0.00043568916690007157,
          0.0004979304764572246,
          0.0004979304764572246,
          0.00046680982167864813,
          0.0004979304764572246,
          0.0005290511312358012,
          0.0005290511312358012
         ],
         "xaxis": "x",
         "y": [
          0,
          0,
          0,
          0,
          0,
          0,
          0,
          0.09398496240601505,
          0.09580838323353294,
          0.09018355945730247,
          0.08035714285714286,
          0.07551020408163266,
          0.07544836116264687,
          0.06859410430839002
         ],
         "yaxis": "y"
        },
        {
         "hoverlabel": {
          "namelength": 0
         },
         "hovertemplate": "Country/Region=Pakistan<br>MeanGrowth_7d=%{x}<br>DailyGrowth_7d=%{y}",
         "legendgroup": "Pakistan",
         "marker": {
          "color": "#ab63fa",
          "symbol": "circle"
         },
         "mode": "lines+markers",
         "name": "Pakistan",
         "showlegend": true,
         "type": "scattergl",
         "x": [
          0,
          0,
          0.0002489652382286123,
          0.00046680982167864813,
          0.001089222917250179,
          0.0012137055363644852,
          0.002116204524943205,
          0.0032054274421933837,
          0.003298789406529113,
          0.003267668751750537,
          0.003392151370864843,
          0.00332991006130769,
          0.0038900818473220676,
          0.003392151370864843,
          0.003641116609093455,
          0.003734478573429185,
          0.004294650359443562,
          0.004699218871565058,
          0.0054149939314723184,
          0.00585068309837239
         ],
         "xaxis": "x",
         "y": [
          0,
          0,
          0.03450363196125908,
          0.05112279025322504,
          0.07677784770295783,
          0.07698887938408897,
          0.09354207436399219,
          0.133100147275405,
          0.1206530612244898,
          0.10817166372721927,
          0.1026743717242306,
          0.08885452599024622,
          0.09072937259390282,
          0.07310081223124702,
          0.07344127381697826,
          0.07005574507030535,
          0.07120743034055728,
          0.07115877512478079,
          0.07198914262111288,
          0.06983299648973514
         ],
         "yaxis": "y"
        },
        {
         "hoverlabel": {
          "namelength": 0
         },
         "hovertemplate": "Country/Region=Panama<br>MeanGrowth_7d=%{x}<br>DailyGrowth_7d=%{y}",
         "legendgroup": "Panama",
         "marker": {
          "color": "#FFA15A",
          "symbol": "circle"
         },
         "mode": "lines+markers",
         "name": "Panama",
         "showlegend": true,
         "type": "scattergl",
         "x": [
          0,
          0,
          0,
          0,
          0,
          0,
          0,
          0.001275946845921638,
          0.0012137055363644852,
          0.0015871533937074037,
          0.0019917219058288986,
          0.0023962904179503936,
          0.0026141350014004293,
          0.0026141350014004293,
          0.002863100239629042,
          0.0037033579186506083,
          0.003267668751750537,
          0.0033610307160862663,
          0.0035477546447577257
         ],
         "xaxis": "x",
         "y": [
          0,
          0,
          0,
          0,
          0,
          0,
          0,
          0.12008281573498965,
          0.1142857142857143,
          0.11512415349887133,
          0.11495135688684074,
          0.11381941500635862,
          0.1065067248273355,
          0.0932297447280799,
          0.09302325581395349,
          0.10112495463892585,
          0.0892705939276642,
          0.08232997071265864,
          0.07757869249394674
         ],
         "yaxis": "y"
        },
        {
         "hoverlabel": {
          "namelength": 0
         },
         "hovertemplate": "Country/Region=Paraguay<br>MeanGrowth_7d=%{x}<br>DailyGrowth_7d=%{y}",
         "legendgroup": "Paraguay",
         "marker": {
          "color": "#19d3f3",
          "symbol": "circle"
         },
         "mode": "lines+markers",
         "name": "Paraguay",
         "showlegend": true,
         "type": "scattergl",
         "x": [
          0,
          0,
          0,
          0,
          0,
          0,
          0,
          0.00018672392867145925
         ],
         "xaxis": "x",
         "y": [
          0,
          0,
          0,
          0,
          0,
          0,
          0,
          0.062111801242236024
         ],
         "yaxis": "y"
        },
        {
         "hoverlabel": {
          "namelength": 0
         },
         "hovertemplate": "Country/Region=Peru<br>MeanGrowth_7d=%{x}<br>DailyGrowth_7d=%{y}",
         "legendgroup": "Peru",
         "marker": {
          "color": "#FF6692",
          "symbol": "circle"
         },
         "mode": "lines+markers",
         "name": "Peru",
         "showlegend": true,
         "type": "scattergl",
         "x": [
          0.00012448261911430616,
          0.0002489652382286123,
          0.0003734478573429185,
          0.000746895714685837,
          0.000746895714685837,
          0.0010581022624716024,
          0.0012137055363644852,
          0.0013693088102573678,
          0.0013381881554787912,
          0.001493791429371674,
          0.0015249120841502506,
          0.0017738773223788628,
          0.0015560327389288271,
          0.002178445834500358,
          0.0024585317275075467,
          0.002894220894407618,
          0.003734478573429185,
          0.0037033579186506083,
          0.004263529704664986
         ],
         "xaxis": "x",
         "y": [
          0.04983388704318937,
          0.07081807081807083,
          0.07980295566502463,
          0.10317460317460317,
          0.10073260073260074,
          0.1082659478885894,
          0.10665092483274302,
          0.11175406871609404,
          0.10267857142857142,
          0.09970238095238095,
          0.0852216748768473,
          0.09021372328458943,
          0.07515435384287844,
          0.08199195171026158,
          0.08345864661654136,
          0.08705566733735748,
          0.09102688694525429,
          0.08425944635279854,
          0.08598298253470667
         ],
         "yaxis": "y"
        },
        {
         "hoverlabel": {
          "namelength": 0
         },
         "hovertemplate": "Country/Region=Poland<br>MeanGrowth_7d=%{x}<br>DailyGrowth_7d=%{y}",
         "legendgroup": "Poland",
         "marker": {
          "color": "#B6E880",
          "symbol": "circle"
         },
         "mode": "lines+markers",
         "name": "Poland",
         "showlegend": true,
         "type": "scattergl",
         "x": [
          0,
          0,
          0,
          0,
          0,
          0,
          0,
          0.0015871533937074037,
          0.0019294805962717456,
          0.002302928453614664,
          0.002551893691843276,
          0.0029564622039647713,
          0.0035477546447577257,
          0.0038589611925434913,
          0.004294650359443562,
          0.004885942800236517,
          0.005446114586250894,
          0.005819562443593813,
          0.0062552516104938845,
          0.006690940777393957,
          0.007655681075529829,
          0.008869386611894315
         ],
         "xaxis": "x",
         "y": [
          0,
          0,
          0,
          0,
          0,
          0,
          0,
          0.12,
          0.1154051172707889,
          0.11604326273095988,
          0.10909784474537478,
          0.10512129380053907,
          0.1087399755335055,
          0.10132210132210132,
          0.09914635400596525,
          0.09611023896738181,
          0.09421512966088691,
          0.0907890163364616,
          0.08716078382889286,
          0.08406980646604766,
          0.08364853069537387,
          0.084202525231198
         ],
         "yaxis": "y"
        },
        {
         "hoverlabel": {
          "namelength": 0
         },
         "hovertemplate": "Country/Region=Portugal<br>MeanGrowth_7d=%{x}<br>DailyGrowth_7d=%{y}",
         "legendgroup": "Portugal",
         "marker": {
          "color": "#FF97FF",
          "symbol": "circle"
         },
         "mode": "lines+markers",
         "name": "Portugal",
         "showlegend": true,
         "type": "scattergl",
         "x": [
          0,
          0,
          0,
          0,
          0,
          0,
          0,
          0.0017427566676002863,
          0.00323654809697196,
          0.004045685121214951,
          0.00494818410979367,
          0.006037407027043849,
          0.007686801730308406,
          0.008495938754551395,
          0.011327918339401862,
          0.012261537982759156,
          0.014439983817259515,
          0.017303084056888556,
          0.019388167927053186,
          0.019325926617496034,
          0.02259359536924657,
          0.023371611738710982,
          0.02439859334640401,
          0.024989885787196964
         ],
         "xaxis": "x",
         "y": [
          0,
          0,
          0,
          0,
          0,
          0,
          0,
          0.12404336734693877,
          0.13212010919017286,
          0.12717086834733896,
          0.12399553571428572,
          0.12098214285714287,
          0.11990291262135923,
          0.11576146123140196,
          0.12148819461006438,
          0.11121412447597549,
          0.10871602624179943,
          0.10748825642442662,
          0.10451909713902334,
          0.09693240592116996,
          0.09752212049672751,
          0.0910019564728085,
          0.08681488978146051,
          0.08118262477963065
         ],
         "yaxis": "y"
        },
        {
         "hoverlabel": {
          "namelength": 0
         },
         "hovertemplate": "Country/Region=Qatar<br>MeanGrowth_7d=%{x}<br>DailyGrowth_7d=%{y}",
         "legendgroup": "Qatar",
         "marker": {
          "color": "#FECB52",
          "symbol": "circle"
         },
         "mode": "lines+markers",
         "name": "Qatar",
         "showlegend": true,
         "type": "scattergl",
         "x": [
          0,
          0,
          0,
          0,
          0,
          0,
          0,
          0.0008402576790215666,
          0.0008713783338001431,
          0.0006535337503501073,
          0.0006535337503501073,
          0.000404568512121495,
          0.0002800858930071889,
          0.0003734478573429185,
          0.0003734478573429185,
          0.000404568512121495,
          0.000404568512121495,
          0.0004979304764572246,
          0.0006224130955715309,
          0.0008402576790215666,
          0.0011203435720287555,
          0.0013381881554787912,
          0.0017738773223788628,
          0.0022718077988360874
         ],
         "xaxis": "x",
         "y": [
          0,
          0,
          0,
          0,
          0,
          0,
          0,
          0.06005056890012642,
          0.061490683229813665,
          0.04559270516717325,
          0.042768042768042774,
          0.026894158473105844,
          0.017678927858568578,
          0.023628462791960892,
          0.02261239691407289,
          0.023158990372105125,
          0.023385866802236907,
          0.02639225181598063,
          0.031545741324921134,
          0.03957946815089672,
          0.046643497347722704,
          0.050983746792130025,
          0.060213758843895834,
          0.06817275747508306
         ],
         "yaxis": "y"
        },
        {
         "hoverlabel": {
          "namelength": 0
         },
         "hovertemplate": "Country/Region=Romania<br>MeanGrowth_7d=%{x}<br>DailyGrowth_7d=%{y}",
         "legendgroup": "Romania",
         "marker": {
          "color": "#636efa",
          "symbol": "circle"
         },
         "mode": "lines+markers",
         "name": "Romania",
         "showlegend": true,
         "type": "scattergl",
         "x": [
          0,
          0,
          0,
          0,
          0,
          0,
          0,
          0.0009647402981358728,
          0.001089222917250179,
          0.0013381881554787912,
          0.0018672392867145925,
          0.0027074969657361592,
          0.002863100239629042,
          0.00332991006130769,
          0.004388012323779293,
          0.004823701490679364,
          0.006130768991379578,
          0.006815423396508262,
          0.006441975539165344,
          0.0069087853608439925,
          0.007593439765972676,
          0.008402576790215666
         ],
         "xaxis": "x",
         "y": [
          0,
          0,
          0,
          0,
          0,
          0,
          0,
          0.10157699443413729,
          0.09497859089139742,
          0.09963708347080172,
          0.10367063492063493,
          0.1097517092479309,
          0.10186061179438663,
          0.10440094405108982,
          0.1088014153029633,
          0.10674931129476584,
          0.10877607241243605,
          0.10384068278805121,
          0.09233216671969456,
          0.09024390243902439,
          0.08916831889804863,
          0.08487051748126206
         ],
         "yaxis": "y"
        },
        {
         "hoverlabel": {
          "namelength": 0
         },
         "hovertemplate": "Country/Region=Russia<br>MeanGrowth_7d=%{x}<br>DailyGrowth_7d=%{y}",
         "legendgroup": "Russia",
         "marker": {
          "color": "#EF553B",
          "symbol": "circle"
         },
         "mode": "lines+markers",
         "name": "Russia",
         "showlegend": true,
         "type": "scattergl",
         "x": [
          0,
          0,
          0,
          0,
          0,
          0,
          0,
          0.001089222917250179,
          0.0013381881554787912,
          0.0015560327389288271,
          0.0016805153580431332,
          0.0022718077988360874,
          0.002863100239629042,
          0.0034855133352005726,
          0.004263529704664986,
          0.005197149348022283,
          0.006224130955715309,
          0.00818473220676563,
          0.009429558397908691,
          0.012043693399309122,
          0.01384869137646656
         ],
         "xaxis": "x",
         "y": [
          0,
          0,
          0,
          0,
          0,
          0,
          0,
          0.11531279178338001,
          0.11833398209420008,
          0.11350293542074365,
          0.10995670995670996,
          0.11094224924012158,
          0.10901360544217686,
          0.10797021511307225,
          0.10827305605786619,
          0.10867945613708326,
          0.10877684407096172,
          0.11259856959471852,
          0.1090076650033438,
          0.10903527138025446,
          0.10718589677374928
         ],
         "yaxis": "y"
        },
        {
         "hoverlabel": {
          "namelength": 0
         },
         "hovertemplate": "Country/Region=Rwanda<br>MeanGrowth_7d=%{x}<br>DailyGrowth_7d=%{y}",
         "legendgroup": "Rwanda",
         "marker": {
          "color": "#00cc96",
          "symbol": "circle"
         },
         "mode": "lines+markers",
         "name": "Rwanda",
         "showlegend": true,
         "type": "scattergl",
         "x": [
          0,
          0,
          0,
          0,
          0,
          0,
          0,
          0.00015560327389288272
         ],
         "xaxis": "x",
         "y": [
          0,
          0,
          0,
          0,
          0,
          0,
          0,
          0.056179775280898875
         ],
         "yaxis": "y"
        },
        {
         "hoverlabel": {
          "namelength": 0
         },
         "hovertemplate": "Country/Region=San Marino<br>MeanGrowth_7d=%{x}<br>DailyGrowth_7d=%{y}",
         "legendgroup": "San Marino",
         "marker": {
          "color": "#ab63fa",
          "symbol": "circle"
         },
         "mode": "lines+markers",
         "name": "San Marino",
         "showlegend": true,
         "type": "scattergl",
         "x": [
          0,
          0,
          0,
          3.112065477857654e-05,
          0,
          6.224130955715308e-05,
          9.336196433572963e-05,
          0.0002489652382286123,
          0.0002489652382286123,
          0.00021784458345003579,
          0.0002800858930071889,
          0.0002800858930071889,
          0.00034232720256434195,
          0.00034232720256434195,
          0.00034232720256434195,
          0.000404568512121495,
          0.000404568512121495,
          0.00034232720256434195,
          0.00034232720256434195,
          0.00021784458345003579,
          0.00018672392867145925,
          0.00021784458345003579,
          0.00012448261911430616,
          0.00015560327389288272,
          9.336196433572963e-05
         ],
         "xaxis": "x",
         "y": [
          0,
          0,
          0,
          0.008928571428571428,
          0,
          0.024045261669024043,
          0.026212319790301444,
          0.07601572739187419,
          0.06842737094837935,
          0.06002400960384154,
          0.06349206349206349,
          0.06349206349206349,
          0.06040816326530612,
          0.059587471352177235,
          0.059587471352177235,
          0.061126373626373624,
          0.061126373626373624,
          0.05060858424087124,
          0.05102040816326531,
          0.03125,
          0.02670807453416149,
          0.029661016949152543,
          0.01694915254237288,
          0.021574344023323616,
          0.012827988338192419
         ],
         "yaxis": "y"
        },
        {
         "hoverlabel": {
          "namelength": 0
         },
         "hovertemplate": "Country/Region=Saudi Arabia<br>MeanGrowth_7d=%{x}<br>DailyGrowth_7d=%{y}",
         "legendgroup": "Saudi Arabia",
         "marker": {
          "color": "#FFA15A",
          "symbol": "circle"
         },
         "mode": "lines+markers",
         "name": "Saudi Arabia",
         "showlegend": true,
         "type": "scattergl",
         "x": [
          0,
          0,
          0,
          0,
          0,
          0,
          0.00012448261911430616,
          0.001151464226807332,
          0.001275946845921638,
          0.0018049979771574394,
          0.001960601251050322,
          0.002645255656179006,
          0.00323654809697196,
          0.003267668751750537,
          0.003392151370864843,
          0.003609995954314879,
          0.0035166339899791494,
          0.00395232315687922,
          0.0035477546447577257,
          0.003641116609093455,
          0.0038900818473220676,
          0.004170167740329257
         ],
         "xaxis": "x",
         "y": [
          0,
          0,
          0,
          0,
          0,
          0,
          0.015119916579770595,
          0.10714285714285714,
          0.10532069970845481,
          0.11406206318143695,
          0.11286222674123031,
          0.11100763643136524,
          0.11571428571428571,
          0.10417843026538678,
          0.09834368530020704,
          0.0963068519178245,
          0.08666006818431761,
          0.08760200570248747,
          0.072753861621424,
          0.0681063122923588,
          0.06616142478211444,
          0.06550830238912633
         ],
         "yaxis": "y"
        },
        {
         "hoverlabel": {
          "namelength": 0
         },
         "hovertemplate": "Country/Region=Senegal<br>MeanGrowth_7d=%{x}<br>DailyGrowth_7d=%{y}",
         "legendgroup": "Senegal",
         "marker": {
          "color": "#19d3f3",
          "symbol": "circle"
         },
         "mode": "lines+markers",
         "name": "Senegal",
         "showlegend": true,
         "type": "scattergl",
         "x": [
          0,
          0,
          0,
          0,
          0,
          0,
          0,
          0.00034232720256434195,
          0.0003734478573429185,
          0.000404568512121495,
          0.000404568512121495,
          0.000404568512121495,
          0.000404568512121495
         ],
         "xaxis": "x",
         "y": [
          0,
          0,
          0,
          0,
          0,
          0,
          0,
          0.07545271629778671,
          0.07319223985890654,
          0.07265306122448979,
          0.06842105263157895,
          0.06593406593406594,
          0.06073153899240856
         ],
         "yaxis": "y"
        },
        {
         "hoverlabel": {
          "namelength": 0
         },
         "hovertemplate": "Country/Region=Serbia<br>MeanGrowth_7d=%{x}<br>DailyGrowth_7d=%{y}",
         "legendgroup": "Serbia",
         "marker": {
          "color": "#FF6692",
          "symbol": "circle"
         },
         "mode": "lines+markers",
         "name": "Serbia",
         "showlegend": true,
         "type": "scattergl",
         "x": [
          0,
          0,
          0,
          0,
          0,
          0,
          6.224130955715308e-05,
          0.0008713783338001431,
          0.0010581022624716024,
          0.0013381881554787912,
          0.0012448261911430618,
          0.001431550119814521,
          0.002178445834500358,
          0.002302928453614664,
          0.0023962904179503936,
          0.002645255656179006,
          0.0030187035135219244,
          0.0034855133352005726,
          0.004543615597672175
         ],
         "xaxis": "x",
         "y": [
          0,
          0,
          0,
          0,
          0,
          0,
          0.009652509652509652,
          0.11130235226620769,
          0.11221122112211221,
          0.11197916666666667,
          0.10453869047619048,
          0.10065645514223195,
          0.10578799046173856,
          0.10005783689994216,
          0.0975432211101001,
          0.09476190476190477,
          0.09110512129380054,
          0.09601073563498841,
          0.098625629113434
         ],
         "yaxis": "y"
        },
        {
         "hoverlabel": {
          "namelength": 0
         },
         "hovertemplate": "Country/Region=Singapore<br>MeanGrowth_7d=%{x}<br>DailyGrowth_7d=%{y}",
         "legendgroup": "Singapore",
         "marker": {
          "color": "#B6E880",
          "symbol": "circle"
         },
         "mode": "lines+markers",
         "name": "Singapore",
         "showlegend": true,
         "type": "scattergl",
         "x": [
          0,
          0,
          0,
          0,
          0,
          0,
          0,
          0.00012448261911430616,
          9.336196433572963e-05,
          6.224130955715308e-05,
          6.224130955715308e-05,
          6.224130955715308e-05,
          3.112065477857654e-05,
          3.112065477857654e-05,
          3.112065477857654e-05,
          3.112065477857654e-05,
          6.224130955715308e-05,
          6.224130955715308e-05,
          9.336196433572963e-05,
          9.336196433572963e-05,
          6.224130955715308e-05,
          9.336196433572963e-05,
          0.00015560327389288272,
          0.00015560327389288272,
          0.00018672392867145925,
          0.00018672392867145925,
          0.00021784458345003579,
          0.00031120654778576544,
          0.0002800858930071889,
          0.00031120654778576544,
          0.00034232720256434195,
          0.00034232720256434195,
          0.000404568512121495,
          0.00046680982167864813,
          0.0005912924407929543,
          0.000746895714685837,
          0.00080913702424299,
          0.0009647402981358728,
          0.0010269816076930258,
          0.0011825848815859086,
          0.0013070675007002147,
          0.0014004294650359443,
          0.001493791429371674,
          0.0015560327389288271,
          0.0016493947032645566,
          0.0017427566676002863,
          0.0016493947032645566,
          0.0016493947032645566,
          0.0016493947032645566,
          0.00161827404848598,
          0.0017116360128217097
         ],
         "xaxis": "x",
         "y": [
          0,
          0,
          0,
          0,
          0,
          0,
          0,
          0.04421768707482993,
          0.030252100840336138,
          0.02184873949579832,
          0.02247191011235955,
          0.019261637239165328,
          0.015698587127158554,
          0.013824884792626729,
          0.013824884792626729,
          0.01228878648233487,
          0.023809523809523808,
          0.022911051212938002,
          0.025132275132275134,
          0.024675324675324677,
          0.022077922077922075,
          0.029304029304029304,
          0.04065934065934066,
          0.037267080745341616,
          0.0419047619047619,
          0.04,
          0.044642857142857144,
          0.05457463884430176,
          0.048956661316211875,
          0.05,
          0.04986522911051213,
          0.04804045512010114,
          0.05467372134038801,
          0.05692803437164339,
          0.061615700593336376,
          0.06915113871635611,
          0.06864564007421149,
          0.07275132275132275,
          0.07189952904238618,
          0.07465618860510806,
          0.07475678443420379,
          0.07199456644781527,
          0.07069650700690232,
          0.06772053083528493,
          0.06590666191663698,
          0.06584292484766419,
          0.0601332683243946,
          0.05677260104905893,
          0.052714285714285714,
          0.049843388260928774,
          0.048986919723005895
         ],
         "yaxis": "y"
        },
        {
         "hoverlabel": {
          "namelength": 0
         },
         "hovertemplate": "Country/Region=Slovakia<br>MeanGrowth_7d=%{x}<br>DailyGrowth_7d=%{y}",
         "legendgroup": "Slovakia",
         "marker": {
          "color": "#FF97FF",
          "symbol": "circle"
         },
         "mode": "lines+markers",
         "name": "Slovakia",
         "showlegend": true,
         "type": "scattergl",
         "x": [
          0,
          0,
          0,
          0,
          0,
          0,
          0,
          0.0005912924407929543,
          0.0005601717860143778,
          0.0005912924407929543,
          0.0004979304764572246,
          0.00046680982167864813,
          0.0005912924407929543,
          0.0004979304764572246,
          0.0005601717860143778,
          0.0006535337503501073,
          0.0007157750599072605,
          0.00080913702424299,
          0.0009024989885787197,
          0.00080913702424299
         ],
         "xaxis": "x",
         "y": [
          0,
          0,
          0,
          0,
          0,
          0,
          0,
          0.10115830115830117,
          0.09447004608294932,
          0.09243697478991597,
          0.07341269841269842,
          0.06510745891276865,
          0.07010090281465746,
          0.05577299412915851,
          0.05868971792538671,
          0.06377551020408163,
          0.06257378984651712,
          0.06571428571428571,
          0.0670690811535882,
          0.05746031746031746
         ],
         "yaxis": "y"
        },
        {
         "hoverlabel": {
          "namelength": 0
         },
         "hovertemplate": "Country/Region=Slovenia<br>MeanGrowth_7d=%{x}<br>DailyGrowth_7d=%{y}",
         "legendgroup": "Slovenia",
         "marker": {
          "color": "#FECB52",
          "symbol": "circle"
         },
         "mode": "lines+markers",
         "name": "Slovenia",
         "showlegend": true,
         "type": "scattergl",
         "x": [
          0,
          0,
          0,
          0,
          0,
          0,
          0,
          0.0009647402981358728,
          0.0008713783338001431,
          0.0009024989885787197,
          0.0009024989885787197,
          0.0008713783338001431,
          0.0008402576790215666,
          0.0009024989885787197,
          0.0011203435720287555,
          0.0012137055363644852,
          0.0013070675007002147,
          0.0013381881554787912,
          0.0014004294650359443,
          0.0014004294650359443,
          0.001431550119814521,
          0.0014004294650359443,
          0.001493791429371674,
          0.0013381881554787912
         ],
         "xaxis": "x",
         "y": [
          0,
          0,
          0,
          0,
          0,
          0,
          0,
          0.11324675324675325,
          0.0984015984015984,
          0.08378718056137412,
          0.07534502051473331,
          0.06728778467908902,
          0.06108597285067873,
          0.06101190476190476,
          0.06845238095238096,
          0.07015760040671074,
          0.06577757685352621,
          0.06286549707602339,
          0.06183953033268102,
          0.05933484504913076,
          0.057356608478802994,
          0.053167997282147106,
          0.05335244465679248,
          0.04619149587029673
         ],
         "yaxis": "y"
        },
        {
         "hoverlabel": {
          "namelength": 0
         },
         "hovertemplate": "Country/Region=South Africa<br>MeanGrowth_7d=%{x}<br>DailyGrowth_7d=%{y}",
         "legendgroup": "South Africa",
         "marker": {
          "color": "#636efa",
          "symbol": "circle"
         },
         "mode": "lines+markers",
         "name": "South Africa",
         "showlegend": true,
         "type": "scattergl",
         "x": [
          0,
          0,
          0,
          0,
          0,
          0,
          0,
          0.0009958609529144493,
          0.0015249120841502506,
          0.002178445834500358,
          0.002645255656179006,
          0.0034543926804219962,
          0.004294650359443562,
          0.004201288395107833,
          0.004481374288115022,
          0.004107926430772103,
          0.0035477546447577257,
          0.002987582858743348,
          0.0023651697631718173,
          0.001493791429371674
         ],
         "xaxis": "x",
         "y": [
          0,
          0,
          0,
          0,
          0,
          0,
          0,
          0.11626694473409802,
          0.12082444918265814,
          0.12686952037132543,
          0.11948418295385854,
          0.11974110032362459,
          0.11819291819291819,
          0.11397280057768684,
          0.11227678571428572,
          0.09954751131221719,
          0.08436279167986485,
          0.06946169772256729,
          0.052276724643345714,
          0.03179876601803512
         ],
         "yaxis": "y"
        },
        {
         "hoverlabel": {
          "namelength": 0
         },
         "hovertemplate": "Country/Region=Spain<br>MeanGrowth_7d=%{x}<br>DailyGrowth_7d=%{y}",
         "legendgroup": "Spain",
         "marker": {
          "color": "#EF553B",
          "symbol": "circle"
         },
         "mode": "lines+markers",
         "name": "Spain",
         "showlegend": true,
         "type": "scattergl",
         "x": [
          0,
          0,
          0,
          0,
          0,
          0,
          0,
          0.0026141350014004293,
          0.00423240904988641,
          0.006815423396508262,
          0.009149472504901503,
          0.008962748576230044,
          0.021473251797217815,
          0.026203591323561447,
          0.03168082656459092,
          0.03942986960445648,
          0.044689260262035915,
          0.05172252824199421,
          0.06974138735879003,
          0.06746957955995395,
          0.08439921575949957,
          0.09323748171661532,
          0.11200323654809698,
          0.1251050322098777,
          0.1582796502038403,
          0.17704540503532196,
          0.20144399838172594,
          0.2127719167211278,
          0.22827000280085893,
          0.23483646095913857,
          0.2491208415025052,
          0.24274110727289702,
          0.2413095571530825,
          0.23776180250832477
         ],
         "xaxis": "x",
         "y": [
          0,
          0,
          0,
          0,
          0,
          0,
          0,
          0.12502653364466143,
          0.12688057515643722,
          0.12895069532237674,
          0.12892904197252023,
          0.12660769182508314,
          0.13193534294451725,
          0.13168071171513512,
          0.13052797420584034,
          0.12743914705290685,
          0.1222457317962936,
          0.11947211666837836,
          0.12474849094567403,
          0.10623643872051515,
          0.10687542929207625,
          0.10413356109963452,
          0.10243462138953943,
          0.10077902541234621,
          0.10272500396705184,
          0.0984494514242204,
          0.0984907604454463,
          0.09336090276897269,
          0.09155625300925513,
          0.08578964807078863,
          0.08345682027697811,
          0.07491911649694166,
          0.06919326156376082,
          0.06409449743705904
         ],
         "yaxis": "y"
        },
        {
         "hoverlabel": {
          "namelength": 0
         },
         "hovertemplate": "Country/Region=Sri Lanka<br>MeanGrowth_7d=%{x}<br>DailyGrowth_7d=%{y}",
         "legendgroup": "Sri Lanka",
         "marker": {
          "color": "#00cc96",
          "symbol": "circle"
         },
         "mode": "lines+markers",
         "name": "Sri Lanka",
         "showlegend": true,
         "type": "scattergl",
         "x": [
          0,
          0,
          0,
          0,
          0,
          0,
          0,
          0.00021784458345003579,
          0.00021784458345003579,
          0.00015560327389288272,
          0.00015560327389288272,
          0.00015560327389288272,
          0.00012448261911430616,
          0.00018672392867145925,
          0.00018672392867145925,
          0.00018672392867145925,
          0.0002489652382286123
         ],
         "xaxis": "x",
         "y": [
          0,
          0,
          0,
          0,
          0,
          0,
          0,
          0.07142857142857142,
          0.06199460916442048,
          0.0444743935309973,
          0.045512010113780026,
          0.042735042735042736,
          0.02927400468384075,
          0.04095904095904095,
          0.043052837573385516,
          0.04257332071901609,
          0.047619047619047616
         ],
         "yaxis": "y"
        },
        {
         "hoverlabel": {
          "namelength": 0
         },
         "hovertemplate": "Country/Region=Sweden<br>MeanGrowth_7d=%{x}<br>DailyGrowth_7d=%{y}",
         "legendgroup": "Sweden",
         "marker": {
          "color": "#ab63fa",
          "symbol": "circle"
         },
         "mode": "lines+markers",
         "name": "Sweden",
         "showlegend": true,
         "type": "scattergl",
         "x": [
          0,
          0,
          0.00018672392867145925,
          0.0002800858930071889,
          0.00046680982167864813,
          0.0009024989885787197,
          0.0015249120841502506,
          0.002240687144057511,
          0.0031743067874148074,
          0.0035477546447577257,
          0.003641116609093455,
          0.003796719882986338,
          0.0037033579186506083,
          0.0034543926804219962,
          0.003734478573429185,
          0.003672237263872032,
          0.003578875299536302,
          0.004045685121214951,
          0.004201288395107833,
          0.004885942800236517,
          0.005539476550586625,
          0.006224130955715309,
          0.006348613574829615,
          0.007500077801636946,
          0.007842405004201289,
          0.008807145302337161,
          0.009554041017022999,
          0.010767746553387483,
          0.012137055363644851,
          0.013599726138237948
         ],
         "xaxis": "x",
         "y": [
          0,
          0,
          0.03460514640638864,
          0.0422237860661506,
          0.0587557603686636,
          0.08209255533199195,
          0.09742857142857143,
          0.12043882661578821,
          0.12513162513162512,
          0.11892374015162778,
          0.11448140900195694,
          0.11073695117212796,
          0.10024009603841537,
          0.08700994080196582,
          0.08339124391938846,
          0.07190795781399809,
          0.06498662993274451,
          0.06736593292953169,
          0.06584275939114649,
          0.06849143857017874,
          0.07052369641443275,
          0.07047283702213279,
          0.06656426011264721,
          0.06979153715446144,
          0.06818532818532819,
          0.07029365867498936,
          0.06922209695603157,
          0.06991250108290739,
          0.06999178981937602,
          0.07134701866393271
         ],
         "yaxis": "y"
        },
        {
         "hoverlabel": {
          "namelength": 0
         },
         "hovertemplate": "Country/Region=Switzerland<br>MeanGrowth_7d=%{x}<br>DailyGrowth_7d=%{y}",
         "legendgroup": "Switzerland",
         "marker": {
          "color": "#FFA15A",
          "symbol": "circle"
         },
         "mode": "lines+markers",
         "name": "Switzerland",
         "showlegend": true,
         "type": "scattergl",
         "x": [
          0,
          0,
          0,
          0,
          0,
          0,
          0,
          0.0019294805962717456,
          0.0024896523822861235,
          0.0023962904179503936,
          0.004107926430772103,
          0.004854822145457941,
          0.00827809417110136,
          0.008122490897208477,
          0.009834126910030187,
          0.010549901969937447,
          0.015218000186723929,
          0.018485668938474465,
          0.023184887810039523,
          0.023433853048268137,
          0.0293156568014191,
          0.03189867114804096,
          0.03497961597112003,
          0.03438832353032708,
          0.033952634363427006,
          0.033361341922634055,
          0.03270780817228394,
          0.03168082656459092,
          0.029906949242212055,
          0.030560482992562164,
          0.031182896088133693,
          0.02968910465876202
         ],
         "xaxis": "x",
         "y": [
          0,
          0,
          0,
          0,
          0,
          0,
          0,
          0.1265638638347396,
          0.1231375985977213,
          0.11787905346187555,
          0.11601655587608177,
          0.11468516766530013,
          0.12097402597402598,
          0.11857142857142856,
          0.11687830687830687,
          0.11209662200415173,
          0.12,
          0.11212153920880781,
          0.11332971211298207,
          0.1008066057571008,
          0.10712255339884674,
          0.10380537757271582,
          0.10316076508606563,
          0.09356894904265999,
          0.08435731966053749,
          0.07612755247026347,
          0.07085537026868202,
          0.06394566368187772,
          0.05788273755753431,
          0.055243776934456805,
          0.053236613070893626,
          0.04865857390594716
         ],
         "yaxis": "y"
        },
        {
         "hoverlabel": {
          "namelength": 0
         },
         "hovertemplate": "Country/Region=Taiwan*<br>MeanGrowth_7d=%{x}<br>DailyGrowth_7d=%{y}",
         "legendgroup": "Taiwan*",
         "marker": {
          "color": "#19d3f3",
          "symbol": "circle"
         },
         "mode": "lines+markers",
         "name": "Taiwan*",
         "showlegend": true,
         "type": "scattergl",
         "x": [
          0,
          0,
          0,
          0,
          0,
          0,
          0,
          0.00043568916690007157,
          0.0004979304764572246,
          0.0005601717860143778,
          0.0006224130955715309,
          0.0005912924407929543,
          0.0006535337503501073,
          0.0005912924407929543,
          0.0005912924407929543,
          0.0005601717860143778,
          0.0004979304764572246,
          0.00046680982167864813,
          0.000404568512121495,
          0.0003734478573429185,
          0.0003734478573429185
         ],
         "xaxis": "x",
         "y": [
          0,
          0,
          0,
          0,
          0,
          0,
          0,
          0.09337068160597572,
          0.09298393913778528,
          0.09377289377289377,
          0.09169435215946845,
          0.08206686930091185,
          0.0816326530612245,
          0.07062600321027288,
          0.06562342251388188,
          0.06184084372003835,
          0.05182072829131653,
          0.04747116237799468,
          0.04081632653061225,
          0.03666245259165613,
          0.0332512315270936
         ],
         "yaxis": "y"
        },
        {
         "hoverlabel": {
          "namelength": 0
         },
         "hovertemplate": "Country/Region=Thailand<br>MeanGrowth_7d=%{x}<br>DailyGrowth_7d=%{y}",
         "legendgroup": "Thailand",
         "marker": {
          "color": "#FF6692",
          "symbol": "circle"
         },
         "mode": "lines+markers",
         "name": "Thailand",
         "showlegend": true,
         "type": "scattergl",
         "x": [
          0,
          0,
          0,
          0,
          0,
          0,
          0,
          0.0005601717860143778,
          0.0006846544051286839,
          0.0009024989885787197,
          0.001089222917250179,
          0.0014626707745930975,
          0.002147325179721781,
          0.002551893691843276,
          0.002894220894407618,
          0.0032054274421933837,
          0.0034232720256434195,
          0.003609995954314879,
          0.0037033579186506083,
          0.0035166339899791494,
          0.003578875299536302,
          0.003672237263872032,
          0.003734478573429185,
          0.0037033579186506083,
          0.003734478573429185
         ],
         "xaxis": "x",
         "y": [
          0,
          0,
          0,
          0,
          0,
          0,
          0,
          0.10008071025020178,
          0.10309973045822103,
          0.10609243697478991,
          0.10958296362023069,
          0.11435523114355231,
          0.11566897209635107,
          0.11373092926490985,
          0.11228191397477975,
          0.11043132456408687,
          0.10567327409432672,
          0.10236418511066399,
          0.09569707401032702,
          0.08120625771922602,
          0.07527184101987251,
          0.07129877996019728,
          0.06751633459707994,
          0.06323809523809523,
          0.060811786797631086
         ],
         "yaxis": "y"
        },
        {
         "hoverlabel": {
          "namelength": 0
         },
         "hovertemplate": "Country/Region=Trinidad and Tobago<br>MeanGrowth_7d=%{x}<br>DailyGrowth_7d=%{y}",
         "legendgroup": "Trinidad and Tobago",
         "marker": {
          "color": "#B6E880",
          "symbol": "circle"
         },
         "mode": "lines+markers",
         "name": "Trinidad and Tobago",
         "showlegend": true,
         "type": "scattergl",
         "x": [
          0,
          0,
          0,
          0,
          0,
          0,
          0,
          0.00012448261911430616,
          0.00012448261911430616,
          0.00012448261911430616,
          0.00012448261911430616,
          0.00015560327389288272
         ],
         "xaxis": "x",
         "y": [
          0,
          0,
          0,
          0,
          0,
          0,
          0,
          0.05400696864111498,
          0.04926108374384236,
          0.047619047619047616,
          0.04407294832826748,
          0.04664723032069971
         ],
         "yaxis": "y"
        },
        {
         "hoverlabel": {
          "namelength": 0
         },
         "hovertemplate": "Country/Region=Tunisia<br>MeanGrowth_7d=%{x}<br>DailyGrowth_7d=%{y}",
         "legendgroup": "Tunisia",
         "marker": {
          "color": "#FF97FF",
          "symbol": "circle"
         },
         "mode": "lines+markers",
         "name": "Tunisia",
         "showlegend": true,
         "type": "scattergl",
         "x": [
          0,
          0,
          0,
          0,
          9.336196433572963e-05,
          0.00034232720256434195,
          0.00043568916690007157,
          0.0007780163694644136,
          0.0009647402981358728,
          0.0010581022624716024,
          0.0009958609529144493,
          0.0012448261911430618,
          0.0011203435720287555,
          0.001151464226807332,
          0.0011825848815859086
         ],
         "xaxis": "x",
         "y": [
          0,
          0,
          0,
          0.0032102728731942215,
          0.03007518796992481,
          0.06523534269199009,
          0.07179115300942712,
          0.10887350534927628,
          0.11202466598150052,
          0.1085164835164835,
          0.1021062271062271,
          0.10152284263959391,
          0.08443093549476528,
          0.08100470957613815,
          0.07734487734487734
         ],
         "yaxis": "y"
        },
        {
         "hoverlabel": {
          "namelength": 0
         },
         "hovertemplate": "Country/Region=Turkey<br>MeanGrowth_7d=%{x}<br>DailyGrowth_7d=%{y}",
         "legendgroup": "Turkey",
         "marker": {
          "color": "#FECB52",
          "symbol": "circle"
         },
         "mode": "lines+markers",
         "name": "Turkey",
         "showlegend": true,
         "type": "scattergl",
         "x": [
          0,
          0,
          0.00021784458345003579,
          0.0012137055363644852,
          0.003609995954314879,
          0.0047614601811222105,
          0.006130768991379578,
          0.010394298696044565,
          0.015280241496281082,
          0.0237450595960539,
          0.029938069896990632,
          0.03547754644757726,
          0.04132822954594965,
          0.05184701086110852,
          0.058880278841066815,
          0.06448199670121059,
          0.06768742414340398
         ],
         "xaxis": "x",
         "y": [
          0,
          0,
          0.01870274572224433,
          0.05884861407249467,
          0.09396671289875173,
          0.10034569746799962,
          0.10508241758241758,
          0.13710292995126533,
          0.13529898043538166,
          0.13385649099934813,
          0.12992627475199753,
          0.12369999535020691,
          0.1226827112113895,
          0.12309300336792763,
          0.12068918389474546,
          0.11426995943124975,
          0.10394886887406365
         ],
         "yaxis": "y"
        },
        {
         "hoverlabel": {
          "namelength": 0
         },
         "hovertemplate": "Country/Region=US<br>MeanGrowth_7d=%{x}<br>DailyGrowth_7d=%{y}",
         "legendgroup": "US",
         "marker": {
          "color": "#636efa",
          "symbol": "circle"
         },
         "mode": "lines+markers",
         "name": "US",
         "showlegend": true,
         "type": "scattergl",
         "x": [
          0,
          0,
          0,
          0,
          0,
          0,
          0,
          0.00021784458345003579,
          0.00031120654778576544,
          0.000404568512121495,
          0.0007157750599072605,
          0.0009024989885787197,
          0.001493791429371674,
          0.001960601251050322,
          0.002147325179721781,
          0.003734478573429185,
          0.0050415460741294,
          0.006441975539165344,
          0.008527059409329973,
          0.010332057386487412,
          0.013257398935673606,
          0.01798773846201724,
          0.024274110727289702,
          0.028911088289297608,
          0.05340304360003734,
          0.0752186225998195,
          0.1012043693399309,
          0.13238726542806462,
          0.1743379080695858,
          0.2103756263031774,
          0.2578346248405066,
          0.3119223228456727,
          0.3670370024585317,
          0.4267575389786201,
          0.4784178259110572,
          0.5244141536737933,
          0.5976721750225624,
          0.6561790060062864,
          0.7096131702611023,
          0.7732549092832913
         ],
         "xaxis": "x",
         "y": [
          0,
          0,
          0,
          0,
          0,
          0,
          0,
          0.06851311953352769,
          0.0811138014527845,
          0.08820709491850431,
          0.10467412771560237,
          0.11014176663031625,
          0.11869225302061123,
          0.12244897959183673,
          0.11884342073021319,
          0.1252793088038135,
          0.12624066019850563,
          0.12421613263465339,
          0.12568019406018488,
          0.1217978940751218,
          0.12170824317151839,
          0.1248766345916605,
          0.12152090239615548,
          0.11934435858372644,
          0.12548700111762187,
          0.12655946148092745,
          0.12757323887615385,
          0.12783559150309962,
          0.1277657047721134,
          0.12578818650645968,
          0.12595396637173523,
          0.11955143715962457,
          0.11601618327175839,
          0.11288228556375876,
          0.10911557672768865,
          0.10414523828653008,
          0.10205860291951739,
          0.09881735721114833,
          0.09366254912212449,
          0.0901606032236761
         ],
         "yaxis": "y"
        },
        {
         "hoverlabel": {
          "namelength": 0
         },
         "hovertemplate": "Country/Region=Ukraine<br>MeanGrowth_7d=%{x}<br>DailyGrowth_7d=%{y}",
         "legendgroup": "Ukraine",
         "marker": {
          "color": "#EF553B",
          "symbol": "circle"
         },
         "mode": "lines+markers",
         "name": "Ukraine",
         "showlegend": true,
         "type": "scattergl",
         "x": [
          0,
          0,
          0,
          0,
          0,
          0,
          0,
          0.0017738773223788628,
          0.002116204524943205,
          0.0024274110727289704,
          0.002894220894407618,
          0.0031120654778576543,
          0.003392151370864843
         ],
         "xaxis": "x",
         "y": [
          0,
          0,
          0,
          0,
          0,
          0,
          0,
          0.12090225563909775,
          0.12382690302398332,
          0.1213732004429679,
          0.11676862180640517,
          0.11164198120719859,
          0.10154584221748401
         ],
         "yaxis": "y"
        },
        {
         "hoverlabel": {
          "namelength": 0
         },
         "hovertemplate": "Country/Region=United Arab Emirates<br>MeanGrowth_7d=%{x}<br>DailyGrowth_7d=%{y}",
         "legendgroup": "United Arab Emirates",
         "marker": {
          "color": "#00cc96",
          "symbol": "circle"
         },
         "mode": "lines+markers",
         "name": "United Arab Emirates",
         "showlegend": true,
         "type": "scattergl",
         "x": [
          0,
          0,
          0,
          0,
          0,
          0,
          0,
          9.336196433572963e-05,
          0.00018672392867145925,
          0.0002489652382286123,
          0.0002489652382286123,
          0.00031120654778576544,
          0.0002489652382286123,
          0.00043568916690007157,
          0.0006535337503501073,
          0.0009647402981358728,
          0.0008713783338001431,
          0.0011825848815859086,
          0.0014004294650359443,
          0.0018672392867145925,
          0.001836118631936016,
          0.001836118631936016,
          0.002147325179721781,
          0.0030809448230790775,
          0.0038278405377649145
         ],
         "xaxis": "x",
         "y": [
          0,
          0,
          0,
          0,
          0,
          0,
          0,
          0.03498542274052478,
          0.04930467762326169,
          0.05612244897959184,
          0.05612244897959184,
          0.06349206349206349,
          0.051353874883286646,
          0.07215007215007216,
          0.08640552995391705,
          0.09438009438009437,
          0.0827970827970828,
          0.09347442680776014,
          0.09615384615384616,
          0.10451127819548872,
          0.09656301145662848,
          0.08950086058519793,
          0.0844155844155844,
          0.09640066964285714,
          0.09708408679927667
         ],
         "yaxis": "y"
        },
        {
         "hoverlabel": {
          "namelength": 0
         },
         "hovertemplate": "Country/Region=United Kingdom<br>MeanGrowth_7d=%{x}<br>DailyGrowth_7d=%{y}",
         "legendgroup": "United Kingdom",
         "marker": {
          "color": "#ab63fa",
          "symbol": "circle"
         },
         "mode": "lines+markers",
         "name": "United Kingdom",
         "showlegend": true,
         "type": "scattergl",
         "x": [
          0,
          0,
          0,
          0,
          0,
          0,
          0,
          0.001493791429371674,
          0.0016493947032645566,
          0.0015249120841502506,
          0.0028319795848504655,
          0.004170167740329257,
          0.0038589611925434913,
          0.005477235241029471,
          0.007002147325179722,
          0.009709644290915882,
          0.010020850838701646,
          0.014284380543366632,
          0.017427566676002863,
          0.020446270189524787,
          0.022998163881368064,
          0.027572900133818815,
          0.03112065477857654,
          0.04042573055737093,
          0.04770796377555784,
          0.05443002520773037,
          0.06239691283104597,
          0.06992811128746149,
          0.07699249992219837,
          0.08990757165530763,
          0.09939937136277348,
          0.10646375999751034
         ],
         "xaxis": "x",
         "y": [
          0,
          0,
          0,
          0,
          0,
          0,
          0,
          0.12388392857142856,
          0.11609088079676315,
          0.10675381263616558,
          0.11364446027787674,
          0.11700799200799201,
          0.10867124142233313,
          0.11319885787970894,
          0.11486880466472303,
          0.11803828268627663,
          0.11871449610772145,
          0.11431418606306498,
          0.11060362570131664,
          0.1143851796593311,
          0.10991461705110234,
          0.10856022957933786,
          0.10370480142264374,
          0.1100091916211117,
          0.10396744659206511,
          0.10104469236862952,
          0.10136501516683519,
          0.100062988719293,
          0.09708634444712307,
          0.09674487575040061,
          0.09347814272755016,
          0.08841198864202819
         ],
         "yaxis": "y"
        },
        {
         "hoverlabel": {
          "namelength": 0
         },
         "hovertemplate": "Country/Region=Uruguay<br>MeanGrowth_7d=%{x}<br>DailyGrowth_7d=%{y}",
         "legendgroup": "Uruguay",
         "marker": {
          "color": "#FFA15A",
          "symbol": "circle"
         },
         "mode": "lines+markers",
         "name": "Uruguay",
         "showlegend": true,
         "type": "scattergl",
         "x": [
          0,
          0,
          0,
          0,
          0,
          0,
          0,
          0.0006224130955715309,
          0.0006535337503501073,
          0.0007157750599072605,
          0.0006535337503501073,
          0.0006535337503501073,
          0.0007780163694644136,
          0.0006535337503501073,
          0.0005912924407929543,
          0.0005912924407929543
         ],
         "xaxis": "x",
         "y": [
          0,
          0,
          0,
          0,
          0,
          0,
          0,
          0.09084924292297565,
          0.08643457382953182,
          0.08550573514077163,
          0.06860902255639098,
          0.06820276497695853,
          0.07438715131022823,
          0.06297548605240913,
          0.054285714285714284,
          0.05071622144792877
         ],
         "yaxis": "y"
        },
        {
         "hoverlabel": {
          "namelength": 0
         },
         "hovertemplate": "Country/Region=Uzbekistan<br>MeanGrowth_7d=%{x}<br>DailyGrowth_7d=%{y}",
         "legendgroup": "Uzbekistan",
         "marker": {
          "color": "#19d3f3",
          "symbol": "circle"
         },
         "mode": "lines+markers",
         "name": "Uzbekistan",
         "showlegend": true,
         "type": "scattergl",
         "x": [
          0,
          0,
          0,
          0,
          0,
          0,
          0,
          0.0005290511312358012,
          0.0005912924407929543,
          0.0006224130955715309
         ],
         "xaxis": "x",
         "y": [
          0,
          0,
          0,
          0,
          0,
          0,
          0,
          0.09550118389897395,
          0.09059233449477352,
          0.08747640025173065
         ],
         "yaxis": "y"
        },
        {
         "hoverlabel": {
          "namelength": 0
         },
         "hovertemplate": "Country/Region=Venezuela<br>MeanGrowth_7d=%{x}<br>DailyGrowth_7d=%{y}",
         "legendgroup": "Venezuela",
         "marker": {
          "color": "#FF6692",
          "symbol": "circle"
         },
         "mode": "lines+markers",
         "name": "Venezuela",
         "showlegend": true,
         "type": "scattergl",
         "x": [
          0,
          0,
          0,
          0,
          0,
          0,
          0,
          0.00021784458345003579,
          0.00021784458345003579,
          0.0002489652382286123,
          0.00021784458345003579,
          0.00021784458345003579,
          0.00018672392867145925,
          0.00021784458345003579
         ],
         "xaxis": "x",
         "y": [
          0,
          0,
          0,
          0,
          0,
          0,
          0,
          0.058823529411764705,
          0.058823529411764705,
          0.06137566137566138,
          0.053968253968253964,
          0.05194805194805195,
          0.03816046966731898,
          0.04295051353874883
         ],
         "yaxis": "y"
        },
        {
         "hoverlabel": {
          "namelength": 0
         },
         "hovertemplate": "Country/Region=Vietnam<br>MeanGrowth_7d=%{x}<br>DailyGrowth_7d=%{y}",
         "legendgroup": "Vietnam",
         "marker": {
          "color": "#B6E880",
          "symbol": "circle"
         },
         "mode": "lines+markers",
         "name": "Vietnam",
         "showlegend": true,
         "type": "scattergl",
         "x": [
          0,
          0,
          0,
          0,
          0,
          0,
          0,
          0.00018672392867145925,
          0.0002489652382286123,
          0.0002800858930071889,
          0.00031120654778576544,
          0.0002800858930071889,
          0.00031120654778576544,
          0.00031120654778576544,
          0.00034232720256434195,
          0.00034232720256434195,
          0.00034232720256434195,
          0.00034232720256434195,
          0.00034232720256434195,
          0.00034232720256434195,
          0.00034232720256434195
         ],
         "xaxis": "x",
         "y": [
          0,
          0,
          0,
          0,
          0,
          0,
          0,
          0.06231003039513677,
          0.0720606826801517,
          0.07200929152148665,
          0.07249466950959488,
          0.0668693009118541,
          0.06349206349206349,
          0.063102541630149,
          0.06568144499178982,
          0.05699088145896656,
          0.056298381421534135,
          0.05256064690026954,
          0.05045871559633028,
          0.049049662783568364,
          0.04460518384569017
         ],
         "yaxis": "y"
        },
        {
         "hoverlabel": {
          "namelength": 0
         },
         "hovertemplate": "Country/Region=West Bank and Gaza<br>MeanGrowth_7d=%{x}<br>DailyGrowth_7d=%{y}",
         "legendgroup": "West Bank and Gaza",
         "marker": {
          "color": "#FF97FF",
          "symbol": "circle"
         },
         "mode": "lines+markers",
         "name": "West Bank and Gaza",
         "showlegend": true,
         "type": "scattergl",
         "x": [
          0,
          0,
          0,
          0,
          0,
          0,
          0,
          0.0002489652382286123,
          0.0002489652382286123,
          0.0002800858930071889,
          0.00034232720256434195,
          0.00034232720256434195,
          0.00046680982167864813
         ],
         "xaxis": "x",
         "y": [
          0,
          0,
          0,
          0,
          0,
          0,
          0,
          0.07470511140235911,
          0.07019704433497537,
          0.07202881152460984,
          0.07995735607675905,
          0.06832298136645963,
          0.07584683357879234
         ],
         "yaxis": "y"
        }
       ],
       "layout": {
        "legend": {
         "title": {
          "text": "Country/Region"
         },
         "tracegroupgap": 0
        },
        "template": {
         "data": {
          "bar": [
           {
            "error_x": {
             "color": "#2a3f5f"
            },
            "error_y": {
             "color": "#2a3f5f"
            },
            "marker": {
             "line": {
              "color": "#E5ECF6",
              "width": 0.5
             }
            },
            "type": "bar"
           }
          ],
          "barpolar": [
           {
            "marker": {
             "line": {
              "color": "#E5ECF6",
              "width": 0.5
             }
            },
            "type": "barpolar"
           }
          ],
          "carpet": [
           {
            "aaxis": {
             "endlinecolor": "#2a3f5f",
             "gridcolor": "white",
             "linecolor": "white",
             "minorgridcolor": "white",
             "startlinecolor": "#2a3f5f"
            },
            "baxis": {
             "endlinecolor": "#2a3f5f",
             "gridcolor": "white",
             "linecolor": "white",
             "minorgridcolor": "white",
             "startlinecolor": "#2a3f5f"
            },
            "type": "carpet"
           }
          ],
          "choropleth": [
           {
            "colorbar": {
             "outlinewidth": 0,
             "ticks": ""
            },
            "type": "choropleth"
           }
          ],
          "contour": [
           {
            "colorbar": {
             "outlinewidth": 0,
             "ticks": ""
            },
            "colorscale": [
             [
              0,
              "#0d0887"
             ],
             [
              0.1111111111111111,
              "#46039f"
             ],
             [
              0.2222222222222222,
              "#7201a8"
             ],
             [
              0.3333333333333333,
              "#9c179e"
             ],
             [
              0.4444444444444444,
              "#bd3786"
             ],
             [
              0.5555555555555556,
              "#d8576b"
             ],
             [
              0.6666666666666666,
              "#ed7953"
             ],
             [
              0.7777777777777778,
              "#fb9f3a"
             ],
             [
              0.8888888888888888,
              "#fdca26"
             ],
             [
              1,
              "#f0f921"
             ]
            ],
            "type": "contour"
           }
          ],
          "contourcarpet": [
           {
            "colorbar": {
             "outlinewidth": 0,
             "ticks": ""
            },
            "type": "contourcarpet"
           }
          ],
          "heatmap": [
           {
            "colorbar": {
             "outlinewidth": 0,
             "ticks": ""
            },
            "colorscale": [
             [
              0,
              "#0d0887"
             ],
             [
              0.1111111111111111,
              "#46039f"
             ],
             [
              0.2222222222222222,
              "#7201a8"
             ],
             [
              0.3333333333333333,
              "#9c179e"
             ],
             [
              0.4444444444444444,
              "#bd3786"
             ],
             [
              0.5555555555555556,
              "#d8576b"
             ],
             [
              0.6666666666666666,
              "#ed7953"
             ],
             [
              0.7777777777777778,
              "#fb9f3a"
             ],
             [
              0.8888888888888888,
              "#fdca26"
             ],
             [
              1,
              "#f0f921"
             ]
            ],
            "type": "heatmap"
           }
          ],
          "heatmapgl": [
           {
            "colorbar": {
             "outlinewidth": 0,
             "ticks": ""
            },
            "colorscale": [
             [
              0,
              "#0d0887"
             ],
             [
              0.1111111111111111,
              "#46039f"
             ],
             [
              0.2222222222222222,
              "#7201a8"
             ],
             [
              0.3333333333333333,
              "#9c179e"
             ],
             [
              0.4444444444444444,
              "#bd3786"
             ],
             [
              0.5555555555555556,
              "#d8576b"
             ],
             [
              0.6666666666666666,
              "#ed7953"
             ],
             [
              0.7777777777777778,
              "#fb9f3a"
             ],
             [
              0.8888888888888888,
              "#fdca26"
             ],
             [
              1,
              "#f0f921"
             ]
            ],
            "type": "heatmapgl"
           }
          ],
          "histogram": [
           {
            "marker": {
             "colorbar": {
              "outlinewidth": 0,
              "ticks": ""
             }
            },
            "type": "histogram"
           }
          ],
          "histogram2d": [
           {
            "colorbar": {
             "outlinewidth": 0,
             "ticks": ""
            },
            "colorscale": [
             [
              0,
              "#0d0887"
             ],
             [
              0.1111111111111111,
              "#46039f"
             ],
             [
              0.2222222222222222,
              "#7201a8"
             ],
             [
              0.3333333333333333,
              "#9c179e"
             ],
             [
              0.4444444444444444,
              "#bd3786"
             ],
             [
              0.5555555555555556,
              "#d8576b"
             ],
             [
              0.6666666666666666,
              "#ed7953"
             ],
             [
              0.7777777777777778,
              "#fb9f3a"
             ],
             [
              0.8888888888888888,
              "#fdca26"
             ],
             [
              1,
              "#f0f921"
             ]
            ],
            "type": "histogram2d"
           }
          ],
          "histogram2dcontour": [
           {
            "colorbar": {
             "outlinewidth": 0,
             "ticks": ""
            },
            "colorscale": [
             [
              0,
              "#0d0887"
             ],
             [
              0.1111111111111111,
              "#46039f"
             ],
             [
              0.2222222222222222,
              "#7201a8"
             ],
             [
              0.3333333333333333,
              "#9c179e"
             ],
             [
              0.4444444444444444,
              "#bd3786"
             ],
             [
              0.5555555555555556,
              "#d8576b"
             ],
             [
              0.6666666666666666,
              "#ed7953"
             ],
             [
              0.7777777777777778,
              "#fb9f3a"
             ],
             [
              0.8888888888888888,
              "#fdca26"
             ],
             [
              1,
              "#f0f921"
             ]
            ],
            "type": "histogram2dcontour"
           }
          ],
          "mesh3d": [
           {
            "colorbar": {
             "outlinewidth": 0,
             "ticks": ""
            },
            "type": "mesh3d"
           }
          ],
          "parcoords": [
           {
            "line": {
             "colorbar": {
              "outlinewidth": 0,
              "ticks": ""
             }
            },
            "type": "parcoords"
           }
          ],
          "pie": [
           {
            "automargin": true,
            "type": "pie"
           }
          ],
          "scatter": [
           {
            "marker": {
             "colorbar": {
              "outlinewidth": 0,
              "ticks": ""
             }
            },
            "type": "scatter"
           }
          ],
          "scatter3d": [
           {
            "line": {
             "colorbar": {
              "outlinewidth": 0,
              "ticks": ""
             }
            },
            "marker": {
             "colorbar": {
              "outlinewidth": 0,
              "ticks": ""
             }
            },
            "type": "scatter3d"
           }
          ],
          "scattercarpet": [
           {
            "marker": {
             "colorbar": {
              "outlinewidth": 0,
              "ticks": ""
             }
            },
            "type": "scattercarpet"
           }
          ],
          "scattergeo": [
           {
            "marker": {
             "colorbar": {
              "outlinewidth": 0,
              "ticks": ""
             }
            },
            "type": "scattergeo"
           }
          ],
          "scattergl": [
           {
            "marker": {
             "colorbar": {
              "outlinewidth": 0,
              "ticks": ""
             }
            },
            "type": "scattergl"
           }
          ],
          "scattermapbox": [
           {
            "marker": {
             "colorbar": {
              "outlinewidth": 0,
              "ticks": ""
             }
            },
            "type": "scattermapbox"
           }
          ],
          "scatterpolar": [
           {
            "marker": {
             "colorbar": {
              "outlinewidth": 0,
              "ticks": ""
             }
            },
            "type": "scatterpolar"
           }
          ],
          "scatterpolargl": [
           {
            "marker": {
             "colorbar": {
              "outlinewidth": 0,
              "ticks": ""
             }
            },
            "type": "scatterpolargl"
           }
          ],
          "scatterternary": [
           {
            "marker": {
             "colorbar": {
              "outlinewidth": 0,
              "ticks": ""
             }
            },
            "type": "scatterternary"
           }
          ],
          "surface": [
           {
            "colorbar": {
             "outlinewidth": 0,
             "ticks": ""
            },
            "colorscale": [
             [
              0,
              "#0d0887"
             ],
             [
              0.1111111111111111,
              "#46039f"
             ],
             [
              0.2222222222222222,
              "#7201a8"
             ],
             [
              0.3333333333333333,
              "#9c179e"
             ],
             [
              0.4444444444444444,
              "#bd3786"
             ],
             [
              0.5555555555555556,
              "#d8576b"
             ],
             [
              0.6666666666666666,
              "#ed7953"
             ],
             [
              0.7777777777777778,
              "#fb9f3a"
             ],
             [
              0.8888888888888888,
              "#fdca26"
             ],
             [
              1,
              "#f0f921"
             ]
            ],
            "type": "surface"
           }
          ],
          "table": [
           {
            "cells": {
             "fill": {
              "color": "#EBF0F8"
             },
             "line": {
              "color": "white"
             }
            },
            "header": {
             "fill": {
              "color": "#C8D4E3"
             },
             "line": {
              "color": "white"
             }
            },
            "type": "table"
           }
          ]
         },
         "layout": {
          "annotationdefaults": {
           "arrowcolor": "#2a3f5f",
           "arrowhead": 0,
           "arrowwidth": 1
          },
          "coloraxis": {
           "colorbar": {
            "outlinewidth": 0,
            "ticks": ""
           }
          },
          "colorscale": {
           "diverging": [
            [
             0,
             "#8e0152"
            ],
            [
             0.1,
             "#c51b7d"
            ],
            [
             0.2,
             "#de77ae"
            ],
            [
             0.3,
             "#f1b6da"
            ],
            [
             0.4,
             "#fde0ef"
            ],
            [
             0.5,
             "#f7f7f7"
            ],
            [
             0.6,
             "#e6f5d0"
            ],
            [
             0.7,
             "#b8e186"
            ],
            [
             0.8,
             "#7fbc41"
            ],
            [
             0.9,
             "#4d9221"
            ],
            [
             1,
             "#276419"
            ]
           ],
           "sequential": [
            [
             0,
             "#0d0887"
            ],
            [
             0.1111111111111111,
             "#46039f"
            ],
            [
             0.2222222222222222,
             "#7201a8"
            ],
            [
             0.3333333333333333,
             "#9c179e"
            ],
            [
             0.4444444444444444,
             "#bd3786"
            ],
            [
             0.5555555555555556,
             "#d8576b"
            ],
            [
             0.6666666666666666,
             "#ed7953"
            ],
            [
             0.7777777777777778,
             "#fb9f3a"
            ],
            [
             0.8888888888888888,
             "#fdca26"
            ],
            [
             1,
             "#f0f921"
            ]
           ],
           "sequentialminus": [
            [
             0,
             "#0d0887"
            ],
            [
             0.1111111111111111,
             "#46039f"
            ],
            [
             0.2222222222222222,
             "#7201a8"
            ],
            [
             0.3333333333333333,
             "#9c179e"
            ],
            [
             0.4444444444444444,
             "#bd3786"
            ],
            [
             0.5555555555555556,
             "#d8576b"
            ],
            [
             0.6666666666666666,
             "#ed7953"
            ],
            [
             0.7777777777777778,
             "#fb9f3a"
            ],
            [
             0.8888888888888888,
             "#fdca26"
            ],
            [
             1,
             "#f0f921"
            ]
           ]
          },
          "colorway": [
           "#636efa",
           "#EF553B",
           "#00cc96",
           "#ab63fa",
           "#FFA15A",
           "#19d3f3",
           "#FF6692",
           "#B6E880",
           "#FF97FF",
           "#FECB52"
          ],
          "font": {
           "color": "#2a3f5f"
          },
          "geo": {
           "bgcolor": "white",
           "lakecolor": "white",
           "landcolor": "#E5ECF6",
           "showlakes": true,
           "showland": true,
           "subunitcolor": "white"
          },
          "hoverlabel": {
           "align": "left"
          },
          "hovermode": "closest",
          "mapbox": {
           "style": "light"
          },
          "paper_bgcolor": "white",
          "plot_bgcolor": "#E5ECF6",
          "polar": {
           "angularaxis": {
            "gridcolor": "white",
            "linecolor": "white",
            "ticks": ""
           },
           "bgcolor": "#E5ECF6",
           "radialaxis": {
            "gridcolor": "white",
            "linecolor": "white",
            "ticks": ""
           }
          },
          "scene": {
           "xaxis": {
            "backgroundcolor": "#E5ECF6",
            "gridcolor": "white",
            "gridwidth": 2,
            "linecolor": "white",
            "showbackground": true,
            "ticks": "",
            "zerolinecolor": "white"
           },
           "yaxis": {
            "backgroundcolor": "#E5ECF6",
            "gridcolor": "white",
            "gridwidth": 2,
            "linecolor": "white",
            "showbackground": true,
            "ticks": "",
            "zerolinecolor": "white"
           },
           "zaxis": {
            "backgroundcolor": "#E5ECF6",
            "gridcolor": "white",
            "gridwidth": 2,
            "linecolor": "white",
            "showbackground": true,
            "ticks": "",
            "zerolinecolor": "white"
           }
          },
          "shapedefaults": {
           "line": {
            "color": "#2a3f5f"
           }
          },
          "ternary": {
           "aaxis": {
            "gridcolor": "white",
            "linecolor": "white",
            "ticks": ""
           },
           "baxis": {
            "gridcolor": "white",
            "linecolor": "white",
            "ticks": ""
           },
           "bgcolor": "#E5ECF6",
           "caxis": {
            "gridcolor": "white",
            "linecolor": "white",
            "ticks": ""
           }
          },
          "title": {
           "x": 0.05
          },
          "xaxis": {
           "automargin": true,
           "gridcolor": "white",
           "linecolor": "white",
           "ticks": "",
           "title": {
            "standoff": 15
           },
           "zerolinecolor": "white",
           "zerolinewidth": 2
          },
          "yaxis": {
           "automargin": true,
           "gridcolor": "white",
           "linecolor": "white",
           "ticks": "",
           "title": {
            "standoff": 15
           },
           "zerolinecolor": "white",
           "zerolinewidth": 2
          }
         }
        },
        "title": {
         "text": "Phase space"
        },
        "xaxis": {
         "anchor": "y",
         "domain": [
          0,
          1
         ],
         "title": {
          "text": "MeanGrowth_7d"
         }
        },
        "yaxis": {
         "anchor": "x",
         "domain": [
          0,
          1
         ],
         "title": {
          "text": "DailyGrowth_7d"
         }
        }
       }
      },
      "text/html": [
       "<div>\n",
       "        \n",
       "        \n",
       "            <div id=\"fd77a806-f4d3-451b-8f8c-9fe03a28af81\" class=\"plotly-graph-div\" style=\"height:525px; width:100%;\"></div>\n",
       "            <script type=\"text/javascript\">\n",
       "                require([\"plotly\"], function(Plotly) {\n",
       "                    window.PLOTLYENV=window.PLOTLYENV || {};\n",
       "                    \n",
       "                if (document.getElementById(\"fd77a806-f4d3-451b-8f8c-9fe03a28af81\")) {\n",
       "                    Plotly.newPlot(\n",
       "                        'fd77a806-f4d3-451b-8f8c-9fe03a28af81',\n",
       "                        [{\"hoverlabel\": {\"namelength\": 0}, \"hovertemplate\": \"Country/Region=Afghanistan<br>MeanGrowth_7d=%{x}<br>DailyGrowth_7d=%{y}\", \"legendgroup\": \"Afghanistan\", \"marker\": {\"color\": \"#636efa\", \"symbol\": \"circle\"}, \"mode\": \"lines+markers\", \"name\": \"Afghanistan\", \"showlegend\": true, \"type\": \"scattergl\", \"x\": [0.0, 0.0, 0.0, 0.0, 0.0, 0.0, 0.0, 0.00043568916690007157, 0.0006846544051286839, 0.00080913702424299, 0.000746895714685837], \"xaxis\": \"x\", \"y\": [0.0, 0.0, 0.0, 0.0, 0.0, 0.0, 0.0, 0.08210180623973728, 0.0922242314647378, 0.0936682365253794, 0.08693441789527198], \"yaxis\": \"y\"}, {\"hoverlabel\": {\"namelength\": 0}, \"hovertemplate\": \"Country/Region=Albania<br>MeanGrowth_7d=%{x}<br>DailyGrowth_7d=%{y}\", \"legendgroup\": \"Albania\", \"marker\": {\"color\": \"#EF553B\", \"symbol\": \"circle\"}, \"mode\": \"lines+markers\", \"name\": \"Albania\", \"showlegend\": true, \"type\": \"scattergl\", \"x\": [0.0, 0.0, 0.0, 0.0, 0.0, 0.0, 0.0, 0.0002489652382286123, 0.00031120654778576544, 0.0003734478573429185, 0.0004979304764572246, 0.0005290511312358012, 0.0005290511312358012, 0.0005601717860143778, 0.0005290511312358012, 0.0005290511312358012, 0.0004979304764572246, 0.00046680982167864813, 0.0005290511312358012], \"xaxis\": \"x\", \"y\": [0.0, 0.0, 0.0, 0.0, 0.0, 0.0, 0.0, 0.0728021978021978, 0.07897793263646921, 0.08512720156555773, 0.090311986863711, 0.08909370199692782, 0.0877447425670776, 0.08288409703504043, 0.07623318385650224, 0.07054673721340388, 0.06232763375620518, 0.05312016503352243, 0.055451127819548876], \"yaxis\": \"y\"}, {\"hoverlabel\": {\"namelength\": 0}, \"hovertemplate\": \"Country/Region=Algeria<br>MeanGrowth_7d=%{x}<br>DailyGrowth_7d=%{y}\", \"legendgroup\": \"Algeria\", \"marker\": {\"color\": \"#00cc96\", \"symbol\": \"circle\"}, \"mode\": \"lines+markers\", \"name\": \"Algeria\", \"showlegend\": true, \"type\": \"scattergl\", \"x\": [0.0, 0.0, 0.0, 0.0, 0.0, 0.0, 0.0, 0.0007780163694644136, 0.0009024989885787197, 0.0010269816076930258, 0.0012448261911430618, 0.001431550119814521, 0.0014004294650359443, 0.0013693088102573678, 0.0015871533937074037, 0.0020228425606074753, 0.0024274110727289704, 0.0027386176205147356, 0.003392151370864843], \"xaxis\": \"x\", \"y\": [0.0, 0.0, 0.0, 0.0, 0.0, 0.0, 0.0, 0.1093167701863354, 0.11038961038961038, 0.10785241248817407, 0.10899182561307902, 0.11142158574921411, 0.09911894273127753, 0.08666480290746435, 0.08659491193737769, 0.09018355945730247, 0.09192106594703998, 0.08968414952187771, 0.09296083933146274], \"yaxis\": \"y\"}, {\"hoverlabel\": {\"namelength\": 0}, \"hovertemplate\": \"Country/Region=Andorra<br>MeanGrowth_7d=%{x}<br>DailyGrowth_7d=%{y}\", \"legendgroup\": \"Andorra\", \"marker\": {\"color\": \"#ab63fa\", \"symbol\": \"circle\"}, \"mode\": \"lines+markers\", \"name\": \"Andorra\", \"showlegend\": true, \"type\": \"scattergl\", \"x\": [0.0, 0.0, 0.0, 0.0, 0.0, 0.0, 0.0, 0.000746895714685837, 0.0008402576790215666, 0.0009647402981358728, 0.0009958609529144493, 0.0010581022624716024, 0.0009336196433572963, 0.0009024989885787197, 0.0009024989885787197, 0.0007780163694644136], \"xaxis\": \"x\", \"y\": [0.0, 0.0, 0.0, 0.0, 0.0, 0.0, 0.0, 0.10905612244897958, 0.10272873194221509, 0.1020408163265306, 0.09452523524379812, 0.0915057915057915, 0.08054711246200608, 0.073992673992674, 0.06809078771695594, 0.05597136348844777], \"yaxis\": \"y\"}, {\"hoverlabel\": {\"namelength\": 0}, \"hovertemplate\": \"Country/Region=Argentina<br>MeanGrowth_7d=%{x}<br>DailyGrowth_7d=%{y}\", \"legendgroup\": \"Argentina\", \"marker\": {\"color\": \"#FFA15A\", \"symbol\": \"circle\"}, \"mode\": \"lines+markers\", \"name\": \"Argentina\", \"showlegend\": true, \"type\": \"scattergl\", \"x\": [0.0, 0.0, 0.0, 0.0, 0.0, 0.0, 0.0, 0.001089222917250179, 0.001431550119814521, 0.0013693088102573678, 0.0018049979771574394, 0.0020539632153860517, 0.0023651697631718173, 0.002116204524943205, 0.002302928453614664, 0.0029564622039647713, 0.0029564622039647713, 0.0028008589300718887, 0.0030187035135219244], \"xaxis\": \"x\", \"y\": [0.0, 0.0, 0.0, 0.0, 0.0, 0.0, 0.0, 0.11627906976744186, 0.11775562938353636, 0.11369509043927649, 0.11525327262379055, 0.11181178753334951, 0.11014492753623188, 0.09185043144774689, 0.09041811846689896, 0.09040390349688263, 0.09040390349688263, 0.07956121548354558, 0.07634105025409373], \"yaxis\": \"y\"}, {\"hoverlabel\": {\"namelength\": 0}, \"hovertemplate\": \"Country/Region=Armenia<br>MeanGrowth_7d=%{x}<br>DailyGrowth_7d=%{y}\", \"legendgroup\": \"Armenia\", \"marker\": {\"color\": \"#19d3f3\", \"symbol\": \"circle\"}, \"mode\": \"lines+markers\", \"name\": \"Armenia\", \"showlegend\": true, \"type\": \"scattergl\", \"x\": [0.0, 0.0, 0.0, 0.0, 0.0, 0.0, 0.0, 0.00080913702424299, 0.000746895714685837, 0.00080913702424299, 0.0007780163694644136, 0.0008713783338001431, 0.001089222917250179, 0.0010269816076930258, 0.001089222917250179, 0.0012448261911430618, 0.0013693088102573678, 0.0016493947032645566, 0.0018049979771574394], \"xaxis\": \"x\", \"y\": [0.0, 0.0, 0.0, 0.0, 0.0, 0.0, 0.0, 0.11124620060790273, 0.09810671256454388, 0.09757412398921833, 0.08620689655172414, 0.08380373425966131, 0.0866970866970867, 0.0774932614555256, 0.07320687611144043, 0.0759935553168636, 0.07655741806354767, 0.08037060978237448, 0.07899844720496894], \"yaxis\": \"y\"}, {\"hoverlabel\": {\"namelength\": 0}, \"hovertemplate\": \"Country/Region=Australia<br>MeanGrowth_7d=%{x}<br>DailyGrowth_7d=%{y}\", \"legendgroup\": \"Australia\", \"marker\": {\"color\": \"#FF6692\", \"symbol\": \"circle\"}, \"mode\": \"lines+markers\", \"name\": \"Australia\", \"showlegend\": true, \"type\": \"scattergl\", \"x\": [0.0, 0.0, 0.0, 0.0, 0.0, 0.0, 0.0, 0.00034232720256434195, 0.00031120654778576544, 0.0006224130955715309, 0.0008402576790215666, 0.0009958609529144493, 0.001275946845921638, 0.0015249120841502506, 0.001960601251050322, 0.0024585317275075467, 0.0026141350014004293, 0.003641116609093455, 0.005570597205365201, 0.005788441788815236, 0.007064388634736875, 0.007998008278094172, 0.009460679052687269, 0.010456540005601717, 0.011421280303737591, 0.010829987862944637, 0.011919210780194815, 0.011172315065508979, 0.011110073755951825, 0.010238695422151682, 0.009709644290915882], \"xaxis\": \"x\", \"y\": [0.0, 0.0, 0.0, 0.0, 0.0, 0.0, 0.0, 0.08482142857142858, 0.08147321428571429, 0.1, 0.10685714285714286, 0.10630110630110631, 0.1083743842364532, 0.10903919089759798, 0.11066398390342051, 0.11600587371512482, 0.1067364999096984, 0.10951047085500867, 0.11546619939131238, 0.11083743842364531, 0.11126642437797037, 0.10853275320280396, 0.10823589222165736, 0.10690423162583519, 0.10082417582417583, 0.08731353987378083, 0.08775837782946244, 0.078808009275217, 0.07339719104424987, 0.06439182396961912, 0.05861699276333423], \"yaxis\": \"y\"}, {\"hoverlabel\": {\"namelength\": 0}, \"hovertemplate\": \"Country/Region=Austria<br>MeanGrowth_7d=%{x}<br>DailyGrowth_7d=%{y}\", \"legendgroup\": \"Austria\", \"marker\": {\"color\": \"#B6E880\", \"symbol\": \"circle\"}, \"mode\": \"lines+markers\", \"name\": \"Austria\", \"showlegend\": true, \"type\": \"scattergl\", \"x\": [0.0, 0.0, 0.0, 0.0, 0.0, 0.0, 0.0, 0.0019917219058288986, 0.002551893691843276, 0.0033610307160862663, 0.00395232315687922, 0.005103787383686552, 0.006224130955715309, 0.007593439765972676, 0.00837145613543709, 0.009585161671801574, 0.012105934708866275, 0.015373603460616812, 0.01755204929511717, 0.017520928640338593, 0.021753337690225003, 0.023433853048268137, 0.024274110727289702, 0.023153767155260945, 0.022873681262253757, 0.021784458345003577, 0.022780319297918027, 0.018765754831481653, 0.01717860143777425], \"xaxis\": \"x\", \"y\": [0.0, 0.0, 0.0, 0.0, 0.0, 0.0, 0.0, 0.1272675736961451, 0.12562704471101419, 0.12558139534883722, 0.12447375806904294, 0.12333762333762333, 0.12150668286755771, 0.12142502306436732, 0.11270638908829865, 0.10960503604426845, 0.10855866634761106, 0.11035187432147647, 0.10683864687271842, 0.10077717558032519, 0.1012344147385398, 0.09830407283717979, 0.09425358826882221, 0.08462838936211717, 0.07640436087098595, 0.06872017962391243, 0.06832762047027756, 0.05416992927101652, 0.04793722417811276], \"yaxis\": \"y\"}, {\"hoverlabel\": {\"namelength\": 0}, \"hovertemplate\": \"Country/Region=Azerbaijan<br>MeanGrowth_7d=%{x}<br>DailyGrowth_7d=%{y}\", \"legendgroup\": \"Azerbaijan\", \"marker\": {\"color\": \"#FF97FF\", \"symbol\": \"circle\"}, \"mode\": \"lines+markers\", \"name\": \"Azerbaijan\", \"showlegend\": true, \"type\": \"scattergl\", \"x\": [0.0, 0.0, 0.0, 0.0, 0.0, 0.0, 0.0, 0.0005601717860143778, 0.0006535337503501073, 0.0009024989885787197, 0.0009336196433572963, 0.0011825848815859086, 0.0012448261911430618, 0.0012448261911430618], \"xaxis\": \"x\", \"y\": [0.0, 0.0, 0.0, 0.0, 0.0, 0.0, 0.0, 0.10125588697017268, 0.09842788790157211, 0.10518053375196233, 0.10115052732502397, 0.10584958217270195, 0.09928571428571428, 0.08964850048371494], \"yaxis\": \"y\"}, {\"hoverlabel\": {\"namelength\": 0}, \"hovertemplate\": \"Country/Region=Bahrain<br>MeanGrowth_7d=%{x}<br>DailyGrowth_7d=%{y}\", \"legendgroup\": \"Bahrain\", \"marker\": {\"color\": \"#FECB52\", \"symbol\": \"circle\"}, \"mode\": \"lines+markers\", \"name\": \"Bahrain\", \"showlegend\": true, \"type\": \"scattergl\", \"x\": [0.0, 0.0, 0.0, 0.0, 0.0, 0.0, 0.0, 0.0006224130955715309, 0.0006224130955715309, 0.0005912924407929543, 0.0005601717860143778, 0.0005601717860143778, 0.0005290511312358012, 0.0005290511312358012, 0.0002800858930071889, 0.0003734478573429185, 0.000404568512121495, 0.00043568916690007157, 0.0005290511312358012, 0.0007157750599072605, 0.0007157750599072605, 0.0007157750599072605, 0.00080913702424299, 0.00080913702424299, 0.000746895714685837, 0.000746895714685837, 0.0006224130955715309, 0.0007780163694644136, 0.0006535337503501073, 0.00080913702424299, 0.0009024989885787197], \"xaxis\": \"x\", \"y\": [0.0, 0.0, 0.0, 0.0, 0.0, 0.0, 0.0, 0.10476190476190475, 0.10256410256410256, 0.0989010989010989, 0.08503401360544217, 0.08611481975967956, 0.0794392523364486, 0.07393483709273183, 0.03404017857142857, 0.04265159301130524, 0.04511278195488722, 0.04449648711943794, 0.05132591958939264, 0.06176582038651004, 0.0597667638483965, 0.0555744971019434, 0.056144728633811605, 0.05548743102391171, 0.05132052821128451, 0.047237331806470086, 0.03828016643550625, 0.04409171075837742, 0.03766005523474768, 0.04110197733836925, 0.04379251700680272], \"yaxis\": \"y\"}, {\"hoverlabel\": {\"namelength\": 0}, \"hovertemplate\": \"Country/Region=Bangladesh<br>MeanGrowth_7d=%{x}<br>DailyGrowth_7d=%{y}\", \"legendgroup\": \"Bangladesh\", \"marker\": {\"color\": \"#636efa\", \"symbol\": \"circle\"}, \"mode\": \"lines+markers\", \"name\": \"Bangladesh\", \"showlegend\": true, \"type\": \"scattergl\", \"x\": [0.0, 0.0, 0.0, 0.0], \"xaxis\": \"x\", \"y\": [0.0, 0.0, 0.0, 0.0], \"yaxis\": \"y\"}, {\"hoverlabel\": {\"namelength\": 0}, \"hovertemplate\": \"Country/Region=Barbados<br>MeanGrowth_7d=%{x}<br>DailyGrowth_7d=%{y}\", \"legendgroup\": \"Barbados\", \"marker\": {\"color\": \"#EF553B\", \"symbol\": \"circle\"}, \"mode\": \"lines+markers\", \"name\": \"Barbados\", \"showlegend\": true, \"type\": \"scattergl\", \"x\": [0.0], \"xaxis\": \"x\", \"y\": [0.0], \"yaxis\": \"y\"}, {\"hoverlabel\": {\"namelength\": 0}, \"hovertemplate\": \"Country/Region=Belarus<br>MeanGrowth_7d=%{x}<br>DailyGrowth_7d=%{y}\", \"legendgroup\": \"Belarus\", \"marker\": {\"color\": \"#00cc96\", \"symbol\": \"circle\"}, \"mode\": \"lines+markers\", \"name\": \"Belarus\", \"showlegend\": true, \"type\": \"scattergl\", \"x\": [0.0, 0.0, 9.336196433572963e-05, 9.336196433572963e-05, 9.336196433572963e-05, 9.336196433572963e-05, 0.00012448261911430616, 0.00015560327389288272, 0.00015560327389288272, 0.00012448261911430616, 9.336196433572963e-05, 9.336196433572963e-05, 0.00031120654778576544, 0.00031120654778576544, 0.00034232720256434195, 0.0009647402981358728, 0.001151464226807332], \"xaxis\": \"x\", \"y\": [0.0, 0.0, 0.037267080745341616, 0.041353383458646614, 0.03759398496240601, 0.03527336860670194, 0.05291005291005291, 0.05813953488372093, 0.05813953488372093, 0.03799392097264438, 0.02735562310030395, 0.02735562310030395, 0.06672932330827068, 0.06672932330827068, 0.06748466257668712, 0.10244360902255639, 0.1045991045991046], \"yaxis\": \"y\"}, {\"hoverlabel\": {\"namelength\": 0}, \"hovertemplate\": \"Country/Region=Belgium<br>MeanGrowth_7d=%{x}<br>DailyGrowth_7d=%{y}\", \"legendgroup\": \"Belgium\", \"marker\": {\"color\": \"#ab63fa\", \"symbol\": \"circle\"}, \"mode\": \"lines+markers\", \"name\": \"Belgium\", \"showlegend\": true, \"type\": \"scattergl\", \"x\": [6.224130955715308e-05, 0.00034232720256434195, 0.00021784458345003579, 0.0003734478573429185, 0.00046680982167864813, 3.112065477857654e-05, 0.0, 0.0019917219058288986, 0.002302928453614664, 0.003049824168300501, 0.003641116609093455, 0.004325771014222139, 0.005197149348022283, 0.006597578813058226, 0.0075623191111941, 0.009460679052687269, 0.011172315065508979, 0.011950331434973392, 0.013444122864345065, 0.015342482805838234, 0.019730495129617526, 0.022344630131017958, 0.028101951265054617, 0.033050135374848286, 0.03625556281704167, 0.037811595555970495, 0.04014564466436374, 0.04051909252170666, 0.04216848722497121], \"xaxis\": \"x\", \"y\": [0.019659239842726082, 0.06339814032121724, 0.03428571428571428, 0.052002390914524806, 0.05564472980203317, 0.004549590536851684, 0.0, 0.11500127779197548, 0.1078167115902965, 0.11060948081264109, 0.11058601134215501, 0.11217101482588207, 0.11267064026148817, 0.11786709112614406, 0.10747515665548453, 0.10789139812230399, 0.1056411979669845, 0.1024770046944773, 0.10126158685540274, 0.09985821348997367, 0.10172986596402796, 0.09859182552757512, 0.09883011667552942, 0.09801982808627327, 0.09791939298620532, 0.09511881464914733, 0.092349715595204, 0.08482259205480472, 0.08080756452849476], \"yaxis\": \"y\"}, {\"hoverlabel\": {\"namelength\": 0}, \"hovertemplate\": \"Country/Region=Bolivia<br>MeanGrowth_7d=%{x}<br>DailyGrowth_7d=%{y}\", \"legendgroup\": \"Bolivia\", \"marker\": {\"color\": \"#FFA15A\", \"symbol\": \"circle\"}, \"mode\": \"lines+markers\", \"name\": \"Bolivia\", \"showlegend\": true, \"type\": \"scattergl\", \"x\": [0.0, 0.0, 0.0, 0.0, 0.0, 0.0, 0.0, 0.00031120654778576544], \"xaxis\": \"x\", \"y\": [0.0, 0.0, 0.0, 0.0, 0.0, 0.0, 0.0, 0.07683982683982683], \"yaxis\": \"y\"}, {\"hoverlabel\": {\"namelength\": 0}, \"hovertemplate\": \"Country/Region=Bosnia and Herzegovina<br>MeanGrowth_7d=%{x}<br>DailyGrowth_7d=%{y}\", \"legendgroup\": \"Bosnia and Herzegovina\", \"marker\": {\"color\": \"#19d3f3\", \"symbol\": \"circle\"}, \"mode\": \"lines+markers\", \"name\": \"Bosnia and Herzegovina\", \"showlegend\": true, \"type\": \"scattergl\", \"x\": [0.0, 3.112065477857654e-05, 0.0, 9.336196433572963e-05, 9.336196433572963e-05, 0.00018672392867145925, 0.00018672392867145925, 0.0005601717860143778, 0.0006535337503501073, 0.000746895714685837, 0.0008713783338001431, 0.0010269816076930258, 0.0011203435720287555, 0.0012448261911430618, 0.0015249120841502506, 0.0015249120841502506], \"xaxis\": \"x\", \"y\": [0.0, 0.012841091492776886, 0.0, 0.021541950113378686, 0.022058823529411766, 0.03700516351118761, 0.03571428571428571, 0.09573672400897532, 0.08921036769138034, 0.09136212624584718, 0.0871295886775763, 0.09006211180124224, 0.08639455782312926, 0.08807967631497043, 0.09166443312784775, 0.0843819393042191], \"yaxis\": \"y\"}, {\"hoverlabel\": {\"namelength\": 0}, \"hovertemplate\": \"Country/Region=Brazil<br>MeanGrowth_7d=%{x}<br>DailyGrowth_7d=%{y}\", \"legendgroup\": \"Brazil\", \"marker\": {\"color\": \"#FF6692\", \"symbol\": \"circle\"}, \"mode\": \"lines+markers\", \"name\": \"Brazil\", \"showlegend\": true, \"type\": \"scattergl\", \"x\": [0.0, 0.0, 0.0, 0.0, 0.0, 0.0, 0.0, 0.0025207730370647, 0.002863100239629042, 0.0038589611925434913, 0.006161889646158155, 0.007655681075529829, 0.008558180064108549, 0.009709644290915882, 0.01051878131515887, 0.011670245541966204, 0.012821709768773535, 0.012043693399309122, 0.01179472816108051, 0.015435844770173965, 0.019045840724488842, 0.02250023340491084, 0.025083247751532693], \"xaxis\": \"x\", \"y\": [0.0, 0.0, 0.0, 0.0, 0.0, 0.0, 0.0, 0.1308948700253048, 0.11565483696631237, 0.12172939694976914, 0.1278876362964332, 0.128007128007128, 0.12244897959183675, 0.12204944624678377, 0.11313711414213927, 0.10970358292570759, 0.10549619437939109, 0.0909640171858217, 0.08283156022837175, 0.08670881331367601, 0.08948424308283874, 0.08984513745826525, 0.08895444220090863], \"yaxis\": \"y\"}, {\"hoverlabel\": {\"namelength\": 0}, \"hovertemplate\": \"Country/Region=Brunei<br>MeanGrowth_7d=%{x}<br>DailyGrowth_7d=%{y}\", \"legendgroup\": \"Brunei\", \"marker\": {\"color\": \"#B6E880\", \"symbol\": \"circle\"}, \"mode\": \"lines+markers\", \"name\": \"Brunei\", \"showlegend\": true, \"type\": \"scattergl\", \"x\": [0.0, 0.0, 0.0, 0.0, 0.0, 0.0, 0.0, 0.00015560327389288272, 0.00021784458345003579, 0.00018672392867145925, 0.00018672392867145925, 0.00015560327389288272, 0.00015560327389288272, 0.00015560327389288272, 0.00015560327389288272, 0.00012448261911430616, 9.336196433572963e-05, 9.336196433572963e-05, 9.336196433572963e-05], \"xaxis\": \"x\", \"y\": [0.0, 0.0, 0.0, 0.0, 0.0, 0.0, 0.0, 0.058084772370486655, 0.06593406593406594, 0.05373525557011795, 0.04887218045112782, 0.04596273291925466, 0.044047619047619044, 0.04308390022675737, 0.04049493813273341, 0.027685492801771874, 0.023991275899672846, 0.020408163265306124, 0.02025586353944563], \"yaxis\": \"y\"}, {\"hoverlabel\": {\"namelength\": 0}, \"hovertemplate\": \"Country/Region=Bulgaria<br>MeanGrowth_7d=%{x}<br>DailyGrowth_7d=%{y}\", \"legendgroup\": \"Bulgaria\", \"marker\": {\"color\": \"#FF97FF\", \"symbol\": \"circle\"}, \"mode\": \"lines+markers\", \"name\": \"Bulgaria\", \"showlegend\": true, \"type\": \"scattergl\", \"x\": [0.0, 0.0, 0.0, 0.0, 0.0, 0.0, 0.00012448261911430616, 0.0005912924407929543, 0.0006535337503501073, 0.0006846544051286839, 0.0006535337503501073, 0.000746895714685837, 0.000746895714685837, 0.000746895714685837, 0.0007157750599072605, 0.0007157750599072605, 0.00080913702424299, 0.00080913702424299, 0.0008713783338001431, 0.0008402576790215666], \"xaxis\": \"x\", \"y\": [0.0, 0.0, 0.0, 0.0, 0.0, 0.0, 0.025416301489921123, 0.10389610389610389, 0.10589907604832978, 0.09895150720838795, 0.0885478158205431, 0.09199134199134198, 0.08093612871769869, 0.07250755287009064, 0.06564822460776218, 0.06287306008754477, 0.06480486931614751, 0.06093432633716994, 0.060331353547983746, 0.05655375552282769], \"yaxis\": \"y\"}, {\"hoverlabel\": {\"namelength\": 0}, \"hovertemplate\": \"Country/Region=Burkina Faso<br>MeanGrowth_7d=%{x}<br>DailyGrowth_7d=%{y}\", \"legendgroup\": \"Burkina Faso\", \"marker\": {\"color\": \"#FECB52\", \"symbol\": \"circle\"}, \"mode\": \"lines+markers\", \"name\": \"Burkina Faso\", \"showlegend\": true, \"type\": \"scattergl\", \"x\": [0.0, 0.0, 0.0, 0.0, 0.0, 0.0, 0.0, 0.0006224130955715309, 0.0006535337503501073, 0.0006535337503501073, 0.0006535337503501073, 0.0005912924407929543, 0.0005912924407929543, 0.0005290511312358012], \"xaxis\": \"x\", \"y\": [0.0, 0.0, 0.0, 0.0, 0.0, 0.0, 0.0, 0.0986887508626639, 0.0945945945945946, 0.08536585365853659, 0.08045977011494253, 0.06889564336372847, 0.06746031746031746, 0.05771050141911069], \"yaxis\": \"y\"}, {\"hoverlabel\": {\"namelength\": 0}, \"hovertemplate\": \"Country/Region=Cambodia<br>MeanGrowth_7d=%{x}<br>DailyGrowth_7d=%{y}\", \"legendgroup\": \"Cambodia\", \"marker\": {\"color\": \"#636efa\", \"symbol\": \"circle\"}, \"mode\": \"lines+markers\", \"name\": \"Cambodia\", \"showlegend\": true, \"type\": \"scattergl\", \"x\": [0.0, 0.0, 0.0, 0.0, 0.0, 0.0, 0.0, 0.00021784458345003579, 0.00021784458345003579, 9.336196433572963e-05, 9.336196433572963e-05, 9.336196433572963e-05, 6.224130955715308e-05, 6.224130955715308e-05, 6.224130955715308e-05], \"xaxis\": \"x\", \"y\": [0.0, 0.0, 0.0, 0.0, 0.0, 0.0, 0.0, 0.06926406926406926, 0.06637806637806637, 0.02635228848821082, 0.0267022696929239, 0.0235910878112713, 0.01703800786369594, 0.01818181818181818, 0.018796992481203006], \"yaxis\": \"y\"}, {\"hoverlabel\": {\"namelength\": 0}, \"hovertemplate\": \"Country/Region=Cameroon<br>MeanGrowth_7d=%{x}<br>DailyGrowth_7d=%{y}\", \"legendgroup\": \"Cameroon\", \"marker\": {\"color\": \"#EF553B\", \"symbol\": \"circle\"}, \"mode\": \"lines+markers\", \"name\": \"Cameroon\", \"showlegend\": true, \"type\": \"scattergl\", \"x\": [0.0, 0.0, 0.0, 0.0, 0.0, 0.0, 0.00012448261911430616, 0.0003734478573429185, 0.0005601717860143778, 0.0007157750599072605, 0.0010269816076930258, 0.0018672392867145925], \"xaxis\": \"x\", \"y\": [0.0, 0.0, 0.0, 0.0, 0.0, 0.0, 0.025693730729701953, 0.08530318602261049, 0.09400444115470022, 0.09687308399754753, 0.10784313725490197, 0.11731686780802694], \"yaxis\": \"y\"}, {\"hoverlabel\": {\"namelength\": 0}, \"hovertemplate\": \"Country/Region=Canada<br>MeanGrowth_7d=%{x}<br>DailyGrowth_7d=%{y}\", \"legendgroup\": \"Canada\", \"marker\": {\"color\": \"#00cc96\", \"symbol\": \"circle\"}, \"mode\": \"lines+markers\", \"name\": \"Canada\", \"showlegend\": true, \"type\": \"scattergl\", \"x\": [0.0, 0.0, 0.0, 0.0, 0.0, 0.0, 0.0, 0.0006535337503501073, 0.0008402576790215666, 0.001493791429371674, 0.0017738773223788628, 0.0024274110727289704, 0.003049824168300501, 0.00332991006130769, 0.004792580835900787, 0.0054149939314723184, 0.007437836492079793, 0.010269816076930258, 0.011545762922851897, 0.01440886316248094, 0.016618429651759872, 0.019108082034045997, 0.021379889832882085, 0.023620576976939596, 0.025518936918432763, 0.028039709955497465, 0.03220987769582672, 0.03448168549466281], \"xaxis\": \"x\", \"y\": [0.0, 0.0, 0.0, 0.0, 0.0, 0.0, 0.0, 0.1038961038961039, 0.10657596371882086, 0.11635111876075731, 0.1192468619246862, 0.11937377690802349, 0.1219642857142857, 0.11361914861384638, 0.12070701420740575, 0.11835067587279977, 0.11446360153256704, 0.11838197644649258, 0.11398690512809245, 0.11458259701703542, 0.11408433514371147, 0.11014039762246361, 0.10944040036396725, 0.10253736531108794, 0.0961148620348808, 0.09427674835624628, 0.09168481288296958, 0.08907752214015782], \"yaxis\": \"y\"}, {\"hoverlabel\": {\"namelength\": 0}, \"hovertemplate\": \"Country/Region=Chile<br>MeanGrowth_7d=%{x}<br>DailyGrowth_7d=%{y}\", \"legendgroup\": \"Chile\", \"marker\": {\"color\": \"#ab63fa\", \"symbol\": \"circle\"}, \"mode\": \"lines+markers\", \"name\": \"Chile\", \"showlegend\": true, \"type\": \"scattergl\", \"x\": [0.0, 0.0, 0.0, 0.0, 0.0, 0.0, 0.0, 0.002116204524943205, 0.0024896523822861235, 0.0026141350014004293, 0.0032054274421933837, 0.004014564466436374, 0.0047614601811222105, 0.005228270002800859, 0.006099648336601002, 0.006690940777393957, 0.0075623191111941, 0.008060249587651324, 0.008402576790215666, 0.009336196433572962, 0.009460679052687269], \"xaxis\": \"x\", \"y\": [0.0, 0.0, 0.0, 0.0, 0.0, 0.0, 0.0, 0.1266294227188082, 0.12613019891500904, 0.11317502872462658, 0.11171366594360087, 0.11308481361020765, 0.11682345219864364, 0.10434782608695652, 0.10267155578837088, 0.10064783276564482, 0.0993408388263431, 0.09475112177814882, 0.08903237969552716, 0.08804767500419675, 0.0813104476470813], \"yaxis\": \"y\"}, {\"hoverlabel\": {\"namelength\": 0}, \"hovertemplate\": \"Country/Region=China<br>MeanGrowth_7d=%{x}<br>DailyGrowth_7d=%{y}\", \"legendgroup\": \"China\", \"marker\": {\"color\": \"#FFA15A\", \"symbol\": \"circle\"}, \"mode\": \"lines+markers\", \"name\": \"China\", \"showlegend\": true, \"type\": \"scattergl\", \"x\": [0.0, 0.0, 0.0, 0.0, 0.0, 0.0, 0.007873525658979865, 0.024616437929854042, 0.033330221267855474, 0.03949211091401363, 0.04661874085830766, 0.06469984128466062, 0.07487629539725515, 0.080913702424299, 0.09491799707465845, 0.09980393987489497, 0.10808203404599633, 0.11078953101173249, 0.10313384993620266, 0.10064419755391653, 0.09193041421591511, 0.07699249992219837, 0.13030218155789997, 0.14337285656490212, 0.1404786356704945, 0.13640182989450098, 0.1337254535835434, 0.13260511001151465, 0.13276071328540753, 0.06750070021473252, 0.040861419724271, 0.03818504341331341, 0.028942208944076182, 0.021379889832882085, 0.01574705131795973, 0.015778171972738307, 0.015653689353624, 0.01503127625805247, 0.010456540005601717, 0.01294619238788784, 0.012883951078330689, 0.011141194410730401, 0.009865247564808763, 0.008620421373665702, 0.007842405004201289, 0.006286372265272461, 0.00395232315687922, 0.0032054274421933837, 0.0027697382752933123, 0.0023651697631718173, 0.0017427566676002863, 0.0011203435720287555, 0.0009336196433572963, 0.00080913702424299, 0.0007780163694644136, 0.000746895714685837, 0.00080913702424299, 0.0009958609529144493, 0.0013693088102573678, 0.0014626707745930975, 0.0019294805962717456, 0.0020539632153860517, 0.0023651697631718173, 0.0024896523822861235, 0.0027697382752933123, 0.002863100239629042, 0.0030809448230790775, 0.003049824168300501, 0.0031120654778576543, 0.003049824168300501, 0.0031120654778576543, 0.002894220894407618, 0.0027386176205147356], \"xaxis\": \"x\", \"y\": [0.0, 0.0, 0.0, 0.0, 0.0, 0.0, 0.04595078183751264, 0.12999601023257998, 0.1315738677242178, 0.1294488005363337, 0.12596561625238775, 0.125032213727343, 0.12201112946700286, 0.1096601968074529, 0.11116722199083716, 0.10483445347930259, 0.10180508439083637, 0.09671398303440462, 0.08320929114823011, 0.07635642442272277, 0.066555735077341, 0.055276991379227806, 0.06990328312642363, 0.06942429161302545, 0.06598369983983829, 0.06216482877524104, 0.05932494211479218, 0.05741351397655719, 0.057166596787872864, 0.028888436443346734, 0.01738110995556396, 0.015933002725382044, 0.012072617471075055, 0.008890541107886818, 0.006509541080109797, 0.006482540819720668, 0.006403126135950564, 0.006114071414091686, 0.0042394849970836665, 0.005200849293327901, 0.00516086937919822, 0.004462227696426124, 0.003945249883597357, 0.003435865325431612, 0.00311952268824248, 0.002500928562585118, 0.0015748699539204717, 0.0012791067453446876, 0.0011055988159849102, 0.0009444837734156947, 0.0006972343625336261, 0.0004500410331530228, 0.00036518305903439954, 0.00031744856010623945, 0.0003049903831067061, 0.00030137150470738763, 0.00031882250569829175, 0.0003943023313125339, 0.0005362637362637362, 0.0005763131770142409, 0.0007578349077704392, 0.0008150944983750697, 0.0009332261786576601, 0.0009779104206064444, 0.0010934994427694532, 0.0011285953261849814, 0.0012090739782540901, 0.0011950860566335103, 0.001216574612520986, 0.0011945419157465974, 0.001214166899381989, 0.0011264696095829637, 0.0010630617216405777], \"yaxis\": \"y\"}, {\"hoverlabel\": {\"namelength\": 0}, \"hovertemplate\": \"Country/Region=Colombia<br>MeanGrowth_7d=%{x}<br>DailyGrowth_7d=%{y}\", \"legendgroup\": \"Colombia\", \"marker\": {\"color\": \"#19d3f3\", \"symbol\": \"circle\"}, \"mode\": \"lines+markers\", \"name\": \"Colombia\", \"showlegend\": true, \"type\": \"scattergl\", \"x\": [0.0, 0.0, 0.0, 0.0, 0.0, 0.0, 0.0, 0.0009958609529144493, 0.0014004294650359443, 0.0016805153580431332, 0.0017427566676002863, 0.001836118631936016, 0.001836118631936016, 0.0020850838701646284, 0.002302928453614664, 0.0023340491083932405, 0.002645255656179006, 0.002987582858743348, 0.00323654809697196], \"xaxis\": \"x\", \"y\": [0.0, 0.0, 0.0, 0.0, 0.0, 0.0, 0.0, 0.11500773594636411, 0.11829176114890401, 0.11458966565349543, 0.11318009892347977, 0.10893188444208853, 0.09680451127819549, 0.09584859584859586, 0.09326888650196921, 0.08325449385052035, 0.07981220657276995, 0.0824412452319429, 0.08208366219415943], \"yaxis\": \"y\"}, {\"hoverlabel\": {\"namelength\": 0}, \"hovertemplate\": \"Country/Region=Congo (Kinshasa)<br>MeanGrowth_7d=%{x}<br>DailyGrowth_7d=%{y}\", \"legendgroup\": \"Congo (Kinshasa)\", \"marker\": {\"color\": \"#FF6692\", \"symbol\": \"circle\"}, \"mode\": \"lines+markers\", \"name\": \"Congo (Kinshasa)\", \"showlegend\": true, \"type\": \"scattergl\", \"x\": [0.0, 0.0, 0.0, 0.0, 0.0, 0.0, 0.0, 0.0003734478573429185, 0.0003734478573429185], \"xaxis\": \"x\", \"y\": [0.0, 0.0, 0.0, 0.0, 0.0, 0.0, 0.0, 0.0884861407249467, 0.0884861407249467], \"yaxis\": \"y\"}, {\"hoverlabel\": {\"namelength\": 0}, \"hovertemplate\": \"Country/Region=Costa Rica<br>MeanGrowth_7d=%{x}<br>DailyGrowth_7d=%{y}\", \"legendgroup\": \"Costa Rica\", \"marker\": {\"color\": \"#B6E880\", \"symbol\": \"circle\"}, \"mode\": \"lines+markers\", \"name\": \"Costa Rica\", \"showlegend\": true, \"type\": \"scattergl\", \"x\": [3.112065477857654e-05, 9.336196433572963e-05, 0.00015560327389288272, 0.00015560327389288272, 0.00021784458345003579, 0.00018672392867145925, 0.00031120654778576544, 0.0007157750599072605, 0.0007780163694644136, 0.0007780163694644136, 0.00080913702424299, 0.0007780163694644136, 0.000746895714685837, 0.0007780163694644136, 0.000746895714685837, 0.0006846544051286839], \"xaxis\": \"x\", \"y\": [0.008281573498964802, 0.038523274478330656, 0.04395604395604396, 0.03837953091684435, 0.04430379746835443, 0.03470540758676352, 0.047619047619047616, 0.10018552875695733, 0.09451385116784357, 0.08619854721549636, 0.0818926296633303, 0.07445887445887446, 0.0699876492383697, 0.06628571428571428, 0.05952380952380953, 0.05254120879120879], \"yaxis\": \"y\"}, {\"hoverlabel\": {\"namelength\": 0}, \"hovertemplate\": \"Country/Region=Cote d'Ivoire<br>MeanGrowth_7d=%{x}<br>DailyGrowth_7d=%{y}\", \"legendgroup\": \"Cote d'Ivoire\", \"marker\": {\"color\": \"#FF97FF\", \"symbol\": \"circle\"}, \"mode\": \"lines+markers\", \"name\": \"Cote d'Ivoire\", \"showlegend\": true, \"type\": \"scattergl\", \"x\": [0.0, 0.0, 0.0, 0.0, 0.0, 0.0, 0.0, 0.00046680982167864813, 0.0004979304764572246, 0.00043568916690007157, 0.0005290511312358012], \"xaxis\": \"x\", \"y\": [0.0, 0.0, 0.0, 0.0, 0.0, 0.0, 0.0, 0.08459696727853153, 0.08270676691729323, 0.07216494845360824, 0.07667103538663173], \"yaxis\": \"y\"}, {\"hoverlabel\": {\"namelength\": 0}, \"hovertemplate\": \"Country/Region=Croatia<br>MeanGrowth_7d=%{x}<br>DailyGrowth_7d=%{y}\", \"legendgroup\": \"Croatia\", \"marker\": {\"color\": \"#FECB52\", \"symbol\": \"circle\"}, \"mode\": \"lines+markers\", \"name\": \"Croatia\", \"showlegend\": true, \"type\": \"scattergl\", \"x\": [0.0, 0.0, 0.0, 0.0, 0.0, 6.224130955715308e-05, 0.00015560327389288272, 0.001151464226807332, 0.0014004294650359443, 0.00161827404848598, 0.0017427566676002863, 0.0020228425606074753, 0.0019917219058288986, 0.0020539632153860517, 0.002116204524943205, 0.002147325179721781, 0.002302928453614664, 0.002302928453614664, 0.002178445834500358], \"xaxis\": \"x\", \"y\": [0.0, 0.0, 0.0, 0.0, 0.0, 0.008321775312066574, 0.020247469066366704, 0.11700680272108843, 0.11854899027673897, 0.11667744020685197, 0.11255411255411256, 0.11165285226718674, 0.09806479669493369, 0.09196553796834302, 0.08589511754068717, 0.07991431866864393, 0.07728823616674084, 0.07291225095379397, 0.0652720773202701], \"yaxis\": \"y\"}, {\"hoverlabel\": {\"namelength\": 0}, \"hovertemplate\": \"Country/Region=Cuba<br>MeanGrowth_7d=%{x}<br>DailyGrowth_7d=%{y}\", \"legendgroup\": \"Cuba\", \"marker\": {\"color\": \"#636efa\", \"symbol\": \"circle\"}, \"mode\": \"lines+markers\", \"name\": \"Cuba\", \"showlegend\": true, \"type\": \"scattergl\", \"x\": [0.0, 0.0, 0.0, 0.0, 0.0, 0.0, 0.0, 0.0006846544051286839, 0.000746895714685837, 0.0008402576790215666], \"xaxis\": \"x\", \"y\": [0.0, 0.0, 0.0, 0.0, 0.0, 0.0, 0.0, 0.10444743935309973, 0.10177805027590436, 0.10037174721189591], \"yaxis\": \"y\"}, {\"hoverlabel\": {\"namelength\": 0}, \"hovertemplate\": \"Country/Region=Cyprus<br>MeanGrowth_7d=%{x}<br>DailyGrowth_7d=%{y}\", \"legendgroup\": \"Cyprus\", \"marker\": {\"color\": \"#EF553B\", \"symbol\": \"circle\"}, \"mode\": \"lines+markers\", \"name\": \"Cyprus\", \"showlegend\": true, \"type\": \"scattergl\", \"x\": [0.0, 0.0, 0.0, 0.0, 0.0, 0.0, 0.0, 0.00034232720256434195, 0.00043568916690007157, 0.00043568916690007157, 0.0005290511312358012, 0.0004979304764572246, 0.0006224130955715309, 0.0008402576790215666, 0.0009336196433572963, 0.0010269816076930258], \"xaxis\": \"x\", \"y\": [0.0, 0.0, 0.0, 0.0, 0.0, 0.0, 0.0, 0.07729941291585128, 0.0837742504409171, 0.07581803671189145, 0.0794392523364486, 0.07080745341614907, 0.0752453653217012, 0.08392857142857144, 0.08426966292134831, 0.08441558441558442], \"yaxis\": \"y\"}, {\"hoverlabel\": {\"namelength\": 0}, \"hovertemplate\": \"Country/Region=Czechia<br>MeanGrowth_7d=%{x}<br>DailyGrowth_7d=%{y}\", \"legendgroup\": \"Czechia\", \"marker\": {\"color\": \"#00cc96\", \"symbol\": \"circle\"}, \"mode\": \"lines+markers\", \"name\": \"Czechia\", \"showlegend\": true, \"type\": \"scattergl\", \"x\": [0.0, 0.0, 0.0, 0.0, 0.0, 0.0, 0.0, 0.0016493947032645566, 0.0026763763109575824, 0.0030809448230790775, 0.003578875299536302, 0.0038589611925434913, 0.004170167740329257, 0.004450253633336445, 0.005290511312358012, 0.005477235241029471, 0.006441975539165344, 0.00728223321818691, 0.007531198456415523, 0.007842405004201289, 0.008495938754551395, 0.008246973516322783, 0.008589300718887125, 0.008060249587651324], \"xaxis\": \"x\", \"y\": [0.0, 0.0, 0.0, 0.0, 0.0, 0.0, 0.0, 0.1148399014778325, 0.12350761630300534, 0.11867604184530955, 0.11572146446518305, 0.11058673469387756, 0.10841423948220065, 0.10227505636400902, 0.10278113663845223, 0.0913543599257885, 0.09064125869742369, 0.08883097138513331, 0.08605913078756529, 0.08401961251011568, 0.0826567628260494, 0.07550089591138621, 0.07157668666222322, 0.06327478436987113], \"yaxis\": \"y\"}, {\"hoverlabel\": {\"namelength\": 0}, \"hovertemplate\": \"Country/Region=Denmark<br>MeanGrowth_7d=%{x}<br>DailyGrowth_7d=%{y}\", \"legendgroup\": \"Denmark\", \"marker\": {\"color\": \"#ab63fa\", \"symbol\": \"circle\"}, \"mode\": \"lines+markers\", \"name\": \"Denmark\", \"showlegend\": true, \"type\": \"scattergl\", \"x\": [0.0, 0.0, 0.0, 0.0, 0.0, 0.0, 0.0, 0.003734478573429185, 0.003392151370864843, 0.002987582858743348, 0.0027074969657361592, 0.0023651697631718173, 0.002583014346621853, 0.0028319795848504655, 0.0028319795848504655, 0.0030809448230790775, 0.00332991006130769, 0.0035477546447577257, 0.0038278405377649145, 0.004201288395107833, 0.004668098216786481, 0.005259390657579435, 0.005881803753150967, 0.006348613574829615, 0.006877664706065416, 0.0077490430398655585], \"xaxis\": \"x\", \"y\": [0.0, 0.0, 0.0, 0.0, 0.0, 0.0, 0.0, 0.12877047925279436, 0.10606271777003484, 0.08602150537634409, 0.07090379008746356, 0.05695052890266054, 0.05875251509054326, 0.0602943951688998, 0.05806979280261723, 0.057625145518044235, 0.057234924044805895, 0.05635195254572417, 0.05603896103896104, 0.05711870547035382, 0.05850234009360374, 0.06134301270417423, 0.06209749447656654, 0.06200607902735562, 0.06197273199792091, 0.06321048439649554], \"yaxis\": \"y\"}, {\"hoverlabel\": {\"namelength\": 0}, \"hovertemplate\": \"Country/Region=Dominican Republic<br>MeanGrowth_7d=%{x}<br>DailyGrowth_7d=%{y}\", \"legendgroup\": \"Dominican Republic\", \"marker\": {\"color\": \"#FFA15A\", \"symbol\": \"circle\"}, \"mode\": \"lines+markers\", \"name\": \"Dominican Republic\", \"showlegend\": true, \"type\": \"scattergl\", \"x\": [0.0, 0.0, 0.0, 0.0, 0.0, 0.0, 0.0, 0.0022718077988360874, 0.0027074969657361592, 0.002925341549186195, 0.002925341549186195, 0.0035477546447577257, 0.00395232315687922, 0.00395232315687922, 0.004045685121214951], \"xaxis\": \"x\", \"y\": [0.0, 0.0, 0.0, 0.0, 0.0, 0.0, 0.0, 0.1251536759282026, 0.12060401351082853, 0.10926326293031766, 0.10401141588710955, 0.10266649491176093, 0.09924343569203382, 0.09233954451345756, 0.08707757296466975], \"yaxis\": \"y\"}, {\"hoverlabel\": {\"namelength\": 0}, \"hovertemplate\": \"Country/Region=Ecuador<br>MeanGrowth_7d=%{x}<br>DailyGrowth_7d=%{y}\", \"legendgroup\": \"Ecuador\", \"marker\": {\"color\": \"#19d3f3\", \"symbol\": \"circle\"}, \"mode\": \"lines+markers\", \"name\": \"Ecuador\", \"showlegend\": true, \"type\": \"scattergl\", \"x\": [0.0, 0.0, 0.0, 0.0, 0.0, 0.0, 0.0, 0.004543615597672175, 0.0047303395263436345, 0.005352752621915165, 0.005446114586250894, 0.00585068309837239, 0.0050415460741294, 0.004356891669000716, 0.005134908038465129, 0.007002147325179722, 0.007811284349422712, 0.007873525658979865], \"xaxis\": \"x\", \"y\": [0.0, 0.0, 0.0, 0.0, 0.0, 0.0, 0.0, 0.1351993662529707, 0.12933869199853856, 0.1225944404846757, 0.10998656515897895, 0.10320507797194577, 0.08427383427383427, 0.07142857142857142, 0.07385204081632653, 0.08187772925764192, 0.07949053791608328, 0.07520359687818119], \"yaxis\": \"y\"}, {\"hoverlabel\": {\"namelength\": 0}, \"hovertemplate\": \"Country/Region=Egypt<br>MeanGrowth_7d=%{x}<br>DailyGrowth_7d=%{y}\", \"legendgroup\": \"Egypt\", \"marker\": {\"color\": \"#FF6692\", \"symbol\": \"circle\"}, \"mode\": \"lines+markers\", \"name\": \"Egypt\", \"showlegend\": true, \"type\": \"scattergl\", \"x\": [0.0, 0.0, 0.0, 0.0, 0.0, 0.0, 0.0, 0.00043568916690007157, 0.0006224130955715309, 0.0005912924407929543, 0.0008402576790215666, 0.0009024989885787197, 0.00080913702424299, 0.0009647402981358728, 0.0009647402981358728, 0.0009024989885787197, 0.001151464226807332, 0.0010581022624716024, 0.0011203435720287555, 0.0012448261911430618, 0.0012448261911430618, 0.001275946845921638, 0.0013693088102573678, 0.001431550119814521, 0.0016493947032645566, 0.0019917219058288986], \"xaxis\": \"x\", \"y\": [0.0, 0.0, 0.0, 0.0, 0.0, 0.0, 0.0, 0.09047619047619047, 0.09985422740524783, 0.09912536443148687, 0.10546875, 0.10275689223057644, 0.08989310009718172, 0.09480122324159021, 0.08430913348946135, 0.07320540156361051, 0.08145363408521304, 0.06897546897546898, 0.06689765458422174, 0.06994047619047619, 0.0661505981703026, 0.06315331010452963, 0.061971830985915494, 0.05923344947735192, 0.061106523534269194, 0.06511965192168237], \"yaxis\": \"y\"}, {\"hoverlabel\": {\"namelength\": 0}, \"hovertemplate\": \"Country/Region=Estonia<br>MeanGrowth_7d=%{x}<br>DailyGrowth_7d=%{y}\", \"legendgroup\": \"Estonia\", \"marker\": {\"color\": \"#B6E880\", \"symbol\": \"circle\"}, \"mode\": \"lines+markers\", \"name\": \"Estonia\", \"showlegend\": true, \"type\": \"scattergl\", \"x\": [0.0, 0.0, 0.0, 0.0, 0.0, 0.0, 0.0, 0.0009024989885787197, 0.0008402576790215666, 0.0006846544051286839, 0.0006535337503501073, 0.0006535337503501073, 0.0006535337503501073, 0.0012137055363644852, 0.0013070675007002147, 0.001493791429371674, 0.0015560327389288271, 0.00161827404848598, 0.0016805153580431332, 0.0016805153580431332, 0.001431550119814521, 0.0017116360128217097], \"xaxis\": \"x\", \"y\": [0.0, 0.0, 0.0, 0.0, 0.0, 0.0, 0.0, 0.10297829379101464, 0.08916900093370682, 0.06792287467134092, 0.05965909090909091, 0.055749128919860634, 0.051626591230551626, 0.07195963887413702, 0.07254658385093168, 0.07508305647840532, 0.07426888281085631, 0.07252747252747252, 0.07209971236816874, 0.06876948468732808, 0.05328005328005328, 0.0573807046231604], \"yaxis\": \"y\"}, {\"hoverlabel\": {\"namelength\": 0}, \"hovertemplate\": \"Country/Region=Finland<br>MeanGrowth_7d=%{x}<br>DailyGrowth_7d=%{y}\", \"legendgroup\": \"Finland\", \"marker\": {\"color\": \"#FF97FF\", \"symbol\": \"circle\"}, \"mode\": \"lines+markers\", \"name\": \"Finland\", \"showlegend\": true, \"type\": \"scattergl\", \"x\": [0.0, 0.0, 0.0, 0.0, 0.0, 0.0, 0.0, 0.0012448261911430618, 0.0015249120841502506, 0.0013070675007002147, 0.0013381881554787912, 0.0017116360128217097, 0.0018672392867145925, 0.0020850838701646284, 0.0024274110727289704, 0.0024896523822861235, 0.0026141350014004293, 0.002863100239629042, 0.0027386176205147356, 0.002894220894407618, 0.0027697382752933123, 0.0025207730370647, 0.0024896523822861235, 0.002551893691843276], \"xaxis\": \"x\", \"y\": [0.0, 0.0, 0.0, 0.0, 0.0, 0.0, 0.0, 0.11777210884353741, 0.12178571428571429, 0.09365079365079365, 0.08139852499317127, 0.08717480602464628, 0.0863265306122449, 0.08495670995670997, 0.0883116883116883, 0.08320906650760512, 0.08110333470564018, 0.07883461868037704, 0.07073732718894009, 0.06889264581572274, 0.06306669353213783, 0.05591780280576961, 0.052700922266139656, 0.05077399380804953], \"yaxis\": \"y\"}, {\"hoverlabel\": {\"namelength\": 0}, \"hovertemplate\": \"Country/Region=France<br>MeanGrowth_7d=%{x}<br>DailyGrowth_7d=%{y}\", \"legendgroup\": \"France\", \"marker\": {\"color\": \"#FECB52\", \"symbol\": \"circle\"}, \"mode\": \"lines+markers\", \"name\": \"France\", \"showlegend\": true, \"type\": \"scattergl\", \"x\": [0.0, 0.0, 0.0, 0.0, 0.0, 0.0, 0.0, 0.0026763763109575824, 0.0038278405377649145, 0.004481374288115022, 0.0045747362524507515, 0.007064388634736875, 0.00890050726667289, 0.008495938754551395, 0.013444122864345065, 0.015715930663181152, 0.015093517567609623, 0.02430523138206828, 0.026328073942675754, 0.030373759063890705, 0.03858961192543491, 0.04036348924781377, 0.044315812404693, 0.05206485544455856, 0.05975165717486696, 0.06628699467836803, 0.07325802134876917, 0.08259421778234215, 0.09177481094202222, 0.10509445118725298, 0.10876668845112501, 0.11134970279774686, 0.13428562536955777, 0.14293716739800205, 0.1350636417390222, 0.14138113465907323], \"xaxis\": \"x\", \"y\": [0.0, 0.0, 0.0, 0.0, 0.0, 0.0, 0.0, 0.13044425087108014, 0.12796067332042305, 0.12650905432595574, 0.12047345599437478, 0.12661251791686573, 0.12491433555541712, 0.1191826054451436, 0.11739822253269687, 0.11238561260803254, 0.10704829151431093, 0.11679955537504542, 0.10963799648180725, 0.10695496962485126, 0.11299648391717672, 0.10163930754932479, 0.09844825712902876, 0.10299821461552669, 0.09541320876608855, 0.09413718630410346, 0.09194196428571429, 0.08982533827716732, 0.08829240336335721, 0.08863478733574522, 0.0858553601257738, 0.0792150289382966, 0.08168171578927443, 0.0795288972227101, 0.0724142616381766, 0.06967358582339718], \"yaxis\": \"y\"}, {\"hoverlabel\": {\"namelength\": 0}, \"hovertemplate\": \"Country/Region=Georgia<br>MeanGrowth_7d=%{x}<br>DailyGrowth_7d=%{y}\", \"legendgroup\": \"Georgia\", \"marker\": {\"color\": \"#636efa\", \"symbol\": \"circle\"}, \"mode\": \"lines+markers\", \"name\": \"Georgia\", \"showlegend\": true, \"type\": \"scattergl\", \"x\": [0.0, 0.0, 0.0, 0.0, 0.0, 0.0, 0.0, 0.00015560327389288272, 0.00018672392867145925, 0.00018672392867145925, 0.00018672392867145925, 0.0002489652382286123, 0.00031120654778576544], \"xaxis\": \"x\", \"y\": [0.0, 0.0, 0.0, 0.0, 0.0, 0.0, 0.0, 0.058084772370486655, 0.05825242718446602, 0.05194805194805195, 0.05128205128205128, 0.05863539445628998, 0.0663594470046083], \"yaxis\": \"y\"}, {\"hoverlabel\": {\"namelength\": 0}, \"hovertemplate\": \"Country/Region=Germany<br>MeanGrowth_7d=%{x}<br>DailyGrowth_7d=%{y}\", \"legendgroup\": \"Germany\", \"marker\": {\"color\": \"#EF553B\", \"symbol\": \"circle\"}, \"mode\": \"lines+markers\", \"name\": \"Germany\", \"showlegend\": true, \"type\": \"scattergl\", \"x\": [0.0, 0.00018672392867145925, 0.0002489652382286123, 0.0003734478573429185, 0.0006535337503501073, 0.0015560327389288271, 0.002302928453614664, 0.0032054274421933837, 0.004045685121214951, 0.004512494942893599, 0.005601717860143777, 0.007313353872965487, 0.007095509289515451, 0.013350760900009336, 0.01683627423520991, 0.02113092459465347, 0.027106090312140167, 0.03466840942333427, 0.04630753431052189, 0.058880278841066815, 0.07188871253851181, 0.07836180873245573, 0.08480378427162108, 0.0968474776709302, 0.10549901969937447, 0.11113185821429683, 0.12722123673482091, 0.13792674197865123, 0.1577505990726045, 0.16546852145769148, 0.16817601842342764, 0.1725951514019855, 0.1802819531322939, 0.18165126194255127, 0.179099368250708], \"xaxis\": \"x\", \"y\": [0.0, 0.04285714285714286, 0.050314465408805034, 0.06268221574344024, 0.07906215921483098, 0.1031416716064019, 0.10980810234541577, 0.12873234400143035, 0.125, 0.12354227405247813, 0.12363957250710854, 0.12324049116501946, 0.109720885466795, 0.11681243926141885, 0.11796229942358624, 0.11721927770245286, 0.11975483262611976, 0.12037222796648096, 0.1207454020790599, 0.12348004475941814, 0.11640611504577648, 0.11336990565370343, 0.10957377764759263, 0.10710352422907489, 0.1027665416497042, 0.0956744405020267, 0.09304669566857195, 0.08711952080472456, 0.0878560905252993, 0.08563376393314391, 0.08079753094330354, 0.07723373440285206, 0.07438763978983827, 0.0688323634758524, 0.06313615300111422], \"yaxis\": \"y\"}, {\"hoverlabel\": {\"namelength\": 0}, \"hovertemplate\": \"Country/Region=Ghana<br>MeanGrowth_7d=%{x}<br>DailyGrowth_7d=%{y}\", \"legendgroup\": \"Ghana\", \"marker\": {\"color\": \"#00cc96\", \"symbol\": \"circle\"}, \"mode\": \"lines+markers\", \"name\": \"Ghana\", \"showlegend\": true, \"type\": \"scattergl\", \"x\": [0.0, 0.0, 0.0, 0.0, 0.0, 0.0, 0.0, 0.00046680982167864813, 0.00046680982167864813, 0.00031120654778576544, 0.00031120654778576544], \"xaxis\": \"x\", \"y\": [0.0, 0.0, 0.0, 0.0, 0.0, 0.0, 0.0, 0.09582963620230701, 0.07472527472527472, 0.05042016806722689, 0.04738675958188153], \"yaxis\": \"y\"}, {\"hoverlabel\": {\"namelength\": 0}, \"hovertemplate\": \"Country/Region=Greece<br>MeanGrowth_7d=%{x}<br>DailyGrowth_7d=%{y}\", \"legendgroup\": \"Greece\", \"marker\": {\"color\": \"#ab63fa\", \"symbol\": \"circle\"}, \"mode\": \"lines+markers\", \"name\": \"Greece\", \"showlegend\": true, \"type\": \"scattergl\", \"x\": [0.0, 0.0, 0.0, 0.0, 0.0, 0.0, 9.336196433572963e-05, 0.001151464226807332, 0.001151464226807332, 0.0013381881554787912, 0.001431550119814521, 0.001431550119814521, 0.0013693088102573678, 0.0013381881554787912, 0.0013070675007002147, 0.00161827404848598, 0.0015871533937074037, 0.0018049979771574394, 0.002116204524943205, 0.0020850838701646284, 0.0023651697631718173, 0.0023651697631718173, 0.002302928453614664, 0.002551893691843276, 0.002645255656179006, 0.002894220894407618, 0.002863100239629042], \"xaxis\": \"x\", \"y\": [0.0, 0.0, 0.0, 0.0, 0.0, 0.0, 0.014411027568922305, 0.11135088476478204, 0.11135088476478204, 0.11000369139904023, 0.10902255639097744, 0.10902255639097744, 0.08802308802308802, 0.08140161725067387, 0.06707875457875458, 0.07482014388489208, 0.06844837531243991, 0.07012354271793979, 0.07591287636130685, 0.06965394853593612, 0.07149589336205736, 0.0657439446366782, 0.06093823668081094, 0.06207871276364427, 0.059969712266532055, 0.06032568467801628, 0.05730227614914534], \"yaxis\": \"y\"}, {\"hoverlabel\": {\"namelength\": 0}, \"hovertemplate\": \"Country/Region=Guinea<br>MeanGrowth_7d=%{x}<br>DailyGrowth_7d=%{y}\", \"legendgroup\": \"Guinea\", \"marker\": {\"color\": \"#FFA15A\", \"symbol\": \"circle\"}, \"mode\": \"lines+markers\", \"name\": \"Guinea\", \"showlegend\": true, \"type\": \"scattergl\", \"x\": [0.0, 0.0], \"xaxis\": \"x\", \"y\": [0.0, 0.0], \"yaxis\": \"y\"}, {\"hoverlabel\": {\"namelength\": 0}, \"hovertemplate\": \"Country/Region=Honduras<br>MeanGrowth_7d=%{x}<br>DailyGrowth_7d=%{y}\", \"legendgroup\": \"Honduras\", \"marker\": {\"color\": \"#19d3f3\", \"symbol\": \"circle\"}, \"mode\": \"lines+markers\", \"name\": \"Honduras\", \"showlegend\": true, \"type\": \"scattergl\", \"x\": [0.0, 0.0, 0.0, 0.0, 0.0, 0.000404568512121495, 0.00043568916690007157, 0.000746895714685837, 0.0006846544051286839], \"xaxis\": \"x\", \"y\": [0.0, 0.0, 0.0, 0.0, 0.0, 0.09017223910840931, 0.08222591362126246, 0.10893672537508155, 0.0990990990990991], \"yaxis\": \"y\"}, {\"hoverlabel\": {\"namelength\": 0}, \"hovertemplate\": \"Country/Region=Hungary<br>MeanGrowth_7d=%{x}<br>DailyGrowth_7d=%{y}\", \"legendgroup\": \"Hungary\", \"marker\": {\"color\": \"#FF6692\", \"symbol\": \"circle\"}, \"mode\": \"lines+markers\", \"name\": \"Hungary\", \"showlegend\": true, \"type\": \"scattergl\", \"x\": [0.0, 0.0, 0.0, 0.0, 0.0, 0.0, 0.0, 0.000746895714685837, 0.0008402576790215666, 0.0009647402981358728, 0.0010581022624716024, 0.0012448261911430618, 0.0012448261911430618, 0.0013693088102573678, 0.0013381881554787912, 0.001431550119814521, 0.001431550119814521], \"xaxis\": \"x\", \"y\": [0.0, 0.0, 0.0, 0.0, 0.0, 0.0, 0.0, 0.10619469026548672, 0.10290093048713739, 0.10238095238095238, 0.09995835068721366, 0.09698879551820727, 0.0894854586129754, 0.08855981416957026, 0.08136054421768708, 0.07912087912087912, 0.07406558128869525], \"yaxis\": \"y\"}, {\"hoverlabel\": {\"namelength\": 0}, \"hovertemplate\": \"Country/Region=India<br>MeanGrowth_7d=%{x}<br>DailyGrowth_7d=%{y}\", \"legendgroup\": \"India\", \"marker\": {\"color\": \"#B6E880\", \"symbol\": \"circle\"}, \"mode\": \"lines+markers\", \"name\": \"India\", \"showlegend\": true, \"type\": \"scattergl\", \"x\": [0.0, 0.0, 0.0, 0.0, 0.0, 0.0, 0.0, 0.0003734478573429185, 0.000404568512121495, 0.0005290511312358012, 0.0007157750599072605, 0.0010269816076930258, 0.0012448261911430618, 0.0016805153580431332, 0.0017427566676002863, 0.002240687144057511, 0.0023651697631718173, 0.002863100239629042, 0.002925341549186195, 0.0028008589300718887, 0.00332991006130769, 0.0038278405377649145, 0.005975165717486696, 0.008060249587651324, 0.00746895714685837], \"xaxis\": \"x\", \"y\": [0.0, 0.0, 0.0, 0.0, 0.0, 0.0, 0.0, 0.08651911468812878, 0.08608058608058608, 0.08910162002945507, 0.09484777517564402, 0.09870129870129869, 0.1020923520923521, 0.10878900658459777, 0.10501066098081023, 0.10893672537508153, 0.10473570446060129, 0.1035593493316154, 0.09509335649153279, 0.08761160714285714, 0.08587415781660386, 0.08804581245526127, 0.0958815958815959, 0.10201674063254874, 0.09349435138293728], \"yaxis\": \"y\"}, {\"hoverlabel\": {\"namelength\": 0}, \"hovertemplate\": \"Country/Region=Indonesia<br>MeanGrowth_7d=%{x}<br>DailyGrowth_7d=%{y}\", \"legendgroup\": \"Indonesia\", \"marker\": {\"color\": \"#FF97FF\", \"symbol\": \"circle\"}, \"mode\": \"lines+markers\", \"name\": \"Indonesia\", \"showlegend\": true, \"type\": \"scattergl\", \"x\": [0.0, 0.0, 0.0, 0.0, 0.0, 0.0, 0.0, 0.0013381881554787912, 0.0015871533937074037, 0.0017738773223788628, 0.0019917219058288986, 0.0022718077988360874, 0.0024896523822861235, 0.002583014346621853, 0.0030187035135219244, 0.0031431861326362306, 0.0034232720256434195, 0.0037033579186506083, 0.003734478573429185, 0.00395232315687922, 0.003983443811657797, 0.004170167740329257], \"xaxis\": \"x\", \"y\": [0.0, 0.0, 0.0, 0.0, 0.0, 0.0, 0.0, 0.11614401858304296, 0.11238095238095237, 0.1103390772651473, 0.10979521342215642, 0.1070387338608913, 0.10180831826401447, 0.09310510318349063, 0.09246107620868614, 0.08719851576994433, 0.08571428571428572, 0.08436047686401293, 0.0787210172026926, 0.07556009881591276, 0.07158818834796488, 0.06761617033520356], \"yaxis\": \"y\"}, {\"hoverlabel\": {\"namelength\": 0}, \"hovertemplate\": \"Country/Region=Iran<br>MeanGrowth_7d=%{x}<br>DailyGrowth_7d=%{y}\", \"legendgroup\": \"Iran\", \"marker\": {\"color\": \"#FECB52\", \"symbol\": \"circle\"}, \"mode\": \"lines+markers\", \"name\": \"Iran\", \"showlegend\": true, \"type\": \"scattergl\", \"x\": [0.0, 0.0, 0.0, 0.0, 0.0, 0.0, 0.0, 0.0064108548843867675, 0.009958609529144494, 0.012386020601873464, 0.014533345781595245, 0.019388167927053186, 0.023247129119596675, 0.02483428251330408, 0.025176609715868423, 0.02536333364453988, 0.027012728347804438, 0.02916005352752622, 0.029409018765754833, 0.030716086266455046, 0.0327700494818411, 0.03482401269722715, 0.036131080197927365, 0.03715806180562039, 0.037033579186506085, 0.036815734603056045, 0.035041857280677186, 0.034232720256434195, 0.0358198736501416, 0.03843400865154203, 0.04291538293965705, 0.04889054865714375, 0.05642174711355927, 0.0657890642019108, 0.07412939968256932, 0.08200292534154918, 0.08800921171381446, 0.09146360439423645, 0.09364205022873681, 0.09270843058537952], \"xaxis\": \"x\", \"y\": [0.0, 0.0, 0.0, 0.0, 0.0, 0.0, 0.0, 0.13705148948320167, 0.13704745596868886, 0.13606140608193995, 0.13289414826562562, 0.13118059526317372, 0.12830892274478053, 0.1215786954440625, 0.11291320047080415, 0.10136071339752016, 0.09647619047619048, 0.0930450194966324, 0.08318248101775029, 0.07750580788525639, 0.07555910870590164, 0.07461619829040282, 0.07180406951573999, 0.0687995260312523, 0.06466484023934993, 0.060214678418710185, 0.054626741526304846, 0.05083649135779647, 0.04994328852196872, 0.04975903545086569, 0.051057799586503735, 0.053434187386442025, 0.05606122196497058, 0.059704021690013556, 0.06216741310322453, 0.06350506945759386, 0.06339455858568066, 0.06176178369568154, 0.05961910800620478, 0.056008767570732865], \"yaxis\": \"y\"}, {\"hoverlabel\": {\"namelength\": 0}, \"hovertemplate\": \"Country/Region=Iraq<br>MeanGrowth_7d=%{x}<br>DailyGrowth_7d=%{y}\", \"legendgroup\": \"Iraq\", \"marker\": {\"color\": \"#636efa\", \"symbol\": \"circle\"}, \"mode\": \"lines+markers\", \"name\": \"Iraq\", \"showlegend\": true, \"type\": \"scattergl\", \"x\": [0.0, 0.0, 0.0, 0.0, 0.0, 0.0, 0.0, 0.0002489652382286123, 0.0002489652382286123, 0.0002800858930071889, 0.0003734478573429185, 0.000404568512121495, 0.0005290511312358012, 0.00046680982167864813, 0.00046680982167864813, 0.0005290511312358012, 0.0006224130955715309, 0.0007157750599072605, 0.00080913702424299, 0.0008402576790215666, 0.0011203435720287555, 0.0013070675007002147, 0.0014004294650359443, 0.00161827404848598, 0.0016805153580431332, 0.0017116360128217097, 0.0017427566676002863, 0.00161827404848598], \"xaxis\": \"x\", \"y\": [0.0, 0.0, 0.0, 0.0, 0.0, 0.0, 0.0, 0.07272727272727272, 0.06896551724137931, 0.07373271889400922, 0.07699443413729129, 0.08101045296167247, 0.0900297619047619, 0.07348901098901099, 0.06942590120160214, 0.07173513182096873, 0.07626208378088077, 0.07323688969258589, 0.07514450867052024, 0.07105459985041136, 0.07797878976918278, 0.08243929983060418, 0.08200574562548968, 0.08253968253968254, 0.07780979827089338, 0.0749607535321821, 0.07216876387860843, 0.06306620209059234], \"yaxis\": \"y\"}, {\"hoverlabel\": {\"namelength\": 0}, \"hovertemplate\": \"Country/Region=Ireland<br>MeanGrowth_7d=%{x}<br>DailyGrowth_7d=%{y}\", \"legendgroup\": \"Ireland\", \"marker\": {\"color\": \"#EF553B\", \"symbol\": \"circle\"}, \"mode\": \"lines+markers\", \"name\": \"Ireland\", \"showlegend\": true, \"type\": \"scattergl\", \"x\": [0.0, 0.0, 0.0, 0.0, 0.0, 0.0, 0.0, 0.002645255656179006, 0.002925341549186195, 0.0034543926804219962, 0.004263529704664986, 0.0049170634550150935, 0.005663959169700931, 0.005601717860143777, 0.006379734229608191, 0.007251112563408334, 0.007593439765972676, 0.007935766968537018, 0.00846481809977282, 0.00837145613543709, 0.009024989885787198, 0.009554041017022999], \"xaxis\": \"x\", \"y\": [0.0, 0.0, 0.0, 0.0, 0.0, 0.0, 0.0, 0.1240326291570801, 0.11938125568698817, 0.12251655629139073, 0.1213968253968254, 0.11888638073739653, 0.11618560467665327, 0.09911254221314694, 0.09685458341752542, 0.09642117716651878, 0.09336246927069107, 0.08762886597938144, 0.08416869066018988, 0.0780388743835219, 0.0753442452585087, 0.0719467754337869], \"yaxis\": \"y\"}, {\"hoverlabel\": {\"namelength\": 0}, \"hovertemplate\": \"Country/Region=Israel<br>MeanGrowth_7d=%{x}<br>DailyGrowth_7d=%{y}\", \"legendgroup\": \"Israel\", \"marker\": {\"color\": \"#00cc96\", \"symbol\": \"circle\"}, \"mode\": \"lines+markers\", \"name\": \"Israel\", \"showlegend\": true, \"type\": \"scattergl\", \"x\": [0.0, 0.0, 0.0, 0.0, 0.0, 0.0, 0.0, 0.0006846544051286839, 0.0006846544051286839, 0.0007780163694644136, 0.0009958609529144493, 0.0014626707745930975, 0.0018049979771574394, 0.0024896523822861235, 0.002987582858743348, 0.003796719882986338, 0.004388012323779293, 0.009180593159680079, 0.0100830921482588, 0.011141194410730401, 0.012915071733109264, 0.014969034948495316, 0.016120499175302647, 0.018330065664581584, 0.01655618834220272, 0.018516789593253043, 0.019543771200946067], \"xaxis\": \"x\", \"y\": [0.0, 0.0, 0.0, 0.0, 0.0, 0.0, 0.0, 0.10194500335345406, 0.10288335517693316, 0.1, 0.10573308270676693, 0.109401137504182, 0.10883067782878747, 0.11175762439807384, 0.10839669956317748, 0.11377884487128186, 0.11400876990537734, 0.12452511608273534, 0.12020582462468835, 0.11795716639209226, 0.114751509888288, 0.11315550472602509, 0.11026928343222273, 0.10984909081213672, 0.08730419285245287, 0.08675180732931936, 0.08448726825140396], \"yaxis\": \"y\"}, {\"hoverlabel\": {\"namelength\": 0}, \"hovertemplate\": \"Country/Region=Italy<br>MeanGrowth_7d=%{x}<br>DailyGrowth_7d=%{y}\", \"legendgroup\": \"Italy\", \"marker\": {\"color\": \"#ab63fa\", \"symbol\": \"circle\"}, \"mode\": \"lines+markers\", \"name\": \"Italy\", \"showlegend\": true, \"type\": \"scattergl\", \"x\": [0.0, 0.0, 0.0, 0.0, 0.0, 0.0, 0.0, 0.0047303395263436345, 0.006846544051286839, 0.008029128932872748, 0.009678523636137304, 0.011732486851523356, 0.014253259888588056, 0.01664955030653845, 0.02113092459465347, 0.025269971680204152, 0.03171194721936949, 0.03398375501820558, 0.04167055674851399, 0.03824728472287057, 0.057915538542930946, 0.06790526872685401, 0.07724146516042697, 0.08362119939003516, 0.09494911772943702, 0.10338281517443126, 0.12703451280614944, 0.13052002614135003, 0.14415087293436654, 0.15289577692714654, 0.15980456228799053, 0.16746024336352036, 0.1719416176516354, 0.17586282015373603, 0.1755204929511717, 0.17290635794977127, 0.171381445865621, 0.1681137771138705, 0.16279214514673387, 0.16089378520524072, 0.15404724115395388, 0.1481654374008029], \"xaxis\": \"x\", \"y\": [0.0, 0.0, 0.0, 0.0, 0.0, 0.0, 0.0, 0.13500506585612967, 0.12978579861696746, 0.12678922256525402, 0.12447185109055613, 0.12190722841418859, 0.1186032733466637, 0.11549365216319488, 0.11546587018285133, 0.11004358353510896, 0.11114572300791228, 0.10763903551370296, 0.10744663777884769, 0.0986312676250086, 0.10535512053065847, 0.1031337146098218, 0.1002834398397497, 0.09602777494128459, 0.09683869739097314, 0.09300734826453752, 0.09947257567581681, 0.08920330429868721, 0.08644539603142014, 0.08307687104738071, 0.08033046622375076, 0.07779328916717607, 0.07427088814715518, 0.0701159144370997, 0.06519886504394816, 0.060086141905503446, 0.056375699559681386, 0.05309384096279977, 0.04944473252095757, 0.04675343467464581, 0.04295680890151656, 0.039734665094558946], \"yaxis\": \"y\"}, {\"hoverlabel\": {\"namelength\": 0}, \"hovertemplate\": \"Country/Region=Japan<br>MeanGrowth_7d=%{x}<br>DailyGrowth_7d=%{y}\", \"legendgroup\": \"Japan\", \"marker\": {\"color\": \"#FFA15A\", \"symbol\": \"circle\"}, \"mode\": \"lines+markers\", \"name\": \"Japan\", \"showlegend\": true, \"type\": \"scattergl\", \"x\": [0.0, 0.0, 0.0, 0.0, 0.0, 0.0, 0.0, 0.000404568512121495, 0.000404568512121495, 0.00043568916690007157, 0.00046680982167864813, 0.0005290511312358012, 0.0005601717860143778, 0.0005290511312358012, 0.0004979304764572246, 0.0004979304764572246, 0.0005601717860143778, 0.0006224130955715309, 0.0006535337503501073, 0.0008402576790215666, 0.0009647402981358728, 0.001089222917250179, 0.0010581022624716024, 0.001275946845921638, 0.0013693088102573678, 0.0012448261911430618, 0.0012448261911430618, 0.0014004294650359443, 0.001493791429371674, 0.0014626707745930975, 0.0013070675007002147, 0.0011203435720287555, 0.001275946845921638, 0.001151464226807332, 0.0010269816076930258, 0.001151464226807332, 0.001275946845921638, 0.0014004294650359443, 0.0018672392867145925, 0.0020539632153860517, 0.002240687144057511, 0.003049824168300501, 0.003392151370864843, 0.003267668751750537, 0.003392151370864843, 0.0038589611925434913, 0.0049170634550150935, 0.005103787383686552], \"xaxis\": \"x\", \"y\": [0.0, 0.0, 0.0, 0.0, 0.0, 0.0, 0.0, 0.08551992225461613, 0.08355795148247978, 0.08067226890756302, 0.07936507936507936, 0.0801068090787717, 0.07706766917293234, 0.07053941908713693, 0.060825892857142856, 0.05995828988529718, 0.05997074597757192, 0.06128614587829089, 0.05793650793650794, 0.06530612244897958, 0.06817477533312674, 0.07000569151963575, 0.06625663964215822, 0.07081386771576101, 0.06885758998435054, 0.062374245472837014, 0.057265131444874676, 0.057660321567177965, 0.057381236165503155, 0.055848799591350244, 0.048324113244386596, 0.040173549734854576, 0.04406307977736549, 0.038866636997478124, 0.0331961980422755, 0.033995069417412746, 0.03660081053698075, 0.037720033528918694, 0.04568805333916275, 0.04768771243176434, 0.04914363565589723, 0.057885410513880686, 0.05856683509416629, 0.056499770326136886, 0.055592129324848215, 0.05712973894792077, 0.06344116805038648, 0.06272176428844368], \"yaxis\": \"y\"}, {\"hoverlabel\": {\"namelength\": 0}, \"hovertemplate\": \"Country/Region=Jordan<br>MeanGrowth_7d=%{x}<br>DailyGrowth_7d=%{y}\", \"legendgroup\": \"Jordan\", \"marker\": {\"color\": \"#19d3f3\", \"symbol\": \"circle\"}, \"mode\": \"lines+markers\", \"name\": \"Jordan\", \"showlegend\": true, \"type\": \"scattergl\", \"x\": [0.0, 0.0, 0.0, 0.0, 0.0, 0.0, 0.0, 0.0005290511312358012, 0.0006224130955715309, 0.0006535337503501073, 0.0007157750599072605, 0.0006535337503501073, 0.0006224130955715309, 0.0005290511312358012, 0.00046680982167864813, 0.0003734478573429185, 0.00034232720256434195], \"xaxis\": \"x\", \"y\": [0.0, 0.0, 0.0, 0.0, 0.0, 0.0, 0.0, 0.09966777408637874, 0.09636118598382748, 0.0911854103343465, 0.09349593495934959, 0.08108108108108109, 0.07515991471215351, 0.06256517205422314, 0.05447070914696814, 0.041567128523650264, 0.034562211981566816], \"yaxis\": \"y\"}, {\"hoverlabel\": {\"namelength\": 0}, \"hovertemplate\": \"Country/Region=Kazakhstan<br>MeanGrowth_7d=%{x}<br>DailyGrowth_7d=%{y}\", \"legendgroup\": \"Kazakhstan\", \"marker\": {\"color\": \"#FF6692\", \"symbol\": \"circle\"}, \"mode\": \"lines+markers\", \"name\": \"Kazakhstan\", \"showlegend\": true, \"type\": \"scattergl\", \"x\": [0.0, 0.0, 0.0, 0.0, 0.0, 0.0, 0.0, 0.0007780163694644136, 0.0009958609529144493, 0.0010581022624716024, 0.0012137055363644852, 0.0013381881554787912, 0.001431550119814521, 0.0014004294650359443], \"xaxis\": \"x\", \"y\": [0.0, 0.0, 0.0, 0.0, 0.0, 0.0, 0.0, 0.10964912280701754, 0.11267605633802817, 0.11352885525070955, 0.11286963765097877, 0.11240601503759398, 0.10640394088669951, 0.09667487684729063], \"yaxis\": \"y\"}, {\"hoverlabel\": {\"namelength\": 0}, \"hovertemplate\": \"Country/Region=Kenya<br>MeanGrowth_7d=%{x}<br>DailyGrowth_7d=%{y}\", \"legendgroup\": \"Kenya\", \"marker\": {\"color\": \"#B6E880\", \"symbol\": \"circle\"}, \"mode\": \"lines+markers\", \"name\": \"Kenya\", \"showlegend\": true, \"type\": \"scattergl\", \"x\": [0.0, 0.0, 0.0, 0.0], \"xaxis\": \"x\", \"y\": [0.0, 0.0, 0.0, 0.0], \"yaxis\": \"y\"}, {\"hoverlabel\": {\"namelength\": 0}, \"hovertemplate\": \"Country/Region=Korea, South<br>MeanGrowth_7d=%{x}<br>DailyGrowth_7d=%{y}\", \"legendgroup\": \"Korea, South\", \"marker\": {\"color\": \"#FF97FF\", \"symbol\": \"circle\"}, \"mode\": \"lines+markers\", \"name\": \"Korea, South\", \"showlegend\": true, \"type\": \"scattergl\", \"x\": [0.0, 0.0, 0.0, 0.0024274110727289704, 0.00332991006130769, 0.0038589611925434913, 0.0050726667289079765, 0.007375595182522641, 0.009491799707465845, 0.012074814054087698, 0.01394205334080229, 0.01556032738928827, 0.0187035135219245, 0.019388167927053186, 0.019201443998381727, 0.018921358105374538, 0.017303084056888556, 0.015902654591852614, 0.013973173995580866, 0.010332057386487412, 0.009491799707465845, 0.00790464631375844, 0.006161889646158155, 0.004636977562007904, 0.0037655992282077614, 0.0033610307160862663, 0.003578875299536302, 0.002925341549186195, 0.0030809448230790775, 0.002987582858743348, 0.0031743067874148074, 0.0035477546447577257, 0.00323654809697196, 0.0031743067874148074, 0.0032054274421933837, 0.0030187035135219244, 0.0030187035135219244, 0.0030187035135219244, 0.0027697382752933123, 0.0031120654778576543, 0.00332991006130769, 0.00332991006130769, 0.003267668751750537, 0.00323654809697196], \"xaxis\": \"x\", \"y\": [0.0, 0.0, 0.0, 0.12885619364024678, 0.12896587206311097, 0.12677292001754642, 0.1290359125410672, 0.13444426468209028, 0.13038694296717404, 0.12321995464852609, 0.11983787090853472, 0.11540616246498599, 0.11594402512258278, 0.11080895621013039, 0.10141730805331331, 0.09221902017291066, 0.07894576663217481, 0.06988554240400016, 0.06004279219042525, 0.04424711452529901, 0.03931104356636271, 0.03233302470816767, 0.024815139741822284, 0.01846224515034804, 0.014842300556586271, 0.013147852633039617, 0.013856456043956045, 0.0111731843575419, 0.011608706529897423, 0.011112211875041278, 0.011575990778172845, 0.012737736540883511, 0.01155802126675913, 0.011334355585766452, 0.011319751715943027, 0.010450322321331952, 0.010409650358214438, 0.010234226630090736, 0.009272372206735142, 0.010350895352447986, 0.010933987328837115, 0.010836740886300914, 0.010525260625501203, 0.010364312689894085], \"yaxis\": \"y\"}, {\"hoverlabel\": {\"namelength\": 0}, \"hovertemplate\": \"Country/Region=Kosovo<br>MeanGrowth_7d=%{x}<br>DailyGrowth_7d=%{y}\", \"legendgroup\": \"Kosovo\", \"marker\": {\"color\": \"#FECB52\", \"symbol\": \"circle\"}, \"mode\": \"lines+markers\", \"name\": \"Kosovo\", \"showlegend\": true, \"type\": \"scattergl\", \"x\": [0.0, 0.0, 0.0, 0.0, 0.0, 0.0, 0.0, 0.0002489652382286123, 0.00018672392867145925], \"xaxis\": \"x\", \"y\": [0.0, 0.0, 0.0, 0.0, 0.0, 0.0, 0.0, 0.061714285714285715, 0.045351473922902494], \"yaxis\": \"y\"}, {\"hoverlabel\": {\"namelength\": 0}, \"hovertemplate\": \"Country/Region=Kuwait<br>MeanGrowth_7d=%{x}<br>DailyGrowth_7d=%{y}\", \"legendgroup\": \"Kuwait\", \"marker\": {\"color\": \"#636efa\", \"symbol\": \"circle\"}, \"mode\": \"lines+markers\", \"name\": \"Kuwait\", \"showlegend\": true, \"type\": \"scattergl\", \"x\": [0.0, 0.0, 0.0, 0.0, 0.0, 0.0, 0.0, 3.112065477857654e-05, 6.224130955715308e-05, 6.224130955715308e-05, 9.336196433572963e-05, 9.336196433572963e-05, 0.00018672392867145925, 0.00021784458345003579, 0.0002489652382286123, 0.0002800858930071889, 0.00031120654778576544, 0.00031120654778576544, 0.00034232720256434195, 0.00031120654778576544, 0.00034232720256434195, 0.0002800858930071889, 0.0002800858930071889, 0.0002489652382286123, 0.0002800858930071889, 0.0002800858930071889, 0.0002489652382286123, 0.00031120654778576544, 0.00034232720256434195, 0.00043568916690007157, 0.0005290511312358012, 0.0005912924407929543, 0.0008402576790215666], \"xaxis\": \"x\", \"y\": [0.0, 0.0, 0.0, 0.0, 0.0, 0.0, 0.0, 0.017857142857142856, 0.026915113871635612, 0.031746031746031744, 0.039285714285714285, 0.039285714285714285, 0.05906593406593407, 0.061224489795918366, 0.06852497096399536, 0.06703296703296703, 0.07042253521126761, 0.06563706563706563, 0.07097933513027853, 0.05844155844155845, 0.057750759878419454, 0.049886621315192746, 0.0456245325355273, 0.03882783882783883, 0.04120879120879121, 0.0419047619047619, 0.035866261398176294, 0.03753501400560224, 0.041353383458646614, 0.04844290657439446, 0.054979720594862544, 0.055973266499582286, 0.065775950668037], \"yaxis\": \"y\"}, {\"hoverlabel\": {\"namelength\": 0}, \"hovertemplate\": \"Country/Region=Kyrgyzstan<br>MeanGrowth_7d=%{x}<br>DailyGrowth_7d=%{y}\", \"legendgroup\": \"Kyrgyzstan\", \"marker\": {\"color\": \"#EF553B\", \"symbol\": \"circle\"}, \"mode\": \"lines+markers\", \"name\": \"Kyrgyzstan\", \"showlegend\": true, \"type\": \"scattergl\", \"x\": [0.0, 0.0, 0.0, 0.0, 0.0, 0.0, 0.0, 0.00031120654778576544], \"xaxis\": \"x\", \"y\": [0.0, 0.0, 0.0, 0.0, 0.0, 0.0, 0.0, 0.07912087912087913], \"yaxis\": \"y\"}, {\"hoverlabel\": {\"namelength\": 0}, \"hovertemplate\": \"Country/Region=Latvia<br>MeanGrowth_7d=%{x}<br>DailyGrowth_7d=%{y}\", \"legendgroup\": \"Latvia\", \"marker\": {\"color\": \"#00cc96\", \"symbol\": \"circle\"}, \"mode\": \"lines+markers\", \"name\": \"Latvia\", \"showlegend\": true, \"type\": \"scattergl\", \"x\": [6.224130955715308e-05, 0.0, 6.224130955715308e-05, 6.224130955715308e-05, 0.00012448261911430616, 0.0002800858930071889, 0.00031120654778576544, 0.0006535337503501073, 0.0007157750599072605, 0.000746895714685837, 0.00080913702424299, 0.0009336196433572963, 0.0008713783338001431, 0.0009024989885787197, 0.0009958609529144493, 0.0009647402981358728, 0.0009336196433572963], \"xaxis\": \"x\", \"y\": [0.026156941649899398, 0.0033222591362126242, 0.021879021879021878, 0.019585253456221197, 0.02877697841726619, 0.050793650793650794, 0.048585931834662796, 0.09696186166774401, 0.09250585480093677, 0.08622448979591836, 0.08477751756440281, 0.08563194730341704, 0.07446808510638298, 0.07214644651830582, 0.0720691864189622, 0.06674984404242046, 0.06172124022022602], \"yaxis\": \"y\"}, {\"hoverlabel\": {\"namelength\": 0}, \"hovertemplate\": \"Country/Region=Lebanon<br>MeanGrowth_7d=%{x}<br>DailyGrowth_7d=%{y}\", \"legendgroup\": \"Lebanon\", \"marker\": {\"color\": \"#ab63fa\", \"symbol\": \"circle\"}, \"mode\": \"lines+markers\", \"name\": \"Lebanon\", \"showlegend\": true, \"type\": \"scattergl\", \"x\": [0.0, 0.0, 0.0, 0.0, 0.0, 0.0, 0.0, 0.00031120654778576544, 0.00043568916690007157, 0.0003734478573429185, 0.000404568512121495, 0.0006224130955715309, 0.0006846544051286839, 0.0008713783338001431, 0.0009024989885787197, 0.0009336196433572963, 0.0010269816076930258, 0.0009958609529144493, 0.0008402576790215666, 0.00080913702424299, 0.0006846544051286839, 0.0006535337503501073, 0.0005601717860143778, 0.0005290511312358012], \"xaxis\": \"x\", \"y\": [0.0, 0.0, 0.0, 0.0, 0.0, 0.0, 0.0, 0.07733619763694952, 0.08735213830755231, 0.07537248028045575, 0.0718105423987777, 0.07949308755760369, 0.08400214018191546, 0.0889487870619946, 0.0858000858000858, 0.08190993788819875, 0.08330288637194007, 0.07801664355062414, 0.06196999347684279, 0.057335041639974375, 0.046200607902735565, 0.04354309573516254, 0.03643724696356275, 0.03290213723284589], \"yaxis\": \"y\"}, {\"hoverlabel\": {\"namelength\": 0}, \"hovertemplate\": \"Country/Region=Liechtenstein<br>MeanGrowth_7d=%{x}<br>DailyGrowth_7d=%{y}\", \"legendgroup\": \"Liechtenstein\", \"marker\": {\"color\": \"#FFA15A\", \"symbol\": \"circle\"}, \"mode\": \"lines+markers\", \"name\": \"Liechtenstein\", \"showlegend\": true, \"type\": \"scattergl\", \"x\": [0.0, 0.0, 0.0, 0.0, 0.0, 0.0, 0.0, 6.224130955715308e-05, 6.224130955715308e-05, 6.224130955715308e-05, 9.336196433572963e-05, 9.336196433572963e-05], \"xaxis\": \"x\", \"y\": [0.0, 0.0, 0.0, 0.0, 0.0, 0.0, 0.0, 0.025345622119815666, 0.03571428571428571, 0.03571428571428571, 0.03619047619047619, 0.03619047619047619], \"yaxis\": \"y\"}, {\"hoverlabel\": {\"namelength\": 0}, \"hovertemplate\": \"Country/Region=Lithuania<br>MeanGrowth_7d=%{x}<br>DailyGrowth_7d=%{y}\", \"legendgroup\": \"Lithuania\", \"marker\": {\"color\": \"#19d3f3\", \"symbol\": \"circle\"}, \"mode\": \"lines+markers\", \"name\": \"Lithuania\", \"showlegend\": true, \"type\": \"scattergl\", \"x\": [0.00012448261911430616, 0.0003734478573429185, 0.0005290511312358012, 0.0006224130955715309, 0.0009024989885787197, 0.0009958609529144493, 0.0012448261911430618, 0.0013693088102573678, 0.0014004294650359443, 0.0014004294650359443, 0.0014626707745930975, 0.0013693088102573678, 0.0015560327389288271, 0.001493791429371674], \"xaxis\": \"x\", \"y\": [0.04647160068846816, 0.08691308691308691, 0.0933758978451716, 0.09637730690362269, 0.10740354535974973, 0.10702341137123746, 0.11292897047086992, 0.11276287164612038, 0.0984472049689441, 0.0907768402676753, 0.08725724926842245, 0.07548561593312023, 0.07704160246533127, 0.069376026272578], \"yaxis\": \"y\"}, {\"hoverlabel\": {\"namelength\": 0}, \"hovertemplate\": \"Country/Region=Luxembourg<br>MeanGrowth_7d=%{x}<br>DailyGrowth_7d=%{y}\", \"legendgroup\": \"Luxembourg\", \"marker\": {\"color\": \"#FF6692\", \"symbol\": \"circle\"}, \"mode\": \"lines+markers\", \"name\": \"Luxembourg\", \"showlegend\": true, \"type\": \"scattergl\", \"x\": [0.0, 0.0, 0.0, 0.0, 0.0, 0.0, 0.0, 0.0027386176205147356, 0.003298789406529113, 0.0035477546447577257, 0.004263529704664986, 0.005010425419350823, 0.004979304764572247, 0.004979304764572247, 0.005166028693243706, 0.005134908038465129, 0.00494818410979367, 0.004792580835900787, 0.004388012323779293, 0.004605856907229328, 0.004481374288115022], \"xaxis\": \"x\", \"y\": [0.0, 0.0, 0.0, 0.0, 0.0, 0.0, 0.0, 0.13198294243070363, 0.13229502327246687, 0.13028571428571428, 0.12465878070973613, 0.12110170399742792, 0.10992036181299775, 0.0997774810858923, 0.09058281969259577, 0.0843956043956044, 0.07997987927565392, 0.07077266168175259, 0.06074046695004005, 0.059394566029065426, 0.05507547582585868], \"yaxis\": \"y\"}, {\"hoverlabel\": {\"namelength\": 0}, \"hovertemplate\": \"Country/Region=Madagascar<br>MeanGrowth_7d=%{x}<br>DailyGrowth_7d=%{y}\", \"legendgroup\": \"Madagascar\", \"marker\": {\"color\": \"#B6E880\", \"symbol\": \"circle\"}, \"mode\": \"lines+markers\", \"name\": \"Madagascar\", \"showlegend\": true, \"type\": \"scattergl\", \"x\": [0.0, 0.0, 0.0, 0.0], \"xaxis\": \"x\", \"y\": [0.0, 0.0, 0.0, 0.0], \"yaxis\": \"y\"}, {\"hoverlabel\": {\"namelength\": 0}, \"hovertemplate\": \"Country/Region=Malaysia<br>MeanGrowth_7d=%{x}<br>DailyGrowth_7d=%{y}\", \"legendgroup\": \"Malaysia\", \"marker\": {\"color\": \"#FF97FF\", \"symbol\": \"circle\"}, \"mode\": \"lines+markers\", \"name\": \"Malaysia\", \"showlegend\": true, \"type\": \"scattergl\", \"x\": [0.0, 0.0, 0.0, 0.0002800858930071889, 0.00031120654778576544, 0.000404568512121495, 0.00034232720256434195, 0.0004979304764572246, 0.0006535337503501073, 0.0014626707745930975, 0.0019917219058288986, 0.0024274110727289704, 0.002863100239629042, 0.00332991006130769, 0.0037033579186506083, 0.004201288395107833, 0.0038900818473220676, 0.00423240904988641, 0.00423240904988641, 0.004481374288115022, 0.0050415460741294, 0.0050415460741294, 0.0050415460741294, 0.005166028693243706, 0.0049170634550150935, 0.0050726667289079765, 0.00494818410979367, 0.004823701490679364, 0.005197149348022283], \"xaxis\": \"x\", \"y\": [0.0, 0.0, 0.0, 0.07326007326007326, 0.079734219269103, 0.0862895493767977, 0.07574304889741132, 0.0826686004350979, 0.08703481392557023, 0.10981308411214953, 0.11332660272589601, 0.11547442156654637, 0.11591320072332731, 0.11920634920634922, 0.11553398058252427, 0.11411665257819104, 0.0960402537737913, 0.08959156785243742, 0.08365587614356088, 0.08001909004136176, 0.07955264823802491, 0.07476697296225293, 0.07001231527093596, 0.06732215153267784, 0.06027635730606027, 0.05898151017456874, 0.0546276282177245, 0.04974326059050064, 0.05023359478805023], \"yaxis\": \"y\"}, {\"hoverlabel\": {\"namelength\": 0}, \"hovertemplate\": \"Country/Region=Malta<br>MeanGrowth_7d=%{x}<br>DailyGrowth_7d=%{y}\", \"legendgroup\": \"Malta\", \"marker\": {\"color\": \"#FECB52\", \"symbol\": \"circle\"}, \"mode\": \"lines+markers\", \"name\": \"Malta\", \"showlegend\": true, \"type\": \"scattergl\", \"x\": [0.0, 0.0, 0.0, 0.0, 0.0, 0.0, 0.0, 0.0003734478573429185, 0.00034232720256434195, 0.00034232720256434195, 0.0002800858930071889, 0.00021784458345003579, 0.0002489652382286123, 0.0002489652382286123, 0.0002800858930071889, 0.0002800858930071889], \"xaxis\": \"x\", \"y\": [0.0, 0.0, 0.0, 0.0, 0.0, 0.0, 0.0, 0.08635394456289978, 0.07708119218910585, 0.0728667305848514, 0.05771050141911069, 0.04487179487179487, 0.049873203719357564, 0.044832826747720364, 0.04518950437317785, 0.04455445544554455], \"yaxis\": \"y\"}, {\"hoverlabel\": {\"namelength\": 0}, \"hovertemplate\": \"Country/Region=Mauritius<br>MeanGrowth_7d=%{x}<br>DailyGrowth_7d=%{y}\", \"legendgroup\": \"Mauritius\", \"marker\": {\"color\": \"#636efa\", \"symbol\": \"circle\"}, \"mode\": \"lines+markers\", \"name\": \"Mauritius\", \"showlegend\": true, \"type\": \"scattergl\", \"x\": [0.0, 0.0, 0.0, 0.0, 0.0, 0.0, 0.0, 0.000404568512121495, 0.000404568512121495], \"xaxis\": \"x\", \"y\": [0.0, 0.0, 0.0, 0.0, 0.0, 0.0, 0.0, 0.07438715131022823, 0.0706605222734255], \"yaxis\": \"y\"}, {\"hoverlabel\": {\"namelength\": 0}, \"hovertemplate\": \"Country/Region=Mexico<br>MeanGrowth_7d=%{x}<br>DailyGrowth_7d=%{y}\", \"legendgroup\": \"Mexico\", \"marker\": {\"color\": \"#EF553B\", \"symbol\": \"circle\"}, \"mode\": \"lines+markers\", \"name\": \"Mexico\", \"showlegend\": true, \"type\": \"scattergl\", \"x\": [0.0, 0.0, 0.0, 0.0, 0.0, 0.00015560327389288272, 0.0002800858930071889, 0.0011825848815859086, 0.001275946845921638, 0.0014004294650359443, 0.0015871533937074037, 0.0018672392867145925, 0.0022718077988360874, 0.002645255656179006, 0.0030187035135219244, 0.00323654809697196, 0.003609995954314879, 0.004014564466436374, 0.004107926430772103], \"xaxis\": \"x\", \"y\": [0.0, 0.0, 0.0, 0.0, 0.0026132404181184667, 0.023926812104152005, 0.03699487763232783, 0.11889692585895117, 0.11093810821331257, 0.11005291005291004, 0.10736842105263159, 0.10280830280830282, 0.10241083881251245, 0.10057277628032346, 0.09739605812113364, 0.09493340297727866, 0.09523809523809523, 0.09361393323657474, 0.08751182592242195], \"yaxis\": \"y\"}, {\"hoverlabel\": {\"namelength\": 0}, \"hovertemplate\": \"Country/Region=Moldova<br>MeanGrowth_7d=%{x}<br>DailyGrowth_7d=%{y}\", \"legendgroup\": \"Moldova\", \"marker\": {\"color\": \"#00cc96\", \"symbol\": \"circle\"}, \"mode\": \"lines+markers\", \"name\": \"Moldova\", \"showlegend\": true, \"type\": \"scattergl\", \"x\": [0.0, 0.0, 0.0, 0.0, 0.0, 0.0, 0.0, 0.0005912924407929543, 0.0006846544051286839, 0.000746895714685837, 0.0008402576790215666, 0.0010269816076930258, 0.0012137055363644852, 0.0014626707745930975, 0.0017427566676002863], \"xaxis\": \"x\", \"y\": [0.0, 0.0, 0.0, 0.0, 0.0, 0.0, 0.0, 0.09547738693467336, 0.09338280766852196, 0.09179793590439977, 0.09060402684563758, 0.09227033589639821, 0.09253630530226276, 0.09278642149929278, 0.09475465313028765], \"yaxis\": \"y\"}, {\"hoverlabel\": {\"namelength\": 0}, \"hovertemplate\": \"Country/Region=Monaco<br>MeanGrowth_7d=%{x}<br>DailyGrowth_7d=%{y}\", \"legendgroup\": \"Monaco\", \"marker\": {\"color\": \"#ab63fa\", \"symbol\": \"circle\"}, \"mode\": \"lines+markers\", \"name\": \"Monaco\", \"showlegend\": true, \"type\": \"scattergl\", \"x\": [0.0, 0.0, 0.0, 0.0], \"xaxis\": \"x\", \"y\": [0.0, 0.0, 0.0, 0.0], \"yaxis\": \"y\"}, {\"hoverlabel\": {\"namelength\": 0}, \"hovertemplate\": \"Country/Region=Montenegro<br>MeanGrowth_7d=%{x}<br>DailyGrowth_7d=%{y}\", \"legendgroup\": \"Montenegro\", \"marker\": {\"color\": \"#FFA15A\", \"symbol\": \"circle\"}, \"mode\": \"lines+markers\", \"name\": \"Montenegro\", \"showlegend\": true, \"type\": \"scattergl\", \"x\": [0.0, 0.0, 0.0, 0.00015560327389288272, 0.00012448261911430616, 0.00012448261911430616, 0.00018672392867145925, 0.00031120654778576544, 0.00034232720256434195, 0.000404568512121495], \"xaxis\": \"x\", \"y\": [0.0, 0.0, 0.0, 0.05442176870748299, 0.05042016806722689, 0.04866562009419152, 0.05897771952817825, 0.08246225319396051, 0.0744047619047619, 0.07553366174055828], \"yaxis\": \"y\"}, {\"hoverlabel\": {\"namelength\": 0}, \"hovertemplate\": \"Country/Region=Morocco<br>MeanGrowth_7d=%{x}<br>DailyGrowth_7d=%{y}\", \"legendgroup\": \"Morocco\", \"marker\": {\"color\": \"#19d3f3\", \"symbol\": \"circle\"}, \"mode\": \"lines+markers\", \"name\": \"Morocco\", \"showlegend\": true, \"type\": \"scattergl\", \"x\": [0.0, 0.0, 3.112065477857654e-05, 3.112065477857654e-05, 9.336196433572963e-05, 0.00012448261911430616, 0.00021784458345003579, 0.0009336196433572963, 0.0011825848815859086, 0.0013693088102573678, 0.00161827404848598, 0.001836118631936016, 0.0019917219058288986, 0.001898359941493169, 0.0019294805962717456, 0.0019917219058288986], \"xaxis\": \"x\", \"y\": [0.0, 0.0, 0.007440476190476191, 0.007453416149068323, 0.01998001998001998, 0.02184873949579832, 0.03238095238095238, 0.11012987012987012, 0.11097308488612836, 0.10874200426439233, 0.10855949895615867, 0.10611510791366907, 0.10349617967122018, 0.09370904325032765, 0.08736884584342211, 0.08054903377280116], \"yaxis\": \"y\"}, {\"hoverlabel\": {\"namelength\": 0}, \"hovertemplate\": \"Country/Region=Netherlands<br>MeanGrowth_7d=%{x}<br>DailyGrowth_7d=%{y}\", \"legendgroup\": \"Netherlands\", \"marker\": {\"color\": \"#FF6692\", \"symbol\": \"circle\"}, \"mode\": \"lines+markers\", \"name\": \"Netherlands\", \"showlegend\": true, \"type\": \"scattergl\", \"x\": [0.0, 0.0, 0.0, 0.0, 0.0, 0.0, 0.0, 0.0018672392867145925, 0.0030187035135219244, 0.0034543926804219962, 0.0038900818473220676, 0.004854822145457941, 0.0059129244079295425, 0.0069087853608439925, 0.008744903992780008, 0.009771885600473033, 0.011919210780194815, 0.013693088102573678, 0.014875672984159587, 0.017209722092552827, 0.019481529891388915, 0.02222014751190365, 0.025083247751532693, 0.027479538169483085, 0.029844707932654903, 0.031369620016805155, 0.03149410263591946, 0.032272119005383876, 0.032552204898391064, 0.03189867114804096], \"xaxis\": \"x\", \"y\": [0.0, 0.0, 0.0, 0.0, 0.0, 0.0, 0.0, 0.11956830445896052, 0.12017015242821695, 0.11493911493911493, 0.10959076073311573, 0.11047215496368037, 0.11096267846706187, 0.10794113563792863, 0.11372980485262608, 0.10451453308596165, 0.10510204081632653, 0.10430570141264947, 0.10039582583663188, 0.09905273937532001, 0.09719078684595925, 0.0956653148672431, 0.09324456045862314, 0.0898985931066591, 0.08774016468435498, 0.08526457041308526, 0.07992646810046353, 0.07570510680907877, 0.07071370609374397, 0.06477827841837702], \"yaxis\": \"y\"}, {\"hoverlabel\": {\"namelength\": 0}, \"hovertemplate\": \"Country/Region=New Zealand<br>MeanGrowth_7d=%{x}<br>DailyGrowth_7d=%{y}\", \"legendgroup\": \"New Zealand\", \"marker\": {\"color\": \"#B6E880\", \"symbol\": \"circle\"}, \"mode\": \"lines+markers\", \"name\": \"New Zealand\", \"showlegend\": true, \"type\": \"scattergl\", \"x\": [0.0, 0.0, 0.0, 0.0, 0.0, 0.0, 0.0, 0.0017738773223788628, 0.001836118631936016, 0.002178445834500358, 0.002178445834500358, 0.002240687144057511, 0.0022718077988360874, 0.0022095664892789343], \"xaxis\": \"x\", \"y\": [0.0, 0.0, 0.0, 0.0, 0.0, 0.0, 0.0, 0.12638580931263857, 0.11450806003335186, 0.11811787533349502, 0.10863325237359242, 0.10149313962873285, 0.09213120630937444, 0.08229098090849243], \"yaxis\": \"y\"}, {\"hoverlabel\": {\"namelength\": 0}, \"hovertemplate\": \"Country/Region=Niger<br>MeanGrowth_7d=%{x}<br>DailyGrowth_7d=%{y}\", \"legendgroup\": \"Niger\", \"marker\": {\"color\": \"#FF97FF\", \"symbol\": \"circle\"}, \"mode\": \"lines+markers\", \"name\": \"Niger\", \"showlegend\": true, \"type\": \"scattergl\", \"x\": [0.0, 0.0, 0.0], \"xaxis\": \"x\", \"y\": [0.0, 0.0, 0.0], \"yaxis\": \"y\"}, {\"hoverlabel\": {\"namelength\": 0}, \"hovertemplate\": \"Country/Region=Nigeria<br>MeanGrowth_7d=%{x}<br>DailyGrowth_7d=%{y}\", \"legendgroup\": \"Nigeria\", \"marker\": {\"color\": \"#FECB52\", \"symbol\": \"circle\"}, \"mode\": \"lines+markers\", \"name\": \"Nigeria\", \"showlegend\": true, \"type\": \"scattergl\", \"x\": [0.0, 0.0, 0.0, 0.0, 0.00015560327389288272, 0.00015560327389288272, 6.224130955715308e-05, 0.0005601717860143778, 0.0005290511312358012, 0.0006224130955715309], \"xaxis\": \"x\", \"y\": [0.0, 0.0, 0.0, 0.0, 0.047619047619047616, 0.03598691384950927, 0.015873015873015872, 0.10098522167487686, 0.09239130434782608, 0.09523809523809523], \"yaxis\": \"y\"}, {\"hoverlabel\": {\"namelength\": 0}, \"hovertemplate\": \"Country/Region=North Macedonia<br>MeanGrowth_7d=%{x}<br>DailyGrowth_7d=%{y}\", \"legendgroup\": \"North Macedonia\", \"marker\": {\"color\": \"#636efa\", \"symbol\": \"circle\"}, \"mode\": \"lines+markers\", \"name\": \"North Macedonia\", \"showlegend\": true, \"type\": \"scattergl\", \"x\": [0.0, 0.0, 0.0, 0.0, 0.0, 0.0, 0.0, 0.0006846544051286839, 0.0006846544051286839, 0.0006535337503501073, 0.0006535337503501073, 0.00080913702424299, 0.0007780163694644136, 0.00080913702424299, 0.0009336196433572963], \"xaxis\": \"x\", \"y\": [0.0, 0.0, 0.0, 0.0010504201680672268, 0.0, 0.0, 0.0, 0.09915198956294848, 0.0924718435091879, 0.07942636514065086, 0.07468671679197994, 0.07859313938341295, 0.07142857142857142, 0.06808035714285714, 0.07009966777408638], \"yaxis\": \"y\"}, {\"hoverlabel\": {\"namelength\": 0}, \"hovertemplate\": \"Country/Region=Norway<br>MeanGrowth_7d=%{x}<br>DailyGrowth_7d=%{y}\", \"legendgroup\": \"Norway\", \"marker\": {\"color\": \"#EF553B\", \"symbol\": \"circle\"}, \"mode\": \"lines+markers\", \"name\": \"Norway\", \"showlegend\": true, \"type\": \"scattergl\", \"x\": [0.0, 0.0, 0.0, 0.0, 0.0, 0.0, 0.0, 0.0023962904179503936, 0.0027386176205147356, 0.00395232315687922, 0.004201288395107833, 0.004636977562007904, 0.005010425419350823, 0.0047303395263436345, 0.00423240904988641, 0.004636977562007904, 0.0040768057759935266, 0.0045747362524507515, 0.005166028693243706, 0.005726200479258084, 0.006224130955715309, 0.006815423396508262, 0.007219991908629758, 0.00818473220676563, 0.008433697444994243, 0.008433697444994243, 0.008122490897208477, 0.00790464631375844, 0.00790464631375844, 0.00790464631375844, 0.007188871253851181], \"xaxis\": \"x\", \"y\": [0.0, 0.0, 0.0, 0.0, 0.0, 0.0, 0.0, 0.12947921643573818, 0.12515262515262515, 0.12736660929432014, 0.1235910878112713, 0.12226512226512226, 0.12088736469831743, 0.10379845718191583, 0.08774193548387096, 0.08541973490427099, 0.06851768920734438, 0.06933765007419398, 0.0697214734950584, 0.07020221289584128, 0.069856793573175, 0.0710579951825088, 0.06882076071746597, 0.07003994673768309, 0.06749688667496886, 0.06332533013205283, 0.05862124377309979, 0.05472958414134885, 0.05226050938574072, 0.0493491354186905, 0.0429635541367385], \"yaxis\": \"y\"}, {\"hoverlabel\": {\"namelength\": 0}, \"hovertemplate\": \"Country/Region=Oman<br>MeanGrowth_7d=%{x}<br>DailyGrowth_7d=%{y}\", \"legendgroup\": \"Oman\", \"marker\": {\"color\": \"#00cc96\", \"symbol\": \"circle\"}, \"mode\": \"lines+markers\", \"name\": \"Oman\", \"showlegend\": true, \"type\": \"scattergl\", \"x\": [0.0, 0.0, 0.0, 0.0, 0.0, 0.0, 0.0, 0.00043568916690007157, 0.0004979304764572246, 0.0004979304764572246, 0.00046680982167864813, 0.0004979304764572246, 0.0005290511312358012, 0.0005290511312358012], \"xaxis\": \"x\", \"y\": [0.0, 0.0, 0.0, 0.0, 0.0, 0.0, 0.0, 0.09398496240601505, 0.09580838323353294, 0.09018355945730247, 0.08035714285714286, 0.07551020408163266, 0.07544836116264687, 0.06859410430839002], \"yaxis\": \"y\"}, {\"hoverlabel\": {\"namelength\": 0}, \"hovertemplate\": \"Country/Region=Pakistan<br>MeanGrowth_7d=%{x}<br>DailyGrowth_7d=%{y}\", \"legendgroup\": \"Pakistan\", \"marker\": {\"color\": \"#ab63fa\", \"symbol\": \"circle\"}, \"mode\": \"lines+markers\", \"name\": \"Pakistan\", \"showlegend\": true, \"type\": \"scattergl\", \"x\": [0.0, 0.0, 0.0002489652382286123, 0.00046680982167864813, 0.001089222917250179, 0.0012137055363644852, 0.002116204524943205, 0.0032054274421933837, 0.003298789406529113, 0.003267668751750537, 0.003392151370864843, 0.00332991006130769, 0.0038900818473220676, 0.003392151370864843, 0.003641116609093455, 0.003734478573429185, 0.004294650359443562, 0.004699218871565058, 0.0054149939314723184, 0.00585068309837239], \"xaxis\": \"x\", \"y\": [0.0, 0.0, 0.03450363196125908, 0.05112279025322504, 0.07677784770295783, 0.07698887938408897, 0.09354207436399219, 0.133100147275405, 0.1206530612244898, 0.10817166372721927, 0.1026743717242306, 0.08885452599024622, 0.09072937259390282, 0.07310081223124702, 0.07344127381697826, 0.07005574507030535, 0.07120743034055728, 0.07115877512478079, 0.07198914262111288, 0.06983299648973514], \"yaxis\": \"y\"}, {\"hoverlabel\": {\"namelength\": 0}, \"hovertemplate\": \"Country/Region=Panama<br>MeanGrowth_7d=%{x}<br>DailyGrowth_7d=%{y}\", \"legendgroup\": \"Panama\", \"marker\": {\"color\": \"#FFA15A\", \"symbol\": \"circle\"}, \"mode\": \"lines+markers\", \"name\": \"Panama\", \"showlegend\": true, \"type\": \"scattergl\", \"x\": [0.0, 0.0, 0.0, 0.0, 0.0, 0.0, 0.0, 0.001275946845921638, 0.0012137055363644852, 0.0015871533937074037, 0.0019917219058288986, 0.0023962904179503936, 0.0026141350014004293, 0.0026141350014004293, 0.002863100239629042, 0.0037033579186506083, 0.003267668751750537, 0.0033610307160862663, 0.0035477546447577257], \"xaxis\": \"x\", \"y\": [0.0, 0.0, 0.0, 0.0, 0.0, 0.0, 0.0, 0.12008281573498965, 0.1142857142857143, 0.11512415349887133, 0.11495135688684074, 0.11381941500635862, 0.1065067248273355, 0.0932297447280799, 0.09302325581395349, 0.10112495463892585, 0.0892705939276642, 0.08232997071265864, 0.07757869249394674], \"yaxis\": \"y\"}, {\"hoverlabel\": {\"namelength\": 0}, \"hovertemplate\": \"Country/Region=Paraguay<br>MeanGrowth_7d=%{x}<br>DailyGrowth_7d=%{y}\", \"legendgroup\": \"Paraguay\", \"marker\": {\"color\": \"#19d3f3\", \"symbol\": \"circle\"}, \"mode\": \"lines+markers\", \"name\": \"Paraguay\", \"showlegend\": true, \"type\": \"scattergl\", \"x\": [0.0, 0.0, 0.0, 0.0, 0.0, 0.0, 0.0, 0.00018672392867145925], \"xaxis\": \"x\", \"y\": [0.0, 0.0, 0.0, 0.0, 0.0, 0.0, 0.0, 0.062111801242236024], \"yaxis\": \"y\"}, {\"hoverlabel\": {\"namelength\": 0}, \"hovertemplate\": \"Country/Region=Peru<br>MeanGrowth_7d=%{x}<br>DailyGrowth_7d=%{y}\", \"legendgroup\": \"Peru\", \"marker\": {\"color\": \"#FF6692\", \"symbol\": \"circle\"}, \"mode\": \"lines+markers\", \"name\": \"Peru\", \"showlegend\": true, \"type\": \"scattergl\", \"x\": [0.00012448261911430616, 0.0002489652382286123, 0.0003734478573429185, 0.000746895714685837, 0.000746895714685837, 0.0010581022624716024, 0.0012137055363644852, 0.0013693088102573678, 0.0013381881554787912, 0.001493791429371674, 0.0015249120841502506, 0.0017738773223788628, 0.0015560327389288271, 0.002178445834500358, 0.0024585317275075467, 0.002894220894407618, 0.003734478573429185, 0.0037033579186506083, 0.004263529704664986], \"xaxis\": \"x\", \"y\": [0.04983388704318937, 0.07081807081807083, 0.07980295566502463, 0.10317460317460317, 0.10073260073260074, 0.1082659478885894, 0.10665092483274302, 0.11175406871609404, 0.10267857142857142, 0.09970238095238095, 0.0852216748768473, 0.09021372328458943, 0.07515435384287844, 0.08199195171026158, 0.08345864661654136, 0.08705566733735748, 0.09102688694525429, 0.08425944635279854, 0.08598298253470667], \"yaxis\": \"y\"}, {\"hoverlabel\": {\"namelength\": 0}, \"hovertemplate\": \"Country/Region=Poland<br>MeanGrowth_7d=%{x}<br>DailyGrowth_7d=%{y}\", \"legendgroup\": \"Poland\", \"marker\": {\"color\": \"#B6E880\", \"symbol\": \"circle\"}, \"mode\": \"lines+markers\", \"name\": \"Poland\", \"showlegend\": true, \"type\": \"scattergl\", \"x\": [0.0, 0.0, 0.0, 0.0, 0.0, 0.0, 0.0, 0.0015871533937074037, 0.0019294805962717456, 0.002302928453614664, 0.002551893691843276, 0.0029564622039647713, 0.0035477546447577257, 0.0038589611925434913, 0.004294650359443562, 0.004885942800236517, 0.005446114586250894, 0.005819562443593813, 0.0062552516104938845, 0.006690940777393957, 0.007655681075529829, 0.008869386611894315], \"xaxis\": \"x\", \"y\": [0.0, 0.0, 0.0, 0.0, 0.0, 0.0, 0.0, 0.12, 0.1154051172707889, 0.11604326273095988, 0.10909784474537478, 0.10512129380053907, 0.1087399755335055, 0.10132210132210132, 0.09914635400596525, 0.09611023896738181, 0.09421512966088691, 0.0907890163364616, 0.08716078382889286, 0.08406980646604766, 0.08364853069537387, 0.084202525231198], \"yaxis\": \"y\"}, {\"hoverlabel\": {\"namelength\": 0}, \"hovertemplate\": \"Country/Region=Portugal<br>MeanGrowth_7d=%{x}<br>DailyGrowth_7d=%{y}\", \"legendgroup\": \"Portugal\", \"marker\": {\"color\": \"#FF97FF\", \"symbol\": \"circle\"}, \"mode\": \"lines+markers\", \"name\": \"Portugal\", \"showlegend\": true, \"type\": \"scattergl\", \"x\": [0.0, 0.0, 0.0, 0.0, 0.0, 0.0, 0.0, 0.0017427566676002863, 0.00323654809697196, 0.004045685121214951, 0.00494818410979367, 0.006037407027043849, 0.007686801730308406, 0.008495938754551395, 0.011327918339401862, 0.012261537982759156, 0.014439983817259515, 0.017303084056888556, 0.019388167927053186, 0.019325926617496034, 0.02259359536924657, 0.023371611738710982, 0.02439859334640401, 0.024989885787196964], \"xaxis\": \"x\", \"y\": [0.0, 0.0, 0.0, 0.0, 0.0, 0.0, 0.0, 0.12404336734693877, 0.13212010919017286, 0.12717086834733896, 0.12399553571428572, 0.12098214285714287, 0.11990291262135923, 0.11576146123140196, 0.12148819461006438, 0.11121412447597549, 0.10871602624179943, 0.10748825642442662, 0.10451909713902334, 0.09693240592116996, 0.09752212049672751, 0.0910019564728085, 0.08681488978146051, 0.08118262477963065], \"yaxis\": \"y\"}, {\"hoverlabel\": {\"namelength\": 0}, \"hovertemplate\": \"Country/Region=Qatar<br>MeanGrowth_7d=%{x}<br>DailyGrowth_7d=%{y}\", \"legendgroup\": \"Qatar\", \"marker\": {\"color\": \"#FECB52\", \"symbol\": \"circle\"}, \"mode\": \"lines+markers\", \"name\": \"Qatar\", \"showlegend\": true, \"type\": \"scattergl\", \"x\": [0.0, 0.0, 0.0, 0.0, 0.0, 0.0, 0.0, 0.0008402576790215666, 0.0008713783338001431, 0.0006535337503501073, 0.0006535337503501073, 0.000404568512121495, 0.0002800858930071889, 0.0003734478573429185, 0.0003734478573429185, 0.000404568512121495, 0.000404568512121495, 0.0004979304764572246, 0.0006224130955715309, 0.0008402576790215666, 0.0011203435720287555, 0.0013381881554787912, 0.0017738773223788628, 0.0022718077988360874], \"xaxis\": \"x\", \"y\": [0.0, 0.0, 0.0, 0.0, 0.0, 0.0, 0.0, 0.06005056890012642, 0.061490683229813665, 0.04559270516717325, 0.042768042768042774, 0.026894158473105844, 0.017678927858568578, 0.023628462791960892, 0.02261239691407289, 0.023158990372105125, 0.023385866802236907, 0.02639225181598063, 0.031545741324921134, 0.03957946815089672, 0.046643497347722704, 0.050983746792130025, 0.060213758843895834, 0.06817275747508306], \"yaxis\": \"y\"}, {\"hoverlabel\": {\"namelength\": 0}, \"hovertemplate\": \"Country/Region=Romania<br>MeanGrowth_7d=%{x}<br>DailyGrowth_7d=%{y}\", \"legendgroup\": \"Romania\", \"marker\": {\"color\": \"#636efa\", \"symbol\": \"circle\"}, \"mode\": \"lines+markers\", \"name\": \"Romania\", \"showlegend\": true, \"type\": \"scattergl\", \"x\": [0.0, 0.0, 0.0, 0.0, 0.0, 0.0, 0.0, 0.0009647402981358728, 0.001089222917250179, 0.0013381881554787912, 0.0018672392867145925, 0.0027074969657361592, 0.002863100239629042, 0.00332991006130769, 0.004388012323779293, 0.004823701490679364, 0.006130768991379578, 0.006815423396508262, 0.006441975539165344, 0.0069087853608439925, 0.007593439765972676, 0.008402576790215666], \"xaxis\": \"x\", \"y\": [0.0, 0.0, 0.0, 0.0, 0.0, 0.0, 0.0, 0.10157699443413729, 0.09497859089139742, 0.09963708347080172, 0.10367063492063493, 0.1097517092479309, 0.10186061179438663, 0.10440094405108982, 0.1088014153029633, 0.10674931129476584, 0.10877607241243605, 0.10384068278805121, 0.09233216671969456, 0.09024390243902439, 0.08916831889804863, 0.08487051748126206], \"yaxis\": \"y\"}, {\"hoverlabel\": {\"namelength\": 0}, \"hovertemplate\": \"Country/Region=Russia<br>MeanGrowth_7d=%{x}<br>DailyGrowth_7d=%{y}\", \"legendgroup\": \"Russia\", \"marker\": {\"color\": \"#EF553B\", \"symbol\": \"circle\"}, \"mode\": \"lines+markers\", \"name\": \"Russia\", \"showlegend\": true, \"type\": \"scattergl\", \"x\": [0.0, 0.0, 0.0, 0.0, 0.0, 0.0, 0.0, 0.001089222917250179, 0.0013381881554787912, 0.0015560327389288271, 0.0016805153580431332, 0.0022718077988360874, 0.002863100239629042, 0.0034855133352005726, 0.004263529704664986, 0.005197149348022283, 0.006224130955715309, 0.00818473220676563, 0.009429558397908691, 0.012043693399309122, 0.01384869137646656], \"xaxis\": \"x\", \"y\": [0.0, 0.0, 0.0, 0.0, 0.0, 0.0, 0.0, 0.11531279178338001, 0.11833398209420008, 0.11350293542074365, 0.10995670995670996, 0.11094224924012158, 0.10901360544217686, 0.10797021511307225, 0.10827305605786619, 0.10867945613708326, 0.10877684407096172, 0.11259856959471852, 0.1090076650033438, 0.10903527138025446, 0.10718589677374928], \"yaxis\": \"y\"}, {\"hoverlabel\": {\"namelength\": 0}, \"hovertemplate\": \"Country/Region=Rwanda<br>MeanGrowth_7d=%{x}<br>DailyGrowth_7d=%{y}\", \"legendgroup\": \"Rwanda\", \"marker\": {\"color\": \"#00cc96\", \"symbol\": \"circle\"}, \"mode\": \"lines+markers\", \"name\": \"Rwanda\", \"showlegend\": true, \"type\": \"scattergl\", \"x\": [0.0, 0.0, 0.0, 0.0, 0.0, 0.0, 0.0, 0.00015560327389288272], \"xaxis\": \"x\", \"y\": [0.0, 0.0, 0.0, 0.0, 0.0, 0.0, 0.0, 0.056179775280898875], \"yaxis\": \"y\"}, {\"hoverlabel\": {\"namelength\": 0}, \"hovertemplate\": \"Country/Region=San Marino<br>MeanGrowth_7d=%{x}<br>DailyGrowth_7d=%{y}\", \"legendgroup\": \"San Marino\", \"marker\": {\"color\": \"#ab63fa\", \"symbol\": \"circle\"}, \"mode\": \"lines+markers\", \"name\": \"San Marino\", \"showlegend\": true, \"type\": \"scattergl\", \"x\": [0.0, 0.0, -0.0, 3.112065477857654e-05, -0.0, 6.224130955715308e-05, 9.336196433572963e-05, 0.0002489652382286123, 0.0002489652382286123, 0.00021784458345003579, 0.0002800858930071889, 0.0002800858930071889, 0.00034232720256434195, 0.00034232720256434195, 0.00034232720256434195, 0.000404568512121495, 0.000404568512121495, 0.00034232720256434195, 0.00034232720256434195, 0.00021784458345003579, 0.00018672392867145925, 0.00021784458345003579, 0.00012448261911430616, 0.00015560327389288272, 9.336196433572963e-05], \"xaxis\": \"x\", \"y\": [0.0, 0.0, 0.0, 0.008928571428571428, 0.0, 0.024045261669024043, 0.026212319790301444, 0.07601572739187419, 0.06842737094837935, 0.06002400960384154, 0.06349206349206349, 0.06349206349206349, 0.06040816326530612, 0.059587471352177235, 0.059587471352177235, 0.061126373626373624, 0.061126373626373624, 0.05060858424087124, 0.05102040816326531, 0.03125, 0.02670807453416149, 0.029661016949152543, 0.01694915254237288, 0.021574344023323616, 0.012827988338192419], \"yaxis\": \"y\"}, {\"hoverlabel\": {\"namelength\": 0}, \"hovertemplate\": \"Country/Region=Saudi Arabia<br>MeanGrowth_7d=%{x}<br>DailyGrowth_7d=%{y}\", \"legendgroup\": \"Saudi Arabia\", \"marker\": {\"color\": \"#FFA15A\", \"symbol\": \"circle\"}, \"mode\": \"lines+markers\", \"name\": \"Saudi Arabia\", \"showlegend\": true, \"type\": \"scattergl\", \"x\": [0.0, 0.0, 0.0, 0.0, 0.0, 0.0, 0.00012448261911430616, 0.001151464226807332, 0.001275946845921638, 0.0018049979771574394, 0.001960601251050322, 0.002645255656179006, 0.00323654809697196, 0.003267668751750537, 0.003392151370864843, 0.003609995954314879, 0.0035166339899791494, 0.00395232315687922, 0.0035477546447577257, 0.003641116609093455, 0.0038900818473220676, 0.004170167740329257], \"xaxis\": \"x\", \"y\": [0.0, 0.0, 0.0, 0.0, 0.0, 0.0, 0.015119916579770595, 0.10714285714285714, 0.10532069970845481, 0.11406206318143695, 0.11286222674123031, 0.11100763643136524, 0.11571428571428571, 0.10417843026538678, 0.09834368530020704, 0.0963068519178245, 0.08666006818431761, 0.08760200570248747, 0.072753861621424, 0.0681063122923588, 0.06616142478211444, 0.06550830238912633], \"yaxis\": \"y\"}, {\"hoverlabel\": {\"namelength\": 0}, \"hovertemplate\": \"Country/Region=Senegal<br>MeanGrowth_7d=%{x}<br>DailyGrowth_7d=%{y}\", \"legendgroup\": \"Senegal\", \"marker\": {\"color\": \"#19d3f3\", \"symbol\": \"circle\"}, \"mode\": \"lines+markers\", \"name\": \"Senegal\", \"showlegend\": true, \"type\": \"scattergl\", \"x\": [0.0, 0.0, 0.0, 0.0, 0.0, 0.0, 0.0, 0.00034232720256434195, 0.0003734478573429185, 0.000404568512121495, 0.000404568512121495, 0.000404568512121495, 0.000404568512121495], \"xaxis\": \"x\", \"y\": [0.0, 0.0, 0.0, 0.0, 0.0, 0.0, 0.0, 0.07545271629778671, 0.07319223985890654, 0.07265306122448979, 0.06842105263157895, 0.06593406593406594, 0.06073153899240856], \"yaxis\": \"y\"}, {\"hoverlabel\": {\"namelength\": 0}, \"hovertemplate\": \"Country/Region=Serbia<br>MeanGrowth_7d=%{x}<br>DailyGrowth_7d=%{y}\", \"legendgroup\": \"Serbia\", \"marker\": {\"color\": \"#FF6692\", \"symbol\": \"circle\"}, \"mode\": \"lines+markers\", \"name\": \"Serbia\", \"showlegend\": true, \"type\": \"scattergl\", \"x\": [0.0, 0.0, 0.0, 0.0, 0.0, 0.0, 6.224130955715308e-05, 0.0008713783338001431, 0.0010581022624716024, 0.0013381881554787912, 0.0012448261911430618, 0.001431550119814521, 0.002178445834500358, 0.002302928453614664, 0.0023962904179503936, 0.002645255656179006, 0.0030187035135219244, 0.0034855133352005726, 0.004543615597672175], \"xaxis\": \"x\", \"y\": [0.0, 0.0, 0.0, 0.0, 0.0, 0.0, 0.009652509652509652, 0.11130235226620769, 0.11221122112211221, 0.11197916666666667, 0.10453869047619048, 0.10065645514223195, 0.10578799046173856, 0.10005783689994216, 0.0975432211101001, 0.09476190476190477, 0.09110512129380054, 0.09601073563498841, 0.098625629113434], \"yaxis\": \"y\"}, {\"hoverlabel\": {\"namelength\": 0}, \"hovertemplate\": \"Country/Region=Singapore<br>MeanGrowth_7d=%{x}<br>DailyGrowth_7d=%{y}\", \"legendgroup\": \"Singapore\", \"marker\": {\"color\": \"#B6E880\", \"symbol\": \"circle\"}, \"mode\": \"lines+markers\", \"name\": \"Singapore\", \"showlegend\": true, \"type\": \"scattergl\", \"x\": [0.0, 0.0, 0.0, 0.0, 0.0, 0.0, 0.0, 0.00012448261911430616, 9.336196433572963e-05, 6.224130955715308e-05, 6.224130955715308e-05, 6.224130955715308e-05, 3.112065477857654e-05, 3.112065477857654e-05, 3.112065477857654e-05, 3.112065477857654e-05, 6.224130955715308e-05, 6.224130955715308e-05, 9.336196433572963e-05, 9.336196433572963e-05, 6.224130955715308e-05, 9.336196433572963e-05, 0.00015560327389288272, 0.00015560327389288272, 0.00018672392867145925, 0.00018672392867145925, 0.00021784458345003579, 0.00031120654778576544, 0.0002800858930071889, 0.00031120654778576544, 0.00034232720256434195, 0.00034232720256434195, 0.000404568512121495, 0.00046680982167864813, 0.0005912924407929543, 0.000746895714685837, 0.00080913702424299, 0.0009647402981358728, 0.0010269816076930258, 0.0011825848815859086, 0.0013070675007002147, 0.0014004294650359443, 0.001493791429371674, 0.0015560327389288271, 0.0016493947032645566, 0.0017427566676002863, 0.0016493947032645566, 0.0016493947032645566, 0.0016493947032645566, 0.00161827404848598, 0.0017116360128217097], \"xaxis\": \"x\", \"y\": [0.0, 0.0, 0.0, 0.0, 0.0, 0.0, 0.0, 0.04421768707482993, 0.030252100840336138, 0.02184873949579832, 0.02247191011235955, 0.019261637239165328, 0.015698587127158554, 0.013824884792626729, 0.013824884792626729, 0.01228878648233487, 0.023809523809523808, 0.022911051212938002, 0.025132275132275134, 0.024675324675324677, 0.022077922077922075, 0.029304029304029304, 0.04065934065934066, 0.037267080745341616, 0.0419047619047619, 0.04, 0.044642857142857144, 0.05457463884430176, 0.048956661316211875, 0.05, 0.04986522911051213, 0.04804045512010114, 0.05467372134038801, 0.05692803437164339, 0.061615700593336376, 0.06915113871635611, 0.06864564007421149, 0.07275132275132275, 0.07189952904238618, 0.07465618860510806, 0.07475678443420379, 0.07199456644781527, 0.07069650700690232, 0.06772053083528493, 0.06590666191663698, 0.06584292484766419, 0.0601332683243946, 0.05677260104905893, 0.052714285714285714, 0.049843388260928774, 0.048986919723005895], \"yaxis\": \"y\"}, {\"hoverlabel\": {\"namelength\": 0}, \"hovertemplate\": \"Country/Region=Slovakia<br>MeanGrowth_7d=%{x}<br>DailyGrowth_7d=%{y}\", \"legendgroup\": \"Slovakia\", \"marker\": {\"color\": \"#FF97FF\", \"symbol\": \"circle\"}, \"mode\": \"lines+markers\", \"name\": \"Slovakia\", \"showlegend\": true, \"type\": \"scattergl\", \"x\": [0.0, 0.0, 0.0, 0.0, 0.0, 0.0, 0.0, 0.0005912924407929543, 0.0005601717860143778, 0.0005912924407929543, 0.0004979304764572246, 0.00046680982167864813, 0.0005912924407929543, 0.0004979304764572246, 0.0005601717860143778, 0.0006535337503501073, 0.0007157750599072605, 0.00080913702424299, 0.0009024989885787197, 0.00080913702424299], \"xaxis\": \"x\", \"y\": [0.0, 0.0, 0.0, 0.0, 0.0, 0.0, 0.0, 0.10115830115830117, 0.09447004608294932, 0.09243697478991597, 0.07341269841269842, 0.06510745891276865, 0.07010090281465746, 0.05577299412915851, 0.05868971792538671, 0.06377551020408163, 0.06257378984651712, 0.06571428571428571, 0.0670690811535882, 0.05746031746031746], \"yaxis\": \"y\"}, {\"hoverlabel\": {\"namelength\": 0}, \"hovertemplate\": \"Country/Region=Slovenia<br>MeanGrowth_7d=%{x}<br>DailyGrowth_7d=%{y}\", \"legendgroup\": \"Slovenia\", \"marker\": {\"color\": \"#FECB52\", \"symbol\": \"circle\"}, \"mode\": \"lines+markers\", \"name\": \"Slovenia\", \"showlegend\": true, \"type\": \"scattergl\", \"x\": [0.0, 0.0, 0.0, 0.0, 0.0, 0.0, 0.0, 0.0009647402981358728, 0.0008713783338001431, 0.0009024989885787197, 0.0009024989885787197, 0.0008713783338001431, 0.0008402576790215666, 0.0009024989885787197, 0.0011203435720287555, 0.0012137055363644852, 0.0013070675007002147, 0.0013381881554787912, 0.0014004294650359443, 0.0014004294650359443, 0.001431550119814521, 0.0014004294650359443, 0.001493791429371674, 0.0013381881554787912], \"xaxis\": \"x\", \"y\": [0.0, 0.0, 0.0, 0.0, 0.0, 0.0, 0.0, 0.11324675324675325, 0.0984015984015984, 0.08378718056137412, 0.07534502051473331, 0.06728778467908902, 0.06108597285067873, 0.06101190476190476, 0.06845238095238096, 0.07015760040671074, 0.06577757685352621, 0.06286549707602339, 0.06183953033268102, 0.05933484504913076, 0.057356608478802994, 0.053167997282147106, 0.05335244465679248, 0.04619149587029673], \"yaxis\": \"y\"}, {\"hoverlabel\": {\"namelength\": 0}, \"hovertemplate\": \"Country/Region=South Africa<br>MeanGrowth_7d=%{x}<br>DailyGrowth_7d=%{y}\", \"legendgroup\": \"South Africa\", \"marker\": {\"color\": \"#636efa\", \"symbol\": \"circle\"}, \"mode\": \"lines+markers\", \"name\": \"South Africa\", \"showlegend\": true, \"type\": \"scattergl\", \"x\": [0.0, 0.0, 0.0, 0.0, 0.0, 0.0, 0.0, 0.0009958609529144493, 0.0015249120841502506, 0.002178445834500358, 0.002645255656179006, 0.0034543926804219962, 0.004294650359443562, 0.004201288395107833, 0.004481374288115022, 0.004107926430772103, 0.0035477546447577257, 0.002987582858743348, 0.0023651697631718173, 0.001493791429371674], \"xaxis\": \"x\", \"y\": [0.0, 0.0, 0.0, 0.0, 0.0, 0.0, 0.0, 0.11626694473409802, 0.12082444918265814, 0.12686952037132543, 0.11948418295385854, 0.11974110032362459, 0.11819291819291819, 0.11397280057768684, 0.11227678571428572, 0.09954751131221719, 0.08436279167986485, 0.06946169772256729, 0.052276724643345714, 0.03179876601803512], \"yaxis\": \"y\"}, {\"hoverlabel\": {\"namelength\": 0}, \"hovertemplate\": \"Country/Region=Spain<br>MeanGrowth_7d=%{x}<br>DailyGrowth_7d=%{y}\", \"legendgroup\": \"Spain\", \"marker\": {\"color\": \"#EF553B\", \"symbol\": \"circle\"}, \"mode\": \"lines+markers\", \"name\": \"Spain\", \"showlegend\": true, \"type\": \"scattergl\", \"x\": [0.0, 0.0, 0.0, 0.0, 0.0, 0.0, 0.0, 0.0026141350014004293, 0.00423240904988641, 0.006815423396508262, 0.009149472504901503, 0.008962748576230044, 0.021473251797217815, 0.026203591323561447, 0.03168082656459092, 0.03942986960445648, 0.044689260262035915, 0.05172252824199421, 0.06974138735879003, 0.06746957955995395, 0.08439921575949957, 0.09323748171661532, 0.11200323654809698, 0.1251050322098777, 0.1582796502038403, 0.17704540503532196, 0.20144399838172594, 0.2127719167211278, 0.22827000280085893, 0.23483646095913857, 0.2491208415025052, 0.24274110727289702, 0.2413095571530825, 0.23776180250832477], \"xaxis\": \"x\", \"y\": [0.0, 0.0, 0.0, 0.0, 0.0, 0.0, 0.0, 0.12502653364466143, 0.12688057515643722, 0.12895069532237674, 0.12892904197252023, 0.12660769182508314, 0.13193534294451725, 0.13168071171513512, 0.13052797420584034, 0.12743914705290685, 0.1222457317962936, 0.11947211666837836, 0.12474849094567403, 0.10623643872051515, 0.10687542929207625, 0.10413356109963452, 0.10243462138953943, 0.10077902541234621, 0.10272500396705184, 0.0984494514242204, 0.0984907604454463, 0.09336090276897269, 0.09155625300925513, 0.08578964807078863, 0.08345682027697811, 0.07491911649694166, 0.06919326156376082, 0.06409449743705904], \"yaxis\": \"y\"}, {\"hoverlabel\": {\"namelength\": 0}, \"hovertemplate\": \"Country/Region=Sri Lanka<br>MeanGrowth_7d=%{x}<br>DailyGrowth_7d=%{y}\", \"legendgroup\": \"Sri Lanka\", \"marker\": {\"color\": \"#00cc96\", \"symbol\": \"circle\"}, \"mode\": \"lines+markers\", \"name\": \"Sri Lanka\", \"showlegend\": true, \"type\": \"scattergl\", \"x\": [0.0, 0.0, 0.0, 0.0, 0.0, 0.0, 0.0, 0.00021784458345003579, 0.00021784458345003579, 0.00015560327389288272, 0.00015560327389288272, 0.00015560327389288272, 0.00012448261911430616, 0.00018672392867145925, 0.00018672392867145925, 0.00018672392867145925, 0.0002489652382286123], \"xaxis\": \"x\", \"y\": [0.0, 0.0, 0.0, 0.0, 0.0, 0.0, 0.0, 0.07142857142857142, 0.06199460916442048, 0.0444743935309973, 0.045512010113780026, 0.042735042735042736, 0.02927400468384075, 0.04095904095904095, 0.043052837573385516, 0.04257332071901609, 0.047619047619047616], \"yaxis\": \"y\"}, {\"hoverlabel\": {\"namelength\": 0}, \"hovertemplate\": \"Country/Region=Sweden<br>MeanGrowth_7d=%{x}<br>DailyGrowth_7d=%{y}\", \"legendgroup\": \"Sweden\", \"marker\": {\"color\": \"#ab63fa\", \"symbol\": \"circle\"}, \"mode\": \"lines+markers\", \"name\": \"Sweden\", \"showlegend\": true, \"type\": \"scattergl\", \"x\": [0.0, 0.0, 0.00018672392867145925, 0.0002800858930071889, 0.00046680982167864813, 0.0009024989885787197, 0.0015249120841502506, 0.002240687144057511, 0.0031743067874148074, 0.0035477546447577257, 0.003641116609093455, 0.003796719882986338, 0.0037033579186506083, 0.0034543926804219962, 0.003734478573429185, 0.003672237263872032, 0.003578875299536302, 0.004045685121214951, 0.004201288395107833, 0.004885942800236517, 0.005539476550586625, 0.006224130955715309, 0.006348613574829615, 0.007500077801636946, 0.007842405004201289, 0.008807145302337161, 0.009554041017022999, 0.010767746553387483, 0.012137055363644851, 0.013599726138237948], \"xaxis\": \"x\", \"y\": [0.0, 0.0, 0.03460514640638864, 0.0422237860661506, 0.0587557603686636, 0.08209255533199195, 0.09742857142857143, 0.12043882661578821, 0.12513162513162512, 0.11892374015162778, 0.11448140900195694, 0.11073695117212796, 0.10024009603841537, 0.08700994080196582, 0.08339124391938846, 0.07190795781399809, 0.06498662993274451, 0.06736593292953169, 0.06584275939114649, 0.06849143857017874, 0.07052369641443275, 0.07047283702213279, 0.06656426011264721, 0.06979153715446144, 0.06818532818532819, 0.07029365867498936, 0.06922209695603157, 0.06991250108290739, 0.06999178981937602, 0.07134701866393271], \"yaxis\": \"y\"}, {\"hoverlabel\": {\"namelength\": 0}, \"hovertemplate\": \"Country/Region=Switzerland<br>MeanGrowth_7d=%{x}<br>DailyGrowth_7d=%{y}\", \"legendgroup\": \"Switzerland\", \"marker\": {\"color\": \"#FFA15A\", \"symbol\": \"circle\"}, \"mode\": \"lines+markers\", \"name\": \"Switzerland\", \"showlegend\": true, \"type\": \"scattergl\", \"x\": [0.0, 0.0, 0.0, 0.0, 0.0, 0.0, 0.0, 0.0019294805962717456, 0.0024896523822861235, 0.0023962904179503936, 0.004107926430772103, 0.004854822145457941, 0.00827809417110136, 0.008122490897208477, 0.009834126910030187, 0.010549901969937447, 0.015218000186723929, 0.018485668938474465, 0.023184887810039523, 0.023433853048268137, 0.0293156568014191, 0.03189867114804096, 0.03497961597112003, 0.03438832353032708, 0.033952634363427006, 0.033361341922634055, 0.03270780817228394, 0.03168082656459092, 0.029906949242212055, 0.030560482992562164, 0.031182896088133693, 0.02968910465876202], \"xaxis\": \"x\", \"y\": [0.0, 0.0, 0.0, 0.0, 0.0, 0.0, 0.0, 0.1265638638347396, 0.1231375985977213, 0.11787905346187555, 0.11601655587608177, 0.11468516766530013, 0.12097402597402598, 0.11857142857142856, 0.11687830687830687, 0.11209662200415173, 0.12, 0.11212153920880781, 0.11332971211298207, 0.1008066057571008, 0.10712255339884674, 0.10380537757271582, 0.10316076508606563, 0.09356894904265999, 0.08435731966053749, 0.07612755247026347, 0.07085537026868202, 0.06394566368187772, 0.05788273755753431, 0.055243776934456805, 0.053236613070893626, 0.04865857390594716], \"yaxis\": \"y\"}, {\"hoverlabel\": {\"namelength\": 0}, \"hovertemplate\": \"Country/Region=Taiwan*<br>MeanGrowth_7d=%{x}<br>DailyGrowth_7d=%{y}\", \"legendgroup\": \"Taiwan*\", \"marker\": {\"color\": \"#19d3f3\", \"symbol\": \"circle\"}, \"mode\": \"lines+markers\", \"name\": \"Taiwan*\", \"showlegend\": true, \"type\": \"scattergl\", \"x\": [0.0, 0.0, 0.0, 0.0, 0.0, 0.0, 0.0, 0.00043568916690007157, 0.0004979304764572246, 0.0005601717860143778, 0.0006224130955715309, 0.0005912924407929543, 0.0006535337503501073, 0.0005912924407929543, 0.0005912924407929543, 0.0005601717860143778, 0.0004979304764572246, 0.00046680982167864813, 0.000404568512121495, 0.0003734478573429185, 0.0003734478573429185], \"xaxis\": \"x\", \"y\": [0.0, 0.0, 0.0, 0.0, 0.0, 0.0, 0.0, 0.09337068160597572, 0.09298393913778528, 0.09377289377289377, 0.09169435215946845, 0.08206686930091185, 0.0816326530612245, 0.07062600321027288, 0.06562342251388188, 0.06184084372003835, 0.05182072829131653, 0.04747116237799468, 0.04081632653061225, 0.03666245259165613, 0.0332512315270936], \"yaxis\": \"y\"}, {\"hoverlabel\": {\"namelength\": 0}, \"hovertemplate\": \"Country/Region=Thailand<br>MeanGrowth_7d=%{x}<br>DailyGrowth_7d=%{y}\", \"legendgroup\": \"Thailand\", \"marker\": {\"color\": \"#FF6692\", \"symbol\": \"circle\"}, \"mode\": \"lines+markers\", \"name\": \"Thailand\", \"showlegend\": true, \"type\": \"scattergl\", \"x\": [0.0, 0.0, 0.0, 0.0, 0.0, 0.0, 0.0, 0.0005601717860143778, 0.0006846544051286839, 0.0009024989885787197, 0.001089222917250179, 0.0014626707745930975, 0.002147325179721781, 0.002551893691843276, 0.002894220894407618, 0.0032054274421933837, 0.0034232720256434195, 0.003609995954314879, 0.0037033579186506083, 0.0035166339899791494, 0.003578875299536302, 0.003672237263872032, 0.003734478573429185, 0.0037033579186506083, 0.003734478573429185], \"xaxis\": \"x\", \"y\": [0.0, 0.0, 0.0, 0.0, 0.0, 0.0, 0.0, 0.10008071025020178, 0.10309973045822103, 0.10609243697478991, 0.10958296362023069, 0.11435523114355231, 0.11566897209635107, 0.11373092926490985, 0.11228191397477975, 0.11043132456408687, 0.10567327409432672, 0.10236418511066399, 0.09569707401032702, 0.08120625771922602, 0.07527184101987251, 0.07129877996019728, 0.06751633459707994, 0.06323809523809523, 0.060811786797631086], \"yaxis\": \"y\"}, {\"hoverlabel\": {\"namelength\": 0}, \"hovertemplate\": \"Country/Region=Trinidad and Tobago<br>MeanGrowth_7d=%{x}<br>DailyGrowth_7d=%{y}\", \"legendgroup\": \"Trinidad and Tobago\", \"marker\": {\"color\": \"#B6E880\", \"symbol\": \"circle\"}, \"mode\": \"lines+markers\", \"name\": \"Trinidad and Tobago\", \"showlegend\": true, \"type\": \"scattergl\", \"x\": [0.0, 0.0, 0.0, 0.0, 0.0, 0.0, 0.0, 0.00012448261911430616, 0.00012448261911430616, 0.00012448261911430616, 0.00012448261911430616, 0.00015560327389288272], \"xaxis\": \"x\", \"y\": [0.0, 0.0, 0.0, 0.0, 0.0, 0.0, 0.0, 0.05400696864111498, 0.04926108374384236, 0.047619047619047616, 0.04407294832826748, 0.04664723032069971], \"yaxis\": \"y\"}, {\"hoverlabel\": {\"namelength\": 0}, \"hovertemplate\": \"Country/Region=Tunisia<br>MeanGrowth_7d=%{x}<br>DailyGrowth_7d=%{y}\", \"legendgroup\": \"Tunisia\", \"marker\": {\"color\": \"#FF97FF\", \"symbol\": \"circle\"}, \"mode\": \"lines+markers\", \"name\": \"Tunisia\", \"showlegend\": true, \"type\": \"scattergl\", \"x\": [0.0, 0.0, 0.0, 0.0, 9.336196433572963e-05, 0.00034232720256434195, 0.00043568916690007157, 0.0007780163694644136, 0.0009647402981358728, 0.0010581022624716024, 0.0009958609529144493, 0.0012448261911430618, 0.0011203435720287555, 0.001151464226807332, 0.0011825848815859086], \"xaxis\": \"x\", \"y\": [0.0, 0.0, 0.0, 0.0032102728731942215, 0.03007518796992481, 0.06523534269199009, 0.07179115300942712, 0.10887350534927628, 0.11202466598150052, 0.1085164835164835, 0.1021062271062271, 0.10152284263959391, 0.08443093549476528, 0.08100470957613815, 0.07734487734487734], \"yaxis\": \"y\"}, {\"hoverlabel\": {\"namelength\": 0}, \"hovertemplate\": \"Country/Region=Turkey<br>MeanGrowth_7d=%{x}<br>DailyGrowth_7d=%{y}\", \"legendgroup\": \"Turkey\", \"marker\": {\"color\": \"#FECB52\", \"symbol\": \"circle\"}, \"mode\": \"lines+markers\", \"name\": \"Turkey\", \"showlegend\": true, \"type\": \"scattergl\", \"x\": [0.0, 0.0, 0.00021784458345003579, 0.0012137055363644852, 0.003609995954314879, 0.0047614601811222105, 0.006130768991379578, 0.010394298696044565, 0.015280241496281082, 0.0237450595960539, 0.029938069896990632, 0.03547754644757726, 0.04132822954594965, 0.05184701086110852, 0.058880278841066815, 0.06448199670121059, 0.06768742414340398], \"xaxis\": \"x\", \"y\": [0.0, 0.0, 0.01870274572224433, 0.05884861407249467, 0.09396671289875173, 0.10034569746799962, 0.10508241758241758, 0.13710292995126533, 0.13529898043538166, 0.13385649099934813, 0.12992627475199753, 0.12369999535020691, 0.1226827112113895, 0.12309300336792763, 0.12068918389474546, 0.11426995943124975, 0.10394886887406365], \"yaxis\": \"y\"}, {\"hoverlabel\": {\"namelength\": 0}, \"hovertemplate\": \"Country/Region=US<br>MeanGrowth_7d=%{x}<br>DailyGrowth_7d=%{y}\", \"legendgroup\": \"US\", \"marker\": {\"color\": \"#636efa\", \"symbol\": \"circle\"}, \"mode\": \"lines+markers\", \"name\": \"US\", \"showlegend\": true, \"type\": \"scattergl\", \"x\": [0.0, 0.0, 0.0, 0.0, 0.0, 0.0, 0.0, 0.00021784458345003579, 0.00031120654778576544, 0.000404568512121495, 0.0007157750599072605, 0.0009024989885787197, 0.001493791429371674, 0.001960601251050322, 0.002147325179721781, 0.003734478573429185, 0.0050415460741294, 0.006441975539165344, 0.008527059409329973, 0.010332057386487412, 0.013257398935673606, 0.01798773846201724, 0.024274110727289702, 0.028911088289297608, 0.05340304360003734, 0.0752186225998195, 0.1012043693399309, 0.13238726542806462, 0.1743379080695858, 0.2103756263031774, 0.2578346248405066, 0.3119223228456727, 0.3670370024585317, 0.4267575389786201, 0.4784178259110572, 0.5244141536737933, 0.5976721750225624, 0.6561790060062864, 0.7096131702611023, 0.7732549092832913], \"xaxis\": \"x\", \"y\": [0.0, 0.0, 0.0, 0.0, 0.0, 0.0, 0.0, 0.06851311953352769, 0.0811138014527845, 0.08820709491850431, 0.10467412771560237, 0.11014176663031625, 0.11869225302061123, 0.12244897959183673, 0.11884342073021319, 0.1252793088038135, 0.12624066019850563, 0.12421613263465339, 0.12568019406018488, 0.1217978940751218, 0.12170824317151839, 0.1248766345916605, 0.12152090239615548, 0.11934435858372644, 0.12548700111762187, 0.12655946148092745, 0.12757323887615385, 0.12783559150309962, 0.1277657047721134, 0.12578818650645968, 0.12595396637173523, 0.11955143715962457, 0.11601618327175839, 0.11288228556375876, 0.10911557672768865, 0.10414523828653008, 0.10205860291951739, 0.09881735721114833, 0.09366254912212449, 0.0901606032236761], \"yaxis\": \"y\"}, {\"hoverlabel\": {\"namelength\": 0}, \"hovertemplate\": \"Country/Region=Ukraine<br>MeanGrowth_7d=%{x}<br>DailyGrowth_7d=%{y}\", \"legendgroup\": \"Ukraine\", \"marker\": {\"color\": \"#EF553B\", \"symbol\": \"circle\"}, \"mode\": \"lines+markers\", \"name\": \"Ukraine\", \"showlegend\": true, \"type\": \"scattergl\", \"x\": [0.0, 0.0, 0.0, 0.0, 0.0, 0.0, 0.0, 0.0017738773223788628, 0.002116204524943205, 0.0024274110727289704, 0.002894220894407618, 0.0031120654778576543, 0.003392151370864843], \"xaxis\": \"x\", \"y\": [0.0, 0.0, 0.0, 0.0, 0.0, 0.0, 0.0, 0.12090225563909775, 0.12382690302398332, 0.1213732004429679, 0.11676862180640517, 0.11164198120719859, 0.10154584221748401], \"yaxis\": \"y\"}, {\"hoverlabel\": {\"namelength\": 0}, \"hovertemplate\": \"Country/Region=United Arab Emirates<br>MeanGrowth_7d=%{x}<br>DailyGrowth_7d=%{y}\", \"legendgroup\": \"United Arab Emirates\", \"marker\": {\"color\": \"#00cc96\", \"symbol\": \"circle\"}, \"mode\": \"lines+markers\", \"name\": \"United Arab Emirates\", \"showlegend\": true, \"type\": \"scattergl\", \"x\": [0.0, 0.0, 0.0, 0.0, 0.0, 0.0, 0.0, 9.336196433572963e-05, 0.00018672392867145925, 0.0002489652382286123, 0.0002489652382286123, 0.00031120654778576544, 0.0002489652382286123, 0.00043568916690007157, 0.0006535337503501073, 0.0009647402981358728, 0.0008713783338001431, 0.0011825848815859086, 0.0014004294650359443, 0.0018672392867145925, 0.001836118631936016, 0.001836118631936016, 0.002147325179721781, 0.0030809448230790775, 0.0038278405377649145], \"xaxis\": \"x\", \"y\": [0.0, 0.0, 0.0, 0.0, 0.0, 0.0, 0.0, 0.03498542274052478, 0.04930467762326169, 0.05612244897959184, 0.05612244897959184, 0.06349206349206349, 0.051353874883286646, 0.07215007215007216, 0.08640552995391705, 0.09438009438009437, 0.0827970827970828, 0.09347442680776014, 0.09615384615384616, 0.10451127819548872, 0.09656301145662848, 0.08950086058519793, 0.0844155844155844, 0.09640066964285714, 0.09708408679927667], \"yaxis\": \"y\"}, {\"hoverlabel\": {\"namelength\": 0}, \"hovertemplate\": \"Country/Region=United Kingdom<br>MeanGrowth_7d=%{x}<br>DailyGrowth_7d=%{y}\", \"legendgroup\": \"United Kingdom\", \"marker\": {\"color\": \"#ab63fa\", \"symbol\": \"circle\"}, \"mode\": \"lines+markers\", \"name\": \"United Kingdom\", \"showlegend\": true, \"type\": \"scattergl\", \"x\": [0.0, 0.0, 0.0, 0.0, 0.0, 0.0, 0.0, 0.001493791429371674, 0.0016493947032645566, 0.0015249120841502506, 0.0028319795848504655, 0.004170167740329257, 0.0038589611925434913, 0.005477235241029471, 0.007002147325179722, 0.009709644290915882, 0.010020850838701646, 0.014284380543366632, 0.017427566676002863, 0.020446270189524787, 0.022998163881368064, 0.027572900133818815, 0.03112065477857654, 0.04042573055737093, 0.04770796377555784, 0.05443002520773037, 0.06239691283104597, 0.06992811128746149, 0.07699249992219837, 0.08990757165530763, 0.09939937136277348, 0.10646375999751034], \"xaxis\": \"x\", \"y\": [0.0, 0.0, 0.0, 0.0, 0.0, 0.0, 0.0, 0.12388392857142856, 0.11609088079676315, 0.10675381263616558, 0.11364446027787674, 0.11700799200799201, 0.10867124142233313, 0.11319885787970894, 0.11486880466472303, 0.11803828268627663, 0.11871449610772145, 0.11431418606306498, 0.11060362570131664, 0.1143851796593311, 0.10991461705110234, 0.10856022957933786, 0.10370480142264374, 0.1100091916211117, 0.10396744659206511, 0.10104469236862952, 0.10136501516683519, 0.100062988719293, 0.09708634444712307, 0.09674487575040061, 0.09347814272755016, 0.08841198864202819], \"yaxis\": \"y\"}, {\"hoverlabel\": {\"namelength\": 0}, \"hovertemplate\": \"Country/Region=Uruguay<br>MeanGrowth_7d=%{x}<br>DailyGrowth_7d=%{y}\", \"legendgroup\": \"Uruguay\", \"marker\": {\"color\": \"#FFA15A\", \"symbol\": \"circle\"}, \"mode\": \"lines+markers\", \"name\": \"Uruguay\", \"showlegend\": true, \"type\": \"scattergl\", \"x\": [0.0, 0.0, 0.0, 0.0, 0.0, 0.0, 0.0, 0.0006224130955715309, 0.0006535337503501073, 0.0007157750599072605, 0.0006535337503501073, 0.0006535337503501073, 0.0007780163694644136, 0.0006535337503501073, 0.0005912924407929543, 0.0005912924407929543], \"xaxis\": \"x\", \"y\": [0.0, 0.0, 0.0, 0.0, 0.0, 0.0, 0.0, 0.09084924292297565, 0.08643457382953182, 0.08550573514077163, 0.06860902255639098, 0.06820276497695853, 0.07438715131022823, 0.06297548605240913, 0.054285714285714284, 0.05071622144792877], \"yaxis\": \"y\"}, {\"hoverlabel\": {\"namelength\": 0}, \"hovertemplate\": \"Country/Region=Uzbekistan<br>MeanGrowth_7d=%{x}<br>DailyGrowth_7d=%{y}\", \"legendgroup\": \"Uzbekistan\", \"marker\": {\"color\": \"#19d3f3\", \"symbol\": \"circle\"}, \"mode\": \"lines+markers\", \"name\": \"Uzbekistan\", \"showlegend\": true, \"type\": \"scattergl\", \"x\": [0.0, 0.0, 0.0, 0.0, 0.0, 0.0, 0.0, 0.0005290511312358012, 0.0005912924407929543, 0.0006224130955715309], \"xaxis\": \"x\", \"y\": [0.0, 0.0, 0.0, 0.0, 0.0, 0.0, 0.0, 0.09550118389897395, 0.09059233449477352, 0.08747640025173065], \"yaxis\": \"y\"}, {\"hoverlabel\": {\"namelength\": 0}, \"hovertemplate\": \"Country/Region=Venezuela<br>MeanGrowth_7d=%{x}<br>DailyGrowth_7d=%{y}\", \"legendgroup\": \"Venezuela\", \"marker\": {\"color\": \"#FF6692\", \"symbol\": \"circle\"}, \"mode\": \"lines+markers\", \"name\": \"Venezuela\", \"showlegend\": true, \"type\": \"scattergl\", \"x\": [0.0, 0.0, 0.0, 0.0, 0.0, 0.0, 0.0, 0.00021784458345003579, 0.00021784458345003579, 0.0002489652382286123, 0.00021784458345003579, 0.00021784458345003579, 0.00018672392867145925, 0.00021784458345003579], \"xaxis\": \"x\", \"y\": [0.0, 0.0, 0.0, 0.0, 0.0, 0.0, 0.0, 0.058823529411764705, 0.058823529411764705, 0.06137566137566138, 0.053968253968253964, 0.05194805194805195, 0.03816046966731898, 0.04295051353874883], \"yaxis\": \"y\"}, {\"hoverlabel\": {\"namelength\": 0}, \"hovertemplate\": \"Country/Region=Vietnam<br>MeanGrowth_7d=%{x}<br>DailyGrowth_7d=%{y}\", \"legendgroup\": \"Vietnam\", \"marker\": {\"color\": \"#B6E880\", \"symbol\": \"circle\"}, \"mode\": \"lines+markers\", \"name\": \"Vietnam\", \"showlegend\": true, \"type\": \"scattergl\", \"x\": [0.0, 0.0, 0.0, 0.0, 0.0, 0.0, 0.0, 0.00018672392867145925, 0.0002489652382286123, 0.0002800858930071889, 0.00031120654778576544, 0.0002800858930071889, 0.00031120654778576544, 0.00031120654778576544, 0.00034232720256434195, 0.00034232720256434195, 0.00034232720256434195, 0.00034232720256434195, 0.00034232720256434195, 0.00034232720256434195, 0.00034232720256434195], \"xaxis\": \"x\", \"y\": [0.0, 0.0, 0.0, 0.0, 0.0, 0.0, 0.0, 0.06231003039513677, 0.0720606826801517, 0.07200929152148665, 0.07249466950959488, 0.0668693009118541, 0.06349206349206349, 0.063102541630149, 0.06568144499178982, 0.05699088145896656, 0.056298381421534135, 0.05256064690026954, 0.05045871559633028, 0.049049662783568364, 0.04460518384569017], \"yaxis\": \"y\"}, {\"hoverlabel\": {\"namelength\": 0}, \"hovertemplate\": \"Country/Region=West Bank and Gaza<br>MeanGrowth_7d=%{x}<br>DailyGrowth_7d=%{y}\", \"legendgroup\": \"West Bank and Gaza\", \"marker\": {\"color\": \"#FF97FF\", \"symbol\": \"circle\"}, \"mode\": \"lines+markers\", \"name\": \"West Bank and Gaza\", \"showlegend\": true, \"type\": \"scattergl\", \"x\": [0.0, 0.0, 0.0, 0.0, 0.0, 0.0, 0.0, 0.0002489652382286123, 0.0002489652382286123, 0.0002800858930071889, 0.00034232720256434195, 0.00034232720256434195, 0.00046680982167864813], \"xaxis\": \"x\", \"y\": [0.0, 0.0, 0.0, 0.0, 0.0, 0.0, 0.0, 0.07470511140235911, 0.07019704433497537, 0.07202881152460984, 0.07995735607675905, 0.06832298136645963, 0.07584683357879234], \"yaxis\": \"y\"}],\n",
       "                        {\"legend\": {\"title\": {\"text\": \"Country/Region\"}, \"tracegroupgap\": 0}, \"template\": {\"data\": {\"bar\": [{\"error_x\": {\"color\": \"#2a3f5f\"}, \"error_y\": {\"color\": \"#2a3f5f\"}, \"marker\": {\"line\": {\"color\": \"#E5ECF6\", \"width\": 0.5}}, \"type\": \"bar\"}], \"barpolar\": [{\"marker\": {\"line\": {\"color\": \"#E5ECF6\", \"width\": 0.5}}, \"type\": \"barpolar\"}], \"carpet\": [{\"aaxis\": {\"endlinecolor\": \"#2a3f5f\", \"gridcolor\": \"white\", \"linecolor\": \"white\", \"minorgridcolor\": \"white\", \"startlinecolor\": \"#2a3f5f\"}, \"baxis\": {\"endlinecolor\": \"#2a3f5f\", \"gridcolor\": \"white\", \"linecolor\": \"white\", \"minorgridcolor\": \"white\", \"startlinecolor\": \"#2a3f5f\"}, \"type\": \"carpet\"}], \"choropleth\": [{\"colorbar\": {\"outlinewidth\": 0, \"ticks\": \"\"}, \"type\": \"choropleth\"}], \"contour\": [{\"colorbar\": {\"outlinewidth\": 0, \"ticks\": \"\"}, \"colorscale\": [[0.0, \"#0d0887\"], [0.1111111111111111, \"#46039f\"], [0.2222222222222222, \"#7201a8\"], [0.3333333333333333, \"#9c179e\"], [0.4444444444444444, \"#bd3786\"], [0.5555555555555556, \"#d8576b\"], [0.6666666666666666, \"#ed7953\"], [0.7777777777777778, \"#fb9f3a\"], [0.8888888888888888, \"#fdca26\"], [1.0, \"#f0f921\"]], \"type\": \"contour\"}], \"contourcarpet\": [{\"colorbar\": {\"outlinewidth\": 0, \"ticks\": \"\"}, \"type\": \"contourcarpet\"}], \"heatmap\": [{\"colorbar\": {\"outlinewidth\": 0, \"ticks\": \"\"}, \"colorscale\": [[0.0, \"#0d0887\"], [0.1111111111111111, \"#46039f\"], [0.2222222222222222, \"#7201a8\"], [0.3333333333333333, \"#9c179e\"], [0.4444444444444444, \"#bd3786\"], [0.5555555555555556, \"#d8576b\"], [0.6666666666666666, \"#ed7953\"], [0.7777777777777778, \"#fb9f3a\"], [0.8888888888888888, \"#fdca26\"], [1.0, \"#f0f921\"]], \"type\": \"heatmap\"}], \"heatmapgl\": [{\"colorbar\": {\"outlinewidth\": 0, \"ticks\": \"\"}, \"colorscale\": [[0.0, \"#0d0887\"], [0.1111111111111111, \"#46039f\"], [0.2222222222222222, \"#7201a8\"], [0.3333333333333333, \"#9c179e\"], [0.4444444444444444, \"#bd3786\"], [0.5555555555555556, \"#d8576b\"], [0.6666666666666666, \"#ed7953\"], [0.7777777777777778, \"#fb9f3a\"], [0.8888888888888888, \"#fdca26\"], [1.0, \"#f0f921\"]], \"type\": \"heatmapgl\"}], \"histogram\": [{\"marker\": {\"colorbar\": {\"outlinewidth\": 0, \"ticks\": \"\"}}, \"type\": \"histogram\"}], \"histogram2d\": [{\"colorbar\": {\"outlinewidth\": 0, \"ticks\": \"\"}, \"colorscale\": [[0.0, \"#0d0887\"], [0.1111111111111111, \"#46039f\"], [0.2222222222222222, \"#7201a8\"], [0.3333333333333333, \"#9c179e\"], [0.4444444444444444, \"#bd3786\"], [0.5555555555555556, \"#d8576b\"], [0.6666666666666666, \"#ed7953\"], [0.7777777777777778, \"#fb9f3a\"], [0.8888888888888888, \"#fdca26\"], [1.0, \"#f0f921\"]], \"type\": \"histogram2d\"}], \"histogram2dcontour\": [{\"colorbar\": {\"outlinewidth\": 0, \"ticks\": \"\"}, \"colorscale\": [[0.0, \"#0d0887\"], [0.1111111111111111, \"#46039f\"], [0.2222222222222222, \"#7201a8\"], [0.3333333333333333, \"#9c179e\"], [0.4444444444444444, \"#bd3786\"], [0.5555555555555556, \"#d8576b\"], [0.6666666666666666, \"#ed7953\"], [0.7777777777777778, \"#fb9f3a\"], [0.8888888888888888, \"#fdca26\"], [1.0, \"#f0f921\"]], \"type\": \"histogram2dcontour\"}], \"mesh3d\": [{\"colorbar\": {\"outlinewidth\": 0, \"ticks\": \"\"}, \"type\": \"mesh3d\"}], \"parcoords\": [{\"line\": {\"colorbar\": {\"outlinewidth\": 0, \"ticks\": \"\"}}, \"type\": \"parcoords\"}], \"pie\": [{\"automargin\": true, \"type\": \"pie\"}], \"scatter\": [{\"marker\": {\"colorbar\": {\"outlinewidth\": 0, \"ticks\": \"\"}}, \"type\": \"scatter\"}], \"scatter3d\": [{\"line\": {\"colorbar\": {\"outlinewidth\": 0, \"ticks\": \"\"}}, \"marker\": {\"colorbar\": {\"outlinewidth\": 0, \"ticks\": \"\"}}, \"type\": \"scatter3d\"}], \"scattercarpet\": [{\"marker\": {\"colorbar\": {\"outlinewidth\": 0, \"ticks\": \"\"}}, \"type\": \"scattercarpet\"}], \"scattergeo\": [{\"marker\": {\"colorbar\": {\"outlinewidth\": 0, \"ticks\": \"\"}}, \"type\": \"scattergeo\"}], \"scattergl\": [{\"marker\": {\"colorbar\": {\"outlinewidth\": 0, \"ticks\": \"\"}}, \"type\": \"scattergl\"}], \"scattermapbox\": [{\"marker\": {\"colorbar\": {\"outlinewidth\": 0, \"ticks\": \"\"}}, \"type\": \"scattermapbox\"}], \"scatterpolar\": [{\"marker\": {\"colorbar\": {\"outlinewidth\": 0, \"ticks\": \"\"}}, \"type\": \"scatterpolar\"}], \"scatterpolargl\": [{\"marker\": {\"colorbar\": {\"outlinewidth\": 0, \"ticks\": \"\"}}, \"type\": \"scatterpolargl\"}], \"scatterternary\": [{\"marker\": {\"colorbar\": {\"outlinewidth\": 0, \"ticks\": \"\"}}, \"type\": \"scatterternary\"}], \"surface\": [{\"colorbar\": {\"outlinewidth\": 0, \"ticks\": \"\"}, \"colorscale\": [[0.0, \"#0d0887\"], [0.1111111111111111, \"#46039f\"], [0.2222222222222222, \"#7201a8\"], [0.3333333333333333, \"#9c179e\"], [0.4444444444444444, \"#bd3786\"], [0.5555555555555556, \"#d8576b\"], [0.6666666666666666, \"#ed7953\"], [0.7777777777777778, \"#fb9f3a\"], [0.8888888888888888, \"#fdca26\"], [1.0, \"#f0f921\"]], \"type\": \"surface\"}], \"table\": [{\"cells\": {\"fill\": {\"color\": \"#EBF0F8\"}, \"line\": {\"color\": \"white\"}}, \"header\": {\"fill\": {\"color\": \"#C8D4E3\"}, \"line\": {\"color\": \"white\"}}, \"type\": \"table\"}]}, \"layout\": {\"annotationdefaults\": {\"arrowcolor\": \"#2a3f5f\", \"arrowhead\": 0, \"arrowwidth\": 1}, \"coloraxis\": {\"colorbar\": {\"outlinewidth\": 0, \"ticks\": \"\"}}, \"colorscale\": {\"diverging\": [[0, \"#8e0152\"], [0.1, \"#c51b7d\"], [0.2, \"#de77ae\"], [0.3, \"#f1b6da\"], [0.4, \"#fde0ef\"], [0.5, \"#f7f7f7\"], [0.6, \"#e6f5d0\"], [0.7, \"#b8e186\"], [0.8, \"#7fbc41\"], [0.9, \"#4d9221\"], [1, \"#276419\"]], \"sequential\": [[0.0, \"#0d0887\"], [0.1111111111111111, \"#46039f\"], [0.2222222222222222, \"#7201a8\"], [0.3333333333333333, \"#9c179e\"], [0.4444444444444444, \"#bd3786\"], [0.5555555555555556, \"#d8576b\"], [0.6666666666666666, \"#ed7953\"], [0.7777777777777778, \"#fb9f3a\"], [0.8888888888888888, \"#fdca26\"], [1.0, \"#f0f921\"]], \"sequentialminus\": [[0.0, \"#0d0887\"], [0.1111111111111111, \"#46039f\"], [0.2222222222222222, \"#7201a8\"], [0.3333333333333333, \"#9c179e\"], [0.4444444444444444, \"#bd3786\"], [0.5555555555555556, \"#d8576b\"], [0.6666666666666666, \"#ed7953\"], [0.7777777777777778, \"#fb9f3a\"], [0.8888888888888888, \"#fdca26\"], [1.0, \"#f0f921\"]]}, \"colorway\": [\"#636efa\", \"#EF553B\", \"#00cc96\", \"#ab63fa\", \"#FFA15A\", \"#19d3f3\", \"#FF6692\", \"#B6E880\", \"#FF97FF\", \"#FECB52\"], \"font\": {\"color\": \"#2a3f5f\"}, \"geo\": {\"bgcolor\": \"white\", \"lakecolor\": \"white\", \"landcolor\": \"#E5ECF6\", \"showlakes\": true, \"showland\": true, \"subunitcolor\": \"white\"}, \"hoverlabel\": {\"align\": \"left\"}, \"hovermode\": \"closest\", \"mapbox\": {\"style\": \"light\"}, \"paper_bgcolor\": \"white\", \"plot_bgcolor\": \"#E5ECF6\", \"polar\": {\"angularaxis\": {\"gridcolor\": \"white\", \"linecolor\": \"white\", \"ticks\": \"\"}, \"bgcolor\": \"#E5ECF6\", \"radialaxis\": {\"gridcolor\": \"white\", \"linecolor\": \"white\", \"ticks\": \"\"}}, \"scene\": {\"xaxis\": {\"backgroundcolor\": \"#E5ECF6\", \"gridcolor\": \"white\", \"gridwidth\": 2, \"linecolor\": \"white\", \"showbackground\": true, \"ticks\": \"\", \"zerolinecolor\": \"white\"}, \"yaxis\": {\"backgroundcolor\": \"#E5ECF6\", \"gridcolor\": \"white\", \"gridwidth\": 2, \"linecolor\": \"white\", \"showbackground\": true, \"ticks\": \"\", \"zerolinecolor\": \"white\"}, \"zaxis\": {\"backgroundcolor\": \"#E5ECF6\", \"gridcolor\": \"white\", \"gridwidth\": 2, \"linecolor\": \"white\", \"showbackground\": true, \"ticks\": \"\", \"zerolinecolor\": \"white\"}}, \"shapedefaults\": {\"line\": {\"color\": \"#2a3f5f\"}}, \"ternary\": {\"aaxis\": {\"gridcolor\": \"white\", \"linecolor\": \"white\", \"ticks\": \"\"}, \"baxis\": {\"gridcolor\": \"white\", \"linecolor\": \"white\", \"ticks\": \"\"}, \"bgcolor\": \"#E5ECF6\", \"caxis\": {\"gridcolor\": \"white\", \"linecolor\": \"white\", \"ticks\": \"\"}}, \"title\": {\"x\": 0.05}, \"xaxis\": {\"automargin\": true, \"gridcolor\": \"white\", \"linecolor\": \"white\", \"ticks\": \"\", \"title\": {\"standoff\": 15}, \"zerolinecolor\": \"white\", \"zerolinewidth\": 2}, \"yaxis\": {\"automargin\": true, \"gridcolor\": \"white\", \"linecolor\": \"white\", \"ticks\": \"\", \"title\": {\"standoff\": 15}, \"zerolinecolor\": \"white\", \"zerolinewidth\": 2}}}, \"title\": {\"text\": \"Phase space\"}, \"xaxis\": {\"anchor\": \"y\", \"domain\": [0.0, 1.0], \"title\": {\"text\": \"MeanGrowth_7d\"}}, \"yaxis\": {\"anchor\": \"x\", \"domain\": [0.0, 1.0], \"title\": {\"text\": \"DailyGrowth_7d\"}}},\n",
       "                        {\"responsive\": true}\n",
       "                    ).then(function(){\n",
       "                            \n",
       "var gd = document.getElementById('fd77a806-f4d3-451b-8f8c-9fe03a28af81');\n",
       "var x = new MutationObserver(function (mutations, observer) {{\n",
       "        var display = window.getComputedStyle(gd).display;\n",
       "        if (!display || display === 'none') {{\n",
       "            console.log([gd, 'removed!']);\n",
       "            Plotly.purge(gd);\n",
       "            observer.disconnect();\n",
       "        }}\n",
       "}});\n",
       "\n",
       "// Listen for the removal of the full notebook cells\n",
       "var notebookContainer = gd.closest('#notebook-container');\n",
       "if (notebookContainer) {{\n",
       "    x.observe(notebookContainer, {childList: true});\n",
       "}}\n",
       "\n",
       "// Listen for the clearing of the current output cell\n",
       "var outputEl = gd.closest('.output');\n",
       "if (outputEl) {{\n",
       "    x.observe(outputEl, {childList: true});\n",
       "}}\n",
       "\n",
       "                        })\n",
       "                };\n",
       "                });\n",
       "            </script>\n",
       "        </div>"
      ]
     },
     "metadata": {},
     "output_type": "display_data"
    }
   ],
   "source": [
    "country = ['Philippines', 'Iceland', 'Diamond Princess']\n",
    "daily_cases_China = daily_cases_global_2[~daily_cases_global_2[\"Country/Region\"].isin(country)].reset_index(drop=True)\n",
    "daily_cases_China = daily_cases_China.sort_values([\"Country/Region\", 'DateDT'])#@['']\n",
    "daily_cases_China['Days'] = daily_cases_China.index\n",
    "#daily_cases_China = daily_cases_global_2.set_index([\"Country/Region\"])\n",
    "daily_cases_China\n",
    "\n",
    "\n",
    "daily_cases_China['DailyGrowth'] = daily_cases_China['Confirmed'].diff()\n",
    "daily_cases_China['DailyGrowth_7d'] = daily_cases_China['DailyGrowth'].rolling(7).mean()/ daily_cases_China['Confirmed']\n",
    "daily_cases_China['MeanGrowth_7d'] = daily_cases_China['DailyGrowth'].rolling(7).mean().round(0)/daily_cases_China['DailyGrowth'].max()\n",
    "\n",
    "daily_cases_China['DailyGrowth_7d'] = np.where(daily_cases_China['DailyGrowth_7d'] >= 0, daily_cases_China['DailyGrowth_7d'], 0)\n",
    "daily_cases_China['MeanGrowth_7d'] = np.where(daily_cases_China['MeanGrowth_7d'] >= 0, daily_cases_China['MeanGrowth_7d'], 0)\n",
    "\n",
    "# fig = px.scatter(x=daily_cases_China['MeanGrowth_7d'], \n",
    "#                  y=daily_cases_China['DailyGrowth_7d'], \n",
    "#                  color=daily_cases_China['Days'],\n",
    "#                  color_continuous_scale = 'BrBg')\n",
    "\n",
    "# #fig.update_layout(xaxis_type=\"log\", yaxis_type=\"log\")\n",
    "# fig.show()\n",
    "\n",
    "fig = px.scatter(daily_cases_China, \n",
    "              x='MeanGrowth_7d', \n",
    "              y='DailyGrowth_7d', \n",
    "              color=\"Country/Region\", \n",
    "              title='Phase space')\n",
    "\n",
    "# fig = px.scatter(x=daily_cases_China['MeanGrowth_7d'], \n",
    "#                  y=daily_cases_China['DailyGrowth_7d'], \n",
    "#                  color=daily_cases_China['Days'],\n",
    "#                  color_continuous_scale = 'BrBg')\n",
    "\n",
    "fig.update_traces(mode='lines+markers')\n",
    "\n",
    "fig.show()\n",
    "\n",
    "#fig.update_layout(xaxis_type=\"log\"), yaxis_type=\"log\")\n",
    "#fig.show()"
   ]
  },
  {
   "cell_type": "code",
   "execution_count": 200,
   "metadata": {
    "ExecuteTime": {
     "end_time": "2020-04-04T16:07:35.121322Z",
     "start_time": "2020-04-04T16:07:35.106775Z"
    }
   },
   "outputs": [
    {
     "ename": "ValueError",
     "evalue": "Value of 'x' is not the name of a column in 'data_frame'. Expected one of ['Date', 'Confirmed', 'DateDT'] but received: MeanGrowth_7d",
     "output_type": "error",
     "traceback": [
      "\u001b[0;31m---------------------------------------------------------------------------\u001b[0m",
      "\u001b[0;31mValueError\u001b[0m                                Traceback (most recent call last)",
      "\u001b[0;32m<ipython-input-200-3ab2be92c472>\u001b[0m in \u001b[0;36m<module>\u001b[0;34m\u001b[0m\n\u001b[0;32m----> 1\u001b[0;31m \u001b[0mfig\u001b[0m \u001b[0;34m=\u001b[0m \u001b[0mpx\u001b[0m\u001b[0;34m.\u001b[0m\u001b[0mline\u001b[0m\u001b[0;34m(\u001b[0m\u001b[0mdaily_cases_China\u001b[0m\u001b[0;34m,\u001b[0m \u001b[0mx\u001b[0m\u001b[0;34m=\u001b[0m\u001b[0;34m'MeanGrowth_7d'\u001b[0m\u001b[0;34m,\u001b[0m \u001b[0my\u001b[0m\u001b[0;34m=\u001b[0m\u001b[0;34m'DailyGrowth_7d'\u001b[0m\u001b[0;34m,\u001b[0m \u001b[0mtitle\u001b[0m\u001b[0;34m=\u001b[0m\u001b[0;34m'China'\u001b[0m\u001b[0;34m)\u001b[0m\u001b[0;34m\u001b[0m\u001b[0;34m\u001b[0m\u001b[0m\n\u001b[0m\u001b[1;32m      2\u001b[0m \u001b[0;34m\u001b[0m\u001b[0m\n\u001b[1;32m      3\u001b[0m \u001b[0;31m#fig.update_layout(xaxis_type=\"log\", yaxis_type=\"log\")\u001b[0m\u001b[0;34m\u001b[0m\u001b[0;34m\u001b[0m\u001b[0;34m\u001b[0m\u001b[0m\n\u001b[1;32m      4\u001b[0m \u001b[0mfig\u001b[0m\u001b[0;34m.\u001b[0m\u001b[0mshow\u001b[0m\u001b[0;34m(\u001b[0m\u001b[0;34m)\u001b[0m\u001b[0;34m\u001b[0m\u001b[0;34m\u001b[0m\u001b[0m\n",
      "\u001b[0;32m~/anaconda3/lib/python3.7/site-packages/plotly/express/_chart_types.py\u001b[0m in \u001b[0;36mline\u001b[0;34m(data_frame, x, y, line_group, color, line_dash, hover_name, hover_data, custom_data, text, facet_row, facet_col, facet_col_wrap, error_x, error_x_minus, error_y, error_y_minus, animation_frame, animation_group, category_orders, labels, color_discrete_sequence, color_discrete_map, line_dash_sequence, line_dash_map, log_x, log_y, range_x, range_y, line_shape, render_mode, title, template, width, height)\u001b[0m\n\u001b[1;32m    212\u001b[0m     \u001b[0ma\u001b[0m \u001b[0mpolyline\u001b[0m \u001b[0mmark\u001b[0m \u001b[0;32min\u001b[0m \u001b[0;36m2\u001b[0m\u001b[0mD\u001b[0m \u001b[0mspace\u001b[0m\u001b[0;34m.\u001b[0m\u001b[0;34m\u001b[0m\u001b[0;34m\u001b[0m\u001b[0m\n\u001b[1;32m    213\u001b[0m     \"\"\"\n\u001b[0;32m--> 214\u001b[0;31m     \u001b[0;32mreturn\u001b[0m \u001b[0mmake_figure\u001b[0m\u001b[0;34m(\u001b[0m\u001b[0margs\u001b[0m\u001b[0;34m=\u001b[0m\u001b[0mlocals\u001b[0m\u001b[0;34m(\u001b[0m\u001b[0;34m)\u001b[0m\u001b[0;34m,\u001b[0m \u001b[0mconstructor\u001b[0m\u001b[0;34m=\u001b[0m\u001b[0mgo\u001b[0m\u001b[0;34m.\u001b[0m\u001b[0mScatter\u001b[0m\u001b[0;34m)\u001b[0m\u001b[0;34m\u001b[0m\u001b[0;34m\u001b[0m\u001b[0m\n\u001b[0m\u001b[1;32m    215\u001b[0m \u001b[0;34m\u001b[0m\u001b[0m\n\u001b[1;32m    216\u001b[0m \u001b[0;34m\u001b[0m\u001b[0m\n",
      "\u001b[0;32m~/anaconda3/lib/python3.7/site-packages/plotly/express/_core.py\u001b[0m in \u001b[0;36mmake_figure\u001b[0;34m(args, constructor, trace_patch, layout_patch)\u001b[0m\n\u001b[1;32m   1358\u001b[0m \u001b[0;34m\u001b[0m\u001b[0m\n\u001b[1;32m   1359\u001b[0m     args, trace_specs, grouped_mappings, sizeref, show_colorbar = infer_config(\n\u001b[0;32m-> 1360\u001b[0;31m         \u001b[0margs\u001b[0m\u001b[0;34m,\u001b[0m \u001b[0mconstructor\u001b[0m\u001b[0;34m,\u001b[0m \u001b[0mtrace_patch\u001b[0m\u001b[0;34m\u001b[0m\u001b[0;34m\u001b[0m\u001b[0m\n\u001b[0m\u001b[1;32m   1361\u001b[0m     )\n\u001b[1;32m   1362\u001b[0m     \u001b[0mgrouper\u001b[0m \u001b[0;34m=\u001b[0m \u001b[0;34m[\u001b[0m\u001b[0mx\u001b[0m\u001b[0;34m.\u001b[0m\u001b[0mgrouper\u001b[0m \u001b[0;32mor\u001b[0m \u001b[0mone_group\u001b[0m \u001b[0;32mfor\u001b[0m \u001b[0mx\u001b[0m \u001b[0;32min\u001b[0m \u001b[0mgrouped_mappings\u001b[0m\u001b[0;34m]\u001b[0m \u001b[0;32mor\u001b[0m \u001b[0;34m[\u001b[0m\u001b[0mone_group\u001b[0m\u001b[0;34m]\u001b[0m\u001b[0;34m\u001b[0m\u001b[0;34m\u001b[0m\u001b[0m\n",
      "\u001b[0;32m~/anaconda3/lib/python3.7/site-packages/plotly/express/_core.py\u001b[0m in \u001b[0;36minfer_config\u001b[0;34m(args, constructor, trace_patch)\u001b[0m\n\u001b[1;32m   1203\u001b[0m             \u001b[0mall_attrables\u001b[0m \u001b[0;34m+=\u001b[0m \u001b[0;34m[\u001b[0m\u001b[0mgroup_attr\u001b[0m\u001b[0;34m]\u001b[0m\u001b[0;34m\u001b[0m\u001b[0;34m\u001b[0m\u001b[0m\n\u001b[1;32m   1204\u001b[0m \u001b[0;34m\u001b[0m\u001b[0m\n\u001b[0;32m-> 1205\u001b[0;31m     \u001b[0margs\u001b[0m \u001b[0;34m=\u001b[0m \u001b[0mbuild_dataframe\u001b[0m\u001b[0;34m(\u001b[0m\u001b[0margs\u001b[0m\u001b[0;34m,\u001b[0m \u001b[0mall_attrables\u001b[0m\u001b[0;34m,\u001b[0m \u001b[0marray_attrables\u001b[0m\u001b[0;34m)\u001b[0m\u001b[0;34m\u001b[0m\u001b[0;34m\u001b[0m\u001b[0m\n\u001b[0m\u001b[1;32m   1206\u001b[0m     \u001b[0;32mif\u001b[0m \u001b[0mconstructor\u001b[0m \u001b[0;32min\u001b[0m \u001b[0;34m[\u001b[0m\u001b[0mgo\u001b[0m\u001b[0;34m.\u001b[0m\u001b[0mTreemap\u001b[0m\u001b[0;34m,\u001b[0m \u001b[0mgo\u001b[0m\u001b[0;34m.\u001b[0m\u001b[0mSunburst\u001b[0m\u001b[0;34m]\u001b[0m \u001b[0;32mand\u001b[0m \u001b[0margs\u001b[0m\u001b[0;34m[\u001b[0m\u001b[0;34m\"path\"\u001b[0m\u001b[0;34m]\u001b[0m \u001b[0;32mis\u001b[0m \u001b[0;32mnot\u001b[0m \u001b[0;32mNone\u001b[0m\u001b[0;34m:\u001b[0m\u001b[0;34m\u001b[0m\u001b[0;34m\u001b[0m\u001b[0m\n\u001b[1;32m   1207\u001b[0m         \u001b[0margs\u001b[0m \u001b[0;34m=\u001b[0m \u001b[0mprocess_dataframe_hierarchy\u001b[0m\u001b[0;34m(\u001b[0m\u001b[0margs\u001b[0m\u001b[0;34m)\u001b[0m\u001b[0;34m\u001b[0m\u001b[0;34m\u001b[0m\u001b[0m\n",
      "\u001b[0;32m~/anaconda3/lib/python3.7/site-packages/plotly/express/_core.py\u001b[0m in \u001b[0;36mbuild_dataframe\u001b[0;34m(args, attrables, array_attrables)\u001b[0m\n\u001b[1;32m    972\u001b[0m                             \u001b[0;34m\"\\n To use the index, pass it in directly as `df.index`.\"\u001b[0m\u001b[0;34m\u001b[0m\u001b[0;34m\u001b[0m\u001b[0m\n\u001b[1;32m    973\u001b[0m                         )\n\u001b[0;32m--> 974\u001b[0;31m                     \u001b[0;32mraise\u001b[0m \u001b[0mValueError\u001b[0m\u001b[0;34m(\u001b[0m\u001b[0merr_msg\u001b[0m\u001b[0;34m)\u001b[0m\u001b[0;34m\u001b[0m\u001b[0;34m\u001b[0m\u001b[0m\n\u001b[0m\u001b[1;32m    975\u001b[0m                 \u001b[0;32mif\u001b[0m \u001b[0mlength\u001b[0m \u001b[0;32mand\u001b[0m \u001b[0mlen\u001b[0m\u001b[0;34m(\u001b[0m\u001b[0mdf_input\u001b[0m\u001b[0;34m[\u001b[0m\u001b[0margument\u001b[0m\u001b[0;34m]\u001b[0m\u001b[0;34m)\u001b[0m \u001b[0;34m!=\u001b[0m \u001b[0mlength\u001b[0m\u001b[0;34m:\u001b[0m\u001b[0;34m\u001b[0m\u001b[0;34m\u001b[0m\u001b[0m\n\u001b[1;32m    976\u001b[0m                     raise ValueError(\n",
      "\u001b[0;31mValueError\u001b[0m: Value of 'x' is not the name of a column in 'data_frame'. Expected one of ['Date', 'Confirmed', 'DateDT'] but received: MeanGrowth_7d"
     ]
    }
   ],
   "source": [
    "fig = px.line(daily_cases_China, x='MeanGrowth_7d', y='DailyGrowth_7d', title='China')\n",
    "\n",
    "#fig.update_layout(xaxis_type=\"log\", yaxis_type=\"log\")\n",
    "fig.show()"
   ]
  },
  {
   "cell_type": "code",
   "execution_count": 71,
   "metadata": {
    "ExecuteTime": {
     "end_time": "2020-04-02T00:47:53.039416Z",
     "start_time": "2020-04-02T00:47:52.916407Z"
    }
   },
   "outputs": [
    {
     "ename": "NameError",
     "evalue": "name 'df' is not defined",
     "output_type": "error",
     "traceback": [
      "\u001b[0;31m---------------------------------------------------------------------------\u001b[0m",
      "\u001b[0;31mNameError\u001b[0m                                 Traceback (most recent call last)",
      "\u001b[0;32m<ipython-input-71-69ca9befbff0>\u001b[0m in \u001b[0;36m<module>\u001b[0;34m\u001b[0m\n\u001b[0;32m----> 1\u001b[0;31m \u001b[0mdf\u001b[0m\u001b[0;34m[\u001b[0m\u001b[0;34m'value'\u001b[0m\u001b[0;34m]\u001b[0m\u001b[0;34m.\u001b[0m\u001b[0mexpanding\u001b[0m\u001b[0;34m(\u001b[0m\u001b[0;34m)\u001b[0m\u001b[0;34m.\u001b[0m\u001b[0mmean\u001b[0m\u001b[0;34m(\u001b[0m\u001b[0;34m)\u001b[0m\u001b[0;34m\u001b[0m\u001b[0;34m\u001b[0m\u001b[0m\n\u001b[0m",
      "\u001b[0;31mNameError\u001b[0m: name 'df' is not defined"
     ]
    }
   ],
   "source": [
    "df['value'].expanding().mean()"
   ]
  },
  {
   "cell_type": "code",
   "execution_count": null,
   "metadata": {},
   "outputs": [],
   "source": []
  },
  {
   "cell_type": "code",
   "execution_count": null,
   "metadata": {},
   "outputs": [],
   "source": []
  },
  {
   "cell_type": "code",
   "execution_count": null,
   "metadata": {},
   "outputs": [],
   "source": []
  }
 ],
 "metadata": {
  "kernelspec": {
   "display_name": "Python 3",
   "language": "python",
   "name": "python3"
  },
  "language_info": {
   "codemirror_mode": {
    "name": "ipython",
    "version": 3
   },
   "file_extension": ".py",
   "mimetype": "text/x-python",
   "name": "python",
   "nbconvert_exporter": "python",
   "pygments_lexer": "ipython3",
   "version": "3.7.6"
  },
  "toc": {
   "base_numbering": 1,
   "nav_menu": {},
   "number_sections": true,
   "sideBar": true,
   "skip_h1_title": false,
   "title_cell": "Table of Contents",
   "title_sidebar": "Contents",
   "toc_cell": true,
   "toc_position": {},
   "toc_section_display": true,
   "toc_window_display": false
  }
 },
 "nbformat": 4,
 "nbformat_minor": 4
}
